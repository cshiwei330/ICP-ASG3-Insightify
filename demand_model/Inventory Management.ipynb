{
 "cells": [
  {
   "cell_type": "code",
   "execution_count": 1,
   "metadata": {},
   "outputs": [
    {
     "name": "stderr",
     "output_type": "stream",
     "text": [
      "<frozen importlib._bootstrap>:219: RuntimeWarning: scipy._lib.messagestream.MessageStream size changed, may indicate binary incompatibility. Expected 56 from C header, got 64 from PyObject\n"
     ]
    }
   ],
   "source": [
    "# Import Python packages\n",
    "import pandas as pd\n",
    "import numpy as np\n",
    "from matplotlib import pyplot as plt\n",
    "import json\n",
    "import sys\n",
    "import cachetools\n",
    "from datetime import datetime\n",
    "from datetime import date\n",
    "import matplotlib.pyplot as plt \n",
    "import seaborn as sns\n",
    "import math\n",
    "\n",
    "# Import Snowflake modules\n",
    "from snowflake.snowpark import Session\n",
    "import snowflake.snowpark.functions as F\n",
    "import snowflake.snowpark.types as T\n",
    "from snowflake.snowpark import Window\n",
    "from snowflake.snowpark.functions import col\n",
    "\n",
    "# Clustering & Model\n",
    "from sklearn.cluster import KMeans\n",
    "from sklearn.linear_model import LinearRegression\n",
    "from sklearn.model_selection import KFold, cross_val_score, train_test_split\n",
    "\n",
    "# Scalers\n",
    "from sklearn.preprocessing import StandardScaler\n",
    "\n",
    "# Evaluation\n",
    "from sklearn.metrics import silhouette_score\n",
    "from sklearn.metrics import mean_squared_error\n",
    "from sklearn.metrics import r2_score\n",
    "\n",
    "# find the best combination of model hyperparameters\n",
    "from sklearn.model_selection import GridSearchCV, RandomizedSearchCV\n",
    "from sklearn.model_selection import cross_val_score, cross_validate\n",
    "\n",
    "# Getting Password,Username, Account\n",
    "import getpass"
   ]
  },
  {
   "cell_type": "code",
   "execution_count": 2,
   "metadata": {},
   "outputs": [],
   "source": [
    "# Get account credentials from a json file\n",
    "with open(\"account.json\") as f:\n",
    "    data = json.load(f)\n",
    "    username = data[\"username\"]\n",
    "    password = data[\"password\"]\n",
    "    account = data[\"account\"]\n",
    "\n",
    "# Specify connection parameters\n",
    "connection_parameters = {\n",
    "    \"account\": account,\n",
    "    \"user\": username,\n",
    "    \"password\": password,\n",
    "    #\"role\": \"ACCOUNTADMIN\",\n",
    "    #\"warehouse\": \"tasty_ds_wh\",\n",
    "    #\"database\": \"NGEE_ANN_POLYTECHNIC_FROSTBYTE_DATA_SHARE\",\n",
    "    #\"schema\": \"analytics\",\n",
    "}\n",
    "\n",
    "# Create Snowpark session\n",
    "session = Session.builder.configs(connection_parameters).create()"
   ]
  },
  {
   "cell_type": "code",
   "execution_count": 6,
   "metadata": {},
   "outputs": [],
   "source": [
    "order_header_df = session.table(\"NGEE_ANN_POLYTECHNIC_FROSTBYTE_DATA_SHARE.raw_pos.order_header\")\n",
    "order_detail_df = session.table(\"NGEE_ANN_POLYTECHNIC_FROSTBYTE_DATA_SHARE.raw_pos.order_detail\")\n",
    "menu_df = session.table(\"NGEE_ANN_POLYTECHNIC_FROSTBYTE_DATA_SHARE.raw_pos.menu\")"
   ]
  },
  {
   "cell_type": "code",
   "execution_count": 4,
   "metadata": {},
   "outputs": [
    {
     "name": "stdout",
     "output_type": "stream",
     "text": [
      "-----------------------------------------------------------------------------------------------------------------------------------------------------------------------------------------------------------------------------------------------------------------------------------------\n",
      "|\"ORDER_ID\"  |\"TRUCK_ID\"  |\"LOCATION_ID\"  |\"CUSTOMER_ID\"  |\"DISCOUNT_ID\"  |\"SHIFT_ID\"  |\"SHIFT_START_TIME\"  |\"SHIFT_END_TIME\"  |\"ORDER_CHANNEL\"  |\"ORDER_TS\"           |\"SERVED_TS\"  |\"ORDER_CURRENCY\"  |\"ORDER_AMOUNT\"  |\"ORDER_TAX_AMOUNT\"  |\"ORDER_DISCOUNT_AMOUNT\"  |\"ORDER_TOTAL\"  |\n",
      "-----------------------------------------------------------------------------------------------------------------------------------------------------------------------------------------------------------------------------------------------------------------------------------------\n",
      "|82686170    |239         |6185.0         |NULL           |NULL           |232187      |15:30:00            |22:30:00          |NULL             |2021-04-15 18:47:34  |NULL         |USD               |32.0000         |NULL                |NULL                     |32.0000        |\n",
      "|82686171    |239         |6185.0         |NULL           |NULL           |232187      |15:30:00            |22:30:00          |NULL             |2021-04-15 18:47:36  |NULL         |USD               |32.0000         |NULL                |NULL                     |32.0000        |\n",
      "|82686172    |239         |6185.0         |NULL           |NULL           |232187      |15:30:00            |22:30:00          |NULL             |2021-04-15 18:47:46  |NULL         |USD               |36.0000         |NULL                |NULL                     |36.0000        |\n",
      "|82686173    |239         |6185.0         |NULL           |NULL           |232187      |15:30:00            |22:30:00          |NULL             |2021-04-15 18:47:51  |NULL         |USD               |98.0000         |NULL                |NULL                     |98.0000        |\n",
      "|82686174    |239         |6185.0         |NULL           |NULL           |232187      |15:30:00            |22:30:00          |NULL             |2021-04-15 18:48:25  |NULL         |USD               |18.0000         |NULL                |NULL                     |18.0000        |\n",
      "|82686175    |239         |6185.0         |NULL           |NULL           |232187      |15:30:00            |22:30:00          |NULL             |2021-04-15 18:48:44  |NULL         |USD               |18.0000         |NULL                |NULL                     |18.0000        |\n",
      "|82686176    |239         |6185.0         |NULL           |NULL           |232187      |15:30:00            |22:30:00          |NULL             |2021-04-15 18:50:24  |NULL         |USD               |70.0000         |NULL                |NULL                     |70.0000        |\n",
      "|82686177    |239         |6185.0         |NULL           |NULL           |232187      |15:30:00            |22:30:00          |NULL             |2021-04-15 18:50:32  |NULL         |USD               |49.0000         |NULL                |NULL                     |49.0000        |\n",
      "|82686178    |239         |6185.0         |NULL           |NULL           |232187      |15:30:00            |22:30:00          |NULL             |2021-04-15 18:50:47  |NULL         |USD               |86.0000         |NULL                |NULL                     |86.0000        |\n",
      "|82686179    |239         |6185.0         |NULL           |NULL           |232187      |15:30:00            |22:30:00          |NULL             |2021-04-15 18:51:01  |NULL         |USD               |36.0000         |NULL                |NULL                     |36.0000        |\n",
      "-----------------------------------------------------------------------------------------------------------------------------------------------------------------------------------------------------------------------------------------------------------------------------------------\n",
      "\n"
     ]
    }
   ],
   "source": [
    "order_header_df.show()"
   ]
  },
  {
   "cell_type": "code",
   "execution_count": 5,
   "metadata": {},
   "outputs": [
    {
     "name": "stdout",
     "output_type": "stream",
     "text": [
      "--------------------------------------------------------------------------------------------------------------------------------------------------------\n",
      "|\"ORDER_DETAIL_ID\"  |\"ORDER_ID\"  |\"MENU_ITEM_ID\"  |\"DISCOUNT_ID\"  |\"LINE_NUMBER\"  |\"QUANTITY\"  |\"UNIT_PRICE\"  |\"PRICE\"  |\"ORDER_ITEM_DISCOUNT_AMOUNT\"  |\n",
      "--------------------------------------------------------------------------------------------------------------------------------------------------------\n",
      "|702836225          |385518728   |51              |NULL           |0              |2           |17.2500       |34.5000  |NULL                          |\n",
      "|702836226          |385518728   |53              |NULL           |1              |1           |17.2500       |17.2500  |NULL                          |\n",
      "|702836227          |385518729   |51              |NULL           |0              |1           |17.2500       |17.2500  |NULL                          |\n",
      "|702836228          |385518729   |52              |NULL           |1              |1           |17.2500       |17.2500  |NULL                          |\n",
      "|702836229          |385518730   |51              |NULL           |0              |3           |17.2500       |51.7500  |NULL                          |\n",
      "|702836230          |385518730   |52              |NULL           |1              |2           |17.2500       |34.5000  |NULL                          |\n",
      "|702836231          |385518730   |53              |NULL           |2              |2           |17.2500       |34.5000  |NULL                          |\n",
      "|702836232          |385518730   |54              |NULL           |3              |1           |2.0000        |2.0000   |NULL                          |\n",
      "|702836233          |385518730   |55              |NULL           |4              |1           |3.0000        |3.0000   |NULL                          |\n",
      "|702836234          |385518730   |56              |NULL           |5              |1           |3.0000        |3.0000   |NULL                          |\n",
      "--------------------------------------------------------------------------------------------------------------------------------------------------------\n",
      "\n"
     ]
    }
   ],
   "source": [
    "order_detail_df.show()"
   ]
  },
  {
   "cell_type": "code",
   "execution_count": 7,
   "metadata": {},
   "outputs": [
    {
     "name": "stdout",
     "output_type": "stream",
     "text": [
      "---------------------------------------------------------------------------------------------------------------------------------------------------------------------------------------------------------------------------\n",
      "|\"MENU_ID\"  |\"MENU_TYPE_ID\"  |\"MENU_TYPE\"  |\"TRUCK_BRAND_NAME\"  |\"MENU_ITEM_ID\"  |\"MENU_ITEM_NAME\"    |\"ITEM_CATEGORY\"  |\"ITEM_SUBCATEGORY\"  |\"COST_OF_GOODS_USD\"  |\"SALE_PRICE_USD\"  |\"MENU_ITEM_HEALTH_METRICS_OBJ\"     |\n",
      "---------------------------------------------------------------------------------------------------------------------------------------------------------------------------------------------------------------------------\n",
      "|10001      |1               |Ice Cream    |Freezing Point      |10              |Lemonade            |Beverage         |Cold Option         |0.6500               |3.5000            |{                                  |\n",
      "|           |                |             |                    |                |                    |                 |                    |                     |                  |  \"menu_item_health_metrics\": [    |\n",
      "|           |                |             |                    |                |                    |                 |                    |                     |                  |    {                              |\n",
      "|           |                |             |                    |                |                    |                 |                    |                     |                  |      \"ingredients\": [             |\n",
      "|           |                |             |                    |                |                    |                 |                    |                     |                  |        \"Lemons\",                  |\n",
      "|           |                |             |                    |                |                    |                 |                    |                     |                  |        \"Sugar\",                   |\n",
      "|           |                |             |                    |                |                    |                 |                    |                     |                  |        \"Water\"                    |\n",
      "|           |                |             |                    |                |                    |                 |                    |                     |                  |      ],                           |\n",
      "|           |                |             |                    |                |                    |                 |                    |                     |                  |      \"is_dairy_free_flag\": \"Y\",   |\n",
      "|           |                |             |                    |                |                    |                 |                    |                     |                  |      \"is_gluten_free_flag\": \"Y\",  |\n",
      "|           |                |             |                    |                |                    |                 |                    |                     |                  |      \"is_healthy_flag\": \"N\",      |\n",
      "|           |                |             |                    |                |                    |                 |                    |                     |                  |      \"is_nut_free_flag\": \"Y\"      |\n",
      "|           |                |             |                    |                |                    |                 |                    |                     |                  |    }                              |\n",
      "|           |                |             |                    |                |                    |                 |                    |                     |                  |  ],                               |\n",
      "|           |                |             |                    |                |                    |                 |                    |                     |                  |  \"menu_item_id\": 10               |\n",
      "|           |                |             |                    |                |                    |                 |                    |                     |                  |}                                  |\n",
      "|10002      |1               |Ice Cream    |Freezing Point      |11              |Sugar Cone          |Dessert          |Cold Option         |2.5000               |6.0000            |{                                  |\n",
      "|           |                |             |                    |                |                    |                 |                    |                     |                  |  \"menu_item_health_metrics\": [    |\n",
      "|           |                |             |                    |                |                    |                 |                    |                     |                  |    {                              |\n",
      "|           |                |             |                    |                |                    |                 |                    |                     |                  |      \"ingredients\": [             |\n",
      "|           |                |             |                    |                |                    |                 |                    |                     |                  |        \"One Scoop\",               |\n",
      "|           |                |             |                    |                |                    |                 |                    |                     |                  |        \"Sugar Cone\"               |\n",
      "|           |                |             |                    |                |                    |                 |                    |                     |                  |      ],                           |\n",
      "|           |                |             |                    |                |                    |                 |                    |                     |                  |      \"is_dairy_free_flag\": \"Y\",   |\n",
      "|           |                |             |                    |                |                    |                 |                    |                     |                  |      \"is_gluten_free_flag\": \"Y\",  |\n",
      "|           |                |             |                    |                |                    |                 |                    |                     |                  |      \"is_healthy_flag\": \"N\",      |\n",
      "|           |                |             |                    |                |                    |                 |                    |                     |                  |      \"is_nut_free_flag\": \"Y\"      |\n",
      "|           |                |             |                    |                |                    |                 |                    |                     |                  |    }                              |\n",
      "|           |                |             |                    |                |                    |                 |                    |                     |                  |  ],                               |\n",
      "|           |                |             |                    |                |                    |                 |                    |                     |                  |  \"menu_item_id\": 11               |\n",
      "|           |                |             |                    |                |                    |                 |                    |                     |                  |}                                  |\n",
      "|10003      |1               |Ice Cream    |Freezing Point      |12              |Waffle Cone         |Dessert          |Cold Option         |2.5000               |6.0000            |{                                  |\n",
      "|           |                |             |                    |                |                    |                 |                    |                     |                  |  \"menu_item_health_metrics\": [    |\n",
      "|           |                |             |                    |                |                    |                 |                    |                     |                  |    {                              |\n",
      "|           |                |             |                    |                |                    |                 |                    |                     |                  |      \"ingredients\": [             |\n",
      "|           |                |             |                    |                |                    |                 |                    |                     |                  |        \"One Scoop\",               |\n",
      "|           |                |             |                    |                |                    |                 |                    |                     |                  |        \"Waffle Cone\"              |\n",
      "|           |                |             |                    |                |                    |                 |                    |                     |                  |      ],                           |\n",
      "|           |                |             |                    |                |                    |                 |                    |                     |                  |      \"is_dairy_free_flag\": \"N\",   |\n",
      "|           |                |             |                    |                |                    |                 |                    |                     |                  |      \"is_gluten_free_flag\": \"N\",  |\n",
      "|           |                |             |                    |                |                    |                 |                    |                     |                  |      \"is_healthy_flag\": \"N\",      |\n",
      "|           |                |             |                    |                |                    |                 |                    |                     |                  |      \"is_nut_free_flag\": \"Y\"      |\n",
      "|           |                |             |                    |                |                    |                 |                    |                     |                  |    }                              |\n",
      "|           |                |             |                    |                |                    |                 |                    |                     |                  |  ],                               |\n",
      "|           |                |             |                    |                |                    |                 |                    |                     |                  |  \"menu_item_id\": 12               |\n",
      "|           |                |             |                    |                |                    |                 |                    |                     |                  |}                                  |\n",
      "|10004      |1               |Ice Cream    |Freezing Point      |13              |Two Scoop Bowl      |Dessert          |Cold Option         |3.0000               |7.0000            |{                                  |\n",
      "|           |                |             |                    |                |                    |                 |                    |                     |                  |  \"menu_item_health_metrics\": [    |\n",
      "|           |                |             |                    |                |                    |                 |                    |                     |                  |    {                              |\n",
      "|           |                |             |                    |                |                    |                 |                    |                     |                  |      \"ingredients\": [             |\n",
      "|           |                |             |                    |                |                    |                 |                    |                     |                  |        \"Two Scoops\"               |\n",
      "|           |                |             |                    |                |                    |                 |                    |                     |                  |      ],                           |\n",
      "|           |                |             |                    |                |                    |                 |                    |                     |                  |      \"is_dairy_free_flag\": \"N\",   |\n",
      "|           |                |             |                    |                |                    |                 |                    |                     |                  |      \"is_gluten_free_flag\": \"Y\",  |\n",
      "|           |                |             |                    |                |                    |                 |                    |                     |                  |      \"is_healthy_flag\": \"N\",      |\n",
      "|           |                |             |                    |                |                    |                 |                    |                     |                  |      \"is_nut_free_flag\": \"Y\"      |\n",
      "|           |                |             |                    |                |                    |                 |                    |                     |                  |    }                              |\n",
      "|           |                |             |                    |                |                    |                 |                    |                     |                  |  ],                               |\n",
      "|           |                |             |                    |                |                    |                 |                    |                     |                  |  \"menu_item_id\": 13               |\n",
      "|           |                |             |                    |                |                    |                 |                    |                     |                  |}                                  |\n",
      "|10005      |1               |Ice Cream    |Freezing Point      |14              |Bottled Water       |Beverage         |Cold Option         |0.5000               |2.0000            |{                                  |\n",
      "|           |                |             |                    |                |                    |                 |                    |                     |                  |  \"menu_item_health_metrics\": [    |\n",
      "|           |                |             |                    |                |                    |                 |                    |                     |                  |    {                              |\n",
      "|           |                |             |                    |                |                    |                 |                    |                     |                  |      \"ingredients\": [             |\n",
      "|           |                |             |                    |                |                    |                 |                    |                     |                  |        \"12 Oz Bottle Water\"       |\n",
      "|           |                |             |                    |                |                    |                 |                    |                     |                  |      ],                           |\n",
      "|           |                |             |                    |                |                    |                 |                    |                     |                  |      \"is_dairy_free_flag\": \"Y\",   |\n",
      "|           |                |             |                    |                |                    |                 |                    |                     |                  |      \"is_gluten_free_flag\": \"Y\",  |\n",
      "|           |                |             |                    |                |                    |                 |                    |                     |                  |      \"is_healthy_flag\": \"Y\",      |\n",
      "|           |                |             |                    |                |                    |                 |                    |                     |                  |      \"is_nut_free_flag\": \"Y\"      |\n",
      "|           |                |             |                    |                |                    |                 |                    |                     |                  |    }                              |\n",
      "|           |                |             |                    |                |                    |                 |                    |                     |                  |  ],                               |\n",
      "|           |                |             |                    |                |                    |                 |                    |                     |                  |  \"menu_item_id\": 14               |\n",
      "|           |                |             |                    |                |                    |                 |                    |                     |                  |}                                  |\n",
      "|10006      |1               |Ice Cream    |Freezing Point      |15              |Bottled Soda        |Beverage         |Cold Option         |0.5000               |3.0000            |{                                  |\n",
      "|           |                |             |                    |                |                    |                 |                    |                     |                  |  \"menu_item_health_metrics\": [    |\n",
      "|           |                |             |                    |                |                    |                 |                    |                     |                  |    {                              |\n",
      "|           |                |             |                    |                |                    |                 |                    |                     |                  |      \"ingredients\": [             |\n",
      "|           |                |             |                    |                |                    |                 |                    |                     |                  |        \"12 Oz Bottle Soda\"        |\n",
      "|           |                |             |                    |                |                    |                 |                    |                     |                  |      ],                           |\n",
      "|           |                |             |                    |                |                    |                 |                    |                     |                  |      \"is_dairy_free_flag\": \"Y\",   |\n",
      "|           |                |             |                    |                |                    |                 |                    |                     |                  |      \"is_gluten_free_flag\": \"Y\",  |\n",
      "|           |                |             |                    |                |                    |                 |                    |                     |                  |      \"is_healthy_flag\": \"N\",      |\n",
      "|           |                |             |                    |                |                    |                 |                    |                     |                  |      \"is_nut_free_flag\": \"Y\"      |\n",
      "|           |                |             |                    |                |                    |                 |                    |                     |                  |    }                              |\n",
      "|           |                |             |                    |                |                    |                 |                    |                     |                  |  ],                               |\n",
      "|           |                |             |                    |                |                    |                 |                    |                     |                  |  \"menu_item_id\": 15               |\n",
      "|           |                |             |                    |                |                    |                 |                    |                     |                  |}                                  |\n",
      "|10007      |1               |Ice Cream    |Freezing Point      |16              |Ice Tea             |Beverage         |Cold Option         |0.7500               |3.0000            |{                                  |\n",
      "|           |                |             |                    |                |                    |                 |                    |                     |                  |  \"menu_item_health_metrics\": [    |\n",
      "|           |                |             |                    |                |                    |                 |                    |                     |                  |    {                              |\n",
      "|           |                |             |                    |                |                    |                 |                    |                     |                  |      \"ingredients\": [             |\n",
      "|           |                |             |                    |                |                    |                 |                    |                     |                  |        \"12 Oz Bottle Ice Tea\"     |\n",
      "|           |                |             |                    |                |                    |                 |                    |                     |                  |      ],                           |\n",
      "|           |                |             |                    |                |                    |                 |                    |                     |                  |      \"is_dairy_free_flag\": \"Y\",   |\n",
      "|           |                |             |                    |                |                    |                 |                    |                     |                  |      \"is_gluten_free_flag\": \"Y\",  |\n",
      "|           |                |             |                    |                |                    |                 |                    |                     |                  |      \"is_healthy_flag\": \"N\",      |\n",
      "|           |                |             |                    |                |                    |                 |                    |                     |                  |      \"is_nut_free_flag\": \"Y\"      |\n",
      "|           |                |             |                    |                |                    |                 |                    |                     |                  |    }                              |\n",
      "|           |                |             |                    |                |                    |                 |                    |                     |                  |  ],                               |\n",
      "|           |                |             |                    |                |                    |                 |                    |                     |                  |  \"menu_item_id\": 16               |\n",
      "|           |                |             |                    |                |                    |                 |                    |                     |                  |}                                  |\n",
      "|10008      |1               |Ice Cream    |Freezing Point      |17              |Ice Cream Sandwich  |Dessert          |Cold Option         |1.0000               |4.0000            |{                                  |\n",
      "|           |                |             |                    |                |                    |                 |                    |                     |                  |  \"menu_item_health_metrics\": [    |\n",
      "|           |                |             |                    |                |                    |                 |                    |                     |                  |    {                              |\n",
      "|           |                |             |                    |                |                    |                 |                    |                     |                  |      \"ingredients\": [             |\n",
      "|           |                |             |                    |                |                    |                 |                    |                     |                  |        \"Ice Cream Sandwich\"       |\n",
      "|           |                |             |                    |                |                    |                 |                    |                     |                  |      ],                           |\n",
      "|           |                |             |                    |                |                    |                 |                    |                     |                  |      \"is_dairy_free_flag\": \"N\",   |\n",
      "|           |                |             |                    |                |                    |                 |                    |                     |                  |      \"is_gluten_free_flag\": \"N\",  |\n",
      "|           |                |             |                    |                |                    |                 |                    |                     |                  |      \"is_healthy_flag\": \"N\",      |\n",
      "|           |                |             |                    |                |                    |                 |                    |                     |                  |      \"is_nut_free_flag\": \"Y\"      |\n",
      "|           |                |             |                    |                |                    |                 |                    |                     |                  |    }                              |\n",
      "|           |                |             |                    |                |                    |                 |                    |                     |                  |  ],                               |\n",
      "|           |                |             |                    |                |                    |                 |                    |                     |                  |  \"menu_item_id\": 17               |\n",
      "|           |                |             |                    |                |                    |                 |                    |                     |                  |}                                  |\n",
      "|10009      |1               |Ice Cream    |Freezing Point      |18              |Mango Sticky Rice   |Dessert          |Cold Option         |1.2500               |5.0000            |{                                  |\n",
      "|           |                |             |                    |                |                    |                 |                    |                     |                  |  \"menu_item_health_metrics\": [    |\n",
      "|           |                |             |                    |                |                    |                 |                    |                     |                  |    {                              |\n",
      "|           |                |             |                    |                |                    |                 |                    |                     |                  |      \"ingredients\": [             |\n",
      "|           |                |             |                    |                |                    |                 |                    |                     |                  |        \"Sweet Mango\",             |\n",
      "|           |                |             |                    |                |                    |                 |                    |                     |                  |        \"Sticky Salted Rice\",      |\n",
      "|           |                |             |                    |                |                    |                 |                    |                     |                  |        \"Coconut Milk\",            |\n",
      "|           |                |             |                    |                |                    |                 |                    |                     |                  |        \"Sesame Seeds\"             |\n",
      "|           |                |             |                    |                |                    |                 |                    |                     |                  |      ],                           |\n",
      "|           |                |             |                    |                |                    |                 |                    |                     |                  |      \"is_dairy_free_flag\": \"N\",   |\n",
      "|           |                |             |                    |                |                    |                 |                    |                     |                  |      \"is_gluten_free_flag\": \"N\",  |\n",
      "|           |                |             |                    |                |                    |                 |                    |                     |                  |      \"is_healthy_flag\": \"N\",      |\n",
      "|           |                |             |                    |                |                    |                 |                    |                     |                  |      \"is_nut_free_flag\": \"Y\"      |\n",
      "|           |                |             |                    |                |                    |                 |                    |                     |                  |    }                              |\n",
      "|           |                |             |                    |                |                    |                 |                    |                     |                  |  ],                               |\n",
      "|           |                |             |                    |                |                    |                 |                    |                     |                  |  \"menu_item_id\": 18               |\n",
      "|           |                |             |                    |                |                    |                 |                    |                     |                  |}                                  |\n",
      "|10010      |1               |Ice Cream    |Freezing Point      |19              |Popsicle            |Dessert          |Cold Option         |0.5000               |3.0000            |{                                  |\n",
      "|           |                |             |                    |                |                    |                 |                    |                     |                  |  \"menu_item_health_metrics\": [    |\n",
      "|           |                |             |                    |                |                    |                 |                    |                     |                  |    {                              |\n",
      "|           |                |             |                    |                |                    |                 |                    |                     |                  |      \"ingredients\": [             |\n",
      "|           |                |             |                    |                |                    |                 |                    |                     |                  |        \"Popsicle\"                 |\n",
      "|           |                |             |                    |                |                    |                 |                    |                     |                  |      ],                           |\n",
      "|           |                |             |                    |                |                    |                 |                    |                     |                  |      \"is_dairy_free_flag\": \"Y\",   |\n",
      "|           |                |             |                    |                |                    |                 |                    |                     |                  |      \"is_gluten_free_flag\": \"Y\",  |\n",
      "|           |                |             |                    |                |                    |                 |                    |                     |                  |      \"is_healthy_flag\": \"N\",      |\n",
      "|           |                |             |                    |                |                    |                 |                    |                     |                  |      \"is_nut_free_flag\": \"Y\"      |\n",
      "|           |                |             |                    |                |                    |                 |                    |                     |                  |    }                              |\n",
      "|           |                |             |                    |                |                    |                 |                    |                     |                  |  ],                               |\n",
      "|           |                |             |                    |                |                    |                 |                    |                     |                  |  \"menu_item_id\": 19               |\n",
      "|           |                |             |                    |                |                    |                 |                    |                     |                  |}                                  |\n",
      "---------------------------------------------------------------------------------------------------------------------------------------------------------------------------------------------------------------------------\n",
      "\n"
     ]
    }
   ],
   "source": [
    "menu_df.show()"
   ]
  },
  {
   "cell_type": "code",
   "execution_count": 14,
   "metadata": {},
   "outputs": [
    {
     "name": "stdout",
     "output_type": "stream",
     "text": [
      "----------------\n",
      "|\"MIN(COUNT)\"  |\n",
      "----------------\n",
      "|8850          |\n",
      "----------------\n",
      "\n"
     ]
    }
   ],
   "source": [
    "#Minimum order transaction by a truck\n",
    "order_header_df.group_by(\"TRUCK_ID\").agg(F.count(\"ORDER_ID\").alias('count')).agg(F.min('count')).show()"
   ]
  },
  {
   "cell_type": "code",
   "execution_count": 23,
   "metadata": {},
   "outputs": [
    {
     "name": "stdout",
     "output_type": "stream",
     "text": [
      "--------------\n",
      "|\"SUM(NNN)\"  |\n",
      "--------------\n",
      "|248201269   |\n",
      "--------------\n",
      "\n"
     ]
    }
   ],
   "source": [
    "order_header_df.drop_duplicates('ORDER_ID').group_by('ORDER_ID').agg(F.count('ORDER_ID').alias('nnn')).agg(F.sum('NNN')).show()"
   ]
  },
  {
   "cell_type": "code",
   "execution_count": 24,
   "metadata": {},
   "outputs": [
    {
     "ename": "KeyboardInterrupt",
     "evalue": "",
     "output_type": "error",
     "traceback": [
      "\u001b[1;31m---------------------------------------------------------------------------\u001b[0m",
      "\u001b[1;31mKeyboardInterrupt\u001b[0m                         Traceback (most recent call last)",
      "Cell \u001b[1;32mIn[24], line 1\u001b[0m\n\u001b[1;32m----> 1\u001b[0m order_detail_df\u001b[39m.\u001b[39;49mdrop_duplicates(\u001b[39m'\u001b[39;49m\u001b[39mORDER_ID\u001b[39;49m\u001b[39m'\u001b[39;49m)\u001b[39m.\u001b[39;49mgroup_by(\u001b[39m'\u001b[39;49m\u001b[39mORDER_ID\u001b[39;49m\u001b[39m'\u001b[39;49m)\u001b[39m.\u001b[39;49magg(F\u001b[39m.\u001b[39;49mcount(\u001b[39m'\u001b[39;49m\u001b[39mORDER_ID\u001b[39;49m\u001b[39m'\u001b[39;49m)\u001b[39m.\u001b[39;49malias(\u001b[39m'\u001b[39;49m\u001b[39mnnn\u001b[39;49m\u001b[39m'\u001b[39;49m))\u001b[39m.\u001b[39;49magg(F\u001b[39m.\u001b[39;49msum(\u001b[39m'\u001b[39;49m\u001b[39mNNN\u001b[39;49m\u001b[39m'\u001b[39;49m))\u001b[39m.\u001b[39;49mshow()\n",
      "File \u001b[1;32mc:\\Users\\tanko\\anaconda3\\envs\\pysnowpark\\lib\\site-packages\\snowflake\\snowpark\\_internal\\telemetry.py:139\u001b[0m, in \u001b[0;36mdf_collect_api_telemetry.<locals>.wrap\u001b[1;34m(*args, **kwargs)\u001b[0m\n\u001b[0;32m    136\u001b[0m \u001b[39m@functools\u001b[39m\u001b[39m.\u001b[39mwraps(func)\n\u001b[0;32m    137\u001b[0m \u001b[39mdef\u001b[39;00m \u001b[39mwrap\u001b[39m(\u001b[39m*\u001b[39margs, \u001b[39m*\u001b[39m\u001b[39m*\u001b[39mkwargs):\n\u001b[0;32m    138\u001b[0m     \u001b[39mwith\u001b[39;00m args[\u001b[39m0\u001b[39m]\u001b[39m.\u001b[39m_session\u001b[39m.\u001b[39mquery_history() \u001b[39mas\u001b[39;00m query_history:\n\u001b[1;32m--> 139\u001b[0m         result \u001b[39m=\u001b[39m func(\u001b[39m*\u001b[39;49margs, \u001b[39m*\u001b[39;49m\u001b[39m*\u001b[39;49mkwargs)\n\u001b[0;32m    140\u001b[0m     plan \u001b[39m=\u001b[39m args[\u001b[39m0\u001b[39m]\u001b[39m.\u001b[39m_select_statement \u001b[39mor\u001b[39;00m args[\u001b[39m0\u001b[39m]\u001b[39m.\u001b[39m_plan\n\u001b[0;32m    141\u001b[0m     api_calls \u001b[39m=\u001b[39m [\n\u001b[0;32m    142\u001b[0m         \u001b[39m*\u001b[39mplan\u001b[39m.\u001b[39mapi_calls,\n\u001b[0;32m    143\u001b[0m         {TelemetryField\u001b[39m.\u001b[39mNAME\u001b[39m.\u001b[39mvalue: \u001b[39mf\u001b[39m\u001b[39m\"\u001b[39m\u001b[39mDataFrame.\u001b[39m\u001b[39m{\u001b[39;00mfunc\u001b[39m.\u001b[39m\u001b[39m__name__\u001b[39m\u001b[39m}\u001b[39;00m\u001b[39m\"\u001b[39m},\n\u001b[0;32m    144\u001b[0m     ]\n",
      "File \u001b[1;32mc:\\Users\\tanko\\anaconda3\\envs\\pysnowpark\\lib\\site-packages\\snowflake\\snowpark\\dataframe.py:2721\u001b[0m, in \u001b[0;36mDataFrame.show\u001b[1;34m(self, n, max_width, statement_params)\u001b[0m\n\u001b[0;32m   2702\u001b[0m \u001b[39m@df_collect_api_telemetry\u001b[39m\n\u001b[0;32m   2703\u001b[0m \u001b[39mdef\u001b[39;00m \u001b[39mshow\u001b[39m(\n\u001b[0;32m   2704\u001b[0m     \u001b[39mself\u001b[39m,\n\u001b[1;32m   (...)\u001b[0m\n\u001b[0;32m   2708\u001b[0m     statement_params: Optional[Dict[\u001b[39mstr\u001b[39m, \u001b[39mstr\u001b[39m]] \u001b[39m=\u001b[39m \u001b[39mNone\u001b[39;00m,\n\u001b[0;32m   2709\u001b[0m ) \u001b[39m-\u001b[39m\u001b[39m>\u001b[39m \u001b[39mNone\u001b[39;00m:\n\u001b[0;32m   2710\u001b[0m     \u001b[39m\"\"\"Evaluates this DataFrame and prints out the first ``n`` rows with the\u001b[39;00m\n\u001b[0;32m   2711\u001b[0m \u001b[39m    specified maximum number of characters per column.\u001b[39;00m\n\u001b[0;32m   2712\u001b[0m \n\u001b[1;32m   (...)\u001b[0m\n\u001b[0;32m   2718\u001b[0m \u001b[39m        statement_params: Dictionary of statement level parameters to be set while executing this action.\u001b[39;00m\n\u001b[0;32m   2719\u001b[0m \u001b[39m    \"\"\"\u001b[39;00m\n\u001b[0;32m   2720\u001b[0m     \u001b[39mprint\u001b[39m(\n\u001b[1;32m-> 2721\u001b[0m         \u001b[39mself\u001b[39;49m\u001b[39m.\u001b[39;49m_show_string(\n\u001b[0;32m   2722\u001b[0m             n,\n\u001b[0;32m   2723\u001b[0m             max_width,\n\u001b[0;32m   2724\u001b[0m             _statement_params\u001b[39m=\u001b[39;49mcreate_or_update_statement_params_with_query_tag(\n\u001b[0;32m   2725\u001b[0m                 statement_params \u001b[39mor\u001b[39;49;00m \u001b[39mself\u001b[39;49m\u001b[39m.\u001b[39;49m_statement_params,\n\u001b[0;32m   2726\u001b[0m                 \u001b[39mself\u001b[39;49m\u001b[39m.\u001b[39;49m_session\u001b[39m.\u001b[39;49mquery_tag,\n\u001b[0;32m   2727\u001b[0m                 SKIP_LEVELS_TWO,\n\u001b[0;32m   2728\u001b[0m             ),\n\u001b[0;32m   2729\u001b[0m         )\n\u001b[0;32m   2730\u001b[0m     )\n",
      "File \u001b[1;32mc:\\Users\\tanko\\anaconda3\\envs\\pysnowpark\\lib\\site-packages\\snowflake\\snowpark\\dataframe.py:2839\u001b[0m, in \u001b[0;36mDataFrame._show_string\u001b[1;34m(self, n, max_width, **kwargs)\u001b[0m\n\u001b[0;32m   2836\u001b[0m query \u001b[39m=\u001b[39m \u001b[39mself\u001b[39m\u001b[39m.\u001b[39m_plan\u001b[39m.\u001b[39mqueries[\u001b[39m-\u001b[39m\u001b[39m1\u001b[39m]\u001b[39m.\u001b[39msql\u001b[39m.\u001b[39mstrip()\u001b[39m.\u001b[39mlower()\n\u001b[0;32m   2838\u001b[0m \u001b[39mif\u001b[39;00m is_sql_select_statement(query):\n\u001b[1;32m-> 2839\u001b[0m     result, meta \u001b[39m=\u001b[39m \u001b[39mself\u001b[39;49m\u001b[39m.\u001b[39;49m_session\u001b[39m.\u001b[39;49m_conn\u001b[39m.\u001b[39;49mget_result_and_metadata(\n\u001b[0;32m   2840\u001b[0m         \u001b[39mself\u001b[39;49m\u001b[39m.\u001b[39;49mlimit(n)\u001b[39m.\u001b[39;49m_plan, \u001b[39m*\u001b[39;49m\u001b[39m*\u001b[39;49mkwargs\n\u001b[0;32m   2841\u001b[0m     )\n\u001b[0;32m   2842\u001b[0m \u001b[39melse\u001b[39;00m:\n\u001b[0;32m   2843\u001b[0m     res, meta \u001b[39m=\u001b[39m \u001b[39mself\u001b[39m\u001b[39m.\u001b[39m_session\u001b[39m.\u001b[39m_conn\u001b[39m.\u001b[39mget_result_and_metadata(\n\u001b[0;32m   2844\u001b[0m         \u001b[39mself\u001b[39m\u001b[39m.\u001b[39m_plan, \u001b[39m*\u001b[39m\u001b[39m*\u001b[39mkwargs\n\u001b[0;32m   2845\u001b[0m     )\n",
      "File \u001b[1;32mc:\\Users\\tanko\\anaconda3\\envs\\pysnowpark\\lib\\site-packages\\snowflake\\snowpark\\_internal\\server_connection.py:590\u001b[0m, in \u001b[0;36mServerConnection.get_result_and_metadata\u001b[1;34m(self, plan, **kwargs)\u001b[0m\n\u001b[0;32m    587\u001b[0m \u001b[39mdef\u001b[39;00m \u001b[39mget_result_and_metadata\u001b[39m(\n\u001b[0;32m    588\u001b[0m     \u001b[39mself\u001b[39m, plan: SnowflakePlan, \u001b[39m*\u001b[39m\u001b[39m*\u001b[39mkwargs\n\u001b[0;32m    589\u001b[0m ) \u001b[39m-\u001b[39m\u001b[39m>\u001b[39m Tuple[List[Row], List[Attribute]]:\n\u001b[1;32m--> 590\u001b[0m     result_set, result_meta \u001b[39m=\u001b[39m \u001b[39mself\u001b[39;49m\u001b[39m.\u001b[39;49mget_result_set(plan, \u001b[39m*\u001b[39;49m\u001b[39m*\u001b[39;49mkwargs)\n\u001b[0;32m    591\u001b[0m     result \u001b[39m=\u001b[39m result_set_to_rows(result_set[\u001b[39m\"\u001b[39m\u001b[39mdata\u001b[39m\u001b[39m\"\u001b[39m])\n\u001b[0;32m    592\u001b[0m     meta \u001b[39m=\u001b[39m convert_result_meta_to_attribute(result_meta)\n",
      "File \u001b[1;32mc:\\Users\\tanko\\anaconda3\\envs\\pysnowpark\\lib\\site-packages\\snowflake\\snowpark\\_internal\\analyzer\\snowflake_plan.py:109\u001b[0m, in \u001b[0;36mSnowflakePlan.Decorator.wrap_exception.<locals>.wrap\u001b[1;34m(*args, **kwargs)\u001b[0m\n\u001b[0;32m    107\u001b[0m \u001b[39mdef\u001b[39;00m \u001b[39mwrap\u001b[39m(\u001b[39m*\u001b[39margs, \u001b[39m*\u001b[39m\u001b[39m*\u001b[39mkwargs):\n\u001b[0;32m    108\u001b[0m     \u001b[39mtry\u001b[39;00m:\n\u001b[1;32m--> 109\u001b[0m         \u001b[39mreturn\u001b[39;00m func(\u001b[39m*\u001b[39;49margs, \u001b[39m*\u001b[39;49m\u001b[39m*\u001b[39;49mkwargs)\n\u001b[0;32m    110\u001b[0m     \u001b[39mexcept\u001b[39;00m snowflake\u001b[39m.\u001b[39mconnector\u001b[39m.\u001b[39merrors\u001b[39m.\u001b[39mProgrammingError \u001b[39mas\u001b[39;00m e:\n\u001b[0;32m    111\u001b[0m         query \u001b[39m=\u001b[39m \u001b[39mNone\u001b[39;00m\n",
      "File \u001b[1;32mc:\\Users\\tanko\\anaconda3\\envs\\pysnowpark\\lib\\site-packages\\snowflake\\snowpark\\_internal\\server_connection.py:550\u001b[0m, in \u001b[0;36mServerConnection.get_result_set\u001b[1;34m(self, plan, to_pandas, to_iter, block, data_type, log_on_exception, case_sensitive, **kwargs)\u001b[0m\n\u001b[0;32m    548\u001b[0m \u001b[39mfor\u001b[39;00m holder, id_ \u001b[39min\u001b[39;00m placeholders\u001b[39m.\u001b[39mitems():\n\u001b[0;32m    549\u001b[0m     final_query \u001b[39m=\u001b[39m final_query\u001b[39m.\u001b[39mreplace(holder, id_)\n\u001b[1;32m--> 550\u001b[0m result \u001b[39m=\u001b[39m \u001b[39mself\u001b[39;49m\u001b[39m.\u001b[39;49mrun_query(\n\u001b[0;32m    551\u001b[0m     final_query,\n\u001b[0;32m    552\u001b[0m     to_pandas,\n\u001b[0;32m    553\u001b[0m     to_iter \u001b[39mand\u001b[39;49;00m (i \u001b[39m==\u001b[39;49m \u001b[39mlen\u001b[39;49m(plan\u001b[39m.\u001b[39;49mqueries) \u001b[39m-\u001b[39;49m \u001b[39m1\u001b[39;49m),\n\u001b[0;32m    554\u001b[0m     is_ddl_on_temp_object\u001b[39m=\u001b[39;49mquery\u001b[39m.\u001b[39;49mis_ddl_on_temp_object,\n\u001b[0;32m    555\u001b[0m     block\u001b[39m=\u001b[39;49m\u001b[39mnot\u001b[39;49;00m is_last,\n\u001b[0;32m    556\u001b[0m     data_type\u001b[39m=\u001b[39;49mdata_type,\n\u001b[0;32m    557\u001b[0m     async_job_plan\u001b[39m=\u001b[39;49mplan,\n\u001b[0;32m    558\u001b[0m     log_on_exception\u001b[39m=\u001b[39;49mlog_on_exception,\n\u001b[0;32m    559\u001b[0m     case_sensitive\u001b[39m=\u001b[39;49mcase_sensitive,\n\u001b[0;32m    560\u001b[0m     params\u001b[39m=\u001b[39;49mquery\u001b[39m.\u001b[39;49mparams,\n\u001b[0;32m    561\u001b[0m     \u001b[39m*\u001b[39;49m\u001b[39m*\u001b[39;49mkwargs,\n\u001b[0;32m    562\u001b[0m )\n\u001b[0;32m    563\u001b[0m placeholders[query\u001b[39m.\u001b[39mquery_id_place_holder] \u001b[39m=\u001b[39m (\n\u001b[0;32m    564\u001b[0m     result[\u001b[39m\"\u001b[39m\u001b[39msfqid\u001b[39m\u001b[39m\"\u001b[39m] \u001b[39mif\u001b[39;00m \u001b[39mnot\u001b[39;00m is_last \u001b[39melse\u001b[39;00m result\u001b[39m.\u001b[39mquery_id\n\u001b[0;32m    565\u001b[0m )\n\u001b[0;32m    566\u001b[0m result_meta \u001b[39m=\u001b[39m \u001b[39mself\u001b[39m\u001b[39m.\u001b[39m_cursor\u001b[39m.\u001b[39mdescription\n",
      "File \u001b[1;32mc:\\Users\\tanko\\anaconda3\\envs\\pysnowpark\\lib\\site-packages\\snowflake\\snowpark\\_internal\\server_connection.py:96\u001b[0m, in \u001b[0;36mServerConnection._Decorator.wrap_exception.<locals>.wrap\u001b[1;34m(*args, **kwargs)\u001b[0m\n\u001b[0;32m     94\u001b[0m     \u001b[39mraise\u001b[39;00m SnowparkClientExceptionMessages\u001b[39m.\u001b[39mSERVER_SESSION_HAS_BEEN_CLOSED()\n\u001b[0;32m     95\u001b[0m \u001b[39mtry\u001b[39;00m:\n\u001b[1;32m---> 96\u001b[0m     \u001b[39mreturn\u001b[39;00m func(\u001b[39m*\u001b[39;49margs, \u001b[39m*\u001b[39;49m\u001b[39m*\u001b[39;49mkwargs)\n\u001b[0;32m     97\u001b[0m \u001b[39mexcept\u001b[39;00m ReauthenticationRequest \u001b[39mas\u001b[39;00m ex:\n\u001b[0;32m     98\u001b[0m     \u001b[39mraise\u001b[39;00m SnowparkClientExceptionMessages\u001b[39m.\u001b[39mSERVER_SESSION_EXPIRED(\n\u001b[0;32m     99\u001b[0m         ex\u001b[39m.\u001b[39mcause\n\u001b[0;32m    100\u001b[0m     )\n",
      "File \u001b[1;32mc:\\Users\\tanko\\anaconda3\\envs\\pysnowpark\\lib\\site-packages\\snowflake\\snowpark\\_internal\\server_connection.py:346\u001b[0m, in \u001b[0;36mServerConnection.run_query\u001b[1;34m(self, query, to_pandas, to_iter, is_ddl_on_temp_object, block, data_type, async_job_plan, log_on_exception, case_sensitive, params, **kwargs)\u001b[0m\n\u001b[0;32m    344\u001b[0m     kwargs[\u001b[39m\"\u001b[39m\u001b[39m_statement_params\u001b[39m\u001b[39m\"\u001b[39m][\u001b[39m\"\u001b[39m\u001b[39mSNOWPARK_SKIP_TXN_COMMIT_IN_DDL\u001b[39m\u001b[39m\"\u001b[39m] \u001b[39m=\u001b[39m \u001b[39mTrue\u001b[39;00m\n\u001b[0;32m    345\u001b[0m \u001b[39mif\u001b[39;00m block:\n\u001b[1;32m--> 346\u001b[0m     results_cursor \u001b[39m=\u001b[39m \u001b[39mself\u001b[39;49m\u001b[39m.\u001b[39;49m_cursor\u001b[39m.\u001b[39;49mexecute(query, params\u001b[39m=\u001b[39;49mparams, \u001b[39m*\u001b[39;49m\u001b[39m*\u001b[39;49mkwargs)\n\u001b[0;32m    347\u001b[0m     \u001b[39mself\u001b[39m\u001b[39m.\u001b[39mnotify_query_listeners(\n\u001b[0;32m    348\u001b[0m         QueryRecord(results_cursor\u001b[39m.\u001b[39msfqid, results_cursor\u001b[39m.\u001b[39mquery)\n\u001b[0;32m    349\u001b[0m     )\n\u001b[0;32m    350\u001b[0m     logger\u001b[39m.\u001b[39mdebug(\u001b[39mf\u001b[39m\u001b[39m\"\u001b[39m\u001b[39mExecute query [queryID: \u001b[39m\u001b[39m{\u001b[39;00mresults_cursor\u001b[39m.\u001b[39msfqid\u001b[39m}\u001b[39;00m\u001b[39m] \u001b[39m\u001b[39m{\u001b[39;00mquery\u001b[39m}\u001b[39;00m\u001b[39m\"\u001b[39m)\n",
      "File \u001b[1;32mc:\\Users\\tanko\\anaconda3\\envs\\pysnowpark\\lib\\site-packages\\snowflake\\connector\\cursor.py:801\u001b[0m, in \u001b[0;36mSnowflakeCursor.execute\u001b[1;34m(self, command, params, _bind_stage, timeout, _exec_async, _no_retry, _do_reset, _put_callback, _put_azure_callback, _put_callback_output_stream, _get_callback, _get_azure_callback, _get_callback_output_stream, _show_progress_bar, _statement_params, _is_internal, _describe_only, _no_results, _is_put_get, _raise_put_get_error, _force_put_overwrite, _skip_upload_on_content_match, file_stream, num_statements)\u001b[0m\n\u001b[0;32m    799\u001b[0m \u001b[39mif\u001b[39;00m logger\u001b[39m.\u001b[39mgetEffectiveLevel() \u001b[39m<\u001b[39m\u001b[39m=\u001b[39m logging\u001b[39m.\u001b[39mINFO:\n\u001b[0;32m    800\u001b[0m     logger\u001b[39m.\u001b[39minfo(\u001b[39m\"\u001b[39m\u001b[39mquery: [\u001b[39m\u001b[39m%s\u001b[39;00m\u001b[39m]\u001b[39m\u001b[39m\"\u001b[39m, \u001b[39mself\u001b[39m\u001b[39m.\u001b[39m_format_query_for_log(query))\n\u001b[1;32m--> 801\u001b[0m ret \u001b[39m=\u001b[39m \u001b[39mself\u001b[39;49m\u001b[39m.\u001b[39;49m_execute_helper(query, \u001b[39m*\u001b[39;49m\u001b[39m*\u001b[39;49mkwargs)\n\u001b[0;32m    802\u001b[0m \u001b[39mself\u001b[39m\u001b[39m.\u001b[39m_sfqid \u001b[39m=\u001b[39m (\n\u001b[0;32m    803\u001b[0m     ret[\u001b[39m\"\u001b[39m\u001b[39mdata\u001b[39m\u001b[39m\"\u001b[39m][\u001b[39m\"\u001b[39m\u001b[39mqueryId\u001b[39m\u001b[39m\"\u001b[39m]\n\u001b[0;32m    804\u001b[0m     \u001b[39mif\u001b[39;00m \u001b[39m\"\u001b[39m\u001b[39mdata\u001b[39m\u001b[39m\"\u001b[39m \u001b[39min\u001b[39;00m ret \u001b[39mand\u001b[39;00m \u001b[39m\"\u001b[39m\u001b[39mqueryId\u001b[39m\u001b[39m\"\u001b[39m \u001b[39min\u001b[39;00m ret[\u001b[39m\"\u001b[39m\u001b[39mdata\u001b[39m\u001b[39m\"\u001b[39m]\n\u001b[0;32m    805\u001b[0m     \u001b[39melse\u001b[39;00m \u001b[39mNone\u001b[39;00m\n\u001b[0;32m    806\u001b[0m )\n\u001b[0;32m    807\u001b[0m logger\u001b[39m.\u001b[39mdebug(\u001b[39mf\u001b[39m\u001b[39m\"\u001b[39m\u001b[39msfqid: \u001b[39m\u001b[39m{\u001b[39;00m\u001b[39mself\u001b[39m\u001b[39m.\u001b[39msfqid\u001b[39m}\u001b[39;00m\u001b[39m\"\u001b[39m)\n",
      "File \u001b[1;32mc:\\Users\\tanko\\anaconda3\\envs\\pysnowpark\\lib\\site-packages\\snowflake\\connector\\cursor.py:521\u001b[0m, in \u001b[0;36mSnowflakeCursor._execute_helper\u001b[1;34m(self, query, timeout, statement_params, binding_params, binding_stage, is_internal, describe_only, _no_results, _is_put_get, _no_retry)\u001b[0m\n\u001b[0;32m    519\u001b[0m ret: \u001b[39mdict\u001b[39m[\u001b[39mstr\u001b[39m, Any] \u001b[39m=\u001b[39m {\u001b[39m\"\u001b[39m\u001b[39mdata\u001b[39m\u001b[39m\"\u001b[39m: {}}\n\u001b[0;32m    520\u001b[0m \u001b[39mtry\u001b[39;00m:\n\u001b[1;32m--> 521\u001b[0m     ret \u001b[39m=\u001b[39m \u001b[39mself\u001b[39;49m\u001b[39m.\u001b[39;49m_connection\u001b[39m.\u001b[39;49mcmd_query(\n\u001b[0;32m    522\u001b[0m         query,\n\u001b[0;32m    523\u001b[0m         \u001b[39mself\u001b[39;49m\u001b[39m.\u001b[39;49m_sequence_counter,\n\u001b[0;32m    524\u001b[0m         \u001b[39mself\u001b[39;49m\u001b[39m.\u001b[39;49m_request_id,\n\u001b[0;32m    525\u001b[0m         binding_params\u001b[39m=\u001b[39;49mbinding_params,\n\u001b[0;32m    526\u001b[0m         binding_stage\u001b[39m=\u001b[39;49mbinding_stage,\n\u001b[0;32m    527\u001b[0m         is_file_transfer\u001b[39m=\u001b[39;49m\u001b[39mbool\u001b[39;49m(\u001b[39mself\u001b[39;49m\u001b[39m.\u001b[39;49m_is_file_transfer),\n\u001b[0;32m    528\u001b[0m         statement_params\u001b[39m=\u001b[39;49mstatement_params,\n\u001b[0;32m    529\u001b[0m         is_internal\u001b[39m=\u001b[39;49mis_internal,\n\u001b[0;32m    530\u001b[0m         describe_only\u001b[39m=\u001b[39;49mdescribe_only,\n\u001b[0;32m    531\u001b[0m         _no_results\u001b[39m=\u001b[39;49m_no_results,\n\u001b[0;32m    532\u001b[0m         _no_retry\u001b[39m=\u001b[39;49m_no_retry,\n\u001b[0;32m    533\u001b[0m     )\n\u001b[0;32m    534\u001b[0m \u001b[39mfinally\u001b[39;00m:\n\u001b[0;32m    535\u001b[0m     \u001b[39mtry\u001b[39;00m:\n",
      "File \u001b[1;32mc:\\Users\\tanko\\anaconda3\\envs\\pysnowpark\\lib\\site-packages\\snowflake\\connector\\connection.py:1067\u001b[0m, in \u001b[0;36mSnowflakeConnection.cmd_query\u001b[1;34m(self, sql, sequence_counter, request_id, binding_params, binding_stage, is_file_transfer, statement_params, is_internal, describe_only, _no_results, _update_current_object, _no_retry)\u001b[0m\n\u001b[0;32m   1058\u001b[0m     logger\u001b[39m.\u001b[39mdebug(\n\u001b[0;32m   1059\u001b[0m         \u001b[39m\"\u001b[39m\u001b[39msql=[\u001b[39m\u001b[39m%s\u001b[39;00m\u001b[39m], sequence_id=[\u001b[39m\u001b[39m%s\u001b[39;00m\u001b[39m], is_file_transfer=[\u001b[39m\u001b[39m%s\u001b[39;00m\u001b[39m]\u001b[39m\u001b[39m\"\u001b[39m,\n\u001b[0;32m   1060\u001b[0m         \u001b[39mself\u001b[39m\u001b[39m.\u001b[39m_format_query_for_log(data[\u001b[39m\"\u001b[39m\u001b[39msqlText\u001b[39m\u001b[39m\"\u001b[39m]),\n\u001b[0;32m   1061\u001b[0m         data[\u001b[39m\"\u001b[39m\u001b[39msequenceId\u001b[39m\u001b[39m\"\u001b[39m],\n\u001b[0;32m   1062\u001b[0m         is_file_transfer,\n\u001b[0;32m   1063\u001b[0m     )\n\u001b[0;32m   1065\u001b[0m url_parameters \u001b[39m=\u001b[39m {REQUEST_ID: request_id}\n\u001b[1;32m-> 1067\u001b[0m ret \u001b[39m=\u001b[39m \u001b[39mself\u001b[39;49m\u001b[39m.\u001b[39;49mrest\u001b[39m.\u001b[39;49mrequest(\n\u001b[0;32m   1068\u001b[0m     \u001b[39m\"\u001b[39;49m\u001b[39m/queries/v1/query-request?\u001b[39;49m\u001b[39m\"\u001b[39;49m \u001b[39m+\u001b[39;49m urlencode(url_parameters),\n\u001b[0;32m   1069\u001b[0m     data,\n\u001b[0;32m   1070\u001b[0m     client\u001b[39m=\u001b[39;49mclient,\n\u001b[0;32m   1071\u001b[0m     _no_results\u001b[39m=\u001b[39;49m_no_results,\n\u001b[0;32m   1072\u001b[0m     _include_retry_params\u001b[39m=\u001b[39;49m\u001b[39mTrue\u001b[39;49;00m,\n\u001b[0;32m   1073\u001b[0m     _no_retry\u001b[39m=\u001b[39;49m_no_retry,\n\u001b[0;32m   1074\u001b[0m )\n\u001b[0;32m   1076\u001b[0m \u001b[39mif\u001b[39;00m ret \u001b[39mis\u001b[39;00m \u001b[39mNone\u001b[39;00m:\n\u001b[0;32m   1077\u001b[0m     ret \u001b[39m=\u001b[39m {\u001b[39m\"\u001b[39m\u001b[39mdata\u001b[39m\u001b[39m\"\u001b[39m: {}}\n",
      "File \u001b[1;32mc:\\Users\\tanko\\anaconda3\\envs\\pysnowpark\\lib\\site-packages\\snowflake\\connector\\network.py:477\u001b[0m, in \u001b[0;36mSnowflakeRestful.request\u001b[1;34m(self, url, body, method, client, _no_results, timeout, _include_retry_params, _no_retry)\u001b[0m\n\u001b[0;32m    475\u001b[0m     headers[HTTP_HEADER_SERVICE_NAME] \u001b[39m=\u001b[39m \u001b[39mself\u001b[39m\u001b[39m.\u001b[39m_connection\u001b[39m.\u001b[39mservice_name\n\u001b[0;32m    476\u001b[0m \u001b[39mif\u001b[39;00m method \u001b[39m==\u001b[39m \u001b[39m\"\u001b[39m\u001b[39mpost\u001b[39m\u001b[39m\"\u001b[39m:\n\u001b[1;32m--> 477\u001b[0m     \u001b[39mreturn\u001b[39;00m \u001b[39mself\u001b[39;49m\u001b[39m.\u001b[39;49m_post_request(\n\u001b[0;32m    478\u001b[0m         url,\n\u001b[0;32m    479\u001b[0m         headers,\n\u001b[0;32m    480\u001b[0m         json\u001b[39m.\u001b[39;49mdumps(body),\n\u001b[0;32m    481\u001b[0m         token\u001b[39m=\u001b[39;49m\u001b[39mself\u001b[39;49m\u001b[39m.\u001b[39;49mtoken,\n\u001b[0;32m    482\u001b[0m         _no_results\u001b[39m=\u001b[39;49m_no_results,\n\u001b[0;32m    483\u001b[0m         timeout\u001b[39m=\u001b[39;49mtimeout,\n\u001b[0;32m    484\u001b[0m         _include_retry_params\u001b[39m=\u001b[39;49m_include_retry_params,\n\u001b[0;32m    485\u001b[0m         no_retry\u001b[39m=\u001b[39;49m_no_retry,\n\u001b[0;32m    486\u001b[0m     )\n\u001b[0;32m    487\u001b[0m \u001b[39melse\u001b[39;00m:\n\u001b[0;32m    488\u001b[0m     \u001b[39mreturn\u001b[39;00m \u001b[39mself\u001b[39m\u001b[39m.\u001b[39m_get_request(url, headers, token\u001b[39m=\u001b[39m\u001b[39mself\u001b[39m\u001b[39m.\u001b[39mtoken, timeout\u001b[39m=\u001b[39mtimeout)\n",
      "File \u001b[1;32mc:\\Users\\tanko\\anaconda3\\envs\\pysnowpark\\lib\\site-packages\\snowflake\\connector\\network.py:716\u001b[0m, in \u001b[0;36mSnowflakeRestful._post_request\u001b[1;34m(self, url, headers, body, token, timeout, _no_results, no_retry, socket_timeout, _include_retry_params)\u001b[0m\n\u001b[0;32m    713\u001b[0m     ret \u001b[39m=\u001b[39m probe_connection(full_url)\n\u001b[0;32m    714\u001b[0m     pprint(ret)\n\u001b[1;32m--> 716\u001b[0m ret \u001b[39m=\u001b[39m \u001b[39mself\u001b[39;49m\u001b[39m.\u001b[39;49mfetch(\n\u001b[0;32m    717\u001b[0m     \u001b[39m\"\u001b[39;49m\u001b[39mpost\u001b[39;49m\u001b[39m\"\u001b[39;49m,\n\u001b[0;32m    718\u001b[0m     full_url,\n\u001b[0;32m    719\u001b[0m     headers,\n\u001b[0;32m    720\u001b[0m     data\u001b[39m=\u001b[39;49mbody,\n\u001b[0;32m    721\u001b[0m     timeout\u001b[39m=\u001b[39;49mtimeout,\n\u001b[0;32m    722\u001b[0m     token\u001b[39m=\u001b[39;49mtoken,\n\u001b[0;32m    723\u001b[0m     no_retry\u001b[39m=\u001b[39;49mno_retry,\n\u001b[0;32m    724\u001b[0m     socket_timeout\u001b[39m=\u001b[39;49msocket_timeout,\n\u001b[0;32m    725\u001b[0m     _include_retry_params\u001b[39m=\u001b[39;49m_include_retry_params,\n\u001b[0;32m    726\u001b[0m )\n\u001b[0;32m    727\u001b[0m logger\u001b[39m.\u001b[39mdebug(\n\u001b[0;32m    728\u001b[0m     \u001b[39m\"\u001b[39m\u001b[39mret[code] = \u001b[39m\u001b[39m{code}\u001b[39;00m\u001b[39m, after post request\u001b[39m\u001b[39m\"\u001b[39m\u001b[39m.\u001b[39mformat(\n\u001b[0;32m    729\u001b[0m         code\u001b[39m=\u001b[39m(ret\u001b[39m.\u001b[39mget(\u001b[39m\"\u001b[39m\u001b[39mcode\u001b[39m\u001b[39m\"\u001b[39m, \u001b[39m\"\u001b[39m\u001b[39mN/A\u001b[39m\u001b[39m\"\u001b[39m))\n\u001b[0;32m    730\u001b[0m     )\n\u001b[0;32m    731\u001b[0m )\n\u001b[0;32m    733\u001b[0m \u001b[39mif\u001b[39;00m ret\u001b[39m.\u001b[39mget(\u001b[39m\"\u001b[39m\u001b[39mcode\u001b[39m\u001b[39m\"\u001b[39m) \u001b[39m==\u001b[39m SESSION_EXPIRED_GS_CODE:\n",
      "File \u001b[1;32mc:\\Users\\tanko\\anaconda3\\envs\\pysnowpark\\lib\\site-packages\\snowflake\\connector\\network.py:814\u001b[0m, in \u001b[0;36mSnowflakeRestful.fetch\u001b[1;34m(self, method, full_url, headers, data, timeout, **kwargs)\u001b[0m\n\u001b[0;32m    812\u001b[0m retry_ctx \u001b[39m=\u001b[39m RetryCtx(timeout, include_retry_params)\n\u001b[0;32m    813\u001b[0m \u001b[39mwhile\u001b[39;00m \u001b[39mTrue\u001b[39;00m:\n\u001b[1;32m--> 814\u001b[0m     ret \u001b[39m=\u001b[39m \u001b[39mself\u001b[39;49m\u001b[39m.\u001b[39;49m_request_exec_wrapper(\n\u001b[0;32m    815\u001b[0m         session, method, full_url, headers, data, retry_ctx, \u001b[39m*\u001b[39;49m\u001b[39m*\u001b[39;49mkwargs\n\u001b[0;32m    816\u001b[0m     )\n\u001b[0;32m    817\u001b[0m     \u001b[39mif\u001b[39;00m ret \u001b[39mis\u001b[39;00m \u001b[39mnot\u001b[39;00m \u001b[39mNone\u001b[39;00m:\n\u001b[0;32m    818\u001b[0m         \u001b[39mreturn\u001b[39;00m ret\n",
      "File \u001b[1;32mc:\\Users\\tanko\\anaconda3\\envs\\pysnowpark\\lib\\site-packages\\snowflake\\connector\\network.py:857\u001b[0m, in \u001b[0;36mSnowflakeRestful._request_exec_wrapper\u001b[1;34m(self, session, method, full_url, headers, data, retry_ctx, no_retry, token, **kwargs)\u001b[0m\n\u001b[0;32m    855\u001b[0m full_url \u001b[39m=\u001b[39m SnowflakeRestful\u001b[39m.\u001b[39madd_request_guid(full_url)\n\u001b[0;32m    856\u001b[0m \u001b[39mtry\u001b[39;00m:\n\u001b[1;32m--> 857\u001b[0m     return_object \u001b[39m=\u001b[39m \u001b[39mself\u001b[39;49m\u001b[39m.\u001b[39;49m_request_exec(\n\u001b[0;32m    858\u001b[0m         session\u001b[39m=\u001b[39;49msession,\n\u001b[0;32m    859\u001b[0m         method\u001b[39m=\u001b[39;49mmethod,\n\u001b[0;32m    860\u001b[0m         full_url\u001b[39m=\u001b[39;49mfull_url,\n\u001b[0;32m    861\u001b[0m         headers\u001b[39m=\u001b[39;49mheaders,\n\u001b[0;32m    862\u001b[0m         data\u001b[39m=\u001b[39;49mdata,\n\u001b[0;32m    863\u001b[0m         token\u001b[39m=\u001b[39;49mtoken,\n\u001b[0;32m    864\u001b[0m         \u001b[39m*\u001b[39;49m\u001b[39m*\u001b[39;49mkwargs,\n\u001b[0;32m    865\u001b[0m     )\n\u001b[0;32m    866\u001b[0m     \u001b[39mif\u001b[39;00m return_object \u001b[39mis\u001b[39;00m \u001b[39mnot\u001b[39;00m \u001b[39mNone\u001b[39;00m:\n\u001b[0;32m    867\u001b[0m         \u001b[39mreturn\u001b[39;00m return_object\n",
      "File \u001b[1;32mc:\\Users\\tanko\\anaconda3\\envs\\pysnowpark\\lib\\site-packages\\snowflake\\connector\\network.py:1033\u001b[0m, in \u001b[0;36mSnowflakeRestful._request_exec\u001b[1;34m(self, session, method, full_url, headers, data, token, catch_okta_unauthorized_error, is_raw_text, is_raw_binary, binary_data_handler, socket_timeout)\u001b[0m\n\u001b[0;32m   1029\u001b[0m download_start_time \u001b[39m=\u001b[39m get_time_millis()\n\u001b[0;32m   1030\u001b[0m \u001b[39m# socket timeout is constant. You should be able to receive\u001b[39;00m\n\u001b[0;32m   1031\u001b[0m \u001b[39m# the response within the time. If not, ConnectReadTimeout or\u001b[39;00m\n\u001b[0;32m   1032\u001b[0m \u001b[39m# ReadTimeout is raised.\u001b[39;00m\n\u001b[1;32m-> 1033\u001b[0m raw_ret \u001b[39m=\u001b[39m session\u001b[39m.\u001b[39;49mrequest(\n\u001b[0;32m   1034\u001b[0m     method\u001b[39m=\u001b[39;49mmethod,\n\u001b[0;32m   1035\u001b[0m     url\u001b[39m=\u001b[39;49mfull_url,\n\u001b[0;32m   1036\u001b[0m     headers\u001b[39m=\u001b[39;49mheaders,\n\u001b[0;32m   1037\u001b[0m     data\u001b[39m=\u001b[39;49minput_data,\n\u001b[0;32m   1038\u001b[0m     timeout\u001b[39m=\u001b[39;49msocket_timeout,\n\u001b[0;32m   1039\u001b[0m     verify\u001b[39m=\u001b[39;49m\u001b[39mTrue\u001b[39;49;00m,\n\u001b[0;32m   1040\u001b[0m     stream\u001b[39m=\u001b[39;49mis_raw_binary,\n\u001b[0;32m   1041\u001b[0m     auth\u001b[39m=\u001b[39;49mSnowflakeAuth(token),\n\u001b[0;32m   1042\u001b[0m )\n\u001b[0;32m   1043\u001b[0m download_end_time \u001b[39m=\u001b[39m get_time_millis()\n\u001b[0;32m   1045\u001b[0m \u001b[39mtry\u001b[39;00m:\n",
      "File \u001b[1;32mc:\\Users\\tanko\\anaconda3\\envs\\pysnowpark\\lib\\site-packages\\snowflake\\connector\\vendored\\requests\\sessions.py:587\u001b[0m, in \u001b[0;36mSession.request\u001b[1;34m(self, method, url, params, data, headers, cookies, files, auth, timeout, allow_redirects, proxies, hooks, stream, verify, cert, json)\u001b[0m\n\u001b[0;32m    582\u001b[0m send_kwargs \u001b[39m=\u001b[39m {\n\u001b[0;32m    583\u001b[0m     \u001b[39m\"\u001b[39m\u001b[39mtimeout\u001b[39m\u001b[39m\"\u001b[39m: timeout,\n\u001b[0;32m    584\u001b[0m     \u001b[39m\"\u001b[39m\u001b[39mallow_redirects\u001b[39m\u001b[39m\"\u001b[39m: allow_redirects,\n\u001b[0;32m    585\u001b[0m }\n\u001b[0;32m    586\u001b[0m send_kwargs\u001b[39m.\u001b[39mupdate(settings)\n\u001b[1;32m--> 587\u001b[0m resp \u001b[39m=\u001b[39m \u001b[39mself\u001b[39;49m\u001b[39m.\u001b[39;49msend(prep, \u001b[39m*\u001b[39;49m\u001b[39m*\u001b[39;49msend_kwargs)\n\u001b[0;32m    589\u001b[0m \u001b[39mreturn\u001b[39;00m resp\n",
      "File \u001b[1;32mc:\\Users\\tanko\\anaconda3\\envs\\pysnowpark\\lib\\site-packages\\snowflake\\connector\\vendored\\requests\\sessions.py:701\u001b[0m, in \u001b[0;36mSession.send\u001b[1;34m(self, request, **kwargs)\u001b[0m\n\u001b[0;32m    698\u001b[0m start \u001b[39m=\u001b[39m preferred_clock()\n\u001b[0;32m    700\u001b[0m \u001b[39m# Send the request\u001b[39;00m\n\u001b[1;32m--> 701\u001b[0m r \u001b[39m=\u001b[39m adapter\u001b[39m.\u001b[39;49msend(request, \u001b[39m*\u001b[39;49m\u001b[39m*\u001b[39;49mkwargs)\n\u001b[0;32m    703\u001b[0m \u001b[39m# Total elapsed time of the request (approximately)\u001b[39;00m\n\u001b[0;32m    704\u001b[0m elapsed \u001b[39m=\u001b[39m preferred_clock() \u001b[39m-\u001b[39m start\n",
      "File \u001b[1;32mc:\\Users\\tanko\\anaconda3\\envs\\pysnowpark\\lib\\site-packages\\snowflake\\connector\\vendored\\requests\\adapters.py:489\u001b[0m, in \u001b[0;36mHTTPAdapter.send\u001b[1;34m(self, request, stream, timeout, verify, cert, proxies)\u001b[0m\n\u001b[0;32m    487\u001b[0m \u001b[39mtry\u001b[39;00m:\n\u001b[0;32m    488\u001b[0m     \u001b[39mif\u001b[39;00m \u001b[39mnot\u001b[39;00m chunked:\n\u001b[1;32m--> 489\u001b[0m         resp \u001b[39m=\u001b[39m conn\u001b[39m.\u001b[39;49murlopen(\n\u001b[0;32m    490\u001b[0m             method\u001b[39m=\u001b[39;49mrequest\u001b[39m.\u001b[39;49mmethod,\n\u001b[0;32m    491\u001b[0m             url\u001b[39m=\u001b[39;49murl,\n\u001b[0;32m    492\u001b[0m             body\u001b[39m=\u001b[39;49mrequest\u001b[39m.\u001b[39;49mbody,\n\u001b[0;32m    493\u001b[0m             headers\u001b[39m=\u001b[39;49mrequest\u001b[39m.\u001b[39;49mheaders,\n\u001b[0;32m    494\u001b[0m             redirect\u001b[39m=\u001b[39;49m\u001b[39mFalse\u001b[39;49;00m,\n\u001b[0;32m    495\u001b[0m             assert_same_host\u001b[39m=\u001b[39;49m\u001b[39mFalse\u001b[39;49;00m,\n\u001b[0;32m    496\u001b[0m             preload_content\u001b[39m=\u001b[39;49m\u001b[39mFalse\u001b[39;49;00m,\n\u001b[0;32m    497\u001b[0m             decode_content\u001b[39m=\u001b[39;49m\u001b[39mFalse\u001b[39;49;00m,\n\u001b[0;32m    498\u001b[0m             retries\u001b[39m=\u001b[39;49m\u001b[39mself\u001b[39;49m\u001b[39m.\u001b[39;49mmax_retries,\n\u001b[0;32m    499\u001b[0m             timeout\u001b[39m=\u001b[39;49mtimeout,\n\u001b[0;32m    500\u001b[0m         )\n\u001b[0;32m    502\u001b[0m     \u001b[39m# Send the request.\u001b[39;00m\n\u001b[0;32m    503\u001b[0m     \u001b[39melse\u001b[39;00m:\n\u001b[0;32m    504\u001b[0m         \u001b[39mif\u001b[39;00m \u001b[39mhasattr\u001b[39m(conn, \u001b[39m\"\u001b[39m\u001b[39mproxy_pool\u001b[39m\u001b[39m\"\u001b[39m):\n",
      "File \u001b[1;32mc:\\Users\\tanko\\anaconda3\\envs\\pysnowpark\\lib\\site-packages\\snowflake\\connector\\vendored\\urllib3\\connectionpool.py:703\u001b[0m, in \u001b[0;36mHTTPConnectionPool.urlopen\u001b[1;34m(self, method, url, body, headers, retries, redirect, assert_same_host, timeout, pool_timeout, release_conn, chunked, body_pos, **response_kw)\u001b[0m\n\u001b[0;32m    700\u001b[0m     \u001b[39mself\u001b[39m\u001b[39m.\u001b[39m_prepare_proxy(conn)\n\u001b[0;32m    702\u001b[0m \u001b[39m# Make the request on the httplib connection object.\u001b[39;00m\n\u001b[1;32m--> 703\u001b[0m httplib_response \u001b[39m=\u001b[39m \u001b[39mself\u001b[39;49m\u001b[39m.\u001b[39;49m_make_request(\n\u001b[0;32m    704\u001b[0m     conn,\n\u001b[0;32m    705\u001b[0m     method,\n\u001b[0;32m    706\u001b[0m     url,\n\u001b[0;32m    707\u001b[0m     timeout\u001b[39m=\u001b[39;49mtimeout_obj,\n\u001b[0;32m    708\u001b[0m     body\u001b[39m=\u001b[39;49mbody,\n\u001b[0;32m    709\u001b[0m     headers\u001b[39m=\u001b[39;49mheaders,\n\u001b[0;32m    710\u001b[0m     chunked\u001b[39m=\u001b[39;49mchunked,\n\u001b[0;32m    711\u001b[0m )\n\u001b[0;32m    713\u001b[0m \u001b[39m# If we're going to release the connection in ``finally:``, then\u001b[39;00m\n\u001b[0;32m    714\u001b[0m \u001b[39m# the response doesn't need to know about the connection. Otherwise\u001b[39;00m\n\u001b[0;32m    715\u001b[0m \u001b[39m# it will also try to release it and we'll have a double-release\u001b[39;00m\n\u001b[0;32m    716\u001b[0m \u001b[39m# mess.\u001b[39;00m\n\u001b[0;32m    717\u001b[0m response_conn \u001b[39m=\u001b[39m conn \u001b[39mif\u001b[39;00m \u001b[39mnot\u001b[39;00m release_conn \u001b[39melse\u001b[39;00m \u001b[39mNone\u001b[39;00m\n",
      "File \u001b[1;32mc:\\Users\\tanko\\anaconda3\\envs\\pysnowpark\\lib\\site-packages\\snowflake\\connector\\vendored\\urllib3\\connectionpool.py:449\u001b[0m, in \u001b[0;36mHTTPConnectionPool._make_request\u001b[1;34m(self, conn, method, url, timeout, chunked, **httplib_request_kw)\u001b[0m\n\u001b[0;32m    444\u001b[0m             httplib_response \u001b[39m=\u001b[39m conn\u001b[39m.\u001b[39mgetresponse()\n\u001b[0;32m    445\u001b[0m         \u001b[39mexcept\u001b[39;00m \u001b[39mBaseException\u001b[39;00m \u001b[39mas\u001b[39;00m e:\n\u001b[0;32m    446\u001b[0m             \u001b[39m# Remove the TypeError from the exception chain in\u001b[39;00m\n\u001b[0;32m    447\u001b[0m             \u001b[39m# Python 3 (including for exceptions like SystemExit).\u001b[39;00m\n\u001b[0;32m    448\u001b[0m             \u001b[39m# Otherwise it looks like a bug in the code.\u001b[39;00m\n\u001b[1;32m--> 449\u001b[0m             six\u001b[39m.\u001b[39;49mraise_from(e, \u001b[39mNone\u001b[39;49;00m)\n\u001b[0;32m    450\u001b[0m \u001b[39mexcept\u001b[39;00m (SocketTimeout, BaseSSLError, SocketError) \u001b[39mas\u001b[39;00m e:\n\u001b[0;32m    451\u001b[0m     \u001b[39mself\u001b[39m\u001b[39m.\u001b[39m_raise_timeout(err\u001b[39m=\u001b[39me, url\u001b[39m=\u001b[39murl, timeout_value\u001b[39m=\u001b[39mread_timeout)\n",
      "File \u001b[1;32m<string>:3\u001b[0m, in \u001b[0;36mraise_from\u001b[1;34m(value, from_value)\u001b[0m\n",
      "File \u001b[1;32mc:\\Users\\tanko\\anaconda3\\envs\\pysnowpark\\lib\\site-packages\\snowflake\\connector\\vendored\\urllib3\\connectionpool.py:444\u001b[0m, in \u001b[0;36mHTTPConnectionPool._make_request\u001b[1;34m(self, conn, method, url, timeout, chunked, **httplib_request_kw)\u001b[0m\n\u001b[0;32m    441\u001b[0m \u001b[39mexcept\u001b[39;00m \u001b[39mTypeError\u001b[39;00m:\n\u001b[0;32m    442\u001b[0m     \u001b[39m# Python 3\u001b[39;00m\n\u001b[0;32m    443\u001b[0m     \u001b[39mtry\u001b[39;00m:\n\u001b[1;32m--> 444\u001b[0m         httplib_response \u001b[39m=\u001b[39m conn\u001b[39m.\u001b[39;49mgetresponse()\n\u001b[0;32m    445\u001b[0m     \u001b[39mexcept\u001b[39;00m \u001b[39mBaseException\u001b[39;00m \u001b[39mas\u001b[39;00m e:\n\u001b[0;32m    446\u001b[0m         \u001b[39m# Remove the TypeError from the exception chain in\u001b[39;00m\n\u001b[0;32m    447\u001b[0m         \u001b[39m# Python 3 (including for exceptions like SystemExit).\u001b[39;00m\n\u001b[0;32m    448\u001b[0m         \u001b[39m# Otherwise it looks like a bug in the code.\u001b[39;00m\n\u001b[0;32m    449\u001b[0m         six\u001b[39m.\u001b[39mraise_from(e, \u001b[39mNone\u001b[39;00m)\n",
      "File \u001b[1;32mc:\\Users\\tanko\\anaconda3\\envs\\pysnowpark\\lib\\http\\client.py:1348\u001b[0m, in \u001b[0;36mHTTPConnection.getresponse\u001b[1;34m(self)\u001b[0m\n\u001b[0;32m   1346\u001b[0m \u001b[39mtry\u001b[39;00m:\n\u001b[0;32m   1347\u001b[0m     \u001b[39mtry\u001b[39;00m:\n\u001b[1;32m-> 1348\u001b[0m         response\u001b[39m.\u001b[39;49mbegin()\n\u001b[0;32m   1349\u001b[0m     \u001b[39mexcept\u001b[39;00m \u001b[39mConnectionError\u001b[39;00m:\n\u001b[0;32m   1350\u001b[0m         \u001b[39mself\u001b[39m\u001b[39m.\u001b[39mclose()\n",
      "File \u001b[1;32mc:\\Users\\tanko\\anaconda3\\envs\\pysnowpark\\lib\\http\\client.py:316\u001b[0m, in \u001b[0;36mHTTPResponse.begin\u001b[1;34m(self)\u001b[0m\n\u001b[0;32m    314\u001b[0m \u001b[39m# read until we get a non-100 response\u001b[39;00m\n\u001b[0;32m    315\u001b[0m \u001b[39mwhile\u001b[39;00m \u001b[39mTrue\u001b[39;00m:\n\u001b[1;32m--> 316\u001b[0m     version, status, reason \u001b[39m=\u001b[39m \u001b[39mself\u001b[39;49m\u001b[39m.\u001b[39;49m_read_status()\n\u001b[0;32m    317\u001b[0m     \u001b[39mif\u001b[39;00m status \u001b[39m!=\u001b[39m CONTINUE:\n\u001b[0;32m    318\u001b[0m         \u001b[39mbreak\u001b[39;00m\n",
      "File \u001b[1;32mc:\\Users\\tanko\\anaconda3\\envs\\pysnowpark\\lib\\http\\client.py:277\u001b[0m, in \u001b[0;36mHTTPResponse._read_status\u001b[1;34m(self)\u001b[0m\n\u001b[0;32m    276\u001b[0m \u001b[39mdef\u001b[39;00m \u001b[39m_read_status\u001b[39m(\u001b[39mself\u001b[39m):\n\u001b[1;32m--> 277\u001b[0m     line \u001b[39m=\u001b[39m \u001b[39mstr\u001b[39m(\u001b[39mself\u001b[39;49m\u001b[39m.\u001b[39;49mfp\u001b[39m.\u001b[39;49mreadline(_MAXLINE \u001b[39m+\u001b[39;49m \u001b[39m1\u001b[39;49m), \u001b[39m\"\u001b[39m\u001b[39miso-8859-1\u001b[39m\u001b[39m\"\u001b[39m)\n\u001b[0;32m    278\u001b[0m     \u001b[39mif\u001b[39;00m \u001b[39mlen\u001b[39m(line) \u001b[39m>\u001b[39m _MAXLINE:\n\u001b[0;32m    279\u001b[0m         \u001b[39mraise\u001b[39;00m LineTooLong(\u001b[39m\"\u001b[39m\u001b[39mstatus line\u001b[39m\u001b[39m\"\u001b[39m)\n",
      "File \u001b[1;32mc:\\Users\\tanko\\anaconda3\\envs\\pysnowpark\\lib\\socket.py:669\u001b[0m, in \u001b[0;36mSocketIO.readinto\u001b[1;34m(self, b)\u001b[0m\n\u001b[0;32m    667\u001b[0m \u001b[39mwhile\u001b[39;00m \u001b[39mTrue\u001b[39;00m:\n\u001b[0;32m    668\u001b[0m     \u001b[39mtry\u001b[39;00m:\n\u001b[1;32m--> 669\u001b[0m         \u001b[39mreturn\u001b[39;00m \u001b[39mself\u001b[39;49m\u001b[39m.\u001b[39;49m_sock\u001b[39m.\u001b[39;49mrecv_into(b)\n\u001b[0;32m    670\u001b[0m     \u001b[39mexcept\u001b[39;00m timeout:\n\u001b[0;32m    671\u001b[0m         \u001b[39mself\u001b[39m\u001b[39m.\u001b[39m_timeout_occurred \u001b[39m=\u001b[39m \u001b[39mTrue\u001b[39;00m\n",
      "File \u001b[1;32mc:\\Users\\tanko\\anaconda3\\envs\\pysnowpark\\lib\\site-packages\\snowflake\\connector\\vendored\\urllib3\\contrib\\pyopenssl.py:323\u001b[0m, in \u001b[0;36mWrappedSocket.recv_into\u001b[1;34m(self, *args, **kwargs)\u001b[0m\n\u001b[0;32m    321\u001b[0m         \u001b[39mraise\u001b[39;00m\n\u001b[0;32m    322\u001b[0m \u001b[39mexcept\u001b[39;00m OpenSSL\u001b[39m.\u001b[39mSSL\u001b[39m.\u001b[39mWantReadError:\n\u001b[1;32m--> 323\u001b[0m     \u001b[39mif\u001b[39;00m \u001b[39mnot\u001b[39;00m util\u001b[39m.\u001b[39;49mwait_for_read(\u001b[39mself\u001b[39;49m\u001b[39m.\u001b[39;49msocket, \u001b[39mself\u001b[39;49m\u001b[39m.\u001b[39;49msocket\u001b[39m.\u001b[39;49mgettimeout()):\n\u001b[0;32m    324\u001b[0m         \u001b[39mraise\u001b[39;00m timeout(\u001b[39m\"\u001b[39m\u001b[39mThe read operation timed out\u001b[39m\u001b[39m\"\u001b[39m)\n\u001b[0;32m    325\u001b[0m     \u001b[39melse\u001b[39;00m:\n",
      "File \u001b[1;32mc:\\Users\\tanko\\anaconda3\\envs\\pysnowpark\\lib\\site-packages\\snowflake\\connector\\vendored\\urllib3\\util\\wait.py:145\u001b[0m, in \u001b[0;36mwait_for_read\u001b[1;34m(sock, timeout)\u001b[0m\n\u001b[0;32m    141\u001b[0m \u001b[39mdef\u001b[39;00m \u001b[39mwait_for_read\u001b[39m(sock, timeout\u001b[39m=\u001b[39m\u001b[39mNone\u001b[39;00m):\n\u001b[0;32m    142\u001b[0m     \u001b[39m\"\"\"Waits for reading to be available on a given socket.\u001b[39;00m\n\u001b[0;32m    143\u001b[0m \u001b[39m    Returns True if the socket is readable, or False if the timeout expired.\u001b[39;00m\n\u001b[0;32m    144\u001b[0m \u001b[39m    \"\"\"\u001b[39;00m\n\u001b[1;32m--> 145\u001b[0m     \u001b[39mreturn\u001b[39;00m wait_for_socket(sock, read\u001b[39m=\u001b[39;49m\u001b[39mTrue\u001b[39;49;00m, timeout\u001b[39m=\u001b[39;49mtimeout)\n",
      "File \u001b[1;32mc:\\Users\\tanko\\anaconda3\\envs\\pysnowpark\\lib\\site-packages\\snowflake\\connector\\vendored\\urllib3\\util\\wait.py:85\u001b[0m, in \u001b[0;36mselect_wait_for_socket\u001b[1;34m(sock, read, write, timeout)\u001b[0m\n\u001b[0;32m     79\u001b[0m \u001b[39m# When doing a non-blocking connect, most systems signal success by\u001b[39;00m\n\u001b[0;32m     80\u001b[0m \u001b[39m# marking the socket writable. Windows, though, signals success by marked\u001b[39;00m\n\u001b[0;32m     81\u001b[0m \u001b[39m# it as \"exceptional\". We paper over the difference by checking the write\u001b[39;00m\n\u001b[0;32m     82\u001b[0m \u001b[39m# sockets for both conditions. (The stdlib selectors module does the same\u001b[39;00m\n\u001b[0;32m     83\u001b[0m \u001b[39m# thing.)\u001b[39;00m\n\u001b[0;32m     84\u001b[0m fn \u001b[39m=\u001b[39m partial(select\u001b[39m.\u001b[39mselect, rcheck, wcheck, wcheck)\n\u001b[1;32m---> 85\u001b[0m rready, wready, xready \u001b[39m=\u001b[39m _retry_on_intr(fn, timeout)\n\u001b[0;32m     86\u001b[0m \u001b[39mreturn\u001b[39;00m \u001b[39mbool\u001b[39m(rready \u001b[39mor\u001b[39;00m wready \u001b[39mor\u001b[39;00m xready)\n",
      "File \u001b[1;32mc:\\Users\\tanko\\anaconda3\\envs\\pysnowpark\\lib\\site-packages\\snowflake\\connector\\vendored\\urllib3\\util\\wait.py:43\u001b[0m, in \u001b[0;36m_retry_on_intr\u001b[1;34m(fn, timeout)\u001b[0m\n\u001b[0;32m     42\u001b[0m \u001b[39mdef\u001b[39;00m \u001b[39m_retry_on_intr\u001b[39m(fn, timeout):\n\u001b[1;32m---> 43\u001b[0m     \u001b[39mreturn\u001b[39;00m fn(timeout)\n",
      "File \u001b[1;32mc:\\Users\\tanko\\anaconda3\\envs\\pysnowpark\\lib\\site-packages\\snowflake\\connector\\cursor.py:510\u001b[0m, in \u001b[0;36mSnowflakeCursor._execute_helper.<locals>.interrupt_handler\u001b[1;34m(*_)\u001b[0m\n\u001b[0;32m    507\u001b[0m         \u001b[39mexcept\u001b[39;00m (\u001b[39mValueError\u001b[39;00m, \u001b[39mTypeError\u001b[39;00m):\n\u001b[0;32m    508\u001b[0m             \u001b[39m# ignore failures\u001b[39;00m\n\u001b[0;32m    509\u001b[0m             \u001b[39mpass\u001b[39;00m\n\u001b[1;32m--> 510\u001b[0m \u001b[39mraise\u001b[39;00m \u001b[39mKeyboardInterrupt\u001b[39;00m\n",
      "\u001b[1;31mKeyboardInterrupt\u001b[0m: "
     ]
    }
   ],
   "source": [
    "order_detail_df.drop_duplicates('ORDER_ID').group_by('ORDER_ID').agg(F.count('ORDER_ID').alias('nnn')).agg(F.sum('NNN')).show()"
   ]
  },
  {
   "cell_type": "code",
   "execution_count": 26,
   "metadata": {},
   "outputs": [],
   "source": [
    "order_truck = order_header_df.select('ORDER_ID', 'TRUCK_ID')\n",
    "df = order_detail_df.join(order_truck, order_detail_df.ORDER_ID == order_truck.ORDER_ID, how = \"left\", lsuffix = \"\", rsuffix = \"_01\")"
   ]
  },
  {
   "cell_type": "code",
   "execution_count": 27,
   "metadata": {},
   "outputs": [
    {
     "name": "stdout",
     "output_type": "stream",
     "text": [
      "-------------------------------------------------------------------------------------------------------------------------------------------------------------------------------------\n",
      "|\"ORDER_DETAIL_ID\"  |\"ORDER_ID\"  |\"MENU_ITEM_ID\"  |\"DISCOUNT_ID\"  |\"LINE_NUMBER\"  |\"QUANTITY\"  |\"UNIT_PRICE\"  |\"PRICE\"  |\"ORDER_ITEM_DISCOUNT_AMOUNT\"  |\"ORDER_ID_01\"  |\"TRUCK_ID\"  |\n",
      "-------------------------------------------------------------------------------------------------------------------------------------------------------------------------------------\n",
      "|798202497          |420427397   |133             |NULL           |0              |1           |6.0000        |6.0000   |NULL                          |420427397      |433         |\n",
      "|798202503          |420427400   |131             |NULL           |0              |4           |13.0000       |52.0000  |NULL                          |420427400      |433         |\n",
      "|798202504          |420427400   |132             |NULL           |1              |4           |11.0000       |44.0000  |NULL                          |420427400      |433         |\n",
      "|798202495          |420427395   |131             |NULL           |0              |1           |13.0000       |13.0000  |NULL                          |420427395      |433         |\n",
      "|798202496          |420427396   |133             |NULL           |0              |1           |6.0000        |6.0000   |NULL                          |420427396      |433         |\n",
      "|798202499          |420427399   |131             |NULL           |0              |2           |13.0000       |26.0000  |NULL                          |420427399      |433         |\n",
      "|798202500          |420427399   |132             |NULL           |1              |1           |11.0000       |11.0000  |NULL                          |420427399      |433         |\n",
      "|798202501          |420427399   |133             |NULL           |2              |2           |6.0000        |12.0000  |NULL                          |420427399      |433         |\n",
      "|798202502          |420427399   |134             |NULL           |3              |1           |2.0000        |2.0000   |NULL                          |420427399      |433         |\n",
      "|798202498          |420427398   |133             |NULL           |0              |1           |6.0000        |6.0000   |NULL                          |420427398      |433         |\n",
      "-------------------------------------------------------------------------------------------------------------------------------------------------------------------------------------\n",
      "\n"
     ]
    }
   ],
   "source": [
    "df.show()"
   ]
  },
  {
   "cell_type": "code",
   "execution_count": 40,
   "metadata": {},
   "outputs": [
    {
     "name": "stdout",
     "output_type": "stream",
     "text": [
      "-------------------------------------------------------------------------------------------------------------------------------------------------------------------------------------------------------------------------------------------------------\n",
      "|\"SUMMARY\"  |\"ORDER_DETAIL_ID\"  |\"ORDER_ID\"          |\"MENU_ITEM_ID\"      |\"DISCOUNT_ID\"  |\"LINE_NUMBER\"       |\"QUANTITY\"          |\"UNIT_PRICE\"       |\"PRICE\"             |\"ORDER_ITEM_DISCOUNT_AMOUNT\"  |\"ORDER_ID_01\"       |\"TRUCK_ID\"          |\n",
      "-------------------------------------------------------------------------------------------------------------------------------------------------------------------------------------------------------------------------------------------------------\n",
      "|max        |904745310.0        |459520440.0         |156.0               |NULL           |9.0                 |22.0                |21.0               |396.0               |NULL                          |459520440.0         |450.0               |\n",
      "|mean       |464061483.635263   |232382244.925391    |81.547782           |NULL           |1.275699            |1.528935            |9.3639326288       |15.0088856182       |NULL                          |232382244.925391    |252.073881          |\n",
      "|stddev     |285783401.4118483  |165950942.36735708  |43.460968673051916  |NULL           |1.3309988730273214  |0.8446543671822221  |5.129668853185749  |13.066519272903554  |NULL                          |165950942.36735708  |117.57940731692774  |\n",
      "|count      |673655465.0        |673655465.0         |673655465.0         |0              |673655465.0         |673655465.0         |673655465.0        |673655465.0         |0                             |673655465.0         |673655465.0         |\n",
      "|min        |11110323.0         |4063758.0           |10.0                |NULL           |0.0                 |1.0                 |2.0                |2.0                 |NULL                          |4063758.0           |1.0                 |\n",
      "-------------------------------------------------------------------------------------------------------------------------------------------------------------------------------------------------------------------------------------------------------\n",
      "\n"
     ]
    }
   ],
   "source": [
    "df.describe().show()"
   ]
  },
  {
   "cell_type": "code",
   "execution_count": 50,
   "metadata": {},
   "outputs": [
    {
     "name": "stdout",
     "output_type": "stream",
     "text": [
      "------------------------------------------\n",
      "|\"TRUCK_ID\"  |\"MENU_ITEM_ID\"  |\"DEMAND\"  |\n",
      "------------------------------------------\n",
      "|1           |15              |15651     |\n",
      "|1           |18              |46580     |\n",
      "|1           |19              |46755     |\n",
      "|1           |11              |46912     |\n",
      "|1           |13              |46438     |\n",
      "|1           |16              |15926     |\n",
      "|1           |10              |15686     |\n",
      "|1           |17              |46561     |\n",
      "|1           |14              |15749     |\n",
      "|1           |12              |46767     |\n",
      "------------------------------------------\n",
      "\n"
     ]
    }
   ],
   "source": [
    "demand_df = df.group_by(\"TRUCK_ID\", 'MENU_ITEM_ID').agg(F.sum(\"QUANTITY\").alias('DEMAND'))\n",
    "demand_df.sort('TRUCK_ID').show()"
   ]
  },
  {
   "cell_type": "code",
   "execution_count": 47,
   "metadata": {},
   "outputs": [
    {
     "name": "stdout",
     "output_type": "stream",
     "text": [
      "----------------------------------------------\n",
      "|\"TRUCK_ID\"  |\"MENU_ITEM_ID\"  |\"UNIT_PRICE\"  |\n",
      "----------------------------------------------\n",
      "|1           |16              |3.0000000000  |\n",
      "|1           |12              |6.0000000000  |\n",
      "|1           |17              |4.0000000000  |\n",
      "|1           |10              |3.5000000000  |\n",
      "|1           |18              |5.0000000000  |\n",
      "|1           |11              |6.0000000000  |\n",
      "|1           |14              |2.0000000000  |\n",
      "|1           |13              |7.0000000000  |\n",
      "|1           |19              |3.0000000000  |\n",
      "|1           |15              |3.0000000000  |\n",
      "----------------------------------------------\n",
      "\n"
     ]
    }
   ],
   "source": [
    "unit_price = df.group_by(\"TRUCK_ID\", 'MENU_ITEM_ID').agg(F.mean(\"unit_price\").alias('unit_price'))\n",
    "unit_price.sort('TRUCK_ID').show()"
   ]
  },
  {
   "cell_type": "code",
   "execution_count": 51,
   "metadata": {},
   "outputs": [],
   "source": [
    "final_df = demand_df.join(unit_price, on= ['TRUCK_ID', 'MENU_ITEM_ID'], lsuffix = \"\", rsuffix = \"_01\")"
   ]
  },
  {
   "cell_type": "code",
   "execution_count": 53,
   "metadata": {},
   "outputs": [
    {
     "name": "stdout",
     "output_type": "stream",
     "text": [
      "---------------------------------------------------------\n",
      "|\"TRUCK_ID\"  |\"MENU_ITEM_ID\"  |\"DEMAND\"  |\"UNIT_PRICE\"  |\n",
      "---------------------------------------------------------\n",
      "|1           |15              |15651     |3.0000000000  |\n",
      "|1           |13              |46438     |7.0000000000  |\n",
      "|1           |14              |15749     |2.0000000000  |\n",
      "|1           |19              |46755     |3.0000000000  |\n",
      "|1           |18              |46580     |5.0000000000  |\n",
      "|1           |16              |15926     |3.0000000000  |\n",
      "|1           |17              |46561     |4.0000000000  |\n",
      "|1           |10              |15686     |3.5000000000  |\n",
      "|1           |12              |46767     |6.0000000000  |\n",
      "|1           |11              |46912     |6.0000000000  |\n",
      "---------------------------------------------------------\n",
      "\n"
     ]
    }
   ],
   "source": [
    "final_df.sort('TRUCK_ID').show()"
   ]
  },
  {
   "cell_type": "code",
   "execution_count": null,
   "metadata": {},
   "outputs": [],
   "source": []
  }
 ],
 "metadata": {
  "kernelspec": {
   "display_name": "pysnowpark",
   "language": "python",
   "name": "python3"
  },
  "language_info": {
   "codemirror_mode": {
    "name": "ipython",
    "version": 3
   },
   "file_extension": ".py",
   "mimetype": "text/x-python",
   "name": "python",
   "nbconvert_exporter": "python",
   "pygments_lexer": "ipython3",
   "version": "3.8.16"
  },
  "orig_nbformat": 4
 },
 "nbformat": 4,
 "nbformat_minor": 2
}
