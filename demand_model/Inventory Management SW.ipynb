{
 "cells": [
  {
   "cell_type": "code",
   "execution_count": 53,
   "metadata": {},
   "outputs": [],
   "source": [
    "# Import Python packages\n",
    "import pandas as pd\n",
    "import numpy as np\n",
    "from matplotlib import pyplot as plt\n",
    "import json\n",
    "import sys\n",
    "import cachetools\n",
    "from datetime import datetime\n",
    "from datetime import date\n",
    "import matplotlib.pyplot as plt \n",
    "import seaborn as sns\n",
    "import math\n",
    "\n",
    "# Import Snowflake modules\n",
    "from snowflake.snowpark import Session\n",
    "import snowflake.snowpark.functions as F\n",
    "import snowflake.snowpark.types as T\n",
    "from snowflake.snowpark import Window\n",
    "from snowflake.snowpark.functions import col\n",
    "\n",
    "# Clustering & Model\n",
    "from sklearn.cluster import KMeans\n",
    "from sklearn.linear_model import LinearRegression\n",
    "from sklearn.model_selection import KFold, cross_val_score, train_test_split\n",
    "\n",
    "# Scalers\n",
    "from sklearn.preprocessing import StandardScaler\n",
    "\n",
    "# Evaluation\n",
    "from sklearn.metrics import silhouette_score\n",
    "from sklearn.metrics import mean_squared_error\n",
    "from sklearn.metrics import r2_score\n",
    "\n",
    "# find the best combination of model hyperparameters\n",
    "from sklearn.model_selection import GridSearchCV, RandomizedSearchCV\n",
    "from sklearn.model_selection import cross_val_score, cross_validate\n",
    "\n",
    "# Getting Password,Username, Account\n",
    "import getpass"
   ]
  },
  {
   "cell_type": "code",
   "execution_count": 54,
   "metadata": {},
   "outputs": [],
   "source": [
    "# Get account credentials from a json file\n",
    "with open(\"account.json\") as f:\n",
    "    data = json.load(f)\n",
    "    username = data[\"username\"]\n",
    "    password = data[\"password\"]\n",
    "    account = data[\"account\"]\n",
    "\n",
    "# Specify connection parameters\n",
    "connection_parameters = {\n",
    "    \"account\": account,\n",
    "    \"user\": username,\n",
    "    \"password\": password,\n",
    "    #\"role\": \"ACCOUNTADMIN\",\n",
    "    #\"warehouse\": \"tasty_ds_wh\",\n",
    "    #\"database\": \"NGEE_ANN_POLYTECHNIC_FROSTBYTE_DATA_SHARE\",\n",
    "    #\"schema\": \"analytics\",\n",
    "}\n",
    "\n",
    "# Create Snowpark session\n",
    "session = Session.builder.configs(connection_parameters).create()"
   ]
  },
  {
   "cell_type": "code",
   "execution_count": 55,
   "metadata": {},
   "outputs": [],
   "source": [
    "order_header_df = session.table(\"NGEE_ANN_POLYTECHNIC_FROSTBYTE_DATA_SHARE.raw_pos.order_header\")\n",
    "order_detail_df = session.table(\"NGEE_ANN_POLYTECHNIC_FROSTBYTE_DATA_SHARE.raw_pos.order_detail\")\n",
    "menu_df = session.table(\"NGEE_ANN_POLYTECHNIC_FROSTBYTE_DATA_SHARE.raw_pos.menu\")\n",
    "truck_df = session.table(\"NGEE_ANN_POLYTECHNIC_FROSTBYTE_DATA_SHARE.raw_pos.truck\")"
   ]
  },
  {
   "cell_type": "code",
   "execution_count": 56,
   "metadata": {},
   "outputs": [
    {
     "name": "stdout",
     "output_type": "stream",
     "text": [
      "-----------------------------------------------------------------------------------------------------------------------------------------------------------------------------------------------------------------------------------------------------------------------------------------\n",
      "|\"ORDER_ID\"  |\"TRUCK_ID\"  |\"LOCATION_ID\"  |\"CUSTOMER_ID\"  |\"DISCOUNT_ID\"  |\"SHIFT_ID\"  |\"SHIFT_START_TIME\"  |\"SHIFT_END_TIME\"  |\"ORDER_CHANNEL\"  |\"ORDER_TS\"           |\"SERVED_TS\"  |\"ORDER_CURRENCY\"  |\"ORDER_AMOUNT\"  |\"ORDER_TAX_AMOUNT\"  |\"ORDER_DISCOUNT_AMOUNT\"  |\"ORDER_TOTAL\"  |\n",
      "-----------------------------------------------------------------------------------------------------------------------------------------------------------------------------------------------------------------------------------------------------------------------------------------\n",
      "|82686170    |239         |6185.0         |NULL           |NULL           |232187      |15:30:00            |22:30:00          |NULL             |2021-04-15 18:47:34  |NULL         |USD               |32.0000         |NULL                |NULL                     |32.0000        |\n",
      "|82686171    |239         |6185.0         |NULL           |NULL           |232187      |15:30:00            |22:30:00          |NULL             |2021-04-15 18:47:36  |NULL         |USD               |32.0000         |NULL                |NULL                     |32.0000        |\n",
      "|82686172    |239         |6185.0         |NULL           |NULL           |232187      |15:30:00            |22:30:00          |NULL             |2021-04-15 18:47:46  |NULL         |USD               |36.0000         |NULL                |NULL                     |36.0000        |\n",
      "|82686173    |239         |6185.0         |NULL           |NULL           |232187      |15:30:00            |22:30:00          |NULL             |2021-04-15 18:47:51  |NULL         |USD               |98.0000         |NULL                |NULL                     |98.0000        |\n",
      "|82686174    |239         |6185.0         |NULL           |NULL           |232187      |15:30:00            |22:30:00          |NULL             |2021-04-15 18:48:25  |NULL         |USD               |18.0000         |NULL                |NULL                     |18.0000        |\n",
      "|82686175    |239         |6185.0         |NULL           |NULL           |232187      |15:30:00            |22:30:00          |NULL             |2021-04-15 18:48:44  |NULL         |USD               |18.0000         |NULL                |NULL                     |18.0000        |\n",
      "|82686176    |239         |6185.0         |NULL           |NULL           |232187      |15:30:00            |22:30:00          |NULL             |2021-04-15 18:50:24  |NULL         |USD               |70.0000         |NULL                |NULL                     |70.0000        |\n",
      "|82686177    |239         |6185.0         |NULL           |NULL           |232187      |15:30:00            |22:30:00          |NULL             |2021-04-15 18:50:32  |NULL         |USD               |49.0000         |NULL                |NULL                     |49.0000        |\n",
      "|82686178    |239         |6185.0         |NULL           |NULL           |232187      |15:30:00            |22:30:00          |NULL             |2021-04-15 18:50:47  |NULL         |USD               |86.0000         |NULL                |NULL                     |86.0000        |\n",
      "|82686179    |239         |6185.0         |NULL           |NULL           |232187      |15:30:00            |22:30:00          |NULL             |2021-04-15 18:51:01  |NULL         |USD               |36.0000         |NULL                |NULL                     |36.0000        |\n",
      "-----------------------------------------------------------------------------------------------------------------------------------------------------------------------------------------------------------------------------------------------------------------------------------------\n",
      "\n"
     ]
    }
   ],
   "source": [
    "order_header_df.show()"
   ]
  },
  {
   "cell_type": "code",
   "execution_count": 57,
   "metadata": {},
   "outputs": [
    {
     "name": "stdout",
     "output_type": "stream",
     "text": [
      "--------------------------------------------------------------------------------------------------------------------------------------------------------\n",
      "|\"ORDER_DETAIL_ID\"  |\"ORDER_ID\"  |\"MENU_ITEM_ID\"  |\"DISCOUNT_ID\"  |\"LINE_NUMBER\"  |\"QUANTITY\"  |\"UNIT_PRICE\"  |\"PRICE\"  |\"ORDER_ITEM_DISCOUNT_AMOUNT\"  |\n",
      "--------------------------------------------------------------------------------------------------------------------------------------------------------\n",
      "|798202495          |420427395   |131             |NULL           |0              |1           |13.0000       |13.0000  |NULL                          |\n",
      "|798202496          |420427396   |133             |NULL           |0              |1           |6.0000        |6.0000   |NULL                          |\n",
      "|798202497          |420427397   |133             |NULL           |0              |1           |6.0000        |6.0000   |NULL                          |\n",
      "|798202498          |420427398   |133             |NULL           |0              |1           |6.0000        |6.0000   |NULL                          |\n",
      "|798202499          |420427399   |131             |NULL           |0              |2           |13.0000       |26.0000  |NULL                          |\n",
      "|798202500          |420427399   |132             |NULL           |1              |1           |11.0000       |11.0000  |NULL                          |\n",
      "|798202501          |420427399   |133             |NULL           |2              |2           |6.0000        |12.0000  |NULL                          |\n",
      "|798202502          |420427399   |134             |NULL           |3              |1           |2.0000        |2.0000   |NULL                          |\n",
      "|798202503          |420427400   |131             |NULL           |0              |4           |13.0000       |52.0000  |NULL                          |\n",
      "|798202504          |420427400   |132             |NULL           |1              |4           |11.0000       |44.0000  |NULL                          |\n",
      "--------------------------------------------------------------------------------------------------------------------------------------------------------\n",
      "\n"
     ]
    }
   ],
   "source": [
    "order_detail_df.show()"
   ]
  },
  {
   "cell_type": "code",
   "execution_count": 58,
   "metadata": {},
   "outputs": [
    {
     "name": "stdout",
     "output_type": "stream",
     "text": [
      "-------------------------------------------------------------------------------------------------------------------------------------------------------------------------------------------------------------------------------\n",
      "|\"MENU_ID\"  |\"MENU_TYPE_ID\"  |\"MENU_TYPE\"  |\"TRUCK_BRAND_NAME\"  |\"MENU_ITEM_ID\"  |\"MENU_ITEM_NAME\"        |\"ITEM_CATEGORY\"  |\"ITEM_SUBCATEGORY\"  |\"COST_OF_GOODS_USD\"  |\"SALE_PRICE_USD\"  |\"MENU_ITEM_HEALTH_METRICS_OBJ\"     |\n",
      "-------------------------------------------------------------------------------------------------------------------------------------------------------------------------------------------------------------------------------\n",
      "|10013      |2               |BBQ          |Smoky BBQ           |23              |Pulled Pork Sandwich    |Main             |Warm Option         |7.0000               |12.0000           |{                                  |\n",
      "|           |                |             |                    |                |                        |                 |                    |                     |                  |  \"menu_item_health_metrics\": [    |\n",
      "|           |                |             |                    |                |                        |                 |                    |                     |                  |    {                              |\n",
      "|           |                |             |                    |                |                        |                 |                    |                     |                  |      \"ingredients\": [             |\n",
      "|           |                |             |                    |                |                        |                 |                    |                     |                  |        \"Pulled Pork\",             |\n",
      "|           |                |             |                    |                |                        |                 |                    |                     |                  |        \"White Bun\",               |\n",
      "|           |                |             |                    |                |                        |                 |                    |                     |                  |        \"Beans\"                    |\n",
      "|           |                |             |                    |                |                        |                 |                    |                     |                  |      ],                           |\n",
      "|           |                |             |                    |                |                        |                 |                    |                     |                  |      \"is_dairy_free_flag\": \"Y\",   |\n",
      "|           |                |             |                    |                |                        |                 |                    |                     |                  |      \"is_gluten_free_flag\": \"N\",  |\n",
      "|           |                |             |                    |                |                        |                 |                    |                     |                  |      \"is_healthy_flag\": \"N\",      |\n",
      "|           |                |             |                    |                |                        |                 |                    |                     |                  |      \"is_nut_free_flag\": \"Y\"      |\n",
      "|           |                |             |                    |                |                        |                 |                    |                     |                  |    }                              |\n",
      "|           |                |             |                    |                |                        |                 |                    |                     |                  |  ],                               |\n",
      "|           |                |             |                    |                |                        |                 |                    |                     |                  |  \"menu_item_id\": 23               |\n",
      "|           |                |             |                    |                |                        |                 |                    |                     |                  |}                                  |\n",
      "|10014      |2               |BBQ          |Smoky BBQ           |24              |Bottled Water           |Beverage         |Cold Option         |0.5000               |2.0000            |{                                  |\n",
      "|           |                |             |                    |                |                        |                 |                    |                     |                  |  \"menu_item_health_metrics\": [    |\n",
      "|           |                |             |                    |                |                        |                 |                    |                     |                  |    {                              |\n",
      "|           |                |             |                    |                |                        |                 |                    |                     |                  |      \"ingredients\": [             |\n",
      "|           |                |             |                    |                |                        |                 |                    |                     |                  |        \"12 Oz Bottle Water\"       |\n",
      "|           |                |             |                    |                |                        |                 |                    |                     |                  |      ],                           |\n",
      "|           |                |             |                    |                |                        |                 |                    |                     |                  |      \"is_dairy_free_flag\": \"Y\",   |\n",
      "|           |                |             |                    |                |                        |                 |                    |                     |                  |      \"is_gluten_free_flag\": \"Y\",  |\n",
      "|           |                |             |                    |                |                        |                 |                    |                     |                  |      \"is_healthy_flag\": \"Y\",      |\n",
      "|           |                |             |                    |                |                        |                 |                    |                     |                  |      \"is_nut_free_flag\": \"Y\"      |\n",
      "|           |                |             |                    |                |                        |                 |                    |                     |                  |    }                              |\n",
      "|           |                |             |                    |                |                        |                 |                    |                     |                  |  ],                               |\n",
      "|           |                |             |                    |                |                        |                 |                    |                     |                  |  \"menu_item_id\": 24               |\n",
      "|           |                |             |                    |                |                        |                 |                    |                     |                  |}                                  |\n",
      "|10015      |2               |BBQ          |Smoky BBQ           |25              |Bottled Soda            |Beverage         |Cold Option         |0.5000               |3.0000            |{                                  |\n",
      "|           |                |             |                    |                |                        |                 |                    |                     |                  |  \"menu_item_health_metrics\": [    |\n",
      "|           |                |             |                    |                |                        |                 |                    |                     |                  |    {                              |\n",
      "|           |                |             |                    |                |                        |                 |                    |                     |                  |      \"ingredients\": [             |\n",
      "|           |                |             |                    |                |                        |                 |                    |                     |                  |        \"12 Oz Bottle Soda\"        |\n",
      "|           |                |             |                    |                |                        |                 |                    |                     |                  |      ],                           |\n",
      "|           |                |             |                    |                |                        |                 |                    |                     |                  |      \"is_dairy_free_flag\": \"Y\",   |\n",
      "|           |                |             |                    |                |                        |                 |                    |                     |                  |      \"is_gluten_free_flag\": \"Y\",  |\n",
      "|           |                |             |                    |                |                        |                 |                    |                     |                  |      \"is_healthy_flag\": \"N\",      |\n",
      "|           |                |             |                    |                |                        |                 |                    |                     |                  |      \"is_nut_free_flag\": \"Y\"      |\n",
      "|           |                |             |                    |                |                        |                 |                    |                     |                  |    }                              |\n",
      "|           |                |             |                    |                |                        |                 |                    |                     |                  |  ],                               |\n",
      "|           |                |             |                    |                |                        |                 |                    |                     |                  |  \"menu_item_id\": 25               |\n",
      "|           |                |             |                    |                |                        |                 |                    |                     |                  |}                                  |\n",
      "|10016      |2               |BBQ          |Smoky BBQ           |26              |Ice Tea                 |Beverage         |Cold Option         |0.7500               |3.0000            |{                                  |\n",
      "|           |                |             |                    |                |                        |                 |                    |                     |                  |  \"menu_item_health_metrics\": [    |\n",
      "|           |                |             |                    |                |                        |                 |                    |                     |                  |    {                              |\n",
      "|           |                |             |                    |                |                        |                 |                    |                     |                  |      \"ingredients\": [             |\n",
      "|           |                |             |                    |                |                        |                 |                    |                     |                  |        \"12 Oz Bottle Ice Tea\"     |\n",
      "|           |                |             |                    |                |                        |                 |                    |                     |                  |      ],                           |\n",
      "|           |                |             |                    |                |                        |                 |                    |                     |                  |      \"is_dairy_free_flag\": \"Y\",   |\n",
      "|           |                |             |                    |                |                        |                 |                    |                     |                  |      \"is_gluten_free_flag\": \"Y\",  |\n",
      "|           |                |             |                    |                |                        |                 |                    |                     |                  |      \"is_healthy_flag\": \"N\",      |\n",
      "|           |                |             |                    |                |                        |                 |                    |                     |                  |      \"is_nut_free_flag\": \"Y\"      |\n",
      "|           |                |             |                    |                |                        |                 |                    |                     |                  |    }                              |\n",
      "|           |                |             |                    |                |                        |                 |                    |                     |                  |  ],                               |\n",
      "|           |                |             |                    |                |                        |                 |                    |                     |                  |  \"menu_item_id\": 26               |\n",
      "|           |                |             |                    |                |                        |                 |                    |                     |                  |}                                  |\n",
      "|10017      |2               |BBQ          |Smoky BBQ           |27              |Spring Mix Salad        |Snack            |Cold Option         |2.2500               |6.0000            |{                                  |\n",
      "|           |                |             |                    |                |                        |                 |                    |                     |                  |  \"menu_item_health_metrics\": [    |\n",
      "|           |                |             |                    |                |                        |                 |                    |                     |                  |    {                              |\n",
      "|           |                |             |                    |                |                        |                 |                    |                     |                  |      \"ingredients\": [             |\n",
      "|           |                |             |                    |                |                        |                 |                    |                     |                  |        \"Baby Lettuce\",            |\n",
      "|           |                |             |                    |                |                        |                 |                    |                     |                  |        \"Spinach\",                 |\n",
      "|           |                |             |                    |                |                        |                 |                    |                     |                  |        \"Arugula\",                 |\n",
      "|           |                |             |                    |                |                        |                 |                    |                     |                  |        \"Green Mustard\",           |\n",
      "|           |                |             |                    |                |                        |                 |                    |                     |                  |        \"Raspberry Vinaigrette\",   |\n",
      "|           |                |             |                    |                |                        |                 |                    |                     |                  |        \"Sliced Almonds\"           |\n",
      "|           |                |             |                    |                |                        |                 |                    |                     |                  |      ],                           |\n",
      "|           |                |             |                    |                |                        |                 |                    |                     |                  |      \"is_dairy_free_flag\": \"Y\",   |\n",
      "|           |                |             |                    |                |                        |                 |                    |                     |                  |      \"is_gluten_free_flag\": \"Y\",  |\n",
      "|           |                |             |                    |                |                        |                 |                    |                     |                  |      \"is_healthy_flag\": \"Y\",      |\n",
      "|           |                |             |                    |                |                        |                 |                    |                     |                  |      \"is_nut_free_flag\": \"N\"      |\n",
      "|           |                |             |                    |                |                        |                 |                    |                     |                  |    }                              |\n",
      "|           |                |             |                    |                |                        |                 |                    |                     |                  |  ],                               |\n",
      "|           |                |             |                    |                |                        |                 |                    |                     |                  |  \"menu_item_id\": 27               |\n",
      "|           |                |             |                    |                |                        |                 |                    |                     |                  |}                                  |\n",
      "|10018      |2               |BBQ          |Smoky BBQ           |28              |Rack of Pork Ribs       |Main             |Hot Option          |11.2500              |21.0000           |{                                  |\n",
      "|           |                |             |                    |                |                        |                 |                    |                     |                  |  \"menu_item_health_metrics\": [    |\n",
      "|           |                |             |                    |                |                        |                 |                    |                     |                  |    {                              |\n",
      "|           |                |             |                    |                |                        |                 |                    |                     |                  |      \"ingredients\": [             |\n",
      "|           |                |             |                    |                |                        |                 |                    |                     |                  |        \"Rack of Ribs\",            |\n",
      "|           |                |             |                    |                |                        |                 |                    |                     |                  |        \"BBQ Sauce\"                |\n",
      "|           |                |             |                    |                |                        |                 |                    |                     |                  |      ],                           |\n",
      "|           |                |             |                    |                |                        |                 |                    |                     |                  |      \"is_dairy_free_flag\": \"Y\",   |\n",
      "|           |                |             |                    |                |                        |                 |                    |                     |                  |      \"is_gluten_free_flag\": \"N\",  |\n",
      "|           |                |             |                    |                |                        |                 |                    |                     |                  |      \"is_healthy_flag\": \"N\",      |\n",
      "|           |                |             |                    |                |                        |                 |                    |                     |                  |      \"is_nut_free_flag\": \"Y\"      |\n",
      "|           |                |             |                    |                |                        |                 |                    |                     |                  |    }                              |\n",
      "|           |                |             |                    |                |                        |                 |                    |                     |                  |  ],                               |\n",
      "|           |                |             |                    |                |                        |                 |                    |                     |                  |  \"menu_item_id\": 28               |\n",
      "|           |                |             |                    |                |                        |                 |                    |                     |                  |}                                  |\n",
      "|10019      |2               |BBQ          |Smoky BBQ           |29              |Fried Pickles           |Snack            |Warm Option         |1.2500               |6.0000            |{                                  |\n",
      "|           |                |             |                    |                |                        |                 |                    |                     |                  |  \"menu_item_health_metrics\": [    |\n",
      "|           |                |             |                    |                |                        |                 |                    |                     |                  |    {                              |\n",
      "|           |                |             |                    |                |                        |                 |                    |                     |                  |      \"ingredients\": [             |\n",
      "|           |                |             |                    |                |                        |                 |                    |                     |                  |        \"Fried Pickles\"            |\n",
      "|           |                |             |                    |                |                        |                 |                    |                     |                  |      ],                           |\n",
      "|           |                |             |                    |                |                        |                 |                    |                     |                  |      \"is_dairy_free_flag\": \"Y\",   |\n",
      "|           |                |             |                    |                |                        |                 |                    |                     |                  |      \"is_gluten_free_flag\": \"N\",  |\n",
      "|           |                |             |                    |                |                        |                 |                    |                     |                  |      \"is_healthy_flag\": \"N\",      |\n",
      "|           |                |             |                    |                |                        |                 |                    |                     |                  |      \"is_nut_free_flag\": \"Y\"      |\n",
      "|           |                |             |                    |                |                        |                 |                    |                     |                  |    }                              |\n",
      "|           |                |             |                    |                |                        |                 |                    |                     |                  |  ],                               |\n",
      "|           |                |             |                    |                |                        |                 |                    |                     |                  |  \"menu_item_id\": 29               |\n",
      "|           |                |             |                    |                |                        |                 |                    |                     |                  |}                                  |\n",
      "|10020      |3               |Tacos        |Guac n' Roll        |31              |Two Taco Combo Plate    |Main             |Warm Option         |6.0000               |9.0000            |{                                  |\n",
      "|           |                |             |                    |                |                        |                 |                    |                     |                  |  \"menu_item_health_metrics\": [    |\n",
      "|           |                |             |                    |                |                        |                 |                    |                     |                  |    {                              |\n",
      "|           |                |             |                    |                |                        |                 |                    |                     |                  |      \"ingredients\": [             |\n",
      "|           |                |             |                    |                |                        |                 |                    |                     |                  |        \"Steak Taco\",              |\n",
      "|           |                |             |                    |                |                        |                 |                    |                     |                  |        \"Chicken Taco\",            |\n",
      "|           |                |             |                    |                |                        |                 |                    |                     |                  |        \"Taco Shell\",              |\n",
      "|           |                |             |                    |                |                        |                 |                    |                     |                  |        \"Rice\",                    |\n",
      "|           |                |             |                    |                |                        |                 |                    |                     |                  |        \"Beans\",                   |\n",
      "|           |                |             |                    |                |                        |                 |                    |                     |                  |        \"Avocado\",                 |\n",
      "|           |                |             |                    |                |                        |                 |                    |                     |                  |        \"Cilantro\",                |\n",
      "|           |                |             |                    |                |                        |                 |                    |                     |                  |        \"Salsa\"                    |\n",
      "|           |                |             |                    |                |                        |                 |                    |                     |                  |      ],                           |\n",
      "|           |                |             |                    |                |                        |                 |                    |                     |                  |      \"is_dairy_free_flag\": \"Y\",   |\n",
      "|           |                |             |                    |                |                        |                 |                    |                     |                  |      \"is_gluten_free_flag\": \"N\",  |\n",
      "|           |                |             |                    |                |                        |                 |                    |                     |                  |      \"is_healthy_flag\": \"N\",      |\n",
      "|           |                |             |                    |                |                        |                 |                    |                     |                  |      \"is_nut_free_flag\": \"Y\"      |\n",
      "|           |                |             |                    |                |                        |                 |                    |                     |                  |    }                              |\n",
      "|           |                |             |                    |                |                        |                 |                    |                     |                  |  ],                               |\n",
      "|           |                |             |                    |                |                        |                 |                    |                     |                  |  \"menu_item_id\": 31               |\n",
      "|           |                |             |                    |                |                        |                 |                    |                     |                  |}                                  |\n",
      "|10021      |3               |Tacos        |Guac n' Roll        |32              |Three Taco Combo Plate  |Main             |Warm Option         |7.0000               |11.0000           |{                                  |\n",
      "|           |                |             |                    |                |                        |                 |                    |                     |                  |  \"menu_item_health_metrics\": [    |\n",
      "|           |                |             |                    |                |                        |                 |                    |                     |                  |    {                              |\n",
      "|           |                |             |                    |                |                        |                 |                    |                     |                  |      \"ingredients\": [             |\n",
      "|           |                |             |                    |                |                        |                 |                    |                     |                  |        \"Steak Taco\",              |\n",
      "|           |                |             |                    |                |                        |                 |                    |                     |                  |        \"Chicken Taco\",            |\n",
      "|           |                |             |                    |                |                        |                 |                    |                     |                  |        \"Taco Shell\",              |\n",
      "|           |                |             |                    |                |                        |                 |                    |                     |                  |        \"Vegetarian Taco\",         |\n",
      "|           |                |             |                    |                |                        |                 |                    |                     |                  |        \"Rice\",                    |\n",
      "|           |                |             |                    |                |                        |                 |                    |                     |                  |        \"Beans\"                    |\n",
      "|           |                |             |                    |                |                        |                 |                    |                     |                  |      ],                           |\n",
      "|           |                |             |                    |                |                        |                 |                    |                     |                  |      \"is_dairy_free_flag\": \"Y\",   |\n",
      "|           |                |             |                    |                |                        |                 |                    |                     |                  |      \"is_gluten_free_flag\": \"N\",  |\n",
      "|           |                |             |                    |                |                        |                 |                    |                     |                  |      \"is_healthy_flag\": \"N\",      |\n",
      "|           |                |             |                    |                |                        |                 |                    |                     |                  |      \"is_nut_free_flag\": \"Y\"      |\n",
      "|           |                |             |                    |                |                        |                 |                    |                     |                  |    }                              |\n",
      "|           |                |             |                    |                |                        |                 |                    |                     |                  |  ],                               |\n",
      "|           |                |             |                    |                |                        |                 |                    |                     |                  |  \"menu_item_id\": 32               |\n",
      "|           |                |             |                    |                |                        |                 |                    |                     |                  |}                                  |\n",
      "|10022      |3               |Tacos        |Guac n' Roll        |33              |Veggie Taco Bowl        |Main             |Warm Option         |6.0000               |10.0000           |{                                  |\n",
      "|           |                |             |                    |                |                        |                 |                    |                     |                  |  \"menu_item_health_metrics\": [    |\n",
      "|           |                |             |                    |                |                        |                 |                    |                     |                  |    {                              |\n",
      "|           |                |             |                    |                |                        |                 |                    |                     |                  |      \"ingredients\": [             |\n",
      "|           |                |             |                    |                |                        |                 |                    |                     |                  |        \"Fajitas\",                 |\n",
      "|           |                |             |                    |                |                        |                 |                    |                     |                  |        \"Taco Shell\",              |\n",
      "|           |                |             |                    |                |                        |                 |                    |                     |                  |        \"Rice\",                    |\n",
      "|           |                |             |                    |                |                        |                 |                    |                     |                  |        \"Beans\",                   |\n",
      "|           |                |             |                    |                |                        |                 |                    |                     |                  |        \"Cilantro\",                |\n",
      "|           |                |             |                    |                |                        |                 |                    |                     |                  |        \"Salsa\"                    |\n",
      "|           |                |             |                    |                |                        |                 |                    |                     |                  |      ],                           |\n",
      "|           |                |             |                    |                |                        |                 |                    |                     |                  |      \"is_dairy_free_flag\": \"Y\",   |\n",
      "|           |                |             |                    |                |                        |                 |                    |                     |                  |      \"is_gluten_free_flag\": \"N\",  |\n",
      "|           |                |             |                    |                |                        |                 |                    |                     |                  |      \"is_healthy_flag\": \"N\",      |\n",
      "|           |                |             |                    |                |                        |                 |                    |                     |                  |      \"is_nut_free_flag\": \"Y\"      |\n",
      "|           |                |             |                    |                |                        |                 |                    |                     |                  |    }                              |\n",
      "|           |                |             |                    |                |                        |                 |                    |                     |                  |  ],                               |\n",
      "|           |                |             |                    |                |                        |                 |                    |                     |                  |  \"menu_item_id\": 33               |\n",
      "|           |                |             |                    |                |                        |                 |                    |                     |                  |}                                  |\n",
      "-------------------------------------------------------------------------------------------------------------------------------------------------------------------------------------------------------------------------------\n",
      "\n"
     ]
    }
   ],
   "source": [
    "menu_df.show()"
   ]
  },
  {
   "cell_type": "code",
   "execution_count": 59,
   "metadata": {},
   "outputs": [
    {
     "name": "stdout",
     "output_type": "stream",
     "text": [
      "----------------\n",
      "|\"MIN(COUNT)\"  |\n",
      "----------------\n",
      "|8850          |\n",
      "----------------\n",
      "\n"
     ]
    }
   ],
   "source": [
    "#Minimum order transaction by a truck\n",
    "order_header_df.group_by(\"TRUCK_ID\").agg(F.count(\"ORDER_ID\").alias('count')).agg(F.min('count')).show()"
   ]
  },
  {
   "cell_type": "code",
   "execution_count": 60,
   "metadata": {},
   "outputs": [],
   "source": [
    "#order_header_df.drop_duplicates('ORDER_ID').group_by('ORDER_ID').agg(F.count('ORDER_ID').alias('nnn')).agg(F.sum('NNN')).show()"
   ]
  },
  {
   "cell_type": "code",
   "execution_count": 61,
   "metadata": {},
   "outputs": [],
   "source": [
    "#order_detail_df.drop_duplicates('ORDER_ID').group_by('ORDER_ID').agg(F.count('ORDER_ID').alias('nnn')).agg(F.sum('NNN')).show()"
   ]
  },
  {
   "cell_type": "code",
   "execution_count": 62,
   "metadata": {},
   "outputs": [],
   "source": [
    "order_truck = order_header_df.select('ORDER_ID', 'TRUCK_ID', 'ORDER_TS')\n",
    "df = order_detail_df.join(order_truck, order_detail_df.ORDER_ID == order_truck.ORDER_ID, how = \"left\", lsuffix = \"\", rsuffix = \"_01\")"
   ]
  },
  {
   "cell_type": "code",
   "execution_count": 63,
   "metadata": {},
   "outputs": [
    {
     "name": "stdout",
     "output_type": "stream",
     "text": [
      "-----------------------------------------------------------------------------------------------------------------------------------------------------------------------------------------------------------\n",
      "|\"ORDER_DETAIL_ID\"  |\"ORDER_ID\"  |\"MENU_ITEM_ID\"  |\"DISCOUNT_ID\"  |\"LINE_NUMBER\"  |\"QUANTITY\"  |\"UNIT_PRICE\"  |\"PRICE\"  |\"ORDER_ITEM_DISCOUNT_AMOUNT\"  |\"ORDER_ID_01\"  |\"TRUCK_ID\"  |\"ORDER_TS\"           |\n",
      "-----------------------------------------------------------------------------------------------------------------------------------------------------------------------------------------------------------\n",
      "|798202497          |420427397   |133             |NULL           |0              |1           |6.0000        |6.0000   |NULL                          |420427397      |433         |2022-04-10 19:42:18  |\n",
      "|798202503          |420427400   |131             |NULL           |0              |4           |13.0000       |52.0000  |NULL                          |420427400      |433         |2022-04-10 19:44:21  |\n",
      "|798202504          |420427400   |132             |NULL           |1              |4           |11.0000       |44.0000  |NULL                          |420427400      |433         |2022-04-10 19:44:21  |\n",
      "|798202496          |420427396   |133             |NULL           |0              |1           |6.0000        |6.0000   |NULL                          |420427396      |433         |2022-04-10 19:42:15  |\n",
      "|798202495          |420427395   |131             |NULL           |0              |1           |13.0000       |13.0000  |NULL                          |420427395      |433         |2022-04-10 19:38:13  |\n",
      "|798202498          |420427398   |133             |NULL           |0              |1           |6.0000        |6.0000   |NULL                          |420427398      |433         |2022-04-10 19:42:32  |\n",
      "|798202499          |420427399   |131             |NULL           |0              |2           |13.0000       |26.0000  |NULL                          |420427399      |433         |2022-04-10 19:42:48  |\n",
      "|798202500          |420427399   |132             |NULL           |1              |1           |11.0000       |11.0000  |NULL                          |420427399      |433         |2022-04-10 19:42:48  |\n",
      "|798202501          |420427399   |133             |NULL           |2              |2           |6.0000        |12.0000  |NULL                          |420427399      |433         |2022-04-10 19:42:48  |\n",
      "|798202502          |420427399   |134             |NULL           |3              |1           |2.0000        |2.0000   |NULL                          |420427399      |433         |2022-04-10 19:42:48  |\n",
      "-----------------------------------------------------------------------------------------------------------------------------------------------------------------------------------------------------------\n",
      "\n"
     ]
    }
   ],
   "source": [
    "df.show()"
   ]
  },
  {
   "cell_type": "code",
   "execution_count": 64,
   "metadata": {},
   "outputs": [],
   "source": [
    "df = df.with_column('ORDER_YEAR', F.year(F.col('ORDER_TS')))\n",
    "df = df.with_column('ORDER_MONTH', F.month(F.col('ORDER_TS')))"
   ]
  },
  {
   "cell_type": "code",
   "execution_count": 65,
   "metadata": {},
   "outputs": [],
   "source": [
    "#df.show()"
   ]
  },
  {
   "cell_type": "code",
   "execution_count": 66,
   "metadata": {},
   "outputs": [],
   "source": [
    "#df.describe().show()"
   ]
  },
  {
   "cell_type": "code",
   "execution_count": 67,
   "metadata": {},
   "outputs": [],
   "source": [
    "demand_df = df.group_by(\"TRUCK_ID\", 'MENU_ITEM_ID', 'ORDER_YEAR', 'ORDER_MONTH').agg(F.sum(\"QUANTITY\").alias('DEMAND'))\n",
    "#demand_df.sort('TRUCK_ID').show()"
   ]
  },
  {
   "cell_type": "code",
   "execution_count": 68,
   "metadata": {},
   "outputs": [],
   "source": [
    "unit_price = df.group_by(\"TRUCK_ID\", 'MENU_ITEM_ID', 'ORDER_YEAR', 'ORDER_MONTH').agg(F.mean(\"unit_price\").alias('unit_price'))\n",
    "#unit_price.sort('TRUCK_ID').show()"
   ]
  },
  {
   "cell_type": "code",
   "execution_count": 69,
   "metadata": {},
   "outputs": [],
   "source": [
    "final_df = demand_df.join(unit_price, on= ['TRUCK_ID', 'MENU_ITEM_ID', 'ORDER_YEAR', 'ORDER_MONTH'], lsuffix = \"\", rsuffix = \"_01\")"
   ]
  },
  {
   "cell_type": "code",
   "execution_count": 70,
   "metadata": {},
   "outputs": [
    {
     "name": "stdout",
     "output_type": "stream",
     "text": [
      "-----------------------------------------------------------------------------------------------------------------------------------------------------------------------------------------------------------------------------------\n",
      "|\"TRUCK_ID\"  |\"MENU_TYPE_ID\"  |\"PRIMARY_CITY\"  |\"REGION\"    |\"ISO_REGION\"  |\"COUNTRY\"      |\"ISO_COUNTRY_CODE\"  |\"FRANCHISE_FLAG\"  |\"YEAR\"  |\"MAKE\"        |\"MODEL\"           |\"EV_FLAG\"  |\"FRANCHISE_ID\"  |\"TRUCK_OPENING_DATE\"  |\n",
      "-----------------------------------------------------------------------------------------------------------------------------------------------------------------------------------------------------------------------------------\n",
      "|3           |3               |San Mateo       |California  |CA            |United States  |US                  |1                 |2004    |Freightliner  |MT45 Utilimaster  |0          |2               |2021-10-01            |\n",
      "|4           |4               |San Mateo       |California  |CA            |United States  |US                  |1                 |1997    |Chevrolet     |P30               |1          |3               |2021-01-01            |\n",
      "|5           |5               |San Mateo       |California  |CA            |United States  |US                  |1                 |2010    |Custom        |Van               |1          |4               |2022-04-01            |\n",
      "|6           |6               |San Mateo       |California  |CA            |United States  |US                  |1                 |2010    |Airstream     |Trailer           |0          |5               |2019-07-01            |\n",
      "|7           |7               |San Mateo       |California  |CA            |United States  |US                  |1                 |2010    |Custom        |Van               |0          |6               |2021-01-01            |\n",
      "|8           |8               |San Mateo       |California  |CA            |United States  |US                  |1                 |1999    |Chevrolet     |P30               |1          |7               |2022-04-01            |\n",
      "|9           |9               |San Mateo       |California  |CA            |United States  |US                  |1                 |2008    |Custom        |Box Truck         |0          |8               |2020-07-01            |\n",
      "|12          |12              |San Mateo       |California  |CA            |United States  |US                  |1                 |2010    |Custom        |Van               |0          |11              |2021-04-01            |\n",
      "|13          |13              |San Mateo       |California  |CA            |United States  |US                  |1                 |2000    |Freightliner  |MT45 Utilimaster  |0          |12              |2021-07-01            |\n",
      "|14          |14              |San Mateo       |California  |CA            |United States  |US                  |1                 |2004    |Freightliner  |MT45 Utilimaster  |0          |12              |2020-10-01            |\n",
      "-----------------------------------------------------------------------------------------------------------------------------------------------------------------------------------------------------------------------------------\n",
      "\n"
     ]
    }
   ],
   "source": [
    "truck_df.show()"
   ]
  },
  {
   "cell_type": "code",
   "execution_count": 71,
   "metadata": {},
   "outputs": [],
   "source": [
    "#truck_df = truck_df.filter(F.col('COUNTRY') == 'United States')"
   ]
  },
  {
   "cell_type": "code",
   "execution_count": 72,
   "metadata": {},
   "outputs": [
    {
     "name": "stdout",
     "output_type": "stream",
     "text": [
      "------------------------------------------\n",
      "|\"TRUCK_ID\"  |\"EV_FLAG\"  |\"DAYS_OPENED\"  |\n",
      "------------------------------------------\n",
      "|3           |0          |382            |\n",
      "|4           |1          |655            |\n",
      "|5           |1          |200            |\n",
      "|6           |0          |1205           |\n",
      "|7           |0          |655            |\n",
      "|8           |1          |200            |\n",
      "|9           |0          |839            |\n",
      "|12          |0          |565            |\n",
      "|13          |0          |474            |\n",
      "|14          |0          |747            |\n",
      "------------------------------------------\n",
      "\n"
     ]
    }
   ],
   "source": [
    "truck = truck_df.with_column('LAST_DATE', F.iff(F.col(\"TRUCK_ID\") == F.col('TRUCK_ID'), \"2022-10-18\", '0'))\n",
    "truck = truck.withColumn(\"DAYS_OPENED\", F.datediff(\"day\", F.col(\"TRUCK_OPENING_DATE\"), F.col('LAST_DATE')))\n",
    "#truck = truck.select('TRUCK_ID', 'PRIMARY_CITY', 'REGION', 'COUNTRY', 'DAYS_OPENED')\n",
    "truck = truck.select('TRUCK_ID','EV_FLAG','DAYS_OPENED')\n",
    "\n",
    "truck.show()"
   ]
  },
  {
   "cell_type": "code",
   "execution_count": 73,
   "metadata": {},
   "outputs": [],
   "source": [
    "final_df = final_df.join(truck, on= ['TRUCK_ID'], lsuffix = \"\", rsuffix = \"_01\")"
   ]
  },
  {
   "cell_type": "code",
   "execution_count": 74,
   "metadata": {},
   "outputs": [
    {
     "name": "stdout",
     "output_type": "stream",
     "text": [
      "-------------------------------------------------------------------------------------------------------------------------------------------------------------------------------------------\n",
      "|\"MENU_ID\"  |\"MENU_TYPE_ID\"  |\"MENU_TYPE\"   |\"TRUCK_BRAND_NAME\"  |\"MENU_ITEM_ID\"  |\"MENU_ITEM_NAME\"       |\"ITEM_CATEGORY\"  |\"ITEM_SUBCATEGORY\"  |\"COST_OF_GOODS_USD\"  |\"SALE_PRICE_USD\"  |\n",
      "-------------------------------------------------------------------------------------------------------------------------------------------------------------------------------------------\n",
      "|10026      |3               |Tacos         |Guac n' Roll        |37              |Chicken Burrito        |Main             |Warm Option         |3.2500               |12.5000           |\n",
      "|10027      |3               |Tacos         |Guac n' Roll        |38              |Lean Burrito Bowl      |Main             |Warm Option         |3.5000               |12.5000           |\n",
      "|10028      |3               |Tacos         |Guac n' Roll        |39              |Fish Burrito           |Main             |Warm Option         |3.7500               |12.5000           |\n",
      "|10029      |4               |Mac & Cheese  |The Mac Shack       |41              |Standard Mac & Cheese  |Main             |Hot Option          |3.0000               |8.0000            |\n",
      "|10030      |4               |Mac & Cheese  |The Mac Shack       |42              |Buffalo Mac & Cheese   |Main             |Hot Option          |6.0000               |10.0000           |\n",
      "|10031      |4               |Mac & Cheese  |The Mac Shack       |43              |Lobster Mac & Cheese   |Main             |Hot Option          |10.0000              |15.0000           |\n",
      "|10032      |4               |Mac & Cheese  |The Mac Shack       |44              |Bottled Water          |Beverage         |Cold Option         |0.5000               |2.0000            |\n",
      "|10033      |4               |Mac & Cheese  |The Mac Shack       |45              |Bottled Soda           |Beverage         |Cold Option         |0.5000               |3.0000            |\n",
      "|10034      |4               |Mac & Cheese  |The Mac Shack       |46              |Ice Tea                |Beverage         |Cold Option         |0.7500               |3.0000            |\n",
      "|10035      |5               |Ramen         |Kitakata Ramen Bar  |51              |Creamy Chicken Ramen   |Main             |Hot Option          |8.0000               |17.2500           |\n",
      "-------------------------------------------------------------------------------------------------------------------------------------------------------------------------------------------\n",
      "\n"
     ]
    }
   ],
   "source": [
    "menu = menu_df.drop('MENU_ITEM_HEALTH_METRICS_OBJ')\n",
    "menu.show()"
   ]
  },
  {
   "cell_type": "code",
   "execution_count": 75,
   "metadata": {},
   "outputs": [
    {
     "name": "stdout",
     "output_type": "stream",
     "text": [
      "--------------------------------------------------------------------------------------------------\n",
      "|\"MENU_ITEM_ID\"  |\"MENU_TYPE_ID\"  |\"TEMPERATURE_OPTION\"  |\"COST_OF_GOODS_USD\"  |\"ITEM_CATEGORY\"  |\n",
      "--------------------------------------------------------------------------------------------------\n",
      "|23              |2               |1                     |7.0000               |Main             |\n",
      "|24              |2               |0                     |0.5000               |Beverage         |\n",
      "|25              |2               |0                     |0.5000               |Beverage         |\n",
      "|26              |2               |0                     |0.7500               |Beverage         |\n",
      "|27              |2               |0                     |2.2500               |Snack            |\n",
      "|28              |2               |2                     |11.2500              |Main             |\n",
      "|29              |2               |1                     |1.2500               |Snack            |\n",
      "|31              |3               |1                     |6.0000               |Main             |\n",
      "|32              |3               |1                     |7.0000               |Main             |\n",
      "|33              |3               |1                     |6.0000               |Main             |\n",
      "--------------------------------------------------------------------------------------------------\n",
      "\n"
     ]
    }
   ],
   "source": [
    "menu = menu.with_column('TEMPERATURE_OPTION', F.when(F.col('ITEM_SUBCATEGORY') == 'Cold Option', 0).when(\n",
    "    F.col('ITEM_SUBCATEGORY') == 'Warm Option', 1).otherwise(2))\n",
    "menu = menu.select('MENU_ITEM_ID', 'MENU_TYPE_ID', 'TEMPERATURE_OPTION', 'COST_OF_GOODS_USD', 'ITEM_CATEGORY') #Add item category and ohe in pandas\n",
    "menu.show()"
   ]
  },
  {
   "cell_type": "code",
   "execution_count": 76,
   "metadata": {},
   "outputs": [],
   "source": [
    "final_df = final_df.join(menu, on= ['MENU_ITEM_ID'], lsuffix = \"\", rsuffix = \"_01\")"
   ]
  },
  {
   "cell_type": "code",
   "execution_count": 77,
   "metadata": {},
   "outputs": [],
   "source": [
    "#final_df.show()"
   ]
  },
  {
   "cell_type": "code",
   "execution_count": 78,
   "metadata": {},
   "outputs": [],
   "source": [
    "#final_df.sort(['ORDER_YEAR', 'ORDER_MONTH'], ascending=[False, False]).show()"
   ]
  },
  {
   "cell_type": "code",
   "execution_count": 79,
   "metadata": {},
   "outputs": [],
   "source": [
    "import feature_engine\n",
    "from feature_engine.encoding import OneHotEncoder\n",
    "\n",
    "final_df = final_df.to_pandas()\n",
    "ohe_enc = OneHotEncoder(\n",
    "    top_categories=None,\n",
    "    drop_last=False,\n",
    "    variables= ['ITEM_CATEGORY'])  # to return k-1, false to return k\n",
    "\n",
    "\n",
    "ohe_enc.fit(final_df)\n",
    "final_df = ohe_enc.transform(final_df)"
   ]
  },
  {
   "cell_type": "code",
   "execution_count": 80,
   "metadata": {},
   "outputs": [
    {
     "name": "stdout",
     "output_type": "stream",
     "text": [
      "<class 'pandas.core.frame.DataFrame'>\n",
      "RangeIndex: 60291 entries, 0 to 60290\n",
      "Data columns (total 15 columns):\n",
      " #   Column                  Non-Null Count  Dtype  \n",
      "---  ------                  --------------  -----  \n",
      " 0   MENU_ITEM_ID            60291 non-null  int16  \n",
      " 1   TRUCK_ID                60291 non-null  int16  \n",
      " 2   ORDER_YEAR              60291 non-null  int16  \n",
      " 3   ORDER_MONTH             60291 non-null  int8   \n",
      " 4   DEMAND                  60291 non-null  int64  \n",
      " 5   UNIT_PRICE              60291 non-null  object \n",
      " 6   EV_FLAG                 60291 non-null  int8   \n",
      " 7   DAYS_OPENED             60291 non-null  int32  \n",
      " 8   MENU_TYPE_ID            60291 non-null  int8   \n",
      " 9   TEMPERATURE_OPTION      60291 non-null  int8   \n",
      " 10  COST_OF_GOODS_USD       60291 non-null  float64\n",
      " 11  ITEM_CATEGORY_Beverage  60291 non-null  int32  \n",
      " 12  ITEM_CATEGORY_Main      60291 non-null  int32  \n",
      " 13  ITEM_CATEGORY_Dessert   60291 non-null  int32  \n",
      " 14  ITEM_CATEGORY_Snack     60291 non-null  int32  \n",
      "dtypes: float64(1), int16(3), int32(5), int64(1), int8(4), object(1)\n",
      "memory usage: 3.1+ MB\n"
     ]
    }
   ],
   "source": [
    "final_df.info()"
   ]
  },
  {
   "cell_type": "code",
   "execution_count": 81,
   "metadata": {},
   "outputs": [
    {
     "name": "stderr",
     "output_type": "stream",
     "text": [
      "C:\\Users\\tanko\\AppData\\Local\\Temp\\ipykernel_21632\\2626907977.py:1: FutureWarning: The default value of numeric_only in DataFrame.corr is deprecated. In a future version, it will default to False. Select only valid columns or specify the value of numeric_only to silence this warning.\n",
      "  final_df.corr()\n"
     ]
    },
    {
     "data": {
      "text/html": [
       "<div>\n",
       "<style scoped>\n",
       "    .dataframe tbody tr th:only-of-type {\n",
       "        vertical-align: middle;\n",
       "    }\n",
       "\n",
       "    .dataframe tbody tr th {\n",
       "        vertical-align: top;\n",
       "    }\n",
       "\n",
       "    .dataframe thead th {\n",
       "        text-align: right;\n",
       "    }\n",
       "</style>\n",
       "<table border=\"1\" class=\"dataframe\">\n",
       "  <thead>\n",
       "    <tr style=\"text-align: right;\">\n",
       "      <th></th>\n",
       "      <th>MENU_ITEM_ID</th>\n",
       "      <th>TRUCK_ID</th>\n",
       "      <th>ORDER_YEAR</th>\n",
       "      <th>ORDER_MONTH</th>\n",
       "      <th>DEMAND</th>\n",
       "      <th>EV_FLAG</th>\n",
       "      <th>DAYS_OPENED</th>\n",
       "      <th>MENU_TYPE_ID</th>\n",
       "      <th>TEMPERATURE_OPTION</th>\n",
       "      <th>COST_OF_GOODS_USD</th>\n",
       "      <th>ITEM_CATEGORY_Beverage</th>\n",
       "      <th>ITEM_CATEGORY_Main</th>\n",
       "      <th>ITEM_CATEGORY_Dessert</th>\n",
       "      <th>ITEM_CATEGORY_Snack</th>\n",
       "    </tr>\n",
       "  </thead>\n",
       "  <tbody>\n",
       "    <tr>\n",
       "      <th>MENU_ITEM_ID</th>\n",
       "      <td>1.000000</td>\n",
       "      <td>0.029032</td>\n",
       "      <td>0.016474</td>\n",
       "      <td>0.003368</td>\n",
       "      <td>0.132419</td>\n",
       "      <td>-0.126577</td>\n",
       "      <td>-0.032044</td>\n",
       "      <td>0.998925</td>\n",
       "      <td>0.035485</td>\n",
       "      <td>0.060110</td>\n",
       "      <td>0.117394</td>\n",
       "      <td>0.070062</td>\n",
       "      <td>-0.346218</td>\n",
       "      <td>-0.059890</td>\n",
       "    </tr>\n",
       "    <tr>\n",
       "      <th>TRUCK_ID</th>\n",
       "      <td>0.029032</td>\n",
       "      <td>1.000000</td>\n",
       "      <td>0.025548</td>\n",
       "      <td>-0.003171</td>\n",
       "      <td>0.239371</td>\n",
       "      <td>0.075438</td>\n",
       "      <td>-0.044308</td>\n",
       "      <td>0.029083</td>\n",
       "      <td>-0.006986</td>\n",
       "      <td>0.004133</td>\n",
       "      <td>0.003132</td>\n",
       "      <td>-0.004954</td>\n",
       "      <td>0.008007</td>\n",
       "      <td>-0.004291</td>\n",
       "    </tr>\n",
       "    <tr>\n",
       "      <th>ORDER_YEAR</th>\n",
       "      <td>0.016474</td>\n",
       "      <td>0.025548</td>\n",
       "      <td>1.000000</td>\n",
       "      <td>-0.161856</td>\n",
       "      <td>-0.011683</td>\n",
       "      <td>0.308498</td>\n",
       "      <td>-0.540929</td>\n",
       "      <td>0.016692</td>\n",
       "      <td>-0.004068</td>\n",
       "      <td>-0.005345</td>\n",
       "      <td>0.003640</td>\n",
       "      <td>0.000978</td>\n",
       "      <td>-0.000222</td>\n",
       "      <td>-0.010105</td>\n",
       "    </tr>\n",
       "    <tr>\n",
       "      <th>ORDER_MONTH</th>\n",
       "      <td>0.003368</td>\n",
       "      <td>-0.003171</td>\n",
       "      <td>-0.161856</td>\n",
       "      <td>1.000000</td>\n",
       "      <td>-0.068573</td>\n",
       "      <td>-0.007347</td>\n",
       "      <td>-0.032374</td>\n",
       "      <td>0.003372</td>\n",
       "      <td>0.000580</td>\n",
       "      <td>0.001230</td>\n",
       "      <td>0.000330</td>\n",
       "      <td>-0.000358</td>\n",
       "      <td>-0.001694</td>\n",
       "      <td>0.001816</td>\n",
       "    </tr>\n",
       "    <tr>\n",
       "      <th>DEMAND</th>\n",
       "      <td>0.132419</td>\n",
       "      <td>0.239371</td>\n",
       "      <td>-0.011683</td>\n",
       "      <td>-0.068573</td>\n",
       "      <td>1.000000</td>\n",
       "      <td>0.023086</td>\n",
       "      <td>-0.014647</td>\n",
       "      <td>0.151374</td>\n",
       "      <td>0.574723</td>\n",
       "      <td>0.501136</td>\n",
       "      <td>-0.590446</td>\n",
       "      <td>0.557560</td>\n",
       "      <td>-0.036196</td>\n",
       "      <td>0.118869</td>\n",
       "    </tr>\n",
       "    <tr>\n",
       "      <th>EV_FLAG</th>\n",
       "      <td>-0.126577</td>\n",
       "      <td>0.075438</td>\n",
       "      <td>0.308498</td>\n",
       "      <td>-0.007347</td>\n",
       "      <td>0.023086</td>\n",
       "      <td>1.000000</td>\n",
       "      <td>-0.554058</td>\n",
       "      <td>-0.126992</td>\n",
       "      <td>-0.012098</td>\n",
       "      <td>-0.020064</td>\n",
       "      <td>-0.015059</td>\n",
       "      <td>0.008221</td>\n",
       "      <td>0.026077</td>\n",
       "      <td>-0.011620</td>\n",
       "    </tr>\n",
       "    <tr>\n",
       "      <th>DAYS_OPENED</th>\n",
       "      <td>-0.032044</td>\n",
       "      <td>-0.044308</td>\n",
       "      <td>-0.540929</td>\n",
       "      <td>-0.032374</td>\n",
       "      <td>-0.014647</td>\n",
       "      <td>-0.554058</td>\n",
       "      <td>1.000000</td>\n",
       "      <td>-0.032443</td>\n",
       "      <td>0.006993</td>\n",
       "      <td>0.008885</td>\n",
       "      <td>-0.006809</td>\n",
       "      <td>-0.001551</td>\n",
       "      <td>0.001480</td>\n",
       "      <td>0.017174</td>\n",
       "    </tr>\n",
       "    <tr>\n",
       "      <th>MENU_TYPE_ID</th>\n",
       "      <td>0.998925</td>\n",
       "      <td>0.029083</td>\n",
       "      <td>0.016692</td>\n",
       "      <td>0.003372</td>\n",
       "      <td>0.151374</td>\n",
       "      <td>-0.126992</td>\n",
       "      <td>-0.032443</td>\n",
       "      <td>1.000000</td>\n",
       "      <td>0.061084</td>\n",
       "      <td>0.084060</td>\n",
       "      <td>0.095413</td>\n",
       "      <td>0.095795</td>\n",
       "      <td>-0.349310</td>\n",
       "      <td>-0.064737</td>\n",
       "    </tr>\n",
       "    <tr>\n",
       "      <th>TEMPERATURE_OPTION</th>\n",
       "      <td>0.035485</td>\n",
       "      <td>-0.006986</td>\n",
       "      <td>-0.004068</td>\n",
       "      <td>0.000580</td>\n",
       "      <td>0.574723</td>\n",
       "      <td>-0.012098</td>\n",
       "      <td>0.006993</td>\n",
       "      <td>0.061084</td>\n",
       "      <td>1.000000</td>\n",
       "      <td>0.801614</td>\n",
       "      <td>-0.776153</td>\n",
       "      <td>0.847500</td>\n",
       "      <td>-0.205802</td>\n",
       "      <td>0.065245</td>\n",
       "    </tr>\n",
       "    <tr>\n",
       "      <th>COST_OF_GOODS_USD</th>\n",
       "      <td>0.060110</td>\n",
       "      <td>0.004133</td>\n",
       "      <td>-0.005345</td>\n",
       "      <td>0.001230</td>\n",
       "      <td>0.501136</td>\n",
       "      <td>-0.020064</td>\n",
       "      <td>0.008885</td>\n",
       "      <td>0.084060</td>\n",
       "      <td>0.801614</td>\n",
       "      <td>1.000000</td>\n",
       "      <td>-0.756692</td>\n",
       "      <td>0.816159</td>\n",
       "      <td>-0.108054</td>\n",
       "      <td>-0.009970</td>\n",
       "    </tr>\n",
       "    <tr>\n",
       "      <th>ITEM_CATEGORY_Beverage</th>\n",
       "      <td>0.117394</td>\n",
       "      <td>0.003132</td>\n",
       "      <td>0.003640</td>\n",
       "      <td>0.000330</td>\n",
       "      <td>-0.590446</td>\n",
       "      <td>-0.015059</td>\n",
       "      <td>-0.006809</td>\n",
       "      <td>0.095413</td>\n",
       "      <td>-0.776153</td>\n",
       "      <td>-0.756692</td>\n",
       "      <td>1.000000</td>\n",
       "      <td>-0.803901</td>\n",
       "      <td>-0.225530</td>\n",
       "      <td>-0.216428</td>\n",
       "    </tr>\n",
       "    <tr>\n",
       "      <th>ITEM_CATEGORY_Main</th>\n",
       "      <td>0.070062</td>\n",
       "      <td>-0.004954</td>\n",
       "      <td>0.000978</td>\n",
       "      <td>-0.000358</td>\n",
       "      <td>0.557560</td>\n",
       "      <td>0.008221</td>\n",
       "      <td>-0.001551</td>\n",
       "      <td>0.095795</td>\n",
       "      <td>0.847500</td>\n",
       "      <td>0.816159</td>\n",
       "      <td>-0.803901</td>\n",
       "      <td>1.000000</td>\n",
       "      <td>-0.213160</td>\n",
       "      <td>-0.204557</td>\n",
       "    </tr>\n",
       "    <tr>\n",
       "      <th>ITEM_CATEGORY_Dessert</th>\n",
       "      <td>-0.346218</td>\n",
       "      <td>0.008007</td>\n",
       "      <td>-0.000222</td>\n",
       "      <td>-0.001694</td>\n",
       "      <td>-0.036196</td>\n",
       "      <td>0.026077</td>\n",
       "      <td>0.001480</td>\n",
       "      <td>-0.349310</td>\n",
       "      <td>-0.205802</td>\n",
       "      <td>-0.108054</td>\n",
       "      <td>-0.225530</td>\n",
       "      <td>-0.213160</td>\n",
       "      <td>1.000000</td>\n",
       "      <td>-0.057387</td>\n",
       "    </tr>\n",
       "    <tr>\n",
       "      <th>ITEM_CATEGORY_Snack</th>\n",
       "      <td>-0.059890</td>\n",
       "      <td>-0.004291</td>\n",
       "      <td>-0.010105</td>\n",
       "      <td>0.001816</td>\n",
       "      <td>0.118869</td>\n",
       "      <td>-0.011620</td>\n",
       "      <td>0.017174</td>\n",
       "      <td>-0.064737</td>\n",
       "      <td>0.065245</td>\n",
       "      <td>-0.009970</td>\n",
       "      <td>-0.216428</td>\n",
       "      <td>-0.204557</td>\n",
       "      <td>-0.057387</td>\n",
       "      <td>1.000000</td>\n",
       "    </tr>\n",
       "  </tbody>\n",
       "</table>\n",
       "</div>"
      ],
      "text/plain": [
       "                        MENU_ITEM_ID  TRUCK_ID  ORDER_YEAR  ORDER_MONTH  \\\n",
       "MENU_ITEM_ID                1.000000  0.029032    0.016474     0.003368   \n",
       "TRUCK_ID                    0.029032  1.000000    0.025548    -0.003171   \n",
       "ORDER_YEAR                  0.016474  0.025548    1.000000    -0.161856   \n",
       "ORDER_MONTH                 0.003368 -0.003171   -0.161856     1.000000   \n",
       "DEMAND                      0.132419  0.239371   -0.011683    -0.068573   \n",
       "EV_FLAG                    -0.126577  0.075438    0.308498    -0.007347   \n",
       "DAYS_OPENED                -0.032044 -0.044308   -0.540929    -0.032374   \n",
       "MENU_TYPE_ID                0.998925  0.029083    0.016692     0.003372   \n",
       "TEMPERATURE_OPTION          0.035485 -0.006986   -0.004068     0.000580   \n",
       "COST_OF_GOODS_USD           0.060110  0.004133   -0.005345     0.001230   \n",
       "ITEM_CATEGORY_Beverage      0.117394  0.003132    0.003640     0.000330   \n",
       "ITEM_CATEGORY_Main          0.070062 -0.004954    0.000978    -0.000358   \n",
       "ITEM_CATEGORY_Dessert      -0.346218  0.008007   -0.000222    -0.001694   \n",
       "ITEM_CATEGORY_Snack        -0.059890 -0.004291   -0.010105     0.001816   \n",
       "\n",
       "                          DEMAND   EV_FLAG  DAYS_OPENED  MENU_TYPE_ID  \\\n",
       "MENU_ITEM_ID            0.132419 -0.126577    -0.032044      0.998925   \n",
       "TRUCK_ID                0.239371  0.075438    -0.044308      0.029083   \n",
       "ORDER_YEAR             -0.011683  0.308498    -0.540929      0.016692   \n",
       "ORDER_MONTH            -0.068573 -0.007347    -0.032374      0.003372   \n",
       "DEMAND                  1.000000  0.023086    -0.014647      0.151374   \n",
       "EV_FLAG                 0.023086  1.000000    -0.554058     -0.126992   \n",
       "DAYS_OPENED            -0.014647 -0.554058     1.000000     -0.032443   \n",
       "MENU_TYPE_ID            0.151374 -0.126992    -0.032443      1.000000   \n",
       "TEMPERATURE_OPTION      0.574723 -0.012098     0.006993      0.061084   \n",
       "COST_OF_GOODS_USD       0.501136 -0.020064     0.008885      0.084060   \n",
       "ITEM_CATEGORY_Beverage -0.590446 -0.015059    -0.006809      0.095413   \n",
       "ITEM_CATEGORY_Main      0.557560  0.008221    -0.001551      0.095795   \n",
       "ITEM_CATEGORY_Dessert  -0.036196  0.026077     0.001480     -0.349310   \n",
       "ITEM_CATEGORY_Snack     0.118869 -0.011620     0.017174     -0.064737   \n",
       "\n",
       "                        TEMPERATURE_OPTION  COST_OF_GOODS_USD  \\\n",
       "MENU_ITEM_ID                      0.035485           0.060110   \n",
       "TRUCK_ID                         -0.006986           0.004133   \n",
       "ORDER_YEAR                       -0.004068          -0.005345   \n",
       "ORDER_MONTH                       0.000580           0.001230   \n",
       "DEMAND                            0.574723           0.501136   \n",
       "EV_FLAG                          -0.012098          -0.020064   \n",
       "DAYS_OPENED                       0.006993           0.008885   \n",
       "MENU_TYPE_ID                      0.061084           0.084060   \n",
       "TEMPERATURE_OPTION                1.000000           0.801614   \n",
       "COST_OF_GOODS_USD                 0.801614           1.000000   \n",
       "ITEM_CATEGORY_Beverage           -0.776153          -0.756692   \n",
       "ITEM_CATEGORY_Main                0.847500           0.816159   \n",
       "ITEM_CATEGORY_Dessert            -0.205802          -0.108054   \n",
       "ITEM_CATEGORY_Snack               0.065245          -0.009970   \n",
       "\n",
       "                        ITEM_CATEGORY_Beverage  ITEM_CATEGORY_Main  \\\n",
       "MENU_ITEM_ID                          0.117394            0.070062   \n",
       "TRUCK_ID                              0.003132           -0.004954   \n",
       "ORDER_YEAR                            0.003640            0.000978   \n",
       "ORDER_MONTH                           0.000330           -0.000358   \n",
       "DEMAND                               -0.590446            0.557560   \n",
       "EV_FLAG                              -0.015059            0.008221   \n",
       "DAYS_OPENED                          -0.006809           -0.001551   \n",
       "MENU_TYPE_ID                          0.095413            0.095795   \n",
       "TEMPERATURE_OPTION                   -0.776153            0.847500   \n",
       "COST_OF_GOODS_USD                    -0.756692            0.816159   \n",
       "ITEM_CATEGORY_Beverage                1.000000           -0.803901   \n",
       "ITEM_CATEGORY_Main                   -0.803901            1.000000   \n",
       "ITEM_CATEGORY_Dessert                -0.225530           -0.213160   \n",
       "ITEM_CATEGORY_Snack                  -0.216428           -0.204557   \n",
       "\n",
       "                        ITEM_CATEGORY_Dessert  ITEM_CATEGORY_Snack  \n",
       "MENU_ITEM_ID                        -0.346218            -0.059890  \n",
       "TRUCK_ID                             0.008007            -0.004291  \n",
       "ORDER_YEAR                          -0.000222            -0.010105  \n",
       "ORDER_MONTH                         -0.001694             0.001816  \n",
       "DEMAND                              -0.036196             0.118869  \n",
       "EV_FLAG                              0.026077            -0.011620  \n",
       "DAYS_OPENED                          0.001480             0.017174  \n",
       "MENU_TYPE_ID                        -0.349310            -0.064737  \n",
       "TEMPERATURE_OPTION                  -0.205802             0.065245  \n",
       "COST_OF_GOODS_USD                   -0.108054            -0.009970  \n",
       "ITEM_CATEGORY_Beverage              -0.225530            -0.216428  \n",
       "ITEM_CATEGORY_Main                  -0.213160            -0.204557  \n",
       "ITEM_CATEGORY_Dessert                1.000000            -0.057387  \n",
       "ITEM_CATEGORY_Snack                 -0.057387             1.000000  "
      ]
     },
     "execution_count": 81,
     "metadata": {},
     "output_type": "execute_result"
    }
   ],
   "source": [
    "final_df.corr()"
   ]
  },
  {
   "cell_type": "code",
   "execution_count": 82,
   "metadata": {},
   "outputs": [
    {
     "name": "stdout",
     "output_type": "stream",
     "text": [
      "<class 'pandas.core.frame.DataFrame'>\n",
      "Int64Index: 57291 entries, 3000 to 60290\n",
      "Data columns (total 15 columns):\n",
      " #   Column                  Non-Null Count  Dtype  \n",
      "---  ------                  --------------  -----  \n",
      " 0   MENU_ITEM_ID            57291 non-null  int16  \n",
      " 1   TRUCK_ID                57291 non-null  int16  \n",
      " 2   ORDER_YEAR              57291 non-null  int16  \n",
      " 3   ORDER_MONTH             57291 non-null  int8   \n",
      " 4   DEMAND                  57291 non-null  int64  \n",
      " 5   UNIT_PRICE              57291 non-null  float64\n",
      " 6   EV_FLAG                 57291 non-null  int8   \n",
      " 7   DAYS_OPENED             57291 non-null  int32  \n",
      " 8   MENU_TYPE_ID            57291 non-null  int8   \n",
      " 9   TEMPERATURE_OPTION      57291 non-null  int8   \n",
      " 10  COST_OF_GOODS_USD       57291 non-null  float64\n",
      " 11  ITEM_CATEGORY_Beverage  57291 non-null  int32  \n",
      " 12  ITEM_CATEGORY_Main      57291 non-null  int32  \n",
      " 13  ITEM_CATEGORY_Dessert   57291 non-null  int32  \n",
      " 14  ITEM_CATEGORY_Snack     57291 non-null  int32  \n",
      "dtypes: float64(2), int16(3), int32(5), int64(1), int8(4)\n",
      "memory usage: 3.4 MB\n"
     ]
    }
   ],
   "source": [
    "# Scaling\n",
    "\n",
    "#drop target\n",
    "#target = final_df['DEMAND']\n",
    "#final_df.drop('DEMAND', axis = 1, inplace = True)\n",
    "\n",
    "#scaler = StandardScaler()\n",
    "#scaler.fit(final_df)\n",
    "\n",
    "#final_scaled = scaler.transform(final_df)\n",
    "#final_scaled = pd.DataFrame(final_scaled, columns=final_df.columns)\n",
    "\n",
    "#assign target variable back to scaled data frame\n",
    "#final_scaled = final_scaled.assign(DEMAND = target)\n",
    "#final_scaled.head()\n",
    "final_scaled = final_df\n",
    "final_scaled['UNIT_PRICE'] = final_scaled['UNIT_PRICE'].astype(float)\n",
    "drop = final_scaled[((final_scaled[\"ORDER_YEAR\"] == 2022) & (final_scaled['ORDER_MONTH'] == 11))]\n",
    "merge = pd.merge(drop, final_scaled,how='outer', indicator=True)\n",
    "final_scaled = merge[merge['_merge'] == 'right_only'].drop('_merge', axis = 1)\n",
    "final_scaled.info()\n"
   ]
  },
  {
   "cell_type": "code",
   "execution_count": 83,
   "metadata": {},
   "outputs": [
    {
     "data": {
      "text/html": [
       "<div>\n",
       "<style scoped>\n",
       "    .dataframe tbody tr th:only-of-type {\n",
       "        vertical-align: middle;\n",
       "    }\n",
       "\n",
       "    .dataframe tbody tr th {\n",
       "        vertical-align: top;\n",
       "    }\n",
       "\n",
       "    .dataframe thead th {\n",
       "        text-align: right;\n",
       "    }\n",
       "</style>\n",
       "<table border=\"1\" class=\"dataframe\">\n",
       "  <thead>\n",
       "    <tr style=\"text-align: right;\">\n",
       "      <th></th>\n",
       "      <th>MENU_ITEM_ID</th>\n",
       "      <th>TRUCK_ID</th>\n",
       "      <th>ORDER_YEAR</th>\n",
       "      <th>ORDER_MONTH</th>\n",
       "      <th>DEMAND</th>\n",
       "      <th>UNIT_PRICE</th>\n",
       "      <th>EV_FLAG</th>\n",
       "      <th>DAYS_OPENED</th>\n",
       "      <th>MENU_TYPE_ID</th>\n",
       "      <th>TEMPERATURE_OPTION</th>\n",
       "      <th>COST_OF_GOODS_USD</th>\n",
       "      <th>ITEM_CATEGORY_Beverage</th>\n",
       "      <th>ITEM_CATEGORY_Main</th>\n",
       "      <th>ITEM_CATEGORY_Dessert</th>\n",
       "      <th>ITEM_CATEGORY_Snack</th>\n",
       "    </tr>\n",
       "  </thead>\n",
       "  <tbody>\n",
       "    <tr>\n",
       "      <th>3000</th>\n",
       "      <td>116</td>\n",
       "      <td>116</td>\n",
       "      <td>2021</td>\n",
       "      <td>8</td>\n",
       "      <td>7280</td>\n",
       "      <td>3.0</td>\n",
       "      <td>0</td>\n",
       "      <td>1021</td>\n",
       "      <td>11</td>\n",
       "      <td>0</td>\n",
       "      <td>0.75</td>\n",
       "      <td>1</td>\n",
       "      <td>0</td>\n",
       "      <td>0</td>\n",
       "      <td>0</td>\n",
       "    </tr>\n",
       "    <tr>\n",
       "      <th>3001</th>\n",
       "      <td>86</td>\n",
       "      <td>113</td>\n",
       "      <td>2021</td>\n",
       "      <td>8</td>\n",
       "      <td>7394</td>\n",
       "      <td>3.0</td>\n",
       "      <td>0</td>\n",
       "      <td>1386</td>\n",
       "      <td>8</td>\n",
       "      <td>0</td>\n",
       "      <td>0.75</td>\n",
       "      <td>1</td>\n",
       "      <td>0</td>\n",
       "      <td>0</td>\n",
       "      <td>0</td>\n",
       "    </tr>\n",
       "    <tr>\n",
       "      <th>3002</th>\n",
       "      <td>126</td>\n",
       "      <td>297</td>\n",
       "      <td>2021</td>\n",
       "      <td>6</td>\n",
       "      <td>10869</td>\n",
       "      <td>3.0</td>\n",
       "      <td>0</td>\n",
       "      <td>839</td>\n",
       "      <td>12</td>\n",
       "      <td>0</td>\n",
       "      <td>0.75</td>\n",
       "      <td>1</td>\n",
       "      <td>0</td>\n",
       "      <td>0</td>\n",
       "      <td>0</td>\n",
       "    </tr>\n",
       "    <tr>\n",
       "      <th>3003</th>\n",
       "      <td>145</td>\n",
       "      <td>299</td>\n",
       "      <td>2021</td>\n",
       "      <td>6</td>\n",
       "      <td>10695</td>\n",
       "      <td>3.0</td>\n",
       "      <td>0</td>\n",
       "      <td>655</td>\n",
       "      <td>14</td>\n",
       "      <td>0</td>\n",
       "      <td>0.50</td>\n",
       "      <td>1</td>\n",
       "      <td>0</td>\n",
       "      <td>0</td>\n",
       "      <td>0</td>\n",
       "    </tr>\n",
       "    <tr>\n",
       "      <th>3004</th>\n",
       "      <td>112</td>\n",
       "      <td>296</td>\n",
       "      <td>2021</td>\n",
       "      <td>6</td>\n",
       "      <td>47669</td>\n",
       "      <td>12.0</td>\n",
       "      <td>0</td>\n",
       "      <td>747</td>\n",
       "      <td>11</td>\n",
       "      <td>2</td>\n",
       "      <td>4.50</td>\n",
       "      <td>0</td>\n",
       "      <td>1</td>\n",
       "      <td>0</td>\n",
       "      <td>0</td>\n",
       "    </tr>\n",
       "  </tbody>\n",
       "</table>\n",
       "</div>"
      ],
      "text/plain": [
       "      MENU_ITEM_ID  TRUCK_ID  ORDER_YEAR  ORDER_MONTH  DEMAND  UNIT_PRICE  \\\n",
       "3000           116       116        2021            8    7280         3.0   \n",
       "3001            86       113        2021            8    7394         3.0   \n",
       "3002           126       297        2021            6   10869         3.0   \n",
       "3003           145       299        2021            6   10695         3.0   \n",
       "3004           112       296        2021            6   47669        12.0   \n",
       "\n",
       "      EV_FLAG  DAYS_OPENED  MENU_TYPE_ID  TEMPERATURE_OPTION  \\\n",
       "3000        0         1021            11                   0   \n",
       "3001        0         1386             8                   0   \n",
       "3002        0          839            12                   0   \n",
       "3003        0          655            14                   0   \n",
       "3004        0          747            11                   2   \n",
       "\n",
       "      COST_OF_GOODS_USD  ITEM_CATEGORY_Beverage  ITEM_CATEGORY_Main  \\\n",
       "3000               0.75                       1                   0   \n",
       "3001               0.75                       1                   0   \n",
       "3002               0.75                       1                   0   \n",
       "3003               0.50                       1                   0   \n",
       "3004               4.50                       0                   1   \n",
       "\n",
       "      ITEM_CATEGORY_Dessert  ITEM_CATEGORY_Snack  \n",
       "3000                      0                    0  \n",
       "3001                      0                    0  \n",
       "3002                      0                    0  \n",
       "3003                      0                    0  \n",
       "3004                      0                    0  "
      ]
     },
     "execution_count": 83,
     "metadata": {},
     "output_type": "execute_result"
    }
   ],
   "source": [
    "final_scaled.head()"
   ]
  },
  {
   "cell_type": "code",
   "execution_count": 84,
   "metadata": {},
   "outputs": [
    {
     "name": "stdout",
     "output_type": "stream",
     "text": [
      "<class 'pandas.core.frame.DataFrame'>\n",
      "Int64Index: 8976 entries, 3029 to 60288\n",
      "Data columns (total 15 columns):\n",
      " #   Column                  Non-Null Count  Dtype  \n",
      "---  ------                  --------------  -----  \n",
      " 0   MENU_ITEM_ID            8976 non-null   int16  \n",
      " 1   TRUCK_ID                8976 non-null   int16  \n",
      " 2   ORDER_YEAR              8976 non-null   int16  \n",
      " 3   ORDER_MONTH             8976 non-null   int8   \n",
      " 4   DEMAND                  8976 non-null   int64  \n",
      " 5   UNIT_PRICE              8976 non-null   float64\n",
      " 6   EV_FLAG                 8976 non-null   int8   \n",
      " 7   DAYS_OPENED             8976 non-null   int32  \n",
      " 8   MENU_TYPE_ID            8976 non-null   int8   \n",
      " 9   TEMPERATURE_OPTION      8976 non-null   int8   \n",
      " 10  COST_OF_GOODS_USD       8976 non-null   float64\n",
      " 11  ITEM_CATEGORY_Beverage  8976 non-null   int32  \n",
      " 12  ITEM_CATEGORY_Main      8976 non-null   int32  \n",
      " 13  ITEM_CATEGORY_Dessert   8976 non-null   int32  \n",
      " 14  ITEM_CATEGORY_Snack     8976 non-null   int32  \n",
      "dtypes: float64(2), int16(3), int32(5), int64(1), int8(4)\n",
      "memory usage: 543.5 KB\n"
     ]
    }
   ],
   "source": [
    "holdout = final_scaled[(final_scaled[\"ORDER_YEAR\"] == 2022) & (final_scaled['ORDER_MONTH'] >= 8)]\n",
    "x_holdout = holdout.drop('DEMAND',axis=1)\n",
    "y_holdout = holdout['DEMAND']\n",
    "holdout.info()"
   ]
  },
  {
   "cell_type": "code",
   "execution_count": 85,
   "metadata": {},
   "outputs": [
    {
     "name": "stdout",
     "output_type": "stream",
     "text": [
      "<class 'pandas.core.frame.DataFrame'>\n",
      "Int64Index: 48315 entries, 8976 to 57290\n",
      "Data columns (total 15 columns):\n",
      " #   Column                  Non-Null Count  Dtype  \n",
      "---  ------                  --------------  -----  \n",
      " 0   MENU_ITEM_ID            48315 non-null  int16  \n",
      " 1   TRUCK_ID                48315 non-null  int16  \n",
      " 2   ORDER_YEAR              48315 non-null  int16  \n",
      " 3   ORDER_MONTH             48315 non-null  int8   \n",
      " 4   DEMAND                  48315 non-null  int64  \n",
      " 5   UNIT_PRICE              48315 non-null  float64\n",
      " 6   EV_FLAG                 48315 non-null  int8   \n",
      " 7   DAYS_OPENED             48315 non-null  int32  \n",
      " 8   MENU_TYPE_ID            48315 non-null  int8   \n",
      " 9   TEMPERATURE_OPTION      48315 non-null  int8   \n",
      " 10  COST_OF_GOODS_USD       48315 non-null  float64\n",
      " 11  ITEM_CATEGORY_Beverage  48315 non-null  int32  \n",
      " 12  ITEM_CATEGORY_Main      48315 non-null  int32  \n",
      " 13  ITEM_CATEGORY_Dessert   48315 non-null  int32  \n",
      " 14  ITEM_CATEGORY_Snack     48315 non-null  int32  \n",
      "dtypes: float64(2), int16(3), int32(5), int64(1), int8(4)\n",
      "memory usage: 2.9 MB\n"
     ]
    }
   ],
   "source": [
    "merged = pd.merge(holdout, final_scaled,how='outer', indicator=True)\n",
    "final_scaled = merged[merged['_merge'] == 'right_only'].drop('_merge', axis = 1)\n",
    "final_scaled.info()"
   ]
  },
  {
   "cell_type": "code",
   "execution_count": 86,
   "metadata": {},
   "outputs": [],
   "source": [
    "# Train Test Split\n",
    "# Define Model Inputs (X) and Output (y)\n",
    "X = final_scaled.drop('DEMAND',axis=1)\n",
    "y = final_scaled[\"DEMAND\"]\n",
    "\n",
    "# Split both Inputs (X) and Ouput (y) into training set (70%) and testing set (30%)\n",
    "X_train, X_test, y_train, y_test = train_test_split(X, y, test_size=0.3, random_state=1)"
   ]
  },
  {
   "cell_type": "code",
   "execution_count": 87,
   "metadata": {},
   "outputs": [
    {
     "name": "stdout",
     "output_type": "stream",
     "text": [
      "Train RMSE: 10841.934883513983\n",
      "Test RMSE: 10871.012743488347\n",
      "Train R-squared: 0.5381119711422004\n",
      "Test R-squared: 0.5322648893680376\n"
     ]
    }
   ],
   "source": [
    "from sklearn.linear_model import LinearRegression\n",
    "from sklearn.metrics import mean_squared_error, r2_score\n",
    "from math import sqrt\n",
    "\n",
    "# Create the model \"lr\"\n",
    "lr = LinearRegression()\n",
    "\n",
    "# Fit the model to the training set\n",
    "lr.fit(X_train, y_train)\n",
    "\n",
    "# Make predictions on the training and testing sets\n",
    "train_predictions = lr.predict(X_train)\n",
    "test_predictions = lr.predict(X_test)\n",
    "\n",
    "# Calculate RMSE for the training and testing sets\n",
    "train_rmse = sqrt(mean_squared_error(y_train, train_predictions))\n",
    "test_rmse = sqrt(mean_squared_error(y_test, test_predictions))\n",
    "\n",
    "# Calculate R-squared values for the training and testing sets\n",
    "train_r2 = r2_score(y_train, train_predictions)\n",
    "test_r2 = r2_score(y_test, test_predictions)\n",
    "\n",
    "# Print the results\n",
    "print('Train RMSE:', train_rmse)\n",
    "print('Test RMSE:', test_rmse)\n",
    "print('Train R-squared:', train_r2)\n",
    "print('Test R-squared:', test_r2)\n"
   ]
  },
  {
   "cell_type": "code",
   "execution_count": 88,
   "metadata": {},
   "outputs": [
    {
     "name": "stdout",
     "output_type": "stream",
     "text": [
      "Train RMSE: 122.80028517607703\n",
      "Test RMSE: 279.8780111498858\n",
      "Train R-squared: 0.9999407454276689\n",
      "Test R-squared: 0.9996899744261462\n"
     ]
    }
   ],
   "source": [
    "from sklearn.ensemble import RandomForestRegressor\n",
    "\n",
    "rf = RandomForestRegressor(n_estimators = 10, random_state = 0)\n",
    "rf.fit(X_train, y_train)\n",
    "\n",
    "# Make predictions on the training and testing sets\n",
    "train_predictions = rf.predict(X_train)\n",
    "test_predictions = rf.predict(X_test)\n",
    "\n",
    "# Calculate RMSE for the training and testing sets\n",
    "train_rmse = sqrt(mean_squared_error(y_train, train_predictions))\n",
    "test_rmse = sqrt(mean_squared_error(y_test, test_predictions))\n",
    "\n",
    "# Calculate R-squared values for the training and testing sets\n",
    "train_r2 = r2_score(y_train, train_predictions)\n",
    "test_r2 = r2_score(y_test, test_predictions)\n",
    "\n",
    "# Print the results\n",
    "print('Train RMSE:', train_rmse)\n",
    "print('Test RMSE:', test_rmse)\n",
    "print('Train R-squared:', train_r2)\n",
    "print('Test R-squared:', test_r2)"
   ]
  },
  {
   "cell_type": "code",
   "execution_count": 89,
   "metadata": {},
   "outputs": [
    {
     "data": {
      "text/plain": [
       "0.9996193758231662"
      ]
     },
     "execution_count": 89,
     "metadata": {},
     "output_type": "execute_result"
    }
   ],
   "source": [
    "from sklearn.model_selection import cross_val_score\n",
    "scores = cross_val_score(rf, X_train, y_train, cv = 5)\n",
    "scores.mean()"
   ]
  },
  {
   "cell_type": "code",
   "execution_count": 90,
   "metadata": {},
   "outputs": [
    {
     "name": "stderr",
     "output_type": "stream",
     "text": [
      "c:\\Users\\tanko\\anaconda3\\envs\\pysnowpark\\lib\\site-packages\\xgboost\\data.py:250: FutureWarning: pandas.Int64Index is deprecated and will be removed from pandas in a future version. Use pandas.Index with the appropriate dtype instead.\n",
      "  elif isinstance(data.columns, (pd.Int64Index, pd.RangeIndex)):\n"
     ]
    },
    {
     "name": "stdout",
     "output_type": "stream",
     "text": [
      "Train RMSE: 344.64219987970546\n",
      "Test RMSE: 386.3716076637079\n",
      "Train R-squared: 0.9995332761172356\n",
      "Test R-squared: 0.9994091593437655\n"
     ]
    }
   ],
   "source": [
    "import xgboost as xg\n",
    "\n",
    "# create an xgboost regression model\n",
    "xgb = xg.XGBRegressor()\n",
    "\n",
    "# Fitting the model\n",
    "xgb.fit(X_train, y_train)\n",
    "  \n",
    "# Make predictions on the training and testing sets\n",
    "train_predictions = xgb.predict(X_train)\n",
    "test_predictions = xgb.predict(X_test)\n",
    "\n",
    "# Calculate RMSE for the training and testing sets\n",
    "train_rmse = sqrt(mean_squared_error(y_train, train_predictions))\n",
    "test_rmse = sqrt(mean_squared_error(y_test, test_predictions))\n",
    "\n",
    "# Calculate R-squared values for the training and testing sets\n",
    "train_r2 = r2_score(y_train, train_predictions)\n",
    "test_r2 = r2_score(y_test, test_predictions)\n",
    "\n",
    "# Print the results\n",
    "print('Train RMSE:', train_rmse)\n",
    "print('Test RMSE:', test_rmse)\n",
    "print('Train R-squared:', train_r2)\n",
    "print('Test R-squared:', test_r2)"
   ]
  },
  {
   "cell_type": "markdown",
   "metadata": {},
   "source": [
    "### Holdout "
   ]
  },
  {
   "cell_type": "code",
   "execution_count": 91,
   "metadata": {},
   "outputs": [
    {
     "name": "stdout",
     "output_type": "stream",
     "text": [
      "Train RMSE: 630.244995797796\n",
      "Train R-squared: 0.9984755438655901\n"
     ]
    }
   ],
   "source": [
    "# Make predictions on the training and testing sets\n",
    "ho_predictions = rf.predict(x_holdout)\n",
    "\n",
    "# Calculate RMSE for the training and testing sets\n",
    "ho_rmse = sqrt(mean_squared_error(y_holdout, ho_predictions))\n",
    "\n",
    "# Calculate R-squared values for the training and testing sets\n",
    "ho_r2 = r2_score(y_holdout, ho_predictions)\n",
    "\n",
    "# Print the results\n",
    "print('Train RMSE:', ho_rmse)\n",
    "print('Train R-squared:', ho_r2)"
   ]
  },
  {
   "cell_type": "code",
   "execution_count": 92,
   "metadata": {},
   "outputs": [],
   "source": [
    "import pickle\n",
    "filename = 'inventory_model.sav'\n",
    "pickle.dump(rf, open(filename, 'wb'))"
   ]
  },
  {
   "cell_type": "markdown",
   "metadata": {},
   "source": [
    "### Additional"
   ]
  },
  {
   "cell_type": "code",
   "execution_count": 100,
   "metadata": {},
   "outputs": [],
   "source": [
    "dd_df = session.table(\"NGEE_ANN_POLYTECHNIC_FROSTBYTE_DATA_SHARE.raw_supply_chain.distribution_detail\")\n",
    "dh_df = session.table(\"NGEE_ANN_POLYTECHNIC_FROSTBYTE_DATA_SHARE.raw_supply_chain.distribution_header\")\n",
    "eod_df = session.table(\"NGEE_ANN_POLYTECHNIC_FROSTBYTE_DATA_SHARE.raw_supply_chain.eod_stock_assignment\")\n",
    "reci_df = session.table(\"NGEE_ANN_POLYTECHNIC_FROSTBYTE_DATA_SHARE.raw_supply_chain.RECIPE\")"
   ]
  },
  {
   "cell_type": "code",
   "execution_count": 94,
   "metadata": {},
   "outputs": [
    {
     "name": "stdout",
     "output_type": "stream",
     "text": [
      "------------------------------------------------------------------------------------------------------------------------------------------------------\n",
      "|\"DH_DETAIL_ID\"  |\"DH_ID\"  |\"LINE_ITEM_ID\"  |\"ITEM_ID\"  |\"QUANTITY\"      |\"EXPIRATION_DATE\"  |\"PO_ID\"  |\"CREATED_DATE\"              |\"UPDATED_DATE\"  |\n",
      "------------------------------------------------------------------------------------------------------------------------------------------------------\n",
      "|698170          |54436    |9               |22         |2087.000000000  |2022-07-06         |26724    |2023-04-13 22:18:29.306000  |NULL            |\n",
      "|698171          |54456    |3               |3          |22.000000000    |2023-05-31         |26589    |2023-04-13 22:18:29.306000  |NULL            |\n",
      "|698172          |54548    |3               |21         |28.000000000    |2022-07-06         |26777    |2023-04-13 22:18:29.306000  |NULL            |\n",
      "|698173          |54315    |8               |37         |1899.000000000  |2022-07-06         |26628    |2023-04-13 22:18:29.306000  |NULL            |\n",
      "|698174          |54369    |6               |39         |367.000000000   |2022-07-06         |26785    |2023-04-13 22:18:29.306000  |NULL            |\n",
      "|698175          |54249    |7               |72         |139.000000000   |2022-07-21         |26624    |2023-04-13 22:18:29.306000  |NULL            |\n",
      "|698176          |54289    |3               |3          |149.000000000   |2023-05-30         |26698    |2023-04-13 22:18:29.306000  |NULL            |\n",
      "|698177          |54202    |2               |3          |93.000000000    |2023-05-16         |26637    |2023-04-13 22:18:29.306000  |NULL            |\n",
      "|698178          |54423    |7               |76         |1031.000000000  |2022-07-05         |26652    |2023-04-13 22:18:29.306000  |NULL            |\n",
      "|698179          |54649    |8               |39         |1028.000000000  |2022-07-07         |26544    |2023-04-13 22:18:29.306000  |NULL            |\n",
      "------------------------------------------------------------------------------------------------------------------------------------------------------\n",
      "\n"
     ]
    }
   ],
   "source": [
    "dd_df.show()"
   ]
  },
  {
   "cell_type": "code",
   "execution_count": 95,
   "metadata": {},
   "outputs": [
    {
     "name": "stdout",
     "output_type": "stream",
     "text": [
      "-------------------------------------------------------------------------------------------------------------\n",
      "|\"DH_ID\"  |\"TRUCK_ID\"  |\"WAREHOUSE_ID\"  |\"DISTRIBUTION_DATE\"  |\"CREATED_DATE\"              |\"UPDATED_DATE\"  |\n",
      "-------------------------------------------------------------------------------------------------------------\n",
      "|44678    |23          |2               |2023-02-27           |2023-04-10 15:24:34.910000  |NULL            |\n",
      "|45051    |195         |13              |2023-02-27           |2023-04-10 15:24:34.910000  |NULL            |\n",
      "|45013    |300         |20              |2023-02-27           |2023-04-10 15:24:34.910000  |NULL            |\n",
      "|44798    |112         |8               |2023-02-27           |2023-04-10 15:24:34.910000  |NULL            |\n",
      "|44799    |3           |1               |2023-02-27           |2023-04-10 15:24:34.910000  |NULL            |\n",
      "|44760    |262         |18              |2023-02-27           |2023-04-10 15:24:34.910000  |NULL            |\n",
      "|44761    |138         |10              |2023-02-27           |2023-04-10 15:24:34.910000  |NULL            |\n",
      "|44762    |298         |20              |2023-02-27           |2023-04-10 15:24:34.910000  |NULL            |\n",
      "|45052    |383         |26              |2023-02-27           |2023-04-10 15:24:34.910000  |NULL            |\n",
      "|45053    |137         |10              |2023-02-27           |2023-04-10 15:24:34.910000  |NULL            |\n",
      "-------------------------------------------------------------------------------------------------------------\n",
      "\n"
     ]
    }
   ],
   "source": [
    "dh_df.show()"
   ]
  },
  {
   "cell_type": "code",
   "execution_count": 96,
   "metadata": {},
   "outputs": [
    {
     "name": "stdout",
     "output_type": "stream",
     "text": [
      "--------------------------------------------------------------------------------------------------------\n",
      "|\"ASSIGNMENT_ID\"  |\"TRUCK_ID\"  |\"ITEM_ID\"  |\"PO_ID\"  |\"QUANTITY\"  |\"EXPIRATION_DATE\"  |\"CREATED_DATE\"  |\n",
      "--------------------------------------------------------------------------------------------------------\n",
      "|196177           |149         |1          |420      |0.05        |2023-10-05         |2022-11-21      |\n",
      "|4338188          |324         |1          |20386    |1.34        |2023-12-26         |2023-02-09      |\n",
      "|4431933          |60          |1          |20700    |4.78        |2023-12-29         |2023-02-20      |\n",
      "|5580458          |390         |2          |27116    |0.45        |2023-06-14         |2022-07-24      |\n",
      "|600409           |305         |1          |1792     |5.22        |2023-11-21         |2023-01-06      |\n",
      "|4630723          |145         |3          |22407    |2.15        |2024-01-23         |2023-03-15      |\n",
      "|600428           |313         |1          |1792     |4.19        |2023-11-21         |2023-01-06      |\n",
      "|6910093          |199         |1          |33150    |1.87        |2023-08-31         |2022-10-20      |\n",
      "|4622195          |137         |2          |22407    |1.05        |2024-01-29         |2023-03-14      |\n",
      "|466722           |202         |60         |1646     |4.75        |2022-12-29         |2022-12-22      |\n",
      "--------------------------------------------------------------------------------------------------------\n",
      "\n"
     ]
    }
   ],
   "source": [
    "eod_df.show()"
   ]
  },
  {
   "cell_type": "code",
   "execution_count": 97,
   "metadata": {},
   "outputs": [],
   "source": [
    "d_df = dd_df.join(dh_df, on= ['DH_ID'], lsuffix = \"\", rsuffix = \"_01\")\n",
    "d_df = d_df.with_column('DISTRIBUTION_YEAR', F.year(F.col('DISTRIBUTION_DATE')))\n",
    "d_df = d_df.with_column('DISTRIBUTION_MONTH', F.month(F.col('DISTRIBUTION_DATE')))\n",
    "d_df = d_df.group_by(\"TRUCK_ID\",\"ITEM_ID\",'DISTRIBUTION_YEAR', 'DISTRIBUTION_MONTH').agg(F.sum(\"QUANTITY\").alias('Supply'))"
   ]
  },
  {
   "cell_type": "code",
   "execution_count": 99,
   "metadata": {},
   "outputs": [
    {
     "name": "stderr",
     "output_type": "stream",
     "text": [
      "c:\\Users\\tanko\\anaconda3\\envs\\pysnowpark\\lib\\site-packages\\snowflake\\snowpark\\session.py:1374: UserWarning: Pandas Dataframe has non-standard index of type <class 'pandas.core.indexes.numeric.Int64Index'> which will not be written. Consider changing the index to pd.RangeIndex(start=0,...,step=1) or call reset_index() to keep index as column(s)\n",
      "  success, nchunks, nrows, ci_output = write_pandas(\n"
     ]
    }
   ],
   "source": [
    "# Get account credentials from a json file\n",
    "with open(\"account.json\") as f:\n",
    "    data = json.load(f)\n",
    "    username = data[\"username\"]\n",
    "    password = data[\"password\"]\n",
    "    account = data[\"account\"]\n",
    "\n",
    "# Specify connection parameters\n",
    "connection_parameters = {\n",
    "    \"account\": account,\n",
    "    \"user\": username,\n",
    "    \"password\": password,\n",
    "    \"role\": \"ACCOUNTADMIN\",\n",
    "    #\"warehouse\": \"tasty_ds_wh\",\n",
    "    \"database\": \"FROSTBYTE_TASTY_BYTES\",\n",
    "    \"schema\": \"analytics\",\n",
    "}\n",
    "\n",
    "# Create Snowpark session\n",
    "sessionWrite = Session.builder.configs(connection_parameters).create()\n",
    "\n",
    "final_scaled_sf = sessionWrite.create_dataframe(final_scaled)\n",
    "# Save X data\n",
    "final_scaled_sf.write.mode(\"overwrite\").save_as_table(\"frostbyte_tasty_bytes.analytics.inventory_management\")\n",
    "\n",
    "# Save y data\n",
    "d_df.write.mode(\"overwrite\").save_as_table(\"frostbyte_tasty_bytes.analytics.monthly_supply\")"
   ]
  },
  {
   "cell_type": "code",
   "execution_count": 105,
   "metadata": {},
   "outputs": [],
   "source": [
    "\n",
    "demand_item = final_scaled_sf.join(reci_df, on= ['menu_item_id'], lsuffix = \"\", rsuffix = \"_01\")"
   ]
  },
  {
   "cell_type": "code",
   "execution_count": 108,
   "metadata": {},
   "outputs": [],
   "source": [
    "demand_item = demand_item.with_column('Demand_item', F.col('UNIT_QUANTITY') * F.col('DEMAND'))\n",
    "demand_item = demand_item.group_by(\"TRUCK_ID\",\"ITEM_ID\",'ORDER_YEAR', 'ORDER_MONTH').agg(F.sum(\"DEMAND_ITEM\").alias('DEMAND_ITEM'))"
   ]
  },
  {
   "cell_type": "code",
   "execution_count": 111,
   "metadata": {},
   "outputs": [],
   "source": [
    "demand_item.write.mode(\"overwrite\").save_as_table(\"frostbyte_tasty_bytes.analytics.monthly_demand\")"
   ]
  },
  {
   "cell_type": "code",
   "execution_count": 112,
   "metadata": {},
   "outputs": [
    {
     "name": "stdout",
     "output_type": "stream",
     "text": [
      "---------------------------------------------------------------------------\n",
      "|\"TRUCK_ID\"  |\"ITEM_ID\"  |\"ORDER_YEAR\"  |\"ORDER_MONTH\"  |\"DEMAND_ITEM\"    |\n",
      "---------------------------------------------------------------------------\n",
      "|116         |3          |2021          |8              |364.000000000    |\n",
      "|113         |3          |2021          |8              |369.700000000    |\n",
      "|297         |3          |2021          |6              |543.450000000    |\n",
      "|299         |2          |2021          |6              |534.750000000    |\n",
      "|296         |70         |2021          |6              |14355.300000000  |\n",
      "|296         |41         |2021          |6              |9532.800000000   |\n",
      "|296         |22         |2021          |6              |4766.400000000   |\n",
      "|296         |74         |2021          |6              |4766.900000000   |\n",
      "|296         |61         |2021          |6              |14355.300000000  |\n",
      "|293         |2          |2021          |6              |550.000000000    |\n",
      "---------------------------------------------------------------------------\n",
      "\n"
     ]
    }
   ],
   "source": [
    "demand_item.show()"
   ]
  },
  {
   "cell_type": "code",
   "execution_count": 114,
   "metadata": {},
   "outputs": [
    {
     "name": "stdout",
     "output_type": "stream",
     "text": [
      "----------------------------------------------------------------------------------------\n",
      "|\"TRUCK_ID\"  |\"ITEM_ID\"  |\"DISTRIBUTION_YEAR\"  |\"DISTRIBUTION_MONTH\"  |\"SUPPLY\"        |\n",
      "----------------------------------------------------------------------------------------\n",
      "|430         |66         |2022                 |12                    |834.000000000   |\n",
      "|375         |40         |2022                 |12                    |1445.000000000  |\n",
      "|87          |38         |2022                 |12                    |4481.000000000  |\n",
      "|427         |60         |2022                 |12                    |390.000000000   |\n",
      "|254         |2          |2022                 |12                    |458.000000000   |\n",
      "|6           |56         |2022                 |12                    |65.000000000    |\n",
      "|413         |56         |2022                 |12                    |774.000000000   |\n",
      "|128         |61         |2022                 |12                    |499.000000000   |\n",
      "|287         |2          |2022                 |12                    |343.000000000   |\n",
      "|387         |1          |2022                 |12                    |123.000000000   |\n",
      "----------------------------------------------------------------------------------------\n",
      "\n"
     ]
    }
   ],
   "source": [
    "d_df.sort(\"DISTRIBUTION_YEAR\").show()"
   ]
  },
  {
   "cell_type": "code",
   "execution_count": null,
   "metadata": {},
   "outputs": [],
   "source": []
  }
 ],
 "metadata": {
  "kernelspec": {
   "display_name": "pysnowpark",
   "language": "python",
   "name": "python3"
  },
  "language_info": {
   "codemirror_mode": {
    "name": "ipython",
    "version": 3
   },
   "file_extension": ".py",
   "mimetype": "text/x-python",
   "name": "python",
   "nbconvert_exporter": "python",
   "pygments_lexer": "ipython3",
   "version": "3.8.16"
  },
  "orig_nbformat": 4
 },
 "nbformat": 4,
 "nbformat_minor": 2
}
