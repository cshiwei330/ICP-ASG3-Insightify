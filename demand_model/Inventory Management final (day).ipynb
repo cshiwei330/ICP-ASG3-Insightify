{
 "cells": [
  {
   "cell_type": "code",
   "execution_count": 62,
   "metadata": {},
   "outputs": [],
   "source": [
    "# Import Python packages\n",
    "import pandas as pd\n",
    "import numpy as np\n",
    "from matplotlib import pyplot as plt\n",
    "import json\n",
    "import sys\n",
    "import cachetools\n",
    "from datetime import datetime\n",
    "from datetime import date\n",
    "import matplotlib.pyplot as plt \n",
    "import seaborn as sns\n",
    "import math\n",
    "\n",
    "# Import Snowflake modules\n",
    "from snowflake.snowpark import Session\n",
    "import snowflake.snowpark.functions as F\n",
    "import snowflake.snowpark.types as T\n",
    "from snowflake.snowpark import Window\n",
    "from snowflake.snowpark.functions import col\n",
    "\n",
    "# Clustering & Model\n",
    "from sklearn.cluster import KMeans\n",
    "from sklearn.linear_model import LinearRegression\n",
    "from sklearn.model_selection import KFold, cross_val_score, train_test_split\n",
    "\n",
    "# Scalers\n",
    "from sklearn.preprocessing import StandardScaler\n",
    "\n",
    "# Evaluation\n",
    "from sklearn.metrics import silhouette_score\n",
    "from sklearn.metrics import mean_squared_error\n",
    "from sklearn.metrics import r2_score\n",
    "\n",
    "# find the best combination of model hyperparameters\n",
    "from sklearn.model_selection import GridSearchCV, RandomizedSearchCV\n",
    "from sklearn.model_selection import cross_val_score, cross_validate\n",
    "\n",
    "# Getting Password,Username, Account\n",
    "import getpass"
   ]
  },
  {
   "cell_type": "code",
   "execution_count": 63,
   "metadata": {},
   "outputs": [],
   "source": [
    "# Get account credentials from a json file\n",
    "with open(\"account.json\") as f:\n",
    "    data = json.load(f)\n",
    "    username = data[\"username\"]\n",
    "    password = data[\"password\"]\n",
    "    account = data[\"account\"]\n",
    "\n",
    "# Specify connection parameters\n",
    "connection_parameters = {\n",
    "    \"account\": account,\n",
    "    \"user\": username,\n",
    "    \"password\": password,\n",
    "    #\"role\": \"ACCOUNTADMIN\",\n",
    "    #\"warehouse\": \"tasty_ds_wh\",\n",
    "    #\"database\": \"NGEE_ANN_POLYTECHNIC_FROSTBYTE_DATA_SHARE\",\n",
    "    #\"schema\": \"analytics\",\n",
    "}\n",
    "\n",
    "# Create Snowpark session\n",
    "session = Session.builder.configs(connection_parameters).create()"
   ]
  },
  {
   "cell_type": "code",
   "execution_count": 64,
   "metadata": {},
   "outputs": [],
   "source": [
    "order_header_df = session.table(\"NGEE_ANN_POLYTECHNIC_FROSTBYTE_DATA_SHARE.raw_pos.order_header\")\n",
    "order_detail_df = session.table(\"NGEE_ANN_POLYTECHNIC_FROSTBYTE_DATA_SHARE.raw_pos.order_detail\")\n",
    "menu_df = session.table(\"NGEE_ANN_POLYTECHNIC_FROSTBYTE_DATA_SHARE.raw_pos.menu\")\n",
    "truck_df = session.table(\"NGEE_ANN_POLYTECHNIC_FROSTBYTE_DATA_SHARE.raw_pos.truck\")"
   ]
  },
  {
   "cell_type": "code",
   "execution_count": 65,
   "metadata": {},
   "outputs": [
    {
     "name": "stdout",
     "output_type": "stream",
     "text": [
      "-----------------------------------------------------------------------------------------------------------------------------------------------------------------------------------------------------------------------------------------------------------------------------------------\n",
      "|\"ORDER_ID\"  |\"TRUCK_ID\"  |\"LOCATION_ID\"  |\"CUSTOMER_ID\"  |\"DISCOUNT_ID\"  |\"SHIFT_ID\"  |\"SHIFT_START_TIME\"  |\"SHIFT_END_TIME\"  |\"ORDER_CHANNEL\"  |\"ORDER_TS\"           |\"SERVED_TS\"  |\"ORDER_CURRENCY\"  |\"ORDER_AMOUNT\"  |\"ORDER_TAX_AMOUNT\"  |\"ORDER_DISCOUNT_AMOUNT\"  |\"ORDER_TOTAL\"  |\n",
      "-----------------------------------------------------------------------------------------------------------------------------------------------------------------------------------------------------------------------------------------------------------------------------------------\n",
      "|22477378    |97          |3713.0         |NULL           |NULL           |78881       |16:00:00            |23:00:00          |NULL             |2020-04-19 17:06:54  |NULL         |USD               |26.0000         |NULL                |NULL                     |26.0000        |\n",
      "|22477379    |97          |3713.0         |NULL           |NULL           |78881       |16:00:00            |23:00:00          |NULL             |2020-04-19 17:07:40  |NULL         |USD               |46.0000         |NULL                |NULL                     |46.0000        |\n",
      "|22477380    |97          |3713.0         |NULL           |NULL           |78881       |16:00:00            |23:00:00          |NULL             |2020-04-19 17:07:58  |NULL         |USD               |7.0000          |NULL                |NULL                     |7.0000         |\n",
      "|22477381    |97          |3713.0         |NULL           |NULL           |78881       |16:00:00            |23:00:00          |NULL             |2020-04-19 17:09:41  |NULL         |USD               |9.0000          |NULL                |NULL                     |9.0000         |\n",
      "|22477382    |97          |3713.0         |NULL           |NULL           |78881       |16:00:00            |23:00:00          |NULL             |2020-04-19 17:10:09  |NULL         |USD               |24.0000         |NULL                |NULL                     |24.0000        |\n",
      "|22477383    |97          |3713.0         |NULL           |NULL           |78881       |16:00:00            |23:00:00          |NULL             |2020-04-19 17:14:51  |NULL         |USD               |40.0000         |NULL                |NULL                     |40.0000        |\n",
      "|22477384    |97          |3713.0         |NULL           |NULL           |78881       |16:00:00            |23:00:00          |NULL             |2020-04-19 17:17:14  |NULL         |USD               |16.0000         |NULL                |NULL                     |16.0000        |\n",
      "|22477385    |97          |3713.0         |NULL           |NULL           |78881       |16:00:00            |23:00:00          |NULL             |2020-04-19 17:18:59  |NULL         |USD               |28.0000         |NULL                |NULL                     |28.0000        |\n",
      "|22477386    |97          |3713.0         |NULL           |NULL           |78881       |16:00:00            |23:00:00          |NULL             |2020-04-19 17:23:06  |NULL         |USD               |16.0000         |NULL                |NULL                     |16.0000        |\n",
      "|22477387    |97          |3713.0         |NULL           |NULL           |78881       |16:00:00            |23:00:00          |NULL             |2020-04-19 17:26:09  |NULL         |USD               |19.0000         |NULL                |NULL                     |19.0000        |\n",
      "-----------------------------------------------------------------------------------------------------------------------------------------------------------------------------------------------------------------------------------------------------------------------------------------\n",
      "\n"
     ]
    }
   ],
   "source": [
    "order_header_df.show()"
   ]
  },
  {
   "cell_type": "code",
   "execution_count": 66,
   "metadata": {},
   "outputs": [
    {
     "name": "stdout",
     "output_type": "stream",
     "text": [
      "--------------------------------------------------------------------------------------------------------------------------------------------------------\n",
      "|\"ORDER_DETAIL_ID\"  |\"ORDER_ID\"  |\"MENU_ITEM_ID\"  |\"DISCOUNT_ID\"  |\"LINE_NUMBER\"  |\"QUANTITY\"  |\"UNIT_PRICE\"  |\"PRICE\"  |\"ORDER_ITEM_DISCOUNT_AMOUNT\"  |\n",
      "--------------------------------------------------------------------------------------------------------------------------------------------------------\n",
      "|639484540          |362157362   |92              |NULL           |0              |2           |13.0000       |26.0000  |NULL                          |\n",
      "|639484541          |362157362   |95              |NULL           |1              |1           |3.0000        |3.0000   |NULL                          |\n",
      "|639484542          |362157363   |92              |NULL           |0              |1           |13.0000       |13.0000  |NULL                          |\n",
      "|639484543          |362157364   |93              |NULL           |0              |1           |9.0000        |9.0000   |NULL                          |\n",
      "|639484544          |362157365   |93              |NULL           |0              |2           |9.0000        |18.0000  |NULL                          |\n",
      "|639484545          |362157366   |91              |NULL           |0              |2           |11.0000       |22.0000  |NULL                          |\n",
      "|639484546          |362157366   |93              |NULL           |1              |1           |9.0000        |9.0000   |NULL                          |\n",
      "|639484547          |362157366   |94              |NULL           |2              |1           |2.0000        |2.0000   |NULL                          |\n",
      "|639484548          |362157367   |91              |NULL           |0              |1           |11.0000       |11.0000  |NULL                          |\n",
      "|639484549          |362157368   |91              |NULL           |0              |1           |11.0000       |11.0000  |NULL                          |\n",
      "--------------------------------------------------------------------------------------------------------------------------------------------------------\n",
      "\n"
     ]
    }
   ],
   "source": [
    "order_detail_df.show()"
   ]
  },
  {
   "cell_type": "code",
   "execution_count": 67,
   "metadata": {},
   "outputs": [
    {
     "name": "stdout",
     "output_type": "stream",
     "text": [
      "----------------------------------------------------------------------------------------------------------------------------------------------------------------------------------------------------------------------------\n",
      "|\"MENU_ID\"  |\"MENU_TYPE_ID\"  |\"MENU_TYPE\"     |\"TRUCK_BRAND_NAME\"  |\"MENU_ITEM_ID\"  |\"MENU_ITEM_NAME\"  |\"ITEM_CATEGORY\"  |\"ITEM_SUBCATEGORY\"  |\"COST_OF_GOODS_USD\"  |\"SALE_PRICE_USD\"  |\"MENU_ITEM_HEALTH_METRICS_OBJ\"     |\n",
      "----------------------------------------------------------------------------------------------------------------------------------------------------------------------------------------------------------------------------\n",
      "|10038      |5               |Ramen           |Kitakata Ramen Bar  |54              |Bottled Water     |Beverage         |Cold Option         |0.5000               |2.0000            |{                                  |\n",
      "|           |                |                |                    |                |                  |                 |                    |                     |                  |  \"menu_item_health_metrics\": [    |\n",
      "|           |                |                |                    |                |                  |                 |                    |                     |                  |    {                              |\n",
      "|           |                |                |                    |                |                  |                 |                    |                     |                  |      \"ingredients\": [             |\n",
      "|           |                |                |                    |                |                  |                 |                    |                     |                  |        \"12 Oz Bottle Water\"       |\n",
      "|           |                |                |                    |                |                  |                 |                    |                     |                  |      ],                           |\n",
      "|           |                |                |                    |                |                  |                 |                    |                     |                  |      \"is_dairy_free_flag\": \"Y\",   |\n",
      "|           |                |                |                    |                |                  |                 |                    |                     |                  |      \"is_gluten_free_flag\": \"Y\",  |\n",
      "|           |                |                |                    |                |                  |                 |                    |                     |                  |      \"is_healthy_flag\": \"Y\",      |\n",
      "|           |                |                |                    |                |                  |                 |                    |                     |                  |      \"is_nut_free_flag\": \"Y\"      |\n",
      "|           |                |                |                    |                |                  |                 |                    |                     |                  |    }                              |\n",
      "|           |                |                |                    |                |                  |                 |                    |                     |                  |  ],                               |\n",
      "|           |                |                |                    |                |                  |                 |                    |                     |                  |  \"menu_item_id\": 54               |\n",
      "|           |                |                |                    |                |                  |                 |                    |                     |                  |}                                  |\n",
      "|10039      |5               |Ramen           |Kitakata Ramen Bar  |55              |Bottled Soda      |Beverage         |Cold Option         |0.5000               |3.0000            |{                                  |\n",
      "|           |                |                |                    |                |                  |                 |                    |                     |                  |  \"menu_item_health_metrics\": [    |\n",
      "|           |                |                |                    |                |                  |                 |                    |                     |                  |    {                              |\n",
      "|           |                |                |                    |                |                  |                 |                    |                     |                  |      \"ingredients\": [             |\n",
      "|           |                |                |                    |                |                  |                 |                    |                     |                  |        \"12 Oz Bottle Soda\"        |\n",
      "|           |                |                |                    |                |                  |                 |                    |                     |                  |      ],                           |\n",
      "|           |                |                |                    |                |                  |                 |                    |                     |                  |      \"is_dairy_free_flag\": \"Y\",   |\n",
      "|           |                |                |                    |                |                  |                 |                    |                     |                  |      \"is_gluten_free_flag\": \"Y\",  |\n",
      "|           |                |                |                    |                |                  |                 |                    |                     |                  |      \"is_healthy_flag\": \"N\",      |\n",
      "|           |                |                |                    |                |                  |                 |                    |                     |                  |      \"is_nut_free_flag\": \"Y\"      |\n",
      "|           |                |                |                    |                |                  |                 |                    |                     |                  |    }                              |\n",
      "|           |                |                |                    |                |                  |                 |                    |                     |                  |  ],                               |\n",
      "|           |                |                |                    |                |                  |                 |                    |                     |                  |  \"menu_item_id\": 55               |\n",
      "|           |                |                |                    |                |                  |                 |                    |                     |                  |}                                  |\n",
      "|10040      |5               |Ramen           |Kitakata Ramen Bar  |56              |Ice Tea           |Beverage         |Cold Option         |0.7500               |3.0000            |{                                  |\n",
      "|           |                |                |                    |                |                  |                 |                    |                     |                  |  \"menu_item_health_metrics\": [    |\n",
      "|           |                |                |                    |                |                  |                 |                    |                     |                  |    {                              |\n",
      "|           |                |                |                    |                |                  |                 |                    |                     |                  |      \"ingredients\": [             |\n",
      "|           |                |                |                    |                |                  |                 |                    |                     |                  |        \"12 Oz Bottle Ice Tea\"     |\n",
      "|           |                |                |                    |                |                  |                 |                    |                     |                  |      ],                           |\n",
      "|           |                |                |                    |                |                  |                 |                    |                     |                  |      \"is_dairy_free_flag\": \"Y\",   |\n",
      "|           |                |                |                    |                |                  |                 |                    |                     |                  |      \"is_gluten_free_flag\": \"Y\",  |\n",
      "|           |                |                |                    |                |                  |                 |                    |                     |                  |      \"is_healthy_flag\": \"N\",      |\n",
      "|           |                |                |                    |                |                  |                 |                    |                     |                  |      \"is_nut_free_flag\": \"Y\"      |\n",
      "|           |                |                |                    |                |                  |                 |                    |                     |                  |    }                              |\n",
      "|           |                |                |                    |                |                  |                 |                    |                     |                  |  ],                               |\n",
      "|           |                |                |                    |                |                  |                 |                    |                     |                  |  \"menu_item_id\": 56               |\n",
      "|           |                |                |                    |                |                  |                 |                    |                     |                  |}                                  |\n",
      "|10041      |6               |Grilled Cheese  |The Mega Melt       |61              |The Original      |Main             |Hot Option          |1.5000               |5.0000            |{                                  |\n",
      "|           |                |                |                    |                |                  |                 |                    |                     |                  |  \"menu_item_health_metrics\": [    |\n",
      "|           |                |                |                    |                |                  |                 |                    |                     |                  |    {                              |\n",
      "|           |                |                |                    |                |                  |                 |                    |                     |                  |      \"ingredients\": [             |\n",
      "|           |                |                |                    |                |                  |                 |                    |                     |                  |        \"White Bread\",             |\n",
      "|           |                |                |                    |                |                  |                 |                    |                     |                  |        \"Cheddar Cheese\"           |\n",
      "|           |                |                |                    |                |                  |                 |                    |                     |                  |      ],                           |\n",
      "|           |                |                |                    |                |                  |                 |                    |                     |                  |      \"is_dairy_free_flag\": \"N\",   |\n",
      "|           |                |                |                    |                |                  |                 |                    |                     |                  |      \"is_gluten_free_flag\": \"N\",  |\n",
      "|           |                |                |                    |                |                  |                 |                    |                     |                  |      \"is_healthy_flag\": \"N\",      |\n",
      "|           |                |                |                    |                |                  |                 |                    |                     |                  |      \"is_nut_free_flag\": \"Y\"      |\n",
      "|           |                |                |                    |                |                  |                 |                    |                     |                  |    }                              |\n",
      "|           |                |                |                    |                |                  |                 |                    |                     |                  |  ],                               |\n",
      "|           |                |                |                    |                |                  |                 |                    |                     |                  |  \"menu_item_id\": 61               |\n",
      "|           |                |                |                    |                |                  |                 |                    |                     |                  |}                                  |\n",
      "|10042      |6               |Grilled Cheese  |The Mega Melt       |62              |The Ranch         |Main             |Hot Option          |2.4000               |6.0000            |{                                  |\n",
      "|           |                |                |                    |                |                  |                 |                    |                     |                  |  \"menu_item_health_metrics\": [    |\n",
      "|           |                |                |                    |                |                  |                 |                    |                     |                  |    {                              |\n",
      "|           |                |                |                    |                |                  |                 |                    |                     |                  |      \"ingredients\": [             |\n",
      "|           |                |                |                    |                |                  |                 |                    |                     |                  |        \"Sourdough Bread\",         |\n",
      "|           |                |                |                    |                |                  |                 |                    |                     |                  |        \"Cheddar Cheese\",          |\n",
      "|           |                |                |                    |                |                  |                 |                    |                     |                  |        \"Pepper Jack\",             |\n",
      "|           |                |                |                    |                |                  |                 |                    |                     |                  |        \"Deli Turkey\",             |\n",
      "|           |                |                |                    |                |                  |                 |                    |                     |                  |        \"Crispy Bacon\"             |\n",
      "|           |                |                |                    |                |                  |                 |                    |                     |                  |      ],                           |\n",
      "|           |                |                |                    |                |                  |                 |                    |                     |                  |      \"is_dairy_free_flag\": \"N\",   |\n",
      "|           |                |                |                    |                |                  |                 |                    |                     |                  |      \"is_gluten_free_flag\": \"N\",  |\n",
      "|           |                |                |                    |                |                  |                 |                    |                     |                  |      \"is_healthy_flag\": \"N\",      |\n",
      "|           |                |                |                    |                |                  |                 |                    |                     |                  |      \"is_nut_free_flag\": \"Y\"      |\n",
      "|           |                |                |                    |                |                  |                 |                    |                     |                  |    }                              |\n",
      "|           |                |                |                    |                |                  |                 |                    |                     |                  |  ],                               |\n",
      "|           |                |                |                    |                |                  |                 |                    |                     |                  |  \"menu_item_id\": 62               |\n",
      "|           |                |                |                    |                |                  |                 |                    |                     |                  |}                                  |\n",
      "|10043      |6               |Grilled Cheese  |The Mega Melt       |63              |Miss Piggie       |Main             |Hot Option          |2.6000               |6.0000            |{                                  |\n",
      "|           |                |                |                    |                |                  |                 |                    |                     |                  |  \"menu_item_health_metrics\": [    |\n",
      "|           |                |                |                    |                |                  |                 |                    |                     |                  |    {                              |\n",
      "|           |                |                |                    |                |                  |                 |                    |                     |                  |      \"ingredients\": [             |\n",
      "|           |                |                |                    |                |                  |                 |                    |                     |                  |        \"Pressed Brioche Bun\",     |\n",
      "|           |                |                |                    |                |                  |                 |                    |                     |                  |        \"Ham\",                     |\n",
      "|           |                |                |                    |                |                  |                 |                    |                     |                  |        \"Swiss\",                   |\n",
      "|           |                |                |                    |                |                  |                 |                    |                     |                  |        \"Spicy Brown Mustard\",     |\n",
      "|           |                |                |                    |                |                  |                 |                    |                     |                  |        \"Pickles\"                  |\n",
      "|           |                |                |                    |                |                  |                 |                    |                     |                  |      ],                           |\n",
      "|           |                |                |                    |                |                  |                 |                    |                     |                  |      \"is_dairy_free_flag\": \"N\",   |\n",
      "|           |                |                |                    |                |                  |                 |                    |                     |                  |      \"is_gluten_free_flag\": \"N\",  |\n",
      "|           |                |                |                    |                |                  |                 |                    |                     |                  |      \"is_healthy_flag\": \"N\",      |\n",
      "|           |                |                |                    |                |                  |                 |                    |                     |                  |      \"is_nut_free_flag\": \"Y\"      |\n",
      "|           |                |                |                    |                |                  |                 |                    |                     |                  |    }                              |\n",
      "|           |                |                |                    |                |                  |                 |                    |                     |                  |  ],                               |\n",
      "|           |                |                |                    |                |                  |                 |                    |                     |                  |  \"menu_item_id\": 63               |\n",
      "|           |                |                |                    |                |                  |                 |                    |                     |                  |}                                  |\n",
      "|10044      |6               |Grilled Cheese  |The Mega Melt       |64              |Bottled Water     |Beverage         |Cold Option         |0.5000               |2.0000            |{                                  |\n",
      "|           |                |                |                    |                |                  |                 |                    |                     |                  |  \"menu_item_health_metrics\": [    |\n",
      "|           |                |                |                    |                |                  |                 |                    |                     |                  |    {                              |\n",
      "|           |                |                |                    |                |                  |                 |                    |                     |                  |      \"ingredients\": [             |\n",
      "|           |                |                |                    |                |                  |                 |                    |                     |                  |        \"12 Oz Bottle Water\"       |\n",
      "|           |                |                |                    |                |                  |                 |                    |                     |                  |      ],                           |\n",
      "|           |                |                |                    |                |                  |                 |                    |                     |                  |      \"is_dairy_free_flag\": \"Y\",   |\n",
      "|           |                |                |                    |                |                  |                 |                    |                     |                  |      \"is_gluten_free_flag\": \"Y\",  |\n",
      "|           |                |                |                    |                |                  |                 |                    |                     |                  |      \"is_healthy_flag\": \"Y\",      |\n",
      "|           |                |                |                    |                |                  |                 |                    |                     |                  |      \"is_nut_free_flag\": \"Y\"      |\n",
      "|           |                |                |                    |                |                  |                 |                    |                     |                  |    }                              |\n",
      "|           |                |                |                    |                |                  |                 |                    |                     |                  |  ],                               |\n",
      "|           |                |                |                    |                |                  |                 |                    |                     |                  |  \"menu_item_id\": 64               |\n",
      "|           |                |                |                    |                |                  |                 |                    |                     |                  |}                                  |\n",
      "|10045      |6               |Grilled Cheese  |The Mega Melt       |65              |Bottled Soda      |Beverage         |Cold Option         |0.5000               |3.0000            |{                                  |\n",
      "|           |                |                |                    |                |                  |                 |                    |                     |                  |  \"menu_item_health_metrics\": [    |\n",
      "|           |                |                |                    |                |                  |                 |                    |                     |                  |    {                              |\n",
      "|           |                |                |                    |                |                  |                 |                    |                     |                  |      \"ingredients\": [             |\n",
      "|           |                |                |                    |                |                  |                 |                    |                     |                  |        \"12 Oz Bottle Soda\"        |\n",
      "|           |                |                |                    |                |                  |                 |                    |                     |                  |      ],                           |\n",
      "|           |                |                |                    |                |                  |                 |                    |                     |                  |      \"is_dairy_free_flag\": \"Y\",   |\n",
      "|           |                |                |                    |                |                  |                 |                    |                     |                  |      \"is_gluten_free_flag\": \"Y\",  |\n",
      "|           |                |                |                    |                |                  |                 |                    |                     |                  |      \"is_healthy_flag\": \"N\",      |\n",
      "|           |                |                |                    |                |                  |                 |                    |                     |                  |      \"is_nut_free_flag\": \"Y\"      |\n",
      "|           |                |                |                    |                |                  |                 |                    |                     |                  |    }                              |\n",
      "|           |                |                |                    |                |                  |                 |                    |                     |                  |  ],                               |\n",
      "|           |                |                |                    |                |                  |                 |                    |                     |                  |  \"menu_item_id\": 65               |\n",
      "|           |                |                |                    |                |                  |                 |                    |                     |                  |}                                  |\n",
      "|10046      |6               |Grilled Cheese  |The Mega Melt       |66              |Ice Tea           |Beverage         |Cold Option         |0.7500               |3.0000            |{                                  |\n",
      "|           |                |                |                    |                |                  |                 |                    |                     |                  |  \"menu_item_health_metrics\": [    |\n",
      "|           |                |                |                    |                |                  |                 |                    |                     |                  |    {                              |\n",
      "|           |                |                |                    |                |                  |                 |                    |                     |                  |      \"ingredients\": [             |\n",
      "|           |                |                |                    |                |                  |                 |                    |                     |                  |        \"12 Oz Bottle Ice Tea\"     |\n",
      "|           |                |                |                    |                |                  |                 |                    |                     |                  |      ],                           |\n",
      "|           |                |                |                    |                |                  |                 |                    |                     |                  |      \"is_dairy_free_flag\": \"Y\",   |\n",
      "|           |                |                |                    |                |                  |                 |                    |                     |                  |      \"is_gluten_free_flag\": \"Y\",  |\n",
      "|           |                |                |                    |                |                  |                 |                    |                     |                  |      \"is_healthy_flag\": \"N\",      |\n",
      "|           |                |                |                    |                |                  |                 |                    |                     |                  |      \"is_nut_free_flag\": \"Y\"      |\n",
      "|           |                |                |                    |                |                  |                 |                    |                     |                  |    }                              |\n",
      "|           |                |                |                    |                |                  |                 |                    |                     |                  |  ],                               |\n",
      "|           |                |                |                    |                |                  |                 |                    |                     |                  |  \"menu_item_id\": 66               |\n",
      "|           |                |                |                    |                |                  |                 |                    |                     |                  |}                                  |\n",
      "|10047      |7               |Vegetarian      |Plant Palace        |71              |Veggie Burger     |Main             |Hot Option          |5.0000               |9.0000            |{                                  |\n",
      "|           |                |                |                    |                |                  |                 |                    |                     |                  |  \"menu_item_health_metrics\": [    |\n",
      "|           |                |                |                    |                |                  |                 |                    |                     |                  |    {                              |\n",
      "|           |                |                |                    |                |                  |                 |                    |                     |                  |      \"ingredients\": [             |\n",
      "|           |                |                |                    |                |                  |                 |                    |                     |                  |        \"Brioche Bun\",             |\n",
      "|           |                |                |                    |                |                  |                 |                    |                     |                  |        \"Black Bean Burger\",       |\n",
      "|           |                |                |                    |                |                  |                 |                    |                     |                  |        \"Vegan Cheese\",            |\n",
      "|           |                |                |                    |                |                  |                 |                    |                     |                  |        \"Lettuce\"                  |\n",
      "|           |                |                |                    |                |                  |                 |                    |                     |                  |      ],                           |\n",
      "|           |                |                |                    |                |                  |                 |                    |                     |                  |      \"is_dairy_free_flag\": \"N\",   |\n",
      "|           |                |                |                    |                |                  |                 |                    |                     |                  |      \"is_gluten_free_flag\": \"N\",  |\n",
      "|           |                |                |                    |                |                  |                 |                    |                     |                  |      \"is_healthy_flag\": \"N\",      |\n",
      "|           |                |                |                    |                |                  |                 |                    |                     |                  |      \"is_nut_free_flag\": \"Y\"      |\n",
      "|           |                |                |                    |                |                  |                 |                    |                     |                  |    }                              |\n",
      "|           |                |                |                    |                |                  |                 |                    |                     |                  |  ],                               |\n",
      "|           |                |                |                    |                |                  |                 |                    |                     |                  |  \"menu_item_id\": 71               |\n",
      "|           |                |                |                    |                |                  |                 |                    |                     |                  |}                                  |\n",
      "----------------------------------------------------------------------------------------------------------------------------------------------------------------------------------------------------------------------------\n",
      "\n"
     ]
    }
   ],
   "source": [
    "menu_df.show()"
   ]
  },
  {
   "cell_type": "code",
   "execution_count": 68,
   "metadata": {},
   "outputs": [
    {
     "name": "stdout",
     "output_type": "stream",
     "text": [
      "----------------\n",
      "|\"MIN(COUNT)\"  |\n",
      "----------------\n",
      "|8850          |\n",
      "----------------\n",
      "\n"
     ]
    }
   ],
   "source": [
    "#Minimum order transaction by a truck\n",
    "order_header_df.group_by(\"TRUCK_ID\").agg(F.count(\"ORDER_ID\").alias('count')).agg(F.min('count')).show()"
   ]
  },
  {
   "cell_type": "code",
   "execution_count": 69,
   "metadata": {},
   "outputs": [],
   "source": [
    "#order_header_df.drop_duplicates('ORDER_ID').group_by('ORDER_ID').agg(F.count('ORDER_ID').alias('nnn')).agg(F.sum('NNN')).show()"
   ]
  },
  {
   "cell_type": "code",
   "execution_count": 70,
   "metadata": {},
   "outputs": [],
   "source": [
    "#order_detail_df.drop_duplicates('ORDER_ID').group_by('ORDER_ID').agg(F.count('ORDER_ID').alias('nnn')).agg(F.sum('NNN')).show()"
   ]
  },
  {
   "cell_type": "code",
   "execution_count": 71,
   "metadata": {},
   "outputs": [],
   "source": [
    "order_truck = order_header_df.select('ORDER_ID', 'TRUCK_ID', 'ORDER_TS')\n",
    "df = order_detail_df.join(order_truck, order_detail_df.ORDER_ID == order_truck.ORDER_ID, how = \"left\", lsuffix = \"\", rsuffix = \"_01\")"
   ]
  },
  {
   "cell_type": "code",
   "execution_count": 72,
   "metadata": {},
   "outputs": [],
   "source": [
    "#df.show()"
   ]
  },
  {
   "cell_type": "code",
   "execution_count": 73,
   "metadata": {},
   "outputs": [
    {
     "name": "stdout",
     "output_type": "stream",
     "text": [
      "-----------------------\n",
      "|\"MAX(ORDER_TS)\"      |\n",
      "-----------------------\n",
      "|2022-11-01 22:59:59  |\n",
      "-----------------------\n",
      "\n"
     ]
    }
   ],
   "source": [
    "df.agg(F.max(\"ORDER_TS\")).show()"
   ]
  },
  {
   "cell_type": "code",
   "execution_count": 74,
   "metadata": {},
   "outputs": [],
   "source": [
    "#df = df.with_column('ORDER_YEAR', F.year(F.col('ORDER_TS')))\n",
    "#df = df.with_column('ORDER_MONTH', F.month(F.col('ORDER_TS')))\n",
    "#df = df.with_column('ORDER_DAY', F.dayofmonth(F.col('ORDER_TS')))\n",
    "df = df.with_column('LAST_DATE', F.iff(F.col('ORDER_TS') == F.col('ORDER_TS'), '2022-11-01', \"0\"))\n",
    "df = df.with_column('DAYS_AGO', F.datediff('day', F.col('ORDER_TS'), F.col('LAST_DATE')))"
   ]
  },
  {
   "cell_type": "code",
   "execution_count": 75,
   "metadata": {},
   "outputs": [
    {
     "name": "stdout",
     "output_type": "stream",
     "text": [
      "--------------------------------------------------------------------------------------------------------------------------------------------------------------------------------------------------------------------------------------\n",
      "|\"ORDER_DETAIL_ID\"  |\"ORDER_ID\"  |\"MENU_ITEM_ID\"  |\"DISCOUNT_ID\"  |\"LINE_NUMBER\"  |\"QUANTITY\"  |\"UNIT_PRICE\"  |\"PRICE\"  |\"ORDER_ITEM_DISCOUNT_AMOUNT\"  |\"ORDER_ID_01\"  |\"TRUCK_ID\"  |\"ORDER_TS\"           |\"LAST_DATE\"  |\"DAYS_AGO\"  |\n",
      "--------------------------------------------------------------------------------------------------------------------------------------------------------------------------------------------------------------------------------------\n",
      "|798202503          |420427400   |131             |NULL           |0              |4           |13.0000       |52.0000  |NULL                          |420427400      |433         |2022-04-10 19:44:21  |2022-11-01   |205         |\n",
      "|798202504          |420427400   |132             |NULL           |1              |4           |11.0000       |44.0000  |NULL                          |420427400      |433         |2022-04-10 19:44:21  |2022-11-01   |205         |\n",
      "|798202497          |420427397   |133             |NULL           |0              |1           |6.0000        |6.0000   |NULL                          |420427397      |433         |2022-04-10 19:42:18  |2022-11-01   |205         |\n",
      "|798202498          |420427398   |133             |NULL           |0              |1           |6.0000        |6.0000   |NULL                          |420427398      |433         |2022-04-10 19:42:32  |2022-11-01   |205         |\n",
      "|798202499          |420427399   |131             |NULL           |0              |2           |13.0000       |26.0000  |NULL                          |420427399      |433         |2022-04-10 19:42:48  |2022-11-01   |205         |\n",
      "|798202500          |420427399   |132             |NULL           |1              |1           |11.0000       |11.0000  |NULL                          |420427399      |433         |2022-04-10 19:42:48  |2022-11-01   |205         |\n",
      "|798202501          |420427399   |133             |NULL           |2              |2           |6.0000        |12.0000  |NULL                          |420427399      |433         |2022-04-10 19:42:48  |2022-11-01   |205         |\n",
      "|798202502          |420427399   |134             |NULL           |3              |1           |2.0000        |2.0000   |NULL                          |420427399      |433         |2022-04-10 19:42:48  |2022-11-01   |205         |\n",
      "|798202496          |420427396   |133             |NULL           |0              |1           |6.0000        |6.0000   |NULL                          |420427396      |433         |2022-04-10 19:42:15  |2022-11-01   |205         |\n",
      "|798202495          |420427395   |131             |NULL           |0              |1           |13.0000       |13.0000  |NULL                          |420427395      |433         |2022-04-10 19:38:13  |2022-11-01   |205         |\n",
      "--------------------------------------------------------------------------------------------------------------------------------------------------------------------------------------------------------------------------------------\n",
      "\n"
     ]
    }
   ],
   "source": [
    "df.show()"
   ]
  },
  {
   "cell_type": "code",
   "execution_count": 76,
   "metadata": {},
   "outputs": [],
   "source": [
    "#df.describe().show()"
   ]
  },
  {
   "cell_type": "code",
   "execution_count": 77,
   "metadata": {},
   "outputs": [
    {
     "name": "stdout",
     "output_type": "stream",
     "text": [
      "-------------------------------------------------------\n",
      "|\"TRUCK_ID\"  |\"MENU_ITEM_ID\"  |\"DAYS_AGO\"  |\"DEMAND\"  |\n",
      "-------------------------------------------------------\n",
      "|1           |17              |212         |39        |\n",
      "|1           |11              |208         |39        |\n",
      "|1           |17              |208         |37        |\n",
      "|1           |13              |207         |40        |\n",
      "|1           |13              |211         |22        |\n",
      "|1           |13              |205         |31        |\n",
      "|1           |12              |208         |40        |\n",
      "|1           |17              |202         |30        |\n",
      "|1           |13              |206         |41        |\n",
      "|1           |11              |211         |23        |\n",
      "-------------------------------------------------------\n",
      "\n"
     ]
    }
   ],
   "source": [
    "#demand_df = df.group_by(\"TRUCK_ID\", 'MENU_ITEM_ID', 'ORDER_TS').agg(F.sum(\"QUANTITY\").alias('DEMAND')) fix order_ts also hv other codes\n",
    "demand_df = df.group_by(\"TRUCK_ID\", 'MENU_ITEM_ID', 'DAYS_AGO').agg(F.sum(\"QUANTITY\").alias('DEMAND'))\n",
    "demand_df.sort('TRUCK_ID').show()"
   ]
  },
  {
   "cell_type": "code",
   "execution_count": 78,
   "metadata": {},
   "outputs": [],
   "source": [
    "unit_price = df.group_by(\"TRUCK_ID\", 'MENU_ITEM_ID', 'DAYS_AGO').agg(F.mean(\"unit_price\").alias('unit_price'))\n",
    "#unit_price = df.group_by(\"TRUCK_ID\", 'MENU_ITEM_ID', 'ORDER_TS').agg(F.mean(\"unit_price\").alias('unit_price'))\n",
    "#unit_price.sort('TRUCK_ID').show()"
   ]
  },
  {
   "cell_type": "code",
   "execution_count": 79,
   "metadata": {},
   "outputs": [],
   "source": [
    "final_df = demand_df.join(unit_price, on= ['TRUCK_ID', 'MENU_ITEM_ID', 'DAYS_AGO'], lsuffix = \"\", rsuffix = \"_01\")\n",
    "#final_df = demand_df.join(unit_price, on= ['TRUCK_ID', 'MENU_ITEM_ID', 'ORDER_TS'], lsuffix = \"\", rsuffix = \"_01\")"
   ]
  },
  {
   "cell_type": "code",
   "execution_count": 80,
   "metadata": {},
   "outputs": [],
   "source": [
    "final_df = final_df.withColumn(\"date\", F.iff(F.col('TRUCK_ID') == F.col('TRUCK_ID'), '2022-11-01', '0'))\n",
    "final_df = final_df.withColumn(\"date\", F.to_date(\"date\"))\n",
    "final_df = final_df.with_column('ORDER_TS', F.date_sub(F.col('DATE'), F.col('DAYS_AGO')))\n",
    "final_df = final_df.with_column('ORDER_YEAR', F.year(F.col('ORDER_TS')))\n",
    "final_df = final_df.with_column('ORDER_MONTH', F.month(F.col('ORDER_TS')))\n",
    "final_df = final_df.with_column('ORDER_DAY', F.dayofmonth(F.col('ORDER_TS')))"
   ]
  },
  {
   "cell_type": "code",
   "execution_count": 81,
   "metadata": {},
   "outputs": [],
   "source": [
    "final_df = final_df.drop(['DATE', 'ORDER_TS'])"
   ]
  },
  {
   "cell_type": "code",
   "execution_count": 82,
   "metadata": {},
   "outputs": [
    {
     "name": "stdout",
     "output_type": "stream",
     "text": [
      "--------------------------------------------------------------------------------------------------------------------\n",
      "|\"TRUCK_ID\"  |\"MENU_ITEM_ID\"  |\"DAYS_AGO\"  |\"DEMAND\"  |\"UNIT_PRICE\"   |\"ORDER_YEAR\"  |\"ORDER_MONTH\"  |\"ORDER_DAY\"  |\n",
      "--------------------------------------------------------------------------------------------------------------------\n",
      "|252         |124             |421         |368       |2.0000000000   |2021          |9              |6            |\n",
      "|242         |21              |420         |850       |14.0000000000  |2021          |9              |7            |\n",
      "|242         |29              |419         |899       |6.0000000000   |2021          |9              |8            |\n",
      "|242         |27              |419         |877       |6.0000000000   |2021          |9              |8            |\n",
      "|248         |83              |419         |1611      |9.0000000000   |2021          |9              |8            |\n",
      "|248         |86              |419         |407       |3.0000000000   |2021          |9              |8            |\n",
      "|250         |102             |419         |1573      |9.0000000000   |2021          |9              |8            |\n",
      "|296         |112             |510         |1616      |12.0000000000  |2021          |6              |9            |\n",
      "|296         |113             |510         |1548      |14.0000000000  |2021          |6              |9            |\n",
      "|297         |123             |510         |1508      |11.0000000000  |2021          |6              |9            |\n",
      "--------------------------------------------------------------------------------------------------------------------\n",
      "\n"
     ]
    }
   ],
   "source": [
    "final_df.show()"
   ]
  },
  {
   "cell_type": "code",
   "execution_count": 83,
   "metadata": {},
   "outputs": [
    {
     "name": "stdout",
     "output_type": "stream",
     "text": [
      "-----------------------------------------------------------------------------------------------------------------------------------------------------------------------------------------------------------------------------------\n",
      "|\"TRUCK_ID\"  |\"MENU_TYPE_ID\"  |\"PRIMARY_CITY\"  |\"REGION\"    |\"ISO_REGION\"  |\"COUNTRY\"      |\"ISO_COUNTRY_CODE\"  |\"FRANCHISE_FLAG\"  |\"YEAR\"  |\"MAKE\"        |\"MODEL\"           |\"EV_FLAG\"  |\"FRANCHISE_ID\"  |\"TRUCK_OPENING_DATE\"  |\n",
      "-----------------------------------------------------------------------------------------------------------------------------------------------------------------------------------------------------------------------------------\n",
      "|3           |3               |San Mateo       |California  |CA            |United States  |US                  |1                 |2004    |Freightliner  |MT45 Utilimaster  |0          |2               |2021-10-01            |\n",
      "|4           |4               |San Mateo       |California  |CA            |United States  |US                  |1                 |1997    |Chevrolet     |P30               |1          |3               |2021-01-01            |\n",
      "|5           |5               |San Mateo       |California  |CA            |United States  |US                  |1                 |2010    |Custom        |Van               |1          |4               |2022-04-01            |\n",
      "|6           |6               |San Mateo       |California  |CA            |United States  |US                  |1                 |2010    |Airstream     |Trailer           |0          |5               |2019-07-01            |\n",
      "|7           |7               |San Mateo       |California  |CA            |United States  |US                  |1                 |2010    |Custom        |Van               |0          |6               |2021-01-01            |\n",
      "|8           |8               |San Mateo       |California  |CA            |United States  |US                  |1                 |1999    |Chevrolet     |P30               |1          |7               |2022-04-01            |\n",
      "|9           |9               |San Mateo       |California  |CA            |United States  |US                  |1                 |2008    |Custom        |Box Truck         |0          |8               |2020-07-01            |\n",
      "|12          |12              |San Mateo       |California  |CA            |United States  |US                  |1                 |2010    |Custom        |Van               |0          |11              |2021-04-01            |\n",
      "|13          |13              |San Mateo       |California  |CA            |United States  |US                  |1                 |2000    |Freightliner  |MT45 Utilimaster  |0          |12              |2021-07-01            |\n",
      "|14          |14              |San Mateo       |California  |CA            |United States  |US                  |1                 |2004    |Freightliner  |MT45 Utilimaster  |0          |12              |2020-10-01            |\n",
      "-----------------------------------------------------------------------------------------------------------------------------------------------------------------------------------------------------------------------------------\n",
      "\n"
     ]
    }
   ],
   "source": [
    "truck_df.show()"
   ]
  },
  {
   "cell_type": "code",
   "execution_count": 84,
   "metadata": {},
   "outputs": [],
   "source": [
    "#truck_df = truck_df.filter(F.col('COUNTRY') == 'United States')"
   ]
  },
  {
   "cell_type": "code",
   "execution_count": 85,
   "metadata": {},
   "outputs": [
    {
     "name": "stdout",
     "output_type": "stream",
     "text": [
      "------------------------------------------\n",
      "|\"TRUCK_ID\"  |\"EV_FLAG\"  |\"DAYS_OPENED\"  |\n",
      "------------------------------------------\n",
      "|3           |0          |382            |\n",
      "|4           |1          |655            |\n",
      "|5           |1          |200            |\n",
      "|6           |0          |1205           |\n",
      "|7           |0          |655            |\n",
      "|8           |1          |200            |\n",
      "|9           |0          |839            |\n",
      "|12          |0          |565            |\n",
      "|13          |0          |474            |\n",
      "|14          |0          |747            |\n",
      "------------------------------------------\n",
      "\n"
     ]
    }
   ],
   "source": [
    "truck = truck_df.with_column('LAST_DATE', F.iff(F.col(\"TRUCK_ID\") == F.col('TRUCK_ID'), \"2022-10-18\", '0'))\n",
    "truck = truck.withColumn(\"DAYS_OPENED\", F.datediff(\"day\", F.col(\"TRUCK_OPENING_DATE\"), F.col('LAST_DATE')))\n",
    "#truck = truck.select('TRUCK_ID', 'PRIMARY_CITY', 'REGION', 'COUNTRY', 'DAYS_OPENED')\n",
    "truck = truck.select('TRUCK_ID','EV_FLAG','DAYS_OPENED')\n",
    "\n",
    "truck.show()"
   ]
  },
  {
   "cell_type": "code",
   "execution_count": 86,
   "metadata": {},
   "outputs": [],
   "source": [
    "final_df = final_df.join(truck, on= ['TRUCK_ID'], lsuffix = \"\", rsuffix = \"_01\")"
   ]
  },
  {
   "cell_type": "code",
   "execution_count": 87,
   "metadata": {},
   "outputs": [
    {
     "name": "stdout",
     "output_type": "stream",
     "text": [
      "----------------------------------------------------------------------------------------------------------------------------------------------------------------------------------------------\n",
      "|\"MENU_ID\"  |\"MENU_TYPE_ID\"  |\"MENU_TYPE\"  |\"TRUCK_BRAND_NAME\"  |\"MENU_ITEM_ID\"  |\"MENU_ITEM_NAME\"           |\"ITEM_CATEGORY\"  |\"ITEM_SUBCATEGORY\"  |\"COST_OF_GOODS_USD\"  |\"SALE_PRICE_USD\"  |\n",
      "----------------------------------------------------------------------------------------------------------------------------------------------------------------------------------------------\n",
      "|10088      |13              |Chinese      |Peking Truck        |136             |Ice Tea                    |Beverage         |Cold Option         |0.7500               |3.0000            |\n",
      "|10089      |14              |Indian       |Nani's Kitchen      |141             |Lean Chicken Tikka Masala  |Main             |Hot Option          |10.0000              |17.0000           |\n",
      "|10090      |14              |Indian       |Nani's Kitchen      |142             |Tandoori Mixed Grill       |Main             |Hot Option          |11.0000              |18.0000           |\n",
      "|10091      |14              |Indian       |Nani's Kitchen      |143             |Combination Curry          |Main             |Hot Option          |9.0000               |15.0000           |\n",
      "|10092      |14              |Indian       |Nani's Kitchen      |144             |Bottled Water              |Beverage         |Cold Option         |0.5000               |2.0000            |\n",
      "|10093      |14              |Indian       |Nani's Kitchen      |145             |Bottled Soda               |Beverage         |Cold Option         |0.5000               |3.0000            |\n",
      "|10094      |14              |Indian       |Nani's Kitchen      |146             |Ice Tea                    |Beverage         |Cold Option         |0.7500               |3.0000            |\n",
      "|10095      |15              |Sandwiches   |Better Off Bread    |151             |Italian                    |Main             |Cold Option         |6.0000               |11.0000           |\n",
      "|10096      |15              |Sandwiches   |Better Off Bread    |152             |Pastrami                   |Main             |Cold Option         |8.0000               |11.0000           |\n",
      "|10097      |15              |Sandwiches   |Better Off Bread    |153             |Hot Ham & Cheese           |Main             |Hot Option          |7.0000               |11.0000           |\n",
      "----------------------------------------------------------------------------------------------------------------------------------------------------------------------------------------------\n",
      "\n"
     ]
    }
   ],
   "source": [
    "menu = menu_df.drop('MENU_ITEM_HEALTH_METRICS_OBJ')\n",
    "menu.show()"
   ]
  },
  {
   "cell_type": "code",
   "execution_count": 88,
   "metadata": {},
   "outputs": [
    {
     "name": "stdout",
     "output_type": "stream",
     "text": [
      "--------------------------------------------------------------------------------------------------\n",
      "|\"MENU_ITEM_ID\"  |\"MENU_TYPE_ID\"  |\"TEMPERATURE_OPTION\"  |\"COST_OF_GOODS_USD\"  |\"ITEM_CATEGORY\"  |\n",
      "--------------------------------------------------------------------------------------------------\n",
      "|10              |1               |0                     |0.6500               |Beverage         |\n",
      "|11              |1               |0                     |2.5000               |Dessert          |\n",
      "|12              |1               |0                     |2.5000               |Dessert          |\n",
      "|13              |1               |0                     |3.0000               |Dessert          |\n",
      "|14              |1               |0                     |0.5000               |Beverage         |\n",
      "|15              |1               |0                     |0.5000               |Beverage         |\n",
      "|16              |1               |0                     |0.7500               |Beverage         |\n",
      "|17              |1               |0                     |1.0000               |Dessert          |\n",
      "|18              |1               |0                     |1.2500               |Dessert          |\n",
      "|19              |1               |0                     |0.5000               |Dessert          |\n",
      "--------------------------------------------------------------------------------------------------\n",
      "\n"
     ]
    }
   ],
   "source": [
    "menu = menu.with_column('TEMPERATURE_OPTION', F.when(F.col('ITEM_SUBCATEGORY') == 'Cold Option', 0).when(\n",
    "    F.col('ITEM_SUBCATEGORY') == 'Warm Option', 1).otherwise(2))\n",
    "menu = menu.select('MENU_ITEM_ID', 'MENU_TYPE_ID', 'TEMPERATURE_OPTION', 'COST_OF_GOODS_USD', 'ITEM_CATEGORY') #Add item category and ohe in pandas\n",
    "menu.show()"
   ]
  },
  {
   "cell_type": "code",
   "execution_count": 89,
   "metadata": {},
   "outputs": [],
   "source": [
    "final_df = final_df.join(menu, on= ['MENU_ITEM_ID'], lsuffix = \"\", rsuffix = \"_01\")"
   ]
  },
  {
   "cell_type": "code",
   "execution_count": 90,
   "metadata": {},
   "outputs": [],
   "source": [
    "#final_df.show()"
   ]
  },
  {
   "cell_type": "code",
   "execution_count": 91,
   "metadata": {},
   "outputs": [],
   "source": [
    "#final_df.sort(['ORDER_YEAR', 'ORDER_MONTH'], ascending=[False, False]).show()"
   ]
  },
  {
   "cell_type": "code",
   "execution_count": 92,
   "metadata": {},
   "outputs": [],
   "source": [
    "import feature_engine\n",
    "from feature_engine.encoding import OneHotEncoder\n",
    "\n",
    "final_df = final_df.to_pandas()\n",
    "ohe_enc = OneHotEncoder(\n",
    "    top_categories=None,\n",
    "    drop_last=False,\n",
    "    variables= ['ITEM_CATEGORY'])  # to return k-1, false to return k\n",
    "\n",
    "\n",
    "ohe_enc.fit(final_df)\n",
    "final_df = ohe_enc.transform(final_df)"
   ]
  },
  {
   "cell_type": "code",
   "execution_count": 93,
   "metadata": {},
   "outputs": [
    {
     "name": "stdout",
     "output_type": "stream",
     "text": [
      "<class 'pandas.core.frame.DataFrame'>\n",
      "RangeIndex: 1744744 entries, 0 to 1744743\n",
      "Data columns (total 16 columns):\n",
      " #   Column                  Dtype  \n",
      "---  ------                  -----  \n",
      " 0   MENU_ITEM_ID            int16  \n",
      " 1   TRUCK_ID                int16  \n",
      " 2   DEMAND                  int64  \n",
      " 3   UNIT_PRICE              object \n",
      " 4   ORDER_YEAR              int16  \n",
      " 5   ORDER_MONTH             int8   \n",
      " 6   ORDER_DAY               int8   \n",
      " 7   EV_FLAG                 int8   \n",
      " 8   DAYS_OPENED             int32  \n",
      " 9   MENU_TYPE_ID            int8   \n",
      " 10  TEMPERATURE_OPTION      int8   \n",
      " 11  COST_OF_GOODS_USD       float64\n",
      " 12  ITEM_CATEGORY_Main      int32  \n",
      " 13  ITEM_CATEGORY_Snack     int32  \n",
      " 14  ITEM_CATEGORY_Beverage  int32  \n",
      " 15  ITEM_CATEGORY_Dessert   int32  \n",
      "dtypes: float64(1), int16(3), int32(5), int64(1), int8(5), object(1)\n",
      "memory usage: 91.5+ MB\n"
     ]
    }
   ],
   "source": [
    "final_df = final_df.drop('DAYS_AGO', axis=1)\n",
    "final_df.info()"
   ]
  },
  {
   "cell_type": "code",
   "execution_count": 94,
   "metadata": {},
   "outputs": [
    {
     "name": "stderr",
     "output_type": "stream",
     "text": [
      "C:\\Users\\tanko\\AppData\\Local\\Temp\\ipykernel_24888\\2626907977.py:1: FutureWarning: The default value of numeric_only in DataFrame.corr is deprecated. In a future version, it will default to False. Select only valid columns or specify the value of numeric_only to silence this warning.\n",
      "  final_df.corr()\n"
     ]
    },
    {
     "data": {
      "text/html": [
       "<div>\n",
       "<style scoped>\n",
       "    .dataframe tbody tr th:only-of-type {\n",
       "        vertical-align: middle;\n",
       "    }\n",
       "\n",
       "    .dataframe tbody tr th {\n",
       "        vertical-align: top;\n",
       "    }\n",
       "\n",
       "    .dataframe thead th {\n",
       "        text-align: right;\n",
       "    }\n",
       "</style>\n",
       "<table border=\"1\" class=\"dataframe\">\n",
       "  <thead>\n",
       "    <tr style=\"text-align: right;\">\n",
       "      <th></th>\n",
       "      <th>MENU_ITEM_ID</th>\n",
       "      <th>TRUCK_ID</th>\n",
       "      <th>DEMAND</th>\n",
       "      <th>ORDER_YEAR</th>\n",
       "      <th>ORDER_MONTH</th>\n",
       "      <th>ORDER_DAY</th>\n",
       "      <th>EV_FLAG</th>\n",
       "      <th>DAYS_OPENED</th>\n",
       "      <th>MENU_TYPE_ID</th>\n",
       "      <th>TEMPERATURE_OPTION</th>\n",
       "      <th>COST_OF_GOODS_USD</th>\n",
       "      <th>ITEM_CATEGORY_Main</th>\n",
       "      <th>ITEM_CATEGORY_Snack</th>\n",
       "      <th>ITEM_CATEGORY_Beverage</th>\n",
       "      <th>ITEM_CATEGORY_Dessert</th>\n",
       "    </tr>\n",
       "  </thead>\n",
       "  <tbody>\n",
       "    <tr>\n",
       "      <th>MENU_ITEM_ID</th>\n",
       "      <td>1.000000</td>\n",
       "      <td>0.028822</td>\n",
       "      <td>0.137943</td>\n",
       "      <td>0.017816</td>\n",
       "      <td>0.004362</td>\n",
       "      <td>0.000118</td>\n",
       "      <td>-0.127218</td>\n",
       "      <td>-0.035291</td>\n",
       "      <td>0.998926</td>\n",
       "      <td>0.035217</td>\n",
       "      <td>0.059955</td>\n",
       "      <td>0.069602</td>\n",
       "      <td>-0.060066</td>\n",
       "      <td>0.117470</td>\n",
       "      <td>-0.345721</td>\n",
       "    </tr>\n",
       "    <tr>\n",
       "      <th>TRUCK_ID</th>\n",
       "      <td>0.028822</td>\n",
       "      <td>1.000000</td>\n",
       "      <td>0.252452</td>\n",
       "      <td>0.025549</td>\n",
       "      <td>-0.004239</td>\n",
       "      <td>-0.000364</td>\n",
       "      <td>0.074173</td>\n",
       "      <td>-0.044074</td>\n",
       "      <td>0.028875</td>\n",
       "      <td>-0.007379</td>\n",
       "      <td>0.004212</td>\n",
       "      <td>-0.005346</td>\n",
       "      <td>-0.004416</td>\n",
       "      <td>0.003138</td>\n",
       "      <td>0.008973</td>\n",
       "    </tr>\n",
       "    <tr>\n",
       "      <th>DEMAND</th>\n",
       "      <td>0.137943</td>\n",
       "      <td>0.252452</td>\n",
       "      <td>1.000000</td>\n",
       "      <td>0.036230</td>\n",
       "      <td>-0.007377</td>\n",
       "      <td>-0.000248</td>\n",
       "      <td>0.046280</td>\n",
       "      <td>-0.043923</td>\n",
       "      <td>0.157803</td>\n",
       "      <td>0.601486</td>\n",
       "      <td>0.523795</td>\n",
       "      <td>0.583752</td>\n",
       "      <td>0.123866</td>\n",
       "      <td>-0.618409</td>\n",
       "      <td>-0.037051</td>\n",
       "    </tr>\n",
       "    <tr>\n",
       "      <th>ORDER_YEAR</th>\n",
       "      <td>0.017816</td>\n",
       "      <td>0.025549</td>\n",
       "      <td>0.036230</td>\n",
       "      <td>1.000000</td>\n",
       "      <td>-0.229731</td>\n",
       "      <td>-0.005063</td>\n",
       "      <td>0.309228</td>\n",
       "      <td>-0.545806</td>\n",
       "      <td>0.018038</td>\n",
       "      <td>-0.003929</td>\n",
       "      <td>-0.005019</td>\n",
       "      <td>0.001168</td>\n",
       "      <td>-0.010138</td>\n",
       "      <td>0.003783</td>\n",
       "      <td>-0.000898</td>\n",
       "    </tr>\n",
       "    <tr>\n",
       "      <th>ORDER_MONTH</th>\n",
       "      <td>0.004362</td>\n",
       "      <td>-0.004239</td>\n",
       "      <td>-0.007377</td>\n",
       "      <td>-0.229731</td>\n",
       "      <td>1.000000</td>\n",
       "      <td>0.008547</td>\n",
       "      <td>-0.035662</td>\n",
       "      <td>0.000941</td>\n",
       "      <td>0.004355</td>\n",
       "      <td>0.001051</td>\n",
       "      <td>0.002253</td>\n",
       "      <td>-0.000146</td>\n",
       "      <td>0.002676</td>\n",
       "      <td>0.000282</td>\n",
       "      <td>-0.002883</td>\n",
       "    </tr>\n",
       "    <tr>\n",
       "      <th>ORDER_DAY</th>\n",
       "      <td>0.000118</td>\n",
       "      <td>-0.000364</td>\n",
       "      <td>-0.000248</td>\n",
       "      <td>-0.005063</td>\n",
       "      <td>0.008547</td>\n",
       "      <td>1.000000</td>\n",
       "      <td>-0.001154</td>\n",
       "      <td>0.001257</td>\n",
       "      <td>0.000118</td>\n",
       "      <td>0.000089</td>\n",
       "      <td>0.000067</td>\n",
       "      <td>0.000037</td>\n",
       "      <td>0.000057</td>\n",
       "      <td>0.000011</td>\n",
       "      <td>-0.000157</td>\n",
       "    </tr>\n",
       "    <tr>\n",
       "      <th>EV_FLAG</th>\n",
       "      <td>-0.127218</td>\n",
       "      <td>0.074173</td>\n",
       "      <td>0.046280</td>\n",
       "      <td>0.309228</td>\n",
       "      <td>-0.035662</td>\n",
       "      <td>-0.001154</td>\n",
       "      <td>1.000000</td>\n",
       "      <td>-0.544327</td>\n",
       "      <td>-0.127633</td>\n",
       "      <td>-0.011775</td>\n",
       "      <td>-0.019977</td>\n",
       "      <td>0.008565</td>\n",
       "      <td>-0.011567</td>\n",
       "      <td>-0.015115</td>\n",
       "      <td>0.025461</td>\n",
       "    </tr>\n",
       "    <tr>\n",
       "      <th>DAYS_OPENED</th>\n",
       "      <td>-0.035291</td>\n",
       "      <td>-0.044074</td>\n",
       "      <td>-0.043923</td>\n",
       "      <td>-0.545806</td>\n",
       "      <td>0.000941</td>\n",
       "      <td>0.001257</td>\n",
       "      <td>-0.544327</td>\n",
       "      <td>1.000000</td>\n",
       "      <td>-0.035691</td>\n",
       "      <td>0.006602</td>\n",
       "      <td>0.007808</td>\n",
       "      <td>-0.002041</td>\n",
       "      <td>0.016966</td>\n",
       "      <td>-0.007092</td>\n",
       "      <td>0.003333</td>\n",
       "    </tr>\n",
       "    <tr>\n",
       "      <th>MENU_TYPE_ID</th>\n",
       "      <td>0.998926</td>\n",
       "      <td>0.028875</td>\n",
       "      <td>0.157803</td>\n",
       "      <td>0.018038</td>\n",
       "      <td>0.004355</td>\n",
       "      <td>0.000118</td>\n",
       "      <td>-0.127633</td>\n",
       "      <td>-0.035691</td>\n",
       "      <td>1.000000</td>\n",
       "      <td>0.060816</td>\n",
       "      <td>0.083902</td>\n",
       "      <td>0.095344</td>\n",
       "      <td>-0.064939</td>\n",
       "      <td>0.095486</td>\n",
       "      <td>-0.348804</td>\n",
       "    </tr>\n",
       "    <tr>\n",
       "      <th>TEMPERATURE_OPTION</th>\n",
       "      <td>0.035217</td>\n",
       "      <td>-0.007379</td>\n",
       "      <td>0.601486</td>\n",
       "      <td>-0.003929</td>\n",
       "      <td>0.001051</td>\n",
       "      <td>0.000089</td>\n",
       "      <td>-0.011775</td>\n",
       "      <td>0.006602</td>\n",
       "      <td>0.060816</td>\n",
       "      <td>1.000000</td>\n",
       "      <td>0.801789</td>\n",
       "      <td>0.847621</td>\n",
       "      <td>0.064798</td>\n",
       "      <td>-0.776413</td>\n",
       "      <td>-0.205510</td>\n",
       "    </tr>\n",
       "    <tr>\n",
       "      <th>COST_OF_GOODS_USD</th>\n",
       "      <td>0.059955</td>\n",
       "      <td>0.004212</td>\n",
       "      <td>0.523795</td>\n",
       "      <td>-0.005019</td>\n",
       "      <td>0.002253</td>\n",
       "      <td>0.000067</td>\n",
       "      <td>-0.019977</td>\n",
       "      <td>0.007808</td>\n",
       "      <td>0.083902</td>\n",
       "      <td>0.801789</td>\n",
       "      <td>1.000000</td>\n",
       "      <td>0.816139</td>\n",
       "      <td>-0.010238</td>\n",
       "      <td>-0.756706</td>\n",
       "      <td>-0.107939</td>\n",
       "    </tr>\n",
       "    <tr>\n",
       "      <th>ITEM_CATEGORY_Main</th>\n",
       "      <td>0.069602</td>\n",
       "      <td>-0.005346</td>\n",
       "      <td>0.583752</td>\n",
       "      <td>0.001168</td>\n",
       "      <td>-0.000146</td>\n",
       "      <td>0.000037</td>\n",
       "      <td>0.008565</td>\n",
       "      <td>-0.002041</td>\n",
       "      <td>0.095344</td>\n",
       "      <td>0.847621</td>\n",
       "      <td>0.816139</td>\n",
       "      <td>1.000000</td>\n",
       "      <td>-0.204815</td>\n",
       "      <td>-0.804041</td>\n",
       "      <td>-0.212823</td>\n",
       "    </tr>\n",
       "    <tr>\n",
       "      <th>ITEM_CATEGORY_Snack</th>\n",
       "      <td>-0.060066</td>\n",
       "      <td>-0.004416</td>\n",
       "      <td>0.123866</td>\n",
       "      <td>-0.010138</td>\n",
       "      <td>0.002676</td>\n",
       "      <td>0.000057</td>\n",
       "      <td>-0.011567</td>\n",
       "      <td>0.016966</td>\n",
       "      <td>-0.064939</td>\n",
       "      <td>0.064798</td>\n",
       "      <td>-0.010238</td>\n",
       "      <td>-0.204815</td>\n",
       "      <td>1.000000</td>\n",
       "      <td>-0.216649</td>\n",
       "      <td>-0.057345</td>\n",
       "    </tr>\n",
       "    <tr>\n",
       "      <th>ITEM_CATEGORY_Beverage</th>\n",
       "      <td>0.117470</td>\n",
       "      <td>0.003138</td>\n",
       "      <td>-0.618409</td>\n",
       "      <td>0.003783</td>\n",
       "      <td>0.000282</td>\n",
       "      <td>0.000011</td>\n",
       "      <td>-0.015115</td>\n",
       "      <td>-0.007092</td>\n",
       "      <td>0.095486</td>\n",
       "      <td>-0.776413</td>\n",
       "      <td>-0.756706</td>\n",
       "      <td>-0.804041</td>\n",
       "      <td>-0.216649</td>\n",
       "      <td>1.000000</td>\n",
       "      <td>-0.225119</td>\n",
       "    </tr>\n",
       "    <tr>\n",
       "      <th>ITEM_CATEGORY_Dessert</th>\n",
       "      <td>-0.345721</td>\n",
       "      <td>0.008973</td>\n",
       "      <td>-0.037051</td>\n",
       "      <td>-0.000898</td>\n",
       "      <td>-0.002883</td>\n",
       "      <td>-0.000157</td>\n",
       "      <td>0.025461</td>\n",
       "      <td>0.003333</td>\n",
       "      <td>-0.348804</td>\n",
       "      <td>-0.205510</td>\n",
       "      <td>-0.107939</td>\n",
       "      <td>-0.212823</td>\n",
       "      <td>-0.057345</td>\n",
       "      <td>-0.225119</td>\n",
       "      <td>1.000000</td>\n",
       "    </tr>\n",
       "  </tbody>\n",
       "</table>\n",
       "</div>"
      ],
      "text/plain": [
       "                        MENU_ITEM_ID  TRUCK_ID    DEMAND  ORDER_YEAR  \\\n",
       "MENU_ITEM_ID                1.000000  0.028822  0.137943    0.017816   \n",
       "TRUCK_ID                    0.028822  1.000000  0.252452    0.025549   \n",
       "DEMAND                      0.137943  0.252452  1.000000    0.036230   \n",
       "ORDER_YEAR                  0.017816  0.025549  0.036230    1.000000   \n",
       "ORDER_MONTH                 0.004362 -0.004239 -0.007377   -0.229731   \n",
       "ORDER_DAY                   0.000118 -0.000364 -0.000248   -0.005063   \n",
       "EV_FLAG                    -0.127218  0.074173  0.046280    0.309228   \n",
       "DAYS_OPENED                -0.035291 -0.044074 -0.043923   -0.545806   \n",
       "MENU_TYPE_ID                0.998926  0.028875  0.157803    0.018038   \n",
       "TEMPERATURE_OPTION          0.035217 -0.007379  0.601486   -0.003929   \n",
       "COST_OF_GOODS_USD           0.059955  0.004212  0.523795   -0.005019   \n",
       "ITEM_CATEGORY_Main          0.069602 -0.005346  0.583752    0.001168   \n",
       "ITEM_CATEGORY_Snack        -0.060066 -0.004416  0.123866   -0.010138   \n",
       "ITEM_CATEGORY_Beverage      0.117470  0.003138 -0.618409    0.003783   \n",
       "ITEM_CATEGORY_Dessert      -0.345721  0.008973 -0.037051   -0.000898   \n",
       "\n",
       "                        ORDER_MONTH  ORDER_DAY   EV_FLAG  DAYS_OPENED  \\\n",
       "MENU_ITEM_ID               0.004362   0.000118 -0.127218    -0.035291   \n",
       "TRUCK_ID                  -0.004239  -0.000364  0.074173    -0.044074   \n",
       "DEMAND                    -0.007377  -0.000248  0.046280    -0.043923   \n",
       "ORDER_YEAR                -0.229731  -0.005063  0.309228    -0.545806   \n",
       "ORDER_MONTH                1.000000   0.008547 -0.035662     0.000941   \n",
       "ORDER_DAY                  0.008547   1.000000 -0.001154     0.001257   \n",
       "EV_FLAG                   -0.035662  -0.001154  1.000000    -0.544327   \n",
       "DAYS_OPENED                0.000941   0.001257 -0.544327     1.000000   \n",
       "MENU_TYPE_ID               0.004355   0.000118 -0.127633    -0.035691   \n",
       "TEMPERATURE_OPTION         0.001051   0.000089 -0.011775     0.006602   \n",
       "COST_OF_GOODS_USD          0.002253   0.000067 -0.019977     0.007808   \n",
       "ITEM_CATEGORY_Main        -0.000146   0.000037  0.008565    -0.002041   \n",
       "ITEM_CATEGORY_Snack        0.002676   0.000057 -0.011567     0.016966   \n",
       "ITEM_CATEGORY_Beverage     0.000282   0.000011 -0.015115    -0.007092   \n",
       "ITEM_CATEGORY_Dessert     -0.002883  -0.000157  0.025461     0.003333   \n",
       "\n",
       "                        MENU_TYPE_ID  TEMPERATURE_OPTION  COST_OF_GOODS_USD  \\\n",
       "MENU_ITEM_ID                0.998926            0.035217           0.059955   \n",
       "TRUCK_ID                    0.028875           -0.007379           0.004212   \n",
       "DEMAND                      0.157803            0.601486           0.523795   \n",
       "ORDER_YEAR                  0.018038           -0.003929          -0.005019   \n",
       "ORDER_MONTH                 0.004355            0.001051           0.002253   \n",
       "ORDER_DAY                   0.000118            0.000089           0.000067   \n",
       "EV_FLAG                    -0.127633           -0.011775          -0.019977   \n",
       "DAYS_OPENED                -0.035691            0.006602           0.007808   \n",
       "MENU_TYPE_ID                1.000000            0.060816           0.083902   \n",
       "TEMPERATURE_OPTION          0.060816            1.000000           0.801789   \n",
       "COST_OF_GOODS_USD           0.083902            0.801789           1.000000   \n",
       "ITEM_CATEGORY_Main          0.095344            0.847621           0.816139   \n",
       "ITEM_CATEGORY_Snack        -0.064939            0.064798          -0.010238   \n",
       "ITEM_CATEGORY_Beverage      0.095486           -0.776413          -0.756706   \n",
       "ITEM_CATEGORY_Dessert      -0.348804           -0.205510          -0.107939   \n",
       "\n",
       "                        ITEM_CATEGORY_Main  ITEM_CATEGORY_Snack  \\\n",
       "MENU_ITEM_ID                      0.069602            -0.060066   \n",
       "TRUCK_ID                         -0.005346            -0.004416   \n",
       "DEMAND                            0.583752             0.123866   \n",
       "ORDER_YEAR                        0.001168            -0.010138   \n",
       "ORDER_MONTH                      -0.000146             0.002676   \n",
       "ORDER_DAY                         0.000037             0.000057   \n",
       "EV_FLAG                           0.008565            -0.011567   \n",
       "DAYS_OPENED                      -0.002041             0.016966   \n",
       "MENU_TYPE_ID                      0.095344            -0.064939   \n",
       "TEMPERATURE_OPTION                0.847621             0.064798   \n",
       "COST_OF_GOODS_USD                 0.816139            -0.010238   \n",
       "ITEM_CATEGORY_Main                1.000000            -0.204815   \n",
       "ITEM_CATEGORY_Snack              -0.204815             1.000000   \n",
       "ITEM_CATEGORY_Beverage           -0.804041            -0.216649   \n",
       "ITEM_CATEGORY_Dessert            -0.212823            -0.057345   \n",
       "\n",
       "                        ITEM_CATEGORY_Beverage  ITEM_CATEGORY_Dessert  \n",
       "MENU_ITEM_ID                          0.117470              -0.345721  \n",
       "TRUCK_ID                              0.003138               0.008973  \n",
       "DEMAND                               -0.618409              -0.037051  \n",
       "ORDER_YEAR                            0.003783              -0.000898  \n",
       "ORDER_MONTH                           0.000282              -0.002883  \n",
       "ORDER_DAY                             0.000011              -0.000157  \n",
       "EV_FLAG                              -0.015115               0.025461  \n",
       "DAYS_OPENED                          -0.007092               0.003333  \n",
       "MENU_TYPE_ID                          0.095486              -0.348804  \n",
       "TEMPERATURE_OPTION                   -0.776413              -0.205510  \n",
       "COST_OF_GOODS_USD                    -0.756706              -0.107939  \n",
       "ITEM_CATEGORY_Main                   -0.804041              -0.212823  \n",
       "ITEM_CATEGORY_Snack                  -0.216649              -0.057345  \n",
       "ITEM_CATEGORY_Beverage                1.000000              -0.225119  \n",
       "ITEM_CATEGORY_Dessert                -0.225119               1.000000  "
      ]
     },
     "execution_count": 94,
     "metadata": {},
     "output_type": "execute_result"
    }
   ],
   "source": [
    "final_df.corr()"
   ]
  },
  {
   "cell_type": "code",
   "execution_count": 95,
   "metadata": {},
   "outputs": [
    {
     "name": "stdout",
     "output_type": "stream",
     "text": [
      "<class 'pandas.core.frame.DataFrame'>\n",
      "Int64Index: 1741744 entries, 3000 to 1744743\n",
      "Data columns (total 16 columns):\n",
      " #   Column                  Dtype  \n",
      "---  ------                  -----  \n",
      " 0   MENU_ITEM_ID            int16  \n",
      " 1   TRUCK_ID                int16  \n",
      " 2   DEMAND                  int64  \n",
      " 3   UNIT_PRICE              float64\n",
      " 4   ORDER_YEAR              int16  \n",
      " 5   ORDER_MONTH             int8   \n",
      " 6   ORDER_DAY               int8   \n",
      " 7   EV_FLAG                 int8   \n",
      " 8   DAYS_OPENED             int32  \n",
      " 9   MENU_TYPE_ID            int8   \n",
      " 10  TEMPERATURE_OPTION      int8   \n",
      " 11  COST_OF_GOODS_USD       float64\n",
      " 12  ITEM_CATEGORY_Main      int32  \n",
      " 13  ITEM_CATEGORY_Snack     int32  \n",
      " 14  ITEM_CATEGORY_Beverage  int32  \n",
      " 15  ITEM_CATEGORY_Dessert   int32  \n",
      "dtypes: float64(2), int16(3), int32(5), int64(1), int8(5)\n",
      "memory usage: 104.6 MB\n"
     ]
    }
   ],
   "source": [
    "# Scaling\n",
    "\n",
    "#drop target\n",
    "#target = final_df['DEMAND']\n",
    "#final_df.drop('DEMAND', axis = 1, inplace = True)\n",
    "\n",
    "#scaler = StandardScaler()\n",
    "#scaler.fit(final_df)\n",
    "\n",
    "#final_scaled = scaler.transform(final_df)\n",
    "#final_scaled = pd.DataFrame(final_scaled, columns=final_df.columns)\n",
    "\n",
    "#assign target variable back to scaled data frame\n",
    "#final_scaled = final_scaled.assign(DEMAND = target)\n",
    "#final_scaled.head()\n",
    "final_scaled = final_df\n",
    "final_scaled['UNIT_PRICE'] = final_scaled['UNIT_PRICE'].astype(float)\n",
    "drop = final_scaled[((final_scaled[\"ORDER_YEAR\"] == 2022) & (final_scaled['ORDER_MONTH'] == 11))]\n",
    "merge = pd.merge(drop, final_scaled,how='outer', indicator=True)\n",
    "final_scaled = merge[merge['_merge'] == 'right_only'].drop('_merge', axis = 1)\n",
    "final_scaled.info()\n"
   ]
  },
  {
   "cell_type": "code",
   "execution_count": 96,
   "metadata": {},
   "outputs": [
    {
     "data": {
      "text/html": [
       "<div>\n",
       "<style scoped>\n",
       "    .dataframe tbody tr th:only-of-type {\n",
       "        vertical-align: middle;\n",
       "    }\n",
       "\n",
       "    .dataframe tbody tr th {\n",
       "        vertical-align: top;\n",
       "    }\n",
       "\n",
       "    .dataframe thead th {\n",
       "        text-align: right;\n",
       "    }\n",
       "</style>\n",
       "<table border=\"1\" class=\"dataframe\">\n",
       "  <thead>\n",
       "    <tr style=\"text-align: right;\">\n",
       "      <th></th>\n",
       "      <th>MENU_ITEM_ID</th>\n",
       "      <th>TRUCK_ID</th>\n",
       "      <th>DEMAND</th>\n",
       "      <th>UNIT_PRICE</th>\n",
       "      <th>ORDER_YEAR</th>\n",
       "      <th>ORDER_MONTH</th>\n",
       "      <th>ORDER_DAY</th>\n",
       "      <th>EV_FLAG</th>\n",
       "      <th>DAYS_OPENED</th>\n",
       "      <th>MENU_TYPE_ID</th>\n",
       "      <th>TEMPERATURE_OPTION</th>\n",
       "      <th>COST_OF_GOODS_USD</th>\n",
       "      <th>ITEM_CATEGORY_Main</th>\n",
       "      <th>ITEM_CATEGORY_Snack</th>\n",
       "      <th>ITEM_CATEGORY_Beverage</th>\n",
       "      <th>ITEM_CATEGORY_Dessert</th>\n",
       "    </tr>\n",
       "  </thead>\n",
       "  <tbody>\n",
       "    <tr>\n",
       "      <th>3000</th>\n",
       "      <td>52</td>\n",
       "      <td>110</td>\n",
       "      <td>1204</td>\n",
       "      <td>17.25</td>\n",
       "      <td>2021</td>\n",
       "      <td>8</td>\n",
       "      <td>7</td>\n",
       "      <td>0</td>\n",
       "      <td>565</td>\n",
       "      <td>5</td>\n",
       "      <td>2</td>\n",
       "      <td>7.0</td>\n",
       "      <td>1</td>\n",
       "      <td>0</td>\n",
       "      <td>0</td>\n",
       "      <td>0</td>\n",
       "    </tr>\n",
       "    <tr>\n",
       "      <th>3001</th>\n",
       "      <td>123</td>\n",
       "      <td>117</td>\n",
       "      <td>1074</td>\n",
       "      <td>11.00</td>\n",
       "      <td>2021</td>\n",
       "      <td>8</td>\n",
       "      <td>7</td>\n",
       "      <td>0</td>\n",
       "      <td>565</td>\n",
       "      <td>12</td>\n",
       "      <td>1</td>\n",
       "      <td>4.0</td>\n",
       "      <td>0</td>\n",
       "      <td>1</td>\n",
       "      <td>0</td>\n",
       "      <td>0</td>\n",
       "    </tr>\n",
       "    <tr>\n",
       "      <th>3002</th>\n",
       "      <td>112</td>\n",
       "      <td>116</td>\n",
       "      <td>1124</td>\n",
       "      <td>12.00</td>\n",
       "      <td>2021</td>\n",
       "      <td>8</td>\n",
       "      <td>7</td>\n",
       "      <td>0</td>\n",
       "      <td>1021</td>\n",
       "      <td>11</td>\n",
       "      <td>2</td>\n",
       "      <td>4.5</td>\n",
       "      <td>1</td>\n",
       "      <td>0</td>\n",
       "      <td>0</td>\n",
       "      <td>0</td>\n",
       "    </tr>\n",
       "    <tr>\n",
       "      <th>3003</th>\n",
       "      <td>41</td>\n",
       "      <td>109</td>\n",
       "      <td>1321</td>\n",
       "      <td>8.00</td>\n",
       "      <td>2021</td>\n",
       "      <td>8</td>\n",
       "      <td>8</td>\n",
       "      <td>0</td>\n",
       "      <td>1021</td>\n",
       "      <td>4</td>\n",
       "      <td>2</td>\n",
       "      <td>3.0</td>\n",
       "      <td>1</td>\n",
       "      <td>0</td>\n",
       "      <td>0</td>\n",
       "      <td>0</td>\n",
       "    </tr>\n",
       "    <tr>\n",
       "      <th>3004</th>\n",
       "      <td>45</td>\n",
       "      <td>109</td>\n",
       "      <td>288</td>\n",
       "      <td>3.00</td>\n",
       "      <td>2021</td>\n",
       "      <td>8</td>\n",
       "      <td>8</td>\n",
       "      <td>0</td>\n",
       "      <td>1021</td>\n",
       "      <td>4</td>\n",
       "      <td>0</td>\n",
       "      <td>0.5</td>\n",
       "      <td>0</td>\n",
       "      <td>0</td>\n",
       "      <td>1</td>\n",
       "      <td>0</td>\n",
       "    </tr>\n",
       "  </tbody>\n",
       "</table>\n",
       "</div>"
      ],
      "text/plain": [
       "      MENU_ITEM_ID  TRUCK_ID  DEMAND  UNIT_PRICE  ORDER_YEAR  ORDER_MONTH  \\\n",
       "3000            52       110    1204       17.25        2021            8   \n",
       "3001           123       117    1074       11.00        2021            8   \n",
       "3002           112       116    1124       12.00        2021            8   \n",
       "3003            41       109    1321        8.00        2021            8   \n",
       "3004            45       109     288        3.00        2021            8   \n",
       "\n",
       "      ORDER_DAY  EV_FLAG  DAYS_OPENED  MENU_TYPE_ID  TEMPERATURE_OPTION  \\\n",
       "3000          7        0          565             5                   2   \n",
       "3001          7        0          565            12                   1   \n",
       "3002          7        0         1021            11                   2   \n",
       "3003          8        0         1021             4                   2   \n",
       "3004          8        0         1021             4                   0   \n",
       "\n",
       "      COST_OF_GOODS_USD  ITEM_CATEGORY_Main  ITEM_CATEGORY_Snack  \\\n",
       "3000                7.0                   1                    0   \n",
       "3001                4.0                   0                    1   \n",
       "3002                4.5                   1                    0   \n",
       "3003                3.0                   1                    0   \n",
       "3004                0.5                   0                    0   \n",
       "\n",
       "      ITEM_CATEGORY_Beverage  ITEM_CATEGORY_Dessert  \n",
       "3000                       0                      0  \n",
       "3001                       0                      0  \n",
       "3002                       0                      0  \n",
       "3003                       0                      0  \n",
       "3004                       1                      0  "
      ]
     },
     "execution_count": 96,
     "metadata": {},
     "output_type": "execute_result"
    }
   ],
   "source": [
    "final_scaled.head()"
   ]
  },
  {
   "cell_type": "code",
   "execution_count": 97,
   "metadata": {},
   "outputs": [
    {
     "name": "stdout",
     "output_type": "stream",
     "text": [
      "<class 'pandas.core.frame.DataFrame'>\n",
      "Int64Index: 275268 entries, 3062 to 1744719\n",
      "Data columns (total 16 columns):\n",
      " #   Column                  Non-Null Count   Dtype  \n",
      "---  ------                  --------------   -----  \n",
      " 0   MENU_ITEM_ID            275268 non-null  int16  \n",
      " 1   TRUCK_ID                275268 non-null  int16  \n",
      " 2   DEMAND                  275268 non-null  int64  \n",
      " 3   UNIT_PRICE              275268 non-null  float64\n",
      " 4   ORDER_YEAR              275268 non-null  int16  \n",
      " 5   ORDER_MONTH             275268 non-null  int8   \n",
      " 6   ORDER_DAY               275268 non-null  int8   \n",
      " 7   EV_FLAG                 275268 non-null  int8   \n",
      " 8   DAYS_OPENED             275268 non-null  int32  \n",
      " 9   MENU_TYPE_ID            275268 non-null  int8   \n",
      " 10  TEMPERATURE_OPTION      275268 non-null  int8   \n",
      " 11  COST_OF_GOODS_USD       275268 non-null  float64\n",
      " 12  ITEM_CATEGORY_Main      275268 non-null  int32  \n",
      " 13  ITEM_CATEGORY_Snack     275268 non-null  int32  \n",
      " 14  ITEM_CATEGORY_Beverage  275268 non-null  int32  \n",
      " 15  ITEM_CATEGORY_Dessert   275268 non-null  int32  \n",
      "dtypes: float64(2), int16(3), int32(5), int64(1), int8(5)\n",
      "memory usage: 16.5 MB\n"
     ]
    }
   ],
   "source": [
    "holdout = final_scaled[(final_scaled[\"ORDER_YEAR\"] == 2022) & (final_scaled['ORDER_MONTH'] >= 8)]\n",
    "#holdout = holdout.drop(['ORDER_YEAR', 'ORDER_MONTH', 'ORDER_DAY'], axis = 1)\n",
    "x_holdout = holdout.drop('DEMAND',axis=1)\n",
    "y_holdout = holdout['DEMAND']\n",
    "holdout.info()"
   ]
  },
  {
   "cell_type": "code",
   "execution_count": 98,
   "metadata": {},
   "outputs": [
    {
     "name": "stdout",
     "output_type": "stream",
     "text": [
      "<class 'pandas.core.frame.DataFrame'>\n",
      "Int64Index: 1466476 entries, 275268 to 1741743\n",
      "Data columns (total 16 columns):\n",
      " #   Column                  Non-Null Count    Dtype  \n",
      "---  ------                  --------------    -----  \n",
      " 0   MENU_ITEM_ID            1466476 non-null  int16  \n",
      " 1   TRUCK_ID                1466476 non-null  int16  \n",
      " 2   DEMAND                  1466476 non-null  int64  \n",
      " 3   UNIT_PRICE              1466476 non-null  float64\n",
      " 4   ORDER_YEAR              1466476 non-null  int16  \n",
      " 5   ORDER_MONTH             1466476 non-null  int8   \n",
      " 6   ORDER_DAY               1466476 non-null  int8   \n",
      " 7   EV_FLAG                 1466476 non-null  int8   \n",
      " 8   DAYS_OPENED             1466476 non-null  int32  \n",
      " 9   MENU_TYPE_ID            1466476 non-null  int8   \n",
      " 10  TEMPERATURE_OPTION      1466476 non-null  int8   \n",
      " 11  COST_OF_GOODS_USD       1466476 non-null  float64\n",
      " 12  ITEM_CATEGORY_Main      1466476 non-null  int32  \n",
      " 13  ITEM_CATEGORY_Snack     1466476 non-null  int32  \n",
      " 14  ITEM_CATEGORY_Beverage  1466476 non-null  int32  \n",
      " 15  ITEM_CATEGORY_Dessert   1466476 non-null  int32  \n",
      "dtypes: float64(2), int16(3), int32(5), int64(1), int8(5)\n",
      "memory usage: 88.1 MB\n"
     ]
    }
   ],
   "source": [
    "merged = pd.merge(holdout, final_scaled,how='outer', indicator=True)\n",
    "final_scaled = merged[merged['_merge'] == 'right_only'].drop('_merge', axis = 1)\n",
    "final_scaled.info()"
   ]
  },
  {
   "cell_type": "code",
   "execution_count": 99,
   "metadata": {},
   "outputs": [],
   "source": [
    "#final_scaled = final_scaled.drop(['ORDER_YEAR', 'ORDER_MONTH', 'ORDER_DAY'], axis = 1)"
   ]
  },
  {
   "cell_type": "code",
   "execution_count": 100,
   "metadata": {},
   "outputs": [
    {
     "name": "stdout",
     "output_type": "stream",
     "text": [
      "<class 'pandas.core.frame.DataFrame'>\n",
      "Int64Index: 1466476 entries, 275268 to 1741743\n",
      "Data columns (total 16 columns):\n",
      " #   Column                  Non-Null Count    Dtype  \n",
      "---  ------                  --------------    -----  \n",
      " 0   MENU_ITEM_ID            1466476 non-null  int16  \n",
      " 1   TRUCK_ID                1466476 non-null  int16  \n",
      " 2   DEMAND                  1466476 non-null  int64  \n",
      " 3   UNIT_PRICE              1466476 non-null  float64\n",
      " 4   ORDER_YEAR              1466476 non-null  int16  \n",
      " 5   ORDER_MONTH             1466476 non-null  int8   \n",
      " 6   ORDER_DAY               1466476 non-null  int8   \n",
      " 7   EV_FLAG                 1466476 non-null  int8   \n",
      " 8   DAYS_OPENED             1466476 non-null  int32  \n",
      " 9   MENU_TYPE_ID            1466476 non-null  int8   \n",
      " 10  TEMPERATURE_OPTION      1466476 non-null  int8   \n",
      " 11  COST_OF_GOODS_USD       1466476 non-null  float64\n",
      " 12  ITEM_CATEGORY_Main      1466476 non-null  int32  \n",
      " 13  ITEM_CATEGORY_Snack     1466476 non-null  int32  \n",
      " 14  ITEM_CATEGORY_Beverage  1466476 non-null  int32  \n",
      " 15  ITEM_CATEGORY_Dessert   1466476 non-null  int32  \n",
      "dtypes: float64(2), int16(3), int32(5), int64(1), int8(5)\n",
      "memory usage: 88.1 MB\n"
     ]
    }
   ],
   "source": [
    "final_scaled.info()"
   ]
  },
  {
   "cell_type": "code",
   "execution_count": 101,
   "metadata": {},
   "outputs": [],
   "source": [
    "# Train Test Split\n",
    "# Define Model Inputs (X) and Output (y)\n",
    "X = final_scaled.drop('DEMAND',axis=1)\n",
    "y = final_scaled[\"DEMAND\"]\n",
    "\n",
    "# Split both Inputs (X) and Ouput (y) into training set (70%) and testing set (30%)\n",
    "X_train, X_test, y_train, y_test = train_test_split(X, y, test_size=0.3, random_state=1)"
   ]
  },
  {
   "cell_type": "code",
   "execution_count": 102,
   "metadata": {},
   "outputs": [
    {
     "name": "stdout",
     "output_type": "stream",
     "text": [
      "Train RMSE: 362.14711222459493\n",
      "Test RMSE: 361.6170445461239\n",
      "Train R-squared: 0.5305018204837754\n",
      "Test R-squared: 0.5302762322967824\n"
     ]
    }
   ],
   "source": [
    "from sklearn.linear_model import LinearRegression\n",
    "from sklearn.metrics import mean_squared_error, r2_score\n",
    "from math import sqrt\n",
    "\n",
    "# Create the model \"lr\"\n",
    "lr = LinearRegression()\n",
    "\n",
    "# Fit the model to the training set\n",
    "lr.fit(X_train, y_train)\n",
    "\n",
    "# Make predictions on the training and testing sets\n",
    "train_predictions = lr.predict(X_train)\n",
    "test_predictions = lr.predict(X_test)\n",
    "\n",
    "# Calculate RMSE for the training and testing sets\n",
    "train_rmse = sqrt(mean_squared_error(y_train, train_predictions))\n",
    "test_rmse = sqrt(mean_squared_error(y_test, test_predictions))\n",
    "\n",
    "# Calculate R-squared values for the training and testing sets\n",
    "train_r2 = r2_score(y_train, train_predictions)\n",
    "test_r2 = r2_score(y_test, test_predictions)\n",
    "\n",
    "# Print the results\n",
    "print('Train RMSE:', train_rmse)\n",
    "print('Test RMSE:', test_rmse)\n",
    "print('Train R-squared:', train_r2)\n",
    "print('Test R-squared:', test_r2)\n"
   ]
  },
  {
   "cell_type": "code",
   "execution_count": 103,
   "metadata": {},
   "outputs": [
    {
     "name": "stdout",
     "output_type": "stream",
     "text": [
      "Train RMSE: 18.80808117038954\n",
      "Test RMSE: 44.178798484768556\n",
      "Train R-squared: 0.9987336526656618\n",
      "Test R-squared: 0.9929891197111755\n"
     ]
    }
   ],
   "source": [
    "from sklearn.ensemble import RandomForestRegressor\n",
    "\n",
    "rf = RandomForestRegressor(n_estimators = 10, random_state = 0)\n",
    "rf.fit(X_train, y_train)\n",
    "\n",
    "# Make predictions on the training and testing sets\n",
    "train_predictions = rf.predict(X_train)\n",
    "test_predictions = rf.predict(X_test)\n",
    "\n",
    "# Calculate RMSE for the training and testing sets\n",
    "train_rmse = sqrt(mean_squared_error(y_train, train_predictions))\n",
    "test_rmse = sqrt(mean_squared_error(y_test, test_predictions))\n",
    "\n",
    "# Calculate R-squared values for the training and testing sets\n",
    "train_r2 = r2_score(y_train, train_predictions)\n",
    "test_r2 = r2_score(y_test, test_predictions)\n",
    "\n",
    "# Print the results\n",
    "print('Train RMSE:', train_rmse)\n",
    "print('Test RMSE:', test_rmse)\n",
    "print('Train R-squared:', train_r2)\n",
    "print('Test R-squared:', test_r2)"
   ]
  },
  {
   "cell_type": "code",
   "execution_count": 104,
   "metadata": {},
   "outputs": [
    {
     "data": {
      "text/plain": [
       "0.9920438425502702"
      ]
     },
     "execution_count": 104,
     "metadata": {},
     "output_type": "execute_result"
    }
   ],
   "source": [
    "#from sklearn.model_selection import cross_val_score\n",
    "#scores = cross_val_score(rf, X_train, y_train, cv = 5)\n",
    "#scores.mean()"
   ]
  },
  {
   "cell_type": "code",
   "execution_count": 105,
   "metadata": {},
   "outputs": [
    {
     "name": "stderr",
     "output_type": "stream",
     "text": [
      "c:\\Users\\tanko\\anaconda3\\envs\\pysnowpark\\lib\\site-packages\\xgboost\\data.py:250: FutureWarning: pandas.Int64Index is deprecated and will be removed from pandas in a future version. Use pandas.Index with the appropriate dtype instead.\n",
      "  elif isinstance(data.columns, (pd.Int64Index, pd.RangeIndex)):\n"
     ]
    },
    {
     "name": "stdout",
     "output_type": "stream",
     "text": [
      "Train RMSE: 59.387892660276606\n",
      "Test RMSE: 59.60922218797751\n",
      "Train R-squared: 0.9873741772099265\n",
      "Test R-squared: 0.9872364448040148\n"
     ]
    }
   ],
   "source": [
    "import xgboost as xg\n",
    "\n",
    "# create an xgboost regression model\n",
    "xgb = xg.XGBRegressor()\n",
    "\n",
    "# Fitting the model\n",
    "xgb.fit(X_train, y_train)\n",
    "  \n",
    "# Make predictions on the training and testing sets\n",
    "train_predictions = xgb.predict(X_train)\n",
    "test_predictions = xgb.predict(X_test)\n",
    "\n",
    "# Calculate RMSE for the training and testing sets\n",
    "train_rmse = sqrt(mean_squared_error(y_train, train_predictions))\n",
    "test_rmse = sqrt(mean_squared_error(y_test, test_predictions))\n",
    "\n",
    "# Calculate R-squared values for the training and testing sets\n",
    "train_r2 = r2_score(y_train, train_predictions)\n",
    "test_r2 = r2_score(y_test, test_predictions)\n",
    "\n",
    "# Print the results\n",
    "print('Train RMSE:', train_rmse)\n",
    "print('Test RMSE:', test_rmse)\n",
    "print('Train R-squared:', train_r2)\n",
    "print('Test R-squared:', test_r2)"
   ]
  },
  {
   "cell_type": "markdown",
   "metadata": {},
   "source": [
    "### Holdout "
   ]
  },
  {
   "cell_type": "code",
   "execution_count": 106,
   "metadata": {},
   "outputs": [
    {
     "name": "stdout",
     "output_type": "stream",
     "text": [
      "Holdout RMSE: 76.73354108777704\n",
      "Holdout R-squared: 0.9790101395925412\n"
     ]
    }
   ],
   "source": [
    "# Make predictions on the training and testing sets\n",
    "ho_predictions = rf.predict(x_holdout)\n",
    "\n",
    "# Calculate RMSE for the training and testing sets\n",
    "ho_rmse = sqrt(mean_squared_error(y_holdout, ho_predictions))\n",
    "\n",
    "# Calculate R-squared values for the training and testing sets\n",
    "ho_r2 = r2_score(y_holdout, ho_predictions)\n",
    "\n",
    "# Print the results\n",
    "print('Holdout RMSE:', ho_rmse)\n",
    "print('Holdout R-squared:', ho_r2)"
   ]
  },
  {
   "cell_type": "code",
   "execution_count": 121,
   "metadata": {},
   "outputs": [],
   "source": [
    "import bz2, os\n",
    "import pickle\n",
    "rb = bz2.BZ2File('rf.pkl', 'wb')\n",
    "pickle.dump(rf, rb)\n",
    "rb.close()"
   ]
  },
  {
   "cell_type": "markdown",
   "metadata": {},
   "source": [
    "import joblib\n",
    "joblib.dump(rf, 'imanage.sav')"
   ]
  },
  {
   "cell_type": "markdown",
   "metadata": {},
   "source": [
    "\n",
    "#filename = 'inventory_model.sav'\n",
    "ofile = bz2.BZ2File(\"BinaryData.sav\",'wb')\n",
    "pickle.dump(rf, ofile)"
   ]
  },
  {
   "cell_type": "markdown",
   "metadata": {},
   "source": [
    "### Additional"
   ]
  },
  {
   "cell_type": "code",
   "execution_count": 109,
   "metadata": {},
   "outputs": [],
   "source": [
    "dd_df = session.table(\"NGEE_ANN_POLYTECHNIC_FROSTBYTE_DATA_SHARE.raw_supply_chain.distribution_detail\")\n",
    "dh_df = session.table(\"NGEE_ANN_POLYTECHNIC_FROSTBYTE_DATA_SHARE.raw_supply_chain.distribution_header\")\n",
    "eod_df = session.table(\"NGEE_ANN_POLYTECHNIC_FROSTBYTE_DATA_SHARE.raw_supply_chain.eod_stock_assignment\")\n",
    "reci_df = session.table(\"NGEE_ANN_POLYTECHNIC_FROSTBYTE_DATA_SHARE.raw_supply_chain.RECIPE\")"
   ]
  },
  {
   "cell_type": "code",
   "execution_count": 110,
   "metadata": {},
   "outputs": [
    {
     "name": "stdout",
     "output_type": "stream",
     "text": [
      "------------------------------------------------------------------------------------------------------------------------------------------------------\n",
      "|\"DH_DETAIL_ID\"  |\"DH_ID\"  |\"LINE_ITEM_ID\"  |\"ITEM_ID\"  |\"QUANTITY\"      |\"EXPIRATION_DATE\"  |\"PO_ID\"  |\"CREATED_DATE\"              |\"UPDATED_DATE\"  |\n",
      "------------------------------------------------------------------------------------------------------------------------------------------------------\n",
      "|698170          |54436    |9               |22         |2087.000000000  |2022-07-06         |26724    |2023-04-13 22:18:29.306000  |NULL            |\n",
      "|698171          |54456    |3               |3          |22.000000000    |2023-05-31         |26589    |2023-04-13 22:18:29.306000  |NULL            |\n",
      "|698172          |54548    |3               |21         |28.000000000    |2022-07-06         |26777    |2023-04-13 22:18:29.306000  |NULL            |\n",
      "|698173          |54315    |8               |37         |1899.000000000  |2022-07-06         |26628    |2023-04-13 22:18:29.306000  |NULL            |\n",
      "|698174          |54369    |6               |39         |367.000000000   |2022-07-06         |26785    |2023-04-13 22:18:29.306000  |NULL            |\n",
      "|698175          |54249    |7               |72         |139.000000000   |2022-07-21         |26624    |2023-04-13 22:18:29.306000  |NULL            |\n",
      "|698176          |54289    |3               |3          |149.000000000   |2023-05-30         |26698    |2023-04-13 22:18:29.306000  |NULL            |\n",
      "|698177          |54202    |2               |3          |93.000000000    |2023-05-16         |26637    |2023-04-13 22:18:29.306000  |NULL            |\n",
      "|698178          |54423    |7               |76         |1031.000000000  |2022-07-05         |26652    |2023-04-13 22:18:29.306000  |NULL            |\n",
      "|698179          |54649    |8               |39         |1028.000000000  |2022-07-07         |26544    |2023-04-13 22:18:29.306000  |NULL            |\n",
      "------------------------------------------------------------------------------------------------------------------------------------------------------\n",
      "\n"
     ]
    }
   ],
   "source": [
    "dd_df.show()"
   ]
  },
  {
   "cell_type": "code",
   "execution_count": 111,
   "metadata": {},
   "outputs": [
    {
     "name": "stdout",
     "output_type": "stream",
     "text": [
      "-------------------------------------------------------------------------------------------------------------\n",
      "|\"DH_ID\"  |\"TRUCK_ID\"  |\"WAREHOUSE_ID\"  |\"DISTRIBUTION_DATE\"  |\"CREATED_DATE\"              |\"UPDATED_DATE\"  |\n",
      "-------------------------------------------------------------------------------------------------------------\n",
      "|44678    |23          |2               |2023-02-27           |2023-04-10 15:24:34.910000  |NULL            |\n",
      "|45051    |195         |13              |2023-02-27           |2023-04-10 15:24:34.910000  |NULL            |\n",
      "|45013    |300         |20              |2023-02-27           |2023-04-10 15:24:34.910000  |NULL            |\n",
      "|44798    |112         |8               |2023-02-27           |2023-04-10 15:24:34.910000  |NULL            |\n",
      "|44799    |3           |1               |2023-02-27           |2023-04-10 15:24:34.910000  |NULL            |\n",
      "|44760    |262         |18              |2023-02-27           |2023-04-10 15:24:34.910000  |NULL            |\n",
      "|44761    |138         |10              |2023-02-27           |2023-04-10 15:24:34.910000  |NULL            |\n",
      "|44762    |298         |20              |2023-02-27           |2023-04-10 15:24:34.910000  |NULL            |\n",
      "|45052    |383         |26              |2023-02-27           |2023-04-10 15:24:34.910000  |NULL            |\n",
      "|45053    |137         |10              |2023-02-27           |2023-04-10 15:24:34.910000  |NULL            |\n",
      "-------------------------------------------------------------------------------------------------------------\n",
      "\n"
     ]
    }
   ],
   "source": [
    "dh_df.show()"
   ]
  },
  {
   "cell_type": "code",
   "execution_count": 112,
   "metadata": {},
   "outputs": [
    {
     "name": "stdout",
     "output_type": "stream",
     "text": [
      "--------------------------------------------------------------------------------------------------------\n",
      "|\"ASSIGNMENT_ID\"  |\"TRUCK_ID\"  |\"ITEM_ID\"  |\"PO_ID\"  |\"QUANTITY\"  |\"EXPIRATION_DATE\"  |\"CREATED_DATE\"  |\n",
      "--------------------------------------------------------------------------------------------------------\n",
      "|196177           |149         |1          |420      |0.05        |2023-10-05         |2022-11-21      |\n",
      "|4338188          |324         |1          |20386    |1.34        |2023-12-26         |2023-02-09      |\n",
      "|4431933          |60          |1          |20700    |4.78        |2023-12-29         |2023-02-20      |\n",
      "|5580458          |390         |2          |27116    |0.45        |2023-06-14         |2022-07-24      |\n",
      "|600409           |305         |1          |1792     |5.22        |2023-11-21         |2023-01-06      |\n",
      "|4630723          |145         |3          |22407    |2.15        |2024-01-23         |2023-03-15      |\n",
      "|600428           |313         |1          |1792     |4.19        |2023-11-21         |2023-01-06      |\n",
      "|6910093          |199         |1          |33150    |1.87        |2023-08-31         |2022-10-20      |\n",
      "|4622195          |137         |2          |22407    |1.05        |2024-01-29         |2023-03-14      |\n",
      "|466722           |202         |60         |1646     |4.75        |2022-12-29         |2022-12-22      |\n",
      "--------------------------------------------------------------------------------------------------------\n",
      "\n"
     ]
    }
   ],
   "source": [
    "eod_df.show()"
   ]
  },
  {
   "cell_type": "code",
   "execution_count": 113,
   "metadata": {},
   "outputs": [],
   "source": [
    "d_df = dd_df.join(dh_df, on= ['DH_ID'], lsuffix = \"\", rsuffix = \"_01\")\n",
    "d_df = d_df.with_column('DISTRIBUTION_YEAR', F.year(F.col('DISTRIBUTION_DATE')))\n",
    "d_df = d_df.with_column('DISTRIBUTION_MONTH', F.month(F.col('DISTRIBUTION_DATE')))\n",
    "d_df = d_df.with_column('DISTRIBUTION_DAY', F.dayofmonth(F.col('DISTRIBUTION_DATE')))\n",
    "d_df = d_df.group_by(\"TRUCK_ID\",\"ITEM_ID\",'DISTRIBUTION_YEAR', 'DISTRIBUTION_MONTH', 'DISTRIBUTION_DAY').agg(F.sum(\"QUANTITY\").alias('Supply'))"
   ]
  },
  {
   "cell_type": "code",
   "execution_count": 114,
   "metadata": {},
   "outputs": [
    {
     "name": "stderr",
     "output_type": "stream",
     "text": [
      "c:\\Users\\tanko\\anaconda3\\envs\\pysnowpark\\lib\\site-packages\\snowflake\\snowpark\\session.py:1374: UserWarning: Pandas Dataframe has non-standard index of type <class 'pandas.core.indexes.numeric.Int64Index'> which will not be written. Consider changing the index to pd.RangeIndex(start=0,...,step=1) or call reset_index() to keep index as column(s)\n",
      "  success, nchunks, nrows, ci_output = write_pandas(\n"
     ]
    }
   ],
   "source": [
    "# Get account credentials from a json file\n",
    "with open(\"account.json\") as f:\n",
    "    data = json.load(f)\n",
    "    username = data[\"username\"]\n",
    "    password = data[\"password\"]\n",
    "    account = data[\"account\"]\n",
    "\n",
    "# Specify connection parameters\n",
    "connection_parameters = {\n",
    "    \"account\": account,\n",
    "    \"user\": username,\n",
    "    \"password\": password,\n",
    "    \"role\": \"ACCOUNTADMIN\",\n",
    "    #\"warehouse\": \"tasty_ds_wh\",\n",
    "    \"database\": \"FROSTBYTE_TASTY_BYTES\",\n",
    "    \"schema\": \"analytics\",\n",
    "}\n",
    "\n",
    "# Create Snowpark session\n",
    "sessionWrite = Session.builder.configs(connection_parameters).create()\n",
    "\n",
    "final_scaled_sf = sessionWrite.create_dataframe(final_scaled)\n",
    "# Save X data\n",
    "final_scaled_sf.write.mode(\"overwrite\").save_as_table(\"frostbyte_tasty_bytes.analytics.inventory_management\")\n",
    "\n",
    "# Save y data\n",
    "d_df.write.mode(\"overwrite\").save_as_table(\"frostbyte_tasty_bytes.analytics.monthly_supply\")"
   ]
  },
  {
   "cell_type": "code",
   "execution_count": 115,
   "metadata": {},
   "outputs": [],
   "source": [
    "\n",
    "demand_item = final_scaled_sf.join(reci_df, on= ['menu_item_id'], lsuffix = \"\", rsuffix = \"_01\")"
   ]
  },
  {
   "cell_type": "code",
   "execution_count": 116,
   "metadata": {},
   "outputs": [],
   "source": [
    "demand_item = demand_item.with_column('Demand_item', F.col('UNIT_QUANTITY') * F.col('DEMAND'))\n",
    "demand_item = demand_item.group_by(\"TRUCK_ID\",\"ITEM_ID\",'ORDER_YEAR', 'ORDER_MONTH', 'ORDER_DAY').agg(F.sum(\"DEMAND_ITEM\").alias('DEMAND_ITEM'))"
   ]
  },
  {
   "cell_type": "code",
   "execution_count": 117,
   "metadata": {},
   "outputs": [],
   "source": [
    "demand_item.write.mode(\"overwrite\").save_as_table(\"frostbyte_tasty_bytes.analytics.monthly_demand\")"
   ]
  },
  {
   "cell_type": "code",
   "execution_count": 118,
   "metadata": {},
   "outputs": [
    {
     "name": "stdout",
     "output_type": "stream",
     "text": [
      "---------------------------------------------------------------------------------------\n",
      "|\"TRUCK_ID\"  |\"ITEM_ID\"  |\"ORDER_YEAR\"  |\"ORDER_MONTH\"  |\"ORDER_DAY\"  |\"DEMAND_ITEM\"  |\n",
      "---------------------------------------------------------------------------------------\n",
      "|110         |46         |2021          |8              |7            |89.350000000   |\n",
      "|110         |48         |2021          |8              |7            |59.425000000   |\n",
      "|110         |51         |2021          |8              |7            |357.400000000  |\n",
      "|110         |66         |2021          |8              |7            |12.040000000   |\n",
      "|117         |80         |2021          |8              |7            |85.650000000   |\n",
      "|117         |36         |2021          |8              |7            |106.950000000  |\n",
      "|117         |38         |2021          |8              |7            |106.950000000  |\n",
      "|116         |70         |2021          |8              |7            |329.900000000  |\n",
      "|116         |40         |2021          |8              |7            |164.950000000  |\n",
      "|116         |41         |2021          |8              |7            |218.900000000  |\n",
      "---------------------------------------------------------------------------------------\n",
      "\n"
     ]
    }
   ],
   "source": [
    "demand_item.show()"
   ]
  },
  {
   "cell_type": "code",
   "execution_count": 119,
   "metadata": {},
   "outputs": [
    {
     "name": "stdout",
     "output_type": "stream",
     "text": [
      "------------------------------------------------------------------------------------------------------------\n",
      "|\"TRUCK_ID\"  |\"ITEM_ID\"  |\"DISTRIBUTION_YEAR\"  |\"DISTRIBUTION_MONTH\"  |\"DISTRIBUTION_DAY\"  |\"SUPPLY\"       |\n",
      "------------------------------------------------------------------------------------------------------------\n",
      "|430         |66         |2022                 |12                    |12                  |184.000000000  |\n",
      "|413         |56         |2022                 |12                    |12                  |176.000000000  |\n",
      "|388         |2          |2022                 |12                    |12                  |37.000000000   |\n",
      "|385         |73         |2022                 |12                    |12                  |420.000000000  |\n",
      "|296         |26         |2022                 |12                    |12                  |432.000000000  |\n",
      "|375         |40         |2022                 |12                    |12                  |339.000000000  |\n",
      "|129         |37         |2022                 |12                    |12                  |581.000000000  |\n",
      "|168         |2          |2022                 |12                    |12                  |21.000000000   |\n",
      "|387         |1          |2022                 |12                    |12                  |28.000000000   |\n",
      "|442         |24         |2022                 |12                    |12                  |352.000000000  |\n",
      "------------------------------------------------------------------------------------------------------------\n",
      "\n"
     ]
    }
   ],
   "source": [
    "d_df.sort(\"DISTRIBUTION_YEAR\").show()"
   ]
  },
  {
   "cell_type": "code",
   "execution_count": null,
   "metadata": {},
   "outputs": [],
   "source": []
  }
 ],
 "metadata": {
  "kernelspec": {
   "display_name": "pysnowpark",
   "language": "python",
   "name": "python3"
  },
  "language_info": {
   "codemirror_mode": {
    "name": "ipython",
    "version": 3
   },
   "file_extension": ".py",
   "mimetype": "text/x-python",
   "name": "python",
   "nbconvert_exporter": "python",
   "pygments_lexer": "ipython3",
   "version": "3.8.16"
  },
  "orig_nbformat": 4
 },
 "nbformat": 4,
 "nbformat_minor": 2
}
