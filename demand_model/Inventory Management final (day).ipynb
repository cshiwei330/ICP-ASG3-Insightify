{
 "cells": [
  {
   "cell_type": "code",
   "execution_count": 2,
   "metadata": {},
   "outputs": [
    {
     "name": "stderr",
     "output_type": "stream",
     "text": [
      "<frozen importlib._bootstrap>:219: RuntimeWarning: scipy._lib.messagestream.MessageStream size changed, may indicate binary incompatibility. Expected 56 from C header, got 64 from PyObject\n"
     ]
    }
   ],
   "source": [
    "# Import Python packages\n",
    "import pandas as pd\n",
    "import numpy as np\n",
    "from matplotlib import pyplot as plt\n",
    "import json\n",
    "import sys\n",
    "import cachetools\n",
    "from datetime import datetime\n",
    "from datetime import date\n",
    "import matplotlib.pyplot as plt \n",
    "import seaborn as sns\n",
    "import math\n",
    "\n",
    "# Import Snowflake modules\n",
    "from snowflake.snowpark import Session\n",
    "import snowflake.snowpark.functions as F\n",
    "import snowflake.snowpark.types as T\n",
    "from snowflake.snowpark import Window\n",
    "from snowflake.snowpark.functions import col\n",
    "\n",
    "# Clustering & Model\n",
    "from sklearn.cluster import KMeans\n",
    "from sklearn.linear_model import LinearRegression\n",
    "from sklearn.model_selection import KFold, cross_val_score, train_test_split\n",
    "\n",
    "# Scalers\n",
    "from sklearn.preprocessing import StandardScaler\n",
    "\n",
    "# Evaluation\n",
    "from sklearn.metrics import silhouette_score\n",
    "from sklearn.metrics import mean_squared_error\n",
    "from sklearn.metrics import r2_score\n",
    "\n",
    "# find the best combination of model hyperparameters\n",
    "from sklearn.model_selection import GridSearchCV, RandomizedSearchCV\n",
    "from sklearn.model_selection import cross_val_score, cross_validate\n",
    "\n",
    "# Getting Password,Username, Account\n",
    "import getpass"
   ]
  },
  {
   "cell_type": "code",
   "execution_count": 3,
   "metadata": {},
   "outputs": [],
   "source": [
    "# Get account credentials from a json file\n",
    "with open(\"account.json\") as f:\n",
    "    data = json.load(f)\n",
    "    username = data[\"username\"]\n",
    "    password = data[\"password\"]\n",
    "    account = data[\"account\"]\n",
    "\n",
    "# Specify connection parameters\n",
    "connection_parameters = {\n",
    "    \"account\": account,\n",
    "    \"user\": username,\n",
    "    \"password\": password,\n",
    "    #\"role\": \"ACCOUNTADMIN\",\n",
    "    #\"warehouse\": \"tasty_ds_wh\",\n",
    "    #\"database\": \"NGEE_ANN_POLYTECHNIC_FROSTBYTE_DATA_SHARE\",\n",
    "    #\"schema\": \"analytics\",\n",
    "}\n",
    "\n",
    "# Create Snowpark session\n",
    "session = Session.builder.configs(connection_parameters).create()"
   ]
  },
  {
   "cell_type": "code",
   "execution_count": 4,
   "metadata": {},
   "outputs": [],
   "source": [
    "order_header_df = session.table(\"NGEE_ANN_POLYTECHNIC_FROSTBYTE_DATA_SHARE.raw_pos.order_header\")\n",
    "order_detail_df = session.table(\"NGEE_ANN_POLYTECHNIC_FROSTBYTE_DATA_SHARE.raw_pos.order_detail\")\n",
    "menu_df = session.table(\"NGEE_ANN_POLYTECHNIC_FROSTBYTE_DATA_SHARE.raw_pos.menu\")\n",
    "truck_df = session.table(\"NGEE_ANN_POLYTECHNIC_FROSTBYTE_DATA_SHARE.raw_pos.truck\")"
   ]
  },
  {
   "cell_type": "code",
   "execution_count": 5,
   "metadata": {},
   "outputs": [
    {
     "name": "stdout",
     "output_type": "stream",
     "text": [
      "-----------------------------------------------------------------------------------------------------------------------------------------------------------------------------------------------------------------------------------------------------------------------------------------\n",
      "|\"ORDER_ID\"  |\"TRUCK_ID\"  |\"LOCATION_ID\"  |\"CUSTOMER_ID\"  |\"DISCOUNT_ID\"  |\"SHIFT_ID\"  |\"SHIFT_START_TIME\"  |\"SHIFT_END_TIME\"  |\"ORDER_CHANNEL\"  |\"ORDER_TS\"           |\"SERVED_TS\"  |\"ORDER_CURRENCY\"  |\"ORDER_AMOUNT\"  |\"ORDER_TAX_AMOUNT\"  |\"ORDER_DISCOUNT_AMOUNT\"  |\"ORDER_TOTAL\"  |\n",
      "-----------------------------------------------------------------------------------------------------------------------------------------------------------------------------------------------------------------------------------------------------------------------------------------\n",
      "|90240744    |239         |8822.0         |NULL           |NULL           |242333      |15:00:00            |22:00:00          |NULL             |2022-07-05 19:33:05  |NULL         |USD               |72.0000         |NULL                |NULL                     |72.0000        |\n",
      "|90240745    |239         |8822.0         |NULL           |NULL           |242333      |15:00:00            |22:00:00          |NULL             |2022-07-05 19:33:11  |NULL         |USD               |37.0000         |NULL                |NULL                     |37.0000        |\n",
      "|90240746    |239         |8822.0         |NULL           |NULL           |242333      |15:00:00            |22:00:00          |NULL             |2022-07-05 19:33:19  |NULL         |USD               |84.0000         |NULL                |NULL                     |84.0000        |\n",
      "|90240747    |239         |8822.0         |NULL           |NULL           |242333      |15:00:00            |22:00:00          |NULL             |2022-07-05 19:33:39  |NULL         |USD               |35.0000         |NULL                |NULL                     |35.0000        |\n",
      "|90240748    |239         |8822.0         |NULL           |NULL           |242333      |15:00:00            |22:00:00          |NULL             |2022-07-05 19:34:09  |NULL         |USD               |36.0000         |NULL                |NULL                     |36.0000        |\n",
      "|90240749    |239         |8822.0         |NULL           |NULL           |242333      |15:00:00            |22:00:00          |NULL             |2022-07-05 19:35:49  |NULL         |USD               |32.0000         |NULL                |NULL                     |32.0000        |\n",
      "|90240750    |239         |8822.0         |NULL           |NULL           |242333      |15:00:00            |22:00:00          |NULL             |2022-07-05 19:35:59  |NULL         |USD               |153.0000        |NULL                |NULL                     |153.0000       |\n",
      "|90240751    |239         |8822.0         |NULL           |NULL           |242333      |15:00:00            |22:00:00          |NULL             |2022-07-05 19:36:53  |NULL         |USD               |33.0000         |NULL                |NULL                     |33.0000        |\n",
      "|90240752    |239         |8822.0         |NULL           |NULL           |242333      |15:00:00            |22:00:00          |NULL             |2022-07-05 19:37:38  |NULL         |USD               |18.0000         |NULL                |NULL                     |18.0000        |\n",
      "|90240753    |239         |8822.0         |NULL           |NULL           |242333      |15:00:00            |22:00:00          |NULL             |2022-07-05 19:38:11  |NULL         |USD               |92.0000         |NULL                |NULL                     |92.0000        |\n",
      "-----------------------------------------------------------------------------------------------------------------------------------------------------------------------------------------------------------------------------------------------------------------------------------------\n",
      "\n"
     ]
    }
   ],
   "source": [
    "order_header_df.show()"
   ]
  },
  {
   "cell_type": "code",
   "execution_count": 6,
   "metadata": {},
   "outputs": [
    {
     "name": "stdout",
     "output_type": "stream",
     "text": [
      "--------------------------------------------------------------------------------------------------------------------------------------------------------\n",
      "|\"ORDER_DETAIL_ID\"  |\"ORDER_ID\"  |\"MENU_ITEM_ID\"  |\"DISCOUNT_ID\"  |\"LINE_NUMBER\"  |\"QUANTITY\"  |\"UNIT_PRICE\"  |\"PRICE\"  |\"ORDER_ITEM_DISCOUNT_AMOUNT\"  |\n",
      "--------------------------------------------------------------------------------------------------------------------------------------------------------\n",
      "|798202495          |420427395   |131             |NULL           |0              |1           |13.0000       |13.0000  |NULL                          |\n",
      "|798202496          |420427396   |133             |NULL           |0              |1           |6.0000        |6.0000   |NULL                          |\n",
      "|798202497          |420427397   |133             |NULL           |0              |1           |6.0000        |6.0000   |NULL                          |\n",
      "|798202498          |420427398   |133             |NULL           |0              |1           |6.0000        |6.0000   |NULL                          |\n",
      "|798202499          |420427399   |131             |NULL           |0              |2           |13.0000       |26.0000  |NULL                          |\n",
      "|798202500          |420427399   |132             |NULL           |1              |1           |11.0000       |11.0000  |NULL                          |\n",
      "|798202501          |420427399   |133             |NULL           |2              |2           |6.0000        |12.0000  |NULL                          |\n",
      "|798202502          |420427399   |134             |NULL           |3              |1           |2.0000        |2.0000   |NULL                          |\n",
      "|798202503          |420427400   |131             |NULL           |0              |4           |13.0000       |52.0000  |NULL                          |\n",
      "|798202504          |420427400   |132             |NULL           |1              |4           |11.0000       |44.0000  |NULL                          |\n",
      "--------------------------------------------------------------------------------------------------------------------------------------------------------\n",
      "\n"
     ]
    }
   ],
   "source": [
    "order_detail_df.show()"
   ]
  },
  {
   "cell_type": "code",
   "execution_count": 7,
   "metadata": {},
   "outputs": [
    {
     "name": "stdout",
     "output_type": "stream",
     "text": [
      "----------------------------------------------------------------------------------------------------------------------------------------------------------------------------------------------------------------------------\n",
      "|\"MENU_ID\"  |\"MENU_TYPE_ID\"  |\"MENU_TYPE\"     |\"TRUCK_BRAND_NAME\"  |\"MENU_ITEM_ID\"  |\"MENU_ITEM_NAME\"  |\"ITEM_CATEGORY\"  |\"ITEM_SUBCATEGORY\"  |\"COST_OF_GOODS_USD\"  |\"SALE_PRICE_USD\"  |\"MENU_ITEM_HEALTH_METRICS_OBJ\"     |\n",
      "----------------------------------------------------------------------------------------------------------------------------------------------------------------------------------------------------------------------------\n",
      "|10038      |5               |Ramen           |Kitakata Ramen Bar  |54              |Bottled Water     |Beverage         |Cold Option         |0.5000               |2.0000            |{                                  |\n",
      "|           |                |                |                    |                |                  |                 |                    |                     |                  |  \"menu_item_health_metrics\": [    |\n",
      "|           |                |                |                    |                |                  |                 |                    |                     |                  |    {                              |\n",
      "|           |                |                |                    |                |                  |                 |                    |                     |                  |      \"ingredients\": [             |\n",
      "|           |                |                |                    |                |                  |                 |                    |                     |                  |        \"12 Oz Bottle Water\"       |\n",
      "|           |                |                |                    |                |                  |                 |                    |                     |                  |      ],                           |\n",
      "|           |                |                |                    |                |                  |                 |                    |                     |                  |      \"is_dairy_free_flag\": \"Y\",   |\n",
      "|           |                |                |                    |                |                  |                 |                    |                     |                  |      \"is_gluten_free_flag\": \"Y\",  |\n",
      "|           |                |                |                    |                |                  |                 |                    |                     |                  |      \"is_healthy_flag\": \"Y\",      |\n",
      "|           |                |                |                    |                |                  |                 |                    |                     |                  |      \"is_nut_free_flag\": \"Y\"      |\n",
      "|           |                |                |                    |                |                  |                 |                    |                     |                  |    }                              |\n",
      "|           |                |                |                    |                |                  |                 |                    |                     |                  |  ],                               |\n",
      "|           |                |                |                    |                |                  |                 |                    |                     |                  |  \"menu_item_id\": 54               |\n",
      "|           |                |                |                    |                |                  |                 |                    |                     |                  |}                                  |\n",
      "|10039      |5               |Ramen           |Kitakata Ramen Bar  |55              |Bottled Soda      |Beverage         |Cold Option         |0.5000               |3.0000            |{                                  |\n",
      "|           |                |                |                    |                |                  |                 |                    |                     |                  |  \"menu_item_health_metrics\": [    |\n",
      "|           |                |                |                    |                |                  |                 |                    |                     |                  |    {                              |\n",
      "|           |                |                |                    |                |                  |                 |                    |                     |                  |      \"ingredients\": [             |\n",
      "|           |                |                |                    |                |                  |                 |                    |                     |                  |        \"12 Oz Bottle Soda\"        |\n",
      "|           |                |                |                    |                |                  |                 |                    |                     |                  |      ],                           |\n",
      "|           |                |                |                    |                |                  |                 |                    |                     |                  |      \"is_dairy_free_flag\": \"Y\",   |\n",
      "|           |                |                |                    |                |                  |                 |                    |                     |                  |      \"is_gluten_free_flag\": \"Y\",  |\n",
      "|           |                |                |                    |                |                  |                 |                    |                     |                  |      \"is_healthy_flag\": \"N\",      |\n",
      "|           |                |                |                    |                |                  |                 |                    |                     |                  |      \"is_nut_free_flag\": \"Y\"      |\n",
      "|           |                |                |                    |                |                  |                 |                    |                     |                  |    }                              |\n",
      "|           |                |                |                    |                |                  |                 |                    |                     |                  |  ],                               |\n",
      "|           |                |                |                    |                |                  |                 |                    |                     |                  |  \"menu_item_id\": 55               |\n",
      "|           |                |                |                    |                |                  |                 |                    |                     |                  |}                                  |\n",
      "|10040      |5               |Ramen           |Kitakata Ramen Bar  |56              |Ice Tea           |Beverage         |Cold Option         |0.7500               |3.0000            |{                                  |\n",
      "|           |                |                |                    |                |                  |                 |                    |                     |                  |  \"menu_item_health_metrics\": [    |\n",
      "|           |                |                |                    |                |                  |                 |                    |                     |                  |    {                              |\n",
      "|           |                |                |                    |                |                  |                 |                    |                     |                  |      \"ingredients\": [             |\n",
      "|           |                |                |                    |                |                  |                 |                    |                     |                  |        \"12 Oz Bottle Ice Tea\"     |\n",
      "|           |                |                |                    |                |                  |                 |                    |                     |                  |      ],                           |\n",
      "|           |                |                |                    |                |                  |                 |                    |                     |                  |      \"is_dairy_free_flag\": \"Y\",   |\n",
      "|           |                |                |                    |                |                  |                 |                    |                     |                  |      \"is_gluten_free_flag\": \"Y\",  |\n",
      "|           |                |                |                    |                |                  |                 |                    |                     |                  |      \"is_healthy_flag\": \"N\",      |\n",
      "|           |                |                |                    |                |                  |                 |                    |                     |                  |      \"is_nut_free_flag\": \"Y\"      |\n",
      "|           |                |                |                    |                |                  |                 |                    |                     |                  |    }                              |\n",
      "|           |                |                |                    |                |                  |                 |                    |                     |                  |  ],                               |\n",
      "|           |                |                |                    |                |                  |                 |                    |                     |                  |  \"menu_item_id\": 56               |\n",
      "|           |                |                |                    |                |                  |                 |                    |                     |                  |}                                  |\n",
      "|10041      |6               |Grilled Cheese  |The Mega Melt       |61              |The Original      |Main             |Hot Option          |1.5000               |5.0000            |{                                  |\n",
      "|           |                |                |                    |                |                  |                 |                    |                     |                  |  \"menu_item_health_metrics\": [    |\n",
      "|           |                |                |                    |                |                  |                 |                    |                     |                  |    {                              |\n",
      "|           |                |                |                    |                |                  |                 |                    |                     |                  |      \"ingredients\": [             |\n",
      "|           |                |                |                    |                |                  |                 |                    |                     |                  |        \"White Bread\",             |\n",
      "|           |                |                |                    |                |                  |                 |                    |                     |                  |        \"Cheddar Cheese\"           |\n",
      "|           |                |                |                    |                |                  |                 |                    |                     |                  |      ],                           |\n",
      "|           |                |                |                    |                |                  |                 |                    |                     |                  |      \"is_dairy_free_flag\": \"N\",   |\n",
      "|           |                |                |                    |                |                  |                 |                    |                     |                  |      \"is_gluten_free_flag\": \"N\",  |\n",
      "|           |                |                |                    |                |                  |                 |                    |                     |                  |      \"is_healthy_flag\": \"N\",      |\n",
      "|           |                |                |                    |                |                  |                 |                    |                     |                  |      \"is_nut_free_flag\": \"Y\"      |\n",
      "|           |                |                |                    |                |                  |                 |                    |                     |                  |    }                              |\n",
      "|           |                |                |                    |                |                  |                 |                    |                     |                  |  ],                               |\n",
      "|           |                |                |                    |                |                  |                 |                    |                     |                  |  \"menu_item_id\": 61               |\n",
      "|           |                |                |                    |                |                  |                 |                    |                     |                  |}                                  |\n",
      "|10042      |6               |Grilled Cheese  |The Mega Melt       |62              |The Ranch         |Main             |Hot Option          |2.4000               |6.0000            |{                                  |\n",
      "|           |                |                |                    |                |                  |                 |                    |                     |                  |  \"menu_item_health_metrics\": [    |\n",
      "|           |                |                |                    |                |                  |                 |                    |                     |                  |    {                              |\n",
      "|           |                |                |                    |                |                  |                 |                    |                     |                  |      \"ingredients\": [             |\n",
      "|           |                |                |                    |                |                  |                 |                    |                     |                  |        \"Sourdough Bread\",         |\n",
      "|           |                |                |                    |                |                  |                 |                    |                     |                  |        \"Cheddar Cheese\",          |\n",
      "|           |                |                |                    |                |                  |                 |                    |                     |                  |        \"Pepper Jack\",             |\n",
      "|           |                |                |                    |                |                  |                 |                    |                     |                  |        \"Deli Turkey\",             |\n",
      "|           |                |                |                    |                |                  |                 |                    |                     |                  |        \"Crispy Bacon\"             |\n",
      "|           |                |                |                    |                |                  |                 |                    |                     |                  |      ],                           |\n",
      "|           |                |                |                    |                |                  |                 |                    |                     |                  |      \"is_dairy_free_flag\": \"N\",   |\n",
      "|           |                |                |                    |                |                  |                 |                    |                     |                  |      \"is_gluten_free_flag\": \"N\",  |\n",
      "|           |                |                |                    |                |                  |                 |                    |                     |                  |      \"is_healthy_flag\": \"N\",      |\n",
      "|           |                |                |                    |                |                  |                 |                    |                     |                  |      \"is_nut_free_flag\": \"Y\"      |\n",
      "|           |                |                |                    |                |                  |                 |                    |                     |                  |    }                              |\n",
      "|           |                |                |                    |                |                  |                 |                    |                     |                  |  ],                               |\n",
      "|           |                |                |                    |                |                  |                 |                    |                     |                  |  \"menu_item_id\": 62               |\n",
      "|           |                |                |                    |                |                  |                 |                    |                     |                  |}                                  |\n",
      "|10043      |6               |Grilled Cheese  |The Mega Melt       |63              |Miss Piggie       |Main             |Hot Option          |2.6000               |6.0000            |{                                  |\n",
      "|           |                |                |                    |                |                  |                 |                    |                     |                  |  \"menu_item_health_metrics\": [    |\n",
      "|           |                |                |                    |                |                  |                 |                    |                     |                  |    {                              |\n",
      "|           |                |                |                    |                |                  |                 |                    |                     |                  |      \"ingredients\": [             |\n",
      "|           |                |                |                    |                |                  |                 |                    |                     |                  |        \"Pressed Brioche Bun\",     |\n",
      "|           |                |                |                    |                |                  |                 |                    |                     |                  |        \"Ham\",                     |\n",
      "|           |                |                |                    |                |                  |                 |                    |                     |                  |        \"Swiss\",                   |\n",
      "|           |                |                |                    |                |                  |                 |                    |                     |                  |        \"Spicy Brown Mustard\",     |\n",
      "|           |                |                |                    |                |                  |                 |                    |                     |                  |        \"Pickles\"                  |\n",
      "|           |                |                |                    |                |                  |                 |                    |                     |                  |      ],                           |\n",
      "|           |                |                |                    |                |                  |                 |                    |                     |                  |      \"is_dairy_free_flag\": \"N\",   |\n",
      "|           |                |                |                    |                |                  |                 |                    |                     |                  |      \"is_gluten_free_flag\": \"N\",  |\n",
      "|           |                |                |                    |                |                  |                 |                    |                     |                  |      \"is_healthy_flag\": \"N\",      |\n",
      "|           |                |                |                    |                |                  |                 |                    |                     |                  |      \"is_nut_free_flag\": \"Y\"      |\n",
      "|           |                |                |                    |                |                  |                 |                    |                     |                  |    }                              |\n",
      "|           |                |                |                    |                |                  |                 |                    |                     |                  |  ],                               |\n",
      "|           |                |                |                    |                |                  |                 |                    |                     |                  |  \"menu_item_id\": 63               |\n",
      "|           |                |                |                    |                |                  |                 |                    |                     |                  |}                                  |\n",
      "|10044      |6               |Grilled Cheese  |The Mega Melt       |64              |Bottled Water     |Beverage         |Cold Option         |0.5000               |2.0000            |{                                  |\n",
      "|           |                |                |                    |                |                  |                 |                    |                     |                  |  \"menu_item_health_metrics\": [    |\n",
      "|           |                |                |                    |                |                  |                 |                    |                     |                  |    {                              |\n",
      "|           |                |                |                    |                |                  |                 |                    |                     |                  |      \"ingredients\": [             |\n",
      "|           |                |                |                    |                |                  |                 |                    |                     |                  |        \"12 Oz Bottle Water\"       |\n",
      "|           |                |                |                    |                |                  |                 |                    |                     |                  |      ],                           |\n",
      "|           |                |                |                    |                |                  |                 |                    |                     |                  |      \"is_dairy_free_flag\": \"Y\",   |\n",
      "|           |                |                |                    |                |                  |                 |                    |                     |                  |      \"is_gluten_free_flag\": \"Y\",  |\n",
      "|           |                |                |                    |                |                  |                 |                    |                     |                  |      \"is_healthy_flag\": \"Y\",      |\n",
      "|           |                |                |                    |                |                  |                 |                    |                     |                  |      \"is_nut_free_flag\": \"Y\"      |\n",
      "|           |                |                |                    |                |                  |                 |                    |                     |                  |    }                              |\n",
      "|           |                |                |                    |                |                  |                 |                    |                     |                  |  ],                               |\n",
      "|           |                |                |                    |                |                  |                 |                    |                     |                  |  \"menu_item_id\": 64               |\n",
      "|           |                |                |                    |                |                  |                 |                    |                     |                  |}                                  |\n",
      "|10045      |6               |Grilled Cheese  |The Mega Melt       |65              |Bottled Soda      |Beverage         |Cold Option         |0.5000               |3.0000            |{                                  |\n",
      "|           |                |                |                    |                |                  |                 |                    |                     |                  |  \"menu_item_health_metrics\": [    |\n",
      "|           |                |                |                    |                |                  |                 |                    |                     |                  |    {                              |\n",
      "|           |                |                |                    |                |                  |                 |                    |                     |                  |      \"ingredients\": [             |\n",
      "|           |                |                |                    |                |                  |                 |                    |                     |                  |        \"12 Oz Bottle Soda\"        |\n",
      "|           |                |                |                    |                |                  |                 |                    |                     |                  |      ],                           |\n",
      "|           |                |                |                    |                |                  |                 |                    |                     |                  |      \"is_dairy_free_flag\": \"Y\",   |\n",
      "|           |                |                |                    |                |                  |                 |                    |                     |                  |      \"is_gluten_free_flag\": \"Y\",  |\n",
      "|           |                |                |                    |                |                  |                 |                    |                     |                  |      \"is_healthy_flag\": \"N\",      |\n",
      "|           |                |                |                    |                |                  |                 |                    |                     |                  |      \"is_nut_free_flag\": \"Y\"      |\n",
      "|           |                |                |                    |                |                  |                 |                    |                     |                  |    }                              |\n",
      "|           |                |                |                    |                |                  |                 |                    |                     |                  |  ],                               |\n",
      "|           |                |                |                    |                |                  |                 |                    |                     |                  |  \"menu_item_id\": 65               |\n",
      "|           |                |                |                    |                |                  |                 |                    |                     |                  |}                                  |\n",
      "|10046      |6               |Grilled Cheese  |The Mega Melt       |66              |Ice Tea           |Beverage         |Cold Option         |0.7500               |3.0000            |{                                  |\n",
      "|           |                |                |                    |                |                  |                 |                    |                     |                  |  \"menu_item_health_metrics\": [    |\n",
      "|           |                |                |                    |                |                  |                 |                    |                     |                  |    {                              |\n",
      "|           |                |                |                    |                |                  |                 |                    |                     |                  |      \"ingredients\": [             |\n",
      "|           |                |                |                    |                |                  |                 |                    |                     |                  |        \"12 Oz Bottle Ice Tea\"     |\n",
      "|           |                |                |                    |                |                  |                 |                    |                     |                  |      ],                           |\n",
      "|           |                |                |                    |                |                  |                 |                    |                     |                  |      \"is_dairy_free_flag\": \"Y\",   |\n",
      "|           |                |                |                    |                |                  |                 |                    |                     |                  |      \"is_gluten_free_flag\": \"Y\",  |\n",
      "|           |                |                |                    |                |                  |                 |                    |                     |                  |      \"is_healthy_flag\": \"N\",      |\n",
      "|           |                |                |                    |                |                  |                 |                    |                     |                  |      \"is_nut_free_flag\": \"Y\"      |\n",
      "|           |                |                |                    |                |                  |                 |                    |                     |                  |    }                              |\n",
      "|           |                |                |                    |                |                  |                 |                    |                     |                  |  ],                               |\n",
      "|           |                |                |                    |                |                  |                 |                    |                     |                  |  \"menu_item_id\": 66               |\n",
      "|           |                |                |                    |                |                  |                 |                    |                     |                  |}                                  |\n",
      "|10047      |7               |Vegetarian      |Plant Palace        |71              |Veggie Burger     |Main             |Hot Option          |5.0000               |9.0000            |{                                  |\n",
      "|           |                |                |                    |                |                  |                 |                    |                     |                  |  \"menu_item_health_metrics\": [    |\n",
      "|           |                |                |                    |                |                  |                 |                    |                     |                  |    {                              |\n",
      "|           |                |                |                    |                |                  |                 |                    |                     |                  |      \"ingredients\": [             |\n",
      "|           |                |                |                    |                |                  |                 |                    |                     |                  |        \"Brioche Bun\",             |\n",
      "|           |                |                |                    |                |                  |                 |                    |                     |                  |        \"Black Bean Burger\",       |\n",
      "|           |                |                |                    |                |                  |                 |                    |                     |                  |        \"Vegan Cheese\",            |\n",
      "|           |                |                |                    |                |                  |                 |                    |                     |                  |        \"Lettuce\"                  |\n",
      "|           |                |                |                    |                |                  |                 |                    |                     |                  |      ],                           |\n",
      "|           |                |                |                    |                |                  |                 |                    |                     |                  |      \"is_dairy_free_flag\": \"N\",   |\n",
      "|           |                |                |                    |                |                  |                 |                    |                     |                  |      \"is_gluten_free_flag\": \"N\",  |\n",
      "|           |                |                |                    |                |                  |                 |                    |                     |                  |      \"is_healthy_flag\": \"N\",      |\n",
      "|           |                |                |                    |                |                  |                 |                    |                     |                  |      \"is_nut_free_flag\": \"Y\"      |\n",
      "|           |                |                |                    |                |                  |                 |                    |                     |                  |    }                              |\n",
      "|           |                |                |                    |                |                  |                 |                    |                     |                  |  ],                               |\n",
      "|           |                |                |                    |                |                  |                 |                    |                     |                  |  \"menu_item_id\": 71               |\n",
      "|           |                |                |                    |                |                  |                 |                    |                     |                  |}                                  |\n",
      "----------------------------------------------------------------------------------------------------------------------------------------------------------------------------------------------------------------------------\n",
      "\n"
     ]
    }
   ],
   "source": [
    "menu_df.show()"
   ]
  },
  {
   "cell_type": "code",
   "execution_count": 8,
   "metadata": {},
   "outputs": [
    {
     "name": "stdout",
     "output_type": "stream",
     "text": [
      "----------------\n",
      "|\"MIN(COUNT)\"  |\n",
      "----------------\n",
      "|8850          |\n",
      "----------------\n",
      "\n"
     ]
    }
   ],
   "source": [
    "#Minimum order transaction by a truck\n",
    "order_header_df.group_by(\"TRUCK_ID\").agg(F.count(\"ORDER_ID\").alias('count')).agg(F.min('count')).show()"
   ]
  },
  {
   "cell_type": "code",
   "execution_count": 9,
   "metadata": {},
   "outputs": [],
   "source": [
    "#order_header_df.drop_duplicates('ORDER_ID').group_by('ORDER_ID').agg(F.count('ORDER_ID').alias('nnn')).agg(F.sum('NNN')).show()"
   ]
  },
  {
   "cell_type": "code",
   "execution_count": 10,
   "metadata": {},
   "outputs": [],
   "source": [
    "#order_detail_df.drop_duplicates('ORDER_ID').group_by('ORDER_ID').agg(F.count('ORDER_ID').alias('nnn')).agg(F.sum('NNN')).show()"
   ]
  },
  {
   "cell_type": "code",
   "execution_count": 11,
   "metadata": {},
   "outputs": [],
   "source": [
    "order_truck = order_header_df.select('ORDER_ID', 'TRUCK_ID', 'ORDER_TS')\n",
    "df = order_detail_df.join(order_truck, order_detail_df.ORDER_ID == order_truck.ORDER_ID, how = \"left\", lsuffix = \"\", rsuffix = \"_01\")"
   ]
  },
  {
   "cell_type": "code",
   "execution_count": 12,
   "metadata": {},
   "outputs": [],
   "source": [
    "#df.show()"
   ]
  },
  {
   "cell_type": "code",
   "execution_count": 13,
   "metadata": {},
   "outputs": [
    {
     "name": "stdout",
     "output_type": "stream",
     "text": [
      "-----------------------\n",
      "|\"MAX(ORDER_TS)\"      |\n",
      "-----------------------\n",
      "|2022-11-01 22:59:59  |\n",
      "-----------------------\n",
      "\n"
     ]
    }
   ],
   "source": [
    "df.agg(F.max(\"ORDER_TS\")).show()"
   ]
  },
  {
   "cell_type": "code",
   "execution_count": 14,
   "metadata": {},
   "outputs": [],
   "source": [
    "#df = df.with_column('ORDER_YEAR', F.year(F.col('ORDER_TS')))\n",
    "#df = df.with_column('ORDER_MONTH', F.month(F.col('ORDER_TS')))\n",
    "#df = df.with_column('ORDER_DAY', F.dayofmonth(F.col('ORDER_TS')))\n",
    "df = df.with_column('LAST_DATE', F.iff(F.col('ORDER_TS') == F.col('ORDER_TS'), '2022-11-01', \"0\"))\n",
    "df = df.with_column('DAYS_AGO', F.datediff('day', F.col('ORDER_TS'), F.col('LAST_DATE')))"
   ]
  },
  {
   "cell_type": "code",
   "execution_count": 15,
   "metadata": {},
   "outputs": [
    {
     "name": "stdout",
     "output_type": "stream",
     "text": [
      "--------------------------------------------------------------------------------------------------------------------------------------------------------------------------------------------------------------------------------------\n",
      "|\"ORDER_DETAIL_ID\"  |\"ORDER_ID\"  |\"MENU_ITEM_ID\"  |\"DISCOUNT_ID\"  |\"LINE_NUMBER\"  |\"QUANTITY\"  |\"UNIT_PRICE\"  |\"PRICE\"  |\"ORDER_ITEM_DISCOUNT_AMOUNT\"  |\"ORDER_ID_01\"  |\"TRUCK_ID\"  |\"ORDER_TS\"           |\"LAST_DATE\"  |\"DAYS_AGO\"  |\n",
      "--------------------------------------------------------------------------------------------------------------------------------------------------------------------------------------------------------------------------------------\n",
      "|798202497          |420427397   |133             |NULL           |0              |1           |6.0000        |6.0000   |NULL                          |420427397      |433         |2022-04-10 19:42:18  |2022-11-01   |205         |\n",
      "|798202503          |420427400   |131             |NULL           |0              |4           |13.0000       |52.0000  |NULL                          |420427400      |433         |2022-04-10 19:44:21  |2022-11-01   |205         |\n",
      "|798202504          |420427400   |132             |NULL           |1              |4           |11.0000       |44.0000  |NULL                          |420427400      |433         |2022-04-10 19:44:21  |2022-11-01   |205         |\n",
      "|798202498          |420427398   |133             |NULL           |0              |1           |6.0000        |6.0000   |NULL                          |420427398      |433         |2022-04-10 19:42:32  |2022-11-01   |205         |\n",
      "|798202499          |420427399   |131             |NULL           |0              |2           |13.0000       |26.0000  |NULL                          |420427399      |433         |2022-04-10 19:42:48  |2022-11-01   |205         |\n",
      "|798202500          |420427399   |132             |NULL           |1              |1           |11.0000       |11.0000  |NULL                          |420427399      |433         |2022-04-10 19:42:48  |2022-11-01   |205         |\n",
      "|798202501          |420427399   |133             |NULL           |2              |2           |6.0000        |12.0000  |NULL                          |420427399      |433         |2022-04-10 19:42:48  |2022-11-01   |205         |\n",
      "|798202502          |420427399   |134             |NULL           |3              |1           |2.0000        |2.0000   |NULL                          |420427399      |433         |2022-04-10 19:42:48  |2022-11-01   |205         |\n",
      "|798202496          |420427396   |133             |NULL           |0              |1           |6.0000        |6.0000   |NULL                          |420427396      |433         |2022-04-10 19:42:15  |2022-11-01   |205         |\n",
      "|798202495          |420427395   |131             |NULL           |0              |1           |13.0000       |13.0000  |NULL                          |420427395      |433         |2022-04-10 19:38:13  |2022-11-01   |205         |\n",
      "--------------------------------------------------------------------------------------------------------------------------------------------------------------------------------------------------------------------------------------\n",
      "\n"
     ]
    }
   ],
   "source": [
    "df.show()"
   ]
  },
  {
   "cell_type": "code",
   "execution_count": 16,
   "metadata": {},
   "outputs": [],
   "source": [
    "#df.describe().show()"
   ]
  },
  {
   "cell_type": "code",
   "execution_count": 17,
   "metadata": {},
   "outputs": [
    {
     "name": "stdout",
     "output_type": "stream",
     "text": [
      "-------------------------------------------------------\n",
      "|\"TRUCK_ID\"  |\"MENU_ITEM_ID\"  |\"DAYS_AGO\"  |\"DEMAND\"  |\n",
      "-------------------------------------------------------\n",
      "|1           |15              |214         |7         |\n",
      "|1           |18              |207         |36        |\n",
      "|1           |18              |214         |36        |\n",
      "|1           |15              |211         |13        |\n",
      "|1           |16              |212         |10        |\n",
      "|1           |18              |215         |27        |\n",
      "|1           |17              |217         |36        |\n",
      "|1           |12              |204         |31        |\n",
      "|1           |12              |211         |33        |\n",
      "|1           |12              |216         |28        |\n",
      "-------------------------------------------------------\n",
      "\n"
     ]
    }
   ],
   "source": [
    "#demand_df = df.group_by(\"TRUCK_ID\", 'MENU_ITEM_ID', 'ORDER_TS').agg(F.sum(\"QUANTITY\").alias('DEMAND')) fix order_ts also hv other codes\n",
    "demand_df = df.group_by(\"TRUCK_ID\", 'MENU_ITEM_ID', 'DAYS_AGO').agg(F.sum(\"QUANTITY\").alias('DEMAND'))\n",
    "demand_df.sort('TRUCK_ID').show()"
   ]
  },
  {
   "cell_type": "code",
   "execution_count": 18,
   "metadata": {},
   "outputs": [],
   "source": [
    "unit_price = df.group_by(\"TRUCK_ID\", 'MENU_ITEM_ID', 'DAYS_AGO').agg(F.mean(\"unit_price\").alias('unit_price'))\n",
    "#unit_price = df.group_by(\"TRUCK_ID\", 'MENU_ITEM_ID', 'ORDER_TS').agg(F.mean(\"unit_price\").alias('unit_price'))\n",
    "#unit_price.sort('TRUCK_ID').show()"
   ]
  },
  {
   "cell_type": "code",
   "execution_count": 19,
   "metadata": {},
   "outputs": [],
   "source": [
    "final_df = demand_df.join(unit_price, on= ['TRUCK_ID', 'MENU_ITEM_ID', 'DAYS_AGO'], lsuffix = \"\", rsuffix = \"_01\")\n",
    "#final_df = demand_df.join(unit_price, on= ['TRUCK_ID', 'MENU_ITEM_ID', 'ORDER_TS'], lsuffix = \"\", rsuffix = \"_01\")"
   ]
  },
  {
   "cell_type": "code",
   "execution_count": 20,
   "metadata": {},
   "outputs": [],
   "source": [
    "final_df = final_df.withColumn(\"date\", F.iff(F.col('TRUCK_ID') == F.col('TRUCK_ID'), '2022-11-01', '0'))\n",
    "final_df = final_df.withColumn(\"date\", F.to_date(\"date\"))\n",
    "final_df = final_df.with_column('ORDER_TS', F.date_sub(F.col('DATE'), F.col('DAYS_AGO')))\n",
    "final_df = final_df.with_column('ORDER_YEAR', F.year(F.col('ORDER_TS')))\n",
    "final_df = final_df.with_column('ORDER_MONTH', F.month(F.col('ORDER_TS')))\n",
    "final_df = final_df.with_column('ORDER_DAY', F.dayofmonth(F.col('ORDER_TS')))"
   ]
  },
  {
   "cell_type": "code",
   "execution_count": 21,
   "metadata": {},
   "outputs": [],
   "source": [
    "final_df = final_df.drop(['DATE', 'ORDER_TS'])"
   ]
  },
  {
   "cell_type": "code",
   "execution_count": 22,
   "metadata": {},
   "outputs": [
    {
     "name": "stdout",
     "output_type": "stream",
     "text": [
      "--------------------------------------------------------------------------------------------------------------------\n",
      "|\"TRUCK_ID\"  |\"MENU_ITEM_ID\"  |\"DAYS_AGO\"  |\"DEMAND\"  |\"UNIT_PRICE\"   |\"ORDER_YEAR\"  |\"ORDER_MONTH\"  |\"ORDER_DAY\"  |\n",
      "--------------------------------------------------------------------------------------------------------------------\n",
      "|283         |131             |153         |1545      |13.0000000000  |2022          |6              |1            |\n",
      "|283         |132             |153         |1645      |11.0000000000  |2022          |6              |1            |\n",
      "|293         |84              |188         |318       |2.0000000000   |2022          |4              |27           |\n",
      "|300         |156             |188         |377       |3.0000000000   |2022          |4              |27           |\n",
      "|289         |43              |188         |1648      |15.0000000000  |2022          |4              |27           |\n",
      "|272         |27              |152         |773       |6.0000000000   |2022          |6              |2            |\n",
      "|272         |22              |152         |821       |17.0000000000  |2022          |6              |2            |\n",
      "|296         |113             |188         |1579      |14.0000000000  |2022          |4              |27           |\n",
      "|276         |64              |152         |334       |2.0000000000   |2022          |6              |2            |\n",
      "|277         |73              |152         |1708      |12.0000000000  |2022          |6              |2            |\n",
      "--------------------------------------------------------------------------------------------------------------------\n",
      "\n"
     ]
    }
   ],
   "source": [
    "final_df.show()"
   ]
  },
  {
   "cell_type": "code",
   "execution_count": 23,
   "metadata": {},
   "outputs": [
    {
     "name": "stdout",
     "output_type": "stream",
     "text": [
      "-----------------------------------------------------------------------------------------------------------------------------------------------------------------------------------------------------------------------------------\n",
      "|\"TRUCK_ID\"  |\"MENU_TYPE_ID\"  |\"PRIMARY_CITY\"  |\"REGION\"    |\"ISO_REGION\"  |\"COUNTRY\"      |\"ISO_COUNTRY_CODE\"  |\"FRANCHISE_FLAG\"  |\"YEAR\"  |\"MAKE\"        |\"MODEL\"           |\"EV_FLAG\"  |\"FRANCHISE_ID\"  |\"TRUCK_OPENING_DATE\"  |\n",
      "-----------------------------------------------------------------------------------------------------------------------------------------------------------------------------------------------------------------------------------\n",
      "|3           |3               |San Mateo       |California  |CA            |United States  |US                  |1                 |2004    |Freightliner  |MT45 Utilimaster  |0          |2               |2021-10-01            |\n",
      "|4           |4               |San Mateo       |California  |CA            |United States  |US                  |1                 |1997    |Chevrolet     |P30               |1          |3               |2021-01-01            |\n",
      "|5           |5               |San Mateo       |California  |CA            |United States  |US                  |1                 |2010    |Custom        |Van               |1          |4               |2022-04-01            |\n",
      "|6           |6               |San Mateo       |California  |CA            |United States  |US                  |1                 |2010    |Airstream     |Trailer           |0          |5               |2019-07-01            |\n",
      "|7           |7               |San Mateo       |California  |CA            |United States  |US                  |1                 |2010    |Custom        |Van               |0          |6               |2021-01-01            |\n",
      "|8           |8               |San Mateo       |California  |CA            |United States  |US                  |1                 |1999    |Chevrolet     |P30               |1          |7               |2022-04-01            |\n",
      "|9           |9               |San Mateo       |California  |CA            |United States  |US                  |1                 |2008    |Custom        |Box Truck         |0          |8               |2020-07-01            |\n",
      "|12          |12              |San Mateo       |California  |CA            |United States  |US                  |1                 |2010    |Custom        |Van               |0          |11              |2021-04-01            |\n",
      "|13          |13              |San Mateo       |California  |CA            |United States  |US                  |1                 |2000    |Freightliner  |MT45 Utilimaster  |0          |12              |2021-07-01            |\n",
      "|14          |14              |San Mateo       |California  |CA            |United States  |US                  |1                 |2004    |Freightliner  |MT45 Utilimaster  |0          |12              |2020-10-01            |\n",
      "-----------------------------------------------------------------------------------------------------------------------------------------------------------------------------------------------------------------------------------\n",
      "\n"
     ]
    }
   ],
   "source": [
    "truck_df.show()"
   ]
  },
  {
   "cell_type": "code",
   "execution_count": 24,
   "metadata": {},
   "outputs": [],
   "source": [
    "#truck_df = truck_df.filter(F.col('COUNTRY') == 'United States')"
   ]
  },
  {
   "cell_type": "code",
   "execution_count": 25,
   "metadata": {},
   "outputs": [
    {
     "name": "stdout",
     "output_type": "stream",
     "text": [
      "------------------------------------------\n",
      "|\"TRUCK_ID\"  |\"EV_FLAG\"  |\"DAYS_OPENED\"  |\n",
      "------------------------------------------\n",
      "|3           |0          |382            |\n",
      "|4           |1          |655            |\n",
      "|5           |1          |200            |\n",
      "|6           |0          |1205           |\n",
      "|7           |0          |655            |\n",
      "|8           |1          |200            |\n",
      "|9           |0          |839            |\n",
      "|12          |0          |565            |\n",
      "|13          |0          |474            |\n",
      "|14          |0          |747            |\n",
      "------------------------------------------\n",
      "\n"
     ]
    }
   ],
   "source": [
    "truck = truck_df.with_column('LAST_DATE', F.iff(F.col(\"TRUCK_ID\") == F.col('TRUCK_ID'), \"2022-10-18\", '0'))\n",
    "truck = truck.withColumn(\"DAYS_OPENED\", F.datediff(\"day\", F.col(\"TRUCK_OPENING_DATE\"), F.col('LAST_DATE')))\n",
    "#truck = truck.select('TRUCK_ID', 'PRIMARY_CITY', 'REGION', 'COUNTRY', 'DAYS_OPENED')\n",
    "truck = truck.select('TRUCK_ID','EV_FLAG','DAYS_OPENED')\n",
    "\n",
    "truck.show()"
   ]
  },
  {
   "cell_type": "code",
   "execution_count": 26,
   "metadata": {},
   "outputs": [],
   "source": [
    "final_df = final_df.join(truck, on= ['TRUCK_ID'], lsuffix = \"\", rsuffix = \"_01\")"
   ]
  },
  {
   "cell_type": "code",
   "execution_count": 27,
   "metadata": {},
   "outputs": [
    {
     "name": "stdout",
     "output_type": "stream",
     "text": [
      "-------------------------------------------------------------------------------------------------------------------------------------------------------------------------------------------\n",
      "|\"MENU_ID\"  |\"MENU_TYPE_ID\"  |\"MENU_TYPE\"   |\"TRUCK_BRAND_NAME\"  |\"MENU_ITEM_ID\"  |\"MENU_ITEM_NAME\"       |\"ITEM_CATEGORY\"  |\"ITEM_SUBCATEGORY\"  |\"COST_OF_GOODS_USD\"  |\"SALE_PRICE_USD\"  |\n",
      "-------------------------------------------------------------------------------------------------------------------------------------------------------------------------------------------\n",
      "|10026      |3               |Tacos         |Guac n' Roll        |37              |Chicken Burrito        |Main             |Warm Option         |3.2500               |12.5000           |\n",
      "|10027      |3               |Tacos         |Guac n' Roll        |38              |Lean Burrito Bowl      |Main             |Warm Option         |3.5000               |12.5000           |\n",
      "|10028      |3               |Tacos         |Guac n' Roll        |39              |Fish Burrito           |Main             |Warm Option         |3.7500               |12.5000           |\n",
      "|10029      |4               |Mac & Cheese  |The Mac Shack       |41              |Standard Mac & Cheese  |Main             |Hot Option          |3.0000               |8.0000            |\n",
      "|10030      |4               |Mac & Cheese  |The Mac Shack       |42              |Buffalo Mac & Cheese   |Main             |Hot Option          |6.0000               |10.0000           |\n",
      "|10031      |4               |Mac & Cheese  |The Mac Shack       |43              |Lobster Mac & Cheese   |Main             |Hot Option          |10.0000              |15.0000           |\n",
      "|10032      |4               |Mac & Cheese  |The Mac Shack       |44              |Bottled Water          |Beverage         |Cold Option         |0.5000               |2.0000            |\n",
      "|10033      |4               |Mac & Cheese  |The Mac Shack       |45              |Bottled Soda           |Beverage         |Cold Option         |0.5000               |3.0000            |\n",
      "|10034      |4               |Mac & Cheese  |The Mac Shack       |46              |Ice Tea                |Beverage         |Cold Option         |0.7500               |3.0000            |\n",
      "|10035      |5               |Ramen         |Kitakata Ramen Bar  |51              |Creamy Chicken Ramen   |Main             |Hot Option          |8.0000               |17.2500           |\n",
      "-------------------------------------------------------------------------------------------------------------------------------------------------------------------------------------------\n",
      "\n"
     ]
    }
   ],
   "source": [
    "menu = menu_df.drop('MENU_ITEM_HEALTH_METRICS_OBJ')\n",
    "menu.show()"
   ]
  },
  {
   "cell_type": "code",
   "execution_count": 28,
   "metadata": {},
   "outputs": [
    {
     "name": "stdout",
     "output_type": "stream",
     "text": [
      "--------------------------------------------------------------------------------------------------\n",
      "|\"MENU_ITEM_ID\"  |\"MENU_TYPE_ID\"  |\"TEMPERATURE_OPTION\"  |\"COST_OF_GOODS_USD\"  |\"ITEM_CATEGORY\"  |\n",
      "--------------------------------------------------------------------------------------------------\n",
      "|75              |7               |0                     |0.5000               |Beverage         |\n",
      "|76              |7               |0                     |0.7500               |Beverage         |\n",
      "|81              |8               |1                     |5.0000               |Main             |\n",
      "|82              |8               |2                     |6.0000               |Main             |\n",
      "|83              |8               |1                     |4.0000               |Snack            |\n",
      "|84              |8               |0                     |0.5000               |Beverage         |\n",
      "|85              |8               |0                     |0.5000               |Beverage         |\n",
      "|86              |8               |0                     |0.7500               |Beverage         |\n",
      "|91              |9               |2                     |5.0000               |Main             |\n",
      "|92              |9               |2                     |6.0000               |Main             |\n",
      "--------------------------------------------------------------------------------------------------\n",
      "\n"
     ]
    }
   ],
   "source": [
    "menu = menu.with_column('TEMPERATURE_OPTION', F.when(F.col('ITEM_SUBCATEGORY') == 'Cold Option', 0).when(\n",
    "    F.col('ITEM_SUBCATEGORY') == 'Warm Option', 1).otherwise(2))\n",
    "menu = menu.select('MENU_ITEM_ID', 'MENU_TYPE_ID', 'TEMPERATURE_OPTION', 'COST_OF_GOODS_USD', 'ITEM_CATEGORY') #Add item category and ohe in pandas\n",
    "menu.show()"
   ]
  },
  {
   "cell_type": "code",
   "execution_count": 29,
   "metadata": {},
   "outputs": [],
   "source": [
    "final_df = final_df.join(menu, on= ['MENU_ITEM_ID'], lsuffix = \"\", rsuffix = \"_01\")"
   ]
  },
  {
   "cell_type": "code",
   "execution_count": 30,
   "metadata": {},
   "outputs": [],
   "source": [
    "#final_df.show()"
   ]
  },
  {
   "cell_type": "code",
   "execution_count": 31,
   "metadata": {},
   "outputs": [],
   "source": [
    "#final_df.sort(['ORDER_YEAR', 'ORDER_MONTH'], ascending=[False, False]).show()"
   ]
  },
  {
   "cell_type": "code",
   "execution_count": 32,
   "metadata": {},
   "outputs": [],
   "source": [
    "import feature_engine\n",
    "from feature_engine.encoding import OneHotEncoder\n",
    "\n",
    "final_df = final_df.to_pandas()\n",
    "ohe_enc = OneHotEncoder(\n",
    "    top_categories=None,\n",
    "    drop_last=False,\n",
    "    variables= ['ITEM_CATEGORY'])  # to return k-1, false to return k\n",
    "\n",
    "\n",
    "ohe_enc.fit(final_df)\n",
    "final_df = ohe_enc.transform(final_df)"
   ]
  },
  {
   "cell_type": "code",
   "execution_count": 33,
   "metadata": {},
   "outputs": [
    {
     "name": "stdout",
     "output_type": "stream",
     "text": [
      "<class 'pandas.core.frame.DataFrame'>\n",
      "RangeIndex: 1744744 entries, 0 to 1744743\n",
      "Data columns (total 16 columns):\n",
      " #   Column                  Dtype  \n",
      "---  ------                  -----  \n",
      " 0   MENU_ITEM_ID            int16  \n",
      " 1   TRUCK_ID                int16  \n",
      " 2   DEMAND                  int64  \n",
      " 3   UNIT_PRICE              object \n",
      " 4   ORDER_YEAR              int16  \n",
      " 5   ORDER_MONTH             int8   \n",
      " 6   ORDER_DAY               int8   \n",
      " 7   EV_FLAG                 int8   \n",
      " 8   DAYS_OPENED             int32  \n",
      " 9   MENU_TYPE_ID            int8   \n",
      " 10  TEMPERATURE_OPTION      int8   \n",
      " 11  COST_OF_GOODS_USD       float64\n",
      " 12  ITEM_CATEGORY_Main      int32  \n",
      " 13  ITEM_CATEGORY_Beverage  int32  \n",
      " 14  ITEM_CATEGORY_Dessert   int32  \n",
      " 15  ITEM_CATEGORY_Snack     int32  \n",
      "dtypes: float64(1), int16(3), int32(5), int64(1), int8(5), object(1)\n",
      "memory usage: 91.5+ MB\n"
     ]
    }
   ],
   "source": [
    "final_df = final_df.drop('DAYS_AGO', axis=1)\n",
    "final_df.info()"
   ]
  },
  {
   "cell_type": "code",
   "execution_count": 34,
   "metadata": {},
   "outputs": [
    {
     "name": "stderr",
     "output_type": "stream",
     "text": [
      "C:\\Users\\tanko\\AppData\\Local\\Temp\\ipykernel_32832\\2626907977.py:1: FutureWarning: The default value of numeric_only in DataFrame.corr is deprecated. In a future version, it will default to False. Select only valid columns or specify the value of numeric_only to silence this warning.\n",
      "  final_df.corr()\n"
     ]
    },
    {
     "data": {
      "text/html": [
       "<div>\n",
       "<style scoped>\n",
       "    .dataframe tbody tr th:only-of-type {\n",
       "        vertical-align: middle;\n",
       "    }\n",
       "\n",
       "    .dataframe tbody tr th {\n",
       "        vertical-align: top;\n",
       "    }\n",
       "\n",
       "    .dataframe thead th {\n",
       "        text-align: right;\n",
       "    }\n",
       "</style>\n",
       "<table border=\"1\" class=\"dataframe\">\n",
       "  <thead>\n",
       "    <tr style=\"text-align: right;\">\n",
       "      <th></th>\n",
       "      <th>MENU_ITEM_ID</th>\n",
       "      <th>TRUCK_ID</th>\n",
       "      <th>DEMAND</th>\n",
       "      <th>ORDER_YEAR</th>\n",
       "      <th>ORDER_MONTH</th>\n",
       "      <th>ORDER_DAY</th>\n",
       "      <th>EV_FLAG</th>\n",
       "      <th>DAYS_OPENED</th>\n",
       "      <th>MENU_TYPE_ID</th>\n",
       "      <th>TEMPERATURE_OPTION</th>\n",
       "      <th>COST_OF_GOODS_USD</th>\n",
       "      <th>ITEM_CATEGORY_Main</th>\n",
       "      <th>ITEM_CATEGORY_Beverage</th>\n",
       "      <th>ITEM_CATEGORY_Dessert</th>\n",
       "      <th>ITEM_CATEGORY_Snack</th>\n",
       "    </tr>\n",
       "  </thead>\n",
       "  <tbody>\n",
       "    <tr>\n",
       "      <th>MENU_ITEM_ID</th>\n",
       "      <td>1.000000</td>\n",
       "      <td>0.028822</td>\n",
       "      <td>0.137943</td>\n",
       "      <td>0.017816</td>\n",
       "      <td>0.004362</td>\n",
       "      <td>0.000118</td>\n",
       "      <td>-0.127218</td>\n",
       "      <td>-0.035291</td>\n",
       "      <td>0.998926</td>\n",
       "      <td>0.035217</td>\n",
       "      <td>0.059955</td>\n",
       "      <td>0.069602</td>\n",
       "      <td>0.117470</td>\n",
       "      <td>-0.345721</td>\n",
       "      <td>-0.060066</td>\n",
       "    </tr>\n",
       "    <tr>\n",
       "      <th>TRUCK_ID</th>\n",
       "      <td>0.028822</td>\n",
       "      <td>1.000000</td>\n",
       "      <td>0.252452</td>\n",
       "      <td>0.025549</td>\n",
       "      <td>-0.004239</td>\n",
       "      <td>-0.000364</td>\n",
       "      <td>0.074173</td>\n",
       "      <td>-0.044074</td>\n",
       "      <td>0.028875</td>\n",
       "      <td>-0.007379</td>\n",
       "      <td>0.004212</td>\n",
       "      <td>-0.005346</td>\n",
       "      <td>0.003138</td>\n",
       "      <td>0.008973</td>\n",
       "      <td>-0.004416</td>\n",
       "    </tr>\n",
       "    <tr>\n",
       "      <th>DEMAND</th>\n",
       "      <td>0.137943</td>\n",
       "      <td>0.252452</td>\n",
       "      <td>1.000000</td>\n",
       "      <td>0.036230</td>\n",
       "      <td>-0.007377</td>\n",
       "      <td>-0.000248</td>\n",
       "      <td>0.046280</td>\n",
       "      <td>-0.043923</td>\n",
       "      <td>0.157803</td>\n",
       "      <td>0.601486</td>\n",
       "      <td>0.523795</td>\n",
       "      <td>0.583752</td>\n",
       "      <td>-0.618409</td>\n",
       "      <td>-0.037051</td>\n",
       "      <td>0.123866</td>\n",
       "    </tr>\n",
       "    <tr>\n",
       "      <th>ORDER_YEAR</th>\n",
       "      <td>0.017816</td>\n",
       "      <td>0.025549</td>\n",
       "      <td>0.036230</td>\n",
       "      <td>1.000000</td>\n",
       "      <td>-0.229731</td>\n",
       "      <td>-0.005063</td>\n",
       "      <td>0.309228</td>\n",
       "      <td>-0.545806</td>\n",
       "      <td>0.018038</td>\n",
       "      <td>-0.003929</td>\n",
       "      <td>-0.005019</td>\n",
       "      <td>0.001168</td>\n",
       "      <td>0.003783</td>\n",
       "      <td>-0.000898</td>\n",
       "      <td>-0.010138</td>\n",
       "    </tr>\n",
       "    <tr>\n",
       "      <th>ORDER_MONTH</th>\n",
       "      <td>0.004362</td>\n",
       "      <td>-0.004239</td>\n",
       "      <td>-0.007377</td>\n",
       "      <td>-0.229731</td>\n",
       "      <td>1.000000</td>\n",
       "      <td>0.008547</td>\n",
       "      <td>-0.035662</td>\n",
       "      <td>0.000941</td>\n",
       "      <td>0.004355</td>\n",
       "      <td>0.001051</td>\n",
       "      <td>0.002253</td>\n",
       "      <td>-0.000146</td>\n",
       "      <td>0.000282</td>\n",
       "      <td>-0.002883</td>\n",
       "      <td>0.002676</td>\n",
       "    </tr>\n",
       "    <tr>\n",
       "      <th>ORDER_DAY</th>\n",
       "      <td>0.000118</td>\n",
       "      <td>-0.000364</td>\n",
       "      <td>-0.000248</td>\n",
       "      <td>-0.005063</td>\n",
       "      <td>0.008547</td>\n",
       "      <td>1.000000</td>\n",
       "      <td>-0.001154</td>\n",
       "      <td>0.001257</td>\n",
       "      <td>0.000118</td>\n",
       "      <td>0.000089</td>\n",
       "      <td>0.000067</td>\n",
       "      <td>0.000037</td>\n",
       "      <td>0.000011</td>\n",
       "      <td>-0.000157</td>\n",
       "      <td>0.000057</td>\n",
       "    </tr>\n",
       "    <tr>\n",
       "      <th>EV_FLAG</th>\n",
       "      <td>-0.127218</td>\n",
       "      <td>0.074173</td>\n",
       "      <td>0.046280</td>\n",
       "      <td>0.309228</td>\n",
       "      <td>-0.035662</td>\n",
       "      <td>-0.001154</td>\n",
       "      <td>1.000000</td>\n",
       "      <td>-0.544327</td>\n",
       "      <td>-0.127633</td>\n",
       "      <td>-0.011775</td>\n",
       "      <td>-0.019977</td>\n",
       "      <td>0.008565</td>\n",
       "      <td>-0.015115</td>\n",
       "      <td>0.025461</td>\n",
       "      <td>-0.011567</td>\n",
       "    </tr>\n",
       "    <tr>\n",
       "      <th>DAYS_OPENED</th>\n",
       "      <td>-0.035291</td>\n",
       "      <td>-0.044074</td>\n",
       "      <td>-0.043923</td>\n",
       "      <td>-0.545806</td>\n",
       "      <td>0.000941</td>\n",
       "      <td>0.001257</td>\n",
       "      <td>-0.544327</td>\n",
       "      <td>1.000000</td>\n",
       "      <td>-0.035691</td>\n",
       "      <td>0.006602</td>\n",
       "      <td>0.007808</td>\n",
       "      <td>-0.002041</td>\n",
       "      <td>-0.007092</td>\n",
       "      <td>0.003333</td>\n",
       "      <td>0.016966</td>\n",
       "    </tr>\n",
       "    <tr>\n",
       "      <th>MENU_TYPE_ID</th>\n",
       "      <td>0.998926</td>\n",
       "      <td>0.028875</td>\n",
       "      <td>0.157803</td>\n",
       "      <td>0.018038</td>\n",
       "      <td>0.004355</td>\n",
       "      <td>0.000118</td>\n",
       "      <td>-0.127633</td>\n",
       "      <td>-0.035691</td>\n",
       "      <td>1.000000</td>\n",
       "      <td>0.060816</td>\n",
       "      <td>0.083902</td>\n",
       "      <td>0.095344</td>\n",
       "      <td>0.095486</td>\n",
       "      <td>-0.348804</td>\n",
       "      <td>-0.064939</td>\n",
       "    </tr>\n",
       "    <tr>\n",
       "      <th>TEMPERATURE_OPTION</th>\n",
       "      <td>0.035217</td>\n",
       "      <td>-0.007379</td>\n",
       "      <td>0.601486</td>\n",
       "      <td>-0.003929</td>\n",
       "      <td>0.001051</td>\n",
       "      <td>0.000089</td>\n",
       "      <td>-0.011775</td>\n",
       "      <td>0.006602</td>\n",
       "      <td>0.060816</td>\n",
       "      <td>1.000000</td>\n",
       "      <td>0.801789</td>\n",
       "      <td>0.847621</td>\n",
       "      <td>-0.776413</td>\n",
       "      <td>-0.205510</td>\n",
       "      <td>0.064798</td>\n",
       "    </tr>\n",
       "    <tr>\n",
       "      <th>COST_OF_GOODS_USD</th>\n",
       "      <td>0.059955</td>\n",
       "      <td>0.004212</td>\n",
       "      <td>0.523795</td>\n",
       "      <td>-0.005019</td>\n",
       "      <td>0.002253</td>\n",
       "      <td>0.000067</td>\n",
       "      <td>-0.019977</td>\n",
       "      <td>0.007808</td>\n",
       "      <td>0.083902</td>\n",
       "      <td>0.801789</td>\n",
       "      <td>1.000000</td>\n",
       "      <td>0.816139</td>\n",
       "      <td>-0.756706</td>\n",
       "      <td>-0.107939</td>\n",
       "      <td>-0.010238</td>\n",
       "    </tr>\n",
       "    <tr>\n",
       "      <th>ITEM_CATEGORY_Main</th>\n",
       "      <td>0.069602</td>\n",
       "      <td>-0.005346</td>\n",
       "      <td>0.583752</td>\n",
       "      <td>0.001168</td>\n",
       "      <td>-0.000146</td>\n",
       "      <td>0.000037</td>\n",
       "      <td>0.008565</td>\n",
       "      <td>-0.002041</td>\n",
       "      <td>0.095344</td>\n",
       "      <td>0.847621</td>\n",
       "      <td>0.816139</td>\n",
       "      <td>1.000000</td>\n",
       "      <td>-0.804041</td>\n",
       "      <td>-0.212823</td>\n",
       "      <td>-0.204815</td>\n",
       "    </tr>\n",
       "    <tr>\n",
       "      <th>ITEM_CATEGORY_Beverage</th>\n",
       "      <td>0.117470</td>\n",
       "      <td>0.003138</td>\n",
       "      <td>-0.618409</td>\n",
       "      <td>0.003783</td>\n",
       "      <td>0.000282</td>\n",
       "      <td>0.000011</td>\n",
       "      <td>-0.015115</td>\n",
       "      <td>-0.007092</td>\n",
       "      <td>0.095486</td>\n",
       "      <td>-0.776413</td>\n",
       "      <td>-0.756706</td>\n",
       "      <td>-0.804041</td>\n",
       "      <td>1.000000</td>\n",
       "      <td>-0.225119</td>\n",
       "      <td>-0.216649</td>\n",
       "    </tr>\n",
       "    <tr>\n",
       "      <th>ITEM_CATEGORY_Dessert</th>\n",
       "      <td>-0.345721</td>\n",
       "      <td>0.008973</td>\n",
       "      <td>-0.037051</td>\n",
       "      <td>-0.000898</td>\n",
       "      <td>-0.002883</td>\n",
       "      <td>-0.000157</td>\n",
       "      <td>0.025461</td>\n",
       "      <td>0.003333</td>\n",
       "      <td>-0.348804</td>\n",
       "      <td>-0.205510</td>\n",
       "      <td>-0.107939</td>\n",
       "      <td>-0.212823</td>\n",
       "      <td>-0.225119</td>\n",
       "      <td>1.000000</td>\n",
       "      <td>-0.057345</td>\n",
       "    </tr>\n",
       "    <tr>\n",
       "      <th>ITEM_CATEGORY_Snack</th>\n",
       "      <td>-0.060066</td>\n",
       "      <td>-0.004416</td>\n",
       "      <td>0.123866</td>\n",
       "      <td>-0.010138</td>\n",
       "      <td>0.002676</td>\n",
       "      <td>0.000057</td>\n",
       "      <td>-0.011567</td>\n",
       "      <td>0.016966</td>\n",
       "      <td>-0.064939</td>\n",
       "      <td>0.064798</td>\n",
       "      <td>-0.010238</td>\n",
       "      <td>-0.204815</td>\n",
       "      <td>-0.216649</td>\n",
       "      <td>-0.057345</td>\n",
       "      <td>1.000000</td>\n",
       "    </tr>\n",
       "  </tbody>\n",
       "</table>\n",
       "</div>"
      ],
      "text/plain": [
       "                        MENU_ITEM_ID  TRUCK_ID    DEMAND  ORDER_YEAR  \\\n",
       "MENU_ITEM_ID                1.000000  0.028822  0.137943    0.017816   \n",
       "TRUCK_ID                    0.028822  1.000000  0.252452    0.025549   \n",
       "DEMAND                      0.137943  0.252452  1.000000    0.036230   \n",
       "ORDER_YEAR                  0.017816  0.025549  0.036230    1.000000   \n",
       "ORDER_MONTH                 0.004362 -0.004239 -0.007377   -0.229731   \n",
       "ORDER_DAY                   0.000118 -0.000364 -0.000248   -0.005063   \n",
       "EV_FLAG                    -0.127218  0.074173  0.046280    0.309228   \n",
       "DAYS_OPENED                -0.035291 -0.044074 -0.043923   -0.545806   \n",
       "MENU_TYPE_ID                0.998926  0.028875  0.157803    0.018038   \n",
       "TEMPERATURE_OPTION          0.035217 -0.007379  0.601486   -0.003929   \n",
       "COST_OF_GOODS_USD           0.059955  0.004212  0.523795   -0.005019   \n",
       "ITEM_CATEGORY_Main          0.069602 -0.005346  0.583752    0.001168   \n",
       "ITEM_CATEGORY_Beverage      0.117470  0.003138 -0.618409    0.003783   \n",
       "ITEM_CATEGORY_Dessert      -0.345721  0.008973 -0.037051   -0.000898   \n",
       "ITEM_CATEGORY_Snack        -0.060066 -0.004416  0.123866   -0.010138   \n",
       "\n",
       "                        ORDER_MONTH  ORDER_DAY   EV_FLAG  DAYS_OPENED  \\\n",
       "MENU_ITEM_ID               0.004362   0.000118 -0.127218    -0.035291   \n",
       "TRUCK_ID                  -0.004239  -0.000364  0.074173    -0.044074   \n",
       "DEMAND                    -0.007377  -0.000248  0.046280    -0.043923   \n",
       "ORDER_YEAR                -0.229731  -0.005063  0.309228    -0.545806   \n",
       "ORDER_MONTH                1.000000   0.008547 -0.035662     0.000941   \n",
       "ORDER_DAY                  0.008547   1.000000 -0.001154     0.001257   \n",
       "EV_FLAG                   -0.035662  -0.001154  1.000000    -0.544327   \n",
       "DAYS_OPENED                0.000941   0.001257 -0.544327     1.000000   \n",
       "MENU_TYPE_ID               0.004355   0.000118 -0.127633    -0.035691   \n",
       "TEMPERATURE_OPTION         0.001051   0.000089 -0.011775     0.006602   \n",
       "COST_OF_GOODS_USD          0.002253   0.000067 -0.019977     0.007808   \n",
       "ITEM_CATEGORY_Main        -0.000146   0.000037  0.008565    -0.002041   \n",
       "ITEM_CATEGORY_Beverage     0.000282   0.000011 -0.015115    -0.007092   \n",
       "ITEM_CATEGORY_Dessert     -0.002883  -0.000157  0.025461     0.003333   \n",
       "ITEM_CATEGORY_Snack        0.002676   0.000057 -0.011567     0.016966   \n",
       "\n",
       "                        MENU_TYPE_ID  TEMPERATURE_OPTION  COST_OF_GOODS_USD  \\\n",
       "MENU_ITEM_ID                0.998926            0.035217           0.059955   \n",
       "TRUCK_ID                    0.028875           -0.007379           0.004212   \n",
       "DEMAND                      0.157803            0.601486           0.523795   \n",
       "ORDER_YEAR                  0.018038           -0.003929          -0.005019   \n",
       "ORDER_MONTH                 0.004355            0.001051           0.002253   \n",
       "ORDER_DAY                   0.000118            0.000089           0.000067   \n",
       "EV_FLAG                    -0.127633           -0.011775          -0.019977   \n",
       "DAYS_OPENED                -0.035691            0.006602           0.007808   \n",
       "MENU_TYPE_ID                1.000000            0.060816           0.083902   \n",
       "TEMPERATURE_OPTION          0.060816            1.000000           0.801789   \n",
       "COST_OF_GOODS_USD           0.083902            0.801789           1.000000   \n",
       "ITEM_CATEGORY_Main          0.095344            0.847621           0.816139   \n",
       "ITEM_CATEGORY_Beverage      0.095486           -0.776413          -0.756706   \n",
       "ITEM_CATEGORY_Dessert      -0.348804           -0.205510          -0.107939   \n",
       "ITEM_CATEGORY_Snack        -0.064939            0.064798          -0.010238   \n",
       "\n",
       "                        ITEM_CATEGORY_Main  ITEM_CATEGORY_Beverage  \\\n",
       "MENU_ITEM_ID                      0.069602                0.117470   \n",
       "TRUCK_ID                         -0.005346                0.003138   \n",
       "DEMAND                            0.583752               -0.618409   \n",
       "ORDER_YEAR                        0.001168                0.003783   \n",
       "ORDER_MONTH                      -0.000146                0.000282   \n",
       "ORDER_DAY                         0.000037                0.000011   \n",
       "EV_FLAG                           0.008565               -0.015115   \n",
       "DAYS_OPENED                      -0.002041               -0.007092   \n",
       "MENU_TYPE_ID                      0.095344                0.095486   \n",
       "TEMPERATURE_OPTION                0.847621               -0.776413   \n",
       "COST_OF_GOODS_USD                 0.816139               -0.756706   \n",
       "ITEM_CATEGORY_Main                1.000000               -0.804041   \n",
       "ITEM_CATEGORY_Beverage           -0.804041                1.000000   \n",
       "ITEM_CATEGORY_Dessert            -0.212823               -0.225119   \n",
       "ITEM_CATEGORY_Snack              -0.204815               -0.216649   \n",
       "\n",
       "                        ITEM_CATEGORY_Dessert  ITEM_CATEGORY_Snack  \n",
       "MENU_ITEM_ID                        -0.345721            -0.060066  \n",
       "TRUCK_ID                             0.008973            -0.004416  \n",
       "DEMAND                              -0.037051             0.123866  \n",
       "ORDER_YEAR                          -0.000898            -0.010138  \n",
       "ORDER_MONTH                         -0.002883             0.002676  \n",
       "ORDER_DAY                           -0.000157             0.000057  \n",
       "EV_FLAG                              0.025461            -0.011567  \n",
       "DAYS_OPENED                          0.003333             0.016966  \n",
       "MENU_TYPE_ID                        -0.348804            -0.064939  \n",
       "TEMPERATURE_OPTION                  -0.205510             0.064798  \n",
       "COST_OF_GOODS_USD                   -0.107939            -0.010238  \n",
       "ITEM_CATEGORY_Main                  -0.212823            -0.204815  \n",
       "ITEM_CATEGORY_Beverage              -0.225119            -0.216649  \n",
       "ITEM_CATEGORY_Dessert                1.000000            -0.057345  \n",
       "ITEM_CATEGORY_Snack                 -0.057345             1.000000  "
      ]
     },
     "execution_count": 34,
     "metadata": {},
     "output_type": "execute_result"
    }
   ],
   "source": [
    "final_df.corr()"
   ]
  },
  {
   "cell_type": "code",
   "execution_count": 35,
   "metadata": {},
   "outputs": [
    {
     "name": "stdout",
     "output_type": "stream",
     "text": [
      "<class 'pandas.core.frame.DataFrame'>\n",
      "Int64Index: 1741744 entries, 3000 to 1744743\n",
      "Data columns (total 16 columns):\n",
      " #   Column                  Dtype  \n",
      "---  ------                  -----  \n",
      " 0   MENU_ITEM_ID            int16  \n",
      " 1   TRUCK_ID                int16  \n",
      " 2   DEMAND                  int64  \n",
      " 3   UNIT_PRICE              float64\n",
      " 4   ORDER_YEAR              int16  \n",
      " 5   ORDER_MONTH             int8   \n",
      " 6   ORDER_DAY               int8   \n",
      " 7   EV_FLAG                 int8   \n",
      " 8   DAYS_OPENED             int32  \n",
      " 9   MENU_TYPE_ID            int8   \n",
      " 10  TEMPERATURE_OPTION      int8   \n",
      " 11  COST_OF_GOODS_USD       float64\n",
      " 12  ITEM_CATEGORY_Main      int32  \n",
      " 13  ITEM_CATEGORY_Beverage  int32  \n",
      " 14  ITEM_CATEGORY_Dessert   int32  \n",
      " 15  ITEM_CATEGORY_Snack     int32  \n",
      "dtypes: float64(2), int16(3), int32(5), int64(1), int8(5)\n",
      "memory usage: 104.6 MB\n"
     ]
    }
   ],
   "source": [
    "# Scaling\n",
    "\n",
    "#drop target\n",
    "#target = final_df['DEMAND']\n",
    "#final_df.drop('DEMAND', axis = 1, inplace = True)\n",
    "\n",
    "#scaler = StandardScaler()\n",
    "#scaler.fit(final_df)\n",
    "\n",
    "#final_scaled = scaler.transform(final_df)\n",
    "#final_scaled = pd.DataFrame(final_scaled, columns=final_df.columns)\n",
    "\n",
    "#assign target variable back to scaled data frame\n",
    "#final_scaled = final_scaled.assign(DEMAND = target)\n",
    "#final_scaled.head()\n",
    "final_scaled = final_df\n",
    "final_scaled['UNIT_PRICE'] = final_scaled['UNIT_PRICE'].astype(float)\n",
    "drop = final_scaled[((final_scaled[\"ORDER_YEAR\"] == 2022) & (final_scaled['ORDER_MONTH'] == 11))]\n",
    "merge = pd.merge(drop, final_scaled,how='outer', indicator=True)\n",
    "final_scaled = merge[merge['_merge'] == 'right_only'].drop('_merge', axis = 1)\n",
    "final_scaled.info()\n"
   ]
  },
  {
   "cell_type": "code",
   "execution_count": 36,
   "metadata": {},
   "outputs": [
    {
     "data": {
      "text/html": [
       "<div>\n",
       "<style scoped>\n",
       "    .dataframe tbody tr th:only-of-type {\n",
       "        vertical-align: middle;\n",
       "    }\n",
       "\n",
       "    .dataframe tbody tr th {\n",
       "        vertical-align: top;\n",
       "    }\n",
       "\n",
       "    .dataframe thead th {\n",
       "        text-align: right;\n",
       "    }\n",
       "</style>\n",
       "<table border=\"1\" class=\"dataframe\">\n",
       "  <thead>\n",
       "    <tr style=\"text-align: right;\">\n",
       "      <th></th>\n",
       "      <th>MENU_ITEM_ID</th>\n",
       "      <th>TRUCK_ID</th>\n",
       "      <th>DEMAND</th>\n",
       "      <th>UNIT_PRICE</th>\n",
       "      <th>ORDER_YEAR</th>\n",
       "      <th>ORDER_MONTH</th>\n",
       "      <th>ORDER_DAY</th>\n",
       "      <th>EV_FLAG</th>\n",
       "      <th>DAYS_OPENED</th>\n",
       "      <th>MENU_TYPE_ID</th>\n",
       "      <th>TEMPERATURE_OPTION</th>\n",
       "      <th>COST_OF_GOODS_USD</th>\n",
       "      <th>ITEM_CATEGORY_Main</th>\n",
       "      <th>ITEM_CATEGORY_Beverage</th>\n",
       "      <th>ITEM_CATEGORY_Dessert</th>\n",
       "      <th>ITEM_CATEGORY_Snack</th>\n",
       "    </tr>\n",
       "  </thead>\n",
       "  <tbody>\n",
       "    <tr>\n",
       "      <th>3000</th>\n",
       "      <td>52</td>\n",
       "      <td>110</td>\n",
       "      <td>1204</td>\n",
       "      <td>17.25</td>\n",
       "      <td>2021</td>\n",
       "      <td>8</td>\n",
       "      <td>7</td>\n",
       "      <td>0</td>\n",
       "      <td>565</td>\n",
       "      <td>5</td>\n",
       "      <td>2</td>\n",
       "      <td>7.0</td>\n",
       "      <td>1</td>\n",
       "      <td>0</td>\n",
       "      <td>0</td>\n",
       "      <td>0</td>\n",
       "    </tr>\n",
       "    <tr>\n",
       "      <th>3001</th>\n",
       "      <td>112</td>\n",
       "      <td>116</td>\n",
       "      <td>1124</td>\n",
       "      <td>12.00</td>\n",
       "      <td>2021</td>\n",
       "      <td>8</td>\n",
       "      <td>7</td>\n",
       "      <td>0</td>\n",
       "      <td>1021</td>\n",
       "      <td>11</td>\n",
       "      <td>2</td>\n",
       "      <td>4.5</td>\n",
       "      <td>1</td>\n",
       "      <td>0</td>\n",
       "      <td>0</td>\n",
       "      <td>0</td>\n",
       "    </tr>\n",
       "    <tr>\n",
       "      <th>3002</th>\n",
       "      <td>91</td>\n",
       "      <td>294</td>\n",
       "      <td>1483</td>\n",
       "      <td>11.00</td>\n",
       "      <td>2021</td>\n",
       "      <td>6</td>\n",
       "      <td>9</td>\n",
       "      <td>0</td>\n",
       "      <td>655</td>\n",
       "      <td>9</td>\n",
       "      <td>2</td>\n",
       "      <td>5.0</td>\n",
       "      <td>1</td>\n",
       "      <td>0</td>\n",
       "      <td>0</td>\n",
       "      <td>0</td>\n",
       "    </tr>\n",
       "    <tr>\n",
       "      <th>3003</th>\n",
       "      <td>94</td>\n",
       "      <td>294</td>\n",
       "      <td>347</td>\n",
       "      <td>2.00</td>\n",
       "      <td>2021</td>\n",
       "      <td>6</td>\n",
       "      <td>9</td>\n",
       "      <td>0</td>\n",
       "      <td>655</td>\n",
       "      <td>9</td>\n",
       "      <td>0</td>\n",
       "      <td>0.5</td>\n",
       "      <td>0</td>\n",
       "      <td>1</td>\n",
       "      <td>0</td>\n",
       "      <td>0</td>\n",
       "    </tr>\n",
       "    <tr>\n",
       "      <th>3004</th>\n",
       "      <td>122</td>\n",
       "      <td>297</td>\n",
       "      <td>1533</td>\n",
       "      <td>12.00</td>\n",
       "      <td>2021</td>\n",
       "      <td>6</td>\n",
       "      <td>9</td>\n",
       "      <td>0</td>\n",
       "      <td>839</td>\n",
       "      <td>12</td>\n",
       "      <td>2</td>\n",
       "      <td>8.0</td>\n",
       "      <td>1</td>\n",
       "      <td>0</td>\n",
       "      <td>0</td>\n",
       "      <td>0</td>\n",
       "    </tr>\n",
       "  </tbody>\n",
       "</table>\n",
       "</div>"
      ],
      "text/plain": [
       "      MENU_ITEM_ID  TRUCK_ID  DEMAND  UNIT_PRICE  ORDER_YEAR  ORDER_MONTH  \\\n",
       "3000            52       110    1204       17.25        2021            8   \n",
       "3001           112       116    1124       12.00        2021            8   \n",
       "3002            91       294    1483       11.00        2021            6   \n",
       "3003            94       294     347        2.00        2021            6   \n",
       "3004           122       297    1533       12.00        2021            6   \n",
       "\n",
       "      ORDER_DAY  EV_FLAG  DAYS_OPENED  MENU_TYPE_ID  TEMPERATURE_OPTION  \\\n",
       "3000          7        0          565             5                   2   \n",
       "3001          7        0         1021            11                   2   \n",
       "3002          9        0          655             9                   2   \n",
       "3003          9        0          655             9                   0   \n",
       "3004          9        0          839            12                   2   \n",
       "\n",
       "      COST_OF_GOODS_USD  ITEM_CATEGORY_Main  ITEM_CATEGORY_Beverage  \\\n",
       "3000                7.0                   1                       0   \n",
       "3001                4.5                   1                       0   \n",
       "3002                5.0                   1                       0   \n",
       "3003                0.5                   0                       1   \n",
       "3004                8.0                   1                       0   \n",
       "\n",
       "      ITEM_CATEGORY_Dessert  ITEM_CATEGORY_Snack  \n",
       "3000                      0                    0  \n",
       "3001                      0                    0  \n",
       "3002                      0                    0  \n",
       "3003                      0                    0  \n",
       "3004                      0                    0  "
      ]
     },
     "execution_count": 36,
     "metadata": {},
     "output_type": "execute_result"
    }
   ],
   "source": [
    "final_scaled.head()"
   ]
  },
  {
   "cell_type": "code",
   "execution_count": 37,
   "metadata": {},
   "outputs": [
    {
     "name": "stdout",
     "output_type": "stream",
     "text": [
      "<class 'pandas.core.frame.DataFrame'>\n",
      "Int64Index: 275268 entries, 6727 to 1744743\n",
      "Data columns (total 16 columns):\n",
      " #   Column                  Non-Null Count   Dtype  \n",
      "---  ------                  --------------   -----  \n",
      " 0   MENU_ITEM_ID            275268 non-null  int16  \n",
      " 1   TRUCK_ID                275268 non-null  int16  \n",
      " 2   DEMAND                  275268 non-null  int64  \n",
      " 3   UNIT_PRICE              275268 non-null  float64\n",
      " 4   ORDER_YEAR              275268 non-null  int16  \n",
      " 5   ORDER_MONTH             275268 non-null  int8   \n",
      " 6   ORDER_DAY               275268 non-null  int8   \n",
      " 7   EV_FLAG                 275268 non-null  int8   \n",
      " 8   DAYS_OPENED             275268 non-null  int32  \n",
      " 9   MENU_TYPE_ID            275268 non-null  int8   \n",
      " 10  TEMPERATURE_OPTION      275268 non-null  int8   \n",
      " 11  COST_OF_GOODS_USD       275268 non-null  float64\n",
      " 12  ITEM_CATEGORY_Main      275268 non-null  int32  \n",
      " 13  ITEM_CATEGORY_Beverage  275268 non-null  int32  \n",
      " 14  ITEM_CATEGORY_Dessert   275268 non-null  int32  \n",
      " 15  ITEM_CATEGORY_Snack     275268 non-null  int32  \n",
      "dtypes: float64(2), int16(3), int32(5), int64(1), int8(5)\n",
      "memory usage: 16.5 MB\n"
     ]
    }
   ],
   "source": [
    "holdout = final_scaled[(final_scaled[\"ORDER_YEAR\"] == 2022) & (final_scaled['ORDER_MONTH'] >= 8)]\n",
    "#holdout = holdout.drop(['ORDER_YEAR', 'ORDER_MONTH', 'ORDER_DAY'], axis = 1)\n",
    "x_holdout = holdout.drop('DEMAND',axis=1)\n",
    "y_holdout = holdout['DEMAND']\n",
    "holdout.info()"
   ]
  },
  {
   "cell_type": "code",
   "execution_count": 38,
   "metadata": {},
   "outputs": [
    {
     "name": "stdout",
     "output_type": "stream",
     "text": [
      "<class 'pandas.core.frame.DataFrame'>\n",
      "Int64Index: 1466476 entries, 275268 to 1741743\n",
      "Data columns (total 16 columns):\n",
      " #   Column                  Non-Null Count    Dtype  \n",
      "---  ------                  --------------    -----  \n",
      " 0   MENU_ITEM_ID            1466476 non-null  int16  \n",
      " 1   TRUCK_ID                1466476 non-null  int16  \n",
      " 2   DEMAND                  1466476 non-null  int64  \n",
      " 3   UNIT_PRICE              1466476 non-null  float64\n",
      " 4   ORDER_YEAR              1466476 non-null  int16  \n",
      " 5   ORDER_MONTH             1466476 non-null  int8   \n",
      " 6   ORDER_DAY               1466476 non-null  int8   \n",
      " 7   EV_FLAG                 1466476 non-null  int8   \n",
      " 8   DAYS_OPENED             1466476 non-null  int32  \n",
      " 9   MENU_TYPE_ID            1466476 non-null  int8   \n",
      " 10  TEMPERATURE_OPTION      1466476 non-null  int8   \n",
      " 11  COST_OF_GOODS_USD       1466476 non-null  float64\n",
      " 12  ITEM_CATEGORY_Main      1466476 non-null  int32  \n",
      " 13  ITEM_CATEGORY_Beverage  1466476 non-null  int32  \n",
      " 14  ITEM_CATEGORY_Dessert   1466476 non-null  int32  \n",
      " 15  ITEM_CATEGORY_Snack     1466476 non-null  int32  \n",
      "dtypes: float64(2), int16(3), int32(5), int64(1), int8(5)\n",
      "memory usage: 88.1 MB\n"
     ]
    }
   ],
   "source": [
    "merged = pd.merge(holdout, final_scaled,how='outer', indicator=True)\n",
    "final_scaled = merged[merged['_merge'] == 'right_only'].drop('_merge', axis = 1)\n",
    "final_scaled.info()"
   ]
  },
  {
   "cell_type": "code",
   "execution_count": 39,
   "metadata": {},
   "outputs": [],
   "source": [
    "#final_scaled = final_scaled.drop(['ORDER_YEAR', 'ORDER_MONTH', 'ORDER_DAY'], axis = 1)"
   ]
  },
  {
   "cell_type": "code",
   "execution_count": 40,
   "metadata": {},
   "outputs": [
    {
     "name": "stdout",
     "output_type": "stream",
     "text": [
      "<class 'pandas.core.frame.DataFrame'>\n",
      "Int64Index: 1466476 entries, 275268 to 1741743\n",
      "Data columns (total 16 columns):\n",
      " #   Column                  Non-Null Count    Dtype  \n",
      "---  ------                  --------------    -----  \n",
      " 0   MENU_ITEM_ID            1466476 non-null  int16  \n",
      " 1   TRUCK_ID                1466476 non-null  int16  \n",
      " 2   DEMAND                  1466476 non-null  int64  \n",
      " 3   UNIT_PRICE              1466476 non-null  float64\n",
      " 4   ORDER_YEAR              1466476 non-null  int16  \n",
      " 5   ORDER_MONTH             1466476 non-null  int8   \n",
      " 6   ORDER_DAY               1466476 non-null  int8   \n",
      " 7   EV_FLAG                 1466476 non-null  int8   \n",
      " 8   DAYS_OPENED             1466476 non-null  int32  \n",
      " 9   MENU_TYPE_ID            1466476 non-null  int8   \n",
      " 10  TEMPERATURE_OPTION      1466476 non-null  int8   \n",
      " 11  COST_OF_GOODS_USD       1466476 non-null  float64\n",
      " 12  ITEM_CATEGORY_Main      1466476 non-null  int32  \n",
      " 13  ITEM_CATEGORY_Beverage  1466476 non-null  int32  \n",
      " 14  ITEM_CATEGORY_Dessert   1466476 non-null  int32  \n",
      " 15  ITEM_CATEGORY_Snack     1466476 non-null  int32  \n",
      "dtypes: float64(2), int16(3), int32(5), int64(1), int8(5)\n",
      "memory usage: 88.1 MB\n"
     ]
    }
   ],
   "source": [
    "final_scaled.info()"
   ]
  },
  {
   "cell_type": "code",
   "execution_count": 41,
   "metadata": {},
   "outputs": [],
   "source": [
    "# Train Test Split\n",
    "# Define Model Inputs (X) and Output (y)\n",
    "X = final_scaled.drop('DEMAND',axis=1)\n",
    "y = final_scaled[\"DEMAND\"]\n",
    "\n",
    "# Split both Inputs (X) and Ouput (y) into training set (70%) and testing set (30%)\n",
    "X_train, X_test, y_train, y_test = train_test_split(X, y, test_size=0.3, random_state=1)"
   ]
  },
  {
   "cell_type": "code",
   "execution_count": 42,
   "metadata": {},
   "outputs": [
    {
     "name": "stdout",
     "output_type": "stream",
     "text": [
      "Train RMSE: 361.8188321949008\n",
      "Test RMSE: 362.3811064472062\n",
      "Train R-squared: 0.5305697458277587\n",
      "Test R-squared: 0.5301245560833296\n"
     ]
    }
   ],
   "source": [
    "from sklearn.linear_model import LinearRegression\n",
    "from sklearn.metrics import mean_squared_error, r2_score\n",
    "from math import sqrt\n",
    "\n",
    "# Create the model \"lr\"\n",
    "lr = LinearRegression()\n",
    "\n",
    "# Fit the model to the training set\n",
    "lr.fit(X_train, y_train)\n",
    "\n",
    "# Make predictions on the training and testing sets\n",
    "train_predictions = lr.predict(X_train)\n",
    "test_predictions = lr.predict(X_test)\n",
    "\n",
    "# Calculate RMSE for the training and testing sets\n",
    "train_rmse = sqrt(mean_squared_error(y_train, train_predictions))\n",
    "test_rmse = sqrt(mean_squared_error(y_test, test_predictions))\n",
    "\n",
    "# Calculate R-squared values for the training and testing sets\n",
    "train_r2 = r2_score(y_train, train_predictions)\n",
    "test_r2 = r2_score(y_test, test_predictions)\n",
    "\n",
    "# Print the results\n",
    "print('Train RMSE:', train_rmse)\n",
    "print('Test RMSE:', test_rmse)\n",
    "print('Train R-squared:', train_r2)\n",
    "print('Test R-squared:', test_r2)\n"
   ]
  },
  {
   "cell_type": "code",
   "execution_count": 43,
   "metadata": {},
   "outputs": [
    {
     "name": "stdout",
     "output_type": "stream",
     "text": [
      "Train RMSE: 18.751854398250305\n",
      "Test RMSE: 44.06258269542327\n",
      "Train R-squared: 0.9987391100442513\n",
      "Test R-squared: 0.9930530918869712\n"
     ]
    }
   ],
   "source": [
    "from sklearn.ensemble import RandomForestRegressor\n",
    "\n",
    "rf = RandomForestRegressor(n_estimators = 10, random_state = 0)\n",
    "rf.fit(X_train, y_train)\n",
    "\n",
    "# Make predictions on the training and testing sets\n",
    "train_predictions = rf.predict(X_train)\n",
    "test_predictions = rf.predict(X_test)\n",
    "\n",
    "# Calculate RMSE for the training and testing sets\n",
    "train_rmse = sqrt(mean_squared_error(y_train, train_predictions))\n",
    "test_rmse = sqrt(mean_squared_error(y_test, test_predictions))\n",
    "\n",
    "# Calculate R-squared values for the training and testing sets\n",
    "train_r2 = r2_score(y_train, train_predictions)\n",
    "test_r2 = r2_score(y_test, test_predictions)\n",
    "\n",
    "# Print the results\n",
    "print('Train RMSE:', train_rmse)\n",
    "print('Test RMSE:', test_rmse)\n",
    "print('Train R-squared:', train_r2)\n",
    "print('Test R-squared:', test_r2)"
   ]
  },
  {
   "cell_type": "code",
   "execution_count": 44,
   "metadata": {},
   "outputs": [],
   "source": [
    "#from sklearn.model_selection import cross_val_score\n",
    "#scores = cross_val_score(rf, X_train, y_train, cv = 5)\n",
    "#scores.mean()"
   ]
  },
  {
   "cell_type": "code",
   "execution_count": 45,
   "metadata": {},
   "outputs": [
    {
     "name": "stderr",
     "output_type": "stream",
     "text": [
      "c:\\Users\\tanko\\anaconda3\\envs\\pysnowpark\\lib\\site-packages\\xgboost\\compat.py:36: FutureWarning: pandas.Int64Index is deprecated and will be removed from pandas in a future version. Use pandas.Index with the appropriate dtype instead.\n",
      "  from pandas import MultiIndex, Int64Index\n",
      "c:\\Users\\tanko\\anaconda3\\envs\\pysnowpark\\lib\\site-packages\\xgboost\\data.py:250: FutureWarning: pandas.Int64Index is deprecated and will be removed from pandas in a future version. Use pandas.Index with the appropriate dtype instead.\n",
      "  elif isinstance(data.columns, (pd.Int64Index, pd.RangeIndex)):\n"
     ]
    },
    {
     "name": "stdout",
     "output_type": "stream",
     "text": [
      "Train RMSE: 59.69976632424183\n",
      "Test RMSE: 60.07771868045564\n",
      "Train R-squared: 0.9872199073230143\n",
      "Test R-squared: 0.987085472496078\n"
     ]
    }
   ],
   "source": [
    "import xgboost as xg\n",
    "\n",
    "# create an xgboost regression model\n",
    "xgb = xg.XGBRegressor()\n",
    "\n",
    "# Fitting the model\n",
    "xgb.fit(X_train, y_train)\n",
    "  \n",
    "# Make predictions on the training and testing sets\n",
    "train_predictions = xgb.predict(X_train)\n",
    "test_predictions = xgb.predict(X_test)\n",
    "\n",
    "# Calculate RMSE for the training and testing sets\n",
    "train_rmse = sqrt(mean_squared_error(y_train, train_predictions))\n",
    "test_rmse = sqrt(mean_squared_error(y_test, test_predictions))\n",
    "\n",
    "# Calculate R-squared values for the training and testing sets\n",
    "train_r2 = r2_score(y_train, train_predictions)\n",
    "test_r2 = r2_score(y_test, test_predictions)\n",
    "\n",
    "# Print the results\n",
    "print('Train RMSE:', train_rmse)\n",
    "print('Test RMSE:', test_rmse)\n",
    "print('Train R-squared:', train_r2)\n",
    "print('Test R-squared:', test_r2)"
   ]
  },
  {
   "cell_type": "markdown",
   "metadata": {},
   "source": [
    "### Holdout "
   ]
  },
  {
   "cell_type": "code",
   "execution_count": 46,
   "metadata": {},
   "outputs": [
    {
     "name": "stdout",
     "output_type": "stream",
     "text": [
      "Holdout RMSE: 76.85967811320316\n",
      "Holdout R-squared: 0.978941075279295\n"
     ]
    }
   ],
   "source": [
    "# Make predictions on the training and testing sets\n",
    "ho_predictions = rf.predict(x_holdout)\n",
    "\n",
    "# Calculate RMSE for the training and testing sets\n",
    "ho_rmse = sqrt(mean_squared_error(y_holdout, ho_predictions))\n",
    "\n",
    "# Calculate R-squared values for the training and testing sets\n",
    "ho_r2 = r2_score(y_holdout, ho_predictions)\n",
    "\n",
    "# Print the results\n",
    "print('Holdout RMSE:', ho_rmse)\n",
    "print('Holdout R-squared:', ho_r2)"
   ]
  },
  {
   "cell_type": "code",
   "execution_count": 64,
   "metadata": {},
   "outputs": [
    {
     "ename": "OSError",
     "evalue": "[Errno 22] Invalid argument: 'clustering_model\\rf.pkl'",
     "output_type": "error",
     "traceback": [
      "\u001b[1;31m---------------------------------------------------------------------------\u001b[0m",
      "\u001b[1;31mOSError\u001b[0m                                   Traceback (most recent call last)",
      "Cell \u001b[1;32mIn[64], line 3\u001b[0m\n\u001b[0;32m      1\u001b[0m \u001b[39mimport\u001b[39;00m \u001b[39mbz2\u001b[39;00m\u001b[39m,\u001b[39m \u001b[39mos\u001b[39;00m\n\u001b[0;32m      2\u001b[0m \u001b[39mimport\u001b[39;00m \u001b[39mpickle\u001b[39;00m\n\u001b[1;32m----> 3\u001b[0m rb \u001b[39m=\u001b[39m bz2\u001b[39m.\u001b[39;49mBZ2File(\u001b[39m'\u001b[39;49m\u001b[39mclustering_model\u001b[39;49m\u001b[39m\\r\u001b[39;49;00m\u001b[39mf.pkl\u001b[39;49m\u001b[39m'\u001b[39;49m, \u001b[39m'\u001b[39;49m\u001b[39mwb\u001b[39;49m\u001b[39m'\u001b[39;49m)\n\u001b[0;32m      4\u001b[0m pickle\u001b[39m.\u001b[39mdump(rf, rb)\n\u001b[0;32m      5\u001b[0m rb\u001b[39m.\u001b[39mclose()\n",
      "File \u001b[1;32mc:\\Users\\tanko\\anaconda3\\envs\\pysnowpark\\lib\\bz2.py:96\u001b[0m, in \u001b[0;36mBZ2File.__init__\u001b[1;34m(self, filename, mode, buffering, compresslevel)\u001b[0m\n\u001b[0;32m     93\u001b[0m     \u001b[39mraise\u001b[39;00m \u001b[39mValueError\u001b[39;00m(\u001b[39m\"\u001b[39m\u001b[39mInvalid mode: \u001b[39m\u001b[39m%r\u001b[39;00m\u001b[39m\"\u001b[39m \u001b[39m%\u001b[39m (mode,))\n\u001b[0;32m     95\u001b[0m \u001b[39mif\u001b[39;00m \u001b[39misinstance\u001b[39m(filename, (\u001b[39mstr\u001b[39m, \u001b[39mbytes\u001b[39m, os\u001b[39m.\u001b[39mPathLike)):\n\u001b[1;32m---> 96\u001b[0m     \u001b[39mself\u001b[39m\u001b[39m.\u001b[39m_fp \u001b[39m=\u001b[39m _builtin_open(filename, mode)\n\u001b[0;32m     97\u001b[0m     \u001b[39mself\u001b[39m\u001b[39m.\u001b[39m_closefp \u001b[39m=\u001b[39m \u001b[39mTrue\u001b[39;00m\n\u001b[0;32m     98\u001b[0m     \u001b[39mself\u001b[39m\u001b[39m.\u001b[39m_mode \u001b[39m=\u001b[39m mode_code\n",
      "\u001b[1;31mOSError\u001b[0m: [Errno 22] Invalid argument: 'clustering_model\\rf.pkl'"
     ]
    }
   ],
   "source": [
    "import bz2, os\n",
    "import pickle\n",
    "rb = bz2.BZ2File('rf.pkl', 'wb')\n",
    "pickle.dump(rf, rb)\n",
    "rb.close()"
   ]
  },
  {
   "cell_type": "markdown",
   "metadata": {},
   "source": [
    "### Additional"
   ]
  },
  {
   "cell_type": "code",
   "execution_count": 48,
   "metadata": {},
   "outputs": [],
   "source": [
    "dd_df = session.table(\"NGEE_ANN_POLYTECHNIC_FROSTBYTE_DATA_SHARE.raw_supply_chain.distribution_detail\")\n",
    "dh_df = session.table(\"NGEE_ANN_POLYTECHNIC_FROSTBYTE_DATA_SHARE.raw_supply_chain.distribution_header\")\n",
    "eod_df = session.table(\"NGEE_ANN_POLYTECHNIC_FROSTBYTE_DATA_SHARE.raw_supply_chain.eod_stock_assignment\")\n",
    "reci_df = session.table(\"NGEE_ANN_POLYTECHNIC_FROSTBYTE_DATA_SHARE.raw_supply_chain.RECIPE\")"
   ]
  },
  {
   "cell_type": "code",
   "execution_count": 49,
   "metadata": {},
   "outputs": [
    {
     "name": "stdout",
     "output_type": "stream",
     "text": [
      "------------------------------------------------------------------------------------------------------------------------------------------------------\n",
      "|\"DH_DETAIL_ID\"  |\"DH_ID\"  |\"LINE_ITEM_ID\"  |\"ITEM_ID\"  |\"QUANTITY\"      |\"EXPIRATION_DATE\"  |\"PO_ID\"  |\"CREATED_DATE\"              |\"UPDATED_DATE\"  |\n",
      "------------------------------------------------------------------------------------------------------------------------------------------------------\n",
      "|42800           |2765     |9               |40         |316.000000000   |2022-12-26         |1394     |2023-03-31 13:45:18.049000  |NULL            |\n",
      "|42801           |2969     |5               |37         |581.000000000   |2022-12-21         |1289     |2023-03-31 13:45:18.049000  |NULL            |\n",
      "|42802           |2909     |9               |85         |2358.000000000  |2022-12-20         |1361     |2023-03-31 13:45:18.049000  |NULL            |\n",
      "|42803           |2698     |6               |56         |176.000000000   |2022-12-20         |1398     |2023-03-31 13:45:18.049000  |NULL            |\n",
      "|42804           |3026     |5               |40         |339.000000000   |2022-12-26         |1385     |2023-03-31 13:45:18.049000  |NULL            |\n",
      "|42805           |2970     |9               |24         |352.000000000   |2022-12-21         |1261     |2023-03-31 13:45:18.049000  |NULL            |\n",
      "|42806           |2766     |6               |56         |15.000000000    |2022-12-20         |1461     |2023-03-31 13:45:18.049000  |NULL            |\n",
      "|42807           |2829     |1               |1          |28.000000000    |2023-11-11         |1420     |2023-03-31 13:45:18.049000  |NULL            |\n",
      "|42808           |3086     |3               |2          |37.000000000    |2023-11-07         |1420     |2023-03-31 13:45:18.049000  |NULL            |\n",
      "|42809           |2910     |3               |2          |75.000000000    |2023-11-09         |1318     |2023-03-31 13:45:18.049000  |NULL            |\n",
      "------------------------------------------------------------------------------------------------------------------------------------------------------\n",
      "\n"
     ]
    }
   ],
   "source": [
    "dd_df.show()"
   ]
  },
  {
   "cell_type": "code",
   "execution_count": 50,
   "metadata": {},
   "outputs": [
    {
     "name": "stdout",
     "output_type": "stream",
     "text": [
      "-------------------------------------------------------------------------------------------------------------\n",
      "|\"DH_ID\"  |\"TRUCK_ID\"  |\"WAREHOUSE_ID\"  |\"DISTRIBUTION_DATE\"  |\"CREATED_DATE\"              |\"UPDATED_DATE\"  |\n",
      "-------------------------------------------------------------------------------------------------------------\n",
      "|43542    |174         |12              |2023-02-13           |2023-04-10 15:14:18.801000  |NULL            |\n",
      "|43543    |398         |27              |2023-02-13           |2023-04-10 15:14:18.801000  |NULL            |\n",
      "|43544    |389         |26              |2023-02-13           |2023-04-10 15:14:18.801000  |NULL            |\n",
      "|43415    |224         |15              |2023-02-13           |2023-04-10 15:14:18.801000  |NULL            |\n",
      "|43416    |180         |12              |2023-02-13           |2023-04-10 15:14:18.801000  |NULL            |\n",
      "|43417    |409         |28              |2023-02-13           |2023-04-10 15:14:18.801000  |NULL            |\n",
      "|43418    |19          |2               |2023-02-13           |2023-04-10 15:14:18.801000  |NULL            |\n",
      "|43419    |335         |23              |2023-02-13           |2023-04-10 15:14:18.801000  |NULL            |\n",
      "|43420    |410         |28              |2023-02-13           |2023-04-10 15:14:18.801000  |NULL            |\n",
      "|43421    |307         |21              |2023-02-13           |2023-04-10 15:14:18.801000  |NULL            |\n",
      "-------------------------------------------------------------------------------------------------------------\n",
      "\n"
     ]
    }
   ],
   "source": [
    "dh_df.show()"
   ]
  },
  {
   "cell_type": "code",
   "execution_count": 51,
   "metadata": {},
   "outputs": [
    {
     "name": "stdout",
     "output_type": "stream",
     "text": [
      "--------------------------------------------------------------------------------------------------------\n",
      "|\"ASSIGNMENT_ID\"  |\"TRUCK_ID\"  |\"ITEM_ID\"  |\"PO_ID\"  |\"QUANTITY\"  |\"EXPIRATION_DATE\"  |\"CREATED_DATE\"  |\n",
      "--------------------------------------------------------------------------------------------------------\n",
      "|4252658          |396         |3          |2310     |6.80        |2023-12-13         |2023-01-30      |\n",
      "|5525900          |219         |1          |27018    |10.47       |2023-06-07         |2022-07-18      |\n",
      "|6813586          |161         |2          |32886    |6.35        |2023-08-31         |2022-10-09      |\n",
      "|5713374          |380         |2          |28441    |0.05        |2023-07-11         |2022-08-08      |\n",
      "|6997186          |373         |1          |33572    |5.53        |2023-09-17         |2022-10-30      |\n",
      "|5795694          |25          |73         |28722    |45.60       |2022-08-29         |2022-08-17      |\n",
      "|6874732          |29          |3          |33102    |4.65        |2023-09-04         |2022-10-16      |\n",
      "|4124382          |414         |3          |20306    |8.90        |2023-12-15         |2023-01-29      |\n",
      "|196176           |125         |2          |283      |0.25        |2023-10-05         |2022-11-21      |\n",
      "|6664467          |385         |40         |32505    |2.29        |2022-10-03         |2022-09-22      |\n",
      "--------------------------------------------------------------------------------------------------------\n",
      "\n"
     ]
    }
   ],
   "source": [
    "eod_df.show()"
   ]
  },
  {
   "cell_type": "code",
   "execution_count": 52,
   "metadata": {},
   "outputs": [],
   "source": [
    "d_df = dd_df.join(dh_df, on= ['DH_ID'], lsuffix = \"\", rsuffix = \"_01\")\n",
    "d_df = d_df.with_column('DISTRIBUTION_YEAR', F.year(F.col('DISTRIBUTION_DATE')))\n",
    "d_df = d_df.with_column('DISTRIBUTION_MONTH', F.month(F.col('DISTRIBUTION_DATE')))\n",
    "d_df = d_df.with_column('DISTRIBUTION_DAY', F.dayofmonth(F.col('DISTRIBUTION_DATE')))\n",
    "d_df = d_df.group_by(\"TRUCK_ID\",\"ITEM_ID\",'DISTRIBUTION_YEAR', 'DISTRIBUTION_MONTH', 'DISTRIBUTION_DAY').agg(F.sum(\"QUANTITY\").alias('Supply'))"
   ]
  },
  {
   "cell_type": "code",
   "execution_count": 53,
   "metadata": {},
   "outputs": [],
   "source": [
    "d_df2 = d_df.with_column('DISTRIBUTION_DATE', F.concat(F.col('DISTRIBUTION_YEAR'),F.lit('-'),\n",
    "F.col('DISTRIBUTION_MONTH'), F.lit('-'), F.col('DISTRIBUTION_DAY')))"
   ]
  },
  {
   "cell_type": "code",
   "execution_count": 54,
   "metadata": {},
   "outputs": [
    {
     "name": "stdout",
     "output_type": "stream",
     "text": [
      "-----------------------------------------------------------------------------------------------------------------------------------\n",
      "|\"TRUCK_ID\"  |\"ITEM_ID\"  |\"DISTRIBUTION_YEAR\"  |\"DISTRIBUTION_MONTH\"  |\"DISTRIBUTION_DAY\"  |\"SUPPLY\"        |\"DISTRIBUTION_DATE\"  |\n",
      "-----------------------------------------------------------------------------------------------------------------------------------\n",
      "|137         |21         |2022                 |6                     |27                  |28.000000000    |2022-6-27            |\n",
      "|26          |39         |2022                 |6                     |27                  |367.000000000   |2022-6-27            |\n",
      "|360         |3          |2022                 |6                     |27                  |149.000000000   |2022-6-27            |\n",
      "|409         |3          |2022                 |6                     |27                  |93.000000000    |2022-6-27            |\n",
      "|297         |76         |2022                 |6                     |27                  |1031.000000000  |2022-6-27            |\n",
      "|161         |39         |2022                 |6                     |27                  |1028.000000000  |2022-6-27            |\n",
      "|243         |13         |2022                 |6                     |27                  |287.000000000   |2022-6-27            |\n",
      "|275         |1          |2022                 |6                     |27                  |95.000000000    |2022-6-27            |\n",
      "|433         |1          |2022                 |6                     |27                  |43.000000000    |2022-6-27            |\n",
      "|248         |64         |2022                 |6                     |27                  |418.000000000   |2022-6-27            |\n",
      "-----------------------------------------------------------------------------------------------------------------------------------\n",
      "\n"
     ]
    }
   ],
   "source": [
    "d_df2.show()"
   ]
  },
  {
   "cell_type": "code",
   "execution_count": 55,
   "metadata": {},
   "outputs": [
    {
     "name": "stdout",
     "output_type": "stream",
     "text": [
      "-------------------------------------------------------------------------------------------------------------------------------------------------------------------------------------------------------------------------------------------------------------------------------------------------------------------\n",
      "|\"MENU_ITEM_ID\"  |\"TRUCK_ID\"  |\"DEMAND\"  |\"UNIT_PRICE\"  |\"ORDER_YEAR\"  |\"ORDER_MONTH\"  |\"ORDER_DAY\"  |\"EV_FLAG\"  |\"DAYS_OPENED\"  |\"MENU_TYPE_ID\"  |\"TEMPERATURE_OPTION\"  |\"COST_OF_GOODS_USD\"  |\"ITEM_CATEGORY_Main\"  |\"ITEM_CATEGORY_Beverage\"  |\"ITEM_CATEGORY_Dessert\"  |\"ITEM_CATEGORY_Snack\"  |\"ORDER_DATE\"  |\n",
      "-------------------------------------------------------------------------------------------------------------------------------------------------------------------------------------------------------------------------------------------------------------------------------------------------------------------\n",
      "|52              |110         |1204      |17.25         |2021          |8              |7            |0          |565            |5               |2                     |7.0                  |1                     |0                         |0                        |0                      |2021-8-7      |\n",
      "|112             |116         |1124      |12.0          |2021          |8              |7            |0          |1021           |11              |2                     |4.5                  |1                     |0                         |0                        |0                      |2021-8-7      |\n",
      "|91              |294         |1483      |11.0          |2021          |6              |9            |0          |655            |9               |2                     |5.0                  |1                     |0                         |0                        |0                      |2021-6-9      |\n",
      "|94              |294         |347       |2.0           |2021          |6              |9            |0          |655            |9               |0                     |0.5                  |0                     |1                         |0                        |0                      |2021-6-9      |\n",
      "|122             |297         |1533      |12.0          |2021          |6              |9            |0          |839            |12              |2                     |8.0                  |1                     |0                         |0                        |0                      |2021-6-9      |\n",
      "|125             |297         |368       |3.0           |2021          |6              |9            |0          |839            |12              |0                     |0.5                  |0                     |1                         |0                        |0                      |2021-6-9      |\n",
      "|142             |299         |1575      |18.0          |2021          |6              |9            |0          |655            |14              |2                     |11.0                 |1                     |0                         |0                        |0                      |2021-6-9      |\n",
      "|101             |445         |1687      |8.0           |2021          |3              |6            |0          |747            |10              |1                     |4.0                  |1                     |0                         |0                        |0                      |2021-3-6      |\n",
      "|116             |446         |363       |3.0           |2021          |3              |6            |0          |655            |11              |0                     |0.75                 |0                     |1                         |0                        |0                      |2021-3-6      |\n",
      "|132             |448         |1671      |11.0          |2021          |3              |6            |0          |1205           |13              |1                     |5.0                  |1                     |0                         |0                        |0                      |2021-3-6      |\n",
      "-------------------------------------------------------------------------------------------------------------------------------------------------------------------------------------------------------------------------------------------------------------------------------------------------------------------\n",
      "\n"
     ]
    }
   ],
   "source": [
    "# Get account credentials from a json file\n",
    "with open(\"account.json\") as f:\n",
    "    data = json.load(f)\n",
    "    username = data[\"username\"]\n",
    "    password = data[\"password\"]\n",
    "    account = data[\"account\"]\n",
    "\n",
    "# Specify connection parameters\n",
    "connection_parameters = {\n",
    "    \"account\": account,\n",
    "    \"user\": username,\n",
    "    \"password\": password,\n",
    "    \"role\": \"ACCOUNTADMIN\",\n",
    "    #\"warehouse\": \"tasty_ds_wh\",\n",
    "    \"database\": \"FROSTBYTE_POWERBI\",\n",
    "    \"schema\": \"analytics\",\n",
    "}\n",
    "\n",
    "# Create Snowpark session\n",
    "sessionWrite = Session.builder.configs(connection_parameters).create()\n",
    "\n",
    "final_scaled_sf = sessionWrite.create_dataframe(final_df)\n",
    "\n",
    "final_scaled_sf = final_scaled_sf.with_column('ORDER_DATE', F.concat(F.col('ORDER_YEAR'),F.lit('-'),\n",
    "F.col('ORDER_MONTH'), F.lit('-'), F.col('ORDER_DAY')))\n",
    "final_scaled_sf.show()\n",
    "# Save X data\n",
    "final_scaled_sf.write.mode(\"overwrite\").save_as_table(\"FROSTBYTE_POWERBI.analytics.inventory_management\")\n",
    "\n",
    "# Save y data\n",
    "d_df2.write.mode(\"overwrite\").save_as_table(\"FROSTBYTE_POWERBI.analytics.monthly_supply\")"
   ]
  },
  {
   "cell_type": "code",
   "execution_count": 69,
   "metadata": {},
   "outputs": [
    {
     "name": "stdout",
     "output_type": "stream",
     "text": [
      "-------------------------------------------------------------------------------------------------------------------------------------------------------------------------------------------------------------------------------------------------------------------------------------------------------------------\n",
      "|\"MENU_ITEM_ID\"  |\"TRUCK_ID\"  |\"DEMAND\"  |\"UNIT_PRICE\"  |\"ORDER_YEAR\"  |\"ORDER_MONTH\"  |\"ORDER_DAY\"  |\"EV_FLAG\"  |\"DAYS_OPENED\"  |\"MENU_TYPE_ID\"  |\"TEMPERATURE_OPTION\"  |\"COST_OF_GOODS_USD\"  |\"ITEM_CATEGORY_Main\"  |\"ITEM_CATEGORY_Beverage\"  |\"ITEM_CATEGORY_Dessert\"  |\"ITEM_CATEGORY_Snack\"  |\"ORDER_DATE\"  |\n",
      "-------------------------------------------------------------------------------------------------------------------------------------------------------------------------------------------------------------------------------------------------------------------------------------------------------------------\n",
      "|52              |110         |1204      |17.25         |2021          |8              |7            |0          |565            |5               |2                     |7.0                  |1                     |0                         |0                        |0                      |2021-8-7      |\n",
      "|56              |110         |192       |3.0           |2021          |8              |9            |0          |565            |5               |0                     |0.75                 |0                     |1                         |0                        |0                      |2021-8-9      |\n",
      "|52              |110         |954       |17.25         |2021          |8              |10           |0          |565            |5               |2                     |7.0                  |1                     |0                         |0                        |0                      |2021-8-10     |\n",
      "|56              |305         |377       |3.0           |2021          |8              |13           |0          |930            |5               |0                     |0.75                 |0                     |1                         |0                        |0                      |2021-8-13     |\n",
      "|56              |110         |177       |3.0           |2021          |8              |17           |0          |565            |5               |0                     |0.75                 |0                     |1                         |0                        |0                      |2021-8-17     |\n",
      "|52              |305         |1778      |17.25         |2021          |8              |19           |0          |930            |5               |2                     |7.0                  |1                     |0                         |0                        |0                      |2021-8-19     |\n",
      "|56              |305         |409       |3.0           |2021          |8              |20           |0          |930            |5               |0                     |0.75                 |0                     |1                         |0                        |0                      |2021-8-20     |\n",
      "|52              |305         |1729      |17.25         |2021          |8              |15           |0          |930            |5               |2                     |7.0                  |1                     |0                         |0                        |0                      |2021-8-15     |\n",
      "|56              |305         |382       |3.0           |2021          |8              |19           |0          |930            |5               |0                     |0.75                 |0                     |1                         |0                        |0                      |2021-8-19     |\n",
      "|56              |305         |326       |3.0           |2021          |8              |21           |0          |930            |5               |0                     |0.75                 |0                     |1                         |0                        |0                      |2021-8-21     |\n",
      "-------------------------------------------------------------------------------------------------------------------------------------------------------------------------------------------------------------------------------------------------------------------------------------------------------------------\n",
      "\n"
     ]
    }
   ],
   "source": [
    "final_scaled_sf.filter(F.col('MENU_ITEM_ID').isin([52, 56])).show()"
   ]
  },
  {
   "cell_type": "code",
   "execution_count": 57,
   "metadata": {},
   "outputs": [],
   "source": [
    "\n",
    "demand_item = final_scaled_sf.join(reci_df, on= ['menu_item_id'], lsuffix = \"\", rsuffix = \"_01\")"
   ]
  },
  {
   "cell_type": "code",
   "execution_count": 58,
   "metadata": {},
   "outputs": [
    {
     "name": "stdout",
     "output_type": "stream",
     "text": [
      "---------------------------------------------------------------------------------------------------------------------------------------------------------------------------------------------------------------------------------------------------------------------------------------------------------------------------------------------------------------------------------------\n",
      "|\"MENU_ITEM_ID\"  |\"TRUCK_ID\"  |\"DEMAND\"  |\"UNIT_PRICE\"  |\"ORDER_YEAR\"  |\"ORDER_MONTH\"  |\"ORDER_DAY\"  |\"EV_FLAG\"  |\"DAYS_OPENED\"  |\"MENU_TYPE_ID\"  |\"TEMPERATURE_OPTION\"  |\"COST_OF_GOODS_USD\"  |\"ITEM_CATEGORY_Main\"  |\"ITEM_CATEGORY_Beverage\"  |\"ITEM_CATEGORY_Dessert\"  |\"ITEM_CATEGORY_Snack\"  |\"ORDER_DATE\"  |\"RECIPE_ID\"  |\"MENU_ITEM_LINE_ITEM\"  |\"ITEM_ID\"  |\"UNIT_QUANTITY\"  |\n",
      "---------------------------------------------------------------------------------------------------------------------------------------------------------------------------------------------------------------------------------------------------------------------------------------------------------------------------------------------------------------------------------------\n",
      "|52              |110         |1204      |17.25         |2021          |8              |7            |0          |565            |5               |2                     |7.0                  |1                     |0                         |0                        |0                      |2021-8-7      |125          |1                      |46         |0.025000000      |\n",
      "|52              |110         |1204      |17.25         |2021          |8              |7            |0          |565            |5               |2                     |7.0                  |1                     |0                         |0                        |0                      |2021-8-7      |126          |2                      |48         |0.025000000      |\n",
      "|52              |110         |1204      |17.25         |2021          |8              |7            |0          |565            |5               |2                     |7.0                  |1                     |0                         |0                        |0                      |2021-8-7      |127          |3                      |51         |0.100000000      |\n",
      "|52              |110         |1204      |17.25         |2021          |8              |7            |0          |565            |5               |2                     |7.0                  |1                     |0                         |0                        |0                      |2021-8-7      |128          |4                      |66         |0.010000000      |\n",
      "|112             |116         |1124      |12.0          |2021          |8              |7            |0          |1021           |11              |2                     |4.5                  |1                     |0                         |0                        |0                      |2021-8-7      |205          |1                      |70         |0.100000000      |\n",
      "|112             |116         |1124      |12.0          |2021          |8              |7            |0          |1021           |11              |2                     |4.5                  |1                     |0                         |0                        |0                      |2021-8-7      |206          |2                      |40         |0.050000000      |\n",
      "|112             |116         |1124      |12.0          |2021          |8              |7            |0          |1021           |11              |2                     |4.5                  |1                     |0                         |0                        |0                      |2021-8-7      |207          |3                      |41         |0.100000000      |\n",
      "|112             |116         |1124      |12.0          |2021          |8              |7            |0          |1021           |11              |2                     |4.5                  |1                     |0                         |0                        |0                      |2021-8-7      |208          |4                      |22         |0.050000000      |\n",
      "|112             |116         |1124      |12.0          |2021          |8              |7            |0          |1021           |11              |2                     |4.5                  |1                     |0                         |0                        |0                      |2021-8-7      |209          |5                      |74         |0.100000000      |\n",
      "|112             |116         |1124      |12.0          |2021          |8              |7            |0          |1021           |11              |2                     |4.5                  |1                     |0                         |0                        |0                      |2021-8-7      |210          |6                      |61         |0.100000000      |\n",
      "---------------------------------------------------------------------------------------------------------------------------------------------------------------------------------------------------------------------------------------------------------------------------------------------------------------------------------------------------------------------------------------\n",
      "\n"
     ]
    }
   ],
   "source": [
    "demand_item.show()"
   ]
  },
  {
   "cell_type": "code",
   "execution_count": 59,
   "metadata": {},
   "outputs": [],
   "source": [
    "demand_item = demand_item.with_column('Demand_item', F.col('UNIT_QUANTITY') * F.col('DEMAND'))\n",
    "demand_item = demand_item.group_by(\"TRUCK_ID\",\"ITEM_ID\",'ORDER_YEAR', 'ORDER_MONTH', 'ORDER_DAY').agg(F.sum(\"DEMAND_ITEM\").alias('DEMAND_ITEM'))\n",
    "demand_item = demand_item.with_column('DEMAND_DATE', F.concat(F.col('ORDER_YEAR'),F.lit('-'),\n",
    "F.col('ORDER_MONTH'), F.lit('-'), F.col('ORDER_DAY')))"
   ]
  },
  {
   "cell_type": "code",
   "execution_count": 60,
   "metadata": {},
   "outputs": [],
   "source": [
    "demand_item.write.mode(\"overwrite\").save_as_table(\"FROSTBYTE_POWERBI.analytics.monthly_demand\")"
   ]
  },
  {
   "cell_type": "code",
   "execution_count": 61,
   "metadata": {},
   "outputs": [
    {
     "name": "stdout",
     "output_type": "stream",
     "text": [
      "-------------------------------------------------------------------------------------------------------\n",
      "|\"TRUCK_ID\"  |\"ITEM_ID\"  |\"ORDER_YEAR\"  |\"ORDER_MONTH\"  |\"ORDER_DAY\"  |\"DEMAND_ITEM\"  |\"DEMAND_DATE\"  |\n",
      "-------------------------------------------------------------------------------------------------------\n",
      "|110         |46         |2021          |8              |7            |89.350000000   |2021-8-7       |\n",
      "|110         |48         |2021          |8              |7            |59.425000000   |2021-8-7       |\n",
      "|110         |51         |2021          |8              |7            |357.400000000  |2021-8-7       |\n",
      "|110         |66         |2021          |8              |7            |12.040000000   |2021-8-7       |\n",
      "|116         |70         |2021          |8              |7            |329.900000000  |2021-8-7       |\n",
      "|116         |40         |2021          |8              |7            |164.950000000  |2021-8-7       |\n",
      "|116         |41         |2021          |8              |7            |218.900000000  |2021-8-7       |\n",
      "|116         |74         |2021          |8              |7            |112.400000000  |2021-8-7       |\n",
      "|116         |61         |2021          |8              |7            |329.900000000  |2021-8-7       |\n",
      "|294         |27         |2021          |6              |9            |148.300000000  |2021-6-9       |\n",
      "-------------------------------------------------------------------------------------------------------\n",
      "\n"
     ]
    }
   ],
   "source": [
    "demand_item.show()"
   ]
  },
  {
   "cell_type": "code",
   "execution_count": 62,
   "metadata": {},
   "outputs": [
    {
     "name": "stdout",
     "output_type": "stream",
     "text": [
      "------------------------------------------------------------------------------------------------------------\n",
      "|\"TRUCK_ID\"  |\"ITEM_ID\"  |\"DISTRIBUTION_YEAR\"  |\"DISTRIBUTION_MONTH\"  |\"DISTRIBUTION_DAY\"  |\"SUPPLY\"       |\n",
      "------------------------------------------------------------------------------------------------------------\n",
      "|1           |15         |2022                 |6                     |27                  |13.000000000   |\n",
      "|1           |2          |2022                 |6                     |27                  |5.000000000    |\n",
      "|1           |13         |2022                 |6                     |27                  |7.000000000    |\n",
      "|1           |14         |2022                 |6                     |27                  |26.000000000   |\n",
      "|1           |10         |2022                 |6                     |27                  |1.000000000    |\n",
      "|1           |7          |2022                 |6                     |27                  |200.000000000  |\n",
      "|1           |5          |2022                 |6                     |27                  |30.000000000   |\n",
      "|1           |9          |2022                 |6                     |27                  |14.000000000   |\n",
      "|1           |3          |2022                 |6                     |27                  |5.000000000    |\n",
      "|1           |8          |2022                 |6                     |27                  |13.000000000   |\n",
      "------------------------------------------------------------------------------------------------------------\n",
      "\n"
     ]
    }
   ],
   "source": [
    "d_df.sort(\"TRUCK_ID\", 'DISTRIBUTION_YEAR', 'DISTRIBUTION_MONTH', 'DISTRIBUTION_DAY').show()"
   ]
  }
 ],
 "metadata": {
  "kernelspec": {
   "display_name": "pysnowpark",
   "language": "python",
   "name": "python3"
  },
  "language_info": {
   "codemirror_mode": {
    "name": "ipython",
    "version": 3
   },
   "file_extension": ".py",
   "mimetype": "text/x-python",
   "name": "python",
   "nbconvert_exporter": "python",
   "pygments_lexer": "ipython3",
   "version": "3.8.16"
  },
  "orig_nbformat": 4
 },
 "nbformat": 4,
 "nbformat_minor": 2
}
