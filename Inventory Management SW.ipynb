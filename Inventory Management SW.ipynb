{
 "cells": [
  {
   "cell_type": "code",
   "execution_count": 2,
   "metadata": {},
   "outputs": [],
   "source": [
    "# Import Python packages\n",
    "import pandas as pd\n",
    "import numpy as np\n",
    "from matplotlib import pyplot as plt\n",
    "import json\n",
    "import sys\n",
    "import cachetools\n",
    "from datetime import datetime\n",
    "from datetime import date\n",
    "import matplotlib.pyplot as plt \n",
    "import seaborn as sns\n",
    "import math\n",
    "\n",
    "# Import Snowflake modules\n",
    "from snowflake.snowpark import Session\n",
    "import snowflake.snowpark.functions as F\n",
    "import snowflake.snowpark.types as T\n",
    "from snowflake.snowpark import Window\n",
    "from snowflake.snowpark.functions import col\n",
    "\n",
    "# Clustering & Model\n",
    "from sklearn.cluster import KMeans\n",
    "from sklearn.linear_model import LinearRegression\n",
    "from sklearn.model_selection import KFold, cross_val_score, train_test_split\n",
    "\n",
    "# Scalers\n",
    "from sklearn.preprocessing import StandardScaler\n",
    "\n",
    "# Evaluation\n",
    "from sklearn.metrics import silhouette_score\n",
    "from sklearn.metrics import mean_squared_error\n",
    "from sklearn.metrics import r2_score\n",
    "\n",
    "# find the best combination of model hyperparameters\n",
    "from sklearn.model_selection import GridSearchCV, RandomizedSearchCV\n",
    "from sklearn.model_selection import cross_val_score, cross_validate\n",
    "\n",
    "# Getting Password,Username, Account\n",
    "import getpass"
   ]
  },
  {
   "cell_type": "code",
   "execution_count": 3,
   "metadata": {},
   "outputs": [],
   "source": [
    "# Get account credentials from a json file\n",
    "with open(\"account.json\") as f:\n",
    "    data = json.load(f)\n",
    "    username = data[\"username\"]\n",
    "    password = data[\"password\"]\n",
    "    account = data[\"account\"]\n",
    "\n",
    "# Specify connection parameters\n",
    "connection_parameters = {\n",
    "    \"account\": account,\n",
    "    \"user\": username,\n",
    "    \"password\": password,\n",
    "    #\"role\": \"ACCOUNTADMIN\",\n",
    "    #\"warehouse\": \"tasty_ds_wh\",\n",
    "    #\"database\": \"NGEE_ANN_POLYTECHNIC_FROSTBYTE_DATA_SHARE\",\n",
    "    #\"schema\": \"analytics\",\n",
    "}\n",
    "\n",
    "# Create Snowpark session\n",
    "session = Session.builder.configs(connection_parameters).create()"
   ]
  },
  {
   "cell_type": "code",
   "execution_count": 4,
   "metadata": {},
   "outputs": [],
   "source": [
    "order_header_df = session.table(\"NGEE_ANN_POLYTECHNIC_FROSTBYTE_DATA_SHARE.raw_pos.order_header\")\n",
    "order_detail_df = session.table(\"NGEE_ANN_POLYTECHNIC_FROSTBYTE_DATA_SHARE.raw_pos.order_detail\")\n",
    "menu_df = session.table(\"NGEE_ANN_POLYTECHNIC_FROSTBYTE_DATA_SHARE.raw_pos.menu\")"
   ]
  },
  {
   "cell_type": "code",
   "execution_count": 5,
   "metadata": {},
   "outputs": [
    {
     "name": "stdout",
     "output_type": "stream",
     "text": [
      "-----------------------------------------------------------------------------------------------------------------------------------------------------------------------------------------------------------------------------------------------------------------------------------------\n",
      "|\"ORDER_ID\"  |\"TRUCK_ID\"  |\"LOCATION_ID\"  |\"CUSTOMER_ID\"  |\"DISCOUNT_ID\"  |\"SHIFT_ID\"  |\"SHIFT_START_TIME\"  |\"SHIFT_END_TIME\"  |\"ORDER_CHANNEL\"  |\"ORDER_TS\"           |\"SERVED_TS\"  |\"ORDER_CURRENCY\"  |\"ORDER_AMOUNT\"  |\"ORDER_TAX_AMOUNT\"  |\"ORDER_DISCOUNT_AMOUNT\"  |\"ORDER_TOTAL\"  |\n",
      "-----------------------------------------------------------------------------------------------------------------------------------------------------------------------------------------------------------------------------------------------------------------------------------------\n",
      "|82686170    |239         |6185.0         |NULL           |NULL           |232187      |15:30:00            |22:30:00          |NULL             |2021-04-15 18:47:34  |NULL         |USD               |32.0000         |NULL                |NULL                     |32.0000        |\n",
      "|82686171    |239         |6185.0         |NULL           |NULL           |232187      |15:30:00            |22:30:00          |NULL             |2021-04-15 18:47:36  |NULL         |USD               |32.0000         |NULL                |NULL                     |32.0000        |\n",
      "|82686172    |239         |6185.0         |NULL           |NULL           |232187      |15:30:00            |22:30:00          |NULL             |2021-04-15 18:47:46  |NULL         |USD               |36.0000         |NULL                |NULL                     |36.0000        |\n",
      "|82686173    |239         |6185.0         |NULL           |NULL           |232187      |15:30:00            |22:30:00          |NULL             |2021-04-15 18:47:51  |NULL         |USD               |98.0000         |NULL                |NULL                     |98.0000        |\n",
      "|82686174    |239         |6185.0         |NULL           |NULL           |232187      |15:30:00            |22:30:00          |NULL             |2021-04-15 18:48:25  |NULL         |USD               |18.0000         |NULL                |NULL                     |18.0000        |\n",
      "|82686175    |239         |6185.0         |NULL           |NULL           |232187      |15:30:00            |22:30:00          |NULL             |2021-04-15 18:48:44  |NULL         |USD               |18.0000         |NULL                |NULL                     |18.0000        |\n",
      "|82686176    |239         |6185.0         |NULL           |NULL           |232187      |15:30:00            |22:30:00          |NULL             |2021-04-15 18:50:24  |NULL         |USD               |70.0000         |NULL                |NULL                     |70.0000        |\n",
      "|82686177    |239         |6185.0         |NULL           |NULL           |232187      |15:30:00            |22:30:00          |NULL             |2021-04-15 18:50:32  |NULL         |USD               |49.0000         |NULL                |NULL                     |49.0000        |\n",
      "|82686178    |239         |6185.0         |NULL           |NULL           |232187      |15:30:00            |22:30:00          |NULL             |2021-04-15 18:50:47  |NULL         |USD               |86.0000         |NULL                |NULL                     |86.0000        |\n",
      "|82686179    |239         |6185.0         |NULL           |NULL           |232187      |15:30:00            |22:30:00          |NULL             |2021-04-15 18:51:01  |NULL         |USD               |36.0000         |NULL                |NULL                     |36.0000        |\n",
      "-----------------------------------------------------------------------------------------------------------------------------------------------------------------------------------------------------------------------------------------------------------------------------------------\n",
      "\n"
     ]
    }
   ],
   "source": [
    "order_header_df.show()"
   ]
  },
  {
   "cell_type": "code",
   "execution_count": 6,
   "metadata": {},
   "outputs": [
    {
     "name": "stdout",
     "output_type": "stream",
     "text": [
      "--------------------------------------------------------------------------------------------------------------------------------------------------------\n",
      "|\"ORDER_DETAIL_ID\"  |\"ORDER_ID\"  |\"MENU_ITEM_ID\"  |\"DISCOUNT_ID\"  |\"LINE_NUMBER\"  |\"QUANTITY\"  |\"UNIT_PRICE\"  |\"PRICE\"  |\"ORDER_ITEM_DISCOUNT_AMOUNT\"  |\n",
      "--------------------------------------------------------------------------------------------------------------------------------------------------------\n",
      "|702836225          |385518728   |51              |NULL           |0              |2           |17.2500       |34.5000  |NULL                          |\n",
      "|702836226          |385518728   |53              |NULL           |1              |1           |17.2500       |17.2500  |NULL                          |\n",
      "|702836227          |385518729   |51              |NULL           |0              |1           |17.2500       |17.2500  |NULL                          |\n",
      "|702836228          |385518729   |52              |NULL           |1              |1           |17.2500       |17.2500  |NULL                          |\n",
      "|702836229          |385518730   |51              |NULL           |0              |3           |17.2500       |51.7500  |NULL                          |\n",
      "|702836230          |385518730   |52              |NULL           |1              |2           |17.2500       |34.5000  |NULL                          |\n",
      "|702836231          |385518730   |53              |NULL           |2              |2           |17.2500       |34.5000  |NULL                          |\n",
      "|702836232          |385518730   |54              |NULL           |3              |1           |2.0000        |2.0000   |NULL                          |\n",
      "|702836233          |385518730   |55              |NULL           |4              |1           |3.0000        |3.0000   |NULL                          |\n",
      "|702836234          |385518730   |56              |NULL           |5              |1           |3.0000        |3.0000   |NULL                          |\n",
      "--------------------------------------------------------------------------------------------------------------------------------------------------------\n",
      "\n"
     ]
    }
   ],
   "source": [
    "order_detail_df.show()"
   ]
  },
  {
   "cell_type": "code",
   "execution_count": 7,
   "metadata": {},
   "outputs": [
    {
     "name": "stdout",
     "output_type": "stream",
     "text": [
      "---------------------------------------------------------------------------------------------------------------------------------------------------------------------------------------------------------------------------\n",
      "|\"MENU_ID\"  |\"MENU_TYPE_ID\"  |\"MENU_TYPE\"  |\"TRUCK_BRAND_NAME\"  |\"MENU_ITEM_ID\"  |\"MENU_ITEM_NAME\"    |\"ITEM_CATEGORY\"  |\"ITEM_SUBCATEGORY\"  |\"COST_OF_GOODS_USD\"  |\"SALE_PRICE_USD\"  |\"MENU_ITEM_HEALTH_METRICS_OBJ\"     |\n",
      "---------------------------------------------------------------------------------------------------------------------------------------------------------------------------------------------------------------------------\n",
      "|10001      |1               |Ice Cream    |Freezing Point      |10              |Lemonade            |Beverage         |Cold Option         |0.6500               |3.5000            |{                                  |\n",
      "|           |                |             |                    |                |                    |                 |                    |                     |                  |  \"menu_item_health_metrics\": [    |\n",
      "|           |                |             |                    |                |                    |                 |                    |                     |                  |    {                              |\n",
      "|           |                |             |                    |                |                    |                 |                    |                     |                  |      \"ingredients\": [             |\n",
      "|           |                |             |                    |                |                    |                 |                    |                     |                  |        \"Lemons\",                  |\n",
      "|           |                |             |                    |                |                    |                 |                    |                     |                  |        \"Sugar\",                   |\n",
      "|           |                |             |                    |                |                    |                 |                    |                     |                  |        \"Water\"                    |\n",
      "|           |                |             |                    |                |                    |                 |                    |                     |                  |      ],                           |\n",
      "|           |                |             |                    |                |                    |                 |                    |                     |                  |      \"is_dairy_free_flag\": \"Y\",   |\n",
      "|           |                |             |                    |                |                    |                 |                    |                     |                  |      \"is_gluten_free_flag\": \"Y\",  |\n",
      "|           |                |             |                    |                |                    |                 |                    |                     |                  |      \"is_healthy_flag\": \"N\",      |\n",
      "|           |                |             |                    |                |                    |                 |                    |                     |                  |      \"is_nut_free_flag\": \"Y\"      |\n",
      "|           |                |             |                    |                |                    |                 |                    |                     |                  |    }                              |\n",
      "|           |                |             |                    |                |                    |                 |                    |                     |                  |  ],                               |\n",
      "|           |                |             |                    |                |                    |                 |                    |                     |                  |  \"menu_item_id\": 10               |\n",
      "|           |                |             |                    |                |                    |                 |                    |                     |                  |}                                  |\n",
      "|10002      |1               |Ice Cream    |Freezing Point      |11              |Sugar Cone          |Dessert          |Cold Option         |2.5000               |6.0000            |{                                  |\n",
      "|           |                |             |                    |                |                    |                 |                    |                     |                  |  \"menu_item_health_metrics\": [    |\n",
      "|           |                |             |                    |                |                    |                 |                    |                     |                  |    {                              |\n",
      "|           |                |             |                    |                |                    |                 |                    |                     |                  |      \"ingredients\": [             |\n",
      "|           |                |             |                    |                |                    |                 |                    |                     |                  |        \"One Scoop\",               |\n",
      "|           |                |             |                    |                |                    |                 |                    |                     |                  |        \"Sugar Cone\"               |\n",
      "|           |                |             |                    |                |                    |                 |                    |                     |                  |      ],                           |\n",
      "|           |                |             |                    |                |                    |                 |                    |                     |                  |      \"is_dairy_free_flag\": \"Y\",   |\n",
      "|           |                |             |                    |                |                    |                 |                    |                     |                  |      \"is_gluten_free_flag\": \"Y\",  |\n",
      "|           |                |             |                    |                |                    |                 |                    |                     |                  |      \"is_healthy_flag\": \"N\",      |\n",
      "|           |                |             |                    |                |                    |                 |                    |                     |                  |      \"is_nut_free_flag\": \"Y\"      |\n",
      "|           |                |             |                    |                |                    |                 |                    |                     |                  |    }                              |\n",
      "|           |                |             |                    |                |                    |                 |                    |                     |                  |  ],                               |\n",
      "|           |                |             |                    |                |                    |                 |                    |                     |                  |  \"menu_item_id\": 11               |\n",
      "|           |                |             |                    |                |                    |                 |                    |                     |                  |}                                  |\n",
      "|10003      |1               |Ice Cream    |Freezing Point      |12              |Waffle Cone         |Dessert          |Cold Option         |2.5000               |6.0000            |{                                  |\n",
      "|           |                |             |                    |                |                    |                 |                    |                     |                  |  \"menu_item_health_metrics\": [    |\n",
      "|           |                |             |                    |                |                    |                 |                    |                     |                  |    {                              |\n",
      "|           |                |             |                    |                |                    |                 |                    |                     |                  |      \"ingredients\": [             |\n",
      "|           |                |             |                    |                |                    |                 |                    |                     |                  |        \"One Scoop\",               |\n",
      "|           |                |             |                    |                |                    |                 |                    |                     |                  |        \"Waffle Cone\"              |\n",
      "|           |                |             |                    |                |                    |                 |                    |                     |                  |      ],                           |\n",
      "|           |                |             |                    |                |                    |                 |                    |                     |                  |      \"is_dairy_free_flag\": \"N\",   |\n",
      "|           |                |             |                    |                |                    |                 |                    |                     |                  |      \"is_gluten_free_flag\": \"N\",  |\n",
      "|           |                |             |                    |                |                    |                 |                    |                     |                  |      \"is_healthy_flag\": \"N\",      |\n",
      "|           |                |             |                    |                |                    |                 |                    |                     |                  |      \"is_nut_free_flag\": \"Y\"      |\n",
      "|           |                |             |                    |                |                    |                 |                    |                     |                  |    }                              |\n",
      "|           |                |             |                    |                |                    |                 |                    |                     |                  |  ],                               |\n",
      "|           |                |             |                    |                |                    |                 |                    |                     |                  |  \"menu_item_id\": 12               |\n",
      "|           |                |             |                    |                |                    |                 |                    |                     |                  |}                                  |\n",
      "|10004      |1               |Ice Cream    |Freezing Point      |13              |Two Scoop Bowl      |Dessert          |Cold Option         |3.0000               |7.0000            |{                                  |\n",
      "|           |                |             |                    |                |                    |                 |                    |                     |                  |  \"menu_item_health_metrics\": [    |\n",
      "|           |                |             |                    |                |                    |                 |                    |                     |                  |    {                              |\n",
      "|           |                |             |                    |                |                    |                 |                    |                     |                  |      \"ingredients\": [             |\n",
      "|           |                |             |                    |                |                    |                 |                    |                     |                  |        \"Two Scoops\"               |\n",
      "|           |                |             |                    |                |                    |                 |                    |                     |                  |      ],                           |\n",
      "|           |                |             |                    |                |                    |                 |                    |                     |                  |      \"is_dairy_free_flag\": \"N\",   |\n",
      "|           |                |             |                    |                |                    |                 |                    |                     |                  |      \"is_gluten_free_flag\": \"Y\",  |\n",
      "|           |                |             |                    |                |                    |                 |                    |                     |                  |      \"is_healthy_flag\": \"N\",      |\n",
      "|           |                |             |                    |                |                    |                 |                    |                     |                  |      \"is_nut_free_flag\": \"Y\"      |\n",
      "|           |                |             |                    |                |                    |                 |                    |                     |                  |    }                              |\n",
      "|           |                |             |                    |                |                    |                 |                    |                     |                  |  ],                               |\n",
      "|           |                |             |                    |                |                    |                 |                    |                     |                  |  \"menu_item_id\": 13               |\n",
      "|           |                |             |                    |                |                    |                 |                    |                     |                  |}                                  |\n",
      "|10005      |1               |Ice Cream    |Freezing Point      |14              |Bottled Water       |Beverage         |Cold Option         |0.5000               |2.0000            |{                                  |\n",
      "|           |                |             |                    |                |                    |                 |                    |                     |                  |  \"menu_item_health_metrics\": [    |\n",
      "|           |                |             |                    |                |                    |                 |                    |                     |                  |    {                              |\n",
      "|           |                |             |                    |                |                    |                 |                    |                     |                  |      \"ingredients\": [             |\n",
      "|           |                |             |                    |                |                    |                 |                    |                     |                  |        \"12 Oz Bottle Water\"       |\n",
      "|           |                |             |                    |                |                    |                 |                    |                     |                  |      ],                           |\n",
      "|           |                |             |                    |                |                    |                 |                    |                     |                  |      \"is_dairy_free_flag\": \"Y\",   |\n",
      "|           |                |             |                    |                |                    |                 |                    |                     |                  |      \"is_gluten_free_flag\": \"Y\",  |\n",
      "|           |                |             |                    |                |                    |                 |                    |                     |                  |      \"is_healthy_flag\": \"Y\",      |\n",
      "|           |                |             |                    |                |                    |                 |                    |                     |                  |      \"is_nut_free_flag\": \"Y\"      |\n",
      "|           |                |             |                    |                |                    |                 |                    |                     |                  |    }                              |\n",
      "|           |                |             |                    |                |                    |                 |                    |                     |                  |  ],                               |\n",
      "|           |                |             |                    |                |                    |                 |                    |                     |                  |  \"menu_item_id\": 14               |\n",
      "|           |                |             |                    |                |                    |                 |                    |                     |                  |}                                  |\n",
      "|10006      |1               |Ice Cream    |Freezing Point      |15              |Bottled Soda        |Beverage         |Cold Option         |0.5000               |3.0000            |{                                  |\n",
      "|           |                |             |                    |                |                    |                 |                    |                     |                  |  \"menu_item_health_metrics\": [    |\n",
      "|           |                |             |                    |                |                    |                 |                    |                     |                  |    {                              |\n",
      "|           |                |             |                    |                |                    |                 |                    |                     |                  |      \"ingredients\": [             |\n",
      "|           |                |             |                    |                |                    |                 |                    |                     |                  |        \"12 Oz Bottle Soda\"        |\n",
      "|           |                |             |                    |                |                    |                 |                    |                     |                  |      ],                           |\n",
      "|           |                |             |                    |                |                    |                 |                    |                     |                  |      \"is_dairy_free_flag\": \"Y\",   |\n",
      "|           |                |             |                    |                |                    |                 |                    |                     |                  |      \"is_gluten_free_flag\": \"Y\",  |\n",
      "|           |                |             |                    |                |                    |                 |                    |                     |                  |      \"is_healthy_flag\": \"N\",      |\n",
      "|           |                |             |                    |                |                    |                 |                    |                     |                  |      \"is_nut_free_flag\": \"Y\"      |\n",
      "|           |                |             |                    |                |                    |                 |                    |                     |                  |    }                              |\n",
      "|           |                |             |                    |                |                    |                 |                    |                     |                  |  ],                               |\n",
      "|           |                |             |                    |                |                    |                 |                    |                     |                  |  \"menu_item_id\": 15               |\n",
      "|           |                |             |                    |                |                    |                 |                    |                     |                  |}                                  |\n",
      "|10007      |1               |Ice Cream    |Freezing Point      |16              |Ice Tea             |Beverage         |Cold Option         |0.7500               |3.0000            |{                                  |\n",
      "|           |                |             |                    |                |                    |                 |                    |                     |                  |  \"menu_item_health_metrics\": [    |\n",
      "|           |                |             |                    |                |                    |                 |                    |                     |                  |    {                              |\n",
      "|           |                |             |                    |                |                    |                 |                    |                     |                  |      \"ingredients\": [             |\n",
      "|           |                |             |                    |                |                    |                 |                    |                     |                  |        \"12 Oz Bottle Ice Tea\"     |\n",
      "|           |                |             |                    |                |                    |                 |                    |                     |                  |      ],                           |\n",
      "|           |                |             |                    |                |                    |                 |                    |                     |                  |      \"is_dairy_free_flag\": \"Y\",   |\n",
      "|           |                |             |                    |                |                    |                 |                    |                     |                  |      \"is_gluten_free_flag\": \"Y\",  |\n",
      "|           |                |             |                    |                |                    |                 |                    |                     |                  |      \"is_healthy_flag\": \"N\",      |\n",
      "|           |                |             |                    |                |                    |                 |                    |                     |                  |      \"is_nut_free_flag\": \"Y\"      |\n",
      "|           |                |             |                    |                |                    |                 |                    |                     |                  |    }                              |\n",
      "|           |                |             |                    |                |                    |                 |                    |                     |                  |  ],                               |\n",
      "|           |                |             |                    |                |                    |                 |                    |                     |                  |  \"menu_item_id\": 16               |\n",
      "|           |                |             |                    |                |                    |                 |                    |                     |                  |}                                  |\n",
      "|10008      |1               |Ice Cream    |Freezing Point      |17              |Ice Cream Sandwich  |Dessert          |Cold Option         |1.0000               |4.0000            |{                                  |\n",
      "|           |                |             |                    |                |                    |                 |                    |                     |                  |  \"menu_item_health_metrics\": [    |\n",
      "|           |                |             |                    |                |                    |                 |                    |                     |                  |    {                              |\n",
      "|           |                |             |                    |                |                    |                 |                    |                     |                  |      \"ingredients\": [             |\n",
      "|           |                |             |                    |                |                    |                 |                    |                     |                  |        \"Ice Cream Sandwich\"       |\n",
      "|           |                |             |                    |                |                    |                 |                    |                     |                  |      ],                           |\n",
      "|           |                |             |                    |                |                    |                 |                    |                     |                  |      \"is_dairy_free_flag\": \"N\",   |\n",
      "|           |                |             |                    |                |                    |                 |                    |                     |                  |      \"is_gluten_free_flag\": \"N\",  |\n",
      "|           |                |             |                    |                |                    |                 |                    |                     |                  |      \"is_healthy_flag\": \"N\",      |\n",
      "|           |                |             |                    |                |                    |                 |                    |                     |                  |      \"is_nut_free_flag\": \"Y\"      |\n",
      "|           |                |             |                    |                |                    |                 |                    |                     |                  |    }                              |\n",
      "|           |                |             |                    |                |                    |                 |                    |                     |                  |  ],                               |\n",
      "|           |                |             |                    |                |                    |                 |                    |                     |                  |  \"menu_item_id\": 17               |\n",
      "|           |                |             |                    |                |                    |                 |                    |                     |                  |}                                  |\n",
      "|10009      |1               |Ice Cream    |Freezing Point      |18              |Mango Sticky Rice   |Dessert          |Cold Option         |1.2500               |5.0000            |{                                  |\n",
      "|           |                |             |                    |                |                    |                 |                    |                     |                  |  \"menu_item_health_metrics\": [    |\n",
      "|           |                |             |                    |                |                    |                 |                    |                     |                  |    {                              |\n",
      "|           |                |             |                    |                |                    |                 |                    |                     |                  |      \"ingredients\": [             |\n",
      "|           |                |             |                    |                |                    |                 |                    |                     |                  |        \"Sweet Mango\",             |\n",
      "|           |                |             |                    |                |                    |                 |                    |                     |                  |        \"Sticky Salted Rice\",      |\n",
      "|           |                |             |                    |                |                    |                 |                    |                     |                  |        \"Coconut Milk\",            |\n",
      "|           |                |             |                    |                |                    |                 |                    |                     |                  |        \"Sesame Seeds\"             |\n",
      "|           |                |             |                    |                |                    |                 |                    |                     |                  |      ],                           |\n",
      "|           |                |             |                    |                |                    |                 |                    |                     |                  |      \"is_dairy_free_flag\": \"N\",   |\n",
      "|           |                |             |                    |                |                    |                 |                    |                     |                  |      \"is_gluten_free_flag\": \"N\",  |\n",
      "|           |                |             |                    |                |                    |                 |                    |                     |                  |      \"is_healthy_flag\": \"N\",      |\n",
      "|           |                |             |                    |                |                    |                 |                    |                     |                  |      \"is_nut_free_flag\": \"Y\"      |\n",
      "|           |                |             |                    |                |                    |                 |                    |                     |                  |    }                              |\n",
      "|           |                |             |                    |                |                    |                 |                    |                     |                  |  ],                               |\n",
      "|           |                |             |                    |                |                    |                 |                    |                     |                  |  \"menu_item_id\": 18               |\n",
      "|           |                |             |                    |                |                    |                 |                    |                     |                  |}                                  |\n",
      "|10010      |1               |Ice Cream    |Freezing Point      |19              |Popsicle            |Dessert          |Cold Option         |0.5000               |3.0000            |{                                  |\n",
      "|           |                |             |                    |                |                    |                 |                    |                     |                  |  \"menu_item_health_metrics\": [    |\n",
      "|           |                |             |                    |                |                    |                 |                    |                     |                  |    {                              |\n",
      "|           |                |             |                    |                |                    |                 |                    |                     |                  |      \"ingredients\": [             |\n",
      "|           |                |             |                    |                |                    |                 |                    |                     |                  |        \"Popsicle\"                 |\n",
      "|           |                |             |                    |                |                    |                 |                    |                     |                  |      ],                           |\n",
      "|           |                |             |                    |                |                    |                 |                    |                     |                  |      \"is_dairy_free_flag\": \"Y\",   |\n",
      "|           |                |             |                    |                |                    |                 |                    |                     |                  |      \"is_gluten_free_flag\": \"Y\",  |\n",
      "|           |                |             |                    |                |                    |                 |                    |                     |                  |      \"is_healthy_flag\": \"N\",      |\n",
      "|           |                |             |                    |                |                    |                 |                    |                     |                  |      \"is_nut_free_flag\": \"Y\"      |\n",
      "|           |                |             |                    |                |                    |                 |                    |                     |                  |    }                              |\n",
      "|           |                |             |                    |                |                    |                 |                    |                     |                  |  ],                               |\n",
      "|           |                |             |                    |                |                    |                 |                    |                     |                  |  \"menu_item_id\": 19               |\n",
      "|           |                |             |                    |                |                    |                 |                    |                     |                  |}                                  |\n",
      "---------------------------------------------------------------------------------------------------------------------------------------------------------------------------------------------------------------------------\n",
      "\n"
     ]
    }
   ],
   "source": [
    "menu_df.show()"
   ]
  },
  {
   "cell_type": "code",
   "execution_count": 8,
   "metadata": {},
   "outputs": [
    {
     "name": "stdout",
     "output_type": "stream",
     "text": [
      "----------------\n",
      "|\"MIN(COUNT)\"  |\n",
      "----------------\n",
      "|8850          |\n",
      "----------------\n",
      "\n"
     ]
    }
   ],
   "source": [
    "#Minimum order transaction by a truck\n",
    "order_header_df.group_by(\"TRUCK_ID\").agg(F.count(\"ORDER_ID\").alias('count')).agg(F.min('count')).show()"
   ]
  },
  {
   "cell_type": "code",
   "execution_count": 9,
   "metadata": {},
   "outputs": [
    {
     "name": "stdout",
     "output_type": "stream",
     "text": [
      "--------------\n",
      "|\"SUM(NNN)\"  |\n",
      "--------------\n",
      "|248201269   |\n",
      "--------------\n",
      "\n"
     ]
    }
   ],
   "source": [
    "order_header_df.drop_duplicates('ORDER_ID').group_by('ORDER_ID').agg(F.count('ORDER_ID').alias('nnn')).agg(F.sum('NNN')).show()"
   ]
  },
  {
   "cell_type": "code",
   "execution_count": 10,
   "metadata": {},
   "outputs": [
    {
     "name": "stdout",
     "output_type": "stream",
     "text": [
      "--------------\n",
      "|\"SUM(NNN)\"  |\n",
      "--------------\n",
      "|248201269   |\n",
      "--------------\n",
      "\n"
     ]
    }
   ],
   "source": [
    "order_detail_df.drop_duplicates('ORDER_ID').group_by('ORDER_ID').agg(F.count('ORDER_ID').alias('nnn')).agg(F.sum('NNN')).show()"
   ]
  },
  {
   "cell_type": "code",
   "execution_count": 11,
   "metadata": {},
   "outputs": [],
   "source": [
    "order_truck = order_header_df.select('ORDER_ID', 'TRUCK_ID')\n",
    "df = order_detail_df.join(order_truck, order_detail_df.ORDER_ID == order_truck.ORDER_ID, how = \"left\", lsuffix = \"\", rsuffix = \"_01\")"
   ]
  },
  {
   "cell_type": "code",
   "execution_count": 12,
   "metadata": {},
   "outputs": [
    {
     "name": "stdout",
     "output_type": "stream",
     "text": [
      "-------------------------------------------------------------------------------------------------------------------------------------------------------------------------------------\n",
      "|\"ORDER_DETAIL_ID\"  |\"ORDER_ID\"  |\"MENU_ITEM_ID\"  |\"DISCOUNT_ID\"  |\"LINE_NUMBER\"  |\"QUANTITY\"  |\"UNIT_PRICE\"  |\"PRICE\"  |\"ORDER_ITEM_DISCOUNT_AMOUNT\"  |\"ORDER_ID_01\"  |\"TRUCK_ID\"  |\n",
      "-------------------------------------------------------------------------------------------------------------------------------------------------------------------------------------\n",
      "|798202497          |420427397   |133             |NULL           |0              |1           |6.0000        |6.0000   |NULL                          |420427397      |433         |\n",
      "|798202503          |420427400   |131             |NULL           |0              |4           |13.0000       |52.0000  |NULL                          |420427400      |433         |\n",
      "|798202504          |420427400   |132             |NULL           |1              |4           |11.0000       |44.0000  |NULL                          |420427400      |433         |\n",
      "|798202495          |420427395   |131             |NULL           |0              |1           |13.0000       |13.0000  |NULL                          |420427395      |433         |\n",
      "|798202496          |420427396   |133             |NULL           |0              |1           |6.0000        |6.0000   |NULL                          |420427396      |433         |\n",
      "|798202499          |420427399   |131             |NULL           |0              |2           |13.0000       |26.0000  |NULL                          |420427399      |433         |\n",
      "|798202500          |420427399   |132             |NULL           |1              |1           |11.0000       |11.0000  |NULL                          |420427399      |433         |\n",
      "|798202501          |420427399   |133             |NULL           |2              |2           |6.0000        |12.0000  |NULL                          |420427399      |433         |\n",
      "|798202502          |420427399   |134             |NULL           |3              |1           |2.0000        |2.0000   |NULL                          |420427399      |433         |\n",
      "|798202498          |420427398   |133             |NULL           |0              |1           |6.0000        |6.0000   |NULL                          |420427398      |433         |\n",
      "-------------------------------------------------------------------------------------------------------------------------------------------------------------------------------------\n",
      "\n"
     ]
    }
   ],
   "source": [
    "df.show()"
   ]
  },
  {
   "cell_type": "code",
   "execution_count": 13,
   "metadata": {},
   "outputs": [
    {
     "name": "stdout",
     "output_type": "stream",
     "text": [
      "-------------------------------------------------------------------------------------------------------------------------------------------------------------------------------------------------------------------------------------------------------\n",
      "|\"SUMMARY\"  |\"ORDER_DETAIL_ID\"  |\"ORDER_ID\"          |\"MENU_ITEM_ID\"      |\"DISCOUNT_ID\"  |\"LINE_NUMBER\"       |\"QUANTITY\"          |\"UNIT_PRICE\"       |\"PRICE\"             |\"ORDER_ITEM_DISCOUNT_AMOUNT\"  |\"ORDER_ID_01\"       |\"TRUCK_ID\"          |\n",
      "-------------------------------------------------------------------------------------------------------------------------------------------------------------------------------------------------------------------------------------------------------\n",
      "|max        |904745310.0        |459520440.0         |156.0               |NULL           |9.0                 |22.0                |21.0               |396.0               |NULL                          |459520440.0         |450.0               |\n",
      "|mean       |464061483.635263   |232382244.925391    |81.547782           |NULL           |1.275699            |1.528935            |9.3639326288       |15.0088856182       |NULL                          |232382244.925391    |252.073881          |\n",
      "|stddev     |285783401.4118483  |165950942.36735708  |43.460968673051916  |NULL           |1.3309988730273214  |0.8446543671822221  |5.129668853185749  |13.066519272903554  |NULL                          |165950942.36735708  |117.57940731692774  |\n",
      "|count      |673655465.0        |673655465.0         |673655465.0         |0              |673655465.0         |673655465.0         |673655465.0        |673655465.0         |0                             |673655465.0         |673655465.0         |\n",
      "|min        |11110323.0         |4063758.0           |10.0                |NULL           |0.0                 |1.0                 |2.0                |2.0                 |NULL                          |4063758.0           |1.0                 |\n",
      "-------------------------------------------------------------------------------------------------------------------------------------------------------------------------------------------------------------------------------------------------------\n",
      "\n"
     ]
    }
   ],
   "source": [
    "df.describe().show()"
   ]
  },
  {
   "cell_type": "code",
   "execution_count": 14,
   "metadata": {},
   "outputs": [
    {
     "name": "stdout",
     "output_type": "stream",
     "text": [
      "------------------------------------------\n",
      "|\"TRUCK_ID\"  |\"MENU_ITEM_ID\"  |\"DEMAND\"  |\n",
      "------------------------------------------\n",
      "|1           |15              |15651     |\n",
      "|1           |18              |46580     |\n",
      "|1           |19              |46755     |\n",
      "|1           |11              |46912     |\n",
      "|1           |13              |46438     |\n",
      "|1           |16              |15926     |\n",
      "|1           |10              |15686     |\n",
      "|1           |17              |46561     |\n",
      "|1           |14              |15749     |\n",
      "|1           |12              |46767     |\n",
      "------------------------------------------\n",
      "\n"
     ]
    }
   ],
   "source": [
    "demand_df = df.group_by(\"TRUCK_ID\", 'MENU_ITEM_ID').agg(F.sum(\"QUANTITY\").alias('DEMAND'))\n",
    "demand_df.sort('TRUCK_ID').show()"
   ]
  },
  {
   "cell_type": "code",
   "execution_count": 15,
   "metadata": {},
   "outputs": [
    {
     "name": "stdout",
     "output_type": "stream",
     "text": [
      "----------------------------------------------\n",
      "|\"TRUCK_ID\"  |\"MENU_ITEM_ID\"  |\"UNIT_PRICE\"  |\n",
      "----------------------------------------------\n",
      "|1           |16              |3.0000000000  |\n",
      "|1           |12              |6.0000000000  |\n",
      "|1           |17              |4.0000000000  |\n",
      "|1           |10              |3.5000000000  |\n",
      "|1           |18              |5.0000000000  |\n",
      "|1           |11              |6.0000000000  |\n",
      "|1           |14              |2.0000000000  |\n",
      "|1           |13              |7.0000000000  |\n",
      "|1           |19              |3.0000000000  |\n",
      "|1           |15              |3.0000000000  |\n",
      "----------------------------------------------\n",
      "\n"
     ]
    }
   ],
   "source": [
    "unit_price = df.group_by(\"TRUCK_ID\", 'MENU_ITEM_ID').agg(F.mean(\"unit_price\").alias('unit_price'))\n",
    "unit_price.sort('TRUCK_ID').show()"
   ]
  },
  {
   "cell_type": "code",
   "execution_count": 16,
   "metadata": {},
   "outputs": [],
   "source": [
    "final_df = demand_df.join(unit_price, on= ['TRUCK_ID', 'MENU_ITEM_ID'], lsuffix = \"\", rsuffix = \"_01\")"
   ]
  },
  {
   "cell_type": "code",
   "execution_count": 17,
   "metadata": {},
   "outputs": [
    {
     "name": "stdout",
     "output_type": "stream",
     "text": [
      "---------------------------------------------------------\n",
      "|\"TRUCK_ID\"  |\"MENU_ITEM_ID\"  |\"DEMAND\"  |\"UNIT_PRICE\"  |\n",
      "---------------------------------------------------------\n",
      "|1           |15              |15651     |3.0000000000  |\n",
      "|1           |13              |46438     |7.0000000000  |\n",
      "|1           |14              |15749     |2.0000000000  |\n",
      "|1           |19              |46755     |3.0000000000  |\n",
      "|1           |18              |46580     |5.0000000000  |\n",
      "|1           |16              |15926     |3.0000000000  |\n",
      "|1           |17              |46561     |4.0000000000  |\n",
      "|1           |10              |15686     |3.5000000000  |\n",
      "|1           |12              |46767     |6.0000000000  |\n",
      "|1           |11              |46912     |6.0000000000  |\n",
      "---------------------------------------------------------\n",
      "\n"
     ]
    }
   ],
   "source": [
    "final_df.sort('TRUCK_ID').show()"
   ]
  },
  {
   "cell_type": "code",
   "execution_count": 18,
   "metadata": {},
   "outputs": [
    {
     "data": {
      "text/html": [
       "<div>\n",
       "<style scoped>\n",
       "    .dataframe tbody tr th:only-of-type {\n",
       "        vertical-align: middle;\n",
       "    }\n",
       "\n",
       "    .dataframe tbody tr th {\n",
       "        vertical-align: top;\n",
       "    }\n",
       "\n",
       "    .dataframe thead th {\n",
       "        text-align: right;\n",
       "    }\n",
       "</style>\n",
       "<table border=\"1\" class=\"dataframe\">\n",
       "  <thead>\n",
       "    <tr style=\"text-align: right;\">\n",
       "      <th></th>\n",
       "      <th>TRUCK_ID</th>\n",
       "      <th>MENU_ITEM_ID</th>\n",
       "      <th>UNIT_PRICE</th>\n",
       "      <th>DEMAND</th>\n",
       "    </tr>\n",
       "  </thead>\n",
       "  <tbody>\n",
       "    <tr>\n",
       "      <th>0</th>\n",
       "      <td>-1.030641</td>\n",
       "      <td>-1.452996</td>\n",
       "      <td>-0.034357</td>\n",
       "      <td>119234</td>\n",
       "    </tr>\n",
       "    <tr>\n",
       "      <th>1</th>\n",
       "      <td>-1.007548</td>\n",
       "      <td>-0.712701</td>\n",
       "      <td>-0.808610</td>\n",
       "      <td>89453</td>\n",
       "    </tr>\n",
       "    <tr>\n",
       "      <th>2</th>\n",
       "      <td>-0.922874</td>\n",
       "      <td>1.687647</td>\n",
       "      <td>0.739895</td>\n",
       "      <td>272896</td>\n",
       "    </tr>\n",
       "    <tr>\n",
       "      <th>3</th>\n",
       "      <td>-1.022943</td>\n",
       "      <td>-1.116498</td>\n",
       "      <td>2.675527</td>\n",
       "      <td>152353</td>\n",
       "    </tr>\n",
       "    <tr>\n",
       "      <th>4</th>\n",
       "      <td>-0.953664</td>\n",
       "      <td>0.745454</td>\n",
       "      <td>0.933458</td>\n",
       "      <td>395262</td>\n",
       "    </tr>\n",
       "  </tbody>\n",
       "</table>\n",
       "</div>"
      ],
      "text/plain": [
       "   TRUCK_ID  MENU_ITEM_ID  UNIT_PRICE  DEMAND\n",
       "0 -1.030641     -1.452996   -0.034357  119234\n",
       "1 -1.007548     -0.712701   -0.808610   89453\n",
       "2 -0.922874      1.687647    0.739895  272896\n",
       "3 -1.022943     -1.116498    2.675527  152353\n",
       "4 -0.953664      0.745454    0.933458  395262"
      ]
     },
     "execution_count": 18,
     "metadata": {},
     "output_type": "execute_result"
    }
   ],
   "source": [
    "# Scaling\n",
    "\n",
    "final_df = final_df.to_pandas()\n",
    "#drop target\n",
    "target = final_df['DEMAND']\n",
    "final_df.drop('DEMAND', axis = 1, inplace = True)\n",
    "\n",
    "scaler = StandardScaler()\n",
    "scaler.fit(final_df)\n",
    "\n",
    "final_scaled = scaler.transform(final_df)\n",
    "final_scaled = pd.DataFrame(final_scaled, columns=final_df.columns)\n",
    "\n",
    "#assign target variable back to scaled data frame\n",
    "final_scaled = final_scaled.assign(DEMAND = target)\n",
    "final_scaled.head()\n"
   ]
  },
  {
   "cell_type": "code",
   "execution_count": 19,
   "metadata": {},
   "outputs": [],
   "source": [
    "# Train Test Split\n",
    "# Define Model Inputs (X) and Output (y)\n",
    "X = final_scaled.drop('DEMAND',axis=1)\n",
    "y = final_scaled[\"DEMAND\"]\n",
    "\n",
    "# Split both Inputs (X) and Ouput (y) into training set (70%) and testing set (30%)\n",
    "X_train, X_test, y_train, y_test = train_test_split(X, y, test_size=0.3, random_state=1)"
   ]
  },
  {
   "cell_type": "code",
   "execution_count": 22,
   "metadata": {},
   "outputs": [
    {
     "name": "stdout",
     "output_type": "stream",
     "text": [
      "Train RMSE: 338037.1777949491\n",
      "Test RMSE: 317406.9998558533\n",
      "Train R-squared: 0.24858227101314023\n",
      "Test R-squared: 0.26189515395976315\n"
     ]
    }
   ],
   "source": [
    "from sklearn.linear_model import LinearRegression\n",
    "from sklearn.metrics import mean_squared_error, r2_score\n",
    "from math import sqrt\n",
    "\n",
    "# Create the model \"lr\"\n",
    "lr = LinearRegression()\n",
    "\n",
    "# Fit the model to the training set\n",
    "lr.fit(X_train, y_train)\n",
    "\n",
    "# Make predictions on the training and testing sets\n",
    "train_predictions = lr.predict(X_train)\n",
    "test_predictions = lr.predict(X_test)\n",
    "\n",
    "# Calculate RMSE for the training and testing sets\n",
    "train_rmse = sqrt(mean_squared_error(y_train, train_predictions))\n",
    "test_rmse = sqrt(mean_squared_error(y_test, test_predictions))\n",
    "\n",
    "# Calculate R-squared values for the training and testing sets\n",
    "train_r2 = r2_score(y_train, train_predictions)\n",
    "test_r2 = r2_score(y_test, test_predictions)\n",
    "\n",
    "# Print the results\n",
    "print('Train RMSE:', train_rmse)\n",
    "print('Test RMSE:', test_rmse)\n",
    "print('Train R-squared:', train_r2)\n",
    "print('Test R-squared:', test_r2)\n"
   ]
  }
 ],
 "metadata": {
  "kernelspec": {
   "display_name": "pysnowpark",
   "language": "python",
   "name": "python3"
  },
  "language_info": {
   "codemirror_mode": {
    "name": "ipython",
    "version": 3
   },
   "file_extension": ".py",
   "mimetype": "text/x-python",
   "name": "python",
   "nbconvert_exporter": "python",
   "pygments_lexer": "ipython3",
   "version": "3.9.16"
  },
  "orig_nbformat": 4
 },
 "nbformat": 4,
 "nbformat_minor": 2
}
