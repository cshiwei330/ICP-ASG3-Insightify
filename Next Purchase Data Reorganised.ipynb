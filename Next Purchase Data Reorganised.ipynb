{
 "cells": [
  {
   "attachments": {},
   "cell_type": "markdown",
   "metadata": {},
   "source": [
    "## Importing packages & setting up connection"
   ]
  },
  {
   "cell_type": "code",
   "execution_count": 628,
   "metadata": {},
   "outputs": [],
   "source": [
    "# Import Python packages\n",
    "import pandas as pd\n",
    "import numpy as np\n",
    "from matplotlib import pyplot as plt\n",
    "import json\n",
    "import sys\n",
    "import cachetools\n",
    "from datetime import datetime\n",
    "from datetime import date\n",
    "import seaborn as sns\n",
    "import math\n",
    "from scipy import stats\n",
    "import statsmodels.api as sm\n",
    "\n",
    "# Import Snowflake modules\n",
    "from snowflake.snowpark import Session\n",
    "import snowflake.snowpark.functions as F\n",
    "import snowflake.snowpark.types as T\n",
    "from snowflake.snowpark import Window\n",
    "from snowflake.snowpark.functions import col, to_date, row_number, desc\n",
    "\n",
    "# Clustering & Model\n",
    "from sklearn.cluster import KMeans\n",
    "from sklearn.linear_model import LogisticRegression, LinearRegression\n",
    "from sklearn import tree\n",
    "from sklearn.tree import DecisionTreeClassifier\n",
    "from sklearn.neural_network import MLPClassifier\n",
    "from sklearn.svm import SVC, SVR\n",
    "from sklearn. ensemble import RandomForestClassifier, BaggingClassifier, AdaBoostClassifier, ExtraTreesClassifier, RandomForestRegressor, ExtraTreesRegressor, BaggingRegressor, GradientBoostingClassifier, AdaBoostRegressor\n",
    "from sklearn.neighbors import KNeighborsRegressor\n",
    "from xgboost import XGBClassifier, XGBRegressor \n",
    "from sklearn.model_selection import KFold, cross_val_score, train_test_split\n",
    "\n",
    "# Scalers\n",
    "from sklearn.preprocessing import StandardScaler\n",
    "\n",
    "# Evaluation\n",
    "from sklearn.metrics import silhouette_score\n",
    "from sklearn.metrics import mean_squared_error\n",
    "from sklearn.metrics import r2_score\n",
    "from sklearn.metrics import accuracy_score\n",
    "\n",
    "# find the best combination of model hyperparameters\n",
    "from sklearn.model_selection import GridSearchCV, RandomizedSearchCV\n",
    "from sklearn.model_selection import cross_val_score, cross_validate\n",
    "\n",
    "# Getting Password,Username, Account\n",
    "import getpass\n",
    "\n",
    "# ignore warnings\n",
    "import warnings\n",
    "warnings.filterwarnings('ignore')"
   ]
  },
  {
   "cell_type": "code",
   "execution_count": 629,
   "metadata": {},
   "outputs": [],
   "source": [
    "# Get account credentials from a json file\n",
    "with open(\"account.json\") as f:\n",
    "    data = json.load(f)\n",
    "    username = data[\"username\"]\n",
    "    password = data[\"password\"]\n",
    "    account = data[\"account\"]\n",
    "\n",
    "# Specify connection parameters\n",
    "connection_parameters = {\n",
    "    \"account\": account,\n",
    "    \"user\": username,\n",
    "    \"password\": password,\n",
    "    #\"role\": \"ACCOUNTADMIN\",\n",
    "    #\"warehouse\": \"tasty_ds_wh\",\n",
    "    #\"database\": \"frostbyte_tasty_bytes\",\n",
    "    #\"schema\": \"analytics\",\n",
    "}\n",
    "\n",
    "# Create Snowpark session\n",
    "session = Session.builder.configs(connection_parameters).create()"
   ]
  },
  {
   "attachments": {},
   "cell_type": "markdown",
   "metadata": {},
   "source": [
    "## 1. Loading of Datasets <a id=\"part1\"></a>"
   ]
  },
  {
   "cell_type": "code",
   "execution_count": 630,
   "metadata": {},
   "outputs": [],
   "source": [
    "# Load the tables as dataframe\n",
    "order_header_df = session.table(\"NGEE_ANN_POLYTECHNIC_FROSTBYTE_DATA_SHARE.raw_pos.order_header\")\n",
    "customer_df = session.table(\"NGEE_ANN_POLYTECHNIC_FROSTBYTE_DATA_SHARE.raw_customer.customer_loyalty\")"
   ]
  },
  {
   "cell_type": "code",
   "execution_count": 631,
   "metadata": {},
   "outputs": [
    {
     "name": "stdout",
     "output_type": "stream",
     "text": [
      "-----------------------------------------------------------------------------------------------------------------------------------------------------------------------------------------------------------------------------------------------------------------------------------------\n",
      "|\"ORDER_ID\"  |\"TRUCK_ID\"  |\"LOCATION_ID\"  |\"CUSTOMER_ID\"  |\"DISCOUNT_ID\"  |\"SHIFT_ID\"  |\"SHIFT_START_TIME\"  |\"SHIFT_END_TIME\"  |\"ORDER_CHANNEL\"  |\"ORDER_TS\"           |\"SERVED_TS\"  |\"ORDER_CURRENCY\"  |\"ORDER_AMOUNT\"  |\"ORDER_TAX_AMOUNT\"  |\"ORDER_DISCOUNT_AMOUNT\"  |\"ORDER_TOTAL\"  |\n",
      "-----------------------------------------------------------------------------------------------------------------------------------------------------------------------------------------------------------------------------------------------------------------------------------------\n",
      "|22477378    |97          |3713.0         |NULL           |NULL           |78881       |16:00:00            |23:00:00          |NULL             |2020-04-19 17:06:54  |NULL         |USD               |26.0000         |NULL                |NULL                     |26.0000        |\n",
      "|22477379    |97          |3713.0         |NULL           |NULL           |78881       |16:00:00            |23:00:00          |NULL             |2020-04-19 17:07:40  |NULL         |USD               |46.0000         |NULL                |NULL                     |46.0000        |\n",
      "|22477380    |97          |3713.0         |NULL           |NULL           |78881       |16:00:00            |23:00:00          |NULL             |2020-04-19 17:07:58  |NULL         |USD               |7.0000          |NULL                |NULL                     |7.0000         |\n",
      "|22477381    |97          |3713.0         |NULL           |NULL           |78881       |16:00:00            |23:00:00          |NULL             |2020-04-19 17:09:41  |NULL         |USD               |9.0000          |NULL                |NULL                     |9.0000         |\n",
      "|22477382    |97          |3713.0         |NULL           |NULL           |78881       |16:00:00            |23:00:00          |NULL             |2020-04-19 17:10:09  |NULL         |USD               |24.0000         |NULL                |NULL                     |24.0000        |\n",
      "|22477383    |97          |3713.0         |NULL           |NULL           |78881       |16:00:00            |23:00:00          |NULL             |2020-04-19 17:14:51  |NULL         |USD               |40.0000         |NULL                |NULL                     |40.0000        |\n",
      "|22477384    |97          |3713.0         |NULL           |NULL           |78881       |16:00:00            |23:00:00          |NULL             |2020-04-19 17:17:14  |NULL         |USD               |16.0000         |NULL                |NULL                     |16.0000        |\n",
      "|22477385    |97          |3713.0         |NULL           |NULL           |78881       |16:00:00            |23:00:00          |NULL             |2020-04-19 17:18:59  |NULL         |USD               |28.0000         |NULL                |NULL                     |28.0000        |\n",
      "|22477386    |97          |3713.0         |NULL           |NULL           |78881       |16:00:00            |23:00:00          |NULL             |2020-04-19 17:23:06  |NULL         |USD               |16.0000         |NULL                |NULL                     |16.0000        |\n",
      "|22477387    |97          |3713.0         |NULL           |NULL           |78881       |16:00:00            |23:00:00          |NULL             |2020-04-19 17:26:09  |NULL         |USD               |19.0000         |NULL                |NULL                     |19.0000        |\n",
      "-----------------------------------------------------------------------------------------------------------------------------------------------------------------------------------------------------------------------------------------------------------------------------------------\n",
      "\n"
     ]
    }
   ],
   "source": [
    "# Display order_header_df\n",
    "order_header_df.show()"
   ]
  },
  {
   "cell_type": "code",
   "execution_count": 632,
   "metadata": {},
   "outputs": [
    {
     "name": "stdout",
     "output_type": "stream",
     "text": [
      "---------------------------------------------------------------------------------------------------------------------------------------------------------------------------------------------------------------------------------------------------------------------------\n",
      "|\"CUSTOMER_ID\"  |\"FIRST_NAME\"  |\"LAST_NAME\"  |\"CITY\"     |\"COUNTRY\"      |\"POSTAL_CODE\"  |\"PREFERRED_LANGUAGE\"  |\"GENDER\"     |\"FAVOURITE_BRAND\"  |\"MARITAL_STATUS\"  |\"CHILDREN_COUNT\"  |\"SIGN_UP_DATE\"  |\"BIRTHDAY_DATE\"  |\"E_MAIL\"                     |\"PHONE_NUMBER\"  |\n",
      "---------------------------------------------------------------------------------------------------------------------------------------------------------------------------------------------------------------------------------------------------------------------------\n",
      "|66             |Cannon        |Waters       |Toronto    |Canada         |M4C 3M7        |English               |Male         |NULL               |Married           |4                 |2019-10-08      |1982-11-24       |Cannon.Waters@hotmail.com    |424-543-8925    |\n",
      "|118            |Donald        |Faulkner     |San Mateo  |United States  |94010          |English               |Male         |NULL               |Single            |0                 |2019-07-07      |1988-06-13       |Donald.Faulkner@hotmail.com  |080-861-2392    |\n",
      "|131            |Tate          |Tucker       |Toronto    |Canada         |M4C 1E7        |English               |Male         |NULL               |Single            |0                 |2021-05-27      |1984-12-29       |Tate.Tucker@hotmail.com      |896-393-1708    |\n",
      "|132            |Aileen        |Knapp        |Toronto    |Canada         |M4C 3J6        |English               |Male         |NULL               |Single            |0                 |2020-11-10      |1981-04-30       |Aileen.Knapp@hotmail.com     |477-406-2898    |\n",
      "|171            |Grayson       |Hayes        |Toronto    |Canada         |M4C 1E7        |English               |Male         |NULL               |Single            |0                 |2021-05-08      |1987-08-06       |Grayson.Hayes@hotmail.com    |849-485-3285    |\n",
      "|189            |Reese         |Mcfarland    |San Mateo  |United States  |94010          |English               |Undisclosed  |NULL               |Married           |1                 |2020-03-06      |1984-03-05       |Reese.Mcfarland@hotmail.com  |802-202-7275    |\n",
      "|195            |Summer        |Chung        |Toronto    |Canada         |M4C 1X6        |English               |Female       |NULL               |Single            |0                 |2021-05-13      |1987-08-17       |Summer.Chung@hotmail.com     |761-641-8122    |\n",
      "|204            |Emilio        |Lawrence     |San Mateo  |United States  |94497          |English               |Male         |NULL               |Undisclosed       |Undisclosed       |2021-10-10      |1979-06-25       |Emilio.Lawrence@hotmail.com  |693-524-2569    |\n",
      "|42             |Alexander     |Hicks        |San Mateo  |United States  |94404          |English               |Undisclosed  |NULL               |Single            |0                 |2020-07-11      |1966-06-28       |Alexander.Hicks@aol.com      |463-144-8555    |\n",
      "|59             |Ryan          |Shah         |San Mateo  |United States  |94401          |English               |Male         |NULL               |Married           |2                 |2020-12-29      |1961-06-05       |Ryan.Shah@aol.com            |679-586-9815    |\n",
      "---------------------------------------------------------------------------------------------------------------------------------------------------------------------------------------------------------------------------------------------------------------------------\n",
      "\n"
     ]
    }
   ],
   "source": [
    "# Display customer_df\n",
    "customer_df.show()"
   ]
  },
  {
   "cell_type": "code",
   "execution_count": 633,
   "metadata": {},
   "outputs": [
    {
     "name": "stdout",
     "output_type": "stream",
     "text": [
      "-----------------------------------------------------------------------------------------------------------------------------------------------------------------------------------------------------------------------------------------------------------------------------------------\n",
      "|\"ORDER_ID\"  |\"TRUCK_ID\"  |\"LOCATION_ID\"  |\"CUSTOMER_ID\"  |\"DISCOUNT_ID\"  |\"SHIFT_ID\"  |\"SHIFT_START_TIME\"  |\"SHIFT_END_TIME\"  |\"ORDER_CHANNEL\"  |\"ORDER_TS\"           |\"SERVED_TS\"  |\"ORDER_CURRENCY\"  |\"ORDER_AMOUNT\"  |\"ORDER_TAX_AMOUNT\"  |\"ORDER_DISCOUNT_AMOUNT\"  |\"ORDER_TOTAL\"  |\n",
      "-----------------------------------------------------------------------------------------------------------------------------------------------------------------------------------------------------------------------------------------------------------------------------------------\n",
      "|22477396    |97          |3713.0         |95165          |NULL           |78881       |16:00:00            |23:00:00          |NULL             |2020-04-19 17:41:09  |NULL         |USD               |7.0000          |NULL                |NULL                     |7.0000         |\n",
      "|22477412    |97          |3713.0         |146981         |NULL           |78881       |16:00:00            |23:00:00          |NULL             |2020-04-19 18:02:22  |NULL         |USD               |42.0000         |NULL                |NULL                     |42.0000        |\n",
      "|22477417    |97          |3713.0         |112241         |NULL           |78881       |16:00:00            |23:00:00          |NULL             |2020-04-19 18:07:39  |NULL         |USD               |50.0000         |NULL                |NULL                     |50.0000        |\n",
      "|22477440    |97          |3713.0         |74142          |NULL           |78881       |16:00:00            |23:00:00          |NULL             |2020-04-19 18:55:27  |NULL         |USD               |31.0000         |NULL                |NULL                     |31.0000        |\n",
      "|22477441    |97          |3713.0         |196106         |NULL           |78881       |16:00:00            |23:00:00          |NULL             |2020-04-19 18:55:31  |NULL         |USD               |90.0000         |NULL                |NULL                     |90.0000        |\n",
      "|22477443    |97          |3713.0         |98913          |NULL           |78881       |16:00:00            |23:00:00          |NULL             |2020-04-19 18:55:50  |NULL         |USD               |25.0000         |NULL                |NULL                     |25.0000        |\n",
      "|22477472    |97          |3713.0         |163337         |NULL           |78881       |16:00:00            |23:00:00          |NULL             |2020-04-19 19:28:23  |NULL         |USD               |29.0000         |NULL                |NULL                     |29.0000        |\n",
      "|22477478    |97          |3713.0         |111889         |NULL           |78881       |16:00:00            |23:00:00          |NULL             |2020-04-19 19:35:33  |NULL         |USD               |19.0000         |NULL                |NULL                     |19.0000        |\n",
      "|22477486    |97          |3713.0         |176436         |NULL           |78881       |16:00:00            |23:00:00          |NULL             |2020-04-19 19:45:20  |NULL         |USD               |75.0000         |NULL                |NULL                     |75.0000        |\n",
      "|22477495    |97          |3713.0         |54158          |NULL           |78881       |16:00:00            |23:00:00          |NULL             |2020-04-19 19:55:10  |NULL         |USD               |24.0000         |NULL                |NULL                     |24.0000        |\n",
      "-----------------------------------------------------------------------------------------------------------------------------------------------------------------------------------------------------------------------------------------------------------------------------------------\n",
      "\n"
     ]
    }
   ],
   "source": [
    "# Dropping null values in CUSTOMER_ID\n",
    "order_header_df = order_header_df.na.drop(subset=\"CUSTOMER_ID\")\n",
    "order_header_df.show()"
   ]
  },
  {
   "attachments": {},
   "cell_type": "markdown",
   "metadata": {},
   "source": [
    "## 2. Dataframe Preparation <a id=\"part2\"></a>"
   ]
  },
  {
   "attachments": {},
   "cell_type": "markdown",
   "metadata": {},
   "source": [
    "### 2.1 Create dataframe <a id=\"part2-1\"></a>\n",
    "As mentioned earlier, our group will be focusing on the customers based in the US. Hence, we will need to filter the customer data to US. We are also doing basic data preparation to prepare our datasets so far for subsequent steps. "
   ]
  },
  {
   "cell_type": "code",
   "execution_count": 634,
   "metadata": {},
   "outputs": [
    {
     "name": "stdout",
     "output_type": "stream",
     "text": [
      "-----------------------------------------------------------------------------------------------------------------------------------------------------------------------------------------------------------------------------------------------------------------------------\n",
      "|\"CUSTOMER_ID\"  |\"FIRST_NAME\"  |\"LAST_NAME\"  |\"CITY\"     |\"COUNTRY\"      |\"POSTAL_CODE\"  |\"PREFERRED_LANGUAGE\"  |\"GENDER\"     |\"FAVOURITE_BRAND\"  |\"MARITAL_STATUS\"    |\"CHILDREN_COUNT\"  |\"SIGN_UP_DATE\"  |\"BIRTHDAY_DATE\"  |\"E_MAIL\"                     |\"PHONE_NUMBER\"  |\n",
      "-----------------------------------------------------------------------------------------------------------------------------------------------------------------------------------------------------------------------------------------------------------------------------\n",
      "|118            |Donald        |Faulkner     |San Mateo  |United States  |94010          |English               |Male         |NULL               |Single              |0                 |2019-07-07      |1988-06-13       |Donald.Faulkner@hotmail.com  |080-861-2392    |\n",
      "|189            |Reese         |Mcfarland    |San Mateo  |United States  |94010          |English               |Undisclosed  |NULL               |Married             |1                 |2020-03-06      |1984-03-05       |Reese.Mcfarland@hotmail.com  |802-202-7275    |\n",
      "|204            |Emilio        |Lawrence     |San Mateo  |United States  |94497          |English               |Male         |NULL               |Undisclosed         |Undisclosed       |2021-10-10      |1979-06-25       |Emilio.Lawrence@hotmail.com  |693-524-2569    |\n",
      "|42             |Alexander     |Hicks        |San Mateo  |United States  |94404          |English               |Undisclosed  |NULL               |Single              |0                 |2020-07-11      |1966-06-28       |Alexander.Hicks@aol.com      |463-144-8555    |\n",
      "|59             |Ryan          |Shah         |San Mateo  |United States  |94401          |English               |Male         |NULL               |Married             |2                 |2020-12-29      |1961-06-05       |Ryan.Shah@aol.com            |679-586-9815    |\n",
      "|65             |Nathen        |Werner       |San Mateo  |United States  |94010          |English               |Male         |NULL               |Divorced/Seperated  |5+                |2020-11-05      |1958-09-01       |Nathen.Werner@aol.com        |926-969-1551    |\n",
      "|106            |Camilla       |Harding      |San Mateo  |United States  |94404          |English               |Female       |NULL               |Single              |0                 |2021-06-28      |1967-05-10       |Camilla.Harding@aol.com      |366-365-2520    |\n",
      "|219            |Scarlett      |Zavala       |San Mateo  |United States  |94403          |English               |Undisclosed  |NULL               |Married             |2                 |2021-01-22      |1965-12-19       |Scarlett.Zavala@aol.com      |447-385-8243    |\n",
      "|222            |Olive         |Powell       |San Mateo  |United States  |94404          |English               |Female       |NULL               |Single              |0                 |2021-03-21      |1965-07-06       |Olive.Powell@aol.com         |983-128-2475    |\n",
      "|22             |Rayne         |Sanchez      |San Mateo  |United States  |94401          |English               |Male         |NULL               |Married             |4                 |2021-04-22      |1949-01-12       |Rayne.Sanchez@ymail.com      |621-054-0251    |\n",
      "-----------------------------------------------------------------------------------------------------------------------------------------------------------------------------------------------------------------------------------------------------------------------------\n",
      "\n"
     ]
    }
   ],
   "source": [
    "# Filtering the customer dataset to only US\n",
    "us_customer_df = customer_df.filter(F.col(\"COUNTRY\")==\"United States\")\n",
    "us_customer_df.show()"
   ]
  },
  {
   "cell_type": "code",
   "execution_count": 635,
   "metadata": {},
   "outputs": [],
   "source": [
    "# After filtering of customer dataset to only US, we will be filtering and looking at the orders \n",
    "# based on these customers only\n",
    "customer_US = us_customer_df.select(F.col(\"CUSTOMER_ID\"))\n",
    "order_header_df = order_header_df.join(customer_US, order_header_df.CUSTOMER_ID == customer_US.CUSTOMER_ID, lsuffix = \"\", rsuffix = \"_US\")\n",
    "order_header_df.show()"
   ]
  },
  {
   "attachments": {},
   "cell_type": "markdown",
   "metadata": {},
   "source": [
    "## 3. Data Exploration <a id=\"part3\"></a>"
   ]
  },
  {
   "cell_type": "code",
   "execution_count": null,
   "metadata": {},
   "outputs": [
    {
     "data": {
      "text/plain": [
       "datetime.datetime(2022, 11, 1, 22, 58, 56)"
      ]
     },
     "execution_count": 593,
     "metadata": {},
     "output_type": "execute_result"
    }
   ],
   "source": [
    "# Finding current date (last order)\n",
    "lastest_transaction_de = order_header_df.agg(F.max(\"ORDER_TS\").alias(\"LAST_ORDER_TS\")).collect()[0][0]\n",
    "lastest_transaction_de"
   ]
  },
  {
   "cell_type": "code",
   "execution_count": null,
   "metadata": {},
   "outputs": [
    {
     "name": "stdout",
     "output_type": "stream",
     "text": [
      "---------------------------------------\n",
      "|\"CUSTOMER_ID\"  |\"LAST_ORDER_TS\"      |\n",
      "---------------------------------------\n",
      "|72163          |2022-10-24 11:41:22  |\n",
      "|141003         |2022-10-29 21:56:20  |\n",
      "|157807         |2022-10-26 21:05:14  |\n",
      "|110135         |2022-10-29 10:48:57  |\n",
      "|69163          |2022-10-15 12:56:11  |\n",
      "|99059          |2022-10-28 19:19:56  |\n",
      "|66588          |2022-10-15 20:10:31  |\n",
      "|65409          |2022-10-31 21:11:41  |\n",
      "|143828         |2022-11-01 19:36:32  |\n",
      "|198935         |2022-10-29 09:39:15  |\n",
      "---------------------------------------\n",
      "\n"
     ]
    }
   ],
   "source": [
    "# Finding the last order time stamp for each customer\n",
    "customer_last_order_de = order_header_df.groupBy(\"CUSTOMER_ID\").agg(F.max(\"ORDER_TS\").alias(\"LAST_ORDER_TS\"))\n",
    "customer_last_order_de.show()"
   ]
  },
  {
   "cell_type": "code",
   "execution_count": null,
   "metadata": {},
   "outputs": [
    {
     "name": "stdout",
     "output_type": "stream",
     "text": [
      "------------------------------------------------------------------------------\n",
      "|\"CUSTOMER_ID\"  |\"LAST_ORDER_TS\"      |\"CURRENT DATE\"       |\"RECENCY_DAYS\"  |\n",
      "------------------------------------------------------------------------------\n",
      "|193854         |2022-10-16 14:11:48  |2022-11-01 22:58:56  |16              |\n",
      "|42466          |2022-10-31 16:14:22  |2022-11-01 22:58:56  |1               |\n",
      "|28483          |2022-10-10 16:26:26  |2022-11-01 22:58:56  |22              |\n",
      "|21573          |2022-10-30 17:36:42  |2022-11-01 22:58:56  |2               |\n",
      "|142625         |2022-10-25 13:57:02  |2022-11-01 22:58:56  |7               |\n",
      "|169393         |2022-10-02 12:12:36  |2022-11-01 22:58:56  |30              |\n",
      "|53060          |2022-10-11 21:54:58  |2022-11-01 22:58:56  |21              |\n",
      "|18344          |2022-10-22 08:42:51  |2022-11-01 22:58:56  |10              |\n",
      "|19958          |2022-11-01 19:16:00  |2022-11-01 22:58:56  |0               |\n",
      "|33415          |2022-10-27 10:47:34  |2022-11-01 22:58:56  |5               |\n",
      "------------------------------------------------------------------------------\n",
      "\n"
     ]
    }
   ],
   "source": [
    "# Creating a new dataframe and adding column with lastest transaction timestamp as the \n",
    "# current date identified previously \n",
    "\n",
    "# Inserting new column: current date which the lastest transaction timestamp\n",
    "customer_recency_de = customer_last_order_de.with_column(\"CURRENT DATE\", F.iff(F.col(\"LAST_ORDER_TS\") == F.col(\"LAST_ORDER_TS\"), lastest_transaction_de, lastest_transaction_de))\n",
    "\n",
    "# Calculate recency days\n",
    "customer_recency_de = customer_recency_de.with_column(\"RECENCY_DAYS\", F.datediff('day', customer_recency_de[\"LAST_ORDER_TS\"], customer_recency_de[\"CURRENT DATE\"]))\n",
    "customer_recency_de.show()"
   ]
  },
  {
   "cell_type": "code",
   "execution_count": null,
   "metadata": {},
   "outputs": [
    {
     "data": {
      "text/html": [
       "<div>\n",
       "<style scoped>\n",
       "    .dataframe tbody tr th:only-of-type {\n",
       "        vertical-align: middle;\n",
       "    }\n",
       "\n",
       "    .dataframe tbody tr th {\n",
       "        vertical-align: top;\n",
       "    }\n",
       "\n",
       "    .dataframe thead th {\n",
       "        text-align: right;\n",
       "    }\n",
       "</style>\n",
       "<table border=\"1\" class=\"dataframe\">\n",
       "  <thead>\n",
       "    <tr style=\"text-align: right;\">\n",
       "      <th></th>\n",
       "      <th>RECENCY_DAYS</th>\n",
       "      <th>NO_OF_CUST</th>\n",
       "    </tr>\n",
       "  </thead>\n",
       "  <tbody>\n",
       "    <tr>\n",
       "      <th>0</th>\n",
       "      <td>1</td>\n",
       "      <td>3120</td>\n",
       "    </tr>\n",
       "    <tr>\n",
       "      <th>1</th>\n",
       "      <td>7</td>\n",
       "      <td>2402</td>\n",
       "    </tr>\n",
       "    <tr>\n",
       "      <th>2</th>\n",
       "      <td>5</td>\n",
       "      <td>2908</td>\n",
       "    </tr>\n",
       "    <tr>\n",
       "      <th>3</th>\n",
       "      <td>28</td>\n",
       "      <td>346</td>\n",
       "    </tr>\n",
       "    <tr>\n",
       "      <th>4</th>\n",
       "      <td>10</td>\n",
       "      <td>1727</td>\n",
       "    </tr>\n",
       "  </tbody>\n",
       "</table>\n",
       "</div>"
      ],
      "text/plain": [
       "   RECENCY_DAYS  NO_OF_CUST\n",
       "0             1        3120\n",
       "1             7        2402\n",
       "2             5        2908\n",
       "3            28         346\n",
       "4            10        1727"
      ]
     },
     "execution_count": 596,
     "metadata": {},
     "output_type": "execute_result"
    }
   ],
   "source": [
    "customer_by_recency = customer_recency_de.group_by(\"RECENCY_DAYS\").agg(F.count(\"CUSTOMER_ID\").alias(\"NO_OF_CUST\")).to_pandas()\n",
    "customer_by_recency.head()"
   ]
  },
  {
   "cell_type": "code",
   "execution_count": null,
   "metadata": {},
   "outputs": [
    {
     "data": {
      "image/png": "[encoded data removed]",
      "text/plain": [
       "<Figure size 2000x800 with 1 Axes>"
      ]
     },
     "metadata": {},
     "output_type": "display_data"
    }
   ],
   "source": [
    "customer_by_recency.sort_values(by='RECENCY_DAYS', ascending=True, inplace=True) # Sort values in ascending order of customer\n",
    "recency_index = customer_by_recency['RECENCY_DAYS'].tolist()\n",
    "customer_values = customer_by_recency['NO_OF_CUST'].tolist()\n",
    "\n",
    "# Create a figure and subplot\n",
    "fig, V4 = plt.subplots(figsize=(20,8))\n",
    "\n",
    "# Create a bar chart \n",
    "V4.bar(recency_index,customer_values, align = 'center', color='#AFE4FE') # align define the alignment of x-ticks\n",
    "\n",
    "# Display data labels\n",
    "#for x,y in zip(recency_index,customer_values):\n",
    "\n",
    "#    label = x\n",
    "\n",
    "#    plt.annotate(label, \n",
    "#                 (x,y), \n",
    "#                 textcoords=\"offset points\", \n",
    "#                 xytext=(30,-3), \n",
    "#                 fontsize = 10,\n",
    "#                 ha='center') \n",
    "\n",
    "# State title of plot and the axes labels\n",
    "V4.set_title('Distribution of Customers by Recency', fontsize = 25)\n",
    "V4.set_ylabel('Number of customers', fontsize = 20)\n",
    "V4.set_xlabel('Recency Days', fontsize = 20)\n",
    "\n",
    "# Set font size of ticks on the x-axis and y-axis\n",
    "V4.tick_params(labelsize = 12, axis ='both')\n",
    "\n",
    "# Set tight layout for figure\n",
    "fig.tight_layout()\n",
    "\n",
    "# Display plot\n",
    "plt.show()"
   ]
  },
  {
   "cell_type": "code",
   "execution_count": null,
   "metadata": {},
   "outputs": [
    {
     "name": "stdout",
     "output_type": "stream",
     "text": [
      "RECENCY_DAYS where 70% of the customers are at: 13\n"
     ]
    }
   ],
   "source": [
    "# Find recency days based on percentage of customer (30%)\n",
    "\n",
    "# Sort the DataFrame by RECENCY_DAYS in ascending order\n",
    "customer_by_recency = customer_by_recency.sort_values('RECENCY_DAYS')\n",
    "\n",
    "# Calculate the cumulative sum of customer counts\n",
    "customer_by_recency['CUMULATIVE_COUNT'] = customer_by_recency['NO_OF_CUST'].cumsum()\n",
    "\n",
    "# Find the RECENCY_DAYS where 80% of the customers are at\n",
    "target_percentage = 0.7\n",
    "target_recency_days = None\n",
    "\n",
    "for index, row in customer_by_recency.iterrows():\n",
    "    if row['CUMULATIVE_COUNT'] >= target_percentage * customer_by_recency['NO_OF_CUST'].sum():\n",
    "        target_recency_days = row['RECENCY_DAYS']\n",
    "        break\n",
    "\n",
    "# Print the result\n",
    "print(\"RECENCY_DAYS where 70% of the customers are at:\", target_recency_days)"
   ]
  },
  {
   "cell_type": "code",
   "execution_count": null,
   "metadata": {},
   "outputs": [
    {
     "name": "stdout",
     "output_type": "stream",
     "text": [
      "Sum of customers where RECENCY_DAYS is below or equal to 13: 33053\n",
      "Sum of customers where RECENCY_DAYS is more than 13: 13247\n"
     ]
    }
   ],
   "source": [
    "# Sum of customers where RECENCY_DAYS is below or equal to 13\n",
    "sum_below_13 = customer_by_recency[customer_by_recency['RECENCY_DAYS'] <= 13]['NO_OF_CUST'].sum()\n",
    "\n",
    "# Sum of customers where RECENCY_DAYS is more than 13\n",
    "sum_above_13 = customer_by_recency[customer_by_recency['RECENCY_DAYS'] > 13]['NO_OF_CUST'].sum()\n",
    "\n",
    "# Print the results\n",
    "print(\"Sum of customers where RECENCY_DAYS is below or equal to 13:\", sum_below_13)\n",
    "print(\"Sum of customers where RECENCY_DAYS is more than 13:\", sum_above_13)"
   ]
  },
  {
   "attachments": {},
   "cell_type": "markdown",
   "metadata": {},
   "source": [
    "In food service industry, customer churn rates can range from 20% to 30% annually. For 70% of the customers, their recency days are at 13. Therefore, we round the recenecy days up to 14 days, which is 2 weeks to be considered churned.\n",
    "\n",
    "For this model, we would be predicting the days to next purchase for each customer. After predicting the days to next purchase, if it is more than 14 days, the customer is considered churned, else not churned."
   ]
  },
  {
   "attachments": {},
   "cell_type": "markdown",
   "metadata": {},
   "source": [
    "## 4. Data Preparation <a id=\"part4\"></a>"
   ]
  },
  {
   "cell_type": "code",
   "execution_count": null,
   "metadata": {},
   "outputs": [],
   "source": [
    "# Getting last order date\n",
    "lastest_transaction = order_header_df.agg(F.max(\"ORDER_TS\").alias(\"LAST_ORDER_TS\")).collect()[0][0]\n",
    "order_header_df = order_header_df.withColumn(\"LAST_DATE\", F.iff(F.col(\"CUSTOMER_ID\") == F.col(\"CUSTOMER_ID\"), lastest_transaction, lastest_transaction))"
   ]
  },
  {
   "cell_type": "code",
   "execution_count": null,
   "metadata": {},
   "outputs": [],
   "source": [
    "# Getting date for two weeks before last transaction date provided\n",
    "order_header_df = order_header_df.withColumn(\"two_weeks_before\", F.date_sub(\"LAST_DATE\", 14))"
   ]
  },
  {
   "cell_type": "code",
   "execution_count": null,
   "metadata": {},
   "outputs": [],
   "source": [
    "# Getting date for two weeks before last transaction date provided\n",
    "order_header_df = order_header_df.withColumn(\"two_weeks_before\", F.date_sub(\"LAST_DATE\", 14))"
   ]
  },
  {
   "cell_type": "code",
   "execution_count": null,
   "metadata": {},
   "outputs": [
    {
     "name": "stdout",
     "output_type": "stream",
     "text": [
      "--------------------------------------------------------------------------------------------------------------------------------------------------------------------------------------------------------------------------------------------------------------------------------------------------------------------------------------------------------\n",
      "|\"ORDER_ID\"  |\"TRUCK_ID\"  |\"LOCATION_ID\"  |\"CUSTOMER_ID\"  |\"DISCOUNT_ID\"  |\"SHIFT_ID\"  |\"SHIFT_START_TIME\"  |\"SHIFT_END_TIME\"  |\"ORDER_CHANNEL\"  |\"ORDER_TS\"           |\"SERVED_TS\"  |\"ORDER_CURRENCY\"  |\"ORDER_AMOUNT\"  |\"ORDER_TAX_AMOUNT\"  |\"ORDER_DISCOUNT_AMOUNT\"  |\"ORDER_TOTAL\"  |\"CUSTOMER_ID_US\"  |\"LAST_DATE\"          |\"TWO_WEEKS_BEFORE\"   |\n",
      "--------------------------------------------------------------------------------------------------------------------------------------------------------------------------------------------------------------------------------------------------------------------------------------------------------------------------------------------------------\n",
      "|451449961   |17          |1789.0         |194230         |NULL           |200540458   |08:00:00            |14:00:00          |NULL             |2022-04-01 11:34:38  |NULL         |USD               |6.0000          |NULL                |NULL                     |6.0000         |194230            |2022-11-01 22:58:56  |2022-10-18 22:58:56  |\n",
      "|451449972   |17          |1789.0         |131954         |NULL           |200540458   |08:00:00            |14:00:00          |NULL             |2022-04-01 11:48:30  |NULL         |USD               |27.0000         |NULL                |NULL                     |27.0000        |131954            |2022-11-01 22:58:56  |2022-10-18 22:58:56  |\n",
      "|451450013   |17          |1789.0         |125737         |NULL           |200540458   |08:00:00            |14:00:00          |NULL             |2022-04-01 12:52:11  |NULL         |USD               |42.0000         |NULL                |NULL                     |42.0000        |125737            |2022-11-01 22:58:56  |2022-10-18 22:58:56  |\n",
      "|451450086   |17          |14926.0        |95405          |NULL           |200540459   |15:00:00            |22:00:00          |NULL             |2022-04-01 17:17:42  |NULL         |USD               |87.0000         |NULL                |NULL                     |87.0000        |95405             |2022-11-01 22:58:56  |2022-10-18 22:58:56  |\n",
      "|451450198   |17          |14926.0        |40098          |NULL           |200540459   |15:00:00            |22:00:00          |NULL             |2022-04-01 20:03:25  |NULL         |USD               |33.0000         |NULL                |NULL                     |33.0000        |40098             |2022-11-01 22:58:56  |2022-10-18 22:58:56  |\n",
      "|451450243   |17          |14926.0        |172108         |NULL           |200540459   |15:00:00            |22:00:00          |NULL             |2022-04-01 21:37:14  |NULL         |USD               |56.0000         |NULL                |NULL                     |56.0000        |172108            |2022-11-01 22:58:56  |2022-10-18 22:58:56  |\n",
      "|451450270   |18          |3081.0         |49775          |NULL           |200540460   |08:00:00            |14:00:00          |NULL             |2022-04-01 08:33:28  |NULL         |USD               |12.5000         |NULL                |NULL                     |12.5000        |49775             |2022-11-01 22:58:56  |2022-10-18 22:58:56  |\n",
      "|451450279   |18          |3081.0         |124416         |NULL           |200540460   |08:00:00            |14:00:00          |NULL             |2022-04-01 08:48:45  |NULL         |USD               |41.5000         |NULL                |NULL                     |41.5000        |124416            |2022-11-01 22:58:56  |2022-10-18 22:58:56  |\n",
      "|451450315   |18          |3081.0         |85597          |NULL           |200540460   |08:00:00            |14:00:00          |NULL             |2022-04-01 09:29:50  |NULL         |USD               |58.5000         |NULL                |NULL                     |58.5000        |85597             |2022-11-01 22:58:56  |2022-10-18 22:58:56  |\n",
      "|451450317   |18          |3081.0         |51847          |NULL           |200540460   |08:00:00            |14:00:00          |NULL             |2022-04-01 09:31:28  |NULL         |USD               |70.5000         |NULL                |NULL                     |70.5000        |51847             |2022-11-01 22:58:56  |2022-10-18 22:58:56  |\n",
      "--------------------------------------------------------------------------------------------------------------------------------------------------------------------------------------------------------------------------------------------------------------------------------------------------------------------------------------------------------\n",
      "\n"
     ]
    }
   ],
   "source": [
    "# Display order_header_df\n",
    "order_header_df.show()"
   ]
  },
  {
   "attachments": {},
   "cell_type": "markdown",
   "metadata": {},
   "source": [
    "### 4.1 Getting first dataframe <a id=\"part4.1\"></a>"
   ]
  },
  {
   "cell_type": "code",
   "execution_count": null,
   "metadata": {},
   "outputs": [
    {
     "name": "stdout",
     "output_type": "stream",
     "text": [
      "--------------------------------------------------------------------------------------------------------------------------------------------------------------------------------------------------------------------------------------------------------------------------------------------------------------------------------------------------------\n",
      "|\"ORDER_ID\"  |\"TRUCK_ID\"  |\"LOCATION_ID\"  |\"CUSTOMER_ID\"  |\"DISCOUNT_ID\"  |\"SHIFT_ID\"  |\"SHIFT_START_TIME\"  |\"SHIFT_END_TIME\"  |\"ORDER_CHANNEL\"  |\"ORDER_TS\"           |\"SERVED_TS\"  |\"ORDER_CURRENCY\"  |\"ORDER_AMOUNT\"  |\"ORDER_TAX_AMOUNT\"  |\"ORDER_DISCOUNT_AMOUNT\"  |\"ORDER_TOTAL\"  |\"CUSTOMER_ID_US\"  |\"LAST_DATE\"          |\"TWO_WEEKS_BEFORE\"   |\n",
      "--------------------------------------------------------------------------------------------------------------------------------------------------------------------------------------------------------------------------------------------------------------------------------------------------------------------------------------------------------\n",
      "|451449961   |17          |1789.0         |194230         |NULL           |200540458   |08:00:00            |14:00:00          |NULL             |2022-04-01 11:34:38  |NULL         |USD               |6.0000          |NULL                |NULL                     |6.0000         |194230            |2022-11-01 22:58:56  |2022-10-18 22:58:56  |\n",
      "|451449972   |17          |1789.0         |131954         |NULL           |200540458   |08:00:00            |14:00:00          |NULL             |2022-04-01 11:48:30  |NULL         |USD               |27.0000         |NULL                |NULL                     |27.0000        |131954            |2022-11-01 22:58:56  |2022-10-18 22:58:56  |\n",
      "|451450013   |17          |1789.0         |125737         |NULL           |200540458   |08:00:00            |14:00:00          |NULL             |2022-04-01 12:52:11  |NULL         |USD               |42.0000         |NULL                |NULL                     |42.0000        |125737            |2022-11-01 22:58:56  |2022-10-18 22:58:56  |\n",
      "|451450086   |17          |14926.0        |95405          |NULL           |200540459   |15:00:00            |22:00:00          |NULL             |2022-04-01 17:17:42  |NULL         |USD               |87.0000         |NULL                |NULL                     |87.0000        |95405             |2022-11-01 22:58:56  |2022-10-18 22:58:56  |\n",
      "|451450198   |17          |14926.0        |40098          |NULL           |200540459   |15:00:00            |22:00:00          |NULL             |2022-04-01 20:03:25  |NULL         |USD               |33.0000         |NULL                |NULL                     |33.0000        |40098             |2022-11-01 22:58:56  |2022-10-18 22:58:56  |\n",
      "|451450243   |17          |14926.0        |172108         |NULL           |200540459   |15:00:00            |22:00:00          |NULL             |2022-04-01 21:37:14  |NULL         |USD               |56.0000         |NULL                |NULL                     |56.0000        |172108            |2022-11-01 22:58:56  |2022-10-18 22:58:56  |\n",
      "|451450270   |18          |3081.0         |49775          |NULL           |200540460   |08:00:00            |14:00:00          |NULL             |2022-04-01 08:33:28  |NULL         |USD               |12.5000         |NULL                |NULL                     |12.5000        |49775             |2022-11-01 22:58:56  |2022-10-18 22:58:56  |\n",
      "|451450279   |18          |3081.0         |124416         |NULL           |200540460   |08:00:00            |14:00:00          |NULL             |2022-04-01 08:48:45  |NULL         |USD               |41.5000         |NULL                |NULL                     |41.5000        |124416            |2022-11-01 22:58:56  |2022-10-18 22:58:56  |\n",
      "|451450315   |18          |3081.0         |85597          |NULL           |200540460   |08:00:00            |14:00:00          |NULL             |2022-04-01 09:29:50  |NULL         |USD               |58.5000         |NULL                |NULL                     |58.5000        |85597             |2022-11-01 22:58:56  |2022-10-18 22:58:56  |\n",
      "|451450317   |18          |3081.0         |51847          |NULL           |200540460   |08:00:00            |14:00:00          |NULL             |2022-04-01 09:31:28  |NULL         |USD               |70.5000         |NULL                |NULL                     |70.5000        |51847             |2022-11-01 22:58:56  |2022-10-18 22:58:56  |\n",
      "--------------------------------------------------------------------------------------------------------------------------------------------------------------------------------------------------------------------------------------------------------------------------------------------------------------------------------------------------------\n",
      "\n"
     ]
    }
   ],
   "source": [
    "# Get data till 2 weeks before last transaction date provided (first dataframe)\n",
    "order_df1 = order_header_df.filter(F.col(\"ORDER_TS\")<=F.col(\"TWO_WEEKS_BEFORE\"))\n",
    "order_df1.show()"
   ]
  },
  {
   "cell_type": "code",
   "execution_count": null,
   "metadata": {},
   "outputs": [
    {
     "name": "stdout",
     "output_type": "stream",
     "text": [
      "-----------------------\n",
      "|\"MIN(ORDER_TS)\"      |\n",
      "-----------------------\n",
      "|2019-01-01 17:19:08  |\n",
      "-----------------------\n",
      "\n",
      "-----------------------\n",
      "|\"MAX(ORDER_TS)\"      |\n",
      "-----------------------\n",
      "|2022-10-18 22:56:45  |\n",
      "-----------------------\n",
      "\n"
     ]
    }
   ],
   "source": [
    "# Ensure timeframe is correct\n",
    "order_df1.agg(F.min('ORDER_TS')).show()\n",
    "order_df1.agg(F.max('ORDER_TS')).show()"
   ]
  },
  {
   "cell_type": "code",
   "execution_count": null,
   "metadata": {},
   "outputs": [
    {
     "name": "stdout",
     "output_type": "stream",
     "text": [
      "---------------------------------------\n",
      "|\"CUSTOMER_ID\"  |\"LAST_ORDER_TS\"      |\n",
      "---------------------------------------\n",
      "|172289         |2022-10-12 20:00:46  |\n",
      "|78907          |2022-10-18 09:09:03  |\n",
      "|160383         |2022-10-18 19:24:40  |\n",
      "|61295          |2022-09-12 16:39:09  |\n",
      "|103028         |2022-10-18 21:22:57  |\n",
      "|65147          |2022-10-12 11:39:42  |\n",
      "|118051         |2022-10-10 09:30:54  |\n",
      "|168904         |2022-10-08 11:16:51  |\n",
      "|145789         |2022-10-17 18:45:50  |\n",
      "|150780         |2022-10-18 13:14:21  |\n",
      "---------------------------------------\n",
      "\n"
     ]
    }
   ],
   "source": [
    "# Getting the latest purchase date for each customer in df1\n",
    "customer_last_order_timestamp_df1 = order_df1.groupBy(\"CUSTOMER_ID\").agg(F.max(\"ORDER_TS\").alias(\"LAST_ORDER_TS\"))\n",
    "customer_last_order_timestamp_df1.show()"
   ]
  },
  {
   "cell_type": "code",
   "execution_count": null,
   "metadata": {},
   "outputs": [
    {
     "name": "stdout",
     "output_type": "stream",
     "text": [
      "-------------------------------------------------------------\n",
      "|\"CUSTOMER_ID\"  |\"LAST_ORDER_TS\"      |\"LAST_TRANS\"         |\n",
      "-------------------------------------------------------------\n",
      "|114606         |2022-09-29 20:30:58  |2022-10-18 22:56:45  |\n",
      "|134715         |2022-09-21 09:48:35  |2022-10-18 22:56:45  |\n",
      "|83979          |2022-10-18 20:30:54  |2022-10-18 22:56:45  |\n",
      "|29066          |2022-10-13 09:00:32  |2022-10-18 22:56:45  |\n",
      "|31252          |2022-09-22 20:29:44  |2022-10-18 22:56:45  |\n",
      "|68481          |2022-10-15 19:11:05  |2022-10-18 22:56:45  |\n",
      "|20166          |2022-09-15 09:10:26  |2022-10-18 22:56:45  |\n",
      "|6655           |2022-09-26 12:30:05  |2022-10-18 22:56:45  |\n",
      "|86934          |2022-10-13 12:44:37  |2022-10-18 22:56:45  |\n",
      "|142411         |2022-10-14 17:18:37  |2022-10-18 22:56:45  |\n",
      "-------------------------------------------------------------\n",
      "\n"
     ]
    }
   ],
   "source": [
    "# Getting last order date\n",
    "lastest_transaction_df1 = order_df1.agg(F.max(\"ORDER_TS\").alias(\"LAST_ORDER_TS\")).collect()[0][0]\n",
    "customer_last_order_timestamp_df1 = customer_last_order_timestamp_df1.withColumn(\"LAST_TRANS\", F.iff(F.col(\"CUSTOMER_ID\") == F.col(\"CUSTOMER_ID\"), lastest_transaction_df1, lastest_transaction_df1))\n",
    "customer_last_order_timestamp_df1.show()"
   ]
  },
  {
   "cell_type": "code",
   "execution_count": null,
   "metadata": {},
   "outputs": [
    {
     "name": "stdout",
     "output_type": "stream",
     "text": [
      "--------------------------------------------------------------------------\n",
      "|\"CUSTOMER_ID\"  |\"LAST_ORDER_TS\"      |\"LAST_TRANS\"         |\"DAYS_DF1\"  |\n",
      "--------------------------------------------------------------------------\n",
      "|83496          |2022-10-11 16:10:41  |2022-10-18 22:56:45  |7           |\n",
      "|179636         |2022-10-01 19:27:11  |2022-10-18 22:56:45  |17          |\n",
      "|39930          |2022-09-25 14:20:49  |2022-10-18 22:56:45  |23          |\n",
      "|164938         |2022-09-27 14:10:19  |2022-10-18 22:56:45  |21          |\n",
      "|176202         |2022-10-07 09:38:49  |2022-10-18 22:56:45  |11          |\n",
      "|114424         |2022-10-09 19:17:28  |2022-10-18 22:56:45  |9           |\n",
      "|71849          |2022-10-16 10:58:46  |2022-10-18 22:56:45  |2           |\n",
      "|163551         |2022-10-14 11:19:12  |2022-10-18 22:56:45  |4           |\n",
      "|150930         |2022-10-18 17:31:06  |2022-10-18 22:56:45  |0           |\n",
      "|176242         |2022-10-10 17:42:43  |2022-10-18 22:56:45  |8           |\n",
      "--------------------------------------------------------------------------\n",
      "\n"
     ]
    }
   ],
   "source": [
    "# Getting the date diff from customer last order to the date 2 weeks before the latest provided transaction date in df1\n",
    "customer_last_order_timestamp_df1 = customer_last_order_timestamp_df1.withColumn(\"days_df1\", F.datediff(\"day\", customer_last_order_timestamp_df1[\"LAST_ORDER_TS\"], customer_last_order_timestamp_df1[\"LAST_TRANS\"]))\n",
    "customer_last_order_timestamp_df1.show()"
   ]
  },
  {
   "attachments": {},
   "cell_type": "markdown",
   "metadata": {},
   "source": [
    "### 4.1.1 Calculating the days between the last 3 transactions <a id=\"part4.1.1\"></a>"
   ]
  },
  {
   "cell_type": "code",
   "execution_count": null,
   "metadata": {},
   "outputs": [
    {
     "name": "stdout",
     "output_type": "stream",
     "text": [
      "---------------------------------------\n",
      "|\"CUSTOMER_ID\"  |\"ORDER_TS\"           |\n",
      "---------------------------------------\n",
      "|22             |2022-06-11 20:14:09  |\n",
      "|22             |2022-08-24 18:22:41  |\n",
      "|22             |2022-07-02 20:00:39  |\n",
      "|22             |2022-10-06 18:41:33  |\n",
      "|22             |2022-09-14 11:40:41  |\n",
      "|22             |2022-08-02 19:21:20  |\n",
      "|22             |2022-05-15 13:21:44  |\n",
      "|22             |2022-10-08 19:29:13  |\n",
      "|22             |2022-09-29 20:37:56  |\n",
      "|22             |2022-09-07 21:16:19  |\n",
      "---------------------------------------\n",
      "\n"
     ]
    }
   ],
   "source": [
    "# create a dataframe with customer id and order datetime\n",
    "cust_order_dates = order_df1.sort(\"CUSTOMER_ID\")\n",
    "cust_order_dates = cust_order_dates.select(\"CUSTOMER_ID\", \"ORDER_TS\")\n",
    "cust_order_dates.show()"
   ]
  },
  {
   "cell_type": "code",
   "execution_count": null,
   "metadata": {},
   "outputs": [
    {
     "name": "stdout",
     "output_type": "stream",
     "text": [
      "--------------------------------\n",
      "|\"CUSTOMER_ID\"  |\"ORDER_DATE\"  |\n",
      "--------------------------------\n",
      "|22             |2022-07-02    |\n",
      "|22             |2022-06-11    |\n",
      "|22             |2022-10-06    |\n",
      "|22             |2022-09-14    |\n",
      "|22             |2022-08-24    |\n",
      "|22             |2022-10-08    |\n",
      "|22             |2022-05-15    |\n",
      "|22             |2022-08-02    |\n",
      "|22             |2022-09-29    |\n",
      "|22             |2022-09-07    |\n",
      "--------------------------------\n",
      "\n"
     ]
    }
   ],
   "source": [
    "# extract the date from the datetime\n",
    "cust_order_dates = cust_order_dates.withColumn('ORDER_DATE', to_date(col('ORDER_TS')))\n",
    "cust_order_dates = cust_order_dates.drop(\"ORDER_TS\")\n",
    "cust_order_dates.show()"
   ]
  },
  {
   "cell_type": "code",
   "execution_count": null,
   "metadata": {},
   "outputs": [
    {
     "name": "stdout",
     "output_type": "stream",
     "text": [
      "--------------------------------\n",
      "|\"CUSTOMER_ID\"  |\"ORDER_DATE\"  |\n",
      "--------------------------------\n",
      "|134393         |2021-09-23    |\n",
      "|134393         |2022-07-12    |\n",
      "|134411         |2022-09-13    |\n",
      "|134411         |2022-07-02    |\n",
      "|134406         |2021-06-01    |\n",
      "|134417         |2022-04-13    |\n",
      "|134417         |2020-07-02    |\n",
      "|134419         |2021-03-21    |\n",
      "|134419         |2020-11-29    |\n",
      "|134427         |2021-05-03    |\n",
      "--------------------------------\n",
      "\n"
     ]
    }
   ],
   "source": [
    "# drop duplicate rows --> some customers may make multiple transactions in a day\n",
    "cust_order_dates = cust_order_dates.dropDuplicates()\n",
    "cust_order_dates.show()"
   ]
  },
  {
   "cell_type": "code",
   "execution_count": null,
   "metadata": {},
   "outputs": [
    {
     "name": "stdout",
     "output_type": "stream",
     "text": [
      "--------------------------------\n",
      "|\"CUSTOMER_ID\"  |\"ORDER_DATE\"  |\n",
      "--------------------------------\n",
      "|22             |2022-10-17    |\n",
      "|22             |2022-10-15    |\n",
      "|22             |2022-10-08    |\n",
      "|22             |2022-10-06    |\n",
      "|22             |2022-09-29    |\n",
      "|22             |2022-09-14    |\n",
      "|22             |2022-09-07    |\n",
      "|22             |2022-08-24    |\n",
      "|22             |2022-08-02    |\n",
      "|22             |2022-07-02    |\n",
      "--------------------------------\n",
      "\n"
     ]
    }
   ],
   "source": [
    "# sort the order date by chronological order and by customer id\n",
    "cust_order_dates = cust_order_dates.sort([\"CUSTOMER_ID\", col(\"ORDER_DATE\").desc()])\n",
    "cust_order_dates.show()"
   ]
  },
  {
   "cell_type": "code",
   "execution_count": null,
   "metadata": {},
   "outputs": [
    {
     "name": "stdout",
     "output_type": "stream",
     "text": [
      "---------------------------\n",
      "|\"CUSTOMER_ID\"  |\"COUNT\"  |\n",
      "---------------------------\n",
      "|               |         |\n",
      "---------------------------\n",
      "\n"
     ]
    }
   ],
   "source": [
    "# find out which customers have less than 3 transactions made on different days\n",
    "cust_order_dates.groupBy(\"CUSTOMER_ID\").count().filter(col(\"COUNT\") < 3).show()"
   ]
  },
  {
   "cell_type": "code",
   "execution_count": null,
   "metadata": {},
   "outputs": [
    {
     "name": "stdout",
     "output_type": "stream",
     "text": [
      "------------------------------------------------------------------\n",
      "|\"CUSTOMER_ID\"  |\"ORDER_DATE\"  |\"ORDER_DATE_2\"  |\"ORDER_DATE_3\"  |\n",
      "------------------------------------------------------------------\n",
      "|22             |2022-10-17    |NULL            |NULL            |\n",
      "|22             |2022-10-15    |2022-10-17      |NULL            |\n",
      "|22             |2022-10-08    |2022-10-15      |2022-10-17      |\n",
      "|22             |2022-10-06    |2022-10-08      |2022-10-15      |\n",
      "|22             |2022-09-29    |2022-10-06      |2022-10-08      |\n",
      "|22             |2022-09-14    |2022-09-29      |2022-10-06      |\n",
      "|22             |2022-09-07    |2022-09-14      |2022-09-29      |\n",
      "|22             |2022-08-24    |2022-09-07      |2022-09-14      |\n",
      "|22             |2022-08-02    |2022-08-24      |2022-09-07      |\n",
      "|22             |2022-07-02    |2022-08-02      |2022-08-24      |\n",
      "------------------------------------------------------------------\n",
      "\n"
     ]
    }
   ],
   "source": [
    "# since no customers have less than 3 transactions made on different days, get the dates of the last 3 transactions of each customer\n",
    "\n",
    "# partition the data by customer id and order it by descending order of the date \n",
    "partition = Window.partitionBy(\"CUSTOMER_ID\").orderBy(col(\"ORDER_DATE\").desc)\n",
    "\n",
    "# using lag, get the previous 2 dates and place it into a new column \n",
    "cust_order_dates = cust_order_dates.withColumn(\"ORDER_DATE_2\", F.lag(col(\"ORDER_DATE\"), 1).over(Window.partitionBy(\"CUSTOMER_ID\").orderBy(desc(\"ORDER_DATE\"))))\n",
    "cust_order_dates = cust_order_dates.withColumn(\"ORDER_DATE_3\", F.lag(col(\"ORDER_DATE\"), 2).over(Window.partitionBy(\"CUSTOMER_ID\").orderBy(desc(\"ORDER_DATE\"))))\n",
    "\n",
    "cust_order_dates.show()"
   ]
  },
  {
   "cell_type": "code",
   "execution_count": null,
   "metadata": {},
   "outputs": [
    {
     "name": "stdout",
     "output_type": "stream",
     "text": [
      "------------------------------------------------------------------\n",
      "|\"CUSTOMER_ID\"  |\"ORDER_DATE\"  |\"ORDER_DATE_2\"  |\"ORDER_DATE_3\"  |\n",
      "------------------------------------------------------------------\n",
      "|69502          |2022-07-30    |2022-08-08      |2022-08-10      |\n",
      "|69502          |2022-07-23    |2022-07-30      |2022-08-08      |\n",
      "|69502          |2022-07-13    |2022-07-23      |2022-07-30      |\n",
      "|69502          |2022-06-30    |2022-07-13      |2022-07-23      |\n",
      "|69502          |2022-04-14    |2022-06-30      |2022-07-13      |\n",
      "|69502          |2022-04-07    |2022-04-14      |2022-06-30      |\n",
      "|69502          |2022-03-25    |2022-04-07      |2022-04-14      |\n",
      "|69502          |2022-02-11    |2022-03-25      |2022-04-07      |\n",
      "|69502          |2022-01-23    |2022-02-11      |2022-03-25      |\n",
      "|69502          |2022-01-20    |2022-01-23      |2022-02-11      |\n",
      "------------------------------------------------------------------\n",
      "\n"
     ]
    }
   ],
   "source": [
    "# drop rows with null\n",
    "cust_order_dates = cust_order_dates.dropna()\n",
    "cust_order_dates.show()"
   ]
  },
  {
   "cell_type": "code",
   "execution_count": null,
   "metadata": {},
   "outputs": [
    {
     "name": "stdout",
     "output_type": "stream",
     "text": [
      "------------------------------------------------------------------\n",
      "|\"CUSTOMER_ID\"  |\"ORDER_DATE\"  |\"ORDER_DATE_2\"  |\"ORDER_DATE_3\"  |\n",
      "------------------------------------------------------------------\n",
      "|86408          |2022-10-04    |2022-10-06      |2022-10-16      |\n",
      "|99916          |2022-09-17    |2022-09-24      |2022-10-10      |\n",
      "|184269         |2022-09-20    |2022-09-24      |2022-09-28      |\n",
      "|165798         |2022-07-14    |2022-08-06      |2022-08-09      |\n",
      "|177241         |2022-10-01    |2022-10-04      |2022-10-12      |\n",
      "|197592         |2022-10-13    |2022-10-14      |2022-10-17      |\n",
      "|53294          |2022-09-29    |2022-10-05      |2022-10-13      |\n",
      "|45392          |2022-09-18    |2022-10-04      |2022-10-15      |\n",
      "|156426         |2022-09-07    |2022-10-14      |2022-10-17      |\n",
      "|120006         |2022-09-23    |2022-10-07      |2022-10-08      |\n",
      "------------------------------------------------------------------\n",
      "\n"
     ]
    }
   ],
   "source": [
    "# choose only the top row for each customer id and put it into a new dataframe\n",
    "windowSpec = Window.partitionBy(\"CUSTOMER_ID\").orderBy(desc(\"ORDER_DATE\"))\n",
    "\n",
    "past3_trans = cust_order_dates.withColumn(\"row_number\", row_number().over(windowSpec)).filter(col(\"row_number\") == 1).drop(\"row_number\")\n",
    "\n",
    "past3_trans.show()"
   ]
  },
  {
   "cell_type": "code",
   "execution_count": null,
   "metadata": {},
   "outputs": [
    {
     "name": "stdout",
     "output_type": "stream",
     "text": [
      "----------------------------------------------------------------------------------------------------------\n",
      "|\"CUSTOMER_ID\"  |\"ORDER_DATE\"  |\"ORDER_DATE_2\"  |\"ORDER_DATE_3\"  |\"TRANS_DATEDIFF1\"  |\"TRANS_DATEDIFF2\"  |\n",
      "----------------------------------------------------------------------------------------------------------\n",
      "|86408          |2022-10-04    |2022-10-06      |2022-10-16      |2                  |10                 |\n",
      "|99916          |2022-09-17    |2022-09-24      |2022-10-10      |7                  |16                 |\n",
      "|184269         |2022-09-20    |2022-09-24      |2022-09-28      |4                  |4                  |\n",
      "|165798         |2022-07-14    |2022-08-06      |2022-08-09      |23                 |3                  |\n",
      "|177241         |2022-10-01    |2022-10-04      |2022-10-12      |3                  |8                  |\n",
      "|197592         |2022-10-13    |2022-10-14      |2022-10-17      |1                  |3                  |\n",
      "|53294          |2022-09-29    |2022-10-05      |2022-10-13      |6                  |8                  |\n",
      "|45392          |2022-09-18    |2022-10-04      |2022-10-15      |16                 |11                 |\n",
      "|156426         |2022-09-07    |2022-10-14      |2022-10-17      |37                 |3                  |\n",
      "|120006         |2022-09-23    |2022-10-07      |2022-10-08      |14                 |1                  |\n",
      "----------------------------------------------------------------------------------------------------------\n",
      "\n"
     ]
    }
   ],
   "source": [
    "# calculate the date difference between each order date\n",
    "past3_trans = past3_trans.withColumn(\"TRANS_DATEDIFF1\", F.datediff(\"day\", past3_trans[\"ORDER_DATE\"], past3_trans[\"ORDER_DATE_2\"]))\n",
    "past3_trans = past3_trans.withColumn(\"TRANS_DATEDIFF2\", F.datediff(\"day\", past3_trans[\"ORDER_DATE_2\"], past3_trans[\"ORDER_DATE_3\"]))\n",
    "\n",
    "past3_trans.show()\n"
   ]
  },
  {
   "cell_type": "code",
   "execution_count": null,
   "metadata": {},
   "outputs": [
    {
     "name": "stdout",
     "output_type": "stream",
     "text": [
      "------------------------------------------------------------------------------------------------------------------\n",
      "|\"CUSTOMER_ID\"  |\"LAST_ORDER_TS\"      |\"LAST_TRANS\"         |\"DAYS_DF1\"  |\"TRANS_DATEDIFF1\"  |\"TRANS_DATEDIFF2\"  |\n",
      "------------------------------------------------------------------------------------------------------------------\n",
      "|134522         |2022-10-14 08:41:41  |2022-10-18 22:56:45  |4           |12                 |20                 |\n",
      "|134524         |2022-10-11 09:20:07  |2022-10-18 22:56:45  |7           |38                 |14                 |\n",
      "|134528         |2022-10-06 20:31:24  |2022-10-18 22:56:45  |12          |7                  |3                  |\n",
      "|134530         |2022-10-01 20:15:31  |2022-10-18 22:56:45  |17          |9                  |4                  |\n",
      "|134543         |2022-10-14 15:56:06  |2022-10-18 22:56:45  |4           |16                 |10                 |\n",
      "|134545         |2022-10-18 18:32:14  |2022-10-18 22:56:45  |0           |20                 |5                  |\n",
      "|134548         |2022-09-15 09:18:52  |2022-10-18 22:56:45  |33          |14                 |5                  |\n",
      "|134550         |2022-10-18 09:11:41  |2022-10-18 22:56:45  |0           |19                 |13                 |\n",
      "|134552         |2022-10-16 19:57:54  |2022-10-18 22:56:45  |2           |10                 |9                  |\n",
      "|134561         |2022-10-18 17:07:57  |2022-10-18 22:56:45  |0           |18                 |10                 |\n",
      "------------------------------------------------------------------------------------------------------------------\n",
      "\n"
     ]
    }
   ],
   "source": [
    "# merge the dataframe with the past 3 transactions with the first dataframe\n",
    "\n",
    "past3_trans = past3_trans.select(\"CUSTOMER_ID\", \"TRANS_DATEDIFF1\", \"TRANS_DATEDIFF2\")\n",
    "\n",
    "customer_last_order_timestamp_df1 = customer_last_order_timestamp_df1.join(past3_trans, \n",
    "                                customer_last_order_timestamp_df1.CUSTOMER_ID==past3_trans.CUSTOMER_ID, lsuffix=\"\", rsuffix=\"_PAST3_TRANS\")\n",
    "\n",
    "customer_last_order_timestamp_df1 = customer_last_order_timestamp_df1.drop(\"CUSTOMER_ID_PAST3_TRANS\")\n",
    "\n",
    "customer_last_order_timestamp_df1.show()"
   ]
  },
  {
   "attachments": {},
   "cell_type": "markdown",
   "metadata": {},
   "source": [
    "#### 4.1.2 Calculation of Average Days between Purchases <a id=\"part4.1.2\"></a>"
   ]
  },
  {
   "cell_type": "code",
   "execution_count": null,
   "metadata": {},
   "outputs": [
    {
     "name": "stdout",
     "output_type": "stream",
     "text": [
      "---------------------------------------\n",
      "|\"CUSTOMER_ID\"  |\"AVG(DAYS_BETWEEN)\"  |\n",
      "---------------------------------------\n",
      "|22             |29.785714            |\n",
      "|42             |33.864865            |\n",
      "|59             |33.486486            |\n",
      "|65             |29.095238            |\n",
      "|106            |23.765957            |\n",
      "|118            |29.540541            |\n",
      "|166            |19.214286            |\n",
      "|176            |28.718750            |\n",
      "|189            |26.829787            |\n",
      "|204            |28.823529            |\n",
      "---------------------------------------\n",
      "\n"
     ]
    }
   ],
   "source": [
    "# Finding the average days between purchase for each customer\n",
    "customer_order_times = order_df1.sort(col(\"CUSTOMER_ID\"), col(\"ORDER_TS\"))\n",
    "customer_order_times = customer_order_times.withColumn(\"prev_order_date\", F.lag(col(\"ORDER_TS\"), 1).over(Window.partitionBy(\"CUSTOMER_ID\").orderBy(\"ORDER_TS\"))).withColumn(\"days_between\", F.datediff('day', col(\"prev_order_date\"), col(\"ORDER_TS\")))\n",
    "customer_average_days = customer_order_times.groupBy(\"CUSTOMER_ID\").avg(\"days_between\")\n",
    "customer_average_days = customer_average_days.sort(col('CUSTOMER_ID'))\n",
    "customer_average_days.show()"
   ]
  },
  {
   "cell_type": "code",
   "execution_count": null,
   "metadata": {},
   "outputs": [
    {
     "name": "stdout",
     "output_type": "stream",
     "text": [
      "------------------------------------------------------------------------------------------------------------------------------------------\n",
      "|\"CUSTOMER_ID\"  |\"AVG(DAYS_BETWEEN)\"  |\"CUSTOMER_ID_AVG_DAYS_WITHOUT_PURCHASE\"  |\"LAST_ORDER_TS\"      |\"LAST_TRANS\"         |\"DAYS_DF1\"  |\n",
      "------------------------------------------------------------------------------------------------------------------------------------------\n",
      "|133511         |19.446429            |133511                                   |2022-10-17 12:14:53  |2022-10-18 22:56:45  |1           |\n",
      "|133519         |18.709677            |133519                                   |2022-10-17 15:55:07  |2022-10-18 22:56:45  |1           |\n",
      "|133520         |22.268293            |133520                                   |2022-10-01 11:54:33  |2022-10-18 22:56:45  |17          |\n",
      "|133521         |15.630769            |133521                                   |2022-10-14 21:32:05  |2022-10-18 22:56:45  |4           |\n",
      "|133522         |21.723404            |133522                                   |2022-09-06 13:39:16  |2022-10-18 22:56:45  |42          |\n",
      "|133525         |28.761905            |133525                                   |2022-09-18 09:43:00  |2022-10-18 22:56:45  |30          |\n",
      "|133527         |18.730159            |133527                                   |2022-10-06 21:00:12  |2022-10-18 22:56:45  |12          |\n",
      "|133530         |18.216667            |133530                                   |2022-10-10 19:29:26  |2022-10-18 22:56:45  |8           |\n",
      "|133532         |16.200000            |133532                                   |2022-09-26 12:53:33  |2022-10-18 22:56:45  |22          |\n",
      "|133533         |16.228070            |133533                                   |2022-10-16 17:45:31  |2022-10-18 22:56:45  |2           |\n",
      "------------------------------------------------------------------------------------------------------------------------------------------\n",
      "\n"
     ]
    }
   ],
   "source": [
    "# Adding the average days between purchase into customer_last_order_timestamp_df1\n",
    "customer_last_order_timestamp_df1 = customer_average_days.join(customer_last_order_timestamp_df1, \n",
    "                                customer_last_order_timestamp_df1.CUSTOMER_ID==customer_average_days.CUSTOMER_ID, lsuffix=\"\", rsuffix=\"_AVG_DAYS_WITHOUT_PURCHASE\")\n",
    "customer_last_order_timestamp_df1.show()"
   ]
  },
  {
   "attachments": {},
   "cell_type": "markdown",
   "metadata": {},
   "source": [
    "### 4.1.3 Calculation the Minimum Number of Days without Customer Purchase <a id=\"part4.1.3\"></a>"
   ]
  },
  {
   "cell_type": "code",
   "execution_count": null,
   "metadata": {},
   "outputs": [
    {
     "name": "stdout",
     "output_type": "stream",
     "text": [
      "---------------------------------------\n",
      "|\"CUSTOMER_ID\"  |\"MIN(DAYS_BETWEEN)\"  |\n",
      "---------------------------------------\n",
      "|22             |1                    |\n",
      "|42             |1                    |\n",
      "|59             |1                    |\n",
      "|65             |2                    |\n",
      "|106            |1                    |\n",
      "|118            |1                    |\n",
      "|166            |1                    |\n",
      "|176            |1                    |\n",
      "|189            |1                    |\n",
      "|204            |3                    |\n",
      "---------------------------------------\n",
      "\n"
     ]
    }
   ],
   "source": [
    "# Finding the minimum days without purchase for each customer\n",
    "customer_min_days = customer_order_times.groupBy(\"CUSTOMER_ID\").min(\"days_between\")\n",
    "customer_min_days = customer_min_days.sort(col('CUSTOMER_ID'))\n",
    "customer_min_days.show()"
   ]
  },
  {
   "cell_type": "code",
   "execution_count": null,
   "metadata": {},
   "outputs": [
    {
     "name": "stdout",
     "output_type": "stream",
     "text": [
      "----------------------------------------------------------------------------------------------------------------------------------------------------------------------------------------------------------\n",
      "|\"CUSTOMER_ID\"  |\"MIN(DAYS_BETWEEN)\"  |\"CUSTOMER_ID_MIN_DAYS_WITHOUT_PURCHASE\"  |\"AVG(DAYS_BETWEEN)\"  |\"CUSTOMER_ID_AVG_DAYS_WITHOUT_PURCHASE\"  |\"LAST_ORDER_TS\"      |\"LAST_TRANS\"         |\"DAYS_DF1\"  |\n",
      "----------------------------------------------------------------------------------------------------------------------------------------------------------------------------------------------------------\n",
      "|111603         |2                    |111603                                   |19.810345            |111603                                   |2022-10-14 20:38:01  |2022-10-18 22:56:45  |4           |\n",
      "|111607         |1                    |111607                                   |28.302326            |111607                                   |2022-10-05 10:44:12  |2022-10-18 22:56:45  |13          |\n",
      "|111616         |1                    |111616                                   |20.055556            |111616                                   |2022-10-12 16:35:52  |2022-10-18 22:56:45  |6           |\n",
      "|111621         |1                    |111621                                   |41.062500            |111621                                   |2022-10-15 20:45:28  |2022-10-18 22:56:45  |3           |\n",
      "|111622         |1                    |111622                                   |20.625000            |111622                                   |2022-10-13 10:13:29  |2022-10-18 22:56:45  |5           |\n",
      "|111623         |1                    |111623                                   |21.549020            |111623                                   |2022-10-18 08:30:25  |2022-10-18 22:56:45  |0           |\n",
      "|111625         |1                    |111625                                   |20.591837            |111625                                   |2022-10-16 21:04:57  |2022-10-18 22:56:45  |2           |\n",
      "|111627         |1                    |111627                                   |20.079365            |111627                                   |2022-10-14 10:27:46  |2022-10-18 22:56:45  |4           |\n",
      "|111628         |1                    |111628                                   |15.269841            |111628                                   |2022-10-15 20:42:25  |2022-10-18 22:56:45  |3           |\n",
      "|111632         |1                    |111632                                   |29.095238            |111632                                   |2022-10-13 08:44:52  |2022-10-18 22:56:45  |5           |\n",
      "----------------------------------------------------------------------------------------------------------------------------------------------------------------------------------------------------------\n",
      "\n"
     ]
    }
   ],
   "source": [
    "# Adding the minimum number of days without purchase into customer_last_order_timestamp_df1\n",
    "customer_last_order_timestamp_df1 = customer_min_days.join(customer_last_order_timestamp_df1, \n",
    "                                customer_last_order_timestamp_df1.CUSTOMER_ID==customer_min_days.CUSTOMER_ID, lsuffix=\"\", rsuffix=\"_MIN_DAYS_WITHOUT_PURCHASE\")\n",
    "customer_last_order_timestamp_df1.show()"
   ]
  },
  {
   "attachments": {},
   "cell_type": "markdown",
   "metadata": {},
   "source": [
    "### 4.1.4 Calculation the Maximum Number of Days without Customer Purchase <a id=\"part4.1.4\"></a>"
   ]
  },
  {
   "cell_type": "code",
   "execution_count": null,
   "metadata": {},
   "outputs": [
    {
     "name": "stdout",
     "output_type": "stream",
     "text": [
      "---------------------------------------\n",
      "|\"CUSTOMER_ID\"  |\"MAX(DAYS_BETWEEN)\"  |\n",
      "---------------------------------------\n",
      "|22             |173                  |\n",
      "|42             |167                  |\n",
      "|59             |390                  |\n",
      "|65             |207                  |\n",
      "|106            |158                  |\n",
      "|118            |158                  |\n",
      "|166            |119                  |\n",
      "|176            |139                  |\n",
      "|189            |164                  |\n",
      "|204            |172                  |\n",
      "---------------------------------------\n",
      "\n"
     ]
    }
   ],
   "source": [
    "# Finding the maximum days without purchase for each customer\n",
    "customer_max_days = customer_order_times.groupBy(\"CUSTOMER_ID\").max(\"days_between\")\n",
    "customer_max_days = customer_max_days.sort(col('CUSTOMER_ID'))\n",
    "customer_max_days.show()"
   ]
  },
  {
   "cell_type": "code",
   "execution_count": null,
   "metadata": {},
   "outputs": [
    {
     "name": "stdout",
     "output_type": "stream",
     "text": [
      "--------------------------------------------------------------------------------------------------------------------------------------------------------------------------------------------------------------------------------------------------------------------------\n",
      "|\"CUSTOMER_ID\"  |\"MAX(DAYS_BETWEEN)\"  |\"CUSTOMER_ID_MAX_DAYS_WITHOUT_PURCHASE\"  |\"MIN(DAYS_BETWEEN)\"  |\"CUSTOMER_ID_MIN_DAYS_WITHOUT_PURCHASE\"  |\"AVG(DAYS_BETWEEN)\"  |\"CUSTOMER_ID_AVG_DAYS_WITHOUT_PURCHASE\"  |\"LAST_ORDER_TS\"      |\"LAST_TRANS\"         |\"DAYS_DF1\"  |\n",
      "--------------------------------------------------------------------------------------------------------------------------------------------------------------------------------------------------------------------------------------------------------------------------\n",
      "|67499          |62                   |67499                                    |1                    |67499                                    |18.980392            |67499                                    |2022-10-06 16:46:39  |2022-10-18 22:56:45  |12          |\n",
      "|67501          |133                  |67501                                    |1                    |67501                                    |21.382979            |67501                                    |2022-10-02 13:00:50  |2022-10-18 22:56:45  |16          |\n",
      "|67502          |149                  |67502                                    |2                    |67502                                    |27.913043            |67502                                    |2022-10-10 12:06:21  |2022-10-18 22:56:45  |8           |\n",
      "|67503          |81                   |67503                                    |1                    |67503                                    |24.590909            |67503                                    |2022-10-16 18:51:46  |2022-10-18 22:56:45  |2           |\n",
      "|67507          |545                  |67507                                    |1                    |67507                                    |41.843750            |67507                                    |2022-10-18 09:07:57  |2022-10-18 22:56:45  |0           |\n",
      "|67509          |83                   |67509                                    |1                    |67509                                    |13.720588            |67509                                    |2022-10-17 22:02:40  |2022-10-18 22:56:45  |1           |\n",
      "|67516          |263                  |67516                                    |2                    |67516                                    |32.268293            |67516                                    |2022-10-18 21:56:03  |2022-10-18 22:56:45  |0           |\n",
      "|67519          |233                  |67519                                    |1                    |67519                                    |33.475000            |67519                                    |2022-10-07 20:02:48  |2022-10-18 22:56:45  |11          |\n",
      "|67521          |119                  |67521                                    |1                    |67521                                    |21.553191            |67521                                    |2022-09-01 16:30:58  |2022-10-18 22:56:45  |47          |\n",
      "|67529          |122                  |67529                                    |1                    |67529                                    |20.920000            |67529                                    |2022-10-04 13:04:11  |2022-10-18 22:56:45  |14          |\n",
      "--------------------------------------------------------------------------------------------------------------------------------------------------------------------------------------------------------------------------------------------------------------------------\n",
      "\n"
     ]
    }
   ],
   "source": [
    "# Adding the maximum number of days without purchase into customer_last_order_timestamp_df1\n",
    "customer_last_order_timestamp_df1 = customer_max_days.join(customer_last_order_timestamp_df1, \n",
    "                                customer_last_order_timestamp_df1.CUSTOMER_ID==customer_max_days.CUSTOMER_ID, lsuffix=\"\", rsuffix=\"_MAX_DAYS_WITHOUT_PURCHASE\")\n",
    "customer_last_order_timestamp_df1.show()"
   ]
  },
  {
   "cell_type": "code",
   "execution_count": null,
   "metadata": {},
   "outputs": [
    {
     "name": "stdout",
     "output_type": "stream",
     "text": [
      "--------------------------------------------------------------------------------------------------------------------------------------------\n",
      "|\"CUSTOMER_ID\"  |\"MAX(DAYS_BETWEEN)\"  |\"MIN(DAYS_BETWEEN)\"  |\"AVG(DAYS_BETWEEN)\"  |\"LAST_ORDER_TS\"      |\"LAST_TRANS\"         |\"DAYS_DF1\"  |\n",
      "--------------------------------------------------------------------------------------------------------------------------------------------\n",
      "|111623         |104                  |1                    |21.549020            |2022-10-18 08:30:25  |2022-10-18 22:56:45  |0           |\n",
      "|111625         |138                  |1                    |20.591837            |2022-10-16 21:04:57  |2022-10-18 22:56:45  |2           |\n",
      "|111627         |170                  |1                    |20.079365            |2022-10-14 10:27:46  |2022-10-18 22:56:45  |4           |\n",
      "|111628         |71                   |1                    |15.269841            |2022-10-15 20:42:25  |2022-10-18 22:56:45  |3           |\n",
      "|111632         |188                  |1                    |29.095238            |2022-10-13 08:44:52  |2022-10-18 22:56:45  |5           |\n",
      "|111635         |118                  |1                    |20.583333            |2022-10-10 20:03:36  |2022-10-18 22:56:45  |8           |\n",
      "|111639         |253                  |1                    |17.677419            |2022-10-13 12:07:11  |2022-10-18 22:56:45  |5           |\n",
      "|111644         |155                  |1                    |17.824561            |2022-10-08 13:01:55  |2022-10-18 22:56:45  |10          |\n",
      "|111646         |91                   |1                    |19.039216            |2022-10-10 13:33:10  |2022-10-18 22:56:45  |8           |\n",
      "|111650         |128                  |1                    |22.285714            |2022-09-30 20:33:57  |2022-10-18 22:56:45  |18          |\n",
      "--------------------------------------------------------------------------------------------------------------------------------------------\n",
      "\n"
     ]
    }
   ],
   "source": [
    "# Dropping of irrelevant and unnecessary columns that have been introduced during joining of dataframes in previous steps\n",
    "customer_last_order_timestamp_df1 = customer_last_order_timestamp_df1.drop([\"CUSTOMER_ID_MAX_DAYS_WITHOUT_PURCHASE\", \"CUSTOMER_ID_MIN_DAYS_WITHOUT_PURCHASE\", \"CUSTOMER_ID_AVG_DAYS_WITHOUT_PURCHASE\"])\n",
    "customer_last_order_timestamp_df1.show(10)"
   ]
  },
  {
   "attachments": {},
   "cell_type": "markdown",
   "metadata": {},
   "source": [
    "### 4.1.5 Recency <a id=\"part4.1.5\"></a>\n",
    "\n",
    "To calculate the recency of orders for each customer, we will take the last order timestamp of the customer minus the current date identified. "
   ]
  },
  {
   "cell_type": "code",
   "execution_count": null,
   "metadata": {},
   "outputs": [
    {
     "name": "stdout",
     "output_type": "stream",
     "text": [
      "-------------------------------------------------------------------------------------------------------------------------------------------------------------\n",
      "|\"CUSTOMER_ID\"  |\"MAX(DAYS_BETWEEN)\"  |\"MIN(DAYS_BETWEEN)\"  |\"AVG(DAYS_BETWEEN)\"  |\"LAST_ORDER_TS\"      |\"LAST_TRANS\"         |\"DAYS_DF1\"  |\"RECENCY_DAYS\"  |\n",
      "-------------------------------------------------------------------------------------------------------------------------------------------------------------\n",
      "|89831          |68                   |1                    |18.557377            |2022-10-15 18:17:05  |2022-10-18 22:56:45  |3           |3               |\n",
      "|89839          |75                   |1                    |16.842105            |2022-10-10 13:31:11  |2022-10-18 22:56:45  |8           |8               |\n",
      "|89843          |77                   |1                    |22.764706            |2022-10-18 20:29:28  |2022-10-18 22:56:45  |0           |0               |\n",
      "|89847          |113                  |1                    |18.640625            |2022-10-16 16:43:09  |2022-10-18 22:56:45  |2           |2               |\n",
      "|89853          |64                   |1                    |17.071429            |2022-10-08 10:02:43  |2022-10-18 22:56:45  |10          |10              |\n",
      "|89856          |132                  |1                    |21.681818            |2022-08-25 13:53:31  |2022-10-18 22:56:45  |54          |54              |\n",
      "|89857          |126                  |1                    |15.015873            |2022-10-11 09:56:02  |2022-10-18 22:56:45  |7           |7               |\n",
      "|89860          |92                   |1                    |17.385714            |2022-10-14 08:52:11  |2022-10-18 22:56:45  |4           |4               |\n",
      "|89861          |134                  |1                    |23.283019            |2022-09-15 20:32:43  |2022-10-18 22:56:45  |33          |33              |\n",
      "|89864          |95                   |1                    |21.612245            |2022-09-12 20:14:32  |2022-10-18 22:56:45  |36          |36              |\n",
      "-------------------------------------------------------------------------------------------------------------------------------------------------------------\n",
      "\n"
     ]
    }
   ],
   "source": [
    "# Creating a new dataframe and adding column with current date as the latest \n",
    "# transaction timestamp identified previously \n",
    "\n",
    "# Calculate recency days\n",
    "customer_recency = customer_last_order_timestamp_df1.with_column(\"RECENCY_DAYS\", F.datediff('day', customer_last_order_timestamp_df1[\"LAST_ORDER_TS\"], customer_last_order_timestamp_df1[\"LAST_TRANS\"]))\n",
    "customer_recency.show()"
   ]
  },
  {
   "cell_type": "code",
   "execution_count": null,
   "metadata": {},
   "outputs": [],
   "source": [
    "# Calculating the number of days since a customer bought from Tasty Bytes based \n",
    "# on the date difference between the current date and last order timestamp and \n",
    "# adding it into the customer_recency data frame\n",
    "\n",
    "temp_customer_recency = customer_recency.select('CUSTOMER_ID','RECENCY_DAYS')\n",
    "\n",
    "# Joining customer_recency and customer_df to make a new data frame which will be used for clustering\n",
    "customer_last_order_timestamp_df1 = temp_customer_recency.join(customer_last_order_timestamp_df1, \n",
    "                                customer_last_order_timestamp_df1.CUSTOMER_ID==temp_customer_recency.CUSTOMER_ID, lsuffix=\"\", rsuffix=\"_RECENCY\")"
   ]
  },
  {
   "cell_type": "code",
   "execution_count": null,
   "metadata": {},
   "outputs": [
    {
     "name": "stdout",
     "output_type": "stream",
     "text": [
      "-------------------------------------------------------------------------------------------------------------------------------------------------------------------------------------\n",
      "|\"CUSTOMER_ID\"  |\"RECENCY_DAYS\"  |\"CUSTOMER_ID_RECENCY\"  |\"MAX(DAYS_BETWEEN)\"  |\"MIN(DAYS_BETWEEN)\"  |\"AVG(DAYS_BETWEEN)\"  |\"LAST_ORDER_TS\"      |\"LAST_TRANS\"         |\"DAYS_DF1\"  |\n",
      "-------------------------------------------------------------------------------------------------------------------------------------------------------------------------------------\n",
      "|177852         |0               |177852                 |128                  |1                    |21.365385            |2022-10-18 13:33:30  |2022-10-18 22:56:45  |0           |\n",
      "|177860         |5               |177860                 |52                   |1                    |15.854839            |2022-10-13 10:28:22  |2022-10-18 22:56:45  |5           |\n",
      "|177861         |2               |177861                 |70                   |1                    |15.045455            |2022-10-16 09:41:02  |2022-10-18 22:56:45  |2           |\n",
      "|177866         |2               |177866                 |71                   |1                    |16.828125            |2022-10-16 19:27:42  |2022-10-18 22:56:45  |2           |\n",
      "|177867         |12              |177867                 |74                   |1                    |16.692308            |2022-10-06 12:21:20  |2022-10-18 22:56:45  |12          |\n",
      "|177868         |1               |177868                 |173                  |1                    |19.137255            |2022-10-17 12:09:56  |2022-10-18 22:56:45  |1           |\n",
      "|177871         |5               |177871                 |118                  |1                    |22.423077            |2022-10-13 09:15:47  |2022-10-18 22:56:45  |5           |\n",
      "|177872         |18              |177872                 |72                   |1                    |14.954545            |2022-09-30 20:51:53  |2022-10-18 22:56:45  |18          |\n",
      "|177873         |3               |177873                 |132                  |1                    |18.272727            |2022-10-15 16:09:33  |2022-10-18 22:56:45  |3           |\n",
      "|177877         |35              |177877                 |74                   |1                    |16.968254            |2022-09-13 19:14:29  |2022-10-18 22:56:45  |35          |\n",
      "-------------------------------------------------------------------------------------------------------------------------------------------------------------------------------------\n",
      "\n"
     ]
    }
   ],
   "source": [
    "# Display customer_last_order_timestamp_df1\n",
    "customer_last_order_timestamp_df1.show()"
   ]
  },
  {
   "attachments": {},
   "cell_type": "markdown",
   "metadata": {},
   "source": [
    "### 4.1.6 Frequency <a id=\"part4.1.6\"></a>\n",
    "\n",
    "To calculate the frequency of orders for each customer, we will be calculating the total order by customers divided by the duration between their first order and the current date identified."
   ]
  },
  {
   "cell_type": "code",
   "execution_count": null,
   "metadata": {},
   "outputs": [
    {
     "name": "stdout",
     "output_type": "stream",
     "text": [
      "---------------------------------------\n",
      "|\"CUSTOMER_ID\"  |\"FIRST_ORDER_TS\"     |\n",
      "---------------------------------------\n",
      "|111150         |2019-01-04 21:08:39  |\n",
      "|108935         |2019-01-06 13:38:47  |\n",
      "|173074         |2019-01-06 18:53:39  |\n",
      "|137846         |2019-01-10 18:58:28  |\n",
      "|28098          |2019-01-23 13:08:41  |\n",
      "---------------------------------------\n",
      "\n"
     ]
    }
   ],
   "source": [
    "# Obtain the time stamp for each customer’s first order\n",
    "customer_first_order_timestamp = order_df1.groupBy(\"CUSTOMER_ID\").agg(F.min(\"ORDER_TS\").alias(\"FIRST_ORDER_TS\"))\n",
    "customer_first_order_timestamp.show(n=5)"
   ]
  },
  {
   "cell_type": "code",
   "execution_count": null,
   "metadata": {},
   "outputs": [
    {
     "name": "stdout",
     "output_type": "stream",
     "text": [
      "---------------------------------\n",
      "|\"CUSTOMER_ID\"  |\"TOTAL_ORDER\"  |\n",
      "---------------------------------\n",
      "|61615          |58             |\n",
      "|199518         |57             |\n",
      "|163672         |48             |\n",
      "|73700          |54             |\n",
      "|15972          |52             |\n",
      "---------------------------------\n",
      "\n"
     ]
    }
   ],
   "source": [
    "# Calculating the total number of orders for each customer\n",
    "total_order_by_cust = order_df1.group_by(\"CUSTOMER_ID\").agg(F.count(\"ORDER_ID\").alias(\"TOTAL_ORDER\"))\n",
    "total_order_by_cust.show(n=5)"
   ]
  },
  {
   "cell_type": "code",
   "execution_count": null,
   "metadata": {},
   "outputs": [
    {
     "name": "stdout",
     "output_type": "stream",
     "text": [
      "-------------------------------------------------------------------------------------------------------------------------------------------------------------------------------------------------------------------------------------------------------------------------------------------------------------------------------------------------------------------------------------------------------------------------------------\n",
      "|\"CUSTOMER_ID\"  |\"FIRST_NAME\"  |\"LAST_NAME\"  |\"CITY\"     |\"COUNTRY\"      |\"POSTAL_CODE\"  |\"PREFERRED_LANGUAGE\"  |\"GENDER\"     |\"FAVOURITE_BRAND\"  |\"MARITAL_STATUS\"    |\"CHILDREN_COUNT\"  |\"SIGN_UP_DATE\"  |\"BIRTHDAY_DATE\"  |\"E_MAIL\"                     |\"PHONE_NUMBER\"  |\"CUSTOMER_ID_FIRST_TS\"  |\"FIRST_ORDER_TS\"     |\"CUSTOMER_ID_NUM_ORDER\"  |\"TOTAL_ORDER\"  |\"CURRENT DATE\"       |\"YEARS_WITH_US\"  |\"CUSTOMER_FREQUENCY\"  |\n",
      "-------------------------------------------------------------------------------------------------------------------------------------------------------------------------------------------------------------------------------------------------------------------------------------------------------------------------------------------------------------------------------------------------------------------------------------\n",
      "|118            |Donald        |Faulkner     |San Mateo  |United States  |94010          |English               |Male         |NULL               |Single              |0                 |2019-07-07      |1988-06-13       |Donald.Faulkner@hotmail.com  |080-861-2392    |118                     |2019-09-16 19:43:56  |118                      |38             |2022-10-18 22:56:45  |3.090411         |12.296099             |\n",
      "|189            |Reese         |Mcfarland    |San Mateo  |United States  |94010          |English               |Undisclosed  |NULL               |Married             |1                 |2020-03-06      |1984-03-05       |Reese.Mcfarland@hotmail.com  |802-202-7275    |189                     |2019-04-30 14:03:32  |189                      |48             |2022-10-18 22:56:45  |3.471233         |13.827940             |\n",
      "|204            |Emilio        |Lawrence     |San Mateo  |United States  |94497          |English               |Male         |NULL               |Undisclosed         |Undisclosed       |2021-10-10      |1979-06-25       |Emilio.Lawrence@hotmail.com  |693-524-2569    |204                     |2020-02-11 09:36:36  |204                      |35             |2022-10-18 22:56:45  |2.684932         |13.035712             |\n",
      "|42             |Alexander     |Hicks        |San Mateo  |United States  |94404          |English               |Undisclosed  |NULL               |Single              |0                 |2020-07-11      |1966-06-28       |Alexander.Hicks@aol.com      |463-144-8555    |42                      |2019-05-05 17:25:49  |42                       |38             |2022-10-18 22:56:45  |3.457534         |10.990492             |\n",
      "|59             |Ryan          |Shah         |San Mateo  |United States  |94401          |English               |Male         |NULL               |Married             |2                 |2020-12-29      |1961-06-05       |Ryan.Shah@aol.com            |679-586-9815    |59                      |2019-05-15 17:15:41  |59                       |38             |2022-10-18 22:56:45  |3.430137         |11.078275             |\n",
      "|65             |Nathen        |Werner       |San Mateo  |United States  |94010          |English               |Male         |NULL               |Divorced/Seperated  |5+                |2020-11-05      |1958-09-01       |Nathen.Werner@aol.com        |926-969-1551    |65                      |2019-06-09 17:59:28  |65                       |43             |2022-10-18 22:56:45  |3.361644         |12.791360             |\n",
      "|106            |Camilla       |Harding      |San Mateo  |United States  |94404          |English               |Female       |NULL               |Single              |0                 |2021-06-28      |1967-05-10       |Camilla.Harding@aol.com      |366-365-2520    |106                     |2019-09-22 22:14:38  |106                      |48             |2022-10-18 22:56:45  |3.073973         |15.614971             |\n",
      "|219            |Scarlett      |Zavala       |San Mateo  |United States  |94403          |English               |Undisclosed  |NULL               |Married             |2                 |2021-01-22      |1965-12-19       |Scarlett.Zavala@aol.com      |447-385-8243    |219                     |2020-01-02 20:16:46  |219                      |39             |2022-10-18 22:56:45  |2.794521         |13.955880             |\n",
      "|222            |Olive         |Powell       |San Mateo  |United States  |94404          |English               |Female       |NULL               |Single              |0                 |2021-03-21      |1965-07-06       |Olive.Powell@aol.com         |983-128-2475    |222                     |2019-02-04 13:57:10  |222                      |45             |2022-10-18 22:56:45  |3.704110         |12.148667             |\n",
      "|22             |Rayne         |Sanchez      |San Mateo  |United States  |94401          |English               |Male         |NULL               |Married             |4                 |2021-04-22      |1949-01-12       |Rayne.Sanchez@ymail.com      |621-054-0251    |22                      |2019-05-15 21:36:14  |22                       |43             |2022-10-18 22:56:45  |3.430137         |12.535942             |\n",
      "-------------------------------------------------------------------------------------------------------------------------------------------------------------------------------------------------------------------------------------------------------------------------------------------------------------------------------------------------------------------------------------------------------------------------------------\n",
      "\n"
     ]
    }
   ],
   "source": [
    "# Joining the total number of orders, first order timestamp tables with the customer data\n",
    "customer_freq = customer_df.join(customer_first_order_timestamp, customer_df.CUSTOMER_ID==customer_first_order_timestamp.CUSTOMER_ID, lsuffix=\"\", rsuffix=\"_FIRST_TS\")\n",
    "customer_freq = customer_freq.join(total_order_by_cust, customer_freq.CUSTOMER_ID==total_order_by_cust.CUSTOMER_ID, lsuffix=\"\", rsuffix=\"_NUM_ORDER\")\n",
    "\n",
    "# Adding in relevant columns to the newly joined data frame such as “CURRENT DATE”, “YEARS_WITH_US”, and “CUSTOMER_FREQUENCY” to calculate the frequency\n",
    "customer_freq = customer_freq.with_column(\"CURRENT DATE\", F.iff(F.col(\"CUSTOMER_ID\") == F.col(\"CUSTOMER_ID\"), lastest_transaction_df1, lastest_transaction_df1))\n",
    "customer_freq = customer_freq.with_column(\"YEARS_WITH_US\",F.datediff(\"day\", customer_freq[\"FIRST_ORDER_TS\"], customer_freq[\"CURRENT DATE\"])/365)\n",
    "customer_freq = customer_freq.with_column(\"CUSTOMER_FREQUENCY\", customer_freq[\"TOTAL_ORDER\"]/customer_freq[\"YEARS_WITH_US\"])\n",
    "\n",
    "customer_freq.show()"
   ]
  },
  {
   "cell_type": "code",
   "execution_count": null,
   "metadata": {},
   "outputs": [],
   "source": [
    "# Joining this table to the customer dataset that will be used for clustering later on\n",
    "temp_customer_freq = customer_freq.select([\"CUSTOMER_ID\",\"CUSTOMER_FREQUENCY\",'TOTAL_ORDER'])\n",
    "customer_last_order_timestamp_df1 = temp_customer_freq.join(customer_last_order_timestamp_df1, \n",
    "                                customer_last_order_timestamp_df1.CUSTOMER_ID==temp_customer_freq.CUSTOMER_ID, lsuffix=\"\", rsuffix=\"_FREQUENCY\")"
   ]
  },
  {
   "cell_type": "code",
   "execution_count": null,
   "metadata": {},
   "outputs": [
    {
     "name": "stdout",
     "output_type": "stream",
     "text": [
      "------------------------------------------------------------------------------------------------------------------------------------------------------------------------------------------------------------------------------------------------------\n",
      "|\"CUSTOMER_ID\"  |\"CUSTOMER_FREQUENCY\"  |\"TOTAL_ORDER\"  |\"CUSTOMER_ID_FREQUENCY\"  |\"RECENCY_DAYS\"  |\"CUSTOMER_ID_RECENCY\"  |\"MAX(DAYS_BETWEEN)\"  |\"MIN(DAYS_BETWEEN)\"  |\"AVG(DAYS_BETWEEN)\"  |\"LAST_ORDER_TS\"      |\"LAST_TRANS\"         |\"DAYS_DF1\"  |\n",
      "------------------------------------------------------------------------------------------------------------------------------------------------------------------------------------------------------------------------------------------------------\n",
      "|113856         |18.295740             |60             |113856                   |7               |113856                 |81                   |1                    |20.169492            |2022-10-11 20:33:48  |2022-10-18 22:56:45  |7           |\n",
      "|97600          |16.890195             |59             |97600                    |8               |97600                  |69                   |1                    |21.844828            |2022-10-10 11:21:18  |2022-10-18 22:56:45  |8           |\n",
      "|192779         |17.971139             |58             |192779                   |1               |192779                 |175                  |1                    |20.649123            |2022-10-17 16:42:41  |2022-10-18 22:56:45  |1           |\n",
      "|116195         |18.092052             |63             |116195                   |1               |116195                 |132                  |1                    |20.483871            |2022-10-17 18:01:34  |2022-10-18 22:56:45  |1           |\n",
      "|90343          |23.371544             |81             |90343                    |11              |90343                  |109                  |1                    |15.675000            |2022-10-07 19:26:41  |2022-10-18 22:56:45  |11          |\n",
      "|179986         |19.040929             |65             |179986                   |3               |179986                 |92                   |1                    |19.421875            |2022-10-15 11:20:26  |2022-10-18 22:56:45  |3           |\n",
      "|127144         |18.145883             |61             |127144                   |1               |127144                 |129                  |1                    |20.433333            |2022-10-17 18:28:27  |2022-10-18 22:56:45  |1           |\n",
      "|60710          |18.188342             |59             |60710                    |5               |60710                  |105                  |1                    |20.327586            |2022-10-13 22:03:56  |2022-10-18 22:56:45  |5           |\n",
      "|145202         |13.672637             |46             |145202                   |3               |145202                 |251                  |3                    |27.222222            |2022-10-15 19:24:27  |2022-10-18 22:56:45  |3           |\n",
      "|103254         |15.727642             |53             |103254                   |14              |103254                 |126                  |1                    |23.384615            |2022-10-04 18:46:43  |2022-10-18 22:56:45  |14          |\n",
      "------------------------------------------------------------------------------------------------------------------------------------------------------------------------------------------------------------------------------------------------------\n",
      "\n"
     ]
    }
   ],
   "source": [
    "# Display customer_last_order_timestamp\n",
    "customer_last_order_timestamp_df1.show()"
   ]
  },
  {
   "attachments": {},
   "cell_type": "markdown",
   "metadata": {},
   "source": [
    "### 4.1.7 Monetary Value <a id=\"part4.1.7\"></a>\n",
    "\n",
    "To calculate the monetary value for each customer, we will be calculating the total sales generated by each customer divided by the number of years the customer has ordered with Tasty Bytes. "
   ]
  },
  {
   "cell_type": "code",
   "execution_count": null,
   "metadata": {},
   "outputs": [],
   "source": [
    " # Calculate the total sales generated by each customer \n",
    "total_amount_spent = order_df1.group_by(\"CUSTOMER_ID\").agg(F.sum(\"ORDER_TOTAL\").alias(\"TOTAL_SPENT\"))\n",
    "\n",
    "# Joining the total sales generated by each customer with the first order timestamp tables \n",
    "customer_monetary = total_amount_spent.join(customer_first_order_timestamp, total_amount_spent.CUSTOMER_ID==customer_first_order_timestamp.CUSTOMER_ID, lsuffix=\"\", rsuffix=\"_FIRST_TS\")\n",
    "\n",
    "# Adding in relevant columns to the newly joined data frame such as “CURRENT DATE”, “YEARS_WITH_US”, and “MONETARY_VALUE” to calculate the monetary value\n",
    "customer_monetary = customer_monetary.with_column(\"CURRENT DATE\", F.iff(F.col(\"CUSTOMER_ID\") == F.col(\"CUSTOMER_ID\"), lastest_transaction_df1, lastest_transaction_df1))\n",
    "customer_monetary = customer_monetary.with_column(\"YEARS_WITH_US\",F.datediff(\"day\", customer_monetary[\"FIRST_ORDER_TS\"], customer_monetary[\"CURRENT DATE\"])/365)\n",
    "customer_monetary = customer_monetary.with_column(\"MONETARY_VALUE\", F.col(\"TOTAL_SPENT\")/F.col(\"YEARS_WITH_US\"))"
   ]
  },
  {
   "cell_type": "code",
   "execution_count": null,
   "metadata": {},
   "outputs": [],
   "source": [
    "# Joining this table to the customer dataset that will be used for clustering later on \n",
    "temp_customer_mon = customer_monetary.select(['CUSTOMER_ID','TOTAL_SPENT','YEARS_WITH_US','MONETARY_VALUE'])\n",
    "customer_last_order_timestamp_df1 = temp_customer_mon.join(customer_last_order_timestamp_df1, customer_last_order_timestamp_df1.CUSTOMER_ID==temp_customer_mon.CUSTOMER_ID, lsuffix=\"\", rsuffix=\"_MONETARY\")"
   ]
  },
  {
   "cell_type": "code",
   "execution_count": null,
   "metadata": {},
   "outputs": [
    {
     "name": "stdout",
     "output_type": "stream",
     "text": [
      "------------------------------------------------------------------------------------------------------------------------------------------------------------------------------------------------------------------------------------------------------------------------------------------------------------------------------------\n",
      "|\"CUSTOMER_ID\"  |\"TOTAL_SPENT\"  |\"YEARS_WITH_US\"  |\"MONETARY_VALUE\"  |\"CUSTOMER_ID_MONETARY\"  |\"CUSTOMER_FREQUENCY\"  |\"TOTAL_ORDER\"  |\"CUSTOMER_ID_FREQUENCY\"  |\"RECENCY_DAYS\"  |\"CUSTOMER_ID_RECENCY\"  |\"MAX(DAYS_BETWEEN)\"  |\"MIN(DAYS_BETWEEN)\"  |\"AVG(DAYS_BETWEEN)\"  |\"LAST_ORDER_TS\"      |\"LAST_TRANS\"         |\"DAYS_DF1\"  |\n",
      "------------------------------------------------------------------------------------------------------------------------------------------------------------------------------------------------------------------------------------------------------------------------------------------------------------------------------------\n",
      "|61615          |2604.2500      |2.726027         |955.3280286659    |61615                   |21.276385             |58             |61615                    |7               |61615                  |67                   |1                    |17.333333            |2022-10-11 21:54:16  |2022-10-18 22:56:45  |7           |\n",
      "|73700          |2210.0000      |2.745205         |805.0400607605    |73700                   |19.670662             |54             |73700                    |17              |73700                  |68                   |1                    |18.584906            |2022-10-01 17:46:24  |2022-10-18 22:56:45  |17          |\n",
      "|158792         |1946.0000      |2.608219         |746.1029921184    |158792                  |19.170169             |50             |158792                   |3               |158792                 |120                  |1                    |19.367347            |2022-10-15 08:33:02  |2022-10-18 22:56:45  |3           |\n",
      "|133770         |2830.5000      |2.786301         |1015.8629667075   |133770                  |21.175027             |59             |133770                   |8               |133770                 |69                   |1                    |17.396552            |2022-10-10 13:20:53  |2022-10-18 22:56:45  |8           |\n",
      "|102931         |2033.2500      |2.413699         |842.3792693289    |102931                  |21.543697             |52             |102931                   |5               |102931                 |63                   |1                    |17.176471            |2022-10-13 16:56:22  |2022-10-18 22:56:45  |5           |\n",
      "|40907          |2257.5000      |2.473973         |912.4998534746    |40907                   |19.806198             |49             |40907                    |2               |40907                  |69                   |1                    |18.770833            |2022-10-16 08:57:19  |2022-10-18 22:56:45  |2           |\n",
      "|195954         |2319.0000      |2.630137         |881.7031204078    |195954                  |22.432292             |59             |195954                   |5               |195954                 |75                   |1                    |16.465517            |2022-10-13 12:59:17  |2022-10-18 22:56:45  |5           |\n",
      "|89629          |1889.5000      |2.712329         |696.6337785718    |89629                   |16.959595             |46             |89629                    |19              |89629                  |78                   |2                    |21.577778            |2022-09-29 21:30:17  |2022-10-18 22:56:45  |19          |\n",
      "|133327         |2053.2500      |2.767123         |742.0161662492    |133327                  |18.792081             |52             |133327                   |3               |133327                 |155                  |1                    |19.745098            |2022-10-15 18:07:12  |2022-10-18 22:56:45  |3           |\n",
      "|199518         |2215.2500      |2.704110         |819.2159342630    |199518                  |21.079024             |57             |199518                   |11              |199518                 |81                   |1                    |17.428571            |2022-10-07 13:56:33  |2022-10-18 22:56:45  |11          |\n",
      "------------------------------------------------------------------------------------------------------------------------------------------------------------------------------------------------------------------------------------------------------------------------------------------------------------------------------------\n",
      "\n"
     ]
    }
   ],
   "source": [
    "# Display customer_last_order_timestamp_df1\n",
    "customer_last_order_timestamp_df1.show()"
   ]
  },
  {
   "cell_type": "code",
   "execution_count": null,
   "metadata": {},
   "outputs": [
    {
     "name": "stdout",
     "output_type": "stream",
     "text": [
      "---------------------------------------------------------------------------------------------------------------------------------------------------------------------------------------------------------------------------------------------------------\n",
      "|\"CUSTOMER_ID\"  |\"TOTAL_SPENT\"  |\"YEARS_WITH_US\"  |\"MONETARY_VALUE\"  |\"CUSTOMER_FREQUENCY\"  |\"TOTAL_ORDER\"  |\"RECENCY_DAYS\"  |\"MAX(DAYS_BETWEEN)\"  |\"MIN(DAYS_BETWEEN)\"  |\"AVG(DAYS_BETWEEN)\"  |\"LAST_ORDER_TS\"      |\"LAST_TRANS\"         |\"DAYS_DF1\"  |\n",
      "---------------------------------------------------------------------------------------------------------------------------------------------------------------------------------------------------------------------------------------------------------\n",
      "|110977         |2820.2500      |2.797260         |1008.2187569264   |23.594517             |66             |11              |121                  |1                    |15.538462            |2022-10-07 10:03:37  |2022-10-18 22:56:45  |11          |\n",
      "|164706         |2575.0000      |2.794521         |921.4459293739    |22.544114             |63             |10              |100                  |1                    |16.290323            |2022-10-08 20:43:36  |2022-10-18 22:56:45  |10          |\n",
      "|112795         |2704.7500      |2.780822         |972.6440599219    |22.655172             |63             |5               |85                   |1                    |16.290323            |2022-10-13 18:43:15  |2022-10-18 22:56:45  |5           |\n",
      "|39140          |1981.7500      |2.693151         |735.8480827848    |23.021360             |62             |1               |65                   |1                    |16.098361            |2022-10-17 16:36:23  |2022-10-18 22:56:45  |1           |\n",
      "|96955          |1608.0000      |2.753425         |583.9999273632    |16.706466             |46             |5               |112                  |1                    |22.222222            |2022-10-13 09:35:45  |2022-10-18 22:56:45  |5           |\n",
      "|97085          |2305.0000      |2.704110         |852.4061521166    |21.079024             |57             |33              |125                  |1                    |17.035714            |2022-09-15 17:37:53  |2022-10-18 22:56:45  |33          |\n",
      "|80607          |2206.2500      |2.668493         |826.7775107523    |21.360371             |57             |5               |70                   |1                    |17.303571            |2022-10-13 13:00:46  |2022-10-18 22:56:45  |5           |\n",
      "|61321          |1919.0000      |2.693151         |712.5482381047    |20.050862             |54             |2               |119                  |1                    |18.509434            |2022-10-16 21:14:45  |2022-10-18 22:56:45  |2           |\n",
      "|133053         |2243.0000      |2.794521         |802.6420270236    |21.828428             |61             |2               |84                   |1                    |16.966667            |2022-10-16 17:04:25  |2022-10-18 22:56:45  |2           |\n",
      "|21156          |2474.7500      |2.660274         |930.2613189468    |21.802265             |58             |0               |93                   |1                    |17.035088            |2022-10-18 12:27:00  |2022-10-18 22:56:45  |0           |\n",
      "---------------------------------------------------------------------------------------------------------------------------------------------------------------------------------------------------------------------------------------------------------\n",
      "\n"
     ]
    }
   ],
   "source": [
    "# Dropping of irrelevant and unnecessary columns that have been introduced during joining of dataframes in previous steps\n",
    "customer_last_order_timestamp_df1 = customer_last_order_timestamp_df1.drop([\"CUSTOMER_ID_MONETARY\", \"CUSTOMER_ID_FREQUENCY\", \"CUSTOMER_ID_RECENCY\"])\n",
    "customer_last_order_timestamp_df1.show(10)"
   ]
  },
  {
   "attachments": {},
   "cell_type": "markdown",
   "metadata": {},
   "source": [
    "#### 4.1.8 K-Means Clustering for Recency, Frequency and Monetary  <a id=\"part4.1.8\"></a>"
   ]
  },
  {
   "cell_type": "code",
   "execution_count": null,
   "metadata": {},
   "outputs": [],
   "source": [
    "customer_last_order_timestamp_df1 = customer_last_order_timestamp_df1.to_pandas()"
   ]
  },
  {
   "attachments": {},
   "cell_type": "markdown",
   "metadata": {},
   "source": [
    "##### K-Means Clustering for Recency"
   ]
  },
  {
   "cell_type": "code",
   "execution_count": null,
   "metadata": {},
   "outputs": [
    {
     "data": {
      "image/png": "[encoded data removed]",
      "text/plain": [
       "<Figure size 640x480 with 1 Axes>"
      ]
     },
     "metadata": {},
     "output_type": "display_data"
    }
   ],
   "source": [
    "# K-Means Clustering\n",
    "#k-means\n",
    "sse=[]\n",
    "scaler = StandardScaler() \n",
    "recency = customer_last_order_timestamp_df1[['RECENCY_DAYS']].to_numpy()\n",
    "X_scaled = scaler.fit_transform(recency) \n",
    "\n",
    "for k in range(1, 11):\n",
    "    kmeans = KMeans(n_clusters=k, n_init=20, random_state=1)\n",
    "    kmeans.fit(X_scaled)\n",
    "    sse.append(kmeans.inertia_)\n",
    "\n",
    "plt.plot(range(1, 11), sse, 'b-*')\n",
    "plt.title('Elbow Method (REC)')\n",
    "plt.xlabel('Number of clusters')\n",
    "plt.ylabel('SSE')\n",
    "plt.show()"
   ]
  },
  {
   "cell_type": "code",
   "execution_count": null,
   "metadata": {},
   "outputs": [
    {
     "data": {
      "text/html": [
       "<div>\n",
       "<style scoped>\n",
       "    .dataframe tbody tr th:only-of-type {\n",
       "        vertical-align: middle;\n",
       "    }\n",
       "\n",
       "    .dataframe tbody tr th {\n",
       "        vertical-align: top;\n",
       "    }\n",
       "\n",
       "    .dataframe thead th {\n",
       "        text-align: right;\n",
       "    }\n",
       "</style>\n",
       "<table border=\"1\" class=\"dataframe\">\n",
       "  <thead>\n",
       "    <tr style=\"text-align: right;\">\n",
       "      <th></th>\n",
       "      <th>count</th>\n",
       "      <th>mean</th>\n",
       "      <th>std</th>\n",
       "      <th>min</th>\n",
       "      <th>25%</th>\n",
       "      <th>50%</th>\n",
       "      <th>75%</th>\n",
       "      <th>max</th>\n",
       "    </tr>\n",
       "    <tr>\n",
       "      <th>CUST_REC_CLUSTER</th>\n",
       "      <th></th>\n",
       "      <th></th>\n",
       "      <th></th>\n",
       "      <th></th>\n",
       "      <th></th>\n",
       "      <th></th>\n",
       "      <th></th>\n",
       "      <th></th>\n",
       "    </tr>\n",
       "  </thead>\n",
       "  <tbody>\n",
       "    <tr>\n",
       "      <th>0</th>\n",
       "      <td>6931.0</td>\n",
       "      <td>37.45650</td>\n",
       "      <td>13.784466</td>\n",
       "      <td>23.0</td>\n",
       "      <td>27.0</td>\n",
       "      <td>33.0</td>\n",
       "      <td>43.0</td>\n",
       "      <td>162.0</td>\n",
       "    </tr>\n",
       "    <tr>\n",
       "      <th>1</th>\n",
       "      <td>39369.0</td>\n",
       "      <td>7.61556</td>\n",
       "      <td>5.959254</td>\n",
       "      <td>0.0</td>\n",
       "      <td>3.0</td>\n",
       "      <td>6.0</td>\n",
       "      <td>12.0</td>\n",
       "      <td>22.0</td>\n",
       "    </tr>\n",
       "  </tbody>\n",
       "</table>\n",
       "</div>"
      ],
      "text/plain": [
       "                    count      mean        std   min   25%   50%   75%    max\n",
       "CUST_REC_CLUSTER                                                             \n",
       "0                  6931.0  37.45650  13.784466  23.0  27.0  33.0  43.0  162.0\n",
       "1                 39369.0   7.61556   5.959254   0.0   3.0   6.0  12.0   22.0"
      ]
     },
     "execution_count": 389,
     "metadata": {},
     "output_type": "execute_result"
    }
   ],
   "source": [
    "# Build 2 Recency Clusters and add it to dataframe \n",
    "kmeans = KMeans(n_clusters=2, n_init=20, random_state=1)\n",
    "#tempCustRec = tempCustRec.to_pandas()\n",
    "kmeans.fit(customer_last_order_timestamp_df1[['RECENCY_DAYS']])\n",
    "customer_last_order_timestamp_df1['CUST_REC_CLUSTER'] = kmeans.predict(customer_last_order_timestamp_df1[['RECENCY_DAYS']])\n",
    "\n",
    "\n",
    "#function for ordering cluster numbers\n",
    "\n",
    "def order_cluster(cluster_field_name, target_field_name,data,ascending):\n",
    "    new_cluster_field_name = 'new_' + cluster_field_name\n",
    "    data_new = data.groupby(cluster_field_name)[target_field_name].mean().reset_index()\n",
    "    data_new = data_new.sort_values(by=target_field_name,ascending=ascending).reset_index(drop=True)\n",
    "    data_new['index'] = data_new.index\n",
    "    data_final = pd.merge(data,data_new[[cluster_field_name,'index']], on=cluster_field_name)\n",
    "    data_final = data_final.drop([cluster_field_name],axis=1)\n",
    "    data_final = data_final.rename(columns={\"index\":cluster_field_name})\n",
    "\n",
    "    return data_final\n",
    "\n",
    "customer_last_order_timestamp_df1 = order_cluster('CUST_REC_CLUSTER', 'RECENCY_DAYS',customer_last_order_timestamp_df1,False)\n",
    "#see details of the clusters\n",
    "customer_last_order_timestamp_df1.groupby('CUST_REC_CLUSTER')['RECENCY_DAYS'].describe()\n"
   ]
  },
  {
   "cell_type": "code",
   "execution_count": null,
   "metadata": {},
   "outputs": [
    {
     "data": {
      "text/html": [
       "<div>\n",
       "<style scoped>\n",
       "    .dataframe tbody tr th:only-of-type {\n",
       "        vertical-align: middle;\n",
       "    }\n",
       "\n",
       "    .dataframe tbody tr th {\n",
       "        vertical-align: top;\n",
       "    }\n",
       "\n",
       "    .dataframe thead th {\n",
       "        text-align: right;\n",
       "    }\n",
       "</style>\n",
       "<table border=\"1\" class=\"dataframe\">\n",
       "  <thead>\n",
       "    <tr style=\"text-align: right;\">\n",
       "      <th></th>\n",
       "      <th>CUSTOMER_ID</th>\n",
       "      <th>TOTAL_SPENT</th>\n",
       "      <th>YEARS_WITH_US</th>\n",
       "      <th>MONETARY_VALUE</th>\n",
       "      <th>CUSTOMER_FREQUENCY</th>\n",
       "      <th>TOTAL_ORDER</th>\n",
       "      <th>RECENCY_DAYS</th>\n",
       "      <th>MAX(DAYS_BETWEEN)</th>\n",
       "      <th>MIN(DAYS_BETWEEN)</th>\n",
       "      <th>AVG(DAYS_BETWEEN)</th>\n",
       "      <th>LAST_ORDER_TS</th>\n",
       "      <th>LAST_TRANS</th>\n",
       "      <th>DAYS_DF1</th>\n",
       "      <th>CUST_REC_CLUSTER</th>\n",
       "    </tr>\n",
       "  </thead>\n",
       "  <tbody>\n",
       "    <tr>\n",
       "      <th>0</th>\n",
       "      <td>47008</td>\n",
       "      <td>2726.25</td>\n",
       "      <td>2.791781</td>\n",
       "      <td>976.5271702902</td>\n",
       "      <td>23.640823</td>\n",
       "      <td>66</td>\n",
       "      <td>21</td>\n",
       "      <td>70</td>\n",
       "      <td>1</td>\n",
       "      <td>15.353846</td>\n",
       "      <td>2022-09-27 19:18:22</td>\n",
       "      <td>2022-10-18 22:56:45</td>\n",
       "      <td>21</td>\n",
       "      <td>1</td>\n",
       "    </tr>\n",
       "    <tr>\n",
       "      <th>1</th>\n",
       "      <td>10988</td>\n",
       "      <td>1983.25</td>\n",
       "      <td>2.567123</td>\n",
       "      <td>772.5574505000</td>\n",
       "      <td>22.203845</td>\n",
       "      <td>57</td>\n",
       "      <td>0</td>\n",
       "      <td>86</td>\n",
       "      <td>1</td>\n",
       "      <td>16.732143</td>\n",
       "      <td>2022-10-18 10:54:30</td>\n",
       "      <td>2022-10-18 22:56:45</td>\n",
       "      <td>0</td>\n",
       "      <td>1</td>\n",
       "    </tr>\n",
       "    <tr>\n",
       "      <th>2</th>\n",
       "      <td>187900</td>\n",
       "      <td>1906.00</td>\n",
       "      <td>2.780822</td>\n",
       "      <td>685.4088467367</td>\n",
       "      <td>19.418719</td>\n",
       "      <td>54</td>\n",
       "      <td>9</td>\n",
       "      <td>125</td>\n",
       "      <td>1</td>\n",
       "      <td>18.981132</td>\n",
       "      <td>2022-10-09 15:18:12</td>\n",
       "      <td>2022-10-18 22:56:45</td>\n",
       "      <td>9</td>\n",
       "      <td>1</td>\n",
       "    </tr>\n",
       "    <tr>\n",
       "      <th>3</th>\n",
       "      <td>189916</td>\n",
       "      <td>2508.00</td>\n",
       "      <td>2.761644</td>\n",
       "      <td>908.1547078479</td>\n",
       "      <td>23.536705</td>\n",
       "      <td>65</td>\n",
       "      <td>3</td>\n",
       "      <td>98</td>\n",
       "      <td>1</td>\n",
       "      <td>15.703125</td>\n",
       "      <td>2022-10-15 08:54:13</td>\n",
       "      <td>2022-10-18 22:56:45</td>\n",
       "      <td>3</td>\n",
       "      <td>1</td>\n",
       "    </tr>\n",
       "    <tr>\n",
       "      <th>4</th>\n",
       "      <td>137408</td>\n",
       "      <td>2171.25</td>\n",
       "      <td>2.775342</td>\n",
       "      <td>782.3360148047</td>\n",
       "      <td>18.736430</td>\n",
       "      <td>52</td>\n",
       "      <td>3</td>\n",
       "      <td>110</td>\n",
       "      <td>1</td>\n",
       "      <td>19.803922</td>\n",
       "      <td>2022-10-15 11:19:06</td>\n",
       "      <td>2022-10-18 22:56:45</td>\n",
       "      <td>3</td>\n",
       "      <td>1</td>\n",
       "    </tr>\n",
       "  </tbody>\n",
       "</table>\n",
       "</div>"
      ],
      "text/plain": [
       "   CUSTOMER_ID  TOTAL_SPENT  YEARS_WITH_US  MONETARY_VALUE CUSTOMER_FREQUENCY  \\\n",
       "0        47008      2726.25       2.791781  976.5271702902          23.640823   \n",
       "1        10988      1983.25       2.567123  772.5574505000          22.203845   \n",
       "2       187900      1906.00       2.780822  685.4088467367          19.418719   \n",
       "3       189916      2508.00       2.761644  908.1547078479          23.536705   \n",
       "4       137408      2171.25       2.775342  782.3360148047          18.736430   \n",
       "\n",
       "   TOTAL_ORDER  RECENCY_DAYS  MAX(DAYS_BETWEEN)  MIN(DAYS_BETWEEN)  \\\n",
       "0           66            21                 70                  1   \n",
       "1           57             0                 86                  1   \n",
       "2           54             9                125                  1   \n",
       "3           65             3                 98                  1   \n",
       "4           52             3                110                  1   \n",
       "\n",
       "  AVG(DAYS_BETWEEN)       LAST_ORDER_TS          LAST_TRANS  DAYS_DF1  \\\n",
       "0         15.353846 2022-09-27 19:18:22 2022-10-18 22:56:45        21   \n",
       "1         16.732143 2022-10-18 10:54:30 2022-10-18 22:56:45         0   \n",
       "2         18.981132 2022-10-09 15:18:12 2022-10-18 22:56:45         9   \n",
       "3         15.703125 2022-10-15 08:54:13 2022-10-18 22:56:45         3   \n",
       "4         19.803922 2022-10-15 11:19:06 2022-10-18 22:56:45         3   \n",
       "\n",
       "   CUST_REC_CLUSTER  \n",
       "0                 1  \n",
       "1                 1  \n",
       "2                 1  \n",
       "3                 1  \n",
       "4                 1  "
      ]
     },
     "execution_count": 390,
     "metadata": {},
     "output_type": "execute_result"
    }
   ],
   "source": [
    "customer_last_order_timestamp_df1.head()"
   ]
  },
  {
   "attachments": {},
   "cell_type": "markdown",
   "metadata": {},
   "source": [
    "##### Frequency"
   ]
  },
  {
   "cell_type": "code",
   "execution_count": null,
   "metadata": {},
   "outputs": [
    {
     "data": {
      "image/png": "[encoded data removed]",
      "text/plain": [
       "<Figure size 640x480 with 1 Axes>"
      ]
     },
     "metadata": {},
     "output_type": "display_data"
    }
   ],
   "source": [
    "# K-Means Clustering\n",
    "#k-means\n",
    "sse=[]\n",
    "scaler = StandardScaler() \n",
    "recency = customer_last_order_timestamp_df1[['CUSTOMER_FREQUENCY']].to_numpy()\n",
    "X_scaled = scaler.fit_transform(recency) \n",
    "\n",
    "for k in range(1, 11):\n",
    "    kmeans = KMeans(n_clusters=k, n_init=20, random_state=1)\n",
    "    kmeans.fit(X_scaled)\n",
    "    sse.append(kmeans.inertia_)\n",
    "\n",
    "plt.plot(range(1, 11), sse, 'b-*')\n",
    "plt.title('Elbow Method (REC)')\n",
    "plt.xlabel('Number of clusters')\n",
    "plt.ylabel('SSE')\n",
    "plt.show()"
   ]
  },
  {
   "cell_type": "code",
   "execution_count": null,
   "metadata": {},
   "outputs": [
    {
     "data": {
      "text/html": [
       "<div>\n",
       "<style scoped>\n",
       "    .dataframe tbody tr th:only-of-type {\n",
       "        vertical-align: middle;\n",
       "    }\n",
       "\n",
       "    .dataframe tbody tr th {\n",
       "        vertical-align: top;\n",
       "    }\n",
       "\n",
       "    .dataframe thead th {\n",
       "        text-align: right;\n",
       "    }\n",
       "</style>\n",
       "<table border=\"1\" class=\"dataframe\">\n",
       "  <thead>\n",
       "    <tr style=\"text-align: right;\">\n",
       "      <th></th>\n",
       "      <th>count</th>\n",
       "      <th>unique</th>\n",
       "      <th>top</th>\n",
       "      <th>freq</th>\n",
       "    </tr>\n",
       "    <tr>\n",
       "      <th>CUST_FREQ_CLUSTER</th>\n",
       "      <th></th>\n",
       "      <th></th>\n",
       "      <th></th>\n",
       "      <th></th>\n",
       "    </tr>\n",
       "  </thead>\n",
       "  <tbody>\n",
       "    <tr>\n",
       "      <th>0</th>\n",
       "      <td>10646</td>\n",
       "      <td>5420</td>\n",
       "      <td>10.861394</td>\n",
       "      <td>11</td>\n",
       "    </tr>\n",
       "    <tr>\n",
       "      <th>1</th>\n",
       "      <td>19799</td>\n",
       "      <td>5085</td>\n",
       "      <td>18.249997</td>\n",
       "      <td>58</td>\n",
       "    </tr>\n",
       "    <tr>\n",
       "      <th>2</th>\n",
       "      <td>15855</td>\n",
       "      <td>4359</td>\n",
       "      <td>21.470585</td>\n",
       "      <td>41</td>\n",
       "    </tr>\n",
       "  </tbody>\n",
       "</table>\n",
       "</div>"
      ],
      "text/plain": [
       "                   count unique        top freq\n",
       "CUST_FREQ_CLUSTER                              \n",
       "0                  10646   5420  10.861394   11\n",
       "1                  19799   5085  18.249997   58\n",
       "2                  15855   4359  21.470585   41"
      ]
     },
     "execution_count": 392,
     "metadata": {},
     "output_type": "execute_result"
    }
   ],
   "source": [
    "#build 3 clusters for frequency and add it to dataframe\n",
    "\n",
    "kmeans = KMeans(n_clusters=3, n_init=20, random_state=1)\n",
    "kmeans.fit(customer_last_order_timestamp_df1[['CUSTOMER_FREQUENCY']])\n",
    "customer_last_order_timestamp_df1['CUST_FREQ_CLUSTER'] = kmeans.predict(customer_last_order_timestamp_df1[['CUSTOMER_FREQUENCY']])\n",
    "\n",
    "# reuse function for ordering cluster numbers\n",
    "customer_last_order_timestamp_df1 = order_cluster('CUST_FREQ_CLUSTER', 'CUSTOMER_FREQUENCY',customer_last_order_timestamp_df1,True)\n",
    "#see details of the clusters\n",
    "customer_last_order_timestamp_df1.groupby('CUST_FREQ_CLUSTER')['CUSTOMER_FREQUENCY'].describe()"
   ]
  },
  {
   "cell_type": "code",
   "execution_count": null,
   "metadata": {},
   "outputs": [
    {
     "data": {
      "text/html": [
       "<div>\n",
       "<style scoped>\n",
       "    .dataframe tbody tr th:only-of-type {\n",
       "        vertical-align: middle;\n",
       "    }\n",
       "\n",
       "    .dataframe tbody tr th {\n",
       "        vertical-align: top;\n",
       "    }\n",
       "\n",
       "    .dataframe thead th {\n",
       "        text-align: right;\n",
       "    }\n",
       "</style>\n",
       "<table border=\"1\" class=\"dataframe\">\n",
       "  <thead>\n",
       "    <tr style=\"text-align: right;\">\n",
       "      <th></th>\n",
       "      <th>CUSTOMER_ID</th>\n",
       "      <th>TOTAL_SPENT</th>\n",
       "      <th>YEARS_WITH_US</th>\n",
       "      <th>MONETARY_VALUE</th>\n",
       "      <th>CUSTOMER_FREQUENCY</th>\n",
       "      <th>TOTAL_ORDER</th>\n",
       "      <th>RECENCY_DAYS</th>\n",
       "      <th>MAX(DAYS_BETWEEN)</th>\n",
       "      <th>MIN(DAYS_BETWEEN)</th>\n",
       "      <th>AVG(DAYS_BETWEEN)</th>\n",
       "      <th>LAST_ORDER_TS</th>\n",
       "      <th>LAST_TRANS</th>\n",
       "      <th>DAYS_DF1</th>\n",
       "      <th>CUST_REC_CLUSTER</th>\n",
       "      <th>CUST_FREQ_CLUSTER</th>\n",
       "    </tr>\n",
       "  </thead>\n",
       "  <tbody>\n",
       "    <tr>\n",
       "      <th>0</th>\n",
       "      <td>47008</td>\n",
       "      <td>2726.25</td>\n",
       "      <td>2.791781</td>\n",
       "      <td>976.5271702902</td>\n",
       "      <td>23.640823</td>\n",
       "      <td>66</td>\n",
       "      <td>21</td>\n",
       "      <td>70</td>\n",
       "      <td>1</td>\n",
       "      <td>15.353846</td>\n",
       "      <td>2022-09-27 19:18:22</td>\n",
       "      <td>2022-10-18 22:56:45</td>\n",
       "      <td>21</td>\n",
       "      <td>1</td>\n",
       "      <td>2</td>\n",
       "    </tr>\n",
       "    <tr>\n",
       "      <th>1</th>\n",
       "      <td>10988</td>\n",
       "      <td>1983.25</td>\n",
       "      <td>2.567123</td>\n",
       "      <td>772.5574505000</td>\n",
       "      <td>22.203845</td>\n",
       "      <td>57</td>\n",
       "      <td>0</td>\n",
       "      <td>86</td>\n",
       "      <td>1</td>\n",
       "      <td>16.732143</td>\n",
       "      <td>2022-10-18 10:54:30</td>\n",
       "      <td>2022-10-18 22:56:45</td>\n",
       "      <td>0</td>\n",
       "      <td>1</td>\n",
       "      <td>2</td>\n",
       "    </tr>\n",
       "    <tr>\n",
       "      <th>2</th>\n",
       "      <td>189916</td>\n",
       "      <td>2508.00</td>\n",
       "      <td>2.761644</td>\n",
       "      <td>908.1547078479</td>\n",
       "      <td>23.536705</td>\n",
       "      <td>65</td>\n",
       "      <td>3</td>\n",
       "      <td>98</td>\n",
       "      <td>1</td>\n",
       "      <td>15.703125</td>\n",
       "      <td>2022-10-15 08:54:13</td>\n",
       "      <td>2022-10-18 22:56:45</td>\n",
       "      <td>3</td>\n",
       "      <td>1</td>\n",
       "      <td>2</td>\n",
       "    </tr>\n",
       "    <tr>\n",
       "      <th>3</th>\n",
       "      <td>125435</td>\n",
       "      <td>2832.50</td>\n",
       "      <td>2.701370</td>\n",
       "      <td>1048.5420360780</td>\n",
       "      <td>24.802230</td>\n",
       "      <td>67</td>\n",
       "      <td>3</td>\n",
       "      <td>80</td>\n",
       "      <td>1</td>\n",
       "      <td>14.893939</td>\n",
       "      <td>2022-10-15 16:50:28</td>\n",
       "      <td>2022-10-18 22:56:45</td>\n",
       "      <td>3</td>\n",
       "      <td>1</td>\n",
       "      <td>2</td>\n",
       "    </tr>\n",
       "    <tr>\n",
       "      <th>4</th>\n",
       "      <td>170108</td>\n",
       "      <td>2292.75</td>\n",
       "      <td>2.769863</td>\n",
       "      <td>827.7485204142</td>\n",
       "      <td>20.939664</td>\n",
       "      <td>58</td>\n",
       "      <td>19</td>\n",
       "      <td>96</td>\n",
       "      <td>1</td>\n",
       "      <td>17.403509</td>\n",
       "      <td>2022-09-29 11:58:24</td>\n",
       "      <td>2022-10-18 22:56:45</td>\n",
       "      <td>19</td>\n",
       "      <td>1</td>\n",
       "      <td>2</td>\n",
       "    </tr>\n",
       "  </tbody>\n",
       "</table>\n",
       "</div>"
      ],
      "text/plain": [
       "   CUSTOMER_ID  TOTAL_SPENT  YEARS_WITH_US   MONETARY_VALUE  \\\n",
       "0        47008      2726.25       2.791781   976.5271702902   \n",
       "1        10988      1983.25       2.567123   772.5574505000   \n",
       "2       189916      2508.00       2.761644   908.1547078479   \n",
       "3       125435      2832.50       2.701370  1048.5420360780   \n",
       "4       170108      2292.75       2.769863   827.7485204142   \n",
       "\n",
       "  CUSTOMER_FREQUENCY  TOTAL_ORDER  RECENCY_DAYS  MAX(DAYS_BETWEEN)  \\\n",
       "0          23.640823           66            21                 70   \n",
       "1          22.203845           57             0                 86   \n",
       "2          23.536705           65             3                 98   \n",
       "3          24.802230           67             3                 80   \n",
       "4          20.939664           58            19                 96   \n",
       "\n",
       "   MIN(DAYS_BETWEEN) AVG(DAYS_BETWEEN)       LAST_ORDER_TS  \\\n",
       "0                  1         15.353846 2022-09-27 19:18:22   \n",
       "1                  1         16.732143 2022-10-18 10:54:30   \n",
       "2                  1         15.703125 2022-10-15 08:54:13   \n",
       "3                  1         14.893939 2022-10-15 16:50:28   \n",
       "4                  1         17.403509 2022-09-29 11:58:24   \n",
       "\n",
       "           LAST_TRANS  DAYS_DF1  CUST_REC_CLUSTER  CUST_FREQ_CLUSTER  \n",
       "0 2022-10-18 22:56:45        21                 1                  2  \n",
       "1 2022-10-18 22:56:45         0                 1                  2  \n",
       "2 2022-10-18 22:56:45         3                 1                  2  \n",
       "3 2022-10-18 22:56:45         3                 1                  2  \n",
       "4 2022-10-18 22:56:45        19                 1                  2  "
      ]
     },
     "execution_count": 393,
     "metadata": {},
     "output_type": "execute_result"
    }
   ],
   "source": [
    "customer_last_order_timestamp_df1.head()"
   ]
  },
  {
   "attachments": {},
   "cell_type": "markdown",
   "metadata": {},
   "source": [
    "##### Monetary"
   ]
  },
  {
   "cell_type": "code",
   "execution_count": null,
   "metadata": {},
   "outputs": [
    {
     "data": {
      "image/png": "[encoded data removed]",
      "text/plain": [
       "<Figure size 640x480 with 1 Axes>"
      ]
     },
     "metadata": {},
     "output_type": "display_data"
    }
   ],
   "source": [
    "#k-means\n",
    "sse=[]\n",
    "scaler = StandardScaler() \n",
    "monetary = customer_last_order_timestamp_df1[['MONETARY_VALUE']]\n",
    "X_scaled = scaler.fit_transform(monetary) \n",
    "\n",
    "for k in range(1, 11):\n",
    "    kmeans = KMeans(n_clusters=k, n_init=20, random_state=1)\n",
    "    kmeans.fit(X_scaled)\n",
    "    sse.append(kmeans.inertia_)\n",
    "\n",
    "plt.plot(range(1, 11), sse, 'b-*')\n",
    "plt.title('Elbow Method (MONETARY)')\n",
    "plt.xlabel('Number of clusters')\n",
    "plt.ylabel('SSE')\n",
    "plt.show()"
   ]
  },
  {
   "cell_type": "code",
   "execution_count": null,
   "metadata": {},
   "outputs": [
    {
     "data": {
      "text/html": [
       "<div>\n",
       "<style scoped>\n",
       "    .dataframe tbody tr th:only-of-type {\n",
       "        vertical-align: middle;\n",
       "    }\n",
       "\n",
       "    .dataframe tbody tr th {\n",
       "        vertical-align: top;\n",
       "    }\n",
       "\n",
       "    .dataframe thead th {\n",
       "        text-align: right;\n",
       "    }\n",
       "</style>\n",
       "<table border=\"1\" class=\"dataframe\">\n",
       "  <thead>\n",
       "    <tr style=\"text-align: right;\">\n",
       "      <th></th>\n",
       "      <th>count</th>\n",
       "      <th>unique</th>\n",
       "      <th>top</th>\n",
       "      <th>freq</th>\n",
       "    </tr>\n",
       "    <tr>\n",
       "      <th>CUST_MONETARY_CLUSTER</th>\n",
       "      <th></th>\n",
       "      <th></th>\n",
       "      <th></th>\n",
       "      <th></th>\n",
       "    </tr>\n",
       "  </thead>\n",
       "  <tbody>\n",
       "    <tr>\n",
       "      <th>0</th>\n",
       "      <td>16855</td>\n",
       "      <td>16697</td>\n",
       "      <td>604.9537703152</td>\n",
       "      <td>3</td>\n",
       "    </tr>\n",
       "    <tr>\n",
       "      <th>1</th>\n",
       "      <td>29445</td>\n",
       "      <td>28796</td>\n",
       "      <td>861.0534167213</td>\n",
       "      <td>3</td>\n",
       "    </tr>\n",
       "  </tbody>\n",
       "</table>\n",
       "</div>"
      ],
      "text/plain": [
       "                       count unique             top freq\n",
       "CUST_MONETARY_CLUSTER                                   \n",
       "0                      16855  16697  604.9537703152    3\n",
       "1                      29445  28796  861.0534167213    3"
      ]
     },
     "execution_count": 395,
     "metadata": {},
     "output_type": "execute_result"
    }
   ],
   "source": [
    "#build 2 clusters for monetary and add it to dataframe\n",
    "\n",
    "kmeans = KMeans(n_clusters=2, n_init=20, random_state=1)\n",
    "kmeans.fit(customer_last_order_timestamp_df1[['MONETARY_VALUE']])\n",
    "customer_last_order_timestamp_df1['CUST_MONETARY_CLUSTER'] = kmeans.predict(customer_last_order_timestamp_df1[['MONETARY_VALUE']])\n",
    "\n",
    "\n",
    "# reuse function for ordering cluster numbers\n",
    "customer_last_order_timestamp_df1 = order_cluster('CUST_MONETARY_CLUSTER', 'MONETARY_VALUE',customer_last_order_timestamp_df1,True)\n",
    "customer_last_order_timestamp_df1.groupby(\"CUST_MONETARY_CLUSTER\")[\"MONETARY_VALUE\"].describe()"
   ]
  },
  {
   "cell_type": "code",
   "execution_count": null,
   "metadata": {},
   "outputs": [
    {
     "data": {
      "text/html": [
       "<div>\n",
       "<style scoped>\n",
       "    .dataframe tbody tr th:only-of-type {\n",
       "        vertical-align: middle;\n",
       "    }\n",
       "\n",
       "    .dataframe tbody tr th {\n",
       "        vertical-align: top;\n",
       "    }\n",
       "\n",
       "    .dataframe thead th {\n",
       "        text-align: right;\n",
       "    }\n",
       "</style>\n",
       "<table border=\"1\" class=\"dataframe\">\n",
       "  <thead>\n",
       "    <tr style=\"text-align: right;\">\n",
       "      <th></th>\n",
       "      <th>CUSTOMER_ID</th>\n",
       "      <th>TOTAL_SPENT</th>\n",
       "      <th>YEARS_WITH_US</th>\n",
       "      <th>MONETARY_VALUE</th>\n",
       "      <th>CUSTOMER_FREQUENCY</th>\n",
       "      <th>TOTAL_ORDER</th>\n",
       "      <th>RECENCY_DAYS</th>\n",
       "      <th>MAX(DAYS_BETWEEN)</th>\n",
       "      <th>MIN(DAYS_BETWEEN)</th>\n",
       "      <th>AVG(DAYS_BETWEEN)</th>\n",
       "      <th>LAST_ORDER_TS</th>\n",
       "      <th>LAST_TRANS</th>\n",
       "      <th>DAYS_DF1</th>\n",
       "      <th>CUST_REC_CLUSTER</th>\n",
       "      <th>CUST_FREQ_CLUSTER</th>\n",
       "      <th>CUST_MONETARY_CLUSTER</th>\n",
       "    </tr>\n",
       "  </thead>\n",
       "  <tbody>\n",
       "    <tr>\n",
       "      <th>0</th>\n",
       "      <td>47008</td>\n",
       "      <td>2726.25</td>\n",
       "      <td>2.791781</td>\n",
       "      <td>976.5271702902</td>\n",
       "      <td>23.640823</td>\n",
       "      <td>66</td>\n",
       "      <td>21</td>\n",
       "      <td>70</td>\n",
       "      <td>1</td>\n",
       "      <td>15.353846</td>\n",
       "      <td>2022-09-27 19:18:22</td>\n",
       "      <td>2022-10-18 22:56:45</td>\n",
       "      <td>21</td>\n",
       "      <td>1</td>\n",
       "      <td>2</td>\n",
       "      <td>1</td>\n",
       "    </tr>\n",
       "    <tr>\n",
       "      <th>1</th>\n",
       "      <td>10988</td>\n",
       "      <td>1983.25</td>\n",
       "      <td>2.567123</td>\n",
       "      <td>772.5574505000</td>\n",
       "      <td>22.203845</td>\n",
       "      <td>57</td>\n",
       "      <td>0</td>\n",
       "      <td>86</td>\n",
       "      <td>1</td>\n",
       "      <td>16.732143</td>\n",
       "      <td>2022-10-18 10:54:30</td>\n",
       "      <td>2022-10-18 22:56:45</td>\n",
       "      <td>0</td>\n",
       "      <td>1</td>\n",
       "      <td>2</td>\n",
       "      <td>1</td>\n",
       "    </tr>\n",
       "    <tr>\n",
       "      <th>2</th>\n",
       "      <td>189916</td>\n",
       "      <td>2508.00</td>\n",
       "      <td>2.761644</td>\n",
       "      <td>908.1547078479</td>\n",
       "      <td>23.536705</td>\n",
       "      <td>65</td>\n",
       "      <td>3</td>\n",
       "      <td>98</td>\n",
       "      <td>1</td>\n",
       "      <td>15.703125</td>\n",
       "      <td>2022-10-15 08:54:13</td>\n",
       "      <td>2022-10-18 22:56:45</td>\n",
       "      <td>3</td>\n",
       "      <td>1</td>\n",
       "      <td>2</td>\n",
       "      <td>1</td>\n",
       "    </tr>\n",
       "    <tr>\n",
       "      <th>3</th>\n",
       "      <td>125435</td>\n",
       "      <td>2832.50</td>\n",
       "      <td>2.701370</td>\n",
       "      <td>1048.5420360780</td>\n",
       "      <td>24.802230</td>\n",
       "      <td>67</td>\n",
       "      <td>3</td>\n",
       "      <td>80</td>\n",
       "      <td>1</td>\n",
       "      <td>14.893939</td>\n",
       "      <td>2022-10-15 16:50:28</td>\n",
       "      <td>2022-10-18 22:56:45</td>\n",
       "      <td>3</td>\n",
       "      <td>1</td>\n",
       "      <td>2</td>\n",
       "      <td>1</td>\n",
       "    </tr>\n",
       "    <tr>\n",
       "      <th>4</th>\n",
       "      <td>170108</td>\n",
       "      <td>2292.75</td>\n",
       "      <td>2.769863</td>\n",
       "      <td>827.7485204142</td>\n",
       "      <td>20.939664</td>\n",
       "      <td>58</td>\n",
       "      <td>19</td>\n",
       "      <td>96</td>\n",
       "      <td>1</td>\n",
       "      <td>17.403509</td>\n",
       "      <td>2022-09-29 11:58:24</td>\n",
       "      <td>2022-10-18 22:56:45</td>\n",
       "      <td>19</td>\n",
       "      <td>1</td>\n",
       "      <td>2</td>\n",
       "      <td>1</td>\n",
       "    </tr>\n",
       "  </tbody>\n",
       "</table>\n",
       "</div>"
      ],
      "text/plain": [
       "   CUSTOMER_ID  TOTAL_SPENT  YEARS_WITH_US   MONETARY_VALUE  \\\n",
       "0        47008      2726.25       2.791781   976.5271702902   \n",
       "1        10988      1983.25       2.567123   772.5574505000   \n",
       "2       189916      2508.00       2.761644   908.1547078479   \n",
       "3       125435      2832.50       2.701370  1048.5420360780   \n",
       "4       170108      2292.75       2.769863   827.7485204142   \n",
       "\n",
       "  CUSTOMER_FREQUENCY  TOTAL_ORDER  RECENCY_DAYS  MAX(DAYS_BETWEEN)  \\\n",
       "0          23.640823           66            21                 70   \n",
       "1          22.203845           57             0                 86   \n",
       "2          23.536705           65             3                 98   \n",
       "3          24.802230           67             3                 80   \n",
       "4          20.939664           58            19                 96   \n",
       "\n",
       "   MIN(DAYS_BETWEEN) AVG(DAYS_BETWEEN)       LAST_ORDER_TS  \\\n",
       "0                  1         15.353846 2022-09-27 19:18:22   \n",
       "1                  1         16.732143 2022-10-18 10:54:30   \n",
       "2                  1         15.703125 2022-10-15 08:54:13   \n",
       "3                  1         14.893939 2022-10-15 16:50:28   \n",
       "4                  1         17.403509 2022-09-29 11:58:24   \n",
       "\n",
       "           LAST_TRANS  DAYS_DF1  CUST_REC_CLUSTER  CUST_FREQ_CLUSTER  \\\n",
       "0 2022-10-18 22:56:45        21                 1                  2   \n",
       "1 2022-10-18 22:56:45         0                 1                  2   \n",
       "2 2022-10-18 22:56:45         3                 1                  2   \n",
       "3 2022-10-18 22:56:45         3                 1                  2   \n",
       "4 2022-10-18 22:56:45        19                 1                  2   \n",
       "\n",
       "   CUST_MONETARY_CLUSTER  \n",
       "0                      1  \n",
       "1                      1  \n",
       "2                      1  \n",
       "3                      1  \n",
       "4                      1  "
      ]
     },
     "execution_count": 396,
     "metadata": {},
     "output_type": "execute_result"
    }
   ],
   "source": [
    "customer_last_order_timestamp_df1.head()"
   ]
  },
  {
   "attachments": {},
   "cell_type": "markdown",
   "metadata": {},
   "source": [
    "##### Calculating overall score of customer based on their RFM"
   ]
  },
  {
   "cell_type": "code",
   "execution_count": null,
   "metadata": {},
   "outputs": [
    {
     "data": {
      "text/html": [
       "<div>\n",
       "<style scoped>\n",
       "    .dataframe tbody tr th:only-of-type {\n",
       "        vertical-align: middle;\n",
       "    }\n",
       "\n",
       "    .dataframe tbody tr th {\n",
       "        vertical-align: top;\n",
       "    }\n",
       "\n",
       "    .dataframe thead th {\n",
       "        text-align: right;\n",
       "    }\n",
       "</style>\n",
       "<table border=\"1\" class=\"dataframe\">\n",
       "  <thead>\n",
       "    <tr style=\"text-align: right;\">\n",
       "      <th></th>\n",
       "      <th>RECENCY_DAYS</th>\n",
       "      <th>CUSTOMER_FREQUENCY</th>\n",
       "      <th>MONETARY_VALUE</th>\n",
       "    </tr>\n",
       "    <tr>\n",
       "      <th>OVERALL_SCORE</th>\n",
       "      <th></th>\n",
       "      <th></th>\n",
       "      <th></th>\n",
       "    </tr>\n",
       "  </thead>\n",
       "  <tbody>\n",
       "    <tr>\n",
       "      <th>0</th>\n",
       "      <td>162</td>\n",
       "      <td>14.910129</td>\n",
       "      <td>653.5400519390</td>\n",
       "    </tr>\n",
       "    <tr>\n",
       "      <th>1</th>\n",
       "      <td>115</td>\n",
       "      <td>20.137930</td>\n",
       "      <td>776.9808824895</td>\n",
       "    </tr>\n",
       "    <tr>\n",
       "      <th>2</th>\n",
       "      <td>98</td>\n",
       "      <td>22.946956</td>\n",
       "      <td>1006.9083679241</td>\n",
       "    </tr>\n",
       "    <tr>\n",
       "      <th>3</th>\n",
       "      <td>86</td>\n",
       "      <td>28.879117</td>\n",
       "      <td>1250.0618261625</td>\n",
       "    </tr>\n",
       "    <tr>\n",
       "      <th>4</th>\n",
       "      <td>22</td>\n",
       "      <td>31.941990</td>\n",
       "      <td>1348.0859629726</td>\n",
       "    </tr>\n",
       "  </tbody>\n",
       "</table>\n",
       "</div>"
      ],
      "text/plain": [
       "               RECENCY_DAYS CUSTOMER_FREQUENCY   MONETARY_VALUE\n",
       "OVERALL_SCORE                                                  \n",
       "0                       162          14.910129   653.5400519390\n",
       "1                       115          20.137930   776.9808824895\n",
       "2                        98          22.946956  1006.9083679241\n",
       "3                        86          28.879117  1250.0618261625\n",
       "4                        22          31.941990  1348.0859629726"
      ]
     },
     "execution_count": 397,
     "metadata": {},
     "output_type": "execute_result"
    }
   ],
   "source": [
    "# Calculate overall score of customer based on their RFM\n",
    "customer_last_order_timestamp_df1['OVERALL_SCORE'] = customer_last_order_timestamp_df1['CUST_REC_CLUSTER'] + customer_last_order_timestamp_df1['CUST_FREQ_CLUSTER'] + customer_last_order_timestamp_df1['CUST_MONETARY_CLUSTER']\n",
    "\n",
    "# Evaluation\n",
    "customer_last_order_timestamp_df1.groupby('OVERALL_SCORE')[['RECENCY_DAYS','CUSTOMER_FREQUENCY','MONETARY_VALUE']].max()"
   ]
  },
  {
   "cell_type": "code",
   "execution_count": null,
   "metadata": {},
   "outputs": [
    {
     "data": {
      "text/html": [
       "<div>\n",
       "<style scoped>\n",
       "    .dataframe tbody tr th:only-of-type {\n",
       "        vertical-align: middle;\n",
       "    }\n",
       "\n",
       "    .dataframe tbody tr th {\n",
       "        vertical-align: top;\n",
       "    }\n",
       "\n",
       "    .dataframe thead th {\n",
       "        text-align: right;\n",
       "    }\n",
       "</style>\n",
       "<table border=\"1\" class=\"dataframe\">\n",
       "  <thead>\n",
       "    <tr style=\"text-align: right;\">\n",
       "      <th></th>\n",
       "      <th>CUSTOMER_ID</th>\n",
       "      <th>TOTAL_SPENT</th>\n",
       "      <th>YEARS_WITH_US</th>\n",
       "      <th>MONETARY_VALUE</th>\n",
       "      <th>CUSTOMER_FREQUENCY</th>\n",
       "      <th>TOTAL_ORDER</th>\n",
       "      <th>RECENCY_DAYS</th>\n",
       "      <th>MAX(DAYS_BETWEEN)</th>\n",
       "      <th>MIN(DAYS_BETWEEN)</th>\n",
       "      <th>AVG(DAYS_BETWEEN)</th>\n",
       "      <th>LAST_ORDER_TS</th>\n",
       "      <th>LAST_TRANS</th>\n",
       "      <th>DAYS_DF1</th>\n",
       "      <th>CUST_REC_CLUSTER</th>\n",
       "      <th>CUST_FREQ_CLUSTER</th>\n",
       "      <th>CUST_MONETARY_CLUSTER</th>\n",
       "      <th>OVERALL_SCORE</th>\n",
       "    </tr>\n",
       "  </thead>\n",
       "  <tbody>\n",
       "    <tr>\n",
       "      <th>0</th>\n",
       "      <td>47008</td>\n",
       "      <td>2726.25</td>\n",
       "      <td>2.791781</td>\n",
       "      <td>976.5271702902</td>\n",
       "      <td>23.640823</td>\n",
       "      <td>66</td>\n",
       "      <td>21</td>\n",
       "      <td>70</td>\n",
       "      <td>1</td>\n",
       "      <td>15.353846</td>\n",
       "      <td>2022-09-27 19:18:22</td>\n",
       "      <td>2022-10-18 22:56:45</td>\n",
       "      <td>21</td>\n",
       "      <td>1</td>\n",
       "      <td>2</td>\n",
       "      <td>1</td>\n",
       "      <td>4</td>\n",
       "    </tr>\n",
       "    <tr>\n",
       "      <th>1</th>\n",
       "      <td>10988</td>\n",
       "      <td>1983.25</td>\n",
       "      <td>2.567123</td>\n",
       "      <td>772.5574505000</td>\n",
       "      <td>22.203845</td>\n",
       "      <td>57</td>\n",
       "      <td>0</td>\n",
       "      <td>86</td>\n",
       "      <td>1</td>\n",
       "      <td>16.732143</td>\n",
       "      <td>2022-10-18 10:54:30</td>\n",
       "      <td>2022-10-18 22:56:45</td>\n",
       "      <td>0</td>\n",
       "      <td>1</td>\n",
       "      <td>2</td>\n",
       "      <td>1</td>\n",
       "      <td>4</td>\n",
       "    </tr>\n",
       "    <tr>\n",
       "      <th>2</th>\n",
       "      <td>189916</td>\n",
       "      <td>2508.00</td>\n",
       "      <td>2.761644</td>\n",
       "      <td>908.1547078479</td>\n",
       "      <td>23.536705</td>\n",
       "      <td>65</td>\n",
       "      <td>3</td>\n",
       "      <td>98</td>\n",
       "      <td>1</td>\n",
       "      <td>15.703125</td>\n",
       "      <td>2022-10-15 08:54:13</td>\n",
       "      <td>2022-10-18 22:56:45</td>\n",
       "      <td>3</td>\n",
       "      <td>1</td>\n",
       "      <td>2</td>\n",
       "      <td>1</td>\n",
       "      <td>4</td>\n",
       "    </tr>\n",
       "    <tr>\n",
       "      <th>3</th>\n",
       "      <td>125435</td>\n",
       "      <td>2832.50</td>\n",
       "      <td>2.701370</td>\n",
       "      <td>1048.5420360780</td>\n",
       "      <td>24.802230</td>\n",
       "      <td>67</td>\n",
       "      <td>3</td>\n",
       "      <td>80</td>\n",
       "      <td>1</td>\n",
       "      <td>14.893939</td>\n",
       "      <td>2022-10-15 16:50:28</td>\n",
       "      <td>2022-10-18 22:56:45</td>\n",
       "      <td>3</td>\n",
       "      <td>1</td>\n",
       "      <td>2</td>\n",
       "      <td>1</td>\n",
       "      <td>4</td>\n",
       "    </tr>\n",
       "    <tr>\n",
       "      <th>4</th>\n",
       "      <td>170108</td>\n",
       "      <td>2292.75</td>\n",
       "      <td>2.769863</td>\n",
       "      <td>827.7485204142</td>\n",
       "      <td>20.939664</td>\n",
       "      <td>58</td>\n",
       "      <td>19</td>\n",
       "      <td>96</td>\n",
       "      <td>1</td>\n",
       "      <td>17.403509</td>\n",
       "      <td>2022-09-29 11:58:24</td>\n",
       "      <td>2022-10-18 22:56:45</td>\n",
       "      <td>19</td>\n",
       "      <td>1</td>\n",
       "      <td>2</td>\n",
       "      <td>1</td>\n",
       "      <td>4</td>\n",
       "    </tr>\n",
       "  </tbody>\n",
       "</table>\n",
       "</div>"
      ],
      "text/plain": [
       "   CUSTOMER_ID  TOTAL_SPENT  YEARS_WITH_US   MONETARY_VALUE  \\\n",
       "0        47008      2726.25       2.791781   976.5271702902   \n",
       "1        10988      1983.25       2.567123   772.5574505000   \n",
       "2       189916      2508.00       2.761644   908.1547078479   \n",
       "3       125435      2832.50       2.701370  1048.5420360780   \n",
       "4       170108      2292.75       2.769863   827.7485204142   \n",
       "\n",
       "  CUSTOMER_FREQUENCY  TOTAL_ORDER  RECENCY_DAYS  MAX(DAYS_BETWEEN)  \\\n",
       "0          23.640823           66            21                 70   \n",
       "1          22.203845           57             0                 86   \n",
       "2          23.536705           65             3                 98   \n",
       "3          24.802230           67             3                 80   \n",
       "4          20.939664           58            19                 96   \n",
       "\n",
       "   MIN(DAYS_BETWEEN) AVG(DAYS_BETWEEN)       LAST_ORDER_TS  \\\n",
       "0                  1         15.353846 2022-09-27 19:18:22   \n",
       "1                  1         16.732143 2022-10-18 10:54:30   \n",
       "2                  1         15.703125 2022-10-15 08:54:13   \n",
       "3                  1         14.893939 2022-10-15 16:50:28   \n",
       "4                  1         17.403509 2022-09-29 11:58:24   \n",
       "\n",
       "           LAST_TRANS  DAYS_DF1  CUST_REC_CLUSTER  CUST_FREQ_CLUSTER  \\\n",
       "0 2022-10-18 22:56:45        21                 1                  2   \n",
       "1 2022-10-18 22:56:45         0                 1                  2   \n",
       "2 2022-10-18 22:56:45         3                 1                  2   \n",
       "3 2022-10-18 22:56:45         3                 1                  2   \n",
       "4 2022-10-18 22:56:45        19                 1                  2   \n",
       "\n",
       "   CUST_MONETARY_CLUSTER  OVERALL_SCORE  \n",
       "0                      1              4  \n",
       "1                      1              4  \n",
       "2                      1              4  \n",
       "3                      1              4  \n",
       "4                      1              4  "
      ]
     },
     "execution_count": 398,
     "metadata": {},
     "output_type": "execute_result"
    }
   ],
   "source": [
    "customer_last_order_timestamp_df1.head()"
   ]
  },
  {
   "attachments": {},
   "cell_type": "markdown",
   "metadata": {},
   "source": [
    "### 4.2 Getting second dataframe <a id=\"part4.2\"></a>"
   ]
  },
  {
   "cell_type": "code",
   "execution_count": null,
   "metadata": {},
   "outputs": [
    {
     "name": "stdout",
     "output_type": "stream",
     "text": [
      "--------------------------------------------------------------------------------------------------------------------------------------------------------------------------------------------------------------------------------------------------------------------------------------------------------------------------------------------------------\n",
      "|\"ORDER_ID\"  |\"TRUCK_ID\"  |\"LOCATION_ID\"  |\"CUSTOMER_ID\"  |\"DISCOUNT_ID\"  |\"SHIFT_ID\"  |\"SHIFT_START_TIME\"  |\"SHIFT_END_TIME\"  |\"ORDER_CHANNEL\"  |\"ORDER_TS\"           |\"SERVED_TS\"  |\"ORDER_CURRENCY\"  |\"ORDER_AMOUNT\"  |\"ORDER_TAX_AMOUNT\"  |\"ORDER_DISCOUNT_AMOUNT\"  |\"ORDER_TOTAL\"  |\"CUSTOMER_ID_US\"  |\"LAST_DATE\"          |\"TWO_WEEKS_BEFORE\"   |\n",
      "--------------------------------------------------------------------------------------------------------------------------------------------------------------------------------------------------------------------------------------------------------------------------------------------------------------------------------------------------------\n",
      "|456237000   |31          |8409.0         |126027         |NULL           |200564946   |09:00:00            |15:00:00          |NULL             |2022-10-19 09:18:56  |NULL         |USD               |13.0000         |NULL                |NULL                     |13.0000        |126027            |2022-11-01 22:58:56  |2022-10-18 22:58:56  |\n",
      "|456237015   |31          |8409.0         |98910          |NULL           |200564946   |09:00:00            |15:00:00          |NULL             |2022-10-19 09:42:07  |NULL         |USD               |16.0000         |NULL                |NULL                     |16.0000        |98910             |2022-11-01 22:58:56  |2022-10-18 22:58:56  |\n",
      "|456237038   |31          |8409.0         |192028         |NULL           |200564946   |09:00:00            |15:00:00          |NULL             |2022-10-19 10:49:28  |NULL         |USD               |16.0000         |NULL                |NULL                     |16.0000        |192028            |2022-11-01 22:58:56  |2022-10-18 22:58:56  |\n",
      "|456237070   |31          |8409.0         |86746          |NULL           |200564946   |09:00:00            |15:00:00          |NULL             |2022-10-19 11:46:19  |NULL         |USD               |10.0000         |NULL                |NULL                     |10.0000        |86746             |2022-11-01 22:58:56  |2022-10-18 22:58:56  |\n",
      "|456237140   |31          |8409.0         |135913         |NULL           |200564946   |09:00:00            |15:00:00          |NULL             |2022-10-19 13:19:40  |NULL         |USD               |12.0000         |NULL                |NULL                     |12.0000        |135913            |2022-11-01 22:58:56  |2022-10-18 22:58:56  |\n",
      "|456237143   |31          |8409.0         |135647         |NULL           |200564946   |09:00:00            |15:00:00          |NULL             |2022-10-19 13:22:05  |NULL         |USD               |31.5000         |NULL                |NULL                     |31.5000        |135647            |2022-11-01 22:58:56  |2022-10-18 22:58:56  |\n",
      "|456237156   |31          |8409.0         |178544         |NULL           |200564946   |09:00:00            |15:00:00          |NULL             |2022-10-19 13:34:30  |NULL         |USD               |3.0000          |NULL                |NULL                     |3.0000         |178544            |2022-11-01 22:58:56  |2022-10-18 22:58:56  |\n",
      "|456237201   |31          |15470.0        |87142          |NULL           |200564947   |16:00:00            |23:00:00          |NULL             |2022-10-19 17:05:15  |NULL         |USD               |47.5000         |NULL                |NULL                     |47.5000        |87142             |2022-11-01 22:58:56  |2022-10-18 22:58:56  |\n",
      "|456237210   |31          |15470.0        |145508         |NULL           |200564947   |16:00:00            |23:00:00          |NULL             |2022-10-19 17:22:55  |NULL         |USD               |22.0000         |NULL                |NULL                     |22.0000        |145508            |2022-11-01 22:58:56  |2022-10-18 22:58:56  |\n",
      "|456237220   |31          |15470.0        |82572          |NULL           |200564947   |16:00:00            |23:00:00          |NULL             |2022-10-19 17:41:36  |NULL         |USD               |13.0000         |NULL                |NULL                     |13.0000        |82572             |2022-11-01 22:58:56  |2022-10-18 22:58:56  |\n",
      "--------------------------------------------------------------------------------------------------------------------------------------------------------------------------------------------------------------------------------------------------------------------------------------------------------------------------------------------------------\n",
      "\n"
     ]
    }
   ],
   "source": [
    "# Get last 2 weeks before last transaction date provided (second dataframe)\n",
    "order_df2 = order_header_df.filter(F.col(\"ORDER_TS\")>F.col(\"TWO_WEEKS_BEFORE\"))\n",
    "order_df2.show()"
   ]
  },
  {
   "cell_type": "code",
   "execution_count": null,
   "metadata": {},
   "outputs": [
    {
     "name": "stdout",
     "output_type": "stream",
     "text": [
      "-----------------------\n",
      "|\"MIN(ORDER_TS)\"      |\n",
      "-----------------------\n",
      "|2022-10-19 08:00:15  |\n",
      "-----------------------\n",
      "\n",
      "-----------------------\n",
      "|\"MAX(ORDER_TS)\"      |\n",
      "-----------------------\n",
      "|2022-11-01 22:58:56  |\n",
      "-----------------------\n",
      "\n"
     ]
    }
   ],
   "source": [
    "# Ensure timeframe is correct\n",
    "order_df2.agg(F.min('ORDER_TS')).show()\n",
    "order_df2.agg(F.max('ORDER_TS')).show()"
   ]
  },
  {
   "cell_type": "code",
   "execution_count": null,
   "metadata": {},
   "outputs": [
    {
     "name": "stdout",
     "output_type": "stream",
     "text": [
      "---------------------------------------\n",
      "|\"CUSTOMER_ID\"  |\"FIRST_ORDER_TS\"     |\n",
      "---------------------------------------\n",
      "|184287         |2022-10-19 08:00:15  |\n",
      "|42060          |2022-10-19 08:00:46  |\n",
      "|196281         |2022-10-19 08:00:59  |\n",
      "|127806         |2022-10-19 08:01:29  |\n",
      "|170016         |2022-10-19 08:01:47  |\n",
      "|64450          |2022-10-19 08:01:53  |\n",
      "|191049         |2022-10-19 08:01:59  |\n",
      "|118969         |2022-10-19 08:02:19  |\n",
      "|192268         |2022-10-19 08:04:20  |\n",
      "|95980          |2022-10-19 08:04:33  |\n",
      "---------------------------------------\n",
      "\n"
     ]
    }
   ],
   "source": [
    "# Getting the earliest purchase date for each customer in df2\n",
    "customer_first_order_timestamp_df2 = order_df2.groupBy(\"CUSTOMER_ID\").agg(F.min(\"ORDER_TS\").alias(\"FIRST_ORDER_TS\"))\n",
    "customer_first_order_timestamp_df2 = customer_first_order_timestamp_df2.sort(col(\"FIRST_ORDER_TS\"))\n",
    "customer_first_order_timestamp_df2.show()"
   ]
  },
  {
   "cell_type": "code",
   "execution_count": null,
   "metadata": {},
   "outputs": [
    {
     "name": "stdout",
     "output_type": "stream",
     "text": [
      "-------------------------------------------------------------\n",
      "|\"CUSTOMER_ID\"  |\"FIRST_ORDER_TS\"     |\"FIRST_TRANS\"        |\n",
      "-------------------------------------------------------------\n",
      "|184287         |2022-10-19 08:00:15  |2022-10-19 08:00:15  |\n",
      "|42060          |2022-10-19 08:00:46  |2022-10-19 08:00:15  |\n",
      "|196281         |2022-10-19 08:00:59  |2022-10-19 08:00:15  |\n",
      "|127806         |2022-10-19 08:01:29  |2022-10-19 08:00:15  |\n",
      "|170016         |2022-10-19 08:01:47  |2022-10-19 08:00:15  |\n",
      "|64450          |2022-10-19 08:01:53  |2022-10-19 08:00:15  |\n",
      "|191049         |2022-10-19 08:01:59  |2022-10-19 08:00:15  |\n",
      "|118969         |2022-10-19 08:02:19  |2022-10-19 08:00:15  |\n",
      "|192268         |2022-10-19 08:04:20  |2022-10-19 08:00:15  |\n",
      "|95980          |2022-10-19 08:04:33  |2022-10-19 08:00:15  |\n",
      "-------------------------------------------------------------\n",
      "\n"
     ]
    }
   ],
   "source": [
    "# Getting first order date\n",
    "earliest_transaction_df2 = order_df2.agg(F.min(\"ORDER_TS\").alias(\"FIRST_ORDER_TS\")).collect()[0][0]\n",
    "customer_first_order_timestamp_df2 = customer_first_order_timestamp_df2.withColumn(\"FIRST_TRANS\", F.iff(F.col(\"CUSTOMER_ID\") == F.col(\"CUSTOMER_ID\"), earliest_transaction_df2, earliest_transaction_df2))\n",
    "customer_first_order_timestamp_df2.show()"
   ]
  },
  {
   "cell_type": "code",
   "execution_count": null,
   "metadata": {},
   "outputs": [
    {
     "name": "stdout",
     "output_type": "stream",
     "text": [
      "--------------------------------------------------------------------------\n",
      "|\"CUSTOMER_ID\"  |\"FIRST_ORDER_TS\"     |\"FIRST_TRANS\"        |\"DAYS_DF2\"  |\n",
      "--------------------------------------------------------------------------\n",
      "|92790          |2022-10-21 21:53:32  |2022-10-19 08:00:15  |2           |\n",
      "|50425          |2022-10-21 21:53:45  |2022-10-19 08:00:15  |2           |\n",
      "|124094         |2022-10-21 21:53:53  |2022-10-19 08:00:15  |2           |\n",
      "|194703         |2022-10-21 21:54:45  |2022-10-19 08:00:15  |2           |\n",
      "|67009          |2022-10-21 21:54:53  |2022-10-19 08:00:15  |2           |\n",
      "|157402         |2022-10-21 21:55:41  |2022-10-19 08:00:15  |2           |\n",
      "|91608          |2022-10-21 21:56:22  |2022-10-19 08:00:15  |2           |\n",
      "|80169          |2022-10-21 21:56:28  |2022-10-19 08:00:15  |2           |\n",
      "|180901         |2022-10-21 21:56:37  |2022-10-19 08:00:15  |2           |\n",
      "|163630         |2022-10-21 21:56:48  |2022-10-19 08:00:15  |2           |\n",
      "--------------------------------------------------------------------------\n",
      "\n"
     ]
    }
   ],
   "source": [
    "# Getting the date diff from customer last order to the date 2 weeks before the latest provided transaction date in df1\n",
    "customer_first_order_timestamp_df2 = customer_first_order_timestamp_df2.withColumn(\"days_df2\", F.datediff(\"day\", customer_first_order_timestamp_df2[\"FIRST_TRANS\"], customer_first_order_timestamp_df2[\"FIRST_ORDER_TS\"]))\n",
    "customer_first_order_timestamp_df2.show()"
   ]
  },
  {
   "attachments": {},
   "cell_type": "markdown",
   "metadata": {},
   "source": [
    "### 4.3 Merging dataframes <a id=\"part4.3\"></a>"
   ]
  },
  {
   "cell_type": "code",
   "execution_count": null,
   "metadata": {},
   "outputs": [],
   "source": [
    "# convert 2nd dataframe to pandas\n",
    "customer_first_order_timestamp_df2 = customer_first_order_timestamp_df2.to_pandas()"
   ]
  },
  {
   "cell_type": "code",
   "execution_count": null,
   "metadata": {},
   "outputs": [
    {
     "name": "stdout",
     "output_type": "stream",
     "text": [
      "<class 'pandas.core.frame.DataFrame'>\n",
      "RangeIndex: 33053 entries, 0 to 33052\n",
      "Data columns (total 4 columns):\n",
      " #   Column          Non-Null Count  Dtype         \n",
      "---  ------          --------------  -----         \n",
      " 0   CUSTOMER_ID     33053 non-null  int32         \n",
      " 1   FIRST_ORDER_TS  33053 non-null  datetime64[ns]\n",
      " 2   FIRST_TRANS     33053 non-null  datetime64[ns]\n",
      " 3   DAYS_DF2        33053 non-null  int32         \n",
      "dtypes: datetime64[ns](2), int32(2)\n",
      "memory usage: 774.8 KB\n"
     ]
    }
   ],
   "source": [
    "customer_first_order_timestamp_df2.info()"
   ]
  },
  {
   "cell_type": "code",
   "execution_count": null,
   "metadata": {},
   "outputs": [
    {
     "name": "stdout",
     "output_type": "stream",
     "text": [
      "<class 'pandas.core.frame.DataFrame'>\n",
      "Int64Index: 46300 entries, 0 to 46299\n",
      "Data columns (total 17 columns):\n",
      " #   Column                 Non-Null Count  Dtype         \n",
      "---  ------                 --------------  -----         \n",
      " 0   CUSTOMER_ID            46300 non-null  int32         \n",
      " 1   TOTAL_SPENT            46300 non-null  float64       \n",
      " 2   YEARS_WITH_US          46300 non-null  float64       \n",
      " 3   MONETARY_VALUE         46300 non-null  object        \n",
      " 4   CUSTOMER_FREQUENCY     46300 non-null  object        \n",
      " 5   TOTAL_ORDER            46300 non-null  int64         \n",
      " 6   RECENCY_DAYS           46300 non-null  int32         \n",
      " 7   MAX(DAYS_BETWEEN)      46300 non-null  int32         \n",
      " 8   MIN(DAYS_BETWEEN)      46300 non-null  int32         \n",
      " 9   AVG(DAYS_BETWEEN)      46300 non-null  object        \n",
      " 10  LAST_ORDER_TS          46300 non-null  datetime64[ns]\n",
      " 11  LAST_TRANS             46300 non-null  datetime64[ns]\n",
      " 12  DAYS_DF1               46300 non-null  int32         \n",
      " 13  CUST_REC_CLUSTER       46300 non-null  int64         \n",
      " 14  CUST_FREQ_CLUSTER      46300 non-null  int64         \n",
      " 15  CUST_MONETARY_CLUSTER  46300 non-null  int64         \n",
      " 16  OVERALL_SCORE          46300 non-null  int64         \n",
      "dtypes: datetime64[ns](2), float64(2), int32(5), int64(5), object(3)\n",
      "memory usage: 5.5+ MB\n"
     ]
    }
   ],
   "source": [
    "customer_last_order_timestamp_df1.info()"
   ]
  },
  {
   "cell_type": "code",
   "execution_count": null,
   "metadata": {},
   "outputs": [
    {
     "data": {
      "text/html": [
       "<div>\n",
       "<style scoped>\n",
       "    .dataframe tbody tr th:only-of-type {\n",
       "        vertical-align: middle;\n",
       "    }\n",
       "\n",
       "    .dataframe tbody tr th {\n",
       "        vertical-align: top;\n",
       "    }\n",
       "\n",
       "    .dataframe thead th {\n",
       "        text-align: right;\n",
       "    }\n",
       "</style>\n",
       "<table border=\"1\" class=\"dataframe\">\n",
       "  <thead>\n",
       "    <tr style=\"text-align: right;\">\n",
       "      <th></th>\n",
       "      <th>CUSTOMER_ID</th>\n",
       "      <th>TOTAL_SPENT</th>\n",
       "      <th>YEARS_WITH_US</th>\n",
       "      <th>MONETARY_VALUE</th>\n",
       "      <th>CUSTOMER_FREQUENCY</th>\n",
       "      <th>TOTAL_ORDER</th>\n",
       "      <th>RECENCY_DAYS</th>\n",
       "      <th>MAX(DAYS_BETWEEN)</th>\n",
       "      <th>MIN(DAYS_BETWEEN)</th>\n",
       "      <th>AVG(DAYS_BETWEEN)</th>\n",
       "      <th>DAYS_DF1</th>\n",
       "      <th>CUST_REC_CLUSTER</th>\n",
       "      <th>CUST_FREQ_CLUSTER</th>\n",
       "      <th>CUST_MONETARY_CLUSTER</th>\n",
       "      <th>OVERALL_SCORE</th>\n",
       "      <th>DAYS_DF2</th>\n",
       "    </tr>\n",
       "  </thead>\n",
       "  <tbody>\n",
       "    <tr>\n",
       "      <th>0</th>\n",
       "      <td>47008</td>\n",
       "      <td>2726.25</td>\n",
       "      <td>2.791781</td>\n",
       "      <td>976.5271702902</td>\n",
       "      <td>23.640823</td>\n",
       "      <td>66</td>\n",
       "      <td>21</td>\n",
       "      <td>70</td>\n",
       "      <td>1</td>\n",
       "      <td>15.353846</td>\n",
       "      <td>21</td>\n",
       "      <td>1</td>\n",
       "      <td>2</td>\n",
       "      <td>1</td>\n",
       "      <td>4</td>\n",
       "      <td>0.0</td>\n",
       "    </tr>\n",
       "    <tr>\n",
       "      <th>1</th>\n",
       "      <td>10988</td>\n",
       "      <td>1983.25</td>\n",
       "      <td>2.567123</td>\n",
       "      <td>772.5574505000</td>\n",
       "      <td>22.203845</td>\n",
       "      <td>57</td>\n",
       "      <td>0</td>\n",
       "      <td>86</td>\n",
       "      <td>1</td>\n",
       "      <td>16.732143</td>\n",
       "      <td>0</td>\n",
       "      <td>1</td>\n",
       "      <td>2</td>\n",
       "      <td>1</td>\n",
       "      <td>4</td>\n",
       "      <td>6.0</td>\n",
       "    </tr>\n",
       "    <tr>\n",
       "      <th>2</th>\n",
       "      <td>189916</td>\n",
       "      <td>2508.00</td>\n",
       "      <td>2.761644</td>\n",
       "      <td>908.1547078479</td>\n",
       "      <td>23.536705</td>\n",
       "      <td>65</td>\n",
       "      <td>3</td>\n",
       "      <td>98</td>\n",
       "      <td>1</td>\n",
       "      <td>15.703125</td>\n",
       "      <td>3</td>\n",
       "      <td>1</td>\n",
       "      <td>2</td>\n",
       "      <td>1</td>\n",
       "      <td>4</td>\n",
       "      <td>NaN</td>\n",
       "    </tr>\n",
       "    <tr>\n",
       "      <th>3</th>\n",
       "      <td>125435</td>\n",
       "      <td>2832.50</td>\n",
       "      <td>2.701370</td>\n",
       "      <td>1048.5420360780</td>\n",
       "      <td>24.802230</td>\n",
       "      <td>67</td>\n",
       "      <td>3</td>\n",
       "      <td>80</td>\n",
       "      <td>1</td>\n",
       "      <td>14.893939</td>\n",
       "      <td>3</td>\n",
       "      <td>1</td>\n",
       "      <td>2</td>\n",
       "      <td>1</td>\n",
       "      <td>4</td>\n",
       "      <td>2.0</td>\n",
       "    </tr>\n",
       "    <tr>\n",
       "      <th>4</th>\n",
       "      <td>170108</td>\n",
       "      <td>2292.75</td>\n",
       "      <td>2.769863</td>\n",
       "      <td>827.7485204142</td>\n",
       "      <td>20.939664</td>\n",
       "      <td>58</td>\n",
       "      <td>19</td>\n",
       "      <td>96</td>\n",
       "      <td>1</td>\n",
       "      <td>17.403509</td>\n",
       "      <td>19</td>\n",
       "      <td>1</td>\n",
       "      <td>2</td>\n",
       "      <td>1</td>\n",
       "      <td>4</td>\n",
       "      <td>1.0</td>\n",
       "    </tr>\n",
       "  </tbody>\n",
       "</table>\n",
       "</div>"
      ],
      "text/plain": [
       "   CUSTOMER_ID  TOTAL_SPENT  YEARS_WITH_US   MONETARY_VALUE  \\\n",
       "0        47008      2726.25       2.791781   976.5271702902   \n",
       "1        10988      1983.25       2.567123   772.5574505000   \n",
       "2       189916      2508.00       2.761644   908.1547078479   \n",
       "3       125435      2832.50       2.701370  1048.5420360780   \n",
       "4       170108      2292.75       2.769863   827.7485204142   \n",
       "\n",
       "  CUSTOMER_FREQUENCY  TOTAL_ORDER  RECENCY_DAYS  MAX(DAYS_BETWEEN)  \\\n",
       "0          23.640823           66            21                 70   \n",
       "1          22.203845           57             0                 86   \n",
       "2          23.536705           65             3                 98   \n",
       "3          24.802230           67             3                 80   \n",
       "4          20.939664           58            19                 96   \n",
       "\n",
       "   MIN(DAYS_BETWEEN) AVG(DAYS_BETWEEN)  DAYS_DF1  CUST_REC_CLUSTER  \\\n",
       "0                  1         15.353846        21                 1   \n",
       "1                  1         16.732143         0                 1   \n",
       "2                  1         15.703125         3                 1   \n",
       "3                  1         14.893939         3                 1   \n",
       "4                  1         17.403509        19                 1   \n",
       "\n",
       "   CUST_FREQ_CLUSTER  CUST_MONETARY_CLUSTER  OVERALL_SCORE  DAYS_DF2  \n",
       "0                  2                      1              4       0.0  \n",
       "1                  2                      1              4       6.0  \n",
       "2                  2                      1              4       NaN  \n",
       "3                  2                      1              4       2.0  \n",
       "4                  2                      1              4       1.0  "
      ]
     },
     "execution_count": 407,
     "metadata": {},
     "output_type": "execute_result"
    }
   ],
   "source": [
    "# merge first dataframe and second dataframe \n",
    "# since the number of rows in the first and second dataframe are different, we can infer that there are some customers that did not make an order in the 14 days timeframe\n",
    "final_df = pd.merge(customer_last_order_timestamp_df1, customer_first_order_timestamp_df2, on='CUSTOMER_ID', how='left')\n",
    "\n",
    "# drop irrelevant columns\n",
    "final_df = final_df.drop([\"FIRST_ORDER_TS\", \"FIRST_TRANS\", \"LAST_ORDER_TS\", \"LAST_TRANS\"], axis=1)\n",
    "final_df.head()\n"
   ]
  },
  {
   "attachments": {},
   "cell_type": "markdown",
   "metadata": {},
   "source": [
    "### 4.4 Adding Target Variable <a id=\"part4.4\"></a>"
   ]
  },
  {
   "cell_type": "code",
   "execution_count": null,
   "metadata": {},
   "outputs": [
    {
     "data": {
      "text/html": [
       "<div>\n",
       "<style scoped>\n",
       "    .dataframe tbody tr th:only-of-type {\n",
       "        vertical-align: middle;\n",
       "    }\n",
       "\n",
       "    .dataframe tbody tr th {\n",
       "        vertical-align: top;\n",
       "    }\n",
       "\n",
       "    .dataframe thead th {\n",
       "        text-align: right;\n",
       "    }\n",
       "</style>\n",
       "<table border=\"1\" class=\"dataframe\">\n",
       "  <thead>\n",
       "    <tr style=\"text-align: right;\">\n",
       "      <th></th>\n",
       "      <th>CUSTOMER_ID</th>\n",
       "      <th>TOTAL_SPENT</th>\n",
       "      <th>YEARS_WITH_US</th>\n",
       "      <th>MONETARY_VALUE</th>\n",
       "      <th>CUSTOMER_FREQUENCY</th>\n",
       "      <th>TOTAL_ORDER</th>\n",
       "      <th>RECENCY_DAYS</th>\n",
       "      <th>MAX(DAYS_BETWEEN)</th>\n",
       "      <th>MIN(DAYS_BETWEEN)</th>\n",
       "      <th>AVG(DAYS_BETWEEN)</th>\n",
       "      <th>CUST_REC_CLUSTER</th>\n",
       "      <th>CUST_FREQ_CLUSTER</th>\n",
       "      <th>CUST_MONETARY_CLUSTER</th>\n",
       "      <th>OVERALL_SCORE</th>\n",
       "      <th>TARGET</th>\n",
       "    </tr>\n",
       "  </thead>\n",
       "  <tbody>\n",
       "    <tr>\n",
       "      <th>0</th>\n",
       "      <td>47008</td>\n",
       "      <td>2726.25</td>\n",
       "      <td>2.791781</td>\n",
       "      <td>976.5271702902</td>\n",
       "      <td>23.640823</td>\n",
       "      <td>66</td>\n",
       "      <td>21</td>\n",
       "      <td>70</td>\n",
       "      <td>1</td>\n",
       "      <td>15.353846</td>\n",
       "      <td>1</td>\n",
       "      <td>2</td>\n",
       "      <td>1</td>\n",
       "      <td>4</td>\n",
       "      <td>21.0</td>\n",
       "    </tr>\n",
       "    <tr>\n",
       "      <th>1</th>\n",
       "      <td>10988</td>\n",
       "      <td>1983.25</td>\n",
       "      <td>2.567123</td>\n",
       "      <td>772.5574505000</td>\n",
       "      <td>22.203845</td>\n",
       "      <td>57</td>\n",
       "      <td>0</td>\n",
       "      <td>86</td>\n",
       "      <td>1</td>\n",
       "      <td>16.732143</td>\n",
       "      <td>1</td>\n",
       "      <td>2</td>\n",
       "      <td>1</td>\n",
       "      <td>4</td>\n",
       "      <td>6.0</td>\n",
       "    </tr>\n",
       "    <tr>\n",
       "      <th>2</th>\n",
       "      <td>189916</td>\n",
       "      <td>2508.00</td>\n",
       "      <td>2.761644</td>\n",
       "      <td>908.1547078479</td>\n",
       "      <td>23.536705</td>\n",
       "      <td>65</td>\n",
       "      <td>3</td>\n",
       "      <td>98</td>\n",
       "      <td>1</td>\n",
       "      <td>15.703125</td>\n",
       "      <td>1</td>\n",
       "      <td>2</td>\n",
       "      <td>1</td>\n",
       "      <td>4</td>\n",
       "      <td>NaN</td>\n",
       "    </tr>\n",
       "    <tr>\n",
       "      <th>3</th>\n",
       "      <td>125435</td>\n",
       "      <td>2832.50</td>\n",
       "      <td>2.701370</td>\n",
       "      <td>1048.5420360780</td>\n",
       "      <td>24.802230</td>\n",
       "      <td>67</td>\n",
       "      <td>3</td>\n",
       "      <td>80</td>\n",
       "      <td>1</td>\n",
       "      <td>14.893939</td>\n",
       "      <td>1</td>\n",
       "      <td>2</td>\n",
       "      <td>1</td>\n",
       "      <td>4</td>\n",
       "      <td>5.0</td>\n",
       "    </tr>\n",
       "    <tr>\n",
       "      <th>4</th>\n",
       "      <td>170108</td>\n",
       "      <td>2292.75</td>\n",
       "      <td>2.769863</td>\n",
       "      <td>827.7485204142</td>\n",
       "      <td>20.939664</td>\n",
       "      <td>58</td>\n",
       "      <td>19</td>\n",
       "      <td>96</td>\n",
       "      <td>1</td>\n",
       "      <td>17.403509</td>\n",
       "      <td>1</td>\n",
       "      <td>2</td>\n",
       "      <td>1</td>\n",
       "      <td>4</td>\n",
       "      <td>20.0</td>\n",
       "    </tr>\n",
       "  </tbody>\n",
       "</table>\n",
       "</div>"
      ],
      "text/plain": [
       "   CUSTOMER_ID  TOTAL_SPENT  YEARS_WITH_US   MONETARY_VALUE  \\\n",
       "0        47008      2726.25       2.791781   976.5271702902   \n",
       "1        10988      1983.25       2.567123   772.5574505000   \n",
       "2       189916      2508.00       2.761644   908.1547078479   \n",
       "3       125435      2832.50       2.701370  1048.5420360780   \n",
       "4       170108      2292.75       2.769863   827.7485204142   \n",
       "\n",
       "  CUSTOMER_FREQUENCY  TOTAL_ORDER  RECENCY_DAYS  MAX(DAYS_BETWEEN)  \\\n",
       "0          23.640823           66            21                 70   \n",
       "1          22.203845           57             0                 86   \n",
       "2          23.536705           65             3                 98   \n",
       "3          24.802230           67             3                 80   \n",
       "4          20.939664           58            19                 96   \n",
       "\n",
       "   MIN(DAYS_BETWEEN) AVG(DAYS_BETWEEN)  CUST_REC_CLUSTER  CUST_FREQ_CLUSTER  \\\n",
       "0                  1         15.353846                 1                  2   \n",
       "1                  1         16.732143                 1                  2   \n",
       "2                  1         15.703125                 1                  2   \n",
       "3                  1         14.893939                 1                  2   \n",
       "4                  1         17.403509                 1                  2   \n",
       "\n",
       "   CUST_MONETARY_CLUSTER  OVERALL_SCORE  TARGET  \n",
       "0                      1              4    21.0  \n",
       "1                      1              4     6.0  \n",
       "2                      1              4     NaN  \n",
       "3                      1              4     5.0  \n",
       "4                      1              4    20.0  "
      ]
     },
     "execution_count": 341,
     "metadata": {},
     "output_type": "execute_result"
    }
   ],
   "source": [
    "final_df[\"TARGET\"] = final_df[\"DAYS_DF1\"] + final_df[\"DAYS_DF2\"]\n",
    "final_df = final_df.drop([\"DAYS_DF1\", \"DAYS_DF2\"], axis=1)\n",
    "final_df.head()\n"
   ]
  },
  {
   "cell_type": "code",
   "execution_count": null,
   "metadata": {},
   "outputs": [
    {
     "data": {
      "text/html": [
       "<div>\n",
       "<style scoped>\n",
       "    .dataframe tbody tr th:only-of-type {\n",
       "        vertical-align: middle;\n",
       "    }\n",
       "\n",
       "    .dataframe tbody tr th {\n",
       "        vertical-align: top;\n",
       "    }\n",
       "\n",
       "    .dataframe thead th {\n",
       "        text-align: right;\n",
       "    }\n",
       "</style>\n",
       "<table border=\"1\" class=\"dataframe\">\n",
       "  <thead>\n",
       "    <tr style=\"text-align: right;\">\n",
       "      <th></th>\n",
       "      <th>CUSTOMER_ID</th>\n",
       "      <th>TOTAL_SPENT</th>\n",
       "      <th>YEARS_WITH_US</th>\n",
       "      <th>MONETARY_VALUE</th>\n",
       "      <th>CUSTOMER_FREQUENCY</th>\n",
       "      <th>TOTAL_ORDER</th>\n",
       "      <th>RECENCY_DAYS</th>\n",
       "      <th>MAX(DAYS_BETWEEN)</th>\n",
       "      <th>MIN(DAYS_BETWEEN)</th>\n",
       "      <th>AVG(DAYS_BETWEEN)</th>\n",
       "      <th>CUST_REC_CLUSTER</th>\n",
       "      <th>CUST_FREQ_CLUSTER</th>\n",
       "      <th>CUST_MONETARY_CLUSTER</th>\n",
       "      <th>OVERALL_SCORE</th>\n",
       "      <th>TARGET</th>\n",
       "    </tr>\n",
       "  </thead>\n",
       "  <tbody>\n",
       "    <tr>\n",
       "      <th>0</th>\n",
       "      <td>47008</td>\n",
       "      <td>2726.25</td>\n",
       "      <td>2.791781</td>\n",
       "      <td>976.5271702902</td>\n",
       "      <td>23.640823</td>\n",
       "      <td>66</td>\n",
       "      <td>21</td>\n",
       "      <td>70</td>\n",
       "      <td>1</td>\n",
       "      <td>15.353846</td>\n",
       "      <td>1</td>\n",
       "      <td>2</td>\n",
       "      <td>1</td>\n",
       "      <td>4</td>\n",
       "      <td>21.0</td>\n",
       "    </tr>\n",
       "    <tr>\n",
       "      <th>1</th>\n",
       "      <td>10988</td>\n",
       "      <td>1983.25</td>\n",
       "      <td>2.567123</td>\n",
       "      <td>772.5574505000</td>\n",
       "      <td>22.203845</td>\n",
       "      <td>57</td>\n",
       "      <td>0</td>\n",
       "      <td>86</td>\n",
       "      <td>1</td>\n",
       "      <td>16.732143</td>\n",
       "      <td>1</td>\n",
       "      <td>2</td>\n",
       "      <td>1</td>\n",
       "      <td>4</td>\n",
       "      <td>6.0</td>\n",
       "    </tr>\n",
       "    <tr>\n",
       "      <th>2</th>\n",
       "      <td>189916</td>\n",
       "      <td>2508.00</td>\n",
       "      <td>2.761644</td>\n",
       "      <td>908.1547078479</td>\n",
       "      <td>23.536705</td>\n",
       "      <td>65</td>\n",
       "      <td>3</td>\n",
       "      <td>98</td>\n",
       "      <td>1</td>\n",
       "      <td>15.703125</td>\n",
       "      <td>1</td>\n",
       "      <td>2</td>\n",
       "      <td>1</td>\n",
       "      <td>4</td>\n",
       "      <td>999.0</td>\n",
       "    </tr>\n",
       "    <tr>\n",
       "      <th>3</th>\n",
       "      <td>125435</td>\n",
       "      <td>2832.50</td>\n",
       "      <td>2.701370</td>\n",
       "      <td>1048.5420360780</td>\n",
       "      <td>24.802230</td>\n",
       "      <td>67</td>\n",
       "      <td>3</td>\n",
       "      <td>80</td>\n",
       "      <td>1</td>\n",
       "      <td>14.893939</td>\n",
       "      <td>1</td>\n",
       "      <td>2</td>\n",
       "      <td>1</td>\n",
       "      <td>4</td>\n",
       "      <td>5.0</td>\n",
       "    </tr>\n",
       "    <tr>\n",
       "      <th>4</th>\n",
       "      <td>170108</td>\n",
       "      <td>2292.75</td>\n",
       "      <td>2.769863</td>\n",
       "      <td>827.7485204142</td>\n",
       "      <td>20.939664</td>\n",
       "      <td>58</td>\n",
       "      <td>19</td>\n",
       "      <td>96</td>\n",
       "      <td>1</td>\n",
       "      <td>17.403509</td>\n",
       "      <td>1</td>\n",
       "      <td>2</td>\n",
       "      <td>1</td>\n",
       "      <td>4</td>\n",
       "      <td>20.0</td>\n",
       "    </tr>\n",
       "  </tbody>\n",
       "</table>\n",
       "</div>"
      ],
      "text/plain": [
       "   CUSTOMER_ID  TOTAL_SPENT  YEARS_WITH_US   MONETARY_VALUE  \\\n",
       "0        47008      2726.25       2.791781   976.5271702902   \n",
       "1        10988      1983.25       2.567123   772.5574505000   \n",
       "2       189916      2508.00       2.761644   908.1547078479   \n",
       "3       125435      2832.50       2.701370  1048.5420360780   \n",
       "4       170108      2292.75       2.769863   827.7485204142   \n",
       "\n",
       "  CUSTOMER_FREQUENCY  TOTAL_ORDER  RECENCY_DAYS  MAX(DAYS_BETWEEN)  \\\n",
       "0          23.640823           66            21                 70   \n",
       "1          22.203845           57             0                 86   \n",
       "2          23.536705           65             3                 98   \n",
       "3          24.802230           67             3                 80   \n",
       "4          20.939664           58            19                 96   \n",
       "\n",
       "   MIN(DAYS_BETWEEN) AVG(DAYS_BETWEEN)  CUST_REC_CLUSTER  CUST_FREQ_CLUSTER  \\\n",
       "0                  1         15.353846                 1                  2   \n",
       "1                  1         16.732143                 1                  2   \n",
       "2                  1         15.703125                 1                  2   \n",
       "3                  1         14.893939                 1                  2   \n",
       "4                  1         17.403509                 1                  2   \n",
       "\n",
       "   CUST_MONETARY_CLUSTER  OVERALL_SCORE  TARGET  \n",
       "0                      1              4    21.0  \n",
       "1                      1              4     6.0  \n",
       "2                      1              4   999.0  \n",
       "3                      1              4     5.0  \n",
       "4                      1              4    20.0  "
      ]
     },
     "execution_count": 342,
     "metadata": {},
     "output_type": "execute_result"
    }
   ],
   "source": [
    "final_df[\"TARGET\"].fillna(999, inplace = True)\n",
    "final_df.head()"
   ]
  },
  {
   "attachments": {},
   "cell_type": "markdown",
   "metadata": {},
   "source": [
    "## 5. Model Building <a id=\"part5\"></a>"
   ]
  },
  {
   "attachments": {},
   "cell_type": "markdown",
   "metadata": {},
   "source": [
    "### 5.1 Scaling <a id=\"part5.1\"></a>"
   ]
  },
  {
   "cell_type": "code",
   "execution_count": null,
   "metadata": {},
   "outputs": [],
   "source": [
    "# save dataframe of customer_id \n",
    "customer_id_df = final_df[\"CUSTOMER_ID\"]\n",
    "\n",
    "final_df = final_df.drop([\"CUSTOMER_ID\"],  axis = 1)\n",
    "\n",
    "final_df.head()"
   ]
  },
  {
   "cell_type": "code",
   "execution_count": null,
   "metadata": {},
   "outputs": [],
   "source": [
    "# Drop target\n",
    "target = final_df['TARGET']\n",
    "final_df.drop('TARGET', axis = 1, inplace = True)\n",
    "\n",
    "scaler = StandardScaler()\n",
    "scaler.fit(final_df)\n",
    "\n",
    "final_scaled = scaler.transform(final_df)\n",
    "final_scaled = pd.DataFrame(final_scaled, columns=final_df.columns)\n",
    "\n",
    "#assign target variable back to scaled data frame\n",
    "final_scaled = final_scaled.assign(TARGET = target)\n",
    "\n",
    "final_scaled.head()"
   ]
  },
  {
   "attachments": {},
   "cell_type": "markdown",
   "metadata": {},
   "source": [
    "### 5.2 Train Test Split <a id=\"part5.2\"></a>"
   ]
  },
  {
   "cell_type": "code",
   "execution_count": null,
   "metadata": {},
   "outputs": [],
   "source": [
    "# Define ratio for model \n",
    "train_ratio = 0.70\n",
    "test_ratio = 0.20\n",
    "holdout_ratio = 0.10\n",
    "\n",
    "# Define Model Inputs (X) and Output (y)\n",
    "X = final_scaled.drop('TARGET',axis=1)\n",
    "y = final_scaled[\"TARGET\"]\n",
    "\n",
    "# Split both Inputs (X) and Ouput (y) into training set (70%) and testing set (20%)\n",
    "X_train, X_test, y_train, y_test = train_test_split(X, y, test_size=1-train_ratio, random_state=1)\n",
    "X_holdout, X_test, y_holdout, y_test = train_test_split(X_test, y_test, test_size=test_ratio/(test_ratio + holdout_ratio)) "
   ]
  },
  {
   "attachments": {},
   "cell_type": "markdown",
   "metadata": {},
   "source": [
    "### 5.3 Linear Regression <a id=\"part5.3\"></a>"
   ]
  },
  {
   "cell_type": "code",
   "execution_count": null,
   "metadata": {},
   "outputs": [],
   "source": [
    "# Create the model \"lg\"\n",
    "lg = LinearRegression()\n",
    "lg.fit(X_train, y_train)\n",
    "\n",
    "#MSE\n",
    "\n",
    "train_mse = mean_squared_error(lg.predict(X_train), y_train)\n",
    "print('The Training Mean Squared Error for Linear Regression Model is: ', train_mse)\n",
    "test_mse = mean_squared_error(lg.predict(X_test), y_test)\n",
    "print('The Testing Mean Squared Error for Linear Regression Model is: ',test_mse)\n",
    "\n",
    "print('')\n",
    "\n",
    "#R^2\n",
    "\n",
    "train_R2 = lg.score(X_train, y_train)\n",
    "print('The Training R^2 for Linear Regression Model is: ', train_R2)\n",
    "\n",
    "test_R2 = lg.score(X_test, y_test)\n",
    "print('The Testing R^2 for Linear Regression Model is: ', test_R2)"
   ]
  },
  {
   "cell_type": "code",
   "execution_count": null,
   "metadata": {},
   "outputs": [],
   "source": []
  }
 ],
 "metadata": {
  "kernelspec": {
   "display_name": "pysnowpark",
   "language": "python",
   "name": "python3"
  },
  "language_info": {
   "codemirror_mode": {
    "name": "ipython",
    "version": 3
   },
   "file_extension": ".py",
   "mimetype": "text/x-python",
   "name": "python",
   "nbconvert_exporter": "python",
   "pygments_lexer": "ipython3",
   "version": "3.8.16"
  },
  "orig_nbformat": 4
 },
 "nbformat": 4,
 "nbformat_minor": 2
}
