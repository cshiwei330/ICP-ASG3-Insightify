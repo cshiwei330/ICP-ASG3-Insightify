{
 "cells": [
  {
   "cell_type": "markdown",
   "metadata": {},
   "source": [
    "## Importing packages & setting up connection"
   ]
  },
  {
   "cell_type": "code",
   "execution_count": 1,
   "metadata": {},
   "outputs": [
    {
     "name": "stderr",
     "output_type": "stream",
     "text": [
      "c:\\Users\\Ernest Toh\\.conda\\envs\\pysnowpark\\lib\\site-packages\\xgboost\\compat.py:36: FutureWarning: pandas.Int64Index is deprecated and will be removed from pandas in a future version. Use pandas.Index with the appropriate dtype instead.\n",
      "  from pandas import MultiIndex, Int64Index\n"
     ]
    }
   ],
   "source": [
    "# Import Python packages\n",
    "import pandas as pd\n",
    "import numpy as np\n",
    "from matplotlib import pyplot as plt\n",
    "import json\n",
    "import sys\n",
    "import cachetools\n",
    "from datetime import datetime\n",
    "from datetime import date\n",
    "import seaborn as sns\n",
    "import math\n",
    "from scipy import stats\n",
    "import statsmodels.api as sm\n",
    "\n",
    "# Import Snowflake modules\n",
    "from snowflake.snowpark import Session\n",
    "import snowflake.snowpark.functions as F\n",
    "import snowflake.snowpark.types as T\n",
    "from snowflake.snowpark import Window\n",
    "from snowflake.snowpark.functions import col, to_date, row_number, desc\n",
    "\n",
    "# Clustering & Model\n",
    "from sklearn.cluster import KMeans\n",
    "from sklearn.linear_model import LogisticRegression, LinearRegression\n",
    "from sklearn import tree\n",
    "from sklearn.tree import DecisionTreeClassifier\n",
    "from sklearn.neural_network import MLPClassifier\n",
    "from sklearn.svm import SVC, SVR\n",
    "from sklearn. ensemble import RandomForestClassifier, BaggingClassifier, AdaBoostClassifier, ExtraTreesClassifier, RandomForestRegressor, ExtraTreesRegressor, BaggingRegressor, GradientBoostingClassifier, AdaBoostRegressor\n",
    "from sklearn.neighbors import KNeighborsRegressor\n",
    "from xgboost import XGBClassifier, XGBRegressor \n",
    "from sklearn.model_selection import KFold, cross_val_score, train_test_split\n",
    "\n",
    "# Scalers\n",
    "from sklearn.preprocessing import StandardScaler\n",
    "\n",
    "# Evaluation\n",
    "from sklearn.metrics import silhouette_score\n",
    "from sklearn.metrics import mean_squared_error\n",
    "from sklearn.metrics import r2_score\n",
    "from sklearn.metrics import accuracy_score\n",
    "\n",
    "# find the best combination of model hyperparameters\n",
    "from sklearn.model_selection import GridSearchCV, RandomizedSearchCV\n",
    "from sklearn.model_selection import cross_val_score, cross_validate\n",
    "\n",
    "# Getting Password,Username, Account\n",
    "import getpass\n",
    "\n",
    "# ignore warnings\n",
    "import warnings\n",
    "warnings.filterwarnings('ignore')"
   ]
  },
  {
   "cell_type": "code",
   "execution_count": 2,
   "metadata": {},
   "outputs": [],
   "source": [
    "# Get account credentials from a json file\n",
    "with open(\"account.json\") as f:\n",
    "    data = json.load(f)\n",
    "    username = data[\"username\"]\n",
    "    password = data[\"password\"]\n",
    "    account = data[\"account\"]\n",
    "\n",
    "# Specify connection parameters\n",
    "connection_parameters = {\n",
    "    \"account\": account,\n",
    "    \"user\": username,\n",
    "    \"password\": password,\n",
    "    #\"role\": \"ACCOUNTADMIN\",\n",
    "    #\"warehouse\": \"tasty_ds_wh\",\n",
    "    #\"database\": \"frostbyte_tasty_bytes\",\n",
    "    #\"schema\": \"analytics\",\n",
    "}\n",
    "\n",
    "# Create Snowpark session\n",
    "session = Session.builder.configs(connection_parameters).create()"
   ]
  },
  {
   "cell_type": "markdown",
   "metadata": {},
   "source": [
    "## 1. Loading of Datasets <a id=\"part1\"></a>"
   ]
  },
  {
   "cell_type": "code",
   "execution_count": 3,
   "metadata": {},
   "outputs": [],
   "source": [
    "# Load the tables as dataframe\n",
    "order_header_df = session.table(\"NGEE_ANN_POLYTECHNIC_FROSTBYTE_DATA_SHARE.raw_pos.order_header\")\n",
    "customer_df = session.table(\"NGEE_ANN_POLYTECHNIC_FROSTBYTE_DATA_SHARE.raw_customer.customer_loyalty\")"
   ]
  },
  {
   "cell_type": "code",
   "execution_count": 4,
   "metadata": {},
   "outputs": [
    {
     "name": "stdout",
     "output_type": "stream",
     "text": [
      "-----------------------------------------------------------------------------------------------------------------------------------------------------------------------------------------------------------------------------------------------------------------------------------------\n",
      "|\"ORDER_ID\"  |\"TRUCK_ID\"  |\"LOCATION_ID\"  |\"CUSTOMER_ID\"  |\"DISCOUNT_ID\"  |\"SHIFT_ID\"  |\"SHIFT_START_TIME\"  |\"SHIFT_END_TIME\"  |\"ORDER_CHANNEL\"  |\"ORDER_TS\"           |\"SERVED_TS\"  |\"ORDER_CURRENCY\"  |\"ORDER_AMOUNT\"  |\"ORDER_TAX_AMOUNT\"  |\"ORDER_DISCOUNT_AMOUNT\"  |\"ORDER_TOTAL\"  |\n",
      "-----------------------------------------------------------------------------------------------------------------------------------------------------------------------------------------------------------------------------------------------------------------------------------------\n",
      "|22477378    |97          |3713.0         |NULL           |NULL           |78881       |16:00:00            |23:00:00          |NULL             |2020-04-19 17:06:54  |NULL         |USD               |26.0000         |NULL                |NULL                     |26.0000        |\n",
      "|22477379    |97          |3713.0         |NULL           |NULL           |78881       |16:00:00            |23:00:00          |NULL             |2020-04-19 17:07:40  |NULL         |USD               |46.0000         |NULL                |NULL                     |46.0000        |\n",
      "|22477380    |97          |3713.0         |NULL           |NULL           |78881       |16:00:00            |23:00:00          |NULL             |2020-04-19 17:07:58  |NULL         |USD               |7.0000          |NULL                |NULL                     |7.0000         |\n",
      "|22477381    |97          |3713.0         |NULL           |NULL           |78881       |16:00:00            |23:00:00          |NULL             |2020-04-19 17:09:41  |NULL         |USD               |9.0000          |NULL                |NULL                     |9.0000         |\n",
      "|22477382    |97          |3713.0         |NULL           |NULL           |78881       |16:00:00            |23:00:00          |NULL             |2020-04-19 17:10:09  |NULL         |USD               |24.0000         |NULL                |NULL                     |24.0000        |\n",
      "|22477383    |97          |3713.0         |NULL           |NULL           |78881       |16:00:00            |23:00:00          |NULL             |2020-04-19 17:14:51  |NULL         |USD               |40.0000         |NULL                |NULL                     |40.0000        |\n",
      "|22477384    |97          |3713.0         |NULL           |NULL           |78881       |16:00:00            |23:00:00          |NULL             |2020-04-19 17:17:14  |NULL         |USD               |16.0000         |NULL                |NULL                     |16.0000        |\n",
      "|22477385    |97          |3713.0         |NULL           |NULL           |78881       |16:00:00            |23:00:00          |NULL             |2020-04-19 17:18:59  |NULL         |USD               |28.0000         |NULL                |NULL                     |28.0000        |\n",
      "|22477386    |97          |3713.0         |NULL           |NULL           |78881       |16:00:00            |23:00:00          |NULL             |2020-04-19 17:23:06  |NULL         |USD               |16.0000         |NULL                |NULL                     |16.0000        |\n",
      "|22477387    |97          |3713.0         |NULL           |NULL           |78881       |16:00:00            |23:00:00          |NULL             |2020-04-19 17:26:09  |NULL         |USD               |19.0000         |NULL                |NULL                     |19.0000        |\n",
      "-----------------------------------------------------------------------------------------------------------------------------------------------------------------------------------------------------------------------------------------------------------------------------------------\n",
      "\n"
     ]
    }
   ],
   "source": [
    "# Display order_header_df\n",
    "order_header_df.show()"
   ]
  },
  {
   "cell_type": "code",
   "execution_count": 5,
   "metadata": {},
   "outputs": [
    {
     "name": "stdout",
     "output_type": "stream",
     "text": [
      "---------------------------------------------------------------------------------------------------------------------------------------------------------------------------------------------------------------------------------------------------------------------------\n",
      "|\"CUSTOMER_ID\"  |\"FIRST_NAME\"  |\"LAST_NAME\"  |\"CITY\"     |\"COUNTRY\"      |\"POSTAL_CODE\"  |\"PREFERRED_LANGUAGE\"  |\"GENDER\"     |\"FAVOURITE_BRAND\"  |\"MARITAL_STATUS\"  |\"CHILDREN_COUNT\"  |\"SIGN_UP_DATE\"  |\"BIRTHDAY_DATE\"  |\"E_MAIL\"                     |\"PHONE_NUMBER\"  |\n",
      "---------------------------------------------------------------------------------------------------------------------------------------------------------------------------------------------------------------------------------------------------------------------------\n",
      "|66             |Cannon        |Waters       |Toronto    |Canada         |M4C 3M7        |English               |Male         |NULL               |Married           |4                 |2019-10-08      |1982-11-24       |Cannon.Waters@hotmail.com    |424-543-8925    |\n",
      "|118            |Donald        |Faulkner     |San Mateo  |United States  |94010          |English               |Male         |NULL               |Single            |0                 |2019-07-07      |1988-06-13       |Donald.Faulkner@hotmail.com  |080-861-2392    |\n",
      "|131            |Tate          |Tucker       |Toronto    |Canada         |M4C 1E7        |English               |Male         |NULL               |Single            |0                 |2021-05-27      |1984-12-29       |Tate.Tucker@hotmail.com      |896-393-1708    |\n",
      "|132            |Aileen        |Knapp        |Toronto    |Canada         |M4C 3J6        |English               |Male         |NULL               |Single            |0                 |2020-11-10      |1981-04-30       |Aileen.Knapp@hotmail.com     |477-406-2898    |\n",
      "|171            |Grayson       |Hayes        |Toronto    |Canada         |M4C 1E7        |English               |Male         |NULL               |Single            |0                 |2021-05-08      |1987-08-06       |Grayson.Hayes@hotmail.com    |849-485-3285    |\n",
      "|189            |Reese         |Mcfarland    |San Mateo  |United States  |94010          |English               |Undisclosed  |NULL               |Married           |1                 |2020-03-06      |1984-03-05       |Reese.Mcfarland@hotmail.com  |802-202-7275    |\n",
      "|195            |Summer        |Chung        |Toronto    |Canada         |M4C 1X6        |English               |Female       |NULL               |Single            |0                 |2021-05-13      |1987-08-17       |Summer.Chung@hotmail.com     |761-641-8122    |\n",
      "|204            |Emilio        |Lawrence     |San Mateo  |United States  |94497          |English               |Male         |NULL               |Undisclosed       |Undisclosed       |2021-10-10      |1979-06-25       |Emilio.Lawrence@hotmail.com  |693-524-2569    |\n",
      "|42             |Alexander     |Hicks        |San Mateo  |United States  |94404          |English               |Undisclosed  |NULL               |Single            |0                 |2020-07-11      |1966-06-28       |Alexander.Hicks@aol.com      |463-144-8555    |\n",
      "|59             |Ryan          |Shah         |San Mateo  |United States  |94401          |English               |Male         |NULL               |Married           |2                 |2020-12-29      |1961-06-05       |Ryan.Shah@aol.com            |679-586-9815    |\n",
      "---------------------------------------------------------------------------------------------------------------------------------------------------------------------------------------------------------------------------------------------------------------------------\n",
      "\n"
     ]
    }
   ],
   "source": [
    "# Display customer_df\n",
    "customer_df.show()"
   ]
  },
  {
   "cell_type": "code",
   "execution_count": 6,
   "metadata": {},
   "outputs": [
    {
     "name": "stdout",
     "output_type": "stream",
     "text": [
      "-----------------------------------------------------------------------------------------------------------------------------------------------------------------------------------------------------------------------------------------------------------------------------------------\n",
      "|\"ORDER_ID\"  |\"TRUCK_ID\"  |\"LOCATION_ID\"  |\"CUSTOMER_ID\"  |\"DISCOUNT_ID\"  |\"SHIFT_ID\"  |\"SHIFT_START_TIME\"  |\"SHIFT_END_TIME\"  |\"ORDER_CHANNEL\"  |\"ORDER_TS\"           |\"SERVED_TS\"  |\"ORDER_CURRENCY\"  |\"ORDER_AMOUNT\"  |\"ORDER_TAX_AMOUNT\"  |\"ORDER_DISCOUNT_AMOUNT\"  |\"ORDER_TOTAL\"  |\n",
      "-----------------------------------------------------------------------------------------------------------------------------------------------------------------------------------------------------------------------------------------------------------------------------------------\n",
      "|22477396    |97          |3713.0         |95165          |NULL           |78881       |16:00:00            |23:00:00          |NULL             |2020-04-19 17:41:09  |NULL         |USD               |7.0000          |NULL                |NULL                     |7.0000         |\n",
      "|22477412    |97          |3713.0         |146981         |NULL           |78881       |16:00:00            |23:00:00          |NULL             |2020-04-19 18:02:22  |NULL         |USD               |42.0000         |NULL                |NULL                     |42.0000        |\n",
      "|22477417    |97          |3713.0         |112241         |NULL           |78881       |16:00:00            |23:00:00          |NULL             |2020-04-19 18:07:39  |NULL         |USD               |50.0000         |NULL                |NULL                     |50.0000        |\n",
      "|22477440    |97          |3713.0         |74142          |NULL           |78881       |16:00:00            |23:00:00          |NULL             |2020-04-19 18:55:27  |NULL         |USD               |31.0000         |NULL                |NULL                     |31.0000        |\n",
      "|22477441    |97          |3713.0         |196106         |NULL           |78881       |16:00:00            |23:00:00          |NULL             |2020-04-19 18:55:31  |NULL         |USD               |90.0000         |NULL                |NULL                     |90.0000        |\n",
      "|22477443    |97          |3713.0         |98913          |NULL           |78881       |16:00:00            |23:00:00          |NULL             |2020-04-19 18:55:50  |NULL         |USD               |25.0000         |NULL                |NULL                     |25.0000        |\n",
      "|22477472    |97          |3713.0         |163337         |NULL           |78881       |16:00:00            |23:00:00          |NULL             |2020-04-19 19:28:23  |NULL         |USD               |29.0000         |NULL                |NULL                     |29.0000        |\n",
      "|22477478    |97          |3713.0         |111889         |NULL           |78881       |16:00:00            |23:00:00          |NULL             |2020-04-19 19:35:33  |NULL         |USD               |19.0000         |NULL                |NULL                     |19.0000        |\n",
      "|22477486    |97          |3713.0         |176436         |NULL           |78881       |16:00:00            |23:00:00          |NULL             |2020-04-19 19:45:20  |NULL         |USD               |75.0000         |NULL                |NULL                     |75.0000        |\n",
      "|22477495    |97          |3713.0         |54158          |NULL           |78881       |16:00:00            |23:00:00          |NULL             |2020-04-19 19:55:10  |NULL         |USD               |24.0000         |NULL                |NULL                     |24.0000        |\n",
      "-----------------------------------------------------------------------------------------------------------------------------------------------------------------------------------------------------------------------------------------------------------------------------------------\n",
      "\n"
     ]
    }
   ],
   "source": [
    "# Dropping null values in CUSTOMER_ID\n",
    "order_header_df = order_header_df.na.drop(subset=\"CUSTOMER_ID\")\n",
    "order_header_df.show()"
   ]
  },
  {
   "cell_type": "markdown",
   "metadata": {},
   "source": [
    "## 2. Dataframe Preparation <a id=\"part2\"></a>"
   ]
  },
  {
   "cell_type": "markdown",
   "metadata": {},
   "source": [
    "### 2.1 Create dataframe <a id=\"part2-1\"></a>\n",
    "As mentioned earlier, our group will be focusing on the customers based in the US. Hence, we will need to filter the customer data to US. We are also doing basic data preparation to prepare our datasets so far for subsequent steps. "
   ]
  },
  {
   "cell_type": "code",
   "execution_count": 7,
   "metadata": {},
   "outputs": [
    {
     "name": "stdout",
     "output_type": "stream",
     "text": [
      "-----------------------------------------------------------------------------------------------------------------------------------------------------------------------------------------------------------------------------------------------------------------------------\n",
      "|\"CUSTOMER_ID\"  |\"FIRST_NAME\"  |\"LAST_NAME\"  |\"CITY\"     |\"COUNTRY\"      |\"POSTAL_CODE\"  |\"PREFERRED_LANGUAGE\"  |\"GENDER\"     |\"FAVOURITE_BRAND\"  |\"MARITAL_STATUS\"    |\"CHILDREN_COUNT\"  |\"SIGN_UP_DATE\"  |\"BIRTHDAY_DATE\"  |\"E_MAIL\"                     |\"PHONE_NUMBER\"  |\n",
      "-----------------------------------------------------------------------------------------------------------------------------------------------------------------------------------------------------------------------------------------------------------------------------\n",
      "|118            |Donald        |Faulkner     |San Mateo  |United States  |94010          |English               |Male         |NULL               |Single              |0                 |2019-07-07      |1988-06-13       |Donald.Faulkner@hotmail.com  |080-861-2392    |\n",
      "|189            |Reese         |Mcfarland    |San Mateo  |United States  |94010          |English               |Undisclosed  |NULL               |Married             |1                 |2020-03-06      |1984-03-05       |Reese.Mcfarland@hotmail.com  |802-202-7275    |\n",
      "|204            |Emilio        |Lawrence     |San Mateo  |United States  |94497          |English               |Male         |NULL               |Undisclosed         |Undisclosed       |2021-10-10      |1979-06-25       |Emilio.Lawrence@hotmail.com  |693-524-2569    |\n",
      "|42             |Alexander     |Hicks        |San Mateo  |United States  |94404          |English               |Undisclosed  |NULL               |Single              |0                 |2020-07-11      |1966-06-28       |Alexander.Hicks@aol.com      |463-144-8555    |\n",
      "|59             |Ryan          |Shah         |San Mateo  |United States  |94401          |English               |Male         |NULL               |Married             |2                 |2020-12-29      |1961-06-05       |Ryan.Shah@aol.com            |679-586-9815    |\n",
      "|65             |Nathen        |Werner       |San Mateo  |United States  |94010          |English               |Male         |NULL               |Divorced/Seperated  |5+                |2020-11-05      |1958-09-01       |Nathen.Werner@aol.com        |926-969-1551    |\n",
      "|106            |Camilla       |Harding      |San Mateo  |United States  |94404          |English               |Female       |NULL               |Single              |0                 |2021-06-28      |1967-05-10       |Camilla.Harding@aol.com      |366-365-2520    |\n",
      "|219            |Scarlett      |Zavala       |San Mateo  |United States  |94403          |English               |Undisclosed  |NULL               |Married             |2                 |2021-01-22      |1965-12-19       |Scarlett.Zavala@aol.com      |447-385-8243    |\n",
      "|222            |Olive         |Powell       |San Mateo  |United States  |94404          |English               |Female       |NULL               |Single              |0                 |2021-03-21      |1965-07-06       |Olive.Powell@aol.com         |983-128-2475    |\n",
      "|22             |Rayne         |Sanchez      |San Mateo  |United States  |94401          |English               |Male         |NULL               |Married             |4                 |2021-04-22      |1949-01-12       |Rayne.Sanchez@ymail.com      |621-054-0251    |\n",
      "-----------------------------------------------------------------------------------------------------------------------------------------------------------------------------------------------------------------------------------------------------------------------------\n",
      "\n"
     ]
    }
   ],
   "source": [
    "# Filtering the customer dataset to only US\n",
    "us_customer_df = customer_df.filter(F.col(\"COUNTRY\")==\"United States\")\n",
    "us_customer_df.show()"
   ]
  },
  {
   "cell_type": "code",
   "execution_count": 8,
   "metadata": {},
   "outputs": [
    {
     "name": "stdout",
     "output_type": "stream",
     "text": [
      "------------------------------------------------------------------------------------------------------------------------------------------------------------------------------------------------------------------------------------------------------------------------------------------------------------\n",
      "|\"ORDER_ID\"  |\"TRUCK_ID\"  |\"LOCATION_ID\"  |\"CUSTOMER_ID\"  |\"DISCOUNT_ID\"  |\"SHIFT_ID\"  |\"SHIFT_START_TIME\"  |\"SHIFT_END_TIME\"  |\"ORDER_CHANNEL\"  |\"ORDER_TS\"           |\"SERVED_TS\"  |\"ORDER_CURRENCY\"  |\"ORDER_AMOUNT\"  |\"ORDER_TAX_AMOUNT\"  |\"ORDER_DISCOUNT_AMOUNT\"  |\"ORDER_TOTAL\"  |\"CUSTOMER_ID_US\"  |\n",
      "------------------------------------------------------------------------------------------------------------------------------------------------------------------------------------------------------------------------------------------------------------------------------------------------------------\n",
      "|451449961   |17          |1789.0         |194230         |NULL           |200540458   |08:00:00            |14:00:00          |NULL             |2022-04-01 11:34:38  |NULL         |USD               |6.0000          |NULL                |NULL                     |6.0000         |194230            |\n",
      "|451449972   |17          |1789.0         |131954         |NULL           |200540458   |08:00:00            |14:00:00          |NULL             |2022-04-01 11:48:30  |NULL         |USD               |27.0000         |NULL                |NULL                     |27.0000        |131954            |\n",
      "|451450013   |17          |1789.0         |125737         |NULL           |200540458   |08:00:00            |14:00:00          |NULL             |2022-04-01 12:52:11  |NULL         |USD               |42.0000         |NULL                |NULL                     |42.0000        |125737            |\n",
      "|451450086   |17          |14926.0        |95405          |NULL           |200540459   |15:00:00            |22:00:00          |NULL             |2022-04-01 17:17:42  |NULL         |USD               |87.0000         |NULL                |NULL                     |87.0000        |95405             |\n",
      "|451450198   |17          |14926.0        |40098          |NULL           |200540459   |15:00:00            |22:00:00          |NULL             |2022-04-01 20:03:25  |NULL         |USD               |33.0000         |NULL                |NULL                     |33.0000        |40098             |\n",
      "|451450243   |17          |14926.0        |172108         |NULL           |200540459   |15:00:00            |22:00:00          |NULL             |2022-04-01 21:37:14  |NULL         |USD               |56.0000         |NULL                |NULL                     |56.0000        |172108            |\n",
      "|451450270   |18          |3081.0         |49775          |NULL           |200540460   |08:00:00            |14:00:00          |NULL             |2022-04-01 08:33:28  |NULL         |USD               |12.5000         |NULL                |NULL                     |12.5000        |49775             |\n",
      "|451450279   |18          |3081.0         |124416         |NULL           |200540460   |08:00:00            |14:00:00          |NULL             |2022-04-01 08:48:45  |NULL         |USD               |41.5000         |NULL                |NULL                     |41.5000        |124416            |\n",
      "|451450315   |18          |3081.0         |85597          |NULL           |200540460   |08:00:00            |14:00:00          |NULL             |2022-04-01 09:29:50  |NULL         |USD               |58.5000         |NULL                |NULL                     |58.5000        |85597             |\n",
      "|451450317   |18          |3081.0         |51847          |NULL           |200540460   |08:00:00            |14:00:00          |NULL             |2022-04-01 09:31:28  |NULL         |USD               |70.5000         |NULL                |NULL                     |70.5000        |51847             |\n",
      "------------------------------------------------------------------------------------------------------------------------------------------------------------------------------------------------------------------------------------------------------------------------------------------------------------\n",
      "\n"
     ]
    }
   ],
   "source": [
    "# After filtering of customer dataset to only US, we will be filtering and looking at the orders \n",
    "# based on these customers only\n",
    "customer_US = us_customer_df.select(F.col(\"CUSTOMER_ID\"))\n",
    "order_header_df = order_header_df.join(customer_US, order_header_df.CUSTOMER_ID == customer_US.CUSTOMER_ID, lsuffix = \"\", rsuffix = \"_US\")\n",
    "order_header_df.show()"
   ]
  },
  {
   "cell_type": "markdown",
   "metadata": {},
   "source": [
    "## 3. Data Exploration <a id=\"part3\"></a>"
   ]
  },
  {
   "cell_type": "code",
   "execution_count": 9,
   "metadata": {},
   "outputs": [
    {
     "data": {
      "text/plain": [
       "datetime.datetime(2022, 11, 1, 22, 58, 56)"
      ]
     },
     "execution_count": 9,
     "metadata": {},
     "output_type": "execute_result"
    }
   ],
   "source": [
    "# Finding current date (last order)\n",
    "lastest_transaction_de = order_header_df.agg(F.max(\"ORDER_TS\").alias(\"LAST_ORDER_TS\")).collect()[0][0]\n",
    "lastest_transaction_de"
   ]
  },
  {
   "cell_type": "code",
   "execution_count": 10,
   "metadata": {},
   "outputs": [
    {
     "name": "stdout",
     "output_type": "stream",
     "text": [
      "---------------------------------------\n",
      "|\"CUSTOMER_ID\"  |\"LAST_ORDER_TS\"      |\n",
      "---------------------------------------\n",
      "|181391         |2022-10-30 12:31:21  |\n",
      "|75610          |2022-10-26 10:30:29  |\n",
      "|94313          |2022-10-19 21:29:10  |\n",
      "|61339          |2022-10-24 20:51:33  |\n",
      "|75866          |2022-10-28 12:48:53  |\n",
      "|185903         |2022-10-19 12:59:15  |\n",
      "|111146         |2022-10-28 09:52:17  |\n",
      "|149880         |2022-10-20 21:25:33  |\n",
      "|179068         |2022-10-30 11:14:22  |\n",
      "|148854         |2022-10-18 17:53:43  |\n",
      "---------------------------------------\n",
      "\n"
     ]
    }
   ],
   "source": [
    "# Finding the last order time stamp for each customer\n",
    "customer_last_order_de = order_header_df.groupBy(\"CUSTOMER_ID\").agg(F.max(\"ORDER_TS\").alias(\"LAST_ORDER_TS\"))\n",
    "customer_last_order_de.show()"
   ]
  },
  {
   "cell_type": "code",
   "execution_count": 11,
   "metadata": {},
   "outputs": [
    {
     "name": "stdout",
     "output_type": "stream",
     "text": [
      "------------------------------------------------------------------------------\n",
      "|\"CUSTOMER_ID\"  |\"LAST_ORDER_TS\"      |\"CURRENT DATE\"       |\"RECENCY_DAYS\"  |\n",
      "------------------------------------------------------------------------------\n",
      "|80607          |2022-10-27 16:39:10  |2022-11-01 22:58:56  |5               |\n",
      "|110977         |2022-10-25 10:28:37  |2022-11-01 22:58:56  |7               |\n",
      "|112795         |2022-10-25 17:57:45  |2022-11-01 22:58:56  |7               |\n",
      "|8667           |2022-10-13 17:02:55  |2022-11-01 22:58:56  |19              |\n",
      "|197899         |2022-11-01 11:54:28  |2022-11-01 22:58:56  |0               |\n",
      "|39140          |2022-10-28 18:42:00  |2022-11-01 22:58:56  |4               |\n",
      "|25120          |2022-10-27 09:43:04  |2022-11-01 22:58:56  |5               |\n",
      "|84783          |2022-10-13 19:57:38  |2022-11-01 22:58:56  |19              |\n",
      "|164706         |2022-10-22 21:35:12  |2022-11-01 22:58:56  |10              |\n",
      "|92305          |2022-10-21 11:24:15  |2022-11-01 22:58:56  |11              |\n",
      "------------------------------------------------------------------------------\n",
      "\n"
     ]
    }
   ],
   "source": [
    "# Creating a new dataframe and adding column with lastest transaction timestamp as the \n",
    "# current date identified previously \n",
    "\n",
    "# Inserting new column: current date which the lastest transaction timestamp\n",
    "customer_recency_de = customer_last_order_de.with_column(\"CURRENT DATE\", F.iff(F.col(\"LAST_ORDER_TS\") == F.col(\"LAST_ORDER_TS\"), lastest_transaction_de, lastest_transaction_de))\n",
    "\n",
    "# Calculate recency days\n",
    "customer_recency_de = customer_recency_de.with_column(\"RECENCY_DAYS\", F.datediff('day', customer_recency_de[\"LAST_ORDER_TS\"], customer_recency_de[\"CURRENT DATE\"]))\n",
    "customer_recency_de.show()"
   ]
  },
  {
   "cell_type": "code",
   "execution_count": 12,
   "metadata": {},
   "outputs": [
    {
     "data": {
      "text/html": [
       "<div>\n",
       "<style scoped>\n",
       "    .dataframe tbody tr th:only-of-type {\n",
       "        vertical-align: middle;\n",
       "    }\n",
       "\n",
       "    .dataframe tbody tr th {\n",
       "        vertical-align: top;\n",
       "    }\n",
       "\n",
       "    .dataframe thead th {\n",
       "        text-align: right;\n",
       "    }\n",
       "</style>\n",
       "<table border=\"1\" class=\"dataframe\">\n",
       "  <thead>\n",
       "    <tr style=\"text-align: right;\">\n",
       "      <th></th>\n",
       "      <th>RECENCY_DAYS</th>\n",
       "      <th>NO_OF_CUST</th>\n",
       "    </tr>\n",
       "  </thead>\n",
       "  <tbody>\n",
       "    <tr>\n",
       "      <th>0</th>\n",
       "      <td>1</td>\n",
       "      <td>3120</td>\n",
       "    </tr>\n",
       "    <tr>\n",
       "      <th>1</th>\n",
       "      <td>23</td>\n",
       "      <td>483</td>\n",
       "    </tr>\n",
       "    <tr>\n",
       "      <th>2</th>\n",
       "      <td>14</td>\n",
       "      <td>1012</td>\n",
       "    </tr>\n",
       "    <tr>\n",
       "      <th>3</th>\n",
       "      <td>5</td>\n",
       "      <td>2908</td>\n",
       "    </tr>\n",
       "    <tr>\n",
       "      <th>4</th>\n",
       "      <td>19</td>\n",
       "      <td>901</td>\n",
       "    </tr>\n",
       "  </tbody>\n",
       "</table>\n",
       "</div>"
      ],
      "text/plain": [
       "   RECENCY_DAYS  NO_OF_CUST\n",
       "0             1        3120\n",
       "1            23         483\n",
       "2            14        1012\n",
       "3             5        2908\n",
       "4            19         901"
      ]
     },
     "execution_count": 12,
     "metadata": {},
     "output_type": "execute_result"
    }
   ],
   "source": [
    "customer_by_recency = customer_recency_de.group_by(\"RECENCY_DAYS\").agg(F.count(\"CUSTOMER_ID\").alias(\"NO_OF_CUST\")).to_pandas()\n",
    "customer_by_recency.head()"
   ]
  },
  {
   "cell_type": "code",
   "execution_count": 13,
   "metadata": {},
   "outputs": [
    {
     "data": {
      "image/png": "[encoded data removed]",
      "text/plain": [
       "<Figure size 2000x800 with 1 Axes>"
      ]
     },
     "metadata": {},
     "output_type": "display_data"
    }
   ],
   "source": [
    "customer_by_recency.sort_values(by='RECENCY_DAYS', ascending=True, inplace=True) # Sort values in ascending order of customer\n",
    "recency_index = customer_by_recency['RECENCY_DAYS'].tolist()\n",
    "customer_values = customer_by_recency['NO_OF_CUST'].tolist()\n",
    "\n",
    "# Create a figure and subplot\n",
    "fig, V4 = plt.subplots(figsize=(20,8))\n",
    "\n",
    "# Create a bar chart \n",
    "V4.bar(recency_index,customer_values, align = 'center', color='#AFE4FE') # align define the alignment of x-ticks\n",
    "\n",
    "# Display data labels\n",
    "#for x,y in zip(recency_index,customer_values):\n",
    "\n",
    "#    label = x\n",
    "\n",
    "#    plt.annotate(label, \n",
    "#                 (x,y), \n",
    "#                 textcoords=\"offset points\", \n",
    "#                 xytext=(30,-3), \n",
    "#                 fontsize = 10,\n",
    "#                 ha='center') \n",
    "\n",
    "# State title of plot and the axes labels\n",
    "V4.set_title('Distribution of Customers by Recency', fontsize = 25)\n",
    "V4.set_ylabel('Number of customers', fontsize = 20)\n",
    "V4.set_xlabel('Recency Days', fontsize = 20)\n",
    "\n",
    "# Set font size of ticks on the x-axis and y-axis\n",
    "V4.tick_params(labelsize = 12, axis ='both')\n",
    "\n",
    "# Set tight layout for figure\n",
    "fig.tight_layout()\n",
    "\n",
    "# Display plot\n",
    "plt.show()"
   ]
  },
  {
   "cell_type": "code",
   "execution_count": 14,
   "metadata": {},
   "outputs": [
    {
     "name": "stdout",
     "output_type": "stream",
     "text": [
      "RECENCY_DAYS where 70% of the customers are at: 13\n"
     ]
    }
   ],
   "source": [
    "# Find recency days based on percentage of customer (30%)\n",
    "\n",
    "# Sort the DataFrame by RECENCY_DAYS in ascending order\n",
    "customer_by_recency = customer_by_recency.sort_values('RECENCY_DAYS')\n",
    "\n",
    "# Calculate the cumulative sum of customer counts\n",
    "customer_by_recency['CUMULATIVE_COUNT'] = customer_by_recency['NO_OF_CUST'].cumsum()\n",
    "\n",
    "# Find the RECENCY_DAYS where 80% of the customers are at\n",
    "target_percentage = 0.7\n",
    "target_recency_days = None\n",
    "\n",
    "for index, row in customer_by_recency.iterrows():\n",
    "    if row['CUMULATIVE_COUNT'] >= target_percentage * customer_by_recency['NO_OF_CUST'].sum():\n",
    "        target_recency_days = row['RECENCY_DAYS']\n",
    "        break\n",
    "\n",
    "# Print the result\n",
    "print(\"RECENCY_DAYS where 70% of the customers are at:\", target_recency_days)"
   ]
  },
  {
   "cell_type": "code",
   "execution_count": 15,
   "metadata": {},
   "outputs": [
    {
     "name": "stdout",
     "output_type": "stream",
     "text": [
      "Sum of customers where RECENCY_DAYS is below or equal to 13: 33053\n",
      "Sum of customers where RECENCY_DAYS is more than 13: 13247\n"
     ]
    }
   ],
   "source": [
    "# Sum of customers where RECENCY_DAYS is below or equal to 13\n",
    "sum_below_13 = customer_by_recency[customer_by_recency['RECENCY_DAYS'] <= 13]['NO_OF_CUST'].sum()\n",
    "\n",
    "# Sum of customers where RECENCY_DAYS is more than 13\n",
    "sum_above_13 = customer_by_recency[customer_by_recency['RECENCY_DAYS'] > 13]['NO_OF_CUST'].sum()\n",
    "\n",
    "# Print the results\n",
    "print(\"Sum of customers where RECENCY_DAYS is below or equal to 13:\", sum_below_13)\n",
    "print(\"Sum of customers where RECENCY_DAYS is more than 13:\", sum_above_13)"
   ]
  },
  {
   "cell_type": "markdown",
   "metadata": {},
   "source": [
    "In food service industry, customer churn rates can range from 20% to 30% annually. For 70% of the customers, their recency days are at 13. Therefore, we round the recenecy days up to 14 days, which is 2 weeks to be considered churned.\n",
    "\n",
    "For this model, we would be predicting the days to next purchase for each customer. After predicting the days to next purchase, if it is more than 14 days, the customer is considered churned, else not churned."
   ]
  },
  {
   "cell_type": "markdown",
   "metadata": {},
   "source": [
    "## 4. Data Preparation <a id=\"part4\"></a>"
   ]
  },
  {
   "cell_type": "code",
   "execution_count": 16,
   "metadata": {},
   "outputs": [],
   "source": [
    "# Getting last order date\n",
    "lastest_transaction = order_header_df.agg(F.max(\"ORDER_TS\").alias(\"LAST_ORDER_TS\")).collect()[0][0]\n",
    "order_header_df = order_header_df.withColumn(\"LAST_DATE\", F.iff(F.col(\"CUSTOMER_ID\") == F.col(\"CUSTOMER_ID\"), lastest_transaction, lastest_transaction))"
   ]
  },
  {
   "cell_type": "code",
   "execution_count": 17,
   "metadata": {},
   "outputs": [
    {
     "name": "stdout",
     "output_type": "stream",
     "text": [
      "-----------------------\n",
      "|\"MIN(ORDER_TS)\"      |\n",
      "-----------------------\n",
      "|2019-01-01 17:19:08  |\n",
      "-----------------------\n",
      "\n",
      "-----------------------\n",
      "|\"MAX(ORDER_TS)\"      |\n",
      "-----------------------\n",
      "|2022-10-18 22:56:45  |\n",
      "-----------------------\n",
      "\n"
     ]
    }
   ],
   "source": [
    "# Create training dataframee (2019-01-01 to 2022-10-18)\n",
    "order_14days = order_header_df.filter(F.datediff(\"day\", F.col(\"ORDER_TS\"), F.col(\"LAST_DATE\")) >= 14)\n",
    "\n",
    "# Ensure timeframe is correct\n",
    "order_14days.agg(F.min('ORDER_TS')).show()\n",
    "order_14days.agg(F.max('ORDER_TS')).show()"
   ]
  },
  {
   "cell_type": "code",
   "execution_count": 18,
   "metadata": {},
   "outputs": [
    {
     "name": "stdout",
     "output_type": "stream",
     "text": [
      "----------------------------------------------------------------------------------------------------------------------------------------------------------------------------------------------------------------------------------------------------------------------------------------------------------------------------------\n",
      "|\"ORDER_ID\"  |\"TRUCK_ID\"  |\"LOCATION_ID\"  |\"CUSTOMER_ID\"  |\"DISCOUNT_ID\"  |\"SHIFT_ID\"  |\"SHIFT_START_TIME\"  |\"SHIFT_END_TIME\"  |\"ORDER_CHANNEL\"  |\"ORDER_TS\"           |\"SERVED_TS\"  |\"ORDER_CURRENCY\"  |\"ORDER_AMOUNT\"  |\"ORDER_TAX_AMOUNT\"  |\"ORDER_DISCOUNT_AMOUNT\"  |\"ORDER_TOTAL\"  |\"CUSTOMER_ID_US\"  |\"LAST_DATE\"          |\n",
      "----------------------------------------------------------------------------------------------------------------------------------------------------------------------------------------------------------------------------------------------------------------------------------------------------------------------------------\n",
      "|451449961   |17          |1789.0         |194230         |NULL           |200540458   |08:00:00            |14:00:00          |NULL             |2022-04-01 11:34:38  |NULL         |USD               |6.0000          |NULL                |NULL                     |6.0000         |194230            |2022-11-01 22:58:56  |\n",
      "|451449972   |17          |1789.0         |131954         |NULL           |200540458   |08:00:00            |14:00:00          |NULL             |2022-04-01 11:48:30  |NULL         |USD               |27.0000         |NULL                |NULL                     |27.0000        |131954            |2022-11-01 22:58:56  |\n",
      "|451450013   |17          |1789.0         |125737         |NULL           |200540458   |08:00:00            |14:00:00          |NULL             |2022-04-01 12:52:11  |NULL         |USD               |42.0000         |NULL                |NULL                     |42.0000        |125737            |2022-11-01 22:58:56  |\n",
      "|451450086   |17          |14926.0        |95405          |NULL           |200540459   |15:00:00            |22:00:00          |NULL             |2022-04-01 17:17:42  |NULL         |USD               |87.0000         |NULL                |NULL                     |87.0000        |95405             |2022-11-01 22:58:56  |\n",
      "|451450198   |17          |14926.0        |40098          |NULL           |200540459   |15:00:00            |22:00:00          |NULL             |2022-04-01 20:03:25  |NULL         |USD               |33.0000         |NULL                |NULL                     |33.0000        |40098             |2022-11-01 22:58:56  |\n",
      "|451450243   |17          |14926.0        |172108         |NULL           |200540459   |15:00:00            |22:00:00          |NULL             |2022-04-01 21:37:14  |NULL         |USD               |56.0000         |NULL                |NULL                     |56.0000        |172108            |2022-11-01 22:58:56  |\n",
      "|451450270   |18          |3081.0         |49775          |NULL           |200540460   |08:00:00            |14:00:00          |NULL             |2022-04-01 08:33:28  |NULL         |USD               |12.5000         |NULL                |NULL                     |12.5000        |49775             |2022-11-01 22:58:56  |\n",
      "|451450279   |18          |3081.0         |124416         |NULL           |200540460   |08:00:00            |14:00:00          |NULL             |2022-04-01 08:48:45  |NULL         |USD               |41.5000         |NULL                |NULL                     |41.5000        |124416            |2022-11-01 22:58:56  |\n",
      "|451450315   |18          |3081.0         |85597          |NULL           |200540460   |08:00:00            |14:00:00          |NULL             |2022-04-01 09:29:50  |NULL         |USD               |58.5000         |NULL                |NULL                     |58.5000        |85597             |2022-11-01 22:58:56  |\n",
      "|451450317   |18          |3081.0         |51847          |NULL           |200540460   |08:00:00            |14:00:00          |NULL             |2022-04-01 09:31:28  |NULL         |USD               |70.5000         |NULL                |NULL                     |70.5000        |51847             |2022-11-01 22:58:56  |\n",
      "----------------------------------------------------------------------------------------------------------------------------------------------------------------------------------------------------------------------------------------------------------------------------------------------------------------------------------\n",
      "\n"
     ]
    }
   ],
   "source": [
    "# Display order_14days\n",
    "order_14days.show()"
   ]
  },
  {
   "cell_type": "markdown",
   "metadata": {},
   "source": [
    "### 4.1 Getting first dataframe <a id=\"part4.1\"></a>"
   ]
  },
  {
   "cell_type": "code",
   "execution_count": 19,
   "metadata": {},
   "outputs": [
    {
     "name": "stdout",
     "output_type": "stream",
     "text": [
      "----------------------------------------------------------------------------------------------------------------------------------------------------------------------------------------------------------------------------------------------------------------------------------------------------------------------------------\n",
      "|\"ORDER_ID\"  |\"TRUCK_ID\"  |\"LOCATION_ID\"  |\"CUSTOMER_ID\"  |\"DISCOUNT_ID\"  |\"SHIFT_ID\"  |\"SHIFT_START_TIME\"  |\"SHIFT_END_TIME\"  |\"ORDER_CHANNEL\"  |\"ORDER_TS\"           |\"SERVED_TS\"  |\"ORDER_CURRENCY\"  |\"ORDER_AMOUNT\"  |\"ORDER_TAX_AMOUNT\"  |\"ORDER_DISCOUNT_AMOUNT\"  |\"ORDER_TOTAL\"  |\"CUSTOMER_ID_US\"  |\"LAST_DATE\"          |\n",
      "----------------------------------------------------------------------------------------------------------------------------------------------------------------------------------------------------------------------------------------------------------------------------------------------------------------------------------\n",
      "|451449961   |17          |1789.0         |194230         |NULL           |200540458   |08:00:00            |14:00:00          |NULL             |2022-04-01 11:34:38  |NULL         |USD               |6.0000          |NULL                |NULL                     |6.0000         |194230            |2022-11-01 22:58:56  |\n",
      "|451449972   |17          |1789.0         |131954         |NULL           |200540458   |08:00:00            |14:00:00          |NULL             |2022-04-01 11:48:30  |NULL         |USD               |27.0000         |NULL                |NULL                     |27.0000        |131954            |2022-11-01 22:58:56  |\n",
      "|451450013   |17          |1789.0         |125737         |NULL           |200540458   |08:00:00            |14:00:00          |NULL             |2022-04-01 12:52:11  |NULL         |USD               |42.0000         |NULL                |NULL                     |42.0000        |125737            |2022-11-01 22:58:56  |\n",
      "|451450086   |17          |14926.0        |95405          |NULL           |200540459   |15:00:00            |22:00:00          |NULL             |2022-04-01 17:17:42  |NULL         |USD               |87.0000         |NULL                |NULL                     |87.0000        |95405             |2022-11-01 22:58:56  |\n",
      "|451450198   |17          |14926.0        |40098          |NULL           |200540459   |15:00:00            |22:00:00          |NULL             |2022-04-01 20:03:25  |NULL         |USD               |33.0000         |NULL                |NULL                     |33.0000        |40098             |2022-11-01 22:58:56  |\n",
      "|451450243   |17          |14926.0        |172108         |NULL           |200540459   |15:00:00            |22:00:00          |NULL             |2022-04-01 21:37:14  |NULL         |USD               |56.0000         |NULL                |NULL                     |56.0000        |172108            |2022-11-01 22:58:56  |\n",
      "|451450270   |18          |3081.0         |49775          |NULL           |200540460   |08:00:00            |14:00:00          |NULL             |2022-04-01 08:33:28  |NULL         |USD               |12.5000         |NULL                |NULL                     |12.5000        |49775             |2022-11-01 22:58:56  |\n",
      "|451450279   |18          |3081.0         |124416         |NULL           |200540460   |08:00:00            |14:00:00          |NULL             |2022-04-01 08:48:45  |NULL         |USD               |41.5000         |NULL                |NULL                     |41.5000        |124416            |2022-11-01 22:58:56  |\n",
      "|451450315   |18          |3081.0         |85597          |NULL           |200540460   |08:00:00            |14:00:00          |NULL             |2022-04-01 09:29:50  |NULL         |USD               |58.5000         |NULL                |NULL                     |58.5000        |85597             |2022-11-01 22:58:56  |\n",
      "|451450317   |18          |3081.0         |51847          |NULL           |200540460   |08:00:00            |14:00:00          |NULL             |2022-04-01 09:31:28  |NULL         |USD               |70.5000         |NULL                |NULL                     |70.5000        |51847             |2022-11-01 22:58:56  |\n",
      "----------------------------------------------------------------------------------------------------------------------------------------------------------------------------------------------------------------------------------------------------------------------------------------------------------------------------------\n",
      "\n"
     ]
    }
   ],
   "source": [
    "# Get data till 2 weeks before last transaction date provided (first dataframe)\n",
    "order_df1 = order_14days.filter(F.datediff(\"day\", F.col(\"ORDER_TS\"), F.col(\"LAST_DATE\")) >= 28)\n",
    "order_df1.show()"
   ]
  },
  {
   "cell_type": "code",
   "execution_count": 20,
   "metadata": {},
   "outputs": [
    {
     "name": "stdout",
     "output_type": "stream",
     "text": [
      "-----------------------\n",
      "|\"MIN(ORDER_TS)\"      |\n",
      "-----------------------\n",
      "|2019-01-01 17:19:08  |\n",
      "-----------------------\n",
      "\n",
      "-----------------------\n",
      "|\"MAX(ORDER_TS)\"      |\n",
      "-----------------------\n",
      "|2022-10-04 22:58:32  |\n",
      "-----------------------\n",
      "\n"
     ]
    }
   ],
   "source": [
    "# Ensure timeframe is correct\n",
    "order_df1.agg(F.min('ORDER_TS')).show()\n",
    "order_df1.agg(F.max('ORDER_TS')).show()"
   ]
  },
  {
   "cell_type": "code",
   "execution_count": 21,
   "metadata": {},
   "outputs": [
    {
     "name": "stdout",
     "output_type": "stream",
     "text": [
      "---------------------------------------\n",
      "|\"CUSTOMER_ID\"  |\"LAST_ORDER_TS\"      |\n",
      "---------------------------------------\n",
      "|157126         |2022-10-03 10:02:45  |\n",
      "|198456         |2022-10-02 09:40:36  |\n",
      "|77388          |2022-09-30 21:36:42  |\n",
      "|172025         |2022-10-02 20:02:39  |\n",
      "|194594         |2022-09-13 14:48:15  |\n",
      "|158633         |2022-08-02 17:29:29  |\n",
      "|151095         |2022-09-30 08:07:26  |\n",
      "|67810          |2022-08-06 19:38:14  |\n",
      "|187919         |2022-09-02 20:01:18  |\n",
      "|73976          |2022-10-03 21:08:32  |\n",
      "---------------------------------------\n",
      "\n"
     ]
    }
   ],
   "source": [
    "# Getting the latest purchase date for each customer in df1\n",
    "customer_last_order_timestamp_df1 = order_df1.groupBy(\"CUSTOMER_ID\").agg(F.max(\"ORDER_TS\").alias(\"LAST_ORDER_TS\"))\n",
    "customer_last_order_timestamp_df1.show()"
   ]
  },
  {
   "cell_type": "code",
   "execution_count": 22,
   "metadata": {},
   "outputs": [
    {
     "name": "stdout",
     "output_type": "stream",
     "text": [
      "-------------------------------------------------------------\n",
      "|\"CUSTOMER_ID\"  |\"LAST_ORDER_TS\"      |\"LAST_TRANS\"         |\n",
      "-------------------------------------------------------------\n",
      "|67370          |2022-09-30 09:20:17  |2022-10-04 22:58:32  |\n",
      "|110823         |2022-09-17 20:31:39  |2022-10-04 22:58:32  |\n",
      "|34703          |2022-09-30 18:38:41  |2022-10-04 22:58:32  |\n",
      "|24059          |2022-09-19 19:58:24  |2022-10-04 22:58:32  |\n",
      "|64782          |2022-09-27 09:29:39  |2022-10-04 22:58:32  |\n",
      "|93201          |2022-09-10 20:41:34  |2022-10-04 22:58:32  |\n",
      "|72740          |2022-10-03 20:47:15  |2022-10-04 22:58:32  |\n",
      "|82403          |2022-10-04 08:02:28  |2022-10-04 22:58:32  |\n",
      "|28165          |2022-09-23 19:10:49  |2022-10-04 22:58:32  |\n",
      "|167167         |2022-09-15 13:39:01  |2022-10-04 22:58:32  |\n",
      "-------------------------------------------------------------\n",
      "\n"
     ]
    }
   ],
   "source": [
    "# Getting last order date\n",
    "lastest_transaction_df1 = order_df1.agg(F.max(\"ORDER_TS\").alias(\"LAST_ORDER_TS\")).collect()[0][0]\n",
    "customer_last_order_timestamp_df1 = customer_last_order_timestamp_df1.withColumn(\"LAST_TRANS\", F.iff(F.col(\"CUSTOMER_ID\") == F.col(\"CUSTOMER_ID\"), lastest_transaction_df1, lastest_transaction_df1))\n",
    "customer_last_order_timestamp_df1.show()"
   ]
  },
  {
   "cell_type": "code",
   "execution_count": 23,
   "metadata": {},
   "outputs": [
    {
     "name": "stdout",
     "output_type": "stream",
     "text": [
      "--------------------------------------------------------------------------\n",
      "|\"CUSTOMER_ID\"  |\"LAST_ORDER_TS\"      |\"LAST_TRANS\"         |\"DAYS_DF1\"  |\n",
      "--------------------------------------------------------------------------\n",
      "|121683         |2022-09-29 17:19:40  |2022-10-04 22:58:32  |5           |\n",
      "|66981          |2022-10-01 21:41:17  |2022-10-04 22:58:32  |3           |\n",
      "|12438          |2022-10-02 12:33:42  |2022-10-04 22:58:32  |2           |\n",
      "|67491          |2022-08-24 12:14:37  |2022-10-04 22:58:32  |41          |\n",
      "|101500         |2022-10-04 19:50:16  |2022-10-04 22:58:32  |0           |\n",
      "|70978          |2022-10-01 21:19:25  |2022-10-04 22:58:32  |3           |\n",
      "|15952          |2022-09-17 17:23:07  |2022-10-04 22:58:32  |17          |\n",
      "|134626         |2022-09-04 20:06:54  |2022-10-04 22:58:32  |30          |\n",
      "|28871          |2022-09-27 21:25:03  |2022-10-04 22:58:32  |7           |\n",
      "|165480         |2022-09-29 13:57:49  |2022-10-04 22:58:32  |5           |\n",
      "--------------------------------------------------------------------------\n",
      "\n"
     ]
    }
   ],
   "source": [
    "# Getting the date diff from customer last order to the date 2 weeks before the latest provided transaction date in df1\n",
    "customer_last_order_timestamp_df1 = customer_last_order_timestamp_df1.withColumn(\"days_df1\", F.datediff(\"day\", customer_last_order_timestamp_df1[\"LAST_ORDER_TS\"], customer_last_order_timestamp_df1[\"LAST_TRANS\"]))\n",
    "customer_last_order_timestamp_df1.show()"
   ]
  },
  {
   "cell_type": "markdown",
   "metadata": {},
   "source": [
    "### 4.1.1 Calculating the days between the last 3 transactions <a id=\"part4.1.1\"></a>"
   ]
  },
  {
   "cell_type": "code",
   "execution_count": 24,
   "metadata": {},
   "outputs": [
    {
     "name": "stdout",
     "output_type": "stream",
     "text": [
      "---------------------------------------\n",
      "|\"CUSTOMER_ID\"  |\"ORDER_TS\"           |\n",
      "---------------------------------------\n",
      "|22             |2019-05-15 21:36:14  |\n",
      "|22             |2020-08-20 19:20:25  |\n",
      "|22             |2019-05-31 18:15:35  |\n",
      "|22             |2021-01-19 10:58:41  |\n",
      "|22             |2020-03-16 09:57:28  |\n",
      "|22             |2020-07-29 19:11:27  |\n",
      "|22             |2020-07-25 11:26:41  |\n",
      "|22             |2021-02-27 20:28:29  |\n",
      "|22             |2020-10-18 18:21:23  |\n",
      "|22             |2019-11-20 17:29:15  |\n",
      "---------------------------------------\n",
      "\n"
     ]
    }
   ],
   "source": [
    "# create a dataframe with customer id and order datetime\n",
    "cust_order_dates = order_df1.sort(\"CUSTOMER_ID\")\n",
    "cust_order_dates = cust_order_dates.select(\"CUSTOMER_ID\", \"ORDER_TS\")\n",
    "cust_order_dates.show()"
   ]
  },
  {
   "cell_type": "code",
   "execution_count": 25,
   "metadata": {},
   "outputs": [
    {
     "name": "stdout",
     "output_type": "stream",
     "text": [
      "--------------------------------\n",
      "|\"CUSTOMER_ID\"  |\"ORDER_DATE\"  |\n",
      "--------------------------------\n",
      "|22             |2022-08-24    |\n",
      "|22             |2022-09-07    |\n",
      "|22             |2022-07-02    |\n",
      "|22             |2022-05-15    |\n",
      "|22             |2022-09-14    |\n",
      "|22             |2022-06-11    |\n",
      "|22             |2020-08-20    |\n",
      "|22             |2019-11-20    |\n",
      "|22             |2022-08-02    |\n",
      "|22             |2022-09-29    |\n",
      "--------------------------------\n",
      "\n"
     ]
    }
   ],
   "source": [
    "# extract the date from the datetime\n",
    "cust_order_dates = cust_order_dates.withColumn('ORDER_DATE', to_date(col('ORDER_TS')))\n",
    "cust_order_dates = cust_order_dates.drop(\"ORDER_TS\")\n",
    "cust_order_dates.show()"
   ]
  },
  {
   "cell_type": "code",
   "execution_count": 26,
   "metadata": {},
   "outputs": [
    {
     "name": "stdout",
     "output_type": "stream",
     "text": [
      "--------------------------------\n",
      "|\"CUSTOMER_ID\"  |\"ORDER_DATE\"  |\n",
      "--------------------------------\n",
      "|134767         |2020-05-17    |\n",
      "|134777         |2022-06-26    |\n",
      "|134777         |2021-01-07    |\n",
      "|134784         |2021-02-12    |\n",
      "|134787         |2020-01-27    |\n",
      "|134795         |2020-09-21    |\n",
      "|134808         |2021-02-09    |\n",
      "|134817         |2021-07-11    |\n",
      "|134877         |2019-08-14    |\n",
      "|134887         |2021-01-14    |\n",
      "--------------------------------\n",
      "\n"
     ]
    }
   ],
   "source": [
    "# drop duplicate rows --> some customers may make multiple transactions in a day\n",
    "cust_order_dates = cust_order_dates.dropDuplicates()\n",
    "cust_order_dates.show()"
   ]
  },
  {
   "cell_type": "code",
   "execution_count": 27,
   "metadata": {},
   "outputs": [
    {
     "name": "stdout",
     "output_type": "stream",
     "text": [
      "--------------------------------\n",
      "|\"CUSTOMER_ID\"  |\"ORDER_DATE\"  |\n",
      "--------------------------------\n",
      "|22             |2022-09-29    |\n",
      "|22             |2022-09-14    |\n",
      "|22             |2022-09-07    |\n",
      "|22             |2022-08-24    |\n",
      "|22             |2022-08-02    |\n",
      "|22             |2022-07-02    |\n",
      "|22             |2022-06-11    |\n",
      "|22             |2022-05-15    |\n",
      "|22             |2022-03-28    |\n",
      "|22             |2022-03-16    |\n",
      "--------------------------------\n",
      "\n"
     ]
    }
   ],
   "source": [
    "# sort the order date by chronological order and by customer id\n",
    "cust_order_dates = cust_order_dates.sort([\"CUSTOMER_ID\", col(\"ORDER_DATE\").desc()])\n",
    "cust_order_dates.show()"
   ]
  },
  {
   "cell_type": "code",
   "execution_count": 28,
   "metadata": {},
   "outputs": [
    {
     "name": "stdout",
     "output_type": "stream",
     "text": [
      "---------------------------\n",
      "|\"CUSTOMER_ID\"  |\"COUNT\"  |\n",
      "---------------------------\n",
      "|               |         |\n",
      "---------------------------\n",
      "\n"
     ]
    }
   ],
   "source": [
    "# find out which customers have less than 3 transactions made on different days\n",
    "cust_order_dates.groupBy(\"CUSTOMER_ID\").count().filter(col(\"COUNT\") < 3).show()"
   ]
  },
  {
   "cell_type": "code",
   "execution_count": 29,
   "metadata": {},
   "outputs": [
    {
     "name": "stdout",
     "output_type": "stream",
     "text": [
      "------------------------------------------------------------------\n",
      "|\"CUSTOMER_ID\"  |\"ORDER_DATE\"  |\"ORDER_DATE_2\"  |\"ORDER_DATE_3\"  |\n",
      "------------------------------------------------------------------\n",
      "|22             |2022-09-29    |NULL            |NULL            |\n",
      "|22             |2022-09-14    |2022-09-29      |NULL            |\n",
      "|22             |2022-09-07    |2022-09-14      |2022-09-29      |\n",
      "|22             |2022-08-24    |2022-09-07      |2022-09-14      |\n",
      "|22             |2022-08-02    |2022-08-24      |2022-09-07      |\n",
      "|22             |2022-07-02    |2022-08-02      |2022-08-24      |\n",
      "|22             |2022-06-11    |2022-07-02      |2022-08-02      |\n",
      "|22             |2022-05-15    |2022-06-11      |2022-07-02      |\n",
      "|22             |2022-03-28    |2022-05-15      |2022-06-11      |\n",
      "|22             |2022-03-16    |2022-03-28      |2022-05-15      |\n",
      "------------------------------------------------------------------\n",
      "\n"
     ]
    }
   ],
   "source": [
    "# since no customers have less than 3 transactions made on different days, get the dates of the last 3 transactions of each customer\n",
    "\n",
    "# partition the data by customer id and order it by descending order of the date \n",
    "partition = Window.partitionBy(\"CUSTOMER_ID\").orderBy(col(\"ORDER_DATE\").desc)\n",
    "\n",
    "# using lag, get the previous 2 dates and place it into a new column \n",
    "cust_order_dates = cust_order_dates.withColumn(\"ORDER_DATE_2\", F.lag(col(\"ORDER_DATE\"), 1).over(Window.partitionBy(\"CUSTOMER_ID\").orderBy(desc(\"ORDER_DATE\"))))\n",
    "cust_order_dates = cust_order_dates.withColumn(\"ORDER_DATE_3\", F.lag(col(\"ORDER_DATE\"), 2).over(Window.partitionBy(\"CUSTOMER_ID\").orderBy(desc(\"ORDER_DATE\"))))\n",
    "\n",
    "cust_order_dates.show()"
   ]
  },
  {
   "cell_type": "code",
   "execution_count": 30,
   "metadata": {},
   "outputs": [
    {
     "name": "stdout",
     "output_type": "stream",
     "text": [
      "------------------------------------------------------------------\n",
      "|\"CUSTOMER_ID\"  |\"ORDER_DATE\"  |\"ORDER_DATE_2\"  |\"ORDER_DATE_3\"  |\n",
      "------------------------------------------------------------------\n",
      "|134447         |2022-09-10    |2022-09-21      |2022-09-24      |\n",
      "|134447         |2022-09-09    |2022-09-10      |2022-09-21      |\n",
      "|134447         |2022-08-24    |2022-09-09      |2022-09-10      |\n",
      "|134447         |2022-08-09    |2022-08-24      |2022-09-09      |\n",
      "|134447         |2022-07-30    |2022-08-09      |2022-08-24      |\n",
      "|134447         |2022-07-29    |2022-07-30      |2022-08-09      |\n",
      "|134447         |2022-07-27    |2022-07-29      |2022-07-30      |\n",
      "|134447         |2022-07-12    |2022-07-27      |2022-07-29      |\n",
      "|134447         |2022-07-04    |2022-07-12      |2022-07-27      |\n",
      "|134447         |2022-06-26    |2022-07-04      |2022-07-12      |\n",
      "------------------------------------------------------------------\n",
      "\n"
     ]
    }
   ],
   "source": [
    "# drop rows with null\n",
    "cust_order_dates = cust_order_dates.dropna()\n",
    "cust_order_dates.show()"
   ]
  },
  {
   "cell_type": "code",
   "execution_count": 31,
   "metadata": {},
   "outputs": [
    {
     "name": "stdout",
     "output_type": "stream",
     "text": [
      "------------------------------------------------------------------\n",
      "|\"CUSTOMER_ID\"  |\"ORDER_DATE\"  |\"ORDER_DATE_2\"  |\"ORDER_DATE_3\"  |\n",
      "------------------------------------------------------------------\n",
      "|156801         |2022-08-30    |2022-09-02      |2022-09-15      |\n",
      "|167625         |2022-09-02    |2022-09-12      |2022-09-20      |\n",
      "|76224          |2022-08-29    |2022-09-12      |2022-09-28      |\n",
      "|137761         |2022-07-28    |2022-08-01      |2022-08-11      |\n",
      "|67164          |2022-09-03    |2022-09-08      |2022-09-27      |\n",
      "|54061          |2022-08-20    |2022-09-03      |2022-09-27      |\n",
      "|148706         |2022-08-26    |2022-09-04      |2022-09-12      |\n",
      "|97917          |2022-09-04    |2022-09-28      |2022-10-01      |\n",
      "|8424           |2022-09-21    |2022-09-29      |2022-10-01      |\n",
      "|116346         |2022-09-22    |2022-09-26      |2022-10-03      |\n",
      "------------------------------------------------------------------\n",
      "\n"
     ]
    }
   ],
   "source": [
    "# choose only the top row for each customer id and put it into a new dataframe\n",
    "windowSpec = Window.partitionBy(\"CUSTOMER_ID\").orderBy(desc(\"ORDER_DATE\"))\n",
    "\n",
    "past3_trans = cust_order_dates.withColumn(\"row_number\", row_number().over(windowSpec)).filter(col(\"row_number\") == 1).drop(\"row_number\")\n",
    "\n",
    "past3_trans.show()"
   ]
  },
  {
   "cell_type": "code",
   "execution_count": 32,
   "metadata": {},
   "outputs": [
    {
     "name": "stdout",
     "output_type": "stream",
     "text": [
      "----------------------------------------------------------------------------------------------------------\n",
      "|\"CUSTOMER_ID\"  |\"ORDER_DATE\"  |\"ORDER_DATE_2\"  |\"ORDER_DATE_3\"  |\"TRANS_DATEDIFF1\"  |\"TRANS_DATEDIFF2\"  |\n",
      "----------------------------------------------------------------------------------------------------------\n",
      "|156801         |2022-08-30    |2022-09-02      |2022-09-15      |3                  |13                 |\n",
      "|167625         |2022-09-02    |2022-09-12      |2022-09-20      |10                 |8                  |\n",
      "|76224          |2022-08-29    |2022-09-12      |2022-09-28      |14                 |16                 |\n",
      "|137761         |2022-07-28    |2022-08-01      |2022-08-11      |4                  |10                 |\n",
      "|67164          |2022-09-03    |2022-09-08      |2022-09-27      |5                  |19                 |\n",
      "|54061          |2022-08-20    |2022-09-03      |2022-09-27      |14                 |24                 |\n",
      "|148706         |2022-08-26    |2022-09-04      |2022-09-12      |9                  |8                  |\n",
      "|97917          |2022-09-04    |2022-09-28      |2022-10-01      |24                 |3                  |\n",
      "|8424           |2022-09-21    |2022-09-29      |2022-10-01      |8                  |2                  |\n",
      "|116346         |2022-09-22    |2022-09-26      |2022-10-03      |4                  |7                  |\n",
      "----------------------------------------------------------------------------------------------------------\n",
      "\n"
     ]
    }
   ],
   "source": [
    "# calculate the date difference between each order date\n",
    "past3_trans = past3_trans.withColumn(\"TRANS_DATEDIFF1\", F.datediff(\"day\", past3_trans[\"ORDER_DATE\"], past3_trans[\"ORDER_DATE_2\"]))\n",
    "past3_trans = past3_trans.withColumn(\"TRANS_DATEDIFF2\", F.datediff(\"day\", past3_trans[\"ORDER_DATE_2\"], past3_trans[\"ORDER_DATE_3\"]))\n",
    "\n",
    "past3_trans.show()"
   ]
  },
  {
   "cell_type": "code",
   "execution_count": 33,
   "metadata": {},
   "outputs": [
    {
     "name": "stdout",
     "output_type": "stream",
     "text": [
      "------------------------------------------------------------------------------------------------------------------\n",
      "|\"CUSTOMER_ID\"  |\"LAST_ORDER_TS\"      |\"LAST_TRANS\"         |\"DAYS_DF1\"  |\"TRANS_DATEDIFF1\"  |\"TRANS_DATEDIFF2\"  |\n",
      "------------------------------------------------------------------------------------------------------------------\n",
      "|178304         |2022-09-28 13:55:21  |2022-10-04 22:58:32  |6           |24                 |4                  |\n",
      "|178309         |2022-09-10 13:55:49  |2022-10-04 22:58:32  |24          |19                 |11                 |\n",
      "|178311         |2022-09-24 21:01:29  |2022-10-04 22:58:32  |10          |15                 |10                 |\n",
      "|178312         |2022-10-04 18:22:23  |2022-10-04 22:58:32  |0           |24                 |5                  |\n",
      "|178314         |2022-10-01 16:11:18  |2022-10-04 22:58:32  |3           |7                  |9                  |\n",
      "|178316         |2022-09-08 21:35:30  |2022-10-04 22:58:32  |26          |9                  |2                  |\n",
      "|178324         |2022-09-30 20:09:09  |2022-10-04 22:58:32  |4           |6                  |16                 |\n",
      "|178331         |2022-10-02 08:37:27  |2022-10-04 22:58:32  |2           |1                  |36                 |\n",
      "|178332         |2022-09-21 08:28:17  |2022-10-04 22:58:32  |13          |8                  |2                  |\n",
      "|178333         |2022-10-02 22:32:47  |2022-10-04 22:58:32  |2           |8                  |12                 |\n",
      "------------------------------------------------------------------------------------------------------------------\n",
      "\n"
     ]
    }
   ],
   "source": [
    "# merge the dataframe with the past 3 transactions with the first dataframe\n",
    "\n",
    "past3_trans = past3_trans.select(\"CUSTOMER_ID\", \"TRANS_DATEDIFF1\", \"TRANS_DATEDIFF2\")\n",
    "\n",
    "customer_last_order_timestamp_df1 = customer_last_order_timestamp_df1.join(past3_trans, \n",
    "                                customer_last_order_timestamp_df1.CUSTOMER_ID==past3_trans.CUSTOMER_ID, lsuffix=\"\", rsuffix=\"_PAST3_TRANS\")\n",
    "\n",
    "customer_last_order_timestamp_df1 = customer_last_order_timestamp_df1.drop(\"CUSTOMER_ID_PAST3_TRANS\")\n",
    "\n",
    "customer_last_order_timestamp_df1.show()"
   ]
  },
  {
   "cell_type": "markdown",
   "metadata": {},
   "source": [
    "#### 4.1.2 Calculation of Average Days between Purchases <a id=\"part4.1.2\"></a>"
   ]
  },
  {
   "cell_type": "code",
   "execution_count": 34,
   "metadata": {},
   "outputs": [
    {
     "name": "stdout",
     "output_type": "stream",
     "text": [
      "---------------------------------------\n",
      "|\"CUSTOMER_ID\"  |\"AVG(DAYS_BETWEEN)\"  |\n",
      "---------------------------------------\n",
      "|22             |32.447368            |\n",
      "|42             |34.555556            |\n",
      "|59             |34.194444            |\n",
      "|65             |29.536585            |\n",
      "|106            |24.622222            |\n",
      "|118            |29.540541            |\n",
      "|166            |19.214286            |\n",
      "|176            |28.718750            |\n",
      "|189            |27.777778            |\n",
      "|204            |30.187500            |\n",
      "---------------------------------------\n",
      "\n"
     ]
    }
   ],
   "source": [
    "# Finding the average days between purchase for each customer\n",
    "customer_order_times = order_df1.sort(col(\"CUSTOMER_ID\"), col(\"ORDER_TS\"))\n",
    "customer_order_times = customer_order_times.withColumn(\"prev_order_date\", F.lag(col(\"ORDER_TS\"), 1).over(Window.partitionBy(\"CUSTOMER_ID\").orderBy(\"ORDER_TS\"))).withColumn(\"days_between\", F.datediff('day', col(\"prev_order_date\"), col(\"ORDER_TS\")))\n",
    "customer_average_days = customer_order_times.groupBy(\"CUSTOMER_ID\").avg(\"days_between\")\n",
    "customer_average_days = customer_average_days.sort(col('CUSTOMER_ID'))\n",
    "customer_average_days.show()"
   ]
  },
  {
   "cell_type": "code",
   "execution_count": 35,
   "metadata": {},
   "outputs": [
    {
     "name": "stdout",
     "output_type": "stream",
     "text": [
      "----------------------------------------------------------------------------------------------------------------------------------------------------------------------------------\n",
      "|\"CUSTOMER_ID\"  |\"AVG(DAYS_BETWEEN)\"  |\"CUSTOMER_ID_AVG_DAYS_WITHOUT_PURCHASE\"  |\"LAST_ORDER_TS\"      |\"LAST_TRANS\"         |\"DAYS_DF1\"  |\"TRANS_DATEDIFF1\"  |\"TRANS_DATEDIFF2\"  |\n",
      "----------------------------------------------------------------------------------------------------------------------------------------------------------------------------------\n",
      "|183793         |21.092593            |183793                                   |2022-09-14 20:49:35  |2022-10-04 22:58:32  |20          |1                  |27                 |\n",
      "|125907         |22.075472            |125907                                   |2022-09-24 18:16:38  |2022-10-04 22:58:32  |10          |8                  |5                  |\n",
      "|165398         |22.769231            |165398                                   |2022-09-29 18:50:14  |2022-10-04 22:58:32  |5           |17                 |7                  |\n",
      "|21593          |21.724138            |21593                                    |2022-10-02 20:25:15  |2022-10-04 22:58:32  |2           |38                 |10                 |\n",
      "|49650          |21.745455            |49650                                    |2022-10-01 18:54:39  |2022-10-04 22:58:32  |3           |5                  |2                  |\n",
      "|173885         |21.406780            |173885                                   |2022-10-04 09:37:21  |2022-10-04 22:58:32  |0           |1                  |40                 |\n",
      "|109193         |26.000000            |109193                                   |2022-08-21 19:22:57  |2022-10-04 22:58:32  |44          |4                  |7                  |\n",
      "|103778         |16.616438            |103778                                   |2022-10-02 19:50:12  |2022-10-04 22:58:32  |2           |7                  |2                  |\n",
      "|32490          |14.594595            |32490                                    |2022-10-04 09:58:13  |2022-10-04 22:58:32  |0           |11                 |10                 |\n",
      "|53798          |20.564516            |53798                                    |2022-10-03 16:11:21  |2022-10-04 22:58:32  |1           |19                 |4                  |\n",
      "----------------------------------------------------------------------------------------------------------------------------------------------------------------------------------\n",
      "\n"
     ]
    }
   ],
   "source": [
    "# Adding the average days between purchase into customer_last_order_timestamp_df1\n",
    "customer_last_order_timestamp_df1 = customer_average_days.join(customer_last_order_timestamp_df1, \n",
    "                                customer_last_order_timestamp_df1.CUSTOMER_ID==customer_average_days.CUSTOMER_ID, lsuffix=\"\", rsuffix=\"_AVG_DAYS_WITHOUT_PURCHASE\")\n",
    "customer_last_order_timestamp_df1.show()"
   ]
  },
  {
   "cell_type": "markdown",
   "metadata": {},
   "source": [
    "### 4.1.3 Calculation the Minimum Number of Days without Customer Purchase <a id=\"part4.1.3\"></a>"
   ]
  },
  {
   "cell_type": "code",
   "execution_count": 36,
   "metadata": {},
   "outputs": [
    {
     "name": "stdout",
     "output_type": "stream",
     "text": [
      "---------------------------------------\n",
      "|\"CUSTOMER_ID\"  |\"MIN(DAYS_BETWEEN)\"  |\n",
      "---------------------------------------\n",
      "|22             |1                    |\n",
      "|42             |1                    |\n",
      "|59             |1                    |\n",
      "|65             |2                    |\n",
      "|106            |1                    |\n",
      "|118            |1                    |\n",
      "|166            |1                    |\n",
      "|176            |1                    |\n",
      "|189            |1                    |\n",
      "|204            |3                    |\n",
      "---------------------------------------\n",
      "\n"
     ]
    }
   ],
   "source": [
    "# Finding the minimum days without purchase for each customer\n",
    "customer_min_days = customer_order_times.groupBy(\"CUSTOMER_ID\").min(\"days_between\")\n",
    "customer_min_days = customer_min_days.sort(col('CUSTOMER_ID'))\n",
    "customer_min_days.show()"
   ]
  },
  {
   "cell_type": "code",
   "execution_count": 37,
   "metadata": {},
   "outputs": [
    {
     "name": "stdout",
     "output_type": "stream",
     "text": [
      "--------------------------------------------------------------------------------------------------------------------------------------------------------------------------------------------------------------------------------------------------\n",
      "|\"CUSTOMER_ID\"  |\"MIN(DAYS_BETWEEN)\"  |\"CUSTOMER_ID_MIN_DAYS_WITHOUT_PURCHASE\"  |\"AVG(DAYS_BETWEEN)\"  |\"CUSTOMER_ID_AVG_DAYS_WITHOUT_PURCHASE\"  |\"LAST_ORDER_TS\"      |\"LAST_TRANS\"         |\"DAYS_DF1\"  |\"TRANS_DATEDIFF1\"  |\"TRANS_DATEDIFF2\"  |\n",
      "--------------------------------------------------------------------------------------------------------------------------------------------------------------------------------------------------------------------------------------------------\n",
      "|41794          |1                    |41794                                    |31.166667            |41794                                    |2022-09-30 20:55:46  |2022-10-04 22:58:32  |4           |13                 |34                 |\n",
      "|41799          |1                    |41799                                    |19.379310            |41799                                    |2022-09-26 16:05:33  |2022-10-04 22:58:32  |8           |4                  |1                  |\n",
      "|41800          |1                    |41800                                    |19.520000            |41800                                    |2022-09-09 14:25:36  |2022-10-04 22:58:32  |25          |8                  |15                 |\n",
      "|41805          |1                    |41805                                    |17.967742            |41805                                    |2022-09-15 10:34:50  |2022-10-04 22:58:32  |19          |8                  |9                  |\n",
      "|41824          |1                    |41824                                    |16.982456            |41824                                    |2022-09-09 09:39:35  |2022-10-04 22:58:32  |25          |12                 |29                 |\n",
      "|41828          |1                    |41828                                    |24.461538            |41828                                    |2022-10-01 17:38:21  |2022-10-04 22:58:32  |3           |3                  |4                  |\n",
      "|41833          |1                    |41833                                    |21.920000            |41833                                    |2022-09-02 20:17:34  |2022-10-04 22:58:32  |32          |30                 |5                  |\n",
      "|41834          |1                    |41834                                    |31.777778            |41834                                    |2022-10-04 13:20:30  |2022-10-04 22:58:32  |0           |17                 |9                  |\n",
      "|41858          |1                    |41858                                    |20.204082            |41858                                    |2022-09-27 08:27:59  |2022-10-04 22:58:32  |7           |24                 |18                 |\n",
      "|41867          |1                    |41867                                    |20.306122            |41867                                    |2022-10-01 12:19:15  |2022-10-04 22:58:32  |3           |6                  |4                  |\n",
      "--------------------------------------------------------------------------------------------------------------------------------------------------------------------------------------------------------------------------------------------------\n",
      "\n"
     ]
    }
   ],
   "source": [
    "# Adding the minimum number of days without purchase into customer_last_order_timestamp_df1\n",
    "customer_last_order_timestamp_df1 = customer_min_days.join(customer_last_order_timestamp_df1, \n",
    "                                customer_last_order_timestamp_df1.CUSTOMER_ID==customer_min_days.CUSTOMER_ID, lsuffix=\"\", rsuffix=\"_MIN_DAYS_WITHOUT_PURCHASE\")\n",
    "customer_last_order_timestamp_df1.show()"
   ]
  },
  {
   "cell_type": "markdown",
   "metadata": {},
   "source": [
    "### 4.1.4 Calculation the Maximum Number of Days without Customer Purchase <a id=\"part4.1.4\"></a>"
   ]
  },
  {
   "cell_type": "code",
   "execution_count": 38,
   "metadata": {},
   "outputs": [
    {
     "name": "stdout",
     "output_type": "stream",
     "text": [
      "---------------------------------------\n",
      "|\"CUSTOMER_ID\"  |\"MAX(DAYS_BETWEEN)\"  |\n",
      "---------------------------------------\n",
      "|22             |173                  |\n",
      "|42             |167                  |\n",
      "|59             |390                  |\n",
      "|65             |207                  |\n",
      "|106            |158                  |\n",
      "|118            |158                  |\n",
      "|166            |119                  |\n",
      "|176            |139                  |\n",
      "|189            |164                  |\n",
      "|204            |172                  |\n",
      "---------------------------------------\n",
      "\n"
     ]
    }
   ],
   "source": [
    "# Finding the maximum days without purchase for each customer\n",
    "customer_max_days = customer_order_times.groupBy(\"CUSTOMER_ID\").max(\"days_between\")\n",
    "customer_max_days = customer_max_days.sort(col('CUSTOMER_ID'))\n",
    "customer_max_days.show()"
   ]
  },
  {
   "cell_type": "code",
   "execution_count": 39,
   "metadata": {},
   "outputs": [
    {
     "name": "stdout",
     "output_type": "stream",
     "text": [
      "------------------------------------------------------------------------------------------------------------------------------------------------------------------------------------------------------------------------------------------------------------------------------------------------------------------\n",
      "|\"CUSTOMER_ID\"  |\"MAX(DAYS_BETWEEN)\"  |\"CUSTOMER_ID_MAX_DAYS_WITHOUT_PURCHASE\"  |\"MIN(DAYS_BETWEEN)\"  |\"CUSTOMER_ID_MIN_DAYS_WITHOUT_PURCHASE\"  |\"AVG(DAYS_BETWEEN)\"  |\"CUSTOMER_ID_AVG_DAYS_WITHOUT_PURCHASE\"  |\"LAST_ORDER_TS\"      |\"LAST_TRANS\"         |\"DAYS_DF1\"  |\"TRANS_DATEDIFF1\"  |\"TRANS_DATEDIFF2\"  |\n",
      "------------------------------------------------------------------------------------------------------------------------------------------------------------------------------------------------------------------------------------------------------------------------------------------------------------------\n",
      "|41355          |97                   |41355                                    |1                    |41355                                    |20.312500            |41355                                    |2022-09-17 11:01:00  |2022-10-04 22:58:32  |17          |9                  |20                 |\n",
      "|41356          |197                  |41356                                    |1                    |41356                                    |29.105263            |41356                                    |2022-09-25 08:46:34  |2022-10-04 22:58:32  |9           |16                 |4                  |\n",
      "|41361          |91                   |41361                                    |1                    |41361                                    |15.343750            |41361                                    |2022-09-26 18:38:26  |2022-10-04 22:58:32  |8           |10                 |25                 |\n",
      "|41362          |85                   |41362                                    |1                    |41362                                    |22.857143            |41362                                    |2022-09-14 10:26:03  |2022-10-04 22:58:32  |20          |9                  |26                 |\n",
      "|41367          |272                  |41367                                    |1                    |41367                                    |41.300000            |41367                                    |2022-09-30 10:17:16  |2022-10-04 22:58:32  |4           |3                  |25                 |\n",
      "|41386          |70                   |41386                                    |1                    |41386                                    |15.437500            |41386                                    |2022-09-27 22:31:32  |2022-10-04 22:58:32  |7           |2                  |6                  |\n",
      "|41409          |207                  |41409                                    |1                    |41409                                    |33.111111            |41409                                    |2022-10-02 12:09:49  |2022-10-04 22:58:32  |2           |52                 |83                 |\n",
      "|41410          |108                  |41410                                    |1                    |41410                                    |19.895833            |41410                                    |2022-09-02 20:41:29  |2022-10-04 22:58:32  |32          |4                  |4                  |\n",
      "|41424          |169                  |41424                                    |1                    |41424                                    |27.900000            |41424                                    |2022-09-10 18:33:32  |2022-10-04 22:58:32  |24          |5                  |6                  |\n",
      "|41425          |49                   |41425                                    |1                    |41425                                    |15.118644            |41425                                    |2022-09-14 21:08:12  |2022-10-04 22:58:32  |20          |7                  |12                 |\n",
      "------------------------------------------------------------------------------------------------------------------------------------------------------------------------------------------------------------------------------------------------------------------------------------------------------------------\n",
      "\n"
     ]
    }
   ],
   "source": [
    "# Adding the maximum number of days without purchase into customer_last_order_timestamp_df1\n",
    "customer_last_order_timestamp_df1 = customer_max_days.join(customer_last_order_timestamp_df1, \n",
    "                                customer_last_order_timestamp_df1.CUSTOMER_ID==customer_max_days.CUSTOMER_ID, lsuffix=\"\", rsuffix=\"_MAX_DAYS_WITHOUT_PURCHASE\")\n",
    "customer_last_order_timestamp_df1.show()"
   ]
  },
  {
   "cell_type": "code",
   "execution_count": 40,
   "metadata": {},
   "outputs": [
    {
     "name": "stdout",
     "output_type": "stream",
     "text": [
      "------------------------------------------------------------------------------------------------------------------------------------------------------------------------------------\n",
      "|\"CUSTOMER_ID\"  |\"MAX(DAYS_BETWEEN)\"  |\"MIN(DAYS_BETWEEN)\"  |\"AVG(DAYS_BETWEEN)\"  |\"LAST_ORDER_TS\"      |\"LAST_TRANS\"         |\"DAYS_DF1\"  |\"TRANS_DATEDIFF1\"  |\"TRANS_DATEDIFF2\"  |\n",
      "------------------------------------------------------------------------------------------------------------------------------------------------------------------------------------\n",
      "|155770         |98                   |1                    |17.708333            |2022-08-20 22:02:02  |2022-10-04 22:58:32  |45          |34                 |24                 |\n",
      "|155771         |96                   |1                    |21.355556            |2022-09-07 20:45:34  |2022-10-04 22:58:32  |27          |9                  |5                  |\n",
      "|155772         |75                   |1                    |16.350000            |2022-10-01 13:34:59  |2022-10-04 22:58:32  |3           |11                 |1                  |\n",
      "|155776         |126                  |1                    |20.132075            |2022-09-27 13:06:54  |2022-10-04 22:58:32  |7           |8                  |14                 |\n",
      "|155778         |235                  |1                    |19.015873            |2022-09-22 10:19:33  |2022-10-04 22:58:32  |12          |1                  |19                 |\n",
      "|155779         |132                  |1                    |19.780000            |2022-10-02 19:57:28  |2022-10-04 22:58:32  |2           |1                  |2                  |\n",
      "|155782         |190                  |1                    |28.435897            |2022-09-22 19:34:20  |2022-10-04 22:58:32  |12          |1                  |48                 |\n",
      "|155788         |84                   |1                    |23.711538            |2022-09-24 09:14:54  |2022-10-04 22:58:32  |10          |5                  |4                  |\n",
      "|155792         |84                   |1                    |15.897059            |2022-09-26 08:36:46  |2022-10-04 22:58:32  |8           |2                  |13                 |\n",
      "|155793         |127                  |1                    |19.825397            |2022-10-04 19:33:31  |2022-10-04 22:58:32  |0           |12                 |2                  |\n",
      "------------------------------------------------------------------------------------------------------------------------------------------------------------------------------------\n",
      "\n"
     ]
    }
   ],
   "source": [
    "# Dropping of irrelevant and unnecessary columns that have been introduced during joining of dataframes in previous steps\n",
    "customer_last_order_timestamp_df1 = customer_last_order_timestamp_df1.drop([\"CUSTOMER_ID_MAX_DAYS_WITHOUT_PURCHASE\", \"CUSTOMER_ID_MIN_DAYS_WITHOUT_PURCHASE\", \"CUSTOMER_ID_AVG_DAYS_WITHOUT_PURCHASE\"])\n",
    "customer_last_order_timestamp_df1.show(10)"
   ]
  },
  {
   "cell_type": "markdown",
   "metadata": {},
   "source": [
    "### 4.1.5 Recency <a id=\"part4.1.5\"></a>\n",
    "\n",
    "To calculate the recency of orders for each customer, we will take the last order timestamp of the customer minus the current date identified. "
   ]
  },
  {
   "cell_type": "code",
   "execution_count": 41,
   "metadata": {},
   "outputs": [
    {
     "name": "stdout",
     "output_type": "stream",
     "text": [
      "-----------------------------------------------------------------------------------------------------------------------------------------------------------------------------------------------------\n",
      "|\"CUSTOMER_ID\"  |\"MAX(DAYS_BETWEEN)\"  |\"MIN(DAYS_BETWEEN)\"  |\"AVG(DAYS_BETWEEN)\"  |\"LAST_ORDER_TS\"      |\"LAST_TRANS\"         |\"DAYS_DF1\"  |\"TRANS_DATEDIFF1\"  |\"TRANS_DATEDIFF2\"  |\"RECENCY_DAYS\"  |\n",
      "-----------------------------------------------------------------------------------------------------------------------------------------------------------------------------------------------------\n",
      "|133982         |94                   |1                    |18.944444            |2022-09-17 20:53:36  |2022-10-04 22:58:32  |17          |1                  |9                  |17              |\n",
      "|133984         |84                   |1                    |19.549020            |2022-10-01 12:46:47  |2022-10-04 22:58:32  |3           |8                  |8                  |3               |\n",
      "|133985         |202                  |1                    |27.489362            |2022-10-04 18:11:05  |2022-10-04 22:58:32  |0           |6                  |1                  |0               |\n",
      "|133986         |51                   |1                    |18.259259            |2022-09-23 09:51:26  |2022-10-04 22:58:32  |11          |3                  |24                 |11              |\n",
      "|133988         |365                  |1                    |42.384615            |2022-08-27 09:48:53  |2022-10-04 22:58:32  |38          |49                 |1                  |38              |\n",
      "|133990         |75                   |1                    |14.070423            |2022-10-03 16:06:44  |2022-10-04 22:58:32  |1           |13                 |6                  |1               |\n",
      "|133992         |74                   |2                    |19.400000            |2022-09-24 19:02:12  |2022-10-04 22:58:32  |10          |5                  |33                 |10              |\n",
      "|134011         |397                  |1                    |35.416667            |2022-09-18 13:27:27  |2022-10-04 22:58:32  |16          |60                 |15                 |16              |\n",
      "|134012         |71                   |1                    |18.425926            |2022-09-27 21:30:20  |2022-10-04 22:58:32  |7           |11                 |18                 |7               |\n",
      "|134013         |104                  |1                    |18.559322            |2022-09-29 13:37:56  |2022-10-04 22:58:32  |5           |5                  |7                  |5               |\n",
      "-----------------------------------------------------------------------------------------------------------------------------------------------------------------------------------------------------\n",
      "\n"
     ]
    }
   ],
   "source": [
    "# Creating a new dataframe and adding column with current date as the latest \n",
    "# transaction timestamp identified previously \n",
    "\n",
    "# Calculate recency days\n",
    "customer_recency = customer_last_order_timestamp_df1.with_column(\"RECENCY_DAYS\", F.datediff('day', customer_last_order_timestamp_df1[\"LAST_ORDER_TS\"], customer_last_order_timestamp_df1[\"LAST_TRANS\"]))\n",
    "customer_recency.show()"
   ]
  },
  {
   "cell_type": "code",
   "execution_count": 42,
   "metadata": {},
   "outputs": [],
   "source": [
    "# Calculating the number of days since a customer bought from Tasty Bytes based \n",
    "# on the date difference between the current date and last order timestamp and \n",
    "# adding it into the customer_recency data frame\n",
    "\n",
    "temp_customer_recency = customer_recency.select('CUSTOMER_ID','RECENCY_DAYS')\n",
    "\n",
    "# Joining customer_recency and customer_df to make a new data frame which will be used for clustering\n",
    "customer_last_order_timestamp_df1 = temp_customer_recency.join(customer_last_order_timestamp_df1, \n",
    "                                customer_last_order_timestamp_df1.CUSTOMER_ID==temp_customer_recency.CUSTOMER_ID, lsuffix=\"\", rsuffix=\"_RECENCY\")"
   ]
  },
  {
   "cell_type": "code",
   "execution_count": 43,
   "metadata": {},
   "outputs": [
    {
     "name": "stdout",
     "output_type": "stream",
     "text": [
      "-----------------------------------------------------------------------------------------------------------------------------------------------------------------------------------------------------------------------------\n",
      "|\"CUSTOMER_ID\"  |\"RECENCY_DAYS\"  |\"CUSTOMER_ID_RECENCY\"  |\"MAX(DAYS_BETWEEN)\"  |\"MIN(DAYS_BETWEEN)\"  |\"AVG(DAYS_BETWEEN)\"  |\"LAST_ORDER_TS\"      |\"LAST_TRANS\"         |\"DAYS_DF1\"  |\"TRANS_DATEDIFF1\"  |\"TRANS_DATEDIFF2\"  |\n",
      "-----------------------------------------------------------------------------------------------------------------------------------------------------------------------------------------------------------------------------\n",
      "|67938          |15              |67938                  |187                  |1                    |36.607143            |2022-09-19 19:49:03  |2022-10-04 22:58:32  |15          |3                  |29                 |\n",
      "|67945          |31              |67945                  |200                  |1                    |43.500000            |2022-09-03 09:29:45  |2022-10-04 22:58:32  |31          |8                  |22                 |\n",
      "|67952          |58              |67952                  |173                  |1                    |36.413793            |2022-08-07 18:35:04  |2022-10-04 22:58:32  |58          |12                 |2                  |\n",
      "|67953          |13              |67953                  |88                   |1                    |24.550000            |2022-09-21 11:28:16  |2022-10-04 22:58:32  |13          |7                  |4                  |\n",
      "|67956          |3               |67956                  |61                   |1                    |17.644068            |2022-10-01 21:34:21  |2022-10-04 22:58:32  |3           |4                  |10                 |\n",
      "|67957          |4               |67957                  |95                   |1                    |15.558824            |2022-09-30 09:16:31  |2022-10-04 22:58:32  |4           |13                 |1                  |\n",
      "|67959          |0               |67959                  |87                   |1                    |16.809524            |2022-10-04 16:43:22  |2022-10-04 22:58:32  |0           |1                  |2                  |\n",
      "|67960          |3               |67960                  |67                   |1                    |15.951613            |2022-10-01 16:31:37  |2022-10-04 22:58:32  |3           |7                  |7                  |\n",
      "|67961          |7               |67961                  |238                  |1                    |28.375000            |2022-09-27 17:37:07  |2022-10-04 22:58:32  |7           |4                  |8                  |\n",
      "|67966          |20              |67966                  |127                  |1                    |24.270833            |2022-09-14 17:18:03  |2022-10-04 22:58:32  |20          |21                 |11                 |\n",
      "-----------------------------------------------------------------------------------------------------------------------------------------------------------------------------------------------------------------------------\n",
      "\n"
     ]
    }
   ],
   "source": [
    "# Display customer_last_order_timestamp_df1\n",
    "customer_last_order_timestamp_df1.show()"
   ]
  },
  {
   "cell_type": "markdown",
   "metadata": {},
   "source": [
    "### 4.1.6 Frequency <a id=\"part4.1.6\"></a>\n",
    "\n",
    "To calculate the frequency of orders for each customer, we will be calculating the total order by customers divided by the duration between their first order and the current date identified."
   ]
  },
  {
   "cell_type": "code",
   "execution_count": 44,
   "metadata": {},
   "outputs": [
    {
     "name": "stdout",
     "output_type": "stream",
     "text": [
      "---------------------------------------\n",
      "|\"CUSTOMER_ID\"  |\"FIRST_ORDER_TS\"     |\n",
      "---------------------------------------\n",
      "|172108         |2019-04-07 18:51:56  |\n",
      "|114082         |2019-12-19 17:43:21  |\n",
      "|120607         |2019-08-27 08:17:05  |\n",
      "|137364         |2019-08-07 21:56:03  |\n",
      "|91363          |2019-04-08 10:33:37  |\n",
      "---------------------------------------\n",
      "\n"
     ]
    }
   ],
   "source": [
    "# Obtain the time stamp for each customer’s first order\n",
    "customer_first_order_timestamp = order_df1.groupBy(\"CUSTOMER_ID\").agg(F.min(\"ORDER_TS\").alias(\"FIRST_ORDER_TS\"))\n",
    "customer_first_order_timestamp.show(n=5)"
   ]
  },
  {
   "cell_type": "code",
   "execution_count": 45,
   "metadata": {},
   "outputs": [
    {
     "name": "stdout",
     "output_type": "stream",
     "text": [
      "---------------------------------\n",
      "|\"CUSTOMER_ID\"  |\"TOTAL_ORDER\"  |\n",
      "---------------------------------\n",
      "|23949          |41             |\n",
      "|27971          |36             |\n",
      "|193091         |33             |\n",
      "|187890         |44             |\n",
      "|44825          |42             |\n",
      "---------------------------------\n",
      "\n"
     ]
    }
   ],
   "source": [
    "# Calculating the total number of orders for each customer\n",
    "total_order_by_cust = order_df1.group_by(\"CUSTOMER_ID\").agg(F.count(\"ORDER_ID\").alias(\"TOTAL_ORDER\"))\n",
    "total_order_by_cust.show(n=5)"
   ]
  },
  {
   "cell_type": "code",
   "execution_count": 46,
   "metadata": {},
   "outputs": [
    {
     "name": "stdout",
     "output_type": "stream",
     "text": [
      "-------------------------------------------------------------------------------------------------------------------------------------------------------------------------------------------------------------------------------------------------------------------------------------------------------------------------------------------------------------------------------------------------------------------------------------\n",
      "|\"CUSTOMER_ID\"  |\"FIRST_NAME\"  |\"LAST_NAME\"  |\"CITY\"     |\"COUNTRY\"      |\"POSTAL_CODE\"  |\"PREFERRED_LANGUAGE\"  |\"GENDER\"     |\"FAVOURITE_BRAND\"  |\"MARITAL_STATUS\"    |\"CHILDREN_COUNT\"  |\"SIGN_UP_DATE\"  |\"BIRTHDAY_DATE\"  |\"E_MAIL\"                     |\"PHONE_NUMBER\"  |\"CUSTOMER_ID_FIRST_TS\"  |\"FIRST_ORDER_TS\"     |\"CUSTOMER_ID_NUM_ORDER\"  |\"TOTAL_ORDER\"  |\"CURRENT DATE\"       |\"YEARS_WITH_US\"  |\"CUSTOMER_FREQUENCY\"  |\n",
      "-------------------------------------------------------------------------------------------------------------------------------------------------------------------------------------------------------------------------------------------------------------------------------------------------------------------------------------------------------------------------------------------------------------------------------------\n",
      "|118            |Donald        |Faulkner     |San Mateo  |United States  |94010          |English               |Male         |NULL               |Single              |0                 |2019-07-07      |1988-06-13       |Donald.Faulkner@hotmail.com  |080-861-2392    |118                     |2019-09-16 19:43:56  |118                      |38             |2022-10-04 22:58:32  |3.052055         |12.450628             |\n",
      "|189            |Reese         |Mcfarland    |San Mateo  |United States  |94010          |English               |Undisclosed  |NULL               |Married             |1                 |2020-03-06      |1984-03-05       |Reese.Mcfarland@hotmail.com  |802-202-7275    |189                     |2019-04-30 14:03:32  |189                      |46             |2022-10-04 22:58:32  |3.432877         |13.399839             |\n",
      "|204            |Emilio        |Lawrence     |San Mateo  |United States  |94497          |English               |Male         |NULL               |Undisclosed         |Undisclosed       |2021-10-10      |1979-06-25       |Emilio.Lawrence@hotmail.com  |693-524-2569    |204                     |2020-02-11 09:36:36  |204                      |33             |2022-10-04 22:58:32  |2.646575         |12.468946             |\n",
      "|42             |Alexander     |Hicks        |San Mateo  |United States  |94404          |English               |Undisclosed  |NULL               |Single              |0                 |2020-07-11      |1966-06-28       |Alexander.Hicks@aol.com      |463-144-8555    |42                      |2019-05-05 17:25:49  |42                       |37             |2022-10-04 22:58:32  |3.419178         |10.821314             |\n",
      "|59             |Ryan          |Shah         |San Mateo  |United States  |94401          |English               |Male         |NULL               |Married             |2                 |2020-12-29      |1961-06-05       |Ryan.Shah@aol.com            |679-586-9815    |59                      |2019-05-15 17:15:41  |59                       |37             |2022-10-04 22:58:32  |3.391781         |10.908723             |\n",
      "|65             |Nathen        |Werner       |San Mateo  |United States  |94010          |English               |Male         |NULL               |Divorced/Seperated  |5+                |2020-11-05      |1958-09-01       |Nathen.Werner@aol.com        |926-969-1551    |65                      |2019-06-09 17:59:28  |65                       |42             |2022-10-04 22:58:32  |3.323288         |12.638086             |\n",
      "|106            |Camilla       |Harding      |San Mateo  |United States  |94404          |English               |Female       |NULL               |Single              |0                 |2021-06-28      |1967-05-10       |Camilla.Harding@aol.com      |366-365-2520    |106                     |2019-09-22 22:14:38  |106                      |46             |2022-10-04 22:58:32  |3.035616         |15.153432             |\n",
      "|219            |Scarlett      |Zavala       |San Mateo  |United States  |94403          |English               |Undisclosed  |NULL               |Married             |2                 |2021-01-22      |1965-12-19       |Scarlett.Zavala@aol.com      |447-385-8243    |219                     |2020-01-02 20:16:46  |219                      |39             |2022-10-04 22:58:32  |2.756164         |14.150101             |\n",
      "|222            |Olive         |Powell       |San Mateo  |United States  |94404          |English               |Female       |NULL               |Single              |0                 |2021-03-21      |1965-07-06       |Olive.Powell@aol.com         |983-128-2475    |222                     |2019-02-04 13:57:10  |222                      |44             |2022-10-04 22:58:32  |3.665753         |12.002991             |\n",
      "|22             |Rayne         |Sanchez      |San Mateo  |United States  |94401          |English               |Male         |NULL               |Married             |4                 |2021-04-22      |1949-01-12       |Rayne.Sanchez@ymail.com      |621-054-0251    |22                      |2019-05-15 21:36:14  |22                       |39             |2022-10-04 22:58:32  |3.391781         |11.498384             |\n",
      "-------------------------------------------------------------------------------------------------------------------------------------------------------------------------------------------------------------------------------------------------------------------------------------------------------------------------------------------------------------------------------------------------------------------------------------\n",
      "\n"
     ]
    }
   ],
   "source": [
    "# Joining the total number of orders, first order timestamp tables with the customer data\n",
    "customer_freq = customer_df.join(customer_first_order_timestamp, customer_df.CUSTOMER_ID==customer_first_order_timestamp.CUSTOMER_ID, lsuffix=\"\", rsuffix=\"_FIRST_TS\")\n",
    "customer_freq = customer_freq.join(total_order_by_cust, customer_freq.CUSTOMER_ID==total_order_by_cust.CUSTOMER_ID, lsuffix=\"\", rsuffix=\"_NUM_ORDER\")\n",
    "\n",
    "# Adding in relevant columns to the newly joined data frame such as “CURRENT DATE”, “YEARS_WITH_US”, and “CUSTOMER_FREQUENCY” to calculate the frequency\n",
    "customer_freq = customer_freq.with_column(\"CURRENT DATE\", F.iff(F.col(\"CUSTOMER_ID\") == F.col(\"CUSTOMER_ID\"), lastest_transaction_df1, lastest_transaction_df1))\n",
    "customer_freq = customer_freq.with_column(\"YEARS_WITH_US\",F.datediff(\"day\", customer_freq[\"FIRST_ORDER_TS\"], customer_freq[\"CURRENT DATE\"])/365)\n",
    "customer_freq = customer_freq.with_column(\"CUSTOMER_FREQUENCY\", customer_freq[\"TOTAL_ORDER\"]/customer_freq[\"YEARS_WITH_US\"])\n",
    "\n",
    "customer_freq.show()"
   ]
  },
  {
   "cell_type": "code",
   "execution_count": 47,
   "metadata": {},
   "outputs": [],
   "source": [
    "# Joining this table to the customer dataset that will be used for clustering later on\n",
    "temp_customer_freq = customer_freq.select([\"CUSTOMER_ID\",\"CUSTOMER_FREQUENCY\",'TOTAL_ORDER'])\n",
    "customer_last_order_timestamp_df1 = temp_customer_freq.join(customer_last_order_timestamp_df1, \n",
    "                                customer_last_order_timestamp_df1.CUSTOMER_ID==temp_customer_freq.CUSTOMER_ID, lsuffix=\"\", rsuffix=\"_FREQUENCY\")"
   ]
  },
  {
   "cell_type": "code",
   "execution_count": 48,
   "metadata": {},
   "outputs": [
    {
     "name": "stdout",
     "output_type": "stream",
     "text": [
      "----------------------------------------------------------------------------------------------------------------------------------------------------------------------------------------------------------------------------------------------------------------------------------------------\n",
      "|\"CUSTOMER_ID\"  |\"CUSTOMER_FREQUENCY\"  |\"TOTAL_ORDER\"  |\"CUSTOMER_ID_FREQUENCY\"  |\"RECENCY_DAYS\"  |\"CUSTOMER_ID_RECENCY\"  |\"MAX(DAYS_BETWEEN)\"  |\"MIN(DAYS_BETWEEN)\"  |\"AVG(DAYS_BETWEEN)\"  |\"LAST_ORDER_TS\"      |\"LAST_TRANS\"         |\"DAYS_DF1\"  |\"TRANS_DATEDIFF1\"  |\"TRANS_DATEDIFF2\"  |\n",
      "----------------------------------------------------------------------------------------------------------------------------------------------------------------------------------------------------------------------------------------------------------------------------------------------\n",
      "|155220         |19.981750             |60             |155220                   |8               |155220                 |85                   |2                    |18.440678            |2022-09-26 17:42:33  |2022-10-04 22:58:32  |8           |3                  |33                 |\n",
      "|175564         |18.938677             |55             |175564                   |5               |175564                 |89                   |1                    |19.537037            |2022-09-29 09:06:04  |2022-10-04 22:58:32  |5           |9                  |18                 |\n",
      "|87521          |18.113298             |53             |87521                    |29              |87521                  |91                   |1                    |19.980769            |2022-09-05 20:21:51  |2022-10-04 22:58:32  |29          |10                 |8                  |\n",
      "|137288         |21.431195             |64             |137288                   |1               |137288                 |131                  |1                    |17.285714            |2022-10-03 18:08:08  |2022-10-04 22:58:32  |1           |6                  |21                 |\n",
      "|106153         |20.647173             |59             |106153                   |7               |106153                 |66                   |1                    |17.862069            |2022-09-27 17:55:09  |2022-10-04 22:58:32  |7           |4                  |34                 |\n",
      "|164751         |19.298089             |58             |164751                   |26              |164751                 |135                  |1                    |18.789474            |2022-09-08 19:05:03  |2022-10-04 22:58:32  |26          |21                 |25                 |\n",
      "|165868         |19.457720             |58             |165868                   |3               |165868                 |100                  |1                    |19.035088            |2022-10-01 16:22:31  |2022-10-04 22:58:32  |3           |40                 |4                  |\n",
      "|104581         |18.804049             |56             |104581                   |14              |104581                 |80                   |1                    |19.509091            |2022-09-20 08:36:24  |2022-10-04 22:58:32  |14          |5                  |8                  |\n",
      "|81558          |24.469272             |72             |81558                    |16              |81558                  |135                  |1                    |14.901408            |2022-09-18 17:30:03  |2022-10-04 22:58:32  |16          |2                  |6                  |\n",
      "|134076         |20.666667             |62             |134076                   |8               |134076                 |77                   |1                    |17.819672            |2022-09-26 17:15:37  |2022-10-04 22:58:32  |8           |16                 |22                 |\n",
      "----------------------------------------------------------------------------------------------------------------------------------------------------------------------------------------------------------------------------------------------------------------------------------------------\n",
      "\n"
     ]
    }
   ],
   "source": [
    "# Display customer_last_order_timestamp\n",
    "customer_last_order_timestamp_df1.show()"
   ]
  },
  {
   "cell_type": "markdown",
   "metadata": {},
   "source": [
    "### 4.1.7 Monetary Value <a id=\"part4.1.7\"></a>\n",
    "\n",
    "To calculate the monetary value for each customer, we will be calculating the total sales generated by each customer divided by the number of years the customer has ordered with Tasty Bytes. "
   ]
  },
  {
   "cell_type": "code",
   "execution_count": 49,
   "metadata": {},
   "outputs": [],
   "source": [
    " # Calculate the total sales generated by each customer \n",
    "total_amount_spent = order_df1.group_by(\"CUSTOMER_ID\").agg(F.sum(\"ORDER_TOTAL\").alias(\"TOTAL_SPENT\"))\n",
    "\n",
    "# Joining the total sales generated by each customer with the first order timestamp tables \n",
    "customer_monetary = total_amount_spent.join(customer_first_order_timestamp, total_amount_spent.CUSTOMER_ID==customer_first_order_timestamp.CUSTOMER_ID, lsuffix=\"\", rsuffix=\"_FIRST_TS\")\n",
    "\n",
    "# Adding in relevant columns to the newly joined data frame such as “CURRENT DATE”, “YEARS_WITH_US”, and “MONETARY_VALUE” to calculate the monetary value\n",
    "customer_monetary = customer_monetary.with_column(\"CURRENT DATE\", F.iff(F.col(\"CUSTOMER_ID\") == F.col(\"CUSTOMER_ID\"), lastest_transaction_df1, lastest_transaction_df1))\n",
    "customer_monetary = customer_monetary.with_column(\"YEARS_WITH_US\",F.datediff(\"day\", customer_monetary[\"FIRST_ORDER_TS\"], customer_monetary[\"CURRENT DATE\"])/365)\n",
    "customer_monetary = customer_monetary.with_column(\"MONETARY_VALUE\", F.col(\"TOTAL_SPENT\")/F.col(\"YEARS_WITH_US\"))"
   ]
  },
  {
   "cell_type": "code",
   "execution_count": 50,
   "metadata": {},
   "outputs": [],
   "source": [
    "# Joining this table to the customer dataset that will be used for clustering later on \n",
    "temp_customer_mon = customer_monetary.select(['CUSTOMER_ID','TOTAL_SPENT','YEARS_WITH_US','MONETARY_VALUE'])\n",
    "customer_last_order_timestamp_df1 = temp_customer_mon.join(customer_last_order_timestamp_df1, customer_last_order_timestamp_df1.CUSTOMER_ID==temp_customer_mon.CUSTOMER_ID, lsuffix=\"\", rsuffix=\"_MONETARY\")"
   ]
  },
  {
   "cell_type": "code",
   "execution_count": 51,
   "metadata": {},
   "outputs": [
    {
     "name": "stdout",
     "output_type": "stream",
     "text": [
      "----------------------------------------------------------------------------------------------------------------------------------------------------------------------------------------------------------------------------------------------------------------------------------------------------------------------------------------------------------------------------\n",
      "|\"CUSTOMER_ID\"  |\"TOTAL_SPENT\"  |\"YEARS_WITH_US\"  |\"MONETARY_VALUE\"  |\"CUSTOMER_ID_MONETARY\"  |\"CUSTOMER_FREQUENCY\"  |\"TOTAL_ORDER\"  |\"CUSTOMER_ID_FREQUENCY\"  |\"RECENCY_DAYS\"  |\"CUSTOMER_ID_RECENCY\"  |\"MAX(DAYS_BETWEEN)\"  |\"MIN(DAYS_BETWEEN)\"  |\"AVG(DAYS_BETWEEN)\"  |\"LAST_ORDER_TS\"      |\"LAST_TRANS\"         |\"DAYS_DF1\"  |\"TRANS_DATEDIFF1\"  |\"TRANS_DATEDIFF2\"  |\n",
      "----------------------------------------------------------------------------------------------------------------------------------------------------------------------------------------------------------------------------------------------------------------------------------------------------------------------------------------------------------------------------\n",
      "|172289         |1874.2500      |2.583562         |725.4519148370    |172289                  |20.514313             |53             |172289                   |23              |172289                 |76                   |1                    |17.692308            |2022-09-11 16:30:55  |2022-10-04 22:58:32  |23          |1                  |3                  |\n",
      "|78907          |2537.7500      |2.950685         |860.0545297109    |78907                   |24.062209             |71             |78907                    |5               |78907                  |151                  |1                    |15.314286            |2022-09-29 17:16:33  |2022-10-04 22:58:32  |5           |19                 |17                 |\n",
      "|160383         |2642.2500      |3.000000         |880.7500000000    |160383                  |22.000000             |66             |160383                   |3               |160383                 |93                   |1                    |16.800000            |2022-10-01 19:22:35  |2022-10-04 22:58:32  |3           |2                  |5                  |\n",
      "|145186         |2585.5000      |2.983562         |866.5816229058    |145186                  |22.456379             |67             |145186                   |27              |145186                 |80                   |1                    |16.090909            |2022-09-07 17:25:12  |2022-10-04 22:58:32  |27          |3                  |17                 |\n",
      "|150780         |2645.5000      |2.915068         |907.5259993935    |150780                  |21.954891             |64             |150780                   |6               |150780                 |136                  |1                    |16.793651            |2022-09-28 10:19:11  |2022-10-04 22:58:32  |6           |14                 |12                 |\n",
      "|103028         |2562.7500      |2.717808         |942.9474046732    |103028                  |21.708671             |59             |103028                   |1               |103028                 |75                   |1                    |17.086207            |2022-10-03 08:58:34  |2022-10-04 22:58:32  |1           |1                  |1                  |\n",
      "|117288         |2512.7500      |2.906849         |864.4239862477    |117288                  |20.984922             |61             |117288                   |5               |117288                 |110                  |1                    |17.600000            |2022-09-29 19:49:12  |2022-10-04 22:58:32  |5           |2                  |1                  |\n",
      "|121144         |2873.7500      |2.991781         |960.5482486853    |121144                  |23.731684             |71             |121144                   |0               |121144                 |68                   |1                    |15.600000            |2022-10-04 13:55:43  |2022-10-04 22:58:32  |0           |3                  |3                  |\n",
      "|93532          |2470.0000      |2.986301         |827.1101941834    |93532                   |23.440370             |70             |93532                    |4               |93532                  |110                  |1                    |15.739130            |2022-09-30 21:29:47  |2022-10-04 22:58:32  |4           |3                  |2                  |\n",
      "|61295          |2311.2500      |2.849315         |811.1598752683    |61295                   |21.759616             |62             |61295                    |22              |61295                  |63                   |1                    |16.688525            |2022-09-12 16:39:09  |2022-10-04 22:58:32  |22          |9                  |2                  |\n",
      "----------------------------------------------------------------------------------------------------------------------------------------------------------------------------------------------------------------------------------------------------------------------------------------------------------------------------------------------------------------------------\n",
      "\n"
     ]
    }
   ],
   "source": [
    "# Display customer_last_order_timestamp_df1\n",
    "customer_last_order_timestamp_df1.show()"
   ]
  },
  {
   "cell_type": "code",
   "execution_count": 52,
   "metadata": {},
   "outputs": [
    {
     "name": "stdout",
     "output_type": "stream",
     "text": [
      "-------------------------------------------------------------------------------------------------------------------------------------------------------------------------------------------------------------------------------------------------------------------------------------------------\n",
      "|\"CUSTOMER_ID\"  |\"TOTAL_SPENT\"  |\"YEARS_WITH_US\"  |\"MONETARY_VALUE\"  |\"CUSTOMER_FREQUENCY\"  |\"TOTAL_ORDER\"  |\"RECENCY_DAYS\"  |\"MAX(DAYS_BETWEEN)\"  |\"MIN(DAYS_BETWEEN)\"  |\"AVG(DAYS_BETWEEN)\"  |\"LAST_ORDER_TS\"      |\"LAST_TRANS\"         |\"DAYS_DF1\"  |\"TRANS_DATEDIFF1\"  |\"TRANS_DATEDIFF2\"  |\n",
      "-------------------------------------------------------------------------------------------------------------------------------------------------------------------------------------------------------------------------------------------------------------------------------------------------\n",
      "|22386          |2347.0000      |2.747945         |854.0927856999    |20.742773             |57             |20              |88                   |1                    |17.553571            |2022-09-14 14:18:52  |2022-10-04 22:58:32  |20          |2                  |3                  |\n",
      "|15039          |2697.5000      |2.758904         |977.7433357594    |22.472692             |62             |6               |97                   |1                    |16.409836            |2022-09-28 16:47:33  |2022-10-04 22:58:32  |6           |6                  |21                 |\n",
      "|191006         |1748.5000      |2.309589         |757.0611048113    |20.349941             |47             |10              |71                   |1                    |18.108696            |2022-09-24 13:11:53  |2022-10-04 22:58:32  |10          |27                 |13                 |\n",
      "|84323          |1916.2500      |2.646575         |724.0490067351    |15.491720             |41             |19              |91                   |1                    |23.675000            |2022-09-15 15:51:27  |2022-10-04 22:58:32  |19          |7                  |10                 |\n",
      "|192452         |2757.7500      |2.758904         |999.5817179576    |25.009931             |69             |24              |70                   |1                    |14.455882            |2022-09-10 09:52:57  |2022-10-04 22:58:32  |24          |5                  |14                 |\n",
      "|89114          |1955.0000      |2.663014         |734.1305753556    |21.404319             |57             |37              |92                   |1                    |16.696429            |2022-08-28 14:08:58  |2022-10-04 22:58:32  |37          |5                  |3                  |\n",
      "|159198         |2466.0000      |2.745205         |898.2935700613    |21.127748             |58             |7               |67                   |1                    |17.456140            |2022-09-27 10:12:13  |2022-10-04 22:58:32  |7           |6                  |7                  |\n",
      "|55022          |1761.5000      |2.569863         |685.4450996026    |19.845416             |51             |24              |117                  |1                    |18.280000            |2022-09-10 10:11:48  |2022-10-04 22:58:32  |24          |3                  |26                 |\n",
      "|65661          |2478.2500      |2.679452         |924.9092724930    |21.646217             |58             |10              |106                  |1                    |16.982456            |2022-09-24 11:45:40  |2022-10-04 22:58:32  |10          |7                  |14                 |\n",
      "|187032         |2861.7500      |2.673973         |1070.2239700999   |24.308398             |65             |10              |100                  |1                    |15.093750            |2022-09-24 11:04:48  |2022-10-04 22:58:32  |10          |24                 |4                  |\n",
      "-------------------------------------------------------------------------------------------------------------------------------------------------------------------------------------------------------------------------------------------------------------------------------------------------\n",
      "\n"
     ]
    }
   ],
   "source": [
    "# Dropping of irrelevant and unnecessary columns that have been introduced during joining of dataframes in previous steps\n",
    "customer_last_order_timestamp_df1 = customer_last_order_timestamp_df1.drop([\"CUSTOMER_ID_MONETARY\", \"CUSTOMER_ID_FREQUENCY\", \"CUSTOMER_ID_RECENCY\"])\n",
    "customer_last_order_timestamp_df1.show(10)"
   ]
  },
  {
   "cell_type": "markdown",
   "metadata": {},
   "source": [
    "#### 4.1.8 K-Means Clustering for Recency, Frequency and Monetary  <a id=\"part4.1.8\"></a>"
   ]
  },
  {
   "cell_type": "code",
   "execution_count": 53,
   "metadata": {},
   "outputs": [],
   "source": [
    "customer_last_order_timestamp_df1 = customer_last_order_timestamp_df1.to_pandas()"
   ]
  },
  {
   "cell_type": "code",
   "execution_count": 54,
   "metadata": {},
   "outputs": [
    {
     "name": "stdout",
     "output_type": "stream",
     "text": [
      "<class 'pandas.core.frame.DataFrame'>\n",
      "RangeIndex: 46300 entries, 0 to 46299\n",
      "Data columns (total 15 columns):\n",
      " #   Column              Non-Null Count  Dtype         \n",
      "---  ------              --------------  -----         \n",
      " 0   CUSTOMER_ID         46300 non-null  int32         \n",
      " 1   TOTAL_SPENT         46300 non-null  float64       \n",
      " 2   YEARS_WITH_US       46300 non-null  float64       \n",
      " 3   MONETARY_VALUE      46300 non-null  float64       \n",
      " 4   CUSTOMER_FREQUENCY  46300 non-null  float64       \n",
      " 5   TOTAL_ORDER         46300 non-null  int64         \n",
      " 6   RECENCY_DAYS        46300 non-null  int32         \n",
      " 7   MAX(DAYS_BETWEEN)   46300 non-null  int32         \n",
      " 8   MIN(DAYS_BETWEEN)   46300 non-null  int32         \n",
      " 9   AVG(DAYS_BETWEEN)   46300 non-null  object        \n",
      " 10  LAST_ORDER_TS       46300 non-null  datetime64[ns]\n",
      " 11  LAST_TRANS          46300 non-null  datetime64[ns]\n",
      " 12  DAYS_DF1            46300 non-null  int32         \n",
      " 13  TRANS_DATEDIFF1     46300 non-null  int32         \n",
      " 14  TRANS_DATEDIFF2     46300 non-null  int32         \n",
      "dtypes: datetime64[ns](2), float64(4), int32(7), int64(1), object(1)\n",
      "memory usage: 4.1+ MB\n"
     ]
    }
   ],
   "source": [
    "customer_last_order_timestamp_df1 = customer_last_order_timestamp_df1.astype({'MONETARY_VALUE':'float', 'CUSTOMER_FREQUENCY':'float'})\n",
    "customer_last_order_timestamp_df1.info()"
   ]
  },
  {
   "cell_type": "markdown",
   "metadata": {},
   "source": [
    "##### K-Means Clustering for Recency"
   ]
  },
  {
   "cell_type": "code",
   "execution_count": 55,
   "metadata": {},
   "outputs": [
    {
     "data": {
      "image/png": "[encoded data removed]",
      "text/plain": [
       "<Figure size 640x480 with 1 Axes>"
      ]
     },
     "metadata": {},
     "output_type": "display_data"
    }
   ],
   "source": [
    "# K-Means Clustering\n",
    "#k-means\n",
    "sse=[]\n",
    "scaler = StandardScaler() \n",
    "recency = customer_last_order_timestamp_df1[['RECENCY_DAYS']].to_numpy()\n",
    "X_scaled = scaler.fit_transform(recency) \n",
    "\n",
    "for k in range(1, 11):\n",
    "    kmeans = KMeans(n_clusters=k, n_init=20, random_state=1)\n",
    "    kmeans.fit(X_scaled)\n",
    "    sse.append(kmeans.inertia_)\n",
    "\n",
    "plt.plot(range(1, 11), sse, 'b-*')\n",
    "plt.title('Elbow Method (REC)')\n",
    "plt.xlabel('Number of clusters')\n",
    "plt.ylabel('SSE')\n",
    "plt.show()"
   ]
  },
  {
   "cell_type": "code",
   "execution_count": 56,
   "metadata": {},
   "outputs": [
    {
     "data": {
      "text/html": [
       "<div>\n",
       "<style scoped>\n",
       "    .dataframe tbody tr th:only-of-type {\n",
       "        vertical-align: middle;\n",
       "    }\n",
       "\n",
       "    .dataframe tbody tr th {\n",
       "        vertical-align: top;\n",
       "    }\n",
       "\n",
       "    .dataframe thead th {\n",
       "        text-align: right;\n",
       "    }\n",
       "</style>\n",
       "<table border=\"1\" class=\"dataframe\">\n",
       "  <thead>\n",
       "    <tr style=\"text-align: right;\">\n",
       "      <th></th>\n",
       "      <th>count</th>\n",
       "      <th>mean</th>\n",
       "      <th>std</th>\n",
       "      <th>min</th>\n",
       "      <th>25%</th>\n",
       "      <th>50%</th>\n",
       "      <th>75%</th>\n",
       "      <th>max</th>\n",
       "    </tr>\n",
       "    <tr>\n",
       "      <th>CUST_REC_CLUSTER</th>\n",
       "      <th></th>\n",
       "      <th></th>\n",
       "      <th></th>\n",
       "      <th></th>\n",
       "      <th></th>\n",
       "      <th></th>\n",
       "      <th></th>\n",
       "      <th></th>\n",
       "    </tr>\n",
       "  </thead>\n",
       "  <tbody>\n",
       "    <tr>\n",
       "      <th>0</th>\n",
       "      <td>3542.0</td>\n",
       "      <td>47.166573</td>\n",
       "      <td>12.514456</td>\n",
       "      <td>35.0</td>\n",
       "      <td>38.0</td>\n",
       "      <td>43.0</td>\n",
       "      <td>51.75</td>\n",
       "      <td>148.0</td>\n",
       "    </tr>\n",
       "    <tr>\n",
       "      <th>1</th>\n",
       "      <td>12581.0</td>\n",
       "      <td>21.728320</td>\n",
       "      <td>5.669974</td>\n",
       "      <td>14.0</td>\n",
       "      <td>17.0</td>\n",
       "      <td>21.0</td>\n",
       "      <td>26.00</td>\n",
       "      <td>34.0</td>\n",
       "    </tr>\n",
       "    <tr>\n",
       "      <th>2</th>\n",
       "      <td>30177.0</td>\n",
       "      <td>4.835537</td>\n",
       "      <td>3.696081</td>\n",
       "      <td>0.0</td>\n",
       "      <td>2.0</td>\n",
       "      <td>4.0</td>\n",
       "      <td>7.00</td>\n",
       "      <td>13.0</td>\n",
       "    </tr>\n",
       "  </tbody>\n",
       "</table>\n",
       "</div>"
      ],
      "text/plain": [
       "                    count       mean        std   min   25%   50%    75%  \\\n",
       "CUST_REC_CLUSTER                                                           \n",
       "0                  3542.0  47.166573  12.514456  35.0  38.0  43.0  51.75   \n",
       "1                 12581.0  21.728320   5.669974  14.0  17.0  21.0  26.00   \n",
       "2                 30177.0   4.835537   3.696081   0.0   2.0   4.0   7.00   \n",
       "\n",
       "                    max  \n",
       "CUST_REC_CLUSTER         \n",
       "0                 148.0  \n",
       "1                  34.0  \n",
       "2                  13.0  "
      ]
     },
     "execution_count": 56,
     "metadata": {},
     "output_type": "execute_result"
    }
   ],
   "source": [
    "# Build 3 Recency Clusters and add it to dataframe \n",
    "kmeans = KMeans(n_clusters=3, n_init=20, random_state=1)\n",
    "#tempCustRec = tempCustRec.to_pandas()\n",
    "kmeans.fit(customer_last_order_timestamp_df1[['RECENCY_DAYS']])\n",
    "customer_last_order_timestamp_df1['CUST_REC_CLUSTER'] = kmeans.predict(customer_last_order_timestamp_df1[['RECENCY_DAYS']])\n",
    "\n",
    "\n",
    "#function for ordering cluster numbers\n",
    "\n",
    "def order_cluster(cluster_field_name, target_field_name,data,ascending):\n",
    "    new_cluster_field_name = 'new_' + cluster_field_name\n",
    "    data_new = data.groupby(cluster_field_name)[target_field_name].mean().reset_index()\n",
    "    data_new = data_new.sort_values(by=target_field_name,ascending=ascending).reset_index(drop=True)\n",
    "    data_new['index'] = data_new.index\n",
    "    data_final = pd.merge(data,data_new[[cluster_field_name,'index']], on=cluster_field_name)\n",
    "    data_final = data_final.drop([cluster_field_name],axis=1)\n",
    "    data_final = data_final.rename(columns={\"index\":cluster_field_name})\n",
    "\n",
    "    return data_final\n",
    "\n",
    "customer_last_order_timestamp_df1 = order_cluster('CUST_REC_CLUSTER', 'RECENCY_DAYS',customer_last_order_timestamp_df1,False)\n",
    "#see details of the clusters\n",
    "customer_last_order_timestamp_df1.groupby('CUST_REC_CLUSTER')['RECENCY_DAYS'].describe()\n"
   ]
  },
  {
   "cell_type": "code",
   "execution_count": 57,
   "metadata": {},
   "outputs": [
    {
     "data": {
      "text/html": [
       "<div>\n",
       "<style scoped>\n",
       "    .dataframe tbody tr th:only-of-type {\n",
       "        vertical-align: middle;\n",
       "    }\n",
       "\n",
       "    .dataframe tbody tr th {\n",
       "        vertical-align: top;\n",
       "    }\n",
       "\n",
       "    .dataframe thead th {\n",
       "        text-align: right;\n",
       "    }\n",
       "</style>\n",
       "<table border=\"1\" class=\"dataframe\">\n",
       "  <thead>\n",
       "    <tr style=\"text-align: right;\">\n",
       "      <th></th>\n",
       "      <th>CUSTOMER_ID</th>\n",
       "      <th>TOTAL_SPENT</th>\n",
       "      <th>YEARS_WITH_US</th>\n",
       "      <th>MONETARY_VALUE</th>\n",
       "      <th>CUSTOMER_FREQUENCY</th>\n",
       "      <th>TOTAL_ORDER</th>\n",
       "      <th>RECENCY_DAYS</th>\n",
       "      <th>MAX(DAYS_BETWEEN)</th>\n",
       "      <th>MIN(DAYS_BETWEEN)</th>\n",
       "      <th>AVG(DAYS_BETWEEN)</th>\n",
       "      <th>LAST_ORDER_TS</th>\n",
       "      <th>LAST_TRANS</th>\n",
       "      <th>DAYS_DF1</th>\n",
       "      <th>TRANS_DATEDIFF1</th>\n",
       "      <th>TRANS_DATEDIFF2</th>\n",
       "      <th>CUST_REC_CLUSTER</th>\n",
       "    </tr>\n",
       "  </thead>\n",
       "  <tbody>\n",
       "    <tr>\n",
       "      <th>0</th>\n",
       "      <td>172108</td>\n",
       "      <td>2201.75</td>\n",
       "      <td>3.495890</td>\n",
       "      <td>629.811007</td>\n",
       "      <td>15.732760</td>\n",
       "      <td>55</td>\n",
       "      <td>14</td>\n",
       "      <td>153</td>\n",
       "      <td>2</td>\n",
       "      <td>23.370370</td>\n",
       "      <td>2022-09-20 19:51:01</td>\n",
       "      <td>2022-10-04 22:58:32</td>\n",
       "      <td>14</td>\n",
       "      <td>2</td>\n",
       "      <td>29</td>\n",
       "      <td>1</td>\n",
       "    </tr>\n",
       "    <tr>\n",
       "      <th>1</th>\n",
       "      <td>114082</td>\n",
       "      <td>2305.50</td>\n",
       "      <td>2.794521</td>\n",
       "      <td>825.007219</td>\n",
       "      <td>19.323526</td>\n",
       "      <td>54</td>\n",
       "      <td>14</td>\n",
       "      <td>77</td>\n",
       "      <td>1</td>\n",
       "      <td>18.981132</td>\n",
       "      <td>2022-09-20 13:02:57</td>\n",
       "      <td>2022-10-04 22:58:32</td>\n",
       "      <td>14</td>\n",
       "      <td>14</td>\n",
       "      <td>9</td>\n",
       "      <td>1</td>\n",
       "    </tr>\n",
       "    <tr>\n",
       "      <th>2</th>\n",
       "      <td>23690</td>\n",
       "      <td>2329.25</td>\n",
       "      <td>3.419178</td>\n",
       "      <td>681.230986</td>\n",
       "      <td>15.208334</td>\n",
       "      <td>52</td>\n",
       "      <td>21</td>\n",
       "      <td>202</td>\n",
       "      <td>1</td>\n",
       "      <td>24.058824</td>\n",
       "      <td>2022-09-13 19:16:48</td>\n",
       "      <td>2022-10-04 22:58:32</td>\n",
       "      <td>21</td>\n",
       "      <td>24</td>\n",
       "      <td>2</td>\n",
       "      <td>1</td>\n",
       "    </tr>\n",
       "    <tr>\n",
       "      <th>3</th>\n",
       "      <td>73541</td>\n",
       "      <td>2439.25</td>\n",
       "      <td>3.454795</td>\n",
       "      <td>706.047682</td>\n",
       "      <td>17.077714</td>\n",
       "      <td>59</td>\n",
       "      <td>26</td>\n",
       "      <td>143</td>\n",
       "      <td>1</td>\n",
       "      <td>21.293103</td>\n",
       "      <td>2022-09-08 19:52:15</td>\n",
       "      <td>2022-10-04 22:58:32</td>\n",
       "      <td>26</td>\n",
       "      <td>19</td>\n",
       "      <td>3</td>\n",
       "      <td>1</td>\n",
       "    </tr>\n",
       "    <tr>\n",
       "      <th>4</th>\n",
       "      <td>91363</td>\n",
       "      <td>1719.75</td>\n",
       "      <td>3.493151</td>\n",
       "      <td>492.320544</td>\n",
       "      <td>13.454901</td>\n",
       "      <td>47</td>\n",
       "      <td>20</td>\n",
       "      <td>134</td>\n",
       "      <td>1</td>\n",
       "      <td>27.282609</td>\n",
       "      <td>2022-09-14 18:47:52</td>\n",
       "      <td>2022-10-04 22:58:32</td>\n",
       "      <td>20</td>\n",
       "      <td>39</td>\n",
       "      <td>4</td>\n",
       "      <td>1</td>\n",
       "    </tr>\n",
       "  </tbody>\n",
       "</table>\n",
       "</div>"
      ],
      "text/plain": [
       "   CUSTOMER_ID  TOTAL_SPENT  YEARS_WITH_US  MONETARY_VALUE  \\\n",
       "0       172108      2201.75       3.495890      629.811007   \n",
       "1       114082      2305.50       2.794521      825.007219   \n",
       "2        23690      2329.25       3.419178      681.230986   \n",
       "3        73541      2439.25       3.454795      706.047682   \n",
       "4        91363      1719.75       3.493151      492.320544   \n",
       "\n",
       "   CUSTOMER_FREQUENCY  TOTAL_ORDER  RECENCY_DAYS  MAX(DAYS_BETWEEN)  \\\n",
       "0           15.732760           55            14                153   \n",
       "1           19.323526           54            14                 77   \n",
       "2           15.208334           52            21                202   \n",
       "3           17.077714           59            26                143   \n",
       "4           13.454901           47            20                134   \n",
       "\n",
       "   MIN(DAYS_BETWEEN) AVG(DAYS_BETWEEN)       LAST_ORDER_TS  \\\n",
       "0                  2         23.370370 2022-09-20 19:51:01   \n",
       "1                  1         18.981132 2022-09-20 13:02:57   \n",
       "2                  1         24.058824 2022-09-13 19:16:48   \n",
       "3                  1         21.293103 2022-09-08 19:52:15   \n",
       "4                  1         27.282609 2022-09-14 18:47:52   \n",
       "\n",
       "           LAST_TRANS  DAYS_DF1  TRANS_DATEDIFF1  TRANS_DATEDIFF2  \\\n",
       "0 2022-10-04 22:58:32        14                2               29   \n",
       "1 2022-10-04 22:58:32        14               14                9   \n",
       "2 2022-10-04 22:58:32        21               24                2   \n",
       "3 2022-10-04 22:58:32        26               19                3   \n",
       "4 2022-10-04 22:58:32        20               39                4   \n",
       "\n",
       "   CUST_REC_CLUSTER  \n",
       "0                 1  \n",
       "1                 1  \n",
       "2                 1  \n",
       "3                 1  \n",
       "4                 1  "
      ]
     },
     "execution_count": 57,
     "metadata": {},
     "output_type": "execute_result"
    }
   ],
   "source": [
    "customer_last_order_timestamp_df1.head()"
   ]
  },
  {
   "cell_type": "markdown",
   "metadata": {},
   "source": [
    "##### Frequency"
   ]
  },
  {
   "cell_type": "code",
   "execution_count": 58,
   "metadata": {},
   "outputs": [
    {
     "data": {
      "image/png": "[encoded data removed]",
      "text/plain": [
       "<Figure size 640x480 with 1 Axes>"
      ]
     },
     "metadata": {},
     "output_type": "display_data"
    }
   ],
   "source": [
    "# K-Means Clustering\n",
    "#k-means\n",
    "sse=[]\n",
    "scaler = StandardScaler() \n",
    "frequency = customer_last_order_timestamp_df1[['CUSTOMER_FREQUENCY']].to_numpy()\n",
    "X_scaled = scaler.fit_transform(frequency) \n",
    "\n",
    "for k in range(1, 11):\n",
    "    kmeans = KMeans(n_clusters=k, n_init=20, random_state=1)\n",
    "    kmeans.fit(X_scaled)\n",
    "    sse.append(kmeans.inertia_)\n",
    "\n",
    "plt.plot(range(1, 11), sse, 'b-*')\n",
    "plt.title('Elbow Method (FREQ)')\n",
    "plt.xlabel('Number of clusters')\n",
    "plt.ylabel('SSE')\n",
    "plt.show()"
   ]
  },
  {
   "cell_type": "code",
   "execution_count": 59,
   "metadata": {},
   "outputs": [
    {
     "data": {
      "text/html": [
       "<div>\n",
       "<style scoped>\n",
       "    .dataframe tbody tr th:only-of-type {\n",
       "        vertical-align: middle;\n",
       "    }\n",
       "\n",
       "    .dataframe tbody tr th {\n",
       "        vertical-align: top;\n",
       "    }\n",
       "\n",
       "    .dataframe thead th {\n",
       "        text-align: right;\n",
       "    }\n",
       "</style>\n",
       "<table border=\"1\" class=\"dataframe\">\n",
       "  <thead>\n",
       "    <tr style=\"text-align: right;\">\n",
       "      <th></th>\n",
       "      <th>count</th>\n",
       "      <th>mean</th>\n",
       "      <th>std</th>\n",
       "      <th>min</th>\n",
       "      <th>25%</th>\n",
       "      <th>50%</th>\n",
       "      <th>75%</th>\n",
       "      <th>max</th>\n",
       "    </tr>\n",
       "    <tr>\n",
       "      <th>CUST_FREQ_CLUSTER</th>\n",
       "      <th></th>\n",
       "      <th></th>\n",
       "      <th></th>\n",
       "      <th></th>\n",
       "      <th></th>\n",
       "      <th></th>\n",
       "      <th></th>\n",
       "      <th></th>\n",
       "    </tr>\n",
       "  </thead>\n",
       "  <tbody>\n",
       "    <tr>\n",
       "      <th>0</th>\n",
       "      <td>10722.0</td>\n",
       "      <td>11.659624</td>\n",
       "      <td>1.799587</td>\n",
       "      <td>5.073589</td>\n",
       "      <td>10.356594</td>\n",
       "      <td>11.712805</td>\n",
       "      <td>13.087649</td>\n",
       "      <td>14.804991</td>\n",
       "    </tr>\n",
       "    <tr>\n",
       "      <th>1</th>\n",
       "      <td>20136.0</td>\n",
       "      <td>17.955037</td>\n",
       "      <td>1.401019</td>\n",
       "      <td>14.807301</td>\n",
       "      <td>16.908358</td>\n",
       "      <td>18.153095</td>\n",
       "      <td>19.143354</td>\n",
       "      <td>20.071913</td>\n",
       "    </tr>\n",
       "    <tr>\n",
       "      <th>2</th>\n",
       "      <td>15442.0</td>\n",
       "      <td>22.184629</td>\n",
       "      <td>1.667472</td>\n",
       "      <td>20.073328</td>\n",
       "      <td>20.875216</td>\n",
       "      <td>21.791044</td>\n",
       "      <td>23.101268</td>\n",
       "      <td>31.660022</td>\n",
       "    </tr>\n",
       "  </tbody>\n",
       "</table>\n",
       "</div>"
      ],
      "text/plain": [
       "                     count       mean       std        min        25%  \\\n",
       "CUST_FREQ_CLUSTER                                                       \n",
       "0                  10722.0  11.659624  1.799587   5.073589  10.356594   \n",
       "1                  20136.0  17.955037  1.401019  14.807301  16.908358   \n",
       "2                  15442.0  22.184629  1.667472  20.073328  20.875216   \n",
       "\n",
       "                         50%        75%        max  \n",
       "CUST_FREQ_CLUSTER                                   \n",
       "0                  11.712805  13.087649  14.804991  \n",
       "1                  18.153095  19.143354  20.071913  \n",
       "2                  21.791044  23.101268  31.660022  "
      ]
     },
     "execution_count": 59,
     "metadata": {},
     "output_type": "execute_result"
    }
   ],
   "source": [
    "#build 3 clusters for frequency and add it to dataframe\n",
    "\n",
    "kmeans = KMeans(n_clusters=3, n_init=20, random_state=1)\n",
    "kmeans.fit(customer_last_order_timestamp_df1[['CUSTOMER_FREQUENCY']])\n",
    "customer_last_order_timestamp_df1['CUST_FREQ_CLUSTER'] = kmeans.predict(customer_last_order_timestamp_df1[['CUSTOMER_FREQUENCY']])\n",
    "\n",
    "# reuse function for ordering cluster numbers\n",
    "customer_last_order_timestamp_df1 = order_cluster('CUST_FREQ_CLUSTER', 'CUSTOMER_FREQUENCY',customer_last_order_timestamp_df1,True)\n",
    "#see details of the clusters\n",
    "customer_last_order_timestamp_df1.groupby('CUST_FREQ_CLUSTER')['CUSTOMER_FREQUENCY'].describe()"
   ]
  },
  {
   "cell_type": "code",
   "execution_count": 60,
   "metadata": {},
   "outputs": [
    {
     "data": {
      "text/html": [
       "<div>\n",
       "<style scoped>\n",
       "    .dataframe tbody tr th:only-of-type {\n",
       "        vertical-align: middle;\n",
       "    }\n",
       "\n",
       "    .dataframe tbody tr th {\n",
       "        vertical-align: top;\n",
       "    }\n",
       "\n",
       "    .dataframe thead th {\n",
       "        text-align: right;\n",
       "    }\n",
       "</style>\n",
       "<table border=\"1\" class=\"dataframe\">\n",
       "  <thead>\n",
       "    <tr style=\"text-align: right;\">\n",
       "      <th></th>\n",
       "      <th>CUSTOMER_ID</th>\n",
       "      <th>TOTAL_SPENT</th>\n",
       "      <th>YEARS_WITH_US</th>\n",
       "      <th>MONETARY_VALUE</th>\n",
       "      <th>CUSTOMER_FREQUENCY</th>\n",
       "      <th>TOTAL_ORDER</th>\n",
       "      <th>RECENCY_DAYS</th>\n",
       "      <th>MAX(DAYS_BETWEEN)</th>\n",
       "      <th>MIN(DAYS_BETWEEN)</th>\n",
       "      <th>AVG(DAYS_BETWEEN)</th>\n",
       "      <th>LAST_ORDER_TS</th>\n",
       "      <th>LAST_TRANS</th>\n",
       "      <th>DAYS_DF1</th>\n",
       "      <th>TRANS_DATEDIFF1</th>\n",
       "      <th>TRANS_DATEDIFF2</th>\n",
       "      <th>CUST_REC_CLUSTER</th>\n",
       "      <th>CUST_FREQ_CLUSTER</th>\n",
       "    </tr>\n",
       "  </thead>\n",
       "  <tbody>\n",
       "    <tr>\n",
       "      <th>0</th>\n",
       "      <td>172108</td>\n",
       "      <td>2201.75</td>\n",
       "      <td>3.495890</td>\n",
       "      <td>629.811007</td>\n",
       "      <td>15.732760</td>\n",
       "      <td>55</td>\n",
       "      <td>14</td>\n",
       "      <td>153</td>\n",
       "      <td>2</td>\n",
       "      <td>23.370370</td>\n",
       "      <td>2022-09-20 19:51:01</td>\n",
       "      <td>2022-10-04 22:58:32</td>\n",
       "      <td>14</td>\n",
       "      <td>2</td>\n",
       "      <td>29</td>\n",
       "      <td>1</td>\n",
       "      <td>1</td>\n",
       "    </tr>\n",
       "    <tr>\n",
       "      <th>1</th>\n",
       "      <td>114082</td>\n",
       "      <td>2305.50</td>\n",
       "      <td>2.794521</td>\n",
       "      <td>825.007219</td>\n",
       "      <td>19.323526</td>\n",
       "      <td>54</td>\n",
       "      <td>14</td>\n",
       "      <td>77</td>\n",
       "      <td>1</td>\n",
       "      <td>18.981132</td>\n",
       "      <td>2022-09-20 13:02:57</td>\n",
       "      <td>2022-10-04 22:58:32</td>\n",
       "      <td>14</td>\n",
       "      <td>14</td>\n",
       "      <td>9</td>\n",
       "      <td>1</td>\n",
       "      <td>1</td>\n",
       "    </tr>\n",
       "    <tr>\n",
       "      <th>2</th>\n",
       "      <td>23690</td>\n",
       "      <td>2329.25</td>\n",
       "      <td>3.419178</td>\n",
       "      <td>681.230986</td>\n",
       "      <td>15.208334</td>\n",
       "      <td>52</td>\n",
       "      <td>21</td>\n",
       "      <td>202</td>\n",
       "      <td>1</td>\n",
       "      <td>24.058824</td>\n",
       "      <td>2022-09-13 19:16:48</td>\n",
       "      <td>2022-10-04 22:58:32</td>\n",
       "      <td>21</td>\n",
       "      <td>24</td>\n",
       "      <td>2</td>\n",
       "      <td>1</td>\n",
       "      <td>1</td>\n",
       "    </tr>\n",
       "    <tr>\n",
       "      <th>3</th>\n",
       "      <td>73541</td>\n",
       "      <td>2439.25</td>\n",
       "      <td>3.454795</td>\n",
       "      <td>706.047682</td>\n",
       "      <td>17.077714</td>\n",
       "      <td>59</td>\n",
       "      <td>26</td>\n",
       "      <td>143</td>\n",
       "      <td>1</td>\n",
       "      <td>21.293103</td>\n",
       "      <td>2022-09-08 19:52:15</td>\n",
       "      <td>2022-10-04 22:58:32</td>\n",
       "      <td>26</td>\n",
       "      <td>19</td>\n",
       "      <td>3</td>\n",
       "      <td>1</td>\n",
       "      <td>1</td>\n",
       "    </tr>\n",
       "    <tr>\n",
       "      <th>4</th>\n",
       "      <td>121690</td>\n",
       "      <td>2392.50</td>\n",
       "      <td>3.402740</td>\n",
       "      <td>703.109847</td>\n",
       "      <td>18.514491</td>\n",
       "      <td>63</td>\n",
       "      <td>20</td>\n",
       "      <td>120</td>\n",
       "      <td>1</td>\n",
       "      <td>19.709677</td>\n",
       "      <td>2022-09-14 12:17:41</td>\n",
       "      <td>2022-10-04 22:58:32</td>\n",
       "      <td>20</td>\n",
       "      <td>7</td>\n",
       "      <td>11</td>\n",
       "      <td>1</td>\n",
       "      <td>1</td>\n",
       "    </tr>\n",
       "  </tbody>\n",
       "</table>\n",
       "</div>"
      ],
      "text/plain": [
       "   CUSTOMER_ID  TOTAL_SPENT  YEARS_WITH_US  MONETARY_VALUE  \\\n",
       "0       172108      2201.75       3.495890      629.811007   \n",
       "1       114082      2305.50       2.794521      825.007219   \n",
       "2        23690      2329.25       3.419178      681.230986   \n",
       "3        73541      2439.25       3.454795      706.047682   \n",
       "4       121690      2392.50       3.402740      703.109847   \n",
       "\n",
       "   CUSTOMER_FREQUENCY  TOTAL_ORDER  RECENCY_DAYS  MAX(DAYS_BETWEEN)  \\\n",
       "0           15.732760           55            14                153   \n",
       "1           19.323526           54            14                 77   \n",
       "2           15.208334           52            21                202   \n",
       "3           17.077714           59            26                143   \n",
       "4           18.514491           63            20                120   \n",
       "\n",
       "   MIN(DAYS_BETWEEN) AVG(DAYS_BETWEEN)       LAST_ORDER_TS  \\\n",
       "0                  2         23.370370 2022-09-20 19:51:01   \n",
       "1                  1         18.981132 2022-09-20 13:02:57   \n",
       "2                  1         24.058824 2022-09-13 19:16:48   \n",
       "3                  1         21.293103 2022-09-08 19:52:15   \n",
       "4                  1         19.709677 2022-09-14 12:17:41   \n",
       "\n",
       "           LAST_TRANS  DAYS_DF1  TRANS_DATEDIFF1  TRANS_DATEDIFF2  \\\n",
       "0 2022-10-04 22:58:32        14                2               29   \n",
       "1 2022-10-04 22:58:32        14               14                9   \n",
       "2 2022-10-04 22:58:32        21               24                2   \n",
       "3 2022-10-04 22:58:32        26               19                3   \n",
       "4 2022-10-04 22:58:32        20                7               11   \n",
       "\n",
       "   CUST_REC_CLUSTER  CUST_FREQ_CLUSTER  \n",
       "0                 1                  1  \n",
       "1                 1                  1  \n",
       "2                 1                  1  \n",
       "3                 1                  1  \n",
       "4                 1                  1  "
      ]
     },
     "execution_count": 60,
     "metadata": {},
     "output_type": "execute_result"
    }
   ],
   "source": [
    "customer_last_order_timestamp_df1.head()"
   ]
  },
  {
   "cell_type": "markdown",
   "metadata": {},
   "source": [
    "##### Monetary"
   ]
  },
  {
   "cell_type": "code",
   "execution_count": 61,
   "metadata": {},
   "outputs": [
    {
     "data": {
      "image/png": "[encoded data removed]",
      "text/plain": [
       "<Figure size 640x480 with 1 Axes>"
      ]
     },
     "metadata": {},
     "output_type": "display_data"
    }
   ],
   "source": [
    "#k-means\n",
    "sse=[]\n",
    "scaler = StandardScaler() \n",
    "monetary = customer_last_order_timestamp_df1[['MONETARY_VALUE']]\n",
    "X_scaled = scaler.fit_transform(monetary) \n",
    "\n",
    "for k in range(1, 11):\n",
    "    kmeans = KMeans(n_clusters=k, n_init=20, random_state=1)\n",
    "    kmeans.fit(X_scaled)\n",
    "    sse.append(kmeans.inertia_)\n",
    "\n",
    "plt.plot(range(1, 11), sse, 'b-*')\n",
    "plt.title('Elbow Method (MONETARY)')\n",
    "plt.xlabel('Number of clusters')\n",
    "plt.ylabel('SSE')\n",
    "plt.show()"
   ]
  },
  {
   "cell_type": "code",
   "execution_count": 62,
   "metadata": {},
   "outputs": [
    {
     "data": {
      "text/html": [
       "<div>\n",
       "<style scoped>\n",
       "    .dataframe tbody tr th:only-of-type {\n",
       "        vertical-align: middle;\n",
       "    }\n",
       "\n",
       "    .dataframe tbody tr th {\n",
       "        vertical-align: top;\n",
       "    }\n",
       "\n",
       "    .dataframe thead th {\n",
       "        text-align: right;\n",
       "    }\n",
       "</style>\n",
       "<table border=\"1\" class=\"dataframe\">\n",
       "  <thead>\n",
       "    <tr style=\"text-align: right;\">\n",
       "      <th></th>\n",
       "      <th>count</th>\n",
       "      <th>mean</th>\n",
       "      <th>std</th>\n",
       "      <th>min</th>\n",
       "      <th>25%</th>\n",
       "      <th>50%</th>\n",
       "      <th>75%</th>\n",
       "      <th>max</th>\n",
       "    </tr>\n",
       "    <tr>\n",
       "      <th>CUST_MONETARY_CLUSTER</th>\n",
       "      <th></th>\n",
       "      <th></th>\n",
       "      <th></th>\n",
       "      <th></th>\n",
       "      <th></th>\n",
       "      <th></th>\n",
       "      <th></th>\n",
       "      <th></th>\n",
       "    </tr>\n",
       "  </thead>\n",
       "  <tbody>\n",
       "    <tr>\n",
       "      <th>0</th>\n",
       "      <td>10979.0</td>\n",
       "      <td>431.215984</td>\n",
       "      <td>79.527604</td>\n",
       "      <td>148.946206</td>\n",
       "      <td>373.493807</td>\n",
       "      <td>434.415494</td>\n",
       "      <td>498.095688</td>\n",
       "      <td>560.068317</td>\n",
       "    </tr>\n",
       "    <tr>\n",
       "      <th>1</th>\n",
       "      <td>20667.0</td>\n",
       "      <td>688.558996</td>\n",
       "      <td>62.003282</td>\n",
       "      <td>560.147713</td>\n",
       "      <td>639.667702</td>\n",
       "      <td>694.915734</td>\n",
       "      <td>740.955959</td>\n",
       "      <td>787.553316</td>\n",
       "    </tr>\n",
       "    <tr>\n",
       "      <th>2</th>\n",
       "      <td>14654.0</td>\n",
       "      <td>886.768957</td>\n",
       "      <td>80.752932</td>\n",
       "      <td>787.561650</td>\n",
       "      <td>823.076516</td>\n",
       "      <td>867.597230</td>\n",
       "      <td>931.238457</td>\n",
       "      <td>1354.408107</td>\n",
       "    </tr>\n",
       "  </tbody>\n",
       "</table>\n",
       "</div>"
      ],
      "text/plain": [
       "                         count        mean        std         min         25%  \\\n",
       "CUST_MONETARY_CLUSTER                                                           \n",
       "0                      10979.0  431.215984  79.527604  148.946206  373.493807   \n",
       "1                      20667.0  688.558996  62.003282  560.147713  639.667702   \n",
       "2                      14654.0  886.768957  80.752932  787.561650  823.076516   \n",
       "\n",
       "                              50%         75%          max  \n",
       "CUST_MONETARY_CLUSTER                                       \n",
       "0                      434.415494  498.095688   560.068317  \n",
       "1                      694.915734  740.955959   787.553316  \n",
       "2                      867.597230  931.238457  1354.408107  "
      ]
     },
     "execution_count": 62,
     "metadata": {},
     "output_type": "execute_result"
    }
   ],
   "source": [
    "#build 3 clusters for monetary and add it to dataframe\n",
    "\n",
    "kmeans = KMeans(n_clusters=3, n_init=20, random_state=1)\n",
    "kmeans.fit(customer_last_order_timestamp_df1[['MONETARY_VALUE']])\n",
    "customer_last_order_timestamp_df1['CUST_MONETARY_CLUSTER'] = kmeans.predict(customer_last_order_timestamp_df1[['MONETARY_VALUE']])\n",
    "\n",
    "\n",
    "# reuse function for ordering cluster numbers\n",
    "customer_last_order_timestamp_df1 = order_cluster('CUST_MONETARY_CLUSTER', 'MONETARY_VALUE',customer_last_order_timestamp_df1,True)\n",
    "customer_last_order_timestamp_df1.groupby(\"CUST_MONETARY_CLUSTER\")[\"MONETARY_VALUE\"].describe()"
   ]
  },
  {
   "cell_type": "code",
   "execution_count": 63,
   "metadata": {},
   "outputs": [
    {
     "data": {
      "text/html": [
       "<div>\n",
       "<style scoped>\n",
       "    .dataframe tbody tr th:only-of-type {\n",
       "        vertical-align: middle;\n",
       "    }\n",
       "\n",
       "    .dataframe tbody tr th {\n",
       "        vertical-align: top;\n",
       "    }\n",
       "\n",
       "    .dataframe thead th {\n",
       "        text-align: right;\n",
       "    }\n",
       "</style>\n",
       "<table border=\"1\" class=\"dataframe\">\n",
       "  <thead>\n",
       "    <tr style=\"text-align: right;\">\n",
       "      <th></th>\n",
       "      <th>CUSTOMER_ID</th>\n",
       "      <th>TOTAL_SPENT</th>\n",
       "      <th>YEARS_WITH_US</th>\n",
       "      <th>MONETARY_VALUE</th>\n",
       "      <th>CUSTOMER_FREQUENCY</th>\n",
       "      <th>TOTAL_ORDER</th>\n",
       "      <th>RECENCY_DAYS</th>\n",
       "      <th>MAX(DAYS_BETWEEN)</th>\n",
       "      <th>MIN(DAYS_BETWEEN)</th>\n",
       "      <th>AVG(DAYS_BETWEEN)</th>\n",
       "      <th>LAST_ORDER_TS</th>\n",
       "      <th>LAST_TRANS</th>\n",
       "      <th>DAYS_DF1</th>\n",
       "      <th>TRANS_DATEDIFF1</th>\n",
       "      <th>TRANS_DATEDIFF2</th>\n",
       "      <th>CUST_REC_CLUSTER</th>\n",
       "      <th>CUST_FREQ_CLUSTER</th>\n",
       "      <th>CUST_MONETARY_CLUSTER</th>\n",
       "    </tr>\n",
       "  </thead>\n",
       "  <tbody>\n",
       "    <tr>\n",
       "      <th>0</th>\n",
       "      <td>172108</td>\n",
       "      <td>2201.75</td>\n",
       "      <td>3.495890</td>\n",
       "      <td>629.811007</td>\n",
       "      <td>15.732760</td>\n",
       "      <td>55</td>\n",
       "      <td>14</td>\n",
       "      <td>153</td>\n",
       "      <td>2</td>\n",
       "      <td>23.370370</td>\n",
       "      <td>2022-09-20 19:51:01</td>\n",
       "      <td>2022-10-04 22:58:32</td>\n",
       "      <td>14</td>\n",
       "      <td>2</td>\n",
       "      <td>29</td>\n",
       "      <td>1</td>\n",
       "      <td>1</td>\n",
       "      <td>1</td>\n",
       "    </tr>\n",
       "    <tr>\n",
       "      <th>1</th>\n",
       "      <td>23690</td>\n",
       "      <td>2329.25</td>\n",
       "      <td>3.419178</td>\n",
       "      <td>681.230986</td>\n",
       "      <td>15.208334</td>\n",
       "      <td>52</td>\n",
       "      <td>21</td>\n",
       "      <td>202</td>\n",
       "      <td>1</td>\n",
       "      <td>24.058824</td>\n",
       "      <td>2022-09-13 19:16:48</td>\n",
       "      <td>2022-10-04 22:58:32</td>\n",
       "      <td>21</td>\n",
       "      <td>24</td>\n",
       "      <td>2</td>\n",
       "      <td>1</td>\n",
       "      <td>1</td>\n",
       "      <td>1</td>\n",
       "    </tr>\n",
       "    <tr>\n",
       "      <th>2</th>\n",
       "      <td>73541</td>\n",
       "      <td>2439.25</td>\n",
       "      <td>3.454795</td>\n",
       "      <td>706.047682</td>\n",
       "      <td>17.077714</td>\n",
       "      <td>59</td>\n",
       "      <td>26</td>\n",
       "      <td>143</td>\n",
       "      <td>1</td>\n",
       "      <td>21.293103</td>\n",
       "      <td>2022-09-08 19:52:15</td>\n",
       "      <td>2022-10-04 22:58:32</td>\n",
       "      <td>26</td>\n",
       "      <td>19</td>\n",
       "      <td>3</td>\n",
       "      <td>1</td>\n",
       "      <td>1</td>\n",
       "      <td>1</td>\n",
       "    </tr>\n",
       "    <tr>\n",
       "      <th>3</th>\n",
       "      <td>121690</td>\n",
       "      <td>2392.50</td>\n",
       "      <td>3.402740</td>\n",
       "      <td>703.109847</td>\n",
       "      <td>18.514491</td>\n",
       "      <td>63</td>\n",
       "      <td>20</td>\n",
       "      <td>120</td>\n",
       "      <td>1</td>\n",
       "      <td>19.709677</td>\n",
       "      <td>2022-09-14 12:17:41</td>\n",
       "      <td>2022-10-04 22:58:32</td>\n",
       "      <td>20</td>\n",
       "      <td>7</td>\n",
       "      <td>11</td>\n",
       "      <td>1</td>\n",
       "      <td>1</td>\n",
       "      <td>1</td>\n",
       "    </tr>\n",
       "    <tr>\n",
       "      <th>4</th>\n",
       "      <td>57434</td>\n",
       "      <td>1812.00</td>\n",
       "      <td>3.043836</td>\n",
       "      <td>595.301455</td>\n",
       "      <td>20.040502</td>\n",
       "      <td>61</td>\n",
       "      <td>29</td>\n",
       "      <td>67</td>\n",
       "      <td>1</td>\n",
       "      <td>18.033333</td>\n",
       "      <td>2022-09-05 09:35:48</td>\n",
       "      <td>2022-10-04 22:58:32</td>\n",
       "      <td>29</td>\n",
       "      <td>10</td>\n",
       "      <td>4</td>\n",
       "      <td>1</td>\n",
       "      <td>1</td>\n",
       "      <td>1</td>\n",
       "    </tr>\n",
       "  </tbody>\n",
       "</table>\n",
       "</div>"
      ],
      "text/plain": [
       "   CUSTOMER_ID  TOTAL_SPENT  YEARS_WITH_US  MONETARY_VALUE  \\\n",
       "0       172108      2201.75       3.495890      629.811007   \n",
       "1        23690      2329.25       3.419178      681.230986   \n",
       "2        73541      2439.25       3.454795      706.047682   \n",
       "3       121690      2392.50       3.402740      703.109847   \n",
       "4        57434      1812.00       3.043836      595.301455   \n",
       "\n",
       "   CUSTOMER_FREQUENCY  TOTAL_ORDER  RECENCY_DAYS  MAX(DAYS_BETWEEN)  \\\n",
       "0           15.732760           55            14                153   \n",
       "1           15.208334           52            21                202   \n",
       "2           17.077714           59            26                143   \n",
       "3           18.514491           63            20                120   \n",
       "4           20.040502           61            29                 67   \n",
       "\n",
       "   MIN(DAYS_BETWEEN) AVG(DAYS_BETWEEN)       LAST_ORDER_TS  \\\n",
       "0                  2         23.370370 2022-09-20 19:51:01   \n",
       "1                  1         24.058824 2022-09-13 19:16:48   \n",
       "2                  1         21.293103 2022-09-08 19:52:15   \n",
       "3                  1         19.709677 2022-09-14 12:17:41   \n",
       "4                  1         18.033333 2022-09-05 09:35:48   \n",
       "\n",
       "           LAST_TRANS  DAYS_DF1  TRANS_DATEDIFF1  TRANS_DATEDIFF2  \\\n",
       "0 2022-10-04 22:58:32        14                2               29   \n",
       "1 2022-10-04 22:58:32        21               24                2   \n",
       "2 2022-10-04 22:58:32        26               19                3   \n",
       "3 2022-10-04 22:58:32        20                7               11   \n",
       "4 2022-10-04 22:58:32        29               10                4   \n",
       "\n",
       "   CUST_REC_CLUSTER  CUST_FREQ_CLUSTER  CUST_MONETARY_CLUSTER  \n",
       "0                 1                  1                      1  \n",
       "1                 1                  1                      1  \n",
       "2                 1                  1                      1  \n",
       "3                 1                  1                      1  \n",
       "4                 1                  1                      1  "
      ]
     },
     "execution_count": 63,
     "metadata": {},
     "output_type": "execute_result"
    }
   ],
   "source": [
    "customer_last_order_timestamp_df1.head()"
   ]
  },
  {
   "cell_type": "markdown",
   "metadata": {},
   "source": [
    "##### Calculating overall score of customer based on their RFM"
   ]
  },
  {
   "cell_type": "code",
   "execution_count": 64,
   "metadata": {},
   "outputs": [
    {
     "data": {
      "text/html": [
       "<div>\n",
       "<style scoped>\n",
       "    .dataframe tbody tr th:only-of-type {\n",
       "        vertical-align: middle;\n",
       "    }\n",
       "\n",
       "    .dataframe tbody tr th {\n",
       "        vertical-align: top;\n",
       "    }\n",
       "\n",
       "    .dataframe thead th {\n",
       "        text-align: right;\n",
       "    }\n",
       "</style>\n",
       "<table border=\"1\" class=\"dataframe\">\n",
       "  <thead>\n",
       "    <tr style=\"text-align: right;\">\n",
       "      <th></th>\n",
       "      <th>RECENCY_DAYS</th>\n",
       "      <th>CUSTOMER_FREQUENCY</th>\n",
       "      <th>MONETARY_VALUE</th>\n",
       "    </tr>\n",
       "    <tr>\n",
       "      <th>OVERALL_SCORE</th>\n",
       "      <th></th>\n",
       "      <th></th>\n",
       "      <th></th>\n",
       "    </tr>\n",
       "  </thead>\n",
       "  <tbody>\n",
       "    <tr>\n",
       "      <th>0</th>\n",
       "      <td>148</td>\n",
       "      <td>14.783027</td>\n",
       "      <td>559.854375</td>\n",
       "    </tr>\n",
       "    <tr>\n",
       "      <th>1</th>\n",
       "      <td>85</td>\n",
       "      <td>19.406953</td>\n",
       "      <td>727.571040</td>\n",
       "    </tr>\n",
       "    <tr>\n",
       "      <th>2</th>\n",
       "      <td>101</td>\n",
       "      <td>20.071283</td>\n",
       "      <td>786.607405</td>\n",
       "    </tr>\n",
       "    <tr>\n",
       "      <th>3</th>\n",
       "      <td>84</td>\n",
       "      <td>23.851488</td>\n",
       "      <td>1020.270128</td>\n",
       "    </tr>\n",
       "    <tr>\n",
       "      <th>4</th>\n",
       "      <td>88</td>\n",
       "      <td>28.214720</td>\n",
       "      <td>1182.799604</td>\n",
       "    </tr>\n",
       "    <tr>\n",
       "      <th>5</th>\n",
       "      <td>34</td>\n",
       "      <td>30.591279</td>\n",
       "      <td>1343.779090</td>\n",
       "    </tr>\n",
       "    <tr>\n",
       "      <th>6</th>\n",
       "      <td>13</td>\n",
       "      <td>31.660022</td>\n",
       "      <td>1354.408107</td>\n",
       "    </tr>\n",
       "  </tbody>\n",
       "</table>\n",
       "</div>"
      ],
      "text/plain": [
       "               RECENCY_DAYS  CUSTOMER_FREQUENCY  MONETARY_VALUE\n",
       "OVERALL_SCORE                                                  \n",
       "0                       148           14.783027      559.854375\n",
       "1                        85           19.406953      727.571040\n",
       "2                       101           20.071283      786.607405\n",
       "3                        84           23.851488     1020.270128\n",
       "4                        88           28.214720     1182.799604\n",
       "5                        34           30.591279     1343.779090\n",
       "6                        13           31.660022     1354.408107"
      ]
     },
     "execution_count": 64,
     "metadata": {},
     "output_type": "execute_result"
    }
   ],
   "source": [
    "# Calculate overall score of customer based on their RFM\n",
    "customer_last_order_timestamp_df1['OVERALL_SCORE'] = customer_last_order_timestamp_df1['CUST_REC_CLUSTER'] + customer_last_order_timestamp_df1['CUST_FREQ_CLUSTER'] + customer_last_order_timestamp_df1['CUST_MONETARY_CLUSTER']\n",
    "\n",
    "# Evaluation\n",
    "customer_last_order_timestamp_df1.groupby('OVERALL_SCORE')[['RECENCY_DAYS','CUSTOMER_FREQUENCY','MONETARY_VALUE']].max()"
   ]
  },
  {
   "cell_type": "code",
   "execution_count": 65,
   "metadata": {},
   "outputs": [
    {
     "data": {
      "text/html": [
       "<div>\n",
       "<style scoped>\n",
       "    .dataframe tbody tr th:only-of-type {\n",
       "        vertical-align: middle;\n",
       "    }\n",
       "\n",
       "    .dataframe tbody tr th {\n",
       "        vertical-align: top;\n",
       "    }\n",
       "\n",
       "    .dataframe thead th {\n",
       "        text-align: right;\n",
       "    }\n",
       "</style>\n",
       "<table border=\"1\" class=\"dataframe\">\n",
       "  <thead>\n",
       "    <tr style=\"text-align: right;\">\n",
       "      <th></th>\n",
       "      <th>CUSTOMER_ID</th>\n",
       "      <th>TOTAL_SPENT</th>\n",
       "      <th>YEARS_WITH_US</th>\n",
       "      <th>MONETARY_VALUE</th>\n",
       "      <th>CUSTOMER_FREQUENCY</th>\n",
       "      <th>TOTAL_ORDER</th>\n",
       "      <th>RECENCY_DAYS</th>\n",
       "      <th>MAX(DAYS_BETWEEN)</th>\n",
       "      <th>MIN(DAYS_BETWEEN)</th>\n",
       "      <th>AVG(DAYS_BETWEEN)</th>\n",
       "      <th>LAST_ORDER_TS</th>\n",
       "      <th>LAST_TRANS</th>\n",
       "      <th>DAYS_DF1</th>\n",
       "      <th>TRANS_DATEDIFF1</th>\n",
       "      <th>TRANS_DATEDIFF2</th>\n",
       "      <th>CUST_REC_CLUSTER</th>\n",
       "      <th>CUST_FREQ_CLUSTER</th>\n",
       "      <th>CUST_MONETARY_CLUSTER</th>\n",
       "      <th>OVERALL_SCORE</th>\n",
       "    </tr>\n",
       "  </thead>\n",
       "  <tbody>\n",
       "    <tr>\n",
       "      <th>0</th>\n",
       "      <td>172108</td>\n",
       "      <td>2201.75</td>\n",
       "      <td>3.495890</td>\n",
       "      <td>629.811007</td>\n",
       "      <td>15.732760</td>\n",
       "      <td>55</td>\n",
       "      <td>14</td>\n",
       "      <td>153</td>\n",
       "      <td>2</td>\n",
       "      <td>23.370370</td>\n",
       "      <td>2022-09-20 19:51:01</td>\n",
       "      <td>2022-10-04 22:58:32</td>\n",
       "      <td>14</td>\n",
       "      <td>2</td>\n",
       "      <td>29</td>\n",
       "      <td>1</td>\n",
       "      <td>1</td>\n",
       "      <td>1</td>\n",
       "      <td>3</td>\n",
       "    </tr>\n",
       "    <tr>\n",
       "      <th>1</th>\n",
       "      <td>23690</td>\n",
       "      <td>2329.25</td>\n",
       "      <td>3.419178</td>\n",
       "      <td>681.230986</td>\n",
       "      <td>15.208334</td>\n",
       "      <td>52</td>\n",
       "      <td>21</td>\n",
       "      <td>202</td>\n",
       "      <td>1</td>\n",
       "      <td>24.058824</td>\n",
       "      <td>2022-09-13 19:16:48</td>\n",
       "      <td>2022-10-04 22:58:32</td>\n",
       "      <td>21</td>\n",
       "      <td>24</td>\n",
       "      <td>2</td>\n",
       "      <td>1</td>\n",
       "      <td>1</td>\n",
       "      <td>1</td>\n",
       "      <td>3</td>\n",
       "    </tr>\n",
       "    <tr>\n",
       "      <th>2</th>\n",
       "      <td>73541</td>\n",
       "      <td>2439.25</td>\n",
       "      <td>3.454795</td>\n",
       "      <td>706.047682</td>\n",
       "      <td>17.077714</td>\n",
       "      <td>59</td>\n",
       "      <td>26</td>\n",
       "      <td>143</td>\n",
       "      <td>1</td>\n",
       "      <td>21.293103</td>\n",
       "      <td>2022-09-08 19:52:15</td>\n",
       "      <td>2022-10-04 22:58:32</td>\n",
       "      <td>26</td>\n",
       "      <td>19</td>\n",
       "      <td>3</td>\n",
       "      <td>1</td>\n",
       "      <td>1</td>\n",
       "      <td>1</td>\n",
       "      <td>3</td>\n",
       "    </tr>\n",
       "    <tr>\n",
       "      <th>3</th>\n",
       "      <td>121690</td>\n",
       "      <td>2392.50</td>\n",
       "      <td>3.402740</td>\n",
       "      <td>703.109847</td>\n",
       "      <td>18.514491</td>\n",
       "      <td>63</td>\n",
       "      <td>20</td>\n",
       "      <td>120</td>\n",
       "      <td>1</td>\n",
       "      <td>19.709677</td>\n",
       "      <td>2022-09-14 12:17:41</td>\n",
       "      <td>2022-10-04 22:58:32</td>\n",
       "      <td>20</td>\n",
       "      <td>7</td>\n",
       "      <td>11</td>\n",
       "      <td>1</td>\n",
       "      <td>1</td>\n",
       "      <td>1</td>\n",
       "      <td>3</td>\n",
       "    </tr>\n",
       "    <tr>\n",
       "      <th>4</th>\n",
       "      <td>57434</td>\n",
       "      <td>1812.00</td>\n",
       "      <td>3.043836</td>\n",
       "      <td>595.301455</td>\n",
       "      <td>20.040502</td>\n",
       "      <td>61</td>\n",
       "      <td>29</td>\n",
       "      <td>67</td>\n",
       "      <td>1</td>\n",
       "      <td>18.033333</td>\n",
       "      <td>2022-09-05 09:35:48</td>\n",
       "      <td>2022-10-04 22:58:32</td>\n",
       "      <td>29</td>\n",
       "      <td>10</td>\n",
       "      <td>4</td>\n",
       "      <td>1</td>\n",
       "      <td>1</td>\n",
       "      <td>1</td>\n",
       "      <td>3</td>\n",
       "    </tr>\n",
       "  </tbody>\n",
       "</table>\n",
       "</div>"
      ],
      "text/plain": [
       "   CUSTOMER_ID  TOTAL_SPENT  YEARS_WITH_US  MONETARY_VALUE  \\\n",
       "0       172108      2201.75       3.495890      629.811007   \n",
       "1        23690      2329.25       3.419178      681.230986   \n",
       "2        73541      2439.25       3.454795      706.047682   \n",
       "3       121690      2392.50       3.402740      703.109847   \n",
       "4        57434      1812.00       3.043836      595.301455   \n",
       "\n",
       "   CUSTOMER_FREQUENCY  TOTAL_ORDER  RECENCY_DAYS  MAX(DAYS_BETWEEN)  \\\n",
       "0           15.732760           55            14                153   \n",
       "1           15.208334           52            21                202   \n",
       "2           17.077714           59            26                143   \n",
       "3           18.514491           63            20                120   \n",
       "4           20.040502           61            29                 67   \n",
       "\n",
       "   MIN(DAYS_BETWEEN) AVG(DAYS_BETWEEN)       LAST_ORDER_TS  \\\n",
       "0                  2         23.370370 2022-09-20 19:51:01   \n",
       "1                  1         24.058824 2022-09-13 19:16:48   \n",
       "2                  1         21.293103 2022-09-08 19:52:15   \n",
       "3                  1         19.709677 2022-09-14 12:17:41   \n",
       "4                  1         18.033333 2022-09-05 09:35:48   \n",
       "\n",
       "           LAST_TRANS  DAYS_DF1  TRANS_DATEDIFF1  TRANS_DATEDIFF2  \\\n",
       "0 2022-10-04 22:58:32        14                2               29   \n",
       "1 2022-10-04 22:58:32        21               24                2   \n",
       "2 2022-10-04 22:58:32        26               19                3   \n",
       "3 2022-10-04 22:58:32        20                7               11   \n",
       "4 2022-10-04 22:58:32        29               10                4   \n",
       "\n",
       "   CUST_REC_CLUSTER  CUST_FREQ_CLUSTER  CUST_MONETARY_CLUSTER  OVERALL_SCORE  \n",
       "0                 1                  1                      1              3  \n",
       "1                 1                  1                      1              3  \n",
       "2                 1                  1                      1              3  \n",
       "3                 1                  1                      1              3  \n",
       "4                 1                  1                      1              3  "
      ]
     },
     "execution_count": 65,
     "metadata": {},
     "output_type": "execute_result"
    }
   ],
   "source": [
    "customer_last_order_timestamp_df1.head()"
   ]
  },
  {
   "cell_type": "markdown",
   "metadata": {},
   "source": [
    "### 4.2 Getting second dataframe <a id=\"part4.2\"></a>"
   ]
  },
  {
   "cell_type": "code",
   "execution_count": 66,
   "metadata": {},
   "outputs": [
    {
     "name": "stdout",
     "output_type": "stream",
     "text": [
      "----------------------------------------------------------------------------------------------------------------------------------------------------------------------------------------------------------------------------------------------------------------------------------------------------------------------------------\n",
      "|\"ORDER_ID\"  |\"TRUCK_ID\"  |\"LOCATION_ID\"  |\"CUSTOMER_ID\"  |\"DISCOUNT_ID\"  |\"SHIFT_ID\"  |\"SHIFT_START_TIME\"  |\"SHIFT_END_TIME\"  |\"ORDER_CHANNEL\"  |\"ORDER_TS\"           |\"SERVED_TS\"  |\"ORDER_CURRENCY\"  |\"ORDER_AMOUNT\"  |\"ORDER_TAX_AMOUNT\"  |\"ORDER_DISCOUNT_AMOUNT\"  |\"ORDER_TOTAL\"  |\"CUSTOMER_ID_US\"  |\"LAST_DATE\"          |\n",
      "----------------------------------------------------------------------------------------------------------------------------------------------------------------------------------------------------------------------------------------------------------------------------------------------------------------------------------\n",
      "|456144429   |31          |3218.0         |79592          |NULL           |200564526   |08:30:00            |14:30:00          |NULL             |2022-10-05 08:33:38  |NULL         |USD               |13.0000         |NULL                |NULL                     |13.0000        |79592             |2022-11-01 22:58:56  |\n",
      "|456144433   |31          |3218.0         |95761          |NULL           |200564526   |08:30:00            |14:30:00          |NULL             |2022-10-05 08:48:42  |NULL         |USD               |41.5000         |NULL                |NULL                     |41.5000        |95761             |2022-11-01 22:58:56  |\n",
      "|456144434   |31          |3218.0         |158577         |NULL           |200564526   |08:30:00            |14:30:00          |NULL             |2022-10-05 08:50:43  |NULL         |USD               |27.0000         |NULL                |NULL                     |27.0000        |158577            |2022-11-01 22:58:56  |\n",
      "|456144435   |31          |3218.0         |197107         |NULL           |200564526   |08:30:00            |14:30:00          |NULL             |2022-10-05 08:52:49  |NULL         |USD               |31.5000         |NULL                |NULL                     |31.5000        |197107            |2022-11-01 22:58:56  |\n",
      "|456144442   |31          |3218.0         |86752          |NULL           |200564526   |08:30:00            |14:30:00          |NULL             |2022-10-05 09:04:02  |NULL         |USD               |25.0000         |NULL                |NULL                     |25.0000        |86752             |2022-11-01 22:58:56  |\n",
      "|456144445   |31          |3218.0         |105892         |NULL           |200564526   |08:30:00            |14:30:00          |NULL             |2022-10-05 09:06:02  |NULL         |USD               |19.0000         |NULL                |NULL                     |19.0000        |105892            |2022-11-01 22:58:56  |\n",
      "|456144451   |31          |3218.0         |174406         |NULL           |200564526   |08:30:00            |14:30:00          |NULL             |2022-10-05 09:11:47  |NULL         |USD               |16.0000         |NULL                |NULL                     |16.0000        |174406            |2022-11-01 22:58:56  |\n",
      "|456144458   |31          |3218.0         |159635         |NULL           |200564526   |08:30:00            |14:30:00          |NULL             |2022-10-05 09:15:54  |NULL         |USD               |6.0000          |NULL                |NULL                     |6.0000         |159635            |2022-11-01 22:58:56  |\n",
      "|456144459   |31          |3218.0         |180653         |NULL           |200564526   |08:30:00            |14:30:00          |NULL             |2022-10-05 09:15:56  |NULL         |USD               |3.0000          |NULL                |NULL                     |3.0000         |180653            |2022-11-01 22:58:56  |\n",
      "|456144460   |31          |3218.0         |160712         |NULL           |200564526   |08:30:00            |14:30:00          |NULL             |2022-10-05 09:16:40  |NULL         |USD               |47.0000         |NULL                |NULL                     |47.0000        |160712            |2022-11-01 22:58:56  |\n",
      "----------------------------------------------------------------------------------------------------------------------------------------------------------------------------------------------------------------------------------------------------------------------------------------------------------------------------------\n",
      "\n"
     ]
    }
   ],
   "source": [
    "# Get last 2 weeks before last transaction date provided (second dataframe)\n",
    "order_df2 = order_14days.filter((F.datediff(\"day\", F.col(\"ORDER_TS\"), F.col(\"LAST_DATE\")) >= 14) & (F.datediff(\"day\", F.col(\"ORDER_TS\"), F.col(\"LAST_DATE\")) < 28))\n",
    "order_df2.show()"
   ]
  },
  {
   "cell_type": "code",
   "execution_count": 67,
   "metadata": {},
   "outputs": [
    {
     "name": "stdout",
     "output_type": "stream",
     "text": [
      "-----------------------\n",
      "|\"MIN(ORDER_TS)\"      |\n",
      "-----------------------\n",
      "|2022-10-05 08:00:56  |\n",
      "-----------------------\n",
      "\n",
      "-----------------------\n",
      "|\"MAX(ORDER_TS)\"      |\n",
      "-----------------------\n",
      "|2022-10-18 22:56:45  |\n",
      "-----------------------\n",
      "\n"
     ]
    }
   ],
   "source": [
    "# Ensure timeframe is correct\n",
    "order_df2.agg(F.min('ORDER_TS')).show()\n",
    "order_df2.agg(F.max('ORDER_TS')).show()"
   ]
  },
  {
   "cell_type": "code",
   "execution_count": 68,
   "metadata": {},
   "outputs": [
    {
     "name": "stdout",
     "output_type": "stream",
     "text": [
      "---------------------------------------\n",
      "|\"CUSTOMER_ID\"  |\"FIRST_ORDER_TS\"     |\n",
      "---------------------------------------\n",
      "|128895         |2022-10-05 08:00:56  |\n",
      "|134784         |2022-10-05 08:01:31  |\n",
      "|195909         |2022-10-05 08:01:41  |\n",
      "|37490          |2022-10-05 08:02:00  |\n",
      "|81752          |2022-10-05 08:02:06  |\n",
      "|145883         |2022-10-05 08:03:18  |\n",
      "|148790         |2022-10-05 08:03:25  |\n",
      "|18706          |2022-10-05 08:03:38  |\n",
      "|173517         |2022-10-05 08:04:05  |\n",
      "|91631          |2022-10-05 08:04:06  |\n",
      "---------------------------------------\n",
      "\n"
     ]
    }
   ],
   "source": [
    "# Getting the earliest purchase date for each customer in df2\n",
    "customer_first_order_timestamp_df2 = order_df2.groupBy(\"CUSTOMER_ID\").agg(F.min(\"ORDER_TS\").alias(\"FIRST_ORDER_TS\"))\n",
    "customer_first_order_timestamp_df2 = customer_first_order_timestamp_df2.sort(col(\"FIRST_ORDER_TS\"))\n",
    "customer_first_order_timestamp_df2.show()"
   ]
  },
  {
   "cell_type": "code",
   "execution_count": 69,
   "metadata": {},
   "outputs": [
    {
     "name": "stdout",
     "output_type": "stream",
     "text": [
      "-------------------------------------------------------------\n",
      "|\"CUSTOMER_ID\"  |\"FIRST_ORDER_TS\"     |\"FIRST_TRANS\"        |\n",
      "-------------------------------------------------------------\n",
      "|128895         |2022-10-05 08:00:56  |2022-10-05 08:00:56  |\n",
      "|134784         |2022-10-05 08:01:31  |2022-10-05 08:00:56  |\n",
      "|195909         |2022-10-05 08:01:41  |2022-10-05 08:00:56  |\n",
      "|37490          |2022-10-05 08:02:00  |2022-10-05 08:00:56  |\n",
      "|81752          |2022-10-05 08:02:06  |2022-10-05 08:00:56  |\n",
      "|145883         |2022-10-05 08:03:18  |2022-10-05 08:00:56  |\n",
      "|148790         |2022-10-05 08:03:25  |2022-10-05 08:00:56  |\n",
      "|18706          |2022-10-05 08:03:38  |2022-10-05 08:00:56  |\n",
      "|173517         |2022-10-05 08:04:05  |2022-10-05 08:00:56  |\n",
      "|91631          |2022-10-05 08:04:06  |2022-10-05 08:00:56  |\n",
      "-------------------------------------------------------------\n",
      "\n"
     ]
    }
   ],
   "source": [
    "# Getting first order date\n",
    "earliest_transaction_df2 = order_df2.agg(F.min(\"ORDER_TS\").alias(\"FIRST_ORDER_TS\")).collect()[0][0]\n",
    "customer_first_order_timestamp_df2 = customer_first_order_timestamp_df2.withColumn(\"FIRST_TRANS\", F.iff(F.col(\"CUSTOMER_ID\") == F.col(\"CUSTOMER_ID\"), earliest_transaction_df2, earliest_transaction_df2))\n",
    "customer_first_order_timestamp_df2.show()"
   ]
  },
  {
   "cell_type": "code",
   "execution_count": 70,
   "metadata": {},
   "outputs": [
    {
     "name": "stdout",
     "output_type": "stream",
     "text": [
      "--------------------------------------------------------------------------\n",
      "|\"CUSTOMER_ID\"  |\"FIRST_ORDER_TS\"     |\"FIRST_TRANS\"        |\"DAYS_DF2\"  |\n",
      "--------------------------------------------------------------------------\n",
      "|140597         |2022-10-08 13:13:08  |2022-10-05 08:00:56  |3           |\n",
      "|141003         |2022-10-08 13:13:20  |2022-10-05 08:00:56  |3           |\n",
      "|168469         |2022-10-08 13:13:26  |2022-10-05 08:00:56  |3           |\n",
      "|23200          |2022-10-08 13:13:26  |2022-10-05 08:00:56  |3           |\n",
      "|122988         |2022-10-08 13:13:46  |2022-10-05 08:00:56  |3           |\n",
      "|148909         |2022-10-08 13:14:10  |2022-10-05 08:00:56  |3           |\n",
      "|126503         |2022-10-08 13:14:48  |2022-10-05 08:00:56  |3           |\n",
      "|74812          |2022-10-08 13:15:02  |2022-10-05 08:00:56  |3           |\n",
      "|17391          |2022-10-08 13:15:41  |2022-10-05 08:00:56  |3           |\n",
      "|84186          |2022-10-08 13:15:47  |2022-10-05 08:00:56  |3           |\n",
      "--------------------------------------------------------------------------\n",
      "\n"
     ]
    }
   ],
   "source": [
    "# Getting the date diff from customer last order to the date 2 weeks before the latest provided transaction date in df1\n",
    "customer_first_order_timestamp_df2 = customer_first_order_timestamp_df2.withColumn(\"days_df2\", F.datediff(\"day\", customer_first_order_timestamp_df2[\"FIRST_TRANS\"], customer_first_order_timestamp_df2[\"FIRST_ORDER_TS\"]))\n",
    "customer_first_order_timestamp_df2.show()"
   ]
  },
  {
   "cell_type": "markdown",
   "metadata": {},
   "source": [
    "### 4.3 Merging dataframes <a id=\"part4.3\"></a>"
   ]
  },
  {
   "cell_type": "code",
   "execution_count": 71,
   "metadata": {},
   "outputs": [],
   "source": [
    "# convert 2nd dataframe to pandas\n",
    "customer_first_order_timestamp_df2 = customer_first_order_timestamp_df2.to_pandas()"
   ]
  },
  {
   "cell_type": "code",
   "execution_count": 72,
   "metadata": {},
   "outputs": [
    {
     "name": "stdout",
     "output_type": "stream",
     "text": [
      "<class 'pandas.core.frame.DataFrame'>\n",
      "RangeIndex: 32013 entries, 0 to 32012\n",
      "Data columns (total 4 columns):\n",
      " #   Column          Non-Null Count  Dtype         \n",
      "---  ------          --------------  -----         \n",
      " 0   CUSTOMER_ID     32013 non-null  int32         \n",
      " 1   FIRST_ORDER_TS  32013 non-null  datetime64[ns]\n",
      " 2   FIRST_TRANS     32013 non-null  datetime64[ns]\n",
      " 3   DAYS_DF2        32013 non-null  int32         \n",
      "dtypes: datetime64[ns](2), int32(2)\n",
      "memory usage: 750.4 KB\n"
     ]
    }
   ],
   "source": [
    "customer_first_order_timestamp_df2.info()"
   ]
  },
  {
   "cell_type": "code",
   "execution_count": 73,
   "metadata": {},
   "outputs": [
    {
     "name": "stdout",
     "output_type": "stream",
     "text": [
      "<class 'pandas.core.frame.DataFrame'>\n",
      "Int64Index: 46300 entries, 0 to 46299\n",
      "Data columns (total 19 columns):\n",
      " #   Column                 Non-Null Count  Dtype         \n",
      "---  ------                 --------------  -----         \n",
      " 0   CUSTOMER_ID            46300 non-null  int32         \n",
      " 1   TOTAL_SPENT            46300 non-null  float64       \n",
      " 2   YEARS_WITH_US          46300 non-null  float64       \n",
      " 3   MONETARY_VALUE         46300 non-null  float64       \n",
      " 4   CUSTOMER_FREQUENCY     46300 non-null  float64       \n",
      " 5   TOTAL_ORDER            46300 non-null  int64         \n",
      " 6   RECENCY_DAYS           46300 non-null  int32         \n",
      " 7   MAX(DAYS_BETWEEN)      46300 non-null  int32         \n",
      " 8   MIN(DAYS_BETWEEN)      46300 non-null  int32         \n",
      " 9   AVG(DAYS_BETWEEN)      46300 non-null  object        \n",
      " 10  LAST_ORDER_TS          46300 non-null  datetime64[ns]\n",
      " 11  LAST_TRANS             46300 non-null  datetime64[ns]\n",
      " 12  DAYS_DF1               46300 non-null  int32         \n",
      " 13  TRANS_DATEDIFF1        46300 non-null  int32         \n",
      " 14  TRANS_DATEDIFF2        46300 non-null  int32         \n",
      " 15  CUST_REC_CLUSTER       46300 non-null  int64         \n",
      " 16  CUST_FREQ_CLUSTER      46300 non-null  int64         \n",
      " 17  CUST_MONETARY_CLUSTER  46300 non-null  int64         \n",
      " 18  OVERALL_SCORE          46300 non-null  int64         \n",
      "dtypes: datetime64[ns](2), float64(4), int32(7), int64(5), object(1)\n",
      "memory usage: 5.8+ MB\n"
     ]
    }
   ],
   "source": [
    "customer_last_order_timestamp_df1.info()"
   ]
  },
  {
   "cell_type": "code",
   "execution_count": 74,
   "metadata": {},
   "outputs": [
    {
     "data": {
      "text/html": [
       "<div>\n",
       "<style scoped>\n",
       "    .dataframe tbody tr th:only-of-type {\n",
       "        vertical-align: middle;\n",
       "    }\n",
       "\n",
       "    .dataframe tbody tr th {\n",
       "        vertical-align: top;\n",
       "    }\n",
       "\n",
       "    .dataframe thead th {\n",
       "        text-align: right;\n",
       "    }\n",
       "</style>\n",
       "<table border=\"1\" class=\"dataframe\">\n",
       "  <thead>\n",
       "    <tr style=\"text-align: right;\">\n",
       "      <th></th>\n",
       "      <th>CUSTOMER_ID</th>\n",
       "      <th>TOTAL_SPENT</th>\n",
       "      <th>YEARS_WITH_US</th>\n",
       "      <th>MONETARY_VALUE</th>\n",
       "      <th>CUSTOMER_FREQUENCY</th>\n",
       "      <th>TOTAL_ORDER</th>\n",
       "      <th>RECENCY_DAYS</th>\n",
       "      <th>MAX(DAYS_BETWEEN)</th>\n",
       "      <th>MIN(DAYS_BETWEEN)</th>\n",
       "      <th>AVG(DAYS_BETWEEN)</th>\n",
       "      <th>DAYS_DF1</th>\n",
       "      <th>TRANS_DATEDIFF1</th>\n",
       "      <th>TRANS_DATEDIFF2</th>\n",
       "      <th>CUST_REC_CLUSTER</th>\n",
       "      <th>CUST_FREQ_CLUSTER</th>\n",
       "      <th>CUST_MONETARY_CLUSTER</th>\n",
       "      <th>OVERALL_SCORE</th>\n",
       "      <th>DAYS_DF2</th>\n",
       "    </tr>\n",
       "  </thead>\n",
       "  <tbody>\n",
       "    <tr>\n",
       "      <th>0</th>\n",
       "      <td>172108</td>\n",
       "      <td>2201.75</td>\n",
       "      <td>3.495890</td>\n",
       "      <td>629.811007</td>\n",
       "      <td>15.732760</td>\n",
       "      <td>55</td>\n",
       "      <td>14</td>\n",
       "      <td>153</td>\n",
       "      <td>2</td>\n",
       "      <td>23.370370</td>\n",
       "      <td>14</td>\n",
       "      <td>2</td>\n",
       "      <td>29</td>\n",
       "      <td>1</td>\n",
       "      <td>1</td>\n",
       "      <td>1</td>\n",
       "      <td>3</td>\n",
       "      <td>1.0</td>\n",
       "    </tr>\n",
       "    <tr>\n",
       "      <th>1</th>\n",
       "      <td>23690</td>\n",
       "      <td>2329.25</td>\n",
       "      <td>3.419178</td>\n",
       "      <td>681.230986</td>\n",
       "      <td>15.208334</td>\n",
       "      <td>52</td>\n",
       "      <td>21</td>\n",
       "      <td>202</td>\n",
       "      <td>1</td>\n",
       "      <td>24.058824</td>\n",
       "      <td>21</td>\n",
       "      <td>24</td>\n",
       "      <td>2</td>\n",
       "      <td>1</td>\n",
       "      <td>1</td>\n",
       "      <td>1</td>\n",
       "      <td>3</td>\n",
       "      <td>0.0</td>\n",
       "    </tr>\n",
       "    <tr>\n",
       "      <th>2</th>\n",
       "      <td>73541</td>\n",
       "      <td>2439.25</td>\n",
       "      <td>3.454795</td>\n",
       "      <td>706.047682</td>\n",
       "      <td>17.077714</td>\n",
       "      <td>59</td>\n",
       "      <td>26</td>\n",
       "      <td>143</td>\n",
       "      <td>1</td>\n",
       "      <td>21.293103</td>\n",
       "      <td>26</td>\n",
       "      <td>19</td>\n",
       "      <td>3</td>\n",
       "      <td>1</td>\n",
       "      <td>1</td>\n",
       "      <td>1</td>\n",
       "      <td>3</td>\n",
       "      <td>NaN</td>\n",
       "    </tr>\n",
       "    <tr>\n",
       "      <th>3</th>\n",
       "      <td>121690</td>\n",
       "      <td>2392.50</td>\n",
       "      <td>3.402740</td>\n",
       "      <td>703.109847</td>\n",
       "      <td>18.514491</td>\n",
       "      <td>63</td>\n",
       "      <td>20</td>\n",
       "      <td>120</td>\n",
       "      <td>1</td>\n",
       "      <td>19.709677</td>\n",
       "      <td>20</td>\n",
       "      <td>7</td>\n",
       "      <td>11</td>\n",
       "      <td>1</td>\n",
       "      <td>1</td>\n",
       "      <td>1</td>\n",
       "      <td>3</td>\n",
       "      <td>0.0</td>\n",
       "    </tr>\n",
       "    <tr>\n",
       "      <th>4</th>\n",
       "      <td>57434</td>\n",
       "      <td>1812.00</td>\n",
       "      <td>3.043836</td>\n",
       "      <td>595.301455</td>\n",
       "      <td>20.040502</td>\n",
       "      <td>61</td>\n",
       "      <td>29</td>\n",
       "      <td>67</td>\n",
       "      <td>1</td>\n",
       "      <td>18.033333</td>\n",
       "      <td>29</td>\n",
       "      <td>10</td>\n",
       "      <td>4</td>\n",
       "      <td>1</td>\n",
       "      <td>1</td>\n",
       "      <td>1</td>\n",
       "      <td>3</td>\n",
       "      <td>5.0</td>\n",
       "    </tr>\n",
       "  </tbody>\n",
       "</table>\n",
       "</div>"
      ],
      "text/plain": [
       "   CUSTOMER_ID  TOTAL_SPENT  YEARS_WITH_US  MONETARY_VALUE  \\\n",
       "0       172108      2201.75       3.495890      629.811007   \n",
       "1        23690      2329.25       3.419178      681.230986   \n",
       "2        73541      2439.25       3.454795      706.047682   \n",
       "3       121690      2392.50       3.402740      703.109847   \n",
       "4        57434      1812.00       3.043836      595.301455   \n",
       "\n",
       "   CUSTOMER_FREQUENCY  TOTAL_ORDER  RECENCY_DAYS  MAX(DAYS_BETWEEN)  \\\n",
       "0           15.732760           55            14                153   \n",
       "1           15.208334           52            21                202   \n",
       "2           17.077714           59            26                143   \n",
       "3           18.514491           63            20                120   \n",
       "4           20.040502           61            29                 67   \n",
       "\n",
       "   MIN(DAYS_BETWEEN) AVG(DAYS_BETWEEN)  DAYS_DF1  TRANS_DATEDIFF1  \\\n",
       "0                  2         23.370370        14                2   \n",
       "1                  1         24.058824        21               24   \n",
       "2                  1         21.293103        26               19   \n",
       "3                  1         19.709677        20                7   \n",
       "4                  1         18.033333        29               10   \n",
       "\n",
       "   TRANS_DATEDIFF2  CUST_REC_CLUSTER  CUST_FREQ_CLUSTER  \\\n",
       "0               29                 1                  1   \n",
       "1                2                 1                  1   \n",
       "2                3                 1                  1   \n",
       "3               11                 1                  1   \n",
       "4                4                 1                  1   \n",
       "\n",
       "   CUST_MONETARY_CLUSTER  OVERALL_SCORE  DAYS_DF2  \n",
       "0                      1              3       1.0  \n",
       "1                      1              3       0.0  \n",
       "2                      1              3       NaN  \n",
       "3                      1              3       0.0  \n",
       "4                      1              3       5.0  "
      ]
     },
     "execution_count": 74,
     "metadata": {},
     "output_type": "execute_result"
    }
   ],
   "source": [
    "# merge first dataframe and second dataframe \n",
    "# since the number of rows in the first and second dataframe are different, we can infer that there are some customers that did not make an order in the 14 days timeframe\n",
    "final_df = pd.merge(customer_last_order_timestamp_df1, customer_first_order_timestamp_df2, on='CUSTOMER_ID', how='left')\n",
    "\n",
    "# drop irrelevant columns\n",
    "final_df = final_df.drop([\"FIRST_ORDER_TS\", \"FIRST_TRANS\", \"LAST_ORDER_TS\", \"LAST_TRANS\"], axis=1)\n",
    "final_df.head()\n"
   ]
  },
  {
   "cell_type": "markdown",
   "metadata": {},
   "source": [
    "### 4.4 Adding Target Variable <a id=\"part4.4\"></a>"
   ]
  },
  {
   "cell_type": "code",
   "execution_count": 75,
   "metadata": {},
   "outputs": [
    {
     "data": {
      "text/html": [
       "<div>\n",
       "<style scoped>\n",
       "    .dataframe tbody tr th:only-of-type {\n",
       "        vertical-align: middle;\n",
       "    }\n",
       "\n",
       "    .dataframe tbody tr th {\n",
       "        vertical-align: top;\n",
       "    }\n",
       "\n",
       "    .dataframe thead th {\n",
       "        text-align: right;\n",
       "    }\n",
       "</style>\n",
       "<table border=\"1\" class=\"dataframe\">\n",
       "  <thead>\n",
       "    <tr style=\"text-align: right;\">\n",
       "      <th></th>\n",
       "      <th>CUSTOMER_ID</th>\n",
       "      <th>TOTAL_SPENT</th>\n",
       "      <th>YEARS_WITH_US</th>\n",
       "      <th>MONETARY_VALUE</th>\n",
       "      <th>CUSTOMER_FREQUENCY</th>\n",
       "      <th>TOTAL_ORDER</th>\n",
       "      <th>RECENCY_DAYS</th>\n",
       "      <th>MAX(DAYS_BETWEEN)</th>\n",
       "      <th>MIN(DAYS_BETWEEN)</th>\n",
       "      <th>AVG(DAYS_BETWEEN)</th>\n",
       "      <th>TRANS_DATEDIFF1</th>\n",
       "      <th>TRANS_DATEDIFF2</th>\n",
       "      <th>CUST_REC_CLUSTER</th>\n",
       "      <th>CUST_FREQ_CLUSTER</th>\n",
       "      <th>CUST_MONETARY_CLUSTER</th>\n",
       "      <th>OVERALL_SCORE</th>\n",
       "      <th>TARGET</th>\n",
       "    </tr>\n",
       "  </thead>\n",
       "  <tbody>\n",
       "    <tr>\n",
       "      <th>0</th>\n",
       "      <td>172108</td>\n",
       "      <td>2201.75</td>\n",
       "      <td>3.495890</td>\n",
       "      <td>629.811007</td>\n",
       "      <td>15.732760</td>\n",
       "      <td>55</td>\n",
       "      <td>14</td>\n",
       "      <td>153</td>\n",
       "      <td>2</td>\n",
       "      <td>23.370370</td>\n",
       "      <td>2</td>\n",
       "      <td>29</td>\n",
       "      <td>1</td>\n",
       "      <td>1</td>\n",
       "      <td>1</td>\n",
       "      <td>3</td>\n",
       "      <td>15.0</td>\n",
       "    </tr>\n",
       "    <tr>\n",
       "      <th>1</th>\n",
       "      <td>23690</td>\n",
       "      <td>2329.25</td>\n",
       "      <td>3.419178</td>\n",
       "      <td>681.230986</td>\n",
       "      <td>15.208334</td>\n",
       "      <td>52</td>\n",
       "      <td>21</td>\n",
       "      <td>202</td>\n",
       "      <td>1</td>\n",
       "      <td>24.058824</td>\n",
       "      <td>24</td>\n",
       "      <td>2</td>\n",
       "      <td>1</td>\n",
       "      <td>1</td>\n",
       "      <td>1</td>\n",
       "      <td>3</td>\n",
       "      <td>21.0</td>\n",
       "    </tr>\n",
       "    <tr>\n",
       "      <th>2</th>\n",
       "      <td>73541</td>\n",
       "      <td>2439.25</td>\n",
       "      <td>3.454795</td>\n",
       "      <td>706.047682</td>\n",
       "      <td>17.077714</td>\n",
       "      <td>59</td>\n",
       "      <td>26</td>\n",
       "      <td>143</td>\n",
       "      <td>1</td>\n",
       "      <td>21.293103</td>\n",
       "      <td>19</td>\n",
       "      <td>3</td>\n",
       "      <td>1</td>\n",
       "      <td>1</td>\n",
       "      <td>1</td>\n",
       "      <td>3</td>\n",
       "      <td>47.0</td>\n",
       "    </tr>\n",
       "    <tr>\n",
       "      <th>3</th>\n",
       "      <td>121690</td>\n",
       "      <td>2392.50</td>\n",
       "      <td>3.402740</td>\n",
       "      <td>703.109847</td>\n",
       "      <td>18.514491</td>\n",
       "      <td>63</td>\n",
       "      <td>20</td>\n",
       "      <td>120</td>\n",
       "      <td>1</td>\n",
       "      <td>19.709677</td>\n",
       "      <td>7</td>\n",
       "      <td>11</td>\n",
       "      <td>1</td>\n",
       "      <td>1</td>\n",
       "      <td>1</td>\n",
       "      <td>3</td>\n",
       "      <td>20.0</td>\n",
       "    </tr>\n",
       "    <tr>\n",
       "      <th>4</th>\n",
       "      <td>57434</td>\n",
       "      <td>1812.00</td>\n",
       "      <td>3.043836</td>\n",
       "      <td>595.301455</td>\n",
       "      <td>20.040502</td>\n",
       "      <td>61</td>\n",
       "      <td>29</td>\n",
       "      <td>67</td>\n",
       "      <td>1</td>\n",
       "      <td>18.033333</td>\n",
       "      <td>10</td>\n",
       "      <td>4</td>\n",
       "      <td>1</td>\n",
       "      <td>1</td>\n",
       "      <td>1</td>\n",
       "      <td>3</td>\n",
       "      <td>34.0</td>\n",
       "    </tr>\n",
       "  </tbody>\n",
       "</table>\n",
       "</div>"
      ],
      "text/plain": [
       "   CUSTOMER_ID  TOTAL_SPENT  YEARS_WITH_US  MONETARY_VALUE  \\\n",
       "0       172108      2201.75       3.495890      629.811007   \n",
       "1        23690      2329.25       3.419178      681.230986   \n",
       "2        73541      2439.25       3.454795      706.047682   \n",
       "3       121690      2392.50       3.402740      703.109847   \n",
       "4        57434      1812.00       3.043836      595.301455   \n",
       "\n",
       "   CUSTOMER_FREQUENCY  TOTAL_ORDER  RECENCY_DAYS  MAX(DAYS_BETWEEN)  \\\n",
       "0           15.732760           55            14                153   \n",
       "1           15.208334           52            21                202   \n",
       "2           17.077714           59            26                143   \n",
       "3           18.514491           63            20                120   \n",
       "4           20.040502           61            29                 67   \n",
       "\n",
       "   MIN(DAYS_BETWEEN) AVG(DAYS_BETWEEN)  TRANS_DATEDIFF1  TRANS_DATEDIFF2  \\\n",
       "0                  2         23.370370                2               29   \n",
       "1                  1         24.058824               24                2   \n",
       "2                  1         21.293103               19                3   \n",
       "3                  1         19.709677                7               11   \n",
       "4                  1         18.033333               10                4   \n",
       "\n",
       "   CUST_REC_CLUSTER  CUST_FREQ_CLUSTER  CUST_MONETARY_CLUSTER  OVERALL_SCORE  \\\n",
       "0                 1                  1                      1              3   \n",
       "1                 1                  1                      1              3   \n",
       "2                 1                  1                      1              3   \n",
       "3                 1                  1                      1              3   \n",
       "4                 1                  1                      1              3   \n",
       "\n",
       "   TARGET  \n",
       "0    15.0  \n",
       "1    21.0  \n",
       "2    47.0  \n",
       "3    20.0  \n",
       "4    34.0  "
      ]
     },
     "execution_count": 75,
     "metadata": {},
     "output_type": "execute_result"
    }
   ],
   "source": [
    "final_df[\"TARGET\"] = final_df[\"DAYS_DF1\"] + final_df[\"DAYS_DF2\"]\n",
    "final_df[\"TARGET\"].fillna(np.floor(final_df[\"AVG(DAYS_BETWEEN)\"]) + final_df[\"DAYS_DF1\"], inplace = True)\n",
    "final_df = final_df.drop([\"DAYS_DF1\", \"DAYS_DF2\"], axis=1)\n",
    "final_df.head()"
   ]
  },
  {
   "cell_type": "code",
   "execution_count": 76,
   "metadata": {},
   "outputs": [
    {
     "data": {
      "image/png": "[encoded data removed]",
      "text/plain": [
       "<Figure size 1500x1500 with 2 Axes>"
      ]
     },
     "metadata": {},
     "output_type": "display_data"
    }
   ],
   "source": [
    "colormap = plt.cm.viridis\n",
    "plt.figure(figsize=(15,15))\n",
    "plt.title('Correlation of Dataset Features', size=15)\n",
    "ax = sns.heatmap(final_df.astype(float).corr(), cmap=colormap, annot=True)\n",
    "bottom, top = ax.get_ylim()\n",
    "ax.set_ylim(bottom + 0.5, top - 0.5)\n",
    "plt.show()"
   ]
  },
  {
   "cell_type": "markdown",
   "metadata": {},
   "source": [
    "## 5. Model Building <a id=\"part5\"></a>"
   ]
  },
  {
   "cell_type": "markdown",
   "metadata": {},
   "source": [
    "### 5.1 Scaling <a id=\"part5.1\"></a>"
   ]
  },
  {
   "cell_type": "code",
   "execution_count": 77,
   "metadata": {},
   "outputs": [
    {
     "data": {
      "text/html": [
       "<div>\n",
       "<style scoped>\n",
       "    .dataframe tbody tr th:only-of-type {\n",
       "        vertical-align: middle;\n",
       "    }\n",
       "\n",
       "    .dataframe tbody tr th {\n",
       "        vertical-align: top;\n",
       "    }\n",
       "\n",
       "    .dataframe thead th {\n",
       "        text-align: right;\n",
       "    }\n",
       "</style>\n",
       "<table border=\"1\" class=\"dataframe\">\n",
       "  <thead>\n",
       "    <tr style=\"text-align: right;\">\n",
       "      <th></th>\n",
       "      <th>TOTAL_SPENT</th>\n",
       "      <th>YEARS_WITH_US</th>\n",
       "      <th>MONETARY_VALUE</th>\n",
       "      <th>CUSTOMER_FREQUENCY</th>\n",
       "      <th>TOTAL_ORDER</th>\n",
       "      <th>RECENCY_DAYS</th>\n",
       "      <th>MAX(DAYS_BETWEEN)</th>\n",
       "      <th>MIN(DAYS_BETWEEN)</th>\n",
       "      <th>AVG(DAYS_BETWEEN)</th>\n",
       "      <th>TRANS_DATEDIFF1</th>\n",
       "      <th>TRANS_DATEDIFF2</th>\n",
       "      <th>CUST_REC_CLUSTER</th>\n",
       "      <th>CUST_FREQ_CLUSTER</th>\n",
       "      <th>CUST_MONETARY_CLUSTER</th>\n",
       "      <th>OVERALL_SCORE</th>\n",
       "      <th>TARGET</th>\n",
       "    </tr>\n",
       "  </thead>\n",
       "  <tbody>\n",
       "    <tr>\n",
       "      <th>0</th>\n",
       "      <td>2201.75</td>\n",
       "      <td>3.495890</td>\n",
       "      <td>629.811007</td>\n",
       "      <td>15.732760</td>\n",
       "      <td>55</td>\n",
       "      <td>14</td>\n",
       "      <td>153</td>\n",
       "      <td>2</td>\n",
       "      <td>23.370370</td>\n",
       "      <td>2</td>\n",
       "      <td>29</td>\n",
       "      <td>1</td>\n",
       "      <td>1</td>\n",
       "      <td>1</td>\n",
       "      <td>3</td>\n",
       "      <td>15.0</td>\n",
       "    </tr>\n",
       "    <tr>\n",
       "      <th>1</th>\n",
       "      <td>2329.25</td>\n",
       "      <td>3.419178</td>\n",
       "      <td>681.230986</td>\n",
       "      <td>15.208334</td>\n",
       "      <td>52</td>\n",
       "      <td>21</td>\n",
       "      <td>202</td>\n",
       "      <td>1</td>\n",
       "      <td>24.058824</td>\n",
       "      <td>24</td>\n",
       "      <td>2</td>\n",
       "      <td>1</td>\n",
       "      <td>1</td>\n",
       "      <td>1</td>\n",
       "      <td>3</td>\n",
       "      <td>21.0</td>\n",
       "    </tr>\n",
       "    <tr>\n",
       "      <th>2</th>\n",
       "      <td>2439.25</td>\n",
       "      <td>3.454795</td>\n",
       "      <td>706.047682</td>\n",
       "      <td>17.077714</td>\n",
       "      <td>59</td>\n",
       "      <td>26</td>\n",
       "      <td>143</td>\n",
       "      <td>1</td>\n",
       "      <td>21.293103</td>\n",
       "      <td>19</td>\n",
       "      <td>3</td>\n",
       "      <td>1</td>\n",
       "      <td>1</td>\n",
       "      <td>1</td>\n",
       "      <td>3</td>\n",
       "      <td>47.0</td>\n",
       "    </tr>\n",
       "    <tr>\n",
       "      <th>3</th>\n",
       "      <td>2392.50</td>\n",
       "      <td>3.402740</td>\n",
       "      <td>703.109847</td>\n",
       "      <td>18.514491</td>\n",
       "      <td>63</td>\n",
       "      <td>20</td>\n",
       "      <td>120</td>\n",
       "      <td>1</td>\n",
       "      <td>19.709677</td>\n",
       "      <td>7</td>\n",
       "      <td>11</td>\n",
       "      <td>1</td>\n",
       "      <td>1</td>\n",
       "      <td>1</td>\n",
       "      <td>3</td>\n",
       "      <td>20.0</td>\n",
       "    </tr>\n",
       "    <tr>\n",
       "      <th>4</th>\n",
       "      <td>1812.00</td>\n",
       "      <td>3.043836</td>\n",
       "      <td>595.301455</td>\n",
       "      <td>20.040502</td>\n",
       "      <td>61</td>\n",
       "      <td>29</td>\n",
       "      <td>67</td>\n",
       "      <td>1</td>\n",
       "      <td>18.033333</td>\n",
       "      <td>10</td>\n",
       "      <td>4</td>\n",
       "      <td>1</td>\n",
       "      <td>1</td>\n",
       "      <td>1</td>\n",
       "      <td>3</td>\n",
       "      <td>34.0</td>\n",
       "    </tr>\n",
       "  </tbody>\n",
       "</table>\n",
       "</div>"
      ],
      "text/plain": [
       "   TOTAL_SPENT  YEARS_WITH_US  MONETARY_VALUE  CUSTOMER_FREQUENCY  \\\n",
       "0      2201.75       3.495890      629.811007           15.732760   \n",
       "1      2329.25       3.419178      681.230986           15.208334   \n",
       "2      2439.25       3.454795      706.047682           17.077714   \n",
       "3      2392.50       3.402740      703.109847           18.514491   \n",
       "4      1812.00       3.043836      595.301455           20.040502   \n",
       "\n",
       "   TOTAL_ORDER  RECENCY_DAYS  MAX(DAYS_BETWEEN)  MIN(DAYS_BETWEEN)  \\\n",
       "0           55            14                153                  2   \n",
       "1           52            21                202                  1   \n",
       "2           59            26                143                  1   \n",
       "3           63            20                120                  1   \n",
       "4           61            29                 67                  1   \n",
       "\n",
       "  AVG(DAYS_BETWEEN)  TRANS_DATEDIFF1  TRANS_DATEDIFF2  CUST_REC_CLUSTER  \\\n",
       "0         23.370370                2               29                 1   \n",
       "1         24.058824               24                2                 1   \n",
       "2         21.293103               19                3                 1   \n",
       "3         19.709677                7               11                 1   \n",
       "4         18.033333               10                4                 1   \n",
       "\n",
       "   CUST_FREQ_CLUSTER  CUST_MONETARY_CLUSTER  OVERALL_SCORE  TARGET  \n",
       "0                  1                      1              3    15.0  \n",
       "1                  1                      1              3    21.0  \n",
       "2                  1                      1              3    47.0  \n",
       "3                  1                      1              3    20.0  \n",
       "4                  1                      1              3    34.0  "
      ]
     },
     "execution_count": 77,
     "metadata": {},
     "output_type": "execute_result"
    }
   ],
   "source": [
    "# save dataframe of customer_id \n",
    "customer_id_df = final_df[\"CUSTOMER_ID\"]\n",
    "\n",
    "final_df = final_df.drop([\"CUSTOMER_ID\"],  axis = 1)\n",
    "\n",
    "final_df.head()"
   ]
  },
  {
   "cell_type": "code",
   "execution_count": 78,
   "metadata": {},
   "outputs": [
    {
     "data": {
      "text/html": [
       "<div>\n",
       "<style scoped>\n",
       "    .dataframe tbody tr th:only-of-type {\n",
       "        vertical-align: middle;\n",
       "    }\n",
       "\n",
       "    .dataframe tbody tr th {\n",
       "        vertical-align: top;\n",
       "    }\n",
       "\n",
       "    .dataframe thead th {\n",
       "        text-align: right;\n",
       "    }\n",
       "</style>\n",
       "<table border=\"1\" class=\"dataframe\">\n",
       "  <thead>\n",
       "    <tr style=\"text-align: right;\">\n",
       "      <th></th>\n",
       "      <th>TOTAL_SPENT</th>\n",
       "      <th>YEARS_WITH_US</th>\n",
       "      <th>MONETARY_VALUE</th>\n",
       "      <th>CUSTOMER_FREQUENCY</th>\n",
       "      <th>TOTAL_ORDER</th>\n",
       "      <th>RECENCY_DAYS</th>\n",
       "      <th>MAX(DAYS_BETWEEN)</th>\n",
       "      <th>MIN(DAYS_BETWEEN)</th>\n",
       "      <th>AVG(DAYS_BETWEEN)</th>\n",
       "      <th>TRANS_DATEDIFF1</th>\n",
       "      <th>TRANS_DATEDIFF2</th>\n",
       "      <th>CUST_REC_CLUSTER</th>\n",
       "      <th>CUST_FREQ_CLUSTER</th>\n",
       "      <th>CUST_MONETARY_CLUSTER</th>\n",
       "      <th>OVERALL_SCORE</th>\n",
       "      <th>TARGET</th>\n",
       "    </tr>\n",
       "  </thead>\n",
       "  <tbody>\n",
       "    <tr>\n",
       "      <th>0</th>\n",
       "      <td>0.418901</td>\n",
       "      <td>1.634983</td>\n",
       "      <td>-0.330742</td>\n",
       "      <td>-0.517389</td>\n",
       "      <td>0.299702</td>\n",
       "      <td>0.098761</td>\n",
       "      <td>0.337297</td>\n",
       "      <td>2.226257</td>\n",
       "      <td>0.193656</td>\n",
       "      <td>-0.888375</td>\n",
       "      <td>1.136006</td>\n",
       "      <td>-0.912625</td>\n",
       "      <td>-0.136877</td>\n",
       "      <td>-0.107288</td>\n",
       "      <td>-0.468957</td>\n",
       "      <td>15.0</td>\n",
       "    </tr>\n",
       "    <tr>\n",
       "      <th>1</th>\n",
       "      <td>0.683563</td>\n",
       "      <td>1.408172</td>\n",
       "      <td>-0.049446</td>\n",
       "      <td>-0.642136</td>\n",
       "      <td>0.013138</td>\n",
       "      <td>0.616281</td>\n",
       "      <td>1.033771</td>\n",
       "      <td>-0.266625</td>\n",
       "      <td>0.295586</td>\n",
       "      <td>0.808270</td>\n",
       "      <td>-0.900431</td>\n",
       "      <td>-0.912625</td>\n",
       "      <td>-0.136877</td>\n",
       "      <td>-0.107288</td>\n",
       "      <td>-0.468957</td>\n",
       "      <td>21.0</td>\n",
       "    </tr>\n",
       "    <tr>\n",
       "      <th>2</th>\n",
       "      <td>0.911899</td>\n",
       "      <td>1.513479</td>\n",
       "      <td>0.086315</td>\n",
       "      <td>-0.197460</td>\n",
       "      <td>0.681788</td>\n",
       "      <td>0.985937</td>\n",
       "      <td>0.195159</td>\n",
       "      <td>-0.266625</td>\n",
       "      <td>-0.113897</td>\n",
       "      <td>0.422669</td>\n",
       "      <td>-0.825007</td>\n",
       "      <td>-0.912625</td>\n",
       "      <td>-0.136877</td>\n",
       "      <td>-0.107288</td>\n",
       "      <td>-0.468957</td>\n",
       "      <td>47.0</td>\n",
       "    </tr>\n",
       "    <tr>\n",
       "      <th>3</th>\n",
       "      <td>0.814856</td>\n",
       "      <td>1.359570</td>\n",
       "      <td>0.070243</td>\n",
       "      <td>0.144310</td>\n",
       "      <td>1.063874</td>\n",
       "      <td>0.542349</td>\n",
       "      <td>-0.131757</td>\n",
       "      <td>-0.266625</td>\n",
       "      <td>-0.348334</td>\n",
       "      <td>-0.502774</td>\n",
       "      <td>-0.221618</td>\n",
       "      <td>-0.912625</td>\n",
       "      <td>-0.136877</td>\n",
       "      <td>-0.107288</td>\n",
       "      <td>-0.468957</td>\n",
       "      <td>20.0</td>\n",
       "    </tr>\n",
       "    <tr>\n",
       "      <th>4</th>\n",
       "      <td>-0.390134</td>\n",
       "      <td>0.298415</td>\n",
       "      <td>-0.519528</td>\n",
       "      <td>0.507307</td>\n",
       "      <td>0.872831</td>\n",
       "      <td>1.207731</td>\n",
       "      <td>-0.885087</td>\n",
       "      <td>-0.266625</td>\n",
       "      <td>-0.596528</td>\n",
       "      <td>-0.271413</td>\n",
       "      <td>-0.749583</td>\n",
       "      <td>-0.912625</td>\n",
       "      <td>-0.136877</td>\n",
       "      <td>-0.107288</td>\n",
       "      <td>-0.468957</td>\n",
       "      <td>34.0</td>\n",
       "    </tr>\n",
       "  </tbody>\n",
       "</table>\n",
       "</div>"
      ],
      "text/plain": [
       "   TOTAL_SPENT  YEARS_WITH_US  MONETARY_VALUE  CUSTOMER_FREQUENCY  \\\n",
       "0     0.418901       1.634983       -0.330742           -0.517389   \n",
       "1     0.683563       1.408172       -0.049446           -0.642136   \n",
       "2     0.911899       1.513479        0.086315           -0.197460   \n",
       "3     0.814856       1.359570        0.070243            0.144310   \n",
       "4    -0.390134       0.298415       -0.519528            0.507307   \n",
       "\n",
       "   TOTAL_ORDER  RECENCY_DAYS  MAX(DAYS_BETWEEN)  MIN(DAYS_BETWEEN)  \\\n",
       "0     0.299702      0.098761           0.337297           2.226257   \n",
       "1     0.013138      0.616281           1.033771          -0.266625   \n",
       "2     0.681788      0.985937           0.195159          -0.266625   \n",
       "3     1.063874      0.542349          -0.131757          -0.266625   \n",
       "4     0.872831      1.207731          -0.885087          -0.266625   \n",
       "\n",
       "   AVG(DAYS_BETWEEN)  TRANS_DATEDIFF1  TRANS_DATEDIFF2  CUST_REC_CLUSTER  \\\n",
       "0           0.193656        -0.888375         1.136006         -0.912625   \n",
       "1           0.295586         0.808270        -0.900431         -0.912625   \n",
       "2          -0.113897         0.422669        -0.825007         -0.912625   \n",
       "3          -0.348334        -0.502774        -0.221618         -0.912625   \n",
       "4          -0.596528        -0.271413        -0.749583         -0.912625   \n",
       "\n",
       "   CUST_FREQ_CLUSTER  CUST_MONETARY_CLUSTER  OVERALL_SCORE  TARGET  \n",
       "0          -0.136877              -0.107288      -0.468957    15.0  \n",
       "1          -0.136877              -0.107288      -0.468957    21.0  \n",
       "2          -0.136877              -0.107288      -0.468957    47.0  \n",
       "3          -0.136877              -0.107288      -0.468957    20.0  \n",
       "4          -0.136877              -0.107288      -0.468957    34.0  "
      ]
     },
     "execution_count": 78,
     "metadata": {},
     "output_type": "execute_result"
    }
   ],
   "source": [
    "# Drop target\n",
    "target = final_df['TARGET']\n",
    "final_df.drop('TARGET', axis = 1, inplace = True)\n",
    "\n",
    "scaler = StandardScaler()\n",
    "scaler.fit(final_df)\n",
    "\n",
    "final_scaled = scaler.transform(final_df)\n",
    "final_scaled = pd.DataFrame(final_scaled, columns=final_df.columns)\n",
    "\n",
    "#assign target variable back to scaled data frame\n",
    "final_scaled = final_scaled.assign(TARGET = target)\n",
    "\n",
    "final_scaled.head()"
   ]
  },
  {
   "cell_type": "markdown",
   "metadata": {},
   "source": [
    "### 5.2 Train Test Split <a id=\"part5.2\"></a>"
   ]
  },
  {
   "cell_type": "code",
   "execution_count": 79,
   "metadata": {},
   "outputs": [],
   "source": [
    "# Define ratio for model \n",
    "train_ratio = 0.70\n",
    "test_ratio = 0.30\n",
    "\n",
    "# Define Model Inputs (X) and Output (y)\n",
    "X = final_scaled.drop('TARGET',axis=1)\n",
    "y = final_scaled[\"TARGET\"]\n",
    "\n",
    "# Split both Inputs (X) and Ouput (y) into training set (70%) and testing set (20%)\n",
    "X_train, X_test, y_train, y_test = train_test_split(X, y, test_size=test_ratio, random_state=1)\n"
   ]
  },
  {
   "cell_type": "code",
   "execution_count": 80,
   "metadata": {},
   "outputs": [],
   "source": [
    "modelTestResults = pd.DataFrame(columns=['Model', 'Train_MSE', 'Test_MSE', 'Train_R^2', 'Test_R^2', 'Cross_Val_Train_MSE','Cross_Val_Test_MSE'])"
   ]
  },
  {
   "cell_type": "markdown",
   "metadata": {},
   "source": [
    "### 5.3 Linear Regression <a id=\"part5.3\"></a>"
   ]
  },
  {
   "cell_type": "code",
   "execution_count": 81,
   "metadata": {},
   "outputs": [
    {
     "name": "stdout",
     "output_type": "stream",
     "text": [
      "The Training Mean Squared Error for Linear Regression Model is:  79.94812959878873\n",
      "The Testing Mean Squared Error for Linear Regression Model is:  81.82895674143383\n",
      "\n",
      "The Training R^2 for Linear Regression Model is:  0.7216413066886213\n",
      "The Testing R^2 for Linear Regression Model is:  0.7195006199883489\n"
     ]
    }
   ],
   "source": [
    "# Create the model \"lg\"\n",
    "lg = LinearRegression()\n",
    "lg.fit(X_train, y_train)\n",
    "\n",
    "#MSE\n",
    "\n",
    "train_mse = mean_squared_error(lg.predict(X_train), y_train)\n",
    "print('The Training Mean Squared Error for Linear Regression Model is: ', train_mse)\n",
    "test_mse = mean_squared_error(lg.predict(X_test), y_test)\n",
    "print('The Testing Mean Squared Error for Linear Regression Model is: ',test_mse)\n",
    "\n",
    "print('')\n",
    "\n",
    "#R^2\n",
    "\n",
    "train_R2 = lg.score(X_train, y_train)\n",
    "print('The Training R^2 for Linear Regression Model is: ', train_R2)\n",
    "\n",
    "test_R2 = lg.score(X_test, y_test)\n",
    "print('The Testing R^2 for Linear Regression Model is: ', test_R2)\n",
    "\n",
    "# Define the new row to be added\n",
    "new_row = {'Model' : 'Linear Regression','Train_MSE': train_mse, 'Test_MSE': test_mse, 'Train_R^2': train_R2, 'Test_R^2': test_R2}\n",
    "# Use the loc method to add the new row to the DataFrame\n",
    "modelTestResults.loc[len(modelTestResults)] = new_row"
   ]
  },
  {
   "cell_type": "markdown",
   "metadata": {},
   "source": [
    "### 5.4 Decision Tree <a id=\"part5.4\"></a>"
   ]
  },
  {
   "cell_type": "code",
   "execution_count": 82,
   "metadata": {},
   "outputs": [
    {
     "name": "stdout",
     "output_type": "stream",
     "text": [
      "The Training Mean Squared Error for Decision Tree Regressor Model is:  109.99248415267198\n",
      "The Testing Mean Squared Error for Decision Tree Regressor Model is:  110.06229512366643\n",
      "\n",
      "The Training R^2 for Decision Tree Regressor Model is:  0.6170346408795262\n",
      "The Testing R^2 for Decision Tree Regressor is:  0.6227202841849789\n"
     ]
    }
   ],
   "source": [
    "dt = tree.DecisionTreeRegressor(max_depth=2, random_state=1)\n",
    "dt.fit(X_train, y_train)\n",
    "\n",
    "#MSE\n",
    "\n",
    "train_mse = mean_squared_error(dt.predict(X_train), y_train)\n",
    "print('The Training Mean Squared Error for Decision Tree Regressor Model is: ', train_mse)\n",
    "test_mse = mean_squared_error(dt.predict(X_test), y_test)\n",
    "print('The Testing Mean Squared Error for Decision Tree Regressor Model is: ',test_mse)\n",
    "\n",
    "print('')\n",
    "\n",
    "#R^2\n",
    "\n",
    "train_R2 = dt.score(X_train, y_train)\n",
    "print('The Training R^2 for Decision Tree Regressor Model is: ', train_R2)\n",
    "\n",
    "test_R2 = dt.score(X_test, y_test)\n",
    "print('The Testing R^2 for Decision Tree Regressor is: ', test_R2)"
   ]
  },
  {
   "cell_type": "code",
   "execution_count": 83,
   "metadata": {},
   "outputs": [
    {
     "name": "stdout",
     "output_type": "stream",
     "text": [
      "train_score:  [-119.14350277 -121.616555   -122.28572888 -120.25563415  -68.74149139]\n",
      "test_score:  [ -77.38269273  -87.34664705  -62.65237232  -70.76102564 -317.12077404]\n",
      "cross val training mse is: 110.40858243813736\n",
      "cross val testing mse is: 123.05270235716505\n"
     ]
    }
   ],
   "source": [
    "# Evaluate the Model using K-folds Cross validation\n",
    "results = cross_validate(dt, X, y, scoring='neg_mean_squared_error', cv=5, return_train_score = True)\n",
    "print('train_score: ', results['train_score'])\n",
    "print('test_score: ', results['test_score'])\n",
    "\n",
    "cv_train_accuracy = sum(-results['train_score'])/len(results['train_score'])\n",
    "cv_test_accuracy = sum(-results['test_score'])/len(results['test_score'])\n",
    "print('cross val training mse is:', sum(-results['train_score'])/len(results['train_score']))\n",
    "print('cross val testing mse is:', sum(-results['test_score'])/len(results['test_score']))\n",
    "\n",
    "# Define the new row to be added\n",
    "new_row = {'Model' : 'Decision Tree','Train_MSE': train_mse, 'Test_MSE': test_mse, 'Train_R^2': train_R2, 'Test_R^2': test_R2, 'Cross_Val_Train_MSE': cv_train_accuracy,'Cross_Val_Test_MSE': cv_test_accuracy}\n",
    "# Use the loc method to add the new row to the DataFrame\n",
    "modelTestResults.loc[len(modelTestResults)] = new_row"
   ]
  },
  {
   "cell_type": "markdown",
   "metadata": {},
   "source": [
    "#### 5.8 XGBoost Model <a id=\"part5-8\"></a>"
   ]
  },
  {
   "cell_type": "code",
   "execution_count": 84,
   "metadata": {},
   "outputs": [
    {
     "name": "stdout",
     "output_type": "stream",
     "text": [
      "The Training Mean Squared Error for XGBoost is:  50.92428074058116\n",
      "The Testing Mean Squared Error for XGBoost is:  88.14601273426496\n",
      "\n",
      "The Training R^2 for XGBoost is:  0.8226948358153365\n",
      "The Testing R^2 for XGBoost is:  0.6978465459288807\n"
     ]
    }
   ],
   "source": [
    "# Create an instance of the model\n",
    "xgb = XGBRegressor()\n",
    "\n",
    "# Fit the XGBClassifier to the training data\n",
    "xgb.fit(X_train,y_train.ravel())\n",
    "\n",
    "#MSE\n",
    "\n",
    "train_mse = mean_squared_error(xgb.predict(X_train), y_train)\n",
    "print('The Training Mean Squared Error for XGBoost is: ', train_mse)\n",
    "test_mse = mean_squared_error(xgb.predict(X_test), y_test)\n",
    "print('The Testing Mean Squared Error for XGBoost is: ',test_mse)\n",
    "\n",
    "print('')\n",
    "\n",
    "#R^2\n",
    "\n",
    "train_R2 = xgb.score(X_train, y_train)\n",
    "print('The Training R^2 for XGBoost is: ', train_R2)\n",
    "\n",
    "test_R2 = xgb.score(X_test, y_test)\n",
    "print('The Testing R^2 for XGBoost is: ', test_R2)"
   ]
  },
  {
   "cell_type": "code",
   "execution_count": 85,
   "metadata": {},
   "outputs": [
    {
     "name": "stdout",
     "output_type": "stream",
     "text": [
      "train_score:  [-55.90666423 -56.85362301 -61.25391319 -60.1020867  -38.18103461]\n",
      "test_score:  [ -59.9212552   -61.62426983  -42.70791564  -50.27511456 -239.71195181]\n",
      "cross val training accuracy is: 54.45946434509417\n",
      "cross val testing accuracy is: 90.8481014078967\n"
     ]
    }
   ],
   "source": [
    "# Evaluate the Model using K-folds Cross validation\n",
    "results = cross_validate(xgb, X, y, scoring='neg_mean_squared_error', cv=5, return_train_score = True)\n",
    "print('train_score: ', results['train_score'])\n",
    "print('test_score: ', results['test_score'])\n",
    "\n",
    "cv_train_accuracy = sum(-results['train_score'])/len(results['train_score'])\n",
    "cv_test_accuracy = sum(-results['test_score'])/len(results['test_score'])\n",
    "print('cross val training accuracy is:', sum(-results['train_score'])/len(results['train_score']))\n",
    "print('cross val testing accuracy is:', sum(-results['test_score'])/len(results['test_score']))\n",
    "\n",
    "# Define the new row to be added\n",
    "new_row = {'Model' : 'XGBoost','Train_MSE': train_mse, 'Test_MSE': test_mse, 'Train_R^2': train_R2, 'Test_R^2': test_R2, 'Cross_Val_Train_MSE': cv_train_accuracy,'Cross_Val_Test_MSE': cv_test_accuracy}\n",
    "# Use the loc method to add the new row to the DataFrame\n",
    "modelTestResults.loc[len(modelTestResults)] = new_row"
   ]
  },
  {
   "cell_type": "markdown",
   "metadata": {},
   "source": [
    "#### 5.9 ADA Boost Model <a id=\"part5-9\"></a>"
   ]
  },
  {
   "cell_type": "code",
   "execution_count": 86,
   "metadata": {},
   "outputs": [
    {
     "name": "stdout",
     "output_type": "stream",
     "text": [
      "The Training Mean Squared Error for ADA Boost is:  89.82050158837819\n",
      "The Testing Mean Squared Error for ADA Boost is:  92.3836991213553\n",
      "\n",
      "The Training R^2 for ADA Boost is:  0.6872682628075845\n",
      "The Testing R^2 for ADA Boost is:  0.6833202895570849\n"
     ]
    }
   ],
   "source": [
    "# Create an instance of the model\n",
    "ada = AdaBoostRegressor()\n",
    "\n",
    "# Fit the XGBClassifier to the training data\n",
    "ada.fit(X_train,y_train)\n",
    "\n",
    "#MSE\n",
    "\n",
    "train_mse = mean_squared_error(ada.predict(X_train), y_train)\n",
    "print('The Training Mean Squared Error for ADA Boost is: ', train_mse)\n",
    "test_mse = mean_squared_error(ada.predict(X_test), y_test)\n",
    "print('The Testing Mean Squared Error for ADA Boost is: ',test_mse)\n",
    "\n",
    "print('')\n",
    "\n",
    "#R^2\n",
    "\n",
    "train_R2 = ada.score(X_train, y_train)\n",
    "print('The Training R^2 for ADA Boost is: ', train_R2)\n",
    "\n",
    "test_R2 = ada.score(X_test, y_test)\n",
    "print('The Testing R^2 for ADA Boost is: ', test_R2)"
   ]
  },
  {
   "cell_type": "code",
   "execution_count": 87,
   "metadata": {},
   "outputs": [
    {
     "name": "stdout",
     "output_type": "stream",
     "text": [
      "train_score:  [ -98.30124678  -96.70594715 -101.51714487  -99.97527818  -55.58967119]\n",
      "test_score:  [ -71.88715866  -74.62307179  -58.43696116  -67.61744218 -203.43175543]\n",
      "cross val training accuracy is: 90.41785763563965\n",
      "cross val testing accuracy is: 95.19927784353783\n"
     ]
    }
   ],
   "source": [
    "# Evaluate the Model using K-folds Cross validation\n",
    "results = cross_validate(ada, X, y, scoring='neg_mean_squared_error', cv=5, return_train_score = True)\n",
    "print('train_score: ', results['train_score'])\n",
    "print('test_score: ', results['test_score'])\n",
    "\n",
    "cv_train_accuracy = sum(-results['train_score'])/len(results['train_score'])\n",
    "cv_test_accuracy = sum(-results['test_score'])/len(results['test_score'])\n",
    "print('cross val training accuracy is:', sum(-results['train_score'])/len(results['train_score']))\n",
    "print('cross val testing accuracy is:', sum(-results['test_score'])/len(results['test_score']))\n",
    "\n",
    "# Define the new row to be added\n",
    "new_row = {'Model' : 'ADA Boost','Train_MSE': train_mse, 'Test_MSE': test_mse, 'Train_R^2': train_R2, 'Test_R^2': test_R2, 'Cross_Val_Train_MSE': cv_train_accuracy,'Cross_Val_Test_MSE': cv_test_accuracy}\n",
    "# Use the loc method to add the new row to the DataFrame\n",
    "modelTestResults.loc[len(modelTestResults)] = new_row"
   ]
  },
  {
   "cell_type": "code",
   "execution_count": 88,
   "metadata": {},
   "outputs": [
    {
     "data": {
      "text/html": [
       "<div>\n",
       "<style scoped>\n",
       "    .dataframe tbody tr th:only-of-type {\n",
       "        vertical-align: middle;\n",
       "    }\n",
       "\n",
       "    .dataframe tbody tr th {\n",
       "        vertical-align: top;\n",
       "    }\n",
       "\n",
       "    .dataframe thead th {\n",
       "        text-align: right;\n",
       "    }\n",
       "</style>\n",
       "<table border=\"1\" class=\"dataframe\">\n",
       "  <thead>\n",
       "    <tr style=\"text-align: right;\">\n",
       "      <th></th>\n",
       "      <th>Model</th>\n",
       "      <th>Train_MSE</th>\n",
       "      <th>Test_MSE</th>\n",
       "      <th>Train_R^2</th>\n",
       "      <th>Test_R^2</th>\n",
       "      <th>Cross_Val_Train_MSE</th>\n",
       "      <th>Cross_Val_Test_MSE</th>\n",
       "    </tr>\n",
       "  </thead>\n",
       "  <tbody>\n",
       "    <tr>\n",
       "      <th>0</th>\n",
       "      <td>Linear Regression</td>\n",
       "      <td>79.948130</td>\n",
       "      <td>81.828957</td>\n",
       "      <td>0.721641</td>\n",
       "      <td>0.719501</td>\n",
       "      <td>NaN</td>\n",
       "      <td>NaN</td>\n",
       "    </tr>\n",
       "    <tr>\n",
       "      <th>1</th>\n",
       "      <td>Decision Tree</td>\n",
       "      <td>109.992484</td>\n",
       "      <td>110.062295</td>\n",
       "      <td>0.617035</td>\n",
       "      <td>0.622720</td>\n",
       "      <td>110.408582</td>\n",
       "      <td>123.052702</td>\n",
       "    </tr>\n",
       "    <tr>\n",
       "      <th>2</th>\n",
       "      <td>XGBoost</td>\n",
       "      <td>50.924281</td>\n",
       "      <td>88.146013</td>\n",
       "      <td>0.822695</td>\n",
       "      <td>0.697847</td>\n",
       "      <td>54.459464</td>\n",
       "      <td>90.848101</td>\n",
       "    </tr>\n",
       "    <tr>\n",
       "      <th>3</th>\n",
       "      <td>ADA Boost</td>\n",
       "      <td>89.820502</td>\n",
       "      <td>92.383699</td>\n",
       "      <td>0.687268</td>\n",
       "      <td>0.683320</td>\n",
       "      <td>90.417858</td>\n",
       "      <td>95.199278</td>\n",
       "    </tr>\n",
       "  </tbody>\n",
       "</table>\n",
       "</div>"
      ],
      "text/plain": [
       "               Model   Train_MSE    Test_MSE  Train_R^2  Test_R^2  \\\n",
       "0  Linear Regression   79.948130   81.828957   0.721641  0.719501   \n",
       "1      Decision Tree  109.992484  110.062295   0.617035  0.622720   \n",
       "2            XGBoost   50.924281   88.146013   0.822695  0.697847   \n",
       "3          ADA Boost   89.820502   92.383699   0.687268  0.683320   \n",
       "\n",
       "   Cross_Val_Train_MSE  Cross_Val_Test_MSE  \n",
       "0                  NaN                 NaN  \n",
       "1           110.408582          123.052702  \n",
       "2            54.459464           90.848101  \n",
       "3            90.417858           95.199278  "
      ]
     },
     "execution_count": 88,
     "metadata": {},
     "output_type": "execute_result"
    }
   ],
   "source": [
    "# Dataframe for accuracy of each model\n",
    "modelTestResults"
   ]
  },
  {
   "cell_type": "markdown",
   "metadata": {},
   "source": [
    "## 6. Holdout Data <a id=\"part6\"></a>"
   ]
  },
  {
   "cell_type": "markdown",
   "metadata": {},
   "source": []
  }
 ],
 "metadata": {
  "kernelspec": {
   "display_name": "pysnowpark",
   "language": "python",
   "name": "python3"
  },
  "language_info": {
   "codemirror_mode": {
    "name": "ipython",
    "version": 3
   },
   "file_extension": ".py",
   "mimetype": "text/x-python",
   "name": "python",
   "nbconvert_exporter": "python",
   "pygments_lexer": "ipython3",
   "version": "3.8.16"
  },
  "orig_nbformat": 4
 },
 "nbformat": 4,
 "nbformat_minor": 2
}
