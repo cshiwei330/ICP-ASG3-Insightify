{
 "cells": [
  {
   "attachments": {},
   "cell_type": "markdown",
   "metadata": {},
   "source": [
    "## Importing packages & setting up connection"
   ]
  },
  {
   "cell_type": "code",
   "execution_count": 1,
   "metadata": {},
   "outputs": [
    {
     "name": "stderr",
     "output_type": "stream",
     "text": [
      "c:\\Users\\Ernest Toh\\.conda\\envs\\pysnowpark\\lib\\site-packages\\xgboost\\compat.py:36: FutureWarning: pandas.Int64Index is deprecated and will be removed from pandas in a future version. Use pandas.Index with the appropriate dtype instead.\n",
      "  from pandas import MultiIndex, Int64Index\n"
     ]
    }
   ],
   "source": [
    "# Import Python packages\n",
    "import pandas as pd\n",
    "import numpy as np\n",
    "from matplotlib import pyplot as plt\n",
    "import json\n",
    "import sys\n",
    "import cachetools\n",
    "from datetime import datetime\n",
    "from datetime import date\n",
    "import seaborn as sns\n",
    "import math\n",
    "from scipy import stats\n",
    "import statsmodels.api as sm\n",
    "\n",
    "# Import Snowflake modules\n",
    "from snowflake.snowpark import Session\n",
    "import snowflake.snowpark.functions as F\n",
    "import snowflake.snowpark.types as T\n",
    "from snowflake.snowpark import Window\n",
    "from snowflake.snowpark.functions import col\n",
    "\n",
    "# Clustering & Model\n",
    "from sklearn.cluster import KMeans\n",
    "from sklearn.linear_model import LogisticRegression, LinearRegression\n",
    "from sklearn import tree\n",
    "from sklearn.tree import DecisionTreeClassifier\n",
    "from sklearn.neural_network import MLPClassifier\n",
    "from sklearn.svm import SVC, SVR\n",
    "from sklearn. ensemble import RandomForestClassifier, BaggingClassifier, AdaBoostClassifier, ExtraTreesClassifier, RandomForestRegressor, ExtraTreesRegressor, BaggingRegressor, GradientBoostingClassifier, AdaBoostRegressor\n",
    "from sklearn.neighbors import KNeighborsRegressor\n",
    "from xgboost import XGBClassifier, XGBRegressor \n",
    "from sklearn.model_selection import KFold, cross_val_score, train_test_split\n",
    "\n",
    "# Scalers\n",
    "from sklearn.preprocessing import StandardScaler\n",
    "\n",
    "# Evaluation\n",
    "from sklearn.metrics import silhouette_score\n",
    "from sklearn.metrics import mean_squared_error\n",
    "from sklearn.metrics import r2_score\n",
    "from sklearn.metrics import accuracy_score\n",
    "\n",
    "# find the best combination of model hyperparameters\n",
    "from sklearn.model_selection import GridSearchCV, RandomizedSearchCV\n",
    "from sklearn.model_selection import cross_val_score, cross_validate\n",
    "\n",
    "# Getting Password,Username, Account\n",
    "import getpass\n",
    "\n",
    "# ignore warnings\n",
    "import warnings\n",
    "warnings.filterwarnings('ignore')"
   ]
  },
  {
   "cell_type": "code",
   "execution_count": 2,
   "metadata": {},
   "outputs": [],
   "source": [
    "# Get account credentials from a json file\n",
    "with open(\"account.json\") as f:\n",
    "    data = json.load(f)\n",
    "    username = data[\"username\"]\n",
    "    password = data[\"password\"]\n",
    "    account = data[\"account\"]\n",
    "\n",
    "# Specify connection parameters\n",
    "connection_parameters = {\n",
    "    \"account\": account,\n",
    "    \"user\": username,\n",
    "    \"password\": password,\n",
    "    #\"role\": \"ACCOUNTADMIN\",\n",
    "    #\"warehouse\": \"tasty_ds_wh\",\n",
    "    #\"database\": \"frostbyte_tasty_bytes\",\n",
    "    #\"schema\": \"analytics\",\n",
    "}\n",
    "\n",
    "# Create Snowpark session\n",
    "session = Session.builder.configs(connection_parameters).create()"
   ]
  },
  {
   "attachments": {},
   "cell_type": "markdown",
   "metadata": {},
   "source": [
    "## 1. Loading of Datasets <a id=\"part1\"></a>"
   ]
  },
  {
   "cell_type": "code",
   "execution_count": 3,
   "metadata": {},
   "outputs": [],
   "source": [
    "order_header_df = session.table(\"NGEE_ANN_POLYTECHNIC_FROSTBYTE_DATA_SHARE.raw_pos.order_header\")\n",
    "customer_df = session.table(\"NGEE_ANN_POLYTECHNIC_FROSTBYTE_DATA_SHARE.raw_customer.customer_loyalty\")\n",
    "location_df = location_df = session.table(\"NGEE_ANN_POLYTECHNIC_FROSTBYTE_DATA_SHARE.raw_pos.location\")"
   ]
  },
  {
   "cell_type": "code",
   "execution_count": 4,
   "metadata": {},
   "outputs": [
    {
     "name": "stdout",
     "output_type": "stream",
     "text": [
      "-----------------------------------------------------------------------------------------------------------------------------------------------------------------------------------------------------------------------------------------------------------------------------------------\n",
      "|\"ORDER_ID\"  |\"TRUCK_ID\"  |\"LOCATION_ID\"  |\"CUSTOMER_ID\"  |\"DISCOUNT_ID\"  |\"SHIFT_ID\"  |\"SHIFT_START_TIME\"  |\"SHIFT_END_TIME\"  |\"ORDER_CHANNEL\"  |\"ORDER_TS\"           |\"SERVED_TS\"  |\"ORDER_CURRENCY\"  |\"ORDER_AMOUNT\"  |\"ORDER_TAX_AMOUNT\"  |\"ORDER_DISCOUNT_AMOUNT\"  |\"ORDER_TOTAL\"  |\n",
      "-----------------------------------------------------------------------------------------------------------------------------------------------------------------------------------------------------------------------------------------------------------------------------------------\n",
      "|82686170    |239         |6185.0         |NULL           |NULL           |232187      |15:30:00            |22:30:00          |NULL             |2021-04-15 18:47:34  |NULL         |USD               |32.0000         |NULL                |NULL                     |32.0000        |\n",
      "|82686171    |239         |6185.0         |NULL           |NULL           |232187      |15:30:00            |22:30:00          |NULL             |2021-04-15 18:47:36  |NULL         |USD               |32.0000         |NULL                |NULL                     |32.0000        |\n",
      "|82686172    |239         |6185.0         |NULL           |NULL           |232187      |15:30:00            |22:30:00          |NULL             |2021-04-15 18:47:46  |NULL         |USD               |36.0000         |NULL                |NULL                     |36.0000        |\n",
      "|82686173    |239         |6185.0         |NULL           |NULL           |232187      |15:30:00            |22:30:00          |NULL             |2021-04-15 18:47:51  |NULL         |USD               |98.0000         |NULL                |NULL                     |98.0000        |\n",
      "|82686174    |239         |6185.0         |NULL           |NULL           |232187      |15:30:00            |22:30:00          |NULL             |2021-04-15 18:48:25  |NULL         |USD               |18.0000         |NULL                |NULL                     |18.0000        |\n",
      "|82686175    |239         |6185.0         |NULL           |NULL           |232187      |15:30:00            |22:30:00          |NULL             |2021-04-15 18:48:44  |NULL         |USD               |18.0000         |NULL                |NULL                     |18.0000        |\n",
      "|82686176    |239         |6185.0         |NULL           |NULL           |232187      |15:30:00            |22:30:00          |NULL             |2021-04-15 18:50:24  |NULL         |USD               |70.0000         |NULL                |NULL                     |70.0000        |\n",
      "|82686177    |239         |6185.0         |NULL           |NULL           |232187      |15:30:00            |22:30:00          |NULL             |2021-04-15 18:50:32  |NULL         |USD               |49.0000         |NULL                |NULL                     |49.0000        |\n",
      "|82686178    |239         |6185.0         |NULL           |NULL           |232187      |15:30:00            |22:30:00          |NULL             |2021-04-15 18:50:47  |NULL         |USD               |86.0000         |NULL                |NULL                     |86.0000        |\n",
      "|82686179    |239         |6185.0         |NULL           |NULL           |232187      |15:30:00            |22:30:00          |NULL             |2021-04-15 18:51:01  |NULL         |USD               |36.0000         |NULL                |NULL                     |36.0000        |\n",
      "-----------------------------------------------------------------------------------------------------------------------------------------------------------------------------------------------------------------------------------------------------------------------------------------\n",
      "\n"
     ]
    }
   ],
   "source": [
    "order_header_df.show()"
   ]
  },
  {
   "cell_type": "code",
   "execution_count": 5,
   "metadata": {},
   "outputs": [
    {
     "name": "stdout",
     "output_type": "stream",
     "text": [
      "---------------------------------------------------------------------------------------------------------------------------------------------------------------------------------------------------------------------------------------------------------------------------\n",
      "|\"CUSTOMER_ID\"  |\"FIRST_NAME\"  |\"LAST_NAME\"  |\"CITY\"     |\"COUNTRY\"      |\"POSTAL_CODE\"  |\"PREFERRED_LANGUAGE\"  |\"GENDER\"     |\"FAVOURITE_BRAND\"  |\"MARITAL_STATUS\"  |\"CHILDREN_COUNT\"  |\"SIGN_UP_DATE\"  |\"BIRTHDAY_DATE\"  |\"E_MAIL\"                     |\"PHONE_NUMBER\"  |\n",
      "---------------------------------------------------------------------------------------------------------------------------------------------------------------------------------------------------------------------------------------------------------------------------\n",
      "|66             |Cannon        |Waters       |Toronto    |Canada         |M4C 3M7        |English               |Male         |NULL               |Married           |4                 |2019-10-08      |1982-11-24       |Cannon.Waters@hotmail.com    |424-543-8925    |\n",
      "|118            |Donald        |Faulkner     |San Mateo  |United States  |94010          |English               |Male         |NULL               |Single            |0                 |2019-07-07      |1988-06-13       |Donald.Faulkner@hotmail.com  |080-861-2392    |\n",
      "|131            |Tate          |Tucker       |Toronto    |Canada         |M4C 1E7        |English               |Male         |NULL               |Single            |0                 |2021-05-27      |1984-12-29       |Tate.Tucker@hotmail.com      |896-393-1708    |\n",
      "|132            |Aileen        |Knapp        |Toronto    |Canada         |M4C 3J6        |English               |Male         |NULL               |Single            |0                 |2020-11-10      |1981-04-30       |Aileen.Knapp@hotmail.com     |477-406-2898    |\n",
      "|171            |Grayson       |Hayes        |Toronto    |Canada         |M4C 1E7        |English               |Male         |NULL               |Single            |0                 |2021-05-08      |1987-08-06       |Grayson.Hayes@hotmail.com    |849-485-3285    |\n",
      "|189            |Reese         |Mcfarland    |San Mateo  |United States  |94010          |English               |Undisclosed  |NULL               |Married           |1                 |2020-03-06      |1984-03-05       |Reese.Mcfarland@hotmail.com  |802-202-7275    |\n",
      "|195            |Summer        |Chung        |Toronto    |Canada         |M4C 1X6        |English               |Female       |NULL               |Single            |0                 |2021-05-13      |1987-08-17       |Summer.Chung@hotmail.com     |761-641-8122    |\n",
      "|204            |Emilio        |Lawrence     |San Mateo  |United States  |94497          |English               |Male         |NULL               |Undisclosed       |Undisclosed       |2021-10-10      |1979-06-25       |Emilio.Lawrence@hotmail.com  |693-524-2569    |\n",
      "|42             |Alexander     |Hicks        |San Mateo  |United States  |94404          |English               |Undisclosed  |NULL               |Single            |0                 |2020-07-11      |1966-06-28       |Alexander.Hicks@aol.com      |463-144-8555    |\n",
      "|59             |Ryan          |Shah         |San Mateo  |United States  |94401          |English               |Male         |NULL               |Married           |2                 |2020-12-29      |1961-06-05       |Ryan.Shah@aol.com            |679-586-9815    |\n",
      "---------------------------------------------------------------------------------------------------------------------------------------------------------------------------------------------------------------------------------------------------------------------------\n",
      "\n"
     ]
    }
   ],
   "source": [
    "customer_df.show()"
   ]
  },
  {
   "cell_type": "code",
   "execution_count": 6,
   "metadata": {},
   "outputs": [
    {
     "name": "stdout",
     "output_type": "stream",
     "text": [
      "----------------------------------------------------------------------------------------------------------------------------------\n",
      "|\"LOCATION_ID\"  |\"PLACEKEY\"           |\"LOCATION\"                       |\"CITY\"     |\"REGION\"   |\"ISO_COUNTRY_CODE\"  |\"COUNTRY\"  |\n",
      "----------------------------------------------------------------------------------------------------------------------------------\n",
      "|9927           |zzy-224@ayt-gj6-v4v  |Ulf Wardau Ballongflyg & Reklam  |Stockholm  |Stockholm  |SE                  |Sweden     |\n",
      "|12908          |zzy-22h@ayt-gjz-9s5  |Ehrenroth Kristina               |Stockholm  |Stockholm  |SE                  |Sweden     |\n",
      "|14566          |zzy-25d@ayt-gkd-7t9  |Jo Jo Production                 |Stockholm  |Stockholm  |SE                  |Sweden     |\n",
      "|6537           |zzy-222@ayt-gjz-68v  |Tanto strandbad                  |Stockholm  |Stockholm  |SE                  |Sweden     |\n",
      "|14519          |zzy-24b@ayt-gkp-kxq  |Event Opera Stockholm            |Stockholm  |Stockholm  |SE                  |Sweden     |\n",
      "|13529          |zzy-22q@ayt-gkm-c5z  |Hemtjanst Kungsholmen Norrmalm   |Stockholm  |Stockholm  |SE                  |Sweden     |\n",
      "|11925          |zzy-229@ayt-gjt-w49  |Inkassobyran Maximum             |Stockholm  |Stockholm  |SE                  |Sweden     |\n",
      "|8921           |zzy-223@ayt-gkh-jn5  |Skimra Yoga                      |Stockholm  |Stockholm  |SE                  |Sweden     |\n",
      "|11412          |zzy-227@ayt-gjt-wkz  |Karlbergs Kemtvatt & Skradderi   |Stockholm  |Stockholm  |SE                  |Sweden     |\n",
      "|13137          |zzy-22k@ayt-gjt-y7q  |Aqua Toy                         |Stockholm  |Stockholm  |SE                  |Sweden     |\n",
      "----------------------------------------------------------------------------------------------------------------------------------\n",
      "\n"
     ]
    }
   ],
   "source": [
    "location_df.show()"
   ]
  },
  {
   "attachments": {},
   "cell_type": "markdown",
   "metadata": {},
   "source": [
    "### Dropping of null values in customer id"
   ]
  },
  {
   "cell_type": "code",
   "execution_count": 7,
   "metadata": {},
   "outputs": [
    {
     "name": "stdout",
     "output_type": "stream",
     "text": [
      "-----------------------------------------------------------------------------------------------------------------------------------------------------------------------------------------------------------------------------------------------------------------------------------------\n",
      "|\"ORDER_ID\"  |\"TRUCK_ID\"  |\"LOCATION_ID\"  |\"CUSTOMER_ID\"  |\"DISCOUNT_ID\"  |\"SHIFT_ID\"  |\"SHIFT_START_TIME\"  |\"SHIFT_END_TIME\"  |\"ORDER_CHANNEL\"  |\"ORDER_TS\"           |\"SERVED_TS\"  |\"ORDER_CURRENCY\"  |\"ORDER_AMOUNT\"  |\"ORDER_TAX_AMOUNT\"  |\"ORDER_DISCOUNT_AMOUNT\"  |\"ORDER_TOTAL\"  |\n",
      "-----------------------------------------------------------------------------------------------------------------------------------------------------------------------------------------------------------------------------------------------------------------------------------------\n",
      "|82686626    |227         |6192.0         |88465          |NULL           |232188      |08:00:00            |14:00:00          |NULL             |2021-04-16 08:16:09  |NULL         |USD               |50.0000         |NULL                |NULL                     |50.0000        |\n",
      "|82686652    |227         |6192.0         |105935         |NULL           |232188      |08:00:00            |14:00:00          |NULL             |2021-04-16 08:31:21  |NULL         |USD               |48.0000         |NULL                |NULL                     |48.0000        |\n",
      "|82686659    |227         |6192.0         |173175         |NULL           |232188      |08:00:00            |14:00:00          |NULL             |2021-04-16 08:35:14  |NULL         |USD               |60.0000         |NULL                |NULL                     |60.0000        |\n",
      "|82686672    |227         |6192.0         |184114         |NULL           |232188      |08:00:00            |14:00:00          |NULL             |2021-04-16 08:42:10  |NULL         |USD               |21.0000         |NULL                |NULL                     |21.0000        |\n",
      "|82686702    |227         |6192.0         |131782         |NULL           |232188      |08:00:00            |14:00:00          |NULL             |2021-04-16 08:56:39  |NULL         |USD               |36.0000         |NULL                |NULL                     |36.0000        |\n",
      "|82686723    |227         |6192.0         |150280         |NULL           |232188      |08:00:00            |14:00:00          |NULL             |2021-04-16 09:07:59  |NULL         |USD               |90.0000         |NULL                |NULL                     |90.0000        |\n",
      "|82686729    |227         |6192.0         |170316         |NULL           |232188      |08:00:00            |14:00:00          |NULL             |2021-04-16 09:11:10  |NULL         |USD               |6.0000          |NULL                |NULL                     |6.0000         |\n",
      "|82686737    |227         |6192.0         |193200         |NULL           |232188      |08:00:00            |14:00:00          |NULL             |2021-04-16 09:14:58  |NULL         |USD               |43.0000         |NULL                |NULL                     |43.0000        |\n",
      "|82686794    |227         |6192.0         |79098          |NULL           |232188      |08:00:00            |14:00:00          |NULL             |2021-04-16 09:46:29  |NULL         |USD               |65.0000         |NULL                |NULL                     |65.0000        |\n",
      "|82686815    |227         |6192.0         |83620          |NULL           |232188      |08:00:00            |14:00:00          |NULL             |2021-04-16 09:55:41  |NULL         |USD               |99.0000         |NULL                |NULL                     |99.0000        |\n",
      "-----------------------------------------------------------------------------------------------------------------------------------------------------------------------------------------------------------------------------------------------------------------------------------------\n",
      "\n"
     ]
    }
   ],
   "source": [
    "order_header_df = order_header_df.na.drop(subset=\"CUSTOMER_ID\")\n",
    "order_header_df.show()"
   ]
  },
  {
   "attachments": {},
   "cell_type": "markdown",
   "metadata": {},
   "source": [
    "## 2. Data Preparation <a id=\"part2\"></a>"
   ]
  },
  {
   "attachments": {},
   "cell_type": "markdown",
   "metadata": {},
   "source": [
    "### 2.1 Create dataframe <a id=\"part2-1\"></a>\n",
    "As mentioned earlier, our group will be focusing on the customers based in the US. Hence, we will need to filter the customer data to US. We are also doing basic data preparation to prepare our datasets so far for subsequent steps. "
   ]
  },
  {
   "cell_type": "code",
   "execution_count": 8,
   "metadata": {},
   "outputs": [
    {
     "name": "stdout",
     "output_type": "stream",
     "text": [
      "-----------------------------------------------------------------------------------------------------------------------------------------------------------------------------------------------------------------------------------------------------------------------------\n",
      "|\"CUSTOMER_ID\"  |\"FIRST_NAME\"  |\"LAST_NAME\"  |\"CITY\"     |\"COUNTRY\"      |\"POSTAL_CODE\"  |\"PREFERRED_LANGUAGE\"  |\"GENDER\"     |\"FAVOURITE_BRAND\"  |\"MARITAL_STATUS\"    |\"CHILDREN_COUNT\"  |\"SIGN_UP_DATE\"  |\"BIRTHDAY_DATE\"  |\"E_MAIL\"                     |\"PHONE_NUMBER\"  |\n",
      "-----------------------------------------------------------------------------------------------------------------------------------------------------------------------------------------------------------------------------------------------------------------------------\n",
      "|118            |Donald        |Faulkner     |San Mateo  |United States  |94010          |English               |Male         |NULL               |Single              |0                 |2019-07-07      |1988-06-13       |Donald.Faulkner@hotmail.com  |080-861-2392    |\n",
      "|189            |Reese         |Mcfarland    |San Mateo  |United States  |94010          |English               |Undisclosed  |NULL               |Married             |1                 |2020-03-06      |1984-03-05       |Reese.Mcfarland@hotmail.com  |802-202-7275    |\n",
      "|204            |Emilio        |Lawrence     |San Mateo  |United States  |94497          |English               |Male         |NULL               |Undisclosed         |Undisclosed       |2021-10-10      |1979-06-25       |Emilio.Lawrence@hotmail.com  |693-524-2569    |\n",
      "|42             |Alexander     |Hicks        |San Mateo  |United States  |94404          |English               |Undisclosed  |NULL               |Single              |0                 |2020-07-11      |1966-06-28       |Alexander.Hicks@aol.com      |463-144-8555    |\n",
      "|59             |Ryan          |Shah         |San Mateo  |United States  |94401          |English               |Male         |NULL               |Married             |2                 |2020-12-29      |1961-06-05       |Ryan.Shah@aol.com            |679-586-9815    |\n",
      "|65             |Nathen        |Werner       |San Mateo  |United States  |94010          |English               |Male         |NULL               |Divorced/Seperated  |5+                |2020-11-05      |1958-09-01       |Nathen.Werner@aol.com        |926-969-1551    |\n",
      "|106            |Camilla       |Harding      |San Mateo  |United States  |94404          |English               |Female       |NULL               |Single              |0                 |2021-06-28      |1967-05-10       |Camilla.Harding@aol.com      |366-365-2520    |\n",
      "|219            |Scarlett      |Zavala       |San Mateo  |United States  |94403          |English               |Undisclosed  |NULL               |Married             |2                 |2021-01-22      |1965-12-19       |Scarlett.Zavala@aol.com      |447-385-8243    |\n",
      "|222            |Olive         |Powell       |San Mateo  |United States  |94404          |English               |Female       |NULL               |Single              |0                 |2021-03-21      |1965-07-06       |Olive.Powell@aol.com         |983-128-2475    |\n",
      "|22             |Rayne         |Sanchez      |San Mateo  |United States  |94401          |English               |Male         |NULL               |Married             |4                 |2021-04-22      |1949-01-12       |Rayne.Sanchez@ymail.com      |621-054-0251    |\n",
      "-----------------------------------------------------------------------------------------------------------------------------------------------------------------------------------------------------------------------------------------------------------------------------\n",
      "\n"
     ]
    }
   ],
   "source": [
    "# Filtering of customer dataset to only US\n",
    "us_customer_df = customer_df.filter(F.col(\"COUNTRY\")==\"United States\")\n",
    "us_customer_df.show()"
   ]
  },
  {
   "cell_type": "code",
   "execution_count": 9,
   "metadata": {},
   "outputs": [
    {
     "name": "stdout",
     "output_type": "stream",
     "text": [
      "------------------------------------------------------------------------------------------------------------------------------------------------------------------------------------------------------------------------------------------------------------------------------------------------------------\n",
      "|\"ORDER_ID\"  |\"TRUCK_ID\"  |\"LOCATION_ID\"  |\"CUSTOMER_ID\"  |\"DISCOUNT_ID\"  |\"SHIFT_ID\"  |\"SHIFT_START_TIME\"  |\"SHIFT_END_TIME\"  |\"ORDER_CHANNEL\"  |\"ORDER_TS\"           |\"SERVED_TS\"  |\"ORDER_CURRENCY\"  |\"ORDER_AMOUNT\"  |\"ORDER_TAX_AMOUNT\"  |\"ORDER_DISCOUNT_AMOUNT\"  |\"ORDER_TOTAL\"  |\"CUSTOMER_ID_US\"  |\n",
      "------------------------------------------------------------------------------------------------------------------------------------------------------------------------------------------------------------------------------------------------------------------------------------------------------------\n",
      "|451449961   |17          |1789.0         |194230         |NULL           |200540458   |08:00:00            |14:00:00          |NULL             |2022-04-01 11:34:38  |NULL         |USD               |6.0000          |NULL                |NULL                     |6.0000         |194230            |\n",
      "|451449972   |17          |1789.0         |131954         |NULL           |200540458   |08:00:00            |14:00:00          |NULL             |2022-04-01 11:48:30  |NULL         |USD               |27.0000         |NULL                |NULL                     |27.0000        |131954            |\n",
      "|451450013   |17          |1789.0         |125737         |NULL           |200540458   |08:00:00            |14:00:00          |NULL             |2022-04-01 12:52:11  |NULL         |USD               |42.0000         |NULL                |NULL                     |42.0000        |125737            |\n",
      "|451450086   |17          |14926.0        |95405          |NULL           |200540459   |15:00:00            |22:00:00          |NULL             |2022-04-01 17:17:42  |NULL         |USD               |87.0000         |NULL                |NULL                     |87.0000        |95405             |\n",
      "|451450198   |17          |14926.0        |40098          |NULL           |200540459   |15:00:00            |22:00:00          |NULL             |2022-04-01 20:03:25  |NULL         |USD               |33.0000         |NULL                |NULL                     |33.0000        |40098             |\n",
      "|451450243   |17          |14926.0        |172108         |NULL           |200540459   |15:00:00            |22:00:00          |NULL             |2022-04-01 21:37:14  |NULL         |USD               |56.0000         |NULL                |NULL                     |56.0000        |172108            |\n",
      "|451450270   |18          |3081.0         |49775          |NULL           |200540460   |08:00:00            |14:00:00          |NULL             |2022-04-01 08:33:28  |NULL         |USD               |12.5000         |NULL                |NULL                     |12.5000        |49775             |\n",
      "|451450279   |18          |3081.0         |124416         |NULL           |200540460   |08:00:00            |14:00:00          |NULL             |2022-04-01 08:48:45  |NULL         |USD               |41.5000         |NULL                |NULL                     |41.5000        |124416            |\n",
      "|451450315   |18          |3081.0         |85597          |NULL           |200540460   |08:00:00            |14:00:00          |NULL             |2022-04-01 09:29:50  |NULL         |USD               |58.5000         |NULL                |NULL                     |58.5000        |85597             |\n",
      "|451450317   |18          |3081.0         |51847          |NULL           |200540460   |08:00:00            |14:00:00          |NULL             |2022-04-01 09:31:28  |NULL         |USD               |70.5000         |NULL                |NULL                     |70.5000        |51847             |\n",
      "------------------------------------------------------------------------------------------------------------------------------------------------------------------------------------------------------------------------------------------------------------------------------------------------------------\n",
      "\n"
     ]
    }
   ],
   "source": [
    "# After filtering of customer dataset to only US, we will be filtering and looking at the orders \n",
    "# based on these customers only\n",
    "\n",
    "\n",
    "customer_US = us_customer_df.select(F.col(\"CUSTOMER_ID\"))\n",
    "order_header_df = order_header_df.join(customer_US, order_header_df.CUSTOMER_ID == customer_US.CUSTOMER_ID, lsuffix = \"\", rsuffix = \"_US\")\n",
    "order_header_df.show()"
   ]
  },
  {
   "attachments": {},
   "cell_type": "markdown",
   "metadata": {},
   "source": [
    "### 2.2 Null Value Treatment for us_customer_df <a id=\"part2-2\"></a>\n",
    "After creating of the relevant data frames that we need, we will need to do null value treatment to further prepare our dataset for modelling. However, based on the data exploration done previously, we realised that the columns that contains null value will not be affecting the clustering of the model. Hence, we will drop the columns. "
   ]
  },
  {
   "cell_type": "code",
   "execution_count": 10,
   "metadata": {},
   "outputs": [
    {
     "name": "stdout",
     "output_type": "stream",
     "text": [
      "['CITY', 'COUNTRY', 'PREFERRED_LANGUAGE', 'GENDER', 'MARITAL_STATUS', 'CHILDREN_COUNT']\n"
     ]
    }
   ],
   "source": [
    "# Drop irrelevant columns that will not be affecting the clustering of model and/or are all null\n",
    "us_customer_df = us_customer_df.drop([\"FIRST_NAME\", \"LAST_NAME\", \"FAVOURITE_BRAND\", \"E_MAIL\", \"PHONE_NUMBER\", \"POSTAL_CODE\"])\n",
    "\n",
    "# Update categorical columns list\n",
    "cat_cols = [c.name for c in us_customer_df.schema.fields if type(c.datatype) == T.StringType]\n",
    "print(cat_cols)"
   ]
  },
  {
   "cell_type": "code",
   "execution_count": 11,
   "metadata": {},
   "outputs": [
    {
     "name": "stdout",
     "output_type": "stream",
     "text": [
      "CITY: 0.0\n",
      "COUNTRY: 0.0\n",
      "PREFERRED_LANGUAGE: 0.0\n",
      "GENDER: 0.0\n",
      "MARITAL_STATUS: 0.0\n",
      "CHILDREN_COUNT: 0.0\n"
     ]
    }
   ],
   "source": [
    "# Missing value percentage\n",
    "for i in cat_cols:\n",
    "    print(i + \":\", (us_customer_df.count() - us_customer_df.na.drop(subset = i).count())/us_customer_df.count())"
   ]
  },
  {
   "attachments": {},
   "cell_type": "markdown",
   "metadata": {},
   "source": [
    "### 2.3 Replacing values <a id=\"part2-3\"></a>"
   ]
  },
  {
   "cell_type": "code",
   "execution_count": 12,
   "metadata": {},
   "outputs": [
    {
     "data": {
      "text/plain": [
       "{'CITY': '[\\n  \"San Mateo\",\\n  \"New York City\",\\n  \"Boston\",\\n  \"Denver\",\\n  \"Seattle\"\\n]',\n",
       " 'COUNTRY': '[\\n  \"United States\"\\n]',\n",
       " 'PREFERRED_LANGUAGE': '[\\n  \"English\"\\n]',\n",
       " 'GENDER': '[\\n  \"Male\",\\n  \"Undisclosed\",\\n  \"Female\"\\n]',\n",
       " 'MARITAL_STATUS': '[\\n  \"Single\",\\n  \"Married\",\\n  \"Undisclosed\",\\n  \"Divorced/Seperated\"\\n]',\n",
       " 'CHILDREN_COUNT': '[\\n  \"0\",\\n  \"1\",\\n  \"Undisclosed\",\\n  \"2\",\\n  \"4\",\\n  \"5+\",\\n  \"3\"\\n]'}"
      ]
     },
     "execution_count": 12,
     "metadata": {},
     "output_type": "execute_result"
    }
   ],
   "source": [
    "# Update categorical columns list\n",
    "cat_cols = [c.name for c in us_customer_df.schema.fields if type(c.datatype) == T.StringType]\n",
    "\n",
    "# Distinct values in each column\n",
    "dist_vals = us_customer_df.select([F.array_agg(col, is_distinct=True).as_(col) for col in cat_cols]).collect()[0].as_dict()\n",
    "dist_vals"
   ]
  },
  {
   "attachments": {},
   "cell_type": "markdown",
   "metadata": {},
   "source": [
    "Based on the above code, we can drop \"COUNTRY\" and \"PREFERRED_LANGAUGE\" as they contain the same value. "
   ]
  },
  {
   "cell_type": "code",
   "execution_count": 13,
   "metadata": {},
   "outputs": [],
   "source": [
    "# Drop \"COUNTRY\" and \"PREFERRED_LANGAUGE\"\n",
    "us_customer_df = us_customer_df.drop([\"COUNTRY\", \"PREFERRED_LANGUAGE\"])"
   ]
  },
  {
   "attachments": {},
   "cell_type": "markdown",
   "metadata": {},
   "source": [
    "#### Replace 'Undisclosed' in CHILDREN_COUNT\n",
    "Since most of the other values in CHILDREN_COUNT is an integer, let's replace the values 'Undisclosed' and '5+'. This would help in the encoding portion."
   ]
  },
  {
   "cell_type": "code",
   "execution_count": 14,
   "metadata": {},
   "outputs": [],
   "source": [
    "us_customer_df = us_customer_df.withColumn(\"CHILDREN_COUNT\", F.iff(F.col(\"CHILDREN_COUNT\") == \"Undisclosed\", \"0\", F.col(\"CHILDREN_COUNT\")))"
   ]
  },
  {
   "attachments": {},
   "cell_type": "markdown",
   "metadata": {},
   "source": [
    "We are replacing the \"Undisclosed\" values in the children count column with '0' because we don't have information about the number of children for those customers. Since the children count column represents the count of children a customer has, it doesn't make sense to keep the \"Undisclosed\" as a value. We are assuming that customers with \"Undisclosed\" values in the children count column have no children. We are not replacing or dropping them because it wouldn't make sense to encode those values, and dropping the rows would result in significant data loss."
   ]
  },
  {
   "cell_type": "code",
   "execution_count": 15,
   "metadata": {},
   "outputs": [],
   "source": [
    "us_customer_df = us_customer_df.withColumn(\"CHILDREN_COUNT\", F.iff(F.col(\"CHILDREN_COUNT\")== \"5+\", \"5\", F.col(\"CHILDREN_COUNT\")))"
   ]
  },
  {
   "attachments": {},
   "cell_type": "markdown",
   "metadata": {},
   "source": [
    "By replacing the \"5+\" values with '5', we are making a reasonable assumption to simplify the data and create a more consistent representation of the children count. This simplification allows for easier analysis and modeling while still capturing the general information about customers with a larger number of children.\n",
    "\n",
    "Now that all the values in \"CHILDREN_COUNT\" is an integer, we will convert the column to integer."
   ]
  },
  {
   "cell_type": "code",
   "execution_count": 16,
   "metadata": {},
   "outputs": [],
   "source": [
    "# Convert \"CHILDREN_COUNT\" to integer\n",
    "us_customer_df = us_customer_df.withColumn(\"CHILDREN_COUNT\", F.col(\"CHILDREN_COUNT\").cast(\"int\"))"
   ]
  },
  {
   "attachments": {},
   "cell_type": "markdown",
   "metadata": {},
   "source": [
    "### 2.4 Categorical encoding for us_customer_df <a id=\"part2-4\"></a>\n",
    "Categorical encoding is needed as machine learning models are not able to handle categorical variables. "
   ]
  },
  {
   "cell_type": "code",
   "execution_count": 17,
   "metadata": {},
   "outputs": [
    {
     "data": {
      "text/plain": [
       "{'CITY': '[\\n  \"San Mateo\",\\n  \"New York City\",\\n  \"Boston\",\\n  \"Denver\",\\n  \"Seattle\"\\n]',\n",
       " 'GENDER': '[\\n  \"Male\",\\n  \"Undisclosed\",\\n  \"Female\"\\n]',\n",
       " 'MARITAL_STATUS': '[\\n  \"Single\",\\n  \"Married\",\\n  \"Undisclosed\",\\n  \"Divorced/Seperated\"\\n]'}"
      ]
     },
     "execution_count": 17,
     "metadata": {},
     "output_type": "execute_result"
    }
   ],
   "source": [
    "# Update categorical columns list\n",
    "cat_cols = [c.name for c in us_customer_df.schema.fields if type(c.datatype) == T.StringType]\n",
    "\n",
    "# Distinct values in each column\n",
    "dist_vals = us_customer_df.select([F.array_agg(col, is_distinct=True).as_(col) for col in cat_cols]).collect()[0].as_dict()\n",
    "dist_vals"
   ]
  },
  {
   "attachments": {},
   "cell_type": "markdown",
   "metadata": {},
   "source": [
    "We will use categorical encoding to ensure that all the data are in numerical format. “CITY”, “GENDER” and “MARITAL_STATUS” in the customer dataset will be encoded."
   ]
  },
  {
   "cell_type": "code",
   "execution_count": 18,
   "metadata": {},
   "outputs": [],
   "source": [
    "# city [Frequency Encoding]\n",
    "us_customer_df.group_by(\"CITY\").agg(F.count(\"CUSTOMER_ID\").alias(\"CID\"))\n",
    "freq_enc = us_customer_df.groupBy(\"CITY\").agg(F.count(\"CUSTOMER_ID\").alias(\"city_frequency\"))\n",
    "    # join the encoded column back to the original DataFrame\n",
    "us_customer_df = us_customer_df.join(freq_enc, us_customer_df.CITY == freq_enc.CITY, lsuffix = \"\", rsuffix = \"_FREQ_ENC\")"
   ]
  },
  {
   "cell_type": "code",
   "execution_count": null,
   "metadata": {},
   "outputs": [],
   "source": []
  }
 ],
 "metadata": {
  "kernelspec": {
   "display_name": "pysnowpark",
   "language": "python",
   "name": "python3"
  },
  "language_info": {
   "codemirror_mode": {
    "name": "ipython",
    "version": 3
   },
   "file_extension": ".py",
   "mimetype": "text/x-python",
   "name": "python",
   "nbconvert_exporter": "python",
   "pygments_lexer": "ipython3",
   "version": "3.8.16"
  },
  "orig_nbformat": 4
 },
 "nbformat": 4,
 "nbformat_minor": 2
}
