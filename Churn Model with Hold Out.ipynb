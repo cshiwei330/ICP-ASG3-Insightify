{
 "cells": [
  {
   "attachments": {},
   "cell_type": "markdown",
   "metadata": {},
   "source": [
    "## Importing packages & setting up connection"
   ]
  },
  {
   "cell_type": "code",
   "execution_count": 1,
   "metadata": {},
   "outputs": [
    {
     "name": "stderr",
     "output_type": "stream",
     "text": [
      "c:\\Users\\Ernest Toh\\.conda\\envs\\pysnowpark\\lib\\site-packages\\xgboost\\compat.py:36: FutureWarning: pandas.Int64Index is deprecated and will be removed from pandas in a future version. Use pandas.Index with the appropriate dtype instead.\n",
      "  from pandas import MultiIndex, Int64Index\n"
     ]
    }
   ],
   "source": [
    "# Import Python packages\n",
    "import pandas as pd\n",
    "import numpy as np\n",
    "from matplotlib import pyplot as plt\n",
    "import json\n",
    "import sys\n",
    "import cachetools\n",
    "from datetime import datetime\n",
    "from datetime import date\n",
    "import seaborn as sns\n",
    "import math\n",
    "from scipy import stats\n",
    "import statsmodels.api as sm\n",
    "\n",
    "# Import Snowflake modules\n",
    "from snowflake.snowpark import Session\n",
    "import snowflake.snowpark.functions as F\n",
    "import snowflake.snowpark.types as T\n",
    "from snowflake.snowpark import Window\n",
    "from snowflake.snowpark.functions import col\n",
    "\n",
    "# Clustering & Model\n",
    "from sklearn.cluster import KMeans\n",
    "from sklearn.linear_model import LogisticRegression, LinearRegression\n",
    "from sklearn import tree\n",
    "from sklearn.tree import DecisionTreeClassifier\n",
    "from sklearn.neural_network import MLPClassifier\n",
    "from sklearn.svm import SVC, SVR\n",
    "from sklearn. ensemble import RandomForestClassifier, BaggingClassifier, AdaBoostClassifier, ExtraTreesClassifier, RandomForestRegressor, ExtraTreesRegressor, BaggingRegressor, GradientBoostingClassifier, AdaBoostRegressor\n",
    "from sklearn.neighbors import KNeighborsRegressor\n",
    "from xgboost import XGBClassifier, XGBRegressor \n",
    "from sklearn.model_selection import KFold, cross_val_score, train_test_split\n",
    "\n",
    "# Scalers\n",
    "from sklearn.preprocessing import StandardScaler\n",
    "\n",
    "# Evaluation\n",
    "from sklearn.metrics import silhouette_score\n",
    "from sklearn.metrics import mean_squared_error\n",
    "from sklearn.metrics import r2_score\n",
    "from sklearn.metrics import accuracy_score\n",
    "\n",
    "# find the best combination of model hyperparameters\n",
    "from sklearn.model_selection import GridSearchCV, RandomizedSearchCV\n",
    "from sklearn.model_selection import cross_val_score, cross_validate\n",
    "\n",
    "# Getting Password,Username, Account\n",
    "import getpass\n",
    "\n",
    "# ignore warnings\n",
    "import warnings\n",
    "warnings.filterwarnings('ignore')"
   ]
  },
  {
   "cell_type": "code",
   "execution_count": 2,
   "metadata": {},
   "outputs": [],
   "source": [
    "# Get account credentials from a json file\n",
    "with open(\"account.json\") as f:\n",
    "    data = json.load(f)\n",
    "    username = data[\"username\"]\n",
    "    password = data[\"password\"]\n",
    "    account = data[\"account\"]\n",
    "\n",
    "# Specify connection parameters\n",
    "connection_parameters = {\n",
    "    \"account\": account,\n",
    "    \"user\": username,\n",
    "    \"password\": password,\n",
    "    #\"role\": \"ACCOUNTADMIN\",\n",
    "    #\"warehouse\": \"tasty_ds_wh\",\n",
    "    #\"database\": \"frostbyte_tasty_bytes\",\n",
    "    #\"schema\": \"analytics\",\n",
    "}\n",
    "\n",
    "# Create Snowpark session\n",
    "session = Session.builder.configs(connection_parameters).create()"
   ]
  },
  {
   "attachments": {},
   "cell_type": "markdown",
   "metadata": {},
   "source": [
    "## 1. Loading of Datasets <a id=\"part1\"></a>"
   ]
  },
  {
   "cell_type": "code",
   "execution_count": 3,
   "metadata": {},
   "outputs": [],
   "source": [
    "order_header_df = session.table(\"NGEE_ANN_POLYTECHNIC_FROSTBYTE_DATA_SHARE.raw_pos.order_header\")\n",
    "customer_df = session.table(\"NGEE_ANN_POLYTECHNIC_FROSTBYTE_DATA_SHARE.raw_customer.customer_loyalty\")\n",
    "location_df = location_df = session.table(\"NGEE_ANN_POLYTECHNIC_FROSTBYTE_DATA_SHARE.raw_pos.location\")"
   ]
  },
  {
   "cell_type": "code",
   "execution_count": 4,
   "metadata": {},
   "outputs": [
    {
     "name": "stdout",
     "output_type": "stream",
     "text": [
      "-----------------------------------------------------------------------------------------------------------------------------------------------------------------------------------------------------------------------------------------------------------------------------------------\n",
      "|\"ORDER_ID\"  |\"TRUCK_ID\"  |\"LOCATION_ID\"  |\"CUSTOMER_ID\"  |\"DISCOUNT_ID\"  |\"SHIFT_ID\"  |\"SHIFT_START_TIME\"  |\"SHIFT_END_TIME\"  |\"ORDER_CHANNEL\"  |\"ORDER_TS\"           |\"SERVED_TS\"  |\"ORDER_CURRENCY\"  |\"ORDER_AMOUNT\"  |\"ORDER_TAX_AMOUNT\"  |\"ORDER_DISCOUNT_AMOUNT\"  |\"ORDER_TOTAL\"  |\n",
      "-----------------------------------------------------------------------------------------------------------------------------------------------------------------------------------------------------------------------------------------------------------------------------------------\n",
      "|22477378    |97          |3713.0         |NULL           |NULL           |78881       |16:00:00            |23:00:00          |NULL             |2020-04-19 17:06:54  |NULL         |USD               |26.0000         |NULL                |NULL                     |26.0000        |\n",
      "|22477379    |97          |3713.0         |NULL           |NULL           |78881       |16:00:00            |23:00:00          |NULL             |2020-04-19 17:07:40  |NULL         |USD               |46.0000         |NULL                |NULL                     |46.0000        |\n",
      "|22477380    |97          |3713.0         |NULL           |NULL           |78881       |16:00:00            |23:00:00          |NULL             |2020-04-19 17:07:58  |NULL         |USD               |7.0000          |NULL                |NULL                     |7.0000         |\n",
      "|22477381    |97          |3713.0         |NULL           |NULL           |78881       |16:00:00            |23:00:00          |NULL             |2020-04-19 17:09:41  |NULL         |USD               |9.0000          |NULL                |NULL                     |9.0000         |\n",
      "|22477382    |97          |3713.0         |NULL           |NULL           |78881       |16:00:00            |23:00:00          |NULL             |2020-04-19 17:10:09  |NULL         |USD               |24.0000         |NULL                |NULL                     |24.0000        |\n",
      "|22477383    |97          |3713.0         |NULL           |NULL           |78881       |16:00:00            |23:00:00          |NULL             |2020-04-19 17:14:51  |NULL         |USD               |40.0000         |NULL                |NULL                     |40.0000        |\n",
      "|22477384    |97          |3713.0         |NULL           |NULL           |78881       |16:00:00            |23:00:00          |NULL             |2020-04-19 17:17:14  |NULL         |USD               |16.0000         |NULL                |NULL                     |16.0000        |\n",
      "|22477385    |97          |3713.0         |NULL           |NULL           |78881       |16:00:00            |23:00:00          |NULL             |2020-04-19 17:18:59  |NULL         |USD               |28.0000         |NULL                |NULL                     |28.0000        |\n",
      "|22477386    |97          |3713.0         |NULL           |NULL           |78881       |16:00:00            |23:00:00          |NULL             |2020-04-19 17:23:06  |NULL         |USD               |16.0000         |NULL                |NULL                     |16.0000        |\n",
      "|22477387    |97          |3713.0         |NULL           |NULL           |78881       |16:00:00            |23:00:00          |NULL             |2020-04-19 17:26:09  |NULL         |USD               |19.0000         |NULL                |NULL                     |19.0000        |\n",
      "-----------------------------------------------------------------------------------------------------------------------------------------------------------------------------------------------------------------------------------------------------------------------------------------\n",
      "\n"
     ]
    }
   ],
   "source": [
    "order_header_df.show()"
   ]
  },
  {
   "cell_type": "code",
   "execution_count": 5,
   "metadata": {},
   "outputs": [
    {
     "name": "stdout",
     "output_type": "stream",
     "text": [
      "---------------------------------------------------------------------------------------------------------------------------------------------------------------------------------------------------------------------------------------------------------------------------\n",
      "|\"CUSTOMER_ID\"  |\"FIRST_NAME\"  |\"LAST_NAME\"  |\"CITY\"     |\"COUNTRY\"      |\"POSTAL_CODE\"  |\"PREFERRED_LANGUAGE\"  |\"GENDER\"     |\"FAVOURITE_BRAND\"  |\"MARITAL_STATUS\"  |\"CHILDREN_COUNT\"  |\"SIGN_UP_DATE\"  |\"BIRTHDAY_DATE\"  |\"E_MAIL\"                     |\"PHONE_NUMBER\"  |\n",
      "---------------------------------------------------------------------------------------------------------------------------------------------------------------------------------------------------------------------------------------------------------------------------\n",
      "|66             |Cannon        |Waters       |Toronto    |Canada         |M4C 3M7        |English               |Male         |NULL               |Married           |4                 |2019-10-08      |1982-11-24       |Cannon.Waters@hotmail.com    |424-543-8925    |\n",
      "|118            |Donald        |Faulkner     |San Mateo  |United States  |94010          |English               |Male         |NULL               |Single            |0                 |2019-07-07      |1988-06-13       |Donald.Faulkner@hotmail.com  |080-861-2392    |\n",
      "|131            |Tate          |Tucker       |Toronto    |Canada         |M4C 1E7        |English               |Male         |NULL               |Single            |0                 |2021-05-27      |1984-12-29       |Tate.Tucker@hotmail.com      |896-393-1708    |\n",
      "|132            |Aileen        |Knapp        |Toronto    |Canada         |M4C 3J6        |English               |Male         |NULL               |Single            |0                 |2020-11-10      |1981-04-30       |Aileen.Knapp@hotmail.com     |477-406-2898    |\n",
      "|171            |Grayson       |Hayes        |Toronto    |Canada         |M4C 1E7        |English               |Male         |NULL               |Single            |0                 |2021-05-08      |1987-08-06       |Grayson.Hayes@hotmail.com    |849-485-3285    |\n",
      "|189            |Reese         |Mcfarland    |San Mateo  |United States  |94010          |English               |Undisclosed  |NULL               |Married           |1                 |2020-03-06      |1984-03-05       |Reese.Mcfarland@hotmail.com  |802-202-7275    |\n",
      "|195            |Summer        |Chung        |Toronto    |Canada         |M4C 1X6        |English               |Female       |NULL               |Single            |0                 |2021-05-13      |1987-08-17       |Summer.Chung@hotmail.com     |761-641-8122    |\n",
      "|204            |Emilio        |Lawrence     |San Mateo  |United States  |94497          |English               |Male         |NULL               |Undisclosed       |Undisclosed       |2021-10-10      |1979-06-25       |Emilio.Lawrence@hotmail.com  |693-524-2569    |\n",
      "|42             |Alexander     |Hicks        |San Mateo  |United States  |94404          |English               |Undisclosed  |NULL               |Single            |0                 |2020-07-11      |1966-06-28       |Alexander.Hicks@aol.com      |463-144-8555    |\n",
      "|59             |Ryan          |Shah         |San Mateo  |United States  |94401          |English               |Male         |NULL               |Married           |2                 |2020-12-29      |1961-06-05       |Ryan.Shah@aol.com            |679-586-9815    |\n",
      "---------------------------------------------------------------------------------------------------------------------------------------------------------------------------------------------------------------------------------------------------------------------------\n",
      "\n"
     ]
    }
   ],
   "source": [
    "customer_df.show()"
   ]
  },
  {
   "cell_type": "code",
   "execution_count": 6,
   "metadata": {},
   "outputs": [
    {
     "name": "stdout",
     "output_type": "stream",
     "text": [
      "----------------------------------------------------------------------------------------------------------------------------\n",
      "|\"LOCATION_ID\"  |\"PLACEKEY\"           |\"LOCATION\"                     |\"CITY\"  |\"REGION\"  |\"ISO_COUNTRY_CODE\"  |\"COUNTRY\"  |\n",
      "----------------------------------------------------------------------------------------------------------------------------\n",
      "|13190          |zzy-22m@53g-bsm-9vf  |Sabine Weber                   |Munich  |Bayern    |DE                  |Germany    |\n",
      "|13192          |zzy-22m@53g-ddj-ndv  |getAway LiveQuest              |Munich  |Bayern    |DE                  |Germany    |\n",
      "|4883           |zzy-222@53g-brb-b8v  |Uptown                         |Munich  |Bayern    |DE                  |Germany    |\n",
      "|4994           |zzy-222@53g-df2-vs5  |SV Neu Perlach                 |Munich  |Bayern    |DE                  |Germany    |\n",
      "|4928           |zzy-222@53g-bs2-99f  |Borstei Museum                 |Munich  |Bayern    |DE                  |Germany    |\n",
      "|12851          |zzy-22h@53g-bs6-c89  |FIT STAR Pasing                |Munich  |Bayern    |DE                  |Germany    |\n",
      "|10332          |zzy-225@53g-bsq-zfz  |Thida Royal Thai Massage       |Munich  |Bayern    |DE                  |Germany    |\n",
      "|8289           |zzy-223@53g-brt-xwk  |Angel of Peace Friedensengel   |Munich  |Bayern    |DE                  |Germany    |\n",
      "|11565          |zzy-228@53g-bsk-rx5  |Yogaliebe Munchen              |Munich  |Bayern    |DE                  |Germany    |\n",
      "|8291           |zzy-223@53g-brv-4vz  |Stuck Villa Jugendstil Museum  |Munich  |Bayern    |DE                  |Germany    |\n",
      "----------------------------------------------------------------------------------------------------------------------------\n",
      "\n"
     ]
    }
   ],
   "source": [
    "location_df.show()"
   ]
  },
  {
   "attachments": {},
   "cell_type": "markdown",
   "metadata": {},
   "source": [
    "### Dropping of null values in customer id"
   ]
  },
  {
   "cell_type": "code",
   "execution_count": 7,
   "metadata": {},
   "outputs": [
    {
     "name": "stdout",
     "output_type": "stream",
     "text": [
      "-----------------------------------------------------------------------------------------------------------------------------------------------------------------------------------------------------------------------------------------------------------------------------------------\n",
      "|\"ORDER_ID\"  |\"TRUCK_ID\"  |\"LOCATION_ID\"  |\"CUSTOMER_ID\"  |\"DISCOUNT_ID\"  |\"SHIFT_ID\"  |\"SHIFT_START_TIME\"  |\"SHIFT_END_TIME\"  |\"ORDER_CHANNEL\"  |\"ORDER_TS\"           |\"SERVED_TS\"  |\"ORDER_CURRENCY\"  |\"ORDER_AMOUNT\"  |\"ORDER_TAX_AMOUNT\"  |\"ORDER_DISCOUNT_AMOUNT\"  |\"ORDER_TOTAL\"  |\n",
      "-----------------------------------------------------------------------------------------------------------------------------------------------------------------------------------------------------------------------------------------------------------------------------------------\n",
      "|22477396    |97          |3713.0         |95165          |NULL           |78881       |16:00:00            |23:00:00          |NULL             |2020-04-19 17:41:09  |NULL         |USD               |7.0000          |NULL                |NULL                     |7.0000         |\n",
      "|22477412    |97          |3713.0         |146981         |NULL           |78881       |16:00:00            |23:00:00          |NULL             |2020-04-19 18:02:22  |NULL         |USD               |42.0000         |NULL                |NULL                     |42.0000        |\n",
      "|22477417    |97          |3713.0         |112241         |NULL           |78881       |16:00:00            |23:00:00          |NULL             |2020-04-19 18:07:39  |NULL         |USD               |50.0000         |NULL                |NULL                     |50.0000        |\n",
      "|22477440    |97          |3713.0         |74142          |NULL           |78881       |16:00:00            |23:00:00          |NULL             |2020-04-19 18:55:27  |NULL         |USD               |31.0000         |NULL                |NULL                     |31.0000        |\n",
      "|22477441    |97          |3713.0         |196106         |NULL           |78881       |16:00:00            |23:00:00          |NULL             |2020-04-19 18:55:31  |NULL         |USD               |90.0000         |NULL                |NULL                     |90.0000        |\n",
      "|22477443    |97          |3713.0         |98913          |NULL           |78881       |16:00:00            |23:00:00          |NULL             |2020-04-19 18:55:50  |NULL         |USD               |25.0000         |NULL                |NULL                     |25.0000        |\n",
      "|22477472    |97          |3713.0         |163337         |NULL           |78881       |16:00:00            |23:00:00          |NULL             |2020-04-19 19:28:23  |NULL         |USD               |29.0000         |NULL                |NULL                     |29.0000        |\n",
      "|22477478    |97          |3713.0         |111889         |NULL           |78881       |16:00:00            |23:00:00          |NULL             |2020-04-19 19:35:33  |NULL         |USD               |19.0000         |NULL                |NULL                     |19.0000        |\n",
      "|22477486    |97          |3713.0         |176436         |NULL           |78881       |16:00:00            |23:00:00          |NULL             |2020-04-19 19:45:20  |NULL         |USD               |75.0000         |NULL                |NULL                     |75.0000        |\n",
      "|22477495    |97          |3713.0         |54158          |NULL           |78881       |16:00:00            |23:00:00          |NULL             |2020-04-19 19:55:10  |NULL         |USD               |24.0000         |NULL                |NULL                     |24.0000        |\n",
      "-----------------------------------------------------------------------------------------------------------------------------------------------------------------------------------------------------------------------------------------------------------------------------------------\n",
      "\n"
     ]
    }
   ],
   "source": [
    "order_header_df = order_header_df.na.drop(subset=\"CUSTOMER_ID\")\n",
    "order_header_df.show()"
   ]
  },
  {
   "attachments": {},
   "cell_type": "markdown",
   "metadata": {},
   "source": [
    "## 2. Data Preparation <a id=\"part2\"></a>"
   ]
  },
  {
   "attachments": {},
   "cell_type": "markdown",
   "metadata": {},
   "source": [
    "### 2.1 Create dataframe <a id=\"part2-1\"></a>\n",
    "As mentioned earlier, our group will be focusing on the customers based in the US. Hence, we will need to filter the customer data to US. We are also doing basic data preparation to prepare our datasets so far for subsequent steps. "
   ]
  },
  {
   "cell_type": "code",
   "execution_count": 8,
   "metadata": {},
   "outputs": [
    {
     "name": "stdout",
     "output_type": "stream",
     "text": [
      "-----------------------------------------------------------------------------------------------------------------------------------------------------------------------------------------------------------------------------------------------------------------------------\n",
      "|\"CUSTOMER_ID\"  |\"FIRST_NAME\"  |\"LAST_NAME\"  |\"CITY\"     |\"COUNTRY\"      |\"POSTAL_CODE\"  |\"PREFERRED_LANGUAGE\"  |\"GENDER\"     |\"FAVOURITE_BRAND\"  |\"MARITAL_STATUS\"    |\"CHILDREN_COUNT\"  |\"SIGN_UP_DATE\"  |\"BIRTHDAY_DATE\"  |\"E_MAIL\"                     |\"PHONE_NUMBER\"  |\n",
      "-----------------------------------------------------------------------------------------------------------------------------------------------------------------------------------------------------------------------------------------------------------------------------\n",
      "|118            |Donald        |Faulkner     |San Mateo  |United States  |94010          |English               |Male         |NULL               |Single              |0                 |2019-07-07      |1988-06-13       |Donald.Faulkner@hotmail.com  |080-861-2392    |\n",
      "|189            |Reese         |Mcfarland    |San Mateo  |United States  |94010          |English               |Undisclosed  |NULL               |Married             |1                 |2020-03-06      |1984-03-05       |Reese.Mcfarland@hotmail.com  |802-202-7275    |\n",
      "|204            |Emilio        |Lawrence     |San Mateo  |United States  |94497          |English               |Male         |NULL               |Undisclosed         |Undisclosed       |2021-10-10      |1979-06-25       |Emilio.Lawrence@hotmail.com  |693-524-2569    |\n",
      "|42             |Alexander     |Hicks        |San Mateo  |United States  |94404          |English               |Undisclosed  |NULL               |Single              |0                 |2020-07-11      |1966-06-28       |Alexander.Hicks@aol.com      |463-144-8555    |\n",
      "|59             |Ryan          |Shah         |San Mateo  |United States  |94401          |English               |Male         |NULL               |Married             |2                 |2020-12-29      |1961-06-05       |Ryan.Shah@aol.com            |679-586-9815    |\n",
      "|65             |Nathen        |Werner       |San Mateo  |United States  |94010          |English               |Male         |NULL               |Divorced/Seperated  |5+                |2020-11-05      |1958-09-01       |Nathen.Werner@aol.com        |926-969-1551    |\n",
      "|106            |Camilla       |Harding      |San Mateo  |United States  |94404          |English               |Female       |NULL               |Single              |0                 |2021-06-28      |1967-05-10       |Camilla.Harding@aol.com      |366-365-2520    |\n",
      "|219            |Scarlett      |Zavala       |San Mateo  |United States  |94403          |English               |Undisclosed  |NULL               |Married             |2                 |2021-01-22      |1965-12-19       |Scarlett.Zavala@aol.com      |447-385-8243    |\n",
      "|222            |Olive         |Powell       |San Mateo  |United States  |94404          |English               |Female       |NULL               |Single              |0                 |2021-03-21      |1965-07-06       |Olive.Powell@aol.com         |983-128-2475    |\n",
      "|22             |Rayne         |Sanchez      |San Mateo  |United States  |94401          |English               |Male         |NULL               |Married             |4                 |2021-04-22      |1949-01-12       |Rayne.Sanchez@ymail.com      |621-054-0251    |\n",
      "-----------------------------------------------------------------------------------------------------------------------------------------------------------------------------------------------------------------------------------------------------------------------------\n",
      "\n"
     ]
    }
   ],
   "source": [
    "# Filtering of customer dataset to only US\n",
    "us_customer_df = customer_df.filter(F.col(\"COUNTRY\")==\"United States\")\n",
    "us_customer_df.show()"
   ]
  },
  {
   "cell_type": "code",
   "execution_count": 9,
   "metadata": {},
   "outputs": [
    {
     "name": "stdout",
     "output_type": "stream",
     "text": [
      "------------------------------------------------------------------------------------------------------------------------------------------------------------------------------------------------------------------------------------------------------------------------------------------------------------\n",
      "|\"ORDER_ID\"  |\"TRUCK_ID\"  |\"LOCATION_ID\"  |\"CUSTOMER_ID\"  |\"DISCOUNT_ID\"  |\"SHIFT_ID\"  |\"SHIFT_START_TIME\"  |\"SHIFT_END_TIME\"  |\"ORDER_CHANNEL\"  |\"ORDER_TS\"           |\"SERVED_TS\"  |\"ORDER_CURRENCY\"  |\"ORDER_AMOUNT\"  |\"ORDER_TAX_AMOUNT\"  |\"ORDER_DISCOUNT_AMOUNT\"  |\"ORDER_TOTAL\"  |\"CUSTOMER_ID_US\"  |\n",
      "------------------------------------------------------------------------------------------------------------------------------------------------------------------------------------------------------------------------------------------------------------------------------------------------------------\n",
      "|451449961   |17          |1789.0         |194230         |NULL           |200540458   |08:00:00            |14:00:00          |NULL             |2022-04-01 11:34:38  |NULL         |USD               |6.0000          |NULL                |NULL                     |6.0000         |194230            |\n",
      "|451449972   |17          |1789.0         |131954         |NULL           |200540458   |08:00:00            |14:00:00          |NULL             |2022-04-01 11:48:30  |NULL         |USD               |27.0000         |NULL                |NULL                     |27.0000        |131954            |\n",
      "|451450013   |17          |1789.0         |125737         |NULL           |200540458   |08:00:00            |14:00:00          |NULL             |2022-04-01 12:52:11  |NULL         |USD               |42.0000         |NULL                |NULL                     |42.0000        |125737            |\n",
      "|451450086   |17          |14926.0        |95405          |NULL           |200540459   |15:00:00            |22:00:00          |NULL             |2022-04-01 17:17:42  |NULL         |USD               |87.0000         |NULL                |NULL                     |87.0000        |95405             |\n",
      "|451450198   |17          |14926.0        |40098          |NULL           |200540459   |15:00:00            |22:00:00          |NULL             |2022-04-01 20:03:25  |NULL         |USD               |33.0000         |NULL                |NULL                     |33.0000        |40098             |\n",
      "|451450243   |17          |14926.0        |172108         |NULL           |200540459   |15:00:00            |22:00:00          |NULL             |2022-04-01 21:37:14  |NULL         |USD               |56.0000         |NULL                |NULL                     |56.0000        |172108            |\n",
      "|451450270   |18          |3081.0         |49775          |NULL           |200540460   |08:00:00            |14:00:00          |NULL             |2022-04-01 08:33:28  |NULL         |USD               |12.5000         |NULL                |NULL                     |12.5000        |49775             |\n",
      "|451450279   |18          |3081.0         |124416         |NULL           |200540460   |08:00:00            |14:00:00          |NULL             |2022-04-01 08:48:45  |NULL         |USD               |41.5000         |NULL                |NULL                     |41.5000        |124416            |\n",
      "|451450315   |18          |3081.0         |85597          |NULL           |200540460   |08:00:00            |14:00:00          |NULL             |2022-04-01 09:29:50  |NULL         |USD               |58.5000         |NULL                |NULL                     |58.5000        |85597             |\n",
      "|451450317   |18          |3081.0         |51847          |NULL           |200540460   |08:00:00            |14:00:00          |NULL             |2022-04-01 09:31:28  |NULL         |USD               |70.5000         |NULL                |NULL                     |70.5000        |51847             |\n",
      "------------------------------------------------------------------------------------------------------------------------------------------------------------------------------------------------------------------------------------------------------------------------------------------------------------\n",
      "\n"
     ]
    }
   ],
   "source": [
    "# After filtering of customer dataset to only US, we will be filtering and looking at the orders \n",
    "# based on these customers only\n",
    "\n",
    "customer_US = us_customer_df.select(F.col(\"CUSTOMER_ID\"))\n",
    "order_header_df = order_header_df.join(customer_US, order_header_df.CUSTOMER_ID == customer_US.CUSTOMER_ID, lsuffix = \"\", rsuffix = \"_US\")\n",
    "order_header_df.show()"
   ]
  },
  {
   "attachments": {},
   "cell_type": "markdown",
   "metadata": {},
   "source": [
    "### 2.2 Null Value Treatment for us_customer_df <a id=\"part2-2\"></a>\n",
    "After creating of the relevant data frames that we need, we will need to do null value treatment to further prepare our dataset for modelling. However, based on the data exploration done previously, we realised that the columns that contains null value will not be affecting the clustering of the model. Hence, we will drop the columns. "
   ]
  },
  {
   "cell_type": "code",
   "execution_count": 10,
   "metadata": {},
   "outputs": [
    {
     "name": "stdout",
     "output_type": "stream",
     "text": [
      "['CITY', 'COUNTRY', 'PREFERRED_LANGUAGE', 'GENDER', 'MARITAL_STATUS', 'CHILDREN_COUNT']\n"
     ]
    }
   ],
   "source": [
    "# Drop irrelevant columns that will not be affecting the clustering of model and/or are all null\n",
    "# us_customer_df = us_customer_df.drop([\"FIRST_NAME\", \"LAST_NAME\", \"FAVOURITE_BRAND\", \"E_MAIL\", \"PHONE_NUMBER\", \"POSTAL_CODE\"])\n",
    "\n",
    "# Update categorical columns list\n",
    "# cat_cols = [c.name for c in us_customer_df.schema.fields if type(c.datatype) == T.StringType]\n",
    "# print(cat_cols)"
   ]
  },
  {
   "cell_type": "code",
   "execution_count": 11,
   "metadata": {},
   "outputs": [
    {
     "name": "stdout",
     "output_type": "stream",
     "text": [
      "CITY: 0.0\n",
      "COUNTRY: 0.0\n",
      "PREFERRED_LANGUAGE: 0.0\n",
      "GENDER: 0.0\n",
      "MARITAL_STATUS: 0.0\n",
      "CHILDREN_COUNT: 0.0\n"
     ]
    }
   ],
   "source": [
    "# Missing value percentage\n",
    "# for i in cat_cols:\n",
    "    # print(i + \":\", (us_customer_df.count() - us_customer_df.na.drop(subset = i).count())/us_customer_df.count())"
   ]
  },
  {
   "attachments": {},
   "cell_type": "markdown",
   "metadata": {},
   "source": [
    "### 2.3 Replacing values <a id=\"part2-3\"></a>"
   ]
  },
  {
   "cell_type": "code",
   "execution_count": 12,
   "metadata": {},
   "outputs": [
    {
     "data": {
      "text/plain": [
       "{'CITY': '[\\n  \"San Mateo\",\\n  \"New York City\",\\n  \"Boston\",\\n  \"Denver\",\\n  \"Seattle\"\\n]',\n",
       " 'COUNTRY': '[\\n  \"United States\"\\n]',\n",
       " 'PREFERRED_LANGUAGE': '[\\n  \"English\"\\n]',\n",
       " 'GENDER': '[\\n  \"Male\",\\n  \"Undisclosed\",\\n  \"Female\"\\n]',\n",
       " 'MARITAL_STATUS': '[\\n  \"Single\",\\n  \"Married\",\\n  \"Undisclosed\",\\n  \"Divorced/Seperated\"\\n]',\n",
       " 'CHILDREN_COUNT': '[\\n  \"0\",\\n  \"1\",\\n  \"Undisclosed\",\\n  \"2\",\\n  \"4\",\\n  \"5+\",\\n  \"3\"\\n]'}"
      ]
     },
     "execution_count": 12,
     "metadata": {},
     "output_type": "execute_result"
    }
   ],
   "source": [
    "# Update categorical columns list\n",
    "# cat_cols = [c.name for c in us_customer_df.schema.fields if type(c.datatype) == T.StringType]\n",
    "\n",
    "# Distinct values in each column\n",
    "# dist_vals = us_customer_df.select([F.array_agg(col, is_distinct=True).as_(col) for col in cat_cols]).collect()[0].as_dict()\n",
    "# dist_vals"
   ]
  },
  {
   "attachments": {},
   "cell_type": "markdown",
   "metadata": {},
   "source": [
    "Based on the above code, we can drop \"COUNTRY\" and \"PREFERRED_LANGAUGE\" as they contain the same value. "
   ]
  },
  {
   "cell_type": "code",
   "execution_count": 13,
   "metadata": {},
   "outputs": [],
   "source": [
    "# Drop \"COUNTRY\" and \"PREFERRED_LANGAUGE\"\n",
    "# us_customer_df = us_customer_df.drop([\"COUNTRY\", \"PREFERRED_LANGUAGE\"])"
   ]
  },
  {
   "attachments": {},
   "cell_type": "markdown",
   "metadata": {},
   "source": [
    "#### Replace 'Undisclosed' in CHILDREN_COUNT\n",
    "Since most of the other values in CHILDREN_COUNT is an integer, let's replace the values 'Undisclosed' and '5+'. This would help in the encoding portion."
   ]
  },
  {
   "cell_type": "code",
   "execution_count": 14,
   "metadata": {},
   "outputs": [],
   "source": [
    "# us_customer_df = us_customer_df.withColumn(\"CHILDREN_COUNT\", F.iff(F.col(\"CHILDREN_COUNT\") == \"Undisclosed\", \"0\", F.col(\"CHILDREN_COUNT\")))"
   ]
  },
  {
   "attachments": {},
   "cell_type": "markdown",
   "metadata": {},
   "source": [
    "We are replacing the \"Undisclosed\" values in the children count column with '0' because we don't have information about the number of children for those customers. Since the children count column represents the count of children a customer has, it doesn't make sense to keep the \"Undisclosed\" as a value. We are assuming that customers with \"Undisclosed\" values in the children count column have no children. We are not replacing or dropping them because it wouldn't make sense to encode those values, and dropping the rows would result in significant data loss."
   ]
  },
  {
   "cell_type": "code",
   "execution_count": 15,
   "metadata": {},
   "outputs": [],
   "source": [
    "# us_customer_df = us_customer_df.withColumn(\"CHILDREN_COUNT\", F.iff(F.col(\"CHILDREN_COUNT\")== \"5+\", \"5\", F.col(\"CHILDREN_COUNT\")))"
   ]
  },
  {
   "attachments": {},
   "cell_type": "markdown",
   "metadata": {},
   "source": [
    "By replacing the \"5+\" values with '5', we are making a reasonable assumption to simplify the data and create a more consistent representation of the children count. This simplification allows for easier analysis and modeling while still capturing the general information about customers with a larger number of children.\n",
    "\n",
    "Now that all the values in \"CHILDREN_COUNT\" is an integer, we will convert the column to integer."
   ]
  },
  {
   "cell_type": "code",
   "execution_count": 16,
   "metadata": {},
   "outputs": [],
   "source": [
    "# Convert \"CHILDREN_COUNT\" to integer\n",
    "# us_customer_df = us_customer_df.withColumn(\"CHILDREN_COUNT\", F.col(\"CHILDREN_COUNT\").cast(\"int\"))"
   ]
  },
  {
   "attachments": {},
   "cell_type": "markdown",
   "metadata": {},
   "source": [
    "### 2.4 Categorical encoding for us_customer_df <a id=\"part2-4\"></a>\n",
    "Categorical encoding is needed as machine learning models are not able to handle categorical variables. "
   ]
  },
  {
   "cell_type": "code",
   "execution_count": 17,
   "metadata": {},
   "outputs": [
    {
     "data": {
      "text/plain": [
       "{'CITY': '[\\n  \"San Mateo\",\\n  \"New York City\",\\n  \"Boston\",\\n  \"Denver\",\\n  \"Seattle\"\\n]',\n",
       " 'GENDER': '[\\n  \"Male\",\\n  \"Undisclosed\",\\n  \"Female\"\\n]',\n",
       " 'MARITAL_STATUS': '[\\n  \"Single\",\\n  \"Married\",\\n  \"Undisclosed\",\\n  \"Divorced/Seperated\"\\n]'}"
      ]
     },
     "execution_count": 17,
     "metadata": {},
     "output_type": "execute_result"
    }
   ],
   "source": [
    "# Update categorical columns list\n",
    "# cat_cols = [c.name for c in us_customer_df.schema.fields if type(c.datatype) == T.StringType]\n",
    "\n",
    "# Distinct values in each column\n",
    "# dist_vals = us_customer_df.select([F.array_agg(col, is_distinct=True).as_(col) for col in cat_cols]).collect()[0].as_dict()\n",
    "# dist_vals"
   ]
  },
  {
   "attachments": {},
   "cell_type": "markdown",
   "metadata": {},
   "source": [
    "We will use categorical encoding to ensure that all the data are in numerical format. “CITY”, “GENDER” and “MARITAL_STATUS” in the customer dataset will be encoded."
   ]
  },
  {
   "cell_type": "code",
   "execution_count": 18,
   "metadata": {},
   "outputs": [],
   "source": [
    "# city [Frequency Encoding]\n",
    "# us_customer_df.group_by(\"CITY\").agg(F.count(\"CUSTOMER_ID\").alias(\"CID\"))\n",
    "# freq_enc = us_customer_df.groupBy(\"CITY\").agg(F.count(\"CUSTOMER_ID\").alias(\"city_frequency\"))\n",
    "    # join the encoded column back to the original DataFrame\n",
    "# us_customer_df = us_customer_df.join(freq_enc, us_customer_df.CITY == freq_enc.CITY, lsuffix = \"\", rsuffix = \"_FREQ_ENC\")"
   ]
  },
  {
   "attachments": {},
   "cell_type": "markdown",
   "metadata": {},
   "source": [
    "Using frequency encoding for \"CITY\" can help to retain valuable information such as the distribution of each city in the dataset.\n",
    "\n",
    "Label encoding will be applied to “GENDER” and “MARITAL_STATUS”. "
   ]
  },
  {
   "cell_type": "code",
   "execution_count": 19,
   "metadata": {},
   "outputs": [],
   "source": [
    "# Gender [Label Encoding]\n",
    "#  Male -> 0\n",
    "#  Female -> 1\n",
    "#  Undisclosed -> 2\n",
    "\n",
    "# us_customer_df = us_customer_df.withColumn(\"Gender\", F.when(us_customer_df[\"GENDER\"] == \"Male\", \"0\")\n",
    "                                             # .when(us_customer_df[\"GENDER\"] == \"Female\", \"1\").otherwise(\"2\"))"
   ]
  },
  {
   "cell_type": "code",
   "execution_count": 20,
   "metadata": {},
   "outputs": [],
   "source": [
    "# Marital status [Label Encoding]\n",
    "#  Married -> 0 \n",
    "#  Single -> 1\n",
    "#  Divorced/seperated -> 2 \n",
    "#  Undisclosed -> 3\n",
    "\n",
    "# us_customer_df = us_customer_df.withColumn(\n",
    "    # \"MARITAL_STATUS\",\n",
    "    # F.when(us_customer_df[\"MARITAL_STATUS\"] == \"Married\", \"0\")\n",
    "    # .when(us_customer_df[\"MARITAL_STATUS\"] == \"Single\", \"1\")\n",
    "    # .when(us_customer_df[\"MARITAL_STATUS\"] == \"Divorced/Seperated\", \"2\")\n",
    "    # .otherwise(\"3\")\n",
    "# )"
   ]
  },
  {
   "cell_type": "code",
   "execution_count": 21,
   "metadata": {},
   "outputs": [
    {
     "name": "stdout",
     "output_type": "stream",
     "text": [
      "------------------------------------------------------------------------------------------------------------------------------------------------------------------------------------------------------------------------------------------------------------------------------------------------------------\n",
      "|\"ORDER_ID\"  |\"TRUCK_ID\"  |\"LOCATION_ID\"  |\"CUSTOMER_ID\"  |\"DISCOUNT_ID\"  |\"SHIFT_ID\"  |\"SHIFT_START_TIME\"  |\"SHIFT_END_TIME\"  |\"ORDER_CHANNEL\"  |\"ORDER_TS\"           |\"SERVED_TS\"  |\"ORDER_CURRENCY\"  |\"ORDER_AMOUNT\"  |\"ORDER_TAX_AMOUNT\"  |\"ORDER_DISCOUNT_AMOUNT\"  |\"ORDER_TOTAL\"  |\"CUSTOMER_ID_US\"  |\n",
      "------------------------------------------------------------------------------------------------------------------------------------------------------------------------------------------------------------------------------------------------------------------------------------------------------------\n",
      "|451449961   |17          |1789.0         |194230         |NULL           |200540458   |08:00:00            |14:00:00          |NULL             |2022-04-01 11:34:38  |NULL         |USD               |6.0000          |NULL                |NULL                     |6.0000         |194230            |\n",
      "|451449972   |17          |1789.0         |131954         |NULL           |200540458   |08:00:00            |14:00:00          |NULL             |2022-04-01 11:48:30  |NULL         |USD               |27.0000         |NULL                |NULL                     |27.0000        |131954            |\n",
      "|451450013   |17          |1789.0         |125737         |NULL           |200540458   |08:00:00            |14:00:00          |NULL             |2022-04-01 12:52:11  |NULL         |USD               |42.0000         |NULL                |NULL                     |42.0000        |125737            |\n",
      "|451450086   |17          |14926.0        |95405          |NULL           |200540459   |15:00:00            |22:00:00          |NULL             |2022-04-01 17:17:42  |NULL         |USD               |87.0000         |NULL                |NULL                     |87.0000        |95405             |\n",
      "|451450198   |17          |14926.0        |40098          |NULL           |200540459   |15:00:00            |22:00:00          |NULL             |2022-04-01 20:03:25  |NULL         |USD               |33.0000         |NULL                |NULL                     |33.0000        |40098             |\n",
      "|451450243   |17          |14926.0        |172108         |NULL           |200540459   |15:00:00            |22:00:00          |NULL             |2022-04-01 21:37:14  |NULL         |USD               |56.0000         |NULL                |NULL                     |56.0000        |172108            |\n",
      "|451450270   |18          |3081.0         |49775          |NULL           |200540460   |08:00:00            |14:00:00          |NULL             |2022-04-01 08:33:28  |NULL         |USD               |12.5000         |NULL                |NULL                     |12.5000        |49775             |\n",
      "|451450279   |18          |3081.0         |124416         |NULL           |200540460   |08:00:00            |14:00:00          |NULL             |2022-04-01 08:48:45  |NULL         |USD               |41.5000         |NULL                |NULL                     |41.5000        |124416            |\n",
      "|451450315   |18          |3081.0         |85597          |NULL           |200540460   |08:00:00            |14:00:00          |NULL             |2022-04-01 09:29:50  |NULL         |USD               |58.5000         |NULL                |NULL                     |58.5000        |85597             |\n",
      "|451450317   |18          |3081.0         |51847          |NULL           |200540460   |08:00:00            |14:00:00          |NULL             |2022-04-01 09:31:28  |NULL         |USD               |70.5000         |NULL                |NULL                     |70.5000        |51847             |\n",
      "------------------------------------------------------------------------------------------------------------------------------------------------------------------------------------------------------------------------------------------------------------------------------------------------------------\n",
      "\n"
     ]
    }
   ],
   "source": [
    "order_header_df.show()"
   ]
  },
  {
   "attachments": {},
   "cell_type": "markdown",
   "metadata": {},
   "source": [
    "Start"
   ]
  },
  {
   "cell_type": "code",
   "execution_count": 22,
   "metadata": {
    "vscode": {
     "languageId": "sql"
    }
   },
   "outputs": [],
   "source": [
    "# getting last order date\n",
    "lastest_transaction = order_header_df.agg(F.max(\"ORDER_TS\").alias(\"LAST_ORDER_TS\")).collect()[0][0]\n",
    "order_header_df = order_header_df.withColumn(\"LAST_DATE\", F.iff(F.col(\"CUSTOMER_ID\") == F.col(\"CUSTOMER_ID\"), lastest_transaction, lastest_transaction))"
   ]
  },
  {
   "cell_type": "code",
   "execution_count": 23,
   "metadata": {},
   "outputs": [],
   "source": [
    "# getting date for two weeks before last transaction date provided\n",
    "order_header_df = order_header_df.withColumn(\"two_weeks_before\", F.date_sub(\"LAST_DATE\", 14))"
   ]
  },
  {
   "cell_type": "code",
   "execution_count": 24,
   "metadata": {},
   "outputs": [
    {
     "name": "stdout",
     "output_type": "stream",
     "text": [
      "--------------------------------------------------------------------------------------------------------------------------------------------------------------------------------------------------------------------------------------------------------------------------------------------------------------------------------------------------------\n",
      "|\"ORDER_ID\"  |\"TRUCK_ID\"  |\"LOCATION_ID\"  |\"CUSTOMER_ID\"  |\"DISCOUNT_ID\"  |\"SHIFT_ID\"  |\"SHIFT_START_TIME\"  |\"SHIFT_END_TIME\"  |\"ORDER_CHANNEL\"  |\"ORDER_TS\"           |\"SERVED_TS\"  |\"ORDER_CURRENCY\"  |\"ORDER_AMOUNT\"  |\"ORDER_TAX_AMOUNT\"  |\"ORDER_DISCOUNT_AMOUNT\"  |\"ORDER_TOTAL\"  |\"CUSTOMER_ID_US\"  |\"LAST_DATE\"          |\"TWO_WEEKS_BEFORE\"   |\n",
      "--------------------------------------------------------------------------------------------------------------------------------------------------------------------------------------------------------------------------------------------------------------------------------------------------------------------------------------------------------\n",
      "|451449961   |17          |1789.0         |194230         |NULL           |200540458   |08:00:00            |14:00:00          |NULL             |2022-04-01 11:34:38  |NULL         |USD               |6.0000          |NULL                |NULL                     |6.0000         |194230            |2022-11-01 22:58:56  |2022-10-18 22:58:56  |\n",
      "|451449972   |17          |1789.0         |131954         |NULL           |200540458   |08:00:00            |14:00:00          |NULL             |2022-04-01 11:48:30  |NULL         |USD               |27.0000         |NULL                |NULL                     |27.0000        |131954            |2022-11-01 22:58:56  |2022-10-18 22:58:56  |\n",
      "|451450013   |17          |1789.0         |125737         |NULL           |200540458   |08:00:00            |14:00:00          |NULL             |2022-04-01 12:52:11  |NULL         |USD               |42.0000         |NULL                |NULL                     |42.0000        |125737            |2022-11-01 22:58:56  |2022-10-18 22:58:56  |\n",
      "|451450086   |17          |14926.0        |95405          |NULL           |200540459   |15:00:00            |22:00:00          |NULL             |2022-04-01 17:17:42  |NULL         |USD               |87.0000         |NULL                |NULL                     |87.0000        |95405             |2022-11-01 22:58:56  |2022-10-18 22:58:56  |\n",
      "|451450198   |17          |14926.0        |40098          |NULL           |200540459   |15:00:00            |22:00:00          |NULL             |2022-04-01 20:03:25  |NULL         |USD               |33.0000         |NULL                |NULL                     |33.0000        |40098             |2022-11-01 22:58:56  |2022-10-18 22:58:56  |\n",
      "|451450243   |17          |14926.0        |172108         |NULL           |200540459   |15:00:00            |22:00:00          |NULL             |2022-04-01 21:37:14  |NULL         |USD               |56.0000         |NULL                |NULL                     |56.0000        |172108            |2022-11-01 22:58:56  |2022-10-18 22:58:56  |\n",
      "|451450270   |18          |3081.0         |49775          |NULL           |200540460   |08:00:00            |14:00:00          |NULL             |2022-04-01 08:33:28  |NULL         |USD               |12.5000         |NULL                |NULL                     |12.5000        |49775             |2022-11-01 22:58:56  |2022-10-18 22:58:56  |\n",
      "|451450279   |18          |3081.0         |124416         |NULL           |200540460   |08:00:00            |14:00:00          |NULL             |2022-04-01 08:48:45  |NULL         |USD               |41.5000         |NULL                |NULL                     |41.5000        |124416            |2022-11-01 22:58:56  |2022-10-18 22:58:56  |\n",
      "|451450315   |18          |3081.0         |85597          |NULL           |200540460   |08:00:00            |14:00:00          |NULL             |2022-04-01 09:29:50  |NULL         |USD               |58.5000         |NULL                |NULL                     |58.5000        |85597             |2022-11-01 22:58:56  |2022-10-18 22:58:56  |\n",
      "|451450317   |18          |3081.0         |51847          |NULL           |200540460   |08:00:00            |14:00:00          |NULL             |2022-04-01 09:31:28  |NULL         |USD               |70.5000         |NULL                |NULL                     |70.5000        |51847             |2022-11-01 22:58:56  |2022-10-18 22:58:56  |\n",
      "--------------------------------------------------------------------------------------------------------------------------------------------------------------------------------------------------------------------------------------------------------------------------------------------------------------------------------------------------------\n",
      "\n"
     ]
    }
   ],
   "source": [
    "order_header_df.show()"
   ]
  },
  {
   "cell_type": "code",
   "execution_count": 25,
   "metadata": {},
   "outputs": [
    {
     "name": "stdout",
     "output_type": "stream",
     "text": [
      "--------------------------------------------------------------------------------------------------------------------------------------------------------------------------------------------------------------------------------------------------------------------------------------------------------------------------------------------------------\n",
      "|\"ORDER_ID\"  |\"TRUCK_ID\"  |\"LOCATION_ID\"  |\"CUSTOMER_ID\"  |\"DISCOUNT_ID\"  |\"SHIFT_ID\"  |\"SHIFT_START_TIME\"  |\"SHIFT_END_TIME\"  |\"ORDER_CHANNEL\"  |\"ORDER_TS\"           |\"SERVED_TS\"  |\"ORDER_CURRENCY\"  |\"ORDER_AMOUNT\"  |\"ORDER_TAX_AMOUNT\"  |\"ORDER_DISCOUNT_AMOUNT\"  |\"ORDER_TOTAL\"  |\"CUSTOMER_ID_US\"  |\"LAST_DATE\"          |\"TWO_WEEKS_BEFORE\"   |\n",
      "--------------------------------------------------------------------------------------------------------------------------------------------------------------------------------------------------------------------------------------------------------------------------------------------------------------------------------------------------------\n",
      "|451449961   |17          |1789.0         |194230         |NULL           |200540458   |08:00:00            |14:00:00          |NULL             |2022-04-01 11:34:38  |NULL         |USD               |6.0000          |NULL                |NULL                     |6.0000         |194230            |2022-11-01 22:58:56  |2022-10-18 22:58:56  |\n",
      "|451449972   |17          |1789.0         |131954         |NULL           |200540458   |08:00:00            |14:00:00          |NULL             |2022-04-01 11:48:30  |NULL         |USD               |27.0000         |NULL                |NULL                     |27.0000        |131954            |2022-11-01 22:58:56  |2022-10-18 22:58:56  |\n",
      "|451450013   |17          |1789.0         |125737         |NULL           |200540458   |08:00:00            |14:00:00          |NULL             |2022-04-01 12:52:11  |NULL         |USD               |42.0000         |NULL                |NULL                     |42.0000        |125737            |2022-11-01 22:58:56  |2022-10-18 22:58:56  |\n",
      "|451450086   |17          |14926.0        |95405          |NULL           |200540459   |15:00:00            |22:00:00          |NULL             |2022-04-01 17:17:42  |NULL         |USD               |87.0000         |NULL                |NULL                     |87.0000        |95405             |2022-11-01 22:58:56  |2022-10-18 22:58:56  |\n",
      "|451450198   |17          |14926.0        |40098          |NULL           |200540459   |15:00:00            |22:00:00          |NULL             |2022-04-01 20:03:25  |NULL         |USD               |33.0000         |NULL                |NULL                     |33.0000        |40098             |2022-11-01 22:58:56  |2022-10-18 22:58:56  |\n",
      "|451450243   |17          |14926.0        |172108         |NULL           |200540459   |15:00:00            |22:00:00          |NULL             |2022-04-01 21:37:14  |NULL         |USD               |56.0000         |NULL                |NULL                     |56.0000        |172108            |2022-11-01 22:58:56  |2022-10-18 22:58:56  |\n",
      "|451450270   |18          |3081.0         |49775          |NULL           |200540460   |08:00:00            |14:00:00          |NULL             |2022-04-01 08:33:28  |NULL         |USD               |12.5000         |NULL                |NULL                     |12.5000        |49775             |2022-11-01 22:58:56  |2022-10-18 22:58:56  |\n",
      "|451450279   |18          |3081.0         |124416         |NULL           |200540460   |08:00:00            |14:00:00          |NULL             |2022-04-01 08:48:45  |NULL         |USD               |41.5000         |NULL                |NULL                     |41.5000        |124416            |2022-11-01 22:58:56  |2022-10-18 22:58:56  |\n",
      "|451450315   |18          |3081.0         |85597          |NULL           |200540460   |08:00:00            |14:00:00          |NULL             |2022-04-01 09:29:50  |NULL         |USD               |58.5000         |NULL                |NULL                     |58.5000        |85597             |2022-11-01 22:58:56  |2022-10-18 22:58:56  |\n",
      "|451450317   |18          |3081.0         |51847          |NULL           |200540460   |08:00:00            |14:00:00          |NULL             |2022-04-01 09:31:28  |NULL         |USD               |70.5000         |NULL                |NULL                     |70.5000        |51847             |2022-11-01 22:58:56  |2022-10-18 22:58:56  |\n",
      "--------------------------------------------------------------------------------------------------------------------------------------------------------------------------------------------------------------------------------------------------------------------------------------------------------------------------------------------------------\n",
      "\n"
     ]
    }
   ],
   "source": [
    "# Get data till 2 weeks before last transaction date provided\n",
    "order_df1 = order_header_df.filter(F.col(\"ORDER_TS\")<=F.col(\"TWO_WEEKS_BEFORE\"))\n",
    "order_df1.show()"
   ]
  },
  {
   "cell_type": "code",
   "execution_count": 26,
   "metadata": {},
   "outputs": [
    {
     "name": "stdout",
     "output_type": "stream",
     "text": [
      "-----------------------\n",
      "|\"MIN(ORDER_TS)\"      |\n",
      "-----------------------\n",
      "|2019-01-01 17:19:08  |\n",
      "-----------------------\n",
      "\n",
      "-----------------------\n",
      "|\"MAX(ORDER_TS)\"      |\n",
      "-----------------------\n",
      "|2022-10-18 22:56:45  |\n",
      "-----------------------\n",
      "\n"
     ]
    }
   ],
   "source": [
    "# Ensure timeframe is correct\n",
    "order_df1.agg(F.min('ORDER_TS')).show()\n",
    "order_df1.agg(F.max('ORDER_TS')).show()"
   ]
  },
  {
   "cell_type": "code",
   "execution_count": 27,
   "metadata": {},
   "outputs": [
    {
     "name": "stdout",
     "output_type": "stream",
     "text": [
      "--------------------------------------------------------------------------------------------------------------------------------------------------------------------------------------------------------------------------------------------------------------------------------------------------------------------------------------------------------\n",
      "|\"ORDER_ID\"  |\"TRUCK_ID\"  |\"LOCATION_ID\"  |\"CUSTOMER_ID\"  |\"DISCOUNT_ID\"  |\"SHIFT_ID\"  |\"SHIFT_START_TIME\"  |\"SHIFT_END_TIME\"  |\"ORDER_CHANNEL\"  |\"ORDER_TS\"           |\"SERVED_TS\"  |\"ORDER_CURRENCY\"  |\"ORDER_AMOUNT\"  |\"ORDER_TAX_AMOUNT\"  |\"ORDER_DISCOUNT_AMOUNT\"  |\"ORDER_TOTAL\"  |\"CUSTOMER_ID_US\"  |\"LAST_DATE\"          |\"TWO_WEEKS_BEFORE\"   |\n",
      "--------------------------------------------------------------------------------------------------------------------------------------------------------------------------------------------------------------------------------------------------------------------------------------------------------------------------------------------------------\n",
      "|456237000   |31          |8409.0         |126027         |NULL           |200564946   |09:00:00            |15:00:00          |NULL             |2022-10-19 09:18:56  |NULL         |USD               |13.0000         |NULL                |NULL                     |13.0000        |126027            |2022-11-01 22:58:56  |2022-10-18 22:58:56  |\n",
      "|456237015   |31          |8409.0         |98910          |NULL           |200564946   |09:00:00            |15:00:00          |NULL             |2022-10-19 09:42:07  |NULL         |USD               |16.0000         |NULL                |NULL                     |16.0000        |98910             |2022-11-01 22:58:56  |2022-10-18 22:58:56  |\n",
      "|456237038   |31          |8409.0         |192028         |NULL           |200564946   |09:00:00            |15:00:00          |NULL             |2022-10-19 10:49:28  |NULL         |USD               |16.0000         |NULL                |NULL                     |16.0000        |192028            |2022-11-01 22:58:56  |2022-10-18 22:58:56  |\n",
      "|456237070   |31          |8409.0         |86746          |NULL           |200564946   |09:00:00            |15:00:00          |NULL             |2022-10-19 11:46:19  |NULL         |USD               |10.0000         |NULL                |NULL                     |10.0000        |86746             |2022-11-01 22:58:56  |2022-10-18 22:58:56  |\n",
      "|456237140   |31          |8409.0         |135913         |NULL           |200564946   |09:00:00            |15:00:00          |NULL             |2022-10-19 13:19:40  |NULL         |USD               |12.0000         |NULL                |NULL                     |12.0000        |135913            |2022-11-01 22:58:56  |2022-10-18 22:58:56  |\n",
      "|456237143   |31          |8409.0         |135647         |NULL           |200564946   |09:00:00            |15:00:00          |NULL             |2022-10-19 13:22:05  |NULL         |USD               |31.5000         |NULL                |NULL                     |31.5000        |135647            |2022-11-01 22:58:56  |2022-10-18 22:58:56  |\n",
      "|456237156   |31          |8409.0         |178544         |NULL           |200564946   |09:00:00            |15:00:00          |NULL             |2022-10-19 13:34:30  |NULL         |USD               |3.0000          |NULL                |NULL                     |3.0000         |178544            |2022-11-01 22:58:56  |2022-10-18 22:58:56  |\n",
      "|456237201   |31          |15470.0        |87142          |NULL           |200564947   |16:00:00            |23:00:00          |NULL             |2022-10-19 17:05:15  |NULL         |USD               |47.5000         |NULL                |NULL                     |47.5000        |87142             |2022-11-01 22:58:56  |2022-10-18 22:58:56  |\n",
      "|456237210   |31          |15470.0        |145508         |NULL           |200564947   |16:00:00            |23:00:00          |NULL             |2022-10-19 17:22:55  |NULL         |USD               |22.0000         |NULL                |NULL                     |22.0000        |145508            |2022-11-01 22:58:56  |2022-10-18 22:58:56  |\n",
      "|456237220   |31          |15470.0        |82572          |NULL           |200564947   |16:00:00            |23:00:00          |NULL             |2022-10-19 17:41:36  |NULL         |USD               |13.0000         |NULL                |NULL                     |13.0000        |82572             |2022-11-01 22:58:56  |2022-10-18 22:58:56  |\n",
      "--------------------------------------------------------------------------------------------------------------------------------------------------------------------------------------------------------------------------------------------------------------------------------------------------------------------------------------------------------\n",
      "\n"
     ]
    }
   ],
   "source": [
    "# Get last 2 weeks before last transaction date provided\n",
    "order_df2 = order_header_df.filter(F.col(\"ORDER_TS\")>F.col(\"TWO_WEEKS_BEFORE\"))\n",
    "order_df2.show()"
   ]
  },
  {
   "cell_type": "code",
   "execution_count": 28,
   "metadata": {},
   "outputs": [
    {
     "name": "stdout",
     "output_type": "stream",
     "text": [
      "-----------------------\n",
      "|\"MIN(ORDER_TS)\"      |\n",
      "-----------------------\n",
      "|2022-10-19 08:00:15  |\n",
      "-----------------------\n",
      "\n",
      "-----------------------\n",
      "|\"MAX(ORDER_TS)\"      |\n",
      "-----------------------\n",
      "|2022-11-01 22:58:56  |\n",
      "-----------------------\n",
      "\n"
     ]
    }
   ],
   "source": [
    "# Ensure timeframe is correct\n",
    "order_df2.agg(F.min('ORDER_TS')).show()\n",
    "order_df2.agg(F.max('ORDER_TS')).show()"
   ]
  },
  {
   "cell_type": "code",
   "execution_count": 29,
   "metadata": {},
   "outputs": [
    {
     "name": "stdout",
     "output_type": "stream",
     "text": [
      "---------------------------------------\n",
      "|\"CUSTOMER_ID\"  |\"LAST_ORDER_TS\"      |\n",
      "---------------------------------------\n",
      "|32738          |2022-10-16 11:31:08  |\n",
      "|47471          |2022-10-13 18:30:29  |\n",
      "|187244         |2022-10-12 20:59:10  |\n",
      "|20772          |2022-10-16 20:58:09  |\n",
      "|182214         |2022-10-09 15:47:55  |\n",
      "|16019          |2022-10-15 15:39:14  |\n",
      "|136529         |2022-09-17 12:13:34  |\n",
      "|190059         |2022-10-06 18:08:05  |\n",
      "|149166         |2022-10-15 09:43:44  |\n",
      "|71370          |2022-10-06 19:28:07  |\n",
      "---------------------------------------\n",
      "\n"
     ]
    }
   ],
   "source": [
    "# getting the latest purchase date for each customer in df1\n",
    "customer_last_order_timestamp_df1 = order_df1.groupBy(\"CUSTOMER_ID\").agg(F.max(\"ORDER_TS\").alias(\"LAST_ORDER_TS\"))\n",
    "customer_last_order_timestamp_df1.show()"
   ]
  },
  {
   "cell_type": "code",
   "execution_count": 30,
   "metadata": {},
   "outputs": [
    {
     "name": "stdout",
     "output_type": "stream",
     "text": [
      "-------------------------------------------------------------\n",
      "|\"CUSTOMER_ID\"  |\"LAST_ORDER_TS\"      |\"LAST_TRANS\"         |\n",
      "-------------------------------------------------------------\n",
      "|79393          |2022-10-11 12:29:02  |2022-10-18 22:56:45  |\n",
      "|97467          |2022-10-10 19:35:25  |2022-10-18 22:56:45  |\n",
      "|133167         |2022-10-14 09:12:50  |2022-10-18 22:56:45  |\n",
      "|136558         |2022-10-06 09:52:47  |2022-10-18 22:56:45  |\n",
      "|116361         |2022-10-11 08:38:17  |2022-10-18 22:56:45  |\n",
      "|184615         |2022-10-15 16:26:00  |2022-10-18 22:56:45  |\n",
      "|173763         |2022-10-15 13:43:25  |2022-10-18 22:56:45  |\n",
      "|69193          |2022-10-04 20:49:39  |2022-10-18 22:56:45  |\n",
      "|62668          |2022-10-18 17:12:18  |2022-10-18 22:56:45  |\n",
      "|100201         |2022-10-11 20:12:32  |2022-10-18 22:56:45  |\n",
      "-------------------------------------------------------------\n",
      "\n"
     ]
    }
   ],
   "source": [
    "# getting last order date\n",
    "lastest_transaction_df1 = order_df1.agg(F.max(\"ORDER_TS\").alias(\"LAST_ORDER_TS\")).collect()[0][0]\n",
    "customer_last_order_timestamp_df1 = customer_last_order_timestamp_df1.withColumn(\"LAST_TRANS\", F.iff(F.col(\"CUSTOMER_ID\") == F.col(\"CUSTOMER_ID\"), lastest_transaction_df1, lastest_transaction_df1))\n",
    "customer_last_order_timestamp_df1.show()"
   ]
  },
  {
   "cell_type": "code",
   "execution_count": 31,
   "metadata": {},
   "outputs": [
    {
     "name": "stdout",
     "output_type": "stream",
     "text": [
      "--------------------------------------------------------------------------\n",
      "|\"CUSTOMER_ID\"  |\"LAST_ORDER_TS\"      |\"LAST_TRANS\"         |\"DAYS_DF1\"  |\n",
      "--------------------------------------------------------------------------\n",
      "|124359         |2022-10-15 21:14:26  |2022-10-18 22:56:45  |3           |\n",
      "|26903          |2022-09-27 19:40:31  |2022-10-18 22:56:45  |21          |\n",
      "|184652         |2022-09-19 14:15:24  |2022-10-18 22:56:45  |29          |\n",
      "|168228         |2022-10-08 13:29:44  |2022-10-18 22:56:45  |10          |\n",
      "|188230         |2022-10-18 22:00:13  |2022-10-18 22:56:45  |0           |\n",
      "|118953         |2022-10-15 19:01:22  |2022-10-18 22:56:45  |3           |\n",
      "|112770         |2022-10-10 14:32:51  |2022-10-18 22:56:45  |8           |\n",
      "|165951         |2022-09-22 11:03:39  |2022-10-18 22:56:45  |26          |\n",
      "|187488         |2022-10-11 09:32:07  |2022-10-18 22:56:45  |7           |\n",
      "|12820          |2022-10-13 12:59:55  |2022-10-18 22:56:45  |5           |\n",
      "--------------------------------------------------------------------------\n",
      "\n"
     ]
    }
   ],
   "source": [
    "# getting the date diff from customer last order to the date 2 weeks before the latest provided transaction date in df1\n",
    "customer_last_order_timestamp_df1 = customer_last_order_timestamp_df1.withColumn(\"days_df1\", F.datediff(\"day\", customer_last_order_timestamp_df1[\"LAST_ORDER_TS\"], customer_last_order_timestamp_df1[\"LAST_TRANS\"]))\n",
    "customer_last_order_timestamp_df1.show()"
   ]
  },
  {
   "cell_type": "code",
   "execution_count": 32,
   "metadata": {},
   "outputs": [
    {
     "name": "stdout",
     "output_type": "stream",
     "text": [
      "---------------------------------------\n",
      "|\"CUSTOMER_ID\"  |\"FIRST_ORDER_TS\"     |\n",
      "---------------------------------------\n",
      "|184287         |2022-10-19 08:00:15  |\n",
      "|42060          |2022-10-19 08:00:46  |\n",
      "|196281         |2022-10-19 08:00:59  |\n",
      "|127806         |2022-10-19 08:01:29  |\n",
      "|170016         |2022-10-19 08:01:47  |\n",
      "|64450          |2022-10-19 08:01:53  |\n",
      "|191049         |2022-10-19 08:01:59  |\n",
      "|118969         |2022-10-19 08:02:19  |\n",
      "|192268         |2022-10-19 08:04:20  |\n",
      "|95980          |2022-10-19 08:04:33  |\n",
      "---------------------------------------\n",
      "\n"
     ]
    }
   ],
   "source": [
    "# getting the earliest purchase date for each customer in df2\n",
    "customer_first_order_timestamp_df2 = order_df2.groupBy(\"CUSTOMER_ID\").agg(F.min(\"ORDER_TS\").alias(\"FIRST_ORDER_TS\"))\n",
    "customer_first_order_timestamp_df2 = customer_first_order_timestamp_df2.sort(col(\"FIRST_ORDER_TS\"))\n",
    "customer_first_order_timestamp_df2.show()"
   ]
  },
  {
   "cell_type": "code",
   "execution_count": 33,
   "metadata": {},
   "outputs": [
    {
     "name": "stdout",
     "output_type": "stream",
     "text": [
      "-------------------------------------------------------------\n",
      "|\"CUSTOMER_ID\"  |\"FIRST_ORDER_TS\"     |\"FIRST_TRANS\"        |\n",
      "-------------------------------------------------------------\n",
      "|184287         |2022-10-19 08:00:15  |2022-10-19 08:00:15  |\n",
      "|42060          |2022-10-19 08:00:46  |2022-10-19 08:00:15  |\n",
      "|196281         |2022-10-19 08:00:59  |2022-10-19 08:00:15  |\n",
      "|127806         |2022-10-19 08:01:29  |2022-10-19 08:00:15  |\n",
      "|170016         |2022-10-19 08:01:47  |2022-10-19 08:00:15  |\n",
      "|64450          |2022-10-19 08:01:53  |2022-10-19 08:00:15  |\n",
      "|191049         |2022-10-19 08:01:59  |2022-10-19 08:00:15  |\n",
      "|118969         |2022-10-19 08:02:19  |2022-10-19 08:00:15  |\n",
      "|192268         |2022-10-19 08:04:20  |2022-10-19 08:00:15  |\n",
      "|95980          |2022-10-19 08:04:33  |2022-10-19 08:00:15  |\n",
      "-------------------------------------------------------------\n",
      "\n"
     ]
    }
   ],
   "source": [
    "# getting first order date\n",
    "earliest_transaction_df2 = order_df2.agg(F.min(\"ORDER_TS\").alias(\"FIRST_ORDER_TS\")).collect()[0][0]\n",
    "customer_first_order_timestamp_df2 = customer_first_order_timestamp_df2.withColumn(\"FIRST_TRANS\", F.iff(F.col(\"CUSTOMER_ID\") == F.col(\"CUSTOMER_ID\"), earliest_transaction_df2, earliest_transaction_df2))\n",
    "customer_first_order_timestamp_df2.show()"
   ]
  },
  {
   "cell_type": "code",
   "execution_count": 34,
   "metadata": {},
   "outputs": [
    {
     "name": "stdout",
     "output_type": "stream",
     "text": [
      "--------------------------------------------------------------------------\n",
      "|\"CUSTOMER_ID\"  |\"FIRST_ORDER_TS\"     |\"FIRST_TRANS\"        |\"DAYS_DF2\"  |\n",
      "--------------------------------------------------------------------------\n",
      "|38285          |2022-10-20 09:11:32  |2022-10-19 08:00:15  |1           |\n",
      "|104539         |2022-10-20 09:11:39  |2022-10-19 08:00:15  |1           |\n",
      "|59591          |2022-10-20 09:11:52  |2022-10-19 08:00:15  |1           |\n",
      "|168239         |2022-10-20 09:11:52  |2022-10-19 08:00:15  |1           |\n",
      "|57049          |2022-10-20 09:12:10  |2022-10-19 08:00:15  |1           |\n",
      "|101818         |2022-10-20 09:12:13  |2022-10-19 08:00:15  |1           |\n",
      "|36932          |2022-10-20 09:12:31  |2022-10-19 08:00:15  |1           |\n",
      "|102403         |2022-10-20 09:12:32  |2022-10-19 08:00:15  |1           |\n",
      "|189249         |2022-10-20 09:12:41  |2022-10-19 08:00:15  |1           |\n",
      "|57064          |2022-10-20 09:12:53  |2022-10-19 08:00:15  |1           |\n",
      "--------------------------------------------------------------------------\n",
      "\n"
     ]
    }
   ],
   "source": [
    "# getting the date diff from customer last order to the date 2 weeks before the latest provided transaction date in df1\n",
    "customer_first_order_timestamp_df2 = customer_first_order_timestamp_df2.withColumn(\"days_df2\", F.datediff(\"day\", customer_first_order_timestamp_df2[\"FIRST_TRANS\"], customer_first_order_timestamp_df2[\"FIRST_ORDER_TS\"]))\n",
    "customer_first_order_timestamp_df2.show()"
   ]
  },
  {
   "cell_type": "code",
   "execution_count": 35,
   "metadata": {},
   "outputs": [
    {
     "name": "stdout",
     "output_type": "stream",
     "text": [
      "-------------------------------------------------------------------------------------------------------------------------------------------------------------------------------------------------------------------------------\n",
      "|\"CUSTOMER_ID\"  |\"LAST_ORDER_TS\"      |\"LAST_TRANS\"         |\"DAYS_DF1\"  |\"CUSTOMER_ID_ID\"  |\"CITY\"  |\"SIGN_UP_DATE\"  |\"BIRTHDAY_DATE\"  |\"CHILDREN_COUNT\"  |\"CITY_FREQ_ENC\"  |\"CITY_FREQUENCY\"  |\"GENDER\"  |\"MARITAL_STATUS\"  |\n",
      "-------------------------------------------------------------------------------------------------------------------------------------------------------------------------------------------------------------------------------\n",
      "|198908         |2022-09-01 19:15:34  |2022-10-18 22:56:45  |47          |198908            |Denver  |2020-04-02      |1963-11-06       |0                 |Denver           |9122              |1         |1                 |\n",
      "|198984         |2022-10-05 10:48:42  |2022-10-18 22:56:45  |13          |198984            |Denver  |2020-07-23      |1957-06-20       |1                 |Denver           |9122              |1         |1                 |\n",
      "|199070         |2022-10-14 20:01:27  |2022-10-18 22:56:45  |4           |199070            |Denver  |2021-11-23      |1956-05-04       |2                 |Denver           |9122              |1         |0                 |\n",
      "|199098         |2022-10-18 12:16:29  |2022-10-18 22:56:45  |0           |199098            |Denver  |2021-09-13      |1961-10-30       |0                 |Denver           |9122              |1         |1                 |\n",
      "|199240         |2022-10-15 09:21:58  |2022-10-18 22:56:45  |3           |199240            |Denver  |2020-07-21      |1968-09-18       |2                 |Denver           |9122              |0         |0                 |\n",
      "|199516         |2022-10-10 08:08:18  |2022-10-18 22:56:45  |8           |199516            |Denver  |2021-12-03      |1964-01-31       |3                 |Denver           |9122              |0         |0                 |\n",
      "|199808         |2022-10-12 19:06:37  |2022-10-18 22:56:45  |6           |199808            |Denver  |2021-10-27      |1962-09-09       |0                 |Denver           |9122              |1         |3                 |\n",
      "|196399         |2022-10-18 20:00:31  |2022-10-18 22:56:45  |0           |196399            |Denver  |2020-01-07      |1946-10-29       |0                 |Denver           |9122              |0         |2                 |\n",
      "|196590         |2022-10-02 18:06:42  |2022-10-18 22:56:45  |16          |196590            |Denver  |2020-01-07      |1940-10-02       |1                 |Denver           |9122              |0         |0                 |\n",
      "|196628         |2022-10-14 12:04:02  |2022-10-18 22:56:45  |4           |196628            |Denver  |2019-10-30      |1950-03-04       |0                 |Denver           |9122              |1         |1                 |\n",
      "-------------------------------------------------------------------------------------------------------------------------------------------------------------------------------------------------------------------------------\n",
      "\n"
     ]
    }
   ],
   "source": [
    "# merge the first dataframe with cust df\n",
    "customer_last_order_timestamp_df1 = customer_last_order_timestamp_df1.join(us_customer_df, us_customer_df.CUSTOMER_ID == customer_last_order_timestamp_df1.CUSTOMER_ID, lsuffix=\"\", rsuffix=\"_ID\")\n",
    "customer_last_order_timestamp_df1.show()"
   ]
  },
  {
   "attachments": {},
   "cell_type": "markdown",
   "metadata": {},
   "source": [
    "### 2.5 Calculating customer's age <a id=\"part2-5\"></a>\n",
    "“BIRTHDAY_DATE” will be replaced by “AGE” instead, with the last order transaction date recorded based on all the customers as the current date. "
   ]
  },
  {
   "cell_type": "code",
   "execution_count": 36,
   "metadata": {},
   "outputs": [],
   "source": [
    "# Calculating of the age of each customer based on the last order transaction date recorded based on all customers as current date \n",
    "# customer_last_order_timestamp_df1 = customer_last_order_timestamp_df1.withColumn(\"AGE\", F.datediff(\"year\", F.col(\"BIRTHDAY_DATE\"), F.col(\"LAST_TRANS\")))\n",
    "# customer_last_order_timestamp_df1.show()"
   ]
  },
  {
   "cell_type": "code",
   "execution_count": 37,
   "metadata": {},
   "outputs": [
    {
     "name": "stdout",
     "output_type": "stream",
     "text": [
      "-------------------------------------------------------------------------------------------\n",
      "|\"CUSTOMER_ID\"  |\"LAST_ORDER_TS\"      |\"LAST_TRANS\"         |\"DAYS_DF1\"  |\"SIGN_UP_DATE\"  |\n",
      "-------------------------------------------------------------------------------------------\n",
      "|174436         |2022-10-08 18:09:44  |2022-10-18 22:56:45  |10          |2021-09-28      |\n",
      "|81065          |2022-10-12 11:00:05  |2022-10-18 22:56:45  |6           |2021-04-26      |\n",
      "|96339          |2022-10-14 12:47:52  |2022-10-18 22:56:45  |4           |2020-01-01      |\n",
      "|192057         |2022-10-18 09:25:54  |2022-10-18 22:56:45  |0           |2022-02-14      |\n",
      "|194053         |2022-10-18 13:25:07  |2022-10-18 22:56:45  |0           |2021-11-07      |\n",
      "|85110          |2022-10-12 21:29:22  |2022-10-18 22:56:45  |6           |2020-03-09      |\n",
      "|88385          |2022-10-18 20:05:44  |2022-10-18 22:56:45  |0           |2020-02-23      |\n",
      "|100094         |2022-10-17 19:58:59  |2022-10-18 22:56:45  |1           |2021-10-25      |\n",
      "|107293         |2022-09-15 16:31:02  |2022-10-18 22:56:45  |33          |2020-10-15      |\n",
      "|120822         |2022-10-10 18:11:38  |2022-10-18 22:56:45  |8           |2019-06-12      |\n",
      "-------------------------------------------------------------------------------------------\n",
      "\n"
     ]
    }
   ],
   "source": [
    "# drop unnecessary columns \n",
    "customer_last_order_timestamp_df1 = customer_last_order_timestamp_df1.drop(\"CUSTOMER_ID_ID\", \"CITY\", \"BIRTHDAY_DATE\", \"CHILDREN_COUNT\", \"CITY_FREQ_ENC\", \"CITY_FREQUENCY\", \"GENDER\", \"MARITAL_STATUS\")\n",
    "customer_last_order_timestamp_df1.show()"
   ]
  },
  {
   "attachments": {},
   "cell_type": "markdown",
   "metadata": {},
   "source": [
    "### 2.6 Calculating RFM <a id=\"part2-6\"></a>"
   ]
  },
  {
   "attachments": {},
   "cell_type": "markdown",
   "metadata": {},
   "source": [
    "#### 2.6.1 Calculation of Recency <a id=\"part2-6-1\"></a>\n",
    "To calculate the recency of orders for each customer, we will take the last order timestamp of the customer minus the current date identified. "
   ]
  },
  {
   "cell_type": "code",
   "execution_count": 38,
   "metadata": {},
   "outputs": [
    {
     "name": "stdout",
     "output_type": "stream",
     "text": [
      "------------------------------------------------------------------------------------------------------------\n",
      "|\"CUSTOMER_ID\"  |\"LAST_ORDER_TS\"      |\"LAST_TRANS\"         |\"DAYS_DF1\"  |\"SIGN_UP_DATE\"  |\"RECENCY_DAYS\"  |\n",
      "------------------------------------------------------------------------------------------------------------\n",
      "|174436         |2022-10-08 18:09:44  |2022-10-18 22:56:45  |10          |2021-09-28      |10              |\n",
      "|81065          |2022-10-12 11:00:05  |2022-10-18 22:56:45  |6           |2021-04-26      |6               |\n",
      "|96339          |2022-10-14 12:47:52  |2022-10-18 22:56:45  |4           |2020-01-01      |4               |\n",
      "|192057         |2022-10-18 09:25:54  |2022-10-18 22:56:45  |0           |2022-02-14      |0               |\n",
      "|194053         |2022-10-18 13:25:07  |2022-10-18 22:56:45  |0           |2021-11-07      |0               |\n",
      "|85110          |2022-10-12 21:29:22  |2022-10-18 22:56:45  |6           |2020-03-09      |6               |\n",
      "|88385          |2022-10-18 20:05:44  |2022-10-18 22:56:45  |0           |2020-02-23      |0               |\n",
      "|100094         |2022-10-17 19:58:59  |2022-10-18 22:56:45  |1           |2021-10-25      |1               |\n",
      "|107293         |2022-09-15 16:31:02  |2022-10-18 22:56:45  |33          |2020-10-15      |33              |\n",
      "|120822         |2022-10-10 18:11:38  |2022-10-18 22:56:45  |8           |2019-06-12      |8               |\n",
      "------------------------------------------------------------------------------------------------------------\n",
      "\n"
     ]
    }
   ],
   "source": [
    "# Creating a new dataframe and adding column with current date as the latest \n",
    "# transaction timestamp identified previously \n",
    "\n",
    "# Calculate recency days\n",
    "customer_recency = customer_last_order_timestamp_df1.with_column(\"RECENCY_DAYS\", F.datediff('day', customer_last_order_timestamp_df1[\"LAST_ORDER_TS\"], customer_last_order_timestamp_df1[\"LAST_TRANS\"]))\n",
    "customer_recency.show()"
   ]
  },
  {
   "cell_type": "code",
   "execution_count": 39,
   "metadata": {},
   "outputs": [],
   "source": [
    "# Calculating the number of days since a customer bought from Tasty Bytes based \n",
    "# on the date difference between the current date and last order timestamp and \n",
    "# adding it into the customer_recency data frame\n",
    "\n",
    "temp_customer_recency = customer_recency.select('CUSTOMER_ID','RECENCY_DAYS')\n",
    "\n",
    "# Joining customer_recency and customer_df to make a new data frame which will be used for clustering\n",
    "customer_last_order_timestamp_df1 = temp_customer_recency.join(customer_last_order_timestamp_df1, \n",
    "                                customer_last_order_timestamp_df1.CUSTOMER_ID==temp_customer_recency.CUSTOMER_ID, lsuffix=\"\", rsuffix=\"_RECENCY\")"
   ]
  },
  {
   "cell_type": "code",
   "execution_count": 40,
   "metadata": {},
   "outputs": [
    {
     "name": "stdout",
     "output_type": "stream",
     "text": [
      "------------------------------------------------------------------------------------------------------------------------------------\n",
      "|\"CUSTOMER_ID\"  |\"RECENCY_DAYS\"  |\"CUSTOMER_ID_RECENCY\"  |\"LAST_ORDER_TS\"      |\"LAST_TRANS\"         |\"DAYS_DF1\"  |\"SIGN_UP_DATE\"  |\n",
      "------------------------------------------------------------------------------------------------------------------------------------\n",
      "|12261          |19              |12261                  |2022-09-29 17:43:31  |2022-10-18 22:56:45  |19          |2021-12-28      |\n",
      "|12416          |9               |12416                  |2022-10-09 09:03:44  |2022-10-18 22:56:45  |9           |2020-10-09      |\n",
      "|12590          |11              |12590                  |2022-10-07 16:39:46  |2022-10-18 22:56:45  |11          |2021-10-14      |\n",
      "|12784          |21              |12784                  |2022-09-27 13:38:08  |2022-10-18 22:56:45  |21          |2020-06-19      |\n",
      "|13074          |12              |13074                  |2022-10-06 10:14:38  |2022-10-18 22:56:45  |12          |2020-07-03      |\n",
      "|13199          |1               |13199                  |2022-10-17 17:13:16  |2022-10-18 22:56:45  |1           |2019-11-05      |\n",
      "|13206          |2               |13206                  |2022-10-16 19:16:40  |2022-10-18 22:56:45  |2           |2022-04-03      |\n",
      "|13268          |4               |13268                  |2022-10-14 19:32:53  |2022-10-18 22:56:45  |4           |2020-05-26      |\n",
      "|13351          |3               |13351                  |2022-10-15 17:30:10  |2022-10-18 22:56:45  |3           |2021-08-27      |\n",
      "|13438          |11              |13438                  |2022-10-07 11:46:07  |2022-10-18 22:56:45  |11          |2021-04-27      |\n",
      "------------------------------------------------------------------------------------------------------------------------------------\n",
      "\n"
     ]
    }
   ],
   "source": [
    "customer_last_order_timestamp_df1.show()"
   ]
  },
  {
   "attachments": {},
   "cell_type": "markdown",
   "metadata": {},
   "source": [
    "#### 2.6.2 Calculation of Frequency <a id=\"part2-6-2\"></a>\n",
    "To calculate the frequency of orders for each customer, we will be calculating the total order by customers divided by the duration between their first order and the current date identified."
   ]
  },
  {
   "cell_type": "code",
   "execution_count": 41,
   "metadata": {},
   "outputs": [
    {
     "name": "stdout",
     "output_type": "stream",
     "text": [
      "--------------------------------------------------------------------------------------------------------------------------------------------------------------------------------------------------------------------------------------------------------------------------------------------------------------------------------------------------------\n",
      "|\"ORDER_ID\"  |\"TRUCK_ID\"  |\"LOCATION_ID\"  |\"CUSTOMER_ID\"  |\"DISCOUNT_ID\"  |\"SHIFT_ID\"  |\"SHIFT_START_TIME\"  |\"SHIFT_END_TIME\"  |\"ORDER_CHANNEL\"  |\"ORDER_TS\"           |\"SERVED_TS\"  |\"ORDER_CURRENCY\"  |\"ORDER_AMOUNT\"  |\"ORDER_TAX_AMOUNT\"  |\"ORDER_DISCOUNT_AMOUNT\"  |\"ORDER_TOTAL\"  |\"CUSTOMER_ID_US\"  |\"LAST_DATE\"          |\"TWO_WEEKS_BEFORE\"   |\n",
      "--------------------------------------------------------------------------------------------------------------------------------------------------------------------------------------------------------------------------------------------------------------------------------------------------------------------------------------------------------\n",
      "|451449961   |17          |1789.0         |194230         |NULL           |200540458   |08:00:00            |14:00:00          |NULL             |2022-04-01 11:34:38  |NULL         |USD               |6.0000          |NULL                |NULL                     |6.0000         |194230            |2022-11-01 22:58:56  |2022-10-18 22:58:56  |\n",
      "|451449972   |17          |1789.0         |131954         |NULL           |200540458   |08:00:00            |14:00:00          |NULL             |2022-04-01 11:48:30  |NULL         |USD               |27.0000         |NULL                |NULL                     |27.0000        |131954            |2022-11-01 22:58:56  |2022-10-18 22:58:56  |\n",
      "|451450013   |17          |1789.0         |125737         |NULL           |200540458   |08:00:00            |14:00:00          |NULL             |2022-04-01 12:52:11  |NULL         |USD               |42.0000         |NULL                |NULL                     |42.0000        |125737            |2022-11-01 22:58:56  |2022-10-18 22:58:56  |\n",
      "|451450086   |17          |14926.0        |95405          |NULL           |200540459   |15:00:00            |22:00:00          |NULL             |2022-04-01 17:17:42  |NULL         |USD               |87.0000         |NULL                |NULL                     |87.0000        |95405             |2022-11-01 22:58:56  |2022-10-18 22:58:56  |\n",
      "|451450198   |17          |14926.0        |40098          |NULL           |200540459   |15:00:00            |22:00:00          |NULL             |2022-04-01 20:03:25  |NULL         |USD               |33.0000         |NULL                |NULL                     |33.0000        |40098             |2022-11-01 22:58:56  |2022-10-18 22:58:56  |\n",
      "|451450243   |17          |14926.0        |172108         |NULL           |200540459   |15:00:00            |22:00:00          |NULL             |2022-04-01 21:37:14  |NULL         |USD               |56.0000         |NULL                |NULL                     |56.0000        |172108            |2022-11-01 22:58:56  |2022-10-18 22:58:56  |\n",
      "|451450270   |18          |3081.0         |49775          |NULL           |200540460   |08:00:00            |14:00:00          |NULL             |2022-04-01 08:33:28  |NULL         |USD               |12.5000         |NULL                |NULL                     |12.5000        |49775             |2022-11-01 22:58:56  |2022-10-18 22:58:56  |\n",
      "|451450279   |18          |3081.0         |124416         |NULL           |200540460   |08:00:00            |14:00:00          |NULL             |2022-04-01 08:48:45  |NULL         |USD               |41.5000         |NULL                |NULL                     |41.5000        |124416            |2022-11-01 22:58:56  |2022-10-18 22:58:56  |\n",
      "|451450315   |18          |3081.0         |85597          |NULL           |200540460   |08:00:00            |14:00:00          |NULL             |2022-04-01 09:29:50  |NULL         |USD               |58.5000         |NULL                |NULL                     |58.5000        |85597             |2022-11-01 22:58:56  |2022-10-18 22:58:56  |\n",
      "|451450317   |18          |3081.0         |51847          |NULL           |200540460   |08:00:00            |14:00:00          |NULL             |2022-04-01 09:31:28  |NULL         |USD               |70.5000         |NULL                |NULL                     |70.5000        |51847             |2022-11-01 22:58:56  |2022-10-18 22:58:56  |\n",
      "--------------------------------------------------------------------------------------------------------------------------------------------------------------------------------------------------------------------------------------------------------------------------------------------------------------------------------------------------------\n",
      "\n"
     ]
    }
   ],
   "source": [
    "order_df1.show()"
   ]
  },
  {
   "cell_type": "code",
   "execution_count": 42,
   "metadata": {},
   "outputs": [
    {
     "name": "stdout",
     "output_type": "stream",
     "text": [
      "---------------------------------------\n",
      "|\"CUSTOMER_ID\"  |\"FIRST_ORDER_TS\"     |\n",
      "---------------------------------------\n",
      "|79019          |2019-05-12 19:54:40  |\n",
      "|45155          |2019-05-14 21:28:35  |\n",
      "|64236          |2019-06-23 13:58:59  |\n",
      "|97152          |2019-11-25 08:07:24  |\n",
      "|94272          |2019-08-31 15:38:36  |\n",
      "---------------------------------------\n",
      "\n"
     ]
    }
   ],
   "source": [
    "# Obtain the time stamp for each customer’s first order\n",
    "customer_first_order_timestamp = order_df1.groupBy(\"CUSTOMER_ID\").agg(F.min(\"ORDER_TS\").alias(\"FIRST_ORDER_TS\"))\n",
    "customer_first_order_timestamp.show(n=5)"
   ]
  },
  {
   "cell_type": "code",
   "execution_count": 43,
   "metadata": {},
   "outputs": [
    {
     "name": "stdout",
     "output_type": "stream",
     "text": [
      "---------------------------------\n",
      "|\"CUSTOMER_ID\"  |\"TOTAL_ORDER\"  |\n",
      "---------------------------------\n",
      "|53609          |47             |\n",
      "|158572         |73             |\n",
      "|147590         |54             |\n",
      "|14861          |60             |\n",
      "|18975          |45             |\n",
      "---------------------------------\n",
      "\n"
     ]
    }
   ],
   "source": [
    "# Calculating the total number of orders for each customer\n",
    "total_order_by_cust = order_df1.group_by(\"CUSTOMER_ID\").agg(F.count(\"ORDER_ID\").alias(\"TOTAL_ORDER\"))\n",
    "total_order_by_cust.show(n=5)"
   ]
  },
  {
   "cell_type": "code",
   "execution_count": 44,
   "metadata": {},
   "outputs": [
    {
     "name": "stdout",
     "output_type": "stream",
     "text": [
      "-------------------------------------------------------------------------------------------------------------------------------------------------------------------------------------------------------------------------------------------------------------------------------------------------------------------------------------------------------------------------------------------------------------------------------------\n",
      "|\"CUSTOMER_ID\"  |\"FIRST_NAME\"  |\"LAST_NAME\"  |\"CITY\"     |\"COUNTRY\"      |\"POSTAL_CODE\"  |\"PREFERRED_LANGUAGE\"  |\"GENDER\"     |\"FAVOURITE_BRAND\"  |\"MARITAL_STATUS\"    |\"CHILDREN_COUNT\"  |\"SIGN_UP_DATE\"  |\"BIRTHDAY_DATE\"  |\"E_MAIL\"                     |\"PHONE_NUMBER\"  |\"CUSTOMER_ID_FIRST_TS\"  |\"FIRST_ORDER_TS\"     |\"CUSTOMER_ID_NUM_ORDER\"  |\"TOTAL_ORDER\"  |\"CURRENT DATE\"       |\"YEARS_WITH_US\"  |\"CUSTOMER_FREQUENCY\"  |\n",
      "-------------------------------------------------------------------------------------------------------------------------------------------------------------------------------------------------------------------------------------------------------------------------------------------------------------------------------------------------------------------------------------------------------------------------------------\n",
      "|118            |Donald        |Faulkner     |San Mateo  |United States  |94010          |English               |Male         |NULL               |Single              |0                 |2019-07-07      |1988-06-13       |Donald.Faulkner@hotmail.com  |080-861-2392    |118                     |2019-09-16 19:43:56  |118                      |38             |2022-10-18 22:56:45  |3.090411         |12.296099             |\n",
      "|189            |Reese         |Mcfarland    |San Mateo  |United States  |94010          |English               |Undisclosed  |NULL               |Married             |1                 |2020-03-06      |1984-03-05       |Reese.Mcfarland@hotmail.com  |802-202-7275    |189                     |2019-04-30 14:03:32  |189                      |48             |2022-10-18 22:56:45  |3.471233         |13.827940             |\n",
      "|204            |Emilio        |Lawrence     |San Mateo  |United States  |94497          |English               |Male         |NULL               |Undisclosed         |Undisclosed       |2021-10-10      |1979-06-25       |Emilio.Lawrence@hotmail.com  |693-524-2569    |204                     |2020-02-11 09:36:36  |204                      |35             |2022-10-18 22:56:45  |2.684932         |13.035712             |\n",
      "|42             |Alexander     |Hicks        |San Mateo  |United States  |94404          |English               |Undisclosed  |NULL               |Single              |0                 |2020-07-11      |1966-06-28       |Alexander.Hicks@aol.com      |463-144-8555    |42                      |2019-05-05 17:25:49  |42                       |38             |2022-10-18 22:56:45  |3.457534         |10.990492             |\n",
      "|59             |Ryan          |Shah         |San Mateo  |United States  |94401          |English               |Male         |NULL               |Married             |2                 |2020-12-29      |1961-06-05       |Ryan.Shah@aol.com            |679-586-9815    |59                      |2019-05-15 17:15:41  |59                       |38             |2022-10-18 22:56:45  |3.430137         |11.078275             |\n",
      "|65             |Nathen        |Werner       |San Mateo  |United States  |94010          |English               |Male         |NULL               |Divorced/Seperated  |5+                |2020-11-05      |1958-09-01       |Nathen.Werner@aol.com        |926-969-1551    |65                      |2019-06-09 17:59:28  |65                       |43             |2022-10-18 22:56:45  |3.361644         |12.791360             |\n",
      "|106            |Camilla       |Harding      |San Mateo  |United States  |94404          |English               |Female       |NULL               |Single              |0                 |2021-06-28      |1967-05-10       |Camilla.Harding@aol.com      |366-365-2520    |106                     |2019-09-22 22:14:38  |106                      |48             |2022-10-18 22:56:45  |3.073973         |15.614971             |\n",
      "|219            |Scarlett      |Zavala       |San Mateo  |United States  |94403          |English               |Undisclosed  |NULL               |Married             |2                 |2021-01-22      |1965-12-19       |Scarlett.Zavala@aol.com      |447-385-8243    |219                     |2020-01-02 20:16:46  |219                      |39             |2022-10-18 22:56:45  |2.794521         |13.955880             |\n",
      "|222            |Olive         |Powell       |San Mateo  |United States  |94404          |English               |Female       |NULL               |Single              |0                 |2021-03-21      |1965-07-06       |Olive.Powell@aol.com         |983-128-2475    |222                     |2019-02-04 13:57:10  |222                      |45             |2022-10-18 22:56:45  |3.704110         |12.148667             |\n",
      "|22             |Rayne         |Sanchez      |San Mateo  |United States  |94401          |English               |Male         |NULL               |Married             |4                 |2021-04-22      |1949-01-12       |Rayne.Sanchez@ymail.com      |621-054-0251    |22                      |2019-05-15 21:36:14  |22                       |43             |2022-10-18 22:56:45  |3.430137         |12.535942             |\n",
      "-------------------------------------------------------------------------------------------------------------------------------------------------------------------------------------------------------------------------------------------------------------------------------------------------------------------------------------------------------------------------------------------------------------------------------------\n",
      "\n"
     ]
    }
   ],
   "source": [
    "# Joining the total number of orders, first order timestamp tables with the customer data\n",
    "customer_freq = customer_df.join(customer_first_order_timestamp, customer_df.CUSTOMER_ID==customer_first_order_timestamp.CUSTOMER_ID, lsuffix=\"\", rsuffix=\"_FIRST_TS\")\n",
    "customer_freq = customer_freq.join(total_order_by_cust, customer_freq.CUSTOMER_ID==total_order_by_cust.CUSTOMER_ID, lsuffix=\"\", rsuffix=\"_NUM_ORDER\")\n",
    "\n",
    "# Adding in relevant columns to the newly joined data frame such as “CURRENT DATE”, “YEARS_WITH_US”, and “CUSTOMER_FREQUENCY” to calculate the frequency\n",
    "customer_freq = customer_freq.with_column(\"CURRENT DATE\", F.iff(F.col(\"CUSTOMER_ID\") == F.col(\"CUSTOMER_ID\"), lastest_transaction_df1, lastest_transaction_df1))\n",
    "customer_freq = customer_freq.with_column(\"YEARS_WITH_US\",F.datediff(\"day\", customer_freq[\"FIRST_ORDER_TS\"], customer_freq[\"CURRENT DATE\"])/365)\n",
    "customer_freq = customer_freq.with_column(\"CUSTOMER_FREQUENCY\", customer_freq[\"TOTAL_ORDER\"]/customer_freq[\"YEARS_WITH_US\"])\n",
    "\n",
    "customer_freq.show()"
   ]
  },
  {
   "cell_type": "code",
   "execution_count": 45,
   "metadata": {},
   "outputs": [],
   "source": [
    "# Joining this table to the customer dataset that will be used for clustering later on\n",
    "temp_customer_freq = customer_freq.select([\"CUSTOMER_ID\",\"CUSTOMER_FREQUENCY\",'TOTAL_ORDER'])\n",
    "customer_last_order_timestamp_df1 = temp_customer_freq.join(customer_last_order_timestamp_df1, \n",
    "                                customer_last_order_timestamp_df1.CUSTOMER_ID==temp_customer_freq.CUSTOMER_ID, lsuffix=\"\", rsuffix=\"_FREQUENCY\")"
   ]
  },
  {
   "cell_type": "code",
   "execution_count": 46,
   "metadata": {},
   "outputs": [
    {
     "name": "stdout",
     "output_type": "stream",
     "text": [
      "-----------------------------------------------------------------------------------------------------------------------------------------------------------------------------------------------------\n",
      "|\"CUSTOMER_ID\"  |\"CUSTOMER_FREQUENCY\"  |\"TOTAL_ORDER\"  |\"CUSTOMER_ID_FREQUENCY\"  |\"RECENCY_DAYS\"  |\"CUSTOMER_ID_RECENCY\"  |\"LAST_ORDER_TS\"      |\"LAST_TRANS\"         |\"DAYS_DF1\"  |\"SIGN_UP_DATE\"  |\n",
      "-----------------------------------------------------------------------------------------------------------------------------------------------------------------------------------------------------\n",
      "|118            |12.296099             |38             |118                      |35              |118                    |2022-09-13 12:15:39  |2022-10-18 22:56:45  |35          |2019-07-07      |\n",
      "|189            |13.827940             |48             |189                      |6               |189                    |2022-10-12 21:44:07  |2022-10-18 22:56:45  |6           |2020-03-06      |\n",
      "|204            |13.035712             |35             |204                      |0               |204                    |2022-10-18 12:29:06  |2022-10-18 22:56:45  |0           |2021-10-10      |\n",
      "|42             |10.990492             |38             |42                       |9               |42                     |2022-10-09 09:07:35  |2022-10-18 22:56:45  |9           |2020-07-11      |\n",
      "|59             |11.078275             |38             |59                       |13              |59                     |2022-10-05 20:36:24  |2022-10-18 22:56:45  |13          |2020-12-29      |\n",
      "|65             |12.791360             |43             |65                       |5               |65                     |2022-10-13 19:01:14  |2022-10-18 22:56:45  |5           |2020-11-05      |\n",
      "|106            |15.614971             |48             |106                      |5               |106                    |2022-10-13 12:22:12  |2022-10-18 22:56:45  |5           |2021-06-28      |\n",
      "|219            |13.955880             |39             |219                      |17              |219                    |2022-10-01 13:59:03  |2022-10-18 22:56:45  |17          |2021-01-22      |\n",
      "|222            |12.148667             |45             |222                      |4               |222                    |2022-10-14 21:39:30  |2022-10-18 22:56:45  |4           |2021-03-21      |\n",
      "|22             |12.535942             |43             |22                       |1               |22                     |2022-10-17 09:20:47  |2022-10-18 22:56:45  |1           |2021-04-22      |\n",
      "-----------------------------------------------------------------------------------------------------------------------------------------------------------------------------------------------------\n",
      "\n"
     ]
    }
   ],
   "source": [
    "customer_last_order_timestamp_df1.show()"
   ]
  },
  {
   "attachments": {},
   "cell_type": "markdown",
   "metadata": {},
   "source": [
    "#### 2.6.3 Calculation of Monetary Value <a id=\"part2-6-3\"></a>\n",
    "To calculate the monetary value for each customer, we will be calculating the total sales generated by each customer divided by the number of years the customer has ordered with Tasty Bytes. "
   ]
  },
  {
   "cell_type": "code",
   "execution_count": 47,
   "metadata": {},
   "outputs": [],
   "source": [
    " # Calculate the total sales generated by each customer \n",
    "total_amount_spent = order_df1.group_by(\"CUSTOMER_ID\").agg(F.sum(\"ORDER_TOTAL\").alias(\"TOTAL_SPENT\"))\n",
    "\n",
    "# Joining the total sales generated by each customer with the first order timestamp tables \n",
    "customer_monetary = total_amount_spent.join(customer_first_order_timestamp, total_amount_spent.CUSTOMER_ID==customer_first_order_timestamp.CUSTOMER_ID, lsuffix=\"\", rsuffix=\"_FIRST_TS\")\n",
    "\n",
    "# Adding in relevant columns to the newly joined data frame such as “CURRENT DATE”, “YEARS_WITH_US”, and “MONETARY_VALUE” to calculate the monetary value\n",
    "customer_monetary = customer_monetary.with_column(\"CURRENT DATE\", F.iff(F.col(\"CUSTOMER_ID\") == F.col(\"CUSTOMER_ID\"), lastest_transaction_df1, lastest_transaction_df1))\n",
    "customer_monetary = customer_monetary.with_column(\"YEARS_WITH_US\",F.datediff(\"day\", customer_monetary[\"FIRST_ORDER_TS\"], customer_monetary[\"CURRENT DATE\"])/365)\n",
    "customer_monetary = customer_monetary.with_column(\"MONETARY_VALUE\", F.col(\"TOTAL_SPENT\")/F.col(\"YEARS_WITH_US\"))"
   ]
  },
  {
   "cell_type": "code",
   "execution_count": 48,
   "metadata": {},
   "outputs": [],
   "source": [
    "# Joining this table to the customer dataset that will be used for clustering later on \n",
    "temp_customer_freq = customer_monetary.select(['CUSTOMER_ID','TOTAL_SPENT','YEARS_WITH_US','MONETARY_VALUE'])\n",
    "customer_last_order_timestamp_df1 = temp_customer_freq.join(customer_last_order_timestamp_df1, customer_last_order_timestamp_df1.CUSTOMER_ID==temp_customer_freq.CUSTOMER_ID, lsuffix=\"\", rsuffix=\"_MONETARY\")"
   ]
  },
  {
   "cell_type": "code",
   "execution_count": 49,
   "metadata": {},
   "outputs": [
    {
     "name": "stdout",
     "output_type": "stream",
     "text": [
      "-----------------------------------------------------------------------------------------------------------------------------------------------------------------------------------------------------------------------------------------------------------------------------------\n",
      "|\"CUSTOMER_ID\"  |\"TOTAL_SPENT\"  |\"YEARS_WITH_US\"  |\"MONETARY_VALUE\"  |\"CUSTOMER_ID_MONETARY\"  |\"CUSTOMER_FREQUENCY\"  |\"TOTAL_ORDER\"  |\"CUSTOMER_ID_FREQUENCY\"  |\"RECENCY_DAYS\"  |\"CUSTOMER_ID_RECENCY\"  |\"LAST_ORDER_TS\"      |\"LAST_TRANS\"         |\"DAYS_DF1\"  |\"SIGN_UP_DATE\"  |\n",
      "-----------------------------------------------------------------------------------------------------------------------------------------------------------------------------------------------------------------------------------------------------------------------------------\n",
      "|123263         |1738.0000      |2.728767         |636.9176994591    |123263                  |18.689760             |51             |123263                   |0               |123263                 |2022-10-18 21:28:48  |2022-10-18 22:56:45  |0           |2022-05-17      |\n",
      "|181819         |2661.2500      |3.049315         |872.7369917506    |181819                  |19.348608             |59             |181819                   |20              |181819                 |2022-09-28 19:09:17  |2022-10-18 22:56:45  |20          |2020-01-02      |\n",
      "|97743          |2218.2500      |3.019178         |734.7198475877    |97743                   |18.216879             |55             |97743                    |23              |97743                  |2022-09-25 09:32:39  |2022-10-18 22:56:45  |23          |2021-05-09      |\n",
      "|101963         |2131.7500      |2.778082         |767.3459602704    |101963                  |21.237674             |59             |101963                   |13              |101963                 |2022-10-05 18:06:17  |2022-10-18 22:56:45  |13          |2019-10-20      |\n",
      "|165866         |2067.7500      |2.805479         |737.0399136832    |165866                  |20.317386             |57             |165866                   |0               |165866                 |2022-10-18 17:39:05  |2022-10-18 22:56:45  |0           |2019-11-26      |\n",
      "|170354         |2410.2500      |2.975342         |810.0749426452    |170354                  |26.215474             |78             |170354                   |0               |170354                 |2022-10-18 12:08:18  |2022-10-18 22:56:45  |0           |2021-04-01      |\n",
      "|150116         |1747.7500      |3.005479         |581.5212816326    |150116                  |14.639929             |44             |150116                   |4               |150116                 |2022-10-14 19:19:59  |2022-10-18 22:56:45  |4           |2019-01-18      |\n",
      "|176289         |2062.7500      |2.789041         |739.5911354476    |176289                  |21.512771             |60             |176289                   |0               |176289                 |2022-10-18 17:44:36  |2022-10-18 22:56:45  |0           |2020-02-22      |\n",
      "|107444         |2686.7500      |2.898630         |926.9033991920    |107444                  |21.389415             |62             |107444                   |4               |107444                 |2022-10-14 13:54:07  |2022-10-18 22:56:45  |4           |2020-08-31      |\n",
      "|94497          |2085.5000      |2.934247         |710.7445283236    |94497                   |18.744162             |55             |94497                    |8               |94497                  |2022-10-10 20:57:02  |2022-10-18 22:56:45  |8           |2022-03-20      |\n",
      "-----------------------------------------------------------------------------------------------------------------------------------------------------------------------------------------------------------------------------------------------------------------------------------\n",
      "\n"
     ]
    }
   ],
   "source": [
    "customer_last_order_timestamp_df1.show()"
   ]
  },
  {
   "cell_type": "code",
   "execution_count": 50,
   "metadata": {},
   "outputs": [
    {
     "name": "stdout",
     "output_type": "stream",
     "text": [
      "---------------------------------------------------------------------------------------------------------------------------------------------------------------------------------------\n",
      "|\"CUSTOMER_ID\"  |\"TOTAL_SPENT\"  |\"YEARS_WITH_US\"  |\"MONETARY_VALUE\"  |\"CUSTOMER_FREQUENCY\"  |\"TOTAL_ORDER\"  |\"RECENCY_DAYS\"  |\"LAST_ORDER_TS\"      |\"LAST_TRANS\"         |\"DAYS_DF1\"  |\n",
      "---------------------------------------------------------------------------------------------------------------------------------------------------------------------------------------\n",
      "|133184         |2065.2500      |2.712329         |761.4304901802    |21.383837             |58             |33              |2022-09-15 19:49:45  |2022-10-18 22:56:45  |33          |\n",
      "|18989          |2792.7500      |2.671233         |1045.4909773876   |24.707691             |66             |4               |2022-10-14 21:50:42  |2022-10-18 22:56:45  |4           |\n",
      "|64246          |1945.5000      |2.687671         |723.8609189890    |20.463814             |55             |51              |2022-08-28 20:21:19  |2022-10-18 22:56:45  |51          |\n",
      "|128012         |2405.0000      |2.742466         |876.9479731016    |20.054943             |55             |21              |2022-09-27 12:39:41  |2022-10-18 22:56:45  |21          |\n",
      "|182674         |2078.5000      |2.715068         |765.5425204820    |21.730579             |59             |1               |2022-10-17 20:03:15  |2022-10-18 22:56:45  |1           |\n",
      "|139698         |2263.0000      |2.591781         |873.1447603019    |19.677588             |51             |9               |2022-10-09 21:37:06  |2022-10-18 22:56:45  |9           |\n",
      "|112396         |2051.5000      |2.616438         |784.0812585660    |20.638746             |54             |8               |2022-10-10 10:48:15  |2022-10-18 22:56:45  |8           |\n",
      "|130285         |2093.0000      |2.764384         |757.1307025363    |20.981166             |58             |12              |2022-10-06 16:47:08  |2022-10-18 22:56:45  |12          |\n",
      "|78854          |2944.0000      |2.742466         |1073.4864169693   |25.889109             |71             |4               |2022-10-14 13:49:14  |2022-10-18 22:56:45  |4           |\n",
      "|124022         |1994.2500      |2.758904         |722.8413891893    |18.848064             |52             |1               |2022-10-17 18:42:47  |2022-10-18 22:56:45  |1           |\n",
      "---------------------------------------------------------------------------------------------------------------------------------------------------------------------------------------\n",
      "\n"
     ]
    }
   ],
   "source": [
    "# Dropping of irrelevant and unnecessary columns that have been introduced during joining of dataframes in previous steps\n",
    "customer_last_order_timestamp_df1 = customer_last_order_timestamp_df1.drop([\"CUSTOMER_ID_MONETARY\", \"CUSTOMER_ID_FREQUENCY\", \"CUSTOMER_ID_RECENCY\", \"SIGN_UP_DATE\"])\n",
    "customer_last_order_timestamp_df1.show(10)"
   ]
  },
  {
   "attachments": {},
   "cell_type": "markdown",
   "metadata": {},
   "source": [
    "### 2.7 Calculating Customer Purchase Patterns<a id=\"part2-7\"></a>"
   ]
  },
  {
   "attachments": {},
   "cell_type": "markdown",
   "metadata": {},
   "source": [
    "#### 2.7.1 Calculation of Average Days between Purchases <a id=\"part2-7-1\"></a>"
   ]
  },
  {
   "cell_type": "code",
   "execution_count": 51,
   "metadata": {},
   "outputs": [
    {
     "name": "stdout",
     "output_type": "stream",
     "text": [
      "---------------------------------------\n",
      "|\"CUSTOMER_ID\"  |\"AVG(DAYS_BETWEEN)\"  |\n",
      "---------------------------------------\n",
      "|22             |29.785714            |\n",
      "|42             |33.864865            |\n",
      "|59             |33.486486            |\n",
      "|65             |29.095238            |\n",
      "|106            |23.765957            |\n",
      "|118            |29.540541            |\n",
      "|166            |19.214286            |\n",
      "|176            |28.718750            |\n",
      "|189            |26.829787            |\n",
      "|204            |28.823529            |\n",
      "---------------------------------------\n",
      "\n"
     ]
    }
   ],
   "source": [
    "# Finding the average days between purchase for each customer\n",
    "customer_order_times = order_df1.sort(col(\"CUSTOMER_ID\"), col(\"ORDER_TS\"))\n",
    "customer_order_times = customer_order_times.withColumn(\"prev_order_date\", F.lag(col(\"ORDER_TS\"), 1).over(Window.partitionBy(\"CUSTOMER_ID\").orderBy(\"ORDER_TS\"))).withColumn(\"days_between\", F.datediff('day', col(\"prev_order_date\"), col(\"ORDER_TS\")))\n",
    "customer_average_days = customer_order_times.groupBy(\"CUSTOMER_ID\").avg(\"days_between\")\n",
    "customer_average_days = customer_average_days.sort(col('CUSTOMER_ID'))\n",
    "customer_average_days.show()"
   ]
  },
  {
   "cell_type": "code",
   "execution_count": 52,
   "metadata": {},
   "outputs": [
    {
     "name": "stdout",
     "output_type": "stream",
     "text": [
      "-------------------------------------------------------------------------------------------------------------------------------------------------------------------------------------------------------------------------------------------------------\n",
      "|\"CUSTOMER_ID\"  |\"AVG(DAYS_BETWEEN)\"  |\"CUSTOMER_ID_AVG_DAYS_WITHOUT_PURCHASE\"  |\"TOTAL_SPENT\"  |\"YEARS_WITH_US\"  |\"MONETARY_VALUE\"  |\"CUSTOMER_FREQUENCY\"  |\"TOTAL_ORDER\"  |\"RECENCY_DAYS\"  |\"LAST_ORDER_TS\"      |\"LAST_TRANS\"         |\"DAYS_DF1\"  |\n",
      "-------------------------------------------------------------------------------------------------------------------------------------------------------------------------------------------------------------------------------------------------------\n",
      "|32816          |17.543860            |32816                                    |1797.2500      |2.772603         |648.2175774895    |20.918970             |58             |12              |2022-10-06 20:51:08  |2022-10-18 22:56:45  |12          |\n",
      "|98130          |22.069767            |98130                                    |1659.5000      |2.627397         |631.6137226312    |16.746613             |44             |10              |2022-10-08 16:45:54  |2022-10-18 22:56:45  |10          |\n",
      "|171899         |18.773585            |171899                                   |1898.0000      |2.726027         |696.2513577452    |19.809048             |54             |0               |2022-10-18 19:07:03  |2022-10-18 22:56:45  |0           |\n",
      "|92106          |16.403509            |92106                                    |2047.2500      |2.578082         |794.0980930785    |22.497345             |58             |6               |2022-10-12 10:39:19  |2022-10-18 22:56:45  |6           |\n",
      "|77865          |16.830508            |77865                                    |2221.5000      |2.786301         |797.2936161599    |21.533926             |60             |24              |2022-09-24 11:24:43  |2022-10-18 22:56:45  |24          |\n",
      "|139651         |15.538462            |139651                                   |2669.2500      |2.786301         |957.9905401462    |23.687319             |66             |7               |2022-10-11 16:44:13  |2022-10-18 22:56:45  |7           |\n",
      "|161425         |17.754717            |161425                                   |1778.0000      |2.654795         |669.7315611940    |20.340554             |54             |28              |2022-09-20 14:31:18  |2022-10-18 22:56:45  |28          |\n",
      "|128426         |17.648148            |128426                                   |2136.5000      |2.610959         |818.2817118155    |21.065057             |55             |0               |2022-10-18 13:47:28  |2022-10-18 22:56:45  |0           |\n",
      "|21460          |19.979167            |21460                                    |2051.5000      |2.786301         |736.2808253667    |17.586040             |49             |58              |2022-08-21 10:42:21  |2022-10-18 22:56:45  |58          |\n",
      "|116908         |16.932203            |116908                                   |2038.2500      |2.758904         |738.7897512925    |21.747767             |60             |8               |2022-10-10 15:37:32  |2022-10-18 22:56:45  |8           |\n",
      "-------------------------------------------------------------------------------------------------------------------------------------------------------------------------------------------------------------------------------------------------------\n",
      "\n"
     ]
    }
   ],
   "source": [
    "customer_last_order_timestamp_df1 = customer_average_days.join(customer_last_order_timestamp_df1, \n",
    "                                customer_last_order_timestamp_df1.CUSTOMER_ID==customer_average_days.CUSTOMER_ID, lsuffix=\"\", rsuffix=\"_AVG_DAYS_WITHOUT_PURCHASE\")\n",
    "customer_last_order_timestamp_df1.show()"
   ]
  },
  {
   "attachments": {},
   "cell_type": "markdown",
   "metadata": {},
   "source": [
    "#### 2.7.2 Calculation the Minimum Number of Days without Customer Purchase <a id=\"part2-7-2\"></a>"
   ]
  },
  {
   "cell_type": "code",
   "execution_count": 53,
   "metadata": {},
   "outputs": [
    {
     "name": "stdout",
     "output_type": "stream",
     "text": [
      "---------------------------------------\n",
      "|\"CUSTOMER_ID\"  |\"MIN(DAYS_BETWEEN)\"  |\n",
      "---------------------------------------\n",
      "|22             |1                    |\n",
      "|42             |1                    |\n",
      "|59             |1                    |\n",
      "|65             |2                    |\n",
      "|106            |1                    |\n",
      "|118            |1                    |\n",
      "|166            |1                    |\n",
      "|176            |1                    |\n",
      "|189            |1                    |\n",
      "|204            |3                    |\n",
      "---------------------------------------\n",
      "\n"
     ]
    }
   ],
   "source": [
    "# Finding the minimum days without purchase for each customer\n",
    "customer_min_days = customer_order_times.groupBy(\"CUSTOMER_ID\").min(\"days_between\")\n",
    "customer_min_days = customer_min_days.sort(col('CUSTOMER_ID'))\n",
    "customer_min_days.show()"
   ]
  },
  {
   "cell_type": "code",
   "execution_count": 54,
   "metadata": {},
   "outputs": [
    {
     "name": "stdout",
     "output_type": "stream",
     "text": [
      "-----------------------------------------------------------------------------------------------------------------------------------------------------------------------------------------------------------------------------------------------------------------------------------------------------------------------\n",
      "|\"CUSTOMER_ID\"  |\"MIN(DAYS_BETWEEN)\"  |\"CUSTOMER_ID_MIN_DAYS_WITHOUT_PURCHASE\"  |\"AVG(DAYS_BETWEEN)\"  |\"CUSTOMER_ID_AVG_DAYS_WITHOUT_PURCHASE\"  |\"TOTAL_SPENT\"  |\"YEARS_WITH_US\"  |\"MONETARY_VALUE\"  |\"CUSTOMER_FREQUENCY\"  |\"TOTAL_ORDER\"  |\"RECENCY_DAYS\"  |\"LAST_ORDER_TS\"      |\"LAST_TRANS\"         |\"DAYS_DF1\"  |\n",
      "-----------------------------------------------------------------------------------------------------------------------------------------------------------------------------------------------------------------------------------------------------------------------------------------------------------------------\n",
      "|172418         |1                    |172418                                   |20.408163            |172418                                   |1990.0000      |2.742466         |725.6243103834    |18.231767             |50             |1               |2022-10-17 18:17:58  |2022-10-18 22:56:45  |1           |\n",
      "|194685         |1                    |194685                                   |19.076923            |194685                                   |2253.5000      |2.742466         |821.7057203262    |19.325673             |53             |9               |2022-10-09 20:47:53  |2022-10-18 22:56:45  |9           |\n",
      "|163824         |1                    |163824                                   |20.437500            |163824                                   |1769.7500      |2.739726         |645.9587564596    |17.885000             |49             |19              |2022-09-29 09:37:56  |2022-10-18 22:56:45  |19          |\n",
      "|173033         |1                    |173033                                   |18.218182            |173033                                   |2127.2500      |2.767123         |768.7587432868    |20.237626             |56             |8               |2022-10-10 14:13:21  |2022-10-18 22:56:45  |8           |\n",
      "|54376          |1                    |54376                                    |16.644068            |54376                                    |2416.2500      |2.742466         |881.0501205849    |21.878120             |60             |19              |2022-09-29 15:14:44  |2022-10-18 22:56:45  |19          |\n",
      "|131298         |1                    |131298                                   |16.771930            |131298                                   |2095.5000      |2.665753         |786.0818312874    |21.757455             |58             |17              |2022-10-01 17:23:23  |2022-10-18 22:56:45  |17          |\n",
      "|150816         |1                    |150816                                   |15.873016            |150816                                   |2329.7500      |2.797260         |832.8685928373    |22.879532             |64             |21              |2022-09-27 09:12:29  |2022-10-18 22:56:45  |21          |\n",
      "|137558         |1                    |137558                                   |18.759259            |137558                                   |1971.7500      |2.780822         |709.0529347078    |19.778325             |55             |2               |2022-10-16 17:16:50  |2022-10-18 22:56:45  |2           |\n",
      "|135537         |1                    |135537                                   |14.784615            |135537                                   |2452.0000      |2.660274         |921.7095682625    |24.809475             |66             |10              |2022-10-08 13:11:49  |2022-10-18 22:56:45  |10          |\n",
      "|92745          |1                    |92745                                    |19.211538            |92745                                    |2122.0000      |2.794521         |759.3430144200    |18.965683             |53             |21              |2022-09-27 17:45:56  |2022-10-18 22:56:45  |21          |\n",
      "-----------------------------------------------------------------------------------------------------------------------------------------------------------------------------------------------------------------------------------------------------------------------------------------------------------------------\n",
      "\n"
     ]
    }
   ],
   "source": [
    "customer_last_order_timestamp_df1 = customer_min_days.join(customer_last_order_timestamp_df1, \n",
    "                                customer_last_order_timestamp_df1.CUSTOMER_ID==customer_min_days.CUSTOMER_ID, lsuffix=\"\", rsuffix=\"_MIN_DAYS_WITHOUT_PURCHASE\")\n",
    "customer_last_order_timestamp_df1.show()"
   ]
  },
  {
   "attachments": {},
   "cell_type": "markdown",
   "metadata": {},
   "source": [
    "#### 2.7.3 Calculation the Maximum Number of Days without Customer Purchase <a id=\"part2-7-3\"></a>"
   ]
  },
  {
   "cell_type": "code",
   "execution_count": 55,
   "metadata": {},
   "outputs": [
    {
     "name": "stdout",
     "output_type": "stream",
     "text": [
      "---------------------------------------\n",
      "|\"CUSTOMER_ID\"  |\"MAX(DAYS_BETWEEN)\"  |\n",
      "---------------------------------------\n",
      "|22             |173                  |\n",
      "|42             |167                  |\n",
      "|59             |390                  |\n",
      "|65             |207                  |\n",
      "|106            |158                  |\n",
      "|118            |158                  |\n",
      "|166            |119                  |\n",
      "|176            |139                  |\n",
      "|189            |164                  |\n",
      "|204            |172                  |\n",
      "---------------------------------------\n",
      "\n"
     ]
    }
   ],
   "source": [
    "# Finding the maximum days without purchase for each customer\n",
    "customer_max_days = customer_order_times.groupBy(\"CUSTOMER_ID\").max(\"days_between\")\n",
    "customer_max_days = customer_max_days.sort(col('CUSTOMER_ID'))\n",
    "customer_max_days.show()"
   ]
  },
  {
   "cell_type": "code",
   "execution_count": 56,
   "metadata": {},
   "outputs": [
    {
     "name": "stdout",
     "output_type": "stream",
     "text": [
      "---------------------------------------------------------------------------------------------------------------------------------------------------------------------------------------------------------------------------------------------------------------------------------------------------------------------------------------------------------------------------------------\n",
      "|\"CUSTOMER_ID\"  |\"MAX(DAYS_BETWEEN)\"  |\"CUSTOMER_ID_MAX_DAYS_WITHOUT_PURCHASE\"  |\"MIN(DAYS_BETWEEN)\"  |\"CUSTOMER_ID_MIN_DAYS_WITHOUT_PURCHASE\"  |\"AVG(DAYS_BETWEEN)\"  |\"CUSTOMER_ID_AVG_DAYS_WITHOUT_PURCHASE\"  |\"TOTAL_SPENT\"  |\"YEARS_WITH_US\"  |\"MONETARY_VALUE\"  |\"CUSTOMER_FREQUENCY\"  |\"TOTAL_ORDER\"  |\"RECENCY_DAYS\"  |\"LAST_ORDER_TS\"      |\"LAST_TRANS\"         |\"DAYS_DF1\"  |\n",
      "---------------------------------------------------------------------------------------------------------------------------------------------------------------------------------------------------------------------------------------------------------------------------------------------------------------------------------------------------------------------------------------\n",
      "|194230         |162                  |194230                                   |1                    |194230                                   |21.473684            |194230                                   |2176.7500      |3.449315         |631.0673278607    |16.814933             |58             |35              |2022-09-13 19:23:49  |2022-10-18 22:56:45  |35          |\n",
      "|125737         |97                   |125737                                   |1                    |125737                                   |19.475410            |125737                                   |2370.7500      |3.276712         |723.5149137306    |18.921407             |62             |8               |2022-10-10 11:46:53  |2022-10-18 22:56:45  |8           |\n",
      "|95405          |170                  |95405                                    |1                    |95405                                    |22.438596            |95405                                    |2328.2500      |3.515068         |662.3627195832    |16.500392             |58             |4               |2022-10-14 09:40:40  |2022-10-18 22:56:45  |4           |\n",
      "|124416         |126                  |124416                                   |2                    |124416                                   |22.685185            |124416                                   |1998.5000      |3.479452         |574.3720562893    |15.807087             |55             |45              |2022-09-03 17:22:42  |2022-10-18 22:56:45  |45          |\n",
      "|85597          |75                   |85597                                    |1                    |85597                                    |17.102941            |85597                                    |2709.7500      |3.194521         |848.2492367400    |21.599482             |69             |3               |2022-10-15 20:12:15  |2022-10-18 22:56:45  |3           |\n",
      "|160796         |65                   |160796                                   |1                    |160796                                   |17.447761            |160796                                   |2625.5000      |3.216438         |816.2756440510    |21.141399             |68             |5               |2022-10-13 09:35:11  |2022-10-18 22:56:45  |5           |\n",
      "|174864         |130                  |174864                                   |1                    |174864                                   |24.880000            |174864                                   |2532.7500      |3.471233         |729.6398714808    |14.692186             |51             |23              |2022-09-25 12:23:34  |2022-10-18 22:56:45  |23          |\n",
      "|175545         |93                   |175545                                   |1                    |175545                                   |17.378378            |175545                                   |2886.2500      |3.542466         |814.7572905428    |21.171692             |75             |7               |2022-10-11 13:07:56  |2022-10-18 22:56:45  |7           |\n",
      "|125867         |82                   |125867                                   |1                    |125867                                   |18.014706            |125867                                   |2857.7500      |3.364384         |849.4125521938    |20.508955             |69             |3               |2022-10-15 12:20:45  |2022-10-18 22:56:45  |3           |\n",
      "|148306         |105                  |148306                                   |1                    |148306                                   |20.610169            |148306                                   |2864.0000      |3.339726         |857.5553802917    |17.965546             |60             |3               |2022-10-15 13:58:06  |2022-10-18 22:56:45  |3           |\n",
      "---------------------------------------------------------------------------------------------------------------------------------------------------------------------------------------------------------------------------------------------------------------------------------------------------------------------------------------------------------------------------------------\n",
      "\n"
     ]
    }
   ],
   "source": [
    "customer_last_order_timestamp_df1 = customer_max_days.join(customer_last_order_timestamp_df1, \n",
    "                                customer_last_order_timestamp_df1.CUSTOMER_ID==customer_max_days.CUSTOMER_ID, lsuffix=\"\", rsuffix=\"_MAX_DAYS_WITHOUT_PURCHASE\")\n",
    "customer_last_order_timestamp_df1.show()"
   ]
  },
  {
   "cell_type": "code",
   "execution_count": 57,
   "metadata": {},
   "outputs": [
    {
     "name": "stdout",
     "output_type": "stream",
     "text": [
      "---------------------------------------------------------------------------------------------------------------------------------------------------------------------------------------------------------------------------------------------------------\n",
      "|\"CUSTOMER_ID\"  |\"MAX(DAYS_BETWEEN)\"  |\"MIN(DAYS_BETWEEN)\"  |\"AVG(DAYS_BETWEEN)\"  |\"TOTAL_SPENT\"  |\"YEARS_WITH_US\"  |\"MONETARY_VALUE\"  |\"CUSTOMER_FREQUENCY\"  |\"TOTAL_ORDER\"  |\"RECENCY_DAYS\"  |\"LAST_ORDER_TS\"      |\"LAST_TRANS\"         |\"DAYS_DF1\"  |\n",
      "---------------------------------------------------------------------------------------------------------------------------------------------------------------------------------------------------------------------------------------------------------\n",
      "|87257          |73                   |1                    |16.622642            |1992.2500      |2.452055         |812.4817754904    |22.022345             |54             |14              |2022-10-04 21:20:35  |2022-10-18 22:56:45  |14          |\n",
      "|60753          |152                  |1                    |20.583333            |1640.0000      |2.717808         |603.4274680183    |18.029235             |49             |4               |2022-10-14 20:56:46  |2022-10-18 22:56:45  |4           |\n",
      "|22884          |68                   |1                    |17.803571            |2266.5000      |2.745205         |825.6214016804    |20.763477             |57             |5               |2022-10-13 15:39:44  |2022-10-18 22:56:45  |5           |\n",
      "|161146         |109                  |1                    |17.491228            |2046.5000      |2.739726         |746.9725074697    |21.170000             |58             |3               |2022-10-15 20:27:57  |2022-10-18 22:56:45  |3           |\n",
      "|179093         |74                   |1                    |16.032258            |2138.5000      |2.745205         |778.9946470300    |22.949106             |63             |8               |2022-10-10 18:29:59  |2022-10-18 22:56:45  |8           |\n",
      "|15092          |57                   |1                    |18.584906            |2031.0000      |2.698630         |752.6040991170    |20.010153             |54             |0               |2022-10-18 10:22:50  |2022-10-18 22:56:45  |0           |\n",
      "|189639         |147                  |1                    |21.276596            |1665.7500      |2.783562         |598.4238899654    |17.244092             |48             |16              |2022-10-02 20:56:06  |2022-10-18 22:56:45  |16          |\n",
      "|37871          |107                  |1                    |17.327586            |1967.2500      |2.756164         |713.7637673230    |21.406564             |59             |1               |2022-10-17 21:21:13  |2022-10-18 22:56:45  |1           |\n",
      "|195753         |101                  |1                    |18.830189            |1883.2500      |2.767123         |680.5805162980    |19.514854             |54             |12              |2022-10-06 13:17:01  |2022-10-18 22:56:45  |12          |\n",
      "|105195         |105                  |1                    |16.290323            |2600.2500      |2.780822         |935.0652432986    |22.655172             |63             |5               |2022-10-13 13:40:15  |2022-10-18 22:56:45  |5           |\n",
      "---------------------------------------------------------------------------------------------------------------------------------------------------------------------------------------------------------------------------------------------------------\n",
      "\n"
     ]
    }
   ],
   "source": [
    "# Dropping of irrelevant and unnecessary columns that have been introduced during joining of dataframes in previous steps\n",
    "customer_last_order_timestamp_df1 = customer_last_order_timestamp_df1.drop([\"CUSTOMER_ID_MAX_DAYS_WITHOUT_PURCHASE\", \"CUSTOMER_ID_MIN_DAYS_WITHOUT_PURCHASE\", \"CUSTOMER_ID_AVG_DAYS_WITHOUT_PURCHASE\"])\n",
    "customer_last_order_timestamp_df1.show(10)"
   ]
  },
  {
   "attachments": {},
   "cell_type": "markdown",
   "metadata": {},
   "source": [
    "#### 3.8 Data Exploration for Target <a id=\"part3-8\"></a>"
   ]
  },
  {
   "cell_type": "code",
   "execution_count": 58,
   "metadata": {},
   "outputs": [
    {
     "data": {
      "text/html": [
       "<div>\n",
       "<style scoped>\n",
       "    .dataframe tbody tr th:only-of-type {\n",
       "        vertical-align: middle;\n",
       "    }\n",
       "\n",
       "    .dataframe tbody tr th {\n",
       "        vertical-align: top;\n",
       "    }\n",
       "\n",
       "    .dataframe thead th {\n",
       "        text-align: right;\n",
       "    }\n",
       "</style>\n",
       "<table border=\"1\" class=\"dataframe\">\n",
       "  <thead>\n",
       "    <tr style=\"text-align: right;\">\n",
       "      <th></th>\n",
       "      <th>RECENCY_DAYS</th>\n",
       "      <th>NO_OF_CUST</th>\n",
       "    </tr>\n",
       "  </thead>\n",
       "  <tbody>\n",
       "    <tr>\n",
       "      <th>0</th>\n",
       "      <td>7</td>\n",
       "      <td>1623</td>\n",
       "    </tr>\n",
       "    <tr>\n",
       "      <th>1</th>\n",
       "      <td>10</td>\n",
       "      <td>1725</td>\n",
       "    </tr>\n",
       "    <tr>\n",
       "      <th>2</th>\n",
       "      <td>19</td>\n",
       "      <td>750</td>\n",
       "    </tr>\n",
       "    <tr>\n",
       "      <th>3</th>\n",
       "      <td>5</td>\n",
       "      <td>3218</td>\n",
       "    </tr>\n",
       "    <tr>\n",
       "      <th>4</th>\n",
       "      <td>59</td>\n",
       "      <td>45</td>\n",
       "    </tr>\n",
       "  </tbody>\n",
       "</table>\n",
       "</div>"
      ],
      "text/plain": [
       "   RECENCY_DAYS  NO_OF_CUST\n",
       "0             7        1623\n",
       "1            10        1725\n",
       "2            19         750\n",
       "3             5        3218\n",
       "4            59          45"
      ]
     },
     "execution_count": 58,
     "metadata": {},
     "output_type": "execute_result"
    }
   ],
   "source": [
    "customer_by_recency = customer_last_order_timestamp_df1.group_by(\"RECENCY_DAYS\").agg(F.count(\"CUSTOMER_ID\").alias(\"NO_OF_CUST\")).to_pandas()\n",
    "customer_by_recency.head()"
   ]
  },
  {
   "cell_type": "code",
   "execution_count": 59,
   "metadata": {},
   "outputs": [
    {
     "data": {
      "image/png": "[encoded data removed]",
      "text/plain": [
       "<Figure size 2000x800 with 1 Axes>"
      ]
     },
     "metadata": {},
     "output_type": "display_data"
    }
   ],
   "source": [
    "customer_by_recency.sort_values(by='RECENCY_DAYS', ascending=True, inplace=True) # Sort values in ascending order of customer\n",
    "recency_index = customer_by_recency['RECENCY_DAYS'].tolist()\n",
    "customer_values = customer_by_recency['NO_OF_CUST'].tolist()\n",
    "\n",
    "# Create a figure and subplot\n",
    "fig, V4 = plt.subplots(figsize=(20,8))\n",
    "\n",
    "# Create a bar chart \n",
    "V4.bar(recency_index,customer_values, align = 'center', color='#AFE4FE') # align define the alignment of x-ticks\n",
    "\n",
    "# Display data labels\n",
    "#for x,y in zip(recency_index,customer_values):\n",
    "\n",
    "#    label = x\n",
    "\n",
    "#    plt.annotate(label, \n",
    "#                 (x,y), \n",
    "#                 textcoords=\"offset points\", \n",
    "#                 xytext=(30,-3), \n",
    "#                 fontsize = 10,\n",
    "#                 ha='center') \n",
    "\n",
    "# State title of plot and the axes labels\n",
    "V4.set_title('Distribution of Customers by Recency', fontsize = 25)\n",
    "V4.set_ylabel('Number of customers', fontsize = 20)\n",
    "V4.set_xlabel('Recency Days', fontsize = 20)\n",
    "\n",
    "# Set font size of ticks on the x-axis and y-axis\n",
    "V4.tick_params(labelsize = 12, axis ='both')\n",
    "\n",
    "# Set tight layout for figure\n",
    "fig.tight_layout()\n",
    "\n",
    "# Display plot\n",
    "plt.show()"
   ]
  },
  {
   "cell_type": "code",
   "execution_count": 60,
   "metadata": {},
   "outputs": [
    {
     "name": "stdout",
     "output_type": "stream",
     "text": [
      "Sum of customers where RECENCY_DAYS is below or equal to 30: 41959\n",
      "Sum of customers where RECENCY_DAYS is more than 30: 4341\n",
      "prob not this cos data of rows relatively less\n"
     ]
    }
   ],
   "source": [
    "# Sum of customers where RECENCY_DAYS is below or equal to 30\n",
    "sum_below_30 = customer_by_recency[customer_by_recency['RECENCY_DAYS'] <= 30]['NO_OF_CUST'].sum()\n",
    "\n",
    "# Sum of customers where RECENCY_DAYS is more than 30\n",
    "sum_above_30 = customer_by_recency[customer_by_recency['RECENCY_DAYS'] > 30]['NO_OF_CUST'].sum()\n",
    "\n",
    "# Print the results\n",
    "print(\"Sum of customers where RECENCY_DAYS is below or equal to 30:\", sum_below_30)\n",
    "print(\"Sum of customers where RECENCY_DAYS is more than 30:\", sum_above_30)\n",
    "print(\"prob not this cos data of rows relatively less\")"
   ]
  },
  {
   "cell_type": "code",
   "execution_count": 61,
   "metadata": {},
   "outputs": [
    {
     "name": "stdout",
     "output_type": "stream",
     "text": [
      "RECENCY_DAYS where 80% of the customers are at: 19\n"
     ]
    }
   ],
   "source": [
    "# Find recency days based on percentage of customer (20%)\n",
    "\n",
    "# Sort the DataFrame by RECENCY_DAYS in ascending order\n",
    "customer_by_recency = customer_by_recency.sort_values('RECENCY_DAYS')\n",
    "\n",
    "# Calculate the cumulative sum of customer counts\n",
    "customer_by_recency['CUMULATIVE_COUNT'] = customer_by_recency['NO_OF_CUST'].cumsum()\n",
    "\n",
    "# Find the RECENCY_DAYS where 80% of the customers are at\n",
    "target_percentage = 0.8\n",
    "target_recency_days = None\n",
    "\n",
    "for index, row in customer_by_recency.iterrows():\n",
    "    if row['CUMULATIVE_COUNT'] >= target_percentage * customer_by_recency['NO_OF_CUST'].sum():\n",
    "        target_recency_days = row['RECENCY_DAYS']\n",
    "        break\n",
    "\n",
    "# Print the result\n",
    "print(\"RECENCY_DAYS where 80% of the customers are at:\", target_recency_days)\n"
   ]
  },
  {
   "cell_type": "code",
   "execution_count": 62,
   "metadata": {},
   "outputs": [
    {
     "name": "stdout",
     "output_type": "stream",
     "text": [
      "Sum of customers where RECENCY_DAYS is below or equal to 18: 36893\n",
      "Sum of customers where RECENCY_DAYS is more than 18: 9407\n"
     ]
    }
   ],
   "source": [
    "# Sum of customers where RECENCY_DAYS is below or equal to 18\n",
    "sum_below_18 = customer_by_recency[customer_by_recency['RECENCY_DAYS'] <= 18]['NO_OF_CUST'].sum()\n",
    "\n",
    "# Sum of customers where RECENCY_DAYS is more than 18\n",
    "sum_above_18 = customer_by_recency[customer_by_recency['RECENCY_DAYS'] > 18]['NO_OF_CUST'].sum()\n",
    "\n",
    "# Print the results\n",
    "print(\"Sum of customers where RECENCY_DAYS is below or equal to 18:\", sum_below_18)\n",
    "print(\"Sum of customers where RECENCY_DAYS is more than 18:\", sum_above_18)"
   ]
  },
  {
   "cell_type": "code",
   "execution_count": 63,
   "metadata": {},
   "outputs": [
    {
     "name": "stdout",
     "output_type": "stream",
     "text": [
      "RECENCY_DAYS where 70% of the customers are at: 14\n"
     ]
    }
   ],
   "source": [
    "# Find recency days based on percentage of customer (30%)\n",
    "\n",
    "# Sort the DataFrame by RECENCY_DAYS in ascending order\n",
    "customer_by_recency = customer_by_recency.sort_values('RECENCY_DAYS')\n",
    "\n",
    "# Calculate the cumulative sum of customer counts\n",
    "customer_by_recency['CUMULATIVE_COUNT'] = customer_by_recency['NO_OF_CUST'].cumsum()\n",
    "\n",
    "# Find the RECENCY_DAYS where 70% of the customers are at\n",
    "target_percentage = 0.7\n",
    "target_recency_days = None\n",
    "\n",
    "for index, row in customer_by_recency.iterrows():\n",
    "    if row['CUMULATIVE_COUNT'] >= target_percentage * customer_by_recency['NO_OF_CUST'].sum():\n",
    "        target_recency_days = row['RECENCY_DAYS']\n",
    "        break\n",
    "\n",
    "# Print the result\n",
    "print(\"RECENCY_DAYS where 70% of the customers are at:\", target_recency_days)\n"
   ]
  },
  {
   "cell_type": "code",
   "execution_count": 64,
   "metadata": {},
   "outputs": [
    {
     "name": "stdout",
     "output_type": "stream",
     "text": [
      "Sum of customers where RECENCY_DAYS is below or equal to 14: 33134\n",
      "Sum of customers where RECENCY_DAYS is more than 14: 13166\n"
     ]
    }
   ],
   "source": [
    "# Sum of customers where RECENCY_DAYS is below or equal to 13\n",
    "sum_below_14 = customer_by_recency[customer_by_recency['RECENCY_DAYS'] <= 14]['NO_OF_CUST'].sum()\n",
    "\n",
    "# Sum of customers where RECENCY_DAYS is more than 13\n",
    "sum_above_14 = customer_by_recency[customer_by_recency['RECENCY_DAYS'] > 14]['NO_OF_CUST'].sum()\n",
    "\n",
    "# Print the results\n",
    "print(\"Sum of customers where RECENCY_DAYS is below or equal to 14:\", sum_below_14)\n",
    "print(\"Sum of customers where RECENCY_DAYS is more than 14:\", sum_above_14)"
   ]
  },
  {
   "attachments": {},
   "cell_type": "markdown",
   "metadata": {},
   "source": [
    "### 3.8 Merging of dataframes <a id=\"part3-8\"></a>"
   ]
  },
  {
   "cell_type": "code",
   "execution_count": 65,
   "metadata": {},
   "outputs": [
    {
     "name": "stdout",
     "output_type": "stream",
     "text": [
      "--------------------------------------------------------------------------------------------------------------------------------------------------------------------------------------------------------------------------\n",
      "|\"CUSTOMER_ID\"  |\"MAX(DAYS_BETWEEN)\"  |\"MIN(DAYS_BETWEEN)\"  |\"AVG(DAYS_BETWEEN)\"  |\"TOTAL_SPENT\"  |\"YEARS_WITH_US\"  |\"MONETARY_VALUE\"  |\"CUSTOMER_FREQUENCY\"  |\"TOTAL_ORDER\"  |\"RECENCY_DAYS\"  |\"DAYS_DF1\"  |\"DAYS_DF2\"  |\n",
      "--------------------------------------------------------------------------------------------------------------------------------------------------------------------------------------------------------------------------\n",
      "|92902          |123                  |1                    |19.187500            |2449.7500      |3.408219         |718.7771677818    |19.071544             |65             |16              |16          |0           |\n",
      "|100201         |128                  |1                    |18.485294            |2621.0000      |3.463014         |756.8551556534    |19.924840             |69             |7               |7           |1           |\n",
      "|91306          |105                  |1                    |18.083333            |2672.0000      |2.980822         |896.3970341067    |20.464154             |61             |3               |3           |9           |\n",
      "|158286         |243                  |1                    |20.396825            |2715.2500      |3.542466         |766.4858321858    |18.066511             |64             |8               |8           |0           |\n",
      "|173763         |103                  |1                    |21.483333            |2467.0000      |3.539726         |696.9465998216    |17.232972             |61             |3               |3           |7           |\n",
      "|185791         |131                  |1                    |21.275862            |2403.7500      |3.391781         |708.6984684447    |17.394991             |59             |4               |4           |7           |\n",
      "|32841          |132                  |1                    |20.190476            |2717.5000      |3.487671         |779.1732649094    |18.350355             |64             |1               |1           |5           |\n",
      "|62668          |56                   |1                    |14.904110            |3705.7500      |2.980822         |1243.1973462354   |24.825367             |74             |0               |0           |5           |\n",
      "|184615         |74                   |1                    |15.465753            |3420.2500      |3.101370         |1102.8190767306   |23.860423             |74             |3               |3           |6           |\n",
      "|43469          |109                  |1                    |19.106061            |2924.5000      |3.465753         |843.8281666351    |19.332018             |67             |4               |4           |2           |\n",
      "--------------------------------------------------------------------------------------------------------------------------------------------------------------------------------------------------------------------------\n",
      "\n"
     ]
    }
   ],
   "source": [
    "customer_final = customer_last_order_timestamp_df1.join(customer_first_order_timestamp_df2, customer_last_order_timestamp_df1.CUSTOMER_ID == customer_first_order_timestamp_df2.CUSTOMER_ID, lsuffix = \"\", rsuffix = \"_ID\")\n",
    "customer_final = customer_final.drop(\"CUSTOMER_ID_ID\", \"FIRST_ORDER_TS\", \"FIRST_TRANS\", \"LAST_ORDER_TS\", \"LAST_TRANS\")\n",
    "customer_final.show()"
   ]
  },
  {
   "attachments": {},
   "cell_type": "markdown",
   "metadata": {},
   "source": [
    "### 3.9 Adding Target Variable (Days to next purchase) <a id=\"part3-9\"></a>"
   ]
  },
  {
   "cell_type": "code",
   "execution_count": 66,
   "metadata": {},
   "outputs": [
    {
     "name": "stdout",
     "output_type": "stream",
     "text": [
      "-----------------------------------------------------------------------------------------------------------------------------------------------------------------------------------------------------------\n",
      "|\"CUSTOMER_ID\"  |\"MAX(DAYS_BETWEEN)\"  |\"MIN(DAYS_BETWEEN)\"  |\"AVG(DAYS_BETWEEN)\"  |\"TOTAL_SPENT\"  |\"YEARS_WITH_US\"  |\"MONETARY_VALUE\"  |\"CUSTOMER_FREQUENCY\"  |\"TOTAL_ORDER\"  |\"RECENCY_DAYS\"  |\"TARGET\"  |\n",
      "-----------------------------------------------------------------------------------------------------------------------------------------------------------------------------------------------------------\n",
      "|41644          |270                  |1                    |31.222222            |1520.0000      |3.169863         |479.5159917006    |11.672429             |37             |33              |42        |\n",
      "|105132         |270                  |3                    |29.261905            |1891.0000      |3.446575         |548.6606268542    |12.476154             |43             |29              |30        |\n",
      "|163899         |185                  |1                    |42.000000            |921.5000       |3.463014         |266.0976825390    |8.951740              |31             |4               |5         |\n",
      "|153855         |300                  |1                    |26.142857            |1834.7500      |3.013699         |608.8033343741    |14.268180             |43             |2               |10        |\n",
      "|147557         |235                  |2                    |32.285714            |1117.0000      |3.180822         |351.1670882558    |11.317829             |36             |31              |40        |\n",
      "|70325          |118                  |1                    |27.000000            |2130.5000      |3.580822         |594.9751202378    |13.684009             |49             |11              |12        |\n",
      "|142559         |294                  |1                    |38.121212            |1349.0000      |3.501370         |385.2777627043    |9.710485              |34             |20              |20        |\n",
      "|143670         |264                  |1                    |37.058824            |1215.0000      |3.471233         |350.0197192179    |10.082873             |35             |7               |17        |\n",
      "|185702         |246                  |1                    |30.642857            |1740.2500      |3.528767         |493.1609256151    |12.185559             |43             |1               |12        |\n",
      "|182723         |259                  |2                    |36.424242            |1349.5000      |3.323288         |406.0737438344    |10.230832             |34             |11              |14        |\n",
      "-----------------------------------------------------------------------------------------------------------------------------------------------------------------------------------------------------------\n",
      "\n"
     ]
    }
   ],
   "source": [
    "customer_final = customer_final.withColumn(\"TARGET\", col(\"DAYS_DF1\")+col(\"DAYS_DF2\"))\n",
    "customer_final = customer_final.drop(\"DAYS_DF1\", \"DAYS_DF2\")\n",
    "customer_final.show()"
   ]
  },
  {
   "attachments": {},
   "cell_type": "markdown",
   "metadata": {},
   "source": [
    "### 3.10 Scaling <a id=\"part3-10\"></a>"
   ]
  },
  {
   "cell_type": "code",
   "execution_count": 67,
   "metadata": {},
   "outputs": [
    {
     "data": {
      "text/html": [
       "<div>\n",
       "<style scoped>\n",
       "    .dataframe tbody tr th:only-of-type {\n",
       "        vertical-align: middle;\n",
       "    }\n",
       "\n",
       "    .dataframe tbody tr th {\n",
       "        vertical-align: top;\n",
       "    }\n",
       "\n",
       "    .dataframe thead th {\n",
       "        text-align: right;\n",
       "    }\n",
       "</style>\n",
       "<table border=\"1\" class=\"dataframe\">\n",
       "  <thead>\n",
       "    <tr style=\"text-align: right;\">\n",
       "      <th></th>\n",
       "      <th>MAX(DAYS_BETWEEN)</th>\n",
       "      <th>MIN(DAYS_BETWEEN)</th>\n",
       "      <th>AVG(DAYS_BETWEEN)</th>\n",
       "      <th>TOTAL_SPENT</th>\n",
       "      <th>YEARS_WITH_US</th>\n",
       "      <th>MONETARY_VALUE</th>\n",
       "      <th>CUSTOMER_FREQUENCY</th>\n",
       "      <th>TOTAL_ORDER</th>\n",
       "      <th>RECENCY_DAYS</th>\n",
       "      <th>TARGET</th>\n",
       "    </tr>\n",
       "  </thead>\n",
       "  <tbody>\n",
       "    <tr>\n",
       "      <th>0</th>\n",
       "      <td>68</td>\n",
       "      <td>1</td>\n",
       "      <td>19.940000</td>\n",
       "      <td>1934.00</td>\n",
       "      <td>2.736986</td>\n",
       "      <td>706.6166944223</td>\n",
       "      <td>18.633636</td>\n",
       "      <td>51</td>\n",
       "      <td>2</td>\n",
       "      <td>4</td>\n",
       "    </tr>\n",
       "    <tr>\n",
       "      <th>1</th>\n",
       "      <td>106</td>\n",
       "      <td>1</td>\n",
       "      <td>19.509091</td>\n",
       "      <td>1773.75</td>\n",
       "      <td>2.989041</td>\n",
       "      <td>593.4177550592</td>\n",
       "      <td>18.735106</td>\n",
       "      <td>56</td>\n",
       "      <td>18</td>\n",
       "      <td>21</td>\n",
       "    </tr>\n",
       "    <tr>\n",
       "      <th>2</th>\n",
       "      <td>83</td>\n",
       "      <td>1</td>\n",
       "      <td>17.790323</td>\n",
       "      <td>2607.50</td>\n",
       "      <td>3.049315</td>\n",
       "      <td>855.1100821004</td>\n",
       "      <td>20.660378</td>\n",
       "      <td>63</td>\n",
       "      <td>10</td>\n",
       "      <td>13</td>\n",
       "    </tr>\n",
       "    <tr>\n",
       "      <th>3</th>\n",
       "      <td>57</td>\n",
       "      <td>1</td>\n",
       "      <td>19.480769</td>\n",
       "      <td>2161.00</td>\n",
       "      <td>2.832877</td>\n",
       "      <td>762.8287426528</td>\n",
       "      <td>18.708896</td>\n",
       "      <td>53</td>\n",
       "      <td>21</td>\n",
       "      <td>27</td>\n",
       "    </tr>\n",
       "    <tr>\n",
       "      <th>4</th>\n",
       "      <td>72</td>\n",
       "      <td>1</td>\n",
       "      <td>14.567164</td>\n",
       "      <td>2339.50</td>\n",
       "      <td>2.736986</td>\n",
       "      <td>854.7723663914</td>\n",
       "      <td>24.844848</td>\n",
       "      <td>68</td>\n",
       "      <td>23</td>\n",
       "      <td>26</td>\n",
       "    </tr>\n",
       "  </tbody>\n",
       "</table>\n",
       "</div>"
      ],
      "text/plain": [
       "   MAX(DAYS_BETWEEN)  MIN(DAYS_BETWEEN) AVG(DAYS_BETWEEN)  TOTAL_SPENT  \\\n",
       "0                 68                  1         19.940000      1934.00   \n",
       "1                106                  1         19.509091      1773.75   \n",
       "2                 83                  1         17.790323      2607.50   \n",
       "3                 57                  1         19.480769      2161.00   \n",
       "4                 72                  1         14.567164      2339.50   \n",
       "\n",
       "   YEARS_WITH_US  MONETARY_VALUE CUSTOMER_FREQUENCY  TOTAL_ORDER  \\\n",
       "0       2.736986  706.6166944223          18.633636           51   \n",
       "1       2.989041  593.4177550592          18.735106           56   \n",
       "2       3.049315  855.1100821004          20.660378           63   \n",
       "3       2.832877  762.8287426528          18.708896           53   \n",
       "4       2.736986  854.7723663914          24.844848           68   \n",
       "\n",
       "   RECENCY_DAYS  TARGET  \n",
       "0             2       4  \n",
       "1            18      21  \n",
       "2            10      13  \n",
       "3            21      27  \n",
       "4            23      26  "
      ]
     },
     "execution_count": 67,
     "metadata": {},
     "output_type": "execute_result"
    }
   ],
   "source": [
    "customer_final = customer_final.to_pandas()\n",
    "\n",
    "# save dataframe of customer_id \n",
    "customer_id_df = customer_final[\"CUSTOMER_ID\"]\n",
    "\n",
    "customer_final = customer_final.drop([\"CUSTOMER_ID\"],  axis = 1)\n",
    "#customer_final = customer_final.drop([\"CUSTOMER_ID\", 'CITY_FREQUENCY', 'GENDER', 'MARITAL_STATUS', 'CHILDREN_COUNT'],  axis = 1)\n",
    "\n",
    "customer_final.head()"
   ]
  },
  {
   "cell_type": "code",
   "execution_count": 68,
   "metadata": {},
   "outputs": [
    {
     "data": {
      "text/html": [
       "<div>\n",
       "<style scoped>\n",
       "    .dataframe tbody tr th:only-of-type {\n",
       "        vertical-align: middle;\n",
       "    }\n",
       "\n",
       "    .dataframe tbody tr th {\n",
       "        vertical-align: top;\n",
       "    }\n",
       "\n",
       "    .dataframe thead th {\n",
       "        text-align: right;\n",
       "    }\n",
       "</style>\n",
       "<table border=\"1\" class=\"dataframe\">\n",
       "  <thead>\n",
       "    <tr style=\"text-align: right;\">\n",
       "      <th></th>\n",
       "      <th>MAX(DAYS_BETWEEN)</th>\n",
       "      <th>MIN(DAYS_BETWEEN)</th>\n",
       "      <th>AVG(DAYS_BETWEEN)</th>\n",
       "      <th>TOTAL_SPENT</th>\n",
       "      <th>YEARS_WITH_US</th>\n",
       "      <th>MONETARY_VALUE</th>\n",
       "      <th>CUSTOMER_FREQUENCY</th>\n",
       "      <th>TOTAL_ORDER</th>\n",
       "      <th>RECENCY_DAYS</th>\n",
       "      <th>TARGET</th>\n",
       "    </tr>\n",
       "  </thead>\n",
       "  <tbody>\n",
       "    <tr>\n",
       "      <th>0</th>\n",
       "      <td>-0.857842</td>\n",
       "      <td>-0.247799</td>\n",
       "      <td>-0.223871</td>\n",
       "      <td>-0.297898</td>\n",
       "      <td>-0.699964</td>\n",
       "      <td>-0.015485</td>\n",
       "      <td>0.064053</td>\n",
       "      <td>-0.267809</td>\n",
       "      <td>-0.768372</td>\n",
       "      <td>4</td>\n",
       "    </tr>\n",
       "    <tr>\n",
       "      <th>1</th>\n",
       "      <td>-0.284082</td>\n",
       "      <td>-0.247799</td>\n",
       "      <td>-0.293083</td>\n",
       "      <td>-0.631541</td>\n",
       "      <td>0.066043</td>\n",
       "      <td>-0.653371</td>\n",
       "      <td>0.089136</td>\n",
       "      <td>0.215052</td>\n",
       "      <td>0.469642</td>\n",
       "      <td>21</td>\n",
       "    </tr>\n",
       "    <tr>\n",
       "      <th>2</th>\n",
       "      <td>-0.631358</td>\n",
       "      <td>-0.247799</td>\n",
       "      <td>-0.569146</td>\n",
       "      <td>1.104338</td>\n",
       "      <td>0.249219</td>\n",
       "      <td>0.821288</td>\n",
       "      <td>0.565066</td>\n",
       "      <td>0.891057</td>\n",
       "      <td>-0.149365</td>\n",
       "      <td>13</td>\n",
       "    </tr>\n",
       "    <tr>\n",
       "      <th>3</th>\n",
       "      <td>-1.023931</td>\n",
       "      <td>-0.247799</td>\n",
       "      <td>-0.297632</td>\n",
       "      <td>0.174719</td>\n",
       "      <td>-0.408547</td>\n",
       "      <td>0.301275</td>\n",
       "      <td>0.082657</td>\n",
       "      <td>-0.074665</td>\n",
       "      <td>0.701769</td>\n",
       "      <td>27</td>\n",
       "    </tr>\n",
       "    <tr>\n",
       "      <th>4</th>\n",
       "      <td>-0.797447</td>\n",
       "      <td>-0.247799</td>\n",
       "      <td>-1.086839</td>\n",
       "      <td>0.546358</td>\n",
       "      <td>-0.699964</td>\n",
       "      <td>0.819385</td>\n",
       "      <td>1.599471</td>\n",
       "      <td>1.373918</td>\n",
       "      <td>0.856521</td>\n",
       "      <td>26</td>\n",
       "    </tr>\n",
       "  </tbody>\n",
       "</table>\n",
       "</div>"
      ],
      "text/plain": [
       "   MAX(DAYS_BETWEEN)  MIN(DAYS_BETWEEN)  AVG(DAYS_BETWEEN)  TOTAL_SPENT  \\\n",
       "0          -0.857842          -0.247799          -0.223871    -0.297898   \n",
       "1          -0.284082          -0.247799          -0.293083    -0.631541   \n",
       "2          -0.631358          -0.247799          -0.569146     1.104338   \n",
       "3          -1.023931          -0.247799          -0.297632     0.174719   \n",
       "4          -0.797447          -0.247799          -1.086839     0.546358   \n",
       "\n",
       "   YEARS_WITH_US  MONETARY_VALUE  CUSTOMER_FREQUENCY  TOTAL_ORDER  \\\n",
       "0      -0.699964       -0.015485            0.064053    -0.267809   \n",
       "1       0.066043       -0.653371            0.089136     0.215052   \n",
       "2       0.249219        0.821288            0.565066     0.891057   \n",
       "3      -0.408547        0.301275            0.082657    -0.074665   \n",
       "4      -0.699964        0.819385            1.599471     1.373918   \n",
       "\n",
       "   RECENCY_DAYS  TARGET  \n",
       "0     -0.768372       4  \n",
       "1      0.469642      21  \n",
       "2     -0.149365      13  \n",
       "3      0.701769      27  \n",
       "4      0.856521      26  "
      ]
     },
     "execution_count": 68,
     "metadata": {},
     "output_type": "execute_result"
    }
   ],
   "source": [
    "#drop target\n",
    "target = customer_final['TARGET']\n",
    "customer_final.drop('TARGET', axis = 1, inplace = True)\n",
    "\n",
    "scaler = StandardScaler()\n",
    "scaler.fit(customer_final)\n",
    "\n",
    "final_scaled = scaler.transform(customer_final)\n",
    "final_scaled = pd.DataFrame(final_scaled, columns=customer_final.columns)\n",
    "\n",
    "#assign target variable back to scaled data frame\n",
    "final_scaled = final_scaled.assign(TARGET = target)\n",
    "\n",
    "final_scaled.head()"
   ]
  },
  {
   "attachments": {},
   "cell_type": "markdown",
   "metadata": {},
   "source": [
    "### 4. Building of models <a id=\"part4\"></a>"
   ]
  },
  {
   "attachments": {},
   "cell_type": "markdown",
   "metadata": {},
   "source": [
    "#### 4.1 Train Test Split <a id=\"part4-1\"></a>"
   ]
  },
  {
   "cell_type": "code",
   "execution_count": null,
   "metadata": {},
   "outputs": [],
   "source": [
    "# Define ratio for model \n",
    "train_ratio = 0.70\n",
    "test_ratio = 0.20\n",
    "holdout_ratio = 0.10\n",
    "\n",
    "# Define Model Inputs (X) and Output (y)\n",
    "X = final_scaled.drop('TARGET',axis=1)\n",
    "y = final_scaled[\"TARGET\"]\n",
    "\n",
    "# Split both Inputs (X) and Ouput (y) into training set (70%) and testing set (20%)\n",
    "X_train, X_test, y_train, y_test = train_test_split(X, y, test_size=1-train_ratio, random_state=1)\n",
    "X_holdout, X_test, y_holdout, y_test = train_test_split(X_test, y_test, test_size=test_ratio/(test_ratio + holdout_ratio)) "
   ]
  },
  {
   "attachments": {},
   "cell_type": "markdown",
   "metadata": {},
   "source": [
    "#### 4.2 Linear Regression Model <a id=\"part4-2\"></a>"
   ]
  },
  {
   "cell_type": "code",
   "execution_count": null,
   "metadata": {},
   "outputs": [],
   "source": [
    "# Create the model \"lg\"\n",
    "lg = LinearRegression()\n",
    "lg.fit(X_train, y_train)\n",
    "\n",
    "#MSE\n",
    "\n",
    "train_mse = mean_squared_error(lg.predict(X_train), y_train)\n",
    "print('The Training Mean Squared Error for Linear Regression Model is: ', train_mse)\n",
    "test_mse = mean_squared_error(lg.predict(X_test), y_test)\n",
    "print('The Testing Mean Squared Error for Linear Regression Model is: ',test_mse)\n",
    "\n",
    "print('')\n",
    "\n",
    "#R^2\n",
    "\n",
    "train_R2 = lg.score(X_train, y_train)\n",
    "print('The Training R^2 for Linear Regression Model is: ', train_R2)\n",
    "\n",
    "test_R2 = lg.score(X_test, y_test)\n",
    "print('The Testing R^2 for Linear Regression Model is: ', test_R2)"
   ]
  },
  {
   "cell_type": "code",
   "execution_count": null,
   "metadata": {},
   "outputs": [],
   "source": [
    "##### holdout model\n",
    "\n",
    "# Create the model \"lg\"\n",
    "lg = LinearRegression()\n",
    "lg.fit(X_holdout, y_holdout)\n",
    "\n",
    "\n",
    "#MSE\n",
    "\n",
    "holdout_mse = mean_squared_error(lg.predict(X_holdout), y_holdout)\n",
    "print('The Holdout Mean Squared Error for Linear Regression Model is: ', holdout_mse)\n",
    "\n",
    "print('')\n",
    "\n",
    "#R^2\n",
    "\n",
    "holdout_R2 = lg.score(X_holdout, y_holdout)\n",
    "print('The Holdout R^2 for Linear Regression Model is: ', holdout_R2)"
   ]
  },
  {
   "attachments": {},
   "cell_type": "markdown",
   "metadata": {},
   "source": [
    "#### 4.3 Decision Tree Model <a id=\"part4-3\"></a>"
   ]
  },
  {
   "cell_type": "code",
   "execution_count": null,
   "metadata": {},
   "outputs": [],
   "source": [
    "dt = tree.DecisionTreeRegressor(max_depth=2, random_state=1)\n",
    "dt.fit(X_train, y_train)\n",
    "\n",
    "#MSE\n",
    "\n",
    "train_mse = mean_squared_error(dt.predict(X_train), y_train)\n",
    "print('The Training Mean Squared Error for Decision Tree Regressor Model is: ', train_mse)\n",
    "test_mse = mean_squared_error(dt.predict(X_test), y_test)\n",
    "print('The Testing Mean Squared Error for Decision Tree Regressor Model is: ',test_mse)\n",
    "\n",
    "print('')\n",
    "\n",
    "#R^2\n",
    "\n",
    "train_R2 = dt.score(X_train, y_train)\n",
    "print('The Training R^2 for Decision Tree Regressor Model is: ', train_R2)\n",
    "\n",
    "test_R2 = dt.score(X_test, y_test)\n",
    "print('The Testing R^2 for Decision Tree Regressor is: ', test_R2)"
   ]
  },
  {
   "cell_type": "code",
   "execution_count": null,
   "metadata": {},
   "outputs": [],
   "source": [
    "# Computing feature importance\n",
    "pd.concat((pd.DataFrame(X_train.columns, columns = ['feature']), \n",
    "           pd.DataFrame(dt.feature_importances_, columns = ['importance'])), \n",
    "          axis = 1).sort_values(by='importance', ascending = False)"
   ]
  },
  {
   "attachments": {},
   "cell_type": "markdown",
   "metadata": {},
   "source": [
    "#### 4.4 Random Forest Model <a id=\"part4-4\"></a>"
   ]
  },
  {
   "cell_type": "code",
   "execution_count": null,
   "metadata": {},
   "outputs": [],
   "source": [
    "# Create Random Forest Model\n",
    "rf = RandomForestRegressor(max_depth=2, random_state=1, n_estimators=20)\n",
    "# Y_train is a 1D array, use ravel() to change the shape of Y_train to (n_samples,) before feed it into fit function\n",
    "rf.fit(X_train, y_train.ravel())\n",
    "\n",
    "#MSE\n",
    "\n",
    "train_mse = mean_squared_error(rf.predict(X_train), y_train)\n",
    "print('The Training Mean Squared Error for Random Forest Regressor Model is: ', train_mse)\n",
    "test_mse = mean_squared_error(rf.predict(X_test), y_test)\n",
    "print('The Testing Mean Squared Error for Random Forest Regressor Model is: ',test_mse)\n",
    "\n",
    "print('')\n",
    "\n",
    "#R^2\n",
    "\n",
    "train_R2 = rf.score(X_train, y_train)\n",
    "print('The Training R^2 for Random Forest Regressor Model is: ', train_R2)\n",
    "\n",
    "test_R2 = rf.score(X_test, y_test)\n",
    "print('The Testing R^2 for Random Forest Regressor Model is: ', test_R2)"
   ]
  },
  {
   "attachments": {},
   "cell_type": "markdown",
   "metadata": {},
   "source": [
    "#### 4.5 ANN Model <a id=\"part4-5\"></a>"
   ]
  },
  {
   "cell_type": "code",
   "execution_count": null,
   "metadata": {},
   "outputs": [],
   "source": [
    "# Create the ann model\n",
    "mlp = MLPClassifier(activation ='logistic', hidden_layer_sizes=(10,), max_iter= 2000, solver = 'sgd', random_state=1)\n",
    "# Fit the model to the training set\n",
    "mlp.fit(X_train,y_train)\n",
    "\n",
    "#MSE\n",
    "\n",
    "train_mse = mean_squared_error(mlp.predict(X_train), y_train)\n",
    "print('The Training Mean Squared Error for ANN Model is: ', train_mse)\n",
    "test_mse = mean_squared_error(mlp.predict(X_test), y_test)\n",
    "print('The Testing Mean Squared Error for ANN Model is: ',test_mse)\n",
    "\n",
    "print('')\n",
    "\n",
    "#R^2\n",
    "\n",
    "train_R2 = mlp.score(X_train, y_train)\n",
    "print('The Training R^2 for ANN Model is: ', train_R2)\n",
    "\n",
    "test_R2 = mlp.score(X_test, y_test)\n",
    "print('The Testing R^2 for ANN Model is: ', test_R2)"
   ]
  },
  {
   "attachments": {},
   "cell_type": "markdown",
   "metadata": {},
   "source": [
    "#### 4.6 SVM Model <a id=\"part4-6\"></a>"
   ]
  },
  {
   "cell_type": "code",
   "execution_count": null,
   "metadata": {},
   "outputs": [],
   "source": [
    "# Create the SVM model\n",
    "svm = SVR()\n",
    "svm.fit(X_train, y_train)\n",
    "\n",
    "#MSE\n",
    "\n",
    "train_mse = mean_squared_error(svm.predict(X_train), y_train)\n",
    "print('The Training Mean Squared Error for SVM Model is: ', train_mse)\n",
    "test_mse = mean_squared_error(svm.predict(X_test), y_test)\n",
    "print('The Testing Mean Squared Error for SVM Model is: ',test_mse)\n",
    "\n",
    "print('')\n",
    "\n",
    "#R^2\n",
    "\n",
    "train_R2 = svm.score(X_train, y_train)\n",
    "print('The Training R^2 for SVM Model is: ', train_R2)\n",
    "\n",
    "test_R2 = svm.score(X_test, y_test)\n",
    "print('The Testing R^2 for SVM Model is: ', test_R2)"
   ]
  },
  {
   "cell_type": "code",
   "execution_count": null,
   "metadata": {},
   "outputs": [],
   "source": []
  }
 ],
 "metadata": {
  "kernelspec": {
   "display_name": "pysnowpark",
   "language": "python",
   "name": "python3"
  },
  "language_info": {
   "codemirror_mode": {
    "name": "ipython",
    "version": 3
   },
   "file_extension": ".py",
   "mimetype": "text/x-python",
   "name": "python",
   "nbconvert_exporter": "python",
   "pygments_lexer": "ipython3",
   "version": "3.8.16"
  },
  "orig_nbformat": 4
 },
 "nbformat": 4,
 "nbformat_minor": 2
}
