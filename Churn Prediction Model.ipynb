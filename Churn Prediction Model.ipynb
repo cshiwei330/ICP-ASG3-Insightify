{
 "cells": [
  {
   "attachments": {},
   "cell_type": "markdown",
   "metadata": {},
   "source": [
    "## Importing packages & setting up connection"
   ]
  },
  {
   "cell_type": "code",
   "execution_count": 333,
   "metadata": {},
   "outputs": [],
   "source": [
    "# Import Python packages\n",
    "import pandas as pd\n",
    "import numpy as np\n",
    "from matplotlib import pyplot as plt\n",
    "import json\n",
    "import sys\n",
    "import cachetools\n",
    "from datetime import datetime\n",
    "from datetime import date\n",
    "import seaborn as sns\n",
    "import math\n",
    "from scipy import stats\n",
    "import statsmodels.api as sm\n",
    "\n",
    "# Import Snowflake modules\n",
    "from snowflake.snowpark import Session\n",
    "import snowflake.snowpark.functions as F\n",
    "import snowflake.snowpark.types as T\n",
    "from snowflake.snowpark import Window\n",
    "from snowflake.snowpark.functions import col\n",
    "\n",
    "# Clustering & Model\n",
    "from sklearn.cluster import KMeans\n",
    "from sklearn.linear_model import LogisticRegression, LinearRegression\n",
    "from sklearn import tree\n",
    "from sklearn.tree import DecisionTreeClassifier\n",
    "from sklearn.neural_network import MLPClassifier\n",
    "from sklearn.svm import SVC, SVR\n",
    "from sklearn. ensemble import RandomForestClassifier, BaggingClassifier, AdaBoostClassifier, ExtraTreesClassifier, RandomForestRegressor, ExtraTreesRegressor, BaggingRegressor, GradientBoostingClassifier, AdaBoostRegressor\n",
    "from sklearn.neighbors import KNeighborsRegressor\n",
    "from xgboost import XGBClassifier, XGBRegressor \n",
    "from sklearn.model_selection import KFold, cross_val_score, train_test_split\n",
    "\n",
    "# Scalers\n",
    "from sklearn.preprocessing import StandardScaler\n",
    "\n",
    "# Evaluation\n",
    "from sklearn.metrics import silhouette_score\n",
    "from sklearn.metrics import mean_squared_error\n",
    "from sklearn.metrics import r2_score\n",
    "from sklearn.metrics import accuracy_score\n",
    "\n",
    "# find the best combination of model hyperparameters\n",
    "from sklearn.model_selection import GridSearchCV, RandomizedSearchCV\n",
    "from sklearn.model_selection import cross_val_score, cross_validate\n",
    "\n",
    "# Getting Password,Username, Account\n",
    "import getpass"
   ]
  },
  {
   "cell_type": "code",
   "execution_count": 334,
   "metadata": {},
   "outputs": [],
   "source": [
    "# Get account credentials from a json file\n",
    "with open(\"account.json\") as f:\n",
    "    data = json.load(f)\n",
    "    username = data[\"username\"]\n",
    "    password = data[\"password\"]\n",
    "    account = data[\"account\"]\n",
    "\n",
    "# Specify connection parameters\n",
    "connection_parameters = {\n",
    "    \"account\": account,\n",
    "    \"user\": username,\n",
    "    \"password\": password,\n",
    "    #\"role\": \"ACCOUNTADMIN\",\n",
    "    #\"warehouse\": \"tasty_ds_wh\",\n",
    "    #\"database\": \"frostbyte_tasty_bytes\",\n",
    "    #\"schema\": \"analytics\",\n",
    "}\n",
    "\n",
    "# Create Snowpark session\n",
    "session = Session.builder.configs(connection_parameters).create()"
   ]
  },
  {
   "attachments": {},
   "cell_type": "markdown",
   "metadata": {},
   "source": [
    "## 1. Loading of Datasets <a id=\"part1\"></a>"
   ]
  },
  {
   "cell_type": "code",
   "execution_count": 335,
   "metadata": {},
   "outputs": [],
   "source": [
    "order_header_df = session.table(\"NGEE_ANN_POLYTECHNIC_FROSTBYTE_DATA_SHARE.raw_pos.order_header\")\n",
    "customer_df = session.table(\"NGEE_ANN_POLYTECHNIC_FROSTBYTE_DATA_SHARE.raw_customer.customer_loyalty\")\n",
    "location_df = location_df = session.table(\"NGEE_ANN_POLYTECHNIC_FROSTBYTE_DATA_SHARE.raw_pos.location\")"
   ]
  },
  {
   "cell_type": "code",
   "execution_count": 336,
   "metadata": {},
   "outputs": [
    {
     "name": "stdout",
     "output_type": "stream",
     "text": [
      "-----------------------------------------------------------------------------------------------------------------------------------------------------------------------------------------------------------------------------------------------------------------------------------------\n",
      "|\"ORDER_ID\"  |\"TRUCK_ID\"  |\"LOCATION_ID\"  |\"CUSTOMER_ID\"  |\"DISCOUNT_ID\"  |\"SHIFT_ID\"  |\"SHIFT_START_TIME\"  |\"SHIFT_END_TIME\"  |\"ORDER_CHANNEL\"  |\"ORDER_TS\"           |\"SERVED_TS\"  |\"ORDER_CURRENCY\"  |\"ORDER_AMOUNT\"  |\"ORDER_TAX_AMOUNT\"  |\"ORDER_DISCOUNT_AMOUNT\"  |\"ORDER_TOTAL\"  |\n",
      "-----------------------------------------------------------------------------------------------------------------------------------------------------------------------------------------------------------------------------------------------------------------------------------------\n",
      "|82686170    |239         |6185.0         |NULL           |NULL           |232187      |15:30:00            |22:30:00          |NULL             |2021-04-15 18:47:34  |NULL         |USD               |32.0000         |NULL                |NULL                     |32.0000        |\n",
      "|82686171    |239         |6185.0         |NULL           |NULL           |232187      |15:30:00            |22:30:00          |NULL             |2021-04-15 18:47:36  |NULL         |USD               |32.0000         |NULL                |NULL                     |32.0000        |\n",
      "|82686172    |239         |6185.0         |NULL           |NULL           |232187      |15:30:00            |22:30:00          |NULL             |2021-04-15 18:47:46  |NULL         |USD               |36.0000         |NULL                |NULL                     |36.0000        |\n",
      "|82686173    |239         |6185.0         |NULL           |NULL           |232187      |15:30:00            |22:30:00          |NULL             |2021-04-15 18:47:51  |NULL         |USD               |98.0000         |NULL                |NULL                     |98.0000        |\n",
      "|82686174    |239         |6185.0         |NULL           |NULL           |232187      |15:30:00            |22:30:00          |NULL             |2021-04-15 18:48:25  |NULL         |USD               |18.0000         |NULL                |NULL                     |18.0000        |\n",
      "|82686175    |239         |6185.0         |NULL           |NULL           |232187      |15:30:00            |22:30:00          |NULL             |2021-04-15 18:48:44  |NULL         |USD               |18.0000         |NULL                |NULL                     |18.0000        |\n",
      "|82686176    |239         |6185.0         |NULL           |NULL           |232187      |15:30:00            |22:30:00          |NULL             |2021-04-15 18:50:24  |NULL         |USD               |70.0000         |NULL                |NULL                     |70.0000        |\n",
      "|82686177    |239         |6185.0         |NULL           |NULL           |232187      |15:30:00            |22:30:00          |NULL             |2021-04-15 18:50:32  |NULL         |USD               |49.0000         |NULL                |NULL                     |49.0000        |\n",
      "|82686178    |239         |6185.0         |NULL           |NULL           |232187      |15:30:00            |22:30:00          |NULL             |2021-04-15 18:50:47  |NULL         |USD               |86.0000         |NULL                |NULL                     |86.0000        |\n",
      "|82686179    |239         |6185.0         |NULL           |NULL           |232187      |15:30:00            |22:30:00          |NULL             |2021-04-15 18:51:01  |NULL         |USD               |36.0000         |NULL                |NULL                     |36.0000        |\n",
      "-----------------------------------------------------------------------------------------------------------------------------------------------------------------------------------------------------------------------------------------------------------------------------------------\n",
      "\n"
     ]
    }
   ],
   "source": [
    "order_header_df.show()"
   ]
  },
  {
   "cell_type": "code",
   "execution_count": 337,
   "metadata": {},
   "outputs": [
    {
     "name": "stdout",
     "output_type": "stream",
     "text": [
      "---------------------------------------------------------------------------------------------------------------------------------------------------------------------------------------------------------------------------------------------------------------------------\n",
      "|\"CUSTOMER_ID\"  |\"FIRST_NAME\"  |\"LAST_NAME\"  |\"CITY\"     |\"COUNTRY\"      |\"POSTAL_CODE\"  |\"PREFERRED_LANGUAGE\"  |\"GENDER\"     |\"FAVOURITE_BRAND\"  |\"MARITAL_STATUS\"  |\"CHILDREN_COUNT\"  |\"SIGN_UP_DATE\"  |\"BIRTHDAY_DATE\"  |\"E_MAIL\"                     |\"PHONE_NUMBER\"  |\n",
      "---------------------------------------------------------------------------------------------------------------------------------------------------------------------------------------------------------------------------------------------------------------------------\n",
      "|66             |Cannon        |Waters       |Toronto    |Canada         |M4C 3M7        |English               |Male         |NULL               |Married           |4                 |2019-10-08      |1982-11-24       |Cannon.Waters@hotmail.com    |424-543-8925    |\n",
      "|118            |Donald        |Faulkner     |San Mateo  |United States  |94010          |English               |Male         |NULL               |Single            |0                 |2019-07-07      |1988-06-13       |Donald.Faulkner@hotmail.com  |080-861-2392    |\n",
      "|131            |Tate          |Tucker       |Toronto    |Canada         |M4C 1E7        |English               |Male         |NULL               |Single            |0                 |2021-05-27      |1984-12-29       |Tate.Tucker@hotmail.com      |896-393-1708    |\n",
      "|132            |Aileen        |Knapp        |Toronto    |Canada         |M4C 3J6        |English               |Male         |NULL               |Single            |0                 |2020-11-10      |1981-04-30       |Aileen.Knapp@hotmail.com     |477-406-2898    |\n",
      "|171            |Grayson       |Hayes        |Toronto    |Canada         |M4C 1E7        |English               |Male         |NULL               |Single            |0                 |2021-05-08      |1987-08-06       |Grayson.Hayes@hotmail.com    |849-485-3285    |\n",
      "|189            |Reese         |Mcfarland    |San Mateo  |United States  |94010          |English               |Undisclosed  |NULL               |Married           |1                 |2020-03-06      |1984-03-05       |Reese.Mcfarland@hotmail.com  |802-202-7275    |\n",
      "|195            |Summer        |Chung        |Toronto    |Canada         |M4C 1X6        |English               |Female       |NULL               |Single            |0                 |2021-05-13      |1987-08-17       |Summer.Chung@hotmail.com     |761-641-8122    |\n",
      "|204            |Emilio        |Lawrence     |San Mateo  |United States  |94497          |English               |Male         |NULL               |Undisclosed       |Undisclosed       |2021-10-10      |1979-06-25       |Emilio.Lawrence@hotmail.com  |693-524-2569    |\n",
      "|42             |Alexander     |Hicks        |San Mateo  |United States  |94404          |English               |Undisclosed  |NULL               |Single            |0                 |2020-07-11      |1966-06-28       |Alexander.Hicks@aol.com      |463-144-8555    |\n",
      "|59             |Ryan          |Shah         |San Mateo  |United States  |94401          |English               |Male         |NULL               |Married           |2                 |2020-12-29      |1961-06-05       |Ryan.Shah@aol.com            |679-586-9815    |\n",
      "---------------------------------------------------------------------------------------------------------------------------------------------------------------------------------------------------------------------------------------------------------------------------\n",
      "\n"
     ]
    }
   ],
   "source": [
    "customer_df.show()"
   ]
  },
  {
   "cell_type": "code",
   "execution_count": 338,
   "metadata": {},
   "outputs": [
    {
     "name": "stdout",
     "output_type": "stream",
     "text": [
      "----------------------------------------------------------------------------------------------------------------------------------\n",
      "|\"LOCATION_ID\"  |\"PLACEKEY\"           |\"LOCATION\"                       |\"CITY\"     |\"REGION\"   |\"ISO_COUNTRY_CODE\"  |\"COUNTRY\"  |\n",
      "----------------------------------------------------------------------------------------------------------------------------------\n",
      "|9927           |zzy-224@ayt-gj6-v4v  |Ulf Wardau Ballongflyg & Reklam  |Stockholm  |Stockholm  |SE                  |Sweden     |\n",
      "|12908          |zzy-22h@ayt-gjz-9s5  |Ehrenroth Kristina               |Stockholm  |Stockholm  |SE                  |Sweden     |\n",
      "|14566          |zzy-25d@ayt-gkd-7t9  |Jo Jo Production                 |Stockholm  |Stockholm  |SE                  |Sweden     |\n",
      "|6537           |zzy-222@ayt-gjz-68v  |Tanto strandbad                  |Stockholm  |Stockholm  |SE                  |Sweden     |\n",
      "|14519          |zzy-24b@ayt-gkp-kxq  |Event Opera Stockholm            |Stockholm  |Stockholm  |SE                  |Sweden     |\n",
      "|13529          |zzy-22q@ayt-gkm-c5z  |Hemtjanst Kungsholmen Norrmalm   |Stockholm  |Stockholm  |SE                  |Sweden     |\n",
      "|11925          |zzy-229@ayt-gjt-w49  |Inkassobyran Maximum             |Stockholm  |Stockholm  |SE                  |Sweden     |\n",
      "|8921           |zzy-223@ayt-gkh-jn5  |Skimra Yoga                      |Stockholm  |Stockholm  |SE                  |Sweden     |\n",
      "|11412          |zzy-227@ayt-gjt-wkz  |Karlbergs Kemtvatt & Skradderi   |Stockholm  |Stockholm  |SE                  |Sweden     |\n",
      "|13137          |zzy-22k@ayt-gjt-y7q  |Aqua Toy                         |Stockholm  |Stockholm  |SE                  |Sweden     |\n",
      "----------------------------------------------------------------------------------------------------------------------------------\n",
      "\n"
     ]
    }
   ],
   "source": [
    "location_df.show()"
   ]
  },
  {
   "attachments": {},
   "cell_type": "markdown",
   "metadata": {},
   "source": [
    "### Dropping of null values in customer id"
   ]
  },
  {
   "cell_type": "code",
   "execution_count": 339,
   "metadata": {},
   "outputs": [
    {
     "name": "stdout",
     "output_type": "stream",
     "text": [
      "-----------------------------------------------------------------------------------------------------------------------------------------------------------------------------------------------------------------------------------------------------------------------------------------\n",
      "|\"ORDER_ID\"  |\"TRUCK_ID\"  |\"LOCATION_ID\"  |\"CUSTOMER_ID\"  |\"DISCOUNT_ID\"  |\"SHIFT_ID\"  |\"SHIFT_START_TIME\"  |\"SHIFT_END_TIME\"  |\"ORDER_CHANNEL\"  |\"ORDER_TS\"           |\"SERVED_TS\"  |\"ORDER_CURRENCY\"  |\"ORDER_AMOUNT\"  |\"ORDER_TAX_AMOUNT\"  |\"ORDER_DISCOUNT_AMOUNT\"  |\"ORDER_TOTAL\"  |\n",
      "-----------------------------------------------------------------------------------------------------------------------------------------------------------------------------------------------------------------------------------------------------------------------------------------\n",
      "|82686626    |227         |6192.0         |88465          |NULL           |232188      |08:00:00            |14:00:00          |NULL             |2021-04-16 08:16:09  |NULL         |USD               |50.0000         |NULL                |NULL                     |50.0000        |\n",
      "|82686652    |227         |6192.0         |105935         |NULL           |232188      |08:00:00            |14:00:00          |NULL             |2021-04-16 08:31:21  |NULL         |USD               |48.0000         |NULL                |NULL                     |48.0000        |\n",
      "|82686659    |227         |6192.0         |173175         |NULL           |232188      |08:00:00            |14:00:00          |NULL             |2021-04-16 08:35:14  |NULL         |USD               |60.0000         |NULL                |NULL                     |60.0000        |\n",
      "|82686672    |227         |6192.0         |184114         |NULL           |232188      |08:00:00            |14:00:00          |NULL             |2021-04-16 08:42:10  |NULL         |USD               |21.0000         |NULL                |NULL                     |21.0000        |\n",
      "|82686702    |227         |6192.0         |131782         |NULL           |232188      |08:00:00            |14:00:00          |NULL             |2021-04-16 08:56:39  |NULL         |USD               |36.0000         |NULL                |NULL                     |36.0000        |\n",
      "|82686723    |227         |6192.0         |150280         |NULL           |232188      |08:00:00            |14:00:00          |NULL             |2021-04-16 09:07:59  |NULL         |USD               |90.0000         |NULL                |NULL                     |90.0000        |\n",
      "|82686729    |227         |6192.0         |170316         |NULL           |232188      |08:00:00            |14:00:00          |NULL             |2021-04-16 09:11:10  |NULL         |USD               |6.0000          |NULL                |NULL                     |6.0000         |\n",
      "|82686737    |227         |6192.0         |193200         |NULL           |232188      |08:00:00            |14:00:00          |NULL             |2021-04-16 09:14:58  |NULL         |USD               |43.0000         |NULL                |NULL                     |43.0000        |\n",
      "|82686794    |227         |6192.0         |79098          |NULL           |232188      |08:00:00            |14:00:00          |NULL             |2021-04-16 09:46:29  |NULL         |USD               |65.0000         |NULL                |NULL                     |65.0000        |\n",
      "|82686815    |227         |6192.0         |83620          |NULL           |232188      |08:00:00            |14:00:00          |NULL             |2021-04-16 09:55:41  |NULL         |USD               |99.0000         |NULL                |NULL                     |99.0000        |\n",
      "-----------------------------------------------------------------------------------------------------------------------------------------------------------------------------------------------------------------------------------------------------------------------------------------\n",
      "\n"
     ]
    }
   ],
   "source": [
    "order_header_df = order_header_df.na.drop(subset=\"CUSTOMER_ID\")\n",
    "order_header_df.show()"
   ]
  },
  {
   "attachments": {},
   "cell_type": "markdown",
   "metadata": {},
   "source": [
    "## 2. Data Exploration <a id=\"part2\"></a>"
   ]
  },
  {
   "cell_type": "code",
   "execution_count": null,
   "metadata": {},
   "outputs": [],
   "source": []
  },
  {
   "attachments": {},
   "cell_type": "markdown",
   "metadata": {},
   "source": [
    "## 3. Data Preparation <a id=\"part3\"></a>"
   ]
  },
  {
   "attachments": {},
   "cell_type": "markdown",
   "metadata": {},
   "source": [
    "### 3.1 Create dataframe <a id=\"part3-1\"></a>\n",
    "As mentioned earlier, our group will be focusing on the customers based in the US. Hence, we will need to filter the customer data to US. We are also doing basic data preparation to prepare our datasets so far for subsequent steps. "
   ]
  },
  {
   "cell_type": "code",
   "execution_count": 340,
   "metadata": {},
   "outputs": [
    {
     "name": "stdout",
     "output_type": "stream",
     "text": [
      "-----------------------------------------------------------------------------------------------------------------------------------------------------------------------------------------------------------------------------------------------------------------------------\n",
      "|\"CUSTOMER_ID\"  |\"FIRST_NAME\"  |\"LAST_NAME\"  |\"CITY\"     |\"COUNTRY\"      |\"POSTAL_CODE\"  |\"PREFERRED_LANGUAGE\"  |\"GENDER\"     |\"FAVOURITE_BRAND\"  |\"MARITAL_STATUS\"    |\"CHILDREN_COUNT\"  |\"SIGN_UP_DATE\"  |\"BIRTHDAY_DATE\"  |\"E_MAIL\"                     |\"PHONE_NUMBER\"  |\n",
      "-----------------------------------------------------------------------------------------------------------------------------------------------------------------------------------------------------------------------------------------------------------------------------\n",
      "|118            |Donald        |Faulkner     |San Mateo  |United States  |94010          |English               |Male         |NULL               |Single              |0                 |2019-07-07      |1988-06-13       |Donald.Faulkner@hotmail.com  |080-861-2392    |\n",
      "|189            |Reese         |Mcfarland    |San Mateo  |United States  |94010          |English               |Undisclosed  |NULL               |Married             |1                 |2020-03-06      |1984-03-05       |Reese.Mcfarland@hotmail.com  |802-202-7275    |\n",
      "|204            |Emilio        |Lawrence     |San Mateo  |United States  |94497          |English               |Male         |NULL               |Undisclosed         |Undisclosed       |2021-10-10      |1979-06-25       |Emilio.Lawrence@hotmail.com  |693-524-2569    |\n",
      "|42             |Alexander     |Hicks        |San Mateo  |United States  |94404          |English               |Undisclosed  |NULL               |Single              |0                 |2020-07-11      |1966-06-28       |Alexander.Hicks@aol.com      |463-144-8555    |\n",
      "|59             |Ryan          |Shah         |San Mateo  |United States  |94401          |English               |Male         |NULL               |Married             |2                 |2020-12-29      |1961-06-05       |Ryan.Shah@aol.com            |679-586-9815    |\n",
      "|65             |Nathen        |Werner       |San Mateo  |United States  |94010          |English               |Male         |NULL               |Divorced/Seperated  |5+                |2020-11-05      |1958-09-01       |Nathen.Werner@aol.com        |926-969-1551    |\n",
      "|106            |Camilla       |Harding      |San Mateo  |United States  |94404          |English               |Female       |NULL               |Single              |0                 |2021-06-28      |1967-05-10       |Camilla.Harding@aol.com      |366-365-2520    |\n",
      "|219            |Scarlett      |Zavala       |San Mateo  |United States  |94403          |English               |Undisclosed  |NULL               |Married             |2                 |2021-01-22      |1965-12-19       |Scarlett.Zavala@aol.com      |447-385-8243    |\n",
      "|222            |Olive         |Powell       |San Mateo  |United States  |94404          |English               |Female       |NULL               |Single              |0                 |2021-03-21      |1965-07-06       |Olive.Powell@aol.com         |983-128-2475    |\n",
      "|22             |Rayne         |Sanchez      |San Mateo  |United States  |94401          |English               |Male         |NULL               |Married             |4                 |2021-04-22      |1949-01-12       |Rayne.Sanchez@ymail.com      |621-054-0251    |\n",
      "-----------------------------------------------------------------------------------------------------------------------------------------------------------------------------------------------------------------------------------------------------------------------------\n",
      "\n"
     ]
    }
   ],
   "source": [
    "# Filtering of customer dataset to only US\n",
    "us_customer_df = customer_df.filter(F.col(\"COUNTRY\")==\"United States\")\n",
    "us_customer_df.show()"
   ]
  },
  {
   "cell_type": "code",
   "execution_count": 341,
   "metadata": {},
   "outputs": [
    {
     "name": "stdout",
     "output_type": "stream",
     "text": [
      "------------------------------------------------------------------------------------------------------------------------------------------------------------------------------------------------------------------------------------------------------------------------------------------------------------\n",
      "|\"ORDER_ID\"  |\"TRUCK_ID\"  |\"LOCATION_ID\"  |\"CUSTOMER_ID\"  |\"DISCOUNT_ID\"  |\"SHIFT_ID\"  |\"SHIFT_START_TIME\"  |\"SHIFT_END_TIME\"  |\"ORDER_CHANNEL\"  |\"ORDER_TS\"           |\"SERVED_TS\"  |\"ORDER_CURRENCY\"  |\"ORDER_AMOUNT\"  |\"ORDER_TAX_AMOUNT\"  |\"ORDER_DISCOUNT_AMOUNT\"  |\"ORDER_TOTAL\"  |\"CUSTOMER_ID_US\"  |\n",
      "------------------------------------------------------------------------------------------------------------------------------------------------------------------------------------------------------------------------------------------------------------------------------------------------------------\n",
      "|451449961   |17          |1789.0         |194230         |NULL           |200540458   |08:00:00            |14:00:00          |NULL             |2022-04-01 11:34:38  |NULL         |USD               |6.0000          |NULL                |NULL                     |6.0000         |194230            |\n",
      "|451449972   |17          |1789.0         |131954         |NULL           |200540458   |08:00:00            |14:00:00          |NULL             |2022-04-01 11:48:30  |NULL         |USD               |27.0000         |NULL                |NULL                     |27.0000        |131954            |\n",
      "|451450013   |17          |1789.0         |125737         |NULL           |200540458   |08:00:00            |14:00:00          |NULL             |2022-04-01 12:52:11  |NULL         |USD               |42.0000         |NULL                |NULL                     |42.0000        |125737            |\n",
      "|451450086   |17          |14926.0        |95405          |NULL           |200540459   |15:00:00            |22:00:00          |NULL             |2022-04-01 17:17:42  |NULL         |USD               |87.0000         |NULL                |NULL                     |87.0000        |95405             |\n",
      "|451450198   |17          |14926.0        |40098          |NULL           |200540459   |15:00:00            |22:00:00          |NULL             |2022-04-01 20:03:25  |NULL         |USD               |33.0000         |NULL                |NULL                     |33.0000        |40098             |\n",
      "|451450243   |17          |14926.0        |172108         |NULL           |200540459   |15:00:00            |22:00:00          |NULL             |2022-04-01 21:37:14  |NULL         |USD               |56.0000         |NULL                |NULL                     |56.0000        |172108            |\n",
      "|451450270   |18          |3081.0         |49775          |NULL           |200540460   |08:00:00            |14:00:00          |NULL             |2022-04-01 08:33:28  |NULL         |USD               |12.5000         |NULL                |NULL                     |12.5000        |49775             |\n",
      "|451450279   |18          |3081.0         |124416         |NULL           |200540460   |08:00:00            |14:00:00          |NULL             |2022-04-01 08:48:45  |NULL         |USD               |41.5000         |NULL                |NULL                     |41.5000        |124416            |\n",
      "|451450315   |18          |3081.0         |85597          |NULL           |200540460   |08:00:00            |14:00:00          |NULL             |2022-04-01 09:29:50  |NULL         |USD               |58.5000         |NULL                |NULL                     |58.5000        |85597             |\n",
      "|451450317   |18          |3081.0         |51847          |NULL           |200540460   |08:00:00            |14:00:00          |NULL             |2022-04-01 09:31:28  |NULL         |USD               |70.5000         |NULL                |NULL                     |70.5000        |51847             |\n",
      "------------------------------------------------------------------------------------------------------------------------------------------------------------------------------------------------------------------------------------------------------------------------------------------------------------\n",
      "\n"
     ]
    }
   ],
   "source": [
    "# After filtering of customer dataset to only US, we will be filtering and looking at the orders \n",
    "# based on these customers only\n",
    "\n",
    "\n",
    "customer_US = us_customer_df.select(F.col(\"CUSTOMER_ID\"))\n",
    "order_header_df = order_header_df.join(customer_US, order_header_df.CUSTOMER_ID == customer_US.CUSTOMER_ID, lsuffix = \"\", rsuffix = \"_US\")\n",
    "order_header_df.show()"
   ]
  },
  {
   "attachments": {},
   "cell_type": "markdown",
   "metadata": {},
   "source": [
    "### 3.2 Null Value Treatment for us_customer_df <a id=\"part3-2\"></a>\n",
    "After creating of the relevant data frames that we need, we will need to do null value treatment to further prepare our dataset for modelling. However, based on the data exploration done previously, we realised that the columns that contains null value will not be affecting the clustering of the model. Hence, we will drop the columns. "
   ]
  },
  {
   "cell_type": "code",
   "execution_count": 342,
   "metadata": {},
   "outputs": [
    {
     "name": "stdout",
     "output_type": "stream",
     "text": [
      "['CITY', 'COUNTRY', 'PREFERRED_LANGUAGE', 'GENDER', 'MARITAL_STATUS', 'CHILDREN_COUNT']\n"
     ]
    }
   ],
   "source": [
    "# Drop irrelevant columns that will not be affecting the clustering of model and/or are all null\n",
    "us_customer_df = us_customer_df.drop([\"FIRST_NAME\", \"LAST_NAME\", \"FAVOURITE_BRAND\", \"E_MAIL\", \"PHONE_NUMBER\", \"POSTAL_CODE\"])\n",
    "\n",
    "# Update categorical columns list\n",
    "cat_cols = [c.name for c in us_customer_df.schema.fields if type(c.datatype) == T.StringType]\n",
    "print(cat_cols)"
   ]
  },
  {
   "cell_type": "code",
   "execution_count": 343,
   "metadata": {},
   "outputs": [
    {
     "name": "stdout",
     "output_type": "stream",
     "text": [
      "CITY: 0.0\n",
      "COUNTRY: 0.0\n",
      "PREFERRED_LANGUAGE: 0.0\n",
      "GENDER: 0.0\n",
      "MARITAL_STATUS: 0.0\n",
      "CHILDREN_COUNT: 0.0\n"
     ]
    }
   ],
   "source": [
    "# Missing value percentage\n",
    "for i in cat_cols:\n",
    "    print(i + \":\", (us_customer_df.count() - us_customer_df.na.drop(subset = i).count())/us_customer_df.count())"
   ]
  },
  {
   "attachments": {},
   "cell_type": "markdown",
   "metadata": {},
   "source": [
    "### 3.3 Replacing values <a id=\"part3-3\"></a>"
   ]
  },
  {
   "cell_type": "code",
   "execution_count": 344,
   "metadata": {},
   "outputs": [
    {
     "data": {
      "text/plain": [
       "{'CITY': '[\\n  \"San Mateo\",\\n  \"New York City\",\\n  \"Boston\",\\n  \"Denver\",\\n  \"Seattle\"\\n]',\n",
       " 'COUNTRY': '[\\n  \"United States\"\\n]',\n",
       " 'PREFERRED_LANGUAGE': '[\\n  \"English\"\\n]',\n",
       " 'GENDER': '[\\n  \"Male\",\\n  \"Undisclosed\",\\n  \"Female\"\\n]',\n",
       " 'MARITAL_STATUS': '[\\n  \"Single\",\\n  \"Married\",\\n  \"Undisclosed\",\\n  \"Divorced/Seperated\"\\n]',\n",
       " 'CHILDREN_COUNT': '[\\n  \"0\",\\n  \"1\",\\n  \"Undisclosed\",\\n  \"2\",\\n  \"4\",\\n  \"5+\",\\n  \"3\"\\n]'}"
      ]
     },
     "execution_count": 344,
     "metadata": {},
     "output_type": "execute_result"
    }
   ],
   "source": [
    "# Update categorical columns list\n",
    "cat_cols = [c.name for c in us_customer_df.schema.fields if type(c.datatype) == T.StringType]\n",
    "\n",
    "# Distinct values in each column\n",
    "dist_vals = us_customer_df.select([F.array_agg(col, is_distinct=True).as_(col) for col in cat_cols]).collect()[0].as_dict()\n",
    "dist_vals"
   ]
  },
  {
   "attachments": {},
   "cell_type": "markdown",
   "metadata": {},
   "source": [
    "Based on the above code, we can drop \"COUNTRY\" and \"PREFERRED_LANGAUGE\" as they contain the same value. "
   ]
  },
  {
   "cell_type": "code",
   "execution_count": 345,
   "metadata": {},
   "outputs": [],
   "source": [
    "# Drop \"COUNTRY\" and \"PREFERRED_LANGAUGE\"\n",
    "us_customer_df = us_customer_df.drop([\"COUNTRY\", \"PREFERRED_LANGUAGE\"])"
   ]
  },
  {
   "attachments": {},
   "cell_type": "markdown",
   "metadata": {},
   "source": [
    "#### Replace 'Undisclosed' in CHILDREN_COUNT\n",
    "Since most of the other values in CHILDREN_COUNT is an integer, let's replace the values 'Undisclosed' and '5+'. This would help in the encoding portion."
   ]
  },
  {
   "cell_type": "code",
   "execution_count": 346,
   "metadata": {},
   "outputs": [],
   "source": [
    "us_customer_df = us_customer_df.withColumn(\"CHILDREN_COUNT\", F.iff(F.col(\"CHILDREN_COUNT\") == \"Undisclosed\", \"0\", F.col(\"CHILDREN_COUNT\")))"
   ]
  },
  {
   "attachments": {},
   "cell_type": "markdown",
   "metadata": {},
   "source": [
    "We are replacing the \"Undisclosed\" values in the children count column with '0' because we don't have information about the number of children for those customers. Since the children count column represents the count of children a customer has, it doesn't make sense to keep the \"Undisclosed\" as a value. We are assuming that customers with \"Undisclosed\" values in the children count column have no children. We are not replacing or dropping them because it wouldn't make sense to encode those values, and dropping the rows would result in significant data loss."
   ]
  },
  {
   "cell_type": "code",
   "execution_count": 347,
   "metadata": {},
   "outputs": [],
   "source": [
    "us_customer_df = us_customer_df.withColumn(\"CHILDREN_COUNT\", F.iff(F.col(\"CHILDREN_COUNT\")== \"5+\", \"5\", F.col(\"CHILDREN_COUNT\")))"
   ]
  },
  {
   "attachments": {},
   "cell_type": "markdown",
   "metadata": {},
   "source": [
    "By replacing the \"5+\" values with '5', we are making a reasonable assumption to simplify the data and create a more consistent representation of the children count. This simplification allows for easier analysis and modeling while still capturing the general information about customers with a larger number of children.\n",
    "\n",
    "Now that all the values in \"CHILDREN_COUNT\" is an integer, we will convert the column to integer."
   ]
  },
  {
   "cell_type": "code",
   "execution_count": 348,
   "metadata": {},
   "outputs": [],
   "source": [
    "# Convert \"CHILDREN_COUNT\" to integer\n",
    "us_customer_df = us_customer_df.withColumn(\"CHILDREN_COUNT\", F.col(\"CHILDREN_COUNT\").cast(\"int\"))"
   ]
  },
  {
   "attachments": {},
   "cell_type": "markdown",
   "metadata": {},
   "source": [
    "### 3.4 Categorical encoding for us_customer_df <a id=\"part3-4\"></a>\n",
    "Categorical encoding is needed as machine learning models are not able to handle categorical variables. "
   ]
  },
  {
   "cell_type": "code",
   "execution_count": 349,
   "metadata": {},
   "outputs": [
    {
     "data": {
      "text/plain": [
       "{'CITY': '[\\n  \"San Mateo\",\\n  \"New York City\",\\n  \"Boston\",\\n  \"Denver\",\\n  \"Seattle\"\\n]',\n",
       " 'GENDER': '[\\n  \"Male\",\\n  \"Undisclosed\",\\n  \"Female\"\\n]',\n",
       " 'MARITAL_STATUS': '[\\n  \"Single\",\\n  \"Married\",\\n  \"Undisclosed\",\\n  \"Divorced/Seperated\"\\n]'}"
      ]
     },
     "execution_count": 349,
     "metadata": {},
     "output_type": "execute_result"
    }
   ],
   "source": [
    "# Update categorical columns list\n",
    "cat_cols = [c.name for c in us_customer_df.schema.fields if type(c.datatype) == T.StringType]\n",
    "\n",
    "# Distinct values in each column\n",
    "dist_vals = us_customer_df.select([F.array_agg(col, is_distinct=True).as_(col) for col in cat_cols]).collect()[0].as_dict()\n",
    "dist_vals"
   ]
  },
  {
   "attachments": {},
   "cell_type": "markdown",
   "metadata": {},
   "source": [
    "We will use categorical encoding to ensure that all the data are in numerical format. “CITY”, “GENDER” and “MARITAL_STATUS” in the customer dataset will be encoded."
   ]
  },
  {
   "cell_type": "code",
   "execution_count": 350,
   "metadata": {},
   "outputs": [],
   "source": [
    "# city [Frequency Encoding]\n",
    "us_customer_df.group_by(\"CITY\").agg(F.count(\"CUSTOMER_ID\").alias(\"CID\"))\n",
    "freq_enc = us_customer_df.groupBy(\"CITY\").agg(F.count(\"CUSTOMER_ID\").alias(\"city_frequency\"))\n",
    "    # join the encoded column back to the original DataFrame\n",
    "us_customer_df = us_customer_df.join(freq_enc, us_customer_df.CITY == freq_enc.CITY, lsuffix = \"\", rsuffix = \"_FREQ_ENC\")"
   ]
  },
  {
   "attachments": {},
   "cell_type": "markdown",
   "metadata": {},
   "source": [
    "Using frequency encoding for \"CITY\" can help to retain valuable information such as the distribution of each city in the dataset.\n",
    "\n",
    "Label encoding will be applied to “GENDER” and “MARITAL_STATUS”. "
   ]
  },
  {
   "cell_type": "code",
   "execution_count": 351,
   "metadata": {},
   "outputs": [],
   "source": [
    "# Gender [Label Encoding]\n",
    "#  Male -> 0\n",
    "#  Female -> 1\n",
    "#  Undisclosed -> 2\n",
    "\n",
    "us_customer_df = us_customer_df.withColumn(\"Gender\", F.when(us_customer_df[\"GENDER\"] == \"Male\", \"0\")\n",
    "                                             .when(us_customer_df[\"GENDER\"] == \"Female\", \"1\").otherwise(\"2\"))"
   ]
  },
  {
   "cell_type": "code",
   "execution_count": 352,
   "metadata": {},
   "outputs": [],
   "source": [
    "# Marital status [Label Encoding]\n",
    "#  Married -> 0 \n",
    "#  Single -> 1\n",
    "#  Divorced/seperated -> 2 \n",
    "#  Undisclosed -> 3\n",
    "\n",
    "us_customer_df = us_customer_df.withColumn(\n",
    "    \"MARITAL_STATUS\",\n",
    "    F.when(us_customer_df[\"MARITAL_STATUS\"] == \"Married\", \"0\")\n",
    "    .when(us_customer_df[\"MARITAL_STATUS\"] == \"Single\", \"1\")\n",
    "    .when(us_customer_df[\"MARITAL_STATUS\"] == \"Divorced/Seperated\", \"2\")\n",
    "    .otherwise(\"3\")\n",
    ")"
   ]
  },
  {
   "attachments": {},
   "cell_type": "markdown",
   "metadata": {},
   "source": [
    "### 3.5 Calculating customer's age <a id=\"part3-5\"></a>\n",
    "“BIRTHDAY_DATE” will be replaced by “AGE” instead, with the last order transaction date recorded based on all the customers as the current date. "
   ]
  },
  {
   "cell_type": "code",
   "execution_count": 353,
   "metadata": {},
   "outputs": [],
   "source": [
    "# Calculating of the age of each customer based on the last order transaction date recorded based on all customers as current date \n",
    "last_date = order_header_df.agg(F.max(\"ORDER_TS\")).collect()[0][0]\n",
    "us_customer_df = us_customer_df.withColumn(\"Last_date\", F.iff(F.col(\"CUSTOMER_ID\") == F.col(\"CUSTOMER_ID\"), last_date, last_date))\n",
    "us_customer_df = us_customer_df.withColumn(\"AGE\", F.datediff(\"year\", F.col(\"BIRTHDAY_DATE\"), F.col(\"Last_date\")))"
   ]
  },
  {
   "cell_type": "code",
   "execution_count": 354,
   "metadata": {},
   "outputs": [
    {
     "name": "stdout",
     "output_type": "stream",
     "text": [
      "--------------------------------------------------------------------------------------------------------------\n",
      "|\"CUSTOMER_ID\"  |\"SIGN_UP_DATE\"  |\"CHILDREN_COUNT\"  |\"CITY_FREQUENCY\"  |\"GENDER\"  |\"MARITAL_STATUS\"  |\"AGE\"  |\n",
      "--------------------------------------------------------------------------------------------------------------\n",
      "|118            |2019-07-07      |0                 |10613             |0         |1                 |34     |\n",
      "|189            |2020-03-06      |1                 |10613             |2         |0                 |38     |\n",
      "|204            |2021-10-10      |0                 |10613             |0         |3                 |43     |\n",
      "|42             |2020-07-11      |0                 |10613             |2         |1                 |56     |\n",
      "|59             |2020-12-29      |2                 |10613             |0         |0                 |61     |\n",
      "|65             |2020-11-05      |5                 |10613             |0         |2                 |64     |\n",
      "|106            |2021-06-28      |0                 |10613             |1         |1                 |55     |\n",
      "|219            |2021-01-22      |2                 |10613             |2         |0                 |57     |\n",
      "|222            |2021-03-21      |0                 |10613             |1         |1                 |57     |\n",
      "|22             |2021-04-22      |4                 |10613             |0         |0                 |73     |\n",
      "--------------------------------------------------------------------------------------------------------------\n",
      "\n"
     ]
    }
   ],
   "source": [
    "# Dropping of categorical columns and unnecessary columns \n",
    "us_customer_df = us_customer_df.drop(\"CITY\", \"CITY_FREQ_ENC\", \"LAST_DATE\", \"BIRTHDAY_DATE\")\n",
    "\n",
    "# Final customer dataframe\n",
    "us_customer_df.show(10)"
   ]
  },
  {
   "attachments": {},
   "cell_type": "markdown",
   "metadata": {},
   "source": [
    "### 3.6 Calculating RFM <a id=\"part3-6\"></a>"
   ]
  },
  {
   "attachments": {},
   "cell_type": "markdown",
   "metadata": {},
   "source": [
    "#### 3.6.1 Calculation of Recency <a id=\"part3-6-1\"></a>\n",
    "To calculate the recency of orders for each customer, we will take the last order timestamp of the customer minus the current date identified. "
   ]
  },
  {
   "cell_type": "code",
   "execution_count": 355,
   "metadata": {},
   "outputs": [],
   "source": [
    "# Finding the last order time stamp for each customer\n",
    "customer_last_order_timestamp = order_header_df.groupBy(\"CUSTOMER_ID\").agg(F.max(\"ORDER_TS\").alias(\"LAST_ORDER_TS\"))"
   ]
  },
  {
   "cell_type": "code",
   "execution_count": 356,
   "metadata": {},
   "outputs": [
    {
     "name": "stdout",
     "output_type": "stream",
     "text": [
      "-----------------------\n",
      "|\"MIN(ORDER_TS)\"      |\n",
      "-----------------------\n",
      "|2019-01-01 17:19:08  |\n",
      "-----------------------\n",
      "\n",
      "-----------------------\n",
      "|\"MAX(ORDER_TS)\"      |\n",
      "-----------------------\n",
      "|2022-11-01 22:58:56  |\n",
      "-----------------------\n",
      "\n"
     ]
    }
   ],
   "source": [
    "# Finding the first and latest transaction timestamps\n",
    "\n",
    "# First transaction timestamp\n",
    "order_header_df.agg(F.min(\"ORDER_TS\")).show()\n",
    "\n",
    "# Lastest transaction timestamp\n",
    "order_header_df.agg(F.max(\"ORDER_TS\")).show()"
   ]
  },
  {
   "cell_type": "code",
   "execution_count": 357,
   "metadata": {},
   "outputs": [
    {
     "name": "stdout",
     "output_type": "stream",
     "text": [
      "-------------------------------------------------------------------------\n",
      "|\"CUSTOMER_ID\"  |\"LAST_ORDER_TS\"      |\"CURRENT DATE\"  |\"RECENCY_DAYS\"  |\n",
      "-------------------------------------------------------------------------\n",
      "|70625          |2022-10-22 18:57:16  |2022-11-01      |10              |\n",
      "|61591          |2022-10-26 17:54:46  |2022-11-01      |6               |\n",
      "|171000         |2022-10-30 09:56:03  |2022-11-01      |2               |\n",
      "|159549         |2022-11-01 16:53:23  |2022-11-01      |0               |\n",
      "|115424         |2022-10-28 19:43:52  |2022-11-01      |4               |\n",
      "|191590         |2022-11-01 13:19:30  |2022-11-01      |0               |\n",
      "|61495          |2022-10-29 10:49:17  |2022-11-01      |3               |\n",
      "|31451          |2022-10-18 22:27:14  |2022-11-01      |14              |\n",
      "|170430         |2022-10-17 19:11:47  |2022-11-01      |15              |\n",
      "|181391         |2022-10-30 12:31:21  |2022-11-01      |2               |\n",
      "-------------------------------------------------------------------------\n",
      "\n"
     ]
    }
   ],
   "source": [
    "# Creating a new dataframe and adding column with current date as the latest \n",
    "# transaction timestamp identified previously \n",
    "\n",
    "# Inserting new column: current date which the lastest transaction timestamp\n",
    "customer_recency = customer_last_order_timestamp.with_column(\"CURRENT DATE\", F.iff(F.col(\"LAST_ORDER_TS\") == F.col(\"LAST_ORDER_TS\"), \"2022-11-01\", \"0\"))\n",
    "\n",
    "# Calculate recency days\n",
    "customer_recency = customer_recency.with_column(\"RECENCY_DAYS\", F.datediff('day', customer_recency[\"LAST_ORDER_TS\"], customer_recency[\"CURRENT DATE\"]))\n",
    "customer_recency.show()"
   ]
  },
  {
   "cell_type": "code",
   "execution_count": 358,
   "metadata": {},
   "outputs": [],
   "source": [
    "# Calculating the number of days since a customer bought from Tasty Bytes based \n",
    "# on the date difference between the current date and last order timestamp and \n",
    "# adding it into the customer_recency data frame\n",
    "\n",
    "temp_customer_recency = customer_recency.select('CUSTOMER_ID','RECENCY_DAYS')\n",
    "\n",
    "# Joining customer_recency and customer_df to make a new data frame which will be used for clustering\n",
    "customer_final = temp_customer_recency.join(customer_df, \n",
    "                                customer_df.CUSTOMER_ID==temp_customer_recency.CUSTOMER_ID, lsuffix=\"\", rsuffix=\"_RECENCY\")"
   ]
  },
  {
   "attachments": {},
   "cell_type": "markdown",
   "metadata": {},
   "source": [
    "#### 3.6.2 Calculation of Frequency <a id=\"part3-6-2\"></a>\n",
    "To calculate the frequency of orders for each customer, we will be calculating the total order by customers divided by the duration between their first order and the current date identified."
   ]
  },
  {
   "cell_type": "code",
   "execution_count": 359,
   "metadata": {},
   "outputs": [
    {
     "name": "stdout",
     "output_type": "stream",
     "text": [
      "---------------------------------------\n",
      "|\"CUSTOMER_ID\"  |\"FIRST_ORDER_TS\"     |\n",
      "---------------------------------------\n",
      "|79393          |2019-07-07 19:18:31  |\n",
      "|97467          |2019-09-22 18:28:32  |\n",
      "|100201         |2019-05-03 08:57:29  |\n",
      "|116361         |2019-05-29 21:27:35  |\n",
      "|62668          |2019-10-26 18:16:11  |\n",
      "---------------------------------------\n",
      "\n"
     ]
    }
   ],
   "source": [
    "# Obtain the time stamp for each customer’s first order\n",
    "customer_first_order_timestamp = order_header_df.groupBy(\"CUSTOMER_ID\").agg(F.min(\"ORDER_TS\").alias(\"FIRST_ORDER_TS\"))\n",
    "customer_first_order_timestamp.show(n=5)"
   ]
  },
  {
   "cell_type": "code",
   "execution_count": 360,
   "metadata": {},
   "outputs": [
    {
     "name": "stdout",
     "output_type": "stream",
     "text": [
      "---------------------------------\n",
      "|\"CUSTOMER_ID\"  |\"TOTAL_ORDER\"  |\n",
      "---------------------------------\n",
      "|96975          |57             |\n",
      "|94580          |71             |\n",
      "|144225         |62             |\n",
      "|151133         |63             |\n",
      "|127470         |51             |\n",
      "---------------------------------\n",
      "\n"
     ]
    }
   ],
   "source": [
    "# Calculating the total number of orders for each customer\n",
    "total_order_by_cust = order_header_df.group_by(\"CUSTOMER_ID\").agg(F.count(\"ORDER_ID\").alias(\"TOTAL_ORDER\"))\n",
    "total_order_by_cust.show(n=5)"
   ]
  },
  {
   "cell_type": "code",
   "execution_count": 361,
   "metadata": {},
   "outputs": [],
   "source": [
    "# Joining the total number of orders, first order timestamp tables with the customer data\n",
    "customer_freq = customer_df.join(customer_first_order_timestamp, customer_df.CUSTOMER_ID==customer_first_order_timestamp.CUSTOMER_ID, lsuffix=\"\", rsuffix=\"_FIRST_TS\")\n",
    "customer_freq = customer_freq.join(total_order_by_cust, customer_freq.CUSTOMER_ID==total_order_by_cust.CUSTOMER_ID, lsuffix=\"\", rsuffix=\"_NUM_ORDER\")\n",
    "\n",
    "# Adding in relevant columns to the newly joined data frame such as “CURRENT DATE”, “YEARS_WITH_US”, and “CUSTOMER_FREQUENCY” to calculate the frequency\n",
    "customer_freq = customer_freq.with_column(\"CURRENT DATE\", F.iff(F.col(\"CUSTOMER_ID\") == F.col(\"CUSTOMER_ID\"), \"2022-11-01\", \"0\"))\n",
    "customer_freq = customer_freq.with_column(\"YEARS_WITH_US\",F.datediff(\"day\", customer_freq[\"FIRST_ORDER_TS\"], customer_freq[\"CURRENT DATE\"])/365)\n",
    "customer_freq = customer_freq.with_column(\"CUSTOMER_FREQUENCY\", customer_freq[\"TOTAL_ORDER\"]/customer_freq[\"YEARS_WITH_US\"])"
   ]
  },
  {
   "cell_type": "code",
   "execution_count": 362,
   "metadata": {},
   "outputs": [],
   "source": [
    "# Joining this table to the customer dataset that will be used for clustering later on\n",
    "temp_customer_freq = customer_freq.select([\"CUSTOMER_ID\",\"CUSTOMER_FREQUENCY\",'TOTAL_ORDER'])\n",
    "customer_final = temp_customer_freq.join(customer_final, \n",
    "                                customer_final.CUSTOMER_ID==temp_customer_freq.CUSTOMER_ID, lsuffix=\"\", rsuffix=\"_FREQUENCY\")"
   ]
  },
  {
   "attachments": {},
   "cell_type": "markdown",
   "metadata": {},
   "source": [
    "#### 3.6.3 Calculation of Monetary Value <a id=\"part3-6-3\"></a>\n",
    "To calculate the monetary value for each customer, we will be calculating the total sales generated by each customer divided by the number of years the customer has ordered with Tasty Bytes. "
   ]
  },
  {
   "cell_type": "code",
   "execution_count": 363,
   "metadata": {},
   "outputs": [],
   "source": [
    " # Calculate the total sales generated by each customer \n",
    "total_amount_spent = order_header_df.group_by(\"CUSTOMER_ID\").agg(F.sum(\"ORDER_TOTAL\").alias(\"TOTAL_SPENT\"))\n",
    "\n",
    "# Joining the total sales generated by each customer with the first order timestamp tables \n",
    "customer_monetary = total_amount_spent.join(customer_first_order_timestamp, total_amount_spent.CUSTOMER_ID==customer_first_order_timestamp.CUSTOMER_ID, lsuffix=\"\", rsuffix=\"_FIRST_TS\")\n",
    "\n",
    "# Adding in relevant columns to the newly joined data frame such as “CURRENT DATE”, “YEARS_WITH_US”, and “MONETARY_VALUE” to calculate the monetary value\n",
    "customer_monetary = customer_monetary.with_column(\"CURRENT DATE\", F.iff(F.col(\"CUSTOMER_ID\") == F.col(\"CUSTOMER_ID\"), \"2022-08-01\", \"0\"))\n",
    "customer_monetary = customer_monetary.with_column(\"YEARS_WITH_US\",F.datediff(\"day\", customer_monetary[\"FIRST_ORDER_TS\"], customer_monetary[\"CURRENT DATE\"])/365)\n",
    "customer_monetary = customer_monetary.with_column(\"MONETARY_VALUE\", F.col(\"TOTAL_SPENT\")/F.col(\"YEARS_WITH_US\"))"
   ]
  },
  {
   "cell_type": "code",
   "execution_count": 364,
   "metadata": {},
   "outputs": [],
   "source": [
    "# Joining this table to the customer dataset that will be used for clustering later on \n",
    "temp_customer_freq = customer_monetary.select(['CUSTOMER_ID','TOTAL_SPENT','YEARS_WITH_US','MONETARY_VALUE'])\n",
    "customer_final = temp_customer_freq.join(customer_final, customer_final.CUSTOMER_ID==temp_customer_freq.CUSTOMER_ID, lsuffix=\"\", rsuffix=\"_MONETARY\")"
   ]
  },
  {
   "cell_type": "code",
   "execution_count": 365,
   "metadata": {},
   "outputs": [
    {
     "name": "stdout",
     "output_type": "stream",
     "text": [
      "----------------------------------------------------------------------------------------------------------------------------------------------------------------------------------------------------------\n",
      "|\"CUSTOMER_ID\"  |\"TOTAL_SPENT\"  |\"YEARS_WITH_US\"  |\"TOTAL_ORDER\"  |\"RECENCY_DAYS\"  |\"CUSTOMER_FREQUENCY\"  |\"MONETARY_VALUE\"  |\"CHILDREN_COUNT\"  |\"CITY_FREQUENCY\"  |\"GENDER\"  |\"MARITAL_STATUS\"  |\"AGE\"  |\n",
      "----------------------------------------------------------------------------------------------------------------------------------------------------------------------------------------------------------\n",
      "|169614         |3014.7500      |2.794521         |74             |10              |24.289571             |1078.8074235263   |1                 |7288              |0         |0                 |71     |\n",
      "|107415         |2698.0000      |2.800000         |64             |15              |20.969478             |963.5714285714    |4                 |7288              |0         |2                 |64     |\n",
      "|61556          |2445.5000      |2.816438         |55             |4               |17.924108             |868.2953432669    |0                 |7288              |0         |1                 |79     |\n",
      "|84342          |2359.0000      |2.778082         |63             |4               |20.791139             |849.1470014204    |5                 |7288              |0         |0                 |28     |\n",
      "|111566         |1895.0000      |2.824658         |51             |5               |16.576137             |670.8776779348    |0                 |7288              |0         |1                 |29     |\n",
      "|128265         |2495.5000      |2.830137         |64             |9               |20.764443             |881.7594342606    |0                 |7288              |1         |3                 |35     |\n",
      "|78090          |2243.0000      |2.441096         |58             |8               |21.536111             |918.8495659327    |4                 |7288              |0         |0                 |77     |\n",
      "|119614         |2815.5000      |2.690411         |67             |11              |22.770017             |1046.4943832002   |0                 |7288              |1         |3                 |40     |\n",
      "|188082         |2513.7500      |2.717808         |63             |0               |21.213100             |924.9181693482    |0                 |7288              |0         |0                 |81     |\n",
      "|133138         |2325.7500      |2.819178         |58             |2               |18.884923             |824.9745138477    |0                 |7288              |1         |1                 |18     |\n",
      "----------------------------------------------------------------------------------------------------------------------------------------------------------------------------------------------------------\n",
      "\n"
     ]
    }
   ],
   "source": [
    "customer_final = customer_final.select(\n",
    "    [\"CUSTOMER_ID\", \"TOTAL_SPENT\", \n",
    "     \"YEARS_WITH_US\", \"TOTAL_ORDER\", \n",
    "     \"RECENCY_DAYS\", \"CUSTOMER_FREQUENCY\", \"MONETARY_VALUE\"])\n",
    "\n",
    "# Merge with customer details\n",
    "customer_final = customer_final.join(us_customer_df, customer_final.CUSTOMER_ID == us_customer_df.CUSTOMER_ID, lsuffix = \"\", rsuffix = \"_enc\")\n",
    "\n",
    "# Dropping of irrelevant and unnecessary columns that have been introduced during joining of dataframes in previous steps\n",
    "customer_final = customer_final.drop([\"CUSTOMER_ID_ENC\", \"SIGN_UP_DATE\"])\n",
    "customer_final.show(10)"
   ]
  },
  {
   "attachments": {},
   "cell_type": "markdown",
   "metadata": {},
   "source": [
    "### 3.7 Calculating Customer Purchase Patterns<a id=\"part3-7\"></a>"
   ]
  },
  {
   "attachments": {},
   "cell_type": "markdown",
   "metadata": {},
   "source": [
    "#### 3.7.1 Calculation of Average Days between Purchases <a id=\"part3-7-1\"></a>"
   ]
  },
  {
   "cell_type": "code",
   "execution_count": 366,
   "metadata": {},
   "outputs": [
    {
     "name": "stdout",
     "output_type": "stream",
     "text": [
      "---------------------------------------\n",
      "|\"CUSTOMER_ID\"  |\"AVG(DAYS_BETWEEN)\"  |\n",
      "---------------------------------------\n",
      "|22             |29.139535            |\n",
      "|42             |32.564103            |\n",
      "|59             |33.157895            |\n",
      "|65             |29.095238            |\n",
      "|106            |23.604167            |\n",
      "|118            |29.205128            |\n",
      "|166            |20.325581            |\n",
      "|176            |30.212121            |\n",
      "|189            |26.102041            |\n",
      "|204            |27.388889            |\n",
      "---------------------------------------\n",
      "\n"
     ]
    }
   ],
   "source": [
    "# Finding the average days between purchase for each customer\n",
    "customer_order_times = order_header_df.sort(col(\"CUSTOMER_ID\"), col(\"ORDER_TS\"))\n",
    "customer_order_times = customer_order_times.withColumn(\"prev_order_date\", F.lag(col(\"ORDER_TS\"), 1).over(Window.partitionBy(\"CUSTOMER_ID\").orderBy(\"ORDER_TS\"))).withColumn(\"days_between\", F.datediff('day', col(\"prev_order_date\"), col(\"ORDER_TS\")))\n",
    "customer_average_days = customer_order_times.groupBy(\"CUSTOMER_ID\").avg(\"days_between\")\n",
    "customer_average_days = customer_average_days.sort(col('CUSTOMER_ID'))\n",
    "customer_average_days.show()"
   ]
  },
  {
   "cell_type": "code",
   "execution_count": 367,
   "metadata": {},
   "outputs": [
    {
     "name": "stdout",
     "output_type": "stream",
     "text": [
      "--------------------------------------------------------------------------------------------------------------------------------------------------------------------------------------------------------------------------------------------------------------------------\n",
      "|\"CUSTOMER_ID\"  |\"AVG(DAYS_BETWEEN)\"  |\"CUSTOMER_ID_AVG_DAYS_WITHOUT_PURCHASE\"  |\"TOTAL_SPENT\"  |\"YEARS_WITH_US\"  |\"TOTAL_ORDER\"  |\"RECENCY_DAYS\"  |\"CUSTOMER_FREQUENCY\"  |\"MONETARY_VALUE\"  |\"CHILDREN_COUNT\"  |\"CITY_FREQUENCY\"  |\"GENDER\"  |\"MARITAL_STATUS\"  |\"AGE\"  |\n",
      "--------------------------------------------------------------------------------------------------------------------------------------------------------------------------------------------------------------------------------------------------------------------------\n",
      "|118            |29.205128            |118                                      |1419.2500      |2.876712         |40             |3               |12.784589             |493.3583897171    |0                 |10613             |0         |1                 |34     |\n",
      "|189            |26.102041            |189                                      |1921.0000      |3.257534         |50             |2               |14.246682             |589.7098848393    |1                 |10613             |2         |0                 |38     |\n",
      "|204            |27.388889            |204                                      |1263.0000      |2.471233         |37             |8               |13.586517             |511.0809057665    |0                 |10613             |0         |3                 |43     |\n",
      "|42             |32.564103            |42                                       |1817.5000      |3.243836         |40             |6               |11.442008             |560.2934303707    |0                 |10613             |2         |1                 |56     |\n",
      "|59             |33.157895            |59                                       |1325.5000      |3.216438         |39             |6               |11.244076             |412.1018343895    |2                 |10613             |0         |0                 |61     |\n",
      "|65             |29.095238            |65                                       |1407.2500      |3.147945         |43             |19              |12.647059             |447.0376706073    |5                 |10613             |0         |2                 |64     |\n",
      "|106            |23.604167            |106                                      |2147.7500      |2.860274         |49             |3               |15.743837             |750.8896000873    |0                 |10613             |1         |1                 |55     |\n",
      "|219            |26.358974            |219                                      |1342.5000      |2.580822         |40             |6               |14.119921             |520.1831044528    |2                 |10613             |2         |0                 |57     |\n",
      "|222            |30.636364            |222                                      |1912.5000      |3.490411         |45             |18              |12.024157             |547.9297423713    |0                 |10613             |1         |1                 |57     |\n",
      "|22             |29.139535            |22                                       |1439.0000      |3.216438         |44             |13              |12.685625             |447.3893170022    |4                 |10613             |0         |0                 |73     |\n",
      "--------------------------------------------------------------------------------------------------------------------------------------------------------------------------------------------------------------------------------------------------------------------------\n",
      "\n"
     ]
    }
   ],
   "source": [
    "customer_final = customer_average_days.join(customer_final, \n",
    "                                customer_final.CUSTOMER_ID==customer_average_days.CUSTOMER_ID, lsuffix=\"\", rsuffix=\"_AVG_DAYS_WITHOUT_PURCHASE\")\n",
    "customer_final.show()"
   ]
  },
  {
   "attachments": {},
   "cell_type": "markdown",
   "metadata": {},
   "source": [
    "#### 3.7.2 Calculation the Minimum Number of Days without Customer Purchase <a id=\"part3-7-2\"></a>"
   ]
  },
  {
   "cell_type": "code",
   "execution_count": 368,
   "metadata": {},
   "outputs": [
    {
     "name": "stdout",
     "output_type": "stream",
     "text": [
      "---------------------------------------\n",
      "|\"CUSTOMER_ID\"  |\"MIN(DAYS_BETWEEN)\"  |\n",
      "---------------------------------------\n",
      "|22             |1                    |\n",
      "|42             |1                    |\n",
      "|59             |1                    |\n",
      "|65             |2                    |\n",
      "|106            |1                    |\n",
      "|118            |1                    |\n",
      "|166            |1                    |\n",
      "|176            |1                    |\n",
      "|189            |1                    |\n",
      "|204            |1                    |\n",
      "---------------------------------------\n",
      "\n"
     ]
    }
   ],
   "source": [
    "# Finding the minimum days without purchase for each customer\n",
    "customer_min_days = customer_order_times.groupBy(\"CUSTOMER_ID\").min(\"days_between\")\n",
    "customer_min_days = customer_min_days.sort(col('CUSTOMER_ID'))\n",
    "customer_min_days.show()"
   ]
  },
  {
   "cell_type": "code",
   "execution_count": 369,
   "metadata": {},
   "outputs": [
    {
     "name": "stdout",
     "output_type": "stream",
     "text": [
      "------------------------------------------------------------------------------------------------------------------------------------------------------------------------------------------------------------------------------------------------------------------------------------------------------------------------------------------\n",
      "|\"CUSTOMER_ID\"  |\"MIN(DAYS_BETWEEN)\"  |\"CUSTOMER_ID_MIN_DAYS_WITHOUT_PURCHASE\"  |\"AVG(DAYS_BETWEEN)\"  |\"CUSTOMER_ID_AVG_DAYS_WITHOUT_PURCHASE\"  |\"TOTAL_SPENT\"  |\"YEARS_WITH_US\"  |\"TOTAL_ORDER\"  |\"RECENCY_DAYS\"  |\"CUSTOMER_FREQUENCY\"  |\"MONETARY_VALUE\"  |\"CHILDREN_COUNT\"  |\"CITY_FREQUENCY\"  |\"GENDER\"  |\"MARITAL_STATUS\"  |\"AGE\"  |\n",
      "------------------------------------------------------------------------------------------------------------------------------------------------------------------------------------------------------------------------------------------------------------------------------------------------------------------------------------------\n",
      "|118            |1                    |118                                      |29.205128            |118                                      |1419.2500      |2.876712         |40             |3               |12.784589             |493.3583897171    |0                 |10613             |0         |1                 |34     |\n",
      "|189            |1                    |189                                      |26.102041            |189                                      |1921.0000      |3.257534         |50             |2               |14.246682             |589.7098848393    |1                 |10613             |2         |0                 |38     |\n",
      "|204            |1                    |204                                      |27.388889            |204                                      |1263.0000      |2.471233         |37             |8               |13.586517             |511.0809057665    |0                 |10613             |0         |3                 |43     |\n",
      "|42             |1                    |42                                       |32.564103            |42                                       |1817.5000      |3.243836         |40             |6               |11.442008             |560.2934303707    |0                 |10613             |2         |1                 |56     |\n",
      "|59             |1                    |59                                       |33.157895            |59                                       |1325.5000      |3.216438         |39             |6               |11.244076             |412.1018343895    |2                 |10613             |0         |0                 |61     |\n",
      "|65             |2                    |65                                       |29.095238            |65                                       |1407.2500      |3.147945         |43             |19              |12.647059             |447.0376706073    |5                 |10613             |0         |2                 |64     |\n",
      "|106            |1                    |106                                      |23.604167            |106                                      |2147.7500      |2.860274         |49             |3               |15.743837             |750.8896000873    |0                 |10613             |1         |1                 |55     |\n",
      "|219            |1                    |219                                      |26.358974            |219                                      |1342.5000      |2.580822         |40             |6               |14.119921             |520.1831044528    |2                 |10613             |2         |0                 |57     |\n",
      "|222            |1                    |222                                      |30.636364            |222                                      |1912.5000      |3.490411         |45             |18              |12.024157             |547.9297423713    |0                 |10613             |1         |1                 |57     |\n",
      "|22             |1                    |22                                       |29.139535            |22                                       |1439.0000      |3.216438         |44             |13              |12.685625             |447.3893170022    |4                 |10613             |0         |0                 |73     |\n",
      "------------------------------------------------------------------------------------------------------------------------------------------------------------------------------------------------------------------------------------------------------------------------------------------------------------------------------------------\n",
      "\n"
     ]
    }
   ],
   "source": [
    "customer_final = customer_min_days.join(customer_final, \n",
    "                                customer_final.CUSTOMER_ID==customer_min_days.CUSTOMER_ID, lsuffix=\"\", rsuffix=\"_MIN_DAYS_WITHOUT_PURCHASE\")\n",
    "customer_final.show()"
   ]
  },
  {
   "attachments": {},
   "cell_type": "markdown",
   "metadata": {},
   "source": [
    "#### 3.7.3 Calculation the Maximum Number of Days without Customer Purchase <a id=\"part3-7-3\"></a>"
   ]
  },
  {
   "cell_type": "code",
   "execution_count": 370,
   "metadata": {},
   "outputs": [
    {
     "name": "stdout",
     "output_type": "stream",
     "text": [
      "---------------------------------------\n",
      "|\"CUSTOMER_ID\"  |\"MAX(DAYS_BETWEEN)\"  |\n",
      "---------------------------------------\n",
      "|22             |173                  |\n",
      "|42             |167                  |\n",
      "|59             |390                  |\n",
      "|65             |207                  |\n",
      "|106            |158                  |\n",
      "|118            |158                  |\n",
      "|166            |119                  |\n",
      "|176            |139                  |\n",
      "|189            |164                  |\n",
      "|204            |172                  |\n",
      "---------------------------------------\n",
      "\n"
     ]
    }
   ],
   "source": [
    "# Finding the maximum days without purchase for each customer\n",
    "customer_max_days = customer_order_times.groupBy(\"CUSTOMER_ID\").max(\"days_between\")\n",
    "customer_max_days = customer_max_days.sort(col('CUSTOMER_ID'))\n",
    "customer_max_days.show()"
   ]
  },
  {
   "cell_type": "code",
   "execution_count": 371,
   "metadata": {},
   "outputs": [
    {
     "name": "stdout",
     "output_type": "stream",
     "text": [
      "----------------------------------------------------------------------------------------------------------------------------------------------------------------------------------------------------------------------------------------------------------------------------------------------------------------------------------------------------------------------------------------------------------\n",
      "|\"CUSTOMER_ID\"  |\"MAX(DAYS_BETWEEN)\"  |\"CUSTOMER_ID_MAX_DAYS_WITHOUT_PURCHASE\"  |\"MIN(DAYS_BETWEEN)\"  |\"CUSTOMER_ID_MIN_DAYS_WITHOUT_PURCHASE\"  |\"AVG(DAYS_BETWEEN)\"  |\"CUSTOMER_ID_AVG_DAYS_WITHOUT_PURCHASE\"  |\"TOTAL_SPENT\"  |\"YEARS_WITH_US\"  |\"TOTAL_ORDER\"  |\"RECENCY_DAYS\"  |\"CUSTOMER_FREQUENCY\"  |\"MONETARY_VALUE\"  |\"CHILDREN_COUNT\"  |\"CITY_FREQUENCY\"  |\"GENDER\"  |\"MARITAL_STATUS\"  |\"AGE\"  |\n",
      "----------------------------------------------------------------------------------------------------------------------------------------------------------------------------------------------------------------------------------------------------------------------------------------------------------------------------------------------------------------------------------------------------------\n",
      "|118            |158                  |118                                      |1                    |118                                      |29.205128            |118                                      |1419.2500      |2.876712         |40             |3               |12.784589             |493.3583897171    |0                 |10613             |0         |1                 |34     |\n",
      "|189            |164                  |189                                      |1                    |189                                      |26.102041            |189                                      |1921.0000      |3.257534         |50             |2               |14.246682             |589.7098848393    |1                 |10613             |2         |0                 |38     |\n",
      "|204            |172                  |204                                      |1                    |204                                      |27.388889            |204                                      |1263.0000      |2.471233         |37             |8               |13.586517             |511.0809057665    |0                 |10613             |0         |3                 |43     |\n",
      "|42             |167                  |42                                       |1                    |42                                       |32.564103            |42                                       |1817.5000      |3.243836         |40             |6               |11.442008             |560.2934303707    |0                 |10613             |2         |1                 |56     |\n",
      "|59             |390                  |59                                       |1                    |59                                       |33.157895            |59                                       |1325.5000      |3.216438         |39             |6               |11.244076             |412.1018343895    |2                 |10613             |0         |0                 |61     |\n",
      "|65             |207                  |65                                       |2                    |65                                       |29.095238            |65                                       |1407.2500      |3.147945         |43             |19              |12.647059             |447.0376706073    |5                 |10613             |0         |2                 |64     |\n",
      "|106            |158                  |106                                      |1                    |106                                      |23.604167            |106                                      |2147.7500      |2.860274         |49             |3               |15.743837             |750.8896000873    |0                 |10613             |1         |1                 |55     |\n",
      "|219            |158                  |219                                      |1                    |219                                      |26.358974            |219                                      |1342.5000      |2.580822         |40             |6               |14.119921             |520.1831044528    |2                 |10613             |2         |0                 |57     |\n",
      "|222            |346                  |222                                      |1                    |222                                      |30.636364            |222                                      |1912.5000      |3.490411         |45             |18              |12.024157             |547.9297423713    |0                 |10613             |1         |1                 |57     |\n",
      "|22             |173                  |22                                       |1                    |22                                       |29.139535            |22                                       |1439.0000      |3.216438         |44             |13              |12.685625             |447.3893170022    |4                 |10613             |0         |0                 |73     |\n",
      "----------------------------------------------------------------------------------------------------------------------------------------------------------------------------------------------------------------------------------------------------------------------------------------------------------------------------------------------------------------------------------------------------------\n",
      "\n"
     ]
    }
   ],
   "source": [
    "customer_final = customer_max_days.join(customer_final, \n",
    "                                customer_final.CUSTOMER_ID==customer_max_days.CUSTOMER_ID, lsuffix=\"\", rsuffix=\"_MAX_DAYS_WITHOUT_PURCHASE\")\n",
    "customer_final.show()"
   ]
  },
  {
   "cell_type": "code",
   "execution_count": 372,
   "metadata": {},
   "outputs": [
    {
     "name": "stdout",
     "output_type": "stream",
     "text": [
      "----------------------------------------------------------------------------------------------------------------------------------------------------------------------------------------------------------------------------------------------------------------------------\n",
      "|\"CUSTOMER_ID\"  |\"MAX(DAYS_BETWEEN)\"  |\"MIN(DAYS_BETWEEN)\"  |\"AVG(DAYS_BETWEEN)\"  |\"TOTAL_SPENT\"  |\"YEARS_WITH_US\"  |\"TOTAL_ORDER\"  |\"RECENCY_DAYS\"  |\"CUSTOMER_FREQUENCY\"  |\"MONETARY_VALUE\"  |\"CHILDREN_COUNT\"  |\"CITY_FREQUENCY\"  |\"GENDER\"  |\"MARITAL_STATUS\"  |\"AGE\"  |\n",
      "----------------------------------------------------------------------------------------------------------------------------------------------------------------------------------------------------------------------------------------------------------------------------\n",
      "|118            |158                  |1                    |29.205128            |1419.2500      |2.876712         |40             |3               |12.784589             |493.3583897171    |0                 |10613             |0         |1                 |34     |\n",
      "|189            |164                  |1                    |26.102041            |1921.0000      |3.257534         |50             |2               |14.246682             |589.7098848393    |1                 |10613             |2         |0                 |38     |\n",
      "|204            |172                  |1                    |27.388889            |1263.0000      |2.471233         |37             |8               |13.586517             |511.0809057665    |0                 |10613             |0         |3                 |43     |\n",
      "|42             |167                  |1                    |32.564103            |1817.5000      |3.243836         |40             |6               |11.442008             |560.2934303707    |0                 |10613             |2         |1                 |56     |\n",
      "|59             |390                  |1                    |33.157895            |1325.5000      |3.216438         |39             |6               |11.244076             |412.1018343895    |2                 |10613             |0         |0                 |61     |\n",
      "|65             |207                  |2                    |29.095238            |1407.2500      |3.147945         |43             |19              |12.647059             |447.0376706073    |5                 |10613             |0         |2                 |64     |\n",
      "|106            |158                  |1                    |23.604167            |2147.7500      |2.860274         |49             |3               |15.743837             |750.8896000873    |0                 |10613             |1         |1                 |55     |\n",
      "|219            |158                  |1                    |26.358974            |1342.5000      |2.580822         |40             |6               |14.119921             |520.1831044528    |2                 |10613             |2         |0                 |57     |\n",
      "|222            |346                  |1                    |30.636364            |1912.5000      |3.490411         |45             |18              |12.024157             |547.9297423713    |0                 |10613             |1         |1                 |57     |\n",
      "|22             |173                  |1                    |29.139535            |1439.0000      |3.216438         |44             |13              |12.685625             |447.3893170022    |4                 |10613             |0         |0                 |73     |\n",
      "----------------------------------------------------------------------------------------------------------------------------------------------------------------------------------------------------------------------------------------------------------------------------\n",
      "\n"
     ]
    }
   ],
   "source": [
    "# Dropping of irrelevant and unnecessary columns that have been introduced during joining of dataframes in previous steps\n",
    "customer_final = customer_final.drop([\"CUSTOMER_ID_MAX_DAYS_WITHOUT_PURCHASE\", \"CUSTOMER_ID_MIN_DAYS_WITHOUT_PURCHASE\", \"CUSTOMER_ID_AVG_DAYS_WITHOUT_PURCHASE\"])\n",
    "customer_final.show(10)"
   ]
  },
  {
   "attachments": {},
   "cell_type": "markdown",
   "metadata": {},
   "source": [
    "## DATA EXPLORATION"
   ]
  },
  {
   "cell_type": "code",
   "execution_count": 373,
   "metadata": {},
   "outputs": [
    {
     "data": {
      "text/html": [
       "<div>\n",
       "<style scoped>\n",
       "    .dataframe tbody tr th:only-of-type {\n",
       "        vertical-align: middle;\n",
       "    }\n",
       "\n",
       "    .dataframe tbody tr th {\n",
       "        vertical-align: top;\n",
       "    }\n",
       "\n",
       "    .dataframe thead th {\n",
       "        text-align: right;\n",
       "    }\n",
       "</style>\n",
       "<table border=\"1\" class=\"dataframe\">\n",
       "  <thead>\n",
       "    <tr style=\"text-align: right;\">\n",
       "      <th></th>\n",
       "      <th>RECENCY_DAYS</th>\n",
       "      <th>NO_OF_CUST</th>\n",
       "    </tr>\n",
       "  </thead>\n",
       "  <tbody>\n",
       "    <tr>\n",
       "      <th>0</th>\n",
       "      <td>19</td>\n",
       "      <td>901</td>\n",
       "    </tr>\n",
       "    <tr>\n",
       "      <th>1</th>\n",
       "      <td>23</td>\n",
       "      <td>483</td>\n",
       "    </tr>\n",
       "    <tr>\n",
       "      <th>2</th>\n",
       "      <td>57</td>\n",
       "      <td>42</td>\n",
       "    </tr>\n",
       "    <tr>\n",
       "      <th>3</th>\n",
       "      <td>14</td>\n",
       "      <td>1012</td>\n",
       "    </tr>\n",
       "    <tr>\n",
       "      <th>4</th>\n",
       "      <td>10</td>\n",
       "      <td>1727</td>\n",
       "    </tr>\n",
       "  </tbody>\n",
       "</table>\n",
       "</div>"
      ],
      "text/plain": [
       "   RECENCY_DAYS  NO_OF_CUST\n",
       "0            19         901\n",
       "1            23         483\n",
       "2            57          42\n",
       "3            14        1012\n",
       "4            10        1727"
      ]
     },
     "execution_count": 373,
     "metadata": {},
     "output_type": "execute_result"
    }
   ],
   "source": [
    "customer_by_recency = customer_final.group_by(\"RECENCY_DAYS\").agg(F.count(\"CUSTOMER_ID\").alias(\"NO_OF_CUST\")).to_pandas()\n",
    "customer_by_recency.head()"
   ]
  },
  {
   "cell_type": "code",
   "execution_count": 374,
   "metadata": {},
   "outputs": [
    {
     "data": {
      "image/png": "[encoded data removed]",
      "text/plain": [
       "<Figure size 2000x800 with 1 Axes>"
      ]
     },
     "metadata": {},
     "output_type": "display_data"
    }
   ],
   "source": [
    "customer_by_recency.sort_values(by='RECENCY_DAYS', ascending=True, inplace=True) # Sort values in ascending order of customer\n",
    "recency_index = customer_by_recency['RECENCY_DAYS'].tolist()\n",
    "customer_values = customer_by_recency['NO_OF_CUST'].tolist()\n",
    "\n",
    "# Create a figure and subplot\n",
    "fig, V4 = plt.subplots(figsize=(20,8))\n",
    "\n",
    "# Create a bar chart \n",
    "V4.bar(recency_index,customer_values, align = 'center', color='#AFE4FE') # align define the alignment of x-ticks\n",
    "\n",
    "# Display data labels\n",
    "#for x,y in zip(recency_index,customer_values):\n",
    "\n",
    "#    label = x\n",
    "\n",
    "#    plt.annotate(label, \n",
    "#                 (x,y), \n",
    "#                 textcoords=\"offset points\", \n",
    "#                 xytext=(30,-3), \n",
    "#                 fontsize = 10,\n",
    "#                 ha='center') \n",
    "\n",
    "# State title of plot and the axes labels\n",
    "V4.set_title('Distribution of Customers by Recency', fontsize = 25)\n",
    "V4.set_ylabel('Number of customers', fontsize = 20)\n",
    "V4.set_xlabel('Recency Days', fontsize = 20)\n",
    "\n",
    "# Set font size of ticks on the x-axis and y-axis\n",
    "V4.tick_params(labelsize = 12, axis ='both')\n",
    "\n",
    "# Set tight layout for figure\n",
    "fig.tight_layout()\n",
    "\n",
    "# Display plot\n",
    "plt.show()"
   ]
  },
  {
   "cell_type": "code",
   "execution_count": 375,
   "metadata": {},
   "outputs": [
    {
     "name": "stdout",
     "output_type": "stream",
     "text": [
      "Sum of customers where RECENCY_DAYS is below or equal to 30: 42940\n",
      "Sum of customers where RECENCY_DAYS is more than 30: 3360\n",
      "prob not this cos data of rows relatively less\n"
     ]
    }
   ],
   "source": [
    "# Sum of customers where RECENCY_DAYS is below or equal to 30\n",
    "sum_below_30 = customer_by_recency[customer_by_recency['RECENCY_DAYS'] <= 30]['NO_OF_CUST'].sum()\n",
    "\n",
    "# Sum of customers where RECENCY_DAYS is more than 30\n",
    "sum_above_30 = customer_by_recency[customer_by_recency['RECENCY_DAYS'] > 30]['NO_OF_CUST'].sum()\n",
    "\n",
    "# Print the results\n",
    "print(\"Sum of customers where RECENCY_DAYS is below or equal to 30:\", sum_below_30)\n",
    "print(\"Sum of customers where RECENCY_DAYS is more than 30:\", sum_above_30)\n",
    "print(\"prob not this cos data of rows relatively less\")"
   ]
  },
  {
   "cell_type": "code",
   "execution_count": 376,
   "metadata": {},
   "outputs": [
    {
     "name": "stdout",
     "output_type": "stream",
     "text": [
      "RECENCY_DAYS where 80% of the customers are at: 18\n"
     ]
    }
   ],
   "source": [
    "# Find recency days based on percentage of customer (20%)\n",
    "\n",
    "# Sort the DataFrame by RECENCY_DAYS in ascending order\n",
    "customer_by_recency = customer_by_recency.sort_values('RECENCY_DAYS')\n",
    "\n",
    "# Calculate the cumulative sum of customer counts\n",
    "customer_by_recency['CUMULATIVE_COUNT'] = customer_by_recency['NO_OF_CUST'].cumsum()\n",
    "\n",
    "# Find the RECENCY_DAYS where 80% of the customers are at\n",
    "target_percentage = 0.8\n",
    "target_recency_days = None\n",
    "\n",
    "for index, row in customer_by_recency.iterrows():\n",
    "    if row['CUMULATIVE_COUNT'] >= target_percentage * customer_by_recency['NO_OF_CUST'].sum():\n",
    "        target_recency_days = row['RECENCY_DAYS']\n",
    "        break\n",
    "\n",
    "# Print the result\n",
    "print(\"RECENCY_DAYS where 80% of the customers are at:\", target_recency_days)\n"
   ]
  },
  {
   "cell_type": "code",
   "execution_count": 377,
   "metadata": {},
   "outputs": [
    {
     "name": "stdout",
     "output_type": "stream",
     "text": [
      "Sum of customers where RECENCY_DAYS is below or equal to 18: 37239\n",
      "Sum of customers where RECENCY_DAYS is more than 18: 9061\n"
     ]
    }
   ],
   "source": [
    "# Sum of customers where RECENCY_DAYS is below or equal to 18\n",
    "sum_below_18 = customer_by_recency[customer_by_recency['RECENCY_DAYS'] <= 18]['NO_OF_CUST'].sum()\n",
    "\n",
    "# Sum of customers where RECENCY_DAYS is more than 18\n",
    "sum_above_18 = customer_by_recency[customer_by_recency['RECENCY_DAYS'] > 18]['NO_OF_CUST'].sum()\n",
    "\n",
    "# Print the results\n",
    "print(\"Sum of customers where RECENCY_DAYS is below or equal to 18:\", sum_below_18)\n",
    "print(\"Sum of customers where RECENCY_DAYS is more than 18:\", sum_above_18)"
   ]
  },
  {
   "cell_type": "code",
   "execution_count": 378,
   "metadata": {},
   "outputs": [
    {
     "name": "stdout",
     "output_type": "stream",
     "text": [
      "RECENCY_DAYS where 70% of the customers are at: 13\n"
     ]
    }
   ],
   "source": [
    "# Find recency days based on percentage of customer (30%)\n",
    "\n",
    "# Sort the DataFrame by RECENCY_DAYS in ascending order\n",
    "customer_by_recency = customer_by_recency.sort_values('RECENCY_DAYS')\n",
    "\n",
    "# Calculate the cumulative sum of customer counts\n",
    "customer_by_recency['CUMULATIVE_COUNT'] = customer_by_recency['NO_OF_CUST'].cumsum()\n",
    "\n",
    "# Find the RECENCY_DAYS where 80% of the customers are at\n",
    "target_percentage = 0.7\n",
    "target_recency_days = None\n",
    "\n",
    "for index, row in customer_by_recency.iterrows():\n",
    "    if row['CUMULATIVE_COUNT'] >= target_percentage * customer_by_recency['NO_OF_CUST'].sum():\n",
    "        target_recency_days = row['RECENCY_DAYS']\n",
    "        break\n",
    "\n",
    "# Print the result\n",
    "print(\"RECENCY_DAYS where 70% of the customers are at:\", target_recency_days)\n"
   ]
  },
  {
   "cell_type": "code",
   "execution_count": 379,
   "metadata": {},
   "outputs": [
    {
     "name": "stdout",
     "output_type": "stream",
     "text": [
      "Sum of customers where RECENCY_DAYS is below or equal to 13: 33053\n",
      "Sum of customers where RECENCY_DAYS is more than 13: 13247\n"
     ]
    }
   ],
   "source": [
    "# Sum of customers where RECENCY_DAYS is below or equal to 13\n",
    "sum_below_13 = customer_by_recency[customer_by_recency['RECENCY_DAYS'] <= 13]['NO_OF_CUST'].sum()\n",
    "\n",
    "# Sum of customers where RECENCY_DAYS is more than 13\n",
    "sum_above_13 = customer_by_recency[customer_by_recency['RECENCY_DAYS'] > 13]['NO_OF_CUST'].sum()\n",
    "\n",
    "# Print the results\n",
    "print(\"Sum of customers where RECENCY_DAYS is below or equal to 13:\", sum_below_13)\n",
    "print(\"Sum of customers where RECENCY_DAYS is more than 13:\", sum_above_13)"
   ]
  },
  {
   "attachments": {},
   "cell_type": "markdown",
   "metadata": {},
   "source": [
    "### 3.8 Adding Target Variable (Churn or no churn) <a id=\"part3-8\"></a>\n",
    "\n",
    "As of now:\n",
    "- 1 -> churn -> recency_days>14\n",
    "- 0 -> wont churn -> recency_days=<14"
   ]
  },
  {
   "cell_type": "code",
   "execution_count": 380,
   "metadata": {},
   "outputs": [
    {
     "name": "stdout",
     "output_type": "stream",
     "text": [
      "---------------------------------------------------------------------------------------------------------------------------------------------------------------------------------------------------------------------------------------------------------------------------------------\n",
      "|\"CUSTOMER_ID\"  |\"MAX(DAYS_BETWEEN)\"  |\"MIN(DAYS_BETWEEN)\"  |\"AVG(DAYS_BETWEEN)\"  |\"TOTAL_SPENT\"  |\"YEARS_WITH_US\"  |\"TOTAL_ORDER\"  |\"RECENCY_DAYS\"  |\"CUSTOMER_FREQUENCY\"  |\"MONETARY_VALUE\"  |\"CHILDREN_COUNT\"  |\"CITY_FREQUENCY\"  |\"GENDER\"  |\"MARITAL_STATUS\"  |\"AGE\"  |\"TARGET\"  |\n",
      "---------------------------------------------------------------------------------------------------------------------------------------------------------------------------------------------------------------------------------------------------------------------------------------\n",
      "|118            |158                  |1                    |29.205128            |1419.2500      |2.876712         |40             |3               |12.784589             |493.3583897171    |0                 |10613             |0         |1                 |34     |0         |\n",
      "|189            |164                  |1                    |26.102041            |1921.0000      |3.257534         |50             |2               |14.246682             |589.7098848393    |1                 |10613             |2         |0                 |38     |0         |\n",
      "|204            |172                  |1                    |27.388889            |1263.0000      |2.471233         |37             |8               |13.586517             |511.0809057665    |0                 |10613             |0         |3                 |43     |0         |\n",
      "|42             |167                  |1                    |32.564103            |1817.5000      |3.243836         |40             |6               |11.442008             |560.2934303707    |0                 |10613             |2         |1                 |56     |0         |\n",
      "|59             |390                  |1                    |33.157895            |1325.5000      |3.216438         |39             |6               |11.244076             |412.1018343895    |2                 |10613             |0         |0                 |61     |0         |\n",
      "|65             |207                  |2                    |29.095238            |1407.2500      |3.147945         |43             |19              |12.647059             |447.0376706073    |5                 |10613             |0         |2                 |64     |1         |\n",
      "|106            |158                  |1                    |23.604167            |2147.7500      |2.860274         |49             |3               |15.743837             |750.8896000873    |0                 |10613             |1         |1                 |55     |0         |\n",
      "|219            |158                  |1                    |26.358974            |1342.5000      |2.580822         |40             |6               |14.119921             |520.1831044528    |2                 |10613             |2         |0                 |57     |0         |\n",
      "|222            |346                  |1                    |30.636364            |1912.5000      |3.490411         |45             |18              |12.024157             |547.9297423713    |0                 |10613             |1         |1                 |57     |1         |\n",
      "|22             |173                  |1                    |29.139535            |1439.0000      |3.216438         |44             |13              |12.685625             |447.3893170022    |4                 |10613             |0         |0                 |73     |0         |\n",
      "---------------------------------------------------------------------------------------------------------------------------------------------------------------------------------------------------------------------------------------------------------------------------------------\n",
      "\n"
     ]
    }
   ],
   "source": [
    "customer_final = customer_final.with_column(\"Target\", F.iff(F.col(\"RECENCY_DAYS\") > 14, \"1\", \"0\"))\n",
    "customer_final.show(10)"
   ]
  },
  {
   "attachments": {},
   "cell_type": "markdown",
   "metadata": {},
   "source": [
    "### 4. Building of models "
   ]
  },
  {
   "attachments": {},
   "cell_type": "markdown",
   "metadata": {},
   "source": [
    "#### 4.1 Stratified sampling"
   ]
  },
  {
   "cell_type": "code",
   "execution_count": 381,
   "metadata": {},
   "outputs": [
    {
     "name": "stdout",
     "output_type": "stream",
     "text": [
      "----------------------\n",
      "|\"TARGET\"  |\"COUNT\"  |\n",
      "----------------------\n",
      "|0         |34065    |\n",
      "|1         |12235    |\n",
      "----------------------\n",
      "\n"
     ]
    }
   ],
   "source": [
    "customer_final.groupBy(col(\"TARGET\")).count().show()"
   ]
  },
  {
   "cell_type": "code",
   "execution_count": 382,
   "metadata": {},
   "outputs": [],
   "source": [
    "target0 = customer_final.filter(col(\"TARGET\")==0)\n",
    "target1 = customer_final.filter(col(\"TARGET\")==1)"
   ]
  },
  {
   "cell_type": "code",
   "execution_count": 383,
   "metadata": {},
   "outputs": [],
   "source": [
    "target0 = target0.sample(n = target1.count())"
   ]
  },
  {
   "cell_type": "code",
   "execution_count": 384,
   "metadata": {},
   "outputs": [],
   "source": [
    "sampled_customer_final = target0.union(target1)"
   ]
  },
  {
   "cell_type": "code",
   "execution_count": 385,
   "metadata": {},
   "outputs": [
    {
     "name": "stdout",
     "output_type": "stream",
     "text": [
      "----------------------\n",
      "|\"TARGET\"  |\"COUNT\"  |\n",
      "----------------------\n",
      "|1         |12235    |\n",
      "|0         |12235    |\n",
      "----------------------\n",
      "\n"
     ]
    }
   ],
   "source": [
    "sampled_customer_final.groupBy(col(\"TARGET\")).count().show()"
   ]
  },
  {
   "cell_type": "code",
   "execution_count": 386,
   "metadata": {},
   "outputs": [
    {
     "name": "stdout",
     "output_type": "stream",
     "text": [
      "---------------------------------------------------------------------------------------------------------------------------------------------------------------------------------------------------------------------------------------------------------------------------------------\n",
      "|\"CUSTOMER_ID\"  |\"MAX(DAYS_BETWEEN)\"  |\"MIN(DAYS_BETWEEN)\"  |\"AVG(DAYS_BETWEEN)\"  |\"TOTAL_SPENT\"  |\"YEARS_WITH_US\"  |\"TOTAL_ORDER\"  |\"RECENCY_DAYS\"  |\"CUSTOMER_FREQUENCY\"  |\"MONETARY_VALUE\"  |\"CHILDREN_COUNT\"  |\"CITY_FREQUENCY\"  |\"GENDER\"  |\"MARITAL_STATUS\"  |\"AGE\"  |\"TARGET\"  |\n",
      "---------------------------------------------------------------------------------------------------------------------------------------------------------------------------------------------------------------------------------------------------------------------------------------\n",
      "|204            |172                  |1                    |27.388889            |1263.0000      |2.471233         |37             |8               |13.586517             |511.0809057665    |0                 |10613             |0         |3                 |43     |0         |\n",
      "|343            |167                  |1                    |31.925000            |1747.2500      |3.252055         |41             |2               |11.700546             |537.2756610820    |2                 |10613             |1         |0                 |65     |0         |\n",
      "|911            |221                  |1                    |34.514286            |1545.0000      |3.057534         |36             |0               |10.877484             |505.3091805357    |4                 |10613             |0         |0                 |35     |0         |\n",
      "|1004           |377                  |1                    |32.600000            |1466.7500      |3.356164         |41             |13              |11.362947             |437.0316825995    |0                 |10613             |0         |0                 |46     |0         |\n",
      "|137765         |107                  |1                    |21.440000            |1752.5000      |2.690411         |51             |2               |17.332401             |651.3874645918    |0                 |9122              |1         |1                 |40     |0         |\n",
      "|3574           |185                  |1                    |34.266667            |1057.2500      |2.586301         |31             |8               |10.921815             |408.7884588839    |0                 |10613             |1         |0                 |26     |0         |\n",
      "|3208           |266                  |1                    |37.647059            |1223.5000      |3.279452         |35             |9               |9.910783              |373.0806244458    |0                 |10613             |0         |1                 |20     |0         |\n",
      "|122319         |69                   |1                    |20.229167            |2222.7500      |2.410959         |49             |1               |18.400204             |921.9360428775    |0                 |9261              |2         |3                 |56     |0         |\n",
      "|149300         |84                   |1                    |18.269231            |1864.7500      |2.361644         |53             |4               |20.277775             |789.5982629050    |0                 |10016             |2         |3                 |80     |0         |\n",
      "|3644           |275                  |1                    |25.883721            |1360.5000      |2.821918         |44             |9               |14.313724             |482.1188992735    |1                 |10613             |1         |1                 |40     |0         |\n",
      "---------------------------------------------------------------------------------------------------------------------------------------------------------------------------------------------------------------------------------------------------------------------------------------\n",
      "\n"
     ]
    }
   ],
   "source": [
    "sampled_customer_final.show()"
   ]
  },
  {
   "attachments": {},
   "cell_type": "markdown",
   "metadata": {},
   "source": [
    "#### 4.2 Scaling"
   ]
  },
  {
   "cell_type": "code",
   "execution_count": 387,
   "metadata": {},
   "outputs": [],
   "source": [
    "sampled_customer_final = sampled_customer_final.to_pandas()"
   ]
  },
  {
   "cell_type": "code",
   "execution_count": 388,
   "metadata": {},
   "outputs": [],
   "source": [
    "sampled_customer_final = sampled_customer_final.drop([\"CUSTOMER_ID\", 'CITY_FREQUENCY', 'GENDER', 'MARITAL_STATUS', 'CHILDREN_COUNT', 'RECENCY_DAYS'],  axis = 1)"
   ]
  },
  {
   "cell_type": "code",
   "execution_count": 389,
   "metadata": {},
   "outputs": [
    {
     "data": {
      "text/html": [
       "<div>\n",
       "<style scoped>\n",
       "    .dataframe tbody tr th:only-of-type {\n",
       "        vertical-align: middle;\n",
       "    }\n",
       "\n",
       "    .dataframe tbody tr th {\n",
       "        vertical-align: top;\n",
       "    }\n",
       "\n",
       "    .dataframe thead th {\n",
       "        text-align: right;\n",
       "    }\n",
       "</style>\n",
       "<table border=\"1\" class=\"dataframe\">\n",
       "  <thead>\n",
       "    <tr style=\"text-align: right;\">\n",
       "      <th></th>\n",
       "      <th>MAX(DAYS_BETWEEN)</th>\n",
       "      <th>MIN(DAYS_BETWEEN)</th>\n",
       "      <th>AVG(DAYS_BETWEEN)</th>\n",
       "      <th>TOTAL_SPENT</th>\n",
       "      <th>YEARS_WITH_US</th>\n",
       "      <th>TOTAL_ORDER</th>\n",
       "      <th>CUSTOMER_FREQUENCY</th>\n",
       "      <th>MONETARY_VALUE</th>\n",
       "      <th>AGE</th>\n",
       "      <th>TARGET</th>\n",
       "    </tr>\n",
       "  </thead>\n",
       "  <tbody>\n",
       "    <tr>\n",
       "      <th>0</th>\n",
       "      <td>119</td>\n",
       "      <td>1</td>\n",
       "      <td>20.325581</td>\n",
       "      <td>1596.50</td>\n",
       "      <td>2.156164</td>\n",
       "      <td>44</td>\n",
       "      <td>18.270764</td>\n",
       "      <td>740.4353286670</td>\n",
       "      <td>78</td>\n",
       "      <td>0</td>\n",
       "    </tr>\n",
       "    <tr>\n",
       "      <th>1</th>\n",
       "      <td>77</td>\n",
       "      <td>1</td>\n",
       "      <td>17.745455</td>\n",
       "      <td>1970.25</td>\n",
       "      <td>2.452055</td>\n",
       "      <td>56</td>\n",
       "      <td>20.709217</td>\n",
       "      <td>803.5097092031</td>\n",
       "      <td>27</td>\n",
       "      <td>0</td>\n",
       "    </tr>\n",
       "    <tr>\n",
       "      <th>2</th>\n",
       "      <td>79</td>\n",
       "      <td>1</td>\n",
       "      <td>18.446429</td>\n",
       "      <td>1933.00</td>\n",
       "      <td>2.580822</td>\n",
       "      <td>57</td>\n",
       "      <td>20.120888</td>\n",
       "      <td>748.9861757223</td>\n",
       "      <td>44</td>\n",
       "      <td>0</td>\n",
       "    </tr>\n",
       "    <tr>\n",
       "      <th>3</th>\n",
       "      <td>90</td>\n",
       "      <td>1</td>\n",
       "      <td>19.245614</td>\n",
       "      <td>2034.25</td>\n",
       "      <td>2.780822</td>\n",
       "      <td>58</td>\n",
       "      <td>19.123756</td>\n",
       "      <td>731.5283035016</td>\n",
       "      <td>39</td>\n",
       "      <td>0</td>\n",
       "    </tr>\n",
       "    <tr>\n",
       "      <th>4</th>\n",
       "      <td>143</td>\n",
       "      <td>1</td>\n",
       "      <td>25.150000</td>\n",
       "      <td>1717.75</td>\n",
       "      <td>2.504110</td>\n",
       "      <td>41</td>\n",
       "      <td>14.875748</td>\n",
       "      <td>685.9722616019</td>\n",
       "      <td>36</td>\n",
       "      <td>0</td>\n",
       "    </tr>\n",
       "  </tbody>\n",
       "</table>\n",
       "</div>"
      ],
      "text/plain": [
       "   MAX(DAYS_BETWEEN)  MIN(DAYS_BETWEEN) AVG(DAYS_BETWEEN)  TOTAL_SPENT  \\\n",
       "0                119                  1         20.325581      1596.50   \n",
       "1                 77                  1         17.745455      1970.25   \n",
       "2                 79                  1         18.446429      1933.00   \n",
       "3                 90                  1         19.245614      2034.25   \n",
       "4                143                  1         25.150000      1717.75   \n",
       "\n",
       "   YEARS_WITH_US  TOTAL_ORDER CUSTOMER_FREQUENCY  MONETARY_VALUE  AGE TARGET  \n",
       "0       2.156164           44          18.270764  740.4353286670   78      0  \n",
       "1       2.452055           56          20.709217  803.5097092031   27      0  \n",
       "2       2.580822           57          20.120888  748.9861757223   44      0  \n",
       "3       2.780822           58          19.123756  731.5283035016   39      0  \n",
       "4       2.504110           41          14.875748  685.9722616019   36      0  "
      ]
     },
     "execution_count": 389,
     "metadata": {},
     "output_type": "execute_result"
    }
   ],
   "source": [
    "sampled_customer_final.head()"
   ]
  },
  {
   "cell_type": "code",
   "execution_count": 390,
   "metadata": {},
   "outputs": [],
   "source": [
    "#drop target\n",
    "target = sampled_customer_final['TARGET']\n",
    "sampled_customer_final.drop('TARGET', axis = 1, inplace = True)\n",
    "\n",
    "scaler = StandardScaler()\n",
    "scaler.fit(sampled_customer_final)\n",
    "\n",
    "final_scaled = scaler.transform(sampled_customer_final)\n",
    "final_scaled = pd.DataFrame(final_scaled, columns=sampled_customer_final.columns)\n",
    "\n",
    "#assign target variable back to scaled data frame\n",
    "final_scaled = final_scaled.assign(TARGET = target)"
   ]
  },
  {
   "cell_type": "code",
   "execution_count": 391,
   "metadata": {},
   "outputs": [
    {
     "data": {
      "text/html": [
       "<div>\n",
       "<style scoped>\n",
       "    .dataframe tbody tr th:only-of-type {\n",
       "        vertical-align: middle;\n",
       "    }\n",
       "\n",
       "    .dataframe tbody tr th {\n",
       "        vertical-align: top;\n",
       "    }\n",
       "\n",
       "    .dataframe thead th {\n",
       "        text-align: right;\n",
       "    }\n",
       "</style>\n",
       "<table border=\"1\" class=\"dataframe\">\n",
       "  <thead>\n",
       "    <tr style=\"text-align: right;\">\n",
       "      <th></th>\n",
       "      <th>MAX(DAYS_BETWEEN)</th>\n",
       "      <th>MIN(DAYS_BETWEEN)</th>\n",
       "      <th>AVG(DAYS_BETWEEN)</th>\n",
       "      <th>TOTAL_SPENT</th>\n",
       "      <th>YEARS_WITH_US</th>\n",
       "      <th>TOTAL_ORDER</th>\n",
       "      <th>CUSTOMER_FREQUENCY</th>\n",
       "      <th>MONETARY_VALUE</th>\n",
       "      <th>AGE</th>\n",
       "      <th>TARGET</th>\n",
       "    </tr>\n",
       "  </thead>\n",
       "  <tbody>\n",
       "    <tr>\n",
       "      <th>0</th>\n",
       "      <td>-0.188638</td>\n",
       "      <td>-0.263333</td>\n",
       "      <td>-0.262281</td>\n",
       "      <td>-0.907168</td>\n",
       "      <td>-1.794718</td>\n",
       "      <td>-0.833845</td>\n",
       "      <td>0.095875</td>\n",
       "      <td>-0.063433</td>\n",
       "      <td>1.496792</td>\n",
       "      <td>0</td>\n",
       "    </tr>\n",
       "    <tr>\n",
       "      <th>1</th>\n",
       "      <td>-0.760227</td>\n",
       "      <td>-0.263333</td>\n",
       "      <td>-0.640473</td>\n",
       "      <td>-0.164694</td>\n",
       "      <td>-0.939124</td>\n",
       "      <td>0.255560</td>\n",
       "      <td>0.659122</td>\n",
       "      <td>0.239677</td>\n",
       "      <td>-1.164351</td>\n",
       "      <td>0</td>\n",
       "    </tr>\n",
       "    <tr>\n",
       "      <th>2</th>\n",
       "      <td>-0.733008</td>\n",
       "      <td>-0.263333</td>\n",
       "      <td>-0.537725</td>\n",
       "      <td>-0.238693</td>\n",
       "      <td>-0.566783</td>\n",
       "      <td>0.346344</td>\n",
       "      <td>0.523227</td>\n",
       "      <td>-0.022341</td>\n",
       "      <td>-0.277303</td>\n",
       "      <td>0</td>\n",
       "    </tr>\n",
       "    <tr>\n",
       "      <th>3</th>\n",
       "      <td>-0.583306</td>\n",
       "      <td>-0.263333</td>\n",
       "      <td>-0.420581</td>\n",
       "      <td>-0.037555</td>\n",
       "      <td>0.011535</td>\n",
       "      <td>0.437127</td>\n",
       "      <td>0.292904</td>\n",
       "      <td>-0.106237</td>\n",
       "      <td>-0.538199</td>\n",
       "      <td>0</td>\n",
       "    </tr>\n",
       "    <tr>\n",
       "      <th>4</th>\n",
       "      <td>0.137984</td>\n",
       "      <td>-0.263333</td>\n",
       "      <td>0.444877</td>\n",
       "      <td>-0.666299</td>\n",
       "      <td>-0.788602</td>\n",
       "      <td>-1.106197</td>\n",
       "      <td>-0.688325</td>\n",
       "      <td>-0.325162</td>\n",
       "      <td>-0.694737</td>\n",
       "      <td>0</td>\n",
       "    </tr>\n",
       "  </tbody>\n",
       "</table>\n",
       "</div>"
      ],
      "text/plain": [
       "   MAX(DAYS_BETWEEN)  MIN(DAYS_BETWEEN)  AVG(DAYS_BETWEEN)  TOTAL_SPENT  \\\n",
       "0          -0.188638          -0.263333          -0.262281    -0.907168   \n",
       "1          -0.760227          -0.263333          -0.640473    -0.164694   \n",
       "2          -0.733008          -0.263333          -0.537725    -0.238693   \n",
       "3          -0.583306          -0.263333          -0.420581    -0.037555   \n",
       "4           0.137984          -0.263333           0.444877    -0.666299   \n",
       "\n",
       "   YEARS_WITH_US  TOTAL_ORDER  CUSTOMER_FREQUENCY  MONETARY_VALUE       AGE  \\\n",
       "0      -1.794718    -0.833845            0.095875       -0.063433  1.496792   \n",
       "1      -0.939124     0.255560            0.659122        0.239677 -1.164351   \n",
       "2      -0.566783     0.346344            0.523227       -0.022341 -0.277303   \n",
       "3       0.011535     0.437127            0.292904       -0.106237 -0.538199   \n",
       "4      -0.788602    -1.106197           -0.688325       -0.325162 -0.694737   \n",
       "\n",
       "  TARGET  \n",
       "0      0  \n",
       "1      0  \n",
       "2      0  \n",
       "3      0  \n",
       "4      0  "
      ]
     },
     "execution_count": 391,
     "metadata": {},
     "output_type": "execute_result"
    }
   ],
   "source": [
    "final_scaled.head()"
   ]
  },
  {
   "cell_type": "code",
   "execution_count": 392,
   "metadata": {},
   "outputs": [
    {
     "data": {
      "image/png": "[encoded data removed]",
      "text/plain": [
       "<Figure size 1500x1500 with 2 Axes>"
      ]
     },
     "metadata": {},
     "output_type": "display_data"
    }
   ],
   "source": [
    "colormap = plt.cm.viridis\n",
    "plt.figure(figsize=(15,15))\n",
    "plt.title('Correlation of Dataset Features', size=15)\n",
    "ax = sns.heatmap(final_scaled.astype(float).corr(), cmap=colormap, annot=True)\n",
    "bottom, top = ax.get_ylim()\n",
    "ax.set_ylim(bottom + 0.5, top - 0.5)\n",
    "plt.show()"
   ]
  },
  {
   "attachments": {},
   "cell_type": "markdown",
   "metadata": {},
   "source": [
    "#### 4.3 Train Test Split"
   ]
  },
  {
   "cell_type": "code",
   "execution_count": 393,
   "metadata": {},
   "outputs": [],
   "source": [
    "# Define Model Inputs (X) and Output (y)\n",
    "X = final_scaled.drop('TARGET',axis=1)\n",
    "y = final_scaled[\"TARGET\"]\n",
    "\n",
    "# Split both Inputs (X) and Ouput (y) into training set (70%) and testing set (30%)\n",
    "X_train, X_test, y_train, y_test = train_test_split(X, y, test_size=0.3, random_state=1)"
   ]
  },
  {
   "attachments": {},
   "cell_type": "markdown",
   "metadata": {},
   "source": [
    "#### 4.4 Logistic Regression Model"
   ]
  },
  {
   "cell_type": "code",
   "execution_count": 394,
   "metadata": {},
   "outputs": [
    {
     "name": "stdout",
     "output_type": "stream",
     "text": [
      "The training accuracy for Logistic Regression Model is:  0.5943137369373577\n",
      "The testing accuracy for Logistic Regression Model is:  0.6101348590110339\n",
      "train_score:  [0.59910094 0.59976502 0.59787495 0.59670004 0.60201267]\n",
      "test_score:  [0.59787495 0.59848794 0.60216592 0.61074785 0.58908868]\n",
      "\n",
      "The Cross Val Train Accuracy for Logistic Regression Model is:  0.5990907233346955\n",
      "The Cross Val Test Accuracy for Logistic Regression Model is:  0.5996730690641602\n"
     ]
    }
   ],
   "source": [
    "# Create the model \"lg\"\n",
    "lg = LogisticRegression(solver='lbfgs', \n",
    "                        max_iter=10000, random_state = 1) \n",
    "\n",
    "# Fit the model to the training set\n",
    "lg.fit(X_train,y_train)\n",
    "\n",
    "# Calculate the training and testing accuracy \n",
    "# Accuracy Evaluation method\n",
    "print('The training accuracy for Logistic Regression Model is: ', lg.score(X_train, y_train))\n",
    "print('The testing accuracy for Logistic Regression Model is: ', lg.score(X_test, y_test))\n",
    "\n",
    "# K-folds Cross Validation Evaluation method\n",
    "results  = cross_validate(lg, X, y, scoring='accuracy', cv=5, return_train_score = True)\n",
    "print('train_score: ', results['train_score'])\n",
    "print('test_score: ', results['test_score'])\n",
    "print(\"\")\n",
    "print('The Cross Val Train Accuracy for Logistic Regression Model is: ',sum(results['train_score'])/len(results['train_score']))\n",
    "print('The Cross Val Test Accuracy for Logistic Regression Model is: ',sum(results['test_score'])/len(results['test_score']))"
   ]
  },
  {
   "attachments": {},
   "cell_type": "markdown",
   "metadata": {},
   "source": [
    "#### 4.5 Decision Tree Model"
   ]
  },
  {
   "cell_type": "code",
   "execution_count": 395,
   "metadata": {},
   "outputs": [
    {
     "name": "stdout",
     "output_type": "stream",
     "text": [
      "The training accuracy for Decision Tree Model is:  0.5810029774067371\n",
      "The testing accuracy for Decision Tree Model is:  0.594060754665577\n",
      "train_score:  [0.5857172  0.58495096 0.58678995 0.58265223 0.58786269]\n",
      "test_score:  [0.58622803 0.58479771 0.57744177 0.59399264 0.5776461 ]\n",
      "\n",
      "The Cross Val Train Accuracy for Decision Tree Model is:  0.5855946056395587\n",
      "The Cross Val Test Accuracy for Decision Tree Model is:  0.5840212505108295\n"
     ]
    }
   ],
   "source": [
    "# Create Decision Tree Model\n",
    "dt = tree.DecisionTreeClassifier(max_depth = 2, random_state = 1)\n",
    "dt.fit(X_train, y_train)      \n",
    "\n",
    "# Calculate the training and testing accuracy \n",
    "# Accuracy Evaluation method\n",
    "print('The training accuracy for Decision Tree Model is: ', dt.score(X_train, y_train))\n",
    "print('The testing accuracy for Decision Tree Model is: ', dt.score(X_test, y_test))\n",
    "\n",
    "# K-folds Cross Validation Evaluation method\n",
    "results  = cross_validate(dt, X, y, scoring='accuracy', cv=5, return_train_score = True)\n",
    "print('train_score: ', results['train_score'])\n",
    "print('test_score: ', results['test_score'])\n",
    "print(\"\")\n",
    "print('The Cross Val Train Accuracy for Decision Tree Model is: ',sum(results['train_score'])/len(results['train_score']))\n",
    "print('The Cross Val Test Accuracy for Decision Tree Model is: ',sum(results['test_score'])/len(results['test_score']))"
   ]
  },
  {
   "attachments": {},
   "cell_type": "markdown",
   "metadata": {},
   "source": [
    "#### 4.6 Random Forest Model"
   ]
  },
  {
   "cell_type": "code",
   "execution_count": 396,
   "metadata": {},
   "outputs": [
    {
     "name": "stdout",
     "output_type": "stream",
     "text": [
      "The training accuracy for Random Forest Model is:  1.0\n",
      "The testing accuracy for Random Forest Model is:  0.8496117695136902\n",
      "train_score:  [1. 1. 1. 1. 1.]\n",
      "test_score:  [0.84572946 0.85288108 0.86228034 0.86371067 0.85615039]\n",
      "\n",
      "The Cross Val Train Accuracy for Random Forest Model is:  1.0\n",
      "The Cross Val Test Accuracy for Random Forest Model is:  0.8561503882304864\n"
     ]
    }
   ],
   "source": [
    "# Create Random Forest Model\n",
    "rf = RandomForestClassifier(random_state = 1)\n",
    "rf.fit(X_train,y_train)\n",
    "\n",
    "# Calculate the training and testing accuracy \n",
    "# Accuracy Evaluation method\n",
    "print('The training accuracy for Random Forest Model is: ', rf.score(X_train,y_train))\n",
    "print('The testing accuracy for Random Forest Model is: ', rf.score(X_test,y_test))\n",
    "\n",
    "# K-folds Cross Validation Evaluation method\n",
    "results  = cross_validate(rf, X, y, scoring='accuracy', cv=5, return_train_score = True)\n",
    "print('train_score: ', results['train_score'])\n",
    "print('test_score: ', results['test_score'])\n",
    "print(\"\")\n",
    "print('The Cross Val Train Accuracy for Random Forest Model is: ',sum(results['train_score'])/len(results['train_score']))\n",
    "print('The Cross Val Test Accuracy for Random Forest Model is: ',sum(results['test_score'])/len(results['test_score']))"
   ]
  },
  {
   "attachments": {},
   "cell_type": "markdown",
   "metadata": {},
   "source": [
    "#### 4.7 ANN Model"
   ]
  },
  {
   "cell_type": "code",
   "execution_count": 397,
   "metadata": {},
   "outputs": [
    {
     "name": "stdout",
     "output_type": "stream",
     "text": [
      "The training accuracy for ANN Model is:  0.5746978807869695\n",
      "The testing accuracy for ANN Model is:  0.5886119057349135\n",
      "train_score:  [0.57897425 0.57963833 0.58055783 0.57575603 0.58071107]\n",
      "test_score:  [0.58111974 0.57601144 0.57294647 0.590519   0.57396812]\n",
      "\n",
      "The Cross Val Train Accuracy for ANN Model is:  0.5791275030649775\n",
      "The Cross Val Test Accuracy for ANN Model is:  0.5789129546383327\n"
     ]
    }
   ],
   "source": [
    "# Create the ann model\n",
    "mlp = MLPClassifier(activation ='logistic', hidden_layer_sizes=(10,), max_iter= 2000, solver = 'sgd', random_state=1)\n",
    "# Fit the model to the training set\n",
    "mlp.fit(X_train,y_train)\n",
    "\n",
    "# Calculate the training and testing accuracy \n",
    "# Accuracy Evaluation method\n",
    "print('The training accuracy for ANN Model is: ', mlp.score(X_train, y_train))\n",
    "print('The testing accuracy for ANN Model is: ', mlp.score(X_test, y_test))\n",
    "\n",
    "# K-folds Cross Validation Evaluation method\n",
    "results  = cross_validate(mlp, X, y, scoring='accuracy', cv=5, return_train_score = True)\n",
    "print('train_score: ', results['train_score'])\n",
    "print('test_score: ', results['test_score'])\n",
    "print(\"\")\n",
    "print('The Cross Val Train Accuracy for ANN Model is: ',sum(results['train_score'])/len(results['train_score']))\n",
    "print('The Cross Val Test Accuracy for ANN Model is: ',sum(results['test_score'])/len(results['test_score']))"
   ]
  },
  {
   "attachments": {},
   "cell_type": "markdown",
   "metadata": {},
   "source": [
    "#### 4.8 SVM Model"
   ]
  },
  {
   "cell_type": "code",
   "execution_count": 398,
   "metadata": {},
   "outputs": [
    {
     "name": "stdout",
     "output_type": "stream",
     "text": [
      "The training accuracy for SVM Model is:  0.7898301126744118\n",
      "The testing accuracy for SVM Model is:  0.7900830949461927\n",
      "train_score:  [0.8117593  0.81293421 0.80532284 0.80920515 0.80384144]\n",
      "test_score:  [0.80608909 0.80547609 0.81058439 0.80997139 0.79260319]\n",
      "\n",
      "The Cross Val Train Accuracy for SVM Model is:  0.8086125868410299\n",
      "The Cross Val Test Accuracy for SVM Model is:  0.804944830404577\n"
     ]
    }
   ],
   "source": [
    "# create SVM model \n",
    "svm = SVC(random_state = 1)\n",
    "svm.fit(X_train,y_train)\n",
    "\n",
    "# Calculate the training and testing accuracy \n",
    "# Accuracy Evaluation method\n",
    "print('The training accuracy for SVM Model is: ', svm.score(X_train,y_train))\n",
    "print('The testing accuracy for SVM Model is: ', svm.score(X_test,y_test))\n",
    "\n",
    "# K-folds Cross Validation Evaluation method\n",
    "results  = cross_validate(svm, X, y, scoring='accuracy', cv=5, return_train_score = True)\n",
    "print('train_score: ', results['train_score'])\n",
    "print('test_score: ', results['test_score'])\n",
    "print(\"\")\n",
    "print('The Cross Val Train Accuracy for SVM Model is: ',sum(results['train_score'])/len(results['train_score']))\n",
    "print('The Cross Val Test Accuracy for SVM Model is: ',sum(results['test_score'])/len(results['test_score']))"
   ]
  },
  {
   "attachments": {},
   "cell_type": "markdown",
   "metadata": {},
   "source": [
    "#### 4.9 KNN Model "
   ]
  },
  {
   "cell_type": "code",
   "execution_count": 400,
   "metadata": {},
   "outputs": [
    {
     "name": "stdout",
     "output_type": "stream",
     "text": [
      "Minimum error:- 0.4175180493120828 at K = 34\n"
     ]
    },
    {
     "data": {
      "image/png": "[encoded data removed]",
      "text/plain": [
       "<Figure size 1000x600 with 1 Axes>"
      ]
     },
     "metadata": {},
     "output_type": "display_data"
    }
   ],
   "source": [
    "from sklearn.neighbors import KNeighborsClassifier\n",
    "error_rate = []\n",
    "for i in range(1,40):\n",
    " knn = KNeighborsClassifier(n_neighbors=i)\n",
    " knn.fit(X_train,y_train)\n",
    " pred_i = knn.predict(X_test)\n",
    " error_rate.append(np.mean(pred_i != y_test))\n",
    "\n",
    "plt.figure(figsize=(10,6))\n",
    "plt.plot(range(1,40),error_rate,color='blue', linestyle='dashed', \n",
    "         marker='o',markerfacecolor='red', markersize=10)\n",
    "plt.title('Error Rate vs. K Value')\n",
    "plt.xlabel('K')\n",
    "plt.ylabel('Error Rate')\n",
    "print(\"Minimum error:-\",min(error_rate),\"at K =\",error_rate.index(min(error_rate)))"
   ]
  },
  {
   "cell_type": "code",
   "execution_count": 401,
   "metadata": {},
   "outputs": [
    {
     "name": "stdout",
     "output_type": "stream",
     "text": [
      "Maximum accuracy:- 0.5824819506879172 at K = 34\n"
     ]
    },
    {
     "data": {
      "image/png": "[encoded data removed]",
      "text/plain": [
       "<Figure size 1000x600 with 1 Axes>"
      ]
     },
     "metadata": {},
     "output_type": "display_data"
    }
   ],
   "source": [
    "acc = []\n",
    "# Will take some time\n",
    "from sklearn import metrics\n",
    "for i in range(1,40):\n",
    "    neigh = KNeighborsClassifier(n_neighbors = i).fit(X_train,y_train)\n",
    "    yhat = neigh.predict(X_test)\n",
    "    acc.append(metrics.accuracy_score(y_test, yhat))\n",
    "    \n",
    "plt.figure(figsize=(10,6))\n",
    "plt.plot(range(1,40),acc,color = 'blue',linestyle='dashed', \n",
    "         marker='o',markerfacecolor='red', markersize=10)\n",
    "plt.title('accuracy vs. K Value')\n",
    "plt.xlabel('K')\n",
    "plt.ylabel('Accuracy')\n",
    "print(\"Maximum accuracy:-\",max(acc),\"at K =\",acc.index(max(acc)))"
   ]
  },
  {
   "cell_type": "code",
   "execution_count": 403,
   "metadata": {},
   "outputs": [
    {
     "name": "stdout",
     "output_type": "stream",
     "text": [
      "The training accuracy for KNN Model is:  0.6184248934555432\n",
      "The testing accuracy for KNN Model is:  0.578259092766653\n",
      "train_score:  [0.62167961 0.61994279 0.61345525 0.61616265 0.62239477]\n",
      "test_score:  [0.57478545 0.57846342 0.58275439 0.57907642 0.56947282]\n",
      "\n",
      "The Cross Val Train Accuracy for KNN Model is:  0.6187270126685738\n",
      "The Cross Val Test Accuracy for KNN Model is:  0.5769105026563138\n"
     ]
    }
   ],
   "source": [
    "# Create KNN Model \n",
    "knn = KNeighborsClassifier(n_neighbors=34)\n",
    "knn.fit(X_train, y_train)\n",
    "\n",
    "# Calculate the training and testing accuracy \n",
    "# Accuracy Evaluation method\n",
    "print('The training accuracy for KNN Model is: ', knn.score(X_train,y_train))\n",
    "print('The testing accuracy for KNN Model is: ', knn.score(X_test,y_test))\n",
    "\n",
    "# K-folds Cross Validation Evaluation method\n",
    "results  = cross_validate(knn, X, y, scoring='accuracy', cv=5, return_train_score = True)\n",
    "print('train_score: ', results['train_score'])\n",
    "print('test_score: ', results['test_score'])\n",
    "print(\"\")\n",
    "print('The Cross Val Train Accuracy for KNN Model is: ',sum(results['train_score'])/len(results['train_score']))\n",
    "print('The Cross Val Test Accuracy for KNN Model is: ',sum(results['test_score'])/len(results['test_score']))"
   ]
  },
  {
   "attachments": {},
   "cell_type": "markdown",
   "metadata": {},
   "source": [
    "#### 4.10 XGBoost Model "
   ]
  },
  {
   "cell_type": "code",
   "execution_count": 405,
   "metadata": {},
   "outputs": [
    {
     "ename": "ValueError",
     "evalue": "The label must consist of integer labels of form 0, 1, 2, ..., [num_class - 1].",
     "output_type": "error",
     "traceback": [
      "\u001b[1;31m---------------------------------------------------------------------------\u001b[0m",
      "\u001b[1;31mValueError\u001b[0m                                Traceback (most recent call last)",
      "Cell \u001b[1;32mIn[405], line 9\u001b[0m\n\u001b[0;32m      2\u001b[0m xgb \u001b[39m=\u001b[39m XGBClassifier(n_estimators\u001b[39m=\u001b[39m\u001b[39m20\u001b[39m, \n\u001b[0;32m      3\u001b[0m                      learning_rate\u001b[39m=\u001b[39m\u001b[39m0.1\u001b[39m, \n\u001b[0;32m      4\u001b[0m                      use_label_encoder\u001b[39m=\u001b[39m\u001b[39mFalse\u001b[39;00m, \n\u001b[0;32m      5\u001b[0m                      eval_metric\u001b[39m=\u001b[39m\u001b[39m'\u001b[39m\u001b[39mlogloss\u001b[39m\u001b[39m'\u001b[39m,\n\u001b[0;32m      6\u001b[0m                      random_state\u001b[39m=\u001b[39m\u001b[39m1\u001b[39m)\n\u001b[0;32m      8\u001b[0m \u001b[39m# Fit the XGBClassifier to the training data\u001b[39;00m\n\u001b[1;32m----> 9\u001b[0m xgb\u001b[39m.\u001b[39;49mfit(X_train, y_train)\n\u001b[0;32m     11\u001b[0m \u001b[39m# Calculate the training and testing accuracy \u001b[39;00m\n\u001b[0;32m     12\u001b[0m \u001b[39m# Accuracy Evaluation method\u001b[39;00m\n\u001b[0;32m     13\u001b[0m \u001b[39mprint\u001b[39m(\u001b[39m'\u001b[39m\u001b[39mThe training accuracy for Decision Tree Model with XGBoost is: \u001b[39m\u001b[39m'\u001b[39m, xgb\u001b[39m.\u001b[39mscore(X_train, y_train))\n",
      "File \u001b[1;32mc:\\Users\\gwyne\\.conda\\envs\\pysnowpark\\lib\\site-packages\\xgboost\\core.py:506\u001b[0m, in \u001b[0;36m_deprecate_positional_args.<locals>.inner_f\u001b[1;34m(*args, **kwargs)\u001b[0m\n\u001b[0;32m    504\u001b[0m \u001b[39mfor\u001b[39;00m k, arg \u001b[39min\u001b[39;00m \u001b[39mzip\u001b[39m(sig\u001b[39m.\u001b[39mparameters, args):\n\u001b[0;32m    505\u001b[0m     kwargs[k] \u001b[39m=\u001b[39m arg\n\u001b[1;32m--> 506\u001b[0m \u001b[39mreturn\u001b[39;00m f(\u001b[39m*\u001b[39;49m\u001b[39m*\u001b[39;49mkwargs)\n",
      "File \u001b[1;32mc:\\Users\\gwyne\\.conda\\envs\\pysnowpark\\lib\\site-packages\\xgboost\\sklearn.py:1199\u001b[0m, in \u001b[0;36mXGBClassifier.fit\u001b[1;34m(self, X, y, sample_weight, base_margin, eval_set, eval_metric, early_stopping_rounds, verbose, xgb_model, sample_weight_eval_set, base_margin_eval_set, feature_weights, callbacks)\u001b[0m\n\u001b[0;32m   1195\u001b[0m     \u001b[39mself\u001b[39m\u001b[39m.\u001b[39mn_classes_ \u001b[39m=\u001b[39m \u001b[39mlen\u001b[39m(\u001b[39mself\u001b[39m\u001b[39m.\u001b[39mclasses_)\n\u001b[0;32m   1196\u001b[0m     \u001b[39mif\u001b[39;00m \u001b[39mnot\u001b[39;00m \u001b[39mself\u001b[39m\u001b[39m.\u001b[39muse_label_encoder \u001b[39mand\u001b[39;00m (\n\u001b[0;32m   1197\u001b[0m         \u001b[39mnot\u001b[39;00m np\u001b[39m.\u001b[39marray_equal(\u001b[39mself\u001b[39m\u001b[39m.\u001b[39mclasses_, np\u001b[39m.\u001b[39marange(\u001b[39mself\u001b[39m\u001b[39m.\u001b[39mn_classes_))\n\u001b[0;32m   1198\u001b[0m     ):\n\u001b[1;32m-> 1199\u001b[0m         \u001b[39mraise\u001b[39;00m \u001b[39mValueError\u001b[39;00m(label_encoding_check_error)\n\u001b[0;32m   1201\u001b[0m params \u001b[39m=\u001b[39m \u001b[39mself\u001b[39m\u001b[39m.\u001b[39mget_xgb_params()\n\u001b[0;32m   1203\u001b[0m \u001b[39mif\u001b[39;00m \u001b[39mcallable\u001b[39m(\u001b[39mself\u001b[39m\u001b[39m.\u001b[39mobjective):\n",
      "\u001b[1;31mValueError\u001b[0m: The label must consist of integer labels of form 0, 1, 2, ..., [num_class - 1]."
     ]
    }
   ],
   "source": [
    "# Create XGBoost model\n",
    "xgb = XGBClassifier(n_estimators=20, \n",
    "                     learning_rate=0.1, \n",
    "                     use_label_encoder=False, \n",
    "                     eval_metric='logloss',\n",
    "                     random_state=1)\n",
    "\n",
    "# Fit the XGBClassifier to the training data\n",
    "xgb.fit(X_train, y_train)\n",
    "\n",
    "# Calculate the training and testing accuracy \n",
    "# Accuracy Evaluation method\n",
    "print('The training accuracy for Decision Tree Model with XGBoost is: ', xgb.score(X_train, y_train))\n",
    "print('The testing accuracy for Decision Tree Model with XGBoost is: ', xgb.score(X_test, y_test))\n",
    "\n",
    "# K-folds Cross Validation Evaluation method\n",
    "results  = cross_validate(xgb, X, y, scoring='accuracy', cv=5, return_train_score = True)\n",
    "print('train_score: ', results['train_score'])\n",
    "print('test_score: ', results['test_score'])\n",
    "print(\"\")\n",
    "print('The Cross Val Train Accuracy for Decision Tree Model with XGBoost is: ',sum(results['train_score'])/len(results['train_score']))\n",
    "print('The Cross Val Test Accuracy for Decision Tree Model with XGBoost is: ',sum(results['test_score'])/len(results['test_score']))"
   ]
  },
  {
   "cell_type": "code",
   "execution_count": null,
   "metadata": {},
   "outputs": [],
   "source": []
  }
 ],
 "metadata": {
  "kernelspec": {
   "display_name": "Python 3",
   "language": "python",
   "name": "python3"
  },
  "language_info": {
   "codemirror_mode": {
    "name": "ipython",
    "version": 3
   },
   "file_extension": ".py",
   "mimetype": "text/x-python",
   "name": "python",
   "nbconvert_exporter": "python",
   "pygments_lexer": "ipython3",
   "version": "3.8.16"
  },
  "orig_nbformat": 4
 },
 "nbformat": 4,
 "nbformat_minor": 2
}
