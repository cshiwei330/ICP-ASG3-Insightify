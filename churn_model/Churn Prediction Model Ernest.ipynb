{
 "cells": [
  {
   "attachments": {},
   "cell_type": "markdown",
   "metadata": {},
   "source": [
    "## Importing packages & setting up connection"
   ]
  },
  {
   "cell_type": "code",
   "execution_count": 1,
   "metadata": {},
   "outputs": [],
   "source": [
    "# Import Python packages\n",
    "import pandas as pd\n",
    "import numpy as np\n",
    "from matplotlib import pyplot as plt\n",
    "import json\n",
    "import sys\n",
    "import cachetools\n",
    "from datetime import datetime\n",
    "from datetime import date\n",
    "import seaborn as sns\n",
    "import math\n",
    "\n",
    "# Import Snowflake modules\n",
    "from snowflake.snowpark import Session\n",
    "import snowflake.snowpark.functions as F\n",
    "import snowflake.snowpark.types as T\n",
    "from snowflake.snowpark import Window\n",
    "from snowflake.snowpark.functions import col\n",
    "\n",
    "# Clustering & Model\n",
    "from sklearn.cluster import KMeans\n",
    "from sklearn.linear_model import LinearRegression\n",
    "from sklearn.model_selection import KFold, cross_val_score, train_test_split\n",
    "\n",
    "# Scalers\n",
    "from sklearn.preprocessing import StandardScaler\n",
    "\n",
    "# Evaluation\n",
    "from sklearn.metrics import silhouette_score\n",
    "from sklearn.metrics import mean_squared_error\n",
    "from sklearn.metrics import r2_score\n",
    "\n",
    "# find the best combination of model hyperparameters\n",
    "from sklearn.model_selection import GridSearchCV, RandomizedSearchCV\n",
    "from sklearn.model_selection import cross_val_score, cross_validate\n",
    "\n",
    "# Getting Password,Username, Account\n",
    "import getpass"
   ]
  },
  {
   "cell_type": "code",
   "execution_count": 2,
   "metadata": {},
   "outputs": [],
   "source": [
    "# Get account credentials from a json file\n",
    "with open(\"account.json\") as f:\n",
    "    data = json.load(f)\n",
    "    username = data[\"username\"]\n",
    "    password = data[\"password\"]\n",
    "    account = data[\"account\"]\n",
    "\n",
    "# Specify connection parameters\n",
    "connection_parameters = {\n",
    "    \"account\": account,\n",
    "    \"user\": username,\n",
    "    \"password\": password,\n",
    "    #\"role\": \"ACCOUNTADMIN\",\n",
    "    #\"warehouse\": \"tasty_ds_wh\",\n",
    "    #\"database\": \"frostbyte_tasty_bytes\",\n",
    "    #\"schema\": \"analytics\",\n",
    "}\n",
    "\n",
    "# Create Snowpark session\n",
    "session = Session.builder.configs(connection_parameters).create()"
   ]
  },
  {
   "attachments": {},
   "cell_type": "markdown",
   "metadata": {},
   "source": [
    "## 1. Loading of Datasets <a id=\"part1\"></a>"
   ]
  },
  {
   "cell_type": "code",
   "execution_count": 3,
   "metadata": {},
   "outputs": [],
   "source": [
    "order_header_df = session.table(\"NGEE_ANN_POLYTECHNIC_FROSTBYTE_DATA_SHARE.raw_pos.order_header\")\n",
    "customer_df = session.table(\"NGEE_ANN_POLYTECHNIC_FROSTBYTE_DATA_SHARE.raw_customer.customer_loyalty\")\n",
    "location_df = location_df = session.table(\"NGEE_ANN_POLYTECHNIC_FROSTBYTE_DATA_SHARE.raw_pos.location\")"
   ]
  },
  {
   "cell_type": "code",
   "execution_count": 4,
   "metadata": {},
   "outputs": [
    {
     "name": "stdout",
     "output_type": "stream",
     "text": [
      "-----------------------------------------------------------------------------------------------------------------------------------------------------------------------------------------------------------------------------------------------------------------------------------------\n",
      "|\"ORDER_ID\"  |\"TRUCK_ID\"  |\"LOCATION_ID\"  |\"CUSTOMER_ID\"  |\"DISCOUNT_ID\"  |\"SHIFT_ID\"  |\"SHIFT_START_TIME\"  |\"SHIFT_END_TIME\"  |\"ORDER_CHANNEL\"  |\"ORDER_TS\"           |\"SERVED_TS\"  |\"ORDER_CURRENCY\"  |\"ORDER_AMOUNT\"  |\"ORDER_TAX_AMOUNT\"  |\"ORDER_DISCOUNT_AMOUNT\"  |\"ORDER_TOTAL\"  |\n",
      "-----------------------------------------------------------------------------------------------------------------------------------------------------------------------------------------------------------------------------------------------------------------------------------------\n",
      "|82686170    |239         |6185.0         |NULL           |NULL           |232187      |15:30:00            |22:30:00          |NULL             |2021-04-15 18:47:34  |NULL         |USD               |32.0000         |NULL                |NULL                     |32.0000        |\n",
      "|82686171    |239         |6185.0         |NULL           |NULL           |232187      |15:30:00            |22:30:00          |NULL             |2021-04-15 18:47:36  |NULL         |USD               |32.0000         |NULL                |NULL                     |32.0000        |\n",
      "|82686172    |239         |6185.0         |NULL           |NULL           |232187      |15:30:00            |22:30:00          |NULL             |2021-04-15 18:47:46  |NULL         |USD               |36.0000         |NULL                |NULL                     |36.0000        |\n",
      "|82686173    |239         |6185.0         |NULL           |NULL           |232187      |15:30:00            |22:30:00          |NULL             |2021-04-15 18:47:51  |NULL         |USD               |98.0000         |NULL                |NULL                     |98.0000        |\n",
      "|82686174    |239         |6185.0         |NULL           |NULL           |232187      |15:30:00            |22:30:00          |NULL             |2021-04-15 18:48:25  |NULL         |USD               |18.0000         |NULL                |NULL                     |18.0000        |\n",
      "|82686175    |239         |6185.0         |NULL           |NULL           |232187      |15:30:00            |22:30:00          |NULL             |2021-04-15 18:48:44  |NULL         |USD               |18.0000         |NULL                |NULL                     |18.0000        |\n",
      "|82686176    |239         |6185.0         |NULL           |NULL           |232187      |15:30:00            |22:30:00          |NULL             |2021-04-15 18:50:24  |NULL         |USD               |70.0000         |NULL                |NULL                     |70.0000        |\n",
      "|82686177    |239         |6185.0         |NULL           |NULL           |232187      |15:30:00            |22:30:00          |NULL             |2021-04-15 18:50:32  |NULL         |USD               |49.0000         |NULL                |NULL                     |49.0000        |\n",
      "|82686178    |239         |6185.0         |NULL           |NULL           |232187      |15:30:00            |22:30:00          |NULL             |2021-04-15 18:50:47  |NULL         |USD               |86.0000         |NULL                |NULL                     |86.0000        |\n",
      "|82686179    |239         |6185.0         |NULL           |NULL           |232187      |15:30:00            |22:30:00          |NULL             |2021-04-15 18:51:01  |NULL         |USD               |36.0000         |NULL                |NULL                     |36.0000        |\n",
      "-----------------------------------------------------------------------------------------------------------------------------------------------------------------------------------------------------------------------------------------------------------------------------------------\n",
      "\n"
     ]
    }
   ],
   "source": [
    "order_header_df.show()"
   ]
  },
  {
   "cell_type": "code",
   "execution_count": 5,
   "metadata": {},
   "outputs": [
    {
     "name": "stdout",
     "output_type": "stream",
     "text": [
      "---------------------------------------------------------------------------------------------------------------------------------------------------------------------------------------------------------------------------------------------------------------------------\n",
      "|\"CUSTOMER_ID\"  |\"FIRST_NAME\"  |\"LAST_NAME\"  |\"CITY\"     |\"COUNTRY\"      |\"POSTAL_CODE\"  |\"PREFERRED_LANGUAGE\"  |\"GENDER\"     |\"FAVOURITE_BRAND\"  |\"MARITAL_STATUS\"  |\"CHILDREN_COUNT\"  |\"SIGN_UP_DATE\"  |\"BIRTHDAY_DATE\"  |\"E_MAIL\"                     |\"PHONE_NUMBER\"  |\n",
      "---------------------------------------------------------------------------------------------------------------------------------------------------------------------------------------------------------------------------------------------------------------------------\n",
      "|66             |Cannon        |Waters       |Toronto    |Canada         |M4C 3M7        |English               |Male         |NULL               |Married           |4                 |2019-10-08      |1982-11-24       |Cannon.Waters@hotmail.com    |424-543-8925    |\n",
      "|118            |Donald        |Faulkner     |San Mateo  |United States  |94010          |English               |Male         |NULL               |Single            |0                 |2019-07-07      |1988-06-13       |Donald.Faulkner@hotmail.com  |080-861-2392    |\n",
      "|131            |Tate          |Tucker       |Toronto    |Canada         |M4C 1E7        |English               |Male         |NULL               |Single            |0                 |2021-05-27      |1984-12-29       |Tate.Tucker@hotmail.com      |896-393-1708    |\n",
      "|132            |Aileen        |Knapp        |Toronto    |Canada         |M4C 3J6        |English               |Male         |NULL               |Single            |0                 |2020-11-10      |1981-04-30       |Aileen.Knapp@hotmail.com     |477-406-2898    |\n",
      "|171            |Grayson       |Hayes        |Toronto    |Canada         |M4C 1E7        |English               |Male         |NULL               |Single            |0                 |2021-05-08      |1987-08-06       |Grayson.Hayes@hotmail.com    |849-485-3285    |\n",
      "|189            |Reese         |Mcfarland    |San Mateo  |United States  |94010          |English               |Undisclosed  |NULL               |Married           |1                 |2020-03-06      |1984-03-05       |Reese.Mcfarland@hotmail.com  |802-202-7275    |\n",
      "|195            |Summer        |Chung        |Toronto    |Canada         |M4C 1X6        |English               |Female       |NULL               |Single            |0                 |2021-05-13      |1987-08-17       |Summer.Chung@hotmail.com     |761-641-8122    |\n",
      "|204            |Emilio        |Lawrence     |San Mateo  |United States  |94497          |English               |Male         |NULL               |Undisclosed       |Undisclosed       |2021-10-10      |1979-06-25       |Emilio.Lawrence@hotmail.com  |693-524-2569    |\n",
      "|42             |Alexander     |Hicks        |San Mateo  |United States  |94404          |English               |Undisclosed  |NULL               |Single            |0                 |2020-07-11      |1966-06-28       |Alexander.Hicks@aol.com      |463-144-8555    |\n",
      "|59             |Ryan          |Shah         |San Mateo  |United States  |94401          |English               |Male         |NULL               |Married           |2                 |2020-12-29      |1961-06-05       |Ryan.Shah@aol.com            |679-586-9815    |\n",
      "---------------------------------------------------------------------------------------------------------------------------------------------------------------------------------------------------------------------------------------------------------------------------\n",
      "\n"
     ]
    }
   ],
   "source": [
    "customer_df.show()"
   ]
  },
  {
   "cell_type": "code",
   "execution_count": 6,
   "metadata": {},
   "outputs": [
    {
     "name": "stdout",
     "output_type": "stream",
     "text": [
      "----------------------------------------------------------------------------------------------------------------------------------\n",
      "|\"LOCATION_ID\"  |\"PLACEKEY\"           |\"LOCATION\"                       |\"CITY\"     |\"REGION\"   |\"ISO_COUNTRY_CODE\"  |\"COUNTRY\"  |\n",
      "----------------------------------------------------------------------------------------------------------------------------------\n",
      "|9927           |zzy-224@ayt-gj6-v4v  |Ulf Wardau Ballongflyg & Reklam  |Stockholm  |Stockholm  |SE                  |Sweden     |\n",
      "|12908          |zzy-22h@ayt-gjz-9s5  |Ehrenroth Kristina               |Stockholm  |Stockholm  |SE                  |Sweden     |\n",
      "|14566          |zzy-25d@ayt-gkd-7t9  |Jo Jo Production                 |Stockholm  |Stockholm  |SE                  |Sweden     |\n",
      "|6537           |zzy-222@ayt-gjz-68v  |Tanto strandbad                  |Stockholm  |Stockholm  |SE                  |Sweden     |\n",
      "|14519          |zzy-24b@ayt-gkp-kxq  |Event Opera Stockholm            |Stockholm  |Stockholm  |SE                  |Sweden     |\n",
      "|13529          |zzy-22q@ayt-gkm-c5z  |Hemtjanst Kungsholmen Norrmalm   |Stockholm  |Stockholm  |SE                  |Sweden     |\n",
      "|11925          |zzy-229@ayt-gjt-w49  |Inkassobyran Maximum             |Stockholm  |Stockholm  |SE                  |Sweden     |\n",
      "|8921           |zzy-223@ayt-gkh-jn5  |Skimra Yoga                      |Stockholm  |Stockholm  |SE                  |Sweden     |\n",
      "|11412          |zzy-227@ayt-gjt-wkz  |Karlbergs Kemtvatt & Skradderi   |Stockholm  |Stockholm  |SE                  |Sweden     |\n",
      "|13137          |zzy-22k@ayt-gjt-y7q  |Aqua Toy                         |Stockholm  |Stockholm  |SE                  |Sweden     |\n",
      "----------------------------------------------------------------------------------------------------------------------------------\n",
      "\n"
     ]
    }
   ],
   "source": [
    "location_df.show()"
   ]
  },
  {
   "attachments": {},
   "cell_type": "markdown",
   "metadata": {},
   "source": [
    "### Dropping of null values in customer id"
   ]
  },
  {
   "cell_type": "code",
   "execution_count": 7,
   "metadata": {},
   "outputs": [
    {
     "name": "stdout",
     "output_type": "stream",
     "text": [
      "-----------------------------------------------------------------------------------------------------------------------------------------------------------------------------------------------------------------------------------------------------------------------------------------\n",
      "|\"ORDER_ID\"  |\"TRUCK_ID\"  |\"LOCATION_ID\"  |\"CUSTOMER_ID\"  |\"DISCOUNT_ID\"  |\"SHIFT_ID\"  |\"SHIFT_START_TIME\"  |\"SHIFT_END_TIME\"  |\"ORDER_CHANNEL\"  |\"ORDER_TS\"           |\"SERVED_TS\"  |\"ORDER_CURRENCY\"  |\"ORDER_AMOUNT\"  |\"ORDER_TAX_AMOUNT\"  |\"ORDER_DISCOUNT_AMOUNT\"  |\"ORDER_TOTAL\"  |\n",
      "-----------------------------------------------------------------------------------------------------------------------------------------------------------------------------------------------------------------------------------------------------------------------------------------\n",
      "|82686626    |227         |6192.0         |88465          |NULL           |232188      |08:00:00            |14:00:00          |NULL             |2021-04-16 08:16:09  |NULL         |USD               |50.0000         |NULL                |NULL                     |50.0000        |\n",
      "|82686652    |227         |6192.0         |105935         |NULL           |232188      |08:00:00            |14:00:00          |NULL             |2021-04-16 08:31:21  |NULL         |USD               |48.0000         |NULL                |NULL                     |48.0000        |\n",
      "|82686659    |227         |6192.0         |173175         |NULL           |232188      |08:00:00            |14:00:00          |NULL             |2021-04-16 08:35:14  |NULL         |USD               |60.0000         |NULL                |NULL                     |60.0000        |\n",
      "|82686672    |227         |6192.0         |184114         |NULL           |232188      |08:00:00            |14:00:00          |NULL             |2021-04-16 08:42:10  |NULL         |USD               |21.0000         |NULL                |NULL                     |21.0000        |\n",
      "|82686702    |227         |6192.0         |131782         |NULL           |232188      |08:00:00            |14:00:00          |NULL             |2021-04-16 08:56:39  |NULL         |USD               |36.0000         |NULL                |NULL                     |36.0000        |\n",
      "|82686723    |227         |6192.0         |150280         |NULL           |232188      |08:00:00            |14:00:00          |NULL             |2021-04-16 09:07:59  |NULL         |USD               |90.0000         |NULL                |NULL                     |90.0000        |\n",
      "|82686729    |227         |6192.0         |170316         |NULL           |232188      |08:00:00            |14:00:00          |NULL             |2021-04-16 09:11:10  |NULL         |USD               |6.0000          |NULL                |NULL                     |6.0000         |\n",
      "|82686737    |227         |6192.0         |193200         |NULL           |232188      |08:00:00            |14:00:00          |NULL             |2021-04-16 09:14:58  |NULL         |USD               |43.0000         |NULL                |NULL                     |43.0000        |\n",
      "|82686794    |227         |6192.0         |79098          |NULL           |232188      |08:00:00            |14:00:00          |NULL             |2021-04-16 09:46:29  |NULL         |USD               |65.0000         |NULL                |NULL                     |65.0000        |\n",
      "|82686815    |227         |6192.0         |83620          |NULL           |232188      |08:00:00            |14:00:00          |NULL             |2021-04-16 09:55:41  |NULL         |USD               |99.0000         |NULL                |NULL                     |99.0000        |\n",
      "-----------------------------------------------------------------------------------------------------------------------------------------------------------------------------------------------------------------------------------------------------------------------------------------\n",
      "\n"
     ]
    }
   ],
   "source": [
    "order_header_df = order_header_df.na.drop(subset=\"CUSTOMER_ID\")\n",
    "order_header_df.show()"
   ]
  },
  {
   "attachments": {},
   "cell_type": "markdown",
   "metadata": {},
   "source": [
    "## 2. Data Exploration <a id=\"part2\"></a>"
   ]
  },
  {
   "attachments": {},
   "cell_type": "markdown",
   "metadata": {},
   "source": []
  },
  {
   "attachments": {},
   "cell_type": "markdown",
   "metadata": {},
   "source": [
    "## 3. Data Preparation <a id=\"part3\"></a>"
   ]
  },
  {
   "attachments": {},
   "cell_type": "markdown",
   "metadata": {},
   "source": [
    "### 3.1 Create dataframe <a id=\"part3-1\"></a>\n",
    "As mentioned earlier, our group will be focusing on the customers based in the US. Hence, we will need to filter the customer data to US. We are also doing basic data preparation to prepare our datasets so far for subsequent steps. "
   ]
  },
  {
   "cell_type": "code",
   "execution_count": 8,
   "metadata": {},
   "outputs": [
    {
     "name": "stdout",
     "output_type": "stream",
     "text": [
      "-----------------------------------------------------------------------------------------------------------------------------------------------------------------------------------------------------------------------------------------------------------------------------\n",
      "|\"CUSTOMER_ID\"  |\"FIRST_NAME\"  |\"LAST_NAME\"  |\"CITY\"     |\"COUNTRY\"      |\"POSTAL_CODE\"  |\"PREFERRED_LANGUAGE\"  |\"GENDER\"     |\"FAVOURITE_BRAND\"  |\"MARITAL_STATUS\"    |\"CHILDREN_COUNT\"  |\"SIGN_UP_DATE\"  |\"BIRTHDAY_DATE\"  |\"E_MAIL\"                     |\"PHONE_NUMBER\"  |\n",
      "-----------------------------------------------------------------------------------------------------------------------------------------------------------------------------------------------------------------------------------------------------------------------------\n",
      "|118            |Donald        |Faulkner     |San Mateo  |United States  |94010          |English               |Male         |NULL               |Single              |0                 |2019-07-07      |1988-06-13       |Donald.Faulkner@hotmail.com  |080-861-2392    |\n",
      "|189            |Reese         |Mcfarland    |San Mateo  |United States  |94010          |English               |Undisclosed  |NULL               |Married             |1                 |2020-03-06      |1984-03-05       |Reese.Mcfarland@hotmail.com  |802-202-7275    |\n",
      "|204            |Emilio        |Lawrence     |San Mateo  |United States  |94497          |English               |Male         |NULL               |Undisclosed         |Undisclosed       |2021-10-10      |1979-06-25       |Emilio.Lawrence@hotmail.com  |693-524-2569    |\n",
      "|42             |Alexander     |Hicks        |San Mateo  |United States  |94404          |English               |Undisclosed  |NULL               |Single              |0                 |2020-07-11      |1966-06-28       |Alexander.Hicks@aol.com      |463-144-8555    |\n",
      "|59             |Ryan          |Shah         |San Mateo  |United States  |94401          |English               |Male         |NULL               |Married             |2                 |2020-12-29      |1961-06-05       |Ryan.Shah@aol.com            |679-586-9815    |\n",
      "|65             |Nathen        |Werner       |San Mateo  |United States  |94010          |English               |Male         |NULL               |Divorced/Seperated  |5+                |2020-11-05      |1958-09-01       |Nathen.Werner@aol.com        |926-969-1551    |\n",
      "|106            |Camilla       |Harding      |San Mateo  |United States  |94404          |English               |Female       |NULL               |Single              |0                 |2021-06-28      |1967-05-10       |Camilla.Harding@aol.com      |366-365-2520    |\n",
      "|219            |Scarlett      |Zavala       |San Mateo  |United States  |94403          |English               |Undisclosed  |NULL               |Married             |2                 |2021-01-22      |1965-12-19       |Scarlett.Zavala@aol.com      |447-385-8243    |\n",
      "|222            |Olive         |Powell       |San Mateo  |United States  |94404          |English               |Female       |NULL               |Single              |0                 |2021-03-21      |1965-07-06       |Olive.Powell@aol.com         |983-128-2475    |\n",
      "|22             |Rayne         |Sanchez      |San Mateo  |United States  |94401          |English               |Male         |NULL               |Married             |4                 |2021-04-22      |1949-01-12       |Rayne.Sanchez@ymail.com      |621-054-0251    |\n",
      "-----------------------------------------------------------------------------------------------------------------------------------------------------------------------------------------------------------------------------------------------------------------------------\n",
      "\n"
     ]
    }
   ],
   "source": [
    "# Filtering of customer dataset to only US\n",
    "us_customer_df = customer_df.filter(F.col(\"COUNTRY\")==\"United States\")\n",
    "us_customer_df.show()"
   ]
  },
  {
   "cell_type": "code",
   "execution_count": 9,
   "metadata": {},
   "outputs": [
    {
     "name": "stdout",
     "output_type": "stream",
     "text": [
      "------------------------------------------------------------------------------------------------------------------------------------------------------------------------------------------------------------------------------------------------------------------------------------------------------------\n",
      "|\"ORDER_ID\"  |\"TRUCK_ID\"  |\"LOCATION_ID\"  |\"CUSTOMER_ID\"  |\"DISCOUNT_ID\"  |\"SHIFT_ID\"  |\"SHIFT_START_TIME\"  |\"SHIFT_END_TIME\"  |\"ORDER_CHANNEL\"  |\"ORDER_TS\"           |\"SERVED_TS\"  |\"ORDER_CURRENCY\"  |\"ORDER_AMOUNT\"  |\"ORDER_TAX_AMOUNT\"  |\"ORDER_DISCOUNT_AMOUNT\"  |\"ORDER_TOTAL\"  |\"CUSTOMER_ID_US\"  |\n",
      "------------------------------------------------------------------------------------------------------------------------------------------------------------------------------------------------------------------------------------------------------------------------------------------------------------\n",
      "|451449961   |17          |1789.0         |194230         |NULL           |200540458   |08:00:00            |14:00:00          |NULL             |2022-04-01 11:34:38  |NULL         |USD               |6.0000          |NULL                |NULL                     |6.0000         |194230            |\n",
      "|451449972   |17          |1789.0         |131954         |NULL           |200540458   |08:00:00            |14:00:00          |NULL             |2022-04-01 11:48:30  |NULL         |USD               |27.0000         |NULL                |NULL                     |27.0000        |131954            |\n",
      "|451450013   |17          |1789.0         |125737         |NULL           |200540458   |08:00:00            |14:00:00          |NULL             |2022-04-01 12:52:11  |NULL         |USD               |42.0000         |NULL                |NULL                     |42.0000        |125737            |\n",
      "|451450086   |17          |14926.0        |95405          |NULL           |200540459   |15:00:00            |22:00:00          |NULL             |2022-04-01 17:17:42  |NULL         |USD               |87.0000         |NULL                |NULL                     |87.0000        |95405             |\n",
      "|451450198   |17          |14926.0        |40098          |NULL           |200540459   |15:00:00            |22:00:00          |NULL             |2022-04-01 20:03:25  |NULL         |USD               |33.0000         |NULL                |NULL                     |33.0000        |40098             |\n",
      "|451450243   |17          |14926.0        |172108         |NULL           |200540459   |15:00:00            |22:00:00          |NULL             |2022-04-01 21:37:14  |NULL         |USD               |56.0000         |NULL                |NULL                     |56.0000        |172108            |\n",
      "|451450270   |18          |3081.0         |49775          |NULL           |200540460   |08:00:00            |14:00:00          |NULL             |2022-04-01 08:33:28  |NULL         |USD               |12.5000         |NULL                |NULL                     |12.5000        |49775             |\n",
      "|451450279   |18          |3081.0         |124416         |NULL           |200540460   |08:00:00            |14:00:00          |NULL             |2022-04-01 08:48:45  |NULL         |USD               |41.5000         |NULL                |NULL                     |41.5000        |124416            |\n",
      "|451450315   |18          |3081.0         |85597          |NULL           |200540460   |08:00:00            |14:00:00          |NULL             |2022-04-01 09:29:50  |NULL         |USD               |58.5000         |NULL                |NULL                     |58.5000        |85597             |\n",
      "|451450317   |18          |3081.0         |51847          |NULL           |200540460   |08:00:00            |14:00:00          |NULL             |2022-04-01 09:31:28  |NULL         |USD               |70.5000         |NULL                |NULL                     |70.5000        |51847             |\n",
      "------------------------------------------------------------------------------------------------------------------------------------------------------------------------------------------------------------------------------------------------------------------------------------------------------------\n",
      "\n"
     ]
    }
   ],
   "source": [
    "# After filtering of customer dataset to only US, we will be filtering and looking at the orders \n",
    "# based on these customers only\n",
    "\n",
    "customer_US = us_customer_df.select(F.col(\"CUSTOMER_ID\"))\n",
    "order_header_df = order_header_df.join(customer_US, order_header_df.CUSTOMER_ID == customer_US.CUSTOMER_ID, lsuffix = \"\", rsuffix = \"_US\")\n",
    "order_header_df.show()"
   ]
  },
  {
   "attachments": {},
   "cell_type": "markdown",
   "metadata": {},
   "source": [
    "### 3.2 Null Value Treatment for us_customer_df <a id=\"part3-2\"></a>\n",
    "After creating of the relevant data frames that we need, we will need to do null value treatment to further prepare our dataset for modelling. However, based on the data exploration done previously, we realised that the columns that contains null value will not be affecting the clustering of the model. Hence, we will drop the columns. "
   ]
  },
  {
   "cell_type": "code",
   "execution_count": 10,
   "metadata": {},
   "outputs": [
    {
     "name": "stdout",
     "output_type": "stream",
     "text": [
      "['CITY', 'COUNTRY', 'PREFERRED_LANGUAGE', 'GENDER', 'MARITAL_STATUS', 'CHILDREN_COUNT']\n"
     ]
    }
   ],
   "source": [
    "# Drop irrelevant columns that will not be affecting the clustering of model and/or are all null\n",
    "us_customer_df = us_customer_df.drop([\"FIRST_NAME\", \"LAST_NAME\", \"FAVOURITE_BRAND\", \"E_MAIL\", \"PHONE_NUMBER\", \"POSTAL_CODE\"])\n",
    "\n",
    "# Update categorical columns list\n",
    "cat_cols = [c.name for c in us_customer_df.schema.fields if type(c.datatype) == T.StringType]\n",
    "print(cat_cols)"
   ]
  },
  {
   "cell_type": "code",
   "execution_count": 11,
   "metadata": {},
   "outputs": [
    {
     "name": "stdout",
     "output_type": "stream",
     "text": [
      "CITY: 0.0\n",
      "COUNTRY: 0.0\n",
      "PREFERRED_LANGUAGE: 0.0\n",
      "GENDER: 0.0\n",
      "MARITAL_STATUS: 0.0\n",
      "CHILDREN_COUNT: 0.0\n"
     ]
    }
   ],
   "source": [
    "# Missing value percentage\n",
    "for i in cat_cols:\n",
    "    print(i + \":\", (us_customer_df.count() - us_customer_df.na.drop(subset = i).count())/us_customer_df.count())"
   ]
  },
  {
   "attachments": {},
   "cell_type": "markdown",
   "metadata": {},
   "source": [
    "### 3.3 Replacing values <a id=\"part3-3\"></a>"
   ]
  },
  {
   "cell_type": "code",
   "execution_count": 12,
   "metadata": {},
   "outputs": [
    {
     "data": {
      "text/plain": [
       "{'CITY': '[\\n  \"San Mateo\",\\n  \"New York City\",\\n  \"Boston\",\\n  \"Denver\",\\n  \"Seattle\"\\n]',\n",
       " 'COUNTRY': '[\\n  \"United States\"\\n]',\n",
       " 'PREFERRED_LANGUAGE': '[\\n  \"English\"\\n]',\n",
       " 'GENDER': '[\\n  \"Male\",\\n  \"Undisclosed\",\\n  \"Female\"\\n]',\n",
       " 'MARITAL_STATUS': '[\\n  \"Single\",\\n  \"Married\",\\n  \"Undisclosed\",\\n  \"Divorced/Seperated\"\\n]',\n",
       " 'CHILDREN_COUNT': '[\\n  \"0\",\\n  \"1\",\\n  \"Undisclosed\",\\n  \"2\",\\n  \"4\",\\n  \"5+\",\\n  \"3\"\\n]'}"
      ]
     },
     "execution_count": 12,
     "metadata": {},
     "output_type": "execute_result"
    }
   ],
   "source": [
    "# Update categorical columns list\n",
    "cat_cols = [c.name for c in us_customer_df.schema.fields if type(c.datatype) == T.StringType]\n",
    "\n",
    "# Distinct values in each column\n",
    "dist_vals = us_customer_df.select([F.array_agg(col, is_distinct=True).as_(col) for col in cat_cols]).collect()[0].as_dict()\n",
    "dist_vals"
   ]
  },
  {
   "attachments": {},
   "cell_type": "markdown",
   "metadata": {},
   "source": [
    "Based on the above code, we can drop \"COUNTRY\" and \"PREFERRED_LANGAUGE\" as they contain the same value. "
   ]
  },
  {
   "cell_type": "code",
   "execution_count": 13,
   "metadata": {},
   "outputs": [],
   "source": [
    "# Drop \"COUNTRY\" and \"PREFERRED_LANGAUGE\"\n",
    "us_customer_df = us_customer_df.drop([\"COUNTRY\", \"PREFERRED_LANGUAGE\"])"
   ]
  },
  {
   "attachments": {},
   "cell_type": "markdown",
   "metadata": {},
   "source": [
    "#### Replace 'Undisclosed' in CHILDREN_COUNT\n",
    "Since most of the other values in CHILDREN_COUNT is an integer, let's replace the values 'Undisclosed' and '5+'. This would help in the encoding portion."
   ]
  },
  {
   "cell_type": "code",
   "execution_count": 14,
   "metadata": {},
   "outputs": [],
   "source": [
    "us_customer_df = us_customer_df.withColumn(\"CHILDREN_COUNT\", F.iff(F.col(\"CHILDREN_COUNT\") == \"Undisclosed\", \"0\", F.col(\"CHILDREN_COUNT\")))"
   ]
  },
  {
   "attachments": {},
   "cell_type": "markdown",
   "metadata": {},
   "source": [
    "We are replacing the \"Undisclosed\" values in the children count column with '0' because we don't have information about the number of children for those customers. Since the children count column represents the count of children a customer has, it doesn't make sense to keep the \"Undisclosed\" as a value. We are assuming that customers with \"Undisclosed\" values in the children count column have no children. We are not replacing or dropping them because it wouldn't make sense to encode those values, and dropping the rows would result in significant data loss."
   ]
  },
  {
   "cell_type": "code",
   "execution_count": 15,
   "metadata": {},
   "outputs": [],
   "source": [
    "us_customer_df = us_customer_df.withColumn(\"CHILDREN_COUNT\", F.iff(F.col(\"CHILDREN_COUNT\")== \"5+\", \"5\", F.col(\"CHILDREN_COUNT\")))"
   ]
  },
  {
   "attachments": {},
   "cell_type": "markdown",
   "metadata": {},
   "source": [
    "By replacing the \"5+\" values with '5', we are making a reasonable assumption to simplify the data and create a more consistent representation of the children count. This simplification allows for easier analysis and modeling while still capturing the general information about customers with a larger number of children.\n",
    "\n",
    "Now that all the values in \"CHILDREN_COUNT\" is an integer, we will convert the column to integer."
   ]
  },
  {
   "cell_type": "code",
   "execution_count": 16,
   "metadata": {},
   "outputs": [],
   "source": [
    "# Convert \"CHILDREN_COUNT\" to integer\n",
    "us_customer_df = us_customer_df.withColumn(\"CHILDREN_COUNT\", F.col(\"CHILDREN_COUNT\").cast(\"int\"))"
   ]
  },
  {
   "attachments": {},
   "cell_type": "markdown",
   "metadata": {},
   "source": [
    "### 3.4 Categorical encoding for us_customer_df <a id=\"part3-4\"></a>\n",
    "Categorical encoding is needed as machine learning models are not able to handle categorical variables. "
   ]
  },
  {
   "cell_type": "code",
   "execution_count": 17,
   "metadata": {},
   "outputs": [
    {
     "data": {
      "text/plain": [
       "{'CITY': '[\\n  \"San Mateo\",\\n  \"New York City\",\\n  \"Boston\",\\n  \"Denver\",\\n  \"Seattle\"\\n]',\n",
       " 'GENDER': '[\\n  \"Male\",\\n  \"Undisclosed\",\\n  \"Female\"\\n]',\n",
       " 'MARITAL_STATUS': '[\\n  \"Single\",\\n  \"Married\",\\n  \"Undisclosed\",\\n  \"Divorced/Seperated\"\\n]'}"
      ]
     },
     "execution_count": 17,
     "metadata": {},
     "output_type": "execute_result"
    }
   ],
   "source": [
    "# Update categorical columns list\n",
    "cat_cols = [c.name for c in us_customer_df.schema.fields if type(c.datatype) == T.StringType]\n",
    "\n",
    "# Distinct values in each column\n",
    "dist_vals = us_customer_df.select([F.array_agg(col, is_distinct=True).as_(col) for col in cat_cols]).collect()[0].as_dict()\n",
    "dist_vals"
   ]
  },
  {
   "attachments": {},
   "cell_type": "markdown",
   "metadata": {},
   "source": [
    "We will use categorical encoding to ensure that all the data are in numerical format. “CITY”, “GENDER” and “MARITAL_STATUS” in the customer dataset will be encoded."
   ]
  },
  {
   "cell_type": "code",
   "execution_count": 18,
   "metadata": {},
   "outputs": [],
   "source": [
    "# city [Frequency Encoding]\n",
    "us_customer_df.group_by(\"CITY\").agg(F.count(\"CUSTOMER_ID\").alias(\"CID\"))\n",
    "freq_enc = us_customer_df.groupBy(\"CITY\").agg(F.count(\"CUSTOMER_ID\").alias(\"city_frequency\"))\n",
    "    # join the encoded column back to the original DataFrame\n",
    "us_customer_df = us_customer_df.join(freq_enc, us_customer_df.CITY == freq_enc.CITY, lsuffix = \"\", rsuffix = \"_FREQ_ENC\")"
   ]
  },
  {
   "attachments": {},
   "cell_type": "markdown",
   "metadata": {},
   "source": [
    "Using frequency encoding for \"CITY\" can help to retain valuable information such as the distribution of each city in the dataset.\n",
    "\n",
    "Label encoding will be applied to “GENDER” and “MARITAL_STATUS”. "
   ]
  },
  {
   "cell_type": "code",
   "execution_count": 19,
   "metadata": {},
   "outputs": [],
   "source": [
    "# Gender [Label Encoding]\n",
    "#  Male -> 0\n",
    "#  Female -> 1\n",
    "#  Undisclosed -> 2\n",
    "\n",
    "us_customer_df = us_customer_df.withColumn(\"Gender\", F.when(us_customer_df[\"GENDER\"] == \"Male\", \"0\")\n",
    "                                             .when(us_customer_df[\"GENDER\"] == \"Female\", \"1\").otherwise(\"2\"))"
   ]
  },
  {
   "cell_type": "code",
   "execution_count": 20,
   "metadata": {},
   "outputs": [],
   "source": [
    "# Marital status [Label Encoding]\n",
    "#  Married -> 0 \n",
    "#  Single -> 1\n",
    "#  Divorced/seperated -> 2 \n",
    "#  Undisclosed -> 3\n",
    "\n",
    "us_customer_df = us_customer_df.withColumn(\n",
    "    \"MARITAL_STATUS\",\n",
    "    F.when(us_customer_df[\"MARITAL_STATUS\"] == \"Married\", \"0\")\n",
    "    .when(us_customer_df[\"MARITAL_STATUS\"] == \"Single\", \"1\")\n",
    "    .when(us_customer_df[\"MARITAL_STATUS\"] == \"Divorced/Seperated\", \"2\")\n",
    "    .otherwise(\"3\")\n",
    ")"
   ]
  },
  {
   "attachments": {},
   "cell_type": "markdown",
   "metadata": {},
   "source": [
    "### 3.5 Calculating customer's age <a id=\"part3-5\"></a>\n",
    "“BIRTHDAY_DATE” will be replaced by “AGE” instead, with the last order transaction date recorded based on all the customers as the current date. "
   ]
  },
  {
   "cell_type": "code",
   "execution_count": 21,
   "metadata": {},
   "outputs": [],
   "source": [
    "# Calculating of the age of each customer based on the last order transaction date recorded based on all customers as current date \n",
    "last_date = order_header_df.agg(F.max(\"ORDER_TS\")).collect()[0][0]\n",
    "us_customer_df = us_customer_df.withColumn(\"Last_date\", F.iff(F.col(\"CUSTOMER_ID\") == F.col(\"CUSTOMER_ID\"), last_date, last_date))\n",
    "us_customer_df = us_customer_df.withColumn(\"AGE\", F.datediff(\"year\", F.col(\"BIRTHDAY_DATE\"), F.col(\"Last_date\")))"
   ]
  },
  {
   "cell_type": "code",
   "execution_count": 22,
   "metadata": {},
   "outputs": [
    {
     "name": "stdout",
     "output_type": "stream",
     "text": [
      "--------------------------------------------------------------------------------------------------------------\n",
      "|\"CUSTOMER_ID\"  |\"SIGN_UP_DATE\"  |\"CHILDREN_COUNT\"  |\"CITY_FREQUENCY\"  |\"GENDER\"  |\"MARITAL_STATUS\"  |\"AGE\"  |\n",
      "--------------------------------------------------------------------------------------------------------------\n",
      "|118            |2019-07-07      |0                 |10613             |0         |1                 |34     |\n",
      "|189            |2020-03-06      |1                 |10613             |2         |0                 |38     |\n",
      "|204            |2021-10-10      |0                 |10613             |0         |3                 |43     |\n",
      "|42             |2020-07-11      |0                 |10613             |2         |1                 |56     |\n",
      "|59             |2020-12-29      |2                 |10613             |0         |0                 |61     |\n",
      "|65             |2020-11-05      |5                 |10613             |0         |2                 |64     |\n",
      "|106            |2021-06-28      |0                 |10613             |1         |1                 |55     |\n",
      "|219            |2021-01-22      |2                 |10613             |2         |0                 |57     |\n",
      "|222            |2021-03-21      |0                 |10613             |1         |1                 |57     |\n",
      "|22             |2021-04-22      |4                 |10613             |0         |0                 |73     |\n",
      "--------------------------------------------------------------------------------------------------------------\n",
      "\n"
     ]
    }
   ],
   "source": [
    "# Dropping of categorical columns and unnecessary columns \n",
    "us_customer_df = us_customer_df.drop(\"CITY\", \"CITY_FREQ_ENC\", \"LAST_DATE\", \"BIRTHDAY_DATE\")\n",
    "\n",
    "# Final customer dataframe\n",
    "us_customer_df.show(10)"
   ]
  },
  {
   "attachments": {},
   "cell_type": "markdown",
   "metadata": {},
   "source": [
    "### 3.6 Calculating RFM <a id=\"part3-6\"></a>"
   ]
  },
  {
   "attachments": {},
   "cell_type": "markdown",
   "metadata": {},
   "source": [
    "#### 3.6.1 Calculation of Recency <a id=\"part3-6-1\"></a>\n",
    "To calculate the recency of orders for each customer, we will take the last order timestamp of the customer minus the current date identified. "
   ]
  },
  {
   "cell_type": "code",
   "execution_count": 23,
   "metadata": {},
   "outputs": [],
   "source": [
    "# Finding the last order time stamp for each customer\n",
    "customer_last_order_timestamp = order_header_df.groupBy(\"CUSTOMER_ID\").agg(F.max(\"ORDER_TS\").alias(\"LAST_ORDER_TS\"))"
   ]
  },
  {
   "cell_type": "code",
   "execution_count": 24,
   "metadata": {},
   "outputs": [
    {
     "name": "stdout",
     "output_type": "stream",
     "text": [
      "-----------------------\n",
      "|\"MIN(ORDER_TS)\"      |\n",
      "-----------------------\n",
      "|2019-01-01 17:19:08  |\n",
      "-----------------------\n",
      "\n",
      "-----------------------\n",
      "|\"MAX(ORDER_TS)\"      |\n",
      "-----------------------\n",
      "|2022-11-01 22:58:56  |\n",
      "-----------------------\n",
      "\n"
     ]
    }
   ],
   "source": [
    "# Finding the first and latest transaction timestamps\n",
    "\n",
    "# First transaction timestamp\n",
    "order_header_df.agg(F.min(\"ORDER_TS\")).show()\n",
    "\n",
    "# Lastest transaction timestamp\n",
    "order_header_df.agg(F.max(\"ORDER_TS\")).show()"
   ]
  },
  {
   "cell_type": "code",
   "execution_count": 25,
   "metadata": {},
   "outputs": [
    {
     "name": "stdout",
     "output_type": "stream",
     "text": [
      "-------------------------------------------------------------------------\n",
      "|\"CUSTOMER_ID\"  |\"LAST_ORDER_TS\"      |\"CURRENT DATE\"  |\"RECENCY_DAYS\"  |\n",
      "-------------------------------------------------------------------------\n",
      "|70625          |2022-10-22 18:57:16  |2022-11-01      |10              |\n",
      "|61591          |2022-10-26 17:54:46  |2022-11-01      |6               |\n",
      "|171000         |2022-10-30 09:56:03  |2022-11-01      |2               |\n",
      "|159549         |2022-11-01 16:53:23  |2022-11-01      |0               |\n",
      "|115424         |2022-10-28 19:43:52  |2022-11-01      |4               |\n",
      "|191590         |2022-11-01 13:19:30  |2022-11-01      |0               |\n",
      "|61495          |2022-10-29 10:49:17  |2022-11-01      |3               |\n",
      "|31451          |2022-10-18 22:27:14  |2022-11-01      |14              |\n",
      "|170430         |2022-10-17 19:11:47  |2022-11-01      |15              |\n",
      "|181391         |2022-10-30 12:31:21  |2022-11-01      |2               |\n",
      "-------------------------------------------------------------------------\n",
      "\n"
     ]
    }
   ],
   "source": [
    "# Creating a new dataframe and adding column with current date as the latest \n",
    "# transaction timestamp identified previously \n",
    "\n",
    "# Inserting new column: current date which the lastest transaction timestamp\n",
    "customer_recency = customer_last_order_timestamp.with_column(\"CURRENT DATE\", F.iff(F.col(\"LAST_ORDER_TS\") == F.col(\"LAST_ORDER_TS\"), \"2022-11-01\", \"0\"))\n",
    "\n",
    "# Calculate recency days\n",
    "customer_recency = customer_recency.with_column(\"RECENCY_DAYS\", F.datediff('day', customer_recency[\"LAST_ORDER_TS\"], customer_recency[\"CURRENT DATE\"]))\n",
    "customer_recency.show()"
   ]
  },
  {
   "cell_type": "code",
   "execution_count": 26,
   "metadata": {},
   "outputs": [],
   "source": [
    "# Calculating the number of days since a customer bought from Tasty Bytes based \n",
    "# on the date difference between the current date and last order timestamp and \n",
    "# adding it into the customer_recency data frame\n",
    "\n",
    "temp_customer_recency = customer_recency.select('CUSTOMER_ID','RECENCY_DAYS')\n",
    "\n",
    "# Joining customer_recency and customer_df to make a new data frame which will be used for clustering\n",
    "customer_final = temp_customer_recency.join(customer_df, \n",
    "                                customer_df.CUSTOMER_ID==temp_customer_recency.CUSTOMER_ID, lsuffix=\"\", rsuffix=\"_RECENCY\")"
   ]
  },
  {
   "attachments": {},
   "cell_type": "markdown",
   "metadata": {},
   "source": [
    "#### 3.6.2 Calculation of Frequency <a id=\"part3-6-2\"></a>\n",
    "To calculate the frequency of orders for each customer, we will be calculating the total order by customers divided by the duration between their first order and the current date identified."
   ]
  },
  {
   "cell_type": "code",
   "execution_count": 27,
   "metadata": {},
   "outputs": [
    {
     "name": "stdout",
     "output_type": "stream",
     "text": [
      "---------------------------------------\n",
      "|\"CUSTOMER_ID\"  |\"FIRST_ORDER_TS\"     |\n",
      "---------------------------------------\n",
      "|79393          |2019-07-07 19:18:31  |\n",
      "|97467          |2019-09-22 18:28:32  |\n",
      "|100201         |2019-05-03 08:57:29  |\n",
      "|116361         |2019-05-29 21:27:35  |\n",
      "|62668          |2019-10-26 18:16:11  |\n",
      "---------------------------------------\n",
      "\n"
     ]
    }
   ],
   "source": [
    "# Obtain the time stamp for each customer’s first order\n",
    "customer_first_order_timestamp = order_header_df.groupBy(\"CUSTOMER_ID\").agg(F.min(\"ORDER_TS\").alias(\"FIRST_ORDER_TS\"))\n",
    "customer_first_order_timestamp.show(n=5)"
   ]
  },
  {
   "cell_type": "code",
   "execution_count": 28,
   "metadata": {},
   "outputs": [
    {
     "name": "stdout",
     "output_type": "stream",
     "text": [
      "---------------------------------\n",
      "|\"CUSTOMER_ID\"  |\"TOTAL_ORDER\"  |\n",
      "---------------------------------\n",
      "|96975          |57             |\n",
      "|94580          |71             |\n",
      "|144225         |62             |\n",
      "|151133         |63             |\n",
      "|127470         |51             |\n",
      "---------------------------------\n",
      "\n"
     ]
    }
   ],
   "source": [
    "# Calculating the total number of orders for each customer\n",
    "total_order_by_cust = order_header_df.group_by(\"CUSTOMER_ID\").agg(F.count(\"ORDER_ID\").alias(\"TOTAL_ORDER\"))\n",
    "total_order_by_cust.show(n=5)"
   ]
  },
  {
   "cell_type": "code",
   "execution_count": 29,
   "metadata": {},
   "outputs": [],
   "source": [
    "# Joining the total number of orders, first order timestamp tables with the customer data\n",
    "customer_freq = customer_df.join(customer_first_order_timestamp, customer_df.CUSTOMER_ID==customer_first_order_timestamp.CUSTOMER_ID, lsuffix=\"\", rsuffix=\"_FIRST_TS\")\n",
    "customer_freq = customer_freq.join(total_order_by_cust, customer_freq.CUSTOMER_ID==total_order_by_cust.CUSTOMER_ID, lsuffix=\"\", rsuffix=\"_NUM_ORDER\")\n",
    "\n",
    "# Adding in relevant columns to the newly joined data frame such as “CURRENT DATE”, “YEARS_WITH_US”, and “CUSTOMER_FREQUENCY” to calculate the frequency\n",
    "customer_freq = customer_freq.with_column(\"CURRENT DATE\", F.iff(F.col(\"CUSTOMER_ID\") == F.col(\"CUSTOMER_ID\"), \"2022-11-01\", \"0\"))\n",
    "customer_freq = customer_freq.with_column(\"YEARS_WITH_US\",F.datediff(\"day\", customer_freq[\"FIRST_ORDER_TS\"], customer_freq[\"CURRENT DATE\"])/365)\n",
    "customer_freq = customer_freq.with_column(\"CUSTOMER_FREQUENCY\", customer_freq[\"TOTAL_ORDER\"]/customer_freq[\"YEARS_WITH_US\"])"
   ]
  },
  {
   "cell_type": "code",
   "execution_count": 30,
   "metadata": {},
   "outputs": [],
   "source": [
    "# Joining this table to the customer dataset that will be used for clustering later on\n",
    "temp_customer_freq = customer_freq.select([\"CUSTOMER_ID\",\"CUSTOMER_FREQUENCY\",'TOTAL_ORDER'])\n",
    "customer_final = temp_customer_freq.join(customer_final, \n",
    "                                customer_final.CUSTOMER_ID==temp_customer_freq.CUSTOMER_ID, lsuffix=\"\", rsuffix=\"_FREQUENCY\")"
   ]
  },
  {
   "attachments": {},
   "cell_type": "markdown",
   "metadata": {},
   "source": [
    "#### 3.6.3 Calculation of Monetary Value <a id=\"part3-6-3\"></a>\n",
    "To calculate the monetary value for each customer, we will be calculating the total sales generated by each customer divided by the number of years the customer has ordered with Tasty Bytes. "
   ]
  },
  {
   "cell_type": "code",
   "execution_count": 31,
   "metadata": {},
   "outputs": [],
   "source": [
    " # Calculate the total sales generated by each customer \n",
    "total_amount_spent = order_header_df.group_by(\"CUSTOMER_ID\").agg(F.sum(\"ORDER_TOTAL\").alias(\"TOTAL_SPENT\"))\n",
    "\n",
    "# Joining the total sales generated by each customer with the first order timestamp tables \n",
    "customer_monetary = total_amount_spent.join(customer_first_order_timestamp, total_amount_spent.CUSTOMER_ID==customer_first_order_timestamp.CUSTOMER_ID, lsuffix=\"\", rsuffix=\"_FIRST_TS\")\n",
    "\n",
    "# Adding in relevant columns to the newly joined data frame such as “CURRENT DATE”, “YEARS_WITH_US”, and “MONETARY_VALUE” to calculate the monetary value\n",
    "customer_monetary = customer_monetary.with_column(\"CURRENT DATE\", F.iff(F.col(\"CUSTOMER_ID\") == F.col(\"CUSTOMER_ID\"), \"2022-08-01\", \"0\"))\n",
    "customer_monetary = customer_monetary.with_column(\"YEARS_WITH_US\",F.datediff(\"day\", customer_monetary[\"FIRST_ORDER_TS\"], customer_monetary[\"CURRENT DATE\"])/365)\n",
    "customer_monetary = customer_monetary.with_column(\"MONETARY_VALUE\", F.col(\"TOTAL_SPENT\")/F.col(\"YEARS_WITH_US\"))"
   ]
  },
  {
   "cell_type": "code",
   "execution_count": 32,
   "metadata": {},
   "outputs": [],
   "source": [
    "# Joining this table to the customer dataset that will be used for clustering later on \n",
    "temp_customer_freq = customer_monetary.select(['CUSTOMER_ID','TOTAL_SPENT','YEARS_WITH_US','MONETARY_VALUE'])\n",
    "customer_final = temp_customer_freq.join(customer_final, customer_final.CUSTOMER_ID==temp_customer_freq.CUSTOMER_ID, lsuffix=\"\", rsuffix=\"_MONETARY\")"
   ]
  },
  {
   "cell_type": "code",
   "execution_count": 33,
   "metadata": {},
   "outputs": [
    {
     "name": "stdout",
     "output_type": "stream",
     "text": [
      "----------------------------------------------------------------------------------------------------------------------------------------------------------------------------------------------------------\n",
      "|\"CUSTOMER_ID\"  |\"TOTAL_SPENT\"  |\"YEARS_WITH_US\"  |\"TOTAL_ORDER\"  |\"RECENCY_DAYS\"  |\"CUSTOMER_FREQUENCY\"  |\"MONETARY_VALUE\"  |\"CHILDREN_COUNT\"  |\"CITY_FREQUENCY\"  |\"GENDER\"  |\"MARITAL_STATUS\"  |\"AGE\"  |\n",
      "----------------------------------------------------------------------------------------------------------------------------------------------------------------------------------------------------------\n",
      "|169614         |3014.7500      |2.794521         |74             |10              |24.289571             |1078.8074235263   |1                 |7288              |0         |0                 |71     |\n",
      "|107415         |2698.0000      |2.800000         |64             |15              |20.969478             |963.5714285714    |4                 |7288              |0         |2                 |64     |\n",
      "|61556          |2445.5000      |2.816438         |55             |4               |17.924108             |868.2953432669    |0                 |7288              |0         |1                 |79     |\n",
      "|84342          |2359.0000      |2.778082         |63             |4               |20.791139             |849.1470014204    |5                 |7288              |0         |0                 |28     |\n",
      "|111566         |1895.0000      |2.824658         |51             |5               |16.576137             |670.8776779348    |0                 |7288              |0         |1                 |29     |\n",
      "|128265         |2495.5000      |2.830137         |64             |9               |20.764443             |881.7594342606    |0                 |7288              |1         |3                 |35     |\n",
      "|78090          |2243.0000      |2.441096         |58             |8               |21.536111             |918.8495659327    |4                 |7288              |0         |0                 |77     |\n",
      "|119614         |2815.5000      |2.690411         |67             |11              |22.770017             |1046.4943832002   |0                 |7288              |1         |3                 |40     |\n",
      "|188082         |2513.7500      |2.717808         |63             |0               |21.213100             |924.9181693482    |0                 |7288              |0         |0                 |81     |\n",
      "|133138         |2325.7500      |2.819178         |58             |2               |18.884923             |824.9745138477    |0                 |7288              |1         |1                 |18     |\n",
      "----------------------------------------------------------------------------------------------------------------------------------------------------------------------------------------------------------\n",
      "\n"
     ]
    }
   ],
   "source": [
    "customer_final = customer_final.select(\n",
    "    [\"CUSTOMER_ID\", \"TOTAL_SPENT\", \n",
    "     \"YEARS_WITH_US\", \"TOTAL_ORDER\", \n",
    "     \"RECENCY_DAYS\", \"CUSTOMER_FREQUENCY\", \"MONETARY_VALUE\"])\n",
    "\n",
    "# Merge with customer details\n",
    "customer_final = customer_final.join(us_customer_df, customer_final.CUSTOMER_ID == us_customer_df.CUSTOMER_ID, lsuffix = \"\", rsuffix = \"_enc\")\n",
    "\n",
    "# Dropping of irrelevant and unnecessary columns that have been introduced during joining of dataframes in previous steps\n",
    "customer_final = customer_final.drop([\"CUSTOMER_ID_ENC\", \"SIGN_UP_DATE\"])\n",
    "customer_final.show(10)"
   ]
  },
  {
   "attachments": {},
   "cell_type": "markdown",
   "metadata": {},
   "source": [
    "### 3.7 Calculating Customer Purchase Patterns<a id=\"part3-7\"></a>"
   ]
  },
  {
   "attachments": {},
   "cell_type": "markdown",
   "metadata": {},
   "source": [
    "#### 3.7.1 Calculation of Average Days between Purchases <a id=\"part3-7-1\"></a>"
   ]
  },
  {
   "cell_type": "code",
   "execution_count": 34,
   "metadata": {},
   "outputs": [
    {
     "name": "stdout",
     "output_type": "stream",
     "text": [
      "---------------------------------------\n",
      "|\"CUSTOMER_ID\"  |\"AVG(DAYS_BETWEEN)\"  |\n",
      "---------------------------------------\n",
      "|22             |29.139535            |\n",
      "|42             |32.564103            |\n",
      "|59             |33.157895            |\n",
      "|65             |29.095238            |\n",
      "|106            |23.604167            |\n",
      "|118            |29.205128            |\n",
      "|166            |20.325581            |\n",
      "|176            |30.212121            |\n",
      "|189            |26.102041            |\n",
      "|204            |27.388889            |\n",
      "---------------------------------------\n",
      "\n"
     ]
    }
   ],
   "source": [
    "# Finding the average days between purchase for each customer\n",
    "customer_order_times = order_header_df.sort(col(\"CUSTOMER_ID\"), col(\"ORDER_TS\"))\n",
    "customer_order_times = customer_order_times.withColumn(\"prev_order_date\", F.lag(col(\"ORDER_TS\"), 1).over(Window.partitionBy(\"CUSTOMER_ID\").orderBy(\"ORDER_TS\"))).withColumn(\"days_between\", F.datediff('day', col(\"prev_order_date\"), col(\"ORDER_TS\")))\n",
    "customer_average_days = customer_order_times.groupBy(\"CUSTOMER_ID\").avg(\"days_between\")\n",
    "customer_average_days = customer_average_days.sort(col('CUSTOMER_ID'))\n",
    "customer_average_days.show()"
   ]
  },
  {
   "cell_type": "code",
   "execution_count": 35,
   "metadata": {},
   "outputs": [
    {
     "name": "stdout",
     "output_type": "stream",
     "text": [
      "--------------------------------------------------------------------------------------------------------------------------------------------------------------------------------------------------------------------------------------------------------------------------\n",
      "|\"CUSTOMER_ID\"  |\"AVG(DAYS_BETWEEN)\"  |\"CUSTOMER_ID_AVG_DAYS_WITHOUT_PURCHASE\"  |\"TOTAL_SPENT\"  |\"YEARS_WITH_US\"  |\"TOTAL_ORDER\"  |\"RECENCY_DAYS\"  |\"CUSTOMER_FREQUENCY\"  |\"MONETARY_VALUE\"  |\"CHILDREN_COUNT\"  |\"CITY_FREQUENCY\"  |\"GENDER\"  |\"MARITAL_STATUS\"  |\"AGE\"  |\n",
      "--------------------------------------------------------------------------------------------------------------------------------------------------------------------------------------------------------------------------------------------------------------------------\n",
      "|118            |29.205128            |118                                      |1419.2500      |2.876712         |40             |3               |12.784589             |493.3583897171    |0                 |10613             |0         |1                 |34     |\n",
      "|189            |26.102041            |189                                      |1921.0000      |3.257534         |50             |2               |14.246682             |589.7098848393    |1                 |10613             |2         |0                 |38     |\n",
      "|204            |27.388889            |204                                      |1263.0000      |2.471233         |37             |8               |13.586517             |511.0809057665    |0                 |10613             |0         |3                 |43     |\n",
      "|42             |32.564103            |42                                       |1817.5000      |3.243836         |40             |6               |11.442008             |560.2934303707    |0                 |10613             |2         |1                 |56     |\n",
      "|59             |33.157895            |59                                       |1325.5000      |3.216438         |39             |6               |11.244076             |412.1018343895    |2                 |10613             |0         |0                 |61     |\n",
      "|65             |29.095238            |65                                       |1407.2500      |3.147945         |43             |19              |12.647059             |447.0376706073    |5                 |10613             |0         |2                 |64     |\n",
      "|106            |23.604167            |106                                      |2147.7500      |2.860274         |49             |3               |15.743837             |750.8896000873    |0                 |10613             |1         |1                 |55     |\n",
      "|219            |26.358974            |219                                      |1342.5000      |2.580822         |40             |6               |14.119921             |520.1831044528    |2                 |10613             |2         |0                 |57     |\n",
      "|222            |30.636364            |222                                      |1912.5000      |3.490411         |45             |18              |12.024157             |547.9297423713    |0                 |10613             |1         |1                 |57     |\n",
      "|22             |29.139535            |22                                       |1439.0000      |3.216438         |44             |13              |12.685625             |447.3893170022    |4                 |10613             |0         |0                 |73     |\n",
      "--------------------------------------------------------------------------------------------------------------------------------------------------------------------------------------------------------------------------------------------------------------------------\n",
      "\n"
     ]
    }
   ],
   "source": [
    "customer_final = customer_average_days.join(customer_final, \n",
    "                                customer_final.CUSTOMER_ID==customer_average_days.CUSTOMER_ID, lsuffix=\"\", rsuffix=\"_AVG_DAYS_WITHOUT_PURCHASE\")\n",
    "customer_final.show()"
   ]
  },
  {
   "attachments": {},
   "cell_type": "markdown",
   "metadata": {},
   "source": [
    "#### 3.7.2 Calculation the Minimum Number of Days without Customer Purchase <a id=\"part3-7-2\"></a>"
   ]
  },
  {
   "cell_type": "code",
   "execution_count": 36,
   "metadata": {},
   "outputs": [
    {
     "name": "stdout",
     "output_type": "stream",
     "text": [
      "---------------------------------------\n",
      "|\"CUSTOMER_ID\"  |\"MIN(DAYS_BETWEEN)\"  |\n",
      "---------------------------------------\n",
      "|22             |1                    |\n",
      "|42             |1                    |\n",
      "|59             |1                    |\n",
      "|65             |2                    |\n",
      "|106            |1                    |\n",
      "|118            |1                    |\n",
      "|166            |1                    |\n",
      "|176            |1                    |\n",
      "|189            |1                    |\n",
      "|204            |1                    |\n",
      "---------------------------------------\n",
      "\n"
     ]
    }
   ],
   "source": [
    "# Finding the minimum days without purchase for each customer\n",
    "customer_min_days = customer_order_times.groupBy(\"CUSTOMER_ID\").min(\"days_between\")\n",
    "customer_min_days = customer_min_days.sort(col('CUSTOMER_ID'))\n",
    "customer_min_days.show()"
   ]
  },
  {
   "cell_type": "code",
   "execution_count": 37,
   "metadata": {},
   "outputs": [
    {
     "name": "stdout",
     "output_type": "stream",
     "text": [
      "------------------------------------------------------------------------------------------------------------------------------------------------------------------------------------------------------------------------------------------------------------------------------------------------------------------------------------------\n",
      "|\"CUSTOMER_ID\"  |\"MIN(DAYS_BETWEEN)\"  |\"CUSTOMER_ID_MIN_DAYS_WITHOUT_PURCHASE\"  |\"AVG(DAYS_BETWEEN)\"  |\"CUSTOMER_ID_AVG_DAYS_WITHOUT_PURCHASE\"  |\"TOTAL_SPENT\"  |\"YEARS_WITH_US\"  |\"TOTAL_ORDER\"  |\"RECENCY_DAYS\"  |\"CUSTOMER_FREQUENCY\"  |\"MONETARY_VALUE\"  |\"CHILDREN_COUNT\"  |\"CITY_FREQUENCY\"  |\"GENDER\"  |\"MARITAL_STATUS\"  |\"AGE\"  |\n",
      "------------------------------------------------------------------------------------------------------------------------------------------------------------------------------------------------------------------------------------------------------------------------------------------------------------------------------------------\n",
      "|118            |1                    |118                                      |29.205128            |118                                      |1419.2500      |2.876712         |40             |3               |12.784589             |493.3583897171    |0                 |10613             |0         |1                 |34     |\n",
      "|189            |1                    |189                                      |26.102041            |189                                      |1921.0000      |3.257534         |50             |2               |14.246682             |589.7098848393    |1                 |10613             |2         |0                 |38     |\n",
      "|204            |1                    |204                                      |27.388889            |204                                      |1263.0000      |2.471233         |37             |8               |13.586517             |511.0809057665    |0                 |10613             |0         |3                 |43     |\n",
      "|42             |1                    |42                                       |32.564103            |42                                       |1817.5000      |3.243836         |40             |6               |11.442008             |560.2934303707    |0                 |10613             |2         |1                 |56     |\n",
      "|59             |1                    |59                                       |33.157895            |59                                       |1325.5000      |3.216438         |39             |6               |11.244076             |412.1018343895    |2                 |10613             |0         |0                 |61     |\n",
      "|65             |2                    |65                                       |29.095238            |65                                       |1407.2500      |3.147945         |43             |19              |12.647059             |447.0376706073    |5                 |10613             |0         |2                 |64     |\n",
      "|106            |1                    |106                                      |23.604167            |106                                      |2147.7500      |2.860274         |49             |3               |15.743837             |750.8896000873    |0                 |10613             |1         |1                 |55     |\n",
      "|219            |1                    |219                                      |26.358974            |219                                      |1342.5000      |2.580822         |40             |6               |14.119921             |520.1831044528    |2                 |10613             |2         |0                 |57     |\n",
      "|222            |1                    |222                                      |30.636364            |222                                      |1912.5000      |3.490411         |45             |18              |12.024157             |547.9297423713    |0                 |10613             |1         |1                 |57     |\n",
      "|22             |1                    |22                                       |29.139535            |22                                       |1439.0000      |3.216438         |44             |13              |12.685625             |447.3893170022    |4                 |10613             |0         |0                 |73     |\n",
      "------------------------------------------------------------------------------------------------------------------------------------------------------------------------------------------------------------------------------------------------------------------------------------------------------------------------------------------\n",
      "\n"
     ]
    }
   ],
   "source": [
    "customer_final = customer_min_days.join(customer_final, \n",
    "                                customer_final.CUSTOMER_ID==customer_min_days.CUSTOMER_ID, lsuffix=\"\", rsuffix=\"_MIN_DAYS_WITHOUT_PURCHASE\")\n",
    "customer_final.show()"
   ]
  },
  {
   "attachments": {},
   "cell_type": "markdown",
   "metadata": {},
   "source": [
    "#### 3.7.3 Calculation the Maximum Number of Days without Customer Purchase <a id=\"part3-7-3\"></a>"
   ]
  },
  {
   "cell_type": "code",
   "execution_count": 38,
   "metadata": {},
   "outputs": [
    {
     "name": "stdout",
     "output_type": "stream",
     "text": [
      "---------------------------------------\n",
      "|\"CUSTOMER_ID\"  |\"MAX(DAYS_BETWEEN)\"  |\n",
      "---------------------------------------\n",
      "|22             |173                  |\n",
      "|42             |167                  |\n",
      "|59             |390                  |\n",
      "|65             |207                  |\n",
      "|106            |158                  |\n",
      "|118            |158                  |\n",
      "|166            |119                  |\n",
      "|176            |139                  |\n",
      "|189            |164                  |\n",
      "|204            |172                  |\n",
      "---------------------------------------\n",
      "\n"
     ]
    }
   ],
   "source": [
    "# Finding the maximum days without purchase for each customer\n",
    "customer_max_days = customer_order_times.groupBy(\"CUSTOMER_ID\").max(\"days_between\")\n",
    "customer_max_days = customer_max_days.sort(col('CUSTOMER_ID'))\n",
    "customer_max_days.show()"
   ]
  },
  {
   "cell_type": "code",
   "execution_count": 39,
   "metadata": {},
   "outputs": [
    {
     "name": "stdout",
     "output_type": "stream",
     "text": [
      "----------------------------------------------------------------------------------------------------------------------------------------------------------------------------------------------------------------------------------------------------------------------------------------------------------------------------------------------------------------------------------------------------------\n",
      "|\"CUSTOMER_ID\"  |\"MAX(DAYS_BETWEEN)\"  |\"CUSTOMER_ID_MAX_DAYS_WITHOUT_PURCHASE\"  |\"MIN(DAYS_BETWEEN)\"  |\"CUSTOMER_ID_MIN_DAYS_WITHOUT_PURCHASE\"  |\"AVG(DAYS_BETWEEN)\"  |\"CUSTOMER_ID_AVG_DAYS_WITHOUT_PURCHASE\"  |\"TOTAL_SPENT\"  |\"YEARS_WITH_US\"  |\"TOTAL_ORDER\"  |\"RECENCY_DAYS\"  |\"CUSTOMER_FREQUENCY\"  |\"MONETARY_VALUE\"  |\"CHILDREN_COUNT\"  |\"CITY_FREQUENCY\"  |\"GENDER\"  |\"MARITAL_STATUS\"  |\"AGE\"  |\n",
      "----------------------------------------------------------------------------------------------------------------------------------------------------------------------------------------------------------------------------------------------------------------------------------------------------------------------------------------------------------------------------------------------------------\n",
      "|118            |158                  |118                                      |1                    |118                                      |29.205128            |118                                      |1419.2500      |2.876712         |40             |3               |12.784589             |493.3583897171    |0                 |10613             |0         |1                 |34     |\n",
      "|189            |164                  |189                                      |1                    |189                                      |26.102041            |189                                      |1921.0000      |3.257534         |50             |2               |14.246682             |589.7098848393    |1                 |10613             |2         |0                 |38     |\n",
      "|204            |172                  |204                                      |1                    |204                                      |27.388889            |204                                      |1263.0000      |2.471233         |37             |8               |13.586517             |511.0809057665    |0                 |10613             |0         |3                 |43     |\n",
      "|42             |167                  |42                                       |1                    |42                                       |32.564103            |42                                       |1817.5000      |3.243836         |40             |6               |11.442008             |560.2934303707    |0                 |10613             |2         |1                 |56     |\n",
      "|59             |390                  |59                                       |1                    |59                                       |33.157895            |59                                       |1325.5000      |3.216438         |39             |6               |11.244076             |412.1018343895    |2                 |10613             |0         |0                 |61     |\n",
      "|65             |207                  |65                                       |2                    |65                                       |29.095238            |65                                       |1407.2500      |3.147945         |43             |19              |12.647059             |447.0376706073    |5                 |10613             |0         |2                 |64     |\n",
      "|106            |158                  |106                                      |1                    |106                                      |23.604167            |106                                      |2147.7500      |2.860274         |49             |3               |15.743837             |750.8896000873    |0                 |10613             |1         |1                 |55     |\n",
      "|219            |158                  |219                                      |1                    |219                                      |26.358974            |219                                      |1342.5000      |2.580822         |40             |6               |14.119921             |520.1831044528    |2                 |10613             |2         |0                 |57     |\n",
      "|222            |346                  |222                                      |1                    |222                                      |30.636364            |222                                      |1912.5000      |3.490411         |45             |18              |12.024157             |547.9297423713    |0                 |10613             |1         |1                 |57     |\n",
      "|22             |173                  |22                                       |1                    |22                                       |29.139535            |22                                       |1439.0000      |3.216438         |44             |13              |12.685625             |447.3893170022    |4                 |10613             |0         |0                 |73     |\n",
      "----------------------------------------------------------------------------------------------------------------------------------------------------------------------------------------------------------------------------------------------------------------------------------------------------------------------------------------------------------------------------------------------------------\n",
      "\n"
     ]
    }
   ],
   "source": [
    "customer_final = customer_max_days.join(customer_final, \n",
    "                                customer_final.CUSTOMER_ID==customer_max_days.CUSTOMER_ID, lsuffix=\"\", rsuffix=\"_MAX_DAYS_WITHOUT_PURCHASE\")\n",
    "customer_final.show()"
   ]
  },
  {
   "cell_type": "code",
   "execution_count": 40,
   "metadata": {},
   "outputs": [
    {
     "name": "stdout",
     "output_type": "stream",
     "text": [
      "----------------------------------------------------------------------------------------------------------------------------------------------------------------------------------------------------------------------------------------------------------------------------------------------------------------------\n",
      "|\"CUSTOMER_ID\"  |\"MAX(DAYS_BETWEEN)\"  |\"MIN(DAYS_BETWEEN)\"  |\"AVG(DAYS_BETWEEN)\"  |\"CUSTOMER_ID_AVG_DAYS_WITHOUT_PURCHASE\"  |\"TOTAL_SPENT\"  |\"YEARS_WITH_US\"  |\"TOTAL_ORDER\"  |\"RECENCY_DAYS\"  |\"CUSTOMER_FREQUENCY\"  |\"MONETARY_VALUE\"  |\"CHILDREN_COUNT\"  |\"CITY_FREQUENCY\"  |\"GENDER\"  |\"MARITAL_STATUS\"  |\"AGE\"  |\n",
      "----------------------------------------------------------------------------------------------------------------------------------------------------------------------------------------------------------------------------------------------------------------------------------------------------------------------\n",
      "|118            |158                  |1                    |29.205128            |118                                      |1419.2500      |2.876712         |40             |3               |12.784589             |493.3583897171    |0                 |10613             |0         |1                 |34     |\n",
      "|189            |164                  |1                    |26.102041            |189                                      |1921.0000      |3.257534         |50             |2               |14.246682             |589.7098848393    |1                 |10613             |2         |0                 |38     |\n",
      "|204            |172                  |1                    |27.388889            |204                                      |1263.0000      |2.471233         |37             |8               |13.586517             |511.0809057665    |0                 |10613             |0         |3                 |43     |\n",
      "|42             |167                  |1                    |32.564103            |42                                       |1817.5000      |3.243836         |40             |6               |11.442008             |560.2934303707    |0                 |10613             |2         |1                 |56     |\n",
      "|59             |390                  |1                    |33.157895            |59                                       |1325.5000      |3.216438         |39             |6               |11.244076             |412.1018343895    |2                 |10613             |0         |0                 |61     |\n",
      "|65             |207                  |2                    |29.095238            |65                                       |1407.2500      |3.147945         |43             |19              |12.647059             |447.0376706073    |5                 |10613             |0         |2                 |64     |\n",
      "|106            |158                  |1                    |23.604167            |106                                      |2147.7500      |2.860274         |49             |3               |15.743837             |750.8896000873    |0                 |10613             |1         |1                 |55     |\n",
      "|219            |158                  |1                    |26.358974            |219                                      |1342.5000      |2.580822         |40             |6               |14.119921             |520.1831044528    |2                 |10613             |2         |0                 |57     |\n",
      "|222            |346                  |1                    |30.636364            |222                                      |1912.5000      |3.490411         |45             |18              |12.024157             |547.9297423713    |0                 |10613             |1         |1                 |57     |\n",
      "|22             |173                  |1                    |29.139535            |22                                       |1439.0000      |3.216438         |44             |13              |12.685625             |447.3893170022    |4                 |10613             |0         |0                 |73     |\n",
      "----------------------------------------------------------------------------------------------------------------------------------------------------------------------------------------------------------------------------------------------------------------------------------------------------------------------\n",
      "\n"
     ]
    }
   ],
   "source": [
    "# Dropping of irrelevant and unnecessary columns that have been introduced during joining of dataframes in previous steps\n",
    "customer_final = customer_final.drop([\"CUSTOMER_ID_MAX_DAYS_WITHOUT_PURCHASE\", \"CUSTOMER_ID_MIN_DAYS_WITHOUT_PURCHASE\"])\n",
    "customer_final.show(10)"
   ]
  },
  {
   "attachments": {},
   "cell_type": "markdown",
   "metadata": {},
   "source": [
    "## DATA EXPLORATION"
   ]
  },
  {
   "cell_type": "code",
   "execution_count": 41,
   "metadata": {},
   "outputs": [
    {
     "data": {
      "text/html": [
       "<div>\n",
       "<style scoped>\n",
       "    .dataframe tbody tr th:only-of-type {\n",
       "        vertical-align: middle;\n",
       "    }\n",
       "\n",
       "    .dataframe tbody tr th {\n",
       "        vertical-align: top;\n",
       "    }\n",
       "\n",
       "    .dataframe thead th {\n",
       "        text-align: right;\n",
       "    }\n",
       "</style>\n",
       "<table border=\"1\" class=\"dataframe\">\n",
       "  <thead>\n",
       "    <tr style=\"text-align: right;\">\n",
       "      <th></th>\n",
       "      <th>RECENCY_DAYS</th>\n",
       "      <th>NO_OF_CUST</th>\n",
       "    </tr>\n",
       "  </thead>\n",
       "  <tbody>\n",
       "    <tr>\n",
       "      <th>0</th>\n",
       "      <td>19</td>\n",
       "      <td>901</td>\n",
       "    </tr>\n",
       "    <tr>\n",
       "      <th>1</th>\n",
       "      <td>23</td>\n",
       "      <td>483</td>\n",
       "    </tr>\n",
       "    <tr>\n",
       "      <th>2</th>\n",
       "      <td>57</td>\n",
       "      <td>42</td>\n",
       "    </tr>\n",
       "    <tr>\n",
       "      <th>3</th>\n",
       "      <td>14</td>\n",
       "      <td>1012</td>\n",
       "    </tr>\n",
       "    <tr>\n",
       "      <th>4</th>\n",
       "      <td>10</td>\n",
       "      <td>1727</td>\n",
       "    </tr>\n",
       "  </tbody>\n",
       "</table>\n",
       "</div>"
      ],
      "text/plain": [
       "   RECENCY_DAYS  NO_OF_CUST\n",
       "0            19         901\n",
       "1            23         483\n",
       "2            57          42\n",
       "3            14        1012\n",
       "4            10        1727"
      ]
     },
     "execution_count": 41,
     "metadata": {},
     "output_type": "execute_result"
    }
   ],
   "source": [
    "customer_by_recency = customer_final.group_by(\"RECENCY_DAYS\").agg(F.count(\"CUSTOMER_ID\").alias(\"NO_OF_CUST\")).to_pandas()\n",
    "customer_by_recency.head()"
   ]
  },
  {
   "cell_type": "code",
   "execution_count": 42,
   "metadata": {},
   "outputs": [
    {
     "data": {
      "image/png": "[encoded data removed]",
      "text/plain": [
       "<Figure size 2000x800 with 1 Axes>"
      ]
     },
     "metadata": {},
     "output_type": "display_data"
    }
   ],
   "source": [
    "customer_by_recency.sort_values(by='RECENCY_DAYS', ascending=True, inplace=True) # Sort values in ascending order of customer\n",
    "recency_index = customer_by_recency['RECENCY_DAYS'].tolist()\n",
    "customer_values = customer_by_recency['NO_OF_CUST'].tolist()\n",
    "\n",
    "# Create a figure and subplot\n",
    "fig, V4 = plt.subplots(figsize=(20,8))\n",
    "\n",
    "# Create a bar chart \n",
    "V4.bar(recency_index,customer_values, align = 'center', color='#AFE4FE') # align define the alignment of x-ticks\n",
    "\n",
    "# Display data labels\n",
    "#for x,y in zip(recency_index,customer_values):\n",
    "\n",
    "#    label = x\n",
    "\n",
    "#    plt.annotate(label, \n",
    "#                 (x,y), \n",
    "#                 textcoords=\"offset points\", \n",
    "#                 xytext=(30,-3), \n",
    "#                 fontsize = 10,\n",
    "#                 ha='center') \n",
    "\n",
    "# State title of plot and the axes labels\n",
    "V4.set_title('Distribution of Customers by Recency', fontsize = 25)\n",
    "V4.set_ylabel('Number of customers', fontsize = 20)\n",
    "V4.set_xlabel('Recency Days', fontsize = 20)\n",
    "\n",
    "# Set font size of ticks on the x-axis and y-axis\n",
    "V4.tick_params(labelsize = 12, axis ='both')\n",
    "\n",
    "# Set tight layout for figure\n",
    "fig.tight_layout()\n",
    "\n",
    "# Display plot\n",
    "plt.show()"
   ]
  },
  {
   "cell_type": "code",
   "execution_count": 43,
   "metadata": {},
   "outputs": [
    {
     "name": "stdout",
     "output_type": "stream",
     "text": [
      "Sum of customers where RECENCY_DAYS is below or equal to 30: 42940\n",
      "Sum of customers where RECENCY_DAYS is more than 30: 3360\n",
      "prob not this cos data of rows relatively less\n"
     ]
    }
   ],
   "source": [
    "# Sum of customers where RECENCY_DAYS is below or equal to 30\n",
    "sum_below_30 = customer_by_recency[customer_by_recency['RECENCY_DAYS'] <= 30]['NO_OF_CUST'].sum()\n",
    "\n",
    "# Sum of customers where RECENCY_DAYS is more than 30\n",
    "sum_above_30 = customer_by_recency[customer_by_recency['RECENCY_DAYS'] > 30]['NO_OF_CUST'].sum()\n",
    "\n",
    "# Print the results\n",
    "print(\"Sum of customers where RECENCY_DAYS is below or equal to 30:\", sum_below_30)\n",
    "print(\"Sum of customers where RECENCY_DAYS is more than 30:\", sum_above_30)\n",
    "print(\"prob not this cos data of rows relatively less\")"
   ]
  },
  {
   "cell_type": "code",
   "execution_count": 44,
   "metadata": {},
   "outputs": [
    {
     "name": "stdout",
     "output_type": "stream",
     "text": [
      "RECENCY_DAYS where 80% of the customers are at: 18\n"
     ]
    }
   ],
   "source": [
    "# Find recency days based on percentage of customer (20%)\n",
    "\n",
    "# Sort the DataFrame by RECENCY_DAYS in ascending order\n",
    "customer_by_recency = customer_by_recency.sort_values('RECENCY_DAYS')\n",
    "\n",
    "# Calculate the cumulative sum of customer counts\n",
    "customer_by_recency['CUMULATIVE_COUNT'] = customer_by_recency['NO_OF_CUST'].cumsum()\n",
    "\n",
    "# Find the RECENCY_DAYS where 80% of the customers are at\n",
    "target_percentage = 0.8\n",
    "target_recency_days = None\n",
    "\n",
    "for index, row in customer_by_recency.iterrows():\n",
    "    if row['CUMULATIVE_COUNT'] >= target_percentage * customer_by_recency['NO_OF_CUST'].sum():\n",
    "        target_recency_days = row['RECENCY_DAYS']\n",
    "        break\n",
    "\n",
    "# Print the result\n",
    "print(\"RECENCY_DAYS where 80% of the customers are at:\", target_recency_days)\n"
   ]
  },
  {
   "cell_type": "code",
   "execution_count": 45,
   "metadata": {},
   "outputs": [
    {
     "name": "stdout",
     "output_type": "stream",
     "text": [
      "Sum of customers where RECENCY_DAYS is below or equal to 18: 37239\n",
      "Sum of customers where RECENCY_DAYS is more than 18: 9061\n"
     ]
    }
   ],
   "source": [
    "# Sum of customers where RECENCY_DAYS is below or equal to 18\n",
    "sum_below_18 = customer_by_recency[customer_by_recency['RECENCY_DAYS'] <= 18]['NO_OF_CUST'].sum()\n",
    "\n",
    "# Sum of customers where RECENCY_DAYS is more than 18\n",
    "sum_above_18 = customer_by_recency[customer_by_recency['RECENCY_DAYS'] > 18]['NO_OF_CUST'].sum()\n",
    "\n",
    "# Print the results\n",
    "print(\"Sum of customers where RECENCY_DAYS is below or equal to 18:\", sum_below_18)\n",
    "print(\"Sum of customers where RECENCY_DAYS is more than 18:\", sum_above_18)"
   ]
  },
  {
   "cell_type": "code",
   "execution_count": 46,
   "metadata": {},
   "outputs": [
    {
     "name": "stdout",
     "output_type": "stream",
     "text": [
      "RECENCY_DAYS where 70% of the customers are at: 13\n"
     ]
    }
   ],
   "source": [
    "# Find recency days based on percentage of customer (30%)\n",
    "\n",
    "# Sort the DataFrame by RECENCY_DAYS in ascending order\n",
    "customer_by_recency = customer_by_recency.sort_values('RECENCY_DAYS')\n",
    "\n",
    "# Calculate the cumulative sum of customer counts\n",
    "customer_by_recency['CUMULATIVE_COUNT'] = customer_by_recency['NO_OF_CUST'].cumsum()\n",
    "\n",
    "# Find the RECENCY_DAYS where 80% of the customers are at\n",
    "target_percentage = 0.7\n",
    "target_recency_days = None\n",
    "\n",
    "for index, row in customer_by_recency.iterrows():\n",
    "    if row['CUMULATIVE_COUNT'] >= target_percentage * customer_by_recency['NO_OF_CUST'].sum():\n",
    "        target_recency_days = row['RECENCY_DAYS']\n",
    "        break\n",
    "\n",
    "# Print the result\n",
    "print(\"RECENCY_DAYS where 70% of the customers are at:\", target_recency_days)\n"
   ]
  },
  {
   "cell_type": "code",
   "execution_count": 47,
   "metadata": {},
   "outputs": [
    {
     "name": "stdout",
     "output_type": "stream",
     "text": [
      "Sum of customers where RECENCY_DAYS is below or equal to 13: 33053\n",
      "Sum of customers where RECENCY_DAYS is more than 13: 13247\n"
     ]
    }
   ],
   "source": [
    "# Sum of customers where RECENCY_DAYS is below or equal to 13\n",
    "sum_below_13 = customer_by_recency[customer_by_recency['RECENCY_DAYS'] <= 13]['NO_OF_CUST'].sum()\n",
    "\n",
    "# Sum of customers where RECENCY_DAYS is more than 13\n",
    "sum_above_13 = customer_by_recency[customer_by_recency['RECENCY_DAYS'] > 13]['NO_OF_CUST'].sum()\n",
    "\n",
    "# Print the results\n",
    "print(\"Sum of customers where RECENCY_DAYS is below or equal to 13:\", sum_below_13)\n",
    "print(\"Sum of customers where RECENCY_DAYS is more than 13:\", sum_above_13)"
   ]
  },
  {
   "attachments": {},
   "cell_type": "markdown",
   "metadata": {},
   "source": [
    "### 3.8 Adding Target Variable (Churn or no churn) <a id=\"part3-8\"></a>\n",
    "\n",
    "As of now:\n",
    "- 1 -> churn -> recency_days>14\n",
    "- 0 -> wont churn -> recency_days=<14"
   ]
  },
  {
   "cell_type": "code",
   "execution_count": 48,
   "metadata": {},
   "outputs": [
    {
     "name": "stdout",
     "output_type": "stream",
     "text": [
      "---------------------------------------------------------------------------------------------------------------------------------------------------------------------------------------------------------------------------------------------------------------------------------------------------------------------------------\n",
      "|\"CUSTOMER_ID\"  |\"MAX(DAYS_BETWEEN)\"  |\"MIN(DAYS_BETWEEN)\"  |\"AVG(DAYS_BETWEEN)\"  |\"CUSTOMER_ID_AVG_DAYS_WITHOUT_PURCHASE\"  |\"TOTAL_SPENT\"  |\"YEARS_WITH_US\"  |\"TOTAL_ORDER\"  |\"RECENCY_DAYS\"  |\"CUSTOMER_FREQUENCY\"  |\"MONETARY_VALUE\"  |\"CHILDREN_COUNT\"  |\"CITY_FREQUENCY\"  |\"GENDER\"  |\"MARITAL_STATUS\"  |\"AGE\"  |\"TARGET\"  |\n",
      "---------------------------------------------------------------------------------------------------------------------------------------------------------------------------------------------------------------------------------------------------------------------------------------------------------------------------------\n",
      "|118            |158                  |1                    |29.205128            |118                                      |1419.2500      |2.876712         |40             |3               |12.784589             |493.3583897171    |0                 |10613             |0         |1                 |34     |0         |\n",
      "|189            |164                  |1                    |26.102041            |189                                      |1921.0000      |3.257534         |50             |2               |14.246682             |589.7098848393    |1                 |10613             |2         |0                 |38     |0         |\n",
      "|204            |172                  |1                    |27.388889            |204                                      |1263.0000      |2.471233         |37             |8               |13.586517             |511.0809057665    |0                 |10613             |0         |3                 |43     |0         |\n",
      "|42             |167                  |1                    |32.564103            |42                                       |1817.5000      |3.243836         |40             |6               |11.442008             |560.2934303707    |0                 |10613             |2         |1                 |56     |0         |\n",
      "|59             |390                  |1                    |33.157895            |59                                       |1325.5000      |3.216438         |39             |6               |11.244076             |412.1018343895    |2                 |10613             |0         |0                 |61     |0         |\n",
      "|65             |207                  |2                    |29.095238            |65                                       |1407.2500      |3.147945         |43             |19              |12.647059             |447.0376706073    |5                 |10613             |0         |2                 |64     |1         |\n",
      "|106            |158                  |1                    |23.604167            |106                                      |2147.7500      |2.860274         |49             |3               |15.743837             |750.8896000873    |0                 |10613             |1         |1                 |55     |0         |\n",
      "|219            |158                  |1                    |26.358974            |219                                      |1342.5000      |2.580822         |40             |6               |14.119921             |520.1831044528    |2                 |10613             |2         |0                 |57     |0         |\n",
      "|222            |346                  |1                    |30.636364            |222                                      |1912.5000      |3.490411         |45             |18              |12.024157             |547.9297423713    |0                 |10613             |1         |1                 |57     |1         |\n",
      "|22             |173                  |1                    |29.139535            |22                                       |1439.0000      |3.216438         |44             |13              |12.685625             |447.3893170022    |4                 |10613             |0         |0                 |73     |0         |\n",
      "---------------------------------------------------------------------------------------------------------------------------------------------------------------------------------------------------------------------------------------------------------------------------------------------------------------------------------\n",
      "\n"
     ]
    }
   ],
   "source": [
    "customer_final = customer_final.with_column(\"Target\", F.iff(F.col(\"RECENCY_DAYS\") > 14, \"1\", \"0\"))\n",
    "customer_final.show(10)"
   ]
  },
  {
   "attachments": {},
   "cell_type": "markdown",
   "metadata": {},
   "source": [
    "### 4. Building of models "
   ]
  },
  {
   "attachments": {},
   "cell_type": "markdown",
   "metadata": {},
   "source": [
    "#### 4.1 Stratified sampling and scaling"
   ]
  },
  {
   "cell_type": "code",
   "execution_count": 49,
   "metadata": {},
   "outputs": [
    {
     "name": "stdout",
     "output_type": "stream",
     "text": [
      "----------------------\n",
      "|\"TARGET\"  |\"COUNT\"  |\n",
      "----------------------\n",
      "|0         |34065    |\n",
      "|1         |12235    |\n",
      "----------------------\n",
      "\n"
     ]
    }
   ],
   "source": [
    "customer_final.groupBy(col(\"TARGET\")).count().show()"
   ]
  },
  {
   "cell_type": "code",
   "execution_count": 50,
   "metadata": {},
   "outputs": [],
   "source": [
    "target0 = customer_final.filter(col(\"TARGET\")==0)\n",
    "target1 = customer_final.filter(col(\"TARGET\")==1)"
   ]
  },
  {
   "cell_type": "code",
   "execution_count": 51,
   "metadata": {},
   "outputs": [],
   "source": [
    "target0 = target0.sample(n = target1.count())"
   ]
  },
  {
   "cell_type": "code",
   "execution_count": 52,
   "metadata": {},
   "outputs": [],
   "source": [
    "sampled_customer_final = target0.union(target1)"
   ]
  },
  {
   "cell_type": "code",
   "execution_count": 53,
   "metadata": {},
   "outputs": [
    {
     "name": "stdout",
     "output_type": "stream",
     "text": [
      "----------------------\n",
      "|\"TARGET\"  |\"COUNT\"  |\n",
      "----------------------\n",
      "|0         |12235    |\n",
      "|1         |12235    |\n",
      "----------------------\n",
      "\n"
     ]
    }
   ],
   "source": [
    "sampled_customer_final.groupBy(col(\"TARGET\")).count().show()"
   ]
  },
  {
   "cell_type": "code",
   "execution_count": 54,
   "metadata": {},
   "outputs": [
    {
     "name": "stdout",
     "output_type": "stream",
     "text": [
      "---------------------------------------------------------------------------------------------------------------------------------------------------------------------------------------------------------------------------------------------------------------------------------------------------------------------------------\n",
      "|\"CUSTOMER_ID\"  |\"MAX(DAYS_BETWEEN)\"  |\"MIN(DAYS_BETWEEN)\"  |\"AVG(DAYS_BETWEEN)\"  |\"CUSTOMER_ID_AVG_DAYS_WITHOUT_PURCHASE\"  |\"TOTAL_SPENT\"  |\"YEARS_WITH_US\"  |\"TOTAL_ORDER\"  |\"RECENCY_DAYS\"  |\"CUSTOMER_FREQUENCY\"  |\"MONETARY_VALUE\"  |\"CHILDREN_COUNT\"  |\"CITY_FREQUENCY\"  |\"GENDER\"  |\"MARITAL_STATUS\"  |\"AGE\"  |\"TARGET\"  |\n",
      "---------------------------------------------------------------------------------------------------------------------------------------------------------------------------------------------------------------------------------------------------------------------------------------------------------------------------------\n",
      "|118            |158                  |1                    |29.205128            |118                                      |1419.2500      |2.876712         |40             |3               |12.784589             |493.3583897171    |0                 |10613             |0         |1                 |34     |0         |\n",
      "|92169          |97                   |1                    |16.900000            |92169                                    |2401.7500      |2.536986         |61             |4               |21.871317             |946.6942269291    |2                 |9261              |1         |0                 |56     |0         |\n",
      "|354            |216                  |1                    |28.625000            |354                                      |1509.0000      |2.884932         |41             |0               |13.069870             |523.0625886503    |0                 |10613             |1         |3                 |71     |0         |\n",
      "|86652          |100                  |1                    |16.333333            |86652                                    |2814.5000      |2.835616         |70             |0               |22.670809             |992.5532935348    |2                 |7288              |1         |0                 |82     |0         |\n",
      "|152437         |125                  |1                    |16.316667            |152437                                   |2330.7500      |2.454795         |61             |9               |22.535428             |949.4682855391    |0                 |9261              |0         |1                 |68     |0         |\n",
      "|10076          |119                  |1                    |25.894737            |10076                                    |1383.2500      |2.449315         |39             |2               |14.437119             |564.7497361507    |0                 |10613             |0         |1                 |29     |0         |\n",
      "|116647         |101                  |1                    |22.818182            |116647                                   |2499.5000      |3.208219         |56             |8               |16.183689             |779.0926990957    |2                 |9122              |0         |0                 |43     |0         |\n",
      "|91044          |90                   |1                    |19.137255            |91044                                    |1975.0000      |2.430137         |52             |3               |19.387128             |812.7113821155    |1                 |9261              |0         |0                 |41     |0         |\n",
      "|7027           |111                  |1                    |24.800000            |7027                                     |1399.2500      |2.465753         |41             |0               |15.085687             |567.4737088427    |2                 |10613             |1         |0                 |18     |0         |\n",
      "|133471         |75                   |1                    |22.523810            |133471                                   |1555.7500      |2.353425         |43             |5               |16.503683             |661.0578199858    |3                 |9261              |1         |0                 |23     |0         |\n",
      "---------------------------------------------------------------------------------------------------------------------------------------------------------------------------------------------------------------------------------------------------------------------------------------------------------------------------------\n",
      "\n"
     ]
    }
   ],
   "source": [
    "sampled_customer_final.show()"
   ]
  },
  {
   "cell_type": "code",
   "execution_count": 55,
   "metadata": {},
   "outputs": [
    {
     "data": {
      "text/html": [
       "<div>\n",
       "<style scoped>\n",
       "    .dataframe tbody tr th:only-of-type {\n",
       "        vertical-align: middle;\n",
       "    }\n",
       "\n",
       "    .dataframe tbody tr th {\n",
       "        vertical-align: top;\n",
       "    }\n",
       "\n",
       "    .dataframe thead th {\n",
       "        text-align: right;\n",
       "    }\n",
       "</style>\n",
       "<table border=\"1\" class=\"dataframe\">\n",
       "  <thead>\n",
       "    <tr style=\"text-align: right;\">\n",
       "      <th></th>\n",
       "      <th>CUSTOMER_ID</th>\n",
       "      <th>MAX(DAYS_BETWEEN)</th>\n",
       "      <th>MIN(DAYS_BETWEEN)</th>\n",
       "      <th>AVG(DAYS_BETWEEN)</th>\n",
       "      <th>CUSTOMER_ID_AVG_DAYS_WITHOUT_PURCHASE</th>\n",
       "      <th>TOTAL_SPENT</th>\n",
       "      <th>YEARS_WITH_US</th>\n",
       "      <th>TOTAL_ORDER</th>\n",
       "      <th>RECENCY_DAYS</th>\n",
       "      <th>CUSTOMER_FREQUENCY</th>\n",
       "      <th>MONETARY_VALUE</th>\n",
       "      <th>CHILDREN_COUNT</th>\n",
       "      <th>CITY_FREQUENCY</th>\n",
       "      <th>GENDER</th>\n",
       "      <th>MARITAL_STATUS</th>\n",
       "      <th>AGE</th>\n",
       "      <th>TARGET</th>\n",
       "    </tr>\n",
       "  </thead>\n",
       "  <tbody>\n",
       "    <tr>\n",
       "      <th>0</th>\n",
       "      <td>185649</td>\n",
       "      <td>108</td>\n",
       "      <td>1</td>\n",
       "      <td>21.173077</td>\n",
       "      <td>185649</td>\n",
       "      <td>1923.50</td>\n",
       "      <td>2.797260</td>\n",
       "      <td>53</td>\n",
       "      <td>12</td>\n",
       "      <td>17.380953</td>\n",
       "      <td>687.6371878195</td>\n",
       "      <td>2</td>\n",
       "      <td>7288</td>\n",
       "      <td>1</td>\n",
       "      <td>0</td>\n",
       "      <td>82</td>\n",
       "      <td>0</td>\n",
       "    </tr>\n",
       "    <tr>\n",
       "      <th>1</th>\n",
       "      <td>106402</td>\n",
       "      <td>204</td>\n",
       "      <td>1</td>\n",
       "      <td>31.897436</td>\n",
       "      <td>106402</td>\n",
       "      <td>1445.50</td>\n",
       "      <td>3.194521</td>\n",
       "      <td>40</td>\n",
       "      <td>14</td>\n",
       "      <td>11.605725</td>\n",
       "      <td>452.4935037209</td>\n",
       "      <td>0</td>\n",
       "      <td>10613</td>\n",
       "      <td>1</td>\n",
       "      <td>1</td>\n",
       "      <td>48</td>\n",
       "      <td>0</td>\n",
       "    </tr>\n",
       "    <tr>\n",
       "      <th>2</th>\n",
       "      <td>1059</td>\n",
       "      <td>143</td>\n",
       "      <td>1</td>\n",
       "      <td>25.150000</td>\n",
       "      <td>1059</td>\n",
       "      <td>1717.75</td>\n",
       "      <td>2.504110</td>\n",
       "      <td>41</td>\n",
       "      <td>0</td>\n",
       "      <td>14.875748</td>\n",
       "      <td>685.9722616019</td>\n",
       "      <td>2</td>\n",
       "      <td>10613</td>\n",
       "      <td>0</td>\n",
       "      <td>0</td>\n",
       "      <td>36</td>\n",
       "      <td>0</td>\n",
       "    </tr>\n",
       "    <tr>\n",
       "      <th>3</th>\n",
       "      <td>182261</td>\n",
       "      <td>195</td>\n",
       "      <td>1</td>\n",
       "      <td>26.816327</td>\n",
       "      <td>182261</td>\n",
       "      <td>1963.50</td>\n",
       "      <td>3.364384</td>\n",
       "      <td>50</td>\n",
       "      <td>6</td>\n",
       "      <td>13.825759</td>\n",
       "      <td>583.6135233077</td>\n",
       "      <td>0</td>\n",
       "      <td>10613</td>\n",
       "      <td>0</td>\n",
       "      <td>1</td>\n",
       "      <td>32</td>\n",
       "      <td>0</td>\n",
       "    </tr>\n",
       "    <tr>\n",
       "      <th>4</th>\n",
       "      <td>113114</td>\n",
       "      <td>70</td>\n",
       "      <td>1</td>\n",
       "      <td>16.220339</td>\n",
       "      <td>113114</td>\n",
       "      <td>2407.50</td>\n",
       "      <td>2.391781</td>\n",
       "      <td>60</td>\n",
       "      <td>8</td>\n",
       "      <td>22.694297</td>\n",
       "      <td>1006.5720900032</td>\n",
       "      <td>0</td>\n",
       "      <td>10016</td>\n",
       "      <td>2</td>\n",
       "      <td>2</td>\n",
       "      <td>62</td>\n",
       "      <td>0</td>\n",
       "    </tr>\n",
       "  </tbody>\n",
       "</table>\n",
       "</div>"
      ],
      "text/plain": [
       "   CUSTOMER_ID  MAX(DAYS_BETWEEN)  MIN(DAYS_BETWEEN) AVG(DAYS_BETWEEN)  \\\n",
       "0       185649                108                  1         21.173077   \n",
       "1       106402                204                  1         31.897436   \n",
       "2         1059                143                  1         25.150000   \n",
       "3       182261                195                  1         26.816327   \n",
       "4       113114                 70                  1         16.220339   \n",
       "\n",
       "   CUSTOMER_ID_AVG_DAYS_WITHOUT_PURCHASE  TOTAL_SPENT  YEARS_WITH_US  \\\n",
       "0                                 185649      1923.50       2.797260   \n",
       "1                                 106402      1445.50       3.194521   \n",
       "2                                   1059      1717.75       2.504110   \n",
       "3                                 182261      1963.50       3.364384   \n",
       "4                                 113114      2407.50       2.391781   \n",
       "\n",
       "   TOTAL_ORDER  RECENCY_DAYS CUSTOMER_FREQUENCY   MONETARY_VALUE  \\\n",
       "0           53            12          17.380953   687.6371878195   \n",
       "1           40            14          11.605725   452.4935037209   \n",
       "2           41             0          14.875748   685.9722616019   \n",
       "3           50             6          13.825759   583.6135233077   \n",
       "4           60             8          22.694297  1006.5720900032   \n",
       "\n",
       "   CHILDREN_COUNT  CITY_FREQUENCY GENDER MARITAL_STATUS  AGE TARGET  \n",
       "0               2            7288      1              0   82      0  \n",
       "1               0           10613      1              1   48      0  \n",
       "2               2           10613      0              0   36      0  \n",
       "3               0           10613      0              1   32      0  \n",
       "4               0           10016      2              2   62      0  "
      ]
     },
     "execution_count": 55,
     "metadata": {},
     "output_type": "execute_result"
    }
   ],
   "source": [
    "sampled_customer_final = sampled_customer_final.to_pandas()\n",
    "sampled_customer_final.head()"
   ]
  },
  {
   "cell_type": "code",
   "execution_count": 56,
   "metadata": {},
   "outputs": [
    {
     "data": {
      "text/html": [
       "<div>\n",
       "<style scoped>\n",
       "    .dataframe tbody tr th:only-of-type {\n",
       "        vertical-align: middle;\n",
       "    }\n",
       "\n",
       "    .dataframe tbody tr th {\n",
       "        vertical-align: top;\n",
       "    }\n",
       "\n",
       "    .dataframe thead th {\n",
       "        text-align: right;\n",
       "    }\n",
       "</style>\n",
       "<table border=\"1\" class=\"dataframe\">\n",
       "  <thead>\n",
       "    <tr style=\"text-align: right;\">\n",
       "      <th></th>\n",
       "      <th>MAX(DAYS_BETWEEN)</th>\n",
       "      <th>MIN(DAYS_BETWEEN)</th>\n",
       "      <th>AVG(DAYS_BETWEEN)</th>\n",
       "      <th>CUSTOMER_ID_AVG_DAYS_WITHOUT_PURCHASE</th>\n",
       "      <th>TOTAL_SPENT</th>\n",
       "      <th>YEARS_WITH_US</th>\n",
       "      <th>TOTAL_ORDER</th>\n",
       "      <th>CUSTOMER_FREQUENCY</th>\n",
       "      <th>MONETARY_VALUE</th>\n",
       "      <th>AGE</th>\n",
       "      <th>TARGET</th>\n",
       "    </tr>\n",
       "  </thead>\n",
       "  <tbody>\n",
       "    <tr>\n",
       "      <th>0</th>\n",
       "      <td>108</td>\n",
       "      <td>1</td>\n",
       "      <td>21.173077</td>\n",
       "      <td>185649</td>\n",
       "      <td>1923.50</td>\n",
       "      <td>2.797260</td>\n",
       "      <td>53</td>\n",
       "      <td>17.380953</td>\n",
       "      <td>687.6371878195</td>\n",
       "      <td>82</td>\n",
       "      <td>0</td>\n",
       "    </tr>\n",
       "    <tr>\n",
       "      <th>1</th>\n",
       "      <td>204</td>\n",
       "      <td>1</td>\n",
       "      <td>31.897436</td>\n",
       "      <td>106402</td>\n",
       "      <td>1445.50</td>\n",
       "      <td>3.194521</td>\n",
       "      <td>40</td>\n",
       "      <td>11.605725</td>\n",
       "      <td>452.4935037209</td>\n",
       "      <td>48</td>\n",
       "      <td>0</td>\n",
       "    </tr>\n",
       "    <tr>\n",
       "      <th>2</th>\n",
       "      <td>143</td>\n",
       "      <td>1</td>\n",
       "      <td>25.150000</td>\n",
       "      <td>1059</td>\n",
       "      <td>1717.75</td>\n",
       "      <td>2.504110</td>\n",
       "      <td>41</td>\n",
       "      <td>14.875748</td>\n",
       "      <td>685.9722616019</td>\n",
       "      <td>36</td>\n",
       "      <td>0</td>\n",
       "    </tr>\n",
       "    <tr>\n",
       "      <th>3</th>\n",
       "      <td>195</td>\n",
       "      <td>1</td>\n",
       "      <td>26.816327</td>\n",
       "      <td>182261</td>\n",
       "      <td>1963.50</td>\n",
       "      <td>3.364384</td>\n",
       "      <td>50</td>\n",
       "      <td>13.825759</td>\n",
       "      <td>583.6135233077</td>\n",
       "      <td>32</td>\n",
       "      <td>0</td>\n",
       "    </tr>\n",
       "    <tr>\n",
       "      <th>4</th>\n",
       "      <td>70</td>\n",
       "      <td>1</td>\n",
       "      <td>16.220339</td>\n",
       "      <td>113114</td>\n",
       "      <td>2407.50</td>\n",
       "      <td>2.391781</td>\n",
       "      <td>60</td>\n",
       "      <td>22.694297</td>\n",
       "      <td>1006.5720900032</td>\n",
       "      <td>62</td>\n",
       "      <td>0</td>\n",
       "    </tr>\n",
       "  </tbody>\n",
       "</table>\n",
       "</div>"
      ],
      "text/plain": [
       "   MAX(DAYS_BETWEEN)  MIN(DAYS_BETWEEN) AVG(DAYS_BETWEEN)  \\\n",
       "0                108                  1         21.173077   \n",
       "1                204                  1         31.897436   \n",
       "2                143                  1         25.150000   \n",
       "3                195                  1         26.816327   \n",
       "4                 70                  1         16.220339   \n",
       "\n",
       "   CUSTOMER_ID_AVG_DAYS_WITHOUT_PURCHASE  TOTAL_SPENT  YEARS_WITH_US  \\\n",
       "0                                 185649      1923.50       2.797260   \n",
       "1                                 106402      1445.50       3.194521   \n",
       "2                                   1059      1717.75       2.504110   \n",
       "3                                 182261      1963.50       3.364384   \n",
       "4                                 113114      2407.50       2.391781   \n",
       "\n",
       "   TOTAL_ORDER CUSTOMER_FREQUENCY   MONETARY_VALUE  AGE TARGET  \n",
       "0           53          17.380953   687.6371878195   82      0  \n",
       "1           40          11.605725   452.4935037209   48      0  \n",
       "2           41          14.875748   685.9722616019   36      0  \n",
       "3           50          13.825759   583.6135233077   32      0  \n",
       "4           60          22.694297  1006.5720900032   62      0  "
      ]
     },
     "execution_count": 56,
     "metadata": {},
     "output_type": "execute_result"
    }
   ],
   "source": [
    "sampled_customer_final = sampled_customer_final.drop(['CUSTOMER_ID', 'CITY_FREQUENCY', 'GENDER', 'MARITAL_STATUS', 'CHILDREN_COUNT', 'RECENCY_DAYS'], axis=1)\n",
    "sampled_customer_final.head()"
   ]
  },
  {
   "cell_type": "code",
   "execution_count": 57,
   "metadata": {},
   "outputs": [],
   "source": [
    "#drop target\n",
    "target = sampled_customer_final['TARGET']\n",
    "sampled_customer_final.drop('TARGET', axis = 1, inplace = True)\n",
    "\n",
    "scaler = StandardScaler()\n",
    "scaler.fit(sampled_customer_final)\n",
    "\n",
    "final_scaled = scaler.transform(sampled_customer_final)\n",
    "final_scaled = pd.DataFrame(final_scaled, columns=sampled_customer_final.columns)\n",
    "\n",
    "#assign target variable back to scaled data frame\n",
    "final_scaled = final_scaled.assign(TARGET = target)"
   ]
  },
  {
   "cell_type": "code",
   "execution_count": 58,
   "metadata": {},
   "outputs": [
    {
     "data": {
      "text/html": [
       "<div>\n",
       "<style scoped>\n",
       "    .dataframe tbody tr th:only-of-type {\n",
       "        vertical-align: middle;\n",
       "    }\n",
       "\n",
       "    .dataframe tbody tr th {\n",
       "        vertical-align: top;\n",
       "    }\n",
       "\n",
       "    .dataframe thead th {\n",
       "        text-align: right;\n",
       "    }\n",
       "</style>\n",
       "<table border=\"1\" class=\"dataframe\">\n",
       "  <thead>\n",
       "    <tr style=\"text-align: right;\">\n",
       "      <th></th>\n",
       "      <th>MAX(DAYS_BETWEEN)</th>\n",
       "      <th>MIN(DAYS_BETWEEN)</th>\n",
       "      <th>AVG(DAYS_BETWEEN)</th>\n",
       "      <th>CUSTOMER_ID_AVG_DAYS_WITHOUT_PURCHASE</th>\n",
       "      <th>TOTAL_SPENT</th>\n",
       "      <th>YEARS_WITH_US</th>\n",
       "      <th>TOTAL_ORDER</th>\n",
       "      <th>CUSTOMER_FREQUENCY</th>\n",
       "      <th>MONETARY_VALUE</th>\n",
       "      <th>AGE</th>\n",
       "      <th>TARGET</th>\n",
       "    </tr>\n",
       "  </thead>\n",
       "  <tbody>\n",
       "    <tr>\n",
       "      <th>0</th>\n",
       "      <td>-0.338167</td>\n",
       "      <td>-0.265389</td>\n",
       "      <td>-0.141450</td>\n",
       "      <td>1.421875</td>\n",
       "      <td>-0.256613</td>\n",
       "      <td>0.054898</td>\n",
       "      <td>-0.015559</td>\n",
       "      <td>-0.106337</td>\n",
       "      <td>-0.314685</td>\n",
       "      <td>1.695837</td>\n",
       "      <td>0</td>\n",
       "    </tr>\n",
       "    <tr>\n",
       "      <th>1</th>\n",
       "      <td>0.966923</td>\n",
       "      <td>-0.265389</td>\n",
       "      <td>1.423692</td>\n",
       "      <td>-0.072755</td>\n",
       "      <td>-1.201061</td>\n",
       "      <td>1.205471</td>\n",
       "      <td>-1.190620</td>\n",
       "      <td>-1.438155</td>\n",
       "      <td>-1.441971</td>\n",
       "      <td>-0.073045</td>\n",
       "      <td>0</td>\n",
       "    </tr>\n",
       "    <tr>\n",
       "      <th>2</th>\n",
       "      <td>0.137647</td>\n",
       "      <td>-0.265389</td>\n",
       "      <td>0.438953</td>\n",
       "      <td>-2.059565</td>\n",
       "      <td>-0.663141</td>\n",
       "      <td>-0.794142</td>\n",
       "      <td>-1.100230</td>\n",
       "      <td>-0.684059</td>\n",
       "      <td>-0.322667</td>\n",
       "      <td>-0.697356</td>\n",
       "      <td>0</td>\n",
       "    </tr>\n",
       "    <tr>\n",
       "      <th>3</th>\n",
       "      <td>0.844571</td>\n",
       "      <td>-0.265389</td>\n",
       "      <td>0.682141</td>\n",
       "      <td>1.357976</td>\n",
       "      <td>-0.177580</td>\n",
       "      <td>1.697439</td>\n",
       "      <td>-0.286727</td>\n",
       "      <td>-0.926196</td>\n",
       "      <td>-0.813378</td>\n",
       "      <td>-0.905460</td>\n",
       "      <td>0</td>\n",
       "    </tr>\n",
       "    <tr>\n",
       "      <th>4</th>\n",
       "      <td>-0.854766</td>\n",
       "      <td>-0.265389</td>\n",
       "      <td>-0.864267</td>\n",
       "      <td>0.053836</td>\n",
       "      <td>0.699689</td>\n",
       "      <td>-1.119477</td>\n",
       "      <td>0.617167</td>\n",
       "      <td>1.118966</td>\n",
       "      <td>1.214299</td>\n",
       "      <td>0.655319</td>\n",
       "      <td>0</td>\n",
       "    </tr>\n",
       "  </tbody>\n",
       "</table>\n",
       "</div>"
      ],
      "text/plain": [
       "   MAX(DAYS_BETWEEN)  MIN(DAYS_BETWEEN)  AVG(DAYS_BETWEEN)  \\\n",
       "0          -0.338167          -0.265389          -0.141450   \n",
       "1           0.966923          -0.265389           1.423692   \n",
       "2           0.137647          -0.265389           0.438953   \n",
       "3           0.844571          -0.265389           0.682141   \n",
       "4          -0.854766          -0.265389          -0.864267   \n",
       "\n",
       "   CUSTOMER_ID_AVG_DAYS_WITHOUT_PURCHASE  TOTAL_SPENT  YEARS_WITH_US  \\\n",
       "0                               1.421875    -0.256613       0.054898   \n",
       "1                              -0.072755    -1.201061       1.205471   \n",
       "2                              -2.059565    -0.663141      -0.794142   \n",
       "3                               1.357976    -0.177580       1.697439   \n",
       "4                               0.053836     0.699689      -1.119477   \n",
       "\n",
       "   TOTAL_ORDER  CUSTOMER_FREQUENCY  MONETARY_VALUE       AGE TARGET  \n",
       "0    -0.015559           -0.106337       -0.314685  1.695837      0  \n",
       "1    -1.190620           -1.438155       -1.441971 -0.073045      0  \n",
       "2    -1.100230           -0.684059       -0.322667 -0.697356      0  \n",
       "3    -0.286727           -0.926196       -0.813378 -0.905460      0  \n",
       "4     0.617167            1.118966        1.214299  0.655319      0  "
      ]
     },
     "execution_count": 58,
     "metadata": {},
     "output_type": "execute_result"
    }
   ],
   "source": [
    "final_scaled.head()"
   ]
  },
  {
   "cell_type": "code",
   "execution_count": 59,
   "metadata": {},
   "outputs": [],
   "source": [
    "# Define Model Inputs (X) and Output (y)\n",
    "X = final_scaled.drop('TARGET', axis=1)\n",
    "y = final_scaled['TARGET']"
   ]
  },
  {
   "cell_type": "code",
   "execution_count": 60,
   "metadata": {},
   "outputs": [],
   "source": [
    "# Split both Inputs (X) and Output (y) into training set (70%) and testing set (30%)\n",
    "X_train, X_test, y_train, y_test = train_test_split(X, y, test_size=0.3, random_state=1)"
   ]
  },
  {
   "attachments": {},
   "cell_type": "markdown",
   "metadata": {},
   "source": [
    "#### 4.2 Logistic Regression Model"
   ]
  },
  {
   "cell_type": "code",
   "execution_count": 61,
   "metadata": {},
   "outputs": [
    {
     "data": {
      "text/html": [
       "<style>#sk-container-id-1 {color: black;background-color: white;}#sk-container-id-1 pre{padding: 0;}#sk-container-id-1 div.sk-toggleable {background-color: white;}#sk-container-id-1 label.sk-toggleable__label {cursor: pointer;display: block;width: 100%;margin-bottom: 0;padding: 0.3em;box-sizing: border-box;text-align: center;}#sk-container-id-1 label.sk-toggleable__label-arrow:before {content: \"▸\";float: left;margin-right: 0.25em;color: #696969;}#sk-container-id-1 label.sk-toggleable__label-arrow:hover:before {color: black;}#sk-container-id-1 div.sk-estimator:hover label.sk-toggleable__label-arrow:before {color: black;}#sk-container-id-1 div.sk-toggleable__content {max-height: 0;max-width: 0;overflow: hidden;text-align: left;background-color: #f0f8ff;}#sk-container-id-1 div.sk-toggleable__content pre {margin: 0.2em;color: black;border-radius: 0.25em;background-color: #f0f8ff;}#sk-container-id-1 input.sk-toggleable__control:checked~div.sk-toggleable__content {max-height: 200px;max-width: 100%;overflow: auto;}#sk-container-id-1 input.sk-toggleable__control:checked~label.sk-toggleable__label-arrow:before {content: \"▾\";}#sk-container-id-1 div.sk-estimator input.sk-toggleable__control:checked~label.sk-toggleable__label {background-color: #d4ebff;}#sk-container-id-1 div.sk-label input.sk-toggleable__control:checked~label.sk-toggleable__label {background-color: #d4ebff;}#sk-container-id-1 input.sk-hidden--visually {border: 0;clip: rect(1px 1px 1px 1px);clip: rect(1px, 1px, 1px, 1px);height: 1px;margin: -1px;overflow: hidden;padding: 0;position: absolute;width: 1px;}#sk-container-id-1 div.sk-estimator {font-family: monospace;background-color: #f0f8ff;border: 1px dotted black;border-radius: 0.25em;box-sizing: border-box;margin-bottom: 0.5em;}#sk-container-id-1 div.sk-estimator:hover {background-color: #d4ebff;}#sk-container-id-1 div.sk-parallel-item::after {content: \"\";width: 100%;border-bottom: 1px solid gray;flex-grow: 1;}#sk-container-id-1 div.sk-label:hover label.sk-toggleable__label {background-color: #d4ebff;}#sk-container-id-1 div.sk-serial::before {content: \"\";position: absolute;border-left: 1px solid gray;box-sizing: border-box;top: 0;bottom: 0;left: 50%;z-index: 0;}#sk-container-id-1 div.sk-serial {display: flex;flex-direction: column;align-items: center;background-color: white;padding-right: 0.2em;padding-left: 0.2em;position: relative;}#sk-container-id-1 div.sk-item {position: relative;z-index: 1;}#sk-container-id-1 div.sk-parallel {display: flex;align-items: stretch;justify-content: center;background-color: white;position: relative;}#sk-container-id-1 div.sk-item::before, #sk-container-id-1 div.sk-parallel-item::before {content: \"\";position: absolute;border-left: 1px solid gray;box-sizing: border-box;top: 0;bottom: 0;left: 50%;z-index: -1;}#sk-container-id-1 div.sk-parallel-item {display: flex;flex-direction: column;z-index: 1;position: relative;background-color: white;}#sk-container-id-1 div.sk-parallel-item:first-child::after {align-self: flex-end;width: 50%;}#sk-container-id-1 div.sk-parallel-item:last-child::after {align-self: flex-start;width: 50%;}#sk-container-id-1 div.sk-parallel-item:only-child::after {width: 0;}#sk-container-id-1 div.sk-dashed-wrapped {border: 1px dashed gray;margin: 0 0.4em 0.5em 0.4em;box-sizing: border-box;padding-bottom: 0.4em;background-color: white;}#sk-container-id-1 div.sk-label label {font-family: monospace;font-weight: bold;display: inline-block;line-height: 1.2em;}#sk-container-id-1 div.sk-label-container {text-align: center;}#sk-container-id-1 div.sk-container {/* jupyter's `normalize.less` sets `[hidden] { display: none; }` but bootstrap.min.css set `[hidden] { display: none !important; }` so we also need the `!important` here to be able to override the default hidden behavior on the sphinx rendered scikit-learn.org. See: https://github.com/scikit-learn/scikit-learn/issues/21755 */display: inline-block !important;position: relative;}#sk-container-id-1 div.sk-text-repr-fallback {display: none;}</style><div id=\"sk-container-id-1\" class=\"sk-top-container\"><div class=\"sk-text-repr-fallback\"><pre>LogisticRegression(max_iter=10000, random_state=1)</pre><b>In a Jupyter environment, please rerun this cell to show the HTML representation or trust the notebook. <br />On GitHub, the HTML representation is unable to render, please try loading this page with nbviewer.org.</b></div><div class=\"sk-container\" hidden><div class=\"sk-item\"><div class=\"sk-estimator sk-toggleable\"><input class=\"sk-toggleable__control sk-hidden--visually\" id=\"sk-estimator-id-1\" type=\"checkbox\" checked><label for=\"sk-estimator-id-1\" class=\"sk-toggleable__label sk-toggleable__label-arrow\">LogisticRegression</label><div class=\"sk-toggleable__content\"><pre>LogisticRegression(max_iter=10000, random_state=1)</pre></div></div></div></div></div>"
      ],
      "text/plain": [
       "LogisticRegression(max_iter=10000, random_state=1)"
      ]
     },
     "execution_count": 61,
     "metadata": {},
     "output_type": "execute_result"
    }
   ],
   "source": [
    "from sklearn.linear_model import LogisticRegression\n",
    "# Create Logistic Regression Model\n",
    "lg = LogisticRegression(solver='lbfgs', # optimization solver\n",
    "                        max_iter=10000, random_state=1) \n",
    "\n",
    "# Fit the model to the training set\n",
    "lg.fit(X_train,y_train)"
   ]
  },
  {
   "cell_type": "code",
   "execution_count": 62,
   "metadata": {},
   "outputs": [
    {
     "name": "stdout",
     "output_type": "stream",
     "text": [
      "0.6018448245665247 (Train Accuracy)\n"
     ]
    }
   ],
   "source": [
    "# training acc\n",
    "print(lg.score(X_train, y_train), '(Train Accuracy)')"
   ]
  },
  {
   "cell_type": "code",
   "execution_count": 63,
   "metadata": {},
   "outputs": [
    {
     "name": "stdout",
     "output_type": "stream",
     "text": [
      "0.5926985424329111 (Test Accuracy)\n"
     ]
    }
   ],
   "source": [
    "# testing acc\n",
    "print(lg.score(X_test, y_test), '(Test Accuracy)')"
   ]
  },
  {
   "attachments": {},
   "cell_type": "markdown",
   "metadata": {},
   "source": [
    "#### 4.3 Decision Tree Model"
   ]
  },
  {
   "cell_type": "code",
   "execution_count": 64,
   "metadata": {},
   "outputs": [
    {
     "data": {
      "text/html": [
       "<style>#sk-container-id-2 {color: black;background-color: white;}#sk-container-id-2 pre{padding: 0;}#sk-container-id-2 div.sk-toggleable {background-color: white;}#sk-container-id-2 label.sk-toggleable__label {cursor: pointer;display: block;width: 100%;margin-bottom: 0;padding: 0.3em;box-sizing: border-box;text-align: center;}#sk-container-id-2 label.sk-toggleable__label-arrow:before {content: \"▸\";float: left;margin-right: 0.25em;color: #696969;}#sk-container-id-2 label.sk-toggleable__label-arrow:hover:before {color: black;}#sk-container-id-2 div.sk-estimator:hover label.sk-toggleable__label-arrow:before {color: black;}#sk-container-id-2 div.sk-toggleable__content {max-height: 0;max-width: 0;overflow: hidden;text-align: left;background-color: #f0f8ff;}#sk-container-id-2 div.sk-toggleable__content pre {margin: 0.2em;color: black;border-radius: 0.25em;background-color: #f0f8ff;}#sk-container-id-2 input.sk-toggleable__control:checked~div.sk-toggleable__content {max-height: 200px;max-width: 100%;overflow: auto;}#sk-container-id-2 input.sk-toggleable__control:checked~label.sk-toggleable__label-arrow:before {content: \"▾\";}#sk-container-id-2 div.sk-estimator input.sk-toggleable__control:checked~label.sk-toggleable__label {background-color: #d4ebff;}#sk-container-id-2 div.sk-label input.sk-toggleable__control:checked~label.sk-toggleable__label {background-color: #d4ebff;}#sk-container-id-2 input.sk-hidden--visually {border: 0;clip: rect(1px 1px 1px 1px);clip: rect(1px, 1px, 1px, 1px);height: 1px;margin: -1px;overflow: hidden;padding: 0;position: absolute;width: 1px;}#sk-container-id-2 div.sk-estimator {font-family: monospace;background-color: #f0f8ff;border: 1px dotted black;border-radius: 0.25em;box-sizing: border-box;margin-bottom: 0.5em;}#sk-container-id-2 div.sk-estimator:hover {background-color: #d4ebff;}#sk-container-id-2 div.sk-parallel-item::after {content: \"\";width: 100%;border-bottom: 1px solid gray;flex-grow: 1;}#sk-container-id-2 div.sk-label:hover label.sk-toggleable__label {background-color: #d4ebff;}#sk-container-id-2 div.sk-serial::before {content: \"\";position: absolute;border-left: 1px solid gray;box-sizing: border-box;top: 0;bottom: 0;left: 50%;z-index: 0;}#sk-container-id-2 div.sk-serial {display: flex;flex-direction: column;align-items: center;background-color: white;padding-right: 0.2em;padding-left: 0.2em;position: relative;}#sk-container-id-2 div.sk-item {position: relative;z-index: 1;}#sk-container-id-2 div.sk-parallel {display: flex;align-items: stretch;justify-content: center;background-color: white;position: relative;}#sk-container-id-2 div.sk-item::before, #sk-container-id-2 div.sk-parallel-item::before {content: \"\";position: absolute;border-left: 1px solid gray;box-sizing: border-box;top: 0;bottom: 0;left: 50%;z-index: -1;}#sk-container-id-2 div.sk-parallel-item {display: flex;flex-direction: column;z-index: 1;position: relative;background-color: white;}#sk-container-id-2 div.sk-parallel-item:first-child::after {align-self: flex-end;width: 50%;}#sk-container-id-2 div.sk-parallel-item:last-child::after {align-self: flex-start;width: 50%;}#sk-container-id-2 div.sk-parallel-item:only-child::after {width: 0;}#sk-container-id-2 div.sk-dashed-wrapped {border: 1px dashed gray;margin: 0 0.4em 0.5em 0.4em;box-sizing: border-box;padding-bottom: 0.4em;background-color: white;}#sk-container-id-2 div.sk-label label {font-family: monospace;font-weight: bold;display: inline-block;line-height: 1.2em;}#sk-container-id-2 div.sk-label-container {text-align: center;}#sk-container-id-2 div.sk-container {/* jupyter's `normalize.less` sets `[hidden] { display: none; }` but bootstrap.min.css set `[hidden] { display: none !important; }` so we also need the `!important` here to be able to override the default hidden behavior on the sphinx rendered scikit-learn.org. See: https://github.com/scikit-learn/scikit-learn/issues/21755 */display: inline-block !important;position: relative;}#sk-container-id-2 div.sk-text-repr-fallback {display: none;}</style><div id=\"sk-container-id-2\" class=\"sk-top-container\"><div class=\"sk-text-repr-fallback\"><pre>DecisionTreeClassifier(max_depth=2, random_state=1)</pre><b>In a Jupyter environment, please rerun this cell to show the HTML representation or trust the notebook. <br />On GitHub, the HTML representation is unable to render, please try loading this page with nbviewer.org.</b></div><div class=\"sk-container\" hidden><div class=\"sk-item\"><div class=\"sk-estimator sk-toggleable\"><input class=\"sk-toggleable__control sk-hidden--visually\" id=\"sk-estimator-id-2\" type=\"checkbox\" checked><label for=\"sk-estimator-id-2\" class=\"sk-toggleable__label sk-toggleable__label-arrow\">DecisionTreeClassifier</label><div class=\"sk-toggleable__content\"><pre>DecisionTreeClassifier(max_depth=2, random_state=1)</pre></div></div></div></div></div>"
      ],
      "text/plain": [
       "DecisionTreeClassifier(max_depth=2, random_state=1)"
      ]
     },
     "execution_count": 64,
     "metadata": {},
     "output_type": "execute_result"
    }
   ],
   "source": [
    "from sklearn import tree\n",
    "# Create Decision Tree Model\n",
    "decision_tree = tree.DecisionTreeClassifier(max_depth=2, random_state=1)\n",
    "\n",
    "# Fit the model to the training set\n",
    "decision_tree.fit(X_train, y_train)"
   ]
  },
  {
   "cell_type": "code",
   "execution_count": 65,
   "metadata": {},
   "outputs": [
    {
     "data": {
      "image/png": "[encoded data removed]",
      "text/plain": [
       "<Figure size 2500x1000 with 1 Axes>"
      ]
     },
     "metadata": {},
     "output_type": "display_data"
    }
   ],
   "source": [
    "# Plotting Decision Tree\n",
    "plt.figure(figsize=(25,10))\n",
    "tree.plot_tree(decision_tree,\n",
    "              feature_names = list(final_scaled.drop(['TARGET'], axis=1)),\n",
    "                class_names = ['not_churned', 'churned'],\n",
    "                rounded = True,\n",
    "                filled= True)\n",
    "plt.savefig('tree1.png',format='png')\n",
    "plt.show() "
   ]
  },
  {
   "cell_type": "code",
   "execution_count": 66,
   "metadata": {},
   "outputs": [
    {
     "name": "stdout",
     "output_type": "stream",
     "text": [
      "the training accuracy is:  0.5867826493081908\n",
      "the testing accuracy is:  0.5823457294646506\n"
     ]
    }
   ],
   "source": [
    "# training acc\n",
    "train_acc = decision_tree.score(X_train, y_train)\n",
    "print('the training accuracy is: ', train_acc)\n",
    "\n",
    "# testing acc\n",
    "test_acc = decision_tree.score(X_test, y_test)\n",
    "print('the testing accuracy is: ', test_acc)"
   ]
  },
  {
   "cell_type": "code",
   "execution_count": 67,
   "metadata": {},
   "outputs": [
    {
     "data": {
      "text/html": [
       "<div>\n",
       "<style scoped>\n",
       "    .dataframe tbody tr th:only-of-type {\n",
       "        vertical-align: middle;\n",
       "    }\n",
       "\n",
       "    .dataframe tbody tr th {\n",
       "        vertical-align: top;\n",
       "    }\n",
       "\n",
       "    .dataframe thead th {\n",
       "        text-align: right;\n",
       "    }\n",
       "</style>\n",
       "<table border=\"1\" class=\"dataframe\">\n",
       "  <thead>\n",
       "    <tr style=\"text-align: right;\">\n",
       "      <th></th>\n",
       "      <th>feature</th>\n",
       "      <th>importance</th>\n",
       "    </tr>\n",
       "  </thead>\n",
       "  <tbody>\n",
       "    <tr>\n",
       "      <th>6</th>\n",
       "      <td>TOTAL_ORDER</td>\n",
       "      <td>0.895811</td>\n",
       "    </tr>\n",
       "    <tr>\n",
       "      <th>7</th>\n",
       "      <td>CUSTOMER_FREQUENCY</td>\n",
       "      <td>0.104189</td>\n",
       "    </tr>\n",
       "    <tr>\n",
       "      <th>0</th>\n",
       "      <td>MAX(DAYS_BETWEEN)</td>\n",
       "      <td>0.000000</td>\n",
       "    </tr>\n",
       "    <tr>\n",
       "      <th>1</th>\n",
       "      <td>MIN(DAYS_BETWEEN)</td>\n",
       "      <td>0.000000</td>\n",
       "    </tr>\n",
       "    <tr>\n",
       "      <th>2</th>\n",
       "      <td>AVG(DAYS_BETWEEN)</td>\n",
       "      <td>0.000000</td>\n",
       "    </tr>\n",
       "    <tr>\n",
       "      <th>3</th>\n",
       "      <td>CUSTOMER_ID_AVG_DAYS_WITHOUT_PURCHASE</td>\n",
       "      <td>0.000000</td>\n",
       "    </tr>\n",
       "    <tr>\n",
       "      <th>4</th>\n",
       "      <td>TOTAL_SPENT</td>\n",
       "      <td>0.000000</td>\n",
       "    </tr>\n",
       "    <tr>\n",
       "      <th>5</th>\n",
       "      <td>YEARS_WITH_US</td>\n",
       "      <td>0.000000</td>\n",
       "    </tr>\n",
       "    <tr>\n",
       "      <th>8</th>\n",
       "      <td>MONETARY_VALUE</td>\n",
       "      <td>0.000000</td>\n",
       "    </tr>\n",
       "    <tr>\n",
       "      <th>9</th>\n",
       "      <td>AGE</td>\n",
       "      <td>0.000000</td>\n",
       "    </tr>\n",
       "  </tbody>\n",
       "</table>\n",
       "</div>"
      ],
      "text/plain": [
       "                                 feature  importance\n",
       "6                            TOTAL_ORDER    0.895811\n",
       "7                     CUSTOMER_FREQUENCY    0.104189\n",
       "0                      MAX(DAYS_BETWEEN)    0.000000\n",
       "1                      MIN(DAYS_BETWEEN)    0.000000\n",
       "2                      AVG(DAYS_BETWEEN)    0.000000\n",
       "3  CUSTOMER_ID_AVG_DAYS_WITHOUT_PURCHASE    0.000000\n",
       "4                            TOTAL_SPENT    0.000000\n",
       "5                          YEARS_WITH_US    0.000000\n",
       "8                         MONETARY_VALUE    0.000000\n",
       "9                                    AGE    0.000000"
      ]
     },
     "execution_count": 67,
     "metadata": {},
     "output_type": "execute_result"
    }
   ],
   "source": [
    "# Computing feature importance\n",
    "pd.concat((pd.DataFrame(X_train.columns, columns = ['feature']), \n",
    "           pd.DataFrame(decision_tree.feature_importances_, columns = ['importance'])), \n",
    "          axis = 1).sort_values(by='importance', ascending = False)"
   ]
  },
  {
   "cell_type": "code",
   "execution_count": null,
   "metadata": {},
   "outputs": [],
   "source": []
  }
 ],
 "metadata": {
  "kernelspec": {
   "display_name": "pysnowpark",
   "language": "python",
   "name": "python3"
  },
  "language_info": {
   "codemirror_mode": {
    "name": "ipython",
    "version": 3
   },
   "file_extension": ".py",
   "mimetype": "text/x-python",
   "name": "python",
   "nbconvert_exporter": "python",
   "pygments_lexer": "ipython3",
   "version": "3.8.16"
  },
  "orig_nbformat": 4
 },
 "nbformat": 4,
 "nbformat_minor": 2
}
