{
 "cells": [
  {
   "attachments": {},
   "cell_type": "markdown",
   "metadata": {},
   "source": [
    "## Importing packages & setting up connection"
   ]
  },
  {
   "cell_type": "code",
   "execution_count": 1,
   "metadata": {},
   "outputs": [
    {
     "name": "stderr",
     "output_type": "stream",
     "text": [
      "c:\\Users\\gwyne\\.conda\\envs\\pysnowpark\\lib\\site-packages\\xgboost\\compat.py:36: FutureWarning: pandas.Int64Index is deprecated and will be removed from pandas in a future version. Use pandas.Index with the appropriate dtype instead.\n",
      "  from pandas import MultiIndex, Int64Index\n"
     ]
    }
   ],
   "source": [
    "# Import Python packages\n",
    "import pandas as pd\n",
    "import numpy as np\n",
    "from matplotlib import pyplot as plt\n",
    "import json\n",
    "import sys\n",
    "import cachetools\n",
    "from datetime import datetime\n",
    "from datetime import date\n",
    "import seaborn as sns\n",
    "import math\n",
    "from scipy import stats\n",
    "import statsmodels.api as sm\n",
    "\n",
    "# Import Snowflake modules\n",
    "from snowflake.snowpark import Session\n",
    "import snowflake.snowpark.functions as F\n",
    "import snowflake.snowpark.types as T\n",
    "from snowflake.snowpark import Window\n",
    "from snowflake.snowpark.functions import col, to_date, row_number, desc\n",
    "\n",
    "# Clustering & Model\n",
    "from sklearn.cluster import KMeans\n",
    "from sklearn.linear_model import LogisticRegression, LinearRegression\n",
    "from sklearn import tree\n",
    "from sklearn.tree import DecisionTreeClassifier\n",
    "from sklearn.neural_network import MLPClassifier\n",
    "from sklearn.svm import SVC, SVR\n",
    "from sklearn. ensemble import RandomForestClassifier, BaggingClassifier, AdaBoostClassifier, ExtraTreesClassifier, RandomForestRegressor, ExtraTreesRegressor, BaggingRegressor, GradientBoostingClassifier, AdaBoostRegressor\n",
    "from sklearn.neighbors import KNeighborsRegressor\n",
    "from xgboost import XGBClassifier, XGBRegressor \n",
    "from sklearn.model_selection import KFold, cross_val_score, train_test_split\n",
    "\n",
    "# Scalers\n",
    "from sklearn.preprocessing import StandardScaler\n",
    "\n",
    "# Evaluation\n",
    "from sklearn.metrics import silhouette_score\n",
    "from sklearn.metrics import mean_squared_error\n",
    "from sklearn.metrics import r2_score\n",
    "from sklearn.metrics import accuracy_score\n",
    "\n",
    "# find the best combination of model hyperparameters\n",
    "from sklearn.model_selection import GridSearchCV, RandomizedSearchCV\n",
    "from sklearn.model_selection import cross_val_score, cross_validate\n",
    "\n",
    "# Getting Password,Username, Account\n",
    "import getpass\n",
    "\n",
    "# ignore warnings\n",
    "import warnings\n",
    "warnings.filterwarnings('ignore')"
   ]
  },
  {
   "cell_type": "code",
   "execution_count": 2,
   "metadata": {},
   "outputs": [],
   "source": [
    "# Get account credentials from a json file\n",
    "with open(\"account.json\") as f:\n",
    "    data = json.load(f)\n",
    "    username = data[\"username\"]\n",
    "    password = data[\"password\"]\n",
    "    account = data[\"account\"]\n",
    "\n",
    "# Specify connection parameters\n",
    "connection_parameters = {\n",
    "    \"account\": account,\n",
    "    \"user\": username,\n",
    "    \"password\": password,\n",
    "    #\"role\": \"ACCOUNTADMIN\",\n",
    "    #\"warehouse\": \"tasty_ds_wh\",\n",
    "    #\"database\": \"frostbyte_tasty_bytes\",\n",
    "    #\"schema\": \"analytics\",\n",
    "}\n",
    "\n",
    "# Create Snowpark session\n",
    "session = Session.builder.configs(connection_parameters).create()"
   ]
  },
  {
   "attachments": {},
   "cell_type": "markdown",
   "metadata": {},
   "source": [
    "## 1. Loading of Datasets <a id=\"part1\"></a>"
   ]
  },
  {
   "cell_type": "code",
   "execution_count": 3,
   "metadata": {},
   "outputs": [],
   "source": [
    "# Load the tables as dataframe\n",
    "order_header_df = session.table(\"NGEE_ANN_POLYTECHNIC_FROSTBYTE_DATA_SHARE.raw_pos.order_header\")\n",
    "customer_df = session.table(\"NGEE_ANN_POLYTECHNIC_FROSTBYTE_DATA_SHARE.raw_customer.customer_loyalty\")"
   ]
  },
  {
   "cell_type": "code",
   "execution_count": 4,
   "metadata": {},
   "outputs": [
    {
     "name": "stdout",
     "output_type": "stream",
     "text": [
      "-----------------------------------------------------------------------------------------------------------------------------------------------------------------------------------------------------------------------------------------------------------------------------------------\n",
      "|\"ORDER_ID\"  |\"TRUCK_ID\"  |\"LOCATION_ID\"  |\"CUSTOMER_ID\"  |\"DISCOUNT_ID\"  |\"SHIFT_ID\"  |\"SHIFT_START_TIME\"  |\"SHIFT_END_TIME\"  |\"ORDER_CHANNEL\"  |\"ORDER_TS\"           |\"SERVED_TS\"  |\"ORDER_CURRENCY\"  |\"ORDER_AMOUNT\"  |\"ORDER_TAX_AMOUNT\"  |\"ORDER_DISCOUNT_AMOUNT\"  |\"ORDER_TOTAL\"  |\n",
      "-----------------------------------------------------------------------------------------------------------------------------------------------------------------------------------------------------------------------------------------------------------------------------------------\n",
      "|22477378    |97          |3713.0         |NULL           |NULL           |78881       |16:00:00            |23:00:00          |NULL             |2020-04-19 17:06:54  |NULL         |USD               |26.0000         |NULL                |NULL                     |26.0000        |\n",
      "|22477379    |97          |3713.0         |NULL           |NULL           |78881       |16:00:00            |23:00:00          |NULL             |2020-04-19 17:07:40  |NULL         |USD               |46.0000         |NULL                |NULL                     |46.0000        |\n",
      "|22477380    |97          |3713.0         |NULL           |NULL           |78881       |16:00:00            |23:00:00          |NULL             |2020-04-19 17:07:58  |NULL         |USD               |7.0000          |NULL                |NULL                     |7.0000         |\n",
      "|22477381    |97          |3713.0         |NULL           |NULL           |78881       |16:00:00            |23:00:00          |NULL             |2020-04-19 17:09:41  |NULL         |USD               |9.0000          |NULL                |NULL                     |9.0000         |\n",
      "|22477382    |97          |3713.0         |NULL           |NULL           |78881       |16:00:00            |23:00:00          |NULL             |2020-04-19 17:10:09  |NULL         |USD               |24.0000         |NULL                |NULL                     |24.0000        |\n",
      "|22477383    |97          |3713.0         |NULL           |NULL           |78881       |16:00:00            |23:00:00          |NULL             |2020-04-19 17:14:51  |NULL         |USD               |40.0000         |NULL                |NULL                     |40.0000        |\n",
      "|22477384    |97          |3713.0         |NULL           |NULL           |78881       |16:00:00            |23:00:00          |NULL             |2020-04-19 17:17:14  |NULL         |USD               |16.0000         |NULL                |NULL                     |16.0000        |\n",
      "|22477385    |97          |3713.0         |NULL           |NULL           |78881       |16:00:00            |23:00:00          |NULL             |2020-04-19 17:18:59  |NULL         |USD               |28.0000         |NULL                |NULL                     |28.0000        |\n",
      "|22477386    |97          |3713.0         |NULL           |NULL           |78881       |16:00:00            |23:00:00          |NULL             |2020-04-19 17:23:06  |NULL         |USD               |16.0000         |NULL                |NULL                     |16.0000        |\n",
      "|22477387    |97          |3713.0         |NULL           |NULL           |78881       |16:00:00            |23:00:00          |NULL             |2020-04-19 17:26:09  |NULL         |USD               |19.0000         |NULL                |NULL                     |19.0000        |\n",
      "-----------------------------------------------------------------------------------------------------------------------------------------------------------------------------------------------------------------------------------------------------------------------------------------\n",
      "\n"
     ]
    }
   ],
   "source": [
    "# Display order_header_df\n",
    "order_header_df.show()"
   ]
  },
  {
   "cell_type": "code",
   "execution_count": 5,
   "metadata": {},
   "outputs": [
    {
     "name": "stdout",
     "output_type": "stream",
     "text": [
      "---------------------------------------------------------------------------------------------------------------------------------------------------------------------------------------------------------------------------------------------------------------------------\n",
      "|\"CUSTOMER_ID\"  |\"FIRST_NAME\"  |\"LAST_NAME\"  |\"CITY\"     |\"COUNTRY\"      |\"POSTAL_CODE\"  |\"PREFERRED_LANGUAGE\"  |\"GENDER\"     |\"FAVOURITE_BRAND\"  |\"MARITAL_STATUS\"  |\"CHILDREN_COUNT\"  |\"SIGN_UP_DATE\"  |\"BIRTHDAY_DATE\"  |\"E_MAIL\"                     |\"PHONE_NUMBER\"  |\n",
      "---------------------------------------------------------------------------------------------------------------------------------------------------------------------------------------------------------------------------------------------------------------------------\n",
      "|66             |Cannon        |Waters       |Toronto    |Canada         |M4C 3M7        |English               |Male         |NULL               |Married           |4                 |2019-10-08      |1982-11-24       |Cannon.Waters@hotmail.com    |424-543-8925    |\n",
      "|118            |Donald        |Faulkner     |San Mateo  |United States  |94010          |English               |Male         |NULL               |Single            |0                 |2019-07-07      |1988-06-13       |Donald.Faulkner@hotmail.com  |080-861-2392    |\n",
      "|131            |Tate          |Tucker       |Toronto    |Canada         |M4C 1E7        |English               |Male         |NULL               |Single            |0                 |2021-05-27      |1984-12-29       |Tate.Tucker@hotmail.com      |896-393-1708    |\n",
      "|132            |Aileen        |Knapp        |Toronto    |Canada         |M4C 3J6        |English               |Male         |NULL               |Single            |0                 |2020-11-10      |1981-04-30       |Aileen.Knapp@hotmail.com     |477-406-2898    |\n",
      "|171            |Grayson       |Hayes        |Toronto    |Canada         |M4C 1E7        |English               |Male         |NULL               |Single            |0                 |2021-05-08      |1987-08-06       |Grayson.Hayes@hotmail.com    |849-485-3285    |\n",
      "|189            |Reese         |Mcfarland    |San Mateo  |United States  |94010          |English               |Undisclosed  |NULL               |Married           |1                 |2020-03-06      |1984-03-05       |Reese.Mcfarland@hotmail.com  |802-202-7275    |\n",
      "|195            |Summer        |Chung        |Toronto    |Canada         |M4C 1X6        |English               |Female       |NULL               |Single            |0                 |2021-05-13      |1987-08-17       |Summer.Chung@hotmail.com     |761-641-8122    |\n",
      "|204            |Emilio        |Lawrence     |San Mateo  |United States  |94497          |English               |Male         |NULL               |Undisclosed       |Undisclosed       |2021-10-10      |1979-06-25       |Emilio.Lawrence@hotmail.com  |693-524-2569    |\n",
      "|42             |Alexander     |Hicks        |San Mateo  |United States  |94404          |English               |Undisclosed  |NULL               |Single            |0                 |2020-07-11      |1966-06-28       |Alexander.Hicks@aol.com      |463-144-8555    |\n",
      "|59             |Ryan          |Shah         |San Mateo  |United States  |94401          |English               |Male         |NULL               |Married           |2                 |2020-12-29      |1961-06-05       |Ryan.Shah@aol.com            |679-586-9815    |\n",
      "---------------------------------------------------------------------------------------------------------------------------------------------------------------------------------------------------------------------------------------------------------------------------\n",
      "\n"
     ]
    }
   ],
   "source": [
    "# Display customer_df\n",
    "customer_df.show()"
   ]
  },
  {
   "cell_type": "code",
   "execution_count": 6,
   "metadata": {},
   "outputs": [
    {
     "name": "stdout",
     "output_type": "stream",
     "text": [
      "-----------------------------------------------------------------------------------------------------------------------------------------------------------------------------------------------------------------------------------------------------------------------------------------\n",
      "|\"ORDER_ID\"  |\"TRUCK_ID\"  |\"LOCATION_ID\"  |\"CUSTOMER_ID\"  |\"DISCOUNT_ID\"  |\"SHIFT_ID\"  |\"SHIFT_START_TIME\"  |\"SHIFT_END_TIME\"  |\"ORDER_CHANNEL\"  |\"ORDER_TS\"           |\"SERVED_TS\"  |\"ORDER_CURRENCY\"  |\"ORDER_AMOUNT\"  |\"ORDER_TAX_AMOUNT\"  |\"ORDER_DISCOUNT_AMOUNT\"  |\"ORDER_TOTAL\"  |\n",
      "-----------------------------------------------------------------------------------------------------------------------------------------------------------------------------------------------------------------------------------------------------------------------------------------\n",
      "|22477396    |97          |3713.0         |95165          |NULL           |78881       |16:00:00            |23:00:00          |NULL             |2020-04-19 17:41:09  |NULL         |USD               |7.0000          |NULL                |NULL                     |7.0000         |\n",
      "|22477412    |97          |3713.0         |146981         |NULL           |78881       |16:00:00            |23:00:00          |NULL             |2020-04-19 18:02:22  |NULL         |USD               |42.0000         |NULL                |NULL                     |42.0000        |\n",
      "|22477417    |97          |3713.0         |112241         |NULL           |78881       |16:00:00            |23:00:00          |NULL             |2020-04-19 18:07:39  |NULL         |USD               |50.0000         |NULL                |NULL                     |50.0000        |\n",
      "|22477440    |97          |3713.0         |74142          |NULL           |78881       |16:00:00            |23:00:00          |NULL             |2020-04-19 18:55:27  |NULL         |USD               |31.0000         |NULL                |NULL                     |31.0000        |\n",
      "|22477441    |97          |3713.0         |196106         |NULL           |78881       |16:00:00            |23:00:00          |NULL             |2020-04-19 18:55:31  |NULL         |USD               |90.0000         |NULL                |NULL                     |90.0000        |\n",
      "|22477443    |97          |3713.0         |98913          |NULL           |78881       |16:00:00            |23:00:00          |NULL             |2020-04-19 18:55:50  |NULL         |USD               |25.0000         |NULL                |NULL                     |25.0000        |\n",
      "|22477472    |97          |3713.0         |163337         |NULL           |78881       |16:00:00            |23:00:00          |NULL             |2020-04-19 19:28:23  |NULL         |USD               |29.0000         |NULL                |NULL                     |29.0000        |\n",
      "|22477478    |97          |3713.0         |111889         |NULL           |78881       |16:00:00            |23:00:00          |NULL             |2020-04-19 19:35:33  |NULL         |USD               |19.0000         |NULL                |NULL                     |19.0000        |\n",
      "|22477486    |97          |3713.0         |176436         |NULL           |78881       |16:00:00            |23:00:00          |NULL             |2020-04-19 19:45:20  |NULL         |USD               |75.0000         |NULL                |NULL                     |75.0000        |\n",
      "|22477495    |97          |3713.0         |54158          |NULL           |78881       |16:00:00            |23:00:00          |NULL             |2020-04-19 19:55:10  |NULL         |USD               |24.0000         |NULL                |NULL                     |24.0000        |\n",
      "-----------------------------------------------------------------------------------------------------------------------------------------------------------------------------------------------------------------------------------------------------------------------------------------\n",
      "\n"
     ]
    }
   ],
   "source": [
    "# Dropping null values in CUSTOMER_ID\n",
    "order_header_df = order_header_df.na.drop(subset=\"CUSTOMER_ID\")\n",
    "order_header_df.show()"
   ]
  },
  {
   "attachments": {},
   "cell_type": "markdown",
   "metadata": {},
   "source": [
    "## 2. Dataframe Preparation <a id=\"part2\"></a>"
   ]
  },
  {
   "attachments": {},
   "cell_type": "markdown",
   "metadata": {},
   "source": [
    "### 2.1 Create dataframe <a id=\"part2-1\"></a>\n",
    "As mentioned earlier, our group will be focusing on the customers based in the US. Hence, we will need to filter the customer data to US. We are also doing basic data preparation to prepare our datasets so far for subsequent steps. "
   ]
  },
  {
   "cell_type": "code",
   "execution_count": 7,
   "metadata": {},
   "outputs": [
    {
     "name": "stdout",
     "output_type": "stream",
     "text": [
      "-----------------------------------------------------------------------------------------------------------------------------------------------------------------------------------------------------------------------------------------------------------------------------\n",
      "|\"CUSTOMER_ID\"  |\"FIRST_NAME\"  |\"LAST_NAME\"  |\"CITY\"     |\"COUNTRY\"      |\"POSTAL_CODE\"  |\"PREFERRED_LANGUAGE\"  |\"GENDER\"     |\"FAVOURITE_BRAND\"  |\"MARITAL_STATUS\"    |\"CHILDREN_COUNT\"  |\"SIGN_UP_DATE\"  |\"BIRTHDAY_DATE\"  |\"E_MAIL\"                     |\"PHONE_NUMBER\"  |\n",
      "-----------------------------------------------------------------------------------------------------------------------------------------------------------------------------------------------------------------------------------------------------------------------------\n",
      "|118            |Donald        |Faulkner     |San Mateo  |United States  |94010          |English               |Male         |NULL               |Single              |0                 |2019-07-07      |1988-06-13       |Donald.Faulkner@hotmail.com  |080-861-2392    |\n",
      "|189            |Reese         |Mcfarland    |San Mateo  |United States  |94010          |English               |Undisclosed  |NULL               |Married             |1                 |2020-03-06      |1984-03-05       |Reese.Mcfarland@hotmail.com  |802-202-7275    |\n",
      "|204            |Emilio        |Lawrence     |San Mateo  |United States  |94497          |English               |Male         |NULL               |Undisclosed         |Undisclosed       |2021-10-10      |1979-06-25       |Emilio.Lawrence@hotmail.com  |693-524-2569    |\n",
      "|42             |Alexander     |Hicks        |San Mateo  |United States  |94404          |English               |Undisclosed  |NULL               |Single              |0                 |2020-07-11      |1966-06-28       |Alexander.Hicks@aol.com      |463-144-8555    |\n",
      "|59             |Ryan          |Shah         |San Mateo  |United States  |94401          |English               |Male         |NULL               |Married             |2                 |2020-12-29      |1961-06-05       |Ryan.Shah@aol.com            |679-586-9815    |\n",
      "|65             |Nathen        |Werner       |San Mateo  |United States  |94010          |English               |Male         |NULL               |Divorced/Seperated  |5+                |2020-11-05      |1958-09-01       |Nathen.Werner@aol.com        |926-969-1551    |\n",
      "|106            |Camilla       |Harding      |San Mateo  |United States  |94404          |English               |Female       |NULL               |Single              |0                 |2021-06-28      |1967-05-10       |Camilla.Harding@aol.com      |366-365-2520    |\n",
      "|219            |Scarlett      |Zavala       |San Mateo  |United States  |94403          |English               |Undisclosed  |NULL               |Married             |2                 |2021-01-22      |1965-12-19       |Scarlett.Zavala@aol.com      |447-385-8243    |\n",
      "|222            |Olive         |Powell       |San Mateo  |United States  |94404          |English               |Female       |NULL               |Single              |0                 |2021-03-21      |1965-07-06       |Olive.Powell@aol.com         |983-128-2475    |\n",
      "|22             |Rayne         |Sanchez      |San Mateo  |United States  |94401          |English               |Male         |NULL               |Married             |4                 |2021-04-22      |1949-01-12       |Rayne.Sanchez@ymail.com      |621-054-0251    |\n",
      "-----------------------------------------------------------------------------------------------------------------------------------------------------------------------------------------------------------------------------------------------------------------------------\n",
      "\n"
     ]
    }
   ],
   "source": [
    "# Filtering the customer dataset to only US\n",
    "us_customer_df = customer_df.filter(F.col(\"COUNTRY\")==\"United States\")\n",
    "us_customer_df.show()"
   ]
  },
  {
   "cell_type": "code",
   "execution_count": 8,
   "metadata": {},
   "outputs": [
    {
     "name": "stdout",
     "output_type": "stream",
     "text": [
      "------------------------------------------------------------------------------------------------------------------------------------------------------------------------------------------------------------------------------------------------------------------------------------------------------------\n",
      "|\"ORDER_ID\"  |\"TRUCK_ID\"  |\"LOCATION_ID\"  |\"CUSTOMER_ID\"  |\"DISCOUNT_ID\"  |\"SHIFT_ID\"  |\"SHIFT_START_TIME\"  |\"SHIFT_END_TIME\"  |\"ORDER_CHANNEL\"  |\"ORDER_TS\"           |\"SERVED_TS\"  |\"ORDER_CURRENCY\"  |\"ORDER_AMOUNT\"  |\"ORDER_TAX_AMOUNT\"  |\"ORDER_DISCOUNT_AMOUNT\"  |\"ORDER_TOTAL\"  |\"CUSTOMER_ID_US\"  |\n",
      "------------------------------------------------------------------------------------------------------------------------------------------------------------------------------------------------------------------------------------------------------------------------------------------------------------\n",
      "|451449961   |17          |1789.0         |194230         |NULL           |200540458   |08:00:00            |14:00:00          |NULL             |2022-04-01 11:34:38  |NULL         |USD               |6.0000          |NULL                |NULL                     |6.0000         |194230            |\n",
      "|451449972   |17          |1789.0         |131954         |NULL           |200540458   |08:00:00            |14:00:00          |NULL             |2022-04-01 11:48:30  |NULL         |USD               |27.0000         |NULL                |NULL                     |27.0000        |131954            |\n",
      "|451450013   |17          |1789.0         |125737         |NULL           |200540458   |08:00:00            |14:00:00          |NULL             |2022-04-01 12:52:11  |NULL         |USD               |42.0000         |NULL                |NULL                     |42.0000        |125737            |\n",
      "|451450086   |17          |14926.0        |95405          |NULL           |200540459   |15:00:00            |22:00:00          |NULL             |2022-04-01 17:17:42  |NULL         |USD               |87.0000         |NULL                |NULL                     |87.0000        |95405             |\n",
      "|451450198   |17          |14926.0        |40098          |NULL           |200540459   |15:00:00            |22:00:00          |NULL             |2022-04-01 20:03:25  |NULL         |USD               |33.0000         |NULL                |NULL                     |33.0000        |40098             |\n",
      "|451450243   |17          |14926.0        |172108         |NULL           |200540459   |15:00:00            |22:00:00          |NULL             |2022-04-01 21:37:14  |NULL         |USD               |56.0000         |NULL                |NULL                     |56.0000        |172108            |\n",
      "|451450270   |18          |3081.0         |49775          |NULL           |200540460   |08:00:00            |14:00:00          |NULL             |2022-04-01 08:33:28  |NULL         |USD               |12.5000         |NULL                |NULL                     |12.5000        |49775             |\n",
      "|451450279   |18          |3081.0         |124416         |NULL           |200540460   |08:00:00            |14:00:00          |NULL             |2022-04-01 08:48:45  |NULL         |USD               |41.5000         |NULL                |NULL                     |41.5000        |124416            |\n",
      "|451450315   |18          |3081.0         |85597          |NULL           |200540460   |08:00:00            |14:00:00          |NULL             |2022-04-01 09:29:50  |NULL         |USD               |58.5000         |NULL                |NULL                     |58.5000        |85597             |\n",
      "|451450317   |18          |3081.0         |51847          |NULL           |200540460   |08:00:00            |14:00:00          |NULL             |2022-04-01 09:31:28  |NULL         |USD               |70.5000         |NULL                |NULL                     |70.5000        |51847             |\n",
      "------------------------------------------------------------------------------------------------------------------------------------------------------------------------------------------------------------------------------------------------------------------------------------------------------------\n",
      "\n"
     ]
    }
   ],
   "source": [
    "# After filtering of customer dataset to only US, we will be filtering and looking at the orders \n",
    "# based on these customers only\n",
    "customer_US = us_customer_df.select(F.col(\"CUSTOMER_ID\"))\n",
    "order_header_df = order_header_df.join(customer_US, order_header_df.CUSTOMER_ID == customer_US.CUSTOMER_ID, lsuffix = \"\", rsuffix = \"_US\")\n",
    "order_header_df.show()"
   ]
  },
  {
   "attachments": {},
   "cell_type": "markdown",
   "metadata": {},
   "source": [
    "## 3. Data Exploration <a id=\"part3\"></a>"
   ]
  },
  {
   "cell_type": "code",
   "execution_count": 9,
   "metadata": {},
   "outputs": [
    {
     "data": {
      "text/plain": [
       "datetime.datetime(2022, 11, 1, 22, 58, 56)"
      ]
     },
     "execution_count": 9,
     "metadata": {},
     "output_type": "execute_result"
    }
   ],
   "source": [
    "# Finding current date (last order)\n",
    "lastest_transaction_de = order_header_df.agg(F.max(\"ORDER_TS\").alias(\"LAST_ORDER_TS\")).collect()[0][0]\n",
    "lastest_transaction_de"
   ]
  },
  {
   "cell_type": "code",
   "execution_count": 10,
   "metadata": {},
   "outputs": [
    {
     "name": "stdout",
     "output_type": "stream",
     "text": [
      "---------------------------------------\n",
      "|\"CUSTOMER_ID\"  |\"LAST_ORDER_TS\"      |\n",
      "---------------------------------------\n",
      "|72163          |2022-10-24 11:41:22  |\n",
      "|141003         |2022-10-29 21:56:20  |\n",
      "|157807         |2022-10-26 21:05:14  |\n",
      "|110135         |2022-10-29 10:48:57  |\n",
      "|69163          |2022-10-15 12:56:11  |\n",
      "|99059          |2022-10-28 19:19:56  |\n",
      "|66588          |2022-10-15 20:10:31  |\n",
      "|65409          |2022-10-31 21:11:41  |\n",
      "|143828         |2022-11-01 19:36:32  |\n",
      "|198935         |2022-10-29 09:39:15  |\n",
      "---------------------------------------\n",
      "\n"
     ]
    }
   ],
   "source": [
    "# Finding the last order time stamp for each customer\n",
    "customer_last_order_de = order_header_df.groupBy(\"CUSTOMER_ID\").agg(F.max(\"ORDER_TS\").alias(\"LAST_ORDER_TS\"))\n",
    "customer_last_order_de.show()"
   ]
  },
  {
   "cell_type": "code",
   "execution_count": 11,
   "metadata": {},
   "outputs": [
    {
     "name": "stdout",
     "output_type": "stream",
     "text": [
      "------------------------------------------------------------------------------\n",
      "|\"CUSTOMER_ID\"  |\"LAST_ORDER_TS\"      |\"CURRENT DATE\"       |\"RECENCY_DAYS\"  |\n",
      "------------------------------------------------------------------------------\n",
      "|193854         |2022-10-16 14:11:48  |2022-11-01 22:58:56  |16              |\n",
      "|42466          |2022-10-31 16:14:22  |2022-11-01 22:58:56  |1               |\n",
      "|28483          |2022-10-10 16:26:26  |2022-11-01 22:58:56  |22              |\n",
      "|21573          |2022-10-30 17:36:42  |2022-11-01 22:58:56  |2               |\n",
      "|142625         |2022-10-25 13:57:02  |2022-11-01 22:58:56  |7               |\n",
      "|169393         |2022-10-02 12:12:36  |2022-11-01 22:58:56  |30              |\n",
      "|53060          |2022-10-11 21:54:58  |2022-11-01 22:58:56  |21              |\n",
      "|18344          |2022-10-22 08:42:51  |2022-11-01 22:58:56  |10              |\n",
      "|19958          |2022-11-01 19:16:00  |2022-11-01 22:58:56  |0               |\n",
      "|33415          |2022-10-27 10:47:34  |2022-11-01 22:58:56  |5               |\n",
      "------------------------------------------------------------------------------\n",
      "\n"
     ]
    }
   ],
   "source": [
    "# Creating a new dataframe and adding column with lastest transaction timestamp as the \n",
    "# current date identified previously \n",
    "\n",
    "# Inserting new column: current date which the lastest transaction timestamp\n",
    "customer_recency_de = customer_last_order_de.with_column(\"CURRENT DATE\", F.iff(F.col(\"LAST_ORDER_TS\") == F.col(\"LAST_ORDER_TS\"), lastest_transaction_de, lastest_transaction_de))\n",
    "\n",
    "# Calculate recency days\n",
    "customer_recency_de = customer_recency_de.with_column(\"RECENCY_DAYS\", F.datediff('day', customer_recency_de[\"LAST_ORDER_TS\"], customer_recency_de[\"CURRENT DATE\"]))\n",
    "customer_recency_de.show()"
   ]
  },
  {
   "cell_type": "code",
   "execution_count": 12,
   "metadata": {},
   "outputs": [
    {
     "data": {
      "text/html": [
       "<div>\n",
       "<style scoped>\n",
       "    .dataframe tbody tr th:only-of-type {\n",
       "        vertical-align: middle;\n",
       "    }\n",
       "\n",
       "    .dataframe tbody tr th {\n",
       "        vertical-align: top;\n",
       "    }\n",
       "\n",
       "    .dataframe thead th {\n",
       "        text-align: right;\n",
       "    }\n",
       "</style>\n",
       "<table border=\"1\" class=\"dataframe\">\n",
       "  <thead>\n",
       "    <tr style=\"text-align: right;\">\n",
       "      <th></th>\n",
       "      <th>RECENCY_DAYS</th>\n",
       "      <th>NO_OF_CUST</th>\n",
       "    </tr>\n",
       "  </thead>\n",
       "  <tbody>\n",
       "    <tr>\n",
       "      <th>0</th>\n",
       "      <td>1</td>\n",
       "      <td>3120</td>\n",
       "    </tr>\n",
       "    <tr>\n",
       "      <th>1</th>\n",
       "      <td>7</td>\n",
       "      <td>2402</td>\n",
       "    </tr>\n",
       "    <tr>\n",
       "      <th>2</th>\n",
       "      <td>5</td>\n",
       "      <td>2908</td>\n",
       "    </tr>\n",
       "    <tr>\n",
       "      <th>3</th>\n",
       "      <td>28</td>\n",
       "      <td>346</td>\n",
       "    </tr>\n",
       "    <tr>\n",
       "      <th>4</th>\n",
       "      <td>10</td>\n",
       "      <td>1727</td>\n",
       "    </tr>\n",
       "  </tbody>\n",
       "</table>\n",
       "</div>"
      ],
      "text/plain": [
       "   RECENCY_DAYS  NO_OF_CUST\n",
       "0             1        3120\n",
       "1             7        2402\n",
       "2             5        2908\n",
       "3            28         346\n",
       "4            10        1727"
      ]
     },
     "execution_count": 12,
     "metadata": {},
     "output_type": "execute_result"
    }
   ],
   "source": [
    "customer_by_recency = customer_recency_de.group_by(\"RECENCY_DAYS\").agg(F.count(\"CUSTOMER_ID\").alias(\"NO_OF_CUST\")).to_pandas()\n",
    "customer_by_recency.head()"
   ]
  },
  {
   "cell_type": "code",
   "execution_count": 13,
   "metadata": {},
   "outputs": [
    {
     "data": {
      "image/png": "[encoded data removed]",
      "text/plain": [
       "<Figure size 2000x800 with 1 Axes>"
      ]
     },
     "metadata": {},
     "output_type": "display_data"
    }
   ],
   "source": [
    "customer_by_recency.sort_values(by='RECENCY_DAYS', ascending=True, inplace=True) # Sort values in ascending order of customer\n",
    "recency_index = customer_by_recency['RECENCY_DAYS'].tolist()\n",
    "customer_values = customer_by_recency['NO_OF_CUST'].tolist()\n",
    "\n",
    "# Create a figure and subplot\n",
    "fig, V4 = plt.subplots(figsize=(20,8))\n",
    "\n",
    "# Create a bar chart \n",
    "V4.bar(recency_index,customer_values, align = 'center', color='#AFE4FE') # align define the alignment of x-ticks\n",
    "\n",
    "# Display data labels\n",
    "#for x,y in zip(recency_index,customer_values):\n",
    "\n",
    "#    label = x\n",
    "\n",
    "#    plt.annotate(label, \n",
    "#                 (x,y), \n",
    "#                 textcoords=\"offset points\", \n",
    "#                 xytext=(30,-3), \n",
    "#                 fontsize = 10,\n",
    "#                 ha='center') \n",
    "\n",
    "# State title of plot and the axes labels\n",
    "V4.set_title('Distribution of Customers by Recency', fontsize = 25)\n",
    "V4.set_ylabel('Number of customers', fontsize = 20)\n",
    "V4.set_xlabel('Recency Days', fontsize = 20)\n",
    "\n",
    "# Set font size of ticks on the x-axis and y-axis\n",
    "V4.tick_params(labelsize = 12, axis ='both')\n",
    "\n",
    "# Set tight layout for figure\n",
    "fig.tight_layout()\n",
    "\n",
    "# Display plot\n",
    "plt.show()"
   ]
  },
  {
   "cell_type": "code",
   "execution_count": 14,
   "metadata": {},
   "outputs": [
    {
     "name": "stdout",
     "output_type": "stream",
     "text": [
      "RECENCY_DAYS where 70% of the customers are at: 13\n"
     ]
    }
   ],
   "source": [
    "# Find recency days based on percentage of customer (30%)\n",
    "\n",
    "# Sort the DataFrame by RECENCY_DAYS in ascending order\n",
    "customer_by_recency = customer_by_recency.sort_values('RECENCY_DAYS')\n",
    "\n",
    "# Calculate the cumulative sum of customer counts\n",
    "customer_by_recency['CUMULATIVE_COUNT'] = customer_by_recency['NO_OF_CUST'].cumsum()\n",
    "\n",
    "# Find the RECENCY_DAYS where 80% of the customers are at\n",
    "target_percentage = 0.7\n",
    "target_recency_days = None\n",
    "\n",
    "for index, row in customer_by_recency.iterrows():\n",
    "    if row['CUMULATIVE_COUNT'] >= target_percentage * customer_by_recency['NO_OF_CUST'].sum():\n",
    "        target_recency_days = row['RECENCY_DAYS']\n",
    "        break\n",
    "\n",
    "# Print the result\n",
    "print(\"RECENCY_DAYS where 70% of the customers are at:\", target_recency_days)"
   ]
  },
  {
   "cell_type": "code",
   "execution_count": 15,
   "metadata": {},
   "outputs": [
    {
     "name": "stdout",
     "output_type": "stream",
     "text": [
      "Sum of customers where RECENCY_DAYS is below or equal to 13: 33053\n",
      "Sum of customers where RECENCY_DAYS is more than 13: 13247\n"
     ]
    }
   ],
   "source": [
    "# Sum of customers where RECENCY_DAYS is below or equal to 13\n",
    "sum_below_13 = customer_by_recency[customer_by_recency['RECENCY_DAYS'] <= 13]['NO_OF_CUST'].sum()\n",
    "\n",
    "# Sum of customers where RECENCY_DAYS is more than 13\n",
    "sum_above_13 = customer_by_recency[customer_by_recency['RECENCY_DAYS'] > 13]['NO_OF_CUST'].sum()\n",
    "\n",
    "# Print the results\n",
    "print(\"Sum of customers where RECENCY_DAYS is below or equal to 13:\", sum_below_13)\n",
    "print(\"Sum of customers where RECENCY_DAYS is more than 13:\", sum_above_13)"
   ]
  },
  {
   "attachments": {},
   "cell_type": "markdown",
   "metadata": {},
   "source": [
    "In food service industry, customer churn rates can range from 20% to 30% annually. For 70% of the customers, their recency days are at 13. Therefore, we round the recenecy days up to 14 days, which is 2 weeks to be considered churned.\n",
    "\n",
    "For this model, we would be predicting the days to next purchase for each customer. After predicting the days to next purchase, if it is more than 14 days, the customer is considered churned, else not churned."
   ]
  },
  {
   "attachments": {},
   "cell_type": "markdown",
   "metadata": {},
   "source": [
    "## 4. Data Preparation <a id=\"part4\"></a>"
   ]
  },
  {
   "cell_type": "code",
   "execution_count": 16,
   "metadata": {},
   "outputs": [],
   "source": [
    "# Getting last order date\n",
    "lastest_transaction = order_header_df.agg(F.max(\"ORDER_TS\").alias(\"LAST_ORDER_TS\")).collect()[0][0]\n",
    "order_header_df = order_header_df.withColumn(\"LAST_DATE\", F.iff(F.col(\"CUSTOMER_ID\") == F.col(\"CUSTOMER_ID\"), lastest_transaction, lastest_transaction))"
   ]
  },
  {
   "cell_type": "code",
   "execution_count": 17,
   "metadata": {},
   "outputs": [],
   "source": [
    "# Getting date for two weeks before last transaction date provided\n",
    "order_header_df = order_header_df.withColumn(\"two_weeks_before\", F.date_sub(\"LAST_DATE\", 14))"
   ]
  },
  {
   "cell_type": "code",
   "execution_count": 18,
   "metadata": {},
   "outputs": [],
   "source": [
    "# Getting date for two weeks before last transaction date provided\n",
    "order_header_df = order_header_df.withColumn(\"two_weeks_before\", F.date_sub(\"LAST_DATE\", 14))"
   ]
  },
  {
   "cell_type": "code",
   "execution_count": 19,
   "metadata": {},
   "outputs": [
    {
     "name": "stdout",
     "output_type": "stream",
     "text": [
      "--------------------------------------------------------------------------------------------------------------------------------------------------------------------------------------------------------------------------------------------------------------------------------------------------------------------------------------------------------\n",
      "|\"ORDER_ID\"  |\"TRUCK_ID\"  |\"LOCATION_ID\"  |\"CUSTOMER_ID\"  |\"DISCOUNT_ID\"  |\"SHIFT_ID\"  |\"SHIFT_START_TIME\"  |\"SHIFT_END_TIME\"  |\"ORDER_CHANNEL\"  |\"ORDER_TS\"           |\"SERVED_TS\"  |\"ORDER_CURRENCY\"  |\"ORDER_AMOUNT\"  |\"ORDER_TAX_AMOUNT\"  |\"ORDER_DISCOUNT_AMOUNT\"  |\"ORDER_TOTAL\"  |\"CUSTOMER_ID_US\"  |\"LAST_DATE\"          |\"TWO_WEEKS_BEFORE\"   |\n",
      "--------------------------------------------------------------------------------------------------------------------------------------------------------------------------------------------------------------------------------------------------------------------------------------------------------------------------------------------------------\n",
      "|451449961   |17          |1789.0         |194230         |NULL           |200540458   |08:00:00            |14:00:00          |NULL             |2022-04-01 11:34:38  |NULL         |USD               |6.0000          |NULL                |NULL                     |6.0000         |194230            |2022-11-01 22:58:56  |2022-10-18 22:58:56  |\n",
      "|451449972   |17          |1789.0         |131954         |NULL           |200540458   |08:00:00            |14:00:00          |NULL             |2022-04-01 11:48:30  |NULL         |USD               |27.0000         |NULL                |NULL                     |27.0000        |131954            |2022-11-01 22:58:56  |2022-10-18 22:58:56  |\n",
      "|451450013   |17          |1789.0         |125737         |NULL           |200540458   |08:00:00            |14:00:00          |NULL             |2022-04-01 12:52:11  |NULL         |USD               |42.0000         |NULL                |NULL                     |42.0000        |125737            |2022-11-01 22:58:56  |2022-10-18 22:58:56  |\n",
      "|451450086   |17          |14926.0        |95405          |NULL           |200540459   |15:00:00            |22:00:00          |NULL             |2022-04-01 17:17:42  |NULL         |USD               |87.0000         |NULL                |NULL                     |87.0000        |95405             |2022-11-01 22:58:56  |2022-10-18 22:58:56  |\n",
      "|451450198   |17          |14926.0        |40098          |NULL           |200540459   |15:00:00            |22:00:00          |NULL             |2022-04-01 20:03:25  |NULL         |USD               |33.0000         |NULL                |NULL                     |33.0000        |40098             |2022-11-01 22:58:56  |2022-10-18 22:58:56  |\n",
      "|451450243   |17          |14926.0        |172108         |NULL           |200540459   |15:00:00            |22:00:00          |NULL             |2022-04-01 21:37:14  |NULL         |USD               |56.0000         |NULL                |NULL                     |56.0000        |172108            |2022-11-01 22:58:56  |2022-10-18 22:58:56  |\n",
      "|451450270   |18          |3081.0         |49775          |NULL           |200540460   |08:00:00            |14:00:00          |NULL             |2022-04-01 08:33:28  |NULL         |USD               |12.5000         |NULL                |NULL                     |12.5000        |49775             |2022-11-01 22:58:56  |2022-10-18 22:58:56  |\n",
      "|451450279   |18          |3081.0         |124416         |NULL           |200540460   |08:00:00            |14:00:00          |NULL             |2022-04-01 08:48:45  |NULL         |USD               |41.5000         |NULL                |NULL                     |41.5000        |124416            |2022-11-01 22:58:56  |2022-10-18 22:58:56  |\n",
      "|451450315   |18          |3081.0         |85597          |NULL           |200540460   |08:00:00            |14:00:00          |NULL             |2022-04-01 09:29:50  |NULL         |USD               |58.5000         |NULL                |NULL                     |58.5000        |85597             |2022-11-01 22:58:56  |2022-10-18 22:58:56  |\n",
      "|451450317   |18          |3081.0         |51847          |NULL           |200540460   |08:00:00            |14:00:00          |NULL             |2022-04-01 09:31:28  |NULL         |USD               |70.5000         |NULL                |NULL                     |70.5000        |51847             |2022-11-01 22:58:56  |2022-10-18 22:58:56  |\n",
      "--------------------------------------------------------------------------------------------------------------------------------------------------------------------------------------------------------------------------------------------------------------------------------------------------------------------------------------------------------\n",
      "\n"
     ]
    }
   ],
   "source": [
    "# Display order_header_df\n",
    "order_header_df.show()"
   ]
  },
  {
   "attachments": {},
   "cell_type": "markdown",
   "metadata": {},
   "source": [
    "### 4.1 Getting first dataframe <a id=\"part4.1\"></a>"
   ]
  },
  {
   "cell_type": "code",
   "execution_count": 20,
   "metadata": {},
   "outputs": [
    {
     "name": "stdout",
     "output_type": "stream",
     "text": [
      "--------------------------------------------------------------------------------------------------------------------------------------------------------------------------------------------------------------------------------------------------------------------------------------------------------------------------------------------------------\n",
      "|\"ORDER_ID\"  |\"TRUCK_ID\"  |\"LOCATION_ID\"  |\"CUSTOMER_ID\"  |\"DISCOUNT_ID\"  |\"SHIFT_ID\"  |\"SHIFT_START_TIME\"  |\"SHIFT_END_TIME\"  |\"ORDER_CHANNEL\"  |\"ORDER_TS\"           |\"SERVED_TS\"  |\"ORDER_CURRENCY\"  |\"ORDER_AMOUNT\"  |\"ORDER_TAX_AMOUNT\"  |\"ORDER_DISCOUNT_AMOUNT\"  |\"ORDER_TOTAL\"  |\"CUSTOMER_ID_US\"  |\"LAST_DATE\"          |\"TWO_WEEKS_BEFORE\"   |\n",
      "--------------------------------------------------------------------------------------------------------------------------------------------------------------------------------------------------------------------------------------------------------------------------------------------------------------------------------------------------------\n",
      "|451449961   |17          |1789.0         |194230         |NULL           |200540458   |08:00:00            |14:00:00          |NULL             |2022-04-01 11:34:38  |NULL         |USD               |6.0000          |NULL                |NULL                     |6.0000         |194230            |2022-11-01 22:58:56  |2022-10-18 22:58:56  |\n",
      "|451449972   |17          |1789.0         |131954         |NULL           |200540458   |08:00:00            |14:00:00          |NULL             |2022-04-01 11:48:30  |NULL         |USD               |27.0000         |NULL                |NULL                     |27.0000        |131954            |2022-11-01 22:58:56  |2022-10-18 22:58:56  |\n",
      "|451450013   |17          |1789.0         |125737         |NULL           |200540458   |08:00:00            |14:00:00          |NULL             |2022-04-01 12:52:11  |NULL         |USD               |42.0000         |NULL                |NULL                     |42.0000        |125737            |2022-11-01 22:58:56  |2022-10-18 22:58:56  |\n",
      "|451450086   |17          |14926.0        |95405          |NULL           |200540459   |15:00:00            |22:00:00          |NULL             |2022-04-01 17:17:42  |NULL         |USD               |87.0000         |NULL                |NULL                     |87.0000        |95405             |2022-11-01 22:58:56  |2022-10-18 22:58:56  |\n",
      "|451450198   |17          |14926.0        |40098          |NULL           |200540459   |15:00:00            |22:00:00          |NULL             |2022-04-01 20:03:25  |NULL         |USD               |33.0000         |NULL                |NULL                     |33.0000        |40098             |2022-11-01 22:58:56  |2022-10-18 22:58:56  |\n",
      "|451450243   |17          |14926.0        |172108         |NULL           |200540459   |15:00:00            |22:00:00          |NULL             |2022-04-01 21:37:14  |NULL         |USD               |56.0000         |NULL                |NULL                     |56.0000        |172108            |2022-11-01 22:58:56  |2022-10-18 22:58:56  |\n",
      "|451450270   |18          |3081.0         |49775          |NULL           |200540460   |08:00:00            |14:00:00          |NULL             |2022-04-01 08:33:28  |NULL         |USD               |12.5000         |NULL                |NULL                     |12.5000        |49775             |2022-11-01 22:58:56  |2022-10-18 22:58:56  |\n",
      "|451450279   |18          |3081.0         |124416         |NULL           |200540460   |08:00:00            |14:00:00          |NULL             |2022-04-01 08:48:45  |NULL         |USD               |41.5000         |NULL                |NULL                     |41.5000        |124416            |2022-11-01 22:58:56  |2022-10-18 22:58:56  |\n",
      "|451450315   |18          |3081.0         |85597          |NULL           |200540460   |08:00:00            |14:00:00          |NULL             |2022-04-01 09:29:50  |NULL         |USD               |58.5000         |NULL                |NULL                     |58.5000        |85597             |2022-11-01 22:58:56  |2022-10-18 22:58:56  |\n",
      "|451450317   |18          |3081.0         |51847          |NULL           |200540460   |08:00:00            |14:00:00          |NULL             |2022-04-01 09:31:28  |NULL         |USD               |70.5000         |NULL                |NULL                     |70.5000        |51847             |2022-11-01 22:58:56  |2022-10-18 22:58:56  |\n",
      "--------------------------------------------------------------------------------------------------------------------------------------------------------------------------------------------------------------------------------------------------------------------------------------------------------------------------------------------------------\n",
      "\n"
     ]
    }
   ],
   "source": [
    "# Get data till 2 weeks before last transaction date provided (first dataframe)\n",
    "order_df1 = order_header_df.filter(F.col(\"ORDER_TS\")<=F.col(\"TWO_WEEKS_BEFORE\"))\n",
    "order_df1.show()"
   ]
  },
  {
   "cell_type": "code",
   "execution_count": 21,
   "metadata": {},
   "outputs": [
    {
     "name": "stdout",
     "output_type": "stream",
     "text": [
      "-----------------------\n",
      "|\"MIN(ORDER_TS)\"      |\n",
      "-----------------------\n",
      "|2019-01-01 17:19:08  |\n",
      "-----------------------\n",
      "\n",
      "-----------------------\n",
      "|\"MAX(ORDER_TS)\"      |\n",
      "-----------------------\n",
      "|2022-10-18 22:56:45  |\n",
      "-----------------------\n",
      "\n"
     ]
    }
   ],
   "source": [
    "# Ensure timeframe is correct\n",
    "order_df1.agg(F.min('ORDER_TS')).show()\n",
    "order_df1.agg(F.max('ORDER_TS')).show()"
   ]
  },
  {
   "cell_type": "code",
   "execution_count": 22,
   "metadata": {},
   "outputs": [
    {
     "name": "stdout",
     "output_type": "stream",
     "text": [
      "---------------------------------------\n",
      "|\"CUSTOMER_ID\"  |\"LAST_ORDER_TS\"      |\n",
      "---------------------------------------\n",
      "|172289         |2022-10-12 20:00:46  |\n",
      "|78907          |2022-10-18 09:09:03  |\n",
      "|160383         |2022-10-18 19:24:40  |\n",
      "|61295          |2022-09-12 16:39:09  |\n",
      "|103028         |2022-10-18 21:22:57  |\n",
      "|65147          |2022-10-12 11:39:42  |\n",
      "|118051         |2022-10-10 09:30:54  |\n",
      "|168904         |2022-10-08 11:16:51  |\n",
      "|145789         |2022-10-17 18:45:50  |\n",
      "|150780         |2022-10-18 13:14:21  |\n",
      "---------------------------------------\n",
      "\n"
     ]
    }
   ],
   "source": [
    "# Getting the latest purchase date for each customer in df1\n",
    "customer_last_order_timestamp_df1 = order_df1.groupBy(\"CUSTOMER_ID\").agg(F.max(\"ORDER_TS\").alias(\"LAST_ORDER_TS\"))\n",
    "customer_last_order_timestamp_df1.show()"
   ]
  },
  {
   "cell_type": "code",
   "execution_count": 23,
   "metadata": {},
   "outputs": [
    {
     "name": "stdout",
     "output_type": "stream",
     "text": [
      "-------------------------------------------------------------\n",
      "|\"CUSTOMER_ID\"  |\"LAST_ORDER_TS\"      |\"LAST_TRANS\"         |\n",
      "-------------------------------------------------------------\n",
      "|114606         |2022-09-29 20:30:58  |2022-10-18 22:56:45  |\n",
      "|134715         |2022-09-21 09:48:35  |2022-10-18 22:56:45  |\n",
      "|83979          |2022-10-18 20:30:54  |2022-10-18 22:56:45  |\n",
      "|29066          |2022-10-13 09:00:32  |2022-10-18 22:56:45  |\n",
      "|31252          |2022-09-22 20:29:44  |2022-10-18 22:56:45  |\n",
      "|68481          |2022-10-15 19:11:05  |2022-10-18 22:56:45  |\n",
      "|20166          |2022-09-15 09:10:26  |2022-10-18 22:56:45  |\n",
      "|6655           |2022-09-26 12:30:05  |2022-10-18 22:56:45  |\n",
      "|86934          |2022-10-13 12:44:37  |2022-10-18 22:56:45  |\n",
      "|142411         |2022-10-14 17:18:37  |2022-10-18 22:56:45  |\n",
      "-------------------------------------------------------------\n",
      "\n"
     ]
    }
   ],
   "source": [
    "# Getting last order date\n",
    "lastest_transaction_df1 = order_df1.agg(F.max(\"ORDER_TS\").alias(\"LAST_ORDER_TS\")).collect()[0][0]\n",
    "customer_last_order_timestamp_df1 = customer_last_order_timestamp_df1.withColumn(\"LAST_TRANS\", F.iff(F.col(\"CUSTOMER_ID\") == F.col(\"CUSTOMER_ID\"), lastest_transaction_df1, lastest_transaction_df1))\n",
    "customer_last_order_timestamp_df1.show()"
   ]
  },
  {
   "cell_type": "code",
   "execution_count": 24,
   "metadata": {},
   "outputs": [
    {
     "name": "stdout",
     "output_type": "stream",
     "text": [
      "--------------------------------------------------------------------------\n",
      "|\"CUSTOMER_ID\"  |\"LAST_ORDER_TS\"      |\"LAST_TRANS\"         |\"DAYS_DF1\"  |\n",
      "--------------------------------------------------------------------------\n",
      "|83496          |2022-10-11 16:10:41  |2022-10-18 22:56:45  |7           |\n",
      "|179636         |2022-10-01 19:27:11  |2022-10-18 22:56:45  |17          |\n",
      "|39930          |2022-09-25 14:20:49  |2022-10-18 22:56:45  |23          |\n",
      "|164938         |2022-09-27 14:10:19  |2022-10-18 22:56:45  |21          |\n",
      "|176202         |2022-10-07 09:38:49  |2022-10-18 22:56:45  |11          |\n",
      "|114424         |2022-10-09 19:17:28  |2022-10-18 22:56:45  |9           |\n",
      "|71849          |2022-10-16 10:58:46  |2022-10-18 22:56:45  |2           |\n",
      "|163551         |2022-10-14 11:19:12  |2022-10-18 22:56:45  |4           |\n",
      "|150930         |2022-10-18 17:31:06  |2022-10-18 22:56:45  |0           |\n",
      "|176242         |2022-10-10 17:42:43  |2022-10-18 22:56:45  |8           |\n",
      "--------------------------------------------------------------------------\n",
      "\n"
     ]
    }
   ],
   "source": [
    "# Getting the date diff from customer last order to the date 2 weeks before the latest provided transaction date in df1\n",
    "customer_last_order_timestamp_df1 = customer_last_order_timestamp_df1.withColumn(\"days_df1\", F.datediff(\"day\", customer_last_order_timestamp_df1[\"LAST_ORDER_TS\"], customer_last_order_timestamp_df1[\"LAST_TRANS\"]))\n",
    "customer_last_order_timestamp_df1.show()"
   ]
  },
  {
   "attachments": {},
   "cell_type": "markdown",
   "metadata": {},
   "source": [
    "### 4.1.1 Calculating the days between the last 3 transactions <a id=\"part4.1.1\"></a>"
   ]
  },
  {
   "cell_type": "code",
   "execution_count": 25,
   "metadata": {},
   "outputs": [
    {
     "name": "stdout",
     "output_type": "stream",
     "text": [
      "---------------------------------------\n",
      "|\"CUSTOMER_ID\"  |\"ORDER_TS\"           |\n",
      "---------------------------------------\n",
      "|22             |2022-06-11 20:14:09  |\n",
      "|22             |2022-08-24 18:22:41  |\n",
      "|22             |2022-07-02 20:00:39  |\n",
      "|22             |2022-10-06 18:41:33  |\n",
      "|22             |2022-09-14 11:40:41  |\n",
      "|22             |2022-08-02 19:21:20  |\n",
      "|22             |2022-05-15 13:21:44  |\n",
      "|22             |2022-10-08 19:29:13  |\n",
      "|22             |2022-09-29 20:37:56  |\n",
      "|22             |2022-09-07 21:16:19  |\n",
      "---------------------------------------\n",
      "\n"
     ]
    }
   ],
   "source": [
    "# create a dataframe with customer id and order datetime\n",
    "cust_order_dates = order_df1.sort(\"CUSTOMER_ID\")\n",
    "cust_order_dates = cust_order_dates.select(\"CUSTOMER_ID\", \"ORDER_TS\")\n",
    "cust_order_dates.show()"
   ]
  },
  {
   "cell_type": "code",
   "execution_count": 26,
   "metadata": {},
   "outputs": [
    {
     "name": "stdout",
     "output_type": "stream",
     "text": [
      "--------------------------------\n",
      "|\"CUSTOMER_ID\"  |\"ORDER_DATE\"  |\n",
      "--------------------------------\n",
      "|22             |2022-07-02    |\n",
      "|22             |2022-06-11    |\n",
      "|22             |2022-10-06    |\n",
      "|22             |2022-09-14    |\n",
      "|22             |2022-08-24    |\n",
      "|22             |2022-10-08    |\n",
      "|22             |2022-05-15    |\n",
      "|22             |2022-08-02    |\n",
      "|22             |2022-09-29    |\n",
      "|22             |2022-09-07    |\n",
      "--------------------------------\n",
      "\n"
     ]
    }
   ],
   "source": [
    "# extract the date from the datetime\n",
    "cust_order_dates = cust_order_dates.withColumn('ORDER_DATE', to_date(col('ORDER_TS')))\n",
    "cust_order_dates = cust_order_dates.drop(\"ORDER_TS\")\n",
    "cust_order_dates.show()"
   ]
  },
  {
   "cell_type": "code",
   "execution_count": 27,
   "metadata": {},
   "outputs": [
    {
     "name": "stdout",
     "output_type": "stream",
     "text": [
      "--------------------------------\n",
      "|\"CUSTOMER_ID\"  |\"ORDER_DATE\"  |\n",
      "--------------------------------\n",
      "|134393         |2021-09-23    |\n",
      "|134393         |2022-07-12    |\n",
      "|134411         |2022-09-13    |\n",
      "|134411         |2022-07-02    |\n",
      "|134406         |2021-06-01    |\n",
      "|134417         |2022-04-13    |\n",
      "|134417         |2020-07-02    |\n",
      "|134419         |2021-03-21    |\n",
      "|134419         |2020-11-29    |\n",
      "|134427         |2021-05-03    |\n",
      "--------------------------------\n",
      "\n"
     ]
    }
   ],
   "source": [
    "# drop duplicate rows --> some customers may make multiple transactions in a day\n",
    "cust_order_dates = cust_order_dates.dropDuplicates()\n",
    "cust_order_dates.show()"
   ]
  },
  {
   "cell_type": "code",
   "execution_count": 28,
   "metadata": {},
   "outputs": [
    {
     "name": "stdout",
     "output_type": "stream",
     "text": [
      "--------------------------------\n",
      "|\"CUSTOMER_ID\"  |\"ORDER_DATE\"  |\n",
      "--------------------------------\n",
      "|22             |2022-10-17    |\n",
      "|22             |2022-10-15    |\n",
      "|22             |2022-10-08    |\n",
      "|22             |2022-10-06    |\n",
      "|22             |2022-09-29    |\n",
      "|22             |2022-09-14    |\n",
      "|22             |2022-09-07    |\n",
      "|22             |2022-08-24    |\n",
      "|22             |2022-08-02    |\n",
      "|22             |2022-07-02    |\n",
      "--------------------------------\n",
      "\n"
     ]
    }
   ],
   "source": [
    "# sort the order date by chronological order and by customer id\n",
    "cust_order_dates = cust_order_dates.sort([\"CUSTOMER_ID\", col(\"ORDER_DATE\").desc()])\n",
    "cust_order_dates.show()"
   ]
  },
  {
   "cell_type": "code",
   "execution_count": 29,
   "metadata": {},
   "outputs": [
    {
     "name": "stdout",
     "output_type": "stream",
     "text": [
      "---------------------------\n",
      "|\"CUSTOMER_ID\"  |\"COUNT\"  |\n",
      "---------------------------\n",
      "|               |         |\n",
      "---------------------------\n",
      "\n"
     ]
    }
   ],
   "source": [
    "# find out which customers have less than 3 transactions made on different days\n",
    "cust_order_dates.groupBy(\"CUSTOMER_ID\").count().filter(col(\"COUNT\") < 3).show()"
   ]
  },
  {
   "cell_type": "code",
   "execution_count": 30,
   "metadata": {},
   "outputs": [
    {
     "name": "stdout",
     "output_type": "stream",
     "text": [
      "------------------------------------------------------------------\n",
      "|\"CUSTOMER_ID\"  |\"ORDER_DATE\"  |\"ORDER_DATE_2\"  |\"ORDER_DATE_3\"  |\n",
      "------------------------------------------------------------------\n",
      "|22             |2022-10-17    |NULL            |NULL            |\n",
      "|22             |2022-10-15    |2022-10-17      |NULL            |\n",
      "|22             |2022-10-08    |2022-10-15      |2022-10-17      |\n",
      "|22             |2022-10-06    |2022-10-08      |2022-10-15      |\n",
      "|22             |2022-09-29    |2022-10-06      |2022-10-08      |\n",
      "|22             |2022-09-14    |2022-09-29      |2022-10-06      |\n",
      "|22             |2022-09-07    |2022-09-14      |2022-09-29      |\n",
      "|22             |2022-08-24    |2022-09-07      |2022-09-14      |\n",
      "|22             |2022-08-02    |2022-08-24      |2022-09-07      |\n",
      "|22             |2022-07-02    |2022-08-02      |2022-08-24      |\n",
      "------------------------------------------------------------------\n",
      "\n"
     ]
    }
   ],
   "source": [
    "# since no customers have less than 3 transactions made on different days, get the dates of the last 3 transactions of each customer\n",
    "\n",
    "# partition the data by customer id and order it by descending order of the date \n",
    "partition = Window.partitionBy(\"CUSTOMER_ID\").orderBy(col(\"ORDER_DATE\").desc)\n",
    "\n",
    "# using lag, get the previous 2 dates and place it into a new column \n",
    "cust_order_dates = cust_order_dates.withColumn(\"ORDER_DATE_2\", F.lag(col(\"ORDER_DATE\"), 1).over(Window.partitionBy(\"CUSTOMER_ID\").orderBy(desc(\"ORDER_DATE\"))))\n",
    "cust_order_dates = cust_order_dates.withColumn(\"ORDER_DATE_3\", F.lag(col(\"ORDER_DATE\"), 2).over(Window.partitionBy(\"CUSTOMER_ID\").orderBy(desc(\"ORDER_DATE\"))))\n",
    "\n",
    "cust_order_dates.show()"
   ]
  },
  {
   "cell_type": "code",
   "execution_count": 31,
   "metadata": {},
   "outputs": [
    {
     "name": "stdout",
     "output_type": "stream",
     "text": [
      "------------------------------------------------------------------\n",
      "|\"CUSTOMER_ID\"  |\"ORDER_DATE\"  |\"ORDER_DATE_2\"  |\"ORDER_DATE_3\"  |\n",
      "------------------------------------------------------------------\n",
      "|178865         |2022-02-11    |2022-03-24      |2022-04-12      |\n",
      "|178865         |2022-01-18    |2022-02-11      |2022-03-24      |\n",
      "|178865         |2021-12-12    |2022-01-18      |2022-02-11      |\n",
      "|178865         |2021-12-10    |2021-12-12      |2022-01-18      |\n",
      "|178865         |2021-11-02    |2021-12-10      |2021-12-12      |\n",
      "|178865         |2021-10-22    |2021-11-02      |2021-12-10      |\n",
      "|178865         |2021-09-21    |2021-10-22      |2021-11-02      |\n",
      "|178865         |2021-08-24    |2021-09-21      |2021-10-22      |\n",
      "|178865         |2021-07-03    |2021-08-24      |2021-09-21      |\n",
      "|178865         |2021-06-30    |2021-07-03      |2021-08-24      |\n",
      "------------------------------------------------------------------\n",
      "\n"
     ]
    }
   ],
   "source": [
    "# drop rows with null\n",
    "cust_order_dates = cust_order_dates.dropna()\n",
    "cust_order_dates.show()"
   ]
  },
  {
   "cell_type": "code",
   "execution_count": 32,
   "metadata": {},
   "outputs": [
    {
     "name": "stdout",
     "output_type": "stream",
     "text": [
      "------------------------------------------------------------------\n",
      "|\"CUSTOMER_ID\"  |\"ORDER_DATE\"  |\"ORDER_DATE_2\"  |\"ORDER_DATE_3\"  |\n",
      "------------------------------------------------------------------\n",
      "|127894         |2022-08-14    |2022-09-08      |2022-09-24      |\n",
      "|113730         |2022-10-02    |2022-10-13      |2022-10-14      |\n",
      "|139173         |2022-10-06    |2022-10-11      |2022-10-14      |\n",
      "|34911          |2022-09-24    |2022-10-06      |2022-10-08      |\n",
      "|128909         |2022-09-24    |2022-10-13      |2022-10-15      |\n",
      "|94573          |2022-09-07    |2022-09-21      |2022-09-22      |\n",
      "|1356           |2022-08-29    |2022-09-24      |2022-10-16      |\n",
      "|195655         |2022-09-12    |2022-09-19      |2022-10-08      |\n",
      "|39055          |2022-07-31    |2022-08-07      |2022-08-14      |\n",
      "|66139          |2022-08-30    |2022-09-29      |2022-10-06      |\n",
      "------------------------------------------------------------------\n",
      "\n"
     ]
    }
   ],
   "source": [
    "# choose only the top row for each customer id and put it into a new dataframe\n",
    "windowSpec = Window.partitionBy(\"CUSTOMER_ID\").orderBy(desc(\"ORDER_DATE\"))\n",
    "\n",
    "past3_trans = cust_order_dates.withColumn(\"row_number\", row_number().over(windowSpec)).filter(col(\"row_number\") == 1).drop(\"row_number\")\n",
    "\n",
    "past3_trans.show()"
   ]
  },
  {
   "cell_type": "code",
   "execution_count": 33,
   "metadata": {},
   "outputs": [
    {
     "name": "stdout",
     "output_type": "stream",
     "text": [
      "----------------------------------------------------------------------------------------------------------\n",
      "|\"CUSTOMER_ID\"  |\"ORDER_DATE\"  |\"ORDER_DATE_2\"  |\"ORDER_DATE_3\"  |\"TRANS_DATEDIFF1\"  |\"TRANS_DATEDIFF2\"  |\n",
      "----------------------------------------------------------------------------------------------------------\n",
      "|127894         |2022-08-14    |2022-09-08      |2022-09-24      |25                 |16                 |\n",
      "|113730         |2022-10-02    |2022-10-13      |2022-10-14      |11                 |1                  |\n",
      "|139173         |2022-10-06    |2022-10-11      |2022-10-14      |5                  |3                  |\n",
      "|34911          |2022-09-24    |2022-10-06      |2022-10-08      |12                 |2                  |\n",
      "|128909         |2022-09-24    |2022-10-13      |2022-10-15      |19                 |2                  |\n",
      "|94573          |2022-09-07    |2022-09-21      |2022-09-22      |14                 |1                  |\n",
      "|1356           |2022-08-29    |2022-09-24      |2022-10-16      |26                 |22                 |\n",
      "|195655         |2022-09-12    |2022-09-19      |2022-10-08      |7                  |19                 |\n",
      "|39055          |2022-07-31    |2022-08-07      |2022-08-14      |7                  |7                  |\n",
      "|66139          |2022-08-30    |2022-09-29      |2022-10-06      |30                 |7                  |\n",
      "----------------------------------------------------------------------------------------------------------\n",
      "\n"
     ]
    }
   ],
   "source": [
    "# calculate the date difference between each order date\n",
    "past3_trans = past3_trans.withColumn(\"TRANS_DATEDIFF1\", F.datediff(\"day\", past3_trans[\"ORDER_DATE\"], past3_trans[\"ORDER_DATE_2\"]))\n",
    "past3_trans = past3_trans.withColumn(\"TRANS_DATEDIFF2\", F.datediff(\"day\", past3_trans[\"ORDER_DATE_2\"], past3_trans[\"ORDER_DATE_3\"]))\n",
    "\n",
    "past3_trans.show()\n"
   ]
  },
  {
   "cell_type": "code",
   "execution_count": 34,
   "metadata": {},
   "outputs": [
    {
     "name": "stdout",
     "output_type": "stream",
     "text": [
      "------------------------------------------------------------------------------------------------------------------\n",
      "|\"CUSTOMER_ID\"  |\"LAST_ORDER_TS\"      |\"LAST_TRANS\"         |\"DAYS_DF1\"  |\"TRANS_DATEDIFF1\"  |\"TRANS_DATEDIFF2\"  |\n",
      "------------------------------------------------------------------------------------------------------------------\n",
      "|178497         |2022-10-18 11:58:41  |2022-10-18 22:56:45  |0           |60                 |11                 |\n",
      "|178499         |2022-10-17 09:54:53  |2022-10-18 22:56:45  |1           |6                  |3                  |\n",
      "|178504         |2022-08-13 10:19:42  |2022-10-18 22:56:45  |66          |13                 |23                 |\n",
      "|178510         |2022-10-16 13:02:57  |2022-10-18 22:56:45  |2           |2                  |29                 |\n",
      "|178512         |2022-10-17 20:31:18  |2022-10-18 22:56:45  |1           |2                  |18                 |\n",
      "|178513         |2022-10-18 20:17:52  |2022-10-18 22:56:45  |0           |13                 |4                  |\n",
      "|178520         |2022-10-13 12:10:05  |2022-10-18 22:56:45  |5           |17                 |17                 |\n",
      "|178526         |2022-09-11 11:24:09  |2022-10-18 22:56:45  |37          |2                  |1                  |\n",
      "|178531         |2022-10-16 20:36:45  |2022-10-18 22:56:45  |2           |20                 |3                  |\n",
      "|178532         |2022-10-17 19:57:04  |2022-10-18 22:56:45  |1           |3                  |3                  |\n",
      "------------------------------------------------------------------------------------------------------------------\n",
      "\n"
     ]
    }
   ],
   "source": [
    "# merge the dataframe with the past 3 transactions with the first dataframe\n",
    "\n",
    "past3_trans = past3_trans.select(\"CUSTOMER_ID\", \"TRANS_DATEDIFF1\", \"TRANS_DATEDIFF2\")\n",
    "\n",
    "customer_last_order_timestamp_df1 = customer_last_order_timestamp_df1.join(past3_trans, \n",
    "                                customer_last_order_timestamp_df1.CUSTOMER_ID==past3_trans.CUSTOMER_ID, lsuffix=\"\", rsuffix=\"_PAST3_TRANS\")\n",
    "\n",
    "customer_last_order_timestamp_df1 = customer_last_order_timestamp_df1.drop(\"CUSTOMER_ID_PAST3_TRANS\")\n",
    "\n",
    "customer_last_order_timestamp_df1.show()"
   ]
  },
  {
   "attachments": {},
   "cell_type": "markdown",
   "metadata": {},
   "source": [
    "#### 4.1.2 Calculation of Average Days between Purchases <a id=\"part4.1.2\"></a>"
   ]
  },
  {
   "cell_type": "code",
   "execution_count": 35,
   "metadata": {},
   "outputs": [
    {
     "name": "stdout",
     "output_type": "stream",
     "text": [
      "---------------------------------------\n",
      "|\"CUSTOMER_ID\"  |\"AVG(DAYS_BETWEEN)\"  |\n",
      "---------------------------------------\n",
      "|22             |29.785714            |\n",
      "|42             |33.864865            |\n",
      "|59             |33.486486            |\n",
      "|65             |29.095238            |\n",
      "|106            |23.765957            |\n",
      "|118            |29.540541            |\n",
      "|166            |19.214286            |\n",
      "|176            |28.718750            |\n",
      "|189            |26.829787            |\n",
      "|204            |28.823529            |\n",
      "---------------------------------------\n",
      "\n"
     ]
    }
   ],
   "source": [
    "# Finding the average days between purchase for each customer\n",
    "customer_order_times = order_df1.sort(col(\"CUSTOMER_ID\"), col(\"ORDER_TS\"))\n",
    "customer_order_times = customer_order_times.withColumn(\"prev_order_date\", F.lag(col(\"ORDER_TS\"), 1).over(Window.partitionBy(\"CUSTOMER_ID\").orderBy(\"ORDER_TS\"))).withColumn(\"days_between\", F.datediff('day', col(\"prev_order_date\"), col(\"ORDER_TS\")))\n",
    "customer_average_days = customer_order_times.groupBy(\"CUSTOMER_ID\").avg(\"days_between\")\n",
    "customer_average_days = customer_average_days.sort(col('CUSTOMER_ID'))\n",
    "customer_average_days.show()"
   ]
  },
  {
   "cell_type": "code",
   "execution_count": 36,
   "metadata": {},
   "outputs": [
    {
     "name": "stdout",
     "output_type": "stream",
     "text": [
      "----------------------------------------------------------------------------------------------------------------------------------------------------------------------------------\n",
      "|\"CUSTOMER_ID\"  |\"AVG(DAYS_BETWEEN)\"  |\"CUSTOMER_ID_AVG_DAYS_WITHOUT_PURCHASE\"  |\"LAST_ORDER_TS\"      |\"LAST_TRANS\"         |\"DAYS_DF1\"  |\"TRANS_DATEDIFF1\"  |\"TRANS_DATEDIFF2\"  |\n",
      "----------------------------------------------------------------------------------------------------------------------------------------------------------------------------------\n",
      "|61615          |17.333333            |61615                                    |2022-10-11 21:54:16  |2022-10-18 22:56:45  |7           |21                 |10                 |\n",
      "|199518         |17.428571            |199518                                   |2022-10-07 13:56:33  |2022-10-18 22:56:45  |11          |2                  |3                  |\n",
      "|195954         |16.465517            |195954                                   |2022-10-13 12:59:17  |2022-10-18 22:56:45  |5           |8                  |15                 |\n",
      "|158792         |19.367347            |158792                                   |2022-10-15 08:33:02  |2022-10-18 22:56:45  |3           |19                 |15                 |\n",
      "|163672         |20.872340            |163672                                   |2022-09-24 10:17:22  |2022-10-18 22:56:45  |24          |7                  |31                 |\n",
      "|122048         |19.705882            |122048                                   |2022-10-08 16:46:08  |2022-10-18 22:56:45  |10          |5                  |2                  |\n",
      "|174298         |20.163265            |174298                                   |2022-09-20 08:16:45  |2022-10-18 22:56:45  |28          |26                 |26                 |\n",
      "|99874          |19.431373            |99874                                    |2022-10-01 13:12:32  |2022-10-18 22:56:45  |17          |6                  |17                 |\n",
      "|8851           |14.181818            |8851                                     |2022-09-27 17:56:19  |2022-10-18 22:56:45  |21          |9                  |27                 |\n",
      "|60519          |16.733333            |60519                                    |2022-10-14 16:49:09  |2022-10-18 22:56:45  |4           |1                  |16                 |\n",
      "----------------------------------------------------------------------------------------------------------------------------------------------------------------------------------\n",
      "\n"
     ]
    }
   ],
   "source": [
    "# Adding the average days between purchase into customer_last_order_timestamp_df1\n",
    "customer_last_order_timestamp_df1 = customer_average_days.join(customer_last_order_timestamp_df1, \n",
    "                                customer_last_order_timestamp_df1.CUSTOMER_ID==customer_average_days.CUSTOMER_ID, lsuffix=\"\", rsuffix=\"_AVG_DAYS_WITHOUT_PURCHASE\")\n",
    "customer_last_order_timestamp_df1.show()"
   ]
  },
  {
   "attachments": {},
   "cell_type": "markdown",
   "metadata": {},
   "source": [
    "### 4.1.3 Calculation the Minimum Number of Days without Customer Purchase <a id=\"part4.1.3\"></a>"
   ]
  },
  {
   "cell_type": "code",
   "execution_count": 37,
   "metadata": {},
   "outputs": [
    {
     "name": "stdout",
     "output_type": "stream",
     "text": [
      "---------------------------------------\n",
      "|\"CUSTOMER_ID\"  |\"MIN(DAYS_BETWEEN)\"  |\n",
      "---------------------------------------\n",
      "|22             |1                    |\n",
      "|42             |1                    |\n",
      "|59             |1                    |\n",
      "|65             |2                    |\n",
      "|106            |1                    |\n",
      "|118            |1                    |\n",
      "|166            |1                    |\n",
      "|176            |1                    |\n",
      "|189            |1                    |\n",
      "|204            |3                    |\n",
      "---------------------------------------\n",
      "\n"
     ]
    }
   ],
   "source": [
    "# Finding the minimum days without purchase for each customer\n",
    "customer_min_days = customer_order_times.groupBy(\"CUSTOMER_ID\").min(\"days_between\")\n",
    "customer_min_days = customer_min_days.sort(col('CUSTOMER_ID'))\n",
    "customer_min_days.show()"
   ]
  },
  {
   "cell_type": "code",
   "execution_count": 38,
   "metadata": {},
   "outputs": [
    {
     "name": "stdout",
     "output_type": "stream",
     "text": [
      "--------------------------------------------------------------------------------------------------------------------------------------------------------------------------------------------------------------------------------------------------\n",
      "|\"CUSTOMER_ID\"  |\"MIN(DAYS_BETWEEN)\"  |\"CUSTOMER_ID_MIN_DAYS_WITHOUT_PURCHASE\"  |\"AVG(DAYS_BETWEEN)\"  |\"CUSTOMER_ID_AVG_DAYS_WITHOUT_PURCHASE\"  |\"LAST_ORDER_TS\"      |\"LAST_TRANS\"         |\"DAYS_DF1\"  |\"TRANS_DATEDIFF1\"  |\"TRANS_DATEDIFF2\"  |\n",
      "--------------------------------------------------------------------------------------------------------------------------------------------------------------------------------------------------------------------------------------------------\n",
      "|155998         |1                    |155998                                   |17.417910            |155998                                   |2022-10-18 10:28:31  |2022-10-18 22:56:45  |0           |6                  |20                 |\n",
      "|155999         |1                    |155999                                   |19.169811            |155999                                   |2022-10-15 12:24:23  |2022-10-18 22:56:45  |3           |2                  |6                  |\n",
      "|156001         |2                    |156001                                   |22.061224            |156001                                   |2022-09-27 18:16:32  |2022-10-18 22:56:45  |21          |16                 |4                  |\n",
      "|156014         |1                    |156014                                   |16.393443            |156014                                   |2022-10-08 13:09:44  |2022-10-18 22:56:45  |10          |3                  |26                 |\n",
      "|156017         |2                    |156017                                   |18.327273            |156017                                   |2022-10-17 18:41:58  |2022-10-18 22:56:45  |1           |3                  |9                  |\n",
      "|156018         |1                    |156018                                   |17.868852            |156018                                   |2022-10-08 09:09:03  |2022-10-18 22:56:45  |10          |56                 |6                  |\n",
      "|156019         |2                    |156019                                   |26.382353            |156019                                   |2022-09-10 20:16:44  |2022-10-18 22:56:45  |38          |11                 |3                  |\n",
      "|156022         |1                    |156022                                   |21.511628            |156022                                   |2022-09-28 19:14:20  |2022-10-18 22:56:45  |20          |8                  |13                 |\n",
      "|156027         |1                    |156027                                   |30.351351            |156027                                   |2022-10-17 09:10:29  |2022-10-18 22:56:45  |1           |2                  |11                 |\n",
      "|156036         |1                    |156036                                   |15.703125            |156036                                   |2022-10-15 09:31:52  |2022-10-18 22:56:45  |3           |3                  |16                 |\n",
      "--------------------------------------------------------------------------------------------------------------------------------------------------------------------------------------------------------------------------------------------------\n",
      "\n"
     ]
    }
   ],
   "source": [
    "# Adding the minimum number of days without purchase into customer_last_order_timestamp_df1\n",
    "customer_last_order_timestamp_df1 = customer_min_days.join(customer_last_order_timestamp_df1, \n",
    "                                customer_last_order_timestamp_df1.CUSTOMER_ID==customer_min_days.CUSTOMER_ID, lsuffix=\"\", rsuffix=\"_MIN_DAYS_WITHOUT_PURCHASE\")\n",
    "customer_last_order_timestamp_df1.show()"
   ]
  },
  {
   "attachments": {},
   "cell_type": "markdown",
   "metadata": {},
   "source": [
    "### 4.1.4 Calculation the Maximum Number of Days without Customer Purchase <a id=\"part4.1.4\"></a>"
   ]
  },
  {
   "cell_type": "code",
   "execution_count": 39,
   "metadata": {},
   "outputs": [
    {
     "name": "stdout",
     "output_type": "stream",
     "text": [
      "---------------------------------------\n",
      "|\"CUSTOMER_ID\"  |\"MAX(DAYS_BETWEEN)\"  |\n",
      "---------------------------------------\n",
      "|22             |173                  |\n",
      "|42             |167                  |\n",
      "|59             |390                  |\n",
      "|65             |207                  |\n",
      "|106            |158                  |\n",
      "|118            |158                  |\n",
      "|166            |119                  |\n",
      "|176            |139                  |\n",
      "|189            |164                  |\n",
      "|204            |172                  |\n",
      "---------------------------------------\n",
      "\n"
     ]
    }
   ],
   "source": [
    "# Finding the maximum days without purchase for each customer\n",
    "customer_max_days = customer_order_times.groupBy(\"CUSTOMER_ID\").max(\"days_between\")\n",
    "customer_max_days = customer_max_days.sort(col('CUSTOMER_ID'))\n",
    "customer_max_days.show()"
   ]
  },
  {
   "cell_type": "code",
   "execution_count": 40,
   "metadata": {},
   "outputs": [
    {
     "name": "stdout",
     "output_type": "stream",
     "text": [
      "------------------------------------------------------------------------------------------------------------------------------------------------------------------------------------------------------------------------------------------------------------------------------------------------------------------\n",
      "|\"CUSTOMER_ID\"  |\"MAX(DAYS_BETWEEN)\"  |\"CUSTOMER_ID_MAX_DAYS_WITHOUT_PURCHASE\"  |\"MIN(DAYS_BETWEEN)\"  |\"CUSTOMER_ID_MIN_DAYS_WITHOUT_PURCHASE\"  |\"AVG(DAYS_BETWEEN)\"  |\"CUSTOMER_ID_AVG_DAYS_WITHOUT_PURCHASE\"  |\"LAST_ORDER_TS\"      |\"LAST_TRANS\"         |\"DAYS_DF1\"  |\"TRANS_DATEDIFF1\"  |\"TRANS_DATEDIFF2\"  |\n",
      "------------------------------------------------------------------------------------------------------------------------------------------------------------------------------------------------------------------------------------------------------------------------------------------------------------------\n",
      "|41522          |139                  |41522                                    |1                    |41522                                    |19.000000            |41522                                    |2022-10-17 17:01:51  |2022-10-18 22:56:45  |1           |34                 |12                 |\n",
      "|41524          |50                   |41524                                    |1                    |41524                                    |15.044776            |41524                                    |2022-10-13 18:12:30  |2022-10-18 22:56:45  |5           |8                  |4                  |\n",
      "|41536          |94                   |41536                                    |1                    |41536                                    |14.705882            |41536                                    |2022-10-16 19:27:37  |2022-10-18 22:56:45  |2           |4                  |3                  |\n",
      "|41538          |216                  |41538                                    |1                    |41538                                    |28.558140            |41538                                    |2022-10-11 21:26:33  |2022-10-18 22:56:45  |7           |12                 |9                  |\n",
      "|41541          |157                  |41541                                    |1                    |41541                                    |18.421875            |41541                                    |2022-10-10 17:14:21  |2022-10-18 22:56:45  |8           |1                  |3                  |\n",
      "|41543          |73                   |41543                                    |1                    |41543                                    |20.422222            |41543                                    |2022-10-06 09:45:41  |2022-10-18 22:56:45  |12          |26                 |24                 |\n",
      "|41547          |101                  |41547                                    |3                    |41547                                    |30.500000            |41547                                    |2022-10-07 18:39:10  |2022-10-18 22:56:45  |11          |3                  |19                 |\n",
      "|41549          |112                  |41549                                    |1                    |41549                                    |19.780000            |41549                                    |2022-09-22 21:44:19  |2022-10-18 22:56:45  |26          |1                  |29                 |\n",
      "|41553          |272                  |41553                                    |1                    |41553                                    |32.341463            |41553                                    |2022-10-16 13:00:52  |2022-10-18 22:56:45  |2           |8                  |10                 |\n",
      "|41554          |84                   |41554                                    |1                    |41554                                    |15.234375            |41554                                    |2022-10-11 20:00:01  |2022-10-18 22:56:45  |7           |1                  |4                  |\n",
      "------------------------------------------------------------------------------------------------------------------------------------------------------------------------------------------------------------------------------------------------------------------------------------------------------------------\n",
      "\n"
     ]
    }
   ],
   "source": [
    "# Adding the maximum number of days without purchase into customer_last_order_timestamp_df1\n",
    "customer_last_order_timestamp_df1 = customer_max_days.join(customer_last_order_timestamp_df1, \n",
    "                                customer_last_order_timestamp_df1.CUSTOMER_ID==customer_max_days.CUSTOMER_ID, lsuffix=\"\", rsuffix=\"_MAX_DAYS_WITHOUT_PURCHASE\")\n",
    "customer_last_order_timestamp_df1.show()"
   ]
  },
  {
   "cell_type": "code",
   "execution_count": 41,
   "metadata": {},
   "outputs": [
    {
     "name": "stdout",
     "output_type": "stream",
     "text": [
      "------------------------------------------------------------------------------------------------------------------------------------------------------------------------------------\n",
      "|\"CUSTOMER_ID\"  |\"MAX(DAYS_BETWEEN)\"  |\"MIN(DAYS_BETWEEN)\"  |\"AVG(DAYS_BETWEEN)\"  |\"LAST_ORDER_TS\"      |\"LAST_TRANS\"         |\"DAYS_DF1\"  |\"TRANS_DATEDIFF1\"  |\"TRANS_DATEDIFF2\"  |\n",
      "------------------------------------------------------------------------------------------------------------------------------------------------------------------------------------\n",
      "|41102          |89                   |1                    |21.245614            |2022-10-18 13:42:36  |2022-10-18 22:56:45  |0           |1                  |7                  |\n",
      "|41106          |170                  |1                    |27.295455            |2022-09-01 10:22:06  |2022-10-18 22:56:45  |47          |38                 |5                  |\n",
      "|41118          |72                   |1                    |18.420000            |2022-10-10 19:03:06  |2022-10-18 22:56:45  |8           |20                 |18                 |\n",
      "|41119          |150                  |1                    |27.615385            |2022-10-02 12:08:13  |2022-10-18 22:56:45  |16          |3                  |7                  |\n",
      "|41124          |64                   |1                    |15.149254            |2022-10-14 13:27:48  |2022-10-18 22:56:45  |4           |10                 |4                  |\n",
      "|41131          |82                   |1                    |19.557692            |2022-10-14 19:29:20  |2022-10-18 22:56:45  |4           |27                 |11                 |\n",
      "|41134          |311                  |1                    |46.518519            |2022-10-18 20:11:29  |2022-10-18 22:56:45  |0           |64                 |9                  |\n",
      "|41138          |109                  |1                    |24.260000            |2022-10-17 18:24:22  |2022-10-18 22:56:45  |1           |11                 |4                  |\n",
      "|41146          |92                   |1                    |18.528302            |2022-10-10 10:16:09  |2022-10-18 22:56:45  |8           |6                  |7                  |\n",
      "|41147          |67                   |1                    |18.740741            |2022-10-10 19:35:03  |2022-10-18 22:56:45  |8           |34                 |3                  |\n",
      "------------------------------------------------------------------------------------------------------------------------------------------------------------------------------------\n",
      "\n"
     ]
    }
   ],
   "source": [
    "# Dropping of irrelevant and unnecessary columns that have been introduced during joining of dataframes in previous steps\n",
    "customer_last_order_timestamp_df1 = customer_last_order_timestamp_df1.drop([\"CUSTOMER_ID_MAX_DAYS_WITHOUT_PURCHASE\", \"CUSTOMER_ID_MIN_DAYS_WITHOUT_PURCHASE\", \"CUSTOMER_ID_AVG_DAYS_WITHOUT_PURCHASE\"])\n",
    "customer_last_order_timestamp_df1.show(10)"
   ]
  },
  {
   "attachments": {},
   "cell_type": "markdown",
   "metadata": {},
   "source": [
    "### 4.1.5 Recency <a id=\"part4.1.5\"></a>\n",
    "\n",
    "To calculate the recency of orders for each customer, we will take the last order timestamp of the customer minus the current date identified. "
   ]
  },
  {
   "cell_type": "code",
   "execution_count": 42,
   "metadata": {},
   "outputs": [
    {
     "name": "stdout",
     "output_type": "stream",
     "text": [
      "-----------------------------------------------------------------------------------------------------------------------------------------------------------------------------------------------------\n",
      "|\"CUSTOMER_ID\"  |\"MAX(DAYS_BETWEEN)\"  |\"MIN(DAYS_BETWEEN)\"  |\"AVG(DAYS_BETWEEN)\"  |\"LAST_ORDER_TS\"      |\"LAST_TRANS\"         |\"DAYS_DF1\"  |\"TRANS_DATEDIFF1\"  |\"TRANS_DATEDIFF2\"  |\"RECENCY_DAYS\"  |\n",
      "-----------------------------------------------------------------------------------------------------------------------------------------------------------------------------------------------------\n",
      "|90058          |90                   |1                    |20.306122            |2022-10-07 14:15:55  |2022-10-18 22:56:45  |11          |10                 |29                 |11              |\n",
      "|90063          |107                  |1                    |28.100000            |2022-10-11 09:25:45  |2022-10-18 22:56:45  |7           |1                  |2                  |7               |\n",
      "|90073          |79                   |1                    |18.862745            |2022-09-28 18:41:08  |2022-10-18 22:56:45  |20          |13                 |12                 |20              |\n",
      "|90074          |89                   |1                    |18.353846            |2022-10-05 21:53:54  |2022-10-18 22:56:45  |13          |2                  |7                  |13              |\n",
      "|90077          |46                   |1                    |14.516129            |2022-10-09 15:48:32  |2022-10-18 22:56:45  |9           |17                 |3                  |9               |\n",
      "|90078          |123                  |1                    |17.202703            |2022-10-17 15:46:18  |2022-10-18 22:56:45  |1           |8                  |4                  |1               |\n",
      "|90081          |86                   |1                    |20.282609            |2022-10-10 09:16:24  |2022-10-18 22:56:45  |8           |10                 |16                 |8               |\n",
      "|90083          |77                   |1                    |16.483871            |2022-10-07 19:05:22  |2022-10-18 22:56:45  |11          |4                  |8                  |11              |\n",
      "|90084          |83                   |1                    |20.062500            |2022-09-12 08:59:36  |2022-10-18 22:56:45  |36          |11                 |1                  |36              |\n",
      "|90085          |59                   |1                    |17.214286            |2022-10-03 21:38:14  |2022-10-18 22:56:45  |15          |10                 |2                  |15              |\n",
      "-----------------------------------------------------------------------------------------------------------------------------------------------------------------------------------------------------\n",
      "\n"
     ]
    }
   ],
   "source": [
    "# Creating a new dataframe and adding column with current date as the latest \n",
    "# transaction timestamp identified previously \n",
    "\n",
    "# Calculate recency days\n",
    "customer_recency = customer_last_order_timestamp_df1.with_column(\"RECENCY_DAYS\", F.datediff('day', customer_last_order_timestamp_df1[\"LAST_ORDER_TS\"], customer_last_order_timestamp_df1[\"LAST_TRANS\"]))\n",
    "customer_recency.show()"
   ]
  },
  {
   "cell_type": "code",
   "execution_count": 43,
   "metadata": {},
   "outputs": [],
   "source": [
    "# Calculating the number of days since a customer bought from Tasty Bytes based \n",
    "# on the date difference between the current date and last order timestamp and \n",
    "# adding it into the customer_recency data frame\n",
    "\n",
    "temp_customer_recency = customer_recency.select('CUSTOMER_ID','RECENCY_DAYS')\n",
    "\n",
    "# Joining customer_recency and customer_df to make a new data frame which will be used for clustering\n",
    "customer_last_order_timestamp_df1 = temp_customer_recency.join(customer_last_order_timestamp_df1, \n",
    "                                customer_last_order_timestamp_df1.CUSTOMER_ID==temp_customer_recency.CUSTOMER_ID, lsuffix=\"\", rsuffix=\"_RECENCY\")"
   ]
  },
  {
   "cell_type": "code",
   "execution_count": 44,
   "metadata": {},
   "outputs": [
    {
     "name": "stdout",
     "output_type": "stream",
     "text": [
      "-----------------------------------------------------------------------------------------------------------------------------------------------------------------------------------------------------------------------------\n",
      "|\"CUSTOMER_ID\"  |\"RECENCY_DAYS\"  |\"CUSTOMER_ID_RECENCY\"  |\"MAX(DAYS_BETWEEN)\"  |\"MIN(DAYS_BETWEEN)\"  |\"AVG(DAYS_BETWEEN)\"  |\"LAST_ORDER_TS\"      |\"LAST_TRANS\"         |\"DAYS_DF1\"  |\"TRANS_DATEDIFF1\"  |\"TRANS_DATEDIFF2\"  |\n",
      "-----------------------------------------------------------------------------------------------------------------------------------------------------------------------------------------------------------------------------\n",
      "|67712          |31              |67712                  |125                  |1                    |20.697674            |2022-09-17 18:46:32  |2022-10-18 22:56:45  |31          |11                 |5                  |\n",
      "|67720          |2               |67720                  |50                   |1                    |13.771429            |2022-10-16 13:46:53  |2022-10-18 22:56:45  |2           |3                  |16                 |\n",
      "|67726          |9               |67726                  |147                  |1                    |31.775000            |2022-10-09 13:29:37  |2022-10-18 22:56:45  |9           |5                  |4                  |\n",
      "|67734          |2               |67734                  |358                  |1                    |31.465116            |2022-10-16 09:18:48  |2022-10-18 22:56:45  |2           |3                  |2                  |\n",
      "|67735          |1               |67735                  |72                   |1                    |25.775510            |2022-10-17 18:39:47  |2022-10-18 22:56:45  |1           |5                  |27                 |\n",
      "|67738          |1               |67738                  |116                  |1                    |21.166667            |2022-10-17 18:35:32  |2022-10-18 22:56:45  |1           |1                  |2                  |\n",
      "|67739          |3               |67739                  |74                   |1                    |17.500000            |2022-10-15 18:17:55  |2022-10-18 22:56:45  |3           |2                  |4                  |\n",
      "|67740          |11              |67740                  |83                   |1                    |16.180328            |2022-10-07 21:47:26  |2022-10-18 22:56:45  |11          |9                  |26                 |\n",
      "|67741          |10              |67741                  |222                  |1                    |23.191489            |2022-10-08 10:56:21  |2022-10-18 22:56:45  |10          |5                  |11                 |\n",
      "|67742          |6               |67742                  |146                  |1                    |24.925000            |2022-10-12 13:02:48  |2022-10-18 22:56:45  |6           |14                 |8                  |\n",
      "-----------------------------------------------------------------------------------------------------------------------------------------------------------------------------------------------------------------------------\n",
      "\n"
     ]
    }
   ],
   "source": [
    "# Display customer_last_order_timestamp_df1\n",
    "customer_last_order_timestamp_df1.show()"
   ]
  },
  {
   "attachments": {},
   "cell_type": "markdown",
   "metadata": {},
   "source": [
    "### 4.1.6 Frequency <a id=\"part4.1.6\"></a>\n",
    "\n",
    "To calculate the frequency of orders for each customer, we will be calculating the total order by customers divided by the duration between their first order and the current date identified."
   ]
  },
  {
   "cell_type": "code",
   "execution_count": 45,
   "metadata": {},
   "outputs": [
    {
     "name": "stdout",
     "output_type": "stream",
     "text": [
      "---------------------------------------\n",
      "|\"CUSTOMER_ID\"  |\"FIRST_ORDER_TS\"     |\n",
      "---------------------------------------\n",
      "|111150         |2019-01-04 21:08:39  |\n",
      "|108935         |2019-01-06 13:38:47  |\n",
      "|173074         |2019-01-06 18:53:39  |\n",
      "|137846         |2019-01-10 18:58:28  |\n",
      "|28098          |2019-01-23 13:08:41  |\n",
      "---------------------------------------\n",
      "\n"
     ]
    }
   ],
   "source": [
    "# Obtain the time stamp for each customer’s first order\n",
    "customer_first_order_timestamp = order_df1.groupBy(\"CUSTOMER_ID\").agg(F.min(\"ORDER_TS\").alias(\"FIRST_ORDER_TS\"))\n",
    "customer_first_order_timestamp.show(n=5)"
   ]
  },
  {
   "cell_type": "code",
   "execution_count": 46,
   "metadata": {},
   "outputs": [
    {
     "name": "stdout",
     "output_type": "stream",
     "text": [
      "---------------------------------\n",
      "|\"CUSTOMER_ID\"  |\"TOTAL_ORDER\"  |\n",
      "---------------------------------\n",
      "|61615          |58             |\n",
      "|199518         |57             |\n",
      "|163672         |48             |\n",
      "|73700          |54             |\n",
      "|15972          |52             |\n",
      "---------------------------------\n",
      "\n"
     ]
    }
   ],
   "source": [
    "# Calculating the total number of orders for each customer\n",
    "total_order_by_cust = order_df1.group_by(\"CUSTOMER_ID\").agg(F.count(\"ORDER_ID\").alias(\"TOTAL_ORDER\"))\n",
    "total_order_by_cust.show(n=5)"
   ]
  },
  {
   "cell_type": "code",
   "execution_count": 47,
   "metadata": {},
   "outputs": [
    {
     "name": "stdout",
     "output_type": "stream",
     "text": [
      "-------------------------------------------------------------------------------------------------------------------------------------------------------------------------------------------------------------------------------------------------------------------------------------------------------------------------------------------------------------------------------------------------------------------------------------\n",
      "|\"CUSTOMER_ID\"  |\"FIRST_NAME\"  |\"LAST_NAME\"  |\"CITY\"     |\"COUNTRY\"      |\"POSTAL_CODE\"  |\"PREFERRED_LANGUAGE\"  |\"GENDER\"     |\"FAVOURITE_BRAND\"  |\"MARITAL_STATUS\"    |\"CHILDREN_COUNT\"  |\"SIGN_UP_DATE\"  |\"BIRTHDAY_DATE\"  |\"E_MAIL\"                     |\"PHONE_NUMBER\"  |\"CUSTOMER_ID_FIRST_TS\"  |\"FIRST_ORDER_TS\"     |\"CUSTOMER_ID_NUM_ORDER\"  |\"TOTAL_ORDER\"  |\"CURRENT DATE\"       |\"YEARS_WITH_US\"  |\"CUSTOMER_FREQUENCY\"  |\n",
      "-------------------------------------------------------------------------------------------------------------------------------------------------------------------------------------------------------------------------------------------------------------------------------------------------------------------------------------------------------------------------------------------------------------------------------------\n",
      "|118            |Donald        |Faulkner     |San Mateo  |United States  |94010          |English               |Male         |NULL               |Single              |0                 |2019-07-07      |1988-06-13       |Donald.Faulkner@hotmail.com  |080-861-2392    |118                     |2019-09-16 19:43:56  |118                      |38             |2022-10-18 22:56:45  |3.090411         |12.296099             |\n",
      "|189            |Reese         |Mcfarland    |San Mateo  |United States  |94010          |English               |Undisclosed  |NULL               |Married             |1                 |2020-03-06      |1984-03-05       |Reese.Mcfarland@hotmail.com  |802-202-7275    |189                     |2019-04-30 14:03:32  |189                      |48             |2022-10-18 22:56:45  |3.471233         |13.827940             |\n",
      "|204            |Emilio        |Lawrence     |San Mateo  |United States  |94497          |English               |Male         |NULL               |Undisclosed         |Undisclosed       |2021-10-10      |1979-06-25       |Emilio.Lawrence@hotmail.com  |693-524-2569    |204                     |2020-02-11 09:36:36  |204                      |35             |2022-10-18 22:56:45  |2.684932         |13.035712             |\n",
      "|42             |Alexander     |Hicks        |San Mateo  |United States  |94404          |English               |Undisclosed  |NULL               |Single              |0                 |2020-07-11      |1966-06-28       |Alexander.Hicks@aol.com      |463-144-8555    |42                      |2019-05-05 17:25:49  |42                       |38             |2022-10-18 22:56:45  |3.457534         |10.990492             |\n",
      "|59             |Ryan          |Shah         |San Mateo  |United States  |94401          |English               |Male         |NULL               |Married             |2                 |2020-12-29      |1961-06-05       |Ryan.Shah@aol.com            |679-586-9815    |59                      |2019-05-15 17:15:41  |59                       |38             |2022-10-18 22:56:45  |3.430137         |11.078275             |\n",
      "|65             |Nathen        |Werner       |San Mateo  |United States  |94010          |English               |Male         |NULL               |Divorced/Seperated  |5+                |2020-11-05      |1958-09-01       |Nathen.Werner@aol.com        |926-969-1551    |65                      |2019-06-09 17:59:28  |65                       |43             |2022-10-18 22:56:45  |3.361644         |12.791360             |\n",
      "|106            |Camilla       |Harding      |San Mateo  |United States  |94404          |English               |Female       |NULL               |Single              |0                 |2021-06-28      |1967-05-10       |Camilla.Harding@aol.com      |366-365-2520    |106                     |2019-09-22 22:14:38  |106                      |48             |2022-10-18 22:56:45  |3.073973         |15.614971             |\n",
      "|219            |Scarlett      |Zavala       |San Mateo  |United States  |94403          |English               |Undisclosed  |NULL               |Married             |2                 |2021-01-22      |1965-12-19       |Scarlett.Zavala@aol.com      |447-385-8243    |219                     |2020-01-02 20:16:46  |219                      |39             |2022-10-18 22:56:45  |2.794521         |13.955880             |\n",
      "|222            |Olive         |Powell       |San Mateo  |United States  |94404          |English               |Female       |NULL               |Single              |0                 |2021-03-21      |1965-07-06       |Olive.Powell@aol.com         |983-128-2475    |222                     |2019-02-04 13:57:10  |222                      |45             |2022-10-18 22:56:45  |3.704110         |12.148667             |\n",
      "|22             |Rayne         |Sanchez      |San Mateo  |United States  |94401          |English               |Male         |NULL               |Married             |4                 |2021-04-22      |1949-01-12       |Rayne.Sanchez@ymail.com      |621-054-0251    |22                      |2019-05-15 21:36:14  |22                       |43             |2022-10-18 22:56:45  |3.430137         |12.535942             |\n",
      "-------------------------------------------------------------------------------------------------------------------------------------------------------------------------------------------------------------------------------------------------------------------------------------------------------------------------------------------------------------------------------------------------------------------------------------\n",
      "\n"
     ]
    }
   ],
   "source": [
    "# Joining the total number of orders, first order timestamp tables with the customer data\n",
    "customer_freq = customer_df.join(customer_first_order_timestamp, customer_df.CUSTOMER_ID==customer_first_order_timestamp.CUSTOMER_ID, lsuffix=\"\", rsuffix=\"_FIRST_TS\")\n",
    "customer_freq = customer_freq.join(total_order_by_cust, customer_freq.CUSTOMER_ID==total_order_by_cust.CUSTOMER_ID, lsuffix=\"\", rsuffix=\"_NUM_ORDER\")\n",
    "\n",
    "# Adding in relevant columns to the newly joined data frame such as “CURRENT DATE”, “YEARS_WITH_US”, and “CUSTOMER_FREQUENCY” to calculate the frequency\n",
    "customer_freq = customer_freq.with_column(\"CURRENT DATE\", F.iff(F.col(\"CUSTOMER_ID\") == F.col(\"CUSTOMER_ID\"), lastest_transaction_df1, lastest_transaction_df1))\n",
    "customer_freq = customer_freq.with_column(\"YEARS_WITH_US\",F.datediff(\"day\", customer_freq[\"FIRST_ORDER_TS\"], customer_freq[\"CURRENT DATE\"])/365)\n",
    "customer_freq = customer_freq.with_column(\"CUSTOMER_FREQUENCY\", customer_freq[\"TOTAL_ORDER\"]/customer_freq[\"YEARS_WITH_US\"])\n",
    "\n",
    "customer_freq.show()"
   ]
  },
  {
   "cell_type": "code",
   "execution_count": 48,
   "metadata": {},
   "outputs": [],
   "source": [
    "# Joining this table to the customer dataset that will be used for clustering later on\n",
    "temp_customer_freq = customer_freq.select([\"CUSTOMER_ID\",\"CUSTOMER_FREQUENCY\",'TOTAL_ORDER'])\n",
    "customer_last_order_timestamp_df1 = temp_customer_freq.join(customer_last_order_timestamp_df1, \n",
    "                                customer_last_order_timestamp_df1.CUSTOMER_ID==temp_customer_freq.CUSTOMER_ID, lsuffix=\"\", rsuffix=\"_FREQUENCY\")"
   ]
  },
  {
   "cell_type": "code",
   "execution_count": 49,
   "metadata": {},
   "outputs": [
    {
     "name": "stdout",
     "output_type": "stream",
     "text": [
      "----------------------------------------------------------------------------------------------------------------------------------------------------------------------------------------------------------------------------------------------------------------------------------------------\n",
      "|\"CUSTOMER_ID\"  |\"CUSTOMER_FREQUENCY\"  |\"TOTAL_ORDER\"  |\"CUSTOMER_ID_FREQUENCY\"  |\"RECENCY_DAYS\"  |\"CUSTOMER_ID_RECENCY\"  |\"MAX(DAYS_BETWEEN)\"  |\"MIN(DAYS_BETWEEN)\"  |\"AVG(DAYS_BETWEEN)\"  |\"LAST_ORDER_TS\"      |\"LAST_TRANS\"         |\"DAYS_DF1\"  |\"TRANS_DATEDIFF1\"  |\"TRANS_DATEDIFF2\"  |\n",
      "----------------------------------------------------------------------------------------------------------------------------------------------------------------------------------------------------------------------------------------------------------------------------------------------\n",
      "|110977         |23.594517             |66             |110977                   |11              |110977                 |121                  |1                    |15.538462            |2022-10-07 10:03:37  |2022-10-18 22:56:45  |11          |8                  |5                  |\n",
      "|164706         |22.544114             |63             |164706                   |10              |164706                 |100                  |1                    |16.290323            |2022-10-08 20:43:36  |2022-10-18 22:56:45  |10          |14                 |9                  |\n",
      "|112795         |22.655172             |63             |112795                   |5               |112795                 |85                   |1                    |16.290323            |2022-10-13 18:43:15  |2022-10-18 22:56:45  |5           |5                  |11                 |\n",
      "|197899         |20.034934             |55             |197899                   |18              |197899                 |87                   |1                    |18.222222            |2022-09-30 15:42:26  |2022-10-18 22:56:45  |18          |9                  |10                 |\n",
      "|25120          |23.001031             |61             |25120                    |31              |25120                  |46                   |1                    |15.616667            |2022-09-17 17:52:35  |2022-10-18 22:56:45  |31          |3                  |6                  |\n",
      "|92305          |28.076922             |66             |92305                    |2               |92305                  |67                   |1                    |13.169231            |2022-10-16 11:49:31  |2022-10-18 22:56:45  |2           |1                  |1                  |\n",
      "|21156          |21.802265             |58             |21156                    |0               |21156                  |93                   |1                    |17.035088            |2022-10-18 12:27:00  |2022-10-18 22:56:45  |0           |1                  |6                  |\n",
      "|50436          |20.196175             |55             |50436                    |2               |50436                  |69                   |1                    |18.370370            |2022-10-16 12:53:34  |2022-10-18 22:56:45  |2           |1                  |15                 |\n",
      "|84783          |21.004340             |53             |84783                    |5               |84783                  |125                  |1                    |17.615385            |2022-10-13 19:57:38  |2022-10-18 22:56:45  |5           |10                 |2                  |\n",
      "|158282         |20.237626             |56             |158282                   |0               |158282                 |70                   |1                    |18.363636            |2022-10-18 08:57:04  |2022-10-18 22:56:45  |0           |30                 |18                 |\n",
      "----------------------------------------------------------------------------------------------------------------------------------------------------------------------------------------------------------------------------------------------------------------------------------------------\n",
      "\n"
     ]
    }
   ],
   "source": [
    "# Display customer_last_order_timestamp\n",
    "customer_last_order_timestamp_df1.show()"
   ]
  },
  {
   "attachments": {},
   "cell_type": "markdown",
   "metadata": {},
   "source": [
    "### 4.1.7 Monetary Value <a id=\"part4.1.7\"></a>\n",
    "\n",
    "To calculate the monetary value for each customer, we will be calculating the total sales generated by each customer divided by the number of years the customer has ordered with Tasty Bytes. "
   ]
  },
  {
   "cell_type": "code",
   "execution_count": 50,
   "metadata": {},
   "outputs": [],
   "source": [
    " # Calculate the total sales generated by each customer \n",
    "total_amount_spent = order_df1.group_by(\"CUSTOMER_ID\").agg(F.sum(\"ORDER_TOTAL\").alias(\"TOTAL_SPENT\"))\n",
    "\n",
    "# Joining the total sales generated by each customer with the first order timestamp tables \n",
    "customer_monetary = total_amount_spent.join(customer_first_order_timestamp, total_amount_spent.CUSTOMER_ID==customer_first_order_timestamp.CUSTOMER_ID, lsuffix=\"\", rsuffix=\"_FIRST_TS\")\n",
    "\n",
    "# Adding in relevant columns to the newly joined data frame such as “CURRENT DATE”, “YEARS_WITH_US”, and “MONETARY_VALUE” to calculate the monetary value\n",
    "customer_monetary = customer_monetary.with_column(\"CURRENT DATE\", F.iff(F.col(\"CUSTOMER_ID\") == F.col(\"CUSTOMER_ID\"), lastest_transaction_df1, lastest_transaction_df1))\n",
    "customer_monetary = customer_monetary.with_column(\"YEARS_WITH_US\",F.datediff(\"day\", customer_monetary[\"FIRST_ORDER_TS\"], customer_monetary[\"CURRENT DATE\"])/365)\n",
    "customer_monetary = customer_monetary.with_column(\"MONETARY_VALUE\", F.col(\"TOTAL_SPENT\")/F.col(\"YEARS_WITH_US\"))"
   ]
  },
  {
   "cell_type": "code",
   "execution_count": 51,
   "metadata": {},
   "outputs": [],
   "source": [
    "# Joining this table to the customer dataset that will be used for clustering later on \n",
    "temp_customer_mon = customer_monetary.select(['CUSTOMER_ID','TOTAL_SPENT','YEARS_WITH_US','MONETARY_VALUE'])\n",
    "customer_last_order_timestamp_df1 = temp_customer_mon.join(customer_last_order_timestamp_df1, customer_last_order_timestamp_df1.CUSTOMER_ID==temp_customer_mon.CUSTOMER_ID, lsuffix=\"\", rsuffix=\"_MONETARY\")"
   ]
  },
  {
   "cell_type": "code",
   "execution_count": 52,
   "metadata": {},
   "outputs": [
    {
     "name": "stdout",
     "output_type": "stream",
     "text": [
      "----------------------------------------------------------------------------------------------------------------------------------------------------------------------------------------------------------------------------------------------------------------------------------------------------------------------------------------------------------------------------\n",
      "|\"CUSTOMER_ID\"  |\"TOTAL_SPENT\"  |\"YEARS_WITH_US\"  |\"MONETARY_VALUE\"  |\"CUSTOMER_ID_MONETARY\"  |\"CUSTOMER_FREQUENCY\"  |\"TOTAL_ORDER\"  |\"CUSTOMER_ID_FREQUENCY\"  |\"RECENCY_DAYS\"  |\"CUSTOMER_ID_RECENCY\"  |\"MAX(DAYS_BETWEEN)\"  |\"MIN(DAYS_BETWEEN)\"  |\"AVG(DAYS_BETWEEN)\"  |\"LAST_ORDER_TS\"      |\"LAST_TRANS\"         |\"DAYS_DF1\"  |\"TRANS_DATEDIFF1\"  |\"TRANS_DATEDIFF2\"  |\n",
      "----------------------------------------------------------------------------------------------------------------------------------------------------------------------------------------------------------------------------------------------------------------------------------------------------------------------------------------------------------------------------\n",
      "|187831         |2412.5000      |3.243836         |743.7182397630    |187831                  |19.421450             |63             |187831                   |1               |187831                 |103                  |1                    |19.080645            |2022-10-17 11:40:07  |2022-10-18 22:56:45  |1           |1                  |4                  |\n",
      "|114537         |2961.5000      |3.380822         |875.9704000980    |114537                  |23.958670             |81             |114537                   |23              |114537                 |99                   |1                    |15.137500            |2022-09-25 20:07:05  |2022-10-18 22:56:45  |23          |19                 |1                  |\n",
      "|142608         |1961.5000      |2.800000         |700.5357142857    |142608                  |18.571429             |52             |142608                   |1               |142608                 |125                  |1                    |20.019608            |2022-10-17 19:16:28  |2022-10-18 22:56:45  |1           |5                  |13                 |\n",
      "|163483         |3354.0000      |3.438356         |975.4661820940    |163483                  |19.195220             |66             |163483                   |4               |163483                 |94                   |1                    |19.246154            |2022-10-14 12:25:03  |2022-10-18 22:56:45  |4           |2                  |14                 |\n",
      "|94486          |2284.0000      |3.443836         |663.2139277248    |94486                   |17.132059             |59             |94486                    |12              |94486                  |167                  |1                    |21.465517            |2022-10-06 09:27:37  |2022-10-18 22:56:45  |12          |1                  |8                  |\n",
      "|90078          |3262.7500      |3.490411         |934.7753029658    |90078                   |21.487441             |75             |90078                    |1               |90078                  |123                  |1                    |17.202703            |2022-10-17 15:46:18  |2022-10-18 22:56:45  |1           |8                  |4                  |\n",
      "|124295         |2104.7500      |3.084932         |682.2678749483    |124295                  |16.856125             |52             |124295                   |1               |124295                 |165                  |1                    |22.058824            |2022-10-17 10:28:39  |2022-10-18 22:56:45  |1           |5                  |9                  |\n",
      "|187208         |2509.5000      |3.123288         |803.4801785810    |187208                  |19.530700             |61             |187208                   |9               |187208                 |158                  |1                    |18.850000            |2022-10-09 20:02:19  |2022-10-18 22:56:45  |9           |8                  |2                  |\n",
      "|103346         |2532.2500      |3.082192         |821.5743860214    |103346                  |22.386665             |69             |103346                   |5               |103346                 |90                   |1                    |16.470588            |2022-10-13 20:55:08  |2022-10-18 22:56:45  |5           |4                  |28                 |\n",
      "|39741          |2240.0000      |3.260274         |687.0588177558    |39741                   |19.323529             |63             |39741                    |3               |39741                  |112                  |1                    |19.145161            |2022-10-15 09:05:30  |2022-10-18 22:56:45  |3           |1                  |1                  |\n",
      "----------------------------------------------------------------------------------------------------------------------------------------------------------------------------------------------------------------------------------------------------------------------------------------------------------------------------------------------------------------------------\n",
      "\n"
     ]
    }
   ],
   "source": [
    "# Display customer_last_order_timestamp_df1\n",
    "customer_last_order_timestamp_df1.show()"
   ]
  },
  {
   "cell_type": "code",
   "execution_count": 53,
   "metadata": {},
   "outputs": [
    {
     "name": "stdout",
     "output_type": "stream",
     "text": [
      "-------------------------------------------------------------------------------------------------------------------------------------------------------------------------------------------------------------------------------------------------------------------------------------------------\n",
      "|\"CUSTOMER_ID\"  |\"TOTAL_SPENT\"  |\"YEARS_WITH_US\"  |\"MONETARY_VALUE\"  |\"CUSTOMER_FREQUENCY\"  |\"TOTAL_ORDER\"  |\"RECENCY_DAYS\"  |\"MAX(DAYS_BETWEEN)\"  |\"MIN(DAYS_BETWEEN)\"  |\"AVG(DAYS_BETWEEN)\"  |\"LAST_ORDER_TS\"      |\"LAST_TRANS\"         |\"DAYS_DF1\"  |\"TRANS_DATEDIFF1\"  |\"TRANS_DATEDIFF2\"  |\n",
      "-------------------------------------------------------------------------------------------------------------------------------------------------------------------------------------------------------------------------------------------------------------------------------------------------\n",
      "|114606         |1859.5000      |3.797260         |489.6952012767    |13.957432             |53             |19              |109                  |1                    |26.288462            |2022-09-29 20:30:58  |2022-10-18 22:56:45  |19          |2                  |13                 |\n",
      "|134715         |1372.0000      |3.791781         |361.8352431219    |11.076589             |42             |27              |268                  |1                    |33.097561            |2022-09-21 09:48:35  |2022-10-18 22:56:45  |27          |11                 |7                  |\n",
      "|83979          |1218.5000      |3.791781         |321.3529473353    |10.021676             |38             |0               |297                  |1                    |37.405405            |2022-10-18 20:30:54  |2022-10-18 22:56:45  |0           |2                  |58                 |\n",
      "|29066          |1337.5000      |3.783562         |353.5028631750    |9.779145              |37             |5               |176                  |1                    |38.222222            |2022-10-13 09:00:32  |2022-10-18 22:56:45  |5           |10                 |11                 |\n",
      "|31252          |1493.0000      |3.772603         |395.7479756020    |10.867828             |41             |26              |320                  |1                    |33.775000            |2022-09-22 20:29:44  |2022-10-18 22:56:45  |26          |4                  |8                  |\n",
      "|68481          |1293.0000      |3.772603         |342.7341811476    |9.807552              |37             |3               |201                  |1                    |38.166667            |2022-10-15 19:11:05  |2022-10-18 22:56:45  |3           |30                 |21                 |\n",
      "|121997         |1221.2500      |3.758904         |324.8952354197    |10.641400             |40             |2               |238                  |1                    |35.128205            |2022-10-16 10:48:52  |2022-10-18 22:56:45  |2           |1                  |18                 |\n",
      "|82845          |2059.7500      |3.747945         |549.5678298374    |13.073831             |49             |15              |203                  |2                    |28.187500            |2022-10-03 10:54:20  |2022-10-18 22:56:45  |15          |17                 |26                 |\n",
      "|99380          |2083.0000      |3.745205         |556.1778327221    |14.685444             |55             |1               |178                  |1                    |25.296296            |2022-10-17 18:07:51  |2022-10-18 22:56:45  |1           |4                  |8                  |\n",
      "|108698         |1355.5000      |3.736986         |362.7254691348    |9.633432              |36             |13              |349                  |1                    |38.600000            |2022-10-05 13:15:41  |2022-10-18 22:56:45  |13          |2                  |2                  |\n",
      "-------------------------------------------------------------------------------------------------------------------------------------------------------------------------------------------------------------------------------------------------------------------------------------------------\n",
      "\n"
     ]
    }
   ],
   "source": [
    "# Dropping of irrelevant and unnecessary columns that have been introduced during joining of dataframes in previous steps\n",
    "customer_last_order_timestamp_df1 = customer_last_order_timestamp_df1.drop([\"CUSTOMER_ID_MONETARY\", \"CUSTOMER_ID_FREQUENCY\", \"CUSTOMER_ID_RECENCY\"])\n",
    "customer_last_order_timestamp_df1.show(10)"
   ]
  },
  {
   "attachments": {},
   "cell_type": "markdown",
   "metadata": {},
   "source": [
    "#### 4.1.8 K-Means Clustering for Recency, Frequency and Monetary  <a id=\"part4.1.8\"></a>"
   ]
  },
  {
   "cell_type": "code",
   "execution_count": 54,
   "metadata": {},
   "outputs": [],
   "source": [
    "customer_last_order_timestamp_df1 = customer_last_order_timestamp_df1.to_pandas()"
   ]
  },
  {
   "attachments": {},
   "cell_type": "markdown",
   "metadata": {},
   "source": [
    "##### K-Means Clustering for Recency"
   ]
  },
  {
   "cell_type": "code",
   "execution_count": 55,
   "metadata": {},
   "outputs": [
    {
     "data": {
      "image/png": "[encoded data removed]",
      "text/plain": [
       "<Figure size 640x480 with 1 Axes>"
      ]
     },
     "metadata": {},
     "output_type": "display_data"
    }
   ],
   "source": [
    "# K-Means Clustering\n",
    "#k-means\n",
    "sse=[]\n",
    "scaler = StandardScaler() \n",
    "recency = customer_last_order_timestamp_df1[['RECENCY_DAYS']].to_numpy()\n",
    "X_scaled = scaler.fit_transform(recency) \n",
    "\n",
    "for k in range(1, 11):\n",
    "    kmeans = KMeans(n_clusters=k, n_init=20, random_state=1)\n",
    "    kmeans.fit(X_scaled)\n",
    "    sse.append(kmeans.inertia_)\n",
    "\n",
    "plt.plot(range(1, 11), sse, 'b-*')\n",
    "plt.title('Elbow Method (REC)')\n",
    "plt.xlabel('Number of clusters')\n",
    "plt.ylabel('SSE')\n",
    "plt.show()"
   ]
  },
  {
   "cell_type": "code",
   "execution_count": 56,
   "metadata": {},
   "outputs": [
    {
     "data": {
      "text/html": [
       "<div>\n",
       "<style scoped>\n",
       "    .dataframe tbody tr th:only-of-type {\n",
       "        vertical-align: middle;\n",
       "    }\n",
       "\n",
       "    .dataframe tbody tr th {\n",
       "        vertical-align: top;\n",
       "    }\n",
       "\n",
       "    .dataframe thead th {\n",
       "        text-align: right;\n",
       "    }\n",
       "</style>\n",
       "<table border=\"1\" class=\"dataframe\">\n",
       "  <thead>\n",
       "    <tr style=\"text-align: right;\">\n",
       "      <th></th>\n",
       "      <th>count</th>\n",
       "      <th>mean</th>\n",
       "      <th>std</th>\n",
       "      <th>min</th>\n",
       "      <th>25%</th>\n",
       "      <th>50%</th>\n",
       "      <th>75%</th>\n",
       "      <th>max</th>\n",
       "    </tr>\n",
       "    <tr>\n",
       "      <th>CUST_REC_CLUSTER</th>\n",
       "      <th></th>\n",
       "      <th></th>\n",
       "      <th></th>\n",
       "      <th></th>\n",
       "      <th></th>\n",
       "      <th></th>\n",
       "      <th></th>\n",
       "      <th></th>\n",
       "    </tr>\n",
       "  </thead>\n",
       "  <tbody>\n",
       "    <tr>\n",
       "      <th>0</th>\n",
       "      <td>6931.0</td>\n",
       "      <td>37.45650</td>\n",
       "      <td>13.784466</td>\n",
       "      <td>23.0</td>\n",
       "      <td>27.0</td>\n",
       "      <td>33.0</td>\n",
       "      <td>43.0</td>\n",
       "      <td>162.0</td>\n",
       "    </tr>\n",
       "    <tr>\n",
       "      <th>1</th>\n",
       "      <td>39369.0</td>\n",
       "      <td>7.61556</td>\n",
       "      <td>5.959254</td>\n",
       "      <td>0.0</td>\n",
       "      <td>3.0</td>\n",
       "      <td>6.0</td>\n",
       "      <td>12.0</td>\n",
       "      <td>22.0</td>\n",
       "    </tr>\n",
       "  </tbody>\n",
       "</table>\n",
       "</div>"
      ],
      "text/plain": [
       "                    count      mean        std   min   25%   50%   75%    max\n",
       "CUST_REC_CLUSTER                                                             \n",
       "0                  6931.0  37.45650  13.784466  23.0  27.0  33.0  43.0  162.0\n",
       "1                 39369.0   7.61556   5.959254   0.0   3.0   6.0  12.0   22.0"
      ]
     },
     "execution_count": 56,
     "metadata": {},
     "output_type": "execute_result"
    }
   ],
   "source": [
    "# Build 2 Recency Clusters and add it to dataframe \n",
    "kmeans = KMeans(n_clusters=2, n_init=20, random_state=1)\n",
    "#tempCustRec = tempCustRec.to_pandas()\n",
    "kmeans.fit(customer_last_order_timestamp_df1[['RECENCY_DAYS']])\n",
    "customer_last_order_timestamp_df1['CUST_REC_CLUSTER'] = kmeans.predict(customer_last_order_timestamp_df1[['RECENCY_DAYS']])\n",
    "\n",
    "\n",
    "#function for ordering cluster numbers\n",
    "\n",
    "def order_cluster(cluster_field_name, target_field_name,data,ascending):\n",
    "    new_cluster_field_name = 'new_' + cluster_field_name\n",
    "    data_new = data.groupby(cluster_field_name)[target_field_name].mean().reset_index()\n",
    "    data_new = data_new.sort_values(by=target_field_name,ascending=ascending).reset_index(drop=True)\n",
    "    data_new['index'] = data_new.index\n",
    "    data_final = pd.merge(data,data_new[[cluster_field_name,'index']], on=cluster_field_name)\n",
    "    data_final = data_final.drop([cluster_field_name],axis=1)\n",
    "    data_final = data_final.rename(columns={\"index\":cluster_field_name})\n",
    "\n",
    "    return data_final\n",
    "\n",
    "customer_last_order_timestamp_df1 = order_cluster('CUST_REC_CLUSTER', 'RECENCY_DAYS',customer_last_order_timestamp_df1,False)\n",
    "#see details of the clusters\n",
    "customer_last_order_timestamp_df1.groupby('CUST_REC_CLUSTER')['RECENCY_DAYS'].describe()\n"
   ]
  },
  {
   "cell_type": "code",
   "execution_count": 57,
   "metadata": {},
   "outputs": [
    {
     "data": {
      "text/html": [
       "<div>\n",
       "<style scoped>\n",
       "    .dataframe tbody tr th:only-of-type {\n",
       "        vertical-align: middle;\n",
       "    }\n",
       "\n",
       "    .dataframe tbody tr th {\n",
       "        vertical-align: top;\n",
       "    }\n",
       "\n",
       "    .dataframe thead th {\n",
       "        text-align: right;\n",
       "    }\n",
       "</style>\n",
       "<table border=\"1\" class=\"dataframe\">\n",
       "  <thead>\n",
       "    <tr style=\"text-align: right;\">\n",
       "      <th></th>\n",
       "      <th>CUSTOMER_ID</th>\n",
       "      <th>TOTAL_SPENT</th>\n",
       "      <th>YEARS_WITH_US</th>\n",
       "      <th>MONETARY_VALUE</th>\n",
       "      <th>CUSTOMER_FREQUENCY</th>\n",
       "      <th>TOTAL_ORDER</th>\n",
       "      <th>RECENCY_DAYS</th>\n",
       "      <th>MAX(DAYS_BETWEEN)</th>\n",
       "      <th>MIN(DAYS_BETWEEN)</th>\n",
       "      <th>AVG(DAYS_BETWEEN)</th>\n",
       "      <th>LAST_ORDER_TS</th>\n",
       "      <th>LAST_TRANS</th>\n",
       "      <th>DAYS_DF1</th>\n",
       "      <th>TRANS_DATEDIFF1</th>\n",
       "      <th>TRANS_DATEDIFF2</th>\n",
       "      <th>CUST_REC_CLUSTER</th>\n",
       "    </tr>\n",
       "  </thead>\n",
       "  <tbody>\n",
       "    <tr>\n",
       "      <th>0</th>\n",
       "      <td>79006</td>\n",
       "      <td>1655.75</td>\n",
       "      <td>2.736986</td>\n",
       "      <td>604.9537703152</td>\n",
       "      <td>17.537539</td>\n",
       "      <td>48</td>\n",
       "      <td>8</td>\n",
       "      <td>124</td>\n",
       "      <td>2</td>\n",
       "      <td>21.085106</td>\n",
       "      <td>2022-10-10 20:51:36</td>\n",
       "      <td>2022-10-18 22:56:45</td>\n",
       "      <td>8</td>\n",
       "      <td>55</td>\n",
       "      <td>2</td>\n",
       "      <td>1</td>\n",
       "    </tr>\n",
       "    <tr>\n",
       "      <th>1</th>\n",
       "      <td>181289</td>\n",
       "      <td>1782.75</td>\n",
       "      <td>2.687671</td>\n",
       "      <td>663.3066323966</td>\n",
       "      <td>17.859329</td>\n",
       "      <td>48</td>\n",
       "      <td>8</td>\n",
       "      <td>96</td>\n",
       "      <td>1</td>\n",
       "      <td>20.702128</td>\n",
       "      <td>2022-10-10 20:24:52</td>\n",
       "      <td>2022-10-18 22:56:45</td>\n",
       "      <td>8</td>\n",
       "      <td>26</td>\n",
       "      <td>7</td>\n",
       "      <td>1</td>\n",
       "    </tr>\n",
       "    <tr>\n",
       "      <th>2</th>\n",
       "      <td>156759</td>\n",
       "      <td>1810.50</td>\n",
       "      <td>2.600000</td>\n",
       "      <td>696.3461538462</td>\n",
       "      <td>20.000000</td>\n",
       "      <td>52</td>\n",
       "      <td>5</td>\n",
       "      <td>104</td>\n",
       "      <td>1</td>\n",
       "      <td>18.509804</td>\n",
       "      <td>2022-10-13 12:29:48</td>\n",
       "      <td>2022-10-18 22:56:45</td>\n",
       "      <td>5</td>\n",
       "      <td>6</td>\n",
       "      <td>4</td>\n",
       "      <td>1</td>\n",
       "    </tr>\n",
       "    <tr>\n",
       "      <th>3</th>\n",
       "      <td>168254</td>\n",
       "      <td>2088.75</td>\n",
       "      <td>2.756164</td>\n",
       "      <td>757.8467754459</td>\n",
       "      <td>19.592448</td>\n",
       "      <td>54</td>\n",
       "      <td>1</td>\n",
       "      <td>123</td>\n",
       "      <td>1</td>\n",
       "      <td>18.962264</td>\n",
       "      <td>2022-10-17 16:08:52</td>\n",
       "      <td>2022-10-18 22:56:45</td>\n",
       "      <td>1</td>\n",
       "      <td>21</td>\n",
       "      <td>10</td>\n",
       "      <td>1</td>\n",
       "    </tr>\n",
       "    <tr>\n",
       "      <th>4</th>\n",
       "      <td>190449</td>\n",
       "      <td>1626.25</td>\n",
       "      <td>2.504110</td>\n",
       "      <td>649.4323332441</td>\n",
       "      <td>20.765861</td>\n",
       "      <td>52</td>\n",
       "      <td>11</td>\n",
       "      <td>123</td>\n",
       "      <td>1</td>\n",
       "      <td>17.705882</td>\n",
       "      <td>2022-10-07 10:57:18</td>\n",
       "      <td>2022-10-18 22:56:45</td>\n",
       "      <td>11</td>\n",
       "      <td>6</td>\n",
       "      <td>8</td>\n",
       "      <td>1</td>\n",
       "    </tr>\n",
       "  </tbody>\n",
       "</table>\n",
       "</div>"
      ],
      "text/plain": [
       "   CUSTOMER_ID  TOTAL_SPENT  YEARS_WITH_US  MONETARY_VALUE CUSTOMER_FREQUENCY  \\\n",
       "0        79006      1655.75       2.736986  604.9537703152          17.537539   \n",
       "1       181289      1782.75       2.687671  663.3066323966          17.859329   \n",
       "2       156759      1810.50       2.600000  696.3461538462          20.000000   \n",
       "3       168254      2088.75       2.756164  757.8467754459          19.592448   \n",
       "4       190449      1626.25       2.504110  649.4323332441          20.765861   \n",
       "\n",
       "   TOTAL_ORDER  RECENCY_DAYS  MAX(DAYS_BETWEEN)  MIN(DAYS_BETWEEN)  \\\n",
       "0           48             8                124                  2   \n",
       "1           48             8                 96                  1   \n",
       "2           52             5                104                  1   \n",
       "3           54             1                123                  1   \n",
       "4           52            11                123                  1   \n",
       "\n",
       "  AVG(DAYS_BETWEEN)       LAST_ORDER_TS          LAST_TRANS  DAYS_DF1  \\\n",
       "0         21.085106 2022-10-10 20:51:36 2022-10-18 22:56:45         8   \n",
       "1         20.702128 2022-10-10 20:24:52 2022-10-18 22:56:45         8   \n",
       "2         18.509804 2022-10-13 12:29:48 2022-10-18 22:56:45         5   \n",
       "3         18.962264 2022-10-17 16:08:52 2022-10-18 22:56:45         1   \n",
       "4         17.705882 2022-10-07 10:57:18 2022-10-18 22:56:45        11   \n",
       "\n",
       "   TRANS_DATEDIFF1  TRANS_DATEDIFF2  CUST_REC_CLUSTER  \n",
       "0               55                2                 1  \n",
       "1               26                7                 1  \n",
       "2                6                4                 1  \n",
       "3               21               10                 1  \n",
       "4                6                8                 1  "
      ]
     },
     "execution_count": 57,
     "metadata": {},
     "output_type": "execute_result"
    }
   ],
   "source": [
    "customer_last_order_timestamp_df1.head()"
   ]
  },
  {
   "attachments": {},
   "cell_type": "markdown",
   "metadata": {},
   "source": [
    "##### Frequency"
   ]
  },
  {
   "cell_type": "code",
   "execution_count": 58,
   "metadata": {},
   "outputs": [
    {
     "data": {
      "image/png": "[encoded data removed]",
      "text/plain": [
       "<Figure size 640x480 with 1 Axes>"
      ]
     },
     "metadata": {},
     "output_type": "display_data"
    }
   ],
   "source": [
    "# K-Means Clustering\n",
    "#k-means\n",
    "sse=[]\n",
    "scaler = StandardScaler() \n",
    "recency = customer_last_order_timestamp_df1[['CUSTOMER_FREQUENCY']].to_numpy()\n",
    "X_scaled = scaler.fit_transform(recency) \n",
    "\n",
    "for k in range(1, 11):\n",
    "    kmeans = KMeans(n_clusters=k, n_init=20, random_state=1)\n",
    "    kmeans.fit(X_scaled)\n",
    "    sse.append(kmeans.inertia_)\n",
    "\n",
    "plt.plot(range(1, 11), sse, 'b-*')\n",
    "plt.title('Elbow Method (REC)')\n",
    "plt.xlabel('Number of clusters')\n",
    "plt.ylabel('SSE')\n",
    "plt.show()"
   ]
  },
  {
   "cell_type": "code",
   "execution_count": 59,
   "metadata": {},
   "outputs": [
    {
     "data": {
      "text/html": [
       "<div>\n",
       "<style scoped>\n",
       "    .dataframe tbody tr th:only-of-type {\n",
       "        vertical-align: middle;\n",
       "    }\n",
       "\n",
       "    .dataframe tbody tr th {\n",
       "        vertical-align: top;\n",
       "    }\n",
       "\n",
       "    .dataframe thead th {\n",
       "        text-align: right;\n",
       "    }\n",
       "</style>\n",
       "<table border=\"1\" class=\"dataframe\">\n",
       "  <thead>\n",
       "    <tr style=\"text-align: right;\">\n",
       "      <th></th>\n",
       "      <th>count</th>\n",
       "      <th>unique</th>\n",
       "      <th>top</th>\n",
       "      <th>freq</th>\n",
       "    </tr>\n",
       "    <tr>\n",
       "      <th>CUST_FREQ_CLUSTER</th>\n",
       "      <th></th>\n",
       "      <th></th>\n",
       "      <th></th>\n",
       "      <th></th>\n",
       "    </tr>\n",
       "  </thead>\n",
       "  <tbody>\n",
       "    <tr>\n",
       "      <th>0</th>\n",
       "      <td>10646</td>\n",
       "      <td>5420</td>\n",
       "      <td>10.861394</td>\n",
       "      <td>11</td>\n",
       "    </tr>\n",
       "    <tr>\n",
       "      <th>1</th>\n",
       "      <td>19819</td>\n",
       "      <td>5088</td>\n",
       "      <td>18.249997</td>\n",
       "      <td>58</td>\n",
       "    </tr>\n",
       "    <tr>\n",
       "      <th>2</th>\n",
       "      <td>15835</td>\n",
       "      <td>4356</td>\n",
       "      <td>21.470585</td>\n",
       "      <td>41</td>\n",
       "    </tr>\n",
       "  </tbody>\n",
       "</table>\n",
       "</div>"
      ],
      "text/plain": [
       "                   count unique        top freq\n",
       "CUST_FREQ_CLUSTER                              \n",
       "0                  10646   5420  10.861394   11\n",
       "1                  19819   5088  18.249997   58\n",
       "2                  15835   4356  21.470585   41"
      ]
     },
     "execution_count": 59,
     "metadata": {},
     "output_type": "execute_result"
    }
   ],
   "source": [
    "#build 3 clusters for frequency and add it to dataframe\n",
    "\n",
    "kmeans = KMeans(n_clusters=3, n_init=20, random_state=1)\n",
    "kmeans.fit(customer_last_order_timestamp_df1[['CUSTOMER_FREQUENCY']])\n",
    "customer_last_order_timestamp_df1['CUST_FREQ_CLUSTER'] = kmeans.predict(customer_last_order_timestamp_df1[['CUSTOMER_FREQUENCY']])\n",
    "\n",
    "# reuse function for ordering cluster numbers\n",
    "customer_last_order_timestamp_df1 = order_cluster('CUST_FREQ_CLUSTER', 'CUSTOMER_FREQUENCY',customer_last_order_timestamp_df1,True)\n",
    "#see details of the clusters\n",
    "customer_last_order_timestamp_df1.groupby('CUST_FREQ_CLUSTER')['CUSTOMER_FREQUENCY'].describe()"
   ]
  },
  {
   "cell_type": "code",
   "execution_count": 60,
   "metadata": {},
   "outputs": [
    {
     "data": {
      "text/html": [
       "<div>\n",
       "<style scoped>\n",
       "    .dataframe tbody tr th:only-of-type {\n",
       "        vertical-align: middle;\n",
       "    }\n",
       "\n",
       "    .dataframe tbody tr th {\n",
       "        vertical-align: top;\n",
       "    }\n",
       "\n",
       "    .dataframe thead th {\n",
       "        text-align: right;\n",
       "    }\n",
       "</style>\n",
       "<table border=\"1\" class=\"dataframe\">\n",
       "  <thead>\n",
       "    <tr style=\"text-align: right;\">\n",
       "      <th></th>\n",
       "      <th>CUSTOMER_ID</th>\n",
       "      <th>TOTAL_SPENT</th>\n",
       "      <th>YEARS_WITH_US</th>\n",
       "      <th>MONETARY_VALUE</th>\n",
       "      <th>CUSTOMER_FREQUENCY</th>\n",
       "      <th>TOTAL_ORDER</th>\n",
       "      <th>RECENCY_DAYS</th>\n",
       "      <th>MAX(DAYS_BETWEEN)</th>\n",
       "      <th>MIN(DAYS_BETWEEN)</th>\n",
       "      <th>AVG(DAYS_BETWEEN)</th>\n",
       "      <th>LAST_ORDER_TS</th>\n",
       "      <th>LAST_TRANS</th>\n",
       "      <th>DAYS_DF1</th>\n",
       "      <th>TRANS_DATEDIFF1</th>\n",
       "      <th>TRANS_DATEDIFF2</th>\n",
       "      <th>CUST_REC_CLUSTER</th>\n",
       "      <th>CUST_FREQ_CLUSTER</th>\n",
       "    </tr>\n",
       "  </thead>\n",
       "  <tbody>\n",
       "    <tr>\n",
       "      <th>0</th>\n",
       "      <td>79006</td>\n",
       "      <td>1655.75</td>\n",
       "      <td>2.736986</td>\n",
       "      <td>604.9537703152</td>\n",
       "      <td>17.537539</td>\n",
       "      <td>48</td>\n",
       "      <td>8</td>\n",
       "      <td>124</td>\n",
       "      <td>2</td>\n",
       "      <td>21.085106</td>\n",
       "      <td>2022-10-10 20:51:36</td>\n",
       "      <td>2022-10-18 22:56:45</td>\n",
       "      <td>8</td>\n",
       "      <td>55</td>\n",
       "      <td>2</td>\n",
       "      <td>1</td>\n",
       "      <td>1</td>\n",
       "    </tr>\n",
       "    <tr>\n",
       "      <th>1</th>\n",
       "      <td>181289</td>\n",
       "      <td>1782.75</td>\n",
       "      <td>2.687671</td>\n",
       "      <td>663.3066323966</td>\n",
       "      <td>17.859329</td>\n",
       "      <td>48</td>\n",
       "      <td>8</td>\n",
       "      <td>96</td>\n",
       "      <td>1</td>\n",
       "      <td>20.702128</td>\n",
       "      <td>2022-10-10 20:24:52</td>\n",
       "      <td>2022-10-18 22:56:45</td>\n",
       "      <td>8</td>\n",
       "      <td>26</td>\n",
       "      <td>7</td>\n",
       "      <td>1</td>\n",
       "      <td>1</td>\n",
       "    </tr>\n",
       "    <tr>\n",
       "      <th>2</th>\n",
       "      <td>156759</td>\n",
       "      <td>1810.50</td>\n",
       "      <td>2.600000</td>\n",
       "      <td>696.3461538462</td>\n",
       "      <td>20.000000</td>\n",
       "      <td>52</td>\n",
       "      <td>5</td>\n",
       "      <td>104</td>\n",
       "      <td>1</td>\n",
       "      <td>18.509804</td>\n",
       "      <td>2022-10-13 12:29:48</td>\n",
       "      <td>2022-10-18 22:56:45</td>\n",
       "      <td>5</td>\n",
       "      <td>6</td>\n",
       "      <td>4</td>\n",
       "      <td>1</td>\n",
       "      <td>1</td>\n",
       "    </tr>\n",
       "    <tr>\n",
       "      <th>3</th>\n",
       "      <td>168254</td>\n",
       "      <td>2088.75</td>\n",
       "      <td>2.756164</td>\n",
       "      <td>757.8467754459</td>\n",
       "      <td>19.592448</td>\n",
       "      <td>54</td>\n",
       "      <td>1</td>\n",
       "      <td>123</td>\n",
       "      <td>1</td>\n",
       "      <td>18.962264</td>\n",
       "      <td>2022-10-17 16:08:52</td>\n",
       "      <td>2022-10-18 22:56:45</td>\n",
       "      <td>1</td>\n",
       "      <td>21</td>\n",
       "      <td>10</td>\n",
       "      <td>1</td>\n",
       "      <td>1</td>\n",
       "    </tr>\n",
       "    <tr>\n",
       "      <th>4</th>\n",
       "      <td>199200</td>\n",
       "      <td>1783.25</td>\n",
       "      <td>2.794521</td>\n",
       "      <td>638.1236712839</td>\n",
       "      <td>16.102939</td>\n",
       "      <td>45</td>\n",
       "      <td>5</td>\n",
       "      <td>137</td>\n",
       "      <td>1</td>\n",
       "      <td>23.068182</td>\n",
       "      <td>2022-10-13 12:58:53</td>\n",
       "      <td>2022-10-18 22:56:45</td>\n",
       "      <td>5</td>\n",
       "      <td>9</td>\n",
       "      <td>22</td>\n",
       "      <td>1</td>\n",
       "      <td>1</td>\n",
       "    </tr>\n",
       "  </tbody>\n",
       "</table>\n",
       "</div>"
      ],
      "text/plain": [
       "   CUSTOMER_ID  TOTAL_SPENT  YEARS_WITH_US  MONETARY_VALUE CUSTOMER_FREQUENCY  \\\n",
       "0        79006      1655.75       2.736986  604.9537703152          17.537539   \n",
       "1       181289      1782.75       2.687671  663.3066323966          17.859329   \n",
       "2       156759      1810.50       2.600000  696.3461538462          20.000000   \n",
       "3       168254      2088.75       2.756164  757.8467754459          19.592448   \n",
       "4       199200      1783.25       2.794521  638.1236712839          16.102939   \n",
       "\n",
       "   TOTAL_ORDER  RECENCY_DAYS  MAX(DAYS_BETWEEN)  MIN(DAYS_BETWEEN)  \\\n",
       "0           48             8                124                  2   \n",
       "1           48             8                 96                  1   \n",
       "2           52             5                104                  1   \n",
       "3           54             1                123                  1   \n",
       "4           45             5                137                  1   \n",
       "\n",
       "  AVG(DAYS_BETWEEN)       LAST_ORDER_TS          LAST_TRANS  DAYS_DF1  \\\n",
       "0         21.085106 2022-10-10 20:51:36 2022-10-18 22:56:45         8   \n",
       "1         20.702128 2022-10-10 20:24:52 2022-10-18 22:56:45         8   \n",
       "2         18.509804 2022-10-13 12:29:48 2022-10-18 22:56:45         5   \n",
       "3         18.962264 2022-10-17 16:08:52 2022-10-18 22:56:45         1   \n",
       "4         23.068182 2022-10-13 12:58:53 2022-10-18 22:56:45         5   \n",
       "\n",
       "   TRANS_DATEDIFF1  TRANS_DATEDIFF2  CUST_REC_CLUSTER  CUST_FREQ_CLUSTER  \n",
       "0               55                2                 1                  1  \n",
       "1               26                7                 1                  1  \n",
       "2                6                4                 1                  1  \n",
       "3               21               10                 1                  1  \n",
       "4                9               22                 1                  1  "
      ]
     },
     "execution_count": 60,
     "metadata": {},
     "output_type": "execute_result"
    }
   ],
   "source": [
    "customer_last_order_timestamp_df1.head()"
   ]
  },
  {
   "attachments": {},
   "cell_type": "markdown",
   "metadata": {},
   "source": [
    "##### Monetary"
   ]
  },
  {
   "cell_type": "code",
   "execution_count": 61,
   "metadata": {},
   "outputs": [
    {
     "data": {
      "image/png": "[encoded data removed]",
      "text/plain": [
       "<Figure size 640x480 with 1 Axes>"
      ]
     },
     "metadata": {},
     "output_type": "display_data"
    }
   ],
   "source": [
    "#k-means\n",
    "sse=[]\n",
    "scaler = StandardScaler() \n",
    "monetary = customer_last_order_timestamp_df1[['MONETARY_VALUE']]\n",
    "X_scaled = scaler.fit_transform(monetary) \n",
    "\n",
    "for k in range(1, 11):\n",
    "    kmeans = KMeans(n_clusters=k, n_init=20, random_state=1)\n",
    "    kmeans.fit(X_scaled)\n",
    "    sse.append(kmeans.inertia_)\n",
    "\n",
    "plt.plot(range(1, 11), sse, 'b-*')\n",
    "plt.title('Elbow Method (MONETARY)')\n",
    "plt.xlabel('Number of clusters')\n",
    "plt.ylabel('SSE')\n",
    "plt.show()"
   ]
  },
  {
   "cell_type": "code",
   "execution_count": 62,
   "metadata": {},
   "outputs": [
    {
     "data": {
      "text/html": [
       "<div>\n",
       "<style scoped>\n",
       "    .dataframe tbody tr th:only-of-type {\n",
       "        vertical-align: middle;\n",
       "    }\n",
       "\n",
       "    .dataframe tbody tr th {\n",
       "        vertical-align: top;\n",
       "    }\n",
       "\n",
       "    .dataframe thead th {\n",
       "        text-align: right;\n",
       "    }\n",
       "</style>\n",
       "<table border=\"1\" class=\"dataframe\">\n",
       "  <thead>\n",
       "    <tr style=\"text-align: right;\">\n",
       "      <th></th>\n",
       "      <th>count</th>\n",
       "      <th>unique</th>\n",
       "      <th>top</th>\n",
       "      <th>freq</th>\n",
       "    </tr>\n",
       "    <tr>\n",
       "      <th>CUST_MONETARY_CLUSTER</th>\n",
       "      <th></th>\n",
       "      <th></th>\n",
       "      <th></th>\n",
       "      <th></th>\n",
       "    </tr>\n",
       "  </thead>\n",
       "  <tbody>\n",
       "    <tr>\n",
       "      <th>0</th>\n",
       "      <td>16793</td>\n",
       "      <td>16635</td>\n",
       "      <td>604.9537703152</td>\n",
       "      <td>3</td>\n",
       "    </tr>\n",
       "    <tr>\n",
       "      <th>1</th>\n",
       "      <td>29507</td>\n",
       "      <td>28858</td>\n",
       "      <td>753.0147560685</td>\n",
       "      <td>3</td>\n",
       "    </tr>\n",
       "  </tbody>\n",
       "</table>\n",
       "</div>"
      ],
      "text/plain": [
       "                       count unique             top freq\n",
       "CUST_MONETARY_CLUSTER                                   \n",
       "0                      16793  16635  604.9537703152    3\n",
       "1                      29507  28858  753.0147560685    3"
      ]
     },
     "execution_count": 62,
     "metadata": {},
     "output_type": "execute_result"
    }
   ],
   "source": [
    "#build 2 clusters for monetary and add it to dataframe\n",
    "\n",
    "kmeans = KMeans(n_clusters=2, n_init=20, random_state=1)\n",
    "kmeans.fit(customer_last_order_timestamp_df1[['MONETARY_VALUE']])\n",
    "customer_last_order_timestamp_df1['CUST_MONETARY_CLUSTER'] = kmeans.predict(customer_last_order_timestamp_df1[['MONETARY_VALUE']])\n",
    "\n",
    "\n",
    "# reuse function for ordering cluster numbers\n",
    "customer_last_order_timestamp_df1 = order_cluster('CUST_MONETARY_CLUSTER', 'MONETARY_VALUE',customer_last_order_timestamp_df1,True)\n",
    "customer_last_order_timestamp_df1.groupby(\"CUST_MONETARY_CLUSTER\")[\"MONETARY_VALUE\"].describe()"
   ]
  },
  {
   "cell_type": "code",
   "execution_count": 63,
   "metadata": {},
   "outputs": [
    {
     "data": {
      "text/html": [
       "<div>\n",
       "<style scoped>\n",
       "    .dataframe tbody tr th:only-of-type {\n",
       "        vertical-align: middle;\n",
       "    }\n",
       "\n",
       "    .dataframe tbody tr th {\n",
       "        vertical-align: top;\n",
       "    }\n",
       "\n",
       "    .dataframe thead th {\n",
       "        text-align: right;\n",
       "    }\n",
       "</style>\n",
       "<table border=\"1\" class=\"dataframe\">\n",
       "  <thead>\n",
       "    <tr style=\"text-align: right;\">\n",
       "      <th></th>\n",
       "      <th>CUSTOMER_ID</th>\n",
       "      <th>TOTAL_SPENT</th>\n",
       "      <th>YEARS_WITH_US</th>\n",
       "      <th>MONETARY_VALUE</th>\n",
       "      <th>CUSTOMER_FREQUENCY</th>\n",
       "      <th>TOTAL_ORDER</th>\n",
       "      <th>RECENCY_DAYS</th>\n",
       "      <th>MAX(DAYS_BETWEEN)</th>\n",
       "      <th>MIN(DAYS_BETWEEN)</th>\n",
       "      <th>AVG(DAYS_BETWEEN)</th>\n",
       "      <th>LAST_ORDER_TS</th>\n",
       "      <th>LAST_TRANS</th>\n",
       "      <th>DAYS_DF1</th>\n",
       "      <th>TRANS_DATEDIFF1</th>\n",
       "      <th>TRANS_DATEDIFF2</th>\n",
       "      <th>CUST_REC_CLUSTER</th>\n",
       "      <th>CUST_FREQ_CLUSTER</th>\n",
       "      <th>CUST_MONETARY_CLUSTER</th>\n",
       "    </tr>\n",
       "  </thead>\n",
       "  <tbody>\n",
       "    <tr>\n",
       "      <th>0</th>\n",
       "      <td>79006</td>\n",
       "      <td>1655.75</td>\n",
       "      <td>2.736986</td>\n",
       "      <td>604.9537703152</td>\n",
       "      <td>17.537539</td>\n",
       "      <td>48</td>\n",
       "      <td>8</td>\n",
       "      <td>124</td>\n",
       "      <td>2</td>\n",
       "      <td>21.085106</td>\n",
       "      <td>2022-10-10 20:51:36</td>\n",
       "      <td>2022-10-18 22:56:45</td>\n",
       "      <td>8</td>\n",
       "      <td>55</td>\n",
       "      <td>2</td>\n",
       "      <td>1</td>\n",
       "      <td>1</td>\n",
       "      <td>0</td>\n",
       "    </tr>\n",
       "    <tr>\n",
       "      <th>1</th>\n",
       "      <td>199200</td>\n",
       "      <td>1783.25</td>\n",
       "      <td>2.794521</td>\n",
       "      <td>638.1236712839</td>\n",
       "      <td>16.102939</td>\n",
       "      <td>45</td>\n",
       "      <td>5</td>\n",
       "      <td>137</td>\n",
       "      <td>1</td>\n",
       "      <td>23.068182</td>\n",
       "      <td>2022-10-13 12:58:53</td>\n",
       "      <td>2022-10-18 22:56:45</td>\n",
       "      <td>5</td>\n",
       "      <td>9</td>\n",
       "      <td>22</td>\n",
       "      <td>1</td>\n",
       "      <td>1</td>\n",
       "      <td>0</td>\n",
       "    </tr>\n",
       "    <tr>\n",
       "      <th>2</th>\n",
       "      <td>82120</td>\n",
       "      <td>1741.25</td>\n",
       "      <td>2.783562</td>\n",
       "      <td>625.5474101170</td>\n",
       "      <td>19.758856</td>\n",
       "      <td>55</td>\n",
       "      <td>2</td>\n",
       "      <td>71</td>\n",
       "      <td>1</td>\n",
       "      <td>18.777778</td>\n",
       "      <td>2022-10-16 18:53:25</td>\n",
       "      <td>2022-10-18 22:56:45</td>\n",
       "      <td>2</td>\n",
       "      <td>7</td>\n",
       "      <td>8</td>\n",
       "      <td>1</td>\n",
       "      <td>1</td>\n",
       "      <td>0</td>\n",
       "    </tr>\n",
       "    <tr>\n",
       "      <th>3</th>\n",
       "      <td>143567</td>\n",
       "      <td>1496.75</td>\n",
       "      <td>2.698630</td>\n",
       "      <td>554.6332768849</td>\n",
       "      <td>17.786803</td>\n",
       "      <td>48</td>\n",
       "      <td>3</td>\n",
       "      <td>99</td>\n",
       "      <td>1</td>\n",
       "      <td>20.893617</td>\n",
       "      <td>2022-10-15 12:24:20</td>\n",
       "      <td>2022-10-18 22:56:45</td>\n",
       "      <td>3</td>\n",
       "      <td>11</td>\n",
       "      <td>11</td>\n",
       "      <td>1</td>\n",
       "      <td>1</td>\n",
       "      <td>0</td>\n",
       "    </tr>\n",
       "    <tr>\n",
       "      <th>4</th>\n",
       "      <td>55685</td>\n",
       "      <td>1585.50</td>\n",
       "      <td>2.780822</td>\n",
       "      <td>570.1551555619</td>\n",
       "      <td>16.901477</td>\n",
       "      <td>47</td>\n",
       "      <td>8</td>\n",
       "      <td>104</td>\n",
       "      <td>1</td>\n",
       "      <td>21.891304</td>\n",
       "      <td>2022-10-10 20:36:37</td>\n",
       "      <td>2022-10-18 22:56:45</td>\n",
       "      <td>8</td>\n",
       "      <td>1</td>\n",
       "      <td>7</td>\n",
       "      <td>1</td>\n",
       "      <td>1</td>\n",
       "      <td>0</td>\n",
       "    </tr>\n",
       "  </tbody>\n",
       "</table>\n",
       "</div>"
      ],
      "text/plain": [
       "   CUSTOMER_ID  TOTAL_SPENT  YEARS_WITH_US  MONETARY_VALUE CUSTOMER_FREQUENCY  \\\n",
       "0        79006      1655.75       2.736986  604.9537703152          17.537539   \n",
       "1       199200      1783.25       2.794521  638.1236712839          16.102939   \n",
       "2        82120      1741.25       2.783562  625.5474101170          19.758856   \n",
       "3       143567      1496.75       2.698630  554.6332768849          17.786803   \n",
       "4        55685      1585.50       2.780822  570.1551555619          16.901477   \n",
       "\n",
       "   TOTAL_ORDER  RECENCY_DAYS  MAX(DAYS_BETWEEN)  MIN(DAYS_BETWEEN)  \\\n",
       "0           48             8                124                  2   \n",
       "1           45             5                137                  1   \n",
       "2           55             2                 71                  1   \n",
       "3           48             3                 99                  1   \n",
       "4           47             8                104                  1   \n",
       "\n",
       "  AVG(DAYS_BETWEEN)       LAST_ORDER_TS          LAST_TRANS  DAYS_DF1  \\\n",
       "0         21.085106 2022-10-10 20:51:36 2022-10-18 22:56:45         8   \n",
       "1         23.068182 2022-10-13 12:58:53 2022-10-18 22:56:45         5   \n",
       "2         18.777778 2022-10-16 18:53:25 2022-10-18 22:56:45         2   \n",
       "3         20.893617 2022-10-15 12:24:20 2022-10-18 22:56:45         3   \n",
       "4         21.891304 2022-10-10 20:36:37 2022-10-18 22:56:45         8   \n",
       "\n",
       "   TRANS_DATEDIFF1  TRANS_DATEDIFF2  CUST_REC_CLUSTER  CUST_FREQ_CLUSTER  \\\n",
       "0               55                2                 1                  1   \n",
       "1                9               22                 1                  1   \n",
       "2                7                8                 1                  1   \n",
       "3               11               11                 1                  1   \n",
       "4                1                7                 1                  1   \n",
       "\n",
       "   CUST_MONETARY_CLUSTER  \n",
       "0                      0  \n",
       "1                      0  \n",
       "2                      0  \n",
       "3                      0  \n",
       "4                      0  "
      ]
     },
     "execution_count": 63,
     "metadata": {},
     "output_type": "execute_result"
    }
   ],
   "source": [
    "customer_last_order_timestamp_df1.head()"
   ]
  },
  {
   "attachments": {},
   "cell_type": "markdown",
   "metadata": {},
   "source": [
    "##### Calculating overall score of customer based on their RFM"
   ]
  },
  {
   "cell_type": "code",
   "execution_count": 64,
   "metadata": {},
   "outputs": [
    {
     "data": {
      "text/html": [
       "<div>\n",
       "<style scoped>\n",
       "    .dataframe tbody tr th:only-of-type {\n",
       "        vertical-align: middle;\n",
       "    }\n",
       "\n",
       "    .dataframe tbody tr th {\n",
       "        vertical-align: top;\n",
       "    }\n",
       "\n",
       "    .dataframe thead th {\n",
       "        text-align: right;\n",
       "    }\n",
       "</style>\n",
       "<table border=\"1\" class=\"dataframe\">\n",
       "  <thead>\n",
       "    <tr style=\"text-align: right;\">\n",
       "      <th></th>\n",
       "      <th>RECENCY_DAYS</th>\n",
       "      <th>CUSTOMER_FREQUENCY</th>\n",
       "      <th>MONETARY_VALUE</th>\n",
       "    </tr>\n",
       "    <tr>\n",
       "      <th>OVERALL_SCORE</th>\n",
       "      <th></th>\n",
       "      <th></th>\n",
       "      <th></th>\n",
       "    </tr>\n",
       "  </thead>\n",
       "  <tbody>\n",
       "    <tr>\n",
       "      <th>0</th>\n",
       "      <td>162</td>\n",
       "      <td>14.910129</td>\n",
       "      <td>653.5400519390</td>\n",
       "    </tr>\n",
       "    <tr>\n",
       "      <th>1</th>\n",
       "      <td>115</td>\n",
       "      <td>20.137930</td>\n",
       "      <td>776.9808824895</td>\n",
       "    </tr>\n",
       "    <tr>\n",
       "      <th>2</th>\n",
       "      <td>98</td>\n",
       "      <td>22.946956</td>\n",
       "      <td>1006.9083679241</td>\n",
       "    </tr>\n",
       "    <tr>\n",
       "      <th>3</th>\n",
       "      <td>86</td>\n",
       "      <td>28.879117</td>\n",
       "      <td>1250.0618261625</td>\n",
       "    </tr>\n",
       "    <tr>\n",
       "      <th>4</th>\n",
       "      <td>22</td>\n",
       "      <td>31.941990</td>\n",
       "      <td>1348.0859629726</td>\n",
       "    </tr>\n",
       "  </tbody>\n",
       "</table>\n",
       "</div>"
      ],
      "text/plain": [
       "               RECENCY_DAYS CUSTOMER_FREQUENCY   MONETARY_VALUE\n",
       "OVERALL_SCORE                                                  \n",
       "0                       162          14.910129   653.5400519390\n",
       "1                       115          20.137930   776.9808824895\n",
       "2                        98          22.946956  1006.9083679241\n",
       "3                        86          28.879117  1250.0618261625\n",
       "4                        22          31.941990  1348.0859629726"
      ]
     },
     "execution_count": 64,
     "metadata": {},
     "output_type": "execute_result"
    }
   ],
   "source": [
    "# Calculate overall score of customer based on their RFM\n",
    "customer_last_order_timestamp_df1['OVERALL_SCORE'] = customer_last_order_timestamp_df1['CUST_REC_CLUSTER'] + customer_last_order_timestamp_df1['CUST_FREQ_CLUSTER'] + customer_last_order_timestamp_df1['CUST_MONETARY_CLUSTER']\n",
    "\n",
    "# Evaluation\n",
    "customer_last_order_timestamp_df1.groupby('OVERALL_SCORE')[['RECENCY_DAYS','CUSTOMER_FREQUENCY','MONETARY_VALUE']].max()"
   ]
  },
  {
   "cell_type": "code",
   "execution_count": 65,
   "metadata": {},
   "outputs": [
    {
     "data": {
      "text/html": [
       "<div>\n",
       "<style scoped>\n",
       "    .dataframe tbody tr th:only-of-type {\n",
       "        vertical-align: middle;\n",
       "    }\n",
       "\n",
       "    .dataframe tbody tr th {\n",
       "        vertical-align: top;\n",
       "    }\n",
       "\n",
       "    .dataframe thead th {\n",
       "        text-align: right;\n",
       "    }\n",
       "</style>\n",
       "<table border=\"1\" class=\"dataframe\">\n",
       "  <thead>\n",
       "    <tr style=\"text-align: right;\">\n",
       "      <th></th>\n",
       "      <th>CUSTOMER_ID</th>\n",
       "      <th>TOTAL_SPENT</th>\n",
       "      <th>YEARS_WITH_US</th>\n",
       "      <th>MONETARY_VALUE</th>\n",
       "      <th>CUSTOMER_FREQUENCY</th>\n",
       "      <th>TOTAL_ORDER</th>\n",
       "      <th>RECENCY_DAYS</th>\n",
       "      <th>MAX(DAYS_BETWEEN)</th>\n",
       "      <th>MIN(DAYS_BETWEEN)</th>\n",
       "      <th>AVG(DAYS_BETWEEN)</th>\n",
       "      <th>LAST_ORDER_TS</th>\n",
       "      <th>LAST_TRANS</th>\n",
       "      <th>DAYS_DF1</th>\n",
       "      <th>TRANS_DATEDIFF1</th>\n",
       "      <th>TRANS_DATEDIFF2</th>\n",
       "      <th>CUST_REC_CLUSTER</th>\n",
       "      <th>CUST_FREQ_CLUSTER</th>\n",
       "      <th>CUST_MONETARY_CLUSTER</th>\n",
       "      <th>OVERALL_SCORE</th>\n",
       "    </tr>\n",
       "  </thead>\n",
       "  <tbody>\n",
       "    <tr>\n",
       "      <th>0</th>\n",
       "      <td>79006</td>\n",
       "      <td>1655.75</td>\n",
       "      <td>2.736986</td>\n",
       "      <td>604.9537703152</td>\n",
       "      <td>17.537539</td>\n",
       "      <td>48</td>\n",
       "      <td>8</td>\n",
       "      <td>124</td>\n",
       "      <td>2</td>\n",
       "      <td>21.085106</td>\n",
       "      <td>2022-10-10 20:51:36</td>\n",
       "      <td>2022-10-18 22:56:45</td>\n",
       "      <td>8</td>\n",
       "      <td>55</td>\n",
       "      <td>2</td>\n",
       "      <td>1</td>\n",
       "      <td>1</td>\n",
       "      <td>0</td>\n",
       "      <td>2</td>\n",
       "    </tr>\n",
       "    <tr>\n",
       "      <th>1</th>\n",
       "      <td>199200</td>\n",
       "      <td>1783.25</td>\n",
       "      <td>2.794521</td>\n",
       "      <td>638.1236712839</td>\n",
       "      <td>16.102939</td>\n",
       "      <td>45</td>\n",
       "      <td>5</td>\n",
       "      <td>137</td>\n",
       "      <td>1</td>\n",
       "      <td>23.068182</td>\n",
       "      <td>2022-10-13 12:58:53</td>\n",
       "      <td>2022-10-18 22:56:45</td>\n",
       "      <td>5</td>\n",
       "      <td>9</td>\n",
       "      <td>22</td>\n",
       "      <td>1</td>\n",
       "      <td>1</td>\n",
       "      <td>0</td>\n",
       "      <td>2</td>\n",
       "    </tr>\n",
       "    <tr>\n",
       "      <th>2</th>\n",
       "      <td>82120</td>\n",
       "      <td>1741.25</td>\n",
       "      <td>2.783562</td>\n",
       "      <td>625.5474101170</td>\n",
       "      <td>19.758856</td>\n",
       "      <td>55</td>\n",
       "      <td>2</td>\n",
       "      <td>71</td>\n",
       "      <td>1</td>\n",
       "      <td>18.777778</td>\n",
       "      <td>2022-10-16 18:53:25</td>\n",
       "      <td>2022-10-18 22:56:45</td>\n",
       "      <td>2</td>\n",
       "      <td>7</td>\n",
       "      <td>8</td>\n",
       "      <td>1</td>\n",
       "      <td>1</td>\n",
       "      <td>0</td>\n",
       "      <td>2</td>\n",
       "    </tr>\n",
       "    <tr>\n",
       "      <th>3</th>\n",
       "      <td>143567</td>\n",
       "      <td>1496.75</td>\n",
       "      <td>2.698630</td>\n",
       "      <td>554.6332768849</td>\n",
       "      <td>17.786803</td>\n",
       "      <td>48</td>\n",
       "      <td>3</td>\n",
       "      <td>99</td>\n",
       "      <td>1</td>\n",
       "      <td>20.893617</td>\n",
       "      <td>2022-10-15 12:24:20</td>\n",
       "      <td>2022-10-18 22:56:45</td>\n",
       "      <td>3</td>\n",
       "      <td>11</td>\n",
       "      <td>11</td>\n",
       "      <td>1</td>\n",
       "      <td>1</td>\n",
       "      <td>0</td>\n",
       "      <td>2</td>\n",
       "    </tr>\n",
       "    <tr>\n",
       "      <th>4</th>\n",
       "      <td>55685</td>\n",
       "      <td>1585.50</td>\n",
       "      <td>2.780822</td>\n",
       "      <td>570.1551555619</td>\n",
       "      <td>16.901477</td>\n",
       "      <td>47</td>\n",
       "      <td>8</td>\n",
       "      <td>104</td>\n",
       "      <td>1</td>\n",
       "      <td>21.891304</td>\n",
       "      <td>2022-10-10 20:36:37</td>\n",
       "      <td>2022-10-18 22:56:45</td>\n",
       "      <td>8</td>\n",
       "      <td>1</td>\n",
       "      <td>7</td>\n",
       "      <td>1</td>\n",
       "      <td>1</td>\n",
       "      <td>0</td>\n",
       "      <td>2</td>\n",
       "    </tr>\n",
       "  </tbody>\n",
       "</table>\n",
       "</div>"
      ],
      "text/plain": [
       "   CUSTOMER_ID  TOTAL_SPENT  YEARS_WITH_US  MONETARY_VALUE CUSTOMER_FREQUENCY  \\\n",
       "0        79006      1655.75       2.736986  604.9537703152          17.537539   \n",
       "1       199200      1783.25       2.794521  638.1236712839          16.102939   \n",
       "2        82120      1741.25       2.783562  625.5474101170          19.758856   \n",
       "3       143567      1496.75       2.698630  554.6332768849          17.786803   \n",
       "4        55685      1585.50       2.780822  570.1551555619          16.901477   \n",
       "\n",
       "   TOTAL_ORDER  RECENCY_DAYS  MAX(DAYS_BETWEEN)  MIN(DAYS_BETWEEN)  \\\n",
       "0           48             8                124                  2   \n",
       "1           45             5                137                  1   \n",
       "2           55             2                 71                  1   \n",
       "3           48             3                 99                  1   \n",
       "4           47             8                104                  1   \n",
       "\n",
       "  AVG(DAYS_BETWEEN)       LAST_ORDER_TS          LAST_TRANS  DAYS_DF1  \\\n",
       "0         21.085106 2022-10-10 20:51:36 2022-10-18 22:56:45         8   \n",
       "1         23.068182 2022-10-13 12:58:53 2022-10-18 22:56:45         5   \n",
       "2         18.777778 2022-10-16 18:53:25 2022-10-18 22:56:45         2   \n",
       "3         20.893617 2022-10-15 12:24:20 2022-10-18 22:56:45         3   \n",
       "4         21.891304 2022-10-10 20:36:37 2022-10-18 22:56:45         8   \n",
       "\n",
       "   TRANS_DATEDIFF1  TRANS_DATEDIFF2  CUST_REC_CLUSTER  CUST_FREQ_CLUSTER  \\\n",
       "0               55                2                 1                  1   \n",
       "1                9               22                 1                  1   \n",
       "2                7                8                 1                  1   \n",
       "3               11               11                 1                  1   \n",
       "4                1                7                 1                  1   \n",
       "\n",
       "   CUST_MONETARY_CLUSTER  OVERALL_SCORE  \n",
       "0                      0              2  \n",
       "1                      0              2  \n",
       "2                      0              2  \n",
       "3                      0              2  \n",
       "4                      0              2  "
      ]
     },
     "execution_count": 65,
     "metadata": {},
     "output_type": "execute_result"
    }
   ],
   "source": [
    "customer_last_order_timestamp_df1.head()"
   ]
  },
  {
   "attachments": {},
   "cell_type": "markdown",
   "metadata": {},
   "source": [
    "### 4.2 Getting second dataframe <a id=\"part4.2\"></a>"
   ]
  },
  {
   "cell_type": "code",
   "execution_count": 66,
   "metadata": {},
   "outputs": [
    {
     "name": "stdout",
     "output_type": "stream",
     "text": [
      "--------------------------------------------------------------------------------------------------------------------------------------------------------------------------------------------------------------------------------------------------------------------------------------------------------------------------------------------------------\n",
      "|\"ORDER_ID\"  |\"TRUCK_ID\"  |\"LOCATION_ID\"  |\"CUSTOMER_ID\"  |\"DISCOUNT_ID\"  |\"SHIFT_ID\"  |\"SHIFT_START_TIME\"  |\"SHIFT_END_TIME\"  |\"ORDER_CHANNEL\"  |\"ORDER_TS\"           |\"SERVED_TS\"  |\"ORDER_CURRENCY\"  |\"ORDER_AMOUNT\"  |\"ORDER_TAX_AMOUNT\"  |\"ORDER_DISCOUNT_AMOUNT\"  |\"ORDER_TOTAL\"  |\"CUSTOMER_ID_US\"  |\"LAST_DATE\"          |\"TWO_WEEKS_BEFORE\"   |\n",
      "--------------------------------------------------------------------------------------------------------------------------------------------------------------------------------------------------------------------------------------------------------------------------------------------------------------------------------------------------------\n",
      "|456237000   |31          |8409.0         |126027         |NULL           |200564946   |09:00:00            |15:00:00          |NULL             |2022-10-19 09:18:56  |NULL         |USD               |13.0000         |NULL                |NULL                     |13.0000        |126027            |2022-11-01 22:58:56  |2022-10-18 22:58:56  |\n",
      "|456237015   |31          |8409.0         |98910          |NULL           |200564946   |09:00:00            |15:00:00          |NULL             |2022-10-19 09:42:07  |NULL         |USD               |16.0000         |NULL                |NULL                     |16.0000        |98910             |2022-11-01 22:58:56  |2022-10-18 22:58:56  |\n",
      "|456237038   |31          |8409.0         |192028         |NULL           |200564946   |09:00:00            |15:00:00          |NULL             |2022-10-19 10:49:28  |NULL         |USD               |16.0000         |NULL                |NULL                     |16.0000        |192028            |2022-11-01 22:58:56  |2022-10-18 22:58:56  |\n",
      "|456237070   |31          |8409.0         |86746          |NULL           |200564946   |09:00:00            |15:00:00          |NULL             |2022-10-19 11:46:19  |NULL         |USD               |10.0000         |NULL                |NULL                     |10.0000        |86746             |2022-11-01 22:58:56  |2022-10-18 22:58:56  |\n",
      "|456237140   |31          |8409.0         |135913         |NULL           |200564946   |09:00:00            |15:00:00          |NULL             |2022-10-19 13:19:40  |NULL         |USD               |12.0000         |NULL                |NULL                     |12.0000        |135913            |2022-11-01 22:58:56  |2022-10-18 22:58:56  |\n",
      "|456237143   |31          |8409.0         |135647         |NULL           |200564946   |09:00:00            |15:00:00          |NULL             |2022-10-19 13:22:05  |NULL         |USD               |31.5000         |NULL                |NULL                     |31.5000        |135647            |2022-11-01 22:58:56  |2022-10-18 22:58:56  |\n",
      "|456237156   |31          |8409.0         |178544         |NULL           |200564946   |09:00:00            |15:00:00          |NULL             |2022-10-19 13:34:30  |NULL         |USD               |3.0000          |NULL                |NULL                     |3.0000         |178544            |2022-11-01 22:58:56  |2022-10-18 22:58:56  |\n",
      "|456237201   |31          |15470.0        |87142          |NULL           |200564947   |16:00:00            |23:00:00          |NULL             |2022-10-19 17:05:15  |NULL         |USD               |47.5000         |NULL                |NULL                     |47.5000        |87142             |2022-11-01 22:58:56  |2022-10-18 22:58:56  |\n",
      "|456237210   |31          |15470.0        |145508         |NULL           |200564947   |16:00:00            |23:00:00          |NULL             |2022-10-19 17:22:55  |NULL         |USD               |22.0000         |NULL                |NULL                     |22.0000        |145508            |2022-11-01 22:58:56  |2022-10-18 22:58:56  |\n",
      "|456237220   |31          |15470.0        |82572          |NULL           |200564947   |16:00:00            |23:00:00          |NULL             |2022-10-19 17:41:36  |NULL         |USD               |13.0000         |NULL                |NULL                     |13.0000        |82572             |2022-11-01 22:58:56  |2022-10-18 22:58:56  |\n",
      "--------------------------------------------------------------------------------------------------------------------------------------------------------------------------------------------------------------------------------------------------------------------------------------------------------------------------------------------------------\n",
      "\n"
     ]
    }
   ],
   "source": [
    "# Get last 2 weeks before last transaction date provided (second dataframe)\n",
    "order_df2 = order_header_df.filter(F.col(\"ORDER_TS\")>F.col(\"TWO_WEEKS_BEFORE\"))\n",
    "order_df2.show()"
   ]
  },
  {
   "cell_type": "code",
   "execution_count": 67,
   "metadata": {},
   "outputs": [
    {
     "name": "stdout",
     "output_type": "stream",
     "text": [
      "-----------------------\n",
      "|\"MIN(ORDER_TS)\"      |\n",
      "-----------------------\n",
      "|2022-10-19 08:00:15  |\n",
      "-----------------------\n",
      "\n",
      "-----------------------\n",
      "|\"MAX(ORDER_TS)\"      |\n",
      "-----------------------\n",
      "|2022-11-01 22:58:56  |\n",
      "-----------------------\n",
      "\n"
     ]
    }
   ],
   "source": [
    "# Ensure timeframe is correct\n",
    "order_df2.agg(F.min('ORDER_TS')).show()\n",
    "order_df2.agg(F.max('ORDER_TS')).show()"
   ]
  },
  {
   "cell_type": "code",
   "execution_count": 68,
   "metadata": {},
   "outputs": [
    {
     "name": "stdout",
     "output_type": "stream",
     "text": [
      "---------------------------------------\n",
      "|\"CUSTOMER_ID\"  |\"FIRST_ORDER_TS\"     |\n",
      "---------------------------------------\n",
      "|184287         |2022-10-19 08:00:15  |\n",
      "|42060          |2022-10-19 08:00:46  |\n",
      "|196281         |2022-10-19 08:00:59  |\n",
      "|127806         |2022-10-19 08:01:29  |\n",
      "|170016         |2022-10-19 08:01:47  |\n",
      "|64450          |2022-10-19 08:01:53  |\n",
      "|191049         |2022-10-19 08:01:59  |\n",
      "|118969         |2022-10-19 08:02:19  |\n",
      "|192268         |2022-10-19 08:04:20  |\n",
      "|95980          |2022-10-19 08:04:33  |\n",
      "---------------------------------------\n",
      "\n"
     ]
    }
   ],
   "source": [
    "# Getting the earliest purchase date for each customer in df2\n",
    "customer_first_order_timestamp_df2 = order_df2.groupBy(\"CUSTOMER_ID\").agg(F.min(\"ORDER_TS\").alias(\"FIRST_ORDER_TS\"))\n",
    "customer_first_order_timestamp_df2 = customer_first_order_timestamp_df2.sort(col(\"FIRST_ORDER_TS\"))\n",
    "customer_first_order_timestamp_df2.show()"
   ]
  },
  {
   "cell_type": "code",
   "execution_count": 69,
   "metadata": {},
   "outputs": [
    {
     "name": "stdout",
     "output_type": "stream",
     "text": [
      "-------------------------------------------------------------\n",
      "|\"CUSTOMER_ID\"  |\"FIRST_ORDER_TS\"     |\"FIRST_TRANS\"        |\n",
      "-------------------------------------------------------------\n",
      "|184287         |2022-10-19 08:00:15  |2022-10-19 08:00:15  |\n",
      "|42060          |2022-10-19 08:00:46  |2022-10-19 08:00:15  |\n",
      "|196281         |2022-10-19 08:00:59  |2022-10-19 08:00:15  |\n",
      "|127806         |2022-10-19 08:01:29  |2022-10-19 08:00:15  |\n",
      "|170016         |2022-10-19 08:01:47  |2022-10-19 08:00:15  |\n",
      "|64450          |2022-10-19 08:01:53  |2022-10-19 08:00:15  |\n",
      "|191049         |2022-10-19 08:01:59  |2022-10-19 08:00:15  |\n",
      "|118969         |2022-10-19 08:02:19  |2022-10-19 08:00:15  |\n",
      "|192268         |2022-10-19 08:04:20  |2022-10-19 08:00:15  |\n",
      "|95980          |2022-10-19 08:04:33  |2022-10-19 08:00:15  |\n",
      "-------------------------------------------------------------\n",
      "\n"
     ]
    }
   ],
   "source": [
    "# Getting first order date\n",
    "earliest_transaction_df2 = order_df2.agg(F.min(\"ORDER_TS\").alias(\"FIRST_ORDER_TS\")).collect()[0][0]\n",
    "customer_first_order_timestamp_df2 = customer_first_order_timestamp_df2.withColumn(\"FIRST_TRANS\", F.iff(F.col(\"CUSTOMER_ID\") == F.col(\"CUSTOMER_ID\"), earliest_transaction_df2, earliest_transaction_df2))\n",
    "customer_first_order_timestamp_df2.show()"
   ]
  },
  {
   "cell_type": "code",
   "execution_count": 70,
   "metadata": {},
   "outputs": [
    {
     "name": "stdout",
     "output_type": "stream",
     "text": [
      "--------------------------------------------------------------------------\n",
      "|\"CUSTOMER_ID\"  |\"FIRST_ORDER_TS\"     |\"FIRST_TRANS\"        |\"DAYS_DF2\"  |\n",
      "--------------------------------------------------------------------------\n",
      "|92790          |2022-10-21 21:53:32  |2022-10-19 08:00:15  |2           |\n",
      "|50425          |2022-10-21 21:53:45  |2022-10-19 08:00:15  |2           |\n",
      "|124094         |2022-10-21 21:53:53  |2022-10-19 08:00:15  |2           |\n",
      "|194703         |2022-10-21 21:54:45  |2022-10-19 08:00:15  |2           |\n",
      "|67009          |2022-10-21 21:54:53  |2022-10-19 08:00:15  |2           |\n",
      "|157402         |2022-10-21 21:55:41  |2022-10-19 08:00:15  |2           |\n",
      "|91608          |2022-10-21 21:56:22  |2022-10-19 08:00:15  |2           |\n",
      "|80169          |2022-10-21 21:56:28  |2022-10-19 08:00:15  |2           |\n",
      "|180901         |2022-10-21 21:56:37  |2022-10-19 08:00:15  |2           |\n",
      "|163630         |2022-10-21 21:56:48  |2022-10-19 08:00:15  |2           |\n",
      "--------------------------------------------------------------------------\n",
      "\n"
     ]
    }
   ],
   "source": [
    "# Getting the date diff from customer last order to the date 2 weeks before the latest provided transaction date in df1\n",
    "customer_first_order_timestamp_df2 = customer_first_order_timestamp_df2.withColumn(\"days_df2\", F.datediff(\"day\", customer_first_order_timestamp_df2[\"FIRST_TRANS\"], customer_first_order_timestamp_df2[\"FIRST_ORDER_TS\"]))\n",
    "customer_first_order_timestamp_df2.show()"
   ]
  },
  {
   "attachments": {},
   "cell_type": "markdown",
   "metadata": {},
   "source": [
    "### 4.3 Merging dataframes <a id=\"part4.3\"></a>"
   ]
  },
  {
   "cell_type": "code",
   "execution_count": 71,
   "metadata": {},
   "outputs": [],
   "source": [
    "# convert 2nd dataframe to pandas\n",
    "customer_first_order_timestamp_df2 = customer_first_order_timestamp_df2.to_pandas()"
   ]
  },
  {
   "cell_type": "code",
   "execution_count": 72,
   "metadata": {},
   "outputs": [
    {
     "name": "stdout",
     "output_type": "stream",
     "text": [
      "<class 'pandas.core.frame.DataFrame'>\n",
      "RangeIndex: 33053 entries, 0 to 33052\n",
      "Data columns (total 4 columns):\n",
      " #   Column          Non-Null Count  Dtype         \n",
      "---  ------          --------------  -----         \n",
      " 0   CUSTOMER_ID     33053 non-null  int32         \n",
      " 1   FIRST_ORDER_TS  33053 non-null  datetime64[ns]\n",
      " 2   FIRST_TRANS     33053 non-null  datetime64[ns]\n",
      " 3   DAYS_DF2        33053 non-null  int32         \n",
      "dtypes: datetime64[ns](2), int32(2)\n",
      "memory usage: 774.8 KB\n"
     ]
    }
   ],
   "source": [
    "customer_first_order_timestamp_df2.info()"
   ]
  },
  {
   "cell_type": "code",
   "execution_count": 73,
   "metadata": {},
   "outputs": [
    {
     "name": "stdout",
     "output_type": "stream",
     "text": [
      "<class 'pandas.core.frame.DataFrame'>\n",
      "Int64Index: 46300 entries, 0 to 46299\n",
      "Data columns (total 19 columns):\n",
      " #   Column                 Non-Null Count  Dtype         \n",
      "---  ------                 --------------  -----         \n",
      " 0   CUSTOMER_ID            46300 non-null  int32         \n",
      " 1   TOTAL_SPENT            46300 non-null  float64       \n",
      " 2   YEARS_WITH_US          46300 non-null  float64       \n",
      " 3   MONETARY_VALUE         46300 non-null  object        \n",
      " 4   CUSTOMER_FREQUENCY     46300 non-null  object        \n",
      " 5   TOTAL_ORDER            46300 non-null  int64         \n",
      " 6   RECENCY_DAYS           46300 non-null  int32         \n",
      " 7   MAX(DAYS_BETWEEN)      46300 non-null  int32         \n",
      " 8   MIN(DAYS_BETWEEN)      46300 non-null  int32         \n",
      " 9   AVG(DAYS_BETWEEN)      46300 non-null  object        \n",
      " 10  LAST_ORDER_TS          46300 non-null  datetime64[ns]\n",
      " 11  LAST_TRANS             46300 non-null  datetime64[ns]\n",
      " 12  DAYS_DF1               46300 non-null  int32         \n",
      " 13  TRANS_DATEDIFF1        46300 non-null  int32         \n",
      " 14  TRANS_DATEDIFF2        46300 non-null  int32         \n",
      " 15  CUST_REC_CLUSTER       46300 non-null  int64         \n",
      " 16  CUST_FREQ_CLUSTER      46300 non-null  int64         \n",
      " 17  CUST_MONETARY_CLUSTER  46300 non-null  int64         \n",
      " 18  OVERALL_SCORE          46300 non-null  int64         \n",
      "dtypes: datetime64[ns](2), float64(2), int32(7), int64(5), object(3)\n",
      "memory usage: 5.8+ MB\n"
     ]
    }
   ],
   "source": [
    "customer_last_order_timestamp_df1.info()"
   ]
  },
  {
   "cell_type": "code",
   "execution_count": 74,
   "metadata": {},
   "outputs": [
    {
     "data": {
      "text/html": [
       "<div>\n",
       "<style scoped>\n",
       "    .dataframe tbody tr th:only-of-type {\n",
       "        vertical-align: middle;\n",
       "    }\n",
       "\n",
       "    .dataframe tbody tr th {\n",
       "        vertical-align: top;\n",
       "    }\n",
       "\n",
       "    .dataframe thead th {\n",
       "        text-align: right;\n",
       "    }\n",
       "</style>\n",
       "<table border=\"1\" class=\"dataframe\">\n",
       "  <thead>\n",
       "    <tr style=\"text-align: right;\">\n",
       "      <th></th>\n",
       "      <th>CUSTOMER_ID</th>\n",
       "      <th>TOTAL_SPENT</th>\n",
       "      <th>YEARS_WITH_US</th>\n",
       "      <th>MONETARY_VALUE</th>\n",
       "      <th>CUSTOMER_FREQUENCY</th>\n",
       "      <th>TOTAL_ORDER</th>\n",
       "      <th>RECENCY_DAYS</th>\n",
       "      <th>MAX(DAYS_BETWEEN)</th>\n",
       "      <th>MIN(DAYS_BETWEEN)</th>\n",
       "      <th>AVG(DAYS_BETWEEN)</th>\n",
       "      <th>DAYS_DF1</th>\n",
       "      <th>TRANS_DATEDIFF1</th>\n",
       "      <th>TRANS_DATEDIFF2</th>\n",
       "      <th>CUST_REC_CLUSTER</th>\n",
       "      <th>CUST_FREQ_CLUSTER</th>\n",
       "      <th>CUST_MONETARY_CLUSTER</th>\n",
       "      <th>OVERALL_SCORE</th>\n",
       "      <th>DAYS_DF2</th>\n",
       "    </tr>\n",
       "  </thead>\n",
       "  <tbody>\n",
       "    <tr>\n",
       "      <th>0</th>\n",
       "      <td>79006</td>\n",
       "      <td>1655.75</td>\n",
       "      <td>2.736986</td>\n",
       "      <td>604.9537703152</td>\n",
       "      <td>17.537539</td>\n",
       "      <td>48</td>\n",
       "      <td>8</td>\n",
       "      <td>124</td>\n",
       "      <td>2</td>\n",
       "      <td>21.085106</td>\n",
       "      <td>8</td>\n",
       "      <td>55</td>\n",
       "      <td>2</td>\n",
       "      <td>1</td>\n",
       "      <td>1</td>\n",
       "      <td>0</td>\n",
       "      <td>2</td>\n",
       "      <td>2.0</td>\n",
       "    </tr>\n",
       "    <tr>\n",
       "      <th>1</th>\n",
       "      <td>199200</td>\n",
       "      <td>1783.25</td>\n",
       "      <td>2.794521</td>\n",
       "      <td>638.1236712839</td>\n",
       "      <td>16.102939</td>\n",
       "      <td>45</td>\n",
       "      <td>5</td>\n",
       "      <td>137</td>\n",
       "      <td>1</td>\n",
       "      <td>23.068182</td>\n",
       "      <td>5</td>\n",
       "      <td>9</td>\n",
       "      <td>22</td>\n",
       "      <td>1</td>\n",
       "      <td>1</td>\n",
       "      <td>0</td>\n",
       "      <td>2</td>\n",
       "      <td>2.0</td>\n",
       "    </tr>\n",
       "    <tr>\n",
       "      <th>2</th>\n",
       "      <td>82120</td>\n",
       "      <td>1741.25</td>\n",
       "      <td>2.783562</td>\n",
       "      <td>625.5474101170</td>\n",
       "      <td>19.758856</td>\n",
       "      <td>55</td>\n",
       "      <td>2</td>\n",
       "      <td>71</td>\n",
       "      <td>1</td>\n",
       "      <td>18.777778</td>\n",
       "      <td>2</td>\n",
       "      <td>7</td>\n",
       "      <td>8</td>\n",
       "      <td>1</td>\n",
       "      <td>1</td>\n",
       "      <td>0</td>\n",
       "      <td>2</td>\n",
       "      <td>3.0</td>\n",
       "    </tr>\n",
       "    <tr>\n",
       "      <th>3</th>\n",
       "      <td>143567</td>\n",
       "      <td>1496.75</td>\n",
       "      <td>2.698630</td>\n",
       "      <td>554.6332768849</td>\n",
       "      <td>17.786803</td>\n",
       "      <td>48</td>\n",
       "      <td>3</td>\n",
       "      <td>99</td>\n",
       "      <td>1</td>\n",
       "      <td>20.893617</td>\n",
       "      <td>3</td>\n",
       "      <td>11</td>\n",
       "      <td>11</td>\n",
       "      <td>1</td>\n",
       "      <td>1</td>\n",
       "      <td>0</td>\n",
       "      <td>2</td>\n",
       "      <td>NaN</td>\n",
       "    </tr>\n",
       "    <tr>\n",
       "      <th>4</th>\n",
       "      <td>55685</td>\n",
       "      <td>1585.50</td>\n",
       "      <td>2.780822</td>\n",
       "      <td>570.1551555619</td>\n",
       "      <td>16.901477</td>\n",
       "      <td>47</td>\n",
       "      <td>8</td>\n",
       "      <td>104</td>\n",
       "      <td>1</td>\n",
       "      <td>21.891304</td>\n",
       "      <td>8</td>\n",
       "      <td>1</td>\n",
       "      <td>7</td>\n",
       "      <td>1</td>\n",
       "      <td>1</td>\n",
       "      <td>0</td>\n",
       "      <td>2</td>\n",
       "      <td>NaN</td>\n",
       "    </tr>\n",
       "  </tbody>\n",
       "</table>\n",
       "</div>"
      ],
      "text/plain": [
       "   CUSTOMER_ID  TOTAL_SPENT  YEARS_WITH_US  MONETARY_VALUE CUSTOMER_FREQUENCY  \\\n",
       "0        79006      1655.75       2.736986  604.9537703152          17.537539   \n",
       "1       199200      1783.25       2.794521  638.1236712839          16.102939   \n",
       "2        82120      1741.25       2.783562  625.5474101170          19.758856   \n",
       "3       143567      1496.75       2.698630  554.6332768849          17.786803   \n",
       "4        55685      1585.50       2.780822  570.1551555619          16.901477   \n",
       "\n",
       "   TOTAL_ORDER  RECENCY_DAYS  MAX(DAYS_BETWEEN)  MIN(DAYS_BETWEEN)  \\\n",
       "0           48             8                124                  2   \n",
       "1           45             5                137                  1   \n",
       "2           55             2                 71                  1   \n",
       "3           48             3                 99                  1   \n",
       "4           47             8                104                  1   \n",
       "\n",
       "  AVG(DAYS_BETWEEN)  DAYS_DF1  TRANS_DATEDIFF1  TRANS_DATEDIFF2  \\\n",
       "0         21.085106         8               55                2   \n",
       "1         23.068182         5                9               22   \n",
       "2         18.777778         2                7                8   \n",
       "3         20.893617         3               11               11   \n",
       "4         21.891304         8                1                7   \n",
       "\n",
       "   CUST_REC_CLUSTER  CUST_FREQ_CLUSTER  CUST_MONETARY_CLUSTER  OVERALL_SCORE  \\\n",
       "0                 1                  1                      0              2   \n",
       "1                 1                  1                      0              2   \n",
       "2                 1                  1                      0              2   \n",
       "3                 1                  1                      0              2   \n",
       "4                 1                  1                      0              2   \n",
       "\n",
       "   DAYS_DF2  \n",
       "0       2.0  \n",
       "1       2.0  \n",
       "2       3.0  \n",
       "3       NaN  \n",
       "4       NaN  "
      ]
     },
     "execution_count": 74,
     "metadata": {},
     "output_type": "execute_result"
    }
   ],
   "source": [
    "# merge first dataframe and second dataframe \n",
    "# since the number of rows in the first and second dataframe are different, we can infer that there are some customers that did not make an order in the 14 days timeframe\n",
    "final_df = pd.merge(customer_last_order_timestamp_df1, customer_first_order_timestamp_df2, on='CUSTOMER_ID', how='left')\n",
    "\n",
    "# drop irrelevant columns\n",
    "final_df = final_df.drop([\"FIRST_ORDER_TS\", \"FIRST_TRANS\", \"LAST_ORDER_TS\", \"LAST_TRANS\"], axis=1)\n",
    "final_df.head()\n"
   ]
  },
  {
   "attachments": {},
   "cell_type": "markdown",
   "metadata": {},
   "source": [
    "### 4.4 Adding Target Variable <a id=\"part4.4\"></a>"
   ]
  },
  {
   "cell_type": "code",
   "execution_count": 75,
   "metadata": {},
   "outputs": [
    {
     "data": {
      "text/html": [
       "<div>\n",
       "<style scoped>\n",
       "    .dataframe tbody tr th:only-of-type {\n",
       "        vertical-align: middle;\n",
       "    }\n",
       "\n",
       "    .dataframe tbody tr th {\n",
       "        vertical-align: top;\n",
       "    }\n",
       "\n",
       "    .dataframe thead th {\n",
       "        text-align: right;\n",
       "    }\n",
       "</style>\n",
       "<table border=\"1\" class=\"dataframe\">\n",
       "  <thead>\n",
       "    <tr style=\"text-align: right;\">\n",
       "      <th></th>\n",
       "      <th>CUSTOMER_ID</th>\n",
       "      <th>TOTAL_SPENT</th>\n",
       "      <th>YEARS_WITH_US</th>\n",
       "      <th>MONETARY_VALUE</th>\n",
       "      <th>CUSTOMER_FREQUENCY</th>\n",
       "      <th>TOTAL_ORDER</th>\n",
       "      <th>RECENCY_DAYS</th>\n",
       "      <th>MAX(DAYS_BETWEEN)</th>\n",
       "      <th>MIN(DAYS_BETWEEN)</th>\n",
       "      <th>AVG(DAYS_BETWEEN)</th>\n",
       "      <th>TRANS_DATEDIFF1</th>\n",
       "      <th>TRANS_DATEDIFF2</th>\n",
       "      <th>CUST_REC_CLUSTER</th>\n",
       "      <th>CUST_FREQ_CLUSTER</th>\n",
       "      <th>CUST_MONETARY_CLUSTER</th>\n",
       "      <th>OVERALL_SCORE</th>\n",
       "      <th>TARGET</th>\n",
       "    </tr>\n",
       "  </thead>\n",
       "  <tbody>\n",
       "    <tr>\n",
       "      <th>0</th>\n",
       "      <td>79006</td>\n",
       "      <td>1655.75</td>\n",
       "      <td>2.736986</td>\n",
       "      <td>604.9537703152</td>\n",
       "      <td>17.537539</td>\n",
       "      <td>48</td>\n",
       "      <td>8</td>\n",
       "      <td>124</td>\n",
       "      <td>2</td>\n",
       "      <td>21.085106</td>\n",
       "      <td>55</td>\n",
       "      <td>2</td>\n",
       "      <td>1</td>\n",
       "      <td>1</td>\n",
       "      <td>0</td>\n",
       "      <td>2</td>\n",
       "      <td>10.0</td>\n",
       "    </tr>\n",
       "    <tr>\n",
       "      <th>1</th>\n",
       "      <td>199200</td>\n",
       "      <td>1783.25</td>\n",
       "      <td>2.794521</td>\n",
       "      <td>638.1236712839</td>\n",
       "      <td>16.102939</td>\n",
       "      <td>45</td>\n",
       "      <td>5</td>\n",
       "      <td>137</td>\n",
       "      <td>1</td>\n",
       "      <td>23.068182</td>\n",
       "      <td>9</td>\n",
       "      <td>22</td>\n",
       "      <td>1</td>\n",
       "      <td>1</td>\n",
       "      <td>0</td>\n",
       "      <td>2</td>\n",
       "      <td>7.0</td>\n",
       "    </tr>\n",
       "    <tr>\n",
       "      <th>2</th>\n",
       "      <td>82120</td>\n",
       "      <td>1741.25</td>\n",
       "      <td>2.783562</td>\n",
       "      <td>625.5474101170</td>\n",
       "      <td>19.758856</td>\n",
       "      <td>55</td>\n",
       "      <td>2</td>\n",
       "      <td>71</td>\n",
       "      <td>1</td>\n",
       "      <td>18.777778</td>\n",
       "      <td>7</td>\n",
       "      <td>8</td>\n",
       "      <td>1</td>\n",
       "      <td>1</td>\n",
       "      <td>0</td>\n",
       "      <td>2</td>\n",
       "      <td>5.0</td>\n",
       "    </tr>\n",
       "    <tr>\n",
       "      <th>3</th>\n",
       "      <td>143567</td>\n",
       "      <td>1496.75</td>\n",
       "      <td>2.698630</td>\n",
       "      <td>554.6332768849</td>\n",
       "      <td>17.786803</td>\n",
       "      <td>48</td>\n",
       "      <td>3</td>\n",
       "      <td>99</td>\n",
       "      <td>1</td>\n",
       "      <td>20.893617</td>\n",
       "      <td>11</td>\n",
       "      <td>11</td>\n",
       "      <td>1</td>\n",
       "      <td>1</td>\n",
       "      <td>0</td>\n",
       "      <td>2</td>\n",
       "      <td>23.0</td>\n",
       "    </tr>\n",
       "    <tr>\n",
       "      <th>4</th>\n",
       "      <td>55685</td>\n",
       "      <td>1585.50</td>\n",
       "      <td>2.780822</td>\n",
       "      <td>570.1551555619</td>\n",
       "      <td>16.901477</td>\n",
       "      <td>47</td>\n",
       "      <td>8</td>\n",
       "      <td>104</td>\n",
       "      <td>1</td>\n",
       "      <td>21.891304</td>\n",
       "      <td>1</td>\n",
       "      <td>7</td>\n",
       "      <td>1</td>\n",
       "      <td>1</td>\n",
       "      <td>0</td>\n",
       "      <td>2</td>\n",
       "      <td>29.0</td>\n",
       "    </tr>\n",
       "  </tbody>\n",
       "</table>\n",
       "</div>"
      ],
      "text/plain": [
       "   CUSTOMER_ID  TOTAL_SPENT  YEARS_WITH_US  MONETARY_VALUE CUSTOMER_FREQUENCY  \\\n",
       "0        79006      1655.75       2.736986  604.9537703152          17.537539   \n",
       "1       199200      1783.25       2.794521  638.1236712839          16.102939   \n",
       "2        82120      1741.25       2.783562  625.5474101170          19.758856   \n",
       "3       143567      1496.75       2.698630  554.6332768849          17.786803   \n",
       "4        55685      1585.50       2.780822  570.1551555619          16.901477   \n",
       "\n",
       "   TOTAL_ORDER  RECENCY_DAYS  MAX(DAYS_BETWEEN)  MIN(DAYS_BETWEEN)  \\\n",
       "0           48             8                124                  2   \n",
       "1           45             5                137                  1   \n",
       "2           55             2                 71                  1   \n",
       "3           48             3                 99                  1   \n",
       "4           47             8                104                  1   \n",
       "\n",
       "  AVG(DAYS_BETWEEN)  TRANS_DATEDIFF1  TRANS_DATEDIFF2  CUST_REC_CLUSTER  \\\n",
       "0         21.085106               55                2                 1   \n",
       "1         23.068182                9               22                 1   \n",
       "2         18.777778                7                8                 1   \n",
       "3         20.893617               11               11                 1   \n",
       "4         21.891304                1                7                 1   \n",
       "\n",
       "   CUST_FREQ_CLUSTER  CUST_MONETARY_CLUSTER  OVERALL_SCORE  TARGET  \n",
       "0                  1                      0              2    10.0  \n",
       "1                  1                      0              2     7.0  \n",
       "2                  1                      0              2     5.0  \n",
       "3                  1                      0              2    23.0  \n",
       "4                  1                      0              2    29.0  "
      ]
     },
     "execution_count": 75,
     "metadata": {},
     "output_type": "execute_result"
    }
   ],
   "source": [
    "final_df[\"TARGET\"] = final_df[\"DAYS_DF1\"] + final_df[\"DAYS_DF2\"]\n",
    "final_df[\"TARGET\"].fillna(np.floor(final_df[\"AVG(DAYS_BETWEEN)\"]) + final_df[\"DAYS_DF1\"], inplace = True)\n",
    "#final_df[\"TARGET\"] = final_df[\"TARGET\"].astype(int)\n",
    "final_df = final_df.drop([\"DAYS_DF1\", \"DAYS_DF2\"], axis=1)\n",
    "final_df.head()\n"
   ]
  },
  {
   "cell_type": "code",
   "execution_count": 76,
   "metadata": {},
   "outputs": [],
   "source": [
    "# find the average between the number of days of the past 3 transactions and add 15 to it and fill those rows will Nan\n",
    "\n",
    "#final_df[\"TARGET\"].fillna(np.floor((final_df[\"TRANS_DATEDIFF1\"] + final_df[\"TRANS_DATEDIFF2\"])/2)+15, inplace = True)\n",
    "#final_df[\"TARGET\"] = final_df[\"TARGET\"].astype(int)\n",
    "#final_df.head()"
   ]
  },
  {
   "cell_type": "code",
   "execution_count": 77,
   "metadata": {},
   "outputs": [
    {
     "data": {
      "image/png": "[encoded data removed]",
      "text/plain": [
       "<Figure size 1500x1500 with 2 Axes>"
      ]
     },
     "metadata": {},
     "output_type": "display_data"
    }
   ],
   "source": [
    "colormap = plt.cm.viridis\n",
    "plt.figure(figsize=(15,15))\n",
    "plt.title('Correlation of Dataset Features', size=15)\n",
    "ax = sns.heatmap(final_df.astype(float).corr(), cmap=colormap, annot=True)\n",
    "bottom, top = ax.get_ylim()\n",
    "ax.set_ylim(bottom + 0.5, top - 0.5)\n",
    "plt.show()"
   ]
  },
  {
   "attachments": {},
   "cell_type": "markdown",
   "metadata": {},
   "source": [
    "## 5. Model Building <a id=\"part5\"></a>"
   ]
  },
  {
   "attachments": {},
   "cell_type": "markdown",
   "metadata": {},
   "source": [
    "### 5.1 Scaling <a id=\"part5.1\"></a>"
   ]
  },
  {
   "cell_type": "code",
   "execution_count": 78,
   "metadata": {},
   "outputs": [
    {
     "data": {
      "text/html": [
       "<div>\n",
       "<style scoped>\n",
       "    .dataframe tbody tr th:only-of-type {\n",
       "        vertical-align: middle;\n",
       "    }\n",
       "\n",
       "    .dataframe tbody tr th {\n",
       "        vertical-align: top;\n",
       "    }\n",
       "\n",
       "    .dataframe thead th {\n",
       "        text-align: right;\n",
       "    }\n",
       "</style>\n",
       "<table border=\"1\" class=\"dataframe\">\n",
       "  <thead>\n",
       "    <tr style=\"text-align: right;\">\n",
       "      <th></th>\n",
       "      <th>TOTAL_SPENT</th>\n",
       "      <th>YEARS_WITH_US</th>\n",
       "      <th>MONETARY_VALUE</th>\n",
       "      <th>CUSTOMER_FREQUENCY</th>\n",
       "      <th>TOTAL_ORDER</th>\n",
       "      <th>RECENCY_DAYS</th>\n",
       "      <th>MAX(DAYS_BETWEEN)</th>\n",
       "      <th>MIN(DAYS_BETWEEN)</th>\n",
       "      <th>AVG(DAYS_BETWEEN)</th>\n",
       "      <th>TRANS_DATEDIFF1</th>\n",
       "      <th>TRANS_DATEDIFF2</th>\n",
       "      <th>CUST_REC_CLUSTER</th>\n",
       "      <th>CUST_FREQ_CLUSTER</th>\n",
       "      <th>CUST_MONETARY_CLUSTER</th>\n",
       "      <th>OVERALL_SCORE</th>\n",
       "      <th>TARGET</th>\n",
       "    </tr>\n",
       "  </thead>\n",
       "  <tbody>\n",
       "    <tr>\n",
       "      <th>0</th>\n",
       "      <td>1655.75</td>\n",
       "      <td>2.736986</td>\n",
       "      <td>604.9537703152</td>\n",
       "      <td>17.537539</td>\n",
       "      <td>48</td>\n",
       "      <td>8</td>\n",
       "      <td>124</td>\n",
       "      <td>2</td>\n",
       "      <td>21.085106</td>\n",
       "      <td>55</td>\n",
       "      <td>2</td>\n",
       "      <td>1</td>\n",
       "      <td>1</td>\n",
       "      <td>0</td>\n",
       "      <td>2</td>\n",
       "      <td>10.0</td>\n",
       "    </tr>\n",
       "    <tr>\n",
       "      <th>1</th>\n",
       "      <td>1783.25</td>\n",
       "      <td>2.794521</td>\n",
       "      <td>638.1236712839</td>\n",
       "      <td>16.102939</td>\n",
       "      <td>45</td>\n",
       "      <td>5</td>\n",
       "      <td>137</td>\n",
       "      <td>1</td>\n",
       "      <td>23.068182</td>\n",
       "      <td>9</td>\n",
       "      <td>22</td>\n",
       "      <td>1</td>\n",
       "      <td>1</td>\n",
       "      <td>0</td>\n",
       "      <td>2</td>\n",
       "      <td>7.0</td>\n",
       "    </tr>\n",
       "    <tr>\n",
       "      <th>2</th>\n",
       "      <td>1741.25</td>\n",
       "      <td>2.783562</td>\n",
       "      <td>625.5474101170</td>\n",
       "      <td>19.758856</td>\n",
       "      <td>55</td>\n",
       "      <td>2</td>\n",
       "      <td>71</td>\n",
       "      <td>1</td>\n",
       "      <td>18.777778</td>\n",
       "      <td>7</td>\n",
       "      <td>8</td>\n",
       "      <td>1</td>\n",
       "      <td>1</td>\n",
       "      <td>0</td>\n",
       "      <td>2</td>\n",
       "      <td>5.0</td>\n",
       "    </tr>\n",
       "    <tr>\n",
       "      <th>3</th>\n",
       "      <td>1496.75</td>\n",
       "      <td>2.698630</td>\n",
       "      <td>554.6332768849</td>\n",
       "      <td>17.786803</td>\n",
       "      <td>48</td>\n",
       "      <td>3</td>\n",
       "      <td>99</td>\n",
       "      <td>1</td>\n",
       "      <td>20.893617</td>\n",
       "      <td>11</td>\n",
       "      <td>11</td>\n",
       "      <td>1</td>\n",
       "      <td>1</td>\n",
       "      <td>0</td>\n",
       "      <td>2</td>\n",
       "      <td>23.0</td>\n",
       "    </tr>\n",
       "    <tr>\n",
       "      <th>4</th>\n",
       "      <td>1585.50</td>\n",
       "      <td>2.780822</td>\n",
       "      <td>570.1551555619</td>\n",
       "      <td>16.901477</td>\n",
       "      <td>47</td>\n",
       "      <td>8</td>\n",
       "      <td>104</td>\n",
       "      <td>1</td>\n",
       "      <td>21.891304</td>\n",
       "      <td>1</td>\n",
       "      <td>7</td>\n",
       "      <td>1</td>\n",
       "      <td>1</td>\n",
       "      <td>0</td>\n",
       "      <td>2</td>\n",
       "      <td>29.0</td>\n",
       "    </tr>\n",
       "  </tbody>\n",
       "</table>\n",
       "</div>"
      ],
      "text/plain": [
       "   TOTAL_SPENT  YEARS_WITH_US  MONETARY_VALUE CUSTOMER_FREQUENCY  TOTAL_ORDER  \\\n",
       "0      1655.75       2.736986  604.9537703152          17.537539           48   \n",
       "1      1783.25       2.794521  638.1236712839          16.102939           45   \n",
       "2      1741.25       2.783562  625.5474101170          19.758856           55   \n",
       "3      1496.75       2.698630  554.6332768849          17.786803           48   \n",
       "4      1585.50       2.780822  570.1551555619          16.901477           47   \n",
       "\n",
       "   RECENCY_DAYS  MAX(DAYS_BETWEEN)  MIN(DAYS_BETWEEN) AVG(DAYS_BETWEEN)  \\\n",
       "0             8                124                  2         21.085106   \n",
       "1             5                137                  1         23.068182   \n",
       "2             2                 71                  1         18.777778   \n",
       "3             3                 99                  1         20.893617   \n",
       "4             8                104                  1         21.891304   \n",
       "\n",
       "   TRANS_DATEDIFF1  TRANS_DATEDIFF2  CUST_REC_CLUSTER  CUST_FREQ_CLUSTER  \\\n",
       "0               55                2                 1                  1   \n",
       "1                9               22                 1                  1   \n",
       "2                7                8                 1                  1   \n",
       "3               11               11                 1                  1   \n",
       "4                1                7                 1                  1   \n",
       "\n",
       "   CUST_MONETARY_CLUSTER  OVERALL_SCORE  TARGET  \n",
       "0                      0              2    10.0  \n",
       "1                      0              2     7.0  \n",
       "2                      0              2     5.0  \n",
       "3                      0              2    23.0  \n",
       "4                      0              2    29.0  "
      ]
     },
     "execution_count": 78,
     "metadata": {},
     "output_type": "execute_result"
    }
   ],
   "source": [
    "# save dataframe of customer_id \n",
    "customer_id_df = final_df[\"CUSTOMER_ID\"]\n",
    "\n",
    "final_df = final_df.drop([\"CUSTOMER_ID\"],  axis = 1)\n",
    "\n",
    "final_df.head()"
   ]
  },
  {
   "cell_type": "code",
   "execution_count": 79,
   "metadata": {},
   "outputs": [
    {
     "data": {
      "text/html": [
       "<div>\n",
       "<style scoped>\n",
       "    .dataframe tbody tr th:only-of-type {\n",
       "        vertical-align: middle;\n",
       "    }\n",
       "\n",
       "    .dataframe tbody tr th {\n",
       "        vertical-align: top;\n",
       "    }\n",
       "\n",
       "    .dataframe thead th {\n",
       "        text-align: right;\n",
       "    }\n",
       "</style>\n",
       "<table border=\"1\" class=\"dataframe\">\n",
       "  <thead>\n",
       "    <tr style=\"text-align: right;\">\n",
       "      <th></th>\n",
       "      <th>TOTAL_SPENT</th>\n",
       "      <th>YEARS_WITH_US</th>\n",
       "      <th>MONETARY_VALUE</th>\n",
       "      <th>CUSTOMER_FREQUENCY</th>\n",
       "      <th>TOTAL_ORDER</th>\n",
       "      <th>RECENCY_DAYS</th>\n",
       "      <th>MAX(DAYS_BETWEEN)</th>\n",
       "      <th>MIN(DAYS_BETWEEN)</th>\n",
       "      <th>AVG(DAYS_BETWEEN)</th>\n",
       "      <th>TRANS_DATEDIFF1</th>\n",
       "      <th>TRANS_DATEDIFF2</th>\n",
       "      <th>CUST_REC_CLUSTER</th>\n",
       "      <th>CUST_FREQ_CLUSTER</th>\n",
       "      <th>CUST_MONETARY_CLUSTER</th>\n",
       "      <th>OVERALL_SCORE</th>\n",
       "      <th>TARGET</th>\n",
       "    </tr>\n",
       "  </thead>\n",
       "  <tbody>\n",
       "    <tr>\n",
       "      <th>0</th>\n",
       "      <td>-0.795226</td>\n",
       "      <td>-0.722240</td>\n",
       "      <td>-0.500236</td>\n",
       "      <td>-0.123152</td>\n",
       "      <td>-0.469248</td>\n",
       "      <td>-0.311316</td>\n",
       "      <td>-0.075063</td>\n",
       "      <td>2.363129</td>\n",
       "      <td>-0.117054</td>\n",
       "      <td>3.149333</td>\n",
       "      <td>-0.860735</td>\n",
       "      <td>0.419586</td>\n",
       "      <td>-0.149847</td>\n",
       "      <td>-1.325557</td>\n",
       "      <td>-0.480222</td>\n",
       "      <td>10.0</td>\n",
       "    </tr>\n",
       "    <tr>\n",
       "      <th>1</th>\n",
       "      <td>-0.534959</td>\n",
       "      <td>-0.552129</td>\n",
       "      <td>-0.319121</td>\n",
       "      <td>-0.464208</td>\n",
       "      <td>-0.751143</td>\n",
       "      <td>-0.540075</td>\n",
       "      <td>0.109739</td>\n",
       "      <td>-0.259360</td>\n",
       "      <td>0.182350</td>\n",
       "      <td>-0.344834</td>\n",
       "      <td>0.655171</td>\n",
       "      <td>0.419586</td>\n",
       "      <td>-0.149847</td>\n",
       "      <td>-1.325557</td>\n",
       "      <td>-0.480222</td>\n",
       "      <td>7.0</td>\n",
       "    </tr>\n",
       "    <tr>\n",
       "      <th>2</th>\n",
       "      <td>-0.620694</td>\n",
       "      <td>-0.584531</td>\n",
       "      <td>-0.387790</td>\n",
       "      <td>0.404935</td>\n",
       "      <td>0.188506</td>\n",
       "      <td>-0.768833</td>\n",
       "      <td>-0.828489</td>\n",
       "      <td>-0.259360</td>\n",
       "      <td>-0.465412</td>\n",
       "      <td>-0.496755</td>\n",
       "      <td>-0.405963</td>\n",
       "      <td>0.419586</td>\n",
       "      <td>-0.149847</td>\n",
       "      <td>-1.325557</td>\n",
       "      <td>-0.480222</td>\n",
       "      <td>5.0</td>\n",
       "    </tr>\n",
       "    <tr>\n",
       "      <th>3</th>\n",
       "      <td>-1.119794</td>\n",
       "      <td>-0.835646</td>\n",
       "      <td>-0.774998</td>\n",
       "      <td>-0.063893</td>\n",
       "      <td>-0.469248</td>\n",
       "      <td>-0.692580</td>\n",
       "      <td>-0.430453</td>\n",
       "      <td>-0.259360</td>\n",
       "      <td>-0.145964</td>\n",
       "      <td>-0.192914</td>\n",
       "      <td>-0.178577</td>\n",
       "      <td>0.419586</td>\n",
       "      <td>-0.149847</td>\n",
       "      <td>-1.325557</td>\n",
       "      <td>-0.480222</td>\n",
       "      <td>23.0</td>\n",
       "    </tr>\n",
       "    <tr>\n",
       "      <th>4</th>\n",
       "      <td>-0.938628</td>\n",
       "      <td>-0.592632</td>\n",
       "      <td>-0.690245</td>\n",
       "      <td>-0.274367</td>\n",
       "      <td>-0.563213</td>\n",
       "      <td>-0.311316</td>\n",
       "      <td>-0.359375</td>\n",
       "      <td>-0.259360</td>\n",
       "      <td>0.004666</td>\n",
       "      <td>-0.952516</td>\n",
       "      <td>-0.481758</td>\n",
       "      <td>0.419586</td>\n",
       "      <td>-0.149847</td>\n",
       "      <td>-1.325557</td>\n",
       "      <td>-0.480222</td>\n",
       "      <td>29.0</td>\n",
       "    </tr>\n",
       "  </tbody>\n",
       "</table>\n",
       "</div>"
      ],
      "text/plain": [
       "   TOTAL_SPENT  YEARS_WITH_US  MONETARY_VALUE  CUSTOMER_FREQUENCY  \\\n",
       "0    -0.795226      -0.722240       -0.500236           -0.123152   \n",
       "1    -0.534959      -0.552129       -0.319121           -0.464208   \n",
       "2    -0.620694      -0.584531       -0.387790            0.404935   \n",
       "3    -1.119794      -0.835646       -0.774998           -0.063893   \n",
       "4    -0.938628      -0.592632       -0.690245           -0.274367   \n",
       "\n",
       "   TOTAL_ORDER  RECENCY_DAYS  MAX(DAYS_BETWEEN)  MIN(DAYS_BETWEEN)  \\\n",
       "0    -0.469248     -0.311316          -0.075063           2.363129   \n",
       "1    -0.751143     -0.540075           0.109739          -0.259360   \n",
       "2     0.188506     -0.768833          -0.828489          -0.259360   \n",
       "3    -0.469248     -0.692580          -0.430453          -0.259360   \n",
       "4    -0.563213     -0.311316          -0.359375          -0.259360   \n",
       "\n",
       "   AVG(DAYS_BETWEEN)  TRANS_DATEDIFF1  TRANS_DATEDIFF2  CUST_REC_CLUSTER  \\\n",
       "0          -0.117054         3.149333        -0.860735          0.419586   \n",
       "1           0.182350        -0.344834         0.655171          0.419586   \n",
       "2          -0.465412        -0.496755        -0.405963          0.419586   \n",
       "3          -0.145964        -0.192914        -0.178577          0.419586   \n",
       "4           0.004666        -0.952516        -0.481758          0.419586   \n",
       "\n",
       "   CUST_FREQ_CLUSTER  CUST_MONETARY_CLUSTER  OVERALL_SCORE  TARGET  \n",
       "0          -0.149847              -1.325557      -0.480222    10.0  \n",
       "1          -0.149847              -1.325557      -0.480222     7.0  \n",
       "2          -0.149847              -1.325557      -0.480222     5.0  \n",
       "3          -0.149847              -1.325557      -0.480222    23.0  \n",
       "4          -0.149847              -1.325557      -0.480222    29.0  "
      ]
     },
     "execution_count": 79,
     "metadata": {},
     "output_type": "execute_result"
    }
   ],
   "source": [
    "# Drop target\n",
    "target = final_df['TARGET']\n",
    "final_df.drop('TARGET', axis = 1, inplace = True)\n",
    "\n",
    "scaler = StandardScaler()\n",
    "scaler.fit(final_df)\n",
    "\n",
    "final_scaled = scaler.transform(final_df)\n",
    "final_scaled = pd.DataFrame(final_scaled, columns=final_df.columns)\n",
    "\n",
    "#assign target variable back to scaled data frame\n",
    "final_scaled = final_scaled.assign(TARGET = target)\n",
    "\n",
    "final_scaled.head()"
   ]
  },
  {
   "attachments": {},
   "cell_type": "markdown",
   "metadata": {},
   "source": [
    "### 5.2 Train Test Split <a id=\"part5.2\"></a>"
   ]
  },
  {
   "cell_type": "code",
   "execution_count": 80,
   "metadata": {},
   "outputs": [],
   "source": [
    "# Define ratio for model \n",
    "train_ratio = 0.70\n",
    "test_ratio = 0.20\n",
    "holdout_ratio = 0.10\n",
    "\n",
    "# Define Model Inputs (X) and Output (y)\n",
    "X = final_scaled.drop('TARGET',axis=1)\n",
    "y = final_scaled[\"TARGET\"]\n",
    "\n",
    "# Split both Inputs (X) and Ouput (y) into training set (70%) and testing set (20%)\n",
    "X_train, X_test, y_train, y_test = train_test_split(X, y, test_size=1-train_ratio, random_state=1)\n",
    "X_holdout, X_test, y_holdout, y_test = train_test_split(X_test, y_test, test_size=test_ratio/(test_ratio + holdout_ratio)) "
   ]
  },
  {
   "attachments": {},
   "cell_type": "markdown",
   "metadata": {},
   "source": [
    "### 5.3 Linear Regression <a id=\"part5.3\"></a>"
   ]
  },
  {
   "cell_type": "code",
   "execution_count": 81,
   "metadata": {},
   "outputs": [
    {
     "name": "stdout",
     "output_type": "stream",
     "text": [
      "The Training Mean Squared Error for Linear Regression Model is:  79.1709718715323\n",
      "The Testing Mean Squared Error for Linear Regression Model is:  80.65734688127\n",
      "\n",
      "The Training R^2 for Linear Regression Model is:  0.7069415576440761\n",
      "The Testing R^2 for Linear Regression Model is:  0.7170796949634697\n"
     ]
    }
   ],
   "source": [
    "# Create the model \"lg\"\n",
    "lg = LinearRegression()\n",
    "lg.fit(X_train, y_train)\n",
    "\n",
    "#MSE\n",
    "\n",
    "train_mse = mean_squared_error(lg.predict(X_train), y_train)\n",
    "print('The Training Mean Squared Error for Linear Regression Model is: ', train_mse)\n",
    "test_mse = mean_squared_error(lg.predict(X_test), y_test)\n",
    "print('The Testing Mean Squared Error for Linear Regression Model is: ',test_mse)\n",
    "\n",
    "print('')\n",
    "\n",
    "#R^2\n",
    "\n",
    "train_R2 = lg.score(X_train, y_train)\n",
    "print('The Training R^2 for Linear Regression Model is: ', train_R2)\n",
    "\n",
    "test_R2 = lg.score(X_test, y_test)\n",
    "print('The Testing R^2 for Linear Regression Model is: ', test_R2)"
   ]
  },
  {
   "attachments": {},
   "cell_type": "markdown",
   "metadata": {},
   "source": [
    "### 5.4 Decision Tree <a id=\"part5.4\"></a>"
   ]
  },
  {
   "cell_type": "code",
   "execution_count": 162,
   "metadata": {},
   "outputs": [
    {
     "name": "stdout",
     "output_type": "stream",
     "text": [
      "The Training Mean Squared Error for Decision Tree Regressor Model is:  108.16778341952242\n",
      "The Testing Mean Squared Error for Decision Tree Regressor Model is:  113.2388604068907\n",
      "\n",
      "The Training R^2 for Decision Tree Regressor Model is:  0.5996072629567347\n",
      "The Testing R^2 for Decision Tree Regressor is:  0.61134516061644\n"
     ]
    }
   ],
   "source": [
    "dt = tree.DecisionTreeRegressor(max_depth=2, random_state=1)\n",
    "dt.fit(X_train, y_train)\n",
    "\n",
    "#MSE\n",
    "\n",
    "train_mse = mean_squared_error(dt.predict(X_train), y_train)\n",
    "print('The Training Mean Squared Error for Decision Tree Regressor Model is: ', train_mse)\n",
    "test_mse = mean_squared_error(dt.predict(X_test), y_test)\n",
    "print('The Testing Mean Squared Error for Decision Tree Regressor Model is: ',test_mse)\n",
    "\n",
    "print('')\n",
    "\n",
    "#R^2\n",
    "\n",
    "train_R2 = dt.score(X_train, y_train)\n",
    "print('The Training R^2 for Decision Tree Regressor Model is: ', train_R2)\n",
    "\n",
    "test_R2 = dt.score(X_test, y_test)\n",
    "print('The Testing R^2 for Decision Tree Regressor is: ', test_R2)"
   ]
  },
  {
   "cell_type": "code",
   "execution_count": 163,
   "metadata": {},
   "outputs": [
    {
     "data": {
      "text/html": [
       "<div>\n",
       "<style scoped>\n",
       "    .dataframe tbody tr th:only-of-type {\n",
       "        vertical-align: middle;\n",
       "    }\n",
       "\n",
       "    .dataframe tbody tr th {\n",
       "        vertical-align: top;\n",
       "    }\n",
       "\n",
       "    .dataframe thead th {\n",
       "        text-align: right;\n",
       "    }\n",
       "</style>\n",
       "<table border=\"1\" class=\"dataframe\">\n",
       "  <thead>\n",
       "    <tr style=\"text-align: right;\">\n",
       "      <th></th>\n",
       "      <th>feature</th>\n",
       "      <th>importance</th>\n",
       "    </tr>\n",
       "  </thead>\n",
       "  <tbody>\n",
       "    <tr>\n",
       "      <th>11</th>\n",
       "      <td>CUST_REC_CLUSTER</td>\n",
       "      <td>0.739399</td>\n",
       "    </tr>\n",
       "    <tr>\n",
       "      <th>5</th>\n",
       "      <td>RECENCY_DAYS</td>\n",
       "      <td>0.260601</td>\n",
       "    </tr>\n",
       "    <tr>\n",
       "      <th>0</th>\n",
       "      <td>TOTAL_SPENT</td>\n",
       "      <td>0.000000</td>\n",
       "    </tr>\n",
       "    <tr>\n",
       "      <th>1</th>\n",
       "      <td>YEARS_WITH_US</td>\n",
       "      <td>0.000000</td>\n",
       "    </tr>\n",
       "    <tr>\n",
       "      <th>2</th>\n",
       "      <td>MONETARY_VALUE</td>\n",
       "      <td>0.000000</td>\n",
       "    </tr>\n",
       "    <tr>\n",
       "      <th>3</th>\n",
       "      <td>CUSTOMER_FREQUENCY</td>\n",
       "      <td>0.000000</td>\n",
       "    </tr>\n",
       "    <tr>\n",
       "      <th>4</th>\n",
       "      <td>TOTAL_ORDER</td>\n",
       "      <td>0.000000</td>\n",
       "    </tr>\n",
       "    <tr>\n",
       "      <th>6</th>\n",
       "      <td>MAX(DAYS_BETWEEN)</td>\n",
       "      <td>0.000000</td>\n",
       "    </tr>\n",
       "    <tr>\n",
       "      <th>7</th>\n",
       "      <td>MIN(DAYS_BETWEEN)</td>\n",
       "      <td>0.000000</td>\n",
       "    </tr>\n",
       "    <tr>\n",
       "      <th>8</th>\n",
       "      <td>AVG(DAYS_BETWEEN)</td>\n",
       "      <td>0.000000</td>\n",
       "    </tr>\n",
       "    <tr>\n",
       "      <th>9</th>\n",
       "      <td>TRANS_DATEDIFF1</td>\n",
       "      <td>0.000000</td>\n",
       "    </tr>\n",
       "    <tr>\n",
       "      <th>10</th>\n",
       "      <td>TRANS_DATEDIFF2</td>\n",
       "      <td>0.000000</td>\n",
       "    </tr>\n",
       "    <tr>\n",
       "      <th>12</th>\n",
       "      <td>CUST_FREQ_CLUSTER</td>\n",
       "      <td>0.000000</td>\n",
       "    </tr>\n",
       "    <tr>\n",
       "      <th>13</th>\n",
       "      <td>CUST_MONETARY_CLUSTER</td>\n",
       "      <td>0.000000</td>\n",
       "    </tr>\n",
       "    <tr>\n",
       "      <th>14</th>\n",
       "      <td>OVERALL_SCORE</td>\n",
       "      <td>0.000000</td>\n",
       "    </tr>\n",
       "  </tbody>\n",
       "</table>\n",
       "</div>"
      ],
      "text/plain": [
       "                  feature  importance\n",
       "11       CUST_REC_CLUSTER    0.739399\n",
       "5            RECENCY_DAYS    0.260601\n",
       "0             TOTAL_SPENT    0.000000\n",
       "1           YEARS_WITH_US    0.000000\n",
       "2          MONETARY_VALUE    0.000000\n",
       "3      CUSTOMER_FREQUENCY    0.000000\n",
       "4             TOTAL_ORDER    0.000000\n",
       "6       MAX(DAYS_BETWEEN)    0.000000\n",
       "7       MIN(DAYS_BETWEEN)    0.000000\n",
       "8       AVG(DAYS_BETWEEN)    0.000000\n",
       "9         TRANS_DATEDIFF1    0.000000\n",
       "10        TRANS_DATEDIFF2    0.000000\n",
       "12      CUST_FREQ_CLUSTER    0.000000\n",
       "13  CUST_MONETARY_CLUSTER    0.000000\n",
       "14          OVERALL_SCORE    0.000000"
      ]
     },
     "execution_count": 163,
     "metadata": {},
     "output_type": "execute_result"
    }
   ],
   "source": [
    "# Computing feature importance\n",
    "pd.concat((pd.DataFrame(X_train.columns, columns = ['feature']), \n",
    "           pd.DataFrame(dt.feature_importances_, columns = ['importance'])), \n",
    "          axis = 1).sort_values(by='importance', ascending = False)"
   ]
  },
  {
   "attachments": {},
   "cell_type": "markdown",
   "metadata": {},
   "source": [
    "#### 5.5 Random Forest Model <a id=\"part5-5\"></a>"
   ]
  },
  {
   "cell_type": "code",
   "execution_count": 164,
   "metadata": {},
   "outputs": [
    {
     "name": "stdout",
     "output_type": "stream",
     "text": [
      "The Training Mean Squared Error for Random Forest Regressor Model is:  105.3346548302973\n",
      "The Testing Mean Squared Error for Random Forest Regressor Model is:  110.3967885069847\n",
      "\n",
      "The Training R^2 for Random Forest Regressor Model is:  0.6100943421440359\n",
      "The Testing R^2 for Random Forest Regressor Model is:  0.621099630008003\n"
     ]
    }
   ],
   "source": [
    "# Create Random Forest Model\n",
    "rf = RandomForestRegressor(max_depth=2, random_state=1, n_estimators=20)\n",
    "# Y_train is a 1D array, use ravel() to change the shape of Y_train to (n_samples,) before feed it into fit function\n",
    "rf.fit(X_train, y_train.ravel())\n",
    "\n",
    "#MSE\n",
    "\n",
    "train_mse = mean_squared_error(rf.predict(X_train), y_train)\n",
    "print('The Training Mean Squared Error for Random Forest Regressor Model is: ', train_mse)\n",
    "test_mse = mean_squared_error(rf.predict(X_test), y_test)\n",
    "print('The Testing Mean Squared Error for Random Forest Regressor Model is: ',test_mse)\n",
    "\n",
    "print('')\n",
    "\n",
    "#R^2\n",
    "\n",
    "train_R2 = rf.score(X_train, y_train)\n",
    "print('The Training R^2 for Random Forest Regressor Model is: ', train_R2)\n",
    "\n",
    "test_R2 = rf.score(X_test, y_test)\n",
    "print('The Testing R^2 for Random Forest Regressor Model is: ', test_R2)"
   ]
  },
  {
   "attachments": {},
   "cell_type": "markdown",
   "metadata": {},
   "source": [
    "#### 5.6 ANN Model <a id=\"part5-6\"></a>"
   ]
  },
  {
   "cell_type": "code",
   "execution_count": 165,
   "metadata": {},
   "outputs": [
    {
     "name": "stdout",
     "output_type": "stream",
     "text": [
      "The Training Mean Squared Error for ANN Model is:  140.36801505754573\n",
      "The Testing Mean Squared Error for ANN Model is:  149.12795594428246\n",
      "\n",
      "The Training R^2 for ANN Model is:  0.05807028911722052\n",
      "The Testing R^2 for ANN Model is:  0.05398984990821726\n"
     ]
    }
   ],
   "source": [
    "# Create the ann model\n",
    "mlp = MLPClassifier(activation ='logistic', hidden_layer_sizes=(10,), max_iter= 2000, solver = 'sgd', random_state=1)\n",
    "# Fit the model to the training set\n",
    "mlp.fit(X_train,y_train)\n",
    "\n",
    "#MSE\n",
    "\n",
    "train_mse = mean_squared_error(mlp.predict(X_train), y_train)\n",
    "print('The Training Mean Squared Error for ANN Model is: ', train_mse)\n",
    "test_mse = mean_squared_error(mlp.predict(X_test), y_test)\n",
    "print('The Testing Mean Squared Error for ANN Model is: ',test_mse)\n",
    "\n",
    "print('')\n",
    "\n",
    "#R^2\n",
    "\n",
    "train_R2 = mlp.score(X_train, y_train)\n",
    "print('The Training R^2 for ANN Model is: ', train_R2)\n",
    "\n",
    "test_R2 = mlp.score(X_test, y_test)\n",
    "print('The Testing R^2 for ANN Model is: ', test_R2)"
   ]
  },
  {
   "attachments": {},
   "cell_type": "markdown",
   "metadata": {},
   "source": [
    "#### 5.7 SVM Model <a id=\"part5-7\"></a>"
   ]
  },
  {
   "cell_type": "code",
   "execution_count": 166,
   "metadata": {},
   "outputs": [
    {
     "name": "stdout",
     "output_type": "stream",
     "text": [
      "The Training Mean Squared Error for SVM Model is:  97.44397948413193\n",
      "The Testing Mean Squared Error for SVM Model is:  104.79223171734088\n",
      "\n",
      "The Training R^2 for SVM Model is:  0.6393023835690648\n",
      "The Testing R^2 for SVM Model is:  0.6403354127690464\n"
     ]
    }
   ],
   "source": [
    "# Create the SVM model\n",
    "svm = SVR()\n",
    "svm.fit(X_train, y_train)\n",
    "\n",
    "#MSE\n",
    "\n",
    "train_mse = mean_squared_error(svm.predict(X_train), y_train)\n",
    "print('The Training Mean Squared Error for SVM Model is: ', train_mse)\n",
    "test_mse = mean_squared_error(svm.predict(X_test), y_test)\n",
    "print('The Testing Mean Squared Error for SVM Model is: ',test_mse)\n",
    "\n",
    "print('')\n",
    "\n",
    "#R^2\n",
    "\n",
    "train_R2 = svm.score(X_train, y_train)\n",
    "print('The Training R^2 for SVM Model is: ', train_R2)\n",
    "\n",
    "test_R2 = svm.score(X_test, y_test)\n",
    "print('The Testing R^2 for SVM Model is: ', test_R2)"
   ]
  },
  {
   "cell_type": "markdown",
   "metadata": {},
   "source": [
    "#### 5.8 XGBoost Model <a id=\"part5-8\"></a>"
   ]
  },
  {
   "cell_type": "code",
   "execution_count": 167,
   "metadata": {},
   "outputs": [
    {
     "name": "stdout",
     "output_type": "stream",
     "text": [
      "The Training Mean Squared Error for XGBoost is:  51.04512132709465\n",
      "The Testing Mean Squared Error for XGBoost is:  87.5447715989128\n",
      "\n",
      "The Training R^2 for XGBoost is:  0.8110519121798676\n",
      "The Testing R^2 for XGBoost is:  0.6995316005266381\n"
     ]
    }
   ],
   "source": [
    "# Create an instance of the model\n",
    "xgb = XGBRegressor()\n",
    "\n",
    "# Fit the XGBClassifier to the training data\n",
    "xgb.fit(X_train,y_train.ravel())\n",
    "\n",
    "#MSE\n",
    "\n",
    "train_mse = mean_squared_error(xgb.predict(X_train), y_train)\n",
    "print('The Training Mean Squared Error for XGBoost is: ', train_mse)\n",
    "test_mse = mean_squared_error(xgb.predict(X_test), y_test)\n",
    "print('The Testing Mean Squared Error for XGBoost is: ',test_mse)\n",
    "\n",
    "print('')\n",
    "\n",
    "#R^2\n",
    "\n",
    "train_R2 = xgb.score(X_train, y_train)\n",
    "print('The Training R^2 for XGBoost is: ', train_R2)\n",
    "\n",
    "test_R2 = xgb.score(X_test, y_test)\n",
    "print('The Testing R^2 for XGBoost is: ', test_R2)"
   ]
  },
  {
   "cell_type": "markdown",
   "metadata": {},
   "source": [
    "#### 5.9 Improving the model <a id=\"part5-9\"></a>"
   ]
  },
  {
   "cell_type": "code",
   "execution_count": 82,
   "metadata": {},
   "outputs": [
    {
     "name": "stdout",
     "output_type": "stream",
     "text": [
      "train_score:  [-78.90451832 -79.28669021 -79.07622485 -79.23119553 -79.27517065]\n",
      "test_score:  [-80.34914867 -78.77485791 -79.626259   -79.01139076 -78.82206116]\n",
      "\n",
      "The Cross Val Train Accuracy for Linear Regression Model is:  -79.1547599110739\n",
      "The Cross Val Test Accuracy for Linear Regression Model is:  -79.31674349889003\n"
     ]
    }
   ],
   "source": [
    "# K-folds Cross Validation Evaluation method\n",
    "results  = cross_validate(lg, X_train, y_train, scoring='neg_mean_squared_error', cv=5, return_train_score = True)\n",
    "print('train_score: ', results['train_score'])\n",
    "print('test_score: ', results['test_score'])\n",
    "print(\"\")\n",
    "print('The Cross Val Train Accuracy for Linear Regression Model is: ',sum(results['train_score'])/len(results['train_score']))\n",
    "print('The Cross Val Test Accuracy for Linear Regression Model is: ',sum(results['test_score'])/len(results['test_score']))"
   ]
  },
  {
   "cell_type": "code",
   "execution_count": 83,
   "metadata": {},
   "outputs": [],
   "source": [
    "stats_model = sm.OLS(y_train, X_train).fit()"
   ]
  },
  {
   "cell_type": "code",
   "execution_count": 84,
   "metadata": {},
   "outputs": [
    {
     "data": {
      "text/html": [
       "<table class=\"simpletable\">\n",
       "<caption>OLS Regression Results</caption>\n",
       "<tr>\n",
       "  <th>Dep. Variable:</th>         <td>TARGET</td>      <th>  R-squared (uncentered):</th>       <td>   0.251</td>  \n",
       "</tr>\n",
       "<tr>\n",
       "  <th>Model:</th>                   <td>OLS</td>       <th>  Adj. R-squared (uncentered):</th>  <td>   0.250</td>  \n",
       "</tr>\n",
       "<tr>\n",
       "  <th>Method:</th>             <td>Least Squares</td>  <th>  F-statistic:       </th>           <td>   773.7</td>  \n",
       "</tr>\n",
       "<tr>\n",
       "  <th>Date:</th>             <td>Sun, 09 Jul 2023</td> <th>  Prob (F-statistic):</th>            <td>  0.00</td>   \n",
       "</tr>\n",
       "<tr>\n",
       "  <th>Time:</th>                 <td>21:02:24</td>     <th>  Log-Likelihood:    </th>          <td>-1.4854e+05</td>\n",
       "</tr>\n",
       "<tr>\n",
       "  <th>No. Observations:</th>      <td> 32409</td>      <th>  AIC:               </th>           <td>2.971e+05</td> \n",
       "</tr>\n",
       "<tr>\n",
       "  <th>Df Residuals:</th>          <td> 32395</td>      <th>  BIC:               </th>           <td>2.972e+05</td> \n",
       "</tr>\n",
       "<tr>\n",
       "  <th>Df Model:</th>              <td>    14</td>      <th>                     </th>               <td> </td>     \n",
       "</tr>\n",
       "<tr>\n",
       "  <th>Covariance Type:</th>      <td>nonrobust</td>    <th>                     </th>               <td> </td>     \n",
       "</tr>\n",
       "</table>\n",
       "<table class=\"simpletable\">\n",
       "<tr>\n",
       "            <td></td>               <th>coef</th>     <th>std err</th>      <th>t</th>      <th>P>|t|</th>  <th>[0.025</th>    <th>0.975]</th>  \n",
       "</tr>\n",
       "<tr>\n",
       "  <th>TOTAL_SPENT</th>           <td>    1.1381</td> <td>    2.869</td> <td>    0.397</td> <td> 0.692</td> <td>   -4.485</td> <td>    6.761</td>\n",
       "</tr>\n",
       "<tr>\n",
       "  <th>YEARS_WITH_US</th>         <td>    1.3482</td> <td>    0.771</td> <td>    1.750</td> <td> 0.080</td> <td>   -0.162</td> <td>    2.859</td>\n",
       "</tr>\n",
       "<tr>\n",
       "  <th>MONETARY_VALUE</th>        <td>   -1.2024</td> <td>    3.144</td> <td>   -0.382</td> <td> 0.702</td> <td>   -7.365</td> <td>    4.961</td>\n",
       "</tr>\n",
       "<tr>\n",
       "  <th>CUSTOMER_FREQUENCY</th>    <td>    4.4067</td> <td>    3.320</td> <td>    1.327</td> <td> 0.184</td> <td>   -2.101</td> <td>   10.914</td>\n",
       "</tr>\n",
       "<tr>\n",
       "  <th>TOTAL_ORDER</th>           <td>   -3.7780</td> <td>    2.950</td> <td>   -1.280</td> <td> 0.200</td> <td>   -9.561</td> <td>    2.005</td>\n",
       "</tr>\n",
       "<tr>\n",
       "  <th>RECENCY_DAYS</th>          <td>   12.7621</td> <td>    0.229</td> <td>   55.739</td> <td> 0.000</td> <td>   12.313</td> <td>   13.211</td>\n",
       "</tr>\n",
       "<tr>\n",
       "  <th>MAX(DAYS_BETWEEN)</th>     <td>    0.1632</td> <td>    0.202</td> <td>    0.809</td> <td> 0.419</td> <td>   -0.232</td> <td>    0.559</td>\n",
       "</tr>\n",
       "<tr>\n",
       "  <th>MIN(DAYS_BETWEEN)</th>     <td>   -0.1213</td> <td>    0.142</td> <td>   -0.857</td> <td> 0.391</td> <td>   -0.399</td> <td>    0.156</td>\n",
       "</tr>\n",
       "<tr>\n",
       "  <th>AVG(DAYS_BETWEEN)</th>     <td>    3.3786</td> <td>    0.603</td> <td>    5.598</td> <td> 0.000</td> <td>    2.196</td> <td>    4.561</td>\n",
       "</tr>\n",
       "<tr>\n",
       "  <th>TRANS_DATEDIFF1</th>       <td>   -0.1217</td> <td>    0.135</td> <td>   -0.904</td> <td> 0.366</td> <td>   -0.386</td> <td>    0.142</td>\n",
       "</tr>\n",
       "<tr>\n",
       "  <th>TRANS_DATEDIFF2</th>       <td>   -0.0331</td> <td>    0.134</td> <td>   -0.247</td> <td> 0.805</td> <td>   -0.296</td> <td>    0.230</td>\n",
       "</tr>\n",
       "<tr>\n",
       "  <th>CUST_REC_CLUSTER</th>      <td>   -0.1639</td> <td>    0.218</td> <td>   -0.753</td> <td> 0.452</td> <td>   -0.591</td> <td>    0.263</td>\n",
       "</tr>\n",
       "<tr>\n",
       "  <th>CUST_FREQ_CLUSTER</th>     <td>   -0.1342</td> <td>    0.273</td> <td>   -0.491</td> <td> 0.624</td> <td>   -0.670</td> <td>    0.402</td>\n",
       "</tr>\n",
       "<tr>\n",
       "  <th>CUST_MONETARY_CLUSTER</th> <td>    0.2413</td> <td>    0.222</td> <td>    1.088</td> <td> 0.277</td> <td>   -0.193</td> <td>    0.676</td>\n",
       "</tr>\n",
       "<tr>\n",
       "  <th>OVERALL_SCORE</th>         <td>   -0.0343</td> <td>    0.141</td> <td>   -0.243</td> <td> 0.808</td> <td>   -0.311</td> <td>    0.242</td>\n",
       "</tr>\n",
       "</table>\n",
       "<table class=\"simpletable\">\n",
       "<tr>\n",
       "  <th>Omnibus:</th>       <td>2343.950</td> <th>  Durbin-Watson:     </th> <td>   0.283</td>\n",
       "</tr>\n",
       "<tr>\n",
       "  <th>Prob(Omnibus):</th>  <td> 0.000</td>  <th>  Jarque-Bera (JB):  </th> <td>1619.867</td>\n",
       "</tr>\n",
       "<tr>\n",
       "  <th>Skew:</th>           <td> 0.438</td>  <th>  Prob(JB):          </th> <td>    0.00</td>\n",
       "</tr>\n",
       "<tr>\n",
       "  <th>Kurtosis:</th>       <td> 2.343</td>  <th>  Cond. No.          </th> <td>8.45e+15</td>\n",
       "</tr>\n",
       "</table><br/><br/>Notes:<br/>[1] R² is computed without centering (uncentered) since the model does not contain a constant.<br/>[2] Standard Errors assume that the covariance matrix of the errors is correctly specified.<br/>[3] The smallest eigenvalue is 3.51e-27. This might indicate that there are<br/>strong multicollinearity problems or that the design matrix is singular."
      ],
      "text/plain": [
       "<class 'statsmodels.iolib.summary.Summary'>\n",
       "\"\"\"\n",
       "                                 OLS Regression Results                                \n",
       "=======================================================================================\n",
       "Dep. Variable:                 TARGET   R-squared (uncentered):                   0.251\n",
       "Model:                            OLS   Adj. R-squared (uncentered):              0.250\n",
       "Method:                 Least Squares   F-statistic:                              773.7\n",
       "Date:                Sun, 09 Jul 2023   Prob (F-statistic):                        0.00\n",
       "Time:                        21:02:24   Log-Likelihood:                     -1.4854e+05\n",
       "No. Observations:               32409   AIC:                                  2.971e+05\n",
       "Df Residuals:                   32395   BIC:                                  2.972e+05\n",
       "Df Model:                          14                                                  \n",
       "Covariance Type:            nonrobust                                                  \n",
       "=========================================================================================\n",
       "                            coef    std err          t      P>|t|      [0.025      0.975]\n",
       "-----------------------------------------------------------------------------------------\n",
       "TOTAL_SPENT               1.1381      2.869      0.397      0.692      -4.485       6.761\n",
       "YEARS_WITH_US             1.3482      0.771      1.750      0.080      -0.162       2.859\n",
       "MONETARY_VALUE           -1.2024      3.144     -0.382      0.702      -7.365       4.961\n",
       "CUSTOMER_FREQUENCY        4.4067      3.320      1.327      0.184      -2.101      10.914\n",
       "TOTAL_ORDER              -3.7780      2.950     -1.280      0.200      -9.561       2.005\n",
       "RECENCY_DAYS             12.7621      0.229     55.739      0.000      12.313      13.211\n",
       "MAX(DAYS_BETWEEN)         0.1632      0.202      0.809      0.419      -0.232       0.559\n",
       "MIN(DAYS_BETWEEN)        -0.1213      0.142     -0.857      0.391      -0.399       0.156\n",
       "AVG(DAYS_BETWEEN)         3.3786      0.603      5.598      0.000       2.196       4.561\n",
       "TRANS_DATEDIFF1          -0.1217      0.135     -0.904      0.366      -0.386       0.142\n",
       "TRANS_DATEDIFF2          -0.0331      0.134     -0.247      0.805      -0.296       0.230\n",
       "CUST_REC_CLUSTER         -0.1639      0.218     -0.753      0.452      -0.591       0.263\n",
       "CUST_FREQ_CLUSTER        -0.1342      0.273     -0.491      0.624      -0.670       0.402\n",
       "CUST_MONETARY_CLUSTER     0.2413      0.222      1.088      0.277      -0.193       0.676\n",
       "OVERALL_SCORE            -0.0343      0.141     -0.243      0.808      -0.311       0.242\n",
       "==============================================================================\n",
       "Omnibus:                     2343.950   Durbin-Watson:                   0.283\n",
       "Prob(Omnibus):                  0.000   Jarque-Bera (JB):             1619.867\n",
       "Skew:                           0.438   Prob(JB):                         0.00\n",
       "Kurtosis:                       2.343   Cond. No.                     8.45e+15\n",
       "==============================================================================\n",
       "\n",
       "Notes:\n",
       "[1] R² is computed without centering (uncentered) since the model does not contain a constant.\n",
       "[2] Standard Errors assume that the covariance matrix of the errors is correctly specified.\n",
       "[3] The smallest eigenvalue is 3.51e-27. This might indicate that there are\n",
       "strong multicollinearity problems or that the design matrix is singular.\n",
       "\"\"\""
      ]
     },
     "execution_count": 84,
     "metadata": {},
     "output_type": "execute_result"
    }
   ],
   "source": [
    "stats_model.summary()"
   ]
  },
  {
   "cell_type": "code",
   "execution_count": 85,
   "metadata": {},
   "outputs": [],
   "source": [
    "X_train.drop([\"TRANS_DATEDIFF2\", \"MONETARY_VALUE\", \"TOTAL_SPENT\", \"OVERALL_SCORE\", \"CUST_FREQ_CLUSTER\"], axis=1, inplace=True)\n",
    "X_test.drop([\"TRANS_DATEDIFF2\", \"MONETARY_VALUE\", \"TOTAL_SPENT\", \"OVERALL_SCORE\", \"CUST_FREQ_CLUSTER\"], axis=1, inplace=True)"
   ]
  },
  {
   "cell_type": "code",
   "execution_count": 86,
   "metadata": {},
   "outputs": [
    {
     "name": "stdout",
     "output_type": "stream",
     "text": [
      "The Training Mean Squared Error for Linear Regression Model is:  79.19060100467416\n",
      "The Testing Mean Squared Error for Linear Regression Model is:  80.69087628153095\n",
      "\n",
      "The Training R^2 for Linear Regression Model is:  0.7068688986499096\n",
      "The Testing R^2 for Linear Regression Model is:  0.7169620844975133\n"
     ]
    }
   ],
   "source": [
    "# Create the model \"lg\"\n",
    "lg = LinearRegression()\n",
    "lg.fit(X_train, y_train)\n",
    "\n",
    "#MSE\n",
    "\n",
    "train_mse = mean_squared_error(lg.predict(X_train), y_train)\n",
    "print('The Training Mean Squared Error for Linear Regression Model is: ', train_mse)\n",
    "test_mse = mean_squared_error(lg.predict(X_test), y_test)\n",
    "print('The Testing Mean Squared Error for Linear Regression Model is: ',test_mse)\n",
    "\n",
    "print('')\n",
    "\n",
    "#R^2\n",
    "\n",
    "train_R2 = lg.score(X_train, y_train)\n",
    "print('The Training R^2 for Linear Regression Model is: ', train_R2)\n",
    "\n",
    "test_R2 = lg.score(X_test, y_test)\n",
    "print('The Testing R^2 for Linear Regression Model is: ', test_R2)"
   ]
  },
  {
   "cell_type": "code",
   "execution_count": null,
   "metadata": {},
   "outputs": [],
   "source": []
  }
 ],
 "metadata": {
  "kernelspec": {
   "display_name": "pysnowpark",
   "language": "python",
   "name": "python3"
  },
  "language_info": {
   "codemirror_mode": {
    "name": "ipython",
    "version": 3
   },
   "file_extension": ".py",
   "mimetype": "text/x-python",
   "name": "python",
   "nbconvert_exporter": "python",
   "pygments_lexer": "ipython3",
   "version": "3.8.16"
  },
  "orig_nbformat": 4
 },
 "nbformat": 4,
 "nbformat_minor": 2
}
