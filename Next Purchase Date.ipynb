{
 "cells": [
  {
   "attachments": {},
   "cell_type": "markdown",
   "metadata": {},
   "source": [
    "## Importing packages & setting up connection"
   ]
  },
  {
   "cell_type": "code",
   "execution_count": 1,
   "metadata": {},
   "outputs": [
    {
     "name": "stderr",
     "output_type": "stream",
     "text": [
      "c:\\Users\\Ernest Toh\\.conda\\envs\\pysnowpark\\lib\\site-packages\\xgboost\\compat.py:36: FutureWarning: pandas.Int64Index is deprecated and will be removed from pandas in a future version. Use pandas.Index with the appropriate dtype instead.\n",
      "  from pandas import MultiIndex, Int64Index\n"
     ]
    }
   ],
   "source": [
    "# Import Python packages\n",
    "import pandas as pd\n",
    "import numpy as np\n",
    "from matplotlib import pyplot as plt\n",
    "import json\n",
    "import sys\n",
    "import cachetools\n",
    "from datetime import datetime\n",
    "from datetime import date\n",
    "import seaborn as sns\n",
    "import math\n",
    "from scipy import stats\n",
    "import statsmodels.api as sm\n",
    "\n",
    "# Import Snowflake modules\n",
    "from snowflake.snowpark import Session\n",
    "import snowflake.snowpark.functions as F\n",
    "import snowflake.snowpark.types as T\n",
    "from snowflake.snowpark import Window\n",
    "from snowflake.snowpark.functions import col\n",
    "\n",
    "# Clustering & Model\n",
    "from sklearn.cluster import KMeans\n",
    "from sklearn.linear_model import LogisticRegression, LinearRegression\n",
    "from sklearn import tree\n",
    "from sklearn.tree import DecisionTreeClassifier\n",
    "from sklearn.neural_network import MLPClassifier\n",
    "from sklearn.svm import SVC, SVR\n",
    "from sklearn. ensemble import RandomForestClassifier, BaggingClassifier, AdaBoostClassifier, ExtraTreesClassifier, RandomForestRegressor, ExtraTreesRegressor, BaggingRegressor, GradientBoostingClassifier, AdaBoostRegressor\n",
    "from sklearn.neighbors import KNeighborsRegressor\n",
    "from xgboost import XGBClassifier, XGBRegressor \n",
    "from sklearn.model_selection import KFold, cross_val_score, train_test_split\n",
    "\n",
    "# Scalers\n",
    "from sklearn.preprocessing import StandardScaler\n",
    "\n",
    "# Evaluation\n",
    "from sklearn.metrics import silhouette_score\n",
    "from sklearn.metrics import mean_squared_error\n",
    "from sklearn.metrics import r2_score\n",
    "from sklearn.metrics import accuracy_score\n",
    "\n",
    "# find the best combination of model hyperparameters\n",
    "from sklearn.model_selection import GridSearchCV, RandomizedSearchCV\n",
    "from sklearn.model_selection import cross_val_score, cross_validate\n",
    "\n",
    "# Getting Password,Username, Account\n",
    "import getpass\n",
    "\n",
    "# ignore warnings\n",
    "import warnings\n",
    "warnings.filterwarnings('ignore')"
   ]
  },
  {
   "cell_type": "code",
   "execution_count": 2,
   "metadata": {},
   "outputs": [],
   "source": [
    "# Get account credentials from a json file\n",
    "with open(\"account.json\") as f:\n",
    "    data = json.load(f)\n",
    "    username = data[\"username\"]\n",
    "    password = data[\"password\"]\n",
    "    account = data[\"account\"]\n",
    "\n",
    "# Specify connection parameters\n",
    "connection_parameters = {\n",
    "    \"account\": account,\n",
    "    \"user\": username,\n",
    "    \"password\": password,\n",
    "    #\"role\": \"ACCOUNTADMIN\",\n",
    "    #\"warehouse\": \"tasty_ds_wh\",\n",
    "    #\"database\": \"frostbyte_tasty_bytes\",\n",
    "    #\"schema\": \"analytics\",\n",
    "}\n",
    "\n",
    "# Create Snowpark session\n",
    "session = Session.builder.configs(connection_parameters).create()"
   ]
  },
  {
   "attachments": {},
   "cell_type": "markdown",
   "metadata": {},
   "source": [
    "## 1. Loading of Datasets <a id=\"part1\"></a>"
   ]
  },
  {
   "cell_type": "code",
   "execution_count": 3,
   "metadata": {},
   "outputs": [],
   "source": [
    "# Load the tables as dataframe\n",
    "order_header_df = session.table(\"NGEE_ANN_POLYTECHNIC_FROSTBYTE_DATA_SHARE.raw_pos.order_header\")\n",
    "customer_df = session.table(\"NGEE_ANN_POLYTECHNIC_FROSTBYTE_DATA_SHARE.raw_customer.customer_loyalty\")"
   ]
  },
  {
   "cell_type": "code",
   "execution_count": 4,
   "metadata": {},
   "outputs": [
    {
     "name": "stdout",
     "output_type": "stream",
     "text": [
      "-----------------------------------------------------------------------------------------------------------------------------------------------------------------------------------------------------------------------------------------------------------------------------------------\n",
      "|\"ORDER_ID\"  |\"TRUCK_ID\"  |\"LOCATION_ID\"  |\"CUSTOMER_ID\"  |\"DISCOUNT_ID\"  |\"SHIFT_ID\"  |\"SHIFT_START_TIME\"  |\"SHIFT_END_TIME\"  |\"ORDER_CHANNEL\"  |\"ORDER_TS\"           |\"SERVED_TS\"  |\"ORDER_CURRENCY\"  |\"ORDER_AMOUNT\"  |\"ORDER_TAX_AMOUNT\"  |\"ORDER_DISCOUNT_AMOUNT\"  |\"ORDER_TOTAL\"  |\n",
      "-----------------------------------------------------------------------------------------------------------------------------------------------------------------------------------------------------------------------------------------------------------------------------------------\n",
      "|22477378    |97          |3713.0         |NULL           |NULL           |78881       |16:00:00            |23:00:00          |NULL             |2020-04-19 17:06:54  |NULL         |USD               |26.0000         |NULL                |NULL                     |26.0000        |\n",
      "|22477379    |97          |3713.0         |NULL           |NULL           |78881       |16:00:00            |23:00:00          |NULL             |2020-04-19 17:07:40  |NULL         |USD               |46.0000         |NULL                |NULL                     |46.0000        |\n",
      "|22477380    |97          |3713.0         |NULL           |NULL           |78881       |16:00:00            |23:00:00          |NULL             |2020-04-19 17:07:58  |NULL         |USD               |7.0000          |NULL                |NULL                     |7.0000         |\n",
      "|22477381    |97          |3713.0         |NULL           |NULL           |78881       |16:00:00            |23:00:00          |NULL             |2020-04-19 17:09:41  |NULL         |USD               |9.0000          |NULL                |NULL                     |9.0000         |\n",
      "|22477382    |97          |3713.0         |NULL           |NULL           |78881       |16:00:00            |23:00:00          |NULL             |2020-04-19 17:10:09  |NULL         |USD               |24.0000         |NULL                |NULL                     |24.0000        |\n",
      "|22477383    |97          |3713.0         |NULL           |NULL           |78881       |16:00:00            |23:00:00          |NULL             |2020-04-19 17:14:51  |NULL         |USD               |40.0000         |NULL                |NULL                     |40.0000        |\n",
      "|22477384    |97          |3713.0         |NULL           |NULL           |78881       |16:00:00            |23:00:00          |NULL             |2020-04-19 17:17:14  |NULL         |USD               |16.0000         |NULL                |NULL                     |16.0000        |\n",
      "|22477385    |97          |3713.0         |NULL           |NULL           |78881       |16:00:00            |23:00:00          |NULL             |2020-04-19 17:18:59  |NULL         |USD               |28.0000         |NULL                |NULL                     |28.0000        |\n",
      "|22477386    |97          |3713.0         |NULL           |NULL           |78881       |16:00:00            |23:00:00          |NULL             |2020-04-19 17:23:06  |NULL         |USD               |16.0000         |NULL                |NULL                     |16.0000        |\n",
      "|22477387    |97          |3713.0         |NULL           |NULL           |78881       |16:00:00            |23:00:00          |NULL             |2020-04-19 17:26:09  |NULL         |USD               |19.0000         |NULL                |NULL                     |19.0000        |\n",
      "-----------------------------------------------------------------------------------------------------------------------------------------------------------------------------------------------------------------------------------------------------------------------------------------\n",
      "\n"
     ]
    }
   ],
   "source": [
    "# Display order_header_df\n",
    "order_header_df.show()"
   ]
  },
  {
   "cell_type": "code",
   "execution_count": 5,
   "metadata": {},
   "outputs": [
    {
     "name": "stdout",
     "output_type": "stream",
     "text": [
      "---------------------------------------------------------------------------------------------------------------------------------------------------------------------------------------------------------------------------------------------------------------------------\n",
      "|\"CUSTOMER_ID\"  |\"FIRST_NAME\"  |\"LAST_NAME\"  |\"CITY\"     |\"COUNTRY\"      |\"POSTAL_CODE\"  |\"PREFERRED_LANGUAGE\"  |\"GENDER\"     |\"FAVOURITE_BRAND\"  |\"MARITAL_STATUS\"  |\"CHILDREN_COUNT\"  |\"SIGN_UP_DATE\"  |\"BIRTHDAY_DATE\"  |\"E_MAIL\"                     |\"PHONE_NUMBER\"  |\n",
      "---------------------------------------------------------------------------------------------------------------------------------------------------------------------------------------------------------------------------------------------------------------------------\n",
      "|66             |Cannon        |Waters       |Toronto    |Canada         |M4C 3M7        |English               |Male         |NULL               |Married           |4                 |2019-10-08      |1982-11-24       |Cannon.Waters@hotmail.com    |424-543-8925    |\n",
      "|118            |Donald        |Faulkner     |San Mateo  |United States  |94010          |English               |Male         |NULL               |Single            |0                 |2019-07-07      |1988-06-13       |Donald.Faulkner@hotmail.com  |080-861-2392    |\n",
      "|131            |Tate          |Tucker       |Toronto    |Canada         |M4C 1E7        |English               |Male         |NULL               |Single            |0                 |2021-05-27      |1984-12-29       |Tate.Tucker@hotmail.com      |896-393-1708    |\n",
      "|132            |Aileen        |Knapp        |Toronto    |Canada         |M4C 3J6        |English               |Male         |NULL               |Single            |0                 |2020-11-10      |1981-04-30       |Aileen.Knapp@hotmail.com     |477-406-2898    |\n",
      "|171            |Grayson       |Hayes        |Toronto    |Canada         |M4C 1E7        |English               |Male         |NULL               |Single            |0                 |2021-05-08      |1987-08-06       |Grayson.Hayes@hotmail.com    |849-485-3285    |\n",
      "|189            |Reese         |Mcfarland    |San Mateo  |United States  |94010          |English               |Undisclosed  |NULL               |Married           |1                 |2020-03-06      |1984-03-05       |Reese.Mcfarland@hotmail.com  |802-202-7275    |\n",
      "|195            |Summer        |Chung        |Toronto    |Canada         |M4C 1X6        |English               |Female       |NULL               |Single            |0                 |2021-05-13      |1987-08-17       |Summer.Chung@hotmail.com     |761-641-8122    |\n",
      "|204            |Emilio        |Lawrence     |San Mateo  |United States  |94497          |English               |Male         |NULL               |Undisclosed       |Undisclosed       |2021-10-10      |1979-06-25       |Emilio.Lawrence@hotmail.com  |693-524-2569    |\n",
      "|42             |Alexander     |Hicks        |San Mateo  |United States  |94404          |English               |Undisclosed  |NULL               |Single            |0                 |2020-07-11      |1966-06-28       |Alexander.Hicks@aol.com      |463-144-8555    |\n",
      "|59             |Ryan          |Shah         |San Mateo  |United States  |94401          |English               |Male         |NULL               |Married           |2                 |2020-12-29      |1961-06-05       |Ryan.Shah@aol.com            |679-586-9815    |\n",
      "---------------------------------------------------------------------------------------------------------------------------------------------------------------------------------------------------------------------------------------------------------------------------\n",
      "\n"
     ]
    }
   ],
   "source": [
    "# Display customer_df\n",
    "customer_df.show()"
   ]
  },
  {
   "cell_type": "code",
   "execution_count": 6,
   "metadata": {},
   "outputs": [
    {
     "name": "stdout",
     "output_type": "stream",
     "text": [
      "-----------------------------------------------------------------------------------------------------------------------------------------------------------------------------------------------------------------------------------------------------------------------------------------\n",
      "|\"ORDER_ID\"  |\"TRUCK_ID\"  |\"LOCATION_ID\"  |\"CUSTOMER_ID\"  |\"DISCOUNT_ID\"  |\"SHIFT_ID\"  |\"SHIFT_START_TIME\"  |\"SHIFT_END_TIME\"  |\"ORDER_CHANNEL\"  |\"ORDER_TS\"           |\"SERVED_TS\"  |\"ORDER_CURRENCY\"  |\"ORDER_AMOUNT\"  |\"ORDER_TAX_AMOUNT\"  |\"ORDER_DISCOUNT_AMOUNT\"  |\"ORDER_TOTAL\"  |\n",
      "-----------------------------------------------------------------------------------------------------------------------------------------------------------------------------------------------------------------------------------------------------------------------------------------\n",
      "|22477396    |97          |3713.0         |95165          |NULL           |78881       |16:00:00            |23:00:00          |NULL             |2020-04-19 17:41:09  |NULL         |USD               |7.0000          |NULL                |NULL                     |7.0000         |\n",
      "|22477412    |97          |3713.0         |146981         |NULL           |78881       |16:00:00            |23:00:00          |NULL             |2020-04-19 18:02:22  |NULL         |USD               |42.0000         |NULL                |NULL                     |42.0000        |\n",
      "|22477417    |97          |3713.0         |112241         |NULL           |78881       |16:00:00            |23:00:00          |NULL             |2020-04-19 18:07:39  |NULL         |USD               |50.0000         |NULL                |NULL                     |50.0000        |\n",
      "|22477440    |97          |3713.0         |74142          |NULL           |78881       |16:00:00            |23:00:00          |NULL             |2020-04-19 18:55:27  |NULL         |USD               |31.0000         |NULL                |NULL                     |31.0000        |\n",
      "|22477441    |97          |3713.0         |196106         |NULL           |78881       |16:00:00            |23:00:00          |NULL             |2020-04-19 18:55:31  |NULL         |USD               |90.0000         |NULL                |NULL                     |90.0000        |\n",
      "|22477443    |97          |3713.0         |98913          |NULL           |78881       |16:00:00            |23:00:00          |NULL             |2020-04-19 18:55:50  |NULL         |USD               |25.0000         |NULL                |NULL                     |25.0000        |\n",
      "|22477472    |97          |3713.0         |163337         |NULL           |78881       |16:00:00            |23:00:00          |NULL             |2020-04-19 19:28:23  |NULL         |USD               |29.0000         |NULL                |NULL                     |29.0000        |\n",
      "|22477478    |97          |3713.0         |111889         |NULL           |78881       |16:00:00            |23:00:00          |NULL             |2020-04-19 19:35:33  |NULL         |USD               |19.0000         |NULL                |NULL                     |19.0000        |\n",
      "|22477486    |97          |3713.0         |176436         |NULL           |78881       |16:00:00            |23:00:00          |NULL             |2020-04-19 19:45:20  |NULL         |USD               |75.0000         |NULL                |NULL                     |75.0000        |\n",
      "|22477495    |97          |3713.0         |54158          |NULL           |78881       |16:00:00            |23:00:00          |NULL             |2020-04-19 19:55:10  |NULL         |USD               |24.0000         |NULL                |NULL                     |24.0000        |\n",
      "-----------------------------------------------------------------------------------------------------------------------------------------------------------------------------------------------------------------------------------------------------------------------------------------\n",
      "\n"
     ]
    }
   ],
   "source": [
    "# Dropping null values in CUSTOMER_ID\n",
    "order_header_df = order_header_df.na.drop(subset=\"CUSTOMER_ID\")\n",
    "order_header_df.show()"
   ]
  },
  {
   "attachments": {},
   "cell_type": "markdown",
   "metadata": {},
   "source": [
    "## 2. Dataframe Preparation <a id=\"part2\"></a>"
   ]
  },
  {
   "attachments": {},
   "cell_type": "markdown",
   "metadata": {},
   "source": [
    "### 2.1 Create dataframe <a id=\"part2-1\"></a>\n",
    "As mentioned earlier, our group will be focusing on the customers based in the US. Hence, we will need to filter the customer data to US. We are also doing basic data preparation to prepare our datasets so far for subsequent steps. "
   ]
  },
  {
   "cell_type": "code",
   "execution_count": 7,
   "metadata": {},
   "outputs": [
    {
     "name": "stdout",
     "output_type": "stream",
     "text": [
      "-----------------------------------------------------------------------------------------------------------------------------------------------------------------------------------------------------------------------------------------------------------------------------\n",
      "|\"CUSTOMER_ID\"  |\"FIRST_NAME\"  |\"LAST_NAME\"  |\"CITY\"     |\"COUNTRY\"      |\"POSTAL_CODE\"  |\"PREFERRED_LANGUAGE\"  |\"GENDER\"     |\"FAVOURITE_BRAND\"  |\"MARITAL_STATUS\"    |\"CHILDREN_COUNT\"  |\"SIGN_UP_DATE\"  |\"BIRTHDAY_DATE\"  |\"E_MAIL\"                     |\"PHONE_NUMBER\"  |\n",
      "-----------------------------------------------------------------------------------------------------------------------------------------------------------------------------------------------------------------------------------------------------------------------------\n",
      "|118            |Donald        |Faulkner     |San Mateo  |United States  |94010          |English               |Male         |NULL               |Single              |0                 |2019-07-07      |1988-06-13       |Donald.Faulkner@hotmail.com  |080-861-2392    |\n",
      "|189            |Reese         |Mcfarland    |San Mateo  |United States  |94010          |English               |Undisclosed  |NULL               |Married             |1                 |2020-03-06      |1984-03-05       |Reese.Mcfarland@hotmail.com  |802-202-7275    |\n",
      "|204            |Emilio        |Lawrence     |San Mateo  |United States  |94497          |English               |Male         |NULL               |Undisclosed         |Undisclosed       |2021-10-10      |1979-06-25       |Emilio.Lawrence@hotmail.com  |693-524-2569    |\n",
      "|42             |Alexander     |Hicks        |San Mateo  |United States  |94404          |English               |Undisclosed  |NULL               |Single              |0                 |2020-07-11      |1966-06-28       |Alexander.Hicks@aol.com      |463-144-8555    |\n",
      "|59             |Ryan          |Shah         |San Mateo  |United States  |94401          |English               |Male         |NULL               |Married             |2                 |2020-12-29      |1961-06-05       |Ryan.Shah@aol.com            |679-586-9815    |\n",
      "|65             |Nathen        |Werner       |San Mateo  |United States  |94010          |English               |Male         |NULL               |Divorced/Seperated  |5+                |2020-11-05      |1958-09-01       |Nathen.Werner@aol.com        |926-969-1551    |\n",
      "|106            |Camilla       |Harding      |San Mateo  |United States  |94404          |English               |Female       |NULL               |Single              |0                 |2021-06-28      |1967-05-10       |Camilla.Harding@aol.com      |366-365-2520    |\n",
      "|219            |Scarlett      |Zavala       |San Mateo  |United States  |94403          |English               |Undisclosed  |NULL               |Married             |2                 |2021-01-22      |1965-12-19       |Scarlett.Zavala@aol.com      |447-385-8243    |\n",
      "|222            |Olive         |Powell       |San Mateo  |United States  |94404          |English               |Female       |NULL               |Single              |0                 |2021-03-21      |1965-07-06       |Olive.Powell@aol.com         |983-128-2475    |\n",
      "|22             |Rayne         |Sanchez      |San Mateo  |United States  |94401          |English               |Male         |NULL               |Married             |4                 |2021-04-22      |1949-01-12       |Rayne.Sanchez@ymail.com      |621-054-0251    |\n",
      "-----------------------------------------------------------------------------------------------------------------------------------------------------------------------------------------------------------------------------------------------------------------------------\n",
      "\n"
     ]
    }
   ],
   "source": [
    "# Filtering the customer dataset to only US\n",
    "us_customer_df = customer_df.filter(F.col(\"COUNTRY\")==\"United States\")\n",
    "us_customer_df.show()"
   ]
  },
  {
   "cell_type": "code",
   "execution_count": 8,
   "metadata": {},
   "outputs": [
    {
     "name": "stdout",
     "output_type": "stream",
     "text": [
      "------------------------------------------------------------------------------------------------------------------------------------------------------------------------------------------------------------------------------------------------------------------------------------------------------------\n",
      "|\"ORDER_ID\"  |\"TRUCK_ID\"  |\"LOCATION_ID\"  |\"CUSTOMER_ID\"  |\"DISCOUNT_ID\"  |\"SHIFT_ID\"  |\"SHIFT_START_TIME\"  |\"SHIFT_END_TIME\"  |\"ORDER_CHANNEL\"  |\"ORDER_TS\"           |\"SERVED_TS\"  |\"ORDER_CURRENCY\"  |\"ORDER_AMOUNT\"  |\"ORDER_TAX_AMOUNT\"  |\"ORDER_DISCOUNT_AMOUNT\"  |\"ORDER_TOTAL\"  |\"CUSTOMER_ID_US\"  |\n",
      "------------------------------------------------------------------------------------------------------------------------------------------------------------------------------------------------------------------------------------------------------------------------------------------------------------\n",
      "|451449961   |17          |1789.0         |194230         |NULL           |200540458   |08:00:00            |14:00:00          |NULL             |2022-04-01 11:34:38  |NULL         |USD               |6.0000          |NULL                |NULL                     |6.0000         |194230            |\n",
      "|451449972   |17          |1789.0         |131954         |NULL           |200540458   |08:00:00            |14:00:00          |NULL             |2022-04-01 11:48:30  |NULL         |USD               |27.0000         |NULL                |NULL                     |27.0000        |131954            |\n",
      "|451450013   |17          |1789.0         |125737         |NULL           |200540458   |08:00:00            |14:00:00          |NULL             |2022-04-01 12:52:11  |NULL         |USD               |42.0000         |NULL                |NULL                     |42.0000        |125737            |\n",
      "|451450086   |17          |14926.0        |95405          |NULL           |200540459   |15:00:00            |22:00:00          |NULL             |2022-04-01 17:17:42  |NULL         |USD               |87.0000         |NULL                |NULL                     |87.0000        |95405             |\n",
      "|451450198   |17          |14926.0        |40098          |NULL           |200540459   |15:00:00            |22:00:00          |NULL             |2022-04-01 20:03:25  |NULL         |USD               |33.0000         |NULL                |NULL                     |33.0000        |40098             |\n",
      "|451450243   |17          |14926.0        |172108         |NULL           |200540459   |15:00:00            |22:00:00          |NULL             |2022-04-01 21:37:14  |NULL         |USD               |56.0000         |NULL                |NULL                     |56.0000        |172108            |\n",
      "|451450270   |18          |3081.0         |49775          |NULL           |200540460   |08:00:00            |14:00:00          |NULL             |2022-04-01 08:33:28  |NULL         |USD               |12.5000         |NULL                |NULL                     |12.5000        |49775             |\n",
      "|451450279   |18          |3081.0         |124416         |NULL           |200540460   |08:00:00            |14:00:00          |NULL             |2022-04-01 08:48:45  |NULL         |USD               |41.5000         |NULL                |NULL                     |41.5000        |124416            |\n",
      "|451450315   |18          |3081.0         |85597          |NULL           |200540460   |08:00:00            |14:00:00          |NULL             |2022-04-01 09:29:50  |NULL         |USD               |58.5000         |NULL                |NULL                     |58.5000        |85597             |\n",
      "|451450317   |18          |3081.0         |51847          |NULL           |200540460   |08:00:00            |14:00:00          |NULL             |2022-04-01 09:31:28  |NULL         |USD               |70.5000         |NULL                |NULL                     |70.5000        |51847             |\n",
      "------------------------------------------------------------------------------------------------------------------------------------------------------------------------------------------------------------------------------------------------------------------------------------------------------------\n",
      "\n"
     ]
    }
   ],
   "source": [
    "# After filtering of customer dataset to only US, we will be filtering and looking at the orders \n",
    "# based on these customers only\n",
    "customer_US = us_customer_df.select(F.col(\"CUSTOMER_ID\"))\n",
    "order_header_df = order_header_df.join(customer_US, order_header_df.CUSTOMER_ID == customer_US.CUSTOMER_ID, lsuffix = \"\", rsuffix = \"_US\")\n",
    "order_header_df.show()"
   ]
  },
  {
   "attachments": {},
   "cell_type": "markdown",
   "metadata": {},
   "source": [
    "## 3. Data Exploration <a id=\"part3\"></a>"
   ]
  },
  {
   "cell_type": "code",
   "execution_count": 9,
   "metadata": {},
   "outputs": [
    {
     "data": {
      "text/plain": [
       "datetime.datetime(2022, 11, 1, 22, 58, 56)"
      ]
     },
     "execution_count": 9,
     "metadata": {},
     "output_type": "execute_result"
    }
   ],
   "source": [
    "# Finding current date (last order)\n",
    "lastest_transaction_de = order_header_df.agg(F.max(\"ORDER_TS\").alias(\"LAST_ORDER_TS\")).collect()[0][0]\n",
    "lastest_transaction_de"
   ]
  },
  {
   "cell_type": "code",
   "execution_count": 10,
   "metadata": {},
   "outputs": [
    {
     "name": "stdout",
     "output_type": "stream",
     "text": [
      "---------------------------------------\n",
      "|\"CUSTOMER_ID\"  |\"LAST_ORDER_TS\"      |\n",
      "---------------------------------------\n",
      "|72163          |2022-10-24 11:41:22  |\n",
      "|141003         |2022-10-29 21:56:20  |\n",
      "|157807         |2022-10-26 21:05:14  |\n",
      "|110135         |2022-10-29 10:48:57  |\n",
      "|69163          |2022-10-15 12:56:11  |\n",
      "|99059          |2022-10-28 19:19:56  |\n",
      "|66588          |2022-10-15 20:10:31  |\n",
      "|65409          |2022-10-31 21:11:41  |\n",
      "|143828         |2022-11-01 19:36:32  |\n",
      "|198935         |2022-10-29 09:39:15  |\n",
      "---------------------------------------\n",
      "\n"
     ]
    }
   ],
   "source": [
    "# Finding the last order time stamp for each customer\n",
    "customer_last_order_de = order_header_df.groupBy(\"CUSTOMER_ID\").agg(F.max(\"ORDER_TS\").alias(\"LAST_ORDER_TS\"))\n",
    "customer_last_order_de.show()"
   ]
  },
  {
   "cell_type": "code",
   "execution_count": 11,
   "metadata": {},
   "outputs": [
    {
     "name": "stdout",
     "output_type": "stream",
     "text": [
      "------------------------------------------------------------------------------\n",
      "|\"CUSTOMER_ID\"  |\"LAST_ORDER_TS\"      |\"CURRENT DATE\"       |\"RECENCY_DAYS\"  |\n",
      "------------------------------------------------------------------------------\n",
      "|193854         |2022-10-16 14:11:48  |2022-11-01 22:58:56  |16              |\n",
      "|42466          |2022-10-31 16:14:22  |2022-11-01 22:58:56  |1               |\n",
      "|28483          |2022-10-10 16:26:26  |2022-11-01 22:58:56  |22              |\n",
      "|21573          |2022-10-30 17:36:42  |2022-11-01 22:58:56  |2               |\n",
      "|142625         |2022-10-25 13:57:02  |2022-11-01 22:58:56  |7               |\n",
      "|169393         |2022-10-02 12:12:36  |2022-11-01 22:58:56  |30              |\n",
      "|53060          |2022-10-11 21:54:58  |2022-11-01 22:58:56  |21              |\n",
      "|18344          |2022-10-22 08:42:51  |2022-11-01 22:58:56  |10              |\n",
      "|19958          |2022-11-01 19:16:00  |2022-11-01 22:58:56  |0               |\n",
      "|33415          |2022-10-27 10:47:34  |2022-11-01 22:58:56  |5               |\n",
      "------------------------------------------------------------------------------\n",
      "\n"
     ]
    }
   ],
   "source": [
    "# Creating a new dataframe and adding column with lastest transaction timestamp as the \n",
    "# current date identified previously \n",
    "\n",
    "# Inserting new column: current date which the lastest transaction timestamp\n",
    "customer_recency_de = customer_last_order_de.with_column(\"CURRENT DATE\", F.iff(F.col(\"LAST_ORDER_TS\") == F.col(\"LAST_ORDER_TS\"), lastest_transaction_de, lastest_transaction_de))\n",
    "\n",
    "# Calculate recency days\n",
    "customer_recency_de = customer_recency_de.with_column(\"RECENCY_DAYS\", F.datediff('day', customer_recency_de[\"LAST_ORDER_TS\"], customer_recency_de[\"CURRENT DATE\"]))\n",
    "customer_recency_de.show()"
   ]
  },
  {
   "cell_type": "code",
   "execution_count": 12,
   "metadata": {},
   "outputs": [
    {
     "data": {
      "text/html": [
       "<div>\n",
       "<style scoped>\n",
       "    .dataframe tbody tr th:only-of-type {\n",
       "        vertical-align: middle;\n",
       "    }\n",
       "\n",
       "    .dataframe tbody tr th {\n",
       "        vertical-align: top;\n",
       "    }\n",
       "\n",
       "    .dataframe thead th {\n",
       "        text-align: right;\n",
       "    }\n",
       "</style>\n",
       "<table border=\"1\" class=\"dataframe\">\n",
       "  <thead>\n",
       "    <tr style=\"text-align: right;\">\n",
       "      <th></th>\n",
       "      <th>RECENCY_DAYS</th>\n",
       "      <th>NO_OF_CUST</th>\n",
       "    </tr>\n",
       "  </thead>\n",
       "  <tbody>\n",
       "    <tr>\n",
       "      <th>0</th>\n",
       "      <td>1</td>\n",
       "      <td>3120</td>\n",
       "    </tr>\n",
       "    <tr>\n",
       "      <th>1</th>\n",
       "      <td>7</td>\n",
       "      <td>2402</td>\n",
       "    </tr>\n",
       "    <tr>\n",
       "      <th>2</th>\n",
       "      <td>5</td>\n",
       "      <td>2908</td>\n",
       "    </tr>\n",
       "    <tr>\n",
       "      <th>3</th>\n",
       "      <td>28</td>\n",
       "      <td>346</td>\n",
       "    </tr>\n",
       "    <tr>\n",
       "      <th>4</th>\n",
       "      <td>10</td>\n",
       "      <td>1727</td>\n",
       "    </tr>\n",
       "  </tbody>\n",
       "</table>\n",
       "</div>"
      ],
      "text/plain": [
       "   RECENCY_DAYS  NO_OF_CUST\n",
       "0             1        3120\n",
       "1             7        2402\n",
       "2             5        2908\n",
       "3            28         346\n",
       "4            10        1727"
      ]
     },
     "execution_count": 12,
     "metadata": {},
     "output_type": "execute_result"
    }
   ],
   "source": [
    "customer_by_recency = customer_recency_de.group_by(\"RECENCY_DAYS\").agg(F.count(\"CUSTOMER_ID\").alias(\"NO_OF_CUST\")).to_pandas()\n",
    "customer_by_recency.head()"
   ]
  },
  {
   "cell_type": "code",
   "execution_count": 13,
   "metadata": {},
   "outputs": [
    {
     "data": {
      "image/png": "[encoded data removed]",
      "text/plain": [
       "<Figure size 2000x800 with 1 Axes>"
      ]
     },
     "metadata": {},
     "output_type": "display_data"
    }
   ],
   "source": [
    "customer_by_recency.sort_values(by='RECENCY_DAYS', ascending=True, inplace=True) # Sort values in ascending order of customer\n",
    "recency_index = customer_by_recency['RECENCY_DAYS'].tolist()\n",
    "customer_values = customer_by_recency['NO_OF_CUST'].tolist()\n",
    "\n",
    "# Create a figure and subplot\n",
    "fig, V4 = plt.subplots(figsize=(20,8))\n",
    "\n",
    "# Create a bar chart \n",
    "V4.bar(recency_index,customer_values, align = 'center', color='#AFE4FE') # align define the alignment of x-ticks\n",
    "\n",
    "# Display data labels\n",
    "#for x,y in zip(recency_index,customer_values):\n",
    "\n",
    "#    label = x\n",
    "\n",
    "#    plt.annotate(label, \n",
    "#                 (x,y), \n",
    "#                 textcoords=\"offset points\", \n",
    "#                 xytext=(30,-3), \n",
    "#                 fontsize = 10,\n",
    "#                 ha='center') \n",
    "\n",
    "# State title of plot and the axes labels\n",
    "V4.set_title('Distribution of Customers by Recency', fontsize = 25)\n",
    "V4.set_ylabel('Number of customers', fontsize = 20)\n",
    "V4.set_xlabel('Recency Days', fontsize = 20)\n",
    "\n",
    "# Set font size of ticks on the x-axis and y-axis\n",
    "V4.tick_params(labelsize = 12, axis ='both')\n",
    "\n",
    "# Set tight layout for figure\n",
    "fig.tight_layout()\n",
    "\n",
    "# Display plot\n",
    "plt.show()"
   ]
  },
  {
   "cell_type": "code",
   "execution_count": 14,
   "metadata": {},
   "outputs": [
    {
     "name": "stdout",
     "output_type": "stream",
     "text": [
      "RECENCY_DAYS where 70% of the customers are at: 13\n"
     ]
    }
   ],
   "source": [
    "# Find recency days based on percentage of customer (30%)\n",
    "\n",
    "# Sort the DataFrame by RECENCY_DAYS in ascending order\n",
    "customer_by_recency = customer_by_recency.sort_values('RECENCY_DAYS')\n",
    "\n",
    "# Calculate the cumulative sum of customer counts\n",
    "customer_by_recency['CUMULATIVE_COUNT'] = customer_by_recency['NO_OF_CUST'].cumsum()\n",
    "\n",
    "# Find the RECENCY_DAYS where 80% of the customers are at\n",
    "target_percentage = 0.7\n",
    "target_recency_days = None\n",
    "\n",
    "for index, row in customer_by_recency.iterrows():\n",
    "    if row['CUMULATIVE_COUNT'] >= target_percentage * customer_by_recency['NO_OF_CUST'].sum():\n",
    "        target_recency_days = row['RECENCY_DAYS']\n",
    "        break\n",
    "\n",
    "# Print the result\n",
    "print(\"RECENCY_DAYS where 70% of the customers are at:\", target_recency_days)"
   ]
  },
  {
   "cell_type": "code",
   "execution_count": 15,
   "metadata": {},
   "outputs": [
    {
     "name": "stdout",
     "output_type": "stream",
     "text": [
      "Sum of customers where RECENCY_DAYS is below or equal to 13: 33053\n",
      "Sum of customers where RECENCY_DAYS is more than 13: 13247\n"
     ]
    }
   ],
   "source": [
    "# Sum of customers where RECENCY_DAYS is below or equal to 13\n",
    "sum_below_13 = customer_by_recency[customer_by_recency['RECENCY_DAYS'] <= 13]['NO_OF_CUST'].sum()\n",
    "\n",
    "# Sum of customers where RECENCY_DAYS is more than 13\n",
    "sum_above_13 = customer_by_recency[customer_by_recency['RECENCY_DAYS'] > 13]['NO_OF_CUST'].sum()\n",
    "\n",
    "# Print the results\n",
    "print(\"Sum of customers where RECENCY_DAYS is below or equal to 13:\", sum_below_13)\n",
    "print(\"Sum of customers where RECENCY_DAYS is more than 13:\", sum_above_13)"
   ]
  },
  {
   "attachments": {},
   "cell_type": "markdown",
   "metadata": {},
   "source": [
    "In food service industry, customer churn rates can range from 20% to 30% annually. For 70% of the customers, their recency days are at 13. Therefore, we round the recenecy days up to 14 days, which is 2 weeks to be considered churned.\n",
    "\n",
    "For this model, we would be predicting the days to next purchase for each customer. After predicting the days to next purchase, if it is more than 14 days, the customer is considered churned, else not churned."
   ]
  },
  {
   "attachments": {},
   "cell_type": "markdown",
   "metadata": {},
   "source": [
    "## 4. Data Preparation <a id=\"part4\"></a>"
   ]
  },
  {
   "cell_type": "code",
   "execution_count": 16,
   "metadata": {},
   "outputs": [],
   "source": [
    "# Getting last order date\n",
    "lastest_transaction = order_header_df.agg(F.max(\"ORDER_TS\").alias(\"LAST_ORDER_TS\")).collect()[0][0]\n",
    "order_header_df = order_header_df.withColumn(\"LAST_DATE\", F.iff(F.col(\"CUSTOMER_ID\") == F.col(\"CUSTOMER_ID\"), lastest_transaction, lastest_transaction))"
   ]
  },
  {
   "cell_type": "code",
   "execution_count": 17,
   "metadata": {},
   "outputs": [],
   "source": [
    "# Getting date for two weeks before last transaction date provided\n",
    "order_header_df = order_header_df.withColumn(\"two_weeks_before\", F.date_sub(\"LAST_DATE\", 14))"
   ]
  },
  {
   "cell_type": "code",
   "execution_count": 18,
   "metadata": {},
   "outputs": [
    {
     "name": "stdout",
     "output_type": "stream",
     "text": [
      "--------------------------------------------------------------------------------------------------------------------------------------------------------------------------------------------------------------------------------------------------------------------------------------------------------------------------------------------------------\n",
      "|\"ORDER_ID\"  |\"TRUCK_ID\"  |\"LOCATION_ID\"  |\"CUSTOMER_ID\"  |\"DISCOUNT_ID\"  |\"SHIFT_ID\"  |\"SHIFT_START_TIME\"  |\"SHIFT_END_TIME\"  |\"ORDER_CHANNEL\"  |\"ORDER_TS\"           |\"SERVED_TS\"  |\"ORDER_CURRENCY\"  |\"ORDER_AMOUNT\"  |\"ORDER_TAX_AMOUNT\"  |\"ORDER_DISCOUNT_AMOUNT\"  |\"ORDER_TOTAL\"  |\"CUSTOMER_ID_US\"  |\"LAST_DATE\"          |\"TWO_WEEKS_BEFORE\"   |\n",
      "--------------------------------------------------------------------------------------------------------------------------------------------------------------------------------------------------------------------------------------------------------------------------------------------------------------------------------------------------------\n",
      "|451449961   |17          |1789.0         |194230         |NULL           |200540458   |08:00:00            |14:00:00          |NULL             |2022-04-01 11:34:38  |NULL         |USD               |6.0000          |NULL                |NULL                     |6.0000         |194230            |2022-11-01 22:58:56  |2022-10-18 22:58:56  |\n",
      "|451449972   |17          |1789.0         |131954         |NULL           |200540458   |08:00:00            |14:00:00          |NULL             |2022-04-01 11:48:30  |NULL         |USD               |27.0000         |NULL                |NULL                     |27.0000        |131954            |2022-11-01 22:58:56  |2022-10-18 22:58:56  |\n",
      "|451450013   |17          |1789.0         |125737         |NULL           |200540458   |08:00:00            |14:00:00          |NULL             |2022-04-01 12:52:11  |NULL         |USD               |42.0000         |NULL                |NULL                     |42.0000        |125737            |2022-11-01 22:58:56  |2022-10-18 22:58:56  |\n",
      "|451450086   |17          |14926.0        |95405          |NULL           |200540459   |15:00:00            |22:00:00          |NULL             |2022-04-01 17:17:42  |NULL         |USD               |87.0000         |NULL                |NULL                     |87.0000        |95405             |2022-11-01 22:58:56  |2022-10-18 22:58:56  |\n",
      "|451450198   |17          |14926.0        |40098          |NULL           |200540459   |15:00:00            |22:00:00          |NULL             |2022-04-01 20:03:25  |NULL         |USD               |33.0000         |NULL                |NULL                     |33.0000        |40098             |2022-11-01 22:58:56  |2022-10-18 22:58:56  |\n",
      "|451450243   |17          |14926.0        |172108         |NULL           |200540459   |15:00:00            |22:00:00          |NULL             |2022-04-01 21:37:14  |NULL         |USD               |56.0000         |NULL                |NULL                     |56.0000        |172108            |2022-11-01 22:58:56  |2022-10-18 22:58:56  |\n",
      "|451450270   |18          |3081.0         |49775          |NULL           |200540460   |08:00:00            |14:00:00          |NULL             |2022-04-01 08:33:28  |NULL         |USD               |12.5000         |NULL                |NULL                     |12.5000        |49775             |2022-11-01 22:58:56  |2022-10-18 22:58:56  |\n",
      "|451450279   |18          |3081.0         |124416         |NULL           |200540460   |08:00:00            |14:00:00          |NULL             |2022-04-01 08:48:45  |NULL         |USD               |41.5000         |NULL                |NULL                     |41.5000        |124416            |2022-11-01 22:58:56  |2022-10-18 22:58:56  |\n",
      "|451450315   |18          |3081.0         |85597          |NULL           |200540460   |08:00:00            |14:00:00          |NULL             |2022-04-01 09:29:50  |NULL         |USD               |58.5000         |NULL                |NULL                     |58.5000        |85597             |2022-11-01 22:58:56  |2022-10-18 22:58:56  |\n",
      "|451450317   |18          |3081.0         |51847          |NULL           |200540460   |08:00:00            |14:00:00          |NULL             |2022-04-01 09:31:28  |NULL         |USD               |70.5000         |NULL                |NULL                     |70.5000        |51847             |2022-11-01 22:58:56  |2022-10-18 22:58:56  |\n",
      "--------------------------------------------------------------------------------------------------------------------------------------------------------------------------------------------------------------------------------------------------------------------------------------------------------------------------------------------------------\n",
      "\n"
     ]
    }
   ],
   "source": [
    "# Display order_header_df\n",
    "order_header_df.show()"
   ]
  },
  {
   "attachments": {},
   "cell_type": "markdown",
   "metadata": {},
   "source": [
    "### 4.1 Getting first dataframe <a id=\"part4.1\"></a>"
   ]
  },
  {
   "cell_type": "code",
   "execution_count": 19,
   "metadata": {},
   "outputs": [
    {
     "name": "stdout",
     "output_type": "stream",
     "text": [
      "--------------------------------------------------------------------------------------------------------------------------------------------------------------------------------------------------------------------------------------------------------------------------------------------------------------------------------------------------------\n",
      "|\"ORDER_ID\"  |\"TRUCK_ID\"  |\"LOCATION_ID\"  |\"CUSTOMER_ID\"  |\"DISCOUNT_ID\"  |\"SHIFT_ID\"  |\"SHIFT_START_TIME\"  |\"SHIFT_END_TIME\"  |\"ORDER_CHANNEL\"  |\"ORDER_TS\"           |\"SERVED_TS\"  |\"ORDER_CURRENCY\"  |\"ORDER_AMOUNT\"  |\"ORDER_TAX_AMOUNT\"  |\"ORDER_DISCOUNT_AMOUNT\"  |\"ORDER_TOTAL\"  |\"CUSTOMER_ID_US\"  |\"LAST_DATE\"          |\"TWO_WEEKS_BEFORE\"   |\n",
      "--------------------------------------------------------------------------------------------------------------------------------------------------------------------------------------------------------------------------------------------------------------------------------------------------------------------------------------------------------\n",
      "|451449961   |17          |1789.0         |194230         |NULL           |200540458   |08:00:00            |14:00:00          |NULL             |2022-04-01 11:34:38  |NULL         |USD               |6.0000          |NULL                |NULL                     |6.0000         |194230            |2022-11-01 22:58:56  |2022-10-18 22:58:56  |\n",
      "|451449972   |17          |1789.0         |131954         |NULL           |200540458   |08:00:00            |14:00:00          |NULL             |2022-04-01 11:48:30  |NULL         |USD               |27.0000         |NULL                |NULL                     |27.0000        |131954            |2022-11-01 22:58:56  |2022-10-18 22:58:56  |\n",
      "|451450013   |17          |1789.0         |125737         |NULL           |200540458   |08:00:00            |14:00:00          |NULL             |2022-04-01 12:52:11  |NULL         |USD               |42.0000         |NULL                |NULL                     |42.0000        |125737            |2022-11-01 22:58:56  |2022-10-18 22:58:56  |\n",
      "|451450086   |17          |14926.0        |95405          |NULL           |200540459   |15:00:00            |22:00:00          |NULL             |2022-04-01 17:17:42  |NULL         |USD               |87.0000         |NULL                |NULL                     |87.0000        |95405             |2022-11-01 22:58:56  |2022-10-18 22:58:56  |\n",
      "|451450198   |17          |14926.0        |40098          |NULL           |200540459   |15:00:00            |22:00:00          |NULL             |2022-04-01 20:03:25  |NULL         |USD               |33.0000         |NULL                |NULL                     |33.0000        |40098             |2022-11-01 22:58:56  |2022-10-18 22:58:56  |\n",
      "|451450243   |17          |14926.0        |172108         |NULL           |200540459   |15:00:00            |22:00:00          |NULL             |2022-04-01 21:37:14  |NULL         |USD               |56.0000         |NULL                |NULL                     |56.0000        |172108            |2022-11-01 22:58:56  |2022-10-18 22:58:56  |\n",
      "|451450270   |18          |3081.0         |49775          |NULL           |200540460   |08:00:00            |14:00:00          |NULL             |2022-04-01 08:33:28  |NULL         |USD               |12.5000         |NULL                |NULL                     |12.5000        |49775             |2022-11-01 22:58:56  |2022-10-18 22:58:56  |\n",
      "|451450279   |18          |3081.0         |124416         |NULL           |200540460   |08:00:00            |14:00:00          |NULL             |2022-04-01 08:48:45  |NULL         |USD               |41.5000         |NULL                |NULL                     |41.5000        |124416            |2022-11-01 22:58:56  |2022-10-18 22:58:56  |\n",
      "|451450315   |18          |3081.0         |85597          |NULL           |200540460   |08:00:00            |14:00:00          |NULL             |2022-04-01 09:29:50  |NULL         |USD               |58.5000         |NULL                |NULL                     |58.5000        |85597             |2022-11-01 22:58:56  |2022-10-18 22:58:56  |\n",
      "|451450317   |18          |3081.0         |51847          |NULL           |200540460   |08:00:00            |14:00:00          |NULL             |2022-04-01 09:31:28  |NULL         |USD               |70.5000         |NULL                |NULL                     |70.5000        |51847             |2022-11-01 22:58:56  |2022-10-18 22:58:56  |\n",
      "--------------------------------------------------------------------------------------------------------------------------------------------------------------------------------------------------------------------------------------------------------------------------------------------------------------------------------------------------------\n",
      "\n"
     ]
    }
   ],
   "source": [
    "# Get data till 2 weeks before last transaction date provided (first dataframe)\n",
    "order_df1 = order_header_df.filter(F.col(\"ORDER_TS\")<=F.col(\"TWO_WEEKS_BEFORE\"))\n",
    "order_df1.show()"
   ]
  },
  {
   "cell_type": "code",
   "execution_count": 20,
   "metadata": {},
   "outputs": [
    {
     "name": "stdout",
     "output_type": "stream",
     "text": [
      "-----------------------\n",
      "|\"MIN(ORDER_TS)\"      |\n",
      "-----------------------\n",
      "|2019-01-01 17:19:08  |\n",
      "-----------------------\n",
      "\n",
      "-----------------------\n",
      "|\"MAX(ORDER_TS)\"      |\n",
      "-----------------------\n",
      "|2022-10-18 22:56:45  |\n",
      "-----------------------\n",
      "\n"
     ]
    }
   ],
   "source": [
    "# Ensure timeframe is correct\n",
    "order_df1.agg(F.min('ORDER_TS')).show()\n",
    "order_df1.agg(F.max('ORDER_TS')).show()"
   ]
  },
  {
   "cell_type": "code",
   "execution_count": 21,
   "metadata": {},
   "outputs": [
    {
     "name": "stdout",
     "output_type": "stream",
     "text": [
      "---------------------------------------\n",
      "|\"CUSTOMER_ID\"  |\"LAST_ORDER_TS\"      |\n",
      "---------------------------------------\n",
      "|172289         |2022-10-12 20:00:46  |\n",
      "|78907          |2022-10-18 09:09:03  |\n",
      "|160383         |2022-10-18 19:24:40  |\n",
      "|61295          |2022-09-12 16:39:09  |\n",
      "|103028         |2022-10-18 21:22:57  |\n",
      "|65147          |2022-10-12 11:39:42  |\n",
      "|118051         |2022-10-10 09:30:54  |\n",
      "|168904         |2022-10-08 11:16:51  |\n",
      "|145789         |2022-10-17 18:45:50  |\n",
      "|150780         |2022-10-18 13:14:21  |\n",
      "---------------------------------------\n",
      "\n"
     ]
    }
   ],
   "source": [
    "# Getting the latest purchase date for each customer in df1\n",
    "customer_last_order_timestamp_df1 = order_df1.groupBy(\"CUSTOMER_ID\").agg(F.max(\"ORDER_TS\").alias(\"LAST_ORDER_TS\"))\n",
    "customer_last_order_timestamp_df1.show()"
   ]
  },
  {
   "cell_type": "code",
   "execution_count": 22,
   "metadata": {},
   "outputs": [
    {
     "name": "stdout",
     "output_type": "stream",
     "text": [
      "-------------------------------------------------------------\n",
      "|\"CUSTOMER_ID\"  |\"LAST_ORDER_TS\"      |\"LAST_TRANS\"         |\n",
      "-------------------------------------------------------------\n",
      "|114606         |2022-09-29 20:30:58  |2022-10-18 22:56:45  |\n",
      "|134715         |2022-09-21 09:48:35  |2022-10-18 22:56:45  |\n",
      "|83979          |2022-10-18 20:30:54  |2022-10-18 22:56:45  |\n",
      "|29066          |2022-10-13 09:00:32  |2022-10-18 22:56:45  |\n",
      "|31252          |2022-09-22 20:29:44  |2022-10-18 22:56:45  |\n",
      "|68481          |2022-10-15 19:11:05  |2022-10-18 22:56:45  |\n",
      "|20166          |2022-09-15 09:10:26  |2022-10-18 22:56:45  |\n",
      "|6655           |2022-09-26 12:30:05  |2022-10-18 22:56:45  |\n",
      "|86934          |2022-10-13 12:44:37  |2022-10-18 22:56:45  |\n",
      "|142411         |2022-10-14 17:18:37  |2022-10-18 22:56:45  |\n",
      "-------------------------------------------------------------\n",
      "\n"
     ]
    }
   ],
   "source": [
    "# Getting last order date\n",
    "lastest_transaction_df1 = order_df1.agg(F.max(\"ORDER_TS\").alias(\"LAST_ORDER_TS\")).collect()[0][0]\n",
    "customer_last_order_timestamp_df1 = customer_last_order_timestamp_df1.withColumn(\"LAST_TRANS\", F.iff(F.col(\"CUSTOMER_ID\") == F.col(\"CUSTOMER_ID\"), lastest_transaction_df1, lastest_transaction_df1))\n",
    "customer_last_order_timestamp_df1.show()"
   ]
  },
  {
   "cell_type": "code",
   "execution_count": 23,
   "metadata": {},
   "outputs": [
    {
     "name": "stdout",
     "output_type": "stream",
     "text": [
      "--------------------------------------------------------------------------\n",
      "|\"CUSTOMER_ID\"  |\"LAST_ORDER_TS\"      |\"LAST_TRANS\"         |\"DAYS_DF1\"  |\n",
      "--------------------------------------------------------------------------\n",
      "|83496          |2022-10-11 16:10:41  |2022-10-18 22:56:45  |7           |\n",
      "|179636         |2022-10-01 19:27:11  |2022-10-18 22:56:45  |17          |\n",
      "|39930          |2022-09-25 14:20:49  |2022-10-18 22:56:45  |23          |\n",
      "|164938         |2022-09-27 14:10:19  |2022-10-18 22:56:45  |21          |\n",
      "|176202         |2022-10-07 09:38:49  |2022-10-18 22:56:45  |11          |\n",
      "|114424         |2022-10-09 19:17:28  |2022-10-18 22:56:45  |9           |\n",
      "|71849          |2022-10-16 10:58:46  |2022-10-18 22:56:45  |2           |\n",
      "|163551         |2022-10-14 11:19:12  |2022-10-18 22:56:45  |4           |\n",
      "|150930         |2022-10-18 17:31:06  |2022-10-18 22:56:45  |0           |\n",
      "|176242         |2022-10-10 17:42:43  |2022-10-18 22:56:45  |8           |\n",
      "--------------------------------------------------------------------------\n",
      "\n"
     ]
    }
   ],
   "source": [
    "# Getting the date diff from customer last order to the date 2 weeks before the latest provided transaction date in df1\n",
    "customer_last_order_timestamp_df1 = customer_last_order_timestamp_df1.withColumn(\"days_df1\", F.datediff(\"day\", customer_last_order_timestamp_df1[\"LAST_ORDER_TS\"], customer_last_order_timestamp_df1[\"LAST_TRANS\"]))\n",
    "customer_last_order_timestamp_df1.show()"
   ]
  },
  {
   "attachments": {},
   "cell_type": "markdown",
   "metadata": {},
   "source": [
    "DO THE PAST 3 TRANS HERE"
   ]
  },
  {
   "cell_type": "code",
   "execution_count": null,
   "metadata": {},
   "outputs": [],
   "source": []
  },
  {
   "cell_type": "code",
   "execution_count": null,
   "metadata": {},
   "outputs": [],
   "source": []
  },
  {
   "cell_type": "code",
   "execution_count": null,
   "metadata": {},
   "outputs": [],
   "source": []
  },
  {
   "attachments": {},
   "cell_type": "markdown",
   "metadata": {},
   "source": [
    "### 4.2 Recency <a id=\"part4.2\"></a>\n",
    "\n",
    "To calculate the recency of orders for each customer, we will take the last order timestamp of the customer minus the current date identified. "
   ]
  },
  {
   "cell_type": "code",
   "execution_count": 24,
   "metadata": {},
   "outputs": [
    {
     "name": "stdout",
     "output_type": "stream",
     "text": [
      "-------------------------------------------------------------------------------------------\n",
      "|\"CUSTOMER_ID\"  |\"LAST_ORDER_TS\"      |\"LAST_TRANS\"         |\"DAYS_DF1\"  |\"RECENCY_DAYS\"  |\n",
      "-------------------------------------------------------------------------------------------\n",
      "|198931         |2022-08-16 12:58:37  |2022-10-18 22:56:45  |63          |63              |\n",
      "|100814         |2022-10-08 18:32:53  |2022-10-18 22:56:45  |10          |10              |\n",
      "|11771          |2022-09-29 20:07:33  |2022-10-18 22:56:45  |19          |19              |\n",
      "|152747         |2022-10-04 19:30:24  |2022-10-18 22:56:45  |14          |14              |\n",
      "|143894         |2022-09-18 13:48:24  |2022-10-18 22:56:45  |30          |30              |\n",
      "|145678         |2022-09-13 21:42:47  |2022-10-18 22:56:45  |35          |35              |\n",
      "|22505          |2022-10-18 18:19:58  |2022-10-18 22:56:45  |0           |0               |\n",
      "|115216         |2022-10-15 09:36:23  |2022-10-18 22:56:45  |3           |3               |\n",
      "|38505          |2022-09-26 18:34:43  |2022-10-18 22:56:45  |22          |22              |\n",
      "|174754         |2022-10-18 19:11:08  |2022-10-18 22:56:45  |0           |0               |\n",
      "-------------------------------------------------------------------------------------------\n",
      "\n"
     ]
    }
   ],
   "source": [
    "# Creating a new dataframe and adding column with current date as the latest \n",
    "# transaction timestamp identified previously \n",
    "\n",
    "# Calculate recency days\n",
    "customer_recency = customer_last_order_timestamp_df1.with_column(\"RECENCY_DAYS\", F.datediff('day', customer_last_order_timestamp_df1[\"LAST_ORDER_TS\"], customer_last_order_timestamp_df1[\"LAST_TRANS\"]))\n",
    "customer_recency.show()"
   ]
  },
  {
   "cell_type": "code",
   "execution_count": 25,
   "metadata": {},
   "outputs": [],
   "source": [
    "# Calculating the number of days since a customer bought from Tasty Bytes based \n",
    "# on the date difference between the current date and last order timestamp and \n",
    "# adding it into the customer_recency data frame\n",
    "\n",
    "temp_customer_recency = customer_recency.select('CUSTOMER_ID','RECENCY_DAYS')\n",
    "\n",
    "# Joining customer_recency and customer_df to make a new data frame which will be used for clustering\n",
    "customer_last_order_timestamp_df1 = temp_customer_recency.join(customer_last_order_timestamp_df1, \n",
    "                                customer_last_order_timestamp_df1.CUSTOMER_ID==temp_customer_recency.CUSTOMER_ID, lsuffix=\"\", rsuffix=\"_RECENCY\")"
   ]
  },
  {
   "cell_type": "code",
   "execution_count": 26,
   "metadata": {},
   "outputs": [
    {
     "name": "stdout",
     "output_type": "stream",
     "text": [
      "-------------------------------------------------------------------------------------------------------------------\n",
      "|\"CUSTOMER_ID\"  |\"RECENCY_DAYS\"  |\"CUSTOMER_ID_RECENCY\"  |\"LAST_ORDER_TS\"      |\"LAST_TRANS\"         |\"DAYS_DF1\"  |\n",
      "-------------------------------------------------------------------------------------------------------------------\n",
      "|106777         |3               |106777                 |2022-10-15 10:57:04  |2022-10-18 22:56:45  |3           |\n",
      "|16267          |1               |16267                  |2022-10-17 18:37:44  |2022-10-18 22:56:45  |1           |\n",
      "|146214         |5               |146214                 |2022-10-13 08:42:19  |2022-10-18 22:56:45  |5           |\n",
      "|97144          |3               |97144                  |2022-10-15 11:29:25  |2022-10-18 22:56:45  |3           |\n",
      "|164825         |5               |164825                 |2022-10-13 18:27:48  |2022-10-18 22:56:45  |5           |\n",
      "|127513         |2               |127513                 |2022-10-16 14:18:04  |2022-10-18 22:56:45  |2           |\n",
      "|117954         |11              |117954                 |2022-10-07 16:31:11  |2022-10-18 22:56:45  |11          |\n",
      "|85341          |19              |85341                  |2022-09-29 13:11:17  |2022-10-18 22:56:45  |19          |\n",
      "|170830         |11              |170830                 |2022-10-07 14:23:38  |2022-10-18 22:56:45  |11          |\n",
      "|182562         |31              |182562                 |2022-09-17 09:51:29  |2022-10-18 22:56:45  |31          |\n",
      "-------------------------------------------------------------------------------------------------------------------\n",
      "\n"
     ]
    }
   ],
   "source": [
    "# Display customer_last_order_timestamp_df1\n",
    "customer_last_order_timestamp_df1.show()"
   ]
  },
  {
   "attachments": {},
   "cell_type": "markdown",
   "metadata": {},
   "source": [
    "### 4.3 Frequency <a id=\"part4.3\"></a>\n",
    "\n",
    "To calculate the frequency of orders for each customer, we will be calculating the total order by customers divided by the duration between their first order and the current date identified."
   ]
  },
  {
   "cell_type": "code",
   "execution_count": 27,
   "metadata": {},
   "outputs": [
    {
     "name": "stdout",
     "output_type": "stream",
     "text": [
      "---------------------------------------\n",
      "|\"CUSTOMER_ID\"  |\"FIRST_ORDER_TS\"     |\n",
      "---------------------------------------\n",
      "|111150         |2019-01-04 21:08:39  |\n",
      "|108935         |2019-01-06 13:38:47  |\n",
      "|173074         |2019-01-06 18:53:39  |\n",
      "|137846         |2019-01-10 18:58:28  |\n",
      "|28098          |2019-01-23 13:08:41  |\n",
      "---------------------------------------\n",
      "\n"
     ]
    }
   ],
   "source": [
    "# Obtain the time stamp for each customer’s first order\n",
    "customer_first_order_timestamp = order_df1.groupBy(\"CUSTOMER_ID\").agg(F.min(\"ORDER_TS\").alias(\"FIRST_ORDER_TS\"))\n",
    "customer_first_order_timestamp.show(n=5)"
   ]
  },
  {
   "cell_type": "code",
   "execution_count": 28,
   "metadata": {},
   "outputs": [
    {
     "name": "stdout",
     "output_type": "stream",
     "text": [
      "---------------------------------\n",
      "|\"CUSTOMER_ID\"  |\"TOTAL_ORDER\"  |\n",
      "---------------------------------\n",
      "|61615          |58             |\n",
      "|199518         |57             |\n",
      "|163672         |48             |\n",
      "|73700          |54             |\n",
      "|15972          |52             |\n",
      "---------------------------------\n",
      "\n"
     ]
    }
   ],
   "source": [
    "# Calculating the total number of orders for each customer\n",
    "total_order_by_cust = order_df1.group_by(\"CUSTOMER_ID\").agg(F.count(\"ORDER_ID\").alias(\"TOTAL_ORDER\"))\n",
    "total_order_by_cust.show(n=5)"
   ]
  },
  {
   "cell_type": "code",
   "execution_count": 29,
   "metadata": {},
   "outputs": [
    {
     "name": "stdout",
     "output_type": "stream",
     "text": [
      "-------------------------------------------------------------------------------------------------------------------------------------------------------------------------------------------------------------------------------------------------------------------------------------------------------------------------------------------------------------------------------------------------------------------------------------\n",
      "|\"CUSTOMER_ID\"  |\"FIRST_NAME\"  |\"LAST_NAME\"  |\"CITY\"     |\"COUNTRY\"      |\"POSTAL_CODE\"  |\"PREFERRED_LANGUAGE\"  |\"GENDER\"     |\"FAVOURITE_BRAND\"  |\"MARITAL_STATUS\"    |\"CHILDREN_COUNT\"  |\"SIGN_UP_DATE\"  |\"BIRTHDAY_DATE\"  |\"E_MAIL\"                     |\"PHONE_NUMBER\"  |\"CUSTOMER_ID_FIRST_TS\"  |\"FIRST_ORDER_TS\"     |\"CUSTOMER_ID_NUM_ORDER\"  |\"TOTAL_ORDER\"  |\"CURRENT DATE\"       |\"YEARS_WITH_US\"  |\"CUSTOMER_FREQUENCY\"  |\n",
      "-------------------------------------------------------------------------------------------------------------------------------------------------------------------------------------------------------------------------------------------------------------------------------------------------------------------------------------------------------------------------------------------------------------------------------------\n",
      "|118            |Donald        |Faulkner     |San Mateo  |United States  |94010          |English               |Male         |NULL               |Single              |0                 |2019-07-07      |1988-06-13       |Donald.Faulkner@hotmail.com  |080-861-2392    |118                     |2019-09-16 19:43:56  |118                      |38             |2022-10-18 22:56:45  |3.090411         |12.296099             |\n",
      "|189            |Reese         |Mcfarland    |San Mateo  |United States  |94010          |English               |Undisclosed  |NULL               |Married             |1                 |2020-03-06      |1984-03-05       |Reese.Mcfarland@hotmail.com  |802-202-7275    |189                     |2019-04-30 14:03:32  |189                      |48             |2022-10-18 22:56:45  |3.471233         |13.827940             |\n",
      "|204            |Emilio        |Lawrence     |San Mateo  |United States  |94497          |English               |Male         |NULL               |Undisclosed         |Undisclosed       |2021-10-10      |1979-06-25       |Emilio.Lawrence@hotmail.com  |693-524-2569    |204                     |2020-02-11 09:36:36  |204                      |35             |2022-10-18 22:56:45  |2.684932         |13.035712             |\n",
      "|42             |Alexander     |Hicks        |San Mateo  |United States  |94404          |English               |Undisclosed  |NULL               |Single              |0                 |2020-07-11      |1966-06-28       |Alexander.Hicks@aol.com      |463-144-8555    |42                      |2019-05-05 17:25:49  |42                       |38             |2022-10-18 22:56:45  |3.457534         |10.990492             |\n",
      "|59             |Ryan          |Shah         |San Mateo  |United States  |94401          |English               |Male         |NULL               |Married             |2                 |2020-12-29      |1961-06-05       |Ryan.Shah@aol.com            |679-586-9815    |59                      |2019-05-15 17:15:41  |59                       |38             |2022-10-18 22:56:45  |3.430137         |11.078275             |\n",
      "|65             |Nathen        |Werner       |San Mateo  |United States  |94010          |English               |Male         |NULL               |Divorced/Seperated  |5+                |2020-11-05      |1958-09-01       |Nathen.Werner@aol.com        |926-969-1551    |65                      |2019-06-09 17:59:28  |65                       |43             |2022-10-18 22:56:45  |3.361644         |12.791360             |\n",
      "|106            |Camilla       |Harding      |San Mateo  |United States  |94404          |English               |Female       |NULL               |Single              |0                 |2021-06-28      |1967-05-10       |Camilla.Harding@aol.com      |366-365-2520    |106                     |2019-09-22 22:14:38  |106                      |48             |2022-10-18 22:56:45  |3.073973         |15.614971             |\n",
      "|219            |Scarlett      |Zavala       |San Mateo  |United States  |94403          |English               |Undisclosed  |NULL               |Married             |2                 |2021-01-22      |1965-12-19       |Scarlett.Zavala@aol.com      |447-385-8243    |219                     |2020-01-02 20:16:46  |219                      |39             |2022-10-18 22:56:45  |2.794521         |13.955880             |\n",
      "|222            |Olive         |Powell       |San Mateo  |United States  |94404          |English               |Female       |NULL               |Single              |0                 |2021-03-21      |1965-07-06       |Olive.Powell@aol.com         |983-128-2475    |222                     |2019-02-04 13:57:10  |222                      |45             |2022-10-18 22:56:45  |3.704110         |12.148667             |\n",
      "|22             |Rayne         |Sanchez      |San Mateo  |United States  |94401          |English               |Male         |NULL               |Married             |4                 |2021-04-22      |1949-01-12       |Rayne.Sanchez@ymail.com      |621-054-0251    |22                      |2019-05-15 21:36:14  |22                       |43             |2022-10-18 22:56:45  |3.430137         |12.535942             |\n",
      "-------------------------------------------------------------------------------------------------------------------------------------------------------------------------------------------------------------------------------------------------------------------------------------------------------------------------------------------------------------------------------------------------------------------------------------\n",
      "\n"
     ]
    }
   ],
   "source": [
    "# Joining the total number of orders, first order timestamp tables with the customer data\n",
    "customer_freq = customer_df.join(customer_first_order_timestamp, customer_df.CUSTOMER_ID==customer_first_order_timestamp.CUSTOMER_ID, lsuffix=\"\", rsuffix=\"_FIRST_TS\")\n",
    "customer_freq = customer_freq.join(total_order_by_cust, customer_freq.CUSTOMER_ID==total_order_by_cust.CUSTOMER_ID, lsuffix=\"\", rsuffix=\"_NUM_ORDER\")\n",
    "\n",
    "# Adding in relevant columns to the newly joined data frame such as “CURRENT DATE”, “YEARS_WITH_US”, and “CUSTOMER_FREQUENCY” to calculate the frequency\n",
    "customer_freq = customer_freq.with_column(\"CURRENT DATE\", F.iff(F.col(\"CUSTOMER_ID\") == F.col(\"CUSTOMER_ID\"), lastest_transaction_df1, lastest_transaction_df1))\n",
    "customer_freq = customer_freq.with_column(\"YEARS_WITH_US\",F.datediff(\"day\", customer_freq[\"FIRST_ORDER_TS\"], customer_freq[\"CURRENT DATE\"])/365)\n",
    "customer_freq = customer_freq.with_column(\"CUSTOMER_FREQUENCY\", customer_freq[\"TOTAL_ORDER\"]/customer_freq[\"YEARS_WITH_US\"])\n",
    "\n",
    "customer_freq.show()"
   ]
  },
  {
   "cell_type": "code",
   "execution_count": 30,
   "metadata": {},
   "outputs": [],
   "source": [
    "# Joining this table to the customer dataset that will be used for clustering later on\n",
    "temp_customer_freq = customer_freq.select([\"CUSTOMER_ID\",\"CUSTOMER_FREQUENCY\",'TOTAL_ORDER'])\n",
    "customer_last_order_timestamp_df1 = temp_customer_freq.join(customer_last_order_timestamp_df1, \n",
    "                                customer_last_order_timestamp_df1.CUSTOMER_ID==temp_customer_freq.CUSTOMER_ID, lsuffix=\"\", rsuffix=\"_FREQUENCY\")"
   ]
  },
  {
   "cell_type": "code",
   "execution_count": 31,
   "metadata": {},
   "outputs": [
    {
     "name": "stdout",
     "output_type": "stream",
     "text": [
      "------------------------------------------------------------------------------------------------------------------------------------------------------------------------------------\n",
      "|\"CUSTOMER_ID\"  |\"CUSTOMER_FREQUENCY\"  |\"TOTAL_ORDER\"  |\"CUSTOMER_ID_FREQUENCY\"  |\"RECENCY_DAYS\"  |\"CUSTOMER_ID_RECENCY\"  |\"LAST_ORDER_TS\"      |\"LAST_TRANS\"         |\"DAYS_DF1\"  |\n",
      "------------------------------------------------------------------------------------------------------------------------------------------------------------------------------------\n",
      "|169614         |23.934428             |72             |169614                   |6               |169614                 |2022-10-12 19:02:13  |2022-10-18 22:56:45  |6           |\n",
      "|107415         |21.236361             |64             |107415                   |1               |107415                 |2022-10-17 15:09:43  |2022-10-18 22:56:45  |1           |\n",
      "|105551         |18.879310             |54             |105551                   |13              |105551                 |2022-10-05 17:32:50  |2022-10-18 22:56:45  |13          |\n",
      "|61556          |17.490958             |53             |61556                    |43              |61556                  |2022-09-05 08:30:15  |2022-10-18 22:56:45  |43          |\n",
      "|111566         |16.456268             |50             |111566                   |5               |111566                 |2022-10-13 20:08:13  |2022-10-18 22:56:45  |5           |\n",
      "|128265         |20.369034             |62             |128265                   |15              |128265                 |2022-10-03 17:14:34  |2022-10-18 22:56:45  |15          |\n",
      "|119614         |22.726412             |66             |119614                   |0               |119614                 |2022-10-18 20:15:15  |2022-10-18 22:56:45  |0           |\n",
      "|183360         |18.726370             |57             |183360                   |12              |183360                 |2022-10-06 19:04:45  |2022-10-18 22:56:45  |12          |\n",
      "|147682         |22.091235             |67             |147682                   |18              |147682                 |2022-09-30 19:05:36  |2022-10-18 22:56:45  |18          |\n",
      "|188082         |20.808410             |61             |188082                   |2               |188082                 |2022-10-16 16:17:02  |2022-10-18 22:56:45  |2           |\n",
      "------------------------------------------------------------------------------------------------------------------------------------------------------------------------------------\n",
      "\n"
     ]
    }
   ],
   "source": [
    "# Display customer_last_order_timestamp\n",
    "customer_last_order_timestamp_df1.show()"
   ]
  },
  {
   "attachments": {},
   "cell_type": "markdown",
   "metadata": {},
   "source": [
    "### 4.4 Monetary Value <a id=\"part4.4\"></a>\n",
    "\n",
    "To calculate the monetary value for each customer, we will be calculating the total sales generated by each customer divided by the number of years the customer has ordered with Tasty Bytes. "
   ]
  },
  {
   "cell_type": "code",
   "execution_count": 32,
   "metadata": {},
   "outputs": [],
   "source": [
    " # Calculate the total sales generated by each customer \n",
    "total_amount_spent = order_df1.group_by(\"CUSTOMER_ID\").agg(F.sum(\"ORDER_TOTAL\").alias(\"TOTAL_SPENT\"))\n",
    "\n",
    "# Joining the total sales generated by each customer with the first order timestamp tables \n",
    "customer_monetary = total_amount_spent.join(customer_first_order_timestamp, total_amount_spent.CUSTOMER_ID==customer_first_order_timestamp.CUSTOMER_ID, lsuffix=\"\", rsuffix=\"_FIRST_TS\")\n",
    "\n",
    "# Adding in relevant columns to the newly joined data frame such as “CURRENT DATE”, “YEARS_WITH_US”, and “MONETARY_VALUE” to calculate the monetary value\n",
    "customer_monetary = customer_monetary.with_column(\"CURRENT DATE\", F.iff(F.col(\"CUSTOMER_ID\") == F.col(\"CUSTOMER_ID\"), lastest_transaction_df1, lastest_transaction_df1))\n",
    "customer_monetary = customer_monetary.with_column(\"YEARS_WITH_US\",F.datediff(\"day\", customer_monetary[\"FIRST_ORDER_TS\"], customer_monetary[\"CURRENT DATE\"])/365)\n",
    "customer_monetary = customer_monetary.with_column(\"MONETARY_VALUE\", F.col(\"TOTAL_SPENT\")/F.col(\"YEARS_WITH_US\"))"
   ]
  },
  {
   "cell_type": "code",
   "execution_count": 33,
   "metadata": {},
   "outputs": [],
   "source": [
    "# Joining this table to the customer dataset that will be used for clustering later on \n",
    "temp_customer_mon = customer_monetary.select(['CUSTOMER_ID','TOTAL_SPENT','YEARS_WITH_US','MONETARY_VALUE'])\n",
    "customer_last_order_timestamp_df1 = temp_customer_mon.join(customer_last_order_timestamp_df1, customer_last_order_timestamp_df1.CUSTOMER_ID==temp_customer_mon.CUSTOMER_ID, lsuffix=\"\", rsuffix=\"_MONETARY\")"
   ]
  },
  {
   "cell_type": "code",
   "execution_count": 34,
   "metadata": {},
   "outputs": [
    {
     "name": "stdout",
     "output_type": "stream",
     "text": [
      "------------------------------------------------------------------------------------------------------------------------------------------------------------------------------------------------------------------------------------------------------------------\n",
      "|\"CUSTOMER_ID\"  |\"TOTAL_SPENT\"  |\"YEARS_WITH_US\"  |\"MONETARY_VALUE\"  |\"CUSTOMER_ID_MONETARY\"  |\"CUSTOMER_FREQUENCY\"  |\"TOTAL_ORDER\"  |\"CUSTOMER_ID_FREQUENCY\"  |\"RECENCY_DAYS\"  |\"CUSTOMER_ID_RECENCY\"  |\"LAST_ORDER_TS\"      |\"LAST_TRANS\"         |\"DAYS_DF1\"  |\n",
      "------------------------------------------------------------------------------------------------------------------------------------------------------------------------------------------------------------------------------------------------------------------\n",
      "|183793         |2161.5000      |3.213699         |672.5894366585    |183793                  |17.425403             |56             |183793                   |3               |183793                 |2022-10-15 09:38:31  |2022-10-18 22:56:45  |3           |\n",
      "|125907         |2213.7500      |3.271233         |676.7325959355    |125907                  |17.424622             |57             |125907                   |3               |125907                 |2022-10-15 13:02:29  |2022-10-18 22:56:45  |3           |\n",
      "|21593          |2073.5000      |3.495890         |593.1250697247    |21593                   |17.163011             |60             |21593                    |7               |21593                  |2022-10-11 09:19:00  |2022-10-18 22:56:45  |7           |\n",
      "|103778         |2774.5000      |3.367123         |823.9972225547    |103778                  |22.274209             |75             |103778                   |5               |103778                 |2022-10-13 12:18:46  |2022-10-18 22:56:45  |5           |\n",
      "|33043          |2232.5000      |3.049315         |732.1316426804    |33043                   |20.332435             |62             |33043                    |13              |33043                  |2022-10-05 20:37:04  |2022-10-18 22:56:45  |13          |\n",
      "|49650          |2191.7500      |3.323288         |659.5125068908    |49650                   |17.452595             |58             |49650                    |4               |49650                  |2022-10-14 19:16:23  |2022-10-18 22:56:45  |4           |\n",
      "|165398         |2397.0000      |3.295890         |727.2694173653    |165398                  |16.990858             |56             |165398                   |1               |165398                 |2022-10-17 17:39:14  |2022-10-18 22:56:45  |1           |\n",
      "|53798          |2410.0000      |3.534247         |681.8991428726    |53798                   |18.108525             |64             |53798                    |13              |53798                  |2022-10-05 08:42:56  |2022-10-18 22:56:45  |13          |\n",
      "|170455         |2204.2500      |3.279452         |672.1397355412    |170455                  |17.076024             |56             |170455                   |3               |170455                 |2022-10-15 10:49:59  |2022-10-18 22:56:45  |3           |\n",
      "|116311         |2589.7500      |3.298630         |785.0986621719    |116311                  |17.279901             |57             |116311                   |11              |116311                 |2022-10-07 19:22:17  |2022-10-18 22:56:45  |11          |\n",
      "------------------------------------------------------------------------------------------------------------------------------------------------------------------------------------------------------------------------------------------------------------------\n",
      "\n"
     ]
    }
   ],
   "source": [
    "# Display customer_last_order_timestamp_df1\n",
    "customer_last_order_timestamp_df1.show()"
   ]
  },
  {
   "cell_type": "code",
   "execution_count": 35,
   "metadata": {},
   "outputs": [
    {
     "name": "stdout",
     "output_type": "stream",
     "text": [
      "---------------------------------------------------------------------------------------------------------------------------------------------------------------------------------------\n",
      "|\"CUSTOMER_ID\"  |\"TOTAL_SPENT\"  |\"YEARS_WITH_US\"  |\"MONETARY_VALUE\"  |\"CUSTOMER_FREQUENCY\"  |\"TOTAL_ORDER\"  |\"RECENCY_DAYS\"  |\"LAST_ORDER_TS\"      |\"LAST_TRANS\"         |\"DAYS_DF1\"  |\n",
      "---------------------------------------------------------------------------------------------------------------------------------------------------------------------------------------\n",
      "|63821          |2575.7500      |3.490411         |737.9503445296    |18.049450             |63             |25              |2022-09-23 13:43:38  |2022-10-18 22:56:45  |25          |\n",
      "|55439          |2629.7500      |3.490411         |753.4213019613    |16.903453             |59             |10              |2022-10-08 12:18:19  |2022-10-18 22:56:45  |10          |\n",
      "|199926         |2805.5000      |3.139726         |893.5493097168    |21.020943             |66             |0               |2022-10-18 11:30:33  |2022-10-18 22:56:45  |0           |\n",
      "|109559         |3183.0000      |3.136986         |1014.6682197498   |21.039303             |66             |7               |2022-10-11 18:38:03  |2022-10-18 22:56:45  |7           |\n",
      "|161105         |2822.2500      |3.457534         |816.2609536161    |18.510302             |64             |3               |2022-10-15 18:11:40  |2022-10-18 22:56:45  |3           |\n",
      "|110108         |3338.0000      |3.145205         |1061.2980711909   |21.938157             |69             |0               |2022-10-18 20:29:19  |2022-10-18 22:56:45  |0           |\n",
      "|109868         |2556.0000      |3.372603         |757.8715905786    |21.051989             |71             |4               |2022-10-14 09:22:44  |2022-10-18 22:56:45  |4           |\n",
      "|35000          |2058.5000      |3.317808         |620.4397602272    |13.864576             |46             |3               |2022-10-15 18:49:13  |2022-10-18 22:56:45  |3           |\n",
      "|106975         |2752.7500      |3.419178         |805.0911651865    |19.302885             |66             |19              |2022-09-29 09:47:31  |2022-10-18 22:56:45  |19          |\n",
      "|36241          |2023.2500      |3.378082         |598.9345433296    |13.321169             |45             |7               |2022-10-11 21:10:04  |2022-10-18 22:56:45  |7           |\n",
      "---------------------------------------------------------------------------------------------------------------------------------------------------------------------------------------\n",
      "\n"
     ]
    }
   ],
   "source": [
    "# Dropping of irrelevant and unnecessary columns that have been introduced during joining of dataframes in previous steps\n",
    "customer_last_order_timestamp_df1 = customer_last_order_timestamp_df1.drop([\"CUSTOMER_ID_MONETARY\", \"CUSTOMER_ID_FREQUENCY\", \"CUSTOMER_ID_RECENCY\"])\n",
    "customer_last_order_timestamp_df1.show(10)"
   ]
  },
  {
   "attachments": {},
   "cell_type": "markdown",
   "metadata": {},
   "source": [
    "CLUSTERING"
   ]
  },
  {
   "cell_type": "code",
   "execution_count": null,
   "metadata": {},
   "outputs": [],
   "source": []
  },
  {
   "cell_type": "code",
   "execution_count": null,
   "metadata": {},
   "outputs": [],
   "source": []
  },
  {
   "cell_type": "code",
   "execution_count": null,
   "metadata": {},
   "outputs": [],
   "source": []
  },
  {
   "attachments": {},
   "cell_type": "markdown",
   "metadata": {},
   "source": [
    "### 4.5 Calculation of Average Days between Purchases <a id=\"part4.5\"></a>"
   ]
  },
  {
   "cell_type": "code",
   "execution_count": 36,
   "metadata": {},
   "outputs": [
    {
     "name": "stdout",
     "output_type": "stream",
     "text": [
      "---------------------------------------\n",
      "|\"CUSTOMER_ID\"  |\"AVG(DAYS_BETWEEN)\"  |\n",
      "---------------------------------------\n",
      "|22             |29.785714            |\n",
      "|42             |33.864865            |\n",
      "|59             |33.486486            |\n",
      "|65             |29.095238            |\n",
      "|106            |23.765957            |\n",
      "|118            |29.540541            |\n",
      "|166            |19.214286            |\n",
      "|176            |28.718750            |\n",
      "|189            |26.829787            |\n",
      "|204            |28.823529            |\n",
      "---------------------------------------\n",
      "\n"
     ]
    }
   ],
   "source": [
    "# Finding the average days between purchase for each customer\n",
    "customer_order_times = order_df1.sort(col(\"CUSTOMER_ID\"), col(\"ORDER_TS\"))\n",
    "customer_order_times = customer_order_times.withColumn(\"prev_order_date\", F.lag(col(\"ORDER_TS\"), 1).over(Window.partitionBy(\"CUSTOMER_ID\").orderBy(\"ORDER_TS\"))).withColumn(\"days_between\", F.datediff('day', col(\"prev_order_date\"), col(\"ORDER_TS\")))\n",
    "customer_average_days = customer_order_times.groupBy(\"CUSTOMER_ID\").avg(\"days_between\")\n",
    "customer_average_days = customer_average_days.sort(col('CUSTOMER_ID'))\n",
    "customer_average_days.show()"
   ]
  },
  {
   "cell_type": "code",
   "execution_count": 37,
   "metadata": {},
   "outputs": [
    {
     "name": "stdout",
     "output_type": "stream",
     "text": [
      "-------------------------------------------------------------------------------------------------------------------------------------------------------------------------------------------------------------------------------------------------------\n",
      "|\"CUSTOMER_ID\"  |\"AVG(DAYS_BETWEEN)\"  |\"CUSTOMER_ID_AVG_DAYS_WITHOUT_PURCHASE\"  |\"TOTAL_SPENT\"  |\"YEARS_WITH_US\"  |\"MONETARY_VALUE\"  |\"CUSTOMER_FREQUENCY\"  |\"TOTAL_ORDER\"  |\"RECENCY_DAYS\"  |\"LAST_ORDER_TS\"      |\"LAST_TRANS\"         |\"DAYS_DF1\"  |\n",
      "-------------------------------------------------------------------------------------------------------------------------------------------------------------------------------------------------------------------------------------------------------\n",
      "|57890          |16.771930            |57890                                    |2166.2500      |2.704110         |801.0953696410    |21.448832             |58             |31              |2022-09-17 20:18:31  |2022-10-18 22:56:45  |31          |\n",
      "|101776         |16.865385            |101776                                   |2218.5000      |2.452055         |904.7513208309    |21.614523             |53             |18              |2022-09-30 19:51:13  |2022-10-18 22:56:45  |18          |\n",
      "|76388          |23.418605            |76388                                    |1835.7500      |2.764384         |664.0719957864    |15.916747             |44             |2               |2022-10-16 12:05:45  |2022-10-18 22:56:45  |2           |\n",
      "|109786         |21.933333            |109786                                   |1974.0000      |2.736986         |721.2313106461    |16.806809             |46             |12              |2022-10-06 13:33:42  |2022-10-18 22:56:45  |12          |\n",
      "|82457          |16.237288            |82457                                    |2622.2500      |2.720548         |963.8683088848    |22.054380             |60             |35              |2022-09-13 09:58:42  |2022-10-18 22:56:45  |35          |\n",
      "|112639         |16.440678            |112639                                   |2117.5000      |2.753425         |769.0421929052    |21.791042             |60             |35              |2022-09-13 20:38:14  |2022-10-18 22:56:45  |35          |\n",
      "|67286          |17.872727            |67286                                    |2183.7500      |2.734247         |798.6659581230    |20.480959             |56             |15              |2022-10-03 18:34:24  |2022-10-18 22:56:45  |15          |\n",
      "|181467         |20.088889            |181467                                   |1778.0000      |2.512329         |707.7098580640    |18.309704             |46             |13              |2022-10-05 09:46:42  |2022-10-18 22:56:45  |13          |\n",
      "|26439          |17.379310            |26439                                    |2539.7500      |2.783562         |912.4100702625    |21.195863             |59             |8               |2022-10-10 19:55:49  |2022-10-18 22:56:45  |8           |\n",
      "|87207          |16.745763            |87207                                    |2476.0000      |2.720548         |910.1107570975    |22.054380             |60             |5               |2022-10-13 20:32:20  |2022-10-18 22:56:45  |5           |\n",
      "-------------------------------------------------------------------------------------------------------------------------------------------------------------------------------------------------------------------------------------------------------\n",
      "\n"
     ]
    }
   ],
   "source": [
    "# Adding the average days between purchase into customer_last_order_timestamp_df1\n",
    "customer_last_order_timestamp_df1 = customer_average_days.join(customer_last_order_timestamp_df1, \n",
    "                                customer_last_order_timestamp_df1.CUSTOMER_ID==customer_average_days.CUSTOMER_ID, lsuffix=\"\", rsuffix=\"_AVG_DAYS_WITHOUT_PURCHASE\")\n",
    "customer_last_order_timestamp_df1.show()"
   ]
  },
  {
   "attachments": {},
   "cell_type": "markdown",
   "metadata": {},
   "source": [
    "### 4.6 Calculation the Minimum Number of Days without Customer Purchase <a id=\"part4.6\"></a>"
   ]
  },
  {
   "cell_type": "code",
   "execution_count": 38,
   "metadata": {},
   "outputs": [
    {
     "name": "stdout",
     "output_type": "stream",
     "text": [
      "---------------------------------------\n",
      "|\"CUSTOMER_ID\"  |\"MIN(DAYS_BETWEEN)\"  |\n",
      "---------------------------------------\n",
      "|22             |1                    |\n",
      "|42             |1                    |\n",
      "|59             |1                    |\n",
      "|65             |2                    |\n",
      "|106            |1                    |\n",
      "|118            |1                    |\n",
      "|166            |1                    |\n",
      "|176            |1                    |\n",
      "|189            |1                    |\n",
      "|204            |3                    |\n",
      "---------------------------------------\n",
      "\n"
     ]
    }
   ],
   "source": [
    "# Finding the minimum days without purchase for each customer\n",
    "customer_min_days = customer_order_times.groupBy(\"CUSTOMER_ID\").min(\"days_between\")\n",
    "customer_min_days = customer_min_days.sort(col('CUSTOMER_ID'))\n",
    "customer_min_days.show()"
   ]
  },
  {
   "cell_type": "code",
   "execution_count": 39,
   "metadata": {},
   "outputs": [
    {
     "name": "stdout",
     "output_type": "stream",
     "text": [
      "-----------------------------------------------------------------------------------------------------------------------------------------------------------------------------------------------------------------------------------------------------------------------------------------------------------------------\n",
      "|\"CUSTOMER_ID\"  |\"MIN(DAYS_BETWEEN)\"  |\"CUSTOMER_ID_MIN_DAYS_WITHOUT_PURCHASE\"  |\"AVG(DAYS_BETWEEN)\"  |\"CUSTOMER_ID_AVG_DAYS_WITHOUT_PURCHASE\"  |\"TOTAL_SPENT\"  |\"YEARS_WITH_US\"  |\"MONETARY_VALUE\"  |\"CUSTOMER_FREQUENCY\"  |\"TOTAL_ORDER\"  |\"RECENCY_DAYS\"  |\"LAST_ORDER_TS\"      |\"LAST_TRANS\"         |\"DAYS_DF1\"  |\n",
      "-----------------------------------------------------------------------------------------------------------------------------------------------------------------------------------------------------------------------------------------------------------------------------------------------------------------------\n",
      "|172108         |2                    |172108                                   |22.892857            |172108                                   |2356.7500      |3.534247         |666.8322842178    |16.127905             |57             |8               |2022-10-10 11:35:32  |2022-10-18 22:56:45  |8           |\n",
      "|57824          |1                    |57824                                    |21.516667            |57824                                    |2586.2500      |3.536986         |731.2016502186    |17.246322             |61             |0               |2022-10-18 13:25:25  |2022-10-18 22:56:45  |0           |\n",
      "|120607         |1                    |120607                                   |23.183673            |120607                                   |2508.5000      |3.145205         |797.5632748899    |15.897215             |50             |12              |2022-10-06 19:29:58  |2022-10-18 22:56:45  |12          |\n",
      "|73541          |1                    |73541                                    |21.293103            |73541                                    |2439.2500      |3.493151         |698.2950350557    |16.890195             |59             |40              |2022-09-08 19:52:15  |2022-10-18 22:56:45  |40          |\n",
      "|137364         |2                    |137364                                   |17.696970            |137364                                   |2600.5000      |3.200000         |812.6562500000    |20.937500             |67             |0               |2022-10-18 12:44:57  |2022-10-18 22:56:45  |0           |\n",
      "|114082         |1                    |114082                                   |18.981132            |114082                                   |2305.5000      |2.832877         |813.8369579759    |19.061894             |54             |28              |2022-09-20 13:02:57  |2022-10-18 22:56:45  |28          |\n",
      "|136134         |1                    |136134                                   |25.137255            |136134                                   |2126.5000      |3.523288         |603.5555424365    |14.758941             |52             |4               |2022-10-14 21:25:41  |2022-10-18 22:56:45  |4           |\n",
      "|23690          |1                    |23690                                    |24.019231            |23690                                    |2356.2500      |3.457534         |681.4828140519    |15.328844             |53             |13              |2022-10-05 16:57:08  |2022-10-18 22:56:45  |13          |\n",
      "|35464          |1                    |35464                                    |23.127273            |35464                                    |2309.2500      |3.495890         |660.5614021036    |16.018811             |56             |4               |2022-10-14 18:47:25  |2022-10-18 22:56:45  |4           |\n",
      "|59580          |1                    |59580                                    |17.164179            |59580                                    |2565.5000      |3.200000         |801.7187500000    |21.250000             |68             |18              |2022-09-30 21:35:34  |2022-10-18 22:56:45  |18          |\n",
      "-----------------------------------------------------------------------------------------------------------------------------------------------------------------------------------------------------------------------------------------------------------------------------------------------------------------------\n",
      "\n"
     ]
    }
   ],
   "source": [
    "# Adding the minimum number of days without purchase into customer_last_order_timestamp_df1\n",
    "customer_last_order_timestamp_df1 = customer_min_days.join(customer_last_order_timestamp_df1, \n",
    "                                customer_last_order_timestamp_df1.CUSTOMER_ID==customer_min_days.CUSTOMER_ID, lsuffix=\"\", rsuffix=\"_MIN_DAYS_WITHOUT_PURCHASE\")\n",
    "customer_last_order_timestamp_df1.show()"
   ]
  },
  {
   "attachments": {},
   "cell_type": "markdown",
   "metadata": {},
   "source": [
    "### 4.7 Calculation the Maximum Number of Days without Customer Purchase <a id=\"part4.7\"></a>"
   ]
  },
  {
   "cell_type": "code",
   "execution_count": 40,
   "metadata": {},
   "outputs": [
    {
     "name": "stdout",
     "output_type": "stream",
     "text": [
      "---------------------------------------\n",
      "|\"CUSTOMER_ID\"  |\"MAX(DAYS_BETWEEN)\"  |\n",
      "---------------------------------------\n",
      "|22             |173                  |\n",
      "|42             |167                  |\n",
      "|59             |390                  |\n",
      "|65             |207                  |\n",
      "|106            |158                  |\n",
      "|118            |158                  |\n",
      "|166            |119                  |\n",
      "|176            |139                  |\n",
      "|189            |164                  |\n",
      "|204            |172                  |\n",
      "---------------------------------------\n",
      "\n"
     ]
    }
   ],
   "source": [
    "# Finding the maximum days without purchase for each customer\n",
    "customer_max_days = customer_order_times.groupBy(\"CUSTOMER_ID\").max(\"days_between\")\n",
    "customer_max_days = customer_max_days.sort(col('CUSTOMER_ID'))\n",
    "customer_max_days.show()"
   ]
  },
  {
   "cell_type": "code",
   "execution_count": 41,
   "metadata": {},
   "outputs": [
    {
     "name": "stdout",
     "output_type": "stream",
     "text": [
      "---------------------------------------------------------------------------------------------------------------------------------------------------------------------------------------------------------------------------------------------------------------------------------------------------------------------------------------------------------------------------------------\n",
      "|\"CUSTOMER_ID\"  |\"MAX(DAYS_BETWEEN)\"  |\"CUSTOMER_ID_MAX_DAYS_WITHOUT_PURCHASE\"  |\"MIN(DAYS_BETWEEN)\"  |\"CUSTOMER_ID_MIN_DAYS_WITHOUT_PURCHASE\"  |\"AVG(DAYS_BETWEEN)\"  |\"CUSTOMER_ID_AVG_DAYS_WITHOUT_PURCHASE\"  |\"TOTAL_SPENT\"  |\"YEARS_WITH_US\"  |\"MONETARY_VALUE\"  |\"CUSTOMER_FREQUENCY\"  |\"TOTAL_ORDER\"  |\"RECENCY_DAYS\"  |\"LAST_ORDER_TS\"      |\"LAST_TRANS\"         |\"DAYS_DF1\"  |\n",
      "---------------------------------------------------------------------------------------------------------------------------------------------------------------------------------------------------------------------------------------------------------------------------------------------------------------------------------------------------------------------------------------\n",
      "|61808          |82                   |61808                                    |1                    |61808                                    |21.106383            |61808                                    |1760.2500      |2.758904         |638.0250998222    |17.398213             |48             |15              |2022-10-03 10:46:56  |2022-10-18 22:56:45  |15          |\n",
      "|68635          |129                  |68635                                    |1                    |68635                                    |23.093023            |68635                                    |1585.7500      |2.734247         |579.9585772609    |16.092182             |44             |5               |2022-10-13 11:34:08  |2022-10-18 22:56:45  |5           |\n",
      "|147229         |55                   |147229                                   |1                    |147229                                   |18.018182            |147229                                   |2119.2500      |2.742466         |772.7534270252    |20.419579             |56             |10              |2022-10-08 09:33:55  |2022-10-18 22:56:45  |10          |\n",
      "|69971          |87                   |69971                                    |1                    |69971                                    |18.740000            |69971                                    |1872.0000      |2.597260         |720.7595697004    |19.636078             |51             |11              |2022-10-07 12:34:23  |2022-10-18 22:56:45  |11          |\n",
      "|47782          |163                  |47782                                    |1                    |47782                                    |17.846154            |47782                                    |1791.2500      |2.621918         |683.1830743753    |20.214210             |53             |29              |2022-09-19 18:59:13  |2022-10-18 22:56:45  |29          |\n",
      "|57966          |95                   |57966                                    |1                    |57966                                    |18.240741            |57966                                    |2348.2500      |2.701370         |869.2811425314    |20.360040             |55             |1               |2022-10-17 13:54:37  |2022-10-18 22:56:45  |1           |\n",
      "|48049          |81                   |48049                                    |1                    |48049                                    |15.828125            |48049                                    |2395.5000      |2.778082         |862.2855624852    |23.397438             |65             |1               |2022-10-17 16:13:57  |2022-10-18 22:56:45  |1           |\n",
      "|151264         |118                  |151264                                   |1                    |151264                                   |18.407407            |151264                                   |1950.5000      |2.750685         |709.0960978811    |19.995019             |55             |10              |2022-10-08 15:49:20  |2022-10-18 22:56:45  |10          |\n",
      "|14891          |100                  |14891                                    |1                    |14891                                    |17.035714            |14891                                    |1815.5000      |2.635616         |688.8332746500    |21.626823             |57             |8               |2022-10-10 21:36:59  |2022-10-18 22:56:45  |8           |\n",
      "|16017          |130                  |16017                                    |1                    |16017                                    |18.703704            |16017                                    |1921.5000      |2.775342         |692.3471053297    |19.817377             |55             |3               |2022-10-15 18:23:03  |2022-10-18 22:56:45  |3           |\n",
      "---------------------------------------------------------------------------------------------------------------------------------------------------------------------------------------------------------------------------------------------------------------------------------------------------------------------------------------------------------------------------------------\n",
      "\n"
     ]
    }
   ],
   "source": [
    "# Adding the maximum number of days without purchase into customer_last_order_timestamp_df1\n",
    "customer_last_order_timestamp_df1 = customer_max_days.join(customer_last_order_timestamp_df1, \n",
    "                                customer_last_order_timestamp_df1.CUSTOMER_ID==customer_max_days.CUSTOMER_ID, lsuffix=\"\", rsuffix=\"_MAX_DAYS_WITHOUT_PURCHASE\")\n",
    "customer_last_order_timestamp_df1.show()"
   ]
  },
  {
   "cell_type": "code",
   "execution_count": 42,
   "metadata": {},
   "outputs": [
    {
     "name": "stdout",
     "output_type": "stream",
     "text": [
      "---------------------------------------------------------------------------------------------------------------------------------------------------------------------------------------------------------------------------------------------------------\n",
      "|\"CUSTOMER_ID\"  |\"MAX(DAYS_BETWEEN)\"  |\"MIN(DAYS_BETWEEN)\"  |\"AVG(DAYS_BETWEEN)\"  |\"TOTAL_SPENT\"  |\"YEARS_WITH_US\"  |\"MONETARY_VALUE\"  |\"CUSTOMER_FREQUENCY\"  |\"TOTAL_ORDER\"  |\"RECENCY_DAYS\"  |\"LAST_ORDER_TS\"      |\"LAST_TRANS\"         |\"DAYS_DF1\"  |\n",
      "---------------------------------------------------------------------------------------------------------------------------------------------------------------------------------------------------------------------------------------------------------\n",
      "|101291         |65                   |1                    |16.360656            |2715.2500      |2.745205         |989.0882465972    |22.584834             |62             |4               |2022-10-14 20:23:35  |2022-10-18 22:56:45  |4           |\n",
      "|113392         |107                  |1                    |20.745098            |1845.2500      |2.898630         |636.5938391585    |17.939509             |52             |0               |2022-10-18 10:38:44  |2022-10-18 22:56:45  |0           |\n",
      "|136628         |137                  |1                    |18.924528            |1692.2500      |2.764384         |612.1616967831    |19.534189             |54             |6               |2022-10-12 20:06:40  |2022-10-18 22:56:45  |6           |\n",
      "|158789         |83                   |1                    |19.363636            |2467.5000      |2.926027         |843.2936538180    |19.138579             |56             |3               |2022-10-15 13:31:42  |2022-10-18 22:56:45  |3           |\n",
      "|83896          |80                   |1                    |17.383333            |2455.5000      |2.868493         |856.0244002687    |21.265522             |61             |4               |2022-10-14 12:17:25  |2022-10-18 22:56:45  |4           |\n",
      "|144584         |94                   |1                    |14.924242            |2398.5000      |2.772603         |865.0715591089    |24.165017             |67             |27              |2022-09-21 14:59:36  |2022-10-18 22:56:45  |27          |\n",
      "|174722         |88                   |1                    |16.984127            |2177.5000      |2.991781         |727.8273376293    |21.391940             |64             |22              |2022-09-26 20:16:55  |2022-10-18 22:56:45  |22          |\n",
      "|116352         |97                   |1                    |19.464286            |2684.5000      |3.032877         |885.1331590434    |18.794036             |57             |17              |2022-10-01 10:17:27  |2022-10-18 22:56:45  |17          |\n",
      "|136431         |69                   |1                    |16.132353            |2448.2500      |3.010959         |813.1130314295    |22.916287             |69             |2               |2022-10-16 12:20:38  |2022-10-18 22:56:45  |2           |\n",
      "|171562         |79                   |1                    |14.647887            |2710.2500      |2.884932         |939.4502192773    |24.957261             |72             |13              |2022-10-05 18:49:14  |2022-10-18 22:56:45  |13          |\n",
      "---------------------------------------------------------------------------------------------------------------------------------------------------------------------------------------------------------------------------------------------------------\n",
      "\n"
     ]
    }
   ],
   "source": [
    "# Dropping of irrelevant and unnecessary columns that have been introduced during joining of dataframes in previous steps\n",
    "customer_last_order_timestamp_df1 = customer_last_order_timestamp_df1.drop([\"CUSTOMER_ID_MAX_DAYS_WITHOUT_PURCHASE\", \"CUSTOMER_ID_MIN_DAYS_WITHOUT_PURCHASE\", \"CUSTOMER_ID_AVG_DAYS_WITHOUT_PURCHASE\"])\n",
    "customer_last_order_timestamp_df1.show(10)"
   ]
  },
  {
   "attachments": {},
   "cell_type": "markdown",
   "metadata": {},
   "source": [
    "### 4.8 Getting second dataframe <a id=\"part4.8\"></a>"
   ]
  },
  {
   "cell_type": "code",
   "execution_count": 43,
   "metadata": {},
   "outputs": [
    {
     "name": "stdout",
     "output_type": "stream",
     "text": [
      "--------------------------------------------------------------------------------------------------------------------------------------------------------------------------------------------------------------------------------------------------------------------------------------------------------------------------------------------------------\n",
      "|\"ORDER_ID\"  |\"TRUCK_ID\"  |\"LOCATION_ID\"  |\"CUSTOMER_ID\"  |\"DISCOUNT_ID\"  |\"SHIFT_ID\"  |\"SHIFT_START_TIME\"  |\"SHIFT_END_TIME\"  |\"ORDER_CHANNEL\"  |\"ORDER_TS\"           |\"SERVED_TS\"  |\"ORDER_CURRENCY\"  |\"ORDER_AMOUNT\"  |\"ORDER_TAX_AMOUNT\"  |\"ORDER_DISCOUNT_AMOUNT\"  |\"ORDER_TOTAL\"  |\"CUSTOMER_ID_US\"  |\"LAST_DATE\"          |\"TWO_WEEKS_BEFORE\"   |\n",
      "--------------------------------------------------------------------------------------------------------------------------------------------------------------------------------------------------------------------------------------------------------------------------------------------------------------------------------------------------------\n",
      "|456237000   |31          |8409.0         |126027         |NULL           |200564946   |09:00:00            |15:00:00          |NULL             |2022-10-19 09:18:56  |NULL         |USD               |13.0000         |NULL                |NULL                     |13.0000        |126027            |2022-11-01 22:58:56  |2022-10-18 22:58:56  |\n",
      "|456237015   |31          |8409.0         |98910          |NULL           |200564946   |09:00:00            |15:00:00          |NULL             |2022-10-19 09:42:07  |NULL         |USD               |16.0000         |NULL                |NULL                     |16.0000        |98910             |2022-11-01 22:58:56  |2022-10-18 22:58:56  |\n",
      "|456237038   |31          |8409.0         |192028         |NULL           |200564946   |09:00:00            |15:00:00          |NULL             |2022-10-19 10:49:28  |NULL         |USD               |16.0000         |NULL                |NULL                     |16.0000        |192028            |2022-11-01 22:58:56  |2022-10-18 22:58:56  |\n",
      "|456237070   |31          |8409.0         |86746          |NULL           |200564946   |09:00:00            |15:00:00          |NULL             |2022-10-19 11:46:19  |NULL         |USD               |10.0000         |NULL                |NULL                     |10.0000        |86746             |2022-11-01 22:58:56  |2022-10-18 22:58:56  |\n",
      "|456237140   |31          |8409.0         |135913         |NULL           |200564946   |09:00:00            |15:00:00          |NULL             |2022-10-19 13:19:40  |NULL         |USD               |12.0000         |NULL                |NULL                     |12.0000        |135913            |2022-11-01 22:58:56  |2022-10-18 22:58:56  |\n",
      "|456237143   |31          |8409.0         |135647         |NULL           |200564946   |09:00:00            |15:00:00          |NULL             |2022-10-19 13:22:05  |NULL         |USD               |31.5000         |NULL                |NULL                     |31.5000        |135647            |2022-11-01 22:58:56  |2022-10-18 22:58:56  |\n",
      "|456237156   |31          |8409.0         |178544         |NULL           |200564946   |09:00:00            |15:00:00          |NULL             |2022-10-19 13:34:30  |NULL         |USD               |3.0000          |NULL                |NULL                     |3.0000         |178544            |2022-11-01 22:58:56  |2022-10-18 22:58:56  |\n",
      "|456237201   |31          |15470.0        |87142          |NULL           |200564947   |16:00:00            |23:00:00          |NULL             |2022-10-19 17:05:15  |NULL         |USD               |47.5000         |NULL                |NULL                     |47.5000        |87142             |2022-11-01 22:58:56  |2022-10-18 22:58:56  |\n",
      "|456237210   |31          |15470.0        |145508         |NULL           |200564947   |16:00:00            |23:00:00          |NULL             |2022-10-19 17:22:55  |NULL         |USD               |22.0000         |NULL                |NULL                     |22.0000        |145508            |2022-11-01 22:58:56  |2022-10-18 22:58:56  |\n",
      "|456237220   |31          |15470.0        |82572          |NULL           |200564947   |16:00:00            |23:00:00          |NULL             |2022-10-19 17:41:36  |NULL         |USD               |13.0000         |NULL                |NULL                     |13.0000        |82572             |2022-11-01 22:58:56  |2022-10-18 22:58:56  |\n",
      "--------------------------------------------------------------------------------------------------------------------------------------------------------------------------------------------------------------------------------------------------------------------------------------------------------------------------------------------------------\n",
      "\n"
     ]
    }
   ],
   "source": [
    "# Get last 2 weeks before last transaction date provided (second dataframe)\n",
    "order_df2 = order_header_df.filter(F.col(\"ORDER_TS\")>F.col(\"TWO_WEEKS_BEFORE\"))\n",
    "order_df2.show()"
   ]
  },
  {
   "cell_type": "code",
   "execution_count": 44,
   "metadata": {},
   "outputs": [
    {
     "name": "stdout",
     "output_type": "stream",
     "text": [
      "-----------------------\n",
      "|\"MIN(ORDER_TS)\"      |\n",
      "-----------------------\n",
      "|2022-10-19 08:00:15  |\n",
      "-----------------------\n",
      "\n",
      "-----------------------\n",
      "|\"MAX(ORDER_TS)\"      |\n",
      "-----------------------\n",
      "|2022-11-01 22:58:56  |\n",
      "-----------------------\n",
      "\n"
     ]
    }
   ],
   "source": [
    "# Ensure timeframe is correct\n",
    "order_df2.agg(F.min('ORDER_TS')).show()\n",
    "order_df2.agg(F.max('ORDER_TS')).show()"
   ]
  },
  {
   "cell_type": "code",
   "execution_count": 45,
   "metadata": {},
   "outputs": [
    {
     "name": "stdout",
     "output_type": "stream",
     "text": [
      "---------------------------------------\n",
      "|\"CUSTOMER_ID\"  |\"FIRST_ORDER_TS\"     |\n",
      "---------------------------------------\n",
      "|184287         |2022-10-19 08:00:15  |\n",
      "|42060          |2022-10-19 08:00:46  |\n",
      "|196281         |2022-10-19 08:00:59  |\n",
      "|127806         |2022-10-19 08:01:29  |\n",
      "|170016         |2022-10-19 08:01:47  |\n",
      "|64450          |2022-10-19 08:01:53  |\n",
      "|191049         |2022-10-19 08:01:59  |\n",
      "|118969         |2022-10-19 08:02:19  |\n",
      "|192268         |2022-10-19 08:04:20  |\n",
      "|95980          |2022-10-19 08:04:33  |\n",
      "---------------------------------------\n",
      "\n"
     ]
    }
   ],
   "source": [
    "# Getting the earliest purchase date for each customer in df2\n",
    "customer_first_order_timestamp_df2 = order_df2.groupBy(\"CUSTOMER_ID\").agg(F.min(\"ORDER_TS\").alias(\"FIRST_ORDER_TS\"))\n",
    "customer_first_order_timestamp_df2 = customer_first_order_timestamp_df2.sort(col(\"FIRST_ORDER_TS\"))\n",
    "customer_first_order_timestamp_df2.show()"
   ]
  },
  {
   "cell_type": "code",
   "execution_count": 46,
   "metadata": {},
   "outputs": [
    {
     "name": "stdout",
     "output_type": "stream",
     "text": [
      "-------------------------------------------------------------\n",
      "|\"CUSTOMER_ID\"  |\"FIRST_ORDER_TS\"     |\"FIRST_TRANS\"        |\n",
      "-------------------------------------------------------------\n",
      "|184287         |2022-10-19 08:00:15  |2022-10-19 08:00:15  |\n",
      "|42060          |2022-10-19 08:00:46  |2022-10-19 08:00:15  |\n",
      "|196281         |2022-10-19 08:00:59  |2022-10-19 08:00:15  |\n",
      "|127806         |2022-10-19 08:01:29  |2022-10-19 08:00:15  |\n",
      "|170016         |2022-10-19 08:01:47  |2022-10-19 08:00:15  |\n",
      "|64450          |2022-10-19 08:01:53  |2022-10-19 08:00:15  |\n",
      "|191049         |2022-10-19 08:01:59  |2022-10-19 08:00:15  |\n",
      "|118969         |2022-10-19 08:02:19  |2022-10-19 08:00:15  |\n",
      "|192268         |2022-10-19 08:04:20  |2022-10-19 08:00:15  |\n",
      "|95980          |2022-10-19 08:04:33  |2022-10-19 08:00:15  |\n",
      "-------------------------------------------------------------\n",
      "\n"
     ]
    }
   ],
   "source": [
    "# Getting first order date\n",
    "earliest_transaction_df2 = order_df2.agg(F.min(\"ORDER_TS\").alias(\"FIRST_ORDER_TS\")).collect()[0][0]\n",
    "customer_first_order_timestamp_df2 = customer_first_order_timestamp_df2.withColumn(\"FIRST_TRANS\", F.iff(F.col(\"CUSTOMER_ID\") == F.col(\"CUSTOMER_ID\"), earliest_transaction_df2, earliest_transaction_df2))\n",
    "customer_first_order_timestamp_df2.show()"
   ]
  },
  {
   "cell_type": "code",
   "execution_count": 47,
   "metadata": {},
   "outputs": [
    {
     "name": "stdout",
     "output_type": "stream",
     "text": [
      "--------------------------------------------------------------------------\n",
      "|\"CUSTOMER_ID\"  |\"FIRST_ORDER_TS\"     |\"FIRST_TRANS\"        |\"DAYS_DF2\"  |\n",
      "--------------------------------------------------------------------------\n",
      "|92790          |2022-10-21 21:53:32  |2022-10-19 08:00:15  |2           |\n",
      "|50425          |2022-10-21 21:53:45  |2022-10-19 08:00:15  |2           |\n",
      "|124094         |2022-10-21 21:53:53  |2022-10-19 08:00:15  |2           |\n",
      "|194703         |2022-10-21 21:54:45  |2022-10-19 08:00:15  |2           |\n",
      "|67009          |2022-10-21 21:54:53  |2022-10-19 08:00:15  |2           |\n",
      "|157402         |2022-10-21 21:55:41  |2022-10-19 08:00:15  |2           |\n",
      "|91608          |2022-10-21 21:56:22  |2022-10-19 08:00:15  |2           |\n",
      "|80169          |2022-10-21 21:56:28  |2022-10-19 08:00:15  |2           |\n",
      "|180901         |2022-10-21 21:56:37  |2022-10-19 08:00:15  |2           |\n",
      "|163630         |2022-10-21 21:56:48  |2022-10-19 08:00:15  |2           |\n",
      "--------------------------------------------------------------------------\n",
      "\n"
     ]
    }
   ],
   "source": [
    "# Getting the date diff from customer last order to the date 2 weeks before the latest provided transaction date in df1\n",
    "customer_first_order_timestamp_df2 = customer_first_order_timestamp_df2.withColumn(\"days_df2\", F.datediff(\"day\", customer_first_order_timestamp_df2[\"FIRST_TRANS\"], customer_first_order_timestamp_df2[\"FIRST_ORDER_TS\"]))\n",
    "customer_first_order_timestamp_df2.show()"
   ]
  },
  {
   "attachments": {},
   "cell_type": "markdown",
   "metadata": {},
   "source": [
    "### 4.9 Merging dataframes <a id=\"part4.9\"></a>"
   ]
  },
  {
   "cell_type": "code",
   "execution_count": 48,
   "metadata": {},
   "outputs": [
    {
     "name": "stdout",
     "output_type": "stream",
     "text": [
      "--------------------------------------------------------------------------------------------------------------------------------------------------------------------------------------------------------------------------\n",
      "|\"CUSTOMER_ID\"  |\"MAX(DAYS_BETWEEN)\"  |\"MIN(DAYS_BETWEEN)\"  |\"AVG(DAYS_BETWEEN)\"  |\"TOTAL_SPENT\"  |\"YEARS_WITH_US\"  |\"MONETARY_VALUE\"  |\"CUSTOMER_FREQUENCY\"  |\"TOTAL_ORDER\"  |\"RECENCY_DAYS\"  |\"DAYS_DF1\"  |\"DAYS_DF2\"  |\n",
      "--------------------------------------------------------------------------------------------------------------------------------------------------------------------------------------------------------------------------\n",
      "|99391          |63                   |1                    |15.523077            |2777.5000      |2.794521         |993.9091529461    |23.617643             |66             |11              |11          |11          |\n",
      "|144918         |55                   |1                    |16.275862            |2332.7500      |2.591781         |900.0567563386    |22.764269             |59             |2               |2           |10          |\n",
      "|45565          |105                  |1                    |15.109375            |2435.7500      |2.671233         |911.8448297097    |24.333332             |65             |8               |8           |13          |\n",
      "|57719          |97                   |1                    |19.060000            |1950.2500      |2.621918         |743.8257031684    |19.451409             |51             |4               |4           |9           |\n",
      "|33489          |97                   |1                    |17.362069            |2500.0000      |2.791781         |895.4857132418    |21.133463             |59             |12              |12          |8           |\n",
      "|71691          |70                   |1                    |18.857143            |1742.5000      |2.578082         |675.8900609057    |19.394263             |50             |17              |17          |2           |\n",
      "|40648          |102                  |1                    |16.274194            |2582.7500      |2.780822         |928.7721400363    |22.655172             |63             |6               |6           |8           |\n",
      "|188249         |88                   |1                    |17.654545            |2066.2500      |2.671233         |773.5191950683    |20.964102             |56             |4               |4           |9           |\n",
      "|31507          |114                  |1                    |17.140351            |2068.5000      |2.723288         |759.5597674576    |21.297784             |58             |17              |17          |3           |\n",
      "|161830         |74                   |1                    |15.639344            |2733.5000      |2.671233         |1023.3102091806   |23.210255             |62             |21              |21          |8           |\n",
      "--------------------------------------------------------------------------------------------------------------------------------------------------------------------------------------------------------------------------\n",
      "\n"
     ]
    }
   ],
   "source": [
    "final_df = customer_last_order_timestamp_df1.join(customer_first_order_timestamp_df2, customer_last_order_timestamp_df1.CUSTOMER_ID == customer_first_order_timestamp_df2.CUSTOMER_ID, lsuffix = \"\", rsuffix = \"_ID\")\n",
    "final_df = final_df.drop(\"CUSTOMER_ID_ID\", \"FIRST_ORDER_TS\", \"FIRST_TRANS\", \"LAST_ORDER_TS\", \"LAST_TRANS\")\n",
    "final_df.show()"
   ]
  },
  {
   "attachments": {},
   "cell_type": "markdown",
   "metadata": {},
   "source": [
    "#### 4.9.1 Adding Target Variable <a id=\"part4.9.1\"></a>"
   ]
  },
  {
   "cell_type": "code",
   "execution_count": 49,
   "metadata": {},
   "outputs": [
    {
     "name": "stdout",
     "output_type": "stream",
     "text": [
      "-----------------------------------------------------------------------------------------------------------------------------------------------------------------------------------------------------------\n",
      "|\"CUSTOMER_ID\"  |\"MAX(DAYS_BETWEEN)\"  |\"MIN(DAYS_BETWEEN)\"  |\"AVG(DAYS_BETWEEN)\"  |\"TOTAL_SPENT\"  |\"YEARS_WITH_US\"  |\"MONETARY_VALUE\"  |\"CUSTOMER_FREQUENCY\"  |\"TOTAL_ORDER\"  |\"RECENCY_DAYS\"  |\"TARGET\"  |\n",
      "-----------------------------------------------------------------------------------------------------------------------------------------------------------------------------------------------------------\n",
      "|29799          |58                   |1                    |14.296875            |2647.7500      |2.561644         |1033.6135700355   |25.374330             |65             |20              |23        |\n",
      "|86589          |100                  |1                    |16.610169            |2194.5000      |2.690411         |815.6746311251    |22.301425             |60             |2               |11        |\n",
      "|35519          |99                   |1                    |16.733333            |2211.5000      |2.750685         |803.9815536857    |22.176294             |61             |0               |8         |\n",
      "|17849          |51                   |1                    |13.750000            |2963.2500      |2.717808         |1090.3088076862   |26.859881             |73             |2               |3         |\n",
      "|159624         |62                   |1                    |16.525424            |2269.0000      |2.682192         |845.9498797998    |22.369763             |60             |4               |4         |\n",
      "|193273         |82                   |1                    |17.368421            |2393.0000      |2.717808         |880.4889822975    |21.340728             |58             |2               |9         |\n",
      "|180952         |63                   |1                    |17.272727            |2167.5000      |2.673973         |810.5915803937    |20.942620             |56             |26              |34        |\n",
      "|168517         |67                   |1                    |14.045455            |2435.5000      |2.561644         |950.7566234809    |26.155079             |67             |8               |10        |\n",
      "|131095         |86                   |1                    |18.547170            |2324.7500      |2.750685         |845.1531164055    |19.631474             |54             |21              |24        |\n",
      "|90129          |71                   |1                    |18.203704            |2649.7500      |2.712329         |976.9279464254    |20.277776             |55             |7               |7         |\n",
      "-----------------------------------------------------------------------------------------------------------------------------------------------------------------------------------------------------------\n",
      "\n"
     ]
    }
   ],
   "source": [
    "final_df = final_df.withColumn(\"TARGET\", col(\"DAYS_DF1\")+col(\"DAYS_DF2\"))\n",
    "final_df = final_df.drop(\"DAYS_DF1\", \"DAYS_DF2\")\n",
    "final_df.show()"
   ]
  },
  {
   "attachments": {},
   "cell_type": "markdown",
   "metadata": {},
   "source": [
    "## 5. Model Building <a id=\"part5\"></a>"
   ]
  },
  {
   "attachments": {},
   "cell_type": "markdown",
   "metadata": {},
   "source": [
    "### 5.1 Scaling <a id=\"part5.1\"></a>"
   ]
  },
  {
   "cell_type": "code",
   "execution_count": 50,
   "metadata": {},
   "outputs": [
    {
     "data": {
      "text/html": [
       "<div>\n",
       "<style scoped>\n",
       "    .dataframe tbody tr th:only-of-type {\n",
       "        vertical-align: middle;\n",
       "    }\n",
       "\n",
       "    .dataframe tbody tr th {\n",
       "        vertical-align: top;\n",
       "    }\n",
       "\n",
       "    .dataframe thead th {\n",
       "        text-align: right;\n",
       "    }\n",
       "</style>\n",
       "<table border=\"1\" class=\"dataframe\">\n",
       "  <thead>\n",
       "    <tr style=\"text-align: right;\">\n",
       "      <th></th>\n",
       "      <th>MAX(DAYS_BETWEEN)</th>\n",
       "      <th>MIN(DAYS_BETWEEN)</th>\n",
       "      <th>AVG(DAYS_BETWEEN)</th>\n",
       "      <th>TOTAL_SPENT</th>\n",
       "      <th>YEARS_WITH_US</th>\n",
       "      <th>MONETARY_VALUE</th>\n",
       "      <th>CUSTOMER_FREQUENCY</th>\n",
       "      <th>TOTAL_ORDER</th>\n",
       "      <th>RECENCY_DAYS</th>\n",
       "      <th>TARGET</th>\n",
       "    </tr>\n",
       "  </thead>\n",
       "  <tbody>\n",
       "    <tr>\n",
       "      <th>0</th>\n",
       "      <td>99</td>\n",
       "      <td>1</td>\n",
       "      <td>17.543860</td>\n",
       "      <td>1797.25</td>\n",
       "      <td>2.772603</td>\n",
       "      <td>648.2175774895</td>\n",
       "      <td>20.918970</td>\n",
       "      <td>58</td>\n",
       "      <td>12</td>\n",
       "      <td>18</td>\n",
       "    </tr>\n",
       "    <tr>\n",
       "      <th>1</th>\n",
       "      <td>132</td>\n",
       "      <td>1</td>\n",
       "      <td>19.979167</td>\n",
       "      <td>2051.50</td>\n",
       "      <td>2.786301</td>\n",
       "      <td>736.2808253667</td>\n",
       "      <td>17.586040</td>\n",
       "      <td>49</td>\n",
       "      <td>58</td>\n",
       "      <td>62</td>\n",
       "    </tr>\n",
       "    <tr>\n",
       "      <th>2</th>\n",
       "      <td>139</td>\n",
       "      <td>1</td>\n",
       "      <td>22.069767</td>\n",
       "      <td>1659.50</td>\n",
       "      <td>2.627397</td>\n",
       "      <td>631.6137226312</td>\n",
       "      <td>16.746613</td>\n",
       "      <td>44</td>\n",
       "      <td>10</td>\n",
       "      <td>19</td>\n",
       "    </tr>\n",
       "    <tr>\n",
       "      <th>3</th>\n",
       "      <td>73</td>\n",
       "      <td>1</td>\n",
       "      <td>16.403509</td>\n",
       "      <td>2047.25</td>\n",
       "      <td>2.578082</td>\n",
       "      <td>794.0980930785</td>\n",
       "      <td>22.497345</td>\n",
       "      <td>58</td>\n",
       "      <td>6</td>\n",
       "      <td>8</td>\n",
       "    </tr>\n",
       "    <tr>\n",
       "      <th>4</th>\n",
       "      <td>104</td>\n",
       "      <td>1</td>\n",
       "      <td>19.820000</td>\n",
       "      <td>1959.50</td>\n",
       "      <td>2.764384</td>\n",
       "      <td>708.8378459722</td>\n",
       "      <td>18.448956</td>\n",
       "      <td>51</td>\n",
       "      <td>18</td>\n",
       "      <td>24</td>\n",
       "    </tr>\n",
       "  </tbody>\n",
       "</table>\n",
       "</div>"
      ],
      "text/plain": [
       "   MAX(DAYS_BETWEEN)  MIN(DAYS_BETWEEN) AVG(DAYS_BETWEEN)  TOTAL_SPENT  \\\n",
       "0                 99                  1         17.543860      1797.25   \n",
       "1                132                  1         19.979167      2051.50   \n",
       "2                139                  1         22.069767      1659.50   \n",
       "3                 73                  1         16.403509      2047.25   \n",
       "4                104                  1         19.820000      1959.50   \n",
       "\n",
       "   YEARS_WITH_US  MONETARY_VALUE CUSTOMER_FREQUENCY  TOTAL_ORDER  \\\n",
       "0       2.772603  648.2175774895          20.918970           58   \n",
       "1       2.786301  736.2808253667          17.586040           49   \n",
       "2       2.627397  631.6137226312          16.746613           44   \n",
       "3       2.578082  794.0980930785          22.497345           58   \n",
       "4       2.764384  708.8378459722          18.448956           51   \n",
       "\n",
       "   RECENCY_DAYS  TARGET  \n",
       "0            12      18  \n",
       "1            58      62  \n",
       "2            10      19  \n",
       "3             6       8  \n",
       "4            18      24  "
      ]
     },
     "execution_count": 50,
     "metadata": {},
     "output_type": "execute_result"
    }
   ],
   "source": [
    "# Convert to pandas\n",
    "final_df = final_df.to_pandas()\n",
    "\n",
    "# save dataframe of customer_id \n",
    "customer_id_df = final_df[\"CUSTOMER_ID\"]\n",
    "\n",
    "final_df = final_df.drop([\"CUSTOMER_ID\"],  axis = 1)\n",
    "\n",
    "final_df.head()"
   ]
  },
  {
   "cell_type": "code",
   "execution_count": 51,
   "metadata": {},
   "outputs": [
    {
     "data": {
      "text/html": [
       "<div>\n",
       "<style scoped>\n",
       "    .dataframe tbody tr th:only-of-type {\n",
       "        vertical-align: middle;\n",
       "    }\n",
       "\n",
       "    .dataframe tbody tr th {\n",
       "        vertical-align: top;\n",
       "    }\n",
       "\n",
       "    .dataframe thead th {\n",
       "        text-align: right;\n",
       "    }\n",
       "</style>\n",
       "<table border=\"1\" class=\"dataframe\">\n",
       "  <thead>\n",
       "    <tr style=\"text-align: right;\">\n",
       "      <th></th>\n",
       "      <th>MAX(DAYS_BETWEEN)</th>\n",
       "      <th>MIN(DAYS_BETWEEN)</th>\n",
       "      <th>AVG(DAYS_BETWEEN)</th>\n",
       "      <th>TOTAL_SPENT</th>\n",
       "      <th>YEARS_WITH_US</th>\n",
       "      <th>MONETARY_VALUE</th>\n",
       "      <th>CUSTOMER_FREQUENCY</th>\n",
       "      <th>TOTAL_ORDER</th>\n",
       "      <th>RECENCY_DAYS</th>\n",
       "      <th>TARGET</th>\n",
       "    </tr>\n",
       "  </thead>\n",
       "  <tbody>\n",
       "    <tr>\n",
       "      <th>0</th>\n",
       "      <td>-0.389774</td>\n",
       "      <td>-0.247799</td>\n",
       "      <td>-0.608732</td>\n",
       "      <td>-0.582613</td>\n",
       "      <td>-0.591722</td>\n",
       "      <td>-0.344569</td>\n",
       "      <td>0.628990</td>\n",
       "      <td>0.408196</td>\n",
       "      <td>0.005387</td>\n",
       "      <td>18</td>\n",
       "    </tr>\n",
       "    <tr>\n",
       "      <th>1</th>\n",
       "      <td>0.108492</td>\n",
       "      <td>-0.247799</td>\n",
       "      <td>-0.217580</td>\n",
       "      <td>-0.053261</td>\n",
       "      <td>-0.550093</td>\n",
       "      <td>0.151675</td>\n",
       "      <td>-0.194914</td>\n",
       "      <td>-0.460954</td>\n",
       "      <td>3.564675</td>\n",
       "      <td>62</td>\n",
       "    </tr>\n",
       "    <tr>\n",
       "      <th>2</th>\n",
       "      <td>0.214184</td>\n",
       "      <td>-0.247799</td>\n",
       "      <td>0.118205</td>\n",
       "      <td>-0.869411</td>\n",
       "      <td>-1.033010</td>\n",
       "      <td>-0.438133</td>\n",
       "      <td>-0.402421</td>\n",
       "      <td>-0.943815</td>\n",
       "      <td>-0.149365</td>\n",
       "      <td>19</td>\n",
       "    </tr>\n",
       "    <tr>\n",
       "      <th>3</th>\n",
       "      <td>-0.782348</td>\n",
       "      <td>-0.247799</td>\n",
       "      <td>-0.791891</td>\n",
       "      <td>-0.062110</td>\n",
       "      <td>-1.182881</td>\n",
       "      <td>0.477480</td>\n",
       "      <td>1.019166</td>\n",
       "      <td>0.408196</td>\n",
       "      <td>-0.458868</td>\n",
       "      <td>8</td>\n",
       "    </tr>\n",
       "    <tr>\n",
       "      <th>4</th>\n",
       "      <td>-0.314280</td>\n",
       "      <td>-0.247799</td>\n",
       "      <td>-0.243145</td>\n",
       "      <td>-0.244807</td>\n",
       "      <td>-0.616700</td>\n",
       "      <td>-0.002968</td>\n",
       "      <td>0.018400</td>\n",
       "      <td>-0.267809</td>\n",
       "      <td>0.469642</td>\n",
       "      <td>24</td>\n",
       "    </tr>\n",
       "  </tbody>\n",
       "</table>\n",
       "</div>"
      ],
      "text/plain": [
       "   MAX(DAYS_BETWEEN)  MIN(DAYS_BETWEEN)  AVG(DAYS_BETWEEN)  TOTAL_SPENT  \\\n",
       "0          -0.389774          -0.247799          -0.608732    -0.582613   \n",
       "1           0.108492          -0.247799          -0.217580    -0.053261   \n",
       "2           0.214184          -0.247799           0.118205    -0.869411   \n",
       "3          -0.782348          -0.247799          -0.791891    -0.062110   \n",
       "4          -0.314280          -0.247799          -0.243145    -0.244807   \n",
       "\n",
       "   YEARS_WITH_US  MONETARY_VALUE  CUSTOMER_FREQUENCY  TOTAL_ORDER  \\\n",
       "0      -0.591722       -0.344569            0.628990     0.408196   \n",
       "1      -0.550093        0.151675           -0.194914    -0.460954   \n",
       "2      -1.033010       -0.438133           -0.402421    -0.943815   \n",
       "3      -1.182881        0.477480            1.019166     0.408196   \n",
       "4      -0.616700       -0.002968            0.018400    -0.267809   \n",
       "\n",
       "   RECENCY_DAYS  TARGET  \n",
       "0      0.005387      18  \n",
       "1      3.564675      62  \n",
       "2     -0.149365      19  \n",
       "3     -0.458868       8  \n",
       "4      0.469642      24  "
      ]
     },
     "execution_count": 51,
     "metadata": {},
     "output_type": "execute_result"
    }
   ],
   "source": [
    "# Drop target\n",
    "target = final_df['TARGET']\n",
    "final_df.drop('TARGET', axis = 1, inplace = True)\n",
    "\n",
    "scaler = StandardScaler()\n",
    "scaler.fit(final_df)\n",
    "\n",
    "final_scaled = scaler.transform(final_df)\n",
    "final_scaled = pd.DataFrame(final_scaled, columns=final_df.columns)\n",
    "\n",
    "#assign target variable back to scaled data frame\n",
    "final_scaled = final_scaled.assign(TARGET = target)\n",
    "\n",
    "final_scaled.head()"
   ]
  },
  {
   "attachments": {},
   "cell_type": "markdown",
   "metadata": {},
   "source": [
    "### 5.2 Train Test Split <a id=\"part5.2\"></a>"
   ]
  },
  {
   "cell_type": "code",
   "execution_count": 52,
   "metadata": {},
   "outputs": [],
   "source": [
    "# Define ratio for model \n",
    "train_ratio = 0.70\n",
    "test_ratio = 0.20\n",
    "holdout_ratio = 0.10\n",
    "\n",
    "# Define Model Inputs (X) and Output (y)\n",
    "X = final_scaled.drop('TARGET',axis=1)\n",
    "y = final_scaled[\"TARGET\"]\n",
    "\n",
    "# Split both Inputs (X) and Ouput (y) into training set (70%) and testing set (20%)\n",
    "X_train, X_test, y_train, y_test = train_test_split(X, y, test_size=1-train_ratio, random_state=1)\n",
    "X_holdout, X_test, y_holdout, y_test = train_test_split(X_test, y_test, test_size=test_ratio/(test_ratio + holdout_ratio)) "
   ]
  },
  {
   "attachments": {},
   "cell_type": "markdown",
   "metadata": {},
   "source": [
    "### 5.3 Linear Regression <a id=\"part5.3\"></a>"
   ]
  },
  {
   "cell_type": "code",
   "execution_count": 53,
   "metadata": {},
   "outputs": [
    {
     "name": "stdout",
     "output_type": "stream",
     "text": [
      "The Training Mean Squared Error for Linear Regression Model is:  14.221078482809014\n",
      "The Testing Mean Squared Error for Linear Regression Model is:  14.144732057101722\n",
      "\n",
      "The Training R^2 for Linear Regression Model is:  0.922393742192671\n",
      "The Testing R^2 for Linear Regression Model is:  0.9188806669313972\n"
     ]
    }
   ],
   "source": [
    "# Create the model \"lg\"\n",
    "lg = LinearRegression()\n",
    "lg.fit(X_train, y_train)\n",
    "\n",
    "#MSE\n",
    "\n",
    "train_mse = mean_squared_error(lg.predict(X_train), y_train)\n",
    "print('The Training Mean Squared Error for Linear Regression Model is: ', train_mse)\n",
    "test_mse = mean_squared_error(lg.predict(X_test), y_test)\n",
    "print('The Testing Mean Squared Error for Linear Regression Model is: ',test_mse)\n",
    "\n",
    "print('')\n",
    "\n",
    "#R^2\n",
    "\n",
    "train_R2 = lg.score(X_train, y_train)\n",
    "print('The Training R^2 for Linear Regression Model is: ', train_R2)\n",
    "\n",
    "test_R2 = lg.score(X_test, y_test)\n",
    "print('The Testing R^2 for Linear Regression Model is: ', test_R2)"
   ]
  },
  {
   "cell_type": "code",
   "execution_count": 54,
   "metadata": {},
   "outputs": [
    {
     "name": "stdout",
     "output_type": "stream",
     "text": [
      "The Holdout Mean Squared Error for Linear Regression Model is:  14.249855309918349\n",
      "\n",
      "The Holdout R^2 for Linear Regression Model is:  0.9219751203396672\n"
     ]
    }
   ],
   "source": [
    "##### holdout model\n",
    "\n",
    "# Create the model \"lg\"\n",
    "lg = LinearRegression()\n",
    "lg.fit(X_holdout, y_holdout)\n",
    "\n",
    "\n",
    "#MSE\n",
    "\n",
    "holdout_mse = mean_squared_error(lg.predict(X_holdout), y_holdout)\n",
    "print('The Holdout Mean Squared Error for Linear Regression Model is: ', holdout_mse)\n",
    "\n",
    "print('')\n",
    "\n",
    "#R^2\n",
    "\n",
    "holdout_R2 = lg.score(X_holdout, y_holdout)\n",
    "print('The Holdout R^2 for Linear Regression Model is: ', holdout_R2)"
   ]
  },
  {
   "cell_type": "code",
   "execution_count": null,
   "metadata": {},
   "outputs": [],
   "source": []
  }
 ],
 "metadata": {
  "kernelspec": {
   "display_name": "pysnowpark",
   "language": "python",
   "name": "python3"
  },
  "language_info": {
   "codemirror_mode": {
    "name": "ipython",
    "version": 3
   },
   "file_extension": ".py",
   "mimetype": "text/x-python",
   "name": "python",
   "nbconvert_exporter": "python",
   "pygments_lexer": "ipython3",
   "version": "3.8.16"
  },
  "orig_nbformat": 4
 },
 "nbformat": 4,
 "nbformat_minor": 2
}
